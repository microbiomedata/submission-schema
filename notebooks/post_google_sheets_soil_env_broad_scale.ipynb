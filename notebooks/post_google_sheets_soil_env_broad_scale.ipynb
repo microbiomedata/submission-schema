{
 "cells": [
  {
   "cell_type": "code",
   "id": "initial_id",
   "metadata": {
    "collapsed": true,
    "ExecuteTime": {
     "end_time": "2024-11-05T17:00:36.775170Z",
     "start_time": "2024-11-05T17:00:33.969104Z"
    }
   },
   "source": [
    "import pandas as pd\n",
    "from oaklib import get_adapter\n",
    "from oaklib.datamodels.vocabulary import IS_A"
   ],
   "outputs": [],
   "execution_count": 1
  },
  {
   "metadata": {
    "ExecuteTime": {
     "end_time": "2024-11-05T17:00:36.782798Z",
     "start_time": "2024-11-05T17:00:36.779742Z"
    }
   },
   "cell_type": "code",
   "source": "adapter_string = \"sqlite:obo:envo\"",
   "id": "2148e2b371b9d3c1",
   "outputs": [],
   "execution_count": 2
  },
  {
   "metadata": {
    "ExecuteTime": {
     "end_time": "2024-11-05T17:00:36.845462Z",
     "start_time": "2024-11-05T17:00:36.842127Z"
    }
   },
   "cell_type": "code",
   "source": "target_labels = [\"terrestrial biome\"]",
   "id": "2b9221b70ebed187",
   "outputs": [],
   "execution_count": 3
  },
  {
   "metadata": {
    "ExecuteTime": {
     "end_time": "2024-11-05T17:00:36.890942Z",
     "start_time": "2024-11-05T17:00:36.887895Z"
    }
   },
   "cell_type": "code",
   "source": "exclusion_labels = []",
   "id": "dc91a47fb8762a09",
   "outputs": [],
   "execution_count": 4
  },
  {
   "metadata": {
    "ExecuteTime": {
     "end_time": "2024-11-05T17:00:36.938906Z",
     "start_time": "2024-11-05T17:00:36.935921Z"
    }
   },
   "cell_type": "code",
   "source": "output_file = \"post_google_sheets_soil_env_broad_scale.tsv\"",
   "id": "1c1bbcde0e65496e",
   "outputs": [],
   "execution_count": 5
  },
  {
   "metadata": {
    "ExecuteTime": {
     "end_time": "2024-11-05T17:00:37.022779Z",
     "start_time": "2024-11-05T17:00:36.983231Z"
    }
   },
   "cell_type": "code",
   "source": "adapter = get_adapter(adapter_string)",
   "id": "7709e378f4d117eb",
   "outputs": [],
   "execution_count": 6
  },
  {
   "metadata": {
    "ExecuteTime": {
     "end_time": "2024-11-05T17:00:37.036765Z",
     "start_time": "2024-11-05T17:00:37.033402Z"
    }
   },
   "cell_type": "code",
   "source": "targets = set()",
   "id": "1bbc3b1ad9958a37",
   "outputs": [],
   "execution_count": 7
  },
  {
   "metadata": {
    "ExecuteTime": {
     "end_time": "2024-11-05T17:00:37.164758Z",
     "start_time": "2024-11-05T17:00:37.079884Z"
    }
   },
   "cell_type": "code",
   "source": [
    "# accumulate subclasses of the target classes (by label)\n",
    "# \n",
    "for current_label in target_labels:\n",
    "    for class_id in adapter.basic_search(current_label):\n",
    "        descendant = adapter.descendants(class_id, predicates=[IS_A])\n",
    "        for d in descendant:\n",
    "            targets.add(d)\n",
    "\n",
    "print(len(targets))"
   ],
   "id": "5315b4280bb53a5c",
   "outputs": [
    {
     "name": "stdout",
     "output_type": "stream",
     "text": [
      "52\n"
     ]
    }
   ],
   "execution_count": 8
  },
  {
   "metadata": {
    "ExecuteTime": {
     "end_time": "2024-11-05T17:00:37.240860Z",
     "start_time": "2024-11-05T17:00:37.235982Z"
    }
   },
   "cell_type": "code",
   "source": [
    "# deplete subclasses of the exclusion classes (by label)\n",
    "# \n",
    "for current_label in exclusion_labels:\n",
    "    for class_id in adapter.basic_search(current_label):\n",
    "        descendant = adapter.descendants(class_id, predicates=[IS_A])\n",
    "        for d in descendant:\n",
    "            targets.remove(d)\n",
    "\n",
    "print(len(targets))"
   ],
   "id": "77c441ce49ee868",
   "outputs": [
    {
     "name": "stdout",
     "output_type": "stream",
     "text": [
      "52\n"
     ]
    }
   ],
   "execution_count": 9
  },
  {
   "metadata": {
    "ExecuteTime": {
     "end_time": "2024-11-05T17:00:37.309909Z",
     "start_time": "2024-11-05T17:00:37.285430Z"
    }
   },
   "cell_type": "code",
   "source": [
    "labelled_targets = []\n",
    "for t in targets:\n",
    "    labelled_targets.append(\n",
    "        {\n",
    "            \"id\": t,\n",
    "            \"label\": adapter.label(t)\n",
    "        }\n",
    "    )"
   ],
   "id": "7ed61cab5db223d9",
   "outputs": [],
   "execution_count": 10
  },
  {
   "metadata": {
    "ExecuteTime": {
     "end_time": "2024-11-05T17:00:37.336696Z",
     "start_time": "2024-11-05T17:00:37.333143Z"
    }
   },
   "cell_type": "code",
   "source": "export_frame = pd.DataFrame(labelled_targets)",
   "id": "1f3ef3ee6f2f671f",
   "outputs": [],
   "execution_count": 11
  },
  {
   "metadata": {
    "ExecuteTime": {
     "end_time": "2024-11-05T17:00:37.386813Z",
     "start_time": "2024-11-05T17:00:37.381808Z"
    }
   },
   "cell_type": "code",
   "source": "export_frame.to_csv(output_file, sep=\"\\t\", index=False)",
   "id": "742918910ceb7ef5",
   "outputs": [],
   "execution_count": 12
  },
  {
   "metadata": {
    "ExecuteTime": {
     "end_time": "2024-11-05T17:00:37.440169Z",
     "start_time": "2024-11-05T17:00:37.432955Z"
    }
   },
   "cell_type": "code",
   "source": "",
   "id": "7df6bc0f2ce3bc0a",
   "outputs": [],
   "execution_count": null
  }
 ],
 "metadata": {
  "kernelspec": {
   "display_name": "Python 3",
   "language": "python",
   "name": "python3"
  },
  "language_info": {
   "codemirror_mode": {
    "name": "ipython",
    "version": 2
   },
   "file_extension": ".py",
   "mimetype": "text/x-python",
   "name": "python",
   "nbconvert_exporter": "python",
   "pygments_lexer": "ipython2",
   "version": "2.7.6"
  }
 },
 "nbformat": 4,
 "nbformat_minor": 5
}
