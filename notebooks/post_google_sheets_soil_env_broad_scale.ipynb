{
 "cells": [
  {
   "cell_type": "code",
   "id": "initial_id",
   "metadata": {
    "collapsed": true,
    "ExecuteTime": {
     "end_time": "2024-10-31T17:01:35.870950Z",
     "start_time": "2024-10-31T17:01:35.861400Z"
    }
   },
   "source": [
    "from oaklib import get_adapter\n",
    "from oaklib.datamodels.vocabulary import IS_A\n",
    "\n",
    "import pprint"
   ],
   "outputs": [],
   "execution_count": 28
  },
  {
   "metadata": {
    "ExecuteTime": {
     "end_time": "2024-10-31T17:01:35.917798Z",
     "start_time": "2024-10-31T17:01:35.914836Z"
    }
   },
   "cell_type": "code",
   "source": "adapter_string = \"sqlite:obo:envo\"",
   "id": "2148e2b371b9d3c1",
   "outputs": [],
   "execution_count": 29
  },
  {
   "metadata": {
    "ExecuteTime": {
     "end_time": "2024-10-31T17:01:35.964062Z",
     "start_time": "2024-10-31T17:01:35.960924Z"
    }
   },
   "cell_type": "code",
   "source": "target_labels = [\"terrestrial biome\"]",
   "id": "2b9221b70ebed187",
   "outputs": [],
   "execution_count": 30
  },
  {
   "metadata": {
    "ExecuteTime": {
     "end_time": "2024-10-31T17:01:36.010955Z",
     "start_time": "2024-10-31T17:01:36.008005Z"
    }
   },
   "cell_type": "code",
   "source": "exclusion_labels = []",
   "id": "dc91a47fb8762a09",
   "outputs": [],
   "execution_count": 31
  },
  {
   "metadata": {
    "ExecuteTime": {
     "end_time": "2024-10-31T17:01:36.061149Z",
     "start_time": "2024-10-31T17:01:36.055444Z"
    }
   },
   "cell_type": "code",
   "source": "adapter = get_adapter(adapter_string)",
   "id": "7709e378f4d117eb",
   "outputs": [],
   "execution_count": 32
  },
  {
   "metadata": {
    "ExecuteTime": {
     "end_time": "2024-10-31T17:01:36.108200Z",
     "start_time": "2024-10-31T17:01:36.104277Z"
    }
   },
   "cell_type": "code",
   "source": "targets = set()",
   "id": "1bbc3b1ad9958a37",
   "outputs": [],
   "execution_count": 33
  },
  {
   "metadata": {
    "ExecuteTime": {
     "end_time": "2024-10-31T17:01:36.202473Z",
     "start_time": "2024-10-31T17:01:36.153021Z"
    }
   },
   "cell_type": "code",
   "source": [
    "# accumulate subclasses of the target classes (by label)\n",
    "# \n",
    "for current_label in target_labels:\n",
    "    for class_id in adapter.basic_search(current_label):\n",
    "        descendant = adapter.descendants(class_id, predicates=[IS_A])\n",
    "        for d in descendant:\n",
    "            targets.add(d)\n",
    "            \n",
    "print(len(targets))"
   ],
   "id": "5315b4280bb53a5c",
   "outputs": [
    {
     "name": "stdout",
     "output_type": "stream",
     "text": [
      "52\n"
     ]
    }
   ],
   "execution_count": 34
  },
  {
   "metadata": {
    "ExecuteTime": {
     "end_time": "2024-10-31T17:01:36.218285Z",
     "start_time": "2024-10-31T17:01:36.214543Z"
    }
   },
   "cell_type": "code",
   "source": [
    "# deplete subclasses of the exclusion classes (by label)\n",
    "# \n",
    "for current_label in exclusion_labels:\n",
    "    for class_id in adapter.basic_search(current_label):\n",
    "        descendant = adapter.descendants(class_id, predicates=[IS_A])\n",
    "        for d in descendant:\n",
    "            targets.remove(d)\n",
    "\n",
    "print(len(targets))"
   ],
   "id": "77c441ce49ee868",
   "outputs": [
    {
     "name": "stdout",
     "output_type": "stream",
     "text": [
      "52\n"
     ]
    }
   ],
   "execution_count": 35
  },
  {
   "metadata": {
    "ExecuteTime": {
     "end_time": "2024-10-31T17:01:36.330698Z",
     "start_time": "2024-10-31T17:01:36.306504Z"
    }
   },
   "cell_type": "code",
   "source": [
    "labelled_targets = []\n",
    "for t in targets:\n",
    "    labelled_targets.append(\n",
    "        {\n",
    "            \"id\": t,\n",
    "            \"label\": adapter.label(t)\n",
    "        }\n",
    "    )"
   ],
   "id": "7ed61cab5db223d9",
   "outputs": [],
   "execution_count": 37
  },
  {
   "metadata": {
    "ExecuteTime": {
     "end_time": "2024-10-31T17:01:36.365608Z",
     "start_time": "2024-10-31T17:01:36.356625Z"
    }
   },
   "cell_type": "code",
   "source": "pprint.pprint(labelled_targets)",
   "id": "454fb1c002f7e703",
   "outputs": [
    {
     "name": "stdout",
     "output_type": "stream",
     "text": [
      "[{'id': 'ENVO:01000250', 'label': 'subpolar coniferous forest biome'},\n",
      " {'id': 'ENVO:01000189', 'label': 'temperate savanna biome'},\n",
      " {'id': 'ENVO:01000197', 'label': 'broadleaf forest biome'},\n",
      " {'id': 'ENVO:01000208', 'label': 'mediterranean woodland biome'},\n",
      " {'id': 'ENVO:01000222', 'label': 'subtropical woodland biome'},\n",
      " {'id': 'ENVO:01000192', 'label': 'tropical grassland biome'},\n",
      " {'id': 'ENVO:01000188', 'label': 'tropical savanna biome'},\n",
      " {'id': 'ENVO:01000193', 'label': 'temperate grassland biome'},\n",
      " {'id': 'ENVO:01000199', 'label': 'mediterranean forest biome'},\n",
      " {'id': 'ENVO:01000219', 'label': 'anthropogenic terrestrial biome'},\n",
      " {'id': 'ENVO:01000174', 'label': 'forest biome'},\n",
      " {'id': 'ENVO:01000178', 'label': 'savanna biome'},\n",
      " {'id': 'ENVO:01000245', 'label': 'cropland biome'},\n",
      " {'id': 'ENVO:01000213', 'label': 'subtropical shrubland biome'},\n",
      " {'id': 'ENVO:01000195', 'label': 'flooded grassland biome'},\n",
      " {'id': 'ENVO:01000247', 'label': 'rangeland biome'},\n",
      " {'id': 'ENVO:01000229', 'label': 'mediterranean savanna biome'},\n",
      " {'id': 'ENVO:01000209', 'label': 'subtropical coniferous forest biome'},\n",
      " {'id': 'ENVO:01000225', 'label': 'subtropical dry broadleaf forest biome'},\n",
      " {'id': 'ENVO:01000224', 'label': 'mediterranean grassland biome'},\n",
      " {'id': 'ENVO:00000446', 'label': 'terrestrial biome'},\n",
      " {'id': 'ENVO:01000180', 'label': 'tundra biome'},\n",
      " {'id': 'ENVO:01000212', 'label': 'temperate mixed forest biome'},\n",
      " {'id': 'ENVO:01000187', 'label': 'subtropical savanna biome'},\n",
      " {'id': 'ENVO:01000200', 'label': 'tropical broadleaf forest biome'},\n",
      " {'id': 'ENVO:01000201', 'label': 'subtropical broadleaf forest biome'},\n",
      " {'id': 'ENVO:01000214', 'label': 'tropical shrubland biome'},\n",
      " {'id': 'ENVO:01000218', 'label': 'xeric shrubland biome'},\n",
      " {'id': 'ENVO:01000215', 'label': 'temperate shrubland biome'},\n",
      " {'id': 'ENVO:01000226', 'label': 'subtropical moist broadleaf forest biome'},\n",
      " {'id': 'ENVO:01000227', 'label': 'tropical dry broadleaf forest biome'},\n",
      " {'id': 'ENVO:01000211', 'label': 'temperate coniferous forest biome'},\n",
      " {'id': 'ENVO:01001798', 'label': 'tropical mixed forest biome'},\n",
      " {'id': 'ENVO:01000221', 'label': 'temperate woodland biome'},\n",
      " {'id': 'ENVO:01000210', 'label': 'tropical coniferous forest biome'},\n",
      " {'id': 'ENVO:01000202', 'label': 'temperate broadleaf forest biome'},\n",
      " {'id': 'ENVO:01000228', 'label': 'tropical moist broadleaf forest biome'},\n",
      " {'id': 'ENVO:01000175', 'label': 'woodland biome'},\n",
      " {'id': 'ENVO:01000196', 'label': 'coniferous forest biome'},\n",
      " {'id': 'ENVO:01000194', 'label': 'montane grassland biome'},\n",
      " {'id': 'ENVO:01000223', 'label': 'montane savanna biome'},\n",
      " {'id': 'ENVO:01000177', 'label': 'grassland biome'},\n",
      " {'id': 'ENVO:01000176', 'label': 'shrubland biome'},\n",
      " {'id': 'ENVO:01000216', 'label': 'montane shrubland biome'},\n",
      " {'id': 'ENVO:01000190', 'label': 'flooded savanna biome'},\n",
      " {'id': 'ENVO:01001505', 'label': 'alpine tundra biome'},\n",
      " {'id': 'ENVO:01001369', 'label': 'tidal mangrove shrubland'},\n",
      " {'id': 'ENVO:01000198', 'label': 'mixed forest biome'},\n",
      " {'id': 'ENVO:01000181', 'label': 'mangrove biome'},\n",
      " {'id': 'ENVO:01000191', 'label': 'subtropical grassland biome'},\n",
      " {'id': 'ENVO:01000220', 'label': 'tropical woodland biome'},\n",
      " {'id': 'ENVO:01000217', 'label': 'mediterranean shrubland biome'}]\n"
     ]
    }
   ],
   "execution_count": 38
  },
  {
   "metadata": {
    "ExecuteTime": {
     "end_time": "2024-10-31T20:24:38.334021Z",
     "start_time": "2024-10-31T20:24:38.311740Z"
    }
   },
   "cell_type": "code",
   "source": [
    "\n",
    "with open(\"sebs.tsv\", \"w\") as f:\n",
    "    for t in targets:\n",
    "        f.write(t + \"\\t\" + adapter.label(t) + \"\\n\")"
   ],
   "id": "1f3ef3ee6f2f671f",
   "outputs": [],
   "execution_count": 39
  }
 ],
 "metadata": {
  "kernelspec": {
   "display_name": "Python 3",
   "language": "python",
   "name": "python3"
  },
  "language_info": {
   "codemirror_mode": {
    "name": "ipython",
    "version": 2
   },
   "file_extension": ".py",
   "mimetype": "text/x-python",
   "name": "python",
   "nbconvert_exporter": "python",
   "pygments_lexer": "ipython2",
   "version": "2.7.6"
  }
 },
 "nbformat": 4,
 "nbformat_minor": 5
}
