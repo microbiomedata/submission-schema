{
 "cells": [
  {
   "cell_type": "code",
   "id": "initial_id",
   "metadata": {
    "collapsed": true,
    "ExecuteTime": {
     "end_time": "2024-11-05T02:02:55.371956Z",
     "start_time": "2024-11-05T02:02:52.658158Z"
    }
   },
   "source": [
    "from oaklib import get_adapter\n",
    "from oaklib.datamodels.vocabulary import IS_A\n",
    "import csv # don't really need csv if we are importing pandas\n",
    "\n",
    "import pandas as pd "
   ],
   "outputs": [],
   "execution_count": 1
  },
  {
   "metadata": {
    "ExecuteTime": {
     "end_time": "2024-11-05T02:02:55.380063Z",
     "start_time": "2024-11-05T02:02:55.376775Z"
    }
   },
   "cell_type": "code",
   "source": "adapter_string = \"sqlite:obo:envo\"",
   "id": "2148e2b371b9d3c1",
   "outputs": [],
   "execution_count": 2
  },
  {
   "metadata": {
    "ExecuteTime": {
     "end_time": "2024-11-05T02:02:55.449896Z",
     "start_time": "2024-11-05T02:02:55.447093Z"
    }
   },
   "cell_type": "code",
   "source": "target_labels = [\"soil\"]",
   "id": "2b9221b70ebed187",
   "outputs": [],
   "execution_count": 3
  },
  {
   "metadata": {
    "ExecuteTime": {
     "end_time": "2024-11-05T02:02:55.492930Z",
     "start_time": "2024-11-05T02:02:55.490034Z"
    }
   },
   "cell_type": "code",
   "source": "exclusion_labels = [\"enriched soil\"]",
   "id": "dc91a47fb8762a09",
   "outputs": [],
   "execution_count": 4
  },
  {
   "metadata": {
    "ExecuteTime": {
     "end_time": "2024-11-05T02:02:55.539437Z",
     "start_time": "2024-11-05T02:02:55.536370Z"
    }
   },
   "cell_type": "code",
   "source": "output_file = \"post_google_sheets_soil_env_medium.tsv\"",
   "id": "4737c7dfdaa5400e",
   "outputs": [],
   "execution_count": 5
  },
  {
   "metadata": {
    "ExecuteTime": {
     "end_time": "2024-11-05T02:02:55.586905Z",
     "start_time": "2024-11-05T02:02:55.583456Z"
    }
   },
   "cell_type": "code",
   "source": "excludable_soils_filename = \"discover_excludable_soils.tsv\"",
   "id": "77be6f0893e612eb",
   "outputs": [],
   "execution_count": 6
  },
  {
   "metadata": {
    "ExecuteTime": {
     "end_time": "2024-11-05T02:02:55.638120Z",
     "start_time": "2024-11-05T02:02:55.630798Z"
    }
   },
   "cell_type": "code",
   "source": "excludable_soils_frame = pd.read_csv(excludable_soils_filename, sep=\"\\t\")",
   "id": "e5ae95cb54367e20",
   "outputs": [],
   "execution_count": 7
  },
  {
   "metadata": {
    "ExecuteTime": {
     "end_time": "2024-11-05T02:02:55.684690Z",
     "start_time": "2024-11-05T02:02:55.677544Z"
    }
   },
   "cell_type": "code",
   "source": [
    "reasonable_frame = excludable_soils_frame[excludable_soils_frame['relation_is_reasonable']]\n",
    "# filter out rows with null/NA values\n",
    "reasonable_frame = reasonable_frame.dropna()"
   ],
   "id": "536b8ecb525febe9",
   "outputs": [],
   "execution_count": 8
  },
  {
   "metadata": {
    "ExecuteTime": {
     "end_time": "2024-11-05T02:02:55.731929Z",
     "start_time": "2024-11-05T02:02:55.728362Z"
    }
   },
   "cell_type": "code",
   "source": "soil_env_local_scale_filename = \"post_google_sheets_soil_env_local_scale.tsv\"",
   "id": "8a0972d756eb0bbf",
   "outputs": [],
   "execution_count": 9
  },
  {
   "metadata": {
    "ExecuteTime": {
     "end_time": "2024-11-05T02:02:55.780742Z",
     "start_time": "2024-11-05T02:02:55.775275Z"
    }
   },
   "cell_type": "code",
   "source": "soil_env_local_scale_frame = pd.read_csv(soil_env_local_scale_filename, sep=\"\\t\")",
   "id": "89dbf4c1953b5b92",
   "outputs": [],
   "execution_count": 10
  },
  {
   "metadata": {
    "ExecuteTime": {
     "end_time": "2024-11-05T02:02:55.828339Z",
     "start_time": "2024-11-05T02:02:55.823231Z"
    }
   },
   "cell_type": "code",
   "source": [
    "soils_with_final_local_constraints = reasonable_frame[\n",
    "    reasonable_frame['sole_reasonable_other'].isin(soil_env_local_scale_frame['label'])\n",
    "]"
   ],
   "id": "7e728b28efcebb4c",
   "outputs": [],
   "execution_count": 11
  },
  {
   "metadata": {
    "ExecuteTime": {
     "end_time": "2024-11-05T02:02:55.874748Z",
     "start_time": "2024-11-05T02:02:55.870943Z"
    }
   },
   "cell_type": "code",
   "source": "soils_reiterating_broad_or_local = set(soils_with_final_local_constraints['sole_soil'].unique())\n",
   "id": "bff5dcb1cee90fb",
   "outputs": [],
   "execution_count": 12
  },
  {
   "metadata": {
    "ExecuteTime": {
     "end_time": "2024-11-05T02:02:55.950307Z",
     "start_time": "2024-11-05T02:02:55.918722Z"
    }
   },
   "cell_type": "code",
   "source": "adapter = get_adapter(adapter_string)",
   "id": "7709e378f4d117eb",
   "outputs": [],
   "execution_count": 13
  },
  {
   "metadata": {
    "ExecuteTime": {
     "end_time": "2024-11-05T02:02:55.976065Z",
     "start_time": "2024-11-05T02:02:55.973447Z"
    }
   },
   "cell_type": "code",
   "source": "targets = set()",
   "id": "1bbc3b1ad9958a37",
   "outputs": [],
   "execution_count": 14
  },
  {
   "metadata": {
    "ExecuteTime": {
     "end_time": "2024-11-05T02:02:56.130636Z",
     "start_time": "2024-11-05T02:02:56.014255Z"
    }
   },
   "cell_type": "code",
   "source": [
    "# accumulate subclasses of the target classes (by label)\n",
    "# \n",
    "for current_label in target_labels:\n",
    "    for class_id in adapter.basic_search(current_label):\n",
    "        descendant = adapter.descendants(class_id, predicates=[IS_A])\n",
    "        for d in descendant:\n",
    "            if adapter.label(d) not in soils_reiterating_broad_or_local:\n",
    "                targets.add(d)\n",
    "            else:\n",
    "                print(f\"Skipping {d} {adapter.label(d)} because its differentia can be expressed in terms of the braod or local scale\")\n",
    "            \n",
    "print(len(targets))"
   ],
   "id": "6ecbf0cd88edec66",
   "outputs": [
    {
     "name": "stdout",
     "output_type": "stream",
     "text": [
      "Skipping ENVO:00005743 roadside soil because its differentia can be expressed in terms of the braod or local scale\n",
      "Skipping ENVO:00002263 garden soil because its differentia can be expressed in terms of the braod or local scale\n",
      "Skipping ENVO:00005758 alluvial swamp soil because its differentia can be expressed in terms of the braod or local scale\n",
      "Skipping ENVO:00005773 pasture soil because its differentia can be expressed in terms of the braod or local scale\n",
      "Skipping ENVO:00002260 dune soil because its differentia can be expressed in terms of the braod or local scale\n",
      "Skipping ENVO:00005746 savanna soil because its differentia can be expressed in terms of the braod or local scale\n",
      "Skipping ENVO:00005774 peat soil because its differentia can be expressed in terms of the braod or local scale\n",
      "Skipping ENVO:00002259 agricultural soil because its differentia can be expressed in terms of the braod or local scale\n",
      "Skipping ENVO:00005755 field soil because its differentia can be expressed in terms of the braod or local scale\n",
      "Skipping ENVO:00005764 pond soil because its differentia can be expressed in terms of the braod or local scale\n",
      "Skipping ENVO:00005777 steppe soil because its differentia can be expressed in terms of the braod or local scale\n",
      "Skipping ENVO:00005769 mountain forest soil because its differentia can be expressed in terms of the braod or local scale\n",
      "Skipping ENVO:00005761 meadow soil because its differentia can be expressed in terms of the braod or local scale\n",
      "Skipping ENVO:00002871 alluvial soil because its differentia can be expressed in terms of the braod or local scale\n",
      "Skipping ENVO:01001526 frozen soil because its differentia can be expressed in terms of the braod or local scale\n",
      "Skipping ENVO:00002261 forest soil because its differentia can be expressed in terms of the braod or local scale\n",
      "Skipping ENVO:00005750 grassland soil because its differentia can be expressed in terms of the braod or local scale\n",
      "113\n"
     ]
    }
   ],
   "execution_count": 15
  },
  {
   "metadata": {
    "ExecuteTime": {
     "end_time": "2024-11-05T02:02:56.195233Z",
     "start_time": "2024-11-05T02:02:56.156325Z"
    }
   },
   "cell_type": "code",
   "source": [
    "# deplete subclasses of the exclusion classes (by label)\n",
    "# \n",
    "for current_label in exclusion_labels:\n",
    "    for class_id in adapter.basic_search(current_label):\n",
    "        descendant = adapter.descendants(class_id, predicates=[IS_A])\n",
    "        for d in descendant:\n",
    "            targets.remove(d)\n",
    "\n",
    "print(len(targets))"
   ],
   "id": "77c441ce49ee868",
   "outputs": [
    {
     "name": "stdout",
     "output_type": "stream",
     "text": [
      "80\n"
     ]
    }
   ],
   "execution_count": 16
  },
  {
   "metadata": {
    "ExecuteTime": {
     "end_time": "2024-11-05T02:02:56.254162Z",
     "start_time": "2024-11-05T02:02:56.220465Z"
    }
   },
   "cell_type": "code",
   "source": [
    "labelled_targets = []\n",
    "for t in targets:\n",
    "    labelled_targets.append(\n",
    "        {\n",
    "            \"id\": t,\n",
    "            \"label\": adapter.label(t)\n",
    "        }\n",
    "    )\n",
    "\n",
    "export_frame = pd.DataFrame(labelled_targets)\n",
    "\n",
    "export_frame.to_csv(output_file, sep=\"\\t\", index=False)\n"
   ],
   "id": "4301a231897de6d9",
   "outputs": [],
   "execution_count": 17
  },
  {
   "metadata": {
    "ExecuteTime": {
     "end_time": "2024-11-05T02:02:56.283763Z",
     "start_time": "2024-11-05T02:02:56.281624Z"
    }
   },
   "cell_type": "code",
   "source": "",
   "id": "8b5ac9a2750a35d9",
   "outputs": [],
   "execution_count": null
  }
 ],
 "metadata": {
  "kernelspec": {
   "display_name": "Python 3",
   "language": "python",
   "name": "python3"
  },
  "language_info": {
   "codemirror_mode": {
    "name": "ipython",
    "version": 2
   },
   "file_extension": ".py",
   "mimetype": "text/x-python",
   "name": "python",
   "nbconvert_exporter": "python",
   "pygments_lexer": "ipython2",
   "version": "2.7.6"
  }
 },
 "nbformat": 4,
 "nbformat_minor": 5
}
