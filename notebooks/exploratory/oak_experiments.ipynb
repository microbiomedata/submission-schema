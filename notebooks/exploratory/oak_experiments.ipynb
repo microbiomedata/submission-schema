{
 "cells": [
  {
   "metadata": {
    "ExecuteTime": {
     "end_time": "2024-12-10T11:55:09.311704Z",
     "start_time": "2024-12-10T11:55:04.500335Z"
    }
   },
   "cell_type": "code",
   "source": "from oaklib import get_adapter",
   "id": "a0e7e88cf59c0ed9",
   "outputs": [],
   "execution_count": 1
  },
  {
   "metadata": {
    "ExecuteTime": {
     "end_time": "2024-12-10T11:55:09.317076Z",
     "start_time": "2024-12-10T11:55:09.314280Z"
    }
   },
   "cell_type": "code",
   "source": "envo_adapter_string  = \"sqlite:obo:envo\"",
   "id": "e334ae63d17a6813",
   "outputs": [],
   "execution_count": 2
  },
  {
   "cell_type": "code",
   "id": "initial_id",
   "metadata": {
    "collapsed": true,
    "ExecuteTime": {
     "end_time": "2024-12-10T11:55:09.363196Z",
     "start_time": "2024-12-10T11:55:09.318600Z"
    }
   },
   "source": "envo_adapter = get_adapter(envo_adapter_string)",
   "outputs": [],
   "execution_count": 3
  },
  {
   "metadata": {
    "ExecuteTime": {
     "end_time": "2024-12-10T11:55:09.410662Z",
     "start_time": "2024-12-10T11:55:09.366165Z"
    }
   },
   "cell_type": "code",
   "source": "envo_adapter.label('ENVO:01000813')",
   "id": "2fb64fe45c63720c",
   "outputs": [
    {
     "data": {
      "text/plain": [
       "'astronomical body part'"
      ]
     },
     "execution_count": 4,
     "metadata": {},
     "output_type": "execute_result"
    }
   ],
   "execution_count": 4
  },
  {
   "metadata": {
    "ExecuteTime": {
     "end_time": "2024-12-10T11:55:38.188039Z",
     "start_time": "2024-12-10T11:55:38.182942Z"
    }
   },
   "cell_type": "code",
   "source": [
    "# at least somewhere in my annotations of NCBI environmental context contents, i got a hit on a CURIe\n",
    "#    so I wanted to see if it tolerated underscores as delimiters\n",
    "#    but I can't seem to reproduce it even with colon delimiters  here\n",
    "\n",
    "annotations = envo_adapter.annotate_text('mangrove biome envo:01000813')"
   ],
   "id": "f4f056bf9937fd81",
   "outputs": [],
   "execution_count": 7
  },
  {
   "metadata": {
    "ExecuteTime": {
     "end_time": "2024-12-10T11:55:39.053192Z",
     "start_time": "2024-12-10T11:55:39.047253Z"
    }
   },
   "cell_type": "code",
   "source": [
    "for i in annotations:\n",
    "    print(i)"
   ],
   "id": "2a9b519428cfb263",
   "outputs": [],
   "execution_count": 8
  },
  {
   "metadata": {},
   "cell_type": "code",
   "source": "",
   "id": "3e1f0833402890cd",
   "outputs": [],
   "execution_count": null
  }
 ],
 "metadata": {
  "kernelspec": {
   "display_name": "Python 3",
   "language": "python",
   "name": "python3"
  },
  "language_info": {
   "codemirror_mode": {
    "name": "ipython",
    "version": 2
   },
   "file_extension": ".py",
   "mimetype": "text/x-python",
   "name": "python",
   "nbconvert_exporter": "python",
   "pygments_lexer": "ipython2",
   "version": "2.7.6"
  }
 },
 "nbformat": 4,
 "nbformat_minor": 5
}
