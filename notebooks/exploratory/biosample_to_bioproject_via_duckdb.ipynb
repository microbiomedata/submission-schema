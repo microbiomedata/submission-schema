{
 "cells": [
  {
   "metadata": {
    "ExecuteTime": {
     "end_time": "2024-12-12T17:54:15.120523Z",
     "start_time": "2024-12-12T17:54:14.160883Z"
    }
   },
   "cell_type": "code",
   "source": [
    "import duckdb\n",
    "import pandas as pd"
   ],
   "id": "6e9ed94b37e4a7",
   "outputs": [],
   "execution_count": 1
  },
  {
   "metadata": {
    "ExecuteTime": {
     "end_time": "2024-12-12T17:54:15.176511Z",
     "start_time": "2024-12-12T17:54:15.123893Z"
    }
   },
   "cell_type": "code",
   "source": "conn = duckdb.connect('../ncbi_biosamples.duckdb')",
   "id": "19e87b58883cbaa",
   "outputs": [],
   "execution_count": 2
  },
  {
   "metadata": {
    "ExecuteTime": {
     "end_time": "2024-12-12T17:54:15.181476Z",
     "start_time": "2024-12-12T17:54:15.178240Z"
    }
   },
   "cell_type": "code",
   "source": [
    "# Create a cursor object\n",
    "cursor = conn.cursor()"
   ],
   "id": "c1502cfa4ab67f27",
   "outputs": [],
   "execution_count": 3
  },
  {
   "metadata": {
    "ExecuteTime": {
     "end_time": "2024-12-12T17:54:15.188013Z",
     "start_time": "2024-12-12T17:54:15.184664Z"
    }
   },
   "cell_type": "code",
   "source": [
    "query = \"\"\"\n",
    "select\n",
    "\ttarget,\n",
    "\tcount(1)\n",
    "from\n",
    "\tmain.links\n",
    "group by\n",
    "\ttarget\n",
    "order by\n",
    "\ttarget; -- 19,594,558 bioproject links\n",
    "\"\"\""
   ],
   "id": "e0ced1f658eeb952",
   "outputs": [],
   "execution_count": 4
  },
  {
   "metadata": {
    "ExecuteTime": {
     "end_time": "2024-12-12T17:54:15.281040Z",
     "start_time": "2024-12-12T17:54:15.189748Z"
    }
   },
   "cell_type": "code",
   "source": [
    "# Example query: Retrieve the first 10 rows from a table named 'samples'\n",
    "cursor.execute(query)"
   ],
   "id": "d1e58a8a8f04a941",
   "outputs": [
    {
     "data": {
      "text/plain": [
       "<duckdb.duckdb.DuckDBPyConnection at 0x10dc31cb0>"
      ]
     },
     "execution_count": 5,
     "metadata": {},
     "output_type": "execute_result"
    }
   ],
   "execution_count": 5
  },
  {
   "metadata": {
    "ExecuteTime": {
     "end_time": "2024-12-12T17:54:15.286018Z",
     "start_time": "2024-12-12T17:54:15.282156Z"
    }
   },
   "cell_type": "code",
   "source": [
    "# Fetch the results\n",
    "results = cursor.fetchall()\n"
   ],
   "id": "817c706f9ae2f4e6",
   "outputs": [],
   "execution_count": 6
  },
  {
   "metadata": {
    "ExecuteTime": {
     "end_time": "2024-12-12T17:54:15.291138Z",
     "start_time": "2024-12-12T17:54:15.287196Z"
    }
   },
   "cell_type": "code",
   "source": "df = pd.DataFrame(results, columns=[desc[0] for desc in cursor.description])\n",
   "id": "d505e707445fd21d",
   "outputs": [],
   "execution_count": 7
  },
  {
   "metadata": {
    "ExecuteTime": {
     "end_time": "2024-12-12T17:54:15.305880Z",
     "start_time": "2024-12-12T17:54:15.292562Z"
    }
   },
   "cell_type": "code",
   "source": "df",
   "id": "cc617d1a34dbf262",
   "outputs": [
    {
     "data": {
      "text/plain": [
       "         target  count(1)\n",
       "0  GoldStamp Id         1\n",
       "1        PUBMED        16\n",
       "2        PubMed         3\n",
       "3    bioproject  19594558\n",
       "4     biosample       519\n",
       "5          omim      9901\n",
       "6   publication         1\n",
       "7        pubmed     35858\n",
       "8          None   4913124"
      ],
      "text/html": [
       "<div>\n",
       "<style scoped>\n",
       "    .dataframe tbody tr th:only-of-type {\n",
       "        vertical-align: middle;\n",
       "    }\n",
       "\n",
       "    .dataframe tbody tr th {\n",
       "        vertical-align: top;\n",
       "    }\n",
       "\n",
       "    .dataframe thead th {\n",
       "        text-align: right;\n",
       "    }\n",
       "</style>\n",
       "<table border=\"1\" class=\"dataframe\">\n",
       "  <thead>\n",
       "    <tr style=\"text-align: right;\">\n",
       "      <th></th>\n",
       "      <th>target</th>\n",
       "      <th>count(1)</th>\n",
       "    </tr>\n",
       "  </thead>\n",
       "  <tbody>\n",
       "    <tr>\n",
       "      <th>0</th>\n",
       "      <td>GoldStamp Id</td>\n",
       "      <td>1</td>\n",
       "    </tr>\n",
       "    <tr>\n",
       "      <th>1</th>\n",
       "      <td>PUBMED</td>\n",
       "      <td>16</td>\n",
       "    </tr>\n",
       "    <tr>\n",
       "      <th>2</th>\n",
       "      <td>PubMed</td>\n",
       "      <td>3</td>\n",
       "    </tr>\n",
       "    <tr>\n",
       "      <th>3</th>\n",
       "      <td>bioproject</td>\n",
       "      <td>19594558</td>\n",
       "    </tr>\n",
       "    <tr>\n",
       "      <th>4</th>\n",
       "      <td>biosample</td>\n",
       "      <td>519</td>\n",
       "    </tr>\n",
       "    <tr>\n",
       "      <th>5</th>\n",
       "      <td>omim</td>\n",
       "      <td>9901</td>\n",
       "    </tr>\n",
       "    <tr>\n",
       "      <th>6</th>\n",
       "      <td>publication</td>\n",
       "      <td>1</td>\n",
       "    </tr>\n",
       "    <tr>\n",
       "      <th>7</th>\n",
       "      <td>pubmed</td>\n",
       "      <td>35858</td>\n",
       "    </tr>\n",
       "    <tr>\n",
       "      <th>8</th>\n",
       "      <td>None</td>\n",
       "      <td>4913124</td>\n",
       "    </tr>\n",
       "  </tbody>\n",
       "</table>\n",
       "</div>"
      ]
     },
     "execution_count": 8,
     "metadata": {},
     "output_type": "execute_result"
    }
   ],
   "execution_count": 8
  },
  {
   "metadata": {},
   "cell_type": "markdown",
   "source": "19,594,558",
   "id": "ada8260e140f6c98"
  }
 ],
 "metadata": {
  "kernelspec": {
   "display_name": "Python 3",
   "language": "python",
   "name": "python3"
  },
  "language_info": {
   "codemirror_mode": {
    "name": "ipython",
    "version": 2
   },
   "file_extension": ".py",
   "mimetype": "text/x-python",
   "name": "python",
   "nbconvert_exporter": "python",
   "pygments_lexer": "ipython2",
   "version": "2.7.6"
  }
 },
 "nbformat": 4,
 "nbformat_minor": 5
}
