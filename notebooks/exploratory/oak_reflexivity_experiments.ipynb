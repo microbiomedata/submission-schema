{
 "cells": [
  {
   "metadata": {
    "ExecuteTime": {
     "end_time": "2024-12-12T16:45:06.457672Z",
     "start_time": "2024-12-12T16:45:02.930853Z"
    }
   },
   "cell_type": "code",
   "source": "from oaklib import get_adapter",
   "id": "a0e7e88cf59c0ed9",
   "outputs": [],
   "execution_count": 1
  },
  {
   "metadata": {
    "ExecuteTime": {
     "end_time": "2024-12-12T16:45:06.462685Z",
     "start_time": "2024-12-12T16:45:06.459879Z"
    }
   },
   "cell_type": "code",
   "source": "envo_adapter_string  = \"sqlite:obo:envo\"",
   "id": "e334ae63d17a6813",
   "outputs": [],
   "execution_count": 2
  },
  {
   "cell_type": "code",
   "id": "initial_id",
   "metadata": {
    "collapsed": true,
    "ExecuteTime": {
     "end_time": "2024-12-12T16:45:06.502965Z",
     "start_time": "2024-12-12T16:45:06.464008Z"
    }
   },
   "source": "envo_adapter = get_adapter(envo_adapter_string)",
   "outputs": [],
   "execution_count": 3
  },
  {
   "metadata": {
    "ExecuteTime": {
     "end_time": "2024-12-12T16:45:06.544684Z",
     "start_time": "2024-12-12T16:45:06.506128Z"
    }
   },
   "cell_type": "code",
   "source": "envo_adapter.label('ENVO:01000813')",
   "id": "2fb64fe45c63720c",
   "outputs": [
    {
     "data": {
      "text/plain": [
       "'astronomical body part'"
      ]
     },
     "execution_count": 4,
     "metadata": {},
     "output_type": "execute_result"
    }
   ],
   "execution_count": 4
  },
  {
   "metadata": {
    "ExecuteTime": {
     "end_time": "2024-12-12T16:45:06.550356Z",
     "start_time": "2024-12-12T16:45:06.546891Z"
    }
   },
   "cell_type": "code",
   "source": "reflexivity = False",
   "id": "5ac1a59969cc85e1",
   "outputs": [],
   "execution_count": 5
  },
  {
   "metadata": {
    "ExecuteTime": {
     "end_time": "2024-12-12T16:45:06.555864Z",
     "start_time": "2024-12-12T16:45:06.552421Z"
    }
   },
   "cell_type": "code",
   "source": "ancestor_generator = envo_adapter.ancestors('ENVO:01000813', reflexive = reflexivity)",
   "id": "55544fcdf83b6ca5",
   "outputs": [],
   "execution_count": 6
  },
  {
   "metadata": {
    "ExecuteTime": {
     "end_time": "2024-12-12T16:45:06.564099Z",
     "start_time": "2024-12-12T16:45:06.558063Z"
    }
   },
   "cell_type": "code",
   "source": "ancestors = [a for a in ancestor_generator]",
   "id": "ba4d9fb9437b0b3e",
   "outputs": [],
   "execution_count": 7
  },
  {
   "metadata": {
    "ExecuteTime": {
     "end_time": "2024-12-12T16:45:06.568998Z",
     "start_time": "2024-12-12T16:45:06.565914Z"
    }
   },
   "cell_type": "code",
   "source": "ancestors.sort()",
   "id": "5be009fc9d8b1f8d",
   "outputs": [],
   "execution_count": 8
  },
  {
   "metadata": {
    "ExecuteTime": {
     "end_time": "2024-12-12T16:45:06.575639Z",
     "start_time": "2024-12-12T16:45:06.570853Z"
    }
   },
   "cell_type": "code",
   "source": "ancestors",
   "id": "9a33eebca9631444",
   "outputs": [
    {
     "data": {
      "text/plain": [
       "['BFO:0000001',\n",
       " 'BFO:0000002',\n",
       " 'BFO:0000004',\n",
       " 'BFO:0000030',\n",
       " 'BFO:0000040',\n",
       " 'ENVO:01000799',\n",
       " 'ENVO:01000804']"
      ]
     },
     "execution_count": 9,
     "metadata": {},
     "output_type": "execute_result"
    }
   ],
   "execution_count": 9
  }
 ],
 "metadata": {
  "kernelspec": {
   "display_name": "Python 3",
   "language": "python",
   "name": "python3"
  },
  "language_info": {
   "codemirror_mode": {
    "name": "ipython",
    "version": 2
   },
   "file_extension": ".py",
   "mimetype": "text/x-python",
   "name": "python",
   "nbconvert_exporter": "python",
   "pygments_lexer": "ipython2",
   "version": "2.7.6"
  }
 },
 "nbformat": 4,
 "nbformat_minor": 5
}
