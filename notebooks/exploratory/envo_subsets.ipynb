{
 "cells": [
  {
   "metadata": {},
   "cell_type": "markdown",
   "source": [
    "'area of barren land' `<http://purl.obolibrary.org/obo/ENVO_01000752>`\n",
    "\n",
    "oio:inSubset:\n",
    "- envoPolar\n",
    "- nlcd2011\n"
   ],
   "id": "f08b4442b09c23c0"
  },
  {
   "metadata": {
    "ExecuteTime": {
     "end_time": "2024-12-11T21:40:49.596167Z",
     "start_time": "2024-12-11T21:40:45.435819Z"
    }
   },
   "cell_type": "code",
   "source": "from oaklib import get_adapter",
   "id": "26ecc54291f1dbe0",
   "outputs": [],
   "execution_count": 1
  },
  {
   "metadata": {
    "ExecuteTime": {
     "end_time": "2024-12-11T21:40:49.604254Z",
     "start_time": "2024-12-11T21:40:49.599292Z"
    }
   },
   "cell_type": "code",
   "source": "envo_adapter_string = 'sqlite:obo:envo'",
   "id": "529ba84192e85638",
   "outputs": [],
   "execution_count": 2
  },
  {
   "metadata": {
    "ExecuteTime": {
     "end_time": "2024-12-11T21:40:49.656283Z",
     "start_time": "2024-12-11T21:40:49.606341Z"
    }
   },
   "cell_type": "code",
   "source": "envo_adapter = get_adapter(envo_adapter_string)",
   "id": "39c3406e5d778884",
   "outputs": [],
   "execution_count": 3
  },
  {
   "metadata": {
    "ExecuteTime": {
     "end_time": "2024-12-11T21:40:49.745577Z",
     "start_time": "2024-12-11T21:40:49.659802Z"
    }
   },
   "cell_type": "code",
   "source": "term_metadata = envo_adapter.entity_metadata_map('ENVO:01000752')",
   "id": "42331816096c1a1e",
   "outputs": [],
   "execution_count": 4
  },
  {
   "metadata": {
    "ExecuteTime": {
     "end_time": "2024-12-11T21:40:49.762289Z",
     "start_time": "2024-12-11T21:40:49.748161Z"
    }
   },
   "cell_type": "code",
   "source": "term_metadata['oio:inSubset']",
   "id": "ed042e665018c826",
   "outputs": [
    {
     "data": {
      "text/plain": [
       "['envoPolar', 'nlcd2011']"
      ]
     },
     "execution_count": 5,
     "metadata": {},
     "output_type": "execute_result"
    }
   ],
   "execution_count": 5
  },
  {
   "metadata": {
    "ExecuteTime": {
     "end_time": "2024-12-11T21:40:49.768797Z",
     "start_time": "2024-12-11T21:40:49.764803Z"
    }
   },
   "cell_type": "code",
   "source": [
    "# Retrieve all classes\n",
    "entities = envo_adapter.entities()\n"
   ],
   "id": "5921f518052d9add",
   "outputs": [],
   "execution_count": 6
  },
  {
   "metadata": {
    "ExecuteTime": {
     "end_time": "2024-12-11T21:40:49.773626Z",
     "start_time": "2024-12-11T21:40:49.770599Z"
    }
   },
   "cell_type": "code",
   "source": "nlcd_classes = []",
   "id": "b828ada171c32ec0",
   "outputs": [],
   "execution_count": 7
  },
  {
   "metadata": {
    "ExecuteTime": {
     "end_time": "2024-12-11T21:42:48.619808Z",
     "start_time": "2024-12-11T21:40:49.775567Z"
    }
   },
   "cell_type": "code",
   "source": [
    "# super slow 2 minutes\n",
    "# but retrieving classes by named subset seems to crash on EnvO with its textual subsets?\n",
    "\n",
    "for entity in entities:\n",
    "    term_metadata = envo_adapter.entity_metadata_map(entity)\n",
    "    if \"oio:inSubset\" in term_metadata:\n",
    "        subsets = term_metadata[\"oio:inSubset\"]\n",
    "        if \"nlcd2011\" in subsets:\n",
    "            nlcd_classes.append(entity)"
   ],
   "id": "f9d8b9bcefe43928",
   "outputs": [],
   "execution_count": 8
  },
  {
   "metadata": {
    "ExecuteTime": {
     "end_time": "2024-12-11T21:45:06.750142Z",
     "start_time": "2024-12-11T21:45:06.743137Z"
    }
   },
   "cell_type": "code",
   "source": "nlcd_classes",
   "id": "e12f5b00c1f5668d",
   "outputs": [
    {
     "data": {
      "text/plain": [
       "['ENVO:01000666',\n",
       " 'ENVO:01000740',\n",
       " 'ENVO:01000745',\n",
       " 'ENVO:01000746',\n",
       " 'ENVO:01000752',\n",
       " 'ENVO:01000816',\n",
       " 'ENVO:01000843',\n",
       " 'ENVO:01000855',\n",
       " 'ENVO:01000861',\n",
       " 'ENVO:01000869',\n",
       " 'ENVO:01000883',\n",
       " 'ENVO:01000884',\n",
       " 'ENVO:01000885',\n",
       " 'ENVO:01000886',\n",
       " 'ENVO:01000887',\n",
       " 'ENVO:01000888',\n",
       " 'ENVO:01000889',\n",
       " 'ENVO:01000890',\n",
       " 'ENVO:01000891',\n",
       " 'ENVO:01000892',\n",
       " 'ENVO:01000893',\n",
       " 'ENVO:01000894']"
      ]
     },
     "execution_count": 9,
     "metadata": {},
     "output_type": "execute_result"
    }
   ],
   "execution_count": 9
  },
  {
   "metadata": {},
   "cell_type": "code",
   "outputs": [],
   "execution_count": null,
   "source": "",
   "id": "7ec2516c2b0c282f"
  }
 ],
 "metadata": {
  "kernelspec": {
   "display_name": "Python 3",
   "language": "python",
   "name": "python3"
  },
  "language_info": {
   "codemirror_mode": {
    "name": "ipython",
    "version": 2
   },
   "file_extension": ".py",
   "mimetype": "text/x-python",
   "name": "python",
   "nbconvert_exporter": "python",
   "pygments_lexer": "ipython2",
   "version": "2.7.6"
  }
 },
 "nbformat": 4,
 "nbformat_minor": 5
}
