{
 "cells": [
  {
   "metadata": {
    "ExecuteTime": {
     "end_time": "2024-12-12T17:13:47.612350Z",
     "start_time": "2024-12-12T17:13:47.609030Z"
    }
   },
   "cell_type": "code",
   "source": [
    "from oaklib import get_adapter\n",
    "import json"
   ],
   "id": "a0e7e88cf59c0ed9",
   "outputs": [],
   "execution_count": 15
  },
  {
   "metadata": {
    "ExecuteTime": {
     "end_time": "2024-12-12T17:03:30.313174Z",
     "start_time": "2024-12-12T17:03:30.309656Z"
    }
   },
   "cell_type": "code",
   "source": "envo_adapter_string  = \"sqlite:obo:envo\"",
   "id": "e334ae63d17a6813",
   "outputs": [],
   "execution_count": 2
  },
  {
   "metadata": {
    "ExecuteTime": {
     "end_time": "2024-12-12T17:03:30.317524Z",
     "start_time": "2024-12-12T17:03:30.314809Z"
    }
   },
   "cell_type": "code",
   "source": "reflexivity = False",
   "id": "f9bf7208a64409cc",
   "outputs": [],
   "execution_count": 3
  },
  {
   "metadata": {
    "ExecuteTime": {
     "end_time": "2024-12-12T17:03:30.357575Z",
     "start_time": "2024-12-12T17:03:30.320280Z"
    }
   },
   "cell_type": "code",
   "source": "envo_adapter = get_adapter(envo_adapter_string)",
   "id": "initial_id",
   "outputs": [],
   "execution_count": 4
  },
  {
   "metadata": {
    "ExecuteTime": {
     "end_time": "2024-12-12T17:03:30.388388Z",
     "start_time": "2024-12-12T17:03:30.359219Z"
    }
   },
   "cell_type": "code",
   "source": "envo_adapter.label('ENVO:01000813')",
   "id": "2fb64fe45c63720c",
   "outputs": [
    {
     "data": {
      "text/plain": [
       "'astronomical body part'"
      ]
     },
     "execution_count": 5,
     "metadata": {},
     "output_type": "execute_result"
    }
   ],
   "execution_count": 5
  },
  {
   "metadata": {
    "ExecuteTime": {
     "end_time": "2024-12-12T17:03:30.393007Z",
     "start_time": "2024-12-12T17:03:30.390079Z"
    }
   },
   "cell_type": "code",
   "source": "envo_entities_generator = envo_adapter.entities()",
   "id": "68855aacd9535b43",
   "outputs": [],
   "execution_count": 6
  },
  {
   "metadata": {
    "ExecuteTime": {
     "end_time": "2024-12-12T17:03:30.964846Z",
     "start_time": "2024-12-12T17:03:30.394420Z"
    }
   },
   "cell_type": "code",
   "source": "envo_entities = list(envo_entities_generator)",
   "id": "3be4ff8da6eab55d",
   "outputs": [],
   "execution_count": 7
  },
  {
   "metadata": {
    "ExecuteTime": {
     "end_time": "2024-12-12T17:03:30.971789Z",
     "start_time": "2024-12-12T17:03:30.966594Z"
    }
   },
   "cell_type": "code",
   "source": "envo_entities.sort()",
   "id": "dc8b69ea29caae2d",
   "outputs": [],
   "execution_count": 8
  },
  {
   "metadata": {
    "ExecuteTime": {
     "end_time": "2024-12-12T17:03:30.977525Z",
     "start_time": "2024-12-12T17:03:30.973772Z"
    }
   },
   "cell_type": "code",
   "source": "envo_label_cache = {}",
   "id": "2627c1f23b34a5ae",
   "outputs": [],
   "execution_count": 9
  },
  {
   "metadata": {
    "ExecuteTime": {
     "end_time": "2024-12-12T17:03:33.515948Z",
     "start_time": "2024-12-12T17:03:30.981997Z"
    }
   },
   "cell_type": "code",
   "source": [
    "for ee in envo_entities:\n",
    "    envo_label_cache[ee] = envo_adapter.label(ee)\n",
    "    # 3 seconds"
   ],
   "id": "4c2e9c65d0b70edd",
   "outputs": [],
   "execution_count": 10
  },
  {
   "metadata": {
    "ExecuteTime": {
     "end_time": "2024-12-12T17:03:33.521063Z",
     "start_time": "2024-12-12T17:03:33.517569Z"
    }
   },
   "cell_type": "code",
   "source": [
    "envo_ancs_cache = {}\n",
    "envo_descs_cache = {}"
   ],
   "id": "d9dd232227f803f3",
   "outputs": [],
   "execution_count": 11
  },
  {
   "metadata": {
    "ExecuteTime": {
     "end_time": "2024-12-12T17:08:50.872571Z",
     "start_time": "2024-12-12T17:03:33.522715Z"
    }
   },
   "cell_type": "code",
   "source": [
    "for ee in envo_entities:\n",
    "    ancs_gen = envo_adapter.ancestors(ee, reflexive=reflexivity)\n",
    "    descs_gen = envo_adapter.descendants(ee, reflexive=reflexivity)\n",
    "    envo_ancs_cache[ee] = [{a: envo_label_cache[a]} for a in ancs_gen]\n",
    "    envo_descs_cache[ee] = [{d: envo_label_cache[d]} for d in descs_gen]\n",
    "    \n",
    "# 5 minutes"
   ],
   "id": "8bd487675d9e2760",
   "outputs": [],
   "execution_count": 12
  },
  {
   "metadata": {
    "ExecuteTime": {
     "end_time": "2024-12-12T17:13:54.859379Z",
     "start_time": "2024-12-12T17:13:54.220877Z"
    }
   },
   "cell_type": "code",
   "source": [
    "with open(\"envo_ancestors.json\", \"w\") as f:\n",
    "    json.dump(envo_ancs_cache, f)"
   ],
   "id": "c8f8b156ecabbc28",
   "outputs": [],
   "execution_count": 16
  },
  {
   "metadata": {
    "ExecuteTime": {
     "end_time": "2024-12-12T17:14:48.138179Z",
     "start_time": "2024-12-12T17:14:46.796428Z"
    }
   },
   "cell_type": "code",
   "source": [
    "with open(\"envo_descendants.json\", \"w\") as f:\n",
    "    json.dump(envo_descs_cache, f)"
   ],
   "id": "f4d9508d6db5d139",
   "outputs": [],
   "execution_count": 17
  },
  {
   "metadata": {},
   "cell_type": "code",
   "outputs": [],
   "execution_count": null,
   "source": "",
   "id": "d7b6643f9119a277"
  }
 ],
 "metadata": {
  "kernelspec": {
   "display_name": "Python 3",
   "language": "python",
   "name": "python3"
  },
  "language_info": {
   "codemirror_mode": {
    "name": "ipython",
    "version": 2
   },
   "file_extension": ".py",
   "mimetype": "text/x-python",
   "name": "python",
   "nbconvert_exporter": "python",
   "pygments_lexer": "ipython2",
   "version": "2.7.6"
  }
 },
 "nbformat": 4,
 "nbformat_minor": 5
}
