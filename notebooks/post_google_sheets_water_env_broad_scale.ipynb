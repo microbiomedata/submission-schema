{
 "cells": [
  {
   "cell_type": "code",
   "id": "initial_id",
   "metadata": {
    "collapsed": true,
    "ExecuteTime": {
     "end_time": "2024-11-06T17:35:37.855742Z",
     "start_time": "2024-11-06T17:35:31.907283Z"
    }
   },
   "source": [
    "import pandas as pd\n",
    "from oaklib import get_adapter\n",
    "from oaklib.datamodels.vocabulary import IS_A"
   ],
   "outputs": [],
   "execution_count": 1
  },
  {
   "metadata": {
    "ExecuteTime": {
     "end_time": "2024-11-06T17:35:37.871010Z",
     "start_time": "2024-11-06T17:35:37.864620Z"
    }
   },
   "cell_type": "code",
   "source": "adapter_string = \"sqlite:obo:envo\"",
   "id": "2148e2b371b9d3c1",
   "outputs": [],
   "execution_count": 2
  },
  {
   "metadata": {
    "ExecuteTime": {
     "end_time": "2024-11-06T17:35:37.993293Z",
     "start_time": "2024-11-06T17:35:37.988628Z"
    }
   },
   "cell_type": "code",
   "source": "target_labels = [\"aquatic biome\"]",
   "id": "2b9221b70ebed187",
   "outputs": [],
   "execution_count": 3
  },
  {
   "metadata": {
    "ExecuteTime": {
     "end_time": "2024-11-06T17:35:38.037271Z",
     "start_time": "2024-11-06T17:35:38.031869Z"
    }
   },
   "cell_type": "code",
   "source": "exclusion_labels = []",
   "id": "dc91a47fb8762a09",
   "outputs": [],
   "execution_count": 4
  },
  {
   "metadata": {
    "ExecuteTime": {
     "end_time": "2024-11-06T17:35:38.088833Z",
     "start_time": "2024-11-06T17:35:38.084379Z"
    }
   },
   "cell_type": "code",
   "source": "output_file = \"post_google_sheets_water_env_broad_scale.tsv\"",
   "id": "1c1bbcde0e65496e",
   "outputs": [],
   "execution_count": 5
  },
  {
   "metadata": {
    "ExecuteTime": {
     "end_time": "2024-11-06T17:35:38.185407Z",
     "start_time": "2024-11-06T17:35:38.134304Z"
    }
   },
   "cell_type": "code",
   "source": "adapter = get_adapter(adapter_string)",
   "id": "7709e378f4d117eb",
   "outputs": [],
   "execution_count": 6
  },
  {
   "metadata": {
    "ExecuteTime": {
     "end_time": "2024-11-06T17:35:38.205303Z",
     "start_time": "2024-11-06T17:35:38.200271Z"
    }
   },
   "cell_type": "code",
   "source": "targets = set()",
   "id": "1bbc3b1ad9958a37",
   "outputs": [],
   "execution_count": 7
  },
  {
   "metadata": {
    "ExecuteTime": {
     "end_time": "2024-11-06T17:35:38.387919Z",
     "start_time": "2024-11-06T17:35:38.244087Z"
    }
   },
   "cell_type": "code",
   "source": [
    "# accumulate subclasses of the target classes (by label)\n",
    "# \n",
    "for current_label in target_labels:\n",
    "    for class_id in adapter.basic_search(current_label):\n",
    "        descendant = adapter.descendants(class_id, predicates=[IS_A])\n",
    "        for d in descendant:\n",
    "            targets.add(d)\n",
    "\n",
    "print(len(targets))"
   ],
   "id": "5315b4280bb53a5c",
   "outputs": [
    {
     "name": "stdout",
     "output_type": "stream",
     "text": [
      "56\n"
     ]
    }
   ],
   "execution_count": 8
  },
  {
   "metadata": {
    "ExecuteTime": {
     "end_time": "2024-11-06T17:35:38.415171Z",
     "start_time": "2024-11-06T17:35:38.406553Z"
    }
   },
   "cell_type": "code",
   "source": [
    "# deplete subclasses of the exclusion classes (by label)\n",
    "# \n",
    "for current_label in exclusion_labels:\n",
    "    for class_id in adapter.basic_search(current_label):\n",
    "        descendant = adapter.descendants(class_id, predicates=[IS_A])\n",
    "        for d in descendant:\n",
    "            targets.remove(d)\n",
    "\n",
    "print(len(targets))"
   ],
   "id": "77c441ce49ee868",
   "outputs": [
    {
     "name": "stdout",
     "output_type": "stream",
     "text": [
      "56\n"
     ]
    }
   ],
   "execution_count": 9
  },
  {
   "metadata": {
    "ExecuteTime": {
     "end_time": "2024-11-06T17:35:38.506917Z",
     "start_time": "2024-11-06T17:35:38.451894Z"
    }
   },
   "cell_type": "code",
   "source": [
    "labelled_targets = []\n",
    "for t in targets:\n",
    "    labelled_targets.append(\n",
    "        {\n",
    "            \"id\": t,\n",
    "            \"label\": adapter.label(t)\n",
    "        }\n",
    "    )"
   ],
   "id": "7ed61cab5db223d9",
   "outputs": [],
   "execution_count": 10
  },
  {
   "metadata": {
    "ExecuteTime": {
     "end_time": "2024-11-06T17:35:38.529261Z",
     "start_time": "2024-11-06T17:35:38.523315Z"
    }
   },
   "cell_type": "code",
   "source": "export_frame = pd.DataFrame(labelled_targets)",
   "id": "1f3ef3ee6f2f671f",
   "outputs": [],
   "execution_count": 11
  },
  {
   "metadata": {
    "ExecuteTime": {
     "end_time": "2024-11-06T17:35:38.582363Z",
     "start_time": "2024-11-06T17:35:38.569830Z"
    }
   },
   "cell_type": "code",
   "source": "export_frame.to_csv(output_file, sep=\"\\t\", index=False)",
   "id": "742918910ceb7ef5",
   "outputs": [],
   "execution_count": 12
  },
  {
   "metadata": {
    "ExecuteTime": {
     "end_time": "2024-11-06T17:35:38.629034Z",
     "start_time": "2024-11-06T17:35:38.624162Z"
    }
   },
   "cell_type": "code",
   "source": "",
   "id": "7df6bc0f2ce3bc0a",
   "outputs": [],
   "execution_count": null
  }
 ],
 "metadata": {
  "kernelspec": {
   "display_name": "Python 3",
   "language": "python",
   "name": "python3"
  },
  "language_info": {
   "codemirror_mode": {
    "name": "ipython",
    "version": 2
   },
   "file_extension": ".py",
   "mimetype": "text/x-python",
   "name": "python",
   "nbconvert_exporter": "python",
   "pygments_lexer": "ipython2",
   "version": "2.7.6"
  }
 },
 "nbformat": 4,
 "nbformat_minor": 5
}
