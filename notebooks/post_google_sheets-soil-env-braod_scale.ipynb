{
 "cells": [
  {
   "cell_type": "code",
   "id": "initial_id",
   "metadata": {
    "collapsed": true,
    "ExecuteTime": {
     "end_time": "2024-10-31T16:56:46.589290Z",
     "start_time": "2024-10-31T16:56:46.586197Z"
    }
   },
   "source": [
    "from oaklib import get_adapter\n",
    "from oaklib.datamodels.vocabulary import IS_A\n",
    "\n",
    "import pprint"
   ],
   "outputs": [],
   "execution_count": 17
  },
  {
   "metadata": {
    "ExecuteTime": {
     "end_time": "2024-10-31T16:56:47.030672Z",
     "start_time": "2024-10-31T16:56:47.027585Z"
    }
   },
   "cell_type": "code",
   "source": "adapter_string = \"sqlite:obo:envo\"",
   "id": "2148e2b371b9d3c1",
   "outputs": [],
   "execution_count": 18
  },
  {
   "metadata": {
    "ExecuteTime": {
     "end_time": "2024-10-31T16:56:47.362960Z",
     "start_time": "2024-10-31T16:56:47.359668Z"
    }
   },
   "cell_type": "code",
   "source": "target_labels = [\"terrestrial biome\"]",
   "id": "2b9221b70ebed187",
   "outputs": [],
   "execution_count": 19
  },
  {
   "metadata": {
    "ExecuteTime": {
     "end_time": "2024-10-31T16:56:47.725300Z",
     "start_time": "2024-10-31T16:56:47.716852Z"
    }
   },
   "cell_type": "code",
   "source": "exclusion_labels = []",
   "id": "dc91a47fb8762a09",
   "outputs": [],
   "execution_count": 20
  },
  {
   "metadata": {
    "ExecuteTime": {
     "end_time": "2024-10-31T16:56:48.065970Z",
     "start_time": "2024-10-31T16:56:48.062074Z"
    }
   },
   "cell_type": "code",
   "source": "adapter = get_adapter(adapter_string)",
   "id": "7709e378f4d117eb",
   "outputs": [],
   "execution_count": 21
  },
  {
   "metadata": {
    "ExecuteTime": {
     "end_time": "2024-10-31T16:56:48.439622Z",
     "start_time": "2024-10-31T16:56:48.436026Z"
    }
   },
   "cell_type": "code",
   "source": "targets = set()",
   "id": "1bbc3b1ad9958a37",
   "outputs": [],
   "execution_count": 22
  },
  {
   "metadata": {
    "ExecuteTime": {
     "end_time": "2024-10-31T16:56:48.857662Z",
     "start_time": "2024-10-31T16:56:48.814556Z"
    }
   },
   "cell_type": "code",
   "source": [
    "# accumulate subclasses of the target classes (by label)\n",
    "# \n",
    "for current_label in target_labels:\n",
    "    for class_id in adapter.basic_search(current_label):\n",
    "        descendant = adapter.descendants(class_id, predicates=[IS_A])\n",
    "        for d in descendant:\n",
    "            targets.add(d)\n",
    "            \n",
    "print(len(targets))"
   ],
   "id": "5315b4280bb53a5c",
   "outputs": [
    {
     "name": "stdout",
     "output_type": "stream",
     "text": [
      "52\n"
     ]
    }
   ],
   "execution_count": 23
  },
  {
   "metadata": {
    "ExecuteTime": {
     "end_time": "2024-10-31T16:56:49.386219Z",
     "start_time": "2024-10-31T16:56:49.381382Z"
    }
   },
   "cell_type": "code",
   "source": [
    "# deplete subclasses of the exclusion classes (by label)\n",
    "# \n",
    "for current_label in exclusion_labels:\n",
    "    for class_id in adapter.basic_search(current_label):\n",
    "        descendant = adapter.descendants(class_id, predicates=[IS_A])\n",
    "        for d in descendant:\n",
    "            targets.remove(d)\n",
    "\n",
    "print(len(targets))"
   ],
   "id": "77c441ce49ee868",
   "outputs": [
    {
     "name": "stdout",
     "output_type": "stream",
     "text": [
      "52\n"
     ]
    }
   ],
   "execution_count": 24
  },
  {
   "metadata": {
    "ExecuteTime": {
     "end_time": "2024-10-31T16:56:50.274074Z",
     "start_time": "2024-10-31T16:56:50.260866Z"
    }
   },
   "cell_type": "code",
   "source": "# pprint.pprint(targets) just curies!",
   "id": "184f0c7fb5223b3f",
   "outputs": [
    {
     "name": "stdout",
     "output_type": "stream",
     "text": [
      "{'ENVO:00000446',\n",
      " 'ENVO:01000174',\n",
      " 'ENVO:01000175',\n",
      " 'ENVO:01000176',\n",
      " 'ENVO:01000177',\n",
      " 'ENVO:01000178',\n",
      " 'ENVO:01000180',\n",
      " 'ENVO:01000181',\n",
      " 'ENVO:01000187',\n",
      " 'ENVO:01000188',\n",
      " 'ENVO:01000189',\n",
      " 'ENVO:01000190',\n",
      " 'ENVO:01000191',\n",
      " 'ENVO:01000192',\n",
      " 'ENVO:01000193',\n",
      " 'ENVO:01000194',\n",
      " 'ENVO:01000195',\n",
      " 'ENVO:01000196',\n",
      " 'ENVO:01000197',\n",
      " 'ENVO:01000198',\n",
      " 'ENVO:01000199',\n",
      " 'ENVO:01000200',\n",
      " 'ENVO:01000201',\n",
      " 'ENVO:01000202',\n",
      " 'ENVO:01000208',\n",
      " 'ENVO:01000209',\n",
      " 'ENVO:01000210',\n",
      " 'ENVO:01000211',\n",
      " 'ENVO:01000212',\n",
      " 'ENVO:01000213',\n",
      " 'ENVO:01000214',\n",
      " 'ENVO:01000215',\n",
      " 'ENVO:01000216',\n",
      " 'ENVO:01000217',\n",
      " 'ENVO:01000218',\n",
      " 'ENVO:01000219',\n",
      " 'ENVO:01000220',\n",
      " 'ENVO:01000221',\n",
      " 'ENVO:01000222',\n",
      " 'ENVO:01000223',\n",
      " 'ENVO:01000224',\n",
      " 'ENVO:01000225',\n",
      " 'ENVO:01000226',\n",
      " 'ENVO:01000227',\n",
      " 'ENVO:01000228',\n",
      " 'ENVO:01000229',\n",
      " 'ENVO:01000245',\n",
      " 'ENVO:01000247',\n",
      " 'ENVO:01000250',\n",
      " 'ENVO:01001369',\n",
      " 'ENVO:01001505',\n",
      " 'ENVO:01001798'}\n"
     ]
    }
   ],
   "execution_count": 25
  },
  {
   "metadata": {
    "ExecuteTime": {
     "end_time": "2024-10-31T16:58:50.289488Z",
     "start_time": "2024-10-31T16:58:50.267170Z"
    }
   },
   "cell_type": "code",
   "source": [
    "labelled_targets = []\n",
    "for t in targets:\n",
    "    labelled_targets.append(\n",
    "        {\n",
    "            \"id\": t,\n",
    "            \"label\": adapter.label(t)\n",
    "        }\n",
    "    )"
   ],
   "id": "7ed61cab5db223d9",
   "outputs": [],
   "execution_count": 26
  },
  {
   "metadata": {
    "ExecuteTime": {
     "end_time": "2024-10-31T16:58:51.255208Z",
     "start_time": "2024-10-31T16:58:51.249671Z"
    }
   },
   "cell_type": "code",
   "source": "pprint.pprint(labelled_targets)",
   "id": "454fb1c002f7e703",
   "outputs": [
    {
     "name": "stdout",
     "output_type": "stream",
     "text": [
      "[{'id': 'ENVO:01000250', 'label': 'subpolar coniferous forest biome'},\n",
      " {'id': 'ENVO:01000189', 'label': 'temperate savanna biome'},\n",
      " {'id': 'ENVO:01000197', 'label': 'broadleaf forest biome'},\n",
      " {'id': 'ENVO:01000208', 'label': 'mediterranean woodland biome'},\n",
      " {'id': 'ENVO:01000222', 'label': 'subtropical woodland biome'},\n",
      " {'id': 'ENVO:01000192', 'label': 'tropical grassland biome'},\n",
      " {'id': 'ENVO:01000188', 'label': 'tropical savanna biome'},\n",
      " {'id': 'ENVO:01000193', 'label': 'temperate grassland biome'},\n",
      " {'id': 'ENVO:01000199', 'label': 'mediterranean forest biome'},\n",
      " {'id': 'ENVO:01000219', 'label': 'anthropogenic terrestrial biome'},\n",
      " {'id': 'ENVO:01000174', 'label': 'forest biome'},\n",
      " {'id': 'ENVO:01000178', 'label': 'savanna biome'},\n",
      " {'id': 'ENVO:01000245', 'label': 'cropland biome'},\n",
      " {'id': 'ENVO:01000213', 'label': 'subtropical shrubland biome'},\n",
      " {'id': 'ENVO:01000195', 'label': 'flooded grassland biome'},\n",
      " {'id': 'ENVO:01000247', 'label': 'rangeland biome'},\n",
      " {'id': 'ENVO:01000229', 'label': 'mediterranean savanna biome'},\n",
      " {'id': 'ENVO:01000209', 'label': 'subtropical coniferous forest biome'},\n",
      " {'id': 'ENVO:01000225', 'label': 'subtropical dry broadleaf forest biome'},\n",
      " {'id': 'ENVO:01000224', 'label': 'mediterranean grassland biome'},\n",
      " {'id': 'ENVO:00000446', 'label': 'terrestrial biome'},\n",
      " {'id': 'ENVO:01000180', 'label': 'tundra biome'},\n",
      " {'id': 'ENVO:01000212', 'label': 'temperate mixed forest biome'},\n",
      " {'id': 'ENVO:01000187', 'label': 'subtropical savanna biome'},\n",
      " {'id': 'ENVO:01000200', 'label': 'tropical broadleaf forest biome'},\n",
      " {'id': 'ENVO:01000201', 'label': 'subtropical broadleaf forest biome'},\n",
      " {'id': 'ENVO:01000214', 'label': 'tropical shrubland biome'},\n",
      " {'id': 'ENVO:01000218', 'label': 'xeric shrubland biome'},\n",
      " {'id': 'ENVO:01000215', 'label': 'temperate shrubland biome'},\n",
      " {'id': 'ENVO:01000226', 'label': 'subtropical moist broadleaf forest biome'},\n",
      " {'id': 'ENVO:01000227', 'label': 'tropical dry broadleaf forest biome'},\n",
      " {'id': 'ENVO:01000211', 'label': 'temperate coniferous forest biome'},\n",
      " {'id': 'ENVO:01001798', 'label': 'tropical mixed forest biome'},\n",
      " {'id': 'ENVO:01000221', 'label': 'temperate woodland biome'},\n",
      " {'id': 'ENVO:01000210', 'label': 'tropical coniferous forest biome'},\n",
      " {'id': 'ENVO:01000202', 'label': 'temperate broadleaf forest biome'},\n",
      " {'id': 'ENVO:01000228', 'label': 'tropical moist broadleaf forest biome'},\n",
      " {'id': 'ENVO:01000175', 'label': 'woodland biome'},\n",
      " {'id': 'ENVO:01000196', 'label': 'coniferous forest biome'},\n",
      " {'id': 'ENVO:01000194', 'label': 'montane grassland biome'},\n",
      " {'id': 'ENVO:01000223', 'label': 'montane savanna biome'},\n",
      " {'id': 'ENVO:01000177', 'label': 'grassland biome'},\n",
      " {'id': 'ENVO:01000176', 'label': 'shrubland biome'},\n",
      " {'id': 'ENVO:01000216', 'label': 'montane shrubland biome'},\n",
      " {'id': 'ENVO:01000190', 'label': 'flooded savanna biome'},\n",
      " {'id': 'ENVO:01001505', 'label': 'alpine tundra biome'},\n",
      " {'id': 'ENVO:01001369', 'label': 'tidal mangrove shrubland'},\n",
      " {'id': 'ENVO:01000198', 'label': 'mixed forest biome'},\n",
      " {'id': 'ENVO:01000181', 'label': 'mangrove biome'},\n",
      " {'id': 'ENVO:01000191', 'label': 'subtropical grassland biome'},\n",
      " {'id': 'ENVO:01000220', 'label': 'tropical woodland biome'},\n",
      " {'id': 'ENVO:01000217', 'label': 'mediterranean shrubland biome'}]\n"
     ]
    }
   ],
   "execution_count": 27
  },
  {
   "metadata": {},
   "cell_type": "code",
   "outputs": [],
   "execution_count": null,
   "source": "",
   "id": "1f3ef3ee6f2f671f"
  }
 ],
 "metadata": {
  "kernelspec": {
   "display_name": "Python 3",
   "language": "python",
   "name": "python3"
  },
  "language_info": {
   "codemirror_mode": {
    "name": "ipython",
    "version": 2
   },
   "file_extension": ".py",
   "mimetype": "text/x-python",
   "name": "python",
   "nbconvert_exporter": "python",
   "pygments_lexer": "ipython2",
   "version": "2.7.6"
  }
 },
 "nbformat": 4,
 "nbformat_minor": 5
}
