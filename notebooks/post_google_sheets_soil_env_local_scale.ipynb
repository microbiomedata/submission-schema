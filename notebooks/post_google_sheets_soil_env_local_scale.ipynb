{
 "cells": [
  {
   "cell_type": "code",
   "id": "initial_id",
   "metadata": {
    "collapsed": true,
    "ExecuteTime": {
     "end_time": "2024-10-31T19:35:44.766963Z",
     "start_time": "2024-10-31T19:35:44.762915Z"
    }
   },
   "source": [
    "from cProfile import label\n",
    "\n",
    "from oaklib import get_adapter\n",
    "from oaklib.datamodels.vocabulary import IS_A, PART_OF  # todo be careful with part of assumptions!\n",
    "\n",
    "import pprint\n",
    "import csv\n",
    "import pandas as pd"
   ],
   "outputs": [],
   "execution_count": 19
  },
  {
   "metadata": {
    "ExecuteTime": {
     "end_time": "2024-10-31T19:26:06.215069Z",
     "start_time": "2024-10-31T19:26:06.211413Z"
    }
   },
   "cell_type": "code",
   "source": "adapter_string = \"sqlite:obo:envo\"",
   "id": "2148e2b371b9d3c1",
   "outputs": [],
   "execution_count": 2
  },
  {
   "metadata": {
    "ExecuteTime": {
     "end_time": "2024-10-31T19:26:06.276472Z",
     "start_time": "2024-10-31T19:26:06.273686Z"
    }
   },
   "cell_type": "code",
   "source": [
    "acceptable_prefixes = {\n",
    "    \"ENVO\"\n",
    "}"
   ],
   "id": "477f6f26578a06e0",
   "outputs": [],
   "execution_count": 3
  },
  {
   "metadata": {
    "ExecuteTime": {
     "end_time": "2024-10-31T19:26:06.319704Z",
     "start_time": "2024-10-31T19:26:06.316724Z"
    }
   },
   "cell_type": "code",
   "source": [
    "target_labels = [\n",
    "    \"material entity\",\n",
    "]\n"
   ],
   "id": "2b9221b70ebed187",
   "outputs": [],
   "execution_count": 4
  },
  {
   "metadata": {
    "ExecuteTime": {
     "end_time": "2024-10-31T19:26:06.377816Z",
     "start_time": "2024-10-31T19:26:06.367574Z"
    }
   },
   "cell_type": "code",
   "source": [
    "is_a_only_exclusion_labels = [\n",
    "    \"astronomical body\"\n",
    "]"
   ],
   "id": "516cd149ddc657d6",
   "outputs": [],
   "execution_count": 5
  },
  {
   "metadata": {
    "ExecuteTime": {
     "end_time": "2024-10-31T19:26:06.439816Z",
     "start_time": "2024-10-31T19:26:06.427067Z"
    }
   },
   "cell_type": "code",
   "source": [
    "is_a_label_fragment_exclusion = [\n",
    "    \"UNEP-WCMC\",\n",
    "    \"agricult\",\n",
    "    \"anthropogenic\",\n",
    "    \"astronomical\",\n",
    "    \"biosphere\",\n",
    "    \"coast\",\n",
    "    \"construct\",\n",
    "    \"facility\",\n",
    "    \"feature\",\n",
    "    \"from\",\n",
    "    \"geographic\",\n",
    "    \"geologic\",\n",
    "    \"landform\",\n",
    "    \"marine\",\n",
    "    \"ocean\",\n",
    "    \"raised\",\n",
    "    \"sea\",\n",
    "    \"system\",\n",
    "    \"volcanic\",\n",
    "]"
   ],
   "id": "3f2188382ffdff63",
   "outputs": [],
   "execution_count": 6
  },
  {
   "metadata": {
    "ExecuteTime": {
     "end_time": "2024-10-31T19:26:06.487591Z",
     "start_time": "2024-10-31T19:26:06.482301Z"
    }
   },
   "cell_type": "code",
   "source": [
    "is_a_part_of_exclusion_labels = [\n",
    "    \"anatomical entity environment\",\n",
    "    \"anatomical entity\",\n",
    "    \"animal habitation\",\n",
    "    \"archipelago\",\n",
    "    \"biome\",\n",
    "    \"body of liquid\",\n",
    "    \"building\",\n",
    "    \"channel of a watercourse\",\n",
    "    \"chemical entity\",\n",
    "    \"container of an intermittent water body\",\n",
    "    \"cryoform\",\n",
    "    \"educational facility\",\n",
    "    \"environmental material\",\n",
    "    \"environmental system\",  # includes ecosystems\n",
    "    \"environmental zone\",\n",
    "    \"fiat part of an astronomical object\",\n",
    "    \"fluid astronomical body part\",  # todo gets rid of plume but also lakes, stream etc.\n",
    "    \"healthcare facility\",\n",
    "    \"high-elevation mountain\",\n",
    "    \"hospital unit facility\",\n",
    "    \"layer\",\n",
    "    \"manufactured product\",\n",
    "    \"marine environmental zone\",\n",
    "    \"marine layer\",\n",
    "    \"mass of compounded environmental materials\",  # todo eliminates glacier\n",
    "    \"mass of environmental material\",\n",
    "    \"mass of fluid\",\n",
    "    \"meteor\",  # includes clouds!\n",
    "    \"mid-elevation mountain\",\n",
    "    \"mineral deposit\",\n",
    "    \"object aggregate\",  # esp for rain\n",
    "    \"organ\",\n",
    "    \"particle\",\n",
    "    \"piece of plastic\",\n",
    "    \"political entity\",\n",
    "    \"star\",  # todo for photosphere, which should have been removed by mass of environmental material\n",
    "]\n",
    "\n",
    "# todo lost rhizosphere (an environmental system) ... steppe (part of part of a biome) ...\n",
    "\n",
    "# todo are we really saying that we aren't interested in soil near a lake? \n"
   ],
   "id": "dc91a47fb8762a09",
   "outputs": [],
   "execution_count": 7
  },
  {
   "metadata": {
    "ExecuteTime": {
     "end_time": "2024-10-31T19:26:06.558957Z",
     "start_time": "2024-10-31T19:26:06.530304Z"
    }
   },
   "cell_type": "code",
   "source": "adapter = get_adapter(adapter_string)",
   "id": "7709e378f4d117eb",
   "outputs": [],
   "execution_count": 8
  },
  {
   "metadata": {
    "ExecuteTime": {
     "end_time": "2024-10-31T19:26:06.580062Z",
     "start_time": "2024-10-31T19:26:06.577156Z"
    }
   },
   "cell_type": "code",
   "source": "targets = set()",
   "id": "1bbc3b1ad9958a37",
   "outputs": [],
   "execution_count": 9
  },
  {
   "metadata": {
    "ExecuteTime": {
     "end_time": "2024-10-31T19:26:06.846400Z",
     "start_time": "2024-10-31T19:26:06.623266Z"
    }
   },
   "cell_type": "code",
   "source": [
    "# accumulate subclasses of the target classes (by label)\n",
    "# \n",
    "for current_label in target_labels:\n",
    "    for class_id in adapter.basic_search(current_label):\n",
    "        descendant = adapter.descendants(class_id, predicates=[IS_A])\n",
    "        for d in descendant:\n",
    "            targets.add(d)\n",
    "            \n",
    "print(len(targets))"
   ],
   "id": "5315b4280bb53a5c",
   "outputs": [
    {
     "name": "stdout",
     "output_type": "stream",
     "text": [
      "5132\n"
     ]
    }
   ],
   "execution_count": 10
  },
  {
   "metadata": {
    "ExecuteTime": {
     "end_time": "2024-10-31T19:26:08.380683Z",
     "start_time": "2024-10-31T19:26:06.857589Z"
    }
   },
   "cell_type": "code",
   "source": [
    "# write the targets and their labels to a tsv file \"sels_targets.txt\"\n",
    "#\n",
    "with open(\"sels_targets.tsv\", \"w\") as f:\n",
    "    for t in targets:\n",
    "        f.write(t + \"\\t\" + adapter.label(t) + \"\\n\")"
   ],
   "id": "81f451e5546cbeb2",
   "outputs": [],
   "execution_count": 11
  },
  {
   "metadata": {
    "ExecuteTime": {
     "end_time": "2024-10-31T19:26:11.034404Z",
     "start_time": "2024-10-31T19:26:08.390616Z"
    }
   },
   "cell_type": "code",
   "source": [
    "# deplete subclasses of the exclusion classes (by label)\n",
    "# \n",
    "\n",
    "depletion_log = []\n",
    "\n",
    "for current_label in is_a_part_of_exclusion_labels:\n",
    "    for class_id in adapter.basic_search(current_label):\n",
    "        descendant = adapter.descendants(class_id,\n",
    "                                         predicates=[IS_A, PART_OF])  # todo be careful with part of assumptions!\n",
    "        for d in descendant:\n",
    "            if d in targets:\n",
    "                depletion_line = {\n",
    "                    \"removed\": adapter.label(d),\n",
    "                    \"reason\": current_label\n",
    "                }\n",
    "                # print(log_line)\n",
    "                depletion_log.append(depletion_line)\n",
    "                targets.remove(d)\n",
    "\n",
    "for current_label in is_a_only_exclusion_labels:\n",
    "    for class_id in adapter.basic_search(current_label):\n",
    "        descendant = adapter.descendants(class_id, predicates=[IS_A])  # todo be careful with part of assumptions!\n",
    "        for d in descendant:\n",
    "            if d in targets:\n",
    "                depletion_line = {\n",
    "                    \"removed\": adapter.label(d),\n",
    "                    \"reason\": current_label\n",
    "                }\n",
    "                # print(log_line)\n",
    "                depletion_log.append(depletion_line)\n",
    "                targets.remove(d)\n",
    "\n",
    "print(len(targets))"
   ],
   "id": "77c441ce49ee868",
   "outputs": [
    {
     "name": "stdout",
     "output_type": "stream",
     "text": [
      "759\n"
     ]
    }
   ],
   "execution_count": 12
  },
  {
   "metadata": {
    "ExecuteTime": {
     "end_time": "2024-10-31T19:26:11.058560Z",
     "start_time": "2024-10-31T19:26:11.044029Z"
    }
   },
   "cell_type": "code",
   "source": [
    "# write the lines in log to a TSV file \"sels_depletion.tsv\"\" with csv's dictwriter\n",
    "#\n",
    "with open(\"sels_depletion.tsv\", \"w\") as f:\n",
    "    writer = csv.DictWriter(f, fieldnames=[\"removed\", \"reason\"])\n",
    "    writer.writeheader()\n",
    "    for line in depletion_log:\n",
    "        writer.writerow(line)\n"
   ],
   "id": "62b7006a08a898a8",
   "outputs": [],
   "execution_count": 13
  },
  {
   "metadata": {
    "ExecuteTime": {
     "end_time": "2024-10-31T19:26:11.088759Z",
     "start_time": "2024-10-31T19:26:11.085642Z"
    }
   },
   "cell_type": "code",
   "source": [
    "# # write the remaining targets and their labels to a tsv file \n",
    "# #\n",
    "# with open(\"sels_targets_depletion_remaining.tsv\", \"w\") as f:\n",
    "#     for t in targets:\n",
    "#         f.write(t + \"\\t\" + adapter.label(t) + \"\\n\")"
   ],
   "id": "1b3845003ad19baf",
   "outputs": [],
   "execution_count": 14
  },
  {
   "metadata": {
    "ExecuteTime": {
     "end_time": "2024-10-31T19:26:11.140503Z",
     "start_time": "2024-10-31T19:26:11.136181Z"
    }
   },
   "cell_type": "code",
   "source": [
    "# remove curies from the targets if their prefix, when splitting on colon, isn't in the acceptable prefixes\n",
    "for t in list(targets):\n",
    "    if t.split(\":\")[0] not in acceptable_prefixes:\n",
    "        targets.remove(t)   \n",
    "print(len(targets))"
   ],
   "id": "c78340f4c8cfb9c3",
   "outputs": [
    {
     "name": "stdout",
     "output_type": "stream",
     "text": [
      "475\n"
     ]
    }
   ],
   "execution_count": 15
  },
  {
   "metadata": {
    "ExecuteTime": {
     "end_time": "2024-10-31T19:26:13.811165Z",
     "start_time": "2024-10-31T19:26:11.186812Z"
    }
   },
   "cell_type": "code",
   "source": [
    "# remove curies from the targets if their label contains any of the exclusion fragments\n",
    "for t in list(targets):\n",
    "    for fragment in is_a_label_fragment_exclusion:\n",
    "        if fragment in adapter.label(t):\n",
    "            if t in targets:\n",
    "                targets.remove(t)\n",
    "print(len(targets))"
   ],
   "id": "25b2802c320e922a",
   "outputs": [
    {
     "name": "stdout",
     "output_type": "stream",
     "text": [
      "386\n"
     ]
    }
   ],
   "execution_count": 16
  },
  {
   "metadata": {
    "ExecuteTime": {
     "end_time": "2024-10-31T19:26:13.984450Z",
     "start_time": "2024-10-31T19:26:13.856445Z"
    }
   },
   "cell_type": "code",
   "source": [
    "# write the remaining targets and their labels to a tsv file \n",
    "#\n",
    "with open(\"sels_targets_remaining.tsv\", \"w\") as f:\n",
    "    for t in targets:\n",
    "        f.write(t + \"\\t\" + adapter.label(t) + \"\\n\")"
   ],
   "id": "513fe6152f972275",
   "outputs": [],
   "execution_count": 17
  },
  {
   "metadata": {
    "ExecuteTime": {
     "end_time": "2024-10-31T19:37:52.612246Z",
     "start_time": "2024-10-31T19:37:52.448366Z"
    }
   },
   "cell_type": "code",
   "source": [
    "labelled_targets = []\n",
    "for t in targets:\n",
    "    labelled_targets.append(\n",
    "        {\n",
    "            \"id\": t,\n",
    "            \"label\": adapter.label(t)\n",
    "        }\n",
    "    )"
   ],
   "id": "7ed61cab5db223d9",
   "outputs": [],
   "execution_count": 21
  },
  {
   "metadata": {
    "ExecuteTime": {
     "end_time": "2024-10-31T19:37:53.371976Z",
     "start_time": "2024-10-31T19:37:53.367228Z"
    }
   },
   "cell_type": "code",
   "source": "labeled_frame = pd.DataFrame(labelled_targets)",
   "id": "e25c377fe9e3583e",
   "outputs": [],
   "execution_count": 22
  },
  {
   "metadata": {
    "ExecuteTime": {
     "end_time": "2024-10-31T19:41:17.260182Z",
     "start_time": "2024-10-31T19:41:17.248771Z"
    }
   },
   "cell_type": "code",
   "source": "labeled_frame",
   "id": "a380fdefe3941ea6",
   "outputs": [
    {
     "data": {
      "text/plain": [
       "                id                  label\n",
       "0    ENVO:01000518                 diapir\n",
       "1    ENVO:00000403         shield volcano\n",
       "2    ENVO:01001111     fossil worm burrow\n",
       "3    ENVO:00010624       botanical garden\n",
       "4    ENVO:01000731      igneous extrusion\n",
       "..             ...                    ...\n",
       "381  ENVO:01000863     overflow structure\n",
       "382  ENVO:00000332                 doline\n",
       "383  ENVO:00000417                machair\n",
       "384  ENVO:00000324           outflow cave\n",
       "385  ENVO:00000524  abandoned watercourse\n",
       "\n",
       "[386 rows x 2 columns]"
      ],
      "text/html": [
       "<div>\n",
       "<style scoped>\n",
       "    .dataframe tbody tr th:only-of-type {\n",
       "        vertical-align: middle;\n",
       "    }\n",
       "\n",
       "    .dataframe tbody tr th {\n",
       "        vertical-align: top;\n",
       "    }\n",
       "\n",
       "    .dataframe thead th {\n",
       "        text-align: right;\n",
       "    }\n",
       "</style>\n",
       "<table border=\"1\" class=\"dataframe\">\n",
       "  <thead>\n",
       "    <tr style=\"text-align: right;\">\n",
       "      <th></th>\n",
       "      <th>id</th>\n",
       "      <th>label</th>\n",
       "    </tr>\n",
       "  </thead>\n",
       "  <tbody>\n",
       "    <tr>\n",
       "      <th>0</th>\n",
       "      <td>ENVO:01000518</td>\n",
       "      <td>diapir</td>\n",
       "    </tr>\n",
       "    <tr>\n",
       "      <th>1</th>\n",
       "      <td>ENVO:00000403</td>\n",
       "      <td>shield volcano</td>\n",
       "    </tr>\n",
       "    <tr>\n",
       "      <th>2</th>\n",
       "      <td>ENVO:01001111</td>\n",
       "      <td>fossil worm burrow</td>\n",
       "    </tr>\n",
       "    <tr>\n",
       "      <th>3</th>\n",
       "      <td>ENVO:00010624</td>\n",
       "      <td>botanical garden</td>\n",
       "    </tr>\n",
       "    <tr>\n",
       "      <th>4</th>\n",
       "      <td>ENVO:01000731</td>\n",
       "      <td>igneous extrusion</td>\n",
       "    </tr>\n",
       "    <tr>\n",
       "      <th>...</th>\n",
       "      <td>...</td>\n",
       "      <td>...</td>\n",
       "    </tr>\n",
       "    <tr>\n",
       "      <th>381</th>\n",
       "      <td>ENVO:01000863</td>\n",
       "      <td>overflow structure</td>\n",
       "    </tr>\n",
       "    <tr>\n",
       "      <th>382</th>\n",
       "      <td>ENVO:00000332</td>\n",
       "      <td>doline</td>\n",
       "    </tr>\n",
       "    <tr>\n",
       "      <th>383</th>\n",
       "      <td>ENVO:00000417</td>\n",
       "      <td>machair</td>\n",
       "    </tr>\n",
       "    <tr>\n",
       "      <th>384</th>\n",
       "      <td>ENVO:00000324</td>\n",
       "      <td>outflow cave</td>\n",
       "    </tr>\n",
       "    <tr>\n",
       "      <th>385</th>\n",
       "      <td>ENVO:00000524</td>\n",
       "      <td>abandoned watercourse</td>\n",
       "    </tr>\n",
       "  </tbody>\n",
       "</table>\n",
       "<p>386 rows × 2 columns</p>\n",
       "</div>"
      ]
     },
     "execution_count": 24,
     "metadata": {},
     "output_type": "execute_result"
    }
   ],
   "execution_count": 24
  },
  {
   "metadata": {
    "ExecuteTime": {
     "end_time": "2024-10-31T19:41:19.215074Z",
     "start_time": "2024-10-31T19:41:19.192934Z"
    }
   },
   "cell_type": "code",
   "source": "labeled_frame.to_html()",
   "id": "2735ed74ebac9023",
   "outputs": [
    {
     "data": {
      "text/plain": [
       "'<table border=\"1\" class=\"dataframe\">\\n  <thead>\\n    <tr style=\"text-align: right;\">\\n      <th></th>\\n      <th>id</th>\\n      <th>label</th>\\n    </tr>\\n  </thead>\\n  <tbody>\\n    <tr>\\n      <th>0</th>\\n      <td>ENVO:01000518</td>\\n      <td>diapir</td>\\n    </tr>\\n    <tr>\\n      <th>1</th>\\n      <td>ENVO:00000403</td>\\n      <td>shield volcano</td>\\n    </tr>\\n    <tr>\\n      <th>2</th>\\n      <td>ENVO:01001111</td>\\n      <td>fossil worm burrow</td>\\n    </tr>\\n    <tr>\\n      <th>3</th>\\n      <td>ENVO:00010624</td>\\n      <td>botanical garden</td>\\n    </tr>\\n    <tr>\\n      <th>4</th>\\n      <td>ENVO:01000731</td>\\n      <td>igneous extrusion</td>\\n    </tr>\\n    <tr>\\n      <th>5</th>\\n      <td>ENVO:00000302</td>\\n      <td>rift valley</td>\\n    </tr>\\n    <tr>\\n      <th>6</th>\\n      <td>ENVO:03500001</td>\\n      <td>playground</td>\\n    </tr>\\n    <tr>\\n      <th>7</th>\\n      <td>ENVO:00000100</td>\\n      <td>valley</td>\\n    </tr>\\n    <tr>\\n      <th>8</th>\\n      <td>ENVO:01001151</td>\\n      <td>proplyd</td>\\n    </tr>\\n    <tr>\\n      <th>9</th>\\n      <td>ENVO:01001773</td>\\n      <td>thrust fault</td>\\n    </tr>\\n    <tr>\\n      <th>10</th>\\n      <td>ENVO:00000265</td>\\n      <td>guyot</td>\\n    </tr>\\n    <tr>\\n      <th>11</th>\\n      <td>ENVO:00000464</td>\\n      <td>artificial harbor</td>\\n    </tr>\\n    <tr>\\n      <th>12</th>\\n      <td>ENVO:00000407</td>\\n      <td>subglacial volcano</td>\\n    </tr>\\n    <tr>\\n      <th>13</th>\\n      <td>ENVO:00000530</td>\\n      <td>apron</td>\\n    </tr>\\n    <tr>\\n      <th>14</th>\\n      <td>ENVO:00005745</td>\\n      <td>allotment garden</td>\\n    </tr>\\n    <tr>\\n      <th>15</th>\\n      <td>ENVO:03501358</td>\\n      <td>processing line</td>\\n    </tr>\\n    <tr>\\n      <th>16</th>\\n      <td>ENVO:00000064</td>\\n      <td>road</td>\\n    </tr>\\n    <tr>\\n      <th>17</th>\\n      <td>ENVO:01001071</td>\\n      <td>impact crater</td>\\n    </tr>\\n    <tr>\\n      <th>18</th>\\n      <td>ENVO:01000413</td>\\n      <td>old plant</td>\\n    </tr>\\n    <tr>\\n      <th>19</th>\\n      <td>ENVO:01000348</td>\\n      <td>maize field</td>\\n    </tr>\\n    <tr>\\n      <th>20</th>\\n      <td>ENVO:01000450</td>\\n      <td>salt glacier</td>\\n    </tr>\\n    <tr>\\n      <th>21</th>\\n      <td>ENVO:03500002</td>\\n      <td>public park</td>\\n    </tr>\\n    <tr>\\n      <th>22</th>\\n      <td>ENVO:00000391</td>\\n      <td>land bridge</td>\\n    </tr>\\n    <tr>\\n      <th>23</th>\\n      <td>ENVO:01000443</td>\\n      <td>salt mass</td>\\n    </tr>\\n    <tr>\\n      <th>24</th>\\n      <td>ENVO:00000436</td>\\n      <td>tunnel valley</td>\\n    </tr>\\n    <tr>\\n      <th>25</th>\\n      <td>ENVO:00010625</td>\\n      <td>zoological garden</td>\\n    </tr>\\n    <tr>\\n      <th>26</th>\\n      <td>ENVO:00000432</td>\\n      <td>monadnock</td>\\n    </tr>\\n    <tr>\\n      <th>27</th>\\n      <td>ENVO:01000002</td>\\n      <td>water well</td>\\n    </tr>\\n    <tr>\\n      <th>28</th>\\n      <td>ENVO:01000275</td>\\n      <td>structural basin</td>\\n    </tr>\\n    <tr>\\n      <th>29</th>\\n      <td>ENVO:03501244</td>\\n      <td>Bailey bridge</td>\\n    </tr>\\n    <tr>\\n      <th>30</th>\\n      <td>ENVO:03600087</td>\\n      <td>greenhouse</td>\\n    </tr>\\n    <tr>\\n      <th>31</th>\\n      <td>ENVO:01000440</td>\\n      <td>dacitic volcano</td>\\n    </tr>\\n    <tr>\\n      <th>32</th>\\n      <td>ENVO:03600033</td>\\n      <td>residential backyard</td>\\n    </tr>\\n    <tr>\\n      <th>33</th>\\n      <td>ENVO:00000245</td>\\n      <td>maar</td>\\n    </tr>\\n    <tr>\\n      <th>34</th>\\n      <td>ENVO:03501238</td>\\n      <td>hillock</td>\\n    </tr>\\n    <tr>\\n      <th>35</th>\\n      <td>ENVO:03501249</td>\\n      <td>suspension bridge</td>\\n    </tr>\\n    <tr>\\n      <th>36</th>\\n      <td>ENVO:00000311</td>\\n      <td>kettle</td>\\n    </tr>\\n    <tr>\\n      <th>37</th>\\n      <td>ENVO:00000555</td>\\n      <td>check dam</td>\\n    </tr>\\n    <tr>\\n      <th>38</th>\\n      <td>ENVO:01000736</td>\\n      <td>phacolith</td>\\n    </tr>\\n    <tr>\\n      <th>39</th>\\n      <td>ENVO:00000247</td>\\n      <td>volcano</td>\\n    </tr>\\n    <tr>\\n      <th>40</th>\\n      <td>ENVO:01000522</td>\\n      <td>latrine pit</td>\\n    </tr>\\n    <tr>\\n      <th>41</th>\\n      <td>ENVO:01001538</td>\\n      <td>frost-formed hummock</td>\\n    </tr>\\n    <tr>\\n      <th>42</th>\\n      <td>ENVO:00000478</td>\\n      <td>range of mounts</td>\\n    </tr>\\n    <tr>\\n      <th>43</th>\\n      <td>ENVO:02000157</td>\\n      <td>municipal landfill</td>\\n    </tr>\\n    <tr>\\n      <th>44</th>\\n      <td>ENVO:00000289</td>\\n      <td>horst</td>\\n    </tr>\\n    <tr>\\n      <th>45</th>\\n      <td>ENVO:00000413</td>\\n      <td>pingo</td>\\n    </tr>\\n    <tr>\\n      <th>46</th>\\n      <td>ENVO:00000468</td>\\n      <td>hydroelectric dam</td>\\n    </tr>\\n    <tr>\\n      <th>47</th>\\n      <td>ENVO:00000421</td>\\n      <td>wave-cut platform</td>\\n    </tr>\\n    <tr>\\n      <th>48</th>\\n      <td>ENVO:00000438</td>\\n      <td>alas</td>\\n    </tr>\\n    <tr>\\n      <th>49</th>\\n      <td>ENVO:01000649</td>\\n      <td>trench</td>\\n    </tr>\\n    <tr>\\n      <th>50</th>\\n      <td>ENVO:00002185</td>\\n      <td>oil reservoir</td>\\n    </tr>\\n    <tr>\\n      <th>51</th>\\n      <td>ENVO:00000046</td>\\n      <td>hedge</td>\\n    </tr>\\n    <tr>\\n      <th>52</th>\\n      <td>ENVO:03600039</td>\\n      <td>fermentation pit</td>\\n    </tr>\\n    <tr>\\n      <th>53</th>\\n      <td>ENVO:01000360</td>\\n      <td>solutional cave</td>\\n    </tr>\\n    <tr>\\n      <th>54</th>\\n      <td>ENVO:01001481</td>\\n      <td>public prison</td>\\n    </tr>\\n    <tr>\\n      <th>55</th>\\n      <td>ENVO:03600020</td>\\n      <td>tailings dam</td>\\n    </tr>\\n    <tr>\\n      <th>56</th>\\n      <td>ENVO:01000468</td>\\n      <td>fence</td>\\n    </tr>\\n    <tr>\\n      <th>57</th>\\n      <td>ENVO:01000424</td>\\n      <td>patio</td>\\n    </tr>\\n    <tr>\\n      <th>58</th>\\n      <td>ENVO:02000133</td>\\n      <td>nuclear reactor</td>\\n    </tr>\\n    <tr>\\n      <th>59</th>\\n      <td>ENVO:00000127</td>\\n      <td>badland</td>\\n    </tr>\\n    <tr>\\n      <th>60</th>\\n      <td>ENVO:00000335</td>\\n      <td>polygonal karst</td>\\n    </tr>\\n    <tr>\\n      <th>61</th>\\n      <td>ENVO:00000257</td>\\n      <td>flood fringe</td>\\n    </tr>\\n    <tr>\\n      <th>62</th>\\n      <td>ENVO:03600068</td>\\n      <td>ice wedge</td>\\n    </tr>\\n    <tr>\\n      <th>63</th>\\n      <td>ENVO:03500004</td>\\n      <td>bike path</td>\\n    </tr>\\n    <tr>\\n      <th>64</th>\\n      <td>ENVO:02000143</td>\\n      <td>sugar refinery</td>\\n    </tr>\\n    <tr>\\n      <th>65</th>\\n      <td>ENVO:00000304</td>\\n      <td>shore</td>\\n    </tr>\\n    <tr>\\n      <th>66</th>\\n      <td>ENVO:02000135</td>\\n      <td>fast neutron reactor</td>\\n    </tr>\\n    <tr>\\n      <th>67</th>\\n      <td>ENVO:00000081</td>\\n      <td>mountain</td>\\n    </tr>\\n    <tr>\\n      <th>68</th>\\n      <td>ENVO:01001873</td>\\n      <td>hatchery</td>\\n    </tr>\\n    <tr>\\n      <th>69</th>\\n      <td>ENVO:01000333</td>\\n      <td>hillside</td>\\n    </tr>\\n    <tr>\\n      <th>70</th>\\n      <td>ENVO:03501351</td>\\n      <td>ground transport</td>\\n    </tr>\\n    <tr>\\n      <th>71</th>\\n      <td>ENVO:00000082</td>\\n      <td>hill range</td>\\n    </tr>\\n    <tr>\\n      <th>72</th>\\n      <td>ENVO:00000066</td>\\n      <td>man-made tunnel</td>\\n    </tr>\\n    <tr>\\n      <th>73</th>\\n      <td>ENVO:00009726</td>\\n      <td>strand crack</td>\\n    </tr>\\n    <tr>\\n      <th>74</th>\\n      <td>ENVO:00000011</td>\\n      <td>garden</td>\\n    </tr>\\n    <tr>\\n      <th>75</th>\\n      <td>ENVO:00000560</td>\\n      <td>nuclear weapons test site</td>\\n    </tr>\\n    <tr>\\n      <th>76</th>\\n      <td>ENVO:00000071</td>\\n      <td>fault cave</td>\\n    </tr>\\n    <tr>\\n      <th>77</th>\\n      <td>ENVO:06105012</td>\\n      <td>biota</td>\\n    </tr>\\n    <tr>\\n      <th>78</th>\\n      <td>ENVO:01000632</td>\\n      <td>chonolith</td>\\n    </tr>\\n    <tr>\\n      <th>79</th>\\n      <td>ENVO:03600032</td>\\n      <td>embankment dam</td>\\n    </tr>\\n    <tr>\\n      <th>80</th>\\n      <td>ENVO:00000096</td>\\n      <td>caldera</td>\\n    </tr>\\n    <tr>\\n      <th>81</th>\\n      <td>ENVO:00000357</td>\\n      <td>lock</td>\\n    </tr>\\n    <tr>\\n      <th>82</th>\\n      <td>ENVO:00002061</td>\\n      <td>oil spill</td>\\n    </tr>\\n    <tr>\\n      <th>83</th>\\n      <td>ENVO:00000250</td>\\n      <td>medial moraine</td>\\n    </tr>\\n    <tr>\\n      <th>84</th>\\n      <td>ENVO:01000364</td>\\n      <td>glacier cave</td>\\n    </tr>\\n    <tr>\\n      <th>85</th>\\n      <td>ENVO:00000068</td>\\n      <td>tunnel</td>\\n    </tr>\\n    <tr>\\n      <th>86</th>\\n      <td>ENVO:00000076</td>\\n      <td>mine</td>\\n    </tr>\\n    <tr>\\n      <th>87</th>\\n      <td>ENVO:00000075</td>\\n      <td>bridge</td>\\n    </tr>\\n    <tr>\\n      <th>88</th>\\n      <td>ENVO:00000284</td>\\n      <td>quarry</td>\\n    </tr>\\n    <tr>\\n      <th>89</th>\\n      <td>ENVO:00000481</td>\\n      <td>pinnacle</td>\\n    </tr>\\n    <tr>\\n      <th>90</th>\\n      <td>ENVO:01000352</td>\\n      <td>field</td>\\n    </tr>\\n    <tr>\\n      <th>91</th>\\n      <td>ENVO:00000526</td>\\n      <td>cliff cleft</td>\\n    </tr>\\n    <tr>\\n      <th>92</th>\\n      <td>ENVO:00000561</td>\\n      <td>military training area</td>\\n    </tr>\\n    <tr>\\n      <th>93</th>\\n      <td>ENVO:00000371</td>\\n      <td>complex volcano</td>\\n    </tr>\\n    <tr>\\n      <th>94</th>\\n      <td>ENVO:00000181</td>\\n      <td>nunatak</td>\\n    </tr>\\n    <tr>\\n      <th>95</th>\\n      <td>ENVO:01000466</td>\\n      <td>boundary wall</td>\\n    </tr>\\n    <tr>\\n      <th>96</th>\\n      <td>ENVO:00000499</td>\\n      <td>trough</td>\\n    </tr>\\n    <tr>\\n      <th>97</th>\\n      <td>ENVO:03600076</td>\\n      <td>waste stabilization pond</td>\\n    </tr>\\n    <tr>\\n      <th>98</th>\\n      <td>ENVO:01001280</td>\\n      <td>driveway</td>\\n    </tr>\\n    <tr>\\n      <th>99</th>\\n      <td>ENVO:01000446</td>\\n      <td>ravine</td>\\n    </tr>\\n    <tr>\\n      <th>100</th>\\n      <td>ENVO:00000084</td>\\n      <td>mountain pass</td>\\n    </tr>\\n    <tr>\\n      <th>101</th>\\n      <td>ENVO:01000805</td>\\n      <td>globular star cluster</td>\\n    </tr>\\n    <tr>\\n      <th>102</th>\\n      <td>ENVO:01001851</td>\\n      <td>geothermally active field</td>\\n    </tr>\\n    <tr>\\n      <th>103</th>\\n      <td>ENVO:00000554</td>\\n      <td>saddle dam</td>\\n    </tr>\\n    <tr>\\n      <th>104</th>\\n      <td>ENVO:01000659</td>\\n      <td>igneous intrusion</td>\\n    </tr>\\n    <tr>\\n      <th>105</th>\\n      <td>ENVO:00000255</td>\\n      <td>flood plain</td>\\n    </tr>\\n    <tr>\\n      <th>106</th>\\n      <td>ENVO:00000551</td>\\n      <td>endorheic basin</td>\\n    </tr>\\n    <tr>\\n      <th>107</th>\\n      <td>ENVO:00000030</td>\\n      <td>dead cave</td>\\n    </tr>\\n    <tr>\\n      <th>108</th>\\n      <td>ENVO:00000254</td>\\n      <td>till plain</td>\\n    </tr>\\n    <tr>\\n      <th>109</th>\\n      <td>ENVO:00000370</td>\\n      <td>tuya</td>\\n    </tr>\\n    <tr>\\n      <th>110</th>\\n      <td>ENVO:03600063</td>\\n      <td>tube well</td>\\n    </tr>\\n    <tr>\\n      <th>111</th>\\n      <td>ENVO:01000907</td>\\n      <td>feasting pit site</td>\\n    </tr>\\n    <tr>\\n      <th>112</th>\\n      <td>ENVO:00000258</td>\\n      <td>alluvial plain</td>\\n    </tr>\\n    <tr>\\n      <th>113</th>\\n      <td>ENVO:01000966</td>\\n      <td>private swimming pool</td>\\n    </tr>\\n    <tr>\\n      <th>114</th>\\n      <td>ENVO:00000282</td>\\n      <td>esker</td>\\n    </tr>\\n    <tr>\\n      <th>115</th>\\n      <td>ENVO:00000065</td>\\n      <td>railway</td>\\n    </tr>\\n    <tr>\\n      <th>116</th>\\n      <td>ENVO:01000498</td>\\n      <td>pole</td>\\n    </tr>\\n    <tr>\\n      <th>117</th>\\n      <td>ENVO:00000474</td>\\n      <td>cut</td>\\n    </tr>\\n    <tr>\\n      <th>118</th>\\n      <td>ENVO:00000291</td>\\n      <td>drainage basin</td>\\n    </tr>\\n    <tr>\\n      <th>119</th>\\n      <td>ENVO:00000404</td>\\n      <td>stratovolcano</td>\\n    </tr>\\n    <tr>\\n      <th>120</th>\\n      <td>ENVO:02000142</td>\\n      <td>petroleum oil refinery</td>\\n    </tr>\\n    <tr>\\n      <th>121</th>\\n      <td>ENVO:00000080</td>\\n      <td>mountain range</td>\\n    </tr>\\n    <tr>\\n      <th>122</th>\\n      <td>ENVO:00000067</td>\\n      <td>cave</td>\\n    </tr>\\n    <tr>\\n      <th>123</th>\\n      <td>ENVO:01001775</td>\\n      <td>blind thrust fault</td>\\n    </tr>\\n    <tr>\\n      <th>124</th>\\n      <td>ENVO:03501365</td>\\n      <td>bucket conveyor</td>\\n    </tr>\\n    <tr>\\n      <th>125</th>\\n      <td>ENVO:03501212</td>\\n      <td>handrail</td>\\n    </tr>\\n    <tr>\\n      <th>126</th>\\n      <td>ENVO:01000673</td>\\n      <td>shear fracture</td>\\n    </tr>\\n    <tr>\\n      <th>127</th>\\n      <td>ENVO:00000460</td>\\n      <td>penplain</td>\\n    </tr>\\n    <tr>\\n      <th>128</th>\\n      <td>ENVO:00000473</td>\\n      <td>gravel pit</td>\\n    </tr>\\n    <tr>\\n      <th>129</th>\\n      <td>ENVO:01000780</td>\\n      <td>public road</td>\\n    </tr>\\n    <tr>\\n      <th>130</th>\\n      <td>ENVO:00000553</td>\\n      <td>multipurpose dam</td>\\n    </tr>\\n    <tr>\\n      <th>131</th>\\n      <td>ENVO:03501246</td>\\n      <td>footbridge</td>\\n    </tr>\\n    <tr>\\n      <th>132</th>\\n      <td>ENVO:00000477</td>\\n      <td>mount</td>\\n    </tr>\\n    <tr>\\n      <th>133</th>\\n      <td>ENVO:00000543</td>\\n      <td>swale</td>\\n    </tr>\\n    <tr>\\n      <th>134</th>\\n      <td>ENVO:01001854</td>\\n      <td>hydrothermal field</td>\\n    </tr>\\n    <tr>\\n      <th>135</th>\\n      <td>ENVO:00012411</td>\\n      <td>karst cave</td>\\n    </tr>\\n    <tr>\\n      <th>136</th>\\n      <td>ENVO:01000319</td>\\n      <td>rocky slope</td>\\n    </tr>\\n    <tr>\\n      <th>137</th>\\n      <td>ENVO:00000028</td>\\n      <td>sand pit quarry</td>\\n    </tr>\\n    <tr>\\n      <th>138</th>\\n      <td>ENVO:00000400</td>\\n      <td>cinder cone</td>\\n    </tr>\\n    <tr>\\n      <th>139</th>\\n      <td>ENVO:06105106</td>\\n      <td>plastisphere</td>\\n    </tr>\\n    <tr>\\n      <th>140</th>\\n      <td>ENVO:03500003</td>\\n      <td>public sports field</td>\\n    </tr>\\n    <tr>\\n      <th>141</th>\\n      <td>ENVO:03600062</td>\\n      <td>fountain</td>\\n    </tr>\\n    <tr>\\n      <th>142</th>\\n      <td>ENVO:00000286</td>\\n      <td>polder</td>\\n    </tr>\\n    <tr>\\n      <th>143</th>\\n      <td>ENVO:01000733</td>\\n      <td>stock</td>\\n    </tr>\\n    <tr>\\n      <th>144</th>\\n      <td>ENVO:01000968</td>\\n      <td>water intake</td>\\n    </tr>\\n    <tr>\\n      <th>145</th>\\n      <td>ENVO:00000259</td>\\n      <td>lacustrine plain</td>\\n    </tr>\\n    <tr>\\n      <th>146</th>\\n      <td>ENVO:01001568</td>\\n      <td>frost heave</td>\\n    </tr>\\n    <tr>\\n      <th>147</th>\\n      <td>ENVO:03501355</td>\\n      <td>public-private prison</td>\\n    </tr>\\n    <tr>\\n      <th>148</th>\\n      <td>ENVO:02000093</td>\\n      <td>uranium mine</td>\\n    </tr>\\n    <tr>\\n      <th>149</th>\\n      <td>ENVO:03501239</td>\\n      <td>riverfront</td>\\n    </tr>\\n    <tr>\\n      <th>150</th>\\n      <td>ENVO:00000157</td>\\n      <td>peat cut</td>\\n    </tr>\\n    <tr>\\n      <th>151</th>\\n      <td>ENVO:03600083</td>\\n      <td>mofetta</td>\\n    </tr>\\n    <tr>\\n      <th>152</th>\\n      <td>ENVO:03600031</td>\\n      <td>earth-filled dam</td>\\n    </tr>\\n    <tr>\\n      <th>153</th>\\n      <td>ENVO:00000295</td>\\n      <td>fish hatchery</td>\\n    </tr>\\n    <tr>\\n      <th>154</th>\\n      <td>ENVO:00000184</td>\\n      <td>hanging valley</td>\\n    </tr>\\n    <tr>\\n      <th>155</th>\\n      <td>ENVO:00000321</td>\\n      <td>joint-plane cave</td>\\n    </tr>\\n    <tr>\\n      <th>156</th>\\n      <td>ENVO:01000943</td>\\n      <td>vegetated hill</td>\\n    </tr>\\n    <tr>\\n      <th>157</th>\\n      <td>ENVO:00000110</td>\\n      <td>lava tunnel</td>\\n    </tr>\\n    <tr>\\n      <th>158</th>\\n      <td>ENVO:00000542</td>\\n      <td>kame</td>\\n    </tr>\\n    <tr>\\n      <th>159</th>\\n      <td>ENVO:01000664</td>\\n      <td>tuff cone</td>\\n    </tr>\\n    <tr>\\n      <th>160</th>\\n      <td>ENVO:00000559</td>\\n      <td>weapons test site</td>\\n    </tr>\\n    <tr>\\n      <th>161</th>\\n      <td>ENVO:00000171</td>\\n      <td>river valley</td>\\n    </tr>\\n    <tr>\\n      <th>162</th>\\n      <td>ENVO:03000132</td>\\n      <td>firebreak</td>\\n    </tr>\\n    <tr>\\n      <th>163</th>\\n      <td>ENVO:00000312</td>\\n      <td>sandur</td>\\n    </tr>\\n    <tr>\\n      <th>164</th>\\n      <td>ENVO:01000429</td>\\n      <td>burrow</td>\\n    </tr>\\n    <tr>\\n      <th>165</th>\\n      <td>ENVO:02000110</td>\\n      <td>open-pit mine</td>\\n    </tr>\\n    <tr>\\n      <th>166</th>\\n      <td>ENVO:00000180</td>\\n      <td>mound</td>\\n    </tr>\\n    <tr>\\n      <th>167</th>\\n      <td>ENVO:03501198</td>\\n      <td>wet market</td>\\n    </tr>\\n    <tr>\\n      <th>168</th>\\n      <td>ENVO:01000361</td>\\n      <td>primary cave</td>\\n    </tr>\\n    <tr>\\n      <th>169</th>\\n      <td>ENVO:00000419</td>\\n      <td>stack</td>\\n    </tr>\\n    <tr>\\n      <th>170</th>\\n      <td>ENVO:00000251</td>\\n      <td>ground moraine</td>\\n    </tr>\\n    <tr>\\n      <th>171</th>\\n      <td>ENVO:00000520</td>\\n      <td>landslide</td>\\n    </tr>\\n    <tr>\\n      <th>172</th>\\n      <td>ENVO:00000430</td>\\n      <td>dirt cone</td>\\n    </tr>\\n    <tr>\\n      <th>173</th>\\n      <td>ENVO:00002205</td>\\n      <td>unexploded-ordnance dump</td>\\n    </tr>\\n    <tr>\\n      <th>174</th>\\n      <td>ENVO:02000137</td>\\n      <td>nuclear power reactor</td>\\n    </tr>\\n    <tr>\\n      <th>175</th>\\n      <td>ENVO:00000249</td>\\n      <td>lateral moraine</td>\\n    </tr>\\n    <tr>\\n      <th>176</th>\\n      <td>ENVO:00000086</td>\\n      <td>plain</td>\\n    </tr>\\n    <tr>\\n      <th>177</th>\\n      <td>ENVO:00000381</td>\\n      <td>massif</td>\\n    </tr>\\n    <tr>\\n      <th>178</th>\\n      <td>ENVO:01000671</td>\\n      <td>dike</td>\\n    </tr>\\n    <tr>\\n      <th>179</th>\\n      <td>ENVO:00000433</td>\\n      <td>kame terrace</td>\\n    </tr>\\n    <tr>\\n      <th>180</th>\\n      <td>ENVO:03501366</td>\\n      <td>screw conveyor</td>\\n    </tr>\\n    <tr>\\n      <th>181</th>\\n      <td>ENVO:01000987</td>\\n      <td>market</td>\\n    </tr>\\n    <tr>\\n      <th>182</th>\\n      <td>ENVO:00000441</td>\\n      <td>terracette</td>\\n    </tr>\\n    <tr>\\n      <th>183</th>\\n      <td>ENVO:00000535</td>\\n      <td>weir</td>\\n    </tr>\\n    <tr>\\n      <th>184</th>\\n      <td>ENVO:00000522</td>\\n      <td>canal tunnel</td>\\n    </tr>\\n    <tr>\\n      <th>185</th>\\n      <td>ENVO:03600021</td>\\n      <td>tailings pond</td>\\n    </tr>\\n    <tr>\\n      <th>186</th>\\n      <td>ENVO:00000217</td>\\n      <td>solfatara</td>\\n    </tr>\\n    <tr>\\n      <th>187</th>\\n      <td>ENVO:00000128</td>\\n      <td>dry valley</td>\\n    </tr>\\n    <tr>\\n      <th>188</th>\\n      <td>ENVO:01000363</td>\\n      <td>erosional cave</td>\\n    </tr>\\n    <tr>\\n      <th>189</th>\\n      <td>ENVO:00000437</td>\\n      <td>Nye channel</td>\\n    </tr>\\n    <tr>\\n      <th>190</th>\\n      <td>ENVO:01000807</td>\\n      <td>galaxy</td>\\n    </tr>\\n    <tr>\\n      <th>191</th>\\n      <td>ENVO:01000437</td>\\n      <td>lava field</td>\\n    </tr>\\n    <tr>\\n      <th>192</th>\\n      <td>ENVO:00000537</td>\\n      <td>boulder field</td>\\n    </tr>\\n    <tr>\\n      <th>193</th>\\n      <td>ENVO:00000440</td>\\n      <td>rock shelter</td>\\n    </tr>\\n    <tr>\\n      <th>194</th>\\n      <td>ENVO:00000177</td>\\n      <td>moraine</td>\\n    </tr>\\n    <tr>\\n      <th>195</th>\\n      <td>ENVO:00000401</td>\\n      <td>spatter cone</td>\\n    </tr>\\n    <tr>\\n      <th>196</th>\\n      <td>ENVO:00002169</td>\\n      <td>coal mine</td>\\n    </tr>\\n    <tr>\\n      <th>197</th>\\n      <td>ENVO:00000463</td>\\n      <td>harbour</td>\\n    </tr>\\n    <tr>\\n      <th>198</th>\\n      <td>ENVO:00000562</td>\\n      <td>park</td>\\n    </tr>\\n    <tr>\\n      <th>199</th>\\n      <td>ENVO:00000293</td>\\n      <td>continental divide</td>\\n    </tr>\\n    <tr>\\n      <th>200</th>\\n      <td>ENVO:03501282</td>\\n      <td>hangar</td>\\n    </tr>\\n    <tr>\\n      <th>201</th>\\n      <td>ENVO:03501336</td>\\n      <td>place of worship</td>\\n    </tr>\\n    <tr>\\n      <th>202</th>\\n      <td>ENVO:03600093</td>\\n      <td>artificial satellite</td>\\n    </tr>\\n    <tr>\\n      <th>203</th>\\n      <td>ENVO:00000089</td>\\n      <td>inland cliff</td>\\n    </tr>\\n    <tr>\\n      <th>204</th>\\n      <td>ENVO:00002168</td>\\n      <td>gold mine</td>\\n    </tr>\\n    <tr>\\n      <th>205</th>\\n      <td>ENVO:01000967</td>\\n      <td>public swimming pool</td>\\n    </tr>\\n    <tr>\\n      <th>206</th>\\n      <td>ENVO:00000323</td>\\n      <td>live cave</td>\\n    </tr>\\n    <tr>\\n      <th>207</th>\\n      <td>ENVO:03600014</td>\\n      <td>pipeline network</td>\\n    </tr>\\n    <tr>\\n      <th>208</th>\\n      <td>ENVO:00010442</td>\\n      <td>midden</td>\\n    </tr>\\n    <tr>\\n      <th>209</th>\\n      <td>ENVO:03501309</td>\\n      <td>booth</td>\\n    </tr>\\n    <tr>\\n      <th>210</th>\\n      <td>ENVO:00000545</td>\\n      <td>shingle beach</td>\\n    </tr>\\n    <tr>\\n      <th>211</th>\\n      <td>ENVO:03000117</td>\\n      <td>channel</td>\\n    </tr>\\n    <tr>\\n      <th>212</th>\\n      <td>ENVO:01000419</td>\\n      <td>domestic garden</td>\\n    </tr>\\n    <tr>\\n      <th>213</th>\\n      <td>ENVO:00000350</td>\\n      <td>somma volcano</td>\\n    </tr>\\n    <tr>\\n      <th>214</th>\\n      <td>ENVO:00000195</td>\\n      <td>sinkhole</td>\\n    </tr>\\n    <tr>\\n      <th>215</th>\\n      <td>ENVO:00000325</td>\\n      <td>polje</td>\\n    </tr>\\n    <tr>\\n      <th>216</th>\\n      <td>ENVO:01001281</td>\\n      <td>paved parking lot</td>\\n    </tr>\\n    <tr>\\n      <th>217</th>\\n      <td>ENVO:00000280</td>\\n      <td>escarpment</td>\\n    </tr>\\n    <tr>\\n      <th>218</th>\\n      <td>ENVO:00010358</td>\\n      <td>fomite</td>\\n    </tr>\\n    <tr>\\n      <th>219</th>\\n      <td>ENVO:00000514</td>\\n      <td>crater</td>\\n    </tr>\\n    <tr>\\n      <th>220</th>\\n      <td>ENVO:0010162</td>\\n      <td>dry stream valley</td>\\n    </tr>\\n    <tr>\\n      <th>221</th>\\n      <td>ENVO:00000248</td>\\n      <td>glacial valley</td>\\n    </tr>\\n    <tr>\\n      <th>222</th>\\n      <td>ENVO:01000732</td>\\n      <td>clastic dike</td>\\n    </tr>\\n    <tr>\\n      <th>223</th>\\n      <td>ENVO:01001104</td>\\n      <td>rift zone</td>\\n    </tr>\\n    <tr>\\n      <th>224</th>\\n      <td>ENVO:01000365</td>\\n      <td>ice cave</td>\\n    </tr>\\n    <tr>\\n      <th>225</th>\\n      <td>ENVO:00000290</td>\\n      <td>graben</td>\\n    </tr>\\n    <tr>\\n      <th>226</th>\\n      <td>ENVO:00004683</td>\\n      <td>karst field</td>\\n    </tr>\\n    <tr>\\n      <th>227</th>\\n      <td>ENVO:06105110</td>\\n      <td>manufactured plastisphere</td>\\n    </tr>\\n    <tr>\\n      <th>228</th>\\n      <td>ENVO:01000302</td>\\n      <td>outcrop</td>\\n    </tr>\\n    <tr>\\n      <th>229</th>\\n      <td>ENVO:03501247</td>\\n      <td>humpback bridge</td>\\n    </tr>\\n    <tr>\\n      <th>230</th>\\n      <td>ENVO:03501248</td>\\n      <td>overpass</td>\\n    </tr>\\n    <tr>\\n      <th>231</th>\\n      <td>ENVO:01000525</td>\\n      <td>rock intrusion</td>\\n    </tr>\\n    <tr>\\n      <th>232</th>\\n      <td>ENVO:01000278</td>\\n      <td>pingo scar</td>\\n    </tr>\\n    <tr>\\n      <th>233</th>\\n      <td>ENVO:01000935</td>\\n      <td>campground</td>\\n    </tr>\\n    <tr>\\n      <th>234</th>\\n      <td>ENVO:00000122</td>\\n      <td>track</td>\\n    </tr>\\n    <tr>\\n      <th>235</th>\\n      <td>ENVO:00000556</td>\\n      <td>wing dam</td>\\n    </tr>\\n    <tr>\\n      <th>236</th>\\n      <td>ENVO:00000308</td>\\n      <td>dune slack</td>\\n    </tr>\\n    <tr>\\n      <th>237</th>\\n      <td>ENVO:00000402</td>\\n      <td>mud volcano</td>\\n    </tr>\\n    <tr>\\n      <th>238</th>\\n      <td>ENVO:01000367</td>\\n      <td>anchialine cave</td>\\n    </tr>\\n    <tr>\\n      <th>239</th>\\n      <td>ENVO:03600053</td>\\n      <td>yard</td>\\n    </tr>\\n    <tr>\\n      <th>240</th>\\n      <td>ENVO:03000143</td>\\n      <td>cryosphere</td>\\n    </tr>\\n    <tr>\\n      <th>241</th>\\n      <td>ENVO:00000313</td>\\n      <td>blowout</td>\\n    </tr>\\n    <tr>\\n      <th>242</th>\\n      <td>ENVO:01000369</td>\\n      <td>vadose cave</td>\\n    </tr>\\n    <tr>\\n      <th>243</th>\\n      <td>ENVO:00000216</td>\\n      <td>fumarole</td>\\n    </tr>\\n    <tr>\\n      <th>244</th>\\n      <td>ENVO:00000470</td>\\n      <td>irrigation dam</td>\\n    </tr>\\n    <tr>\\n      <th>245</th>\\n      <td>ENVO:01001489</td>\\n      <td>spur</td>\\n    </tr>\\n    <tr>\\n      <th>246</th>\\n      <td>ENVO:03501367</td>\\n      <td>pneumatic conveyor</td>\\n    </tr>\\n    <tr>\\n      <th>247</th>\\n      <td>ENVO:02000134</td>\\n      <td>thermal nuclear reactor</td>\\n    </tr>\\n    <tr>\\n      <th>248</th>\\n      <td>ENVO:00000252</td>\\n      <td>terminal moraine</td>\\n    </tr>\\n    <tr>\\n      <th>249</th>\\n      <td>ENVO:00000439</td>\\n      <td>dell</td>\\n    </tr>\\n    <tr>\\n      <th>250</th>\\n      <td>ENVO:01001173</td>\\n      <td>sacred site</td>\\n    </tr>\\n    <tr>\\n      <th>251</th>\\n      <td>ENVO:00000333</td>\\n      <td>subjacent karst</td>\\n    </tr>\\n    <tr>\\n      <th>252</th>\\n      <td>ENVO:01000983</td>\\n      <td>technosphere</td>\\n    </tr>\\n    <tr>\\n      <th>253</th>\\n      <td>ENVO:0010163</td>\\n      <td>dry river valley</td>\\n    </tr>\\n    <tr>\\n      <th>254</th>\\n      <td>ENVO:01000936</td>\\n      <td>dedicated campground</td>\\n    </tr>\\n    <tr>\\n      <th>255</th>\\n      <td>ENVO:01001357</td>\\n      <td>desert</td>\\n    </tr>\\n    <tr>\\n      <th>256</th>\\n      <td>ENVO:01000779</td>\\n      <td>public infrastructure</td>\\n    </tr>\\n    <tr>\\n      <th>257</th>\\n      <td>ENVO:00000292</td>\\n      <td>watershed</td>\\n    </tr>\\n    <tr>\\n      <th>258</th>\\n      <td>ENVO:00000527</td>\\n      <td>interfluve</td>\\n    </tr>\\n    <tr>\\n      <th>259</th>\\n      <td>ENVO:00000263</td>\\n      <td>fissure cave</td>\\n    </tr>\\n    <tr>\\n      <th>260</th>\\n      <td>ENVO:00000411</td>\\n      <td>ford</td>\\n    </tr>\\n    <tr>\\n      <th>261</th>\\n      <td>ENVO:00000276</td>\\n      <td>drumlin</td>\\n    </tr>\\n    <tr>\\n      <th>262</th>\\n      <td>ENVO:00000175</td>\\n      <td>karst</td>\\n    </tr>\\n    <tr>\\n      <th>263</th>\\n      <td>ENVO:03501122</td>\\n      <td>airport</td>\\n    </tr>\\n    <tr>\\n      <th>264</th>\\n      <td>ENVO:00000429</td>\\n      <td>arete</td>\\n    </tr>\\n    <tr>\\n      <th>265</th>\\n      <td>ENVO:01000820</td>\\n      <td>pedosphere</td>\\n    </tr>\\n    <tr>\\n      <th>266</th>\\n      <td>ENVO:00000557</td>\\n      <td>dry dam</td>\\n    </tr>\\n    <tr>\\n      <th>267</th>\\n      <td>ENVO:00000320</td>\\n      <td>crevasse</td>\\n    </tr>\\n    <tr>\\n      <th>268</th>\\n      <td>ENVO:00000521</td>\\n      <td>rockfall</td>\\n    </tr>\\n    <tr>\\n      <th>269</th>\\n      <td>ENVO:00000310</td>\\n      <td>meteor impact crater</td>\\n    </tr>\\n    <tr>\\n      <th>270</th>\\n      <td>ENVO:00000399</td>\\n      <td>ash cone</td>\\n    </tr>\\n    <tr>\\n      <th>271</th>\\n      <td>ENVO:01000414</td>\\n      <td>young plant</td>\\n    </tr>\\n    <tr>\\n      <th>272</th>\\n      <td>ENVO:01000734</td>\\n      <td>laccolith</td>\\n    </tr>\\n    <tr>\\n      <th>273</th>\\n      <td>ENVO:02000092</td>\\n      <td>iron mine</td>\\n    </tr>\\n    <tr>\\n      <th>274</th>\\n      <td>ENVO:01000674</td>\\n      <td>microfracture</td>\\n    </tr>\\n    <tr>\\n      <th>275</th>\\n      <td>ENVO:03501245</td>\\n      <td>drawbridge</td>\\n    </tr>\\n    <tr>\\n      <th>276</th>\\n      <td>ENVO:00000431</td>\\n      <td>drumlin field</td>\\n    </tr>\\n    <tr>\\n      <th>277</th>\\n      <td>ENVO:03600080</td>\\n      <td>industrial park</td>\\n    </tr>\\n    <tr>\\n      <th>278</th>\\n      <td>ENVO:03501250</td>\\n      <td>swing bridge</td>\\n    </tr>\\n    <tr>\\n      <th>279</th>\\n      <td>ENVO:00000418</td>\\n      <td>ria</td>\\n    </tr>\\n    <tr>\\n      <th>280</th>\\n      <td>ENVO:02000144</td>\\n      <td>natural gas processing plant</td>\\n    </tr>\\n    <tr>\\n      <th>281</th>\\n      <td>ENVO:03501281</td>\\n      <td>bowling alley</td>\\n    </tr>\\n    <tr>\\n      <th>282</th>\\n      <td>ENVO:01000003</td>\\n      <td>oil well</td>\\n    </tr>\\n    <tr>\\n      <th>283</th>\\n      <td>ENVO:00000155</td>\\n      <td>cirque</td>\\n    </tr>\\n    <tr>\\n      <th>284</th>\\n      <td>ENVO:00000031</td>\\n      <td>wadi</td>\\n    </tr>\\n    <tr>\\n      <th>285</th>\\n      <td>ENVO:01000332</td>\\n      <td>gravelly slope</td>\\n    </tr>\\n    <tr>\\n      <th>286</th>\\n      <td>ENVO:00000001</td>\\n      <td>bedding-plane cave</td>\\n    </tr>\\n    <tr>\\n      <th>287</th>\\n      <td>ENVO:03600061</td>\\n      <td>shipwreck</td>\\n    </tr>\\n    <tr>\\n      <th>288</th>\\n      <td>ENVO:01001665</td>\\n      <td>soil cryoturbate</td>\\n    </tr>\\n    <tr>\\n      <th>289</th>\\n      <td>ENVO:03501182</td>\\n      <td>clinic</td>\\n    </tr>\\n    <tr>\\n      <th>290</th>\\n      <td>ENVO:00000329</td>\\n      <td>phreatic zone</td>\\n    </tr>\\n    <tr>\\n      <th>291</th>\\n      <td>ENVO:00000529</td>\\n      <td>beach ridge</td>\\n    </tr>\\n    <tr>\\n      <th>292</th>\\n      <td>ENVO:00000277</td>\\n      <td>dry lake</td>\\n    </tr>\\n    <tr>\\n      <th>293</th>\\n      <td>ENVO:01000985</td>\\n      <td>fairground</td>\\n    </tr>\\n    <tr>\\n      <th>294</th>\\n      <td>ENVO:01000937</td>\\n      <td>impromptu campground</td>\\n    </tr>\\n    <tr>\\n      <th>295</th>\\n      <td>ENVO:00000336</td>\\n      <td>doline karst</td>\\n    </tr>\\n    <tr>\\n      <th>296</th>\\n      <td>ENVO:00000158</td>\\n      <td>causeway</td>\\n    </tr>\\n    <tr>\\n      <th>297</th>\\n      <td>ENVO:00000536</td>\\n      <td>moatan</td>\\n    </tr>\\n    <tr>\\n      <th>298</th>\\n      <td>ENVO:00002226</td>\\n      <td>borehole</td>\\n    </tr>\\n    <tr>\\n      <th>299</th>\\n      <td>ENVO:01000334</td>\\n      <td>talus slope</td>\\n    </tr>\\n    <tr>\\n      <th>300</th>\\n      <td>ENVO:01000362</td>\\n      <td>inflationary cave</td>\\n    </tr>\\n    <tr>\\n      <th>301</th>\\n      <td>ENVO:03501117</td>\\n      <td>transport hub</td>\\n    </tr>\\n    <tr>\\n      <th>302</th>\\n      <td>ENVO:01000670</td>\\n      <td>vein</td>\\n    </tr>\\n    <tr>\\n      <th>303</th>\\n      <td>ENVO:03600090</td>\\n      <td>alcohol fermentation pit</td>\\n    </tr>\\n    <tr>\\n      <th>304</th>\\n      <td>ENVO:00002199</td>\\n      <td>sandy beach</td>\\n    </tr>\\n    <tr>\\n      <th>305</th>\\n      <td>ENVO:01000526</td>\\n      <td>sedimentary intrusion</td>\\n    </tr>\\n    <tr>\\n      <th>306</th>\\n      <td>ENVO:03501199</td>\\n      <td>dry market</td>\\n    </tr>\\n    <tr>\\n      <th>307</th>\\n      <td>ENVO:00000083</td>\\n      <td>hill</td>\\n    </tr>\\n    <tr>\\n      <th>308</th>\\n      <td>ENVO:00000372</td>\\n      <td>pyroclastic shield volcano</td>\\n    </tr>\\n    <tr>\\n      <th>309</th>\\n      <td>ENVO:00000074</td>\\n      <td>dam</td>\\n    </tr>\\n    <tr>\\n      <th>310</th>\\n      <td>ENVO:00000253</td>\\n      <td>scroll plane</td>\\n    </tr>\\n    <tr>\\n      <th>311</th>\\n      <td>ENVO:00000496</td>\\n      <td>rill</td>\\n    </tr>\\n    <tr>\\n      <th>312</th>\\n      <td>ENVO:00000146</td>\\n      <td>snow field</td>\\n    </tr>\\n    <tr>\\n      <th>313</th>\\n      <td>ENVO:00000567</td>\\n      <td>calanque</td>\\n    </tr>\\n    <tr>\\n      <th>314</th>\\n      <td>ENVO:01000822</td>\\n      <td>planetary photic zone</td>\\n    </tr>\\n    <tr>\\n      <th>315</th>\\n      <td>ENVO:00000508</td>\\n      <td>terrace</td>\\n    </tr>\\n    <tr>\\n      <th>316</th>\\n      <td>ENVO:00000356</td>\\n      <td>pyroclastic cone</td>\\n    </tr>\\n    <tr>\\n      <th>317</th>\\n      <td>ENVO:00000091</td>\\n      <td>beach</td>\\n    </tr>\\n    <tr>\\n      <th>318</th>\\n      <td>ENVO:01001453</td>\\n      <td>terrestrial mountain</td>\\n    </tr>\\n    <tr>\\n      <th>319</th>\\n      <td>ENVO:00000087</td>\\n      <td>cliff</td>\\n    </tr>\\n    <tr>\\n      <th>320</th>\\n      <td>ENVO:01000737</td>\\n      <td>sill</td>\\n    </tr>\\n    <tr>\\n      <th>321</th>\\n      <td>ENVO:01000521</td>\\n      <td>batholith</td>\\n    </tr>\\n    <tr>\\n      <th>322</th>\\n      <td>ENVO:00000480</td>\\n      <td>peak</td>\\n    </tr>\\n    <tr>\\n      <th>323</th>\\n      <td>ENVO:00000516</td>\\n      <td>hummock</td>\\n    </tr>\\n    <tr>\\n      <th>324</th>\\n      <td>ENVO:00000410</td>\\n      <td>kipuka</td>\\n    </tr>\\n    <tr>\\n      <th>325</th>\\n      <td>ENVO:00000444</td>\\n      <td>woodland clearing</td>\\n    </tr>\\n    <tr>\\n      <th>326</th>\\n      <td>ENVO:00000390</td>\\n      <td>mountain spur</td>\\n    </tr>\\n    <tr>\\n      <th>327</th>\\n      <td>ENVO:00000129</td>\\n      <td>stream valley</td>\\n    </tr>\\n    <tr>\\n      <th>328</th>\\n      <td>ENVO:03600003</td>\\n      <td>drinking water pipeline network</td>\\n    </tr>\\n    <tr>\\n      <th>329</th>\\n      <td>ENVO:03600012</td>\\n      <td>oil pipeline network</td>\\n    </tr>\\n    <tr>\\n      <th>330</th>\\n      <td>ENVO:00000179</td>\\n      <td>mesa</td>\\n    </tr>\\n    <tr>\\n      <th>331</th>\\n      <td>ENVO:03600066</td>\\n      <td>halite</td>\\n    </tr>\\n    <tr>\\n      <th>332</th>\\n      <td>ENVO:01001279</td>\\n      <td>sidewalk</td>\\n    </tr>\\n    <tr>\\n      <th>333</th>\\n      <td>ENVO:00000563</td>\\n      <td>pier</td>\\n    </tr>\\n    <tr>\\n      <th>334</th>\\n      <td>ENVO:00000169</td>\\n      <td>canyon</td>\\n    </tr>\\n    <tr>\\n      <th>335</th>\\n      <td>ENVO:03000144</td>\\n      <td>planetary cryosphere</td>\\n    </tr>\\n    <tr>\\n      <th>336</th>\\n      <td>ENVO:00000297</td>\\n      <td>paddy field</td>\\n    </tr>\\n    <tr>\\n      <th>337</th>\\n      <td>ENVO:01001874</td>\\n      <td>poultry hatchery</td>\\n    </tr>\\n    <tr>\\n      <th>338</th>\\n      <td>ENVO:01000923</td>\\n      <td>petting zoo</td>\\n    </tr>\\n    <tr>\\n      <th>339</th>\\n      <td>ENVO:03501118</td>\\n      <td>public transport hub</td>\\n    </tr>\\n    <tr>\\n      <th>340</th>\\n      <td>ENVO:03501205</td>\\n      <td>private prison</td>\\n    </tr>\\n    <tr>\\n      <th>341</th>\\n      <td>ENVO:01000806</td>\\n      <td>nebula</td>\\n    </tr>\\n    <tr>\\n      <th>342</th>\\n      <td>ENVO:03600091</td>\\n      <td>clay fermentation pit</td>\\n    </tr>\\n    <tr>\\n      <th>343</th>\\n      <td>ENVO:01000439</td>\\n      <td>andesitic volcano</td>\\n    </tr>\\n    <tr>\\n      <th>344</th>\\n      <td>ENVO:00000422</td>\\n      <td>limestone pavement</td>\\n    </tr>\\n    <tr>\\n      <th>345</th>\\n      <td>ENVO:00002000</td>\\n      <td>slope</td>\\n    </tr>\\n    <tr>\\n      <th>346</th>\\n      <td>ENVO:01000366</td>\\n      <td>talus cave</td>\\n    </tr>\\n    <tr>\\n      <th>347</th>\\n      <td>ENVO:00000548</td>\\n      <td>gravel field</td>\\n    </tr>\\n    <tr>\\n      <th>348</th>\\n      <td>ENVO:00000287</td>\\n      <td>butte</td>\\n    </tr>\\n    <tr>\\n      <th>349</th>\\n      <td>ENVO:00000558</td>\\n      <td>diversionary dam</td>\\n    </tr>\\n    <tr>\\n      <th>350</th>\\n      <td>ENVO:00000283</td>\\n      <td>ridge</td>\\n    </tr>\\n    <tr>\\n      <th>351</th>\\n      <td>ENVO:01001490</td>\\n      <td>intrusion</td>\\n    </tr>\\n    <tr>\\n      <th>352</th>\\n      <td>ENVO:00000026</td>\\n      <td>well</td>\\n    </tr>\\n    <tr>\\n      <th>353</th>\\n      <td>ENVO:01001150</td>\\n      <td>protoplanetary disk</td>\\n    </tr>\\n    <tr>\\n      <th>354</th>\\n      <td>ENVO:01000505</td>\\n      <td>salt dome</td>\\n    </tr>\\n    <tr>\\n      <th>355</th>\\n      <td>ENVO:00000334</td>\\n      <td>syngenetic karst</td>\\n    </tr>\\n    <tr>\\n      <th>356</th>\\n      <td>ENVO:00000533</td>\\n      <td>landfill</td>\\n    </tr>\\n    <tr>\\n      <th>357</th>\\n      <td>ENVO:00002167</td>\\n      <td>platinum mine</td>\\n    </tr>\\n    <tr>\\n      <th>358</th>\\n      <td>ENVO:00000170</td>\\n      <td>dune</td>\\n    </tr>\\n    <tr>\\n      <th>359</th>\\n      <td>ENVO:03501255</td>\\n      <td>water trough</td>\\n    </tr>\\n    <tr>\\n      <th>360</th>\\n      <td>ENVO:00000174</td>\\n      <td>isthmus</td>\\n    </tr>\\n    <tr>\\n      <th>361</th>\\n      <td>ENVO:01001278</td>\\n      <td>concrete road</td>\\n    </tr>\\n    <tr>\\n      <th>362</th>\\n      <td>ENVO:00000244</td>\\n      <td>abyssal plain</td>\\n    </tr>\\n    <tr>\\n      <th>363</th>\\n      <td>ENVO:00000281</td>\\n      <td>fault escarpment</td>\\n    </tr>\\n    <tr>\\n      <th>364</th>\\n      <td>ENVO:01000735</td>\\n      <td>lopolith</td>\\n    </tr>\\n    <tr>\\n      <th>365</th>\\n      <td>ENVO:00000414</td>\\n      <td>natural arch</td>\\n    </tr>\\n    <tr>\\n      <th>366</th>\\n      <td>ENVO:00000465</td>\\n      <td>natural harbor</td>\\n    </tr>\\n    <tr>\\n      <th>367</th>\\n      <td>ENVO:03501338</td>\\n      <td>human nursery</td>\\n    </tr>\\n    <tr>\\n      <th>368</th>\\n      <td>ENVO:01001870</td>\\n      <td>gas well</td>\\n    </tr>\\n    <tr>\\n      <th>369</th>\\n      <td>ENVO:00000461</td>\\n      <td>pseudocrater</td>\\n    </tr>\\n    <tr>\\n      <th>370</th>\\n      <td>ENVO:00000256</td>\\n      <td>floodway</td>\\n    </tr>\\n    <tr>\\n      <th>371</th>\\n      <td>ENVO:00000515</td>\\n      <td>road cut</td>\\n    </tr>\\n    <tr>\\n      <th>372</th>\\n      <td>ENVO:01001871</td>\\n      <td>pit</td>\\n    </tr>\\n    <tr>\\n      <th>373</th>\\n      <td>ENVO:01000294</td>\\n      <td>crevice</td>\\n    </tr>\\n    <tr>\\n      <th>374</th>\\n      <td>ENVO:01000359</td>\\n      <td>limestone cave</td>\\n    </tr>\\n    <tr>\\n      <th>375</th>\\n      <td>ENVO:00000182</td>\\n      <td>plateau</td>\\n    </tr>\\n    <tr>\\n      <th>376</th>\\n      <td>ENVO:00000564</td>\\n      <td>archeological site</td>\\n    </tr>\\n    <tr>\\n      <th>377</th>\\n      <td>ENVO:02000141</td>\\n      <td>refinery</td>\\n    </tr>\\n    <tr>\\n      <th>378</th>\\n      <td>ENVO:00000471</td>\\n      <td>flood control dam</td>\\n    </tr>\\n    <tr>\\n      <th>379</th>\\n      <td>ENVO:00000434</td>\\n      <td>outwash fan</td>\\n    </tr>\\n    <tr>\\n      <th>380</th>\\n      <td>ENVO:01001491</td>\\n      <td>flattened elevation</td>\\n    </tr>\\n    <tr>\\n      <th>381</th>\\n      <td>ENVO:01000863</td>\\n      <td>overflow structure</td>\\n    </tr>\\n    <tr>\\n      <th>382</th>\\n      <td>ENVO:00000332</td>\\n      <td>doline</td>\\n    </tr>\\n    <tr>\\n      <th>383</th>\\n      <td>ENVO:00000417</td>\\n      <td>machair</td>\\n    </tr>\\n    <tr>\\n      <th>384</th>\\n      <td>ENVO:00000324</td>\\n      <td>outflow cave</td>\\n    </tr>\\n    <tr>\\n      <th>385</th>\\n      <td>ENVO:00000524</td>\\n      <td>abandoned watercourse</td>\\n    </tr>\\n  </tbody>\\n</table>'"
      ]
     },
     "execution_count": 25,
     "metadata": {},
     "output_type": "execute_result"
    }
   ],
   "execution_count": 25
  },
  {
   "metadata": {},
   "cell_type": "code",
   "outputs": [],
   "execution_count": null,
   "source": "",
   "id": "99621e934cafc942"
  },
  {
   "metadata": {},
   "cell_type": "code",
   "outputs": [],
   "execution_count": null,
   "source": "",
   "id": "674cc0e16f30c238"
  }
 ],
 "metadata": {
  "kernelspec": {
   "display_name": "Python 3",
   "language": "python",
   "name": "python3"
  },
  "language_info": {
   "codemirror_mode": {
    "name": "ipython",
    "version": 2
   },
   "file_extension": ".py",
   "mimetype": "text/x-python",
   "name": "python",
   "nbconvert_exporter": "python",
   "pygments_lexer": "ipython2",
   "version": "2.7.6"
  }
 },
 "nbformat": 4,
 "nbformat_minor": 5
}
