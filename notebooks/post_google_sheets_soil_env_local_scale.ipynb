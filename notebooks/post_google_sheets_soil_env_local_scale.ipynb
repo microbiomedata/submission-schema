{
 "cells": [
  {
   "cell_type": "code",
   "id": "initial_id",
   "metadata": {
    "collapsed": true,
    "ExecuteTime": {
     "end_time": "2024-11-05T02:02:01.723302Z",
     "start_time": "2024-11-05T02:01:58.979872Z"
    }
   },
   "source": [
    "from oaklib import get_adapter\n",
    "from oaklib.datamodels.vocabulary import IS_A, PART_OF\n",
    "\n",
    "import csv\n",
    "import pandas as pd"
   ],
   "outputs": [],
   "execution_count": 1
  },
  {
   "metadata": {
    "ExecuteTime": {
     "end_time": "2024-11-05T02:02:01.729932Z",
     "start_time": "2024-11-05T02:02:01.727132Z"
    }
   },
   "cell_type": "code",
   "source": "adapter_string = \"sqlite:obo:envo\"",
   "id": "2148e2b371b9d3c1",
   "outputs": [],
   "execution_count": 2
  },
  {
   "metadata": {
    "ExecuteTime": {
     "end_time": "2024-11-05T02:02:01.791797Z",
     "start_time": "2024-11-05T02:02:01.789189Z"
    }
   },
   "cell_type": "code",
   "source": [
    "acceptable_prefixes = {\n",
    "    \"ENVO\"\n",
    "}"
   ],
   "id": "477f6f26578a06e0",
   "outputs": [],
   "execution_count": 3
  },
  {
   "metadata": {
    "ExecuteTime": {
     "end_time": "2024-11-05T02:02:01.835113Z",
     "start_time": "2024-11-05T02:02:01.832275Z"
    }
   },
   "cell_type": "code",
   "source": [
    "target_labels = [\n",
    "    \"material entity\",\n",
    "]\n"
   ],
   "id": "2b9221b70ebed187",
   "outputs": [],
   "execution_count": 4
  },
  {
   "metadata": {
    "ExecuteTime": {
     "end_time": "2024-11-05T02:02:01.881065Z",
     "start_time": "2024-11-05T02:02:01.878186Z"
    }
   },
   "cell_type": "code",
   "source": [
    "is_a_only_exclusion_labels = [\n",
    "    \"astronomical body\"\n",
    "]"
   ],
   "id": "516cd149ddc657d6",
   "outputs": [],
   "execution_count": 5
  },
  {
   "metadata": {
    "ExecuteTime": {
     "end_time": "2024-11-05T02:02:01.930098Z",
     "start_time": "2024-11-05T02:02:01.926352Z"
    }
   },
   "cell_type": "code",
   "source": [
    "is_a_label_fragment_exclusion = [\n",
    "    \"UNEP-WCMC\",\n",
    "    \"agricult\",\n",
    "    \"anthropogenic\",\n",
    "    \"astronomical\",\n",
    "    \"biosphere\",\n",
    "    \"coast\",\n",
    "    \"construct\",\n",
    "    \"facility\",\n",
    "    \"feature\",\n",
    "    \"from\",\n",
    "    \"geographic\",\n",
    "    \"geologic\",\n",
    "    \"landform\",\n",
    "    \"marine\",\n",
    "    \"ocean\",\n",
    "    \"raised\",\n",
    "    \"sea\",\n",
    "    \"system\",\n",
    "    \"volcanic\",\n",
    "]"
   ],
   "id": "3f2188382ffdff63",
   "outputs": [],
   "execution_count": 6
  },
  {
   "metadata": {
    "ExecuteTime": {
     "end_time": "2024-11-05T02:02:01.977871Z",
     "start_time": "2024-11-05T02:02:01.973278Z"
    }
   },
   "cell_type": "code",
   "source": [
    "is_a_part_of_exclusion_labels = [\n",
    "    \"anatomical entity environment\",\n",
    "    \"anatomical entity\",\n",
    "    \"animal habitation\",\n",
    "    \"archipelago\",\n",
    "    \"biome\",\n",
    "    \"body of liquid\",\n",
    "    \"building\",\n",
    "    \"channel of a watercourse\",\n",
    "    \"chemical entity\",\n",
    "    \"container of an intermittent water body\",\n",
    "    \"cryoform\",\n",
    "    \"educational facility\",\n",
    "    \"environmental material\",\n",
    "    \"environmental system\",  # includes ecosystems\n",
    "    \"environmental zone\",\n",
    "    \"fiat part of an astronomical object\",\n",
    "    \"fluid astronomical body part\",  # todo gets rid of plume but also lakes, stream etc.\n",
    "    \"healthcare facility\",\n",
    "    \"high-elevation mountain\",\n",
    "    \"hospital unit facility\",\n",
    "    \"layer\",\n",
    "    \"manufactured product\",\n",
    "    \"marine environmental zone\",\n",
    "    \"marine layer\",\n",
    "    \"mass of compounded environmental materials\",  # todo eliminates glacier\n",
    "    \"mass of environmental material\",\n",
    "    \"mass of fluid\",\n",
    "    \"meteor\",  # includes clouds!\n",
    "    \"mid-elevation mountain\",\n",
    "    \"mineral deposit\",\n",
    "    \"object aggregate\",  # esp for rain\n",
    "    \"organ\",\n",
    "    \"particle\",\n",
    "    \"piece of plastic\",\n",
    "    \"political entity\",\n",
    "    \"star\",  # todo for photosphere, which should have been removed by mass of environmental material\n",
    "]\n",
    "\n",
    "# todo lost rhizosphere (an environmental system) ... steppe (part of part of a biome) ...\n",
    "\n",
    "# todo are we really saying that we aren't interested in soil near a lake? \n"
   ],
   "id": "dc91a47fb8762a09",
   "outputs": [],
   "execution_count": 7
  },
  {
   "metadata": {
    "ExecuteTime": {
     "end_time": "2024-11-05T02:02:02.026667Z",
     "start_time": "2024-11-05T02:02:02.021705Z"
    }
   },
   "cell_type": "code",
   "source": [
    "keep_base_only = [\n",
    "    'artificial',\n",
    "    'basin'\n",
    "    'beach',\n",
    "    'bridge',\n",
    "    'campground',\n",
    "    'cave',\n",
    "    'channel',\n",
    "    'cliff',\n",
    "    'cone',\n",
    "    'conveyor',\n",
    "    'crater',\n",
    "    'cut',\n",
    "    'dam',\n",
    "    'dune',\n",
    "    'fault',\n",
    "    'field',\n",
    "    'flood',\n",
    "    'garden',\n",
    "    'hill',\n",
    "    'karst',\n",
    "    'landfill',\n",
    "    'market',\n",
    "    'mine',\n",
    "    'moraine',\n",
    "    'mountain',\n",
    "    'natural',\n",
    "    'network',\n",
    "    'oil',\n",
    "    'park',\n",
    "    'pipeline',\n",
    "    'pit',\n",
    "    'plain',\n",
    "    'plane',\n",
    "    'planetary',\n",
    "    'pond',\n",
    "    'pond',\n",
    "    'prison',\n",
    "    'private',\n",
    "    'public',\n",
    "    'pyroclastic',\n",
    "    'range',\n",
    "    'reactor',\n",
    "    'refinery',\n",
    "    'ridge'\n",
    "    'rift',\n",
    "    'road',\n",
    "    'rock',\n",
    "    'site',\n",
    "    'slope',\n",
    "    'tailings',\n",
    "    'transport',\n",
    "    'tunnel',\n",
    "    'valley',\n",
    "    'volcano',\n",
    "    'water',\n",
    "    'zone',\n",
    "]\n"
   ],
   "id": "aa150cf6ca815771",
   "outputs": [],
   "execution_count": 8
  },
  {
   "metadata": {
    "ExecuteTime": {
     "end_time": "2024-11-05T02:02:02.073317Z",
     "start_time": "2024-11-05T02:02:02.069253Z"
    }
   },
   "cell_type": "code",
   "source": [
    "force_back_in = [\n",
    "    'agricultural ecosystem',\n",
    "    'agricultural field',\n",
    "    # 'allotment garden',\n",
    "    'alluvial plain',\n",
    "    'alluvial fan',\n",
    "    # 'bare soil surface layer',\n",
    "    'dune',\n",
    "    # 'elevated landform',\n",
    "    'forested area',\n",
    "    'frozen land',\n",
    "    'garden',\n",
    "    'grassland area',\n",
    "    'meadow ecosystem',\n",
    "    'mountain',\n",
    "    # 'paddy field',\n",
    "    'pasture',\n",
    "    'peatland',\n",
    "    'pond',\n",
    "    'roadside',\n",
    "    # 'rubber plantation',\n",
    "    'savanna',\n",
    "    'steppe',\n",
    "    'swamp ecosystem',\n",
    "    # 'technosphere',\n",
    "    # 'troposhere',\n",
    "]\n",
    "\n",
    "# for the sake of \"soils whose differentia can be expressed in the broad or local scale slots\n",
    "\n",
    "# run this after discover_excludable_soils.ipynb\n",
    "# and before post_google_sheets_soil_env_medium.ipynb\n",
    "\n",
    "# see discover_excludable_soils.tsv with relation_is_reasonable filtered to true\n",
    "# then remove blanks from sole_reasonable_other and sole_soil"
   ],
   "id": "63cbec0253b11d10",
   "outputs": [],
   "execution_count": 9
  },
  {
   "metadata": {
    "ExecuteTime": {
     "end_time": "2024-11-05T02:02:02.119585Z",
     "start_time": "2024-11-05T02:02:02.116320Z"
    }
   },
   "cell_type": "code",
   "source": [
    "force_back_in.extend([\n",
    "    'active permafrost layer',\n",
    "    'fen',\n",
    "    'fjord',\n",
    "    'glacier',\n",
    "    'marsh',\n",
    "    'peatland',\n",
    "    'prairie',\n",
    "    'rhizosphere',\n",
    "    'river',\n",
    "    'spring',\n",
    "    'stream',\n",
    "    'woodland area',\n",
    "])\n",
    "\n",
    "# because they had 2+ upvotes"
   ],
   "id": "c92f84a59fa1b709",
   "outputs": [],
   "execution_count": 10
  },
  {
   "metadata": {
    "ExecuteTime": {
     "end_time": "2024-11-05T02:02:02.168462Z",
     "start_time": "2024-11-05T02:02:02.164685Z"
    }
   },
   "cell_type": "code",
   "source": [
    "force_back_in.extend([\n",
    "    'arable land',\n",
    "    'biochar',\n",
    "    'flood plain',\n",
    "    'forest ecosystem',\n",
    "    'meadow ecosystem',\n",
    "    'mine drainage',\n",
    "    'oil spill',\n",
    "    'pasture',\n",
    "    'permafrost',\n",
    "    'ranch',\n",
    "    'thermokarst',\n",
    "    'wetland ecosystem', \n",
    "])\n",
    "\n",
    "# from gold terms soil exploration"
   ],
   "id": "101ce9770c85fab4",
   "outputs": [],
   "execution_count": 11
  },
  {
   "metadata": {
    "ExecuteTime": {
     "end_time": "2024-11-05T02:02:02.215443Z",
     "start_time": "2024-11-05T02:02:02.212218Z"
    }
   },
   "cell_type": "code",
   "source": [
    "force_out = [\n",
    "    'cut',\n",
    "    'field',\n",
    "    'flattened elevation',\n",
    "    'market',\n",
    "    'mount',\n",
    "    'peak',\n",
    "    'trough',\n",
    "    'yard',\n",
    "]\n",
    "\n",
    "# due to 3+ down votes"
   ],
   "id": "1a7e79eab8215a9c",
   "outputs": [],
   "execution_count": 12
  },
  {
   "metadata": {
    "ExecuteTime": {
     "end_time": "2024-11-05T02:02:02.264152Z",
     "start_time": "2024-11-05T02:02:02.258814Z"
    }
   },
   "cell_type": "code",
   "source": [
    "force_out.extend([\n",
    "    'airport',\n",
    "    'bike path',\n",
    "    'biota',\n",
    "    'bowling alley',\n",
    "    'clinic',\n",
    "    'fairground',\n",
    "    'fish hatchery',\n",
    "    'footbridge',\n",
    "    'fossil worm burrow',\n",
    "    'galaxy',\n",
    "    'globular star cluster',\n",
    "    'handrail',\n",
    "    'hangar',\n",
    "    'human nursery',\n",
    "    'limestone pavement',\n",
    "    'manufactured plastisphere',\n",
    "    'military training area',\n",
    "    'nebula',\n",
    "    'patio',\n",
    "    'paved parking lot',\n",
    "    'petting zoo',\n",
    "    'place of worship',\n",
    "    'plastisphere',\n",
    "    'poultry hatchery',\n",
    "    'processing line',\n",
    "    'protoplanetary disk',\n",
    "    'railway',\n",
    "    'shipwreck',\n",
    "    'technosphere',\n",
    "    'unexploded-ordnance dump',\n",
    "    'young plant',\n",
    "\n",
    "])\n",
    "\n",
    "# MAM judgement"
   ],
   "id": "95875c9016c5b9a9",
   "outputs": [],
   "execution_count": 13
  },
  {
   "metadata": {
    "ExecuteTime": {
     "end_time": "2024-11-05T02:02:02.309883Z",
     "start_time": "2024-11-05T02:02:02.307062Z"
    }
   },
   "cell_type": "code",
   "source": "# model_with_local_scale_file = \"post_google_sheets_soil_env_medium_relations_no_subclasses_useful_classes_curated.tsv\"",
   "id": "ba10b9b104295ac9",
   "outputs": [],
   "execution_count": 14
  },
  {
   "metadata": {
    "ExecuteTime": {
     "end_time": "2024-11-05T02:02:02.356331Z",
     "start_time": "2024-11-05T02:02:02.353326Z"
    }
   },
   "cell_type": "code",
   "source": "output_file = \"post_google_sheets_soil_env_local_scale.tsv\"",
   "id": "1d2b4fc51e047786",
   "outputs": [],
   "execution_count": 15
  },
  {
   "metadata": {
    "ExecuteTime": {
     "end_time": "2024-11-05T02:02:02.429171Z",
     "start_time": "2024-11-05T02:02:02.400035Z"
    }
   },
   "cell_type": "code",
   "source": "adapter = get_adapter(adapter_string)",
   "id": "7709e378f4d117eb",
   "outputs": [],
   "execution_count": 16
  },
  {
   "metadata": {
    "ExecuteTime": {
     "end_time": "2024-11-05T02:02:02.449814Z",
     "start_time": "2024-11-05T02:02:02.446972Z"
    }
   },
   "cell_type": "code",
   "source": "targets = set()",
   "id": "1bbc3b1ad9958a37",
   "outputs": [],
   "execution_count": 17
  },
  {
   "metadata": {
    "ExecuteTime": {
     "end_time": "2024-11-05T02:02:02.727384Z",
     "start_time": "2024-11-05T02:02:02.493820Z"
    }
   },
   "cell_type": "code",
   "source": [
    "# accumulate subclasses of the target classes (by label)\n",
    "# \n",
    "for current_label in target_labels:\n",
    "    for class_id in adapter.basic_search(current_label):\n",
    "        descendant = adapter.descendants(class_id, predicates=[IS_A])\n",
    "        for d in descendant:\n",
    "            targets.add(d)\n",
    "\n",
    "print(len(targets))"
   ],
   "id": "5315b4280bb53a5c",
   "outputs": [
    {
     "name": "stdout",
     "output_type": "stream",
     "text": [
      "5132\n"
     ]
    }
   ],
   "execution_count": 18
  },
  {
   "metadata": {
    "ExecuteTime": {
     "end_time": "2024-11-05T02:02:04.284409Z",
     "start_time": "2024-11-05T02:02:02.742281Z"
    }
   },
   "cell_type": "code",
   "source": [
    "# write the targets and their labels to a tsv file \"sels_targets.txt\"\n",
    "#\n",
    "with open(\"sels_targets.tsv\", \"w\") as f:\n",
    "    for t in targets:\n",
    "        f.write(t + \"\\t\" + adapter.label(t) + \"\\n\")"
   ],
   "id": "81f451e5546cbeb2",
   "outputs": [],
   "execution_count": 19
  },
  {
   "metadata": {
    "ExecuteTime": {
     "end_time": "2024-11-05T02:02:07.149241Z",
     "start_time": "2024-11-05T02:02:04.295653Z"
    }
   },
   "cell_type": "code",
   "source": [
    "# deplete subclasses of the exclusion classes (by label)\n",
    "# \n",
    "\n",
    "depletion_log = []\n",
    "\n",
    "for current_label in is_a_part_of_exclusion_labels:\n",
    "    for class_id in adapter.basic_search(current_label):\n",
    "        descendant = adapter.descendants(class_id,\n",
    "                                         predicates=[IS_A, PART_OF])  # todo be careful with part of assumptions!\n",
    "        for d in descendant:\n",
    "            if d in targets:\n",
    "                depletion_line = {\n",
    "                    \"removed\": adapter.label(d),\n",
    "                    \"reason\": current_label\n",
    "                }\n",
    "                # print(log_line)\n",
    "                depletion_log.append(depletion_line)\n",
    "                targets.remove(d)\n",
    "\n",
    "for current_label in is_a_only_exclusion_labels:\n",
    "    for class_id in adapter.basic_search(current_label):\n",
    "        descendant = adapter.descendants(class_id, predicates=[IS_A])  # todo be careful with part of assumptions!\n",
    "        for d in descendant:\n",
    "            if d in targets:\n",
    "                depletion_line = {\n",
    "                    \"removed\": adapter.label(d),\n",
    "                    \"reason\": current_label\n",
    "                }\n",
    "                # print(log_line)\n",
    "                depletion_log.append(depletion_line)\n",
    "                targets.remove(d)\n",
    "\n",
    "# for current_label in keep_base_only:\n",
    "targets_dupe = targets.copy()\n",
    "for t in targets_dupe:\n",
    "    label = adapter.label(t)\n",
    "    label_words = label.split(\" \")\n",
    "    for kbo in keep_base_only:\n",
    "        if kbo in label_words and len(label_words) > 1:\n",
    "            depletion_line = {\n",
    "                \"removed\": label,\n",
    "                \"reason\": f\"{t}'s label {label} contains but is not limited to {kbo}\"\n",
    "            }\n",
    "            depletion_log.append(depletion_line)\n",
    "            if t in targets:\n",
    "                targets.remove(t)\n",
    "\n",
    "print(len(targets))"
   ],
   "id": "77c441ce49ee868",
   "outputs": [
    {
     "name": "stdout",
     "output_type": "stream",
     "text": [
      "553\n"
     ]
    }
   ],
   "execution_count": 20
  },
  {
   "metadata": {
    "ExecuteTime": {
     "end_time": "2024-11-05T02:02:07.162862Z",
     "start_time": "2024-11-05T02:02:07.160273Z"
    }
   },
   "cell_type": "code",
   "source": [
    "# # write the lines in log to a TSV file \"sels_depletion.tsv\"\" with csv's dictwriter\n",
    "# #\n",
    "# with open(\"sels_depletion.tsv\", \"w\") as f:\n",
    "#     writer = csv.DictWriter(f, fieldnames=[\"removed\", \"reason\"])\n",
    "#     writer.writeheader()\n",
    "#     for line in depletion_log:\n",
    "#         writer.writerow(line)\n"
   ],
   "id": "62b7006a08a898a8",
   "outputs": [],
   "execution_count": 21
  },
  {
   "metadata": {
    "ExecuteTime": {
     "end_time": "2024-11-05T02:02:07.204727Z",
     "start_time": "2024-11-05T02:02:07.200625Z"
    }
   },
   "cell_type": "code",
   "source": [
    "# remove curies from the targets if their prefix, when splitting on colon, isn't in the acceptable prefixes\n",
    "for t in list(targets):\n",
    "    if t.split(\":\")[0] not in acceptable_prefixes:\n",
    "        targets.remove(t)\n",
    "print(len(targets))"
   ],
   "id": "c78340f4c8cfb9c3",
   "outputs": [
    {
     "name": "stdout",
     "output_type": "stream",
     "text": [
      "270\n"
     ]
    }
   ],
   "execution_count": 22
  },
  {
   "metadata": {
    "ExecuteTime": {
     "end_time": "2024-11-05T02:02:08.868537Z",
     "start_time": "2024-11-05T02:02:07.253491Z"
    }
   },
   "cell_type": "code",
   "source": [
    "# remove curies from the targets if their label contains any of the exclusion fragments\n",
    "for t in list(targets):\n",
    "    for fragment in is_a_label_fragment_exclusion:\n",
    "        if fragment in adapter.label(t):\n",
    "            if t in targets:\n",
    "                targets.remove(t)\n",
    "print(len(targets))"
   ],
   "id": "25b2802c320e922a",
   "outputs": [
    {
     "name": "stdout",
     "output_type": "stream",
     "text": [
      "208\n"
     ]
    }
   ],
   "execution_count": 23
  },
  {
   "metadata": {
    "ExecuteTime": {
     "end_time": "2024-11-05T02:02:09.109428Z",
     "start_time": "2024-11-05T02:02:08.881595Z"
    }
   },
   "cell_type": "code",
   "source": [
    "for fbi in force_back_in: \n",
    "    # add tracking of fbis that don't map to any terms, fbis that already are in targets...\n",
    "    fbi_count = 0\n",
    "    for class_id in adapter.basic_search(fbi):\n",
    "        fbi_count += 1\n",
    "        if class_id not in targets:\n",
    "            targets.add(class_id)\n",
    "        else:\n",
    "            print(f\"{fbi} already in targets\")\n",
    "    if fbi_count == 0:\n",
    "        print(f\"Can't find {fbi} in adapter\")"
   ],
   "id": "d0e98fd90746b5be",
   "outputs": [
    {
     "name": "stdout",
     "output_type": "stream",
     "text": [
      "dune already in targets\n",
      "garden already in targets\n",
      "mountain already in targets\n",
      "peatland already in targets\n",
      "meadow ecosystem already in targets\n",
      "pasture already in targets\n"
     ]
    }
   ],
   "execution_count": 24
  },
  {
   "metadata": {
    "ExecuteTime": {
     "end_time": "2024-11-05T02:02:09.321939Z",
     "start_time": "2024-11-05T02:02:09.122242Z"
    }
   },
   "cell_type": "code",
   "source": [
    "for fo in force_out:\n",
    "    for class_id in adapter.basic_search(fo):\n",
    "        if class_id in targets:\n",
    "            targets.remove(class_id)\n",
    "        else:\n",
    "            print(f\"{fo} not in targets\")\n",
    "            \n",
    "# these won't show up in the previously closed sels_depletion.tsv"
   ],
   "id": "9c2be4ce4f8521a0",
   "outputs": [],
   "execution_count": 25
  },
  {
   "metadata": {
    "ExecuteTime": {
     "end_time": "2024-11-05T02:02:09.400796Z",
     "start_time": "2024-11-05T02:02:09.332662Z"
    }
   },
   "cell_type": "code",
   "source": [
    "labelled_targets = []\n",
    "for t in targets:\n",
    "    labelled_targets.append(\n",
    "        {\n",
    "            \"id\": t,\n",
    "            \"label\": adapter.label(t)\n",
    "        }\n",
    "    )"
   ],
   "id": "67e8e7d3100e7c36",
   "outputs": [],
   "execution_count": 26
  },
  {
   "metadata": {
    "ExecuteTime": {
     "end_time": "2024-11-05T02:02:09.418094Z",
     "start_time": "2024-11-05T02:02:09.412157Z"
    }
   },
   "cell_type": "code",
   "source": [
    "export_frame = pd.DataFrame(labelled_targets)\n",
    "\n",
    "export_frame.to_csv(output_file, sep=\"\\t\", index=False)"
   ],
   "id": "2c72d0bcd67213c2",
   "outputs": [],
   "execution_count": 27
  },
  {
   "metadata": {
    "ExecuteTime": {
     "end_time": "2024-11-05T02:02:09.439026Z",
     "start_time": "2024-11-05T02:02:09.436868Z"
    }
   },
   "cell_type": "code",
   "source": "",
   "id": "25e24ebecb5efdf1",
   "outputs": [],
   "execution_count": null
  }
 ],
 "metadata": {
  "kernelspec": {
   "display_name": "Python 3",
   "language": "python",
   "name": "python3"
  },
  "language_info": {
   "codemirror_mode": {
    "name": "ipython",
    "version": 2
   },
   "file_extension": ".py",
   "mimetype": "text/x-python",
   "name": "python",
   "nbconvert_exporter": "python",
   "pygments_lexer": "ipython2",
   "version": "2.7.6"
  }
 },
 "nbformat": 4,
 "nbformat_minor": 5
}
