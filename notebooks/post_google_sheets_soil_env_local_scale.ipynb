{
 "cells": [
  {
   "cell_type": "code",
   "id": "initial_id",
   "metadata": {
    "collapsed": true,
    "ExecuteTime": {
     "end_time": "2024-10-31T19:35:44.766963Z",
     "start_time": "2024-10-31T19:35:44.762915Z"
    }
   },
   "source": [
    "from oaklib import get_adapter\n",
    "from oaklib.datamodels.vocabulary import IS_A, PART_OF\n",
    "\n",
    "import csv\n",
    "import pandas as pd"
   ],
   "outputs": [],
   "execution_count": 19
  },
  {
   "metadata": {
    "ExecuteTime": {
     "end_time": "2024-10-31T19:26:06.215069Z",
     "start_time": "2024-10-31T19:26:06.211413Z"
    }
   },
   "cell_type": "code",
   "source": "adapter_string = \"sqlite:obo:envo\"",
   "id": "2148e2b371b9d3c1",
   "outputs": [],
   "execution_count": 2
  },
  {
   "metadata": {
    "ExecuteTime": {
     "end_time": "2024-10-31T19:26:06.276472Z",
     "start_time": "2024-10-31T19:26:06.273686Z"
    }
   },
   "cell_type": "code",
   "source": [
    "acceptable_prefixes = {\n",
    "    \"ENVO\"\n",
    "}"
   ],
   "id": "477f6f26578a06e0",
   "outputs": [],
   "execution_count": 3
  },
  {
   "metadata": {
    "ExecuteTime": {
     "end_time": "2024-10-31T19:26:06.319704Z",
     "start_time": "2024-10-31T19:26:06.316724Z"
    }
   },
   "cell_type": "code",
   "source": [
    "target_labels = [\n",
    "    \"material entity\",\n",
    "]\n"
   ],
   "id": "2b9221b70ebed187",
   "outputs": [],
   "execution_count": 4
  },
  {
   "metadata": {
    "ExecuteTime": {
     "end_time": "2024-10-31T19:26:06.377816Z",
     "start_time": "2024-10-31T19:26:06.367574Z"
    }
   },
   "cell_type": "code",
   "source": [
    "is_a_only_exclusion_labels = [\n",
    "    \"astronomical body\"\n",
    "]"
   ],
   "id": "516cd149ddc657d6",
   "outputs": [],
   "execution_count": 5
  },
  {
   "metadata": {
    "ExecuteTime": {
     "end_time": "2024-10-31T19:26:06.439816Z",
     "start_time": "2024-10-31T19:26:06.427067Z"
    }
   },
   "cell_type": "code",
   "source": [
    "is_a_label_fragment_exclusion = [\n",
    "    \"UNEP-WCMC\",\n",
    "    \"agricult\",\n",
    "    \"anthropogenic\",\n",
    "    \"astronomical\",\n",
    "    \"biosphere\",\n",
    "    \"coast\",\n",
    "    \"construct\",\n",
    "    \"facility\",\n",
    "    \"feature\",\n",
    "    \"from\",\n",
    "    \"geographic\",\n",
    "    \"geologic\",\n",
    "    \"landform\",\n",
    "    \"marine\",\n",
    "    \"ocean\",\n",
    "    \"raised\",\n",
    "    \"sea\",\n",
    "    \"system\",\n",
    "    \"volcanic\",\n",
    "]"
   ],
   "id": "3f2188382ffdff63",
   "outputs": [],
   "execution_count": 6
  },
  {
   "metadata": {
    "ExecuteTime": {
     "end_time": "2024-10-31T19:26:06.487591Z",
     "start_time": "2024-10-31T19:26:06.482301Z"
    }
   },
   "cell_type": "code",
   "source": [
    "is_a_part_of_exclusion_labels = [\n",
    "    \"anatomical entity environment\",\n",
    "    \"anatomical entity\",\n",
    "    \"animal habitation\",\n",
    "    \"archipelago\",\n",
    "    \"biome\",\n",
    "    \"body of liquid\",\n",
    "    \"building\",\n",
    "    \"channel of a watercourse\",\n",
    "    \"chemical entity\",\n",
    "    \"container of an intermittent water body\",\n",
    "    \"cryoform\",\n",
    "    \"educational facility\",\n",
    "    \"environmental material\",\n",
    "    \"environmental system\",  # includes ecosystems\n",
    "    \"environmental zone\",\n",
    "    \"fiat part of an astronomical object\",\n",
    "    \"fluid astronomical body part\",  # todo gets rid of plume but also lakes, stream etc.\n",
    "    \"healthcare facility\",\n",
    "    \"high-elevation mountain\",\n",
    "    \"hospital unit facility\",\n",
    "    \"layer\",\n",
    "    \"manufactured product\",\n",
    "    \"marine environmental zone\",\n",
    "    \"marine layer\",\n",
    "    \"mass of compounded environmental materials\",  # todo eliminates glacier\n",
    "    \"mass of environmental material\",\n",
    "    \"mass of fluid\",\n",
    "    \"meteor\",  # includes clouds!\n",
    "    \"mid-elevation mountain\",\n",
    "    \"mineral deposit\",\n",
    "    \"object aggregate\",  # esp for rain\n",
    "    \"organ\",\n",
    "    \"particle\",\n",
    "    \"piece of plastic\",\n",
    "    \"political entity\",\n",
    "    \"star\",  # todo for photosphere, which should have been removed by mass of environmental material\n",
    "]\n",
    "\n",
    "# todo lost rhizosphere (an environmental system) ... steppe (part of part of a biome) ...\n",
    "\n",
    "# todo are we really saying that we aren't interested in soil near a lake? \n"
   ],
   "id": "dc91a47fb8762a09",
   "outputs": [],
   "execution_count": 7
  },
  {
   "metadata": {
    "ExecuteTime": {
     "end_time": "2024-10-31T19:26:06.558957Z",
     "start_time": "2024-10-31T19:26:06.530304Z"
    }
   },
   "cell_type": "code",
   "source": "adapter = get_adapter(adapter_string)",
   "id": "7709e378f4d117eb",
   "outputs": [],
   "execution_count": 8
  },
  {
   "metadata": {
    "ExecuteTime": {
     "end_time": "2024-10-31T19:26:06.580062Z",
     "start_time": "2024-10-31T19:26:06.577156Z"
    }
   },
   "cell_type": "code",
   "source": "targets = set()",
   "id": "1bbc3b1ad9958a37",
   "outputs": [],
   "execution_count": 9
  },
  {
   "metadata": {
    "ExecuteTime": {
     "end_time": "2024-10-31T19:26:06.846400Z",
     "start_time": "2024-10-31T19:26:06.623266Z"
    }
   },
   "cell_type": "code",
   "source": [
    "# accumulate subclasses of the target classes (by label)\n",
    "# \n",
    "for current_label in target_labels:\n",
    "    for class_id in adapter.basic_search(current_label):\n",
    "        descendant = adapter.descendants(class_id, predicates=[IS_A])\n",
    "        for d in descendant:\n",
    "            targets.add(d)\n",
    "            \n",
    "print(len(targets))"
   ],
   "id": "5315b4280bb53a5c",
   "outputs": [
    {
     "name": "stdout",
     "output_type": "stream",
     "text": [
      "5132\n"
     ]
    }
   ],
   "execution_count": 10
  },
  {
   "metadata": {
    "ExecuteTime": {
     "end_time": "2024-10-31T19:26:08.380683Z",
     "start_time": "2024-10-31T19:26:06.857589Z"
    }
   },
   "cell_type": "code",
   "source": [
    "# write the targets and their labels to a tsv file \"sels_targets.txt\"\n",
    "#\n",
    "with open(\"sels_targets.tsv\", \"w\") as f:\n",
    "    for t in targets:\n",
    "        f.write(t + \"\\t\" + adapter.label(t) + \"\\n\")"
   ],
   "id": "81f451e5546cbeb2",
   "outputs": [],
   "execution_count": 11
  },
  {
   "metadata": {
    "ExecuteTime": {
     "end_time": "2024-10-31T19:26:11.034404Z",
     "start_time": "2024-10-31T19:26:08.390616Z"
    }
   },
   "cell_type": "code",
   "source": [
    "# deplete subclasses of the exclusion classes (by label)\n",
    "# \n",
    "\n",
    "depletion_log = []\n",
    "\n",
    "for current_label in is_a_part_of_exclusion_labels:\n",
    "    for class_id in adapter.basic_search(current_label):\n",
    "        descendant = adapter.descendants(class_id,\n",
    "                                         predicates=[IS_A, PART_OF])  # todo be careful with part of assumptions!\n",
    "        for d in descendant:\n",
    "            if d in targets:\n",
    "                depletion_line = {\n",
    "                    \"removed\": adapter.label(d),\n",
    "                    \"reason\": current_label\n",
    "                }\n",
    "                # print(log_line)\n",
    "                depletion_log.append(depletion_line)\n",
    "                targets.remove(d)\n",
    "\n",
    "for current_label in is_a_only_exclusion_labels:\n",
    "    for class_id in adapter.basic_search(current_label):\n",
    "        descendant = adapter.descendants(class_id, predicates=[IS_A])  # todo be careful with part of assumptions!\n",
    "        for d in descendant:\n",
    "            if d in targets:\n",
    "                depletion_line = {\n",
    "                    \"removed\": adapter.label(d),\n",
    "                    \"reason\": current_label\n",
    "                }\n",
    "                # print(log_line)\n",
    "                depletion_log.append(depletion_line)\n",
    "                targets.remove(d)\n",
    "\n",
    "print(len(targets))"
   ],
   "id": "77c441ce49ee868",
   "outputs": [
    {
     "name": "stdout",
     "output_type": "stream",
     "text": [
      "759\n"
     ]
    }
   ],
   "execution_count": 12
  },
  {
   "metadata": {
    "ExecuteTime": {
     "end_time": "2024-10-31T19:26:11.058560Z",
     "start_time": "2024-10-31T19:26:11.044029Z"
    }
   },
   "cell_type": "code",
   "source": [
    "# write the lines in log to a TSV file \"sels_depletion.tsv\"\" with csv's dictwriter\n",
    "#\n",
    "with open(\"sels_depletion.tsv\", \"w\") as f:\n",
    "    writer = csv.DictWriter(f, fieldnames=[\"removed\", \"reason\"])\n",
    "    writer.writeheader()\n",
    "    for line in depletion_log:\n",
    "        writer.writerow(line)\n"
   ],
   "id": "62b7006a08a898a8",
   "outputs": [],
   "execution_count": 13
  },
  {
   "metadata": {
    "ExecuteTime": {
     "end_time": "2024-10-31T19:26:11.088759Z",
     "start_time": "2024-10-31T19:26:11.085642Z"
    }
   },
   "cell_type": "code",
   "source": [
    "# # write the remaining targets and their labels to a tsv file \n",
    "# #\n",
    "# with open(\"sels_targets_depletion_remaining.tsv\", \"w\") as f:\n",
    "#     for t in targets:\n",
    "#         f.write(t + \"\\t\" + adapter.label(t) + \"\\n\")"
   ],
   "id": "1b3845003ad19baf",
   "outputs": [],
   "execution_count": 14
  },
  {
   "metadata": {
    "ExecuteTime": {
     "end_time": "2024-10-31T19:26:11.140503Z",
     "start_time": "2024-10-31T19:26:11.136181Z"
    }
   },
   "cell_type": "code",
   "source": [
    "# remove curies from the targets if their prefix, when splitting on colon, isn't in the acceptable prefixes\n",
    "for t in list(targets):\n",
    "    if t.split(\":\")[0] not in acceptable_prefixes:\n",
    "        targets.remove(t)   \n",
    "print(len(targets))"
   ],
   "id": "c78340f4c8cfb9c3",
   "outputs": [
    {
     "name": "stdout",
     "output_type": "stream",
     "text": [
      "475\n"
     ]
    }
   ],
   "execution_count": 15
  },
  {
   "metadata": {
    "ExecuteTime": {
     "end_time": "2024-10-31T19:26:13.811165Z",
     "start_time": "2024-10-31T19:26:11.186812Z"
    }
   },
   "cell_type": "code",
   "source": [
    "# remove curies from the targets if their label contains any of the exclusion fragments\n",
    "for t in list(targets):\n",
    "    for fragment in is_a_label_fragment_exclusion:\n",
    "        if fragment in adapter.label(t):\n",
    "            if t in targets:\n",
    "                targets.remove(t)\n",
    "print(len(targets))"
   ],
   "id": "25b2802c320e922a",
   "outputs": [
    {
     "name": "stdout",
     "output_type": "stream",
     "text": [
      "386\n"
     ]
    }
   ],
   "execution_count": 16
  },
  {
   "metadata": {
    "ExecuteTime": {
     "end_time": "2024-10-31T19:26:13.984450Z",
     "start_time": "2024-10-31T19:26:13.856445Z"
    }
   },
   "cell_type": "code",
   "source": [
    "# write the remaining targets and their labels to a tsv file \n",
    "#\n",
    "with open(\"sels_targets_remaining.tsv\", \"w\") as f:\n",
    "    for t in targets:\n",
    "        f.write(t + \"\\t\" + adapter.label(t) + \"\\n\")"
   ],
   "id": "513fe6152f972275",
   "outputs": [],
   "execution_count": 17
  },
  {
   "metadata": {
    "ExecuteTime": {
     "end_time": "2024-10-31T19:37:52.612246Z",
     "start_time": "2024-10-31T19:37:52.448366Z"
    }
   },
   "cell_type": "code",
   "source": [
    "# labelled_targets = []\n",
    "# for t in targets:\n",
    "#     labelled_targets.append(\n",
    "#         {\n",
    "#             \"id\": t,\n",
    "#             \"label\": adapter.label(t)\n",
    "#         }\n",
    "#     )"
   ],
   "id": "7ed61cab5db223d9",
   "outputs": [],
   "execution_count": 21
  },
  {
   "metadata": {},
   "cell_type": "code",
   "outputs": [],
   "execution_count": null,
   "source": "",
   "id": "99621e934cafc942"
  },
  {
   "metadata": {},
   "cell_type": "code",
   "outputs": [],
   "execution_count": null,
   "source": "",
   "id": "674cc0e16f30c238"
  }
 ],
 "metadata": {
  "kernelspec": {
   "display_name": "Python 3",
   "language": "python",
   "name": "python3"
  },
  "language_info": {
   "codemirror_mode": {
    "name": "ipython",
    "version": 2
   },
   "file_extension": ".py",
   "mimetype": "text/x-python",
   "name": "python",
   "nbconvert_exporter": "python",
   "pygments_lexer": "ipython2",
   "version": "2.7.6"
  }
 },
 "nbformat": 4,
 "nbformat_minor": 5
}
