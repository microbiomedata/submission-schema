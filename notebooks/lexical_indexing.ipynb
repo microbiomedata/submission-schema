{
 "cells": [
  {
   "cell_type": "code",
   "id": "initial_id",
   "metadata": {
    "collapsed": true
   },
   "source": [
    "import sys\n",
    "import os\n",
    "from oaklib.selector import get_resource_from_shorthand\n",
    "from oaklib.utilities.mapping.sssom_utils import StreamingSssomWriter\n",
    "from oaklib.cli import lexmatch\n",
    "from oaklib import get_adapter\n",
    "from oaklib.utilities.lexical.lexical_indexer import create_lexical_index, save_lexical_index, load_lexical_index\n",
    "from oaklib.interfaces.text_annotator_interface import TextAnnotatorInterface\n",
    "import warnings"
   ],
   "outputs": [],
   "execution_count": null
  },
  {
   "metadata": {},
   "cell_type": "code",
   "source": "envo_adapter_string = \"sqlite:obo:envo\"",
   "id": "4ac0fb44de4886da",
   "outputs": [],
   "execution_count": null
  },
  {
   "metadata": {},
   "cell_type": "code",
   "source": "envo_adapter = get_adapter(envo_adapter_string)",
   "id": "9d2c5bb849241ee7",
   "outputs": [],
   "execution_count": null
  },
  {
   "metadata": {},
   "cell_type": "code",
   "source": "envo_adapter.label('ENVO:01000813')",
   "id": "e8eee2887ec17ae4",
   "outputs": [],
   "execution_count": null
  },
  {
   "metadata": {},
   "cell_type": "code",
   "source": "ix = create_lexical_index(envo_adapter)",
   "id": "d624ba82a5e59ac8",
   "outputs": [],
   "execution_count": null
  },
  {
   "metadata": {},
   "cell_type": "code",
   "source": "save_lexical_index(ix, \"ix.yaml\")",
   "id": "9315f64d39c95210",
   "outputs": [],
   "execution_count": null
  },
  {
   "metadata": {},
   "cell_type": "code",
   "source": "ix2 = load_lexical_index(\"ix.yaml\")",
   "id": "d3facc2adf5b1be6",
   "outputs": [],
   "execution_count": null
  },
  {
   "metadata": {},
   "cell_type": "code",
   "source": "tai = TextAnnotatorInterface()",
   "id": "8bae1160553d7ff7",
   "outputs": [],
   "execution_count": null
  },
  {
   "metadata": {},
   "cell_type": "code",
   "source": "tai.lexical_index = ix2",
   "id": "9033c18e6e2cbfb8",
   "outputs": [],
   "execution_count": null
  },
  {
   "metadata": {},
   "cell_type": "code",
   "source": "annotation_results = tai.annotate_text(\"when i put sand in my food i get an illness in my digestive system\")",
   "id": "51885ffaad18de78",
   "outputs": [],
   "execution_count": null
  },
  {
   "metadata": {},
   "cell_type": "code",
   "source": [
    "for ar in annotation_results:\n",
    "    print(ar)"
   ],
   "id": "99444fcb3cce3b5c",
   "outputs": [],
   "execution_count": null
  },
  {
   "metadata": {},
   "cell_type": "code",
   "source": "",
   "id": "82885c58a02dd6bd",
   "outputs": [],
   "execution_count": null
  }
 ],
 "metadata": {
  "kernelspec": {
   "display_name": "Python 3",
   "language": "python",
   "name": "python3"
  },
  "language_info": {
   "codemirror_mode": {
    "name": "ipython",
    "version": 2
   },
   "file_extension": ".py",
   "mimetype": "text/x-python",
   "name": "python",
   "nbconvert_exporter": "python",
   "pygments_lexer": "ipython2",
   "version": "2.7.6"
  }
 },
 "nbformat": 4,
 "nbformat_minor": 5
}
