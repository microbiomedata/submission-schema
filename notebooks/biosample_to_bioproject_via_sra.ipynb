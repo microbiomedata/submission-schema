{
 "cells": [
  {
   "metadata": {
    "ExecuteTime": {
     "end_time": "2024-12-09T19:22:18.733092Z",
     "start_time": "2024-12-09T19:22:16.990930Z"
    }
   },
   "cell_type": "code",
   "source": "from google.cloud import bigquery",
   "id": "736888ff1eed86a1",
   "outputs": [],
   "execution_count": 1
  },
  {
   "metadata": {
    "ExecuteTime": {
     "end_time": "2024-12-09T19:22:19.948742Z",
     "start_time": "2024-12-09T19:22:18.735892Z"
    }
   },
   "cell_type": "code",
   "source": [
    "# Construct a BigQuery client object.\n",
    "\n",
    "client = bigquery.Client(project=\"nmdc-377118\")"
   ],
   "id": "bf58f18934e40f3e",
   "outputs": [
    {
     "name": "stderr",
     "output_type": "stream",
     "text": [
      "/Users/MAM/Documents/gitrepos/submission-schema/.venv/lib/python3.9/site-packages/google/auth/_default.py:76: UserWarning: Your application has authenticated using end user credentials from Google Cloud SDK without a quota project. You might receive a \"quota exceeded\" or \"API not enabled\" error. See the following page for troubleshooting: https://cloud.google.com/docs/authentication/adc-troubleshooting/user-creds. \n",
      "  warnings.warn(_CLOUD_SDK_CREDENTIALS_WARNING)\n"
     ]
    }
   ],
   "execution_count": 2
  },
  {
   "metadata": {
    "ExecuteTime": {
     "end_time": "2024-12-09T19:22:40.257424Z",
     "start_time": "2024-12-09T19:22:37.406062Z"
    }
   },
   "cell_type": "code",
   "source": [
    "query = \"\"\"\n",
    "SELECT\n",
    "    COUNT(*) as bs_bp_pairs_count\n",
    "  FROM (\n",
    "    SELECT\n",
    "        DISTINCT biosample,\n",
    "        bioproject\n",
    "      FROM\n",
    "        `nih-sra-datastore.sra.metadata`\n",
    "  )\n",
    "\"\"\"\n",
    "\n",
    "query_job = client.query(query)\n",
    "\n",
    "df = query_job.to_dataframe() "
   ],
   "id": "d17c687861b16c3a",
   "outputs": [
    {
     "name": "stderr",
     "output_type": "stream",
     "text": [
      "/Users/MAM/Documents/gitrepos/submission-schema/.venv/lib/python3.9/site-packages/google/cloud/bigquery/table.py:1727: UserWarning: BigQuery Storage module not found, fetch data with the REST endpoint instead.\n",
      "  warnings.warn(\n"
     ]
    }
   ],
   "execution_count": 5
  },
  {
   "metadata": {
    "ExecuteTime": {
     "end_time": "2024-12-09T19:22:41.716206Z",
     "start_time": "2024-12-09T19:22:41.708288Z"
    }
   },
   "cell_type": "code",
   "source": "df",
   "id": "ca3f0cab63583a83",
   "outputs": [
    {
     "data": {
      "text/plain": [
       "   bs_bp_pairs_count\n",
       "0           28630664"
      ],
      "text/html": [
       "<div>\n",
       "<style scoped>\n",
       "    .dataframe tbody tr th:only-of-type {\n",
       "        vertical-align: middle;\n",
       "    }\n",
       "\n",
       "    .dataframe tbody tr th {\n",
       "        vertical-align: top;\n",
       "    }\n",
       "\n",
       "    .dataframe thead th {\n",
       "        text-align: right;\n",
       "    }\n",
       "</style>\n",
       "<table border=\"1\" class=\"dataframe\">\n",
       "  <thead>\n",
       "    <tr style=\"text-align: right;\">\n",
       "      <th></th>\n",
       "      <th>bs_bp_pairs_count</th>\n",
       "    </tr>\n",
       "  </thead>\n",
       "  <tbody>\n",
       "    <tr>\n",
       "      <th>0</th>\n",
       "      <td>28630664</td>\n",
       "    </tr>\n",
       "  </tbody>\n",
       "</table>\n",
       "</div>"
      ]
     },
     "execution_count": 6,
     "metadata": {},
     "output_type": "execute_result"
    }
   ],
   "execution_count": 6
  },
  {
   "metadata": {},
   "cell_type": "markdown",
   "source": "28,630,664",
   "id": "50201ba3a831e1a2"
  }
 ],
 "metadata": {
  "kernelspec": {
   "display_name": "Python 3",
   "language": "python",
   "name": "python3"
  },
  "language_info": {
   "codemirror_mode": {
    "name": "ipython",
    "version": 2
   },
   "file_extension": ".py",
   "mimetype": "text/x-python",
   "name": "python",
   "nbconvert_exporter": "python",
   "pygments_lexer": "ipython2",
   "version": "2.7.6"
  }
 },
 "nbformat": 4,
 "nbformat_minor": 5
}
