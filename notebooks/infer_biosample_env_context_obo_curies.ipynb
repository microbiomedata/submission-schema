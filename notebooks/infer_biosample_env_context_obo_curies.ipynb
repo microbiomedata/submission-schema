{
 "cells": [
  {
   "metadata": {
    "ExecuteTime": {
     "end_time": "2024-12-10T00:37:38.065075Z",
     "start_time": "2024-12-10T00:37:33.867793Z"
    }
   },
   "cell_type": "code",
   "source": [
    "import duckdb\n",
    "from sqlalchemy import create_engine, text\n",
    "from sqlalchemy.engine import Engine\n",
    "\n",
    "import pandas as pd\n",
    "from typing import List, Dict, Any\n",
    "from oaklib import get_adapter"
   ],
   "id": "7d36a0ed4319cbef",
   "outputs": [],
   "execution_count": 1
  },
  {
   "metadata": {},
   "cell_type": "markdown",
   "source": [
    "what's a generic, high performance way to swap data between the duckdb and in-memory Python data structures?\n",
    "\n",
    "wrap in sqlalchemy and use pandas?\n",
    "\n",
    "I'm adding connections and transactions... seems like a lot of overhead"
   ],
   "id": "2792255d8d011bc3"
  },
  {
   "metadata": {
    "ExecuteTime": {
     "end_time": "2024-12-10T00:38:17.922469Z",
     "start_time": "2024-12-10T00:38:17.919453Z"
    }
   },
   "cell_type": "code",
   "source": "duckdb_filename = \"ncbi_biosamples_dupe.duckdb\"",
   "id": "9e0327a0c08d5e87",
   "outputs": [],
   "execution_count": 11
  },
  {
   "metadata": {
    "ExecuteTime": {
     "end_time": "2024-12-10T00:38:18.515449Z",
     "start_time": "2024-12-10T00:38:18.512500Z"
    }
   },
   "cell_type": "code",
   "source": [
    "def open_duckdb_file(filename):\n",
    "    \"\"\"\n",
    "    Creates a file-based DuckDB database and returns the connection.\n",
    "  \n",
    "    Args:\n",
    "      filename: The name of the DuckDB database file to create.\n",
    "  \n",
    "    Returns:\n",
    "      duckdb.DuckDBPyConnection: The DuckDB connection object.\n",
    "    \"\"\"\n",
    "    conn = duckdb.connect(database=filename)\n",
    "    return conn"
   ],
   "id": "initial_id",
   "outputs": [],
   "execution_count": 12
  },
  {
   "metadata": {
    "ExecuteTime": {
     "end_time": "2024-12-10T00:38:18.972329Z",
     "start_time": "2024-12-10T00:38:18.969163Z"
    }
   },
   "cell_type": "code",
   "source": [
    "def create_engine_connection(db_path: str) -> Engine:\n",
    "    \"\"\"\n",
    "    Creates and returns an SQLAlchemy Engine for the DuckDB database.\n",
    "\n",
    "    Args:\n",
    "        db_path (str): Path to the DuckDB file.\n",
    "\n",
    "    Returns:\n",
    "        sqlalchemy.engine.Engine: A connection engine for the DuckDB database.\n",
    "    \"\"\"\n",
    "    try:\n",
    "        engine = create_engine(f\"duckdb:///{db_path}\")\n",
    "        return engine\n",
    "    except Exception as e:\n",
    "        raise RuntimeError(f\"Failed to create SQLAlchemy engine: {e}\")"
   ],
   "id": "50f3698759694629",
   "outputs": [],
   "execution_count": 13
  },
  {
   "metadata": {
    "ExecuteTime": {
     "end_time": "2024-12-10T00:38:19.641787Z",
     "start_time": "2024-12-10T00:38:19.637083Z"
    }
   },
   "cell_type": "code",
   "source": [
    "def list_tables(engine: Engine) -> None:\n",
    "    \"\"\"\n",
    "    Prints a list of all tables in the current schema.\n",
    "\n",
    "    Args:\n",
    "        engine (sqlalchemy.engine.Engine): SQLAlchemy engine for the database.\n",
    "    \"\"\"\n",
    "    try:\n",
    "        with engine.connect() as connection:\n",
    "            result = connection.execute(text(\"SHOW TABLES\"))\n",
    "            print(\"Tables in the current schema:\")\n",
    "            for row in result:\n",
    "                print(f\" - {row[0]}\")\n",
    "    except Exception as e:\n",
    "        raise RuntimeError(f\"Error listing tables: {e}\")"
   ],
   "id": "31b2e2496a737dc8",
   "outputs": [],
   "execution_count": 14
  },
  {
   "metadata": {
    "ExecuteTime": {
     "end_time": "2024-12-10T00:38:20.045977Z",
     "start_time": "2024-12-10T00:38:20.040161Z"
    }
   },
   "cell_type": "code",
   "source": [
    "\n",
    "def extract_curies_from_text(\n",
    "    text: str,\n",
    "    row_id: int = None,  # Generic parameter for row context\n",
    "    prefix_min_len: int = 3,\n",
    "    prefix_max_len: int = 6,\n",
    "    local_id_min_len: int = 7,\n",
    "    local_id_max_len: int = 8,\n",
    "    prefix_chars_allowed: str = r\"[a-zA-Z]\",\n",
    "    local_id_chars_allowed: str = r\"[0-9]\",\n",
    "    delimiter_chars_allowed: str = r\"[_:]\",\n",
    ") -> List[dict]:\n",
    "    \"\"\"\n",
    "    Extract ontology class CURIEs from text and return them as dictionaries.\n",
    "\n",
    "    Args:\n",
    "        text (str): The input text.\n",
    "        row_id (int, optional): A generic ID or reference for the row context.\n",
    "        prefix_min_len (int): Minimum length of the prefix part of the CURIE.\n",
    "        prefix_max_len (int): Maximum length of the prefix part of the CURIE.\n",
    "        local_id_min_len (int): Minimum length of the local ID part of the CURIE.\n",
    "        local_id_max_len (int): Maximum length of the local ID part of the CURIE.\n",
    "        prefix_chars_allowed (str): Allowed characters for the prefix.\n",
    "        local_id_chars_allowed (str): Allowed characters for the local ID.\n",
    "        delimiter_chars_allowed (str): Allowed delimiters between prefix and local ID.\n",
    "\n",
    "    Returns:\n",
    "        List[dict]: A list of dictionaries containing CURIE parts and row context.\n",
    "    \"\"\"\n",
    "    import re\n",
    "\n",
    "    pattern = rf\"\"\"\n",
    "        \\b                                      # Word boundary\n",
    "        (?P<prefix>{prefix_chars_allowed}{{{prefix_min_len},{prefix_max_len}}})  # Prefix\n",
    "        (?P<delimiter>{delimiter_chars_allowed})                               # Delimiter\n",
    "        (?P<local_id>{local_id_chars_allowed}{{{local_id_min_len},{local_id_max_len}}})  # Local ID\n",
    "        \\b                                      # Word boundary\n",
    "    \"\"\"\n",
    "    matches = re.finditer(pattern, text, re.VERBOSE)\n",
    "    return [\n",
    "        {\n",
    "            \"row_id\": row_id,  # General ID reference\n",
    "            \"curie_prefix\": match.group(\"prefix\"),\n",
    "            \"curie_delimiter\": match.group(\"delimiter\"),\n",
    "            \"curie_local_id\": match.group(\"local_id\"),\n",
    "        }\n",
    "        for match in matches\n",
    "    ]\n"
   ],
   "id": "f9d2adad8036bbd2",
   "outputs": [],
   "execution_count": 15
  },
  {
   "metadata": {
    "ExecuteTime": {
     "end_time": "2024-12-10T00:38:20.425706Z",
     "start_time": "2024-12-10T00:38:20.416944Z"
    }
   },
   "cell_type": "code",
   "source": [
    "def class_detection_by_label(\n",
    "    text: str,\n",
    "    ontology_adapters: Dict[str, Any],\n",
    "    row_id: int = None,\n",
    "    min_annotated_length: int = 3\n",
    ") -> List[Dict[str, Any]]:\n",
    "    \"\"\"\n",
    "    Detect ontology class labels in a string using multiple ontology adapters and collect the annotations.\n",
    "    Only annotations with a match string length >= min_annotated_length are included.\n",
    "    Additionally, a flag 'is_longest_match' is added to indicate the longest match for the string.\n",
    "\n",
    "    Args:\n",
    "        text (str): The input string to be analyzed.\n",
    "        ontology_adapters (dict): Dictionary of ontology adapters.\n",
    "        row_id (int, optional): A generic ID or reference for the row context.\n",
    "        min_annotated_length (int): Minimum length for the annotated match string to be included.\n",
    "\n",
    "    Returns:\n",
    "        List[dict]: A list of dictionaries with the annotations, each representing a new row.\n",
    "    \"\"\"\n",
    "    annotations_for_this_string = []\n",
    "\n",
    "    # Annotate the string using each ontology adapter\n",
    "    for _, adapter in ontology_adapters.items():\n",
    "        annotations = adapter.annotate_text(text)\n",
    "\n",
    "        if annotations:  # If there are annotations\n",
    "            for annotation in annotations:\n",
    "                subject_string = annotation.match_string\n",
    "\n",
    "                # Only include annotations where subject_string length is >= min_annotated_length\n",
    "                if len(subject_string) >= min_annotated_length:\n",
    "                    # Build the annotation dictionary\n",
    "                    annotations_dict = {\n",
    "                        \"id\": row_id,\n",
    "                        \"subject_string\": subject_string,\n",
    "                        \"subject_start\": annotation.subject_start,\n",
    "                        \"subject_end\": annotation.subject_end,\n",
    "                        \"predicate_id\": annotation.predicate_id,\n",
    "                        \"concluded_curie\": annotation.object_id,\n",
    "                        \"object_string\": annotation.object_label,\n",
    "                    }\n",
    "                    annotations_for_this_string.append(annotations_dict)\n",
    "\n",
    "    # Determine the longest match for this string\n",
    "    if annotations_for_this_string:\n",
    "        longest_annotation = max(annotations_for_this_string, key=lambda x: len(x['subject_string']))\n",
    "\n",
    "        # Mark each annotation as the longest or not\n",
    "        for annotation in annotations_for_this_string:\n",
    "            annotation['is_longest_match'] = annotation['subject_string'] == longest_annotation['subject_string']\n",
    "\n",
    "    return annotations_for_this_string\n"
   ],
   "id": "aeb54ffb20d8fbd7",
   "outputs": [],
   "execution_count": 16
  },
  {
   "metadata": {
    "ExecuteTime": {
     "end_time": "2024-12-10T00:38:20.963290Z",
     "start_time": "2024-12-10T00:38:20.959327Z"
    }
   },
   "cell_type": "code",
   "source": [
    "def create_ontology_adapters(ontology_short_names: list) -> dict:\n",
    "    \"\"\"\n",
    "    Create a dictionary of OAK adapters for each ontology short name.\n",
    "\n",
    "    Args:\n",
    "        ontology_short_names (list): A list of ontology short names (e.g., ['envo', 'po']).\n",
    "\n",
    "    Returns:\n",
    "        dict: A dictionary where keys are ontology short names and values are the OAK adapters.\n",
    "    \"\"\"\n",
    "    adapters = {}\n",
    "    for short_name in ontology_short_names:\n",
    "        adapter_string = f\"sqlite:obo:{short_name}\"  # Create the adapter string\n",
    "        try:\n",
    "            adapters[short_name] = get_adapter(adapter_string)  # Get the adapter and add to dictionary\n",
    "        except Exception as e:\n",
    "            print(f\"Warning: Failed to create adapter for {short_name}. Error: {e}\")\n",
    "    return adapters"
   ],
   "id": "921dfa86261cb923",
   "outputs": [],
   "execution_count": 17
  },
  {
   "metadata": {
    "ExecuteTime": {
     "end_time": "2024-12-10T00:38:21.784785Z",
     "start_time": "2024-12-10T00:38:21.781457Z"
    }
   },
   "cell_type": "code",
   "source": "duckdb_engine = create_engine_connection(duckdb_filename)",
   "id": "ef78b42d6c8e5e1",
   "outputs": [],
   "execution_count": 18
  },
  {
   "metadata": {
    "ExecuteTime": {
     "end_time": "2024-12-10T00:38:23.578677Z",
     "start_time": "2024-12-10T00:38:23.507122Z"
    }
   },
   "cell_type": "code",
   "source": "list_tables(duckdb_engine)",
   "id": "67d6b0ae5db11f22",
   "outputs": [
    {
     "name": "stdout",
     "output_type": "stream",
     "text": [
      "Tables in the current schema:\n",
      " - attributes\n",
      " - contexts_to_normalized_strings\n",
      " - harmonized_attributes_wide\n",
      " - ids\n",
      " - links\n",
      " - normalized_context_strings\n",
      " - organism\n",
      " - overview\n"
     ]
    }
   ],
   "execution_count": 19
  },
  {
   "metadata": {
    "ExecuteTime": {
     "end_time": "2024-12-10T00:38:27.171849Z",
     "start_time": "2024-12-10T00:38:27.160241Z"
    }
   },
   "cell_type": "code",
   "source": [
    "with duckdb_engine.connect() as connection:\n",
    "    transaction = connection.begin()\n",
    "    connection.execute(text(\"DROP TABLE IF EXISTS main.normalized_contexts;\"))\n",
    "    connection.execute(text(\"drop table if exists main.normalized_context_strings;\"))\n",
    "    connection.execute(text(\"DROP TABLE IF EXISTS normalized_contexts;\"))\n",
    "    connection.execute(text(\"drop table if exists normalized_context_strings;\"))\n",
    "    connection.execute(text(\"\"\"\n",
    "    drop table if exists main.contexts_to_normalized_strings;\n",
    "    \"\"\"))\n",
    "    connection.execute(text(\"\"\"\n",
    "    drop table if exists contexts_to_normalized_strings;\n",
    "    \"\"\"))\n",
    "    transaction.commit()"
   ],
   "id": "82ee7dd20764d055",
   "outputs": [],
   "execution_count": 20
  },
  {
   "metadata": {
    "ExecuteTime": {
     "end_time": "2024-12-10T00:38:28.202516Z",
     "start_time": "2024-12-10T00:38:28.192654Z"
    }
   },
   "cell_type": "code",
   "source": "list_tables(duckdb_engine)",
   "id": "46b96c9c6acbc8e6",
   "outputs": [
    {
     "name": "stdout",
     "output_type": "stream",
     "text": [
      "Tables in the current schema:\n",
      " - attributes\n",
      " - harmonized_attributes_wide\n",
      " - ids\n",
      " - links\n",
      " - organism\n",
      " - overview\n"
     ]
    }
   ],
   "execution_count": 21
  },
  {
   "metadata": {
    "ExecuteTime": {
     "end_time": "2024-12-10T00:38:55.203966Z",
     "start_time": "2024-12-10T00:38:40.006390Z"
    }
   },
   "cell_type": "code",
   "source": [
    "with duckdb_engine.connect() as connection:\n",
    "    \n",
    "    transaction = connection.begin()\n",
    "    \n",
    "    connection.execute(text(\"\"\"\n",
    "    CREATE TEMPORARY TABLE normalized_contexts AS\n",
    "    SELECT\n",
    "        id,\n",
    "        harmonized_name,\n",
    "        content,\n",
    "        regexp_replace(trim(lower(content)), '\\\\s+', ' ', 'g') AS normalized\n",
    "    FROM\n",
    "        main.attributes\n",
    "    WHERE\n",
    "        harmonized_name IN ('env_broad_scale', 'env_local_scale', 'env_medium');\n",
    "    \"\"\"))\n",
    "\n",
    "    connection.execute(text(\"\"\"\n",
    "    CREATE TABLE main.normalized_context_strings (\n",
    "    normalized_context_string_id INTEGER PRIMARY KEY,\n",
    "    normalized_context_string TEXT UNIQUE\n",
    "    );\n",
    "    \"\"\"))\n",
    "\n",
    "    connection.execute(text(\"\"\"\n",
    "    INSERT INTO main.normalized_context_strings (normalized_context_string_id, normalized_context_string)\n",
    "    SELECT\n",
    "        ROW_NUMBER() OVER () AS string_id,\n",
    "        normalized\n",
    "    FROM (\n",
    "        SELECT DISTINCT normalized\n",
    "        FROM main.normalized_contexts\n",
    "    ) sub;\n",
    "    \"\"\"))\n",
    "    \n",
    "    connection.execute(text(\"\"\"\n",
    "    CREATE TABLE main.contexts_to_normalized_strings (\n",
    "    id INTEGER ,\n",
    "    harmonized_name TEXT ,\n",
    "    normalized_context_string_id INTEGER\n",
    "    );\n",
    "    \"\"\"))\n",
    "\n",
    "    connection.execute(text(\"\"\"\n",
    "    INSERT INTO main.contexts_to_normalized_strings (id, harmonized_name, normalized_context_string_id)\n",
    "    SELECT\n",
    "        nc.id,\n",
    "        nc.harmonized_name,\n",
    "        ncs.normalized_context_string_id\n",
    "    FROM\n",
    "        main.normalized_contexts nc\n",
    "    JOIN main.normalized_context_strings ncs\n",
    "    ON\n",
    "        nc.normalized = ncs.normalized_context_string;\n",
    "    \"\"\"))\n",
    "\n",
    "    connection.execute(text(\"\"\"\n",
    "    drop table if exists main.normalized_contexts;\n",
    "    \"\"\"))\n",
    "    connection.execute(text(\"\"\"\n",
    "    drop table if exists normalized_contexts;\n",
    "    \"\"\"))\n",
    "\n",
    "    transaction.commit()\n"
   ],
   "id": "e36e370664f9a65b",
   "outputs": [
    {
     "data": {
      "text/plain": [
       "FloatProgress(value=0.0, layout=Layout(width='auto'), style=ProgressStyle(bar_color='black'))"
      ],
      "application/vnd.jupyter.widget-view+json": {
       "version_major": 2,
       "version_minor": 0,
       "model_id": "e8f9bae3b9c443bb930d65de558867bd"
      }
     },
     "metadata": {},
     "output_type": "display_data"
    },
    {
     "data": {
      "text/plain": [
       "FloatProgress(value=0.0, layout=Layout(width='auto'), style=ProgressStyle(bar_color='black'))"
      ],
      "application/vnd.jupyter.widget-view+json": {
       "version_major": 2,
       "version_minor": 0,
       "model_id": "a0e4c419954c490280b1a10f6af2690e"
      }
     },
     "metadata": {},
     "output_type": "display_data"
    },
    {
     "data": {
      "text/plain": [
       "FloatProgress(value=0.0, layout=Layout(width='auto'), style=ProgressStyle(bar_color='black'))"
      ],
      "application/vnd.jupyter.widget-view+json": {
       "version_major": 2,
       "version_minor": 0,
       "model_id": "eb5a118c82384cc1a5f2de53daa12052"
      }
     },
     "metadata": {},
     "output_type": "display_data"
    }
   ],
   "execution_count": 22
  },
  {
   "metadata": {
    "ExecuteTime": {
     "end_time": "2024-12-10T00:38:57.080085Z",
     "start_time": "2024-12-10T00:38:57.068708Z"
    }
   },
   "cell_type": "code",
   "source": "list_tables(duckdb_engine)",
   "id": "8953d3cc6ca1e3ef",
   "outputs": [
    {
     "name": "stdout",
     "output_type": "stream",
     "text": [
      "Tables in the current schema:\n",
      " - attributes\n",
      " - contexts_to_normalized_strings\n",
      " - harmonized_attributes_wide\n",
      " - ids\n",
      " - links\n",
      " - normalized_context_strings\n",
      " - organism\n",
      " - overview\n"
     ]
    }
   ],
   "execution_count": 23
  },
  {
   "metadata": {
    "ExecuteTime": {
     "end_time": "2024-12-10T00:38:59.398126Z",
     "start_time": "2024-12-10T00:38:58.781184Z"
    }
   },
   "cell_type": "code",
   "source": "df = pd.read_sql(\"select * from main.normalized_context_strings\", duckdb_engine)",
   "id": "b0ab8b7b76f3ba6a",
   "outputs": [],
   "execution_count": 24
  },
  {
   "metadata": {
    "ExecuteTime": {
     "end_time": "2024-12-10T00:39:02.536988Z",
     "start_time": "2024-12-10T00:39:02.526309Z"
    }
   },
   "cell_type": "code",
   "source": "df",
   "id": "e147d77ffd7eb490",
   "outputs": [
    {
     "data": {
      "text/plain": [
       "        normalized_context_string_id  \\\n",
       "0                                  1   \n",
       "1                                  2   \n",
       "2                                  3   \n",
       "3                                  4   \n",
       "4                                  5   \n",
       "...                              ...   \n",
       "165331                        165332   \n",
       "165332                        165333   \n",
       "165333                        165334   \n",
       "165334                        165335   \n",
       "165335                        165336   \n",
       "\n",
       "                                normalized_context_string  \n",
       "0                                          not determined  \n",
       "1                                        arboreal habitat  \n",
       "2                                   antarctic cold desert  \n",
       "3                         managed aquifer recharge system  \n",
       "4                                                   water  \n",
       "...                                                   ...  \n",
       "165331                            peatland[envo_00000044]  \n",
       "165332                                            tropica  \n",
       "165333                         6.6 estuary/coastal waters  \n",
       "165334                                       hinderbanken  \n",
       "165335  area of developed space [envo_01001269], tempe...  \n",
       "\n",
       "[165336 rows x 2 columns]"
      ],
      "text/html": [
       "<div>\n",
       "<style scoped>\n",
       "    .dataframe tbody tr th:only-of-type {\n",
       "        vertical-align: middle;\n",
       "    }\n",
       "\n",
       "    .dataframe tbody tr th {\n",
       "        vertical-align: top;\n",
       "    }\n",
       "\n",
       "    .dataframe thead th {\n",
       "        text-align: right;\n",
       "    }\n",
       "</style>\n",
       "<table border=\"1\" class=\"dataframe\">\n",
       "  <thead>\n",
       "    <tr style=\"text-align: right;\">\n",
       "      <th></th>\n",
       "      <th>normalized_context_string_id</th>\n",
       "      <th>normalized_context_string</th>\n",
       "    </tr>\n",
       "  </thead>\n",
       "  <tbody>\n",
       "    <tr>\n",
       "      <th>0</th>\n",
       "      <td>1</td>\n",
       "      <td>not determined</td>\n",
       "    </tr>\n",
       "    <tr>\n",
       "      <th>1</th>\n",
       "      <td>2</td>\n",
       "      <td>arboreal habitat</td>\n",
       "    </tr>\n",
       "    <tr>\n",
       "      <th>2</th>\n",
       "      <td>3</td>\n",
       "      <td>antarctic cold desert</td>\n",
       "    </tr>\n",
       "    <tr>\n",
       "      <th>3</th>\n",
       "      <td>4</td>\n",
       "      <td>managed aquifer recharge system</td>\n",
       "    </tr>\n",
       "    <tr>\n",
       "      <th>4</th>\n",
       "      <td>5</td>\n",
       "      <td>water</td>\n",
       "    </tr>\n",
       "    <tr>\n",
       "      <th>...</th>\n",
       "      <td>...</td>\n",
       "      <td>...</td>\n",
       "    </tr>\n",
       "    <tr>\n",
       "      <th>165331</th>\n",
       "      <td>165332</td>\n",
       "      <td>peatland[envo_00000044]</td>\n",
       "    </tr>\n",
       "    <tr>\n",
       "      <th>165332</th>\n",
       "      <td>165333</td>\n",
       "      <td>tropica</td>\n",
       "    </tr>\n",
       "    <tr>\n",
       "      <th>165333</th>\n",
       "      <td>165334</td>\n",
       "      <td>6.6 estuary/coastal waters</td>\n",
       "    </tr>\n",
       "    <tr>\n",
       "      <th>165334</th>\n",
       "      <td>165335</td>\n",
       "      <td>hinderbanken</td>\n",
       "    </tr>\n",
       "    <tr>\n",
       "      <th>165335</th>\n",
       "      <td>165336</td>\n",
       "      <td>area of developed space [envo_01001269], tempe...</td>\n",
       "    </tr>\n",
       "  </tbody>\n",
       "</table>\n",
       "<p>165336 rows × 2 columns</p>\n",
       "</div>"
      ]
     },
     "execution_count": 25,
     "metadata": {},
     "output_type": "execute_result"
    }
   ],
   "execution_count": 25
  },
  {
   "metadata": {
    "ExecuteTime": {
     "end_time": "2024-12-10T00:39:08.016356Z",
     "start_time": "2024-12-10T00:39:07.682457Z"
    }
   },
   "cell_type": "code",
   "source": [
    "# Step 1: Split the 'normalized_context_string' column on the pipe character\n",
    "df['normalized_context_string'] = df['normalized_context_string'].str.split('|')\n"
   ],
   "id": "2ee9635c76bb689f",
   "outputs": [],
   "execution_count": 26
  },
  {
   "metadata": {
    "ExecuteTime": {
     "end_time": "2024-12-10T00:39:09.017599Z",
     "start_time": "2024-12-10T00:39:08.980956Z"
    }
   },
   "cell_type": "code",
   "source": [
    "# Step 2: Explode the DataFrame to create separate rows for each split value\n",
    "df = df.explode('normalized_context_string', ignore_index=True)"
   ],
   "id": "162626bec236275e",
   "outputs": [],
   "execution_count": 27
  },
  {
   "metadata": {
    "ExecuteTime": {
     "end_time": "2024-12-10T00:39:10.282395Z",
     "start_time": "2024-12-10T00:39:10.274099Z"
    }
   },
   "cell_type": "code",
   "source": "df",
   "id": "c76642a99074d808",
   "outputs": [
    {
     "data": {
      "text/plain": [
       "        normalized_context_string_id  \\\n",
       "0                                  1   \n",
       "1                                  2   \n",
       "2                                  3   \n",
       "3                                  4   \n",
       "4                                  5   \n",
       "...                              ...   \n",
       "177894                        165332   \n",
       "177895                        165333   \n",
       "177896                        165334   \n",
       "177897                        165335   \n",
       "177898                        165336   \n",
       "\n",
       "                                normalized_context_string  \n",
       "0                                          not determined  \n",
       "1                                        arboreal habitat  \n",
       "2                                   antarctic cold desert  \n",
       "3                         managed aquifer recharge system  \n",
       "4                                                   water  \n",
       "...                                                   ...  \n",
       "177894                            peatland[envo_00000044]  \n",
       "177895                                            tropica  \n",
       "177896                         6.6 estuary/coastal waters  \n",
       "177897                                       hinderbanken  \n",
       "177898  area of developed space [envo_01001269], tempe...  \n",
       "\n",
       "[177899 rows x 2 columns]"
      ],
      "text/html": [
       "<div>\n",
       "<style scoped>\n",
       "    .dataframe tbody tr th:only-of-type {\n",
       "        vertical-align: middle;\n",
       "    }\n",
       "\n",
       "    .dataframe tbody tr th {\n",
       "        vertical-align: top;\n",
       "    }\n",
       "\n",
       "    .dataframe thead th {\n",
       "        text-align: right;\n",
       "    }\n",
       "</style>\n",
       "<table border=\"1\" class=\"dataframe\">\n",
       "  <thead>\n",
       "    <tr style=\"text-align: right;\">\n",
       "      <th></th>\n",
       "      <th>normalized_context_string_id</th>\n",
       "      <th>normalized_context_string</th>\n",
       "    </tr>\n",
       "  </thead>\n",
       "  <tbody>\n",
       "    <tr>\n",
       "      <th>0</th>\n",
       "      <td>1</td>\n",
       "      <td>not determined</td>\n",
       "    </tr>\n",
       "    <tr>\n",
       "      <th>1</th>\n",
       "      <td>2</td>\n",
       "      <td>arboreal habitat</td>\n",
       "    </tr>\n",
       "    <tr>\n",
       "      <th>2</th>\n",
       "      <td>3</td>\n",
       "      <td>antarctic cold desert</td>\n",
       "    </tr>\n",
       "    <tr>\n",
       "      <th>3</th>\n",
       "      <td>4</td>\n",
       "      <td>managed aquifer recharge system</td>\n",
       "    </tr>\n",
       "    <tr>\n",
       "      <th>4</th>\n",
       "      <td>5</td>\n",
       "      <td>water</td>\n",
       "    </tr>\n",
       "    <tr>\n",
       "      <th>...</th>\n",
       "      <td>...</td>\n",
       "      <td>...</td>\n",
       "    </tr>\n",
       "    <tr>\n",
       "      <th>177894</th>\n",
       "      <td>165332</td>\n",
       "      <td>peatland[envo_00000044]</td>\n",
       "    </tr>\n",
       "    <tr>\n",
       "      <th>177895</th>\n",
       "      <td>165333</td>\n",
       "      <td>tropica</td>\n",
       "    </tr>\n",
       "    <tr>\n",
       "      <th>177896</th>\n",
       "      <td>165334</td>\n",
       "      <td>6.6 estuary/coastal waters</td>\n",
       "    </tr>\n",
       "    <tr>\n",
       "      <th>177897</th>\n",
       "      <td>165335</td>\n",
       "      <td>hinderbanken</td>\n",
       "    </tr>\n",
       "    <tr>\n",
       "      <th>177898</th>\n",
       "      <td>165336</td>\n",
       "      <td>area of developed space [envo_01001269], tempe...</td>\n",
       "    </tr>\n",
       "  </tbody>\n",
       "</table>\n",
       "<p>177899 rows × 2 columns</p>\n",
       "</div>"
      ]
     },
     "execution_count": 28,
     "metadata": {},
     "output_type": "execute_result"
    }
   ],
   "execution_count": 28
  },
  {
   "metadata": {
    "ExecuteTime": {
     "end_time": "2024-12-10T00:39:15.128972Z",
     "start_time": "2024-12-10T00:39:15.087587Z"
    }
   },
   "cell_type": "code",
   "source": "unique_count = df['normalized_context_string'].nunique()\n",
   "id": "141ed0f916e212ab",
   "outputs": [],
   "execution_count": 29
  },
  {
   "metadata": {
    "ExecuteTime": {
     "end_time": "2024-12-10T00:39:16.656891Z",
     "start_time": "2024-12-10T00:39:16.653457Z"
    }
   },
   "cell_type": "code",
   "source": "print(f\"Number of unique values: {unique_count}\")",
   "id": "863b78c336024853",
   "outputs": [
    {
     "name": "stdout",
     "output_type": "stream",
     "text": [
      "Number of unique values: 164651\n"
     ]
    }
   ],
   "execution_count": 30
  },
  {
   "metadata": {
    "ExecuteTime": {
     "end_time": "2024-12-10T00:39:18.453785Z",
     "start_time": "2024-12-10T00:39:18.448958Z"
    }
   },
   "cell_type": "code",
   "source": [
    "with duckdb_engine.connect() as connection:\n",
    "    transaction = connection.begin()\n",
    "    connection.execute(text(\"DROP TABLE IF EXISTS main.split_normalized_contexts;\"))\n",
    "    transaction.commit()"
   ],
   "id": "bb30de4a60919c8f",
   "outputs": [],
   "execution_count": 31
  },
  {
   "metadata": {
    "ExecuteTime": {
     "end_time": "2024-12-10T00:39:55.123494Z",
     "start_time": "2024-12-10T00:39:50.488945Z"
    }
   },
   "cell_type": "code",
   "source": [
    "with duckdb_engine.connect() as connection:\n",
    "    df.to_sql('split_normalized_contexts', connection, if_exists='replace', index=False)"
   ],
   "id": "ccc14b00db257cfe",
   "outputs": [],
   "execution_count": 33
  },
  {
   "metadata": {
    "ExecuteTime": {
     "end_time": "2024-12-10T00:39:57.440837Z",
     "start_time": "2024-12-10T00:39:57.433820Z"
    }
   },
   "cell_type": "code",
   "source": [
    "with duckdb_engine.connect() as connection:\n",
    "    transaction = connection.begin()\n",
    "    connection.execute(text(\"DROP TABLE IF EXISTS main.normalized_to_split;\"))\n",
    "    connection.execute(text(\"DROP TABLE IF EXISTS main.unique_split_normalized_context_strings;\"))\n",
    "    connection.execute(text(\"DROP TABLE IF EXISTS normalized_to_split;\"))\n",
    "    connection.execute(text(\"DROP TABLE IF EXISTS unique_split_normalized_context_strings;\"))\n",
    "    transaction.commit()"
   ],
   "id": "260342ac214e0cd2",
   "outputs": [],
   "execution_count": 34
  },
  {
   "metadata": {
    "ExecuteTime": {
     "end_time": "2024-12-10T00:40:01.829971Z",
     "start_time": "2024-12-10T00:39:59.004069Z"
    }
   },
   "cell_type": "code",
   "source": [
    "with duckdb_engine.connect() as connection:\n",
    "    transaction = connection.begin()\n",
    "    connection.execute(text(\"\"\"\n",
    "    CREATE TABLE main.unique_split_normalized_context_strings (\n",
    "    unique_split_normalized_context_string_id INTEGER PRIMARY KEY,\n",
    "    unique_split_normalized_context_string TEXT UNIQUE\n",
    "    );\n",
    "    \"\"\"))\n",
    "\n",
    "    connection.execute(text(\"\"\"\n",
    "    INSERT INTO main.unique_split_normalized_context_strings (unique_split_normalized_context_string_id, unique_split_normalized_context_string)\n",
    "    SELECT\n",
    "        ROW_NUMBER() OVER () AS unique_split_normalized_context_string_id,\n",
    "        normalized_context_string\n",
    "    FROM (\n",
    "        SELECT DISTINCT normalized_context_string\n",
    "        FROM main.split_normalized_contexts\n",
    "    ) sub;\n",
    "    \"\"\"))\n",
    "\n",
    "    connection.execute(text(\"\"\"\n",
    "    CREATE TABLE main.normalized_to_split (\n",
    "    normalized_context_string_id INTEGER ,\n",
    "    unique_split_normalized_context_string_id INTEGER\n",
    "    );\n",
    "    \"\"\"))\n",
    "\n",
    "    connection.execute(text(\"\"\"\n",
    "    INSERT INTO main.normalized_to_split (normalized_context_string_id, unique_split_normalized_context_string_id)\n",
    "    SELECT\n",
    "        snc.normalized_context_string_id,\n",
    "        usncs.unique_split_normalized_context_string_id\n",
    "    FROM\n",
    "        main.split_normalized_contexts snc\n",
    "    JOIN main.unique_split_normalized_context_strings usncs\n",
    "    ON\n",
    "        snc.normalized_context_string = usncs.unique_split_normalized_context_string;\n",
    "    \"\"\"))\n",
    "\n",
    "    transaction.commit()"
   ],
   "id": "b754e7d7f10d9439",
   "outputs": [
    {
     "data": {
      "text/plain": [
       "FloatProgress(value=0.0, layout=Layout(width='auto'), style=ProgressStyle(bar_color='black'))"
      ],
      "application/vnd.jupyter.widget-view+json": {
       "version_major": 2,
       "version_minor": 0,
       "model_id": "39832f47561c42b2b8223a96dc587b6f"
      }
     },
     "metadata": {},
     "output_type": "display_data"
    }
   ],
   "execution_count": 35
  },
  {
   "metadata": {
    "ExecuteTime": {
     "end_time": "2024-12-10T00:40:06.546808Z",
     "start_time": "2024-12-10T00:40:06.032581Z"
    }
   },
   "cell_type": "code",
   "source": "unique_split_normalized_context_strings = pd.read_sql(\"select * from main.unique_split_normalized_context_strings\", duckdb_engine)",
   "id": "1ce0c544214d4e28",
   "outputs": [],
   "execution_count": 36
  },
  {
   "metadata": {
    "ExecuteTime": {
     "end_time": "2024-12-10T00:40:07.585872Z",
     "start_time": "2024-12-10T00:40:07.575889Z"
    }
   },
   "cell_type": "code",
   "source": "unique_split_normalized_context_strings",
   "id": "838d1a44e76233fe",
   "outputs": [
    {
     "data": {
      "text/plain": [
       "        unique_split_normalized_context_string_id  \\\n",
       "0                                               1   \n",
       "1                                               2   \n",
       "2                                               3   \n",
       "3                                               4   \n",
       "4                                               5   \n",
       "...                                           ...   \n",
       "164647                                     164648   \n",
       "164648                                     164649   \n",
       "164649                                     164650   \n",
       "164650                                     164651   \n",
       "164651                                     164652   \n",
       "\n",
       "       unique_split_normalized_context_string  \n",
       "0           increased acetate concentrations   \n",
       "1                              sediment biome  \n",
       "2                                     orchard  \n",
       "3            rhododendron sp. 'golden belle'   \n",
       "4                               quercus ilex   \n",
       "...                                       ...  \n",
       "164647                            bto:0002135  \n",
       "164648                            bto:0002244  \n",
       "164649                            bto:0002320  \n",
       "164650                            bto:0002416  \n",
       "164651                            bto:0002421  \n",
       "\n",
       "[164652 rows x 2 columns]"
      ],
      "text/html": [
       "<div>\n",
       "<style scoped>\n",
       "    .dataframe tbody tr th:only-of-type {\n",
       "        vertical-align: middle;\n",
       "    }\n",
       "\n",
       "    .dataframe tbody tr th {\n",
       "        vertical-align: top;\n",
       "    }\n",
       "\n",
       "    .dataframe thead th {\n",
       "        text-align: right;\n",
       "    }\n",
       "</style>\n",
       "<table border=\"1\" class=\"dataframe\">\n",
       "  <thead>\n",
       "    <tr style=\"text-align: right;\">\n",
       "      <th></th>\n",
       "      <th>unique_split_normalized_context_string_id</th>\n",
       "      <th>unique_split_normalized_context_string</th>\n",
       "    </tr>\n",
       "  </thead>\n",
       "  <tbody>\n",
       "    <tr>\n",
       "      <th>0</th>\n",
       "      <td>1</td>\n",
       "      <td>increased acetate concentrations</td>\n",
       "    </tr>\n",
       "    <tr>\n",
       "      <th>1</th>\n",
       "      <td>2</td>\n",
       "      <td>sediment biome</td>\n",
       "    </tr>\n",
       "    <tr>\n",
       "      <th>2</th>\n",
       "      <td>3</td>\n",
       "      <td>orchard</td>\n",
       "    </tr>\n",
       "    <tr>\n",
       "      <th>3</th>\n",
       "      <td>4</td>\n",
       "      <td>rhododendron sp. 'golden belle'</td>\n",
       "    </tr>\n",
       "    <tr>\n",
       "      <th>4</th>\n",
       "      <td>5</td>\n",
       "      <td>quercus ilex</td>\n",
       "    </tr>\n",
       "    <tr>\n",
       "      <th>...</th>\n",
       "      <td>...</td>\n",
       "      <td>...</td>\n",
       "    </tr>\n",
       "    <tr>\n",
       "      <th>164647</th>\n",
       "      <td>164648</td>\n",
       "      <td>bto:0002135</td>\n",
       "    </tr>\n",
       "    <tr>\n",
       "      <th>164648</th>\n",
       "      <td>164649</td>\n",
       "      <td>bto:0002244</td>\n",
       "    </tr>\n",
       "    <tr>\n",
       "      <th>164649</th>\n",
       "      <td>164650</td>\n",
       "      <td>bto:0002320</td>\n",
       "    </tr>\n",
       "    <tr>\n",
       "      <th>164650</th>\n",
       "      <td>164651</td>\n",
       "      <td>bto:0002416</td>\n",
       "    </tr>\n",
       "    <tr>\n",
       "      <th>164651</th>\n",
       "      <td>164652</td>\n",
       "      <td>bto:0002421</td>\n",
       "    </tr>\n",
       "  </tbody>\n",
       "</table>\n",
       "<p>164652 rows × 2 columns</p>\n",
       "</div>"
      ]
     },
     "execution_count": 37,
     "metadata": {},
     "output_type": "execute_result"
    }
   ],
   "execution_count": 37
  },
  {
   "metadata": {
    "ExecuteTime": {
     "end_time": "2024-12-10T00:40:10.190220Z",
     "start_time": "2024-12-10T00:40:10.032399Z"
    }
   },
   "cell_type": "code",
   "source": [
    "# Count occurrences of 'envo:' and 'envo_' for each row\n",
    "unique_split_normalized_context_strings['envo_count'] = (\n",
    "    unique_split_normalized_context_strings['unique_split_normalized_context_string'].str.count('envo:') +\n",
    "    unique_split_normalized_context_strings['unique_split_normalized_context_string'].str.count('envo_')\n",
    ")"
   ],
   "id": "56300be8efd881c0",
   "outputs": [],
   "execution_count": 38
  },
  {
   "metadata": {
    "ExecuteTime": {
     "end_time": "2024-12-10T00:40:11.393877Z",
     "start_time": "2024-12-10T00:40:11.386420Z"
    }
   },
   "cell_type": "code",
   "source": "unique_split_normalized_context_strings['envo_count'].value_counts()",
   "id": "60e6484514fa2a87",
   "outputs": [
    {
     "data": {
      "text/plain": [
       "envo_count\n",
       "0.0    141771\n",
       "1.0     22309\n",
       "2.0       523\n",
       "3.0        42\n",
       "4.0         5\n",
       "7.0         1\n",
       "Name: count, dtype: int64"
      ]
     },
     "execution_count": 39,
     "metadata": {},
     "output_type": "execute_result"
    }
   ],
   "execution_count": 39
  },
  {
   "metadata": {
    "ExecuteTime": {
     "end_time": "2024-12-10T00:40:15.569576Z",
     "start_time": "2024-12-10T00:40:15.549029Z"
    }
   },
   "cell_type": "code",
   "source": [
    "# Ensure the column has string values and handle non-string entries\n",
    "unique_split_normalized_context_strings['unique_split_normalized_context_string'] = unique_split_normalized_context_strings['unique_split_normalized_context_string'].fillna(\"\").astype(str)\n"
   ],
   "id": "f345800a18c22245",
   "outputs": [],
   "execution_count": 40
  },
  {
   "metadata": {
    "ExecuteTime": {
     "end_time": "2024-12-10T00:40:20.198871Z",
     "start_time": "2024-12-10T00:40:17.555481Z"
    }
   },
   "cell_type": "code",
   "source": [
    "# Apply the CURIE extraction function to each row\n",
    "curies_list = unique_split_normalized_context_strings.apply(\n",
    "    lambda row: extract_curies_from_text(\n",
    "        row[\"unique_split_normalized_context_string\"],\n",
    "        row.get(\"unique_split_normalized_context_string_id\", None)  # Pass row ID if available\n",
    "    ), axis=1\n",
    ").explode().dropna()"
   ],
   "id": "2580161c027b9567",
   "outputs": [],
   "execution_count": 41
  },
  {
   "metadata": {
    "ExecuteTime": {
     "end_time": "2024-12-10T00:40:21.943493Z",
     "start_time": "2024-12-10T00:40:21.909380Z"
    }
   },
   "cell_type": "code",
   "source": [
    "# Convert the list of dictionaries into a DataFrame\n",
    "direct_curies_in_splits = pd.DataFrame(curies_list.tolist())"
   ],
   "id": "5c241fe1adb7c0a7",
   "outputs": [],
   "execution_count": 42
  },
  {
   "metadata": {
    "ExecuteTime": {
     "end_time": "2024-12-10T00:40:25.546474Z",
     "start_time": "2024-12-10T00:40:25.526596Z"
    }
   },
   "cell_type": "code",
   "source": [
    "direct_curies_in_splits['reassembled_curie'] = direct_curies_in_splits['curie_prefix'].fillna('').str.upper() + \\\n",
    "                                 \":\" + \\\n",
    "                                 direct_curies_in_splits['curie_local_id'].fillna('')"
   ],
   "id": "6928d761b22cfe44",
   "outputs": [],
   "execution_count": 43
  },
  {
   "metadata": {
    "ExecuteTime": {
     "end_time": "2024-12-10T00:40:26.915702Z",
     "start_time": "2024-12-10T00:40:26.912338Z"
    }
   },
   "cell_type": "code",
   "source": [
    "# Drop the specified columns\n",
    "direct_curies_in_splits = direct_curies_in_splits.drop(columns=['curie_delimiter', 'curie_local_id'])"
   ],
   "id": "2fa3ae1f198a186",
   "outputs": [],
   "execution_count": 44
  },
  {
   "metadata": {
    "ExecuteTime": {
     "end_time": "2024-12-10T00:40:29.271688Z",
     "start_time": "2024-12-10T00:40:29.268403Z"
    }
   },
   "cell_type": "code",
   "source": "direct_curies_in_splits = direct_curies_in_splits.rename(columns={'row_id': 'unique_split_normalized_context_string_id'})",
   "id": "95a10ba1f2aa1f5a",
   "outputs": [],
   "execution_count": 45
  },
  {
   "metadata": {
    "ExecuteTime": {
     "end_time": "2024-12-10T00:40:30.119172Z",
     "start_time": "2024-12-10T00:40:30.111555Z"
    }
   },
   "cell_type": "code",
   "source": "direct_curies_in_splits",
   "id": "c5ba09a3587025f6",
   "outputs": [
    {
     "data": {
      "text/plain": [
       "       unique_split_normalized_context_string_id curie_prefix  \\\n",
       "0                                              6         envo   \n",
       "1                                              8         envo   \n",
       "2                                             12         envo   \n",
       "3                                             13         envo   \n",
       "4                                             14         envo   \n",
       "...                                          ...          ...   \n",
       "26863                                     164648          bto   \n",
       "26864                                     164649          bto   \n",
       "26865                                     164650          bto   \n",
       "26866                                     164651          bto   \n",
       "26867                                     164652          bto   \n",
       "\n",
       "      reassembled_curie  \n",
       "0         ENVO:01001581  \n",
       "1         ENVO:00000044  \n",
       "2         ENVO:00005770  \n",
       "3         ENVO:04000009  \n",
       "4         ENVO:00000078  \n",
       "...                 ...  \n",
       "26863       BTO:0002135  \n",
       "26864       BTO:0002244  \n",
       "26865       BTO:0002320  \n",
       "26866       BTO:0002416  \n",
       "26867       BTO:0002421  \n",
       "\n",
       "[26868 rows x 3 columns]"
      ],
      "text/html": [
       "<div>\n",
       "<style scoped>\n",
       "    .dataframe tbody tr th:only-of-type {\n",
       "        vertical-align: middle;\n",
       "    }\n",
       "\n",
       "    .dataframe tbody tr th {\n",
       "        vertical-align: top;\n",
       "    }\n",
       "\n",
       "    .dataframe thead th {\n",
       "        text-align: right;\n",
       "    }\n",
       "</style>\n",
       "<table border=\"1\" class=\"dataframe\">\n",
       "  <thead>\n",
       "    <tr style=\"text-align: right;\">\n",
       "      <th></th>\n",
       "      <th>unique_split_normalized_context_string_id</th>\n",
       "      <th>curie_prefix</th>\n",
       "      <th>reassembled_curie</th>\n",
       "    </tr>\n",
       "  </thead>\n",
       "  <tbody>\n",
       "    <tr>\n",
       "      <th>0</th>\n",
       "      <td>6</td>\n",
       "      <td>envo</td>\n",
       "      <td>ENVO:01001581</td>\n",
       "    </tr>\n",
       "    <tr>\n",
       "      <th>1</th>\n",
       "      <td>8</td>\n",
       "      <td>envo</td>\n",
       "      <td>ENVO:00000044</td>\n",
       "    </tr>\n",
       "    <tr>\n",
       "      <th>2</th>\n",
       "      <td>12</td>\n",
       "      <td>envo</td>\n",
       "      <td>ENVO:00005770</td>\n",
       "    </tr>\n",
       "    <tr>\n",
       "      <th>3</th>\n",
       "      <td>13</td>\n",
       "      <td>envo</td>\n",
       "      <td>ENVO:04000009</td>\n",
       "    </tr>\n",
       "    <tr>\n",
       "      <th>4</th>\n",
       "      <td>14</td>\n",
       "      <td>envo</td>\n",
       "      <td>ENVO:00000078</td>\n",
       "    </tr>\n",
       "    <tr>\n",
       "      <th>...</th>\n",
       "      <td>...</td>\n",
       "      <td>...</td>\n",
       "      <td>...</td>\n",
       "    </tr>\n",
       "    <tr>\n",
       "      <th>26863</th>\n",
       "      <td>164648</td>\n",
       "      <td>bto</td>\n",
       "      <td>BTO:0002135</td>\n",
       "    </tr>\n",
       "    <tr>\n",
       "      <th>26864</th>\n",
       "      <td>164649</td>\n",
       "      <td>bto</td>\n",
       "      <td>BTO:0002244</td>\n",
       "    </tr>\n",
       "    <tr>\n",
       "      <th>26865</th>\n",
       "      <td>164650</td>\n",
       "      <td>bto</td>\n",
       "      <td>BTO:0002320</td>\n",
       "    </tr>\n",
       "    <tr>\n",
       "      <th>26866</th>\n",
       "      <td>164651</td>\n",
       "      <td>bto</td>\n",
       "      <td>BTO:0002416</td>\n",
       "    </tr>\n",
       "    <tr>\n",
       "      <th>26867</th>\n",
       "      <td>164652</td>\n",
       "      <td>bto</td>\n",
       "      <td>BTO:0002421</td>\n",
       "    </tr>\n",
       "  </tbody>\n",
       "</table>\n",
       "<p>26868 rows × 3 columns</p>\n",
       "</div>"
      ]
     },
     "execution_count": 46,
     "metadata": {},
     "output_type": "execute_result"
    }
   ],
   "execution_count": 46
  },
  {
   "metadata": {
    "ExecuteTime": {
     "end_time": "2024-12-10T00:40:33.712287Z",
     "start_time": "2024-12-10T00:40:33.703123Z"
    }
   },
   "cell_type": "code",
   "source": "direct_curies_in_splits['curie_prefix'].value_counts()",
   "id": "381fed74b2678b5a",
   "outputs": [
    {
     "data": {
      "text/plain": [
       "curie_prefix\n",
       "envo      21368\n",
       "bto        2020\n",
       "uberon     1915\n",
       "foodon      441\n",
       "gut         273\n",
       "          ...  \n",
       "lsub          1\n",
       "tto           1\n",
       "mat           1\n",
       "ido           1\n",
       "lbo           1\n",
       "Name: count, Length: 67, dtype: int64"
      ]
     },
     "execution_count": 47,
     "metadata": {},
     "output_type": "execute_result"
    }
   ],
   "execution_count": 47
  },
  {
   "metadata": {
    "ExecuteTime": {
     "end_time": "2024-12-10T00:40:37.456912Z",
     "start_time": "2024-12-10T00:40:36.528311Z"
    }
   },
   "cell_type": "code",
   "source": [
    "with duckdb_engine.connect() as connection:\n",
    "    direct_curies_in_splits.to_sql('direct_curies_in_splits', connection, if_exists='replace', index=False)"
   ],
   "id": "755835bb3d4e25f2",
   "outputs": [],
   "execution_count": 48
  },
  {
   "metadata": {
    "ExecuteTime": {
     "end_time": "2024-12-10T00:40:38.581757Z",
     "start_time": "2024-12-10T00:40:38.577607Z"
    }
   },
   "cell_type": "code",
   "source": "ontologies = ['envo']",
   "id": "86f68c4023741e56",
   "outputs": [],
   "execution_count": 49
  },
  {
   "metadata": {
    "ExecuteTime": {
     "end_time": "2024-12-10T00:40:39.508756Z",
     "start_time": "2024-12-10T00:40:39.419003Z"
    }
   },
   "cell_type": "code",
   "source": "ontology_adapters = create_ontology_adapters(ontologies)",
   "id": "67e396c23115f820",
   "outputs": [],
   "execution_count": 50
  },
  {
   "metadata": {
    "ExecuteTime": {
     "end_time": "2024-12-10T00:44:50.369743Z",
     "start_time": "2024-12-10T00:40:40.355384Z"
    }
   },
   "cell_type": "code",
   "source": [
    "annotations_list = unique_split_normalized_context_strings.apply(\n",
    "    lambda row: class_detection_by_label(\n",
    "        row[\"unique_split_normalized_context_string\"],\n",
    "        ontology_adapters,\n",
    "        row[\"unique_split_normalized_context_string_id\"]\n",
    "    ), axis=1\n",
    ").explode().dropna()"
   ],
   "id": "6c2838f49213b413",
   "outputs": [
    {
     "name": "stderr",
     "output_type": "stream",
     "text": [
      "ERROR:root:Skipping statements(subject=ENVO:00000112,predicate=oio:hasDbXref,object=<http://www.eionet.europa.eu/gemet/concept/8704>,value=None,datatype=None,language=None,); ValueError: <http://www.eionet.europa.eu/gemet/concept/8704> is not a valid URI or CURIE\n",
      "ERROR:root:Skipping statements(subject=ENVO:00001996,predicate=oio:hasDbXref,object=<https://en.wikipedia.org/wiki/Acid_mine_drainage>,value=None,datatype=None,language=None,); ValueError: <https://en.wikipedia.org/wiki/Acid_mine_drainage> is not a valid URI or CURIE\n",
      "ERROR:root:Skipping statements(subject=ENVO:01000225,predicate=oio:hasDbXref,object=<https://www.worldwildlife.org/biomes/tropical-and-subtropical-dry-broadleaf-forests>,value=None,datatype=None,language=None,); ValueError: <https://www.worldwildlife.org/biomes/tropical-and-subtropical-dry-broadleaf-forests> is not a valid URI or CURIE\n",
      "ERROR:root:Skipping statements(subject=ENVO:01000227,predicate=oio:hasDbXref,object=<https://www.worldwildlife.org/biomes/tropical-and-subtropical-dry-broadleaf-forests>,value=None,datatype=None,language=None,); ValueError: <https://www.worldwildlife.org/biomes/tropical-and-subtropical-dry-broadleaf-forests> is not a valid URI or CURIE\n",
      "ERROR:root:Skipping statements(subject=ENVO:01001495,predicate=oio:hasDbXref,object=<https://www.goosocean.org/components/com_oe/oe.php?task=download&id=35904&version=2.0&lang=1&format=1>,value=None,datatype=None,language=None,); ValueError: <https://www.goosocean.org/components/com_oe/oe.php?task=download&id=35904&version=2.0&lang=1&format=1> is not a valid URI or CURIE\n",
      "ERROR:root:Skipping statements(subject=ENVO:01001621,predicate=oio:hasDbXref,object=<https://github.com/ESIPFed/sweet/issues/219>,value=None,datatype=None,language=None,); ValueError: <https://github.com/ESIPFed/sweet/issues/219> is not a valid URI or CURIE\n",
      "ERROR:root:Skipping statements(subject=ENVO:01001626,predicate=oio:hasDbXref,object=<https://www.worldwildlife.org/biomes/deserts-and-xeric-shrublands>,value=None,datatype=None,language=None,); ValueError: <https://www.worldwildlife.org/biomes/deserts-and-xeric-shrublands> is not a valid URI or CURIE\n",
      "ERROR:root:Skipping statements(subject=ENVO:01001627,predicate=oio:hasDbXref,object=<https://www.worldwildlife.org/ecoregions/im1304>,value=None,datatype=None,language=None,); ValueError: <https://www.worldwildlife.org/ecoregions/im1304> is not a valid URI or CURIE\n",
      "ERROR:root:Skipping statements(subject=ENVO:01001628,predicate=oio:hasDbXref,object=<https://www.worldwildlife.org/ecoregions/im1303>,value=None,datatype=None,language=None,); ValueError: <https://www.worldwildlife.org/ecoregions/im1303> is not a valid URI or CURIE\n",
      "ERROR:root:Skipping statements(subject=ENVO:01001644,predicate=oio:hasDbXref,object=<http://vocab.nerc.ac.uk/collection/S23/current/S23C021/>,value=None,datatype=None,language=None,); ValueError: <http://vocab.nerc.ac.uk/collection/S23/current/S23C021/> is not a valid URI or CURIE\n",
      "ERROR:root:Skipping statements(subject=ENVO:01001644,predicate=oio:hasDbXref,object=None,value=Carbonate which is formed as the result of some biological process.,datatype=None,language=None,); ValueError: Carbonate which is formed as the result of some biological process. is not a valid URI or CURIE\n",
      "ERROR:root:Skipping statements(subject=ENVO:01001645,predicate=oio:hasDbXref,object=<http://vocab.nerc.ac.uk/collection/S23/current/S23C013/>,value=None,datatype=None,language=None,); ValueError: <http://vocab.nerc.ac.uk/collection/S23/current/S23C013/> is not a valid URI or CURIE\n",
      "ERROR:root:Skipping statements(subject=ENVO:01001646,predicate=oio:hasDbXref,object=<http://vocab.nerc.ac.uk/collection/S23/current/S23C014/>,value=None,datatype=None,language=None,); ValueError: <http://vocab.nerc.ac.uk/collection/S23/current/S23C014/> is not a valid URI or CURIE\n",
      "ERROR:root:Skipping statements(subject=ENVO:01001647,predicate=oio:hasDbXref,object=<http://vocab.nerc.ac.uk/collection/S23/current/S23C004/>,value=None,datatype=None,language=None,); ValueError: <http://vocab.nerc.ac.uk/collection/S23/current/S23C004/> is not a valid URI or CURIE\n",
      "ERROR:root:Skipping statements(subject=ENVO:01001649,predicate=oio:hasDbXref,object=<http://vocab.nerc.ac.uk/collection/S23/current/S23C011/>,value=None,datatype=None,language=None,); ValueError: <http://vocab.nerc.ac.uk/collection/S23/current/S23C011/> is not a valid URI or CURIE\n",
      "ERROR:root:Skipping statements(subject=ENVO:01001650,predicate=oio:hasDbXref,object=<http://vocab.nerc.ac.uk/collection/S23/current/S23C012/>,value=None,datatype=None,language=None,); ValueError: <http://vocab.nerc.ac.uk/collection/S23/current/S23C012/> is not a valid URI or CURIE\n",
      "ERROR:root:Skipping statements(subject=ENVO:01001651,predicate=oio:hasDbXref,object=<http://vocab.nerc.ac.uk/collection/S23/current/S23C003/>,value=None,datatype=None,language=None,); ValueError: <http://vocab.nerc.ac.uk/collection/S23/current/S23C003/> is not a valid URI or CURIE\n",
      "ERROR:root:Skipping statements(subject=ENVO:01001652,predicate=oio:hasDbXref,object=<http://vocab.nerc.ac.uk/collection/S23/current/S23C005/>,value=None,datatype=None,language=None,); ValueError: <http://vocab.nerc.ac.uk/collection/S23/current/S23C005/> is not a valid URI or CURIE\n",
      "ERROR:root:Skipping statements(subject=ENVO:01001685,predicate=oio:hasDbXref,object=<https://github.com/EnvironmentOntology/envo/issues/1319>,value=None,datatype=None,language=None,); ValueError: <https://github.com/EnvironmentOntology/envo/issues/1319> is not a valid URI or CURIE\n",
      "ERROR:root:Skipping statements(subject=ENVO:01001692,predicate=oio:hasDbXref,object=<https://github.com/EnvironmentOntology/envo/issues/1319>,value=None,datatype=None,language=None,); ValueError: <https://github.com/EnvironmentOntology/envo/issues/1319> is not a valid URI or CURIE\n",
      "ERROR:root:Skipping statements(subject=ENVO:01001743,predicate=oio:hasDbXref,object=<https://github.com/EnvironmentOntology/envo/issues/1319>,value=None,datatype=None,language=None,); ValueError: <https://github.com/EnvironmentOntology/envo/issues/1319> is not a valid URI or CURIE\n",
      "ERROR:root:Skipping statements(subject=ENVO:01001799,predicate=oio:hasDbXref,object=<https://www.worldwildlife.org/biomes/tropical-and-subtropical-dry-broadleaf-forests>,value=None,datatype=None,language=None,); ValueError: <https://www.worldwildlife.org/biomes/tropical-and-subtropical-dry-broadleaf-forests> is not a valid URI or CURIE\n",
      "ERROR:root:Skipping statements(subject=ENVO:01001801,predicate=oio:hasDbXref,object=<https://www.worldwildlife.org/biomes/tropical-and-subtropical-dry-broadleaf-forests>,value=None,datatype=None,language=None,); ValueError: <https://www.worldwildlife.org/biomes/tropical-and-subtropical-dry-broadleaf-forests> is not a valid URI or CURIE\n",
      "ERROR:root:Skipping statements(subject=ENVO:01001823,predicate=oio:hasDbXref,object=<https://github.com/EnvironmentOntology/envo/issues/1319>,value=None,datatype=None,language=None,); ValueError: <https://github.com/EnvironmentOntology/envo/issues/1319> is not a valid URI or CURIE\n",
      "ERROR:root:Skipping statements(subject=ENVO:01001878,predicate=oio:hasDbXref,object=<https://www.goosocean.org/index.php?option=com_oe&task=viewDocumentRecord&docID=17476>,value=None,datatype=None,language=None,); ValueError: <https://www.goosocean.org/index.php?option=com_oe&task=viewDocumentRecord&docID=17476> is not a valid URI or CURIE\n",
      "ERROR:root:Skipping statements(subject=ENVO:01001879,predicate=oio:hasDbXref,object=<https://github.com/ESIPFed/sweet/issues/219>,value=None,datatype=None,language=None,); ValueError: <https://github.com/ESIPFed/sweet/issues/219> is not a valid URI or CURIE\n",
      "ERROR:root:Skipping statements(subject=ENVO:01001880,predicate=oio:hasDbXref,object=<https://github.com/ESIPFed/sweet/issues/219>,value=None,datatype=None,language=None,); ValueError: <https://github.com/ESIPFed/sweet/issues/219> is not a valid URI or CURIE\n",
      "ERROR:root:Skipping statements(subject=ENVO:01001881,predicate=oio:hasDbXref,object=<https://github.com/ESIPFed/sweet/issues/219>,value=None,datatype=None,language=None,); ValueError: <https://github.com/ESIPFed/sweet/issues/219> is not a valid URI or CURIE\n",
      "ERROR:root:Skipping statements(subject=ENVO:02000093,predicate=oio:hasDbXref,object=<https://en.wikipedia.org/wiki/Uranium_mining>,value=None,datatype=None,language=None,); ValueError: <https://en.wikipedia.org/wiki/Uranium_mining> is not a valid URI or CURIE\n",
      "ERROR:root:Skipping statements(subject=ENVO:02000094,predicate=oio:hasDbXref,object=<https://en.wikipedia.org/wiki/Ore>,value=None,datatype=None,language=None,); ValueError: <https://en.wikipedia.org/wiki/Ore> is not a valid URI or CURIE\n",
      "ERROR:root:Skipping statements(subject=ENVO:03501363,predicate=oio:hasDbXref,object=<https://www.conveyorsystemsltd.co.uk/news/168/126/Roller-Conveyor-vs-Belt-Conveyor.htm>,value=None,datatype=None,language=None,); ValueError: <https://www.conveyorsystemsltd.co.uk/news/168/126/Roller-Conveyor-vs-Belt-Conveyor.htm> is not a valid URI or CURIE\n",
      "ERROR:root:Skipping statements(subject=ENVO:06105112,predicate=oio:hasDbXref,object=<http://eurovoc.europa.eu/1837>,value=None,datatype=None,language=None,); ValueError: <http://eurovoc.europa.eu/1837> is not a valid URI or CURIE\n",
      "ERROR:root:Skipping statements(subject=ENVO:06105112,predicate=oio:hasDbXref,object=<http://aims.fao.org/aos/agrovoc/c_5998>,value=None,datatype=None,language=None,); ValueError: <http://aims.fao.org/aos/agrovoc/c_5998> is not a valid URI or CURIE\n",
      "WARNING:root:Skipping <http://geneontology.org/foo/applies-pattern> as it is not a valid CURIE\n",
      "WARNING:root:Skipping <http://schema.org/image> as it is not a valid CURIE\n",
      "WARNING:root:Skipping <http://swrl.stanford.edu/ontologies/3.3/swrla.owl#isRuleEnabled> as it is not a valid CURIE\n",
      "WARNING:root:Skipping <https://www.wikidata.org/wiki/Q2306597> as it is not a valid CURIE\n",
      "WARNING:root:Skipping <https://www.wikidata.org/wiki/Q2> as it is not a valid CURIE\n",
      "WARNING:root:Skipping <https://www.wikidata.org/wiki/Q525> as it is not a valid CURIE\n",
      "WARNING:root:Skipping <https://www.wikidata.org/wiki/Q715269> as it is not a valid CURIE\n"
     ]
    }
   ],
   "execution_count": 51
  },
  {
   "metadata": {
    "ExecuteTime": {
     "end_time": "2024-12-10T00:44:50.984275Z",
     "start_time": "2024-12-10T00:44:50.372291Z"
    }
   },
   "cell_type": "code",
   "source": [
    "# Convert the list of dictionaries into a DataFrame\n",
    "curies_of_strings_of_splits = pd.DataFrame(annotations_list.tolist())"
   ],
   "id": "a54297b06ef3769f",
   "outputs": [],
   "execution_count": 52
  },
  {
   "metadata": {
    "ExecuteTime": {
     "end_time": "2024-12-10T00:44:51.000427Z",
     "start_time": "2024-12-10T00:44:50.986053Z"
    }
   },
   "cell_type": "code",
   "source": [
    "# Display the resulting DataFrame\n",
    "curies_of_strings_of_splits"
   ],
   "id": "6debc49f5949ef17",
   "outputs": [
    {
     "data": {
      "text/plain": [
       "            id                 subject_string  subject_start  subject_end  \\\n",
       "0            1                  concentration             20           32   \n",
       "1            2                          biome             10           14   \n",
       "2            2                       sediment              1            8   \n",
       "3            3                        orchard              2            8   \n",
       "4            7                            sea              1            3   \n",
       "...        ...                            ...            ...          ...   \n",
       "317146  164633  experimental forest ecosystem              1           29   \n",
       "317147  164634                            wet              1            3   \n",
       "317148  164634                            wet              1            3   \n",
       "317149  164635                        estuary              1            7   \n",
       "317150  164643                          biome             14           18   \n",
       "\n",
       "                 predicate_id concluded_curie                  object_string  \\\n",
       "0         oio:hasExactSynonym    PATO:0000033                  concentration   \n",
       "1                  rdfs:label   ENVO:00000428                          biome   \n",
       "2                  rdfs:label   ENVO:00002007                       sediment   \n",
       "3                  rdfs:label   ENVO:00000115                        orchard   \n",
       "4                  rdfs:label   ENVO:00000016                            sea   \n",
       "...                       ...             ...                            ...   \n",
       "317146             rdfs:label   ENVO:03600038  experimental forest ecosystem   \n",
       "317147  oio:hasRelatedSynonym   ENVO:03501370                            wet   \n",
       "317148             rdfs:label    PATO:0001823                            wet   \n",
       "317149             rdfs:label   ENVO:00000045                        estuary   \n",
       "317150             rdfs:label   ENVO:00000428                          biome   \n",
       "\n",
       "        is_longest_match  \n",
       "0                   True  \n",
       "1                  False  \n",
       "2                   True  \n",
       "3                   True  \n",
       "4                  False  \n",
       "...                  ...  \n",
       "317146              True  \n",
       "317147              True  \n",
       "317148              True  \n",
       "317149              True  \n",
       "317150              True  \n",
       "\n",
       "[317151 rows x 8 columns]"
      ],
      "text/html": [
       "<div>\n",
       "<style scoped>\n",
       "    .dataframe tbody tr th:only-of-type {\n",
       "        vertical-align: middle;\n",
       "    }\n",
       "\n",
       "    .dataframe tbody tr th {\n",
       "        vertical-align: top;\n",
       "    }\n",
       "\n",
       "    .dataframe thead th {\n",
       "        text-align: right;\n",
       "    }\n",
       "</style>\n",
       "<table border=\"1\" class=\"dataframe\">\n",
       "  <thead>\n",
       "    <tr style=\"text-align: right;\">\n",
       "      <th></th>\n",
       "      <th>id</th>\n",
       "      <th>subject_string</th>\n",
       "      <th>subject_start</th>\n",
       "      <th>subject_end</th>\n",
       "      <th>predicate_id</th>\n",
       "      <th>concluded_curie</th>\n",
       "      <th>object_string</th>\n",
       "      <th>is_longest_match</th>\n",
       "    </tr>\n",
       "  </thead>\n",
       "  <tbody>\n",
       "    <tr>\n",
       "      <th>0</th>\n",
       "      <td>1</td>\n",
       "      <td>concentration</td>\n",
       "      <td>20</td>\n",
       "      <td>32</td>\n",
       "      <td>oio:hasExactSynonym</td>\n",
       "      <td>PATO:0000033</td>\n",
       "      <td>concentration</td>\n",
       "      <td>True</td>\n",
       "    </tr>\n",
       "    <tr>\n",
       "      <th>1</th>\n",
       "      <td>2</td>\n",
       "      <td>biome</td>\n",
       "      <td>10</td>\n",
       "      <td>14</td>\n",
       "      <td>rdfs:label</td>\n",
       "      <td>ENVO:00000428</td>\n",
       "      <td>biome</td>\n",
       "      <td>False</td>\n",
       "    </tr>\n",
       "    <tr>\n",
       "      <th>2</th>\n",
       "      <td>2</td>\n",
       "      <td>sediment</td>\n",
       "      <td>1</td>\n",
       "      <td>8</td>\n",
       "      <td>rdfs:label</td>\n",
       "      <td>ENVO:00002007</td>\n",
       "      <td>sediment</td>\n",
       "      <td>True</td>\n",
       "    </tr>\n",
       "    <tr>\n",
       "      <th>3</th>\n",
       "      <td>3</td>\n",
       "      <td>orchard</td>\n",
       "      <td>2</td>\n",
       "      <td>8</td>\n",
       "      <td>rdfs:label</td>\n",
       "      <td>ENVO:00000115</td>\n",
       "      <td>orchard</td>\n",
       "      <td>True</td>\n",
       "    </tr>\n",
       "    <tr>\n",
       "      <th>4</th>\n",
       "      <td>7</td>\n",
       "      <td>sea</td>\n",
       "      <td>1</td>\n",
       "      <td>3</td>\n",
       "      <td>rdfs:label</td>\n",
       "      <td>ENVO:00000016</td>\n",
       "      <td>sea</td>\n",
       "      <td>False</td>\n",
       "    </tr>\n",
       "    <tr>\n",
       "      <th>...</th>\n",
       "      <td>...</td>\n",
       "      <td>...</td>\n",
       "      <td>...</td>\n",
       "      <td>...</td>\n",
       "      <td>...</td>\n",
       "      <td>...</td>\n",
       "      <td>...</td>\n",
       "      <td>...</td>\n",
       "    </tr>\n",
       "    <tr>\n",
       "      <th>317146</th>\n",
       "      <td>164633</td>\n",
       "      <td>experimental forest ecosystem</td>\n",
       "      <td>1</td>\n",
       "      <td>29</td>\n",
       "      <td>rdfs:label</td>\n",
       "      <td>ENVO:03600038</td>\n",
       "      <td>experimental forest ecosystem</td>\n",
       "      <td>True</td>\n",
       "    </tr>\n",
       "    <tr>\n",
       "      <th>317147</th>\n",
       "      <td>164634</td>\n",
       "      <td>wet</td>\n",
       "      <td>1</td>\n",
       "      <td>3</td>\n",
       "      <td>oio:hasRelatedSynonym</td>\n",
       "      <td>ENVO:03501370</td>\n",
       "      <td>wet</td>\n",
       "      <td>True</td>\n",
       "    </tr>\n",
       "    <tr>\n",
       "      <th>317148</th>\n",
       "      <td>164634</td>\n",
       "      <td>wet</td>\n",
       "      <td>1</td>\n",
       "      <td>3</td>\n",
       "      <td>rdfs:label</td>\n",
       "      <td>PATO:0001823</td>\n",
       "      <td>wet</td>\n",
       "      <td>True</td>\n",
       "    </tr>\n",
       "    <tr>\n",
       "      <th>317149</th>\n",
       "      <td>164635</td>\n",
       "      <td>estuary</td>\n",
       "      <td>1</td>\n",
       "      <td>7</td>\n",
       "      <td>rdfs:label</td>\n",
       "      <td>ENVO:00000045</td>\n",
       "      <td>estuary</td>\n",
       "      <td>True</td>\n",
       "    </tr>\n",
       "    <tr>\n",
       "      <th>317150</th>\n",
       "      <td>164643</td>\n",
       "      <td>biome</td>\n",
       "      <td>14</td>\n",
       "      <td>18</td>\n",
       "      <td>rdfs:label</td>\n",
       "      <td>ENVO:00000428</td>\n",
       "      <td>biome</td>\n",
       "      <td>True</td>\n",
       "    </tr>\n",
       "  </tbody>\n",
       "</table>\n",
       "<p>317151 rows × 8 columns</p>\n",
       "</div>"
      ]
     },
     "execution_count": 53,
     "metadata": {},
     "output_type": "execute_result"
    }
   ],
   "execution_count": 53
  },
  {
   "metadata": {
    "ExecuteTime": {
     "end_time": "2024-12-10T00:45:21.286483Z",
     "start_time": "2024-12-10T00:44:51.003988Z"
    }
   },
   "cell_type": "code",
   "source": [
    "with duckdb_engine.connect() as connection:\n",
    "    curies_of_strings_of_splits.to_sql('curies_of_strings_of_splits', connection, if_exists='replace', index=False)"
   ],
   "id": "3a1c44b26013eb81",
   "outputs": [
    {
     "data": {
      "text/plain": [
       "FloatProgress(value=0.0, layout=Layout(width='auto'), style=ProgressStyle(bar_color='black'))"
      ],
      "application/vnd.jupyter.widget-view+json": {
       "version_major": 2,
       "version_minor": 0,
       "model_id": "e13b653cf70643339c8449ea618130cf"
      }
     },
     "metadata": {},
     "output_type": "display_data"
    }
   ],
   "execution_count": 54
  },
  {
   "metadata": {
    "ExecuteTime": {
     "end_time": "2024-12-10T00:45:21.297506Z",
     "start_time": "2024-12-10T00:45:21.287873Z"
    }
   },
   "cell_type": "code",
   "source": "list_tables(duckdb_engine)",
   "id": "ae3c21937bb52339",
   "outputs": [
    {
     "name": "stdout",
     "output_type": "stream",
     "text": [
      "Tables in the current schema:\n",
      " - attributes\n",
      " - contexts_to_normalized_strings\n",
      " - curies_of_strings_of_splits\n",
      " - direct_curies_in_splits\n",
      " - harmonized_attributes_wide\n",
      " - ids\n",
      " - links\n",
      " - normalized_context_strings\n",
      " - normalized_to_split\n",
      " - organism\n",
      " - overview\n",
      " - split_normalized_contexts\n",
      " - unique_split_normalized_context_strings\n"
     ]
    }
   ],
   "execution_count": 55
  },
  {
   "metadata": {
    "ExecuteTime": {
     "end_time": "2024-12-10T00:45:23.413914Z",
     "start_time": "2024-12-10T00:45:21.299114Z"
    }
   },
   "cell_type": "code",
   "source": "duckdb_engine.dispose()",
   "id": "256a91291c68def7",
   "outputs": [],
   "execution_count": 56
  },
  {
   "metadata": {},
   "cell_type": "code",
   "outputs": [],
   "execution_count": null,
   "source": "",
   "id": "da583cf134851ae7"
  }
 ],
 "metadata": {
  "kernelspec": {
   "display_name": "Python 3",
   "language": "python",
   "name": "python3"
  },
  "language_info": {
   "codemirror_mode": {
    "name": "ipython",
    "version": 2
   },
   "file_extension": ".py",
   "mimetype": "text/x-python",
   "name": "python",
   "nbconvert_exporter": "python",
   "pygments_lexer": "ipython2",
   "version": "2.7.6"
  }
 },
 "nbformat": 4,
 "nbformat_minor": 5
}
