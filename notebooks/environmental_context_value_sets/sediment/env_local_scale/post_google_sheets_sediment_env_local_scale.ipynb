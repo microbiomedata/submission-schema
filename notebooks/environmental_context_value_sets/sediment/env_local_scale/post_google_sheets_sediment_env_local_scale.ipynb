{
 "cells": [
  {
   "metadata": {
    "ExecuteTime": {
     "end_time": "2025-01-27T17:07:53.737547Z",
     "start_time": "2025-01-27T17:07:53.104255Z"
    }
   },
   "cell_type": "code",
   "source": [
    "import gspread\n",
    "from google.oauth2.service_account import Credentials\n",
    "\n",
    "import pandas as pd\n"
   ],
   "id": "7c0c89547933adc0",
   "outputs": [],
   "execution_count": 1
  },
  {
   "metadata": {
    "ExecuteTime": {
     "end_time": "2025-01-27T17:07:53.787210Z",
     "start_time": "2025-01-27T17:07:53.784399Z"
    }
   },
   "cell_type": "code",
   "source": "output_file = \"post_google_sheets_sediment_env_local_scale.tsv\"",
   "id": "6250de3178a3ec3b",
   "outputs": [],
   "execution_count": 2
  },
  {
   "metadata": {},
   "cell_type": "markdown",
   "source": "Get voting sheet directly from Google Sheets. Requires a credentials file, which must be requested from MAM.",
   "id": "805032586378fa54"
  },
  {
   "metadata": {
    "ExecuteTime": {
     "end_time": "2025-01-27T17:07:54.075918Z",
     "start_time": "2025-01-27T17:07:54.071782Z"
    }
   },
   "cell_type": "code",
   "source": [
    "# 1. Replace with the path to your downloaded JSON key file\n",
    "SERVICE_ACCOUNT_FILE = '../../env-context-voting-sheets-29d0d970ca1d.json'"
   ],
   "id": "c03d705397a4ceb7",
   "outputs": [],
   "execution_count": 3
  },
  {
   "metadata": {
    "ExecuteTime": {
     "end_time": "2025-01-27T17:07:54.237792Z",
     "start_time": "2025-01-27T17:07:54.233667Z"
    }
   },
   "cell_type": "code",
   "source": [
    "# Consolidated_soil-env-local-scale-evidence-table\n",
    "SPREADSHEET_ID = \"1t7ZMU-xc5813hXelA6xSwJdrVsoKHhBuGmcfZJ1mJUk\""
   ],
   "id": "f3e8d59114dba657",
   "outputs": [],
   "execution_count": 4
  },
  {
   "metadata": {},
   "cell_type": "markdown",
   "source": [
    "\n",
    "make sure that's shared with env-context-voting-sheets@env-context-voting-sheets.iam.gserviceaccount.com"
   ],
   "id": "6e5d13075aa9f5c0"
  },
  {
   "metadata": {
    "ExecuteTime": {
     "end_time": "2025-01-27T17:07:54.359926Z",
     "start_time": "2025-01-27T17:07:54.354405Z"
    }
   },
   "cell_type": "code",
   "source": "sheet_name = 'sediment_env_local_scale_voting_sheet'",
   "id": "3d94133909257bc",
   "outputs": [],
   "execution_count": 5
  },
  {
   "metadata": {
    "ExecuteTime": {
     "end_time": "2025-01-27T17:07:54.415184Z",
     "start_time": "2025-01-27T17:07:54.410625Z"
    }
   },
   "cell_type": "code",
   "source": [
    "# Set up credentials\n",
    "SCOPES = [\n",
    "    'https://www.googleapis.com/auth/spreadsheets',\n",
    "    'https://www.googleapis.com/auth/drive'\n",
    "]"
   ],
   "id": "186af1435dabf25b",
   "outputs": [],
   "execution_count": 6
  },
  {
   "metadata": {
    "ExecuteTime": {
     "end_time": "2025-01-27T17:07:54.467212Z",
     "start_time": "2025-01-27T17:07:54.460402Z"
    }
   },
   "cell_type": "code",
   "source": "creds = Credentials.from_service_account_file(SERVICE_ACCOUNT_FILE, scopes=SCOPES)",
   "id": "31b015ceea314eff",
   "outputs": [],
   "execution_count": 7
  },
  {
   "metadata": {
    "ExecuteTime": {
     "end_time": "2025-01-27T17:07:54.520570Z",
     "start_time": "2025-01-27T17:07:54.514543Z"
    }
   },
   "cell_type": "code",
   "source": "gc = gspread.authorize(creds)",
   "id": "b5126af16d10a20a",
   "outputs": [],
   "execution_count": 8
  },
  {
   "metadata": {
    "ExecuteTime": {
     "end_time": "2025-01-27T17:07:55.182305Z",
     "start_time": "2025-01-27T17:07:54.545512Z"
    }
   },
   "cell_type": "code",
   "source": [
    "# Open the spreadsheet\n",
    "spreadsheet = gc.open_by_key(SPREADSHEET_ID) "
   ],
   "id": "e031c1fd1b45c685",
   "outputs": [],
   "execution_count": 9
  },
  {
   "metadata": {
    "ExecuteTime": {
     "end_time": "2025-01-27T17:07:55.344714Z",
     "start_time": "2025-01-27T17:07:55.194759Z"
    }
   },
   "cell_type": "code",
   "source": "sheet = spreadsheet.worksheet(sheet_name)",
   "id": "1482919438c3c56e",
   "outputs": [],
   "execution_count": 10
  },
  {
   "metadata": {
    "ExecuteTime": {
     "end_time": "2025-01-27T17:07:55.972485Z",
     "start_time": "2025-01-27T17:07:55.358919Z"
    }
   },
   "cell_type": "code",
   "source": [
    "# Get data as a list of lists\n",
    "data = sheet.get_all_values()"
   ],
   "id": "f0ca2ba213b9a728",
   "outputs": [],
   "execution_count": 11
  },
  {
   "metadata": {
    "ExecuteTime": {
     "end_time": "2025-01-27T17:07:56.060135Z",
     "start_time": "2025-01-27T17:07:56.039616Z"
    }
   },
   "cell_type": "code",
   "source": [
    "# Convert to DataFrame\n",
    "df = pd.DataFrame(data[1:], columns=data[0])"
   ],
   "id": "dae1c7cb972e5288",
   "outputs": [],
   "execution_count": 12
  },
  {
   "metadata": {
    "ExecuteTime": {
     "end_time": "2025-01-27T17:07:56.213610Z",
     "start_time": "2025-01-27T17:07:56.208530Z"
    }
   },
   "cell_type": "code",
   "source": [
    "# # make a dataframe that has the columns curie and label. only include the rows where the include_in_enum column value is true\n",
    "# votes_df = df[df['include_in_enum'] == 'TRUE'][['curie', 'label']]"
   ],
   "id": "c992aecaa0059f8b",
   "outputs": [],
   "execution_count": 13
  },
  {
   "metadata": {},
   "cell_type": "markdown",
   "source": "# Temporary",
   "id": "c0fa502006a2e8ad"
  },
  {
   "metadata": {
    "ExecuteTime": {
     "end_time": "2025-01-27T17:07:56.285594Z",
     "start_time": "2025-01-27T17:07:56.278581Z"
    }
   },
   "cell_type": "code",
   "source": "votes_df = df[df['mam_vote'] == '1'][['curie', 'label']]",
   "id": "62ae1411f5e8756c",
   "outputs": [],
   "execution_count": 14
  },
  {
   "metadata": {
    "ExecuteTime": {
     "end_time": "2025-01-27T17:07:56.361091Z",
     "start_time": "2025-01-27T17:07:56.356418Z"
    }
   },
   "cell_type": "code",
   "source": "votes_df.columns = ['id', 'label']",
   "id": "315f5e4b5a685fd4",
   "outputs": [],
   "execution_count": 15
  },
  {
   "metadata": {
    "ExecuteTime": {
     "end_time": "2025-01-27T17:07:56.409230Z",
     "start_time": "2025-01-27T17:07:56.401471Z"
    }
   },
   "cell_type": "code",
   "source": "votes_df.to_csv(output_file, index=False, sep=\"\\t\")",
   "id": "44b60ff78bfcd82f",
   "outputs": [],
   "execution_count": 16
  },
  {
   "metadata": {
    "ExecuteTime": {
     "end_time": "2025-01-27T17:07:56.463990Z",
     "start_time": "2025-01-27T17:07:56.461175Z"
    }
   },
   "cell_type": "code",
   "source": "",
   "id": "ea13efebafc857ec",
   "outputs": [],
   "execution_count": null
  }
 ],
 "metadata": {
  "kernelspec": {
   "display_name": "Python 3",
   "language": "python",
   "name": "python3"
  },
  "language_info": {
   "codemirror_mode": {
    "name": "ipython",
    "version": 2
   },
   "file_extension": ".py",
   "mimetype": "text/x-python",
   "name": "python",
   "nbconvert_exporter": "python",
   "pygments_lexer": "ipython2",
   "version": "2.7.6"
  }
 },
 "nbformat": 4,
 "nbformat_minor": 5
}
