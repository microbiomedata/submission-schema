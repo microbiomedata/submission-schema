{
 "cells": [
  {
   "metadata": {
    "ExecuteTime": {
     "end_time": "2025-01-27T17:10:22.705456Z",
     "start_time": "2025-01-27T17:10:22.016137Z"
    }
   },
   "cell_type": "code",
   "source": [
    "import gspread\n",
    "from google.oauth2.service_account import Credentials\n",
    "\n",
    "import pandas as pd\n"
   ],
   "id": "7c0c89547933adc0",
   "outputs": [],
   "execution_count": 1
  },
  {
   "metadata": {
    "ExecuteTime": {
     "end_time": "2025-01-27T17:10:22.712904Z",
     "start_time": "2025-01-27T17:10:22.709987Z"
    }
   },
   "cell_type": "code",
   "source": "output_file = \"post_google_sheets_sediment_env_broad_scale.tsv\"",
   "id": "6250de3178a3ec3b",
   "outputs": [],
   "execution_count": 2
  },
  {
   "metadata": {},
   "cell_type": "markdown",
   "source": "Get voting sheet directly from Google Sheets. Requires a credentials file, which must be requested from MAM.",
   "id": "805032586378fa54"
  },
  {
   "metadata": {
    "ExecuteTime": {
     "end_time": "2025-01-27T17:10:22.938691Z",
     "start_time": "2025-01-27T17:10:22.936070Z"
    }
   },
   "cell_type": "code",
   "source": [
    "# 1. Replace with the path to your downloaded JSON key file\n",
    "SERVICE_ACCOUNT_FILE = '../../env-context-voting-sheets-29d0d970ca1d.json'"
   ],
   "id": "c03d705397a4ceb7",
   "outputs": [],
   "execution_count": 3
  },
  {
   "metadata": {
    "ExecuteTime": {
     "end_time": "2025-01-27T17:10:22.989255Z",
     "start_time": "2025-01-27T17:10:22.986652Z"
    }
   },
   "cell_type": "code",
   "source": [
    "# Consolidated_soil-env-local-scale-evidence-table\n",
    "SPREADSHEET_ID = \"1T0i2MkSBqY48dsjwVYwtI4nvy1RuEN864ouE-HwIe00\""
   ],
   "id": "f3e8d59114dba657",
   "outputs": [],
   "execution_count": 4
  },
  {
   "metadata": {},
   "cell_type": "markdown",
   "source": [
    "\n",
    "make sure that's shared with env-context-voting-sheets@env-context-voting-sheets.iam.gserviceaccount.com"
   ],
   "id": "6e5d13075aa9f5c0"
  },
  {
   "metadata": {
    "ExecuteTime": {
     "end_time": "2025-01-27T17:10:23.031200Z",
     "start_time": "2025-01-27T17:10:23.028210Z"
    }
   },
   "cell_type": "code",
   "source": "sheet_name = 'sediment_env_broad_scale_voting_sheet'",
   "id": "3d94133909257bc",
   "outputs": [],
   "execution_count": 5
  },
  {
   "metadata": {
    "ExecuteTime": {
     "end_time": "2025-01-27T17:10:23.079051Z",
     "start_time": "2025-01-27T17:10:23.075960Z"
    }
   },
   "cell_type": "code",
   "source": [
    "# Set up credentials\n",
    "SCOPES = [\n",
    "    'https://www.googleapis.com/auth/spreadsheets',\n",
    "    'https://www.googleapis.com/auth/drive'\n",
    "]"
   ],
   "id": "186af1435dabf25b",
   "outputs": [],
   "execution_count": 6
  },
  {
   "metadata": {
    "ExecuteTime": {
     "end_time": "2025-01-27T17:10:23.128702Z",
     "start_time": "2025-01-27T17:10:23.123792Z"
    }
   },
   "cell_type": "code",
   "source": "creds = Credentials.from_service_account_file(SERVICE_ACCOUNT_FILE, scopes=SCOPES)",
   "id": "31b015ceea314eff",
   "outputs": [],
   "execution_count": 7
  },
  {
   "metadata": {
    "ExecuteTime": {
     "end_time": "2025-01-27T17:10:23.175303Z",
     "start_time": "2025-01-27T17:10:23.171829Z"
    }
   },
   "cell_type": "code",
   "source": "gc = gspread.authorize(creds)",
   "id": "b5126af16d10a20a",
   "outputs": [],
   "execution_count": 8
  },
  {
   "metadata": {
    "ExecuteTime": {
     "end_time": "2025-01-27T17:10:23.725146Z",
     "start_time": "2025-01-27T17:10:23.218931Z"
    }
   },
   "cell_type": "code",
   "source": [
    "# Open the spreadsheet\n",
    "spreadsheet = gc.open_by_key(SPREADSHEET_ID) "
   ],
   "id": "e031c1fd1b45c685",
   "outputs": [],
   "execution_count": 9
  },
  {
   "metadata": {
    "ExecuteTime": {
     "end_time": "2025-01-27T17:10:23.926559Z",
     "start_time": "2025-01-27T17:10:23.733753Z"
    }
   },
   "cell_type": "code",
   "source": "sheet = spreadsheet.worksheet(sheet_name)",
   "id": "1482919438c3c56e",
   "outputs": [],
   "execution_count": 10
  },
  {
   "metadata": {
    "ExecuteTime": {
     "end_time": "2025-01-27T17:10:24.210516Z",
     "start_time": "2025-01-27T17:10:23.946550Z"
    }
   },
   "cell_type": "code",
   "source": [
    "# Get data as a list of lists\n",
    "data = sheet.get_all_values()"
   ],
   "id": "f0ca2ba213b9a728",
   "outputs": [],
   "execution_count": 11
  },
  {
   "metadata": {
    "ExecuteTime": {
     "end_time": "2025-01-27T17:10:24.231023Z",
     "start_time": "2025-01-27T17:10:24.226016Z"
    }
   },
   "cell_type": "code",
   "source": [
    "# Convert to DataFrame\n",
    "df = pd.DataFrame(data[1:], columns=data[0])"
   ],
   "id": "dae1c7cb972e5288",
   "outputs": [],
   "execution_count": 12
  },
  {
   "metadata": {
    "ExecuteTime": {
     "end_time": "2025-01-27T17:10:24.282260Z",
     "start_time": "2025-01-27T17:10:24.279737Z"
    }
   },
   "cell_type": "code",
   "source": [
    "# # make a dataframe that has the columns curie and label. only include the rows where the include_in_enum column value is true\n",
    "# votes_df = df[df['include_in_enum'] == 'TRUE'][['curie', 'label']]"
   ],
   "id": "c992aecaa0059f8b",
   "outputs": [],
   "execution_count": 13
  },
  {
   "metadata": {},
   "cell_type": "markdown",
   "source": "# Temporary",
   "id": "c0fa502006a2e8ad"
  },
  {
   "metadata": {
    "ExecuteTime": {
     "end_time": "2025-01-27T17:10:24.327981Z",
     "start_time": "2025-01-27T17:10:24.323167Z"
    }
   },
   "cell_type": "code",
   "source": "votes_df = df[df['mam_vote'] == '1'][['curie', 'label']]",
   "id": "62ae1411f5e8756c",
   "outputs": [],
   "execution_count": 14
  },
  {
   "metadata": {
    "ExecuteTime": {
     "end_time": "2025-01-27T17:10:24.374381Z",
     "start_time": "2025-01-27T17:10:24.370911Z"
    }
   },
   "cell_type": "code",
   "source": "votes_df.columns = ['id', 'label']",
   "id": "315f5e4b5a685fd4",
   "outputs": [],
   "execution_count": 15
  },
  {
   "metadata": {
    "ExecuteTime": {
     "end_time": "2025-01-27T17:10:24.423876Z",
     "start_time": "2025-01-27T17:10:24.418829Z"
    }
   },
   "cell_type": "code",
   "source": "votes_df.to_csv(output_file, index=False, sep=\"\\t\")",
   "id": "44b60ff78bfcd82f",
   "outputs": [],
   "execution_count": 16
  },
  {
   "metadata": {
    "ExecuteTime": {
     "end_time": "2025-01-27T17:10:24.469136Z",
     "start_time": "2025-01-27T17:10:24.466134Z"
    }
   },
   "cell_type": "code",
   "source": "",
   "id": "ea13efebafc857ec",
   "outputs": [],
   "execution_count": null
  }
 ],
 "metadata": {
  "kernelspec": {
   "display_name": "Python 3",
   "language": "python",
   "name": "python3"
  },
  "language_info": {
   "codemirror_mode": {
    "name": "ipython",
    "version": 2
   },
   "file_extension": ".py",
   "mimetype": "text/x-python",
   "name": "python",
   "nbconvert_exporter": "python",
   "pygments_lexer": "ipython2",
   "version": "2.7.6"
  }
 },
 "nbformat": 4,
 "nbformat_minor": 5
}
