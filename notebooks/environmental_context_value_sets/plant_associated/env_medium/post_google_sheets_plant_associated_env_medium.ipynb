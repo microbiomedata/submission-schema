{
 "cells": [
  {
   "metadata": {
    "ExecuteTime": {
     "end_time": "2025-01-22T00:06:55.784843Z",
     "start_time": "2025-01-22T00:06:55.232096Z"
    }
   },
   "cell_type": "code",
   "source": [
    "import gspread\n",
    "from google.oauth2.service_account import Credentials\n",
    "\n",
    "import pandas as pd\n"
   ],
   "id": "7c0c89547933adc0",
   "outputs": [],
   "execution_count": 1
  },
  {
   "metadata": {},
   "cell_type": "markdown",
   "source": [
    "use water_env_broad_scale_voting_sheet in 2024-12-12T1240EDT Google Drive folder,\n",
    "https://docs.google.com/spreadsheets/d/1lMjVxyADmZM1rZI7Qo99RnN6V5K8B8GjAevVoKENViw/edit?gid=1038036384#gid=1038036384\n",
    "\n",
    "make sure that's shared with env-context-voting-sheets@env-context-voting-sheets.iam.gserviceaccount.com"
   ],
   "id": "6e5d13075aa9f5c0"
  },
  {
   "metadata": {
    "ExecuteTime": {
     "end_time": "2025-01-22T00:06:55.794030Z",
     "start_time": "2025-01-22T00:06:55.790057Z"
    }
   },
   "cell_type": "code",
   "source": "output_file = \"post_google_sheets_plant_associated_env_medium.tsv\"",
   "id": "6250de3178a3ec3b",
   "outputs": [],
   "execution_count": 2
  },
  {
   "metadata": {},
   "cell_type": "markdown",
   "source": "Get voting sheet directly from Google Sheets. Requires a credentials file, which must be requested from MAM.",
   "id": "805032586378fa54"
  },
  {
   "metadata": {
    "ExecuteTime": {
     "end_time": "2025-01-22T00:06:55.947600Z",
     "start_time": "2025-01-22T00:06:55.944954Z"
    }
   },
   "cell_type": "code",
   "source": [
    "# 1. Replace with the path to your downloaded JSON key file\n",
    "SERVICE_ACCOUNT_FILE = '../../env-context-voting-sheets-29d0d970ca1d.json'"
   ],
   "id": "c03d705397a4ceb7",
   "outputs": [],
   "execution_count": 3
  },
  {
   "metadata": {
    "ExecuteTime": {
     "end_time": "2025-01-22T00:06:55.990313Z",
     "start_time": "2025-01-22T00:06:55.987417Z"
    }
   },
   "cell_type": "code",
   "source": [
    "# Consolidated_soil-env-local-scale-evidence-table\n",
    "SPREADSHEET_ID = \"1gBgwdjSF7tBwZAa6HBxkmj2iAI0KFiQaTVV2y0yv-1A\""
   ],
   "id": "f3e8d59114dba657",
   "outputs": [],
   "execution_count": 4
  },
  {
   "metadata": {
    "ExecuteTime": {
     "end_time": "2025-01-22T00:06:56.036608Z",
     "start_time": "2025-01-22T00:06:56.033793Z"
    }
   },
   "cell_type": "code",
   "source": "sheet_name = 'plant_associated_env_medium_voting_sheet'",
   "id": "3d94133909257bc",
   "outputs": [],
   "execution_count": 5
  },
  {
   "metadata": {
    "ExecuteTime": {
     "end_time": "2025-01-22T00:06:56.082830Z",
     "start_time": "2025-01-22T00:06:56.079728Z"
    }
   },
   "cell_type": "code",
   "source": [
    "# Set up credentials\n",
    "SCOPES = [\n",
    "    'https://www.googleapis.com/auth/spreadsheets',\n",
    "    'https://www.googleapis.com/auth/drive'\n",
    "]"
   ],
   "id": "186af1435dabf25b",
   "outputs": [],
   "execution_count": 6
  },
  {
   "metadata": {
    "ExecuteTime": {
     "end_time": "2025-01-22T00:06:56.131491Z",
     "start_time": "2025-01-22T00:06:56.126686Z"
    }
   },
   "cell_type": "code",
   "source": "creds = Credentials.from_service_account_file(SERVICE_ACCOUNT_FILE, scopes=SCOPES)",
   "id": "31b015ceea314eff",
   "outputs": [],
   "execution_count": 7
  },
  {
   "metadata": {
    "ExecuteTime": {
     "end_time": "2025-01-22T00:06:56.179047Z",
     "start_time": "2025-01-22T00:06:56.175633Z"
    }
   },
   "cell_type": "code",
   "source": "gc = gspread.authorize(creds)",
   "id": "b5126af16d10a20a",
   "outputs": [],
   "execution_count": 8
  },
  {
   "metadata": {
    "ExecuteTime": {
     "end_time": "2025-01-22T00:06:56.701550Z",
     "start_time": "2025-01-22T00:06:56.224260Z"
    }
   },
   "cell_type": "code",
   "source": [
    "# Open the spreadsheet\n",
    "spreadsheet = gc.open_by_key(SPREADSHEET_ID) "
   ],
   "id": "e031c1fd1b45c685",
   "outputs": [],
   "execution_count": 9
  },
  {
   "metadata": {
    "ExecuteTime": {
     "end_time": "2025-01-22T00:06:56.832261Z",
     "start_time": "2025-01-22T00:06:56.714023Z"
    }
   },
   "cell_type": "code",
   "source": "sheet = spreadsheet.worksheet(sheet_name)",
   "id": "1482919438c3c56e",
   "outputs": [],
   "execution_count": 10
  },
  {
   "metadata": {
    "ExecuteTime": {
     "end_time": "2025-01-22T00:06:57.129666Z",
     "start_time": "2025-01-22T00:06:56.867369Z"
    }
   },
   "cell_type": "code",
   "source": [
    "# Get data as a list of lists\n",
    "data = sheet.get_all_values()"
   ],
   "id": "f0ca2ba213b9a728",
   "outputs": [],
   "execution_count": 11
  },
  {
   "metadata": {
    "ExecuteTime": {
     "end_time": "2025-01-22T00:06:57.151221Z",
     "start_time": "2025-01-22T00:06:57.142465Z"
    }
   },
   "cell_type": "code",
   "source": [
    "# Convert to DataFrame\n",
    "df = pd.DataFrame(data[1:], columns=data[0]) "
   ],
   "id": "dae1c7cb972e5288",
   "outputs": [],
   "execution_count": 12
  },
  {
   "metadata": {
    "ExecuteTime": {
     "end_time": "2025-01-22T00:06:57.201331Z",
     "start_time": "2025-01-22T00:06:57.196960Z"
    }
   },
   "cell_type": "code",
   "source": [
    "# make a dataframe that has the columns curie and label. only include the rows where the include_in_enum column value is true\n",
    "votes_df = df[df['include_in_enum'] == 'TRUE'][['curie', 'label']]"
   ],
   "id": "c992aecaa0059f8b",
   "outputs": [],
   "execution_count": 13
  },
  {
   "metadata": {
    "ExecuteTime": {
     "end_time": "2025-01-22T00:06:57.242242Z",
     "start_time": "2025-01-22T00:06:57.239132Z"
    }
   },
   "cell_type": "code",
   "source": "votes_df.columns = ['id', 'label']",
   "id": "315f5e4b5a685fd4",
   "outputs": [],
   "execution_count": 14
  },
  {
   "metadata": {
    "ExecuteTime": {
     "end_time": "2025-01-22T00:06:57.305349Z",
     "start_time": "2025-01-22T00:06:57.287160Z"
    }
   },
   "cell_type": "code",
   "source": "votes_df",
   "id": "c084b2dee825d3d7",
   "outputs": [
    {
     "data": {
      "text/plain": [
       "                 id                    label\n",
       "172      PO:0004518                     bark\n",
       "245      PO:0025356                     bulb\n",
       "375      PO:0025355                     corm\n",
       "446      PO:0025623  ear infructescence axis\n",
       "519      PO:0020103                flag leaf\n",
       "527      PO:0009046                   flower\n",
       "587      PO:0009001                    fruit\n",
       "750      PO:0025034                     leaf\n",
       "1000     PO:0020038                  petiole\n",
       "1007     PO:0006001                 phyllome\n",
       "1015     PO:0006109                     pith\n",
       "1027     PO:0005052             plant callus\n",
       "1035     PO:0025626               plant gall\n",
       "1038  ENVO:01000628             plant litter\n",
       "1071     PO:0025281                   pollen\n",
       "1124     PO:0020031                  radicle\n",
       "1146     PO:0030078                  rhizoid\n",
       "1147     PO:0004542                  rhizome\n",
       "1149  ENVO:00005801              rhizosphere\n",
       "1170     PO:0009005                     root\n",
       "1173     PO:0003023              root nodule\n",
       "1205     PO:0004513                  sapwood\n",
       "1241     PO:0005848          secondary xylem\n",
       "1247     PO:0009010                     seed\n",
       "1249     PO:0008037                 seedling\n",
       "1333     PO:0009047                     stem\n",
       "1440     PO:0025522                    tuber\n",
       "1545     PO:0025417             xylem vessel"
      ],
      "text/html": [
       "<div>\n",
       "<style scoped>\n",
       "    .dataframe tbody tr th:only-of-type {\n",
       "        vertical-align: middle;\n",
       "    }\n",
       "\n",
       "    .dataframe tbody tr th {\n",
       "        vertical-align: top;\n",
       "    }\n",
       "\n",
       "    .dataframe thead th {\n",
       "        text-align: right;\n",
       "    }\n",
       "</style>\n",
       "<table border=\"1\" class=\"dataframe\">\n",
       "  <thead>\n",
       "    <tr style=\"text-align: right;\">\n",
       "      <th></th>\n",
       "      <th>id</th>\n",
       "      <th>label</th>\n",
       "    </tr>\n",
       "  </thead>\n",
       "  <tbody>\n",
       "    <tr>\n",
       "      <th>172</th>\n",
       "      <td>PO:0004518</td>\n",
       "      <td>bark</td>\n",
       "    </tr>\n",
       "    <tr>\n",
       "      <th>245</th>\n",
       "      <td>PO:0025356</td>\n",
       "      <td>bulb</td>\n",
       "    </tr>\n",
       "    <tr>\n",
       "      <th>375</th>\n",
       "      <td>PO:0025355</td>\n",
       "      <td>corm</td>\n",
       "    </tr>\n",
       "    <tr>\n",
       "      <th>446</th>\n",
       "      <td>PO:0025623</td>\n",
       "      <td>ear infructescence axis</td>\n",
       "    </tr>\n",
       "    <tr>\n",
       "      <th>519</th>\n",
       "      <td>PO:0020103</td>\n",
       "      <td>flag leaf</td>\n",
       "    </tr>\n",
       "    <tr>\n",
       "      <th>527</th>\n",
       "      <td>PO:0009046</td>\n",
       "      <td>flower</td>\n",
       "    </tr>\n",
       "    <tr>\n",
       "      <th>587</th>\n",
       "      <td>PO:0009001</td>\n",
       "      <td>fruit</td>\n",
       "    </tr>\n",
       "    <tr>\n",
       "      <th>750</th>\n",
       "      <td>PO:0025034</td>\n",
       "      <td>leaf</td>\n",
       "    </tr>\n",
       "    <tr>\n",
       "      <th>1000</th>\n",
       "      <td>PO:0020038</td>\n",
       "      <td>petiole</td>\n",
       "    </tr>\n",
       "    <tr>\n",
       "      <th>1007</th>\n",
       "      <td>PO:0006001</td>\n",
       "      <td>phyllome</td>\n",
       "    </tr>\n",
       "    <tr>\n",
       "      <th>1015</th>\n",
       "      <td>PO:0006109</td>\n",
       "      <td>pith</td>\n",
       "    </tr>\n",
       "    <tr>\n",
       "      <th>1027</th>\n",
       "      <td>PO:0005052</td>\n",
       "      <td>plant callus</td>\n",
       "    </tr>\n",
       "    <tr>\n",
       "      <th>1035</th>\n",
       "      <td>PO:0025626</td>\n",
       "      <td>plant gall</td>\n",
       "    </tr>\n",
       "    <tr>\n",
       "      <th>1038</th>\n",
       "      <td>ENVO:01000628</td>\n",
       "      <td>plant litter</td>\n",
       "    </tr>\n",
       "    <tr>\n",
       "      <th>1071</th>\n",
       "      <td>PO:0025281</td>\n",
       "      <td>pollen</td>\n",
       "    </tr>\n",
       "    <tr>\n",
       "      <th>1124</th>\n",
       "      <td>PO:0020031</td>\n",
       "      <td>radicle</td>\n",
       "    </tr>\n",
       "    <tr>\n",
       "      <th>1146</th>\n",
       "      <td>PO:0030078</td>\n",
       "      <td>rhizoid</td>\n",
       "    </tr>\n",
       "    <tr>\n",
       "      <th>1147</th>\n",
       "      <td>PO:0004542</td>\n",
       "      <td>rhizome</td>\n",
       "    </tr>\n",
       "    <tr>\n",
       "      <th>1149</th>\n",
       "      <td>ENVO:00005801</td>\n",
       "      <td>rhizosphere</td>\n",
       "    </tr>\n",
       "    <tr>\n",
       "      <th>1170</th>\n",
       "      <td>PO:0009005</td>\n",
       "      <td>root</td>\n",
       "    </tr>\n",
       "    <tr>\n",
       "      <th>1173</th>\n",
       "      <td>PO:0003023</td>\n",
       "      <td>root nodule</td>\n",
       "    </tr>\n",
       "    <tr>\n",
       "      <th>1205</th>\n",
       "      <td>PO:0004513</td>\n",
       "      <td>sapwood</td>\n",
       "    </tr>\n",
       "    <tr>\n",
       "      <th>1241</th>\n",
       "      <td>PO:0005848</td>\n",
       "      <td>secondary xylem</td>\n",
       "    </tr>\n",
       "    <tr>\n",
       "      <th>1247</th>\n",
       "      <td>PO:0009010</td>\n",
       "      <td>seed</td>\n",
       "    </tr>\n",
       "    <tr>\n",
       "      <th>1249</th>\n",
       "      <td>PO:0008037</td>\n",
       "      <td>seedling</td>\n",
       "    </tr>\n",
       "    <tr>\n",
       "      <th>1333</th>\n",
       "      <td>PO:0009047</td>\n",
       "      <td>stem</td>\n",
       "    </tr>\n",
       "    <tr>\n",
       "      <th>1440</th>\n",
       "      <td>PO:0025522</td>\n",
       "      <td>tuber</td>\n",
       "    </tr>\n",
       "    <tr>\n",
       "      <th>1545</th>\n",
       "      <td>PO:0025417</td>\n",
       "      <td>xylem vessel</td>\n",
       "    </tr>\n",
       "  </tbody>\n",
       "</table>\n",
       "</div>"
      ]
     },
     "execution_count": 15,
     "metadata": {},
     "output_type": "execute_result"
    }
   ],
   "execution_count": 15
  },
  {
   "metadata": {
    "ExecuteTime": {
     "end_time": "2025-01-22T00:06:57.435847Z",
     "start_time": "2025-01-22T00:06:57.431301Z"
    }
   },
   "cell_type": "code",
   "source": "votes_df.to_csv(output_file, index=False, sep=\"\\t\")",
   "id": "44b60ff78bfcd82f",
   "outputs": [],
   "execution_count": 16
  },
  {
   "metadata": {
    "ExecuteTime": {
     "end_time": "2025-01-22T00:06:57.476146Z",
     "start_time": "2025-01-22T00:06:57.473649Z"
    }
   },
   "cell_type": "code",
   "source": "",
   "id": "ea13efebafc857ec",
   "outputs": [],
   "execution_count": null
  }
 ],
 "metadata": {
  "kernelspec": {
   "display_name": "Python 3",
   "language": "python",
   "name": "python3"
  },
  "language_info": {
   "codemirror_mode": {
    "name": "ipython",
    "version": 2
   },
   "file_extension": ".py",
   "mimetype": "text/x-python",
   "name": "python",
   "nbconvert_exporter": "python",
   "pygments_lexer": "ipython2",
   "version": "2.7.6"
  }
 },
 "nbformat": 4,
 "nbformat_minor": 5
}
