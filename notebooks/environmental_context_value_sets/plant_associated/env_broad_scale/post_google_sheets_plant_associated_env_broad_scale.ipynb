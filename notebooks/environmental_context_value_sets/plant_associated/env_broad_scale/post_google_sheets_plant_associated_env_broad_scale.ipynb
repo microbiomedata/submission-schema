{
 "cells": [
  {
   "metadata": {
    "ExecuteTime": {
     "end_time": "2025-01-22T00:01:57.447654Z",
     "start_time": "2025-01-22T00:01:56.881712Z"
    }
   },
   "cell_type": "code",
   "source": [
    "import gspread\n",
    "from google.oauth2.service_account import Credentials\n",
    "\n",
    "import pandas as pd\n"
   ],
   "id": "7c0c89547933adc0",
   "outputs": [],
   "execution_count": 1
  },
  {
   "metadata": {},
   "cell_type": "markdown",
   "source": [
    "use water_env_broad_scale_voting_sheet in 2024-12-12T1240EDT Google Drive folder,\n",
    "https://docs.google.com/spreadsheets/d/1lMjVxyADmZM1rZI7Qo99RnN6V5K8B8GjAevVoKENViw/edit?gid=1038036384#gid=1038036384\n",
    "\n",
    "make sure that's shared with env-context-voting-sheets@env-context-voting-sheets.iam.gserviceaccount.com"
   ],
   "id": "6e5d13075aa9f5c0"
  },
  {
   "metadata": {
    "ExecuteTime": {
     "end_time": "2025-01-22T00:01:57.461023Z",
     "start_time": "2025-01-22T00:01:57.456603Z"
    }
   },
   "cell_type": "code",
   "source": "output_file = \"post_google_sheets_plant_associated_env_broad_scale.tsv\"",
   "id": "6250de3178a3ec3b",
   "outputs": [],
   "execution_count": 2
  },
  {
   "metadata": {},
   "cell_type": "markdown",
   "source": "Get voting sheet directly from Google Sheets. Requires a credentials file, which must be requested from MAM.",
   "id": "805032586378fa54"
  },
  {
   "metadata": {
    "ExecuteTime": {
     "end_time": "2025-01-22T00:01:57.625896Z",
     "start_time": "2025-01-22T00:01:57.622879Z"
    }
   },
   "cell_type": "code",
   "source": [
    "# 1. Replace with the path to your downloaded JSON key file\n",
    "SERVICE_ACCOUNT_FILE = '../../env-context-voting-sheets-29d0d970ca1d.json'"
   ],
   "id": "c03d705397a4ceb7",
   "outputs": [],
   "execution_count": 3
  },
  {
   "metadata": {
    "ExecuteTime": {
     "end_time": "2025-01-22T00:01:57.675848Z",
     "start_time": "2025-01-22T00:01:57.672987Z"
    }
   },
   "cell_type": "code",
   "source": [
    "# Consolidated_soil-env-local-scale-evidence-table\n",
    "SPREADSHEET_ID = \"1MvXbYlBkJrgU02Ydh8UxlZjCbOQq3LjwpfaWjaRFKF0\""
   ],
   "id": "f3e8d59114dba657",
   "outputs": [],
   "execution_count": 4
  },
  {
   "metadata": {
    "ExecuteTime": {
     "end_time": "2025-01-22T00:01:57.719596Z",
     "start_time": "2025-01-22T00:01:57.716582Z"
    }
   },
   "cell_type": "code",
   "source": "sheet_name = 'plant_associated_env_broad_scale_voting_sheet'",
   "id": "3d94133909257bc",
   "outputs": [],
   "execution_count": 5
  },
  {
   "metadata": {
    "ExecuteTime": {
     "end_time": "2025-01-22T00:01:57.767178Z",
     "start_time": "2025-01-22T00:01:57.764089Z"
    }
   },
   "cell_type": "code",
   "source": [
    "# Set up credentials\n",
    "SCOPES = [\n",
    "    'https://www.googleapis.com/auth/spreadsheets',\n",
    "    'https://www.googleapis.com/auth/drive'\n",
    "]"
   ],
   "id": "186af1435dabf25b",
   "outputs": [],
   "execution_count": 6
  },
  {
   "metadata": {
    "ExecuteTime": {
     "end_time": "2025-01-22T00:01:57.816273Z",
     "start_time": "2025-01-22T00:01:57.810939Z"
    }
   },
   "cell_type": "code",
   "source": "creds = Credentials.from_service_account_file(SERVICE_ACCOUNT_FILE, scopes=SCOPES)",
   "id": "31b015ceea314eff",
   "outputs": [],
   "execution_count": 7
  },
  {
   "metadata": {
    "ExecuteTime": {
     "end_time": "2025-01-22T00:01:57.860651Z",
     "start_time": "2025-01-22T00:01:57.857084Z"
    }
   },
   "cell_type": "code",
   "source": "gc = gspread.authorize(creds)",
   "id": "b5126af16d10a20a",
   "outputs": [],
   "execution_count": 8
  },
  {
   "metadata": {
    "ExecuteTime": {
     "end_time": "2025-01-22T00:01:58.412277Z",
     "start_time": "2025-01-22T00:01:57.905331Z"
    }
   },
   "cell_type": "code",
   "source": [
    "# Open the spreadsheet\n",
    "spreadsheet = gc.open_by_key(SPREADSHEET_ID) "
   ],
   "id": "e031c1fd1b45c685",
   "outputs": [],
   "execution_count": 9
  },
  {
   "metadata": {
    "ExecuteTime": {
     "end_time": "2025-01-22T00:01:58.585281Z",
     "start_time": "2025-01-22T00:01:58.422380Z"
    }
   },
   "cell_type": "code",
   "source": "sheet = spreadsheet.worksheet(sheet_name)",
   "id": "1482919438c3c56e",
   "outputs": [],
   "execution_count": 10
  },
  {
   "metadata": {
    "ExecuteTime": {
     "end_time": "2025-01-22T00:01:58.836272Z",
     "start_time": "2025-01-22T00:01:58.595541Z"
    }
   },
   "cell_type": "code",
   "source": [
    "# Get data as a list of lists\n",
    "data = sheet.get_all_values()"
   ],
   "id": "f0ca2ba213b9a728",
   "outputs": [],
   "execution_count": 11
  },
  {
   "metadata": {
    "ExecuteTime": {
     "end_time": "2025-01-22T00:01:58.856417Z",
     "start_time": "2025-01-22T00:01:58.849687Z"
    }
   },
   "cell_type": "code",
   "source": [
    "# Convert to DataFrame\n",
    "df = pd.DataFrame(data[1:], columns=data[0]) "
   ],
   "id": "dae1c7cb972e5288",
   "outputs": [],
   "execution_count": 12
  },
  {
   "metadata": {
    "ExecuteTime": {
     "end_time": "2025-01-22T00:01:58.914401Z",
     "start_time": "2025-01-22T00:01:58.906963Z"
    }
   },
   "cell_type": "code",
   "source": [
    "# make a dataframe that has the columns curie and label. only include the rows where the include_in_enum column value is true\n",
    "votes_df = df[df['include_in_enum'] == 'TRUE'][['curie', 'label']]"
   ],
   "id": "c992aecaa0059f8b",
   "outputs": [],
   "execution_count": 13
  },
  {
   "metadata": {
    "ExecuteTime": {
     "end_time": "2025-01-22T00:01:58.952990Z",
     "start_time": "2025-01-22T00:01:58.946623Z"
    }
   },
   "cell_type": "code",
   "source": "votes_df.columns = ['id', 'label']",
   "id": "315f5e4b5a685fd4",
   "outputs": [],
   "execution_count": 14
  },
  {
   "metadata": {
    "ExecuteTime": {
     "end_time": "2025-01-22T00:01:59.005061Z",
     "start_time": "2025-01-22T00:01:58.979184Z"
    }
   },
   "cell_type": "code",
   "source": "votes_df",
   "id": "c084b2dee825d3d7",
   "outputs": [
    {
     "data": {
      "text/plain": [
       "               id                            label\n",
       "0   ENVO:01001505              alpine tundra biome\n",
       "1   ENVO:01000219  anthropogenic terrestrial biome\n",
       "2   ENVO:00002030                    aquatic biome\n",
       "3   ENVO:01000197           broadleaf forest biome\n",
       "4   ENVO:01000196          coniferous forest biome\n",
       "..            ...                              ...\n",
       "67  ENVO:01000220          tropical woodland biome\n",
       "68  ENVO:01000180                     tundra biome\n",
       "69  ENVO:01000175                   woodland biome\n",
       "70  ENVO:00000893                xeric basin biome\n",
       "71  ENVO:01000218            xeric shrubland biome\n",
       "\n",
       "[72 rows x 2 columns]"
      ],
      "text/html": [
       "<div>\n",
       "<style scoped>\n",
       "    .dataframe tbody tr th:only-of-type {\n",
       "        vertical-align: middle;\n",
       "    }\n",
       "\n",
       "    .dataframe tbody tr th {\n",
       "        vertical-align: top;\n",
       "    }\n",
       "\n",
       "    .dataframe thead th {\n",
       "        text-align: right;\n",
       "    }\n",
       "</style>\n",
       "<table border=\"1\" class=\"dataframe\">\n",
       "  <thead>\n",
       "    <tr style=\"text-align: right;\">\n",
       "      <th></th>\n",
       "      <th>id</th>\n",
       "      <th>label</th>\n",
       "    </tr>\n",
       "  </thead>\n",
       "  <tbody>\n",
       "    <tr>\n",
       "      <th>0</th>\n",
       "      <td>ENVO:01001505</td>\n",
       "      <td>alpine tundra biome</td>\n",
       "    </tr>\n",
       "    <tr>\n",
       "      <th>1</th>\n",
       "      <td>ENVO:01000219</td>\n",
       "      <td>anthropogenic terrestrial biome</td>\n",
       "    </tr>\n",
       "    <tr>\n",
       "      <th>2</th>\n",
       "      <td>ENVO:00002030</td>\n",
       "      <td>aquatic biome</td>\n",
       "    </tr>\n",
       "    <tr>\n",
       "      <th>3</th>\n",
       "      <td>ENVO:01000197</td>\n",
       "      <td>broadleaf forest biome</td>\n",
       "    </tr>\n",
       "    <tr>\n",
       "      <th>4</th>\n",
       "      <td>ENVO:01000196</td>\n",
       "      <td>coniferous forest biome</td>\n",
       "    </tr>\n",
       "    <tr>\n",
       "      <th>...</th>\n",
       "      <td>...</td>\n",
       "      <td>...</td>\n",
       "    </tr>\n",
       "    <tr>\n",
       "      <th>67</th>\n",
       "      <td>ENVO:01000220</td>\n",
       "      <td>tropical woodland biome</td>\n",
       "    </tr>\n",
       "    <tr>\n",
       "      <th>68</th>\n",
       "      <td>ENVO:01000180</td>\n",
       "      <td>tundra biome</td>\n",
       "    </tr>\n",
       "    <tr>\n",
       "      <th>69</th>\n",
       "      <td>ENVO:01000175</td>\n",
       "      <td>woodland biome</td>\n",
       "    </tr>\n",
       "    <tr>\n",
       "      <th>70</th>\n",
       "      <td>ENVO:00000893</td>\n",
       "      <td>xeric basin biome</td>\n",
       "    </tr>\n",
       "    <tr>\n",
       "      <th>71</th>\n",
       "      <td>ENVO:01000218</td>\n",
       "      <td>xeric shrubland biome</td>\n",
       "    </tr>\n",
       "  </tbody>\n",
       "</table>\n",
       "<p>72 rows × 2 columns</p>\n",
       "</div>"
      ]
     },
     "execution_count": 15,
     "metadata": {},
     "output_type": "execute_result"
    }
   ],
   "execution_count": 15
  },
  {
   "metadata": {
    "ExecuteTime": {
     "end_time": "2025-01-22T00:01:59.176462Z",
     "start_time": "2025-01-22T00:01:59.169917Z"
    }
   },
   "cell_type": "code",
   "source": "votes_df.to_csv(output_file, index=False, sep=\"\\t\")",
   "id": "44b60ff78bfcd82f",
   "outputs": [],
   "execution_count": 16
  },
  {
   "metadata": {
    "ExecuteTime": {
     "end_time": "2025-01-22T00:01:59.198067Z",
     "start_time": "2025-01-22T00:01:59.194907Z"
    }
   },
   "cell_type": "code",
   "source": "",
   "id": "ea13efebafc857ec",
   "outputs": [],
   "execution_count": null
  }
 ],
 "metadata": {
  "kernelspec": {
   "display_name": "Python 3",
   "language": "python",
   "name": "python3"
  },
  "language_info": {
   "codemirror_mode": {
    "name": "ipython",
    "version": 2
   },
   "file_extension": ".py",
   "mimetype": "text/x-python",
   "name": "python",
   "nbconvert_exporter": "python",
   "pygments_lexer": "ipython2",
   "version": "2.7.6"
  }
 },
 "nbformat": 4,
 "nbformat_minor": 5
}
