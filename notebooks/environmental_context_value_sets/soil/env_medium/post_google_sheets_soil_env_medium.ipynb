{
 "cells": [
  {
   "cell_type": "code",
   "id": "initial_id",
   "metadata": {
    "collapsed": true,
    "ExecuteTime": {
     "end_time": "2024-12-17T21:17:30.881234Z",
     "start_time": "2024-12-17T21:17:26.605514Z"
    }
   },
   "source": [
    "from oaklib import get_adapter\n",
    "from oaklib.datamodels.vocabulary import IS_A\n",
    "\n",
    "import pandas as pd "
   ],
   "outputs": [],
   "execution_count": 1
  },
  {
   "metadata": {},
   "cell_type": "markdown",
   "source": "The environmental triad squad voted on classes to include in the soil env_medium value set. The result of that was the conclusion to include all subclasses of the soil class, except for enriched soils. ",
   "id": "56e994dd659ddd85"
  },
  {
   "metadata": {
    "ExecuteTime": {
     "end_time": "2024-12-17T21:17:30.887406Z",
     "start_time": "2024-12-17T21:17:30.884033Z"
    }
   },
   "cell_type": "code",
   "source": "pd.set_option('future.no_silent_downcasting', True)",
   "id": "d30a0cf4fa9eaf10",
   "outputs": [],
   "execution_count": 2
  },
  {
   "metadata": {
    "ExecuteTime": {
     "end_time": "2024-12-17T21:17:30.892785Z",
     "start_time": "2024-12-17T21:17:30.889481Z"
    }
   },
   "cell_type": "code",
   "source": "adapter_string = \"sqlite:obo:envo\"",
   "id": "2148e2b371b9d3c1",
   "outputs": [],
   "execution_count": 3
  },
  {
   "metadata": {
    "ExecuteTime": {
     "end_time": "2024-12-17T21:17:30.900791Z",
     "start_time": "2024-12-17T21:17:30.896775Z"
    }
   },
   "cell_type": "code",
   "source": "target_labels = [\"soil\"]",
   "id": "2b9221b70ebed187",
   "outputs": [],
   "execution_count": 4
  },
  {
   "metadata": {
    "ExecuteTime": {
     "end_time": "2024-12-17T21:17:30.905746Z",
     "start_time": "2024-12-17T21:17:30.902489Z"
    }
   },
   "cell_type": "code",
   "source": "exclusion_labels = [\"enriched soil\"]",
   "id": "dc91a47fb8762a09",
   "outputs": [],
   "execution_count": 5
  },
  {
   "metadata": {
    "ExecuteTime": {
     "end_time": "2024-12-17T21:17:30.911711Z",
     "start_time": "2024-12-17T21:17:30.907906Z"
    }
   },
   "cell_type": "code",
   "source": "output_file = \"post_google_sheets_soil_env_medium.tsv\"",
   "id": "4737c7dfdaa5400e",
   "outputs": [],
   "execution_count": 6
  },
  {
   "metadata": {},
   "cell_type": "markdown",
   "source": "We also exclude soils who are differentiated by a relationship with someting that's in the env_ocal_scale value set, like 'orchard soil' and 'orchard'. See discover_excludable_soils.ipynb.",
   "id": "c1032fa3dae05c3c"
  },
  {
   "metadata": {
    "ExecuteTime": {
     "end_time": "2024-12-17T21:17:31.368077Z",
     "start_time": "2024-12-17T21:17:31.364454Z"
    }
   },
   "cell_type": "code",
   "source": "excludable_soils_filename = \"discover_excludable_soils_curated.tsv\"",
   "id": "77be6f0893e612eb",
   "outputs": [],
   "execution_count": 7
  },
  {
   "metadata": {
    "ExecuteTime": {
     "end_time": "2024-12-17T21:17:32.036524Z",
     "start_time": "2024-12-17T21:17:32.023855Z"
    }
   },
   "cell_type": "code",
   "source": [
    "excludable_soils_frame = pd.read_csv(excludable_soils_filename, sep=\"\\t\")\n",
    "\n",
    "excludable_soils_frame['relation_is_reasonable'] = excludable_soils_frame['relation_is_reasonable'].fillna(False)"
   ],
   "id": "e5ae95cb54367e20",
   "outputs": [],
   "execution_count": 8
  },
  {
   "metadata": {
    "ExecuteTime": {
     "end_time": "2024-12-17T21:17:33.318279Z",
     "start_time": "2024-12-17T21:17:33.313729Z"
    }
   },
   "cell_type": "code",
   "source": [
    "reasonable_frame = excludable_soils_frame[\n",
    "    (excludable_soils_frame['relation_is_reasonable']) |\n",
    "    (excludable_soils_frame['override'] == 'exclude soil')\n",
    "]\n"
   ],
   "id": "536b8ecb525febe9",
   "outputs": [],
   "execution_count": 9
  },
  {
   "metadata": {
    "ExecuteTime": {
     "end_time": "2024-12-17T21:17:33.830364Z",
     "start_time": "2024-12-17T21:17:33.824218Z"
    }
   },
   "cell_type": "code",
   "source": [
    "reasonable_frame = reasonable_frame[reasonable_frame['override'] != 'keep soil']\n",
    "\n",
    "reasonable_frame = reasonable_frame.dropna(subset=['sole_reasonable_other', 'sole_soil'])"
   ],
   "id": "7d638550e53542f9",
   "outputs": [],
   "execution_count": 10
  },
  {
   "metadata": {
    "ExecuteTime": {
     "end_time": "2024-12-17T21:17:34.495315Z",
     "start_time": "2024-12-17T21:17:34.491968Z"
    }
   },
   "cell_type": "code",
   "source": "soil_env_local_scale_filename = \"../env_local_scale/post_google_sheets_soil_env_local_scale.tsv\"",
   "id": "8a0972d756eb0bbf",
   "outputs": [],
   "execution_count": 11
  },
  {
   "metadata": {
    "ExecuteTime": {
     "end_time": "2024-12-17T21:17:35.228352Z",
     "start_time": "2024-12-17T21:17:35.222719Z"
    }
   },
   "cell_type": "code",
   "source": "soil_env_local_scale_frame = pd.read_csv(soil_env_local_scale_filename, sep=\"\\t\")",
   "id": "89dbf4c1953b5b92",
   "outputs": [],
   "execution_count": 12
  },
  {
   "metadata": {
    "ExecuteTime": {
     "end_time": "2024-12-17T21:17:35.994941Z",
     "start_time": "2024-12-17T21:17:35.989772Z"
    }
   },
   "cell_type": "code",
   "source": [
    "soils_with_local_or_override_exclusion_justification = reasonable_frame[\n",
    "    (reasonable_frame['sole_reasonable_other'].isin(soil_env_local_scale_frame['label'])) |\n",
    "    (reasonable_frame['override'] == 'exclude soil')\n",
    "]"
   ],
   "id": "7e728b28efcebb4c",
   "outputs": [],
   "execution_count": 13
  },
  {
   "metadata": {},
   "cell_type": "markdown",
   "source": "The `sole_soil` column in this dataframe shows the soil subclasses that can be excluded based on related classes that have been included in the soil env_local_scale value set",
   "id": "4de82897ab70d2ae"
  },
  {
   "metadata": {
    "ExecuteTime": {
     "end_time": "2024-12-17T21:17:37.834605Z",
     "start_time": "2024-12-17T21:17:37.806070Z"
    }
   },
   "cell_type": "code",
   "source": "soils_with_local_or_override_exclusion_justification",
   "id": "d2bc11248ba7bfab",
   "outputs": [
    {
     "data": {
      "text/plain": [
       "                 s s_is_soil s_is_reasonable_other                 slab  \\\n",
       "53   ENVO:00002260      True                 False            dune soil   \n",
       "59   ENVO:00002263      True                 False          garden soil   \n",
       "60   ENVO:00002263      True                 False          garden soil   \n",
       "108  ENVO:00005743      True                 False        roadside soil   \n",
       "126  ENVO:00005755      True                 False           field soil   \n",
       "156  ENVO:00005772      True                 False         orchard soil   \n",
       "159  ENVO:00005773      True                 False         pasture soil   \n",
       "168  ENVO:00005777      True                 False          steppe soil   \n",
       "209  ENVO:02000138      True                 False  mangrove biome soil   \n",
       "227  ENVO:00000044     False                  True             peatland   \n",
       "400            NaN       NaN                   NaN                  NaN   \n",
       "401            NaN       NaN                   NaN                  NaN   \n",
       "402            NaN       NaN                   NaN                  NaN   \n",
       "\n",
       "               p                   plab            p_lab_or_id  \\\n",
       "53   BFO:0000050                part of                part of   \n",
       "59   BFO:0000050                part of                part of   \n",
       "60    RO:0001025             located in             located in   \n",
       "108   RO:0001025             located in             located in   \n",
       "126  BFO:0000050                part of                part of   \n",
       "156  BFO:0000050                part of                part of   \n",
       "159   RO:0001025             located in             located in   \n",
       "168   RO:0001025             located in             located in   \n",
       "209   RO:0001025             located in             located in   \n",
       "227   RO:0002473  composed primarily of  composed primarily of   \n",
       "400          NaN                    NaN                    NaN   \n",
       "401          NaN                    NaN                    NaN   \n",
       "402          NaN                    NaN                    NaN   \n",
       "\n",
       "    relation_is_reasonable              o o_is_soil o_is_reasonable_other  \\\n",
       "53                    True  ENVO:00000170     False                  True   \n",
       "59                    True  ENVO:00000011     False                  True   \n",
       "60                    True  ENVO:00000011     False                  True   \n",
       "108                   True  ENVO:01000447     False                  True   \n",
       "126                   True  ENVO:00000114     False                  True   \n",
       "156                   True  ENVO:00000115     False                  True   \n",
       "159                   True  ENVO:00000266     False                  True   \n",
       "168                   True  ENVO:00000262     False                  True   \n",
       "209                   True  ENVO:01000181     False                 False   \n",
       "227                   True  ENVO:00005774      True                 False   \n",
       "400                  False            NaN       NaN                   NaN   \n",
       "401                  False            NaN       NaN                   NaN   \n",
       "402                  False            NaN       NaN                   NaN   \n",
       "\n",
       "                   olab  slab_olab_cosine sole_reasonable_other  \\\n",
       "53                 dune          0.666667                  dune   \n",
       "59               garden          0.738549                garden   \n",
       "60               garden          0.738549                garden   \n",
       "108            roadside          0.784465              roadside   \n",
       "126  agricultural field          0.596285    agricultural field   \n",
       "156             orchard          0.763763               orchard   \n",
       "159             pasture          0.763763               pasture   \n",
       "168              steppe          0.738549                steppe   \n",
       "209      mangrove biome          0.858395        mangrove biome   \n",
       "227           peat soil          0.589256              peatland   \n",
       "400                 NaN               NaN                  farm   \n",
       "401                 NaN               NaN            greenhouse   \n",
       "402                 NaN               NaN               volcano   \n",
       "\n",
       "               sole_soil      override  \n",
       "53             dune soil           NaN  \n",
       "59           garden soil           NaN  \n",
       "60           garden soil           NaN  \n",
       "108        roadside soil           NaN  \n",
       "126           field soil           NaN  \n",
       "156         orchard soil  exclude soil  \n",
       "159         pasture soil           NaN  \n",
       "168          steppe soil           NaN  \n",
       "209  mangrove biome soil  exclude soil  \n",
       "227            peat soil           NaN  \n",
       "400            farm soil  exclude soil  \n",
       "401      greenhouse soil  exclude soil  \n",
       "402        volcanic soil  exclude soil  "
      ],
      "text/html": [
       "<div>\n",
       "<style scoped>\n",
       "    .dataframe tbody tr th:only-of-type {\n",
       "        vertical-align: middle;\n",
       "    }\n",
       "\n",
       "    .dataframe tbody tr th {\n",
       "        vertical-align: top;\n",
       "    }\n",
       "\n",
       "    .dataframe thead th {\n",
       "        text-align: right;\n",
       "    }\n",
       "</style>\n",
       "<table border=\"1\" class=\"dataframe\">\n",
       "  <thead>\n",
       "    <tr style=\"text-align: right;\">\n",
       "      <th></th>\n",
       "      <th>s</th>\n",
       "      <th>s_is_soil</th>\n",
       "      <th>s_is_reasonable_other</th>\n",
       "      <th>slab</th>\n",
       "      <th>p</th>\n",
       "      <th>plab</th>\n",
       "      <th>p_lab_or_id</th>\n",
       "      <th>relation_is_reasonable</th>\n",
       "      <th>o</th>\n",
       "      <th>o_is_soil</th>\n",
       "      <th>o_is_reasonable_other</th>\n",
       "      <th>olab</th>\n",
       "      <th>slab_olab_cosine</th>\n",
       "      <th>sole_reasonable_other</th>\n",
       "      <th>sole_soil</th>\n",
       "      <th>override</th>\n",
       "    </tr>\n",
       "  </thead>\n",
       "  <tbody>\n",
       "    <tr>\n",
       "      <th>53</th>\n",
       "      <td>ENVO:00002260</td>\n",
       "      <td>True</td>\n",
       "      <td>False</td>\n",
       "      <td>dune soil</td>\n",
       "      <td>BFO:0000050</td>\n",
       "      <td>part of</td>\n",
       "      <td>part of</td>\n",
       "      <td>True</td>\n",
       "      <td>ENVO:00000170</td>\n",
       "      <td>False</td>\n",
       "      <td>True</td>\n",
       "      <td>dune</td>\n",
       "      <td>0.666667</td>\n",
       "      <td>dune</td>\n",
       "      <td>dune soil</td>\n",
       "      <td>NaN</td>\n",
       "    </tr>\n",
       "    <tr>\n",
       "      <th>59</th>\n",
       "      <td>ENVO:00002263</td>\n",
       "      <td>True</td>\n",
       "      <td>False</td>\n",
       "      <td>garden soil</td>\n",
       "      <td>BFO:0000050</td>\n",
       "      <td>part of</td>\n",
       "      <td>part of</td>\n",
       "      <td>True</td>\n",
       "      <td>ENVO:00000011</td>\n",
       "      <td>False</td>\n",
       "      <td>True</td>\n",
       "      <td>garden</td>\n",
       "      <td>0.738549</td>\n",
       "      <td>garden</td>\n",
       "      <td>garden soil</td>\n",
       "      <td>NaN</td>\n",
       "    </tr>\n",
       "    <tr>\n",
       "      <th>60</th>\n",
       "      <td>ENVO:00002263</td>\n",
       "      <td>True</td>\n",
       "      <td>False</td>\n",
       "      <td>garden soil</td>\n",
       "      <td>RO:0001025</td>\n",
       "      <td>located in</td>\n",
       "      <td>located in</td>\n",
       "      <td>True</td>\n",
       "      <td>ENVO:00000011</td>\n",
       "      <td>False</td>\n",
       "      <td>True</td>\n",
       "      <td>garden</td>\n",
       "      <td>0.738549</td>\n",
       "      <td>garden</td>\n",
       "      <td>garden soil</td>\n",
       "      <td>NaN</td>\n",
       "    </tr>\n",
       "    <tr>\n",
       "      <th>108</th>\n",
       "      <td>ENVO:00005743</td>\n",
       "      <td>True</td>\n",
       "      <td>False</td>\n",
       "      <td>roadside soil</td>\n",
       "      <td>RO:0001025</td>\n",
       "      <td>located in</td>\n",
       "      <td>located in</td>\n",
       "      <td>True</td>\n",
       "      <td>ENVO:01000447</td>\n",
       "      <td>False</td>\n",
       "      <td>True</td>\n",
       "      <td>roadside</td>\n",
       "      <td>0.784465</td>\n",
       "      <td>roadside</td>\n",
       "      <td>roadside soil</td>\n",
       "      <td>NaN</td>\n",
       "    </tr>\n",
       "    <tr>\n",
       "      <th>126</th>\n",
       "      <td>ENVO:00005755</td>\n",
       "      <td>True</td>\n",
       "      <td>False</td>\n",
       "      <td>field soil</td>\n",
       "      <td>BFO:0000050</td>\n",
       "      <td>part of</td>\n",
       "      <td>part of</td>\n",
       "      <td>True</td>\n",
       "      <td>ENVO:00000114</td>\n",
       "      <td>False</td>\n",
       "      <td>True</td>\n",
       "      <td>agricultural field</td>\n",
       "      <td>0.596285</td>\n",
       "      <td>agricultural field</td>\n",
       "      <td>field soil</td>\n",
       "      <td>NaN</td>\n",
       "    </tr>\n",
       "    <tr>\n",
       "      <th>156</th>\n",
       "      <td>ENVO:00005772</td>\n",
       "      <td>True</td>\n",
       "      <td>False</td>\n",
       "      <td>orchard soil</td>\n",
       "      <td>BFO:0000050</td>\n",
       "      <td>part of</td>\n",
       "      <td>part of</td>\n",
       "      <td>True</td>\n",
       "      <td>ENVO:00000115</td>\n",
       "      <td>False</td>\n",
       "      <td>True</td>\n",
       "      <td>orchard</td>\n",
       "      <td>0.763763</td>\n",
       "      <td>orchard</td>\n",
       "      <td>orchard soil</td>\n",
       "      <td>exclude soil</td>\n",
       "    </tr>\n",
       "    <tr>\n",
       "      <th>159</th>\n",
       "      <td>ENVO:00005773</td>\n",
       "      <td>True</td>\n",
       "      <td>False</td>\n",
       "      <td>pasture soil</td>\n",
       "      <td>RO:0001025</td>\n",
       "      <td>located in</td>\n",
       "      <td>located in</td>\n",
       "      <td>True</td>\n",
       "      <td>ENVO:00000266</td>\n",
       "      <td>False</td>\n",
       "      <td>True</td>\n",
       "      <td>pasture</td>\n",
       "      <td>0.763763</td>\n",
       "      <td>pasture</td>\n",
       "      <td>pasture soil</td>\n",
       "      <td>NaN</td>\n",
       "    </tr>\n",
       "    <tr>\n",
       "      <th>168</th>\n",
       "      <td>ENVO:00005777</td>\n",
       "      <td>True</td>\n",
       "      <td>False</td>\n",
       "      <td>steppe soil</td>\n",
       "      <td>RO:0001025</td>\n",
       "      <td>located in</td>\n",
       "      <td>located in</td>\n",
       "      <td>True</td>\n",
       "      <td>ENVO:00000262</td>\n",
       "      <td>False</td>\n",
       "      <td>True</td>\n",
       "      <td>steppe</td>\n",
       "      <td>0.738549</td>\n",
       "      <td>steppe</td>\n",
       "      <td>steppe soil</td>\n",
       "      <td>NaN</td>\n",
       "    </tr>\n",
       "    <tr>\n",
       "      <th>209</th>\n",
       "      <td>ENVO:02000138</td>\n",
       "      <td>True</td>\n",
       "      <td>False</td>\n",
       "      <td>mangrove biome soil</td>\n",
       "      <td>RO:0001025</td>\n",
       "      <td>located in</td>\n",
       "      <td>located in</td>\n",
       "      <td>True</td>\n",
       "      <td>ENVO:01000181</td>\n",
       "      <td>False</td>\n",
       "      <td>False</td>\n",
       "      <td>mangrove biome</td>\n",
       "      <td>0.858395</td>\n",
       "      <td>mangrove biome</td>\n",
       "      <td>mangrove biome soil</td>\n",
       "      <td>exclude soil</td>\n",
       "    </tr>\n",
       "    <tr>\n",
       "      <th>227</th>\n",
       "      <td>ENVO:00000044</td>\n",
       "      <td>False</td>\n",
       "      <td>True</td>\n",
       "      <td>peatland</td>\n",
       "      <td>RO:0002473</td>\n",
       "      <td>composed primarily of</td>\n",
       "      <td>composed primarily of</td>\n",
       "      <td>True</td>\n",
       "      <td>ENVO:00005774</td>\n",
       "      <td>True</td>\n",
       "      <td>False</td>\n",
       "      <td>peat soil</td>\n",
       "      <td>0.589256</td>\n",
       "      <td>peatland</td>\n",
       "      <td>peat soil</td>\n",
       "      <td>NaN</td>\n",
       "    </tr>\n",
       "    <tr>\n",
       "      <th>400</th>\n",
       "      <td>NaN</td>\n",
       "      <td>NaN</td>\n",
       "      <td>NaN</td>\n",
       "      <td>NaN</td>\n",
       "      <td>NaN</td>\n",
       "      <td>NaN</td>\n",
       "      <td>NaN</td>\n",
       "      <td>False</td>\n",
       "      <td>NaN</td>\n",
       "      <td>NaN</td>\n",
       "      <td>NaN</td>\n",
       "      <td>NaN</td>\n",
       "      <td>NaN</td>\n",
       "      <td>farm</td>\n",
       "      <td>farm soil</td>\n",
       "      <td>exclude soil</td>\n",
       "    </tr>\n",
       "    <tr>\n",
       "      <th>401</th>\n",
       "      <td>NaN</td>\n",
       "      <td>NaN</td>\n",
       "      <td>NaN</td>\n",
       "      <td>NaN</td>\n",
       "      <td>NaN</td>\n",
       "      <td>NaN</td>\n",
       "      <td>NaN</td>\n",
       "      <td>False</td>\n",
       "      <td>NaN</td>\n",
       "      <td>NaN</td>\n",
       "      <td>NaN</td>\n",
       "      <td>NaN</td>\n",
       "      <td>NaN</td>\n",
       "      <td>greenhouse</td>\n",
       "      <td>greenhouse soil</td>\n",
       "      <td>exclude soil</td>\n",
       "    </tr>\n",
       "    <tr>\n",
       "      <th>402</th>\n",
       "      <td>NaN</td>\n",
       "      <td>NaN</td>\n",
       "      <td>NaN</td>\n",
       "      <td>NaN</td>\n",
       "      <td>NaN</td>\n",
       "      <td>NaN</td>\n",
       "      <td>NaN</td>\n",
       "      <td>False</td>\n",
       "      <td>NaN</td>\n",
       "      <td>NaN</td>\n",
       "      <td>NaN</td>\n",
       "      <td>NaN</td>\n",
       "      <td>NaN</td>\n",
       "      <td>volcano</td>\n",
       "      <td>volcanic soil</td>\n",
       "      <td>exclude soil</td>\n",
       "    </tr>\n",
       "  </tbody>\n",
       "</table>\n",
       "</div>"
      ]
     },
     "execution_count": 14,
     "metadata": {},
     "output_type": "execute_result"
    }
   ],
   "execution_count": 14
  },
  {
   "metadata": {
    "ExecuteTime": {
     "end_time": "2024-12-17T21:17:38.381755Z",
     "start_time": "2024-12-17T21:17:38.377116Z"
    }
   },
   "cell_type": "code",
   "source": "soils_reiterating_broad_or_local = set(soils_with_local_or_override_exclusion_justification['sole_soil'].unique())\n",
   "id": "b8f217ba6fd412b5",
   "outputs": [],
   "execution_count": 15
  },
  {
   "metadata": {
    "ExecuteTime": {
     "end_time": "2024-12-17T21:17:39.195365Z",
     "start_time": "2024-12-17T21:17:39.146991Z"
    }
   },
   "cell_type": "code",
   "source": "adapter = get_adapter(adapter_string)",
   "id": "b98d95693fb26e64",
   "outputs": [],
   "execution_count": 16
  },
  {
   "metadata": {
    "ExecuteTime": {
     "end_time": "2024-12-17T21:17:39.792859Z",
     "start_time": "2024-12-17T21:17:39.789508Z"
    }
   },
   "cell_type": "code",
   "source": "targets = set()",
   "id": "38bfe1d58a2a2e6e",
   "outputs": [],
   "execution_count": 17
  },
  {
   "metadata": {},
   "cell_type": "markdown",
   "source": "accumulate subclasses of the target classes, by label. (Doing it by CURIe would be faster and require less code)",
   "id": "8a0a368c67728dbf"
  },
  {
   "metadata": {
    "ExecuteTime": {
     "end_time": "2024-12-17T21:17:41.289259Z",
     "start_time": "2024-12-17T21:17:41.130659Z"
    }
   },
   "cell_type": "code",
   "source": [
    "for current_label in target_labels:\n",
    "    for class_id in adapter.basic_search(current_label):\n",
    "        descendant = adapter.descendants(class_id, predicates=[IS_A])\n",
    "        for d in descendant:\n",
    "            if adapter.label(d) not in soils_reiterating_broad_or_local:\n",
    "                targets.add(d)\n",
    "            else:\n",
    "                print(f\"Excluding {d} {adapter.label(d)} because its differentia can be expressed in terms of the broad or local scale\")\n",
    "            \n",
    "print(len(targets))"
   ],
   "id": "8fc94afe92377c39",
   "outputs": [
    {
     "name": "stdout",
     "output_type": "stream",
     "text": [
      "Excluding ENVO:00005743 roadside soil because its differentia can be expressed in terms of the broad or local scale\n",
      "Excluding ENVO:00002263 garden soil because its differentia can be expressed in terms of the broad or local scale\n",
      "Excluding ENVO:00005773 pasture soil because its differentia can be expressed in terms of the broad or local scale\n",
      "Excluding ENVO:00005772 orchard soil because its differentia can be expressed in terms of the broad or local scale\n",
      "Excluding ENVO:00002260 dune soil because its differentia can be expressed in terms of the broad or local scale\n",
      "Excluding ENVO:02000138 mangrove biome soil because its differentia can be expressed in terms of the broad or local scale\n",
      "Excluding ENVO:00005774 peat soil because its differentia can be expressed in terms of the broad or local scale\n",
      "Excluding ENVO:00005755 field soil because its differentia can be expressed in terms of the broad or local scale\n",
      "Excluding ENVO:00005780 greenhouse soil because its differentia can be expressed in terms of the broad or local scale\n",
      "Excluding ENVO:00005777 steppe soil because its differentia can be expressed in terms of the broad or local scale\n",
      "Excluding ENVO:00005749 farm soil because its differentia can be expressed in terms of the broad or local scale\n",
      "Excluding ENVO:01001841 volcanic soil because its differentia can be expressed in terms of the broad or local scale\n",
      "118\n"
     ]
    }
   ],
   "execution_count": 18
  },
  {
   "metadata": {},
   "cell_type": "markdown",
   "source": "deplete subclasses of the exclusion classes, again by label",
   "id": "969871327a5f70d0"
  },
  {
   "metadata": {
    "ExecuteTime": {
     "end_time": "2024-12-17T21:17:48.651746Z",
     "start_time": "2024-12-17T21:17:48.587424Z"
    }
   },
   "cell_type": "code",
   "source": [
    "\n",
    "for current_label in exclusion_labels:\n",
    "    for class_id in adapter.basic_search(current_label):\n",
    "        descendant = adapter.descendants(class_id, predicates=[IS_A])\n",
    "        for d in descendant:\n",
    "            targets.remove(d)\n",
    "\n",
    "print(len(targets))"
   ],
   "id": "77c441ce49ee868",
   "outputs": [
    {
     "name": "stdout",
     "output_type": "stream",
     "text": [
      "85\n"
     ]
    }
   ],
   "execution_count": 19
  },
  {
   "metadata": {
    "ExecuteTime": {
     "end_time": "2024-12-17T21:17:49.727100Z",
     "start_time": "2024-12-17T21:17:49.685996Z"
    }
   },
   "cell_type": "code",
   "source": [
    "labelled_targets = []\n",
    "for t in targets:\n",
    "    labelled_targets.append(\n",
    "        {\n",
    "            \"id\": t,\n",
    "            \"label\": adapter.label(t)\n",
    "        }\n",
    "    )\n",
    "\n",
    "export_frame = pd.DataFrame(labelled_targets)\n",
    "\n",
    "export_frame.to_csv(output_file, sep=\"\\t\", index=False)\n"
   ],
   "id": "4301a231897de6d9",
   "outputs": [],
   "execution_count": 20
  },
  {
   "metadata": {},
   "cell_type": "code",
   "outputs": [],
   "execution_count": null,
   "source": "",
   "id": "c1145ec1d3ef2696"
  }
 ],
 "metadata": {
  "kernelspec": {
   "display_name": "Python 3",
   "language": "python",
   "name": "python3"
  },
  "language_info": {
   "codemirror_mode": {
    "name": "ipython",
    "version": 2
   },
   "file_extension": ".py",
   "mimetype": "text/x-python",
   "name": "python",
   "nbconvert_exporter": "python",
   "pygments_lexer": "ipython2",
   "version": "2.7.6"
  }
 },
 "nbformat": 4,
 "nbformat_minor": 5
}
