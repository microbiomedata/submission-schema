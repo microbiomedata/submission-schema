{
 "cells": [
  {
   "cell_type": "code",
   "id": "initial_id",
   "metadata": {
    "collapsed": true,
    "ExecuteTime": {
     "end_time": "2024-11-11T22:39:13.472287Z",
     "start_time": "2024-11-11T22:39:10.614806Z"
    }
   },
   "source": [
    "from oaklib import get_adapter\n",
    "from oaklib.datamodels.vocabulary import IS_A\n",
    "import csv # don't really need csv if we are importing pandas\n",
    "\n",
    "import pandas as pd "
   ],
   "outputs": [],
   "execution_count": 1
  },
  {
   "metadata": {
    "ExecuteTime": {
     "end_time": "2024-11-11T22:39:13.479580Z",
     "start_time": "2024-11-11T22:39:13.475940Z"
    }
   },
   "cell_type": "code",
   "source": "pd.set_option('future.no_silent_downcasting', True)",
   "id": "d30a0cf4fa9eaf10",
   "outputs": [],
   "execution_count": 2
  },
  {
   "metadata": {
    "ExecuteTime": {
     "end_time": "2024-11-11T22:39:13.542267Z",
     "start_time": "2024-11-11T22:39:13.539238Z"
    }
   },
   "cell_type": "code",
   "source": "adapter_string = \"sqlite:obo:envo\"",
   "id": "2148e2b371b9d3c1",
   "outputs": [],
   "execution_count": 3
  },
  {
   "metadata": {
    "ExecuteTime": {
     "end_time": "2024-11-11T22:39:13.585351Z",
     "start_time": "2024-11-11T22:39:13.582204Z"
    }
   },
   "cell_type": "code",
   "source": "target_labels = [\"soil\"]",
   "id": "2b9221b70ebed187",
   "outputs": [],
   "execution_count": 4
  },
  {
   "metadata": {
    "ExecuteTime": {
     "end_time": "2024-11-11T22:39:13.633140Z",
     "start_time": "2024-11-11T22:39:13.629046Z"
    }
   },
   "cell_type": "code",
   "source": "exclusion_labels = [\"enriched soil\"]",
   "id": "dc91a47fb8762a09",
   "outputs": [],
   "execution_count": 5
  },
  {
   "metadata": {
    "ExecuteTime": {
     "end_time": "2024-11-11T22:39:13.682443Z",
     "start_time": "2024-11-11T22:39:13.677984Z"
    }
   },
   "cell_type": "code",
   "source": "output_file = \"post_google_sheets_soil_env_medium.tsv\"",
   "id": "4737c7dfdaa5400e",
   "outputs": [],
   "execution_count": 6
  },
  {
   "metadata": {
    "ExecuteTime": {
     "end_time": "2024-11-11T22:39:13.730228Z",
     "start_time": "2024-11-11T22:39:13.727186Z"
    }
   },
   "cell_type": "code",
   "source": "excludable_soils_filename = \"../discover_excludable_soils_curated.tsv\"",
   "id": "77be6f0893e612eb",
   "outputs": [],
   "execution_count": 7
  },
  {
   "metadata": {
    "ExecuteTime": {
     "end_time": "2024-11-11T22:39:13.781181Z",
     "start_time": "2024-11-11T22:39:13.773124Z"
    }
   },
   "cell_type": "code",
   "source": [
    "excludable_soils_frame = pd.read_csv(excludable_soils_filename, sep=\"\\t\")\n",
    "\n",
    "excludable_soils_frame['relation_is_reasonable'] = excludable_soils_frame['relation_is_reasonable'].fillna(False)"
   ],
   "id": "e5ae95cb54367e20",
   "outputs": [],
   "execution_count": 8
  },
  {
   "metadata": {
    "ExecuteTime": {
     "end_time": "2024-11-11T22:39:13.839576Z",
     "start_time": "2024-11-11T22:39:13.825106Z"
    }
   },
   "cell_type": "code",
   "source": [
    "reasonable_frame = excludable_soils_frame[\n",
    "    (excludable_soils_frame['relation_is_reasonable']) |\n",
    "    (excludable_soils_frame['override'] == 'exclude soil')\n",
    "]\n"
   ],
   "id": "536b8ecb525febe9",
   "outputs": [],
   "execution_count": 9
  },
  {
   "metadata": {
    "ExecuteTime": {
     "end_time": "2024-11-11T22:39:13.911287Z",
     "start_time": "2024-11-11T22:39:13.890718Z"
    }
   },
   "cell_type": "code",
   "source": [
    "reasonable_frame = reasonable_frame[reasonable_frame['override'] != 'keep soil']\n",
    "\n",
    "reasonable_frame = reasonable_frame.dropna(subset=['sole_reasonable_other', 'sole_soil'])"
   ],
   "id": "7d638550e53542f9",
   "outputs": [],
   "execution_count": 10
  },
  {
   "metadata": {
    "ExecuteTime": {
     "end_time": "2024-11-11T22:39:13.957970Z",
     "start_time": "2024-11-11T22:39:13.954963Z"
    }
   },
   "cell_type": "code",
   "source": "soil_env_local_scale_filename = \"../env_local_scale/post_google_sheets_soil_env_local_scale.tsv\"",
   "id": "8a0972d756eb0bbf",
   "outputs": [],
   "execution_count": 11
  },
  {
   "metadata": {
    "ExecuteTime": {
     "end_time": "2024-11-11T22:39:14.008917Z",
     "start_time": "2024-11-11T22:39:14.003056Z"
    }
   },
   "cell_type": "code",
   "source": "soil_env_local_scale_frame = pd.read_csv(soil_env_local_scale_filename, sep=\"\\t\")",
   "id": "89dbf4c1953b5b92",
   "outputs": [],
   "execution_count": 12
  },
  {
   "metadata": {
    "ExecuteTime": {
     "end_time": "2024-11-11T22:39:14.074999Z",
     "start_time": "2024-11-11T22:39:14.056814Z"
    }
   },
   "cell_type": "code",
   "source": [
    "soils_with_local_or_override_exclusion_justification = reasonable_frame[\n",
    "    (reasonable_frame['sole_reasonable_other'].isin(soil_env_local_scale_frame['label'])) |\n",
    "    (reasonable_frame['override'] == 'exclude soil')\n",
    "]"
   ],
   "id": "7e728b28efcebb4c",
   "outputs": [],
   "execution_count": 13
  },
  {
   "metadata": {
    "ExecuteTime": {
     "end_time": "2024-11-11T22:39:14.117963Z",
     "start_time": "2024-11-11T22:39:14.115268Z"
    }
   },
   "cell_type": "code",
   "source": "",
   "id": "df718b5631cbf733",
   "outputs": [],
   "execution_count": null
  },
  {
   "metadata": {
    "ExecuteTime": {
     "end_time": "2024-11-11T22:39:14.165681Z",
     "start_time": "2024-11-11T22:39:14.161771Z"
    }
   },
   "cell_type": "code",
   "source": "soils_reiterating_broad_or_local = set(soils_with_local_or_override_exclusion_justification['sole_soil'].unique())\n",
   "id": "bff5dcb1cee90fb",
   "outputs": [],
   "execution_count": 14
  },
  {
   "metadata": {
    "ExecuteTime": {
     "end_time": "2024-11-11T22:39:14.240394Z",
     "start_time": "2024-11-11T22:39:14.209488Z"
    }
   },
   "cell_type": "code",
   "source": "adapter = get_adapter(adapter_string)",
   "id": "7709e378f4d117eb",
   "outputs": [],
   "execution_count": 15
  },
  {
   "metadata": {
    "ExecuteTime": {
     "end_time": "2024-11-11T22:39:14.266946Z",
     "start_time": "2024-11-11T22:39:14.264230Z"
    }
   },
   "cell_type": "code",
   "source": "targets = set()",
   "id": "1bbc3b1ad9958a37",
   "outputs": [],
   "execution_count": 16
  },
  {
   "metadata": {
    "ExecuteTime": {
     "end_time": "2024-11-11T22:39:14.479393Z",
     "start_time": "2024-11-11T22:39:14.307303Z"
    }
   },
   "cell_type": "code",
   "source": [
    "# accumulate subclasses of the target classes (by label)\n",
    "# \n",
    "for current_label in target_labels:\n",
    "    for class_id in adapter.basic_search(current_label):\n",
    "        descendant = adapter.descendants(class_id, predicates=[IS_A])\n",
    "        for d in descendant:\n",
    "            if adapter.label(d) not in soils_reiterating_broad_or_local:\n",
    "                targets.add(d)\n",
    "            else:\n",
    "                print(\n",
    "                    f\"Excluding {d} {adapter.label(d)} because its differentia can be expressed in terms of the broad or local scale\")\n",
    "                print(soils_with_local_or_override_exclusion_justification[\n",
    "                          soils_with_local_or_override_exclusion_justification['sole_soil'] == adapter.label(d)])\n",
    "\n",
    "print(len(targets))"
   ],
   "id": "6ecbf0cd88edec66",
   "outputs": [
    {
     "name": "stdout",
     "output_type": "stream",
     "text": [
      "Excluding ENVO:00002263 garden soil because its differentia can be expressed in terms of the broad or local scale\n",
      "                s s_is_soil s_is_reasonable_other         slab            p  \\\n",
      "59  ENVO:00002263      True                 False  garden soil  BFO:0000050   \n",
      "60  ENVO:00002263      True                 False  garden soil   RO:0001025   \n",
      "\n",
      "          plab p_lab_or_id relation_is_reasonable              o o_is_soil  \\\n",
      "59     part of     part of                   True  ENVO:00000011     False   \n",
      "60  located in  located in                   True  ENVO:00000011     False   \n",
      "\n",
      "   o_is_reasonable_other    olab  slab_olab_cosine sole_reasonable_other  \\\n",
      "59                  True  garden          0.738549                garden   \n",
      "60                  True  garden          0.738549                garden   \n",
      "\n",
      "      sole_soil override  \n",
      "59  garden soil      NaN  \n",
      "60  garden soil      NaN  \n",
      "Excluding ENVO:00005773 pasture soil because its differentia can be expressed in terms of the broad or local scale\n",
      "                 s s_is_soil s_is_reasonable_other          slab           p  \\\n",
      "159  ENVO:00005773      True                 False  pasture soil  RO:0001025   \n",
      "\n",
      "           plab p_lab_or_id relation_is_reasonable              o o_is_soil  \\\n",
      "159  located in  located in                   True  ENVO:00000266     False   \n",
      "\n",
      "    o_is_reasonable_other     olab  slab_olab_cosine sole_reasonable_other  \\\n",
      "159                  True  pasture          0.763763               pasture   \n",
      "\n",
      "        sole_soil override  \n",
      "159  pasture soil      NaN  \n",
      "Excluding ENVO:00005772 orchard soil because its differentia can be expressed in terms of the broad or local scale\n",
      "                 s s_is_soil s_is_reasonable_other          slab            p  \\\n",
      "156  ENVO:00005772      True                 False  orchard soil  BFO:0000050   \n",
      "\n",
      "        plab p_lab_or_id relation_is_reasonable              o o_is_soil  \\\n",
      "156  part of     part of                   True  ENVO:00000115     False   \n",
      "\n",
      "    o_is_reasonable_other     olab  slab_olab_cosine sole_reasonable_other  \\\n",
      "156                  True  orchard          0.763763               orchard   \n",
      "\n",
      "        sole_soil      override  \n",
      "156  orchard soil  exclude soil  \n",
      "Excluding ENVO:00002260 dune soil because its differentia can be expressed in terms of the broad or local scale\n",
      "                s s_is_soil s_is_reasonable_other       slab            p  \\\n",
      "53  ENVO:00002260      True                 False  dune soil  BFO:0000050   \n",
      "\n",
      "       plab p_lab_or_id relation_is_reasonable              o o_is_soil  \\\n",
      "53  part of     part of                   True  ENVO:00000170     False   \n",
      "\n",
      "   o_is_reasonable_other  olab  slab_olab_cosine sole_reasonable_other  \\\n",
      "53                  True  dune          0.666667                  dune   \n",
      "\n",
      "    sole_soil override  \n",
      "53  dune soil      NaN  \n",
      "Excluding ENVO:02000138 mangrove biome soil because its differentia can be expressed in terms of the broad or local scale\n",
      "                 s s_is_soil s_is_reasonable_other                 slab  \\\n",
      "209  ENVO:02000138      True                 False  mangrove biome soil   \n",
      "\n",
      "              p        plab p_lab_or_id relation_is_reasonable              o  \\\n",
      "209  RO:0001025  located in  located in                   True  ENVO:01000181   \n",
      "\n",
      "    o_is_soil o_is_reasonable_other            olab  slab_olab_cosine  \\\n",
      "209     False                 False  mangrove biome          0.858395   \n",
      "\n",
      "    sole_reasonable_other            sole_soil      override  \n",
      "209        mangrove biome  mangrove biome soil  exclude soil  \n",
      "Excluding ENVO:00005774 peat soil because its differentia can be expressed in terms of the broad or local scale\n",
      "                 s s_is_soil s_is_reasonable_other      slab           p  \\\n",
      "227  ENVO:00000044     False                  True  peatland  RO:0002473   \n",
      "\n",
      "                      plab            p_lab_or_id relation_is_reasonable  \\\n",
      "227  composed primarily of  composed primarily of                   True   \n",
      "\n",
      "                 o o_is_soil o_is_reasonable_other       olab  \\\n",
      "227  ENVO:00005774      True                 False  peat soil   \n",
      "\n",
      "     slab_olab_cosine sole_reasonable_other  sole_soil override  \n",
      "227          0.589256              peatland  peat soil      NaN  \n",
      "Excluding ENVO:00005780 greenhouse soil because its differentia can be expressed in terms of the broad or local scale\n",
      "       s s_is_soil s_is_reasonable_other slab    p plab p_lab_or_id  \\\n",
      "401  NaN       NaN                   NaN  NaN  NaN  NaN         NaN   \n",
      "\n",
      "    relation_is_reasonable    o o_is_soil o_is_reasonable_other olab  \\\n",
      "401                  False  NaN       NaN                   NaN  NaN   \n",
      "\n",
      "     slab_olab_cosine sole_reasonable_other        sole_soil      override  \n",
      "401               NaN            greenhouse  greenhouse soil  exclude soil  \n",
      "Excluding ENVO:00005777 steppe soil because its differentia can be expressed in terms of the broad or local scale\n",
      "                 s s_is_soil s_is_reasonable_other         slab           p  \\\n",
      "168  ENVO:00005777      True                 False  steppe soil  RO:0001025   \n",
      "\n",
      "           plab p_lab_or_id relation_is_reasonable              o o_is_soil  \\\n",
      "168  located in  located in                   True  ENVO:00000262     False   \n",
      "\n",
      "    o_is_reasonable_other    olab  slab_olab_cosine sole_reasonable_other  \\\n",
      "168                  True  steppe          0.738549                steppe   \n",
      "\n",
      "       sole_soil override  \n",
      "168  steppe soil      NaN  \n",
      "Excluding ENVO:00005749 farm soil because its differentia can be expressed in terms of the broad or local scale\n",
      "       s s_is_soil s_is_reasonable_other slab    p plab p_lab_or_id  \\\n",
      "400  NaN       NaN                   NaN  NaN  NaN  NaN         NaN   \n",
      "\n",
      "    relation_is_reasonable    o o_is_soil o_is_reasonable_other olab  \\\n",
      "400                  False  NaN       NaN                   NaN  NaN   \n",
      "\n",
      "     slab_olab_cosine sole_reasonable_other  sole_soil      override  \n",
      "400               NaN                  farm  farm soil  exclude soil  \n",
      "Excluding ENVO:00005761 meadow soil because its differentia can be expressed in terms of the broad or local scale\n",
      "                 s s_is_soil s_is_reasonable_other         slab            p  \\\n",
      "136  ENVO:00005761      True                 False  meadow soil  BFO:0000050   \n",
      "\n",
      "        plab p_lab_or_id relation_is_reasonable              o o_is_soil  \\\n",
      "136  part of     part of                   True  ENVO:00000108     False   \n",
      "\n",
      "    o_is_reasonable_other              olab  slab_olab_cosine  \\\n",
      "136                  True  meadow ecosystem          0.678401   \n",
      "\n",
      "    sole_reasonable_other    sole_soil override  \n",
      "136      meadow ecosystem  meadow soil      NaN  \n",
      "Excluding ENVO:01001841 volcanic soil because its differentia can be expressed in terms of the broad or local scale\n",
      "       s s_is_soil s_is_reasonable_other slab    p plab p_lab_or_id  \\\n",
      "402  NaN       NaN                   NaN  NaN  NaN  NaN         NaN   \n",
      "\n",
      "    relation_is_reasonable    o o_is_soil o_is_reasonable_other olab  \\\n",
      "402                  False  NaN       NaN                   NaN  NaN   \n",
      "\n",
      "     slab_olab_cosine sole_reasonable_other      sole_soil      override  \n",
      "402               NaN               volcano  volcanic soil  exclude soil  \n",
      "119\n"
     ]
    }
   ],
   "execution_count": 17
  },
  {
   "metadata": {
    "ExecuteTime": {
     "end_time": "2024-11-11T22:39:14.541290Z",
     "start_time": "2024-11-11T22:39:14.504591Z"
    }
   },
   "cell_type": "code",
   "source": [
    "# deplete subclasses of the exclusion classes (by label)\n",
    "# \n",
    "for current_label in exclusion_labels:\n",
    "    for class_id in adapter.basic_search(current_label):\n",
    "        descendant = adapter.descendants(class_id, predicates=[IS_A])\n",
    "        for d in descendant:\n",
    "            targets.remove(d)\n",
    "\n",
    "print(len(targets))"
   ],
   "id": "77c441ce49ee868",
   "outputs": [
    {
     "name": "stdout",
     "output_type": "stream",
     "text": [
      "86\n"
     ]
    }
   ],
   "execution_count": 18
  },
  {
   "metadata": {
    "ExecuteTime": {
     "end_time": "2024-11-11T22:39:14.622175Z",
     "start_time": "2024-11-11T22:39:14.586428Z"
    }
   },
   "cell_type": "code",
   "source": [
    "labelled_targets = []\n",
    "for t in targets:\n",
    "    labelled_targets.append(\n",
    "        {\n",
    "            \"id\": t,\n",
    "            \"label\": adapter.label(t)\n",
    "        }\n",
    "    )\n",
    "\n",
    "export_frame = pd.DataFrame(labelled_targets)\n",
    "\n",
    "export_frame.to_csv(output_file, sep=\"\\t\", index=False)\n"
   ],
   "id": "4301a231897de6d9",
   "outputs": [],
   "execution_count": 19
  },
  {
   "metadata": {
    "ExecuteTime": {
     "end_time": "2024-11-11T22:39:14.650806Z",
     "start_time": "2024-11-11T22:39:14.648801Z"
    }
   },
   "cell_type": "code",
   "source": "",
   "id": "8b5ac9a2750a35d9",
   "outputs": [],
   "execution_count": null
  }
 ],
 "metadata": {
  "kernelspec": {
   "display_name": "Python 3",
   "language": "python",
   "name": "python3"
  },
  "language_info": {
   "codemirror_mode": {
    "name": "ipython",
    "version": 2
   },
   "file_extension": ".py",
   "mimetype": "text/x-python",
   "name": "python",
   "nbconvert_exporter": "python",
   "pygments_lexer": "ipython2",
   "version": "2.7.6"
  }
 },
 "nbformat": 4,
 "nbformat_minor": 5
}
