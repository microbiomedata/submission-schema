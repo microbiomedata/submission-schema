{
 "cells": [
  {
   "cell_type": "code",
   "id": "initial_id",
   "metadata": {
    "collapsed": true,
    "ExecuteTime": {
     "end_time": "2024-11-11T23:11:28.002244Z",
     "start_time": "2024-11-11T23:11:25.232794Z"
    }
   },
   "source": [
    "from oaklib import get_adapter\n",
    "from oaklib.datamodels.vocabulary import IS_A\n",
    "import csv # don't really need csv if we are importing pandas\n",
    "\n",
    "import pandas as pd "
   ],
   "outputs": [],
   "execution_count": 1
  },
  {
   "metadata": {
    "ExecuteTime": {
     "end_time": "2024-11-11T23:11:28.009655Z",
     "start_time": "2024-11-11T23:11:28.006328Z"
    }
   },
   "cell_type": "code",
   "source": "pd.set_option('future.no_silent_downcasting', True)",
   "id": "d30a0cf4fa9eaf10",
   "outputs": [],
   "execution_count": 2
  },
  {
   "metadata": {
    "ExecuteTime": {
     "end_time": "2024-11-11T23:11:28.070553Z",
     "start_time": "2024-11-11T23:11:28.067705Z"
    }
   },
   "cell_type": "code",
   "source": "adapter_string = \"sqlite:obo:envo\"",
   "id": "2148e2b371b9d3c1",
   "outputs": [],
   "execution_count": 3
  },
  {
   "metadata": {
    "ExecuteTime": {
     "end_time": "2024-11-11T23:11:28.113552Z",
     "start_time": "2024-11-11T23:11:28.110383Z"
    }
   },
   "cell_type": "code",
   "source": "target_labels = [\"soil\"]",
   "id": "2b9221b70ebed187",
   "outputs": [],
   "execution_count": 4
  },
  {
   "metadata": {
    "ExecuteTime": {
     "end_time": "2024-11-11T23:11:28.160083Z",
     "start_time": "2024-11-11T23:11:28.157093Z"
    }
   },
   "cell_type": "code",
   "source": "exclusion_labels = [\"enriched soil\"]",
   "id": "dc91a47fb8762a09",
   "outputs": [],
   "execution_count": 5
  },
  {
   "metadata": {
    "ExecuteTime": {
     "end_time": "2024-11-11T23:11:28.207113Z",
     "start_time": "2024-11-11T23:11:28.204084Z"
    }
   },
   "cell_type": "code",
   "source": "output_file = \"post_google_sheets_soil_env_medium_scale.tsv\"",
   "id": "4737c7dfdaa5400e",
   "outputs": [],
   "execution_count": 6
  },
  {
   "metadata": {
    "ExecuteTime": {
     "end_time": "2024-11-11T23:11:28.263456Z",
     "start_time": "2024-11-11T23:11:28.255883Z"
    }
   },
   "cell_type": "code",
   "source": "excludable_soils_filename = \"../discover_excludable_soils_curated.tsv\"",
   "id": "77be6f0893e612eb",
   "outputs": [],
   "execution_count": 7
  },
  {
   "metadata": {
    "ExecuteTime": {
     "end_time": "2024-11-11T23:11:28.323959Z",
     "start_time": "2024-11-11T23:11:28.311132Z"
    }
   },
   "cell_type": "code",
   "source": [
    "excludable_soils_frame = pd.read_csv(excludable_soils_filename, sep=\"\\t\")\n",
    "\n",
    "excludable_soils_frame['relation_is_reasonable'] = excludable_soils_frame['relation_is_reasonable'].fillna(False)"
   ],
   "id": "e5ae95cb54367e20",
   "outputs": [],
   "execution_count": 8
  },
  {
   "metadata": {
    "ExecuteTime": {
     "end_time": "2024-11-11T23:11:28.382324Z",
     "start_time": "2024-11-11T23:11:28.366835Z"
    }
   },
   "cell_type": "code",
   "source": [
    "reasonable_frame = excludable_soils_frame[\n",
    "    (excludable_soils_frame['relation_is_reasonable']) |\n",
    "    (excludable_soils_frame['override'] == 'exclude soil')\n",
    "]\n"
   ],
   "id": "536b8ecb525febe9",
   "outputs": [],
   "execution_count": 9
  },
  {
   "metadata": {
    "ExecuteTime": {
     "end_time": "2024-11-11T23:11:28.428504Z",
     "start_time": "2024-11-11T23:11:28.423061Z"
    }
   },
   "cell_type": "code",
   "source": [
    "reasonable_frame = reasonable_frame[reasonable_frame['override'] != 'keep soil']\n",
    "\n",
    "reasonable_frame = reasonable_frame.dropna(subset=['sole_reasonable_other', 'sole_soil'])"
   ],
   "id": "7d638550e53542f9",
   "outputs": [],
   "execution_count": 10
  },
  {
   "metadata": {
    "ExecuteTime": {
     "end_time": "2024-11-11T23:11:28.475315Z",
     "start_time": "2024-11-11T23:11:28.472375Z"
    }
   },
   "cell_type": "code",
   "source": "soil_env_local_scale_filename = \"../env_local_scale/post_google_sheets_soil_env_local_scale.tsv\"",
   "id": "8a0972d756eb0bbf",
   "outputs": [],
   "execution_count": 11
  },
  {
   "metadata": {
    "ExecuteTime": {
     "end_time": "2024-11-11T23:11:28.523549Z",
     "start_time": "2024-11-11T23:11:28.518569Z"
    }
   },
   "cell_type": "code",
   "source": "soil_env_local_scale_frame = pd.read_csv(soil_env_local_scale_filename, sep=\"\\t\")",
   "id": "89dbf4c1953b5b92",
   "outputs": [],
   "execution_count": 12
  },
  {
   "metadata": {
    "ExecuteTime": {
     "end_time": "2024-11-11T23:11:28.570657Z",
     "start_time": "2024-11-11T23:11:28.566311Z"
    }
   },
   "cell_type": "code",
   "source": [
    "soils_with_local_or_override_exclusion_justification = reasonable_frame[\n",
    "    (reasonable_frame['sole_reasonable_other'].isin(soil_env_local_scale_frame['label'])) |\n",
    "    (reasonable_frame['override'] == 'exclude soil')\n",
    "]"
   ],
   "id": "7e728b28efcebb4c",
   "outputs": [],
   "execution_count": 13
  },
  {
   "metadata": {},
   "cell_type": "code",
   "outputs": [],
   "execution_count": null,
   "source": "soils_with_local_or_override_exclusion_justification",
   "id": "d2bc11248ba7bfab"
  },
  {
   "metadata": {},
   "cell_type": "code",
   "outputs": [],
   "execution_count": null,
   "source": "soils_reiterating_broad_or_local = set(soils_with_local_or_override_exclusion_justification['sole_soil'].unique())\n",
   "id": "b8f217ba6fd412b5"
  },
  {
   "metadata": {},
   "cell_type": "code",
   "outputs": [],
   "execution_count": null,
   "source": "adapter = get_adapter(adapter_string)",
   "id": "b98d95693fb26e64"
  },
  {
   "metadata": {},
   "cell_type": "code",
   "outputs": [],
   "execution_count": null,
   "source": "targets = set()",
   "id": "38bfe1d58a2a2e6e"
  },
  {
   "metadata": {},
   "cell_type": "code",
   "outputs": [],
   "execution_count": null,
   "source": [
    "# accumulate subclasses of the target classes (by label)\n",
    "# \n",
    "for current_label in target_labels:\n",
    "    for class_id in adapter.basic_search(current_label):\n",
    "        descendant = adapter.descendants(class_id, predicates=[IS_A])\n",
    "        for d in descendant:\n",
    "            if adapter.label(d) not in soils_reiterating_broad_or_local:\n",
    "                targets.add(d)\n",
    "            else:\n",
    "                print(f\"Excluding {d} {adapter.label(d)} because its differentia can be expressed in terms of the broad or local scale\")\n",
    "            \n",
    "print(len(targets))"
   ],
   "id": "8fc94afe92377c39"
  },
  {
   "metadata": {
    "ExecuteTime": {
     "end_time": "2024-11-11T23:11:29.044191Z",
     "start_time": "2024-11-11T23:11:29.002580Z"
    }
   },
   "cell_type": "code",
   "source": [
    "# deplete subclasses of the exclusion classes (by label)\n",
    "# \n",
    "for current_label in exclusion_labels:\n",
    "    for class_id in adapter.basic_search(current_label):\n",
    "        descendant = adapter.descendants(class_id, predicates=[IS_A])\n",
    "        for d in descendant:\n",
    "            targets.remove(d)\n",
    "\n",
    "print(len(targets))"
   ],
   "id": "77c441ce49ee868",
   "outputs": [
    {
     "name": "stdout",
     "output_type": "stream",
     "text": [
      "86\n"
     ]
    }
   ],
   "execution_count": 18
  },
  {
   "metadata": {
    "ExecuteTime": {
     "end_time": "2024-11-11T23:11:29.107828Z",
     "start_time": "2024-11-11T23:11:29.070844Z"
    }
   },
   "cell_type": "code",
   "source": [
    "labelled_targets = []\n",
    "for t in targets:\n",
    "    labelled_targets.append(\n",
    "        {\n",
    "            \"id\": t,\n",
    "            \"label\": adapter.label(t)\n",
    "        }\n",
    "    )\n",
    "\n",
    "export_frame = pd.DataFrame(labelled_targets)\n",
    "\n",
    "export_frame.to_csv(output_file, sep=\"\\t\", index=False)\n"
   ],
   "id": "4301a231897de6d9",
   "outputs": [],
   "execution_count": 19
  },
  {
   "metadata": {
    "ExecuteTime": {
     "end_time": "2024-11-11T23:11:29.140858Z",
     "start_time": "2024-11-11T23:11:29.137864Z"
    }
   },
   "cell_type": "code",
   "source": "",
   "id": "8b5ac9a2750a35d9",
   "outputs": [],
   "execution_count": null
  }
 ],
 "metadata": {
  "kernelspec": {
   "display_name": "Python 3",
   "language": "python",
   "name": "python3"
  },
  "language_info": {
   "codemirror_mode": {
    "name": "ipython",
    "version": 2
   },
   "file_extension": ".py",
   "mimetype": "text/x-python",
   "name": "python",
   "nbconvert_exporter": "python",
   "pygments_lexer": "ipython2",
   "version": "2.7.6"
  }
 },
 "nbformat": 4,
 "nbformat_minor": 5
}
