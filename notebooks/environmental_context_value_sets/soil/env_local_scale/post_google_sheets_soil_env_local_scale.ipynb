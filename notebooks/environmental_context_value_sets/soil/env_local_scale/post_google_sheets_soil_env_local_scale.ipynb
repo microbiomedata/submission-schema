{
 "cells": [
  {
   "metadata": {
    "ExecuteTime": {
     "end_time": "2024-11-11T23:10:33.052197Z",
     "start_time": "2024-11-11T23:10:30.121598Z"
    }
   },
   "cell_type": "code",
   "source": [
    "from oaklib import get_adapter\n",
    "from oaklib.datamodels.vocabulary import IS_A, PART_OF\n",
    "\n",
    "import csv\n",
    "import pandas as pd"
   ],
   "id": "646b7036c622364d",
   "outputs": [],
   "execution_count": 1
  },
  {
   "metadata": {
    "ExecuteTime": {
     "end_time": "2024-11-11T23:10:33.059929Z",
     "start_time": "2024-11-11T23:10:33.056988Z"
    }
   },
   "cell_type": "code",
   "source": "adapter_string = 'sqlite:obo:envo'",
   "id": "ab0db8d29650cb0a",
   "outputs": [],
   "execution_count": 2
  },
  {
   "metadata": {
    "ExecuteTime": {
     "end_time": "2024-11-11T23:10:33.127575Z",
     "start_time": "2024-11-11T23:10:33.124688Z"
    }
   },
   "cell_type": "code",
   "source": [
    "acceptable_prefixes = {\n",
    "    'ENVO'\n",
    "}"
   ],
   "id": "f2fef49099cfd854",
   "outputs": [],
   "execution_count": 3
  },
  {
   "metadata": {
    "ExecuteTime": {
     "end_time": "2024-11-11T23:10:33.171392Z",
     "start_time": "2024-11-11T23:10:33.168570Z"
    }
   },
   "cell_type": "code",
   "source": [
    "target_labels = [\n",
    "    'material entity',\n",
    "]\n"
   ],
   "id": "f18b61443d970d0b",
   "outputs": [],
   "execution_count": 4
  },
  {
   "metadata": {
    "ExecuteTime": {
     "end_time": "2024-11-11T23:10:33.218152Z",
     "start_time": "2024-11-11T23:10:33.215316Z"
    }
   },
   "cell_type": "code",
   "source": [
    "exclusions_by_label_over_is_a = [\n",
    "    'astronomical body'\n",
    "]"
   ],
   "id": "1929d8a1aec89a67",
   "outputs": [],
   "execution_count": 5
  },
  {
   "metadata": {
    "ExecuteTime": {
     "end_time": "2024-11-11T23:10:33.265719Z",
     "start_time": "2024-11-11T23:10:33.261274Z"
    }
   },
   "cell_type": "code",
   "source": [
    "exclude_by_superstring_over_is_a = [\n",
    "    'UNEP-WCMC',\n",
    "    'agricult',\n",
    "    'anthropogenic',\n",
    "    'astronomical',\n",
    "    'biosphere',\n",
    "    'coast',\n",
    "    'construct',\n",
    "    'facility',\n",
    "    'feature',\n",
    "    'from',\n",
    "    'geographic',\n",
    "    'geologic',\n",
    "    'landform',\n",
    "    'marine',\n",
    "    'ocean',\n",
    "    'pingo',\n",
    "    'raised',\n",
    "    'salt',\n",
    "    'sea',\n",
    "    'system',\n",
    "    'volcanic',\n",
    "]"
   ],
   "id": "f4f3033e675ead8c",
   "outputs": [],
   "execution_count": 6
  },
  {
   "metadata": {
    "ExecuteTime": {
     "end_time": "2024-11-11T23:10:33.314791Z",
     "start_time": "2024-11-11T23:10:33.309529Z"
    }
   },
   "cell_type": "code",
   "source": [
    "exclude_by_label_over_is_a_and_parts = [\n",
    "    'anatomical entity environment',\n",
    "    'anatomical entity',\n",
    "    'animal habitation',\n",
    "    'archipelago',\n",
    "    'biome',\n",
    "    'body of liquid',\n",
    "    'building',\n",
    "    'channel of a watercourse',\n",
    "    'chemical entity',\n",
    "    'container of an intermittent water body',\n",
    "    'cryoform',\n",
    "    'educational facility',\n",
    "    'environmental material',\n",
    "    'environmental system',  # includes ecosystems\n",
    "    'environmental zone',\n",
    "    'fiat part of an astronomical object',\n",
    "    'fluid astronomical body part',  # todo gets rid of plume but also lakes, stream etc.\n",
    "    'hatchery',\n",
    "    'healthcare facility',\n",
    "    'high-elevation mountain',\n",
    "    'hospital unit facility',\n",
    "    'intrusion',\n",
    "    'karst',\n",
    "    'layer',\n",
    "    'manufactured product',\n",
    "    'marine environmental zone',\n",
    "    'marine layer',\n",
    "    'mass of compounded environmental materials',  # todo eliminates glacier\n",
    "    'mass of environmental material',\n",
    "    'mass of fluid',\n",
    "    'meteor',  # includes clouds!\n",
    "    'mid-elevation mountain',\n",
    "    'mineral deposit',\n",
    "    'object aggregate',  # esp for rain\n",
    "    'organ',\n",
    "    'particle',\n",
    "    'pedosphere',\n",
    "    'penplain',\n",
    "    'piece of plastic',\n",
    "    'polder',\n",
    "    'pole',\n",
    "    'political entity',\n",
    "    'protoplanetary disk',\n",
    "    'salt mass',\n",
    "    'sandur',\n",
    "    'seamount',\n",
    "    'see cliff',\n",
    "    'star',  # todo for photosphere, which should have been removed by mass of environmental material\n",
    "    'thermokarst',\n",
    "    'volcanic feature',\n",
    "    'whole plant',\n",
    "]\n",
    "\n",
    "# todo lost rhizosphere (an environmental system) ... steppe (part of part of a biome) ...\n",
    "\n",
    "# todo are we really saying that we aren't interested in soil near a lake? \n"
   ],
   "id": "c0aa87e1a1749f26",
   "outputs": [],
   "execution_count": 7
  },
  {
   "metadata": {
    "ExecuteTime": {
     "end_time": "2024-11-11T23:10:33.362825Z",
     "start_time": "2024-11-11T23:10:33.358126Z"
    }
   },
   "cell_type": "code",
   "source": [
    "keep_base_only = [\n",
    "    'artificial',\n",
    "    'basin'\n",
    "    'beach',\n",
    "    'bridge',\n",
    "    'campground',\n",
    "    'cave',\n",
    "    'channel',\n",
    "    'cliff',\n",
    "    'cone',\n",
    "    'conveyor',\n",
    "    'crater',\n",
    "    'cut',\n",
    "    'dam',\n",
    "    'dune',\n",
    "    'fault',\n",
    "    'field',\n",
    "    'flood',\n",
    "    'garden',\n",
    "    'hill',\n",
    "    'landfill',\n",
    "    'market',\n",
    "    'mine',\n",
    "    'moraine',\n",
    "    'mountain',\n",
    "    'natural',\n",
    "    'network',\n",
    "    'oil',\n",
    "    'park',\n",
    "    'pipeline',\n",
    "    'pit',\n",
    "    'plain',\n",
    "    'plane',\n",
    "    'planetary',\n",
    "    'pond',\n",
    "    'pond',\n",
    "    'prison',\n",
    "    'private',\n",
    "    'public',\n",
    "    'pyroclastic',\n",
    "    'range',\n",
    "    'reactor',\n",
    "    'refinery',\n",
    "    'ridge'\n",
    "    'rift',\n",
    "    'road',\n",
    "    'rock',\n",
    "    'site',\n",
    "    'slope',\n",
    "    'tailings',\n",
    "    'terrace',\n",
    "    'transport',\n",
    "    'tunnel',\n",
    "    'valley',\n",
    "    'volcano',\n",
    "    'water',\n",
    "    'zone',\n",
    "]\n"
   ],
   "id": "dda1c7539555e260",
   "outputs": [],
   "execution_count": 8
  },
  {
   "metadata": {
    "ExecuteTime": {
     "end_time": "2024-11-11T23:10:33.411443Z",
     "start_time": "2024-11-11T23:10:33.407678Z"
    }
   },
   "cell_type": "code",
   "source": "voting_sheet = 'https://docs.google.com/spreadsheets/d/1--lz0fJP7LPpf8tJED0ij7W5LIzgYGCC/export?format=tsv&gid=154155133'",
   "id": "cccca3fe2e2df91e",
   "outputs": [],
   "execution_count": 9
  },
  {
   "metadata": {
    "ExecuteTime": {
     "end_time": "2024-11-11T23:10:34.249245Z",
     "start_time": "2024-11-11T23:10:33.455763Z"
    }
   },
   "cell_type": "code",
   "source": "voting_frame = pd.read_csv(voting_sheet, sep='\\t')",
   "id": "a6ab54b9fb72314f",
   "outputs": [],
   "execution_count": 10
  },
  {
   "metadata": {
    "ExecuteTime": {
     "end_time": "2024-11-11T23:10:34.272266Z",
     "start_time": "2024-11-11T23:10:34.269148Z"
    }
   },
   "cell_type": "code",
   "source": [
    "force_back_out_max_vote_sum = -2\n",
    "force_back_out_min_iaa = 0.4"
   ],
   "id": "c17272bce53fa217",
   "outputs": [],
   "execution_count": 11
  },
  {
   "metadata": {
    "ExecuteTime": {
     "end_time": "2024-11-11T23:10:34.318908Z",
     "start_time": "2024-11-11T23:10:34.313226Z"
    }
   },
   "cell_type": "code",
   "source": [
    "force_back_out_frame = voting_frame[\n",
    "    (voting_frame['vote_sum'] <= force_back_out_max_vote_sum) & \n",
    "    (voting_frame['IAA_score'] >= force_back_out_min_iaa)\n",
    "]"
   ],
   "id": "740e959b3c70529a",
   "outputs": [],
   "execution_count": 12
  },
  {
   "metadata": {
    "ExecuteTime": {
     "end_time": "2024-11-11T23:10:34.364875Z",
     "start_time": "2024-11-11T23:10:34.361458Z"
    }
   },
   "cell_type": "code",
   "source": "force_back_out = force_back_out_frame['label'].tolist()",
   "id": "6288e0eea0d22cf8",
   "outputs": [],
   "execution_count": 13
  },
  {
   "metadata": {
    "ExecuteTime": {
     "end_time": "2024-11-11T23:10:34.411416Z",
     "start_time": "2024-11-11T23:10:34.408204Z"
    }
   },
   "cell_type": "code",
   "source": [
    "force_back_in_min_vote_sum = 2\n",
    "force_back_in_min_iaa = 0.4"
   ],
   "id": "79c1a2b719813de8",
   "outputs": [],
   "execution_count": 14
  },
  {
   "metadata": {
    "ExecuteTime": {
     "end_time": "2024-11-11T23:10:34.460433Z",
     "start_time": "2024-11-11T23:10:34.455267Z"
    }
   },
   "cell_type": "code",
   "source": [
    "force_back_in_frame = voting_frame[\n",
    "    (voting_frame['vote_sum'] >= force_back_in_min_vote_sum) & \n",
    "    (voting_frame['IAA_score'] >= force_back_in_min_iaa)\n",
    "]"
   ],
   "id": "355a088206c3fe97",
   "outputs": [],
   "execution_count": 15
  },
  {
   "metadata": {
    "ExecuteTime": {
     "end_time": "2024-11-11T23:10:34.506585Z",
     "start_time": "2024-11-11T23:10:34.502939Z"
    }
   },
   "cell_type": "code",
   "source": "force_back_in = force_back_in_frame['label'].tolist()",
   "id": "a8c039bae4762357",
   "outputs": [],
   "execution_count": 16
  },
  {
   "metadata": {
    "ExecuteTime": {
     "end_time": "2024-11-11T23:10:34.553566Z",
     "start_time": "2024-11-11T23:10:34.550478Z"
    }
   },
   "cell_type": "code",
   "source": "gold_inferences_sheet = '../gold/gold-soils-by-semsql-wide.tsv'",
   "id": "d1716fa608767a62",
   "outputs": [],
   "execution_count": 17
  },
  {
   "metadata": {
    "ExecuteTime": {
     "end_time": "2024-11-11T23:10:34.603002Z",
     "start_time": "2024-11-11T23:10:34.597496Z"
    }
   },
   "cell_type": "code",
   "source": "gold_inferences_frame = pd.read_csv(gold_inferences_sheet, sep='\\t')",
   "id": "b39a5ebf8a4dbfdf",
   "outputs": [],
   "execution_count": 18
  },
  {
   "metadata": {
    "ExecuteTime": {
     "end_time": "2024-11-11T23:10:34.647730Z",
     "start_time": "2024-11-11T23:10:34.643968Z"
    }
   },
   "cell_type": "code",
   "source": "gold_non_local_inferences = set(pd.concat([gold_inferences_frame['env_broad_label'], gold_inferences_frame['env_local_label']]))\n",
   "id": "274a4252b211ba52",
   "outputs": [],
   "execution_count": 19
  },
  {
   "metadata": {
    "ExecuteTime": {
     "end_time": "2024-11-11T23:10:34.693973Z",
     "start_time": "2024-11-11T23:10:34.690641Z"
    }
   },
   "cell_type": "code",
   "source": "gold_substring_exclusion_list = ['biome', 'environmental system']",
   "id": "ef537ed1cfa0ca3d",
   "outputs": [],
   "execution_count": 20
  },
  {
   "metadata": {
    "ExecuteTime": {
     "end_time": "2024-11-11T23:10:34.741366Z",
     "start_time": "2024-11-11T23:10:34.738067Z"
    }
   },
   "cell_type": "code",
   "source": "gold_add_back_in = {s for s in gold_non_local_inferences if not any(sub in s for sub in gold_substring_exclusion_list)}\n",
   "id": "359a6b561af82b24",
   "outputs": [],
   "execution_count": 21
  },
  {
   "metadata": {
    "ExecuteTime": {
     "end_time": "2024-11-11T23:10:34.788791Z",
     "start_time": "2024-11-11T23:10:34.785788Z"
    }
   },
   "cell_type": "code",
   "source": "force_back_in.extend(gold_add_back_in)",
   "id": "e0ea21a6ad71b695",
   "outputs": [],
   "execution_count": 22
  },
  {
   "metadata": {
    "ExecuteTime": {
     "end_time": "2024-11-11T23:10:34.836638Z",
     "start_time": "2024-11-11T23:10:34.833156Z"
    }
   },
   "cell_type": "code",
   "source": "output_file = 'post_google_sheets_soil_env_local_scale.tsv'",
   "id": "b3c51c0e196ca1a3",
   "outputs": [],
   "execution_count": 23
  },
  {
   "metadata": {
    "ExecuteTime": {
     "end_time": "2024-11-11T23:10:34.915261Z",
     "start_time": "2024-11-11T23:10:34.886042Z"
    }
   },
   "cell_type": "code",
   "source": "adapter = get_adapter(adapter_string)",
   "id": "bce61f9659a5ab5d",
   "outputs": [],
   "execution_count": 24
  },
  {
   "metadata": {
    "ExecuteTime": {
     "end_time": "2024-11-11T23:10:34.986047Z",
     "start_time": "2024-11-11T23:10:34.983552Z"
    }
   },
   "cell_type": "code",
   "source": "targets = set()",
   "id": "b7be03feb4771c6a",
   "outputs": [],
   "execution_count": 25
  },
  {
   "metadata": {
    "ExecuteTime": {
     "end_time": "2024-11-11T23:10:35.239256Z",
     "start_time": "2024-11-11T23:10:34.993783Z"
    }
   },
   "cell_type": "code",
   "source": [
    "# accumulate subclasses of the target classes (by label)\n",
    "# \n",
    "for current_label in target_labels:\n",
    "    for class_id in adapter.basic_search(current_label):\n",
    "        descendant = adapter.descendants(class_id, predicates=[IS_A])\n",
    "        for d in descendant:\n",
    "            targets.add(d)\n",
    "\n",
    "print(len(targets))"
   ],
   "id": "8a779756df2cfe31",
   "outputs": [
    {
     "name": "stdout",
     "output_type": "stream",
     "text": [
      "5132\n"
     ]
    }
   ],
   "execution_count": 26
  },
  {
   "metadata": {
    "ExecuteTime": {
     "end_time": "2024-11-11T23:10:36.826822Z",
     "start_time": "2024-11-11T23:10:35.276023Z"
    }
   },
   "cell_type": "code",
   "source": [
    "# write the targets\n",
    "#\n",
    "with open('post_google_sheets_soil_env_local_scale_initial.tsv', 'w') as f:\n",
    "    for t in targets:\n",
    "        f.write(t + '\\t' + adapter.label(t) + '\\n')"
   ],
   "id": "6d3fc2d5b351b0a7",
   "outputs": [],
   "execution_count": 27
  },
  {
   "metadata": {
    "ExecuteTime": {
     "end_time": "2024-11-11T23:10:40.127665Z",
     "start_time": "2024-11-11T23:10:36.863934Z"
    }
   },
   "cell_type": "code",
   "source": [
    "# deplete subclasses of the exclusion classes (by label)\n",
    "# \n",
    "\n",
    "depletion_log = []\n",
    "\n",
    "for current_label in exclude_by_label_over_is_a_and_parts:\n",
    "    for class_id in adapter.basic_search(current_label):\n",
    "        descendant = adapter.descendants(class_id,\n",
    "                                         predicates=[IS_A, PART_OF])  # todo be careful with part of assumptions!\n",
    "        for d in descendant:\n",
    "            if d in targets:\n",
    "                depletion_line = {\n",
    "                    'removed': adapter.label(d),\n",
    "                    'reason': current_label\n",
    "                }\n",
    "                # print(log_line)\n",
    "                depletion_log.append(depletion_line)\n",
    "                targets.remove(d)\n",
    "\n",
    "for current_label in exclusions_by_label_over_is_a:\n",
    "    for class_id in adapter.basic_search(current_label):\n",
    "        descendant = adapter.descendants(class_id, predicates=[IS_A])  # todo be careful with part of assumptions!\n",
    "        for d in descendant:\n",
    "            if d in targets:\n",
    "                depletion_line = {\n",
    "                    'removed': adapter.label(d),\n",
    "                    'reason': current_label\n",
    "                }\n",
    "                # print(log_line)\n",
    "                depletion_log.append(depletion_line)\n",
    "                targets.remove(d)\n",
    "\n",
    "# for current_label in keep_base_only:\n",
    "targets_dupe = targets.copy()\n",
    "for t in targets_dupe:\n",
    "    label = adapter.label(t)\n",
    "    label_words = label.split(' ')\n",
    "    for kbo in keep_base_only:\n",
    "        if kbo in label_words and len(label_words) > 1:\n",
    "            depletion_line = {\n",
    "                'removed': label,\n",
    "                'reason': f\"{t}'s label {label} contains but is not limited to {kbo}\"\n",
    "            }\n",
    "            depletion_log.append(depletion_line)\n",
    "            if t in targets:\n",
    "                targets.remove(t)\n",
    "\n",
    "print(len(targets))"
   ],
   "id": "577363bff718e735",
   "outputs": [
    {
     "name": "stdout",
     "output_type": "stream",
     "text": [
      "505\n"
     ]
    }
   ],
   "execution_count": 28
  },
  {
   "metadata": {
    "ExecuteTime": {
     "end_time": "2024-11-11T23:10:40.167672Z",
     "start_time": "2024-11-11T23:10:40.164872Z"
    }
   },
   "cell_type": "code",
   "source": [
    "# # write the lines in log to a TSV file 'sels_depletion.tsv'' with csv's dictwriter\n",
    "# #\n",
    "# with open('sels_depletion.tsv', 'w') as f:\n",
    "#     writer = csv.DictWriter(f, fieldnames=['removed', 'reason'])\n",
    "#     writer.writeheader()\n",
    "#     for line in depletion_log:\n",
    "#         writer.writerow(line)\n"
   ],
   "id": "e5c74b5b8e0454e0",
   "outputs": [],
   "execution_count": 29
  },
  {
   "metadata": {
    "ExecuteTime": {
     "end_time": "2024-11-11T23:10:40.210732Z",
     "start_time": "2024-11-11T23:10:40.206365Z"
    }
   },
   "cell_type": "code",
   "source": [
    "# remove curies from the targets if their prefix, when splitting on colon, isn't in the acceptable prefixes\n",
    "for t in list(targets):\n",
    "    if t.split(':')[0] not in acceptable_prefixes:\n",
    "        targets.remove(t)\n",
    "print(len(targets))"
   ],
   "id": "b82f7d04ccaf4a24",
   "outputs": [
    {
     "name": "stdout",
     "output_type": "stream",
     "text": [
      "229\n"
     ]
    }
   ],
   "execution_count": 30
  },
  {
   "metadata": {
    "ExecuteTime": {
     "end_time": "2024-11-11T23:10:41.710355Z",
     "start_time": "2024-11-11T23:10:40.257140Z"
    }
   },
   "cell_type": "code",
   "source": [
    "# remove curies from the targets if their label contains any of the exclusion fragments\n",
    "for t in list(targets):\n",
    "    for fragment in exclude_by_superstring_over_is_a:\n",
    "        if fragment in adapter.label(t):\n",
    "            if t in targets:\n",
    "                targets.remove(t)\n",
    "print(len(targets))"
   ],
   "id": "70e26734adc137a2",
   "outputs": [
    {
     "name": "stdout",
     "output_type": "stream",
     "text": [
      "169\n"
     ]
    }
   ],
   "execution_count": 31
  },
  {
   "metadata": {
    "ExecuteTime": {
     "end_time": "2024-11-11T23:10:42.028835Z",
     "start_time": "2024-11-11T23:10:41.746923Z"
    }
   },
   "cell_type": "code",
   "source": [
    "for fbi in force_back_in: \n",
    "    # add tracking of fbis that don't map to any terms, fbis that already are in targets...\n",
    "    fbi_count = 0\n",
    "    for class_id in adapter.basic_search(fbi):\n",
    "        fbi_count += 1\n",
    "        if class_id not in targets:\n",
    "            print(f\"Adding {fbi} to targets\")\n",
    "            targets.add(class_id)\n",
    "        else:\n",
    "            print(f'{fbi} already in targets')\n",
    "    if fbi_count == 0:\n",
    "        print(f\"Can't find {fbi} in adapter\")"
   ],
   "id": "335ac8f3d7f18cc0",
   "outputs": [
    {
     "name": "stdout",
     "output_type": "stream",
     "text": [
      "Adding river to targets\n",
      "Adding stream to targets\n",
      "Adding spring to targets\n",
      "Adding marsh to targets\n",
      "Adding fjord to targets\n",
      "Adding peatland to targets\n",
      "cave already in targets\n",
      "mine already in targets\n",
      "mountain already in targets\n",
      "hill already in targets\n",
      "beach already in targets\n",
      "caldera already in targets\n",
      "Adding glacier to targets\n",
      "dune already in targets\n",
      "isthmus already in targets\n",
      "Adding karst to targets\n",
      "plateau already in targets\n",
      "Adding fen to targets\n",
      "volcano already in targets\n",
      "Adding prairie to targets\n",
      "Adding steppe to targets\n",
      "drainage basin already in targets\n",
      "crater already in targets\n",
      "landfill already in targets\n",
      "park already in targets\n",
      "Adding rhizosphere to targets\n",
      "channel already in targets\n",
      "Adding active permafrost layer to targets\n",
      "Adding flood plain to targets\n",
      "river already in targets\n",
      "Adding farm to targets\n",
      "Adding meadow ecosystem to targets\n",
      "Adding forest ecosystem to targets\n",
      "desert already in targets\n",
      "Adding scrubland area to targets\n",
      "Adding soil biocrust to targets\n",
      "garden already in targets\n",
      "fen already in targets\n",
      "watershed already in targets\n",
      "Adding palsa to targets\n",
      "Adding thermokarst to targets\n",
      "Adding pasture to targets\n",
      "greenhouse already in targets\n",
      "Adding oil spill to targets\n",
      "Adding ranch to targets\n",
      "Adding agricultural ecosystem to targets\n",
      "mine already in targets\n",
      "Adding arable land to targets\n",
      "Adding mine drainage to targets\n",
      "Adding wetland ecosystem to targets\n",
      "stream already in targets\n"
     ]
    }
   ],
   "execution_count": 32
  },
  {
   "metadata": {
    "ExecuteTime": {
     "end_time": "2024-11-11T23:10:44.690585Z",
     "start_time": "2024-11-11T23:10:42.063866Z"
    }
   },
   "cell_type": "code",
   "source": [
    "for fbo in force_back_out:\n",
    "    for class_id in adapter.basic_search(fbo):\n",
    "        if class_id in targets:\n",
    "            print(f\"Removing {fbo} from targets\")\n",
    "            targets.remove(class_id)\n",
    "        else:\n",
    "            print(f'{fbo} not in targets')\n",
    "            \n",
    "# these won't show up in the previously closed sels_depletion.tsv"
   ],
   "id": "ddb4a38688f96605",
   "outputs": [
    {
     "name": "stdout",
     "output_type": "stream",
     "text": [
      "fertilizer not in targets\n",
      "geographic feature not in targets\n",
      "bedding-plane cave not in targets\n",
      "anthropogenic geographic feature not in targets\n",
      "administrative region not in targets\n",
      "first-order administrative region not in targets\n",
      "second-order administrative region not in targets\n",
      "third-order administrative region not in targets\n",
      "fourth-order administrative region not in targets\n",
      "national geopolitical entity not in targets\n",
      "hydrographic feature not in targets\n",
      "ocean not in targets\n",
      "sea not in targets\n",
      "saline lake not in targets\n",
      "watercourse not in targets\n",
      "irrigation canal not in targets\n",
      "lagoon not in targets\n",
      "volcanic crater lake not in targets\n",
      "saline marsh not in targets\n",
      "underground stream not in targets\n",
      "man-made tunnel not in targets\n",
      "aquaduct not in targets\n",
      "building not in targets\n",
      "Removing agricultural ecosystem from targets\n",
      "mountain range not in targets\n",
      "hill range not in targets\n",
      "sea beach not in targets\n",
      "volcanic feature not in targets\n",
      "desert area not in targets\n",
      "heath not in targets\n",
      "obsolete cultivated habitat not in targets\n",
      "planted forest not in targets\n",
      "mineral spring not in targets\n",
      "sulfur spring not in targets\n",
      "dry valley not in targets\n",
      "stream valley not in targets\n",
      "snow field not in targets\n",
      "coral reef not in targets\n",
      "banana plantation not in targets\n",
      "bar not in targets\n",
      "rocky desert not in targets\n",
      "elevated landform not in targets\n",
      "solid astronomical body part not in targets\n",
      "alkaline flat not in targets\n",
      "ice-covered lake not in targets\n",
      "meromictic lake not in targets\n",
      "oxbow lake not in targets\n",
      "oceanic zone not in targets\n",
      "archipelago not in targets\n",
      "continental shelf not in targets\n",
      "saline wetland not in targets\n",
      "tidal mudflat not in targets\n",
      "freshwater wetland ecosystem not in targets\n",
      "abyssal plain not in targets\n",
      "volcanic crater not in targets\n",
      "seamount not in targets\n",
      "continental slope not in targets\n",
      "dry stream not in targets\n",
      "rice field not in targets\n",
      "sea coast not in targets\n",
      "depressed landform not in targets\n",
      "meteor impact crater not in targets\n",
      "tidal pool not in targets\n",
      "high tide zone not in targets\n",
      "low tide zone not in targets\n",
      "joint-plane cave not in targets\n",
      "volcanic cave not in targets\n",
      "live cave not in targets\n",
      "outflow cave not in targets\n",
      "sea cave not in targets\n",
      "speleothem not in targets\n",
      "stalagmite not in targets\n",
      "stalactite not in targets\n",
      "subjacent karst not in targets\n",
      "syngenetic karst not in targets\n",
      "polygonal karst not in targets\n",
      "obsolete orange juice not in targets\n",
      "piece of rock not in targets\n",
      "particle of sand not in targets\n",
      "piece of gravel not in targets\n",
      "ice cap dome not in targets\n",
      "particle of silt not in targets\n",
      "grain of desert sand not in targets\n",
      "grain of beach sand not in targets\n",
      "grain of acid dune sand not in targets\n",
      "grain of sea sand not in targets\n",
      "grain of rocky sand not in targets\n",
      "terrarium not in targets\n",
      "somma volcano not in targets\n",
      "volcanic arc not in targets\n",
      "continental arc not in targets\n",
      "island arc not in targets\n",
      "volcanic field not in targets\n",
      "monogenetic volcanic field not in targets\n",
      "pyroclastic cone not in targets\n",
      "Removing lock from targets\n",
      "area of national forest not in targets\n",
      "site of special scientific interest not in targets\n",
      "marine park area not in targets\n",
      "area designated as a national nature reserve not in targets\n",
      "IUCN national park not in targets\n",
      "ephemeral island not in targets\n",
      "brine pool not in targets\n",
      "complex volcano not in targets\n",
      "pyroclastic shield volcano not in targets\n",
      "obsolete geothermal field not in targets\n",
      "biosphere reserve not in targets\n",
      "canal head reservoir not in targets\n",
      "inundation disposition not in targets\n",
      "ice shelf not in targets\n",
      "Removing massif from targets\n",
      "river mouth not in targets\n",
      "container of an intermittent lake not in targets\n",
      "obsolete intermittent watercourse not in targets\n",
      "intermittent wetland not in targets\n",
      "mountain spur not in targets\n",
      "land bridge not in targets\n",
      "ice tongue not in targets\n",
      "strait not in targets\n",
      "channel of a watercourse not in targets\n",
      "marine channel not in targets\n",
      "lake channel not in targets\n",
      "volcanic cone not in targets\n",
      "ash cone not in targets\n",
      "cinder cone not in targets\n",
      "spatter cone not in targets\n",
      "mud volcano not in targets\n",
      "shield volcano not in targets\n",
      "Removing stratovolcano from targets\n",
      "obsolete submarine volcano not in targets\n",
      "mid-ocean ridge not in targets\n",
      "subglacial volcano not in targets\n",
      "volcanic fissure not in targets\n",
      "whirlpool not in targets\n",
      "Removing ford from targets\n",
      "tidal watercourse not in targets\n",
      "raised beach not in targets\n",
      "Removing wave-cut platform from targets\n",
      "limestone pavement not in targets\n",
      "river island not in targets\n",
      "lake island not in targets\n",
      "ocean floor not in targets\n",
      "Removing arete from targets\n",
      "dirt cone not in targets\n",
      "kame terrace not in targets\n",
      "Removing outwash fan from targets\n",
      "proglacial lake not in targets\n",
      "tunnel valley not in targets\n",
      "Nye channel not in targets\n",
      "Removing dell from targets\n",
      "rock shelter not in targets\n",
      "Removing terracette from targets\n",
      "maelstrom not in targets\n",
      "flood control reservoir not in targets\n",
      "hydroelectric reservoir not in targets\n",
      "drinking water reservoir not in targets\n",
      "irrigation reservoir not in targets\n",
      "amenity lake not in targets\n",
      "ribbon lake not in targets\n",
      "tidewater glacier not in targets\n",
      "plateau glacier not in targets\n",
      "valley glacier not in targets\n",
      "outlet glacier not in targets\n",
      "Removing pseudocrater from targets\n",
      "polygenetic volcanic field not in targets\n",
      "artificial harbor not in targets\n",
      "natural harbor not in targets\n",
      "obsolete marine hydrographic feature not in targets\n",
      "hydroelectric dam not in targets\n",
      "research facility not in targets\n",
      "irrigation dam not in targets\n",
      "flood control dam not in targets\n",
      "backwater not in targets\n",
      "gravel pit not in targets\n",
      "Removing cut from targets\n",
      "lake inlet not in targets\n",
      "Removing mount from targets\n",
      "range of mounts not in targets\n",
      "mouth not in targets\n",
      "mouth not in targets\n",
      "Removing peak from targets\n",
      "Removing pinnacle from targets\n",
      "sea floor not in targets\n",
      "plunge pool not in targets\n",
      "sea shore not in targets\n",
      "paternoster lake not in targets\n",
      "consequent stream not in targets\n",
      "resequent stream not in targets\n",
      "obsequent stream not in targets\n",
      "insequent stream not in targets\n",
      "tributary not in targets\n",
      "volcanic dike not in targets\n",
      "Removing trough from targets\n",
      "beaver dam not in targets\n",
      "submerged bed not in targets\n",
      "container of an intermittent saline lake not in targets\n",
      "container of an intermittent oxbow lake not in targets\n",
      "container of an intermittent pond not in targets\n",
      "underground irrigation canal not in targets\n",
      "intermittently filled reservoir not in targets\n",
      "blanket bog not in targets\n",
      "agricultural terrace not in targets\n",
      "Removing landslide from targets\n",
      "Removing rockfall from targets\n",
      "rockfall not in targets\n",
      "container of an intermittent water body not in targets\n",
      "weapons test site not in targets\n",
      "sports facility not in targets\n",
      "obsolete food product not in targets\n",
      "obsolete physical object of mesoscopic geological size not in targets\n",
      "obsolete terrestrial habitat not in targets\n",
      "obsolete extreme habitat not in targets\n",
      "biofilm not in targets\n",
      "brackish estuary not in targets\n",
      "cobble not in targets\n",
      "gold mine not in targets\n",
      "Removing sandy beach from targets\n",
      "anthropogenic contamination feature not in targets\n",
      "shop not in targets\n",
      "food shop not in targets\n",
      "Removing borehole from targets\n",
      "obsolete environmental feature not in targets\n",
      "cow shed not in targets\n",
      "research station not in targets\n",
      "warehouse not in targets\n",
      "warehouse not in targets\n",
      "karst field not in targets\n",
      "allotment garden not in targets\n",
      "obsolete volcanic soil not in targets\n",
      "nest of ant not in targets\n",
      "nest of bird not in targets\n",
      "obsolete Tropical and subtropical coniferous forest biome not in targets\n",
      "surface layer not in targets\n",
      "zoological garden not in targets\n",
      "karst cave not in targets\n",
      "obsolete caprine dairy product not in targets\n",
      "dry stream valley not in targets\n",
      "dry river valley not in targets\n",
      "oil well not in targets\n",
      "organic object formed through microbial activity not in targets\n",
      "microbial mat not in targets\n",
      "marine cold-water sphere not in targets\n",
      "marine warm-water sphere not in targets\n",
      "marine sub-littoral zone not in targets\n",
      "marine pockmark not in targets\n",
      "desert scrubland not in targets\n",
      "seep not in targets\n",
      "Removing structural basin from targets\n",
      "layer not in targets\n",
      "holomictic lake not in targets\n",
      "polymictic lake not in targets\n",
      "monomictic lake not in targets\n",
      "freshwater river not in targets\n",
      "continental margin not in targets\n",
      "Removing outcrop from targets\n",
      "cultivated environment not in targets\n",
      "acidic environment not in targets\n",
      "rocky slope not in targets\n",
      "Removing hillside from targets\n",
      "litter layer not in targets\n",
      "Removing field from targets\n",
      "vegetation layer not in targets\n",
      "limestone cave not in targets\n",
      "solutional cave not in targets\n",
      "primary cave not in targets\n",
      "ice cave not in targets\n",
      "anchialine pool not in targets\n",
      "tropical upper montane forest not in targets\n",
      "tropical lower montane forest not in targets\n",
      "marine eulittoral zone not in targets\n",
      "house not in targets\n",
      "lava field not in targets\n",
      "lava flow not in targets\n",
      "salt mass not in targets\n",
      "constructed barrier not in targets\n",
      "rock intrusion not in targets\n",
      "sedimentary intrusion not in targets\n",
      "covered latrine not in targets\n",
      "covered pit latrine not in targets\n",
      "factory not in targets\n",
      "eutrophic lake not in targets\n",
      "lentic water body not in targets\n",
      "lithosphere not in targets\n",
      "igneous intrusion not in targets\n",
      "tuff cone not in targets\n",
      "Removing vein from targets\n",
      "flood not in targets\n",
      "area of perennial ice or snow not in targets\n",
      "primary forest not in targets\n",
      "mesotrophic lake not in targets\n",
      "astronomical body part not in targets\n",
      "flower strip not in targets\n",
      "area of scrub not in targets\n",
      "shrimp pond not in targets\n",
      "Removing soil biocrust from targets\n",
      "ice ablation zone not in targets\n",
      "plumbing drain not in targets\n",
      "day care building not in targets\n",
      "restaurant not in targets\n",
      "vegetated hill not in targets\n",
      "delicatessen not in targets\n",
      "kiosk not in targets\n",
      "grocery store not in targets\n",
      "Removing fairground from targets\n",
      "Removing market from targets\n",
      "dry river not in targets\n",
      "environmental system determined by a quality not in targets\n",
      "rhizosphere environment not in targets\n",
      "plant-associated environment not in targets\n",
      "humic lake not in targets\n",
      "saline environment not in targets\n",
      "soil environment not in targets\n",
      "crater lake not in targets\n",
      "impact crater lake not in targets\n",
      "tectonic lake not in targets\n",
      "tectonic plate not in targets\n",
      "tectonic plate boundary not in targets\n",
      "divergent plate boundary not in targets\n",
      "convergent plate boundary not in targets\n",
      "transform plate boundary not in targets\n",
      "landslide lake not in targets\n",
      "ecosystem not in targets\n",
      "IUCN wilderness area not in targets\n",
      "terrestrial environmental zone not in targets\n",
      "marine environmental zone not in targets\n",
      "grassland ecosystem not in targets\n",
      "Removing wetland ecosystem from targets\n",
      "forest canopy not in targets\n",
      "woodland canopy not in targets\n",
      "cropland ecosystem not in targets\n",
      "environmental role not in targets\n",
      "diurnal marine tidal flow zone not in targets\n",
      "semi-diurnal marine tidal flow zone not in targets\n",
      "marine tidal flow zone not in targets\n",
      "ice accumulation zone not in targets\n",
      "glacial ice accumulation zone not in targets\n",
      "crater zone not in targets\n",
      "volcanic crater zone not in targets\n",
      "tundra ecosystem not in targets\n",
      "oceanic mussel reef not in targets\n",
      "mussel reef not in targets\n",
      "laboratory environment not in targets\n",
      "high-elevation mountain not in targets\n",
      "domestic building not in targets\n",
      "Removing flattened elevation from targets\n",
      "tributary glacier not in targets\n",
      "protected area not in targets\n",
      "forest floor not in targets\n",
      "active layer in a cryosphere not in targets\n",
      "plume not in targets\n",
      "thrust fault not in targets\n",
      "blind thrust fault not in targets\n",
      "part of a landmass not in targets\n",
      "land not in targets\n",
      "hatchery not in targets\n",
      "surface landform not in targets\n",
      "submerged landform not in targets\n",
      "landform not in targets\n",
      "neutral spring not in targets\n",
      "nuclear reactor not in targets\n",
      "nuclear power reactor not in targets\n",
      "uranium deposit not in targets\n",
      "geographic basin not in targets\n",
      "glacial ice ablation zone not in targets\n",
      "melt pond not in targets\n",
      "brine channel not in targets\n",
      "thaw hole not in targets\n",
      "warm season not in targets\n",
      "snow patch not in targets\n",
      "area of alpine tundra not in targets\n",
      "area of polar tundra not in targets\n",
      "transport hub not in targets\n",
      "Removing airport from targets\n",
      "conference venue not in targets\n",
      "long-term care facility not in targets\n",
      "institutional building not in targets\n",
      "prison facility not in targets\n",
      "shopping center not in targets\n",
      "chicken house not in targets\n",
      "Removing booth from targets\n",
      "airplane not in targets\n",
      "pipeline network not in targets\n",
      "organic horizon not in targets\n",
      "earth-filled dam not in targets\n",
      "embankment dam not in targets\n",
      "Removing residential backyard from targets\n",
      "fermentation pit not in targets\n",
      "Removing yard from targets\n",
      "stream pool not in targets\n",
      "soil surface layer not in targets\n",
      "Removing plastisphere from targets\n",
      "water table not in targets\n",
      "algal bloom not in targets\n",
      "nest of termite not in targets\n",
      "root not in targets\n",
      "root not in targets\n",
      "integumental system not in targets\n",
      "Removing maar from targets\n",
      "Removing clinic from targets\n",
      "Removing playground from targets\n",
      "Removing burrow from targets\n",
      "Removing hangar from targets\n",
      "Removing unexploded-ordnance dump from targets\n",
      "Removing galaxy from targets\n",
      "Removing globular star cluster from targets\n",
      "Removing shipwreck from targets\n",
      "Removing causeway from targets\n",
      "Removing microfracture from targets\n",
      "Removing abandoned watercourse from targets\n",
      "Removing moatan from targets\n",
      "Removing crevice from targets\n",
      "Removing hillock from targets\n",
      "Removing weir from targets\n",
      "Removing nebula from targets\n",
      "Removing midden from targets\n",
      "Removing interfluve from targets\n",
      "Removing mound from targets\n",
      "Removing paved parking lot from targets\n",
      "Removing gas well from targets\n",
      "Removing floodway from targets\n",
      "Removing blowout from targets\n",
      "Removing firebreak from targets\n",
      "Removing fountain from targets\n",
      "Removing ice wedge from targets\n",
      "Removing continental divide from targets\n",
      "Removing solfatara from targets\n",
      "Removing bowling alley from targets\n",
      "Removing fence from targets\n",
      "Removing overflow structure from targets\n",
      "Removing fossil worm burrow from targets\n",
      "Removing patio from targets\n",
      "Removing sidewalk from targets\n",
      "Removing horst from targets\n",
      "Removing tube well from targets\n",
      "Removing frost-formed hummock from targets\n",
      "Removing beach ridge from targets\n",
      "Removing strand crack from targets\n",
      "Removing railway from targets\n",
      "Removing apron from targets\n",
      "Removing fomite from targets\n",
      "Removing drawbridge from targets\n",
      "Removing place of worship from targets\n",
      "Removing human nursery from targets\n",
      "Removing driveway from targets\n",
      "Removing shear fracture from targets\n",
      "Removing graben from targets\n",
      "Removing petting zoo from targets\n",
      "Removing boundary wall from targets\n",
      "Removing processing line from targets\n",
      "Removing hedge from targets\n",
      "Removing forest ecosystem from targets\n",
      "Removing manufactured plastisphere from targets\n",
      "Removing footbridge from targets\n",
      "Removing biota from targets\n",
      "Removing technosphere from targets\n",
      "Removing arable land from targets\n",
      "Removing pier from targets\n",
      "Removing mofetta from targets\n",
      "Removing track from targets\n",
      "Removing calanque from targets\n",
      "Removing bike path from targets\n",
      "Removing overpass from targets\n",
      "Removing military training area from targets\n",
      "Removing bridge from targets\n"
     ]
    }
   ],
   "execution_count": 33
  },
  {
   "metadata": {
    "ExecuteTime": {
     "end_time": "2024-11-11T23:10:44.760938Z",
     "start_time": "2024-11-11T23:10:44.726076Z"
    }
   },
   "cell_type": "code",
   "source": [
    "labelled_targets = []\n",
    "for t in targets:\n",
    "    labelled_targets.append(\n",
    "        {\n",
    "            'id': t,\n",
    "            'label': adapter.label(t)\n",
    "        }\n",
    "    )"
   ],
   "id": "a3da13dce5b8a811",
   "outputs": [],
   "execution_count": 34
  },
  {
   "metadata": {
    "ExecuteTime": {
     "end_time": "2024-11-11T23:10:44.801641Z",
     "start_time": "2024-11-11T23:10:44.796667Z"
    }
   },
   "cell_type": "code",
   "source": [
    "export_frame = pd.DataFrame(labelled_targets)\n",
    "\n",
    "export_frame.to_csv(output_file, sep='\\t', index=False)"
   ],
   "id": "760d408328c5a6a0",
   "outputs": [],
   "execution_count": 35
  },
  {
   "metadata": {
    "ExecuteTime": {
     "end_time": "2024-11-11T23:10:44.842056Z",
     "start_time": "2024-11-11T23:10:44.839622Z"
    }
   },
   "cell_type": "code",
   "source": "",
   "id": "255e26a23403c3e8",
   "outputs": [],
   "execution_count": null
  }
 ],
 "metadata": {
  "kernelspec": {
   "display_name": "Python 3",
   "language": "python",
   "name": "python3"
  },
  "language_info": {
   "codemirror_mode": {
    "name": "ipython",
    "version": 2
   },
   "file_extension": ".py",
   "mimetype": "text/x-python",
   "name": "python",
   "nbconvert_exporter": "python",
   "pygments_lexer": "ipython2",
   "version": "2.7.6"
  }
 },
 "nbformat": 4,
 "nbformat_minor": 5
}
