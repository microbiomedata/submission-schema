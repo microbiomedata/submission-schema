{
 "cells": [
  {
   "metadata": {
    "ExecuteTime": {
     "end_time": "2025-01-07T14:48:10.927015Z",
     "start_time": "2025-01-07T14:48:07.235656Z"
    }
   },
   "cell_type": "code",
   "source": [
    "import gspread\n",
    "from google.oauth2.service_account import Credentials\n",
    "\n",
    "import pandas as pd\n",
    "import matplotlib.pyplot as plt\n",
    "\n",
    "import numpy as np\n",
    "\n",
    "from linkml_runtime.utils.schemaview import SchemaView\n",
    "import re\n",
    "\n",
    "import pprint\n",
    "\n",
    "from oaklib import get_adapter\n",
    "from oaklib.datamodels.vocabulary import IS_A"
   ],
   "id": "7c0c89547933adc0",
   "outputs": [],
   "execution_count": 1
  },
  {
   "metadata": {},
   "cell_type": "markdown",
   "source": [
    "The environmental triad squad did thorough voting on the classes to include in the soil env_local_scale value set\n",
    "\n",
    "https://docs.google.com/spreadsheets/d/1epul_bXtEOlmIZYNRhngulI3-HaHhe_tU_BPUia5isQ/edit?gid=154155133#gid=154155133\n",
    "\n",
    "After that, MAM wrote a notebook that tried to generalize the insights from those votes.\n",
    "\n",
    "https://github.com/microbiomedata/submission-schema/blob/v11.2.0/notebooks/environmental_context_value_sets/soil/env_local_scale/post_google_sheets_soil_env_local_scale.ipynb\n",
    "\n",
    "The output of that notebook deviated significantly from the votes, so this new notebook has been written to generate output that is more aligned with the votes.\n",
    "\n",
    "Each person's vote for a class can be -1 (don't include it in the value set), 0 (or blank, meaning I don't have a strong opinion) or +1 (include it in the value set). The votes from all of the squad members are aggregated with two metrics: the sum of the votes and the inter annotator score. The IAA values gave usuful perspectives to the voting process, but CJM has suggested that the value set shouldn't be constrained by them any longer. So we have concluded that any class whose vote sum is 1 or greater should be included in the value set.\n",
    "\n",
    "These approved classes include some subclasses of EnvO's 'environmental zone' class, ENVO:01000408.\n",
    "\n",
    "See https://www.ebi.ac.uk/ols4/ontologies/envo/classes/http%253A%252F%252Fpurl.obolibrary.org%252Fobo%252FENVO_01000408?lang=en\n",
    "\n",
    "Most (but not all) of the environmental zones have labels that begin with 'area of...'. In general, we are including them because they share an inSubset value of 'nlcd2011', indicating that they represent land cover types specified by the USGS. \n",
    "\n",
    "See https://www.usgs.gov/centers/eros/science/national-land-cover-database\n",
    "\n",
    "MAM and CJM have raised issues with EnvO regarding two aspects of that modelling, but we still include these NLCD-inspired environmental zones while that is sorted out.\n",
    "- https://github.com/EnvironmentOntology/envo/issues/1583\n",
    "- https://github.com/EnvironmentOntology/envo/issues/1527"
   ],
   "id": "92eca3c392b22e57"
  },
  {
   "metadata": {
    "ExecuteTime": {
     "end_time": "2025-01-07T14:48:10.940088Z",
     "start_time": "2025-01-07T14:48:10.933434Z"
    }
   },
   "cell_type": "code",
   "source": [
    "# Set your thresholds\n",
    "vote_sum_threshold = 1  # Example threshold\n",
    "IAA_score_threshold = 0.0  # Example threshold"
   ],
   "id": "c24195692682a4a0",
   "outputs": [],
   "execution_count": 2
  },
  {
   "metadata": {
    "ExecuteTime": {
     "end_time": "2025-01-07T14:48:11.015478Z",
     "start_time": "2025-01-07T14:48:11.012561Z"
    }
   },
   "cell_type": "code",
   "source": "output_file = \"post_google_sheets_soil_env_local_scale.tsv\"",
   "id": "6250de3178a3ec3b",
   "outputs": [],
   "execution_count": 3
  },
  {
   "metadata": {
    "ExecuteTime": {
     "end_time": "2025-01-07T14:48:11.044636Z",
     "start_time": "2025-01-07T14:48:11.041224Z"
    }
   },
   "cell_type": "code",
   "source": "schema_with_mam_biased_sels_url = \"https://raw.githubusercontent.com/microbiomedata/submission-schema/refs/tags/v11.2.0/src/nmdc_submission_schema/schema/nmdc_submission_schema.yaml\"",
   "id": "221edd748039ae5b",
   "outputs": [],
   "execution_count": 4
  },
  {
   "metadata": {
    "ExecuteTime": {
     "end_time": "2025-01-07T14:48:11.125055Z",
     "start_time": "2025-01-07T14:48:11.122416Z"
    }
   },
   "cell_type": "code",
   "source": "sels_enum_name = \"EnvLocalScaleSoilEnum\"",
   "id": "879dacea4e6874bc",
   "outputs": [],
   "execution_count": 5
  },
  {
   "metadata": {},
   "cell_type": "markdown",
   "source": "Get voting sheet directly from Google Sheets. Requires a credentials file, which must be requested from MAM.",
   "id": "805032586378fa54"
  },
  {
   "metadata": {
    "ExecuteTime": {
     "end_time": "2025-01-07T14:48:13.157168Z",
     "start_time": "2025-01-07T14:48:13.154501Z"
    }
   },
   "cell_type": "code",
   "source": [
    "# 1. Replace with the path to your downloaded JSON key file\n",
    "SERVICE_ACCOUNT_FILE = '../../env-context-voting-sheets-29d0d970ca1d.json'\n"
   ],
   "id": "c03d705397a4ceb7",
   "outputs": [],
   "execution_count": 6
  },
  {
   "metadata": {
    "ExecuteTime": {
     "end_time": "2025-01-07T14:48:14.004392Z",
     "start_time": "2025-01-07T14:48:14.000838Z"
    }
   },
   "cell_type": "code",
   "source": [
    "# Consolidated_soil-env-local-scale-evidence-table\n",
    "SPREADSHEET_ID = \"1epul_bXtEOlmIZYNRhngulI3-HaHhe_tU_BPUia5isQ\"\n"
   ],
   "id": "f3e8d59114dba657",
   "outputs": [],
   "execution_count": 7
  },
  {
   "metadata": {
    "ExecuteTime": {
     "end_time": "2025-01-07T14:48:14.433695Z",
     "start_time": "2025-01-07T14:48:14.430742Z"
    }
   },
   "cell_type": "code",
   "source": "sheet_name = 'soil-env-local-scale-evidence-t'  ",
   "id": "3d94133909257bc",
   "outputs": [],
   "execution_count": 8
  },
  {
   "metadata": {
    "ExecuteTime": {
     "end_time": "2025-01-07T14:48:14.871295Z",
     "start_time": "2025-01-07T14:48:14.868307Z"
    }
   },
   "cell_type": "code",
   "source": [
    "# Set up credentials\n",
    "SCOPES = [\n",
    "    'https://www.googleapis.com/auth/spreadsheets',\n",
    "    'https://www.googleapis.com/auth/drive'\n",
    "]\n"
   ],
   "id": "186af1435dabf25b",
   "outputs": [],
   "execution_count": 9
  },
  {
   "metadata": {
    "ExecuteTime": {
     "end_time": "2025-01-07T14:48:15.348280Z",
     "start_time": "2025-01-07T14:48:15.344698Z"
    }
   },
   "cell_type": "code",
   "source": "envo_adapter_string  = \"sqlite:obo:envo\"",
   "id": "4711e70e218bd242",
   "outputs": [],
   "execution_count": 10
  },
  {
   "metadata": {
    "ExecuteTime": {
     "end_time": "2025-01-07T14:48:15.869157Z",
     "start_time": "2025-01-07T14:48:15.865417Z"
    }
   },
   "cell_type": "code",
   "source": "ABP = 'ENVO:01000813'",
   "id": "dc6f2937e0e2735d",
   "outputs": [],
   "execution_count": 11
  },
  {
   "metadata": {
    "ExecuteTime": {
     "end_time": "2025-01-07T14:48:16.340021Z",
     "start_time": "2025-01-07T14:48:16.336878Z"
    }
   },
   "cell_type": "code",
   "source": "## code starts here",
   "id": "a03e341021b73929",
   "outputs": [],
   "execution_count": 12
  },
  {
   "metadata": {
    "ExecuteTime": {
     "end_time": "2025-01-07T14:48:16.877634Z",
     "start_time": "2025-01-07T14:48:16.870827Z"
    }
   },
   "cell_type": "code",
   "source": [
    "def compare_curie_dicts(input_dict):\n",
    "  \"\"\"\n",
    "  Compares two dictionaries of curies and labels and reports differences \n",
    "  and common elements.\n",
    "\n",
    "  Args:\n",
    "    input_dict: A dictionary with two keys representing the group labels and \n",
    "                 the values being dictionaries of curie: label pairs.\n",
    "\n",
    "  Returns:\n",
    "    A dictionary with three keys:\n",
    "      - 'first_only': A dictionary of curie: label pairs present only in \n",
    "                       the first group.\n",
    "      - 'second_only': A dictionary of curie: label pairs present only in \n",
    "                        the second group.\n",
    "      - 'shared': A dictionary of curie: label pairs present in both groups.\n",
    "  \"\"\"\n",
    "\n",
    "  group1_label, group1_data = list(input_dict.items())[0]\n",
    "  group2_label, group2_data = list(input_dict.items())[1]\n",
    "\n",
    "  first_only_curies = set(group1_data.keys()) - set(group2_data.keys())\n",
    "  second_only_curies = set(group2_data.keys()) - set(group1_data.keys())\n",
    "  shared_curies = set(group1_data.keys()) & set(group2_data.keys())\n",
    "\n",
    "  first_only = {curie: group1_data[curie] for curie in first_only_curies}\n",
    "  second_only = {curie: group2_data[curie] for curie in second_only_curies}\n",
    "  shared = {curie: group1_data[curie] for curie in shared_curies}\n",
    "\n",
    "  return {\n",
    "      f'{group1_label} only': first_only,\n",
    "      f'{group2_label} only': second_only,\n",
    "      'shared': shared\n",
    "  }"
   ],
   "id": "fdc53e122d28c515",
   "outputs": [],
   "execution_count": 13
  },
  {
   "metadata": {
    "ExecuteTime": {
     "end_time": "2025-01-07T14:48:17.516233Z",
     "start_time": "2025-01-07T14:48:17.508840Z"
    }
   },
   "cell_type": "code",
   "source": [
    "def tabulate_core_ancestor_counts(\n",
    "    curies,\n",
    "    adapter,\n",
    "    predicates=[IS_A],\n",
    "    omit_max_count=True,\n",
    "    min_count_threshold=2,\n",
    "):\n",
    "    \"\"\"\n",
    "    Tabulates the number of times each ancestor curie appears for a list of \n",
    "    input curies, with options to exclude maximum counts and a minimum count \n",
    "    threshold.\n",
    "\n",
    "    Args:\n",
    "      curies: A list of curies to get ancestors for.\n",
    "      adapter: The adapter object to use for fetching ancestors (e.g., an \n",
    "               instance of OntoBiotopeAdapter).\n",
    "      predicates: A list of predicates to use for traversing the ancestor \n",
    "                  hierarchy (default: [IS_A]).\n",
    "      omit_max_count: Whether to omit rows with the maximum count \n",
    "                      (default: True).\n",
    "      min_count_threshold: The minimum count threshold for excluding rows \n",
    "                           (default: 2).\n",
    "\n",
    "    Returns:\n",
    "      A pandas DataFrame with three columns:\n",
    "        - 'ancestor_curie': The ancestor curie.\n",
    "        - 'ancestor_curie_label': The label of the ancestor curie.\n",
    "        - 'ancestor_curie_count': The number of times this ancestor appears.\n",
    "    \"\"\"\n",
    "\n",
    "    ancestor_counts = {}\n",
    "    for curie in curies:\n",
    "        ancestors = adapter.ancestors(curie, predicates=predicates)\n",
    "        for ancestor_curie in ancestors:\n",
    "            if ancestor_curie not in ancestor_counts:\n",
    "                ancestor_counts[ancestor_curie] = {\n",
    "                    'ancestor_curie_label': adapter.label(ancestor_curie),\n",
    "                    'ancestor_curie_count': 0\n",
    "                }\n",
    "            ancestor_counts[ancestor_curie]['ancestor_curie_count'] += 1\n",
    "\n",
    "    df = pd.DataFrame(ancestor_counts).transpose().reset_index()\n",
    "\n",
    "    # Apply filtering\n",
    "    if omit_max_count:\n",
    "        max_count = df['ancestor_curie_count'].max()\n",
    "        df = df[df['ancestor_curie_count'] != max_count]\n",
    "\n",
    "    df = df[df['ancestor_curie_count'] >= min_count_threshold]\n",
    "    \n",
    "    df = df.sort_values(by='ancestor_curie_count', ascending=False)\n",
    "\n",
    "    return df"
   ],
   "id": "d7febcc529713253",
   "outputs": [],
   "execution_count": 14
  },
  {
   "metadata": {
    "ExecuteTime": {
     "end_time": "2025-01-07T14:48:18.055109Z",
     "start_time": "2025-01-07T14:48:18.049227Z"
    }
   },
   "cell_type": "code",
   "source": [
    "\n",
    "def check_descendants(curies, root_curie, adapter):\n",
    "    \"\"\"\n",
    "    Determines whether a list of curies are descendants of a given root curie.\n",
    "\n",
    "    Args:\n",
    "      curies: A list of curies to check.\n",
    "      root_curie: The curie of the root class.\n",
    "      adapter: The adapter object to use for fetching ancestors and labels.\n",
    "\n",
    "    Returns:\n",
    "      A pandas DataFrame with three columns:\n",
    "        - 'curie': The input curie.\n",
    "        - 'label': The label of the input curie.\n",
    "        - 'is_{root_label_in_snake_case}': Boolean indicating whether the \n",
    "                                          curie is a descendant of the root.\n",
    "    \"\"\"\n",
    "\n",
    "    root_label_snake_case = adapter.label(root_curie).lower().replace(\" \", \"_\")\n",
    "    is_descendant_column = f'is_{root_label_snake_case}'\n",
    "\n",
    "    results = []\n",
    "    for curie in curies:\n",
    "        ancestors = adapter.ancestors(curie)\n",
    "        is_descendant = root_curie in ancestors\n",
    "        results.append({\n",
    "            'curie': curie,\n",
    "            'label': adapter.label(curie),\n",
    "            is_descendant_column: is_descendant\n",
    "        })\n",
    "\n",
    "    return pd.DataFrame(results)"
   ],
   "id": "a357338edca3ddcc",
   "outputs": [],
   "execution_count": 15
  },
  {
   "metadata": {
    "ExecuteTime": {
     "end_time": "2025-01-07T14:48:18.755437Z",
     "start_time": "2025-01-07T14:48:18.715307Z"
    }
   },
   "cell_type": "code",
   "source": "envo_adapter = get_adapter(envo_adapter_string)",
   "id": "4f8b6fa589871b7e",
   "outputs": [],
   "execution_count": 16
  },
  {
   "metadata": {
    "ExecuteTime": {
     "end_time": "2025-01-07T14:48:19.419276Z",
     "start_time": "2025-01-07T14:48:19.412906Z"
    }
   },
   "cell_type": "code",
   "source": "creds = Credentials.from_service_account_file(SERVICE_ACCOUNT_FILE, scopes=SCOPES)",
   "id": "31b015ceea314eff",
   "outputs": [],
   "execution_count": 17
  },
  {
   "metadata": {
    "ExecuteTime": {
     "end_time": "2025-01-07T14:48:20.058592Z",
     "start_time": "2025-01-07T14:48:20.055415Z"
    }
   },
   "cell_type": "code",
   "source": "gc = gspread.authorize(creds)",
   "id": "b5126af16d10a20a",
   "outputs": [],
   "execution_count": 18
  },
  {
   "metadata": {
    "ExecuteTime": {
     "end_time": "2025-01-07T14:48:21.465476Z",
     "start_time": "2025-01-07T14:48:20.765041Z"
    }
   },
   "cell_type": "code",
   "source": [
    "# Open the spreadsheet\n",
    "spreadsheet = gc.open_by_key(SPREADSHEET_ID) "
   ],
   "id": "e031c1fd1b45c685",
   "outputs": [],
   "execution_count": 19
  },
  {
   "metadata": {
    "ExecuteTime": {
     "end_time": "2025-01-07T14:48:21.773126Z",
     "start_time": "2025-01-07T14:48:21.495970Z"
    }
   },
   "cell_type": "code",
   "source": "sheet = spreadsheet.worksheet(sheet_name)",
   "id": "1482919438c3c56e",
   "outputs": [],
   "execution_count": 20
  },
  {
   "metadata": {
    "ExecuteTime": {
     "end_time": "2025-01-07T14:48:22.514527Z",
     "start_time": "2025-01-07T14:48:22.087266Z"
    }
   },
   "cell_type": "code",
   "source": [
    "# Get data as a list of lists\n",
    "data = sheet.get_all_values()"
   ],
   "id": "f0ca2ba213b9a728",
   "outputs": [],
   "execution_count": 21
  },
  {
   "metadata": {
    "ExecuteTime": {
     "end_time": "2025-01-07T14:48:22.808228Z",
     "start_time": "2025-01-07T14:48:22.800895Z"
    }
   },
   "cell_type": "code",
   "source": [
    "# Convert to DataFrame\n",
    "df = pd.DataFrame(data[1:], columns=data[0]) "
   ],
   "id": "dae1c7cb972e5288",
   "outputs": [],
   "execution_count": 22
  },
  {
   "metadata": {
    "ExecuteTime": {
     "end_time": "2025-01-07T14:48:23.811441Z",
     "start_time": "2025-01-07T14:48:23.787977Z"
    }
   },
   "cell_type": "code",
   "source": "df",
   "id": "c992aecaa0059f8b",
   "outputs": [
    {
     "data": {
      "text/plain": [
       "          unique_id                   label     all_evidence is_process  \\\n",
       "0       CHEBI:24632             hydrocarbon   0.003288752467      FALSE   \n",
       "1       CHEBI:24866                    salt  0.0001096250822      FALSE   \n",
       "2       CHEBI:25555           nitrogen atom  0.0006577504933      FALSE   \n",
       "3       CHEBI:26833             sulfur atom  0.0001096250822      FALSE   \n",
       "4       CHEBI:33287              fertilizer    0.03672440254      FALSE   \n",
       "...             ...                     ...              ...        ...   \n",
       "1224  ENVO:00000567                calanque                               \n",
       "1225  ENVO:03500004               bike path                               \n",
       "1226  ENVO:03501248                overpass                               \n",
       "1227  ENVO:00000561  military training area                               \n",
       "1228  ENVO:00000075                  bridge                               \n",
       "\n",
       "     is_quality is_chemical_entity is_biome is_aquatic_biome  \\\n",
       "0         FALSE               TRUE    FALSE            FALSE   \n",
       "1         FALSE               TRUE    FALSE            FALSE   \n",
       "2         FALSE               TRUE    FALSE            FALSE   \n",
       "3         FALSE               TRUE    FALSE            FALSE   \n",
       "4         FALSE              FALSE    FALSE            FALSE   \n",
       "...         ...                ...      ...              ...   \n",
       "1224                                                           \n",
       "1225                                                           \n",
       "1226                                                           \n",
       "1227                                                           \n",
       "1228                                                           \n",
       "\n",
       "     is_terrestrial_biome is_environmental_material  ... MLS_vote  \\\n",
       "0                   FALSE                     FALSE  ...        0   \n",
       "1                   FALSE                     FALSE  ...        0   \n",
       "2                   FALSE                     FALSE  ...        0   \n",
       "3                   FALSE                     FALSE  ...        0   \n",
       "4                   FALSE                     FALSE  ...       -1   \n",
       "...                   ...                       ...  ...      ...   \n",
       "1224                                                 ...            \n",
       "1225                                                 ...            \n",
       "1226                                                 ...            \n",
       "1227                                                 ...            \n",
       "1228                                                 ...            \n",
       "\n",
       "     MLS_comments NMW_vote NMW_comment SM_vote SM_comment  \\\n",
       "0               0                                           \n",
       "1               0                                           \n",
       "2               0                                           \n",
       "3               0                                           \n",
       "4                                                           \n",
       "...           ...      ...         ...     ...        ...   \n",
       "1224                                                        \n",
       "1225                                                        \n",
       "1226                                                        \n",
       "1227                                                        \n",
       "1228                                                        \n",
       "\n",
       "     Yes = 1 No = -1 Maybe = 0 IAA_score vote_sum was_subjected_to_voting  \n",
       "0                            0         1        0                          \n",
       "1                            0         1        0                          \n",
       "2                            0         1        0                          \n",
       "3                            0         1        0                          \n",
       "4                           -3       0.4       -3                          \n",
       "...                        ...       ...      ...                     ...  \n",
       "1224                                 0.4       -2                   FALSE  \n",
       "1225                                 0.4       -2                   FALSE  \n",
       "1226                                 0.4       -2                   FALSE  \n",
       "1227                                 0.4       -2                   FALSE  \n",
       "1228                                 0.4       -2                   FALSE  \n",
       "\n",
       "[1229 rows x 39 columns]"
      ],
      "text/html": [
       "<div>\n",
       "<style scoped>\n",
       "    .dataframe tbody tr th:only-of-type {\n",
       "        vertical-align: middle;\n",
       "    }\n",
       "\n",
       "    .dataframe tbody tr th {\n",
       "        vertical-align: top;\n",
       "    }\n",
       "\n",
       "    .dataframe thead th {\n",
       "        text-align: right;\n",
       "    }\n",
       "</style>\n",
       "<table border=\"1\" class=\"dataframe\">\n",
       "  <thead>\n",
       "    <tr style=\"text-align: right;\">\n",
       "      <th></th>\n",
       "      <th>unique_id</th>\n",
       "      <th>label</th>\n",
       "      <th>all_evidence</th>\n",
       "      <th>is_process</th>\n",
       "      <th>is_quality</th>\n",
       "      <th>is_chemical_entity</th>\n",
       "      <th>is_biome</th>\n",
       "      <th>is_aquatic_biome</th>\n",
       "      <th>is_terrestrial_biome</th>\n",
       "      <th>is_environmental_material</th>\n",
       "      <th>...</th>\n",
       "      <th>MLS_vote</th>\n",
       "      <th>MLS_comments</th>\n",
       "      <th>NMW_vote</th>\n",
       "      <th>NMW_comment</th>\n",
       "      <th>SM_vote</th>\n",
       "      <th>SM_comment</th>\n",
       "      <th>Yes = 1 No = -1 Maybe = 0</th>\n",
       "      <th>IAA_score</th>\n",
       "      <th>vote_sum</th>\n",
       "      <th>was_subjected_to_voting</th>\n",
       "    </tr>\n",
       "  </thead>\n",
       "  <tbody>\n",
       "    <tr>\n",
       "      <th>0</th>\n",
       "      <td>CHEBI:24632</td>\n",
       "      <td>hydrocarbon</td>\n",
       "      <td>0.003288752467</td>\n",
       "      <td>FALSE</td>\n",
       "      <td>FALSE</td>\n",
       "      <td>TRUE</td>\n",
       "      <td>FALSE</td>\n",
       "      <td>FALSE</td>\n",
       "      <td>FALSE</td>\n",
       "      <td>FALSE</td>\n",
       "      <td>...</td>\n",
       "      <td>0</td>\n",
       "      <td>0</td>\n",
       "      <td></td>\n",
       "      <td></td>\n",
       "      <td></td>\n",
       "      <td></td>\n",
       "      <td>0</td>\n",
       "      <td>1</td>\n",
       "      <td>0</td>\n",
       "      <td></td>\n",
       "    </tr>\n",
       "    <tr>\n",
       "      <th>1</th>\n",
       "      <td>CHEBI:24866</td>\n",
       "      <td>salt</td>\n",
       "      <td>0.0001096250822</td>\n",
       "      <td>FALSE</td>\n",
       "      <td>FALSE</td>\n",
       "      <td>TRUE</td>\n",
       "      <td>FALSE</td>\n",
       "      <td>FALSE</td>\n",
       "      <td>FALSE</td>\n",
       "      <td>FALSE</td>\n",
       "      <td>...</td>\n",
       "      <td>0</td>\n",
       "      <td>0</td>\n",
       "      <td></td>\n",
       "      <td></td>\n",
       "      <td></td>\n",
       "      <td></td>\n",
       "      <td>0</td>\n",
       "      <td>1</td>\n",
       "      <td>0</td>\n",
       "      <td></td>\n",
       "    </tr>\n",
       "    <tr>\n",
       "      <th>2</th>\n",
       "      <td>CHEBI:25555</td>\n",
       "      <td>nitrogen atom</td>\n",
       "      <td>0.0006577504933</td>\n",
       "      <td>FALSE</td>\n",
       "      <td>FALSE</td>\n",
       "      <td>TRUE</td>\n",
       "      <td>FALSE</td>\n",
       "      <td>FALSE</td>\n",
       "      <td>FALSE</td>\n",
       "      <td>FALSE</td>\n",
       "      <td>...</td>\n",
       "      <td>0</td>\n",
       "      <td>0</td>\n",
       "      <td></td>\n",
       "      <td></td>\n",
       "      <td></td>\n",
       "      <td></td>\n",
       "      <td>0</td>\n",
       "      <td>1</td>\n",
       "      <td>0</td>\n",
       "      <td></td>\n",
       "    </tr>\n",
       "    <tr>\n",
       "      <th>3</th>\n",
       "      <td>CHEBI:26833</td>\n",
       "      <td>sulfur atom</td>\n",
       "      <td>0.0001096250822</td>\n",
       "      <td>FALSE</td>\n",
       "      <td>FALSE</td>\n",
       "      <td>TRUE</td>\n",
       "      <td>FALSE</td>\n",
       "      <td>FALSE</td>\n",
       "      <td>FALSE</td>\n",
       "      <td>FALSE</td>\n",
       "      <td>...</td>\n",
       "      <td>0</td>\n",
       "      <td>0</td>\n",
       "      <td></td>\n",
       "      <td></td>\n",
       "      <td></td>\n",
       "      <td></td>\n",
       "      <td>0</td>\n",
       "      <td>1</td>\n",
       "      <td>0</td>\n",
       "      <td></td>\n",
       "    </tr>\n",
       "    <tr>\n",
       "      <th>4</th>\n",
       "      <td>CHEBI:33287</td>\n",
       "      <td>fertilizer</td>\n",
       "      <td>0.03672440254</td>\n",
       "      <td>FALSE</td>\n",
       "      <td>FALSE</td>\n",
       "      <td>FALSE</td>\n",
       "      <td>FALSE</td>\n",
       "      <td>FALSE</td>\n",
       "      <td>FALSE</td>\n",
       "      <td>FALSE</td>\n",
       "      <td>...</td>\n",
       "      <td>-1</td>\n",
       "      <td></td>\n",
       "      <td></td>\n",
       "      <td></td>\n",
       "      <td></td>\n",
       "      <td></td>\n",
       "      <td>-3</td>\n",
       "      <td>0.4</td>\n",
       "      <td>-3</td>\n",
       "      <td></td>\n",
       "    </tr>\n",
       "    <tr>\n",
       "      <th>...</th>\n",
       "      <td>...</td>\n",
       "      <td>...</td>\n",
       "      <td>...</td>\n",
       "      <td>...</td>\n",
       "      <td>...</td>\n",
       "      <td>...</td>\n",
       "      <td>...</td>\n",
       "      <td>...</td>\n",
       "      <td>...</td>\n",
       "      <td>...</td>\n",
       "      <td>...</td>\n",
       "      <td>...</td>\n",
       "      <td>...</td>\n",
       "      <td>...</td>\n",
       "      <td>...</td>\n",
       "      <td>...</td>\n",
       "      <td>...</td>\n",
       "      <td>...</td>\n",
       "      <td>...</td>\n",
       "      <td>...</td>\n",
       "      <td>...</td>\n",
       "    </tr>\n",
       "    <tr>\n",
       "      <th>1224</th>\n",
       "      <td>ENVO:00000567</td>\n",
       "      <td>calanque</td>\n",
       "      <td></td>\n",
       "      <td></td>\n",
       "      <td></td>\n",
       "      <td></td>\n",
       "      <td></td>\n",
       "      <td></td>\n",
       "      <td></td>\n",
       "      <td></td>\n",
       "      <td>...</td>\n",
       "      <td></td>\n",
       "      <td></td>\n",
       "      <td></td>\n",
       "      <td></td>\n",
       "      <td></td>\n",
       "      <td></td>\n",
       "      <td></td>\n",
       "      <td>0.4</td>\n",
       "      <td>-2</td>\n",
       "      <td>FALSE</td>\n",
       "    </tr>\n",
       "    <tr>\n",
       "      <th>1225</th>\n",
       "      <td>ENVO:03500004</td>\n",
       "      <td>bike path</td>\n",
       "      <td></td>\n",
       "      <td></td>\n",
       "      <td></td>\n",
       "      <td></td>\n",
       "      <td></td>\n",
       "      <td></td>\n",
       "      <td></td>\n",
       "      <td></td>\n",
       "      <td>...</td>\n",
       "      <td></td>\n",
       "      <td></td>\n",
       "      <td></td>\n",
       "      <td></td>\n",
       "      <td></td>\n",
       "      <td></td>\n",
       "      <td></td>\n",
       "      <td>0.4</td>\n",
       "      <td>-2</td>\n",
       "      <td>FALSE</td>\n",
       "    </tr>\n",
       "    <tr>\n",
       "      <th>1226</th>\n",
       "      <td>ENVO:03501248</td>\n",
       "      <td>overpass</td>\n",
       "      <td></td>\n",
       "      <td></td>\n",
       "      <td></td>\n",
       "      <td></td>\n",
       "      <td></td>\n",
       "      <td></td>\n",
       "      <td></td>\n",
       "      <td></td>\n",
       "      <td>...</td>\n",
       "      <td></td>\n",
       "      <td></td>\n",
       "      <td></td>\n",
       "      <td></td>\n",
       "      <td></td>\n",
       "      <td></td>\n",
       "      <td></td>\n",
       "      <td>0.4</td>\n",
       "      <td>-2</td>\n",
       "      <td>FALSE</td>\n",
       "    </tr>\n",
       "    <tr>\n",
       "      <th>1227</th>\n",
       "      <td>ENVO:00000561</td>\n",
       "      <td>military training area</td>\n",
       "      <td></td>\n",
       "      <td></td>\n",
       "      <td></td>\n",
       "      <td></td>\n",
       "      <td></td>\n",
       "      <td></td>\n",
       "      <td></td>\n",
       "      <td></td>\n",
       "      <td>...</td>\n",
       "      <td></td>\n",
       "      <td></td>\n",
       "      <td></td>\n",
       "      <td></td>\n",
       "      <td></td>\n",
       "      <td></td>\n",
       "      <td></td>\n",
       "      <td>0.4</td>\n",
       "      <td>-2</td>\n",
       "      <td>FALSE</td>\n",
       "    </tr>\n",
       "    <tr>\n",
       "      <th>1228</th>\n",
       "      <td>ENVO:00000075</td>\n",
       "      <td>bridge</td>\n",
       "      <td></td>\n",
       "      <td></td>\n",
       "      <td></td>\n",
       "      <td></td>\n",
       "      <td></td>\n",
       "      <td></td>\n",
       "      <td></td>\n",
       "      <td></td>\n",
       "      <td>...</td>\n",
       "      <td></td>\n",
       "      <td></td>\n",
       "      <td></td>\n",
       "      <td></td>\n",
       "      <td></td>\n",
       "      <td></td>\n",
       "      <td></td>\n",
       "      <td>0.4</td>\n",
       "      <td>-2</td>\n",
       "      <td>FALSE</td>\n",
       "    </tr>\n",
       "  </tbody>\n",
       "</table>\n",
       "<p>1229 rows × 39 columns</p>\n",
       "</div>"
      ]
     },
     "execution_count": 23,
     "metadata": {},
     "output_type": "execute_result"
    }
   ],
   "execution_count": 23
  },
  {
   "metadata": {},
   "cell_type": "code",
   "source": "df.columns",
   "id": "6f65055c62ac12ba",
   "outputs": [],
   "execution_count": null
  },
  {
   "metadata": {},
   "cell_type": "code",
   "source": [
    "# Convert 'vote_sum' to numeric\n",
    "df['vote_sum'] = pd.to_numeric(df['vote_sum'], errors='coerce')\n",
    "\n",
    "# Convert 'IAA_score' to numeric\n",
    "df['IAA_score'] = pd.to_numeric(df['IAA_score'], errors='coerce') \n"
   ],
   "id": "e0ba6cb94792c984",
   "outputs": [],
   "execution_count": null
  },
  {
   "metadata": {},
   "cell_type": "code",
   "source": [
    "# Add jitter to 'vote_sum' and 'IAA_score'\n",
    "df['vote_sum_jittered'] = df['vote_sum'] + np.random.normal(0, 0.1, size=len(df))\n",
    "df['IAA_score_jittered'] = df['IAA_score'] + np.random.normal(0, 0.01, size=len(df))\n"
   ],
   "id": "8efc2dffcf2aa1b9",
   "outputs": [],
   "execution_count": null
  },
  {
   "metadata": {},
   "cell_type": "code",
   "source": [
    "# Scatter plot with jittered values\n",
    "plt.figure(figsize=(8, 6))\n",
    "plt.scatter(df['vote_sum_jittered'], df['IAA_score_jittered'], alpha=0.5)\n",
    "plt.xlabel('Vote Sum (Jittered)')\n",
    "plt.ylabel('IAA Score (Jittered)')\n",
    "plt.title('Scatter Plot of Vote Sum vs. IAA Score with Jitter')\n",
    "plt.grid(True)\n",
    "plt.show()"
   ],
   "id": "839fbdb2afd784f4",
   "outputs": [],
   "execution_count": null
  },
  {
   "metadata": {},
   "cell_type": "code",
   "source": [
    "# Group by 'vote_sum' and 'IAA_score' and count the occurrences\n",
    "count_table = df.groupby(['vote_sum', 'IAA_score']).size().reset_index(name='count')"
   ],
   "id": "f7f5da11648d5886",
   "outputs": [],
   "execution_count": null
  },
  {
   "metadata": {},
   "cell_type": "code",
   "source": "count_table",
   "id": "bc7499dfc4af91e0",
   "outputs": [],
   "execution_count": null
  },
  {
   "metadata": {},
   "cell_type": "code",
   "source": "vote_sum_threshold",
   "id": "ae64885520e35c11",
   "outputs": [],
   "execution_count": null
  },
  {
   "metadata": {},
   "cell_type": "code",
   "source": "IAA_score_threshold",
   "id": "b1308a6c17aa595f",
   "outputs": [],
   "execution_count": null
  },
  {
   "metadata": {},
   "cell_type": "code",
   "source": [
    "# Create the derived DataFrame\n",
    "vote_filtered_df = df[(df['vote_sum'] >= vote_sum_threshold) & (df['IAA_score'] >= IAA_score_threshold)]"
   ],
   "id": "5ab075aba664b818",
   "outputs": [],
   "execution_count": null
  },
  {
   "metadata": {},
   "cell_type": "code",
   "source": "vote_filtered_df",
   "id": "30968dcada688cb2",
   "outputs": [],
   "execution_count": null
  },
  {
   "metadata": {},
   "cell_type": "markdown",
   "source": "Now compare the voted-in classes with the ones that were locked into the v11.2 EnvLocalScaleSoilEnum by Mark's overly-clever code",
   "id": "13294959de026158"
  },
  {
   "metadata": {},
   "cell_type": "code",
   "source": "schema_with_mam_biased_sels_url = SchemaView(schema_with_mam_biased_sels_url)",
   "id": "df9b5ae2e75c750a",
   "outputs": [],
   "execution_count": null
  },
  {
   "metadata": {},
   "cell_type": "code",
   "source": "mam_biased_sels_enum = schema_with_mam_biased_sels_url.get_enum(sels_enum_name)",
   "id": "2fad836d09da2964",
   "outputs": [],
   "execution_count": null
  },
  {
   "metadata": {},
   "cell_type": "code",
   "source": "mam_biased_sels_enum_pvs = list(mam_biased_sels_enum.permissible_values.keys())",
   "id": "ad3aa2bec37edf5c",
   "outputs": [],
   "execution_count": null
  },
  {
   "metadata": {},
   "cell_type": "code",
   "source": [
    "mam_biased_curie_label_dict = {}\n",
    "for label_with_curie in mam_biased_sels_enum_pvs:\n",
    "    match = re.search(r'(.*?) \\[(.*?)\\]', label_with_curie)  # Extract label and curie\n",
    "    if match:\n",
    "        label = match.group(1)\n",
    "        curie = match.group(2)\n",
    "        mam_biased_curie_label_dict[curie] = label\n"
   ],
   "id": "ed1819f36b9b6acd",
   "outputs": [],
   "execution_count": null
  },
  {
   "metadata": {},
   "cell_type": "code",
   "source": [
    "# Create the curie dictionary from filtered_df\n",
    "votes_only_dict = dict(zip(vote_filtered_df['unique_id'], vote_filtered_df['label']))"
   ],
   "id": "1841902201bd6fdb",
   "outputs": [],
   "execution_count": null
  },
  {
   "metadata": {},
   "cell_type": "code",
   "source": "input_data = {'MAM biased': mam_biased_curie_label_dict, 'Votes': votes_only_dict}",
   "id": "7d73d9c477023816",
   "outputs": [],
   "execution_count": null
  },
  {
   "metadata": {},
   "cell_type": "code",
   "source": "pvs_analysis = compare_curie_dicts(input_data)",
   "id": "6c878291e42a7a82",
   "outputs": [],
   "execution_count": null
  },
  {
   "metadata": {},
   "cell_type": "markdown",
   "source": [
    "This dictionary shows the classes that were included in \n",
    "- the v11.2 EnvLocalScaleSoilEnum by Mark's overly-clever code only\n",
    "- the in-voted classes only\n",
    "- the intersection of those two sets"
   ],
   "id": "65bf388d52388fcf"
  },
  {
   "metadata": {},
   "cell_type": "code",
   "source": "pprint.pprint(pvs_analysis)",
   "id": "29012dc9c5f42905",
   "outputs": [],
   "execution_count": null
  },
  {
   "metadata": {},
   "cell_type": "markdown",
   "source": [
    "Are all of the in-voted classes astronomic body parts?\n",
    "\n",
    "Or are some environmental systems? Or something else? None of that is indiciated on the voting sheet.\n"
   ],
   "id": "81b495edeeabb423"
  },
  {
   "metadata": {},
   "cell_type": "code",
   "source": "ancestor_frame = tabulate_core_ancestor_counts(list(votes_only_dict.keys()), envo_adapter)",
   "id": "34d74a0f41abfdbf",
   "outputs": [],
   "execution_count": null
  },
  {
   "metadata": {},
   "cell_type": "code",
   "source": [
    "ancestor_frame\n",
    "\n",
    "# there are limits to how useful this is for picking a root for ELS"
   ],
   "id": "c2ae21965ff56521",
   "outputs": [],
   "execution_count": null
  },
  {
   "metadata": {},
   "cell_type": "code",
   "source": "is_abp_df = check_descendants(list(votes_only_dict.keys()), ABP, envo_adapter)",
   "id": "d83dbfaee65d3e02",
   "outputs": [],
   "execution_count": null
  },
  {
   "metadata": {},
   "cell_type": "code",
   "source": "is_abp_df",
   "id": "d0336ff65bbb11c9",
   "outputs": [],
   "execution_count": null
  },
  {
   "metadata": {},
   "cell_type": "code",
   "source": "not_abp = is_abp_df.loc[~is_abp_df['is_astronomical_body_part'], 'curie'].tolist()",
   "id": "64f4ffe54051eac2",
   "outputs": [],
   "execution_count": null
  },
  {
   "metadata": {},
   "cell_type": "markdown",
   "source": "Here are the in-voted classes that are not astronomical body parts",
   "id": "b951da8a0933539"
  },
  {
   "metadata": {},
   "cell_type": "code",
   "source": [
    "for i in not_abp:\n",
    "    l = envo_adapter.label(i)\n",
    "    print(f\"{i} ! {l}\")"
   ],
   "id": "8c3e017f26e32132",
   "outputs": [],
   "execution_count": null
  },
  {
   "metadata": {},
   "cell_type": "markdown",
   "source": "Here are their parent classes. Maybe we want to make boolean filter columns in the voting sheets for some of them?",
   "id": "d04b29ae991dc8d3"
  },
  {
   "metadata": {},
   "cell_type": "code",
   "source": "non_abp_ancestor_frame = tabulate_core_ancestor_counts(not_abp, envo_adapter, min_count_threshold=1, omit_max_count=False)",
   "id": "d07e6e05e2697a80",
   "outputs": [],
   "execution_count": null
  },
  {
   "metadata": {},
   "cell_type": "code",
   "source": "non_abp_ancestor_frame",
   "id": "7b1ea5fbb50cf93a",
   "outputs": [],
   "execution_count": null
  },
  {
   "metadata": {},
   "cell_type": "markdown",
   "source": "Or maybe not",
   "id": "e9a426ae706c7910"
  },
  {
   "metadata": {},
   "cell_type": "code",
   "source": [
    "votes_df_to_save = vote_filtered_df[['unique_id', 'label']]\n",
    "\n",
    "votes_df_to_save.columns = ['id','label']"
   ],
   "id": "6ba7f6a92c455542",
   "outputs": [],
   "execution_count": null
  },
  {
   "metadata": {},
   "cell_type": "code",
   "source": "votes_df_to_save.to_csv(output_file, index=False, sep=\"\\t\")",
   "id": "44b60ff78bfcd82f",
   "outputs": [],
   "execution_count": null
  }
 ],
 "metadata": {
  "kernelspec": {
   "display_name": "Python 3",
   "language": "python",
   "name": "python3"
  },
  "language_info": {
   "codemirror_mode": {
    "name": "ipython",
    "version": 2
   },
   "file_extension": ".py",
   "mimetype": "text/x-python",
   "name": "python",
   "nbconvert_exporter": "python",
   "pygments_lexer": "ipython2",
   "version": "2.7.6"
  }
 },
 "nbformat": 4,
 "nbformat_minor": 5
}
