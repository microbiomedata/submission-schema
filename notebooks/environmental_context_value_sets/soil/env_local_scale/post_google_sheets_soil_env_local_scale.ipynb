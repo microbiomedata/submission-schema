{
 "cells": [
  {
   "metadata": {
    "ExecuteTime": {
     "end_time": "2024-12-17T19:30:49.993185Z",
     "start_time": "2024-12-17T19:30:45.146376Z"
    }
   },
   "cell_type": "code",
   "source": [
    "import gspread\n",
    "from google.oauth2.service_account import Credentials\n",
    "\n",
    "import pandas as pd\n",
    "import matplotlib.pyplot as plt\n",
    "\n",
    "import numpy as np\n",
    "\n",
    "from linkml_runtime.utils.schemaview import SchemaView\n",
    "import re\n",
    "\n",
    "import pprint\n",
    "\n",
    "from oaklib import get_adapter\n",
    "from oaklib.datamodels.vocabulary import IS_A"
   ],
   "id": "7c0c89547933adc0",
   "outputs": [],
   "execution_count": 1
  },
  {
   "metadata": {},
   "cell_type": "markdown",
   "source": [
    "The environmental triad squad did thorough voting on the classes to include in the soil env_local_scale value set\n",
    "\n",
    "https://docs.google.com/spreadsheets/d/1epul_bXtEOlmIZYNRhngulI3-HaHhe_tU_BPUia5isQ/edit?gid=154155133#gid=154155133\n",
    "\n",
    "After that, MAM wrote a notebook that tried to generalize the insights from those votes.\n",
    "\n",
    "https://github.com/microbiomedata/submission-schema/blob/v11.2.0/notebooks/environmental_context_value_sets/soil/env_local_scale/post_google_sheets_soil_env_local_scale.ipynb\n",
    "\n",
    "The output of that notebook deviated significantly from the votes, so this new notebook has been written to generate output that is more aligned with the votes.\n",
    "\n",
    "Each person's vote for a class can be -1 (don't include it in the value set), 0 (or blank, meaning I don't have a strong opinion) or +1 (include it in the value set). The votes from all of the squad members are aggregated with two metrics: the sum of the votes and the inter annotator score. The IAA values gave usuful perspectives to the voting process, but CJM has suggested that the value set shouldn't be constrained by them any longer. So we have concluded that any class whose vote sum is 1 or greater should be included in the value set.\n",
    "\n",
    "These approved classes include some subclasses of EnvO's 'environmental zone' class, ENVO:01000408.\n",
    "\n",
    "See https://www.ebi.ac.uk/ols4/ontologies/envo/classes/http%253A%252F%252Fpurl.obolibrary.org%252Fobo%252FENVO_01000408?lang=en\n",
    "\n",
    "Most (but not all) of the environmental zones have labels that begin with 'area of...'. In general, we are including them because they share an inSubset value of 'nlcd2011', indicating that they represent land cover types specified by the USGS. \n",
    "\n",
    "See https://www.usgs.gov/centers/eros/science/national-land-cover-database\n",
    "\n",
    "MAM and CJM have raised issues with EnvO regarding two aspects of that modelling, but we still include these NLCD-inspired environmental zones while that is sorted out.\n",
    "- https://github.com/EnvironmentOntology/envo/issues/1583\n",
    "- https://github.com/EnvironmentOntology/envo/issues/1527"
   ],
   "id": "92eca3c392b22e57"
  },
  {
   "metadata": {
    "ExecuteTime": {
     "end_time": "2024-12-17T19:30:50.001792Z",
     "start_time": "2024-12-17T19:30:49.995161Z"
    }
   },
   "cell_type": "code",
   "source": [
    "# Set your thresholds\n",
    "vote_sum_threshold = 1  # Example threshold\n",
    "IAA_score_threshold = 0.0  # Example threshold"
   ],
   "id": "c24195692682a4a0",
   "outputs": [],
   "execution_count": 2
  },
  {
   "metadata": {
    "ExecuteTime": {
     "end_time": "2024-12-17T19:30:50.006439Z",
     "start_time": "2024-12-17T19:30:50.003445Z"
    }
   },
   "cell_type": "code",
   "source": "output_file = \"post_google_sheets_soil_env_local_scale.tsv\"",
   "id": "6250de3178a3ec3b",
   "outputs": [],
   "execution_count": 3
  },
  {
   "metadata": {
    "ExecuteTime": {
     "end_time": "2024-12-17T19:30:50.011926Z",
     "start_time": "2024-12-17T19:30:50.009143Z"
    }
   },
   "cell_type": "code",
   "source": "schema_with_mam_biased_sels_url = \"https://raw.githubusercontent.com/microbiomedata/submission-schema/refs/tags/v11.2.0/src/nmdc_submission_schema/schema/nmdc_submission_schema.yaml\"",
   "id": "221edd748039ae5b",
   "outputs": [],
   "execution_count": 4
  },
  {
   "metadata": {
    "ExecuteTime": {
     "end_time": "2024-12-17T19:30:50.016089Z",
     "start_time": "2024-12-17T19:30:50.013504Z"
    }
   },
   "cell_type": "code",
   "source": "sels_enum_name = \"EnvLocalScaleSoilEnum\"",
   "id": "879dacea4e6874bc",
   "outputs": [],
   "execution_count": 5
  },
  {
   "metadata": {},
   "cell_type": "markdown",
   "source": "Get voting sheet directly from Google Sheets. Requires a credentials file, which must be requested from MAM.",
   "id": "805032586378fa54"
  },
  {
   "metadata": {
    "ExecuteTime": {
     "end_time": "2024-12-17T19:30:50.020182Z",
     "start_time": "2024-12-17T19:30:50.017558Z"
    }
   },
   "cell_type": "code",
   "source": [
    "# 1. Replace with the path to your downloaded JSON key file\n",
    "SERVICE_ACCOUNT_FILE = 'env-context-voting-sheets-29d0d970ca1d.json'  \n"
   ],
   "id": "c03d705397a4ceb7",
   "outputs": [],
   "execution_count": 6
  },
  {
   "metadata": {
    "ExecuteTime": {
     "end_time": "2024-12-17T19:30:50.024377Z",
     "start_time": "2024-12-17T19:30:50.021672Z"
    }
   },
   "cell_type": "code",
   "source": [
    "# Consolidated_soil-env-local-scale-evidence-table\n",
    "SPREADSHEET_ID = \"1epul_bXtEOlmIZYNRhngulI3-HaHhe_tU_BPUia5isQ\"\n"
   ],
   "id": "f3e8d59114dba657",
   "outputs": [],
   "execution_count": 7
  },
  {
   "metadata": {
    "ExecuteTime": {
     "end_time": "2024-12-17T19:30:50.028854Z",
     "start_time": "2024-12-17T19:30:50.025916Z"
    }
   },
   "cell_type": "code",
   "source": "sheet_name = 'soil-env-local-scale-evidence-t'  ",
   "id": "3d94133909257bc",
   "outputs": [],
   "execution_count": 8
  },
  {
   "metadata": {
    "ExecuteTime": {
     "end_time": "2024-12-17T19:30:50.033960Z",
     "start_time": "2024-12-17T19:30:50.030707Z"
    }
   },
   "cell_type": "code",
   "source": [
    "# Set up credentials\n",
    "SCOPES = [\n",
    "    'https://www.googleapis.com/auth/spreadsheets',\n",
    "    'https://www.googleapis.com/auth/drive'\n",
    "]\n"
   ],
   "id": "186af1435dabf25b",
   "outputs": [],
   "execution_count": 9
  },
  {
   "metadata": {
    "ExecuteTime": {
     "end_time": "2024-12-17T19:30:50.041329Z",
     "start_time": "2024-12-17T19:30:50.038678Z"
    }
   },
   "cell_type": "code",
   "source": "envo_adapter_string  = \"sqlite:obo:envo\"",
   "id": "4711e70e218bd242",
   "outputs": [],
   "execution_count": 10
  },
  {
   "metadata": {
    "ExecuteTime": {
     "end_time": "2024-12-17T19:30:50.045736Z",
     "start_time": "2024-12-17T19:30:50.042815Z"
    }
   },
   "cell_type": "code",
   "source": "ABP = 'ENVO:01000813'",
   "id": "dc6f2937e0e2735d",
   "outputs": [],
   "execution_count": 11
  },
  {
   "metadata": {
    "ExecuteTime": {
     "end_time": "2024-12-17T19:30:50.049492Z",
     "start_time": "2024-12-17T19:30:50.047075Z"
    }
   },
   "cell_type": "code",
   "source": "## code starts here",
   "id": "a03e341021b73929",
   "outputs": [],
   "execution_count": 12
  },
  {
   "metadata": {
    "ExecuteTime": {
     "end_time": "2024-12-17T19:30:50.057150Z",
     "start_time": "2024-12-17T19:30:50.050937Z"
    }
   },
   "cell_type": "code",
   "source": [
    "def compare_curie_dicts(input_dict):\n",
    "  \"\"\"\n",
    "  Compares two dictionaries of curies and labels and reports differences \n",
    "  and common elements.\n",
    "\n",
    "  Args:\n",
    "    input_dict: A dictionary with two keys representing the group labels and \n",
    "                 the values being dictionaries of curie: label pairs.\n",
    "\n",
    "  Returns:\n",
    "    A dictionary with three keys:\n",
    "      - 'first_only': A dictionary of curie: label pairs present only in \n",
    "                       the first group.\n",
    "      - 'second_only': A dictionary of curie: label pairs present only in \n",
    "                        the second group.\n",
    "      - 'shared': A dictionary of curie: label pairs present in both groups.\n",
    "  \"\"\"\n",
    "\n",
    "  group1_label, group1_data = list(input_dict.items())[0]\n",
    "  group2_label, group2_data = list(input_dict.items())[1]\n",
    "\n",
    "  first_only_curies = set(group1_data.keys()) - set(group2_data.keys())\n",
    "  second_only_curies = set(group2_data.keys()) - set(group1_data.keys())\n",
    "  shared_curies = set(group1_data.keys()) & set(group2_data.keys())\n",
    "\n",
    "  first_only = {curie: group1_data[curie] for curie in first_only_curies}\n",
    "  second_only = {curie: group2_data[curie] for curie in second_only_curies}\n",
    "  shared = {curie: group1_data[curie] for curie in shared_curies}\n",
    "\n",
    "  return {\n",
    "      f'{group1_label} only': first_only,\n",
    "      f'{group2_label} only': second_only,\n",
    "      'shared': shared\n",
    "  }"
   ],
   "id": "fdc53e122d28c515",
   "outputs": [],
   "execution_count": 13
  },
  {
   "metadata": {
    "ExecuteTime": {
     "end_time": "2024-12-17T19:30:50.065012Z",
     "start_time": "2024-12-17T19:30:50.058980Z"
    }
   },
   "cell_type": "code",
   "source": [
    "def tabulate_core_ancestor_counts(\n",
    "    curies,\n",
    "    adapter,\n",
    "    predicates=[IS_A],\n",
    "    omit_max_count=True,\n",
    "    min_count_threshold=2,\n",
    "):\n",
    "    \"\"\"\n",
    "    Tabulates the number of times each ancestor curie appears for a list of \n",
    "    input curies, with options to exclude maximum counts and a minimum count \n",
    "    threshold.\n",
    "\n",
    "    Args:\n",
    "      curies: A list of curies to get ancestors for.\n",
    "      adapter: The adapter object to use for fetching ancestors (e.g., an \n",
    "               instance of OntoBiotopeAdapter).\n",
    "      predicates: A list of predicates to use for traversing the ancestor \n",
    "                  hierarchy (default: [IS_A]).\n",
    "      omit_max_count: Whether to omit rows with the maximum count \n",
    "                      (default: True).\n",
    "      min_count_threshold: The minimum count threshold for excluding rows \n",
    "                           (default: 2).\n",
    "\n",
    "    Returns:\n",
    "      A pandas DataFrame with three columns:\n",
    "        - 'ancestor_curie': The ancestor curie.\n",
    "        - 'ancestor_curie_label': The label of the ancestor curie.\n",
    "        - 'ancestor_curie_count': The number of times this ancestor appears.\n",
    "    \"\"\"\n",
    "\n",
    "    ancestor_counts = {}\n",
    "    for curie in curies:\n",
    "        ancestors = adapter.ancestors(curie, predicates=predicates)\n",
    "        for ancestor_curie in ancestors:\n",
    "            if ancestor_curie not in ancestor_counts:\n",
    "                ancestor_counts[ancestor_curie] = {\n",
    "                    'ancestor_curie_label': adapter.label(ancestor_curie),\n",
    "                    'ancestor_curie_count': 0\n",
    "                }\n",
    "            ancestor_counts[ancestor_curie]['ancestor_curie_count'] += 1\n",
    "\n",
    "    df = pd.DataFrame(ancestor_counts).transpose().reset_index()\n",
    "\n",
    "    # Apply filtering\n",
    "    if omit_max_count:\n",
    "        max_count = df['ancestor_curie_count'].max()\n",
    "        df = df[df['ancestor_curie_count'] != max_count]\n",
    "\n",
    "    df = df[df['ancestor_curie_count'] >= min_count_threshold]\n",
    "    \n",
    "    df = df.sort_values(by='ancestor_curie_count', ascending=False)\n",
    "\n",
    "    return df"
   ],
   "id": "d7febcc529713253",
   "outputs": [],
   "execution_count": 14
  },
  {
   "metadata": {
    "ExecuteTime": {
     "end_time": "2024-12-17T19:30:50.071045Z",
     "start_time": "2024-12-17T19:30:50.066626Z"
    }
   },
   "cell_type": "code",
   "source": [
    "\n",
    "def check_descendants(curies, root_curie, adapter):\n",
    "    \"\"\"\n",
    "    Determines whether a list of curies are descendants of a given root curie.\n",
    "\n",
    "    Args:\n",
    "      curies: A list of curies to check.\n",
    "      root_curie: The curie of the root class.\n",
    "      adapter: The adapter object to use for fetching ancestors and labels.\n",
    "\n",
    "    Returns:\n",
    "      A pandas DataFrame with three columns:\n",
    "        - 'curie': The input curie.\n",
    "        - 'label': The label of the input curie.\n",
    "        - 'is_{root_label_in_snake_case}': Boolean indicating whether the \n",
    "                                          curie is a descendant of the root.\n",
    "    \"\"\"\n",
    "\n",
    "    root_label_snake_case = adapter.label(root_curie).lower().replace(\" \", \"_\")\n",
    "    is_descendant_column = f'is_{root_label_snake_case}'\n",
    "\n",
    "    results = []\n",
    "    for curie in curies:\n",
    "        ancestors = adapter.ancestors(curie)\n",
    "        is_descendant = root_curie in ancestors\n",
    "        results.append({\n",
    "            'curie': curie,\n",
    "            'label': adapter.label(curie),\n",
    "            is_descendant_column: is_descendant\n",
    "        })\n",
    "\n",
    "    return pd.DataFrame(results)"
   ],
   "id": "a357338edca3ddcc",
   "outputs": [],
   "execution_count": 15
  },
  {
   "metadata": {
    "ExecuteTime": {
     "end_time": "2024-12-17T19:30:50.111894Z",
     "start_time": "2024-12-17T19:30:50.072576Z"
    }
   },
   "cell_type": "code",
   "source": "envo_adapter = get_adapter(envo_adapter_string)",
   "id": "4f8b6fa589871b7e",
   "outputs": [],
   "execution_count": 16
  },
  {
   "metadata": {
    "ExecuteTime": {
     "end_time": "2024-12-17T19:30:50.118447Z",
     "start_time": "2024-12-17T19:30:50.113682Z"
    }
   },
   "cell_type": "code",
   "source": "creds = Credentials.from_service_account_file(SERVICE_ACCOUNT_FILE, scopes=SCOPES)",
   "id": "31b015ceea314eff",
   "outputs": [],
   "execution_count": 17
  },
  {
   "metadata": {
    "ExecuteTime": {
     "end_time": "2024-12-17T19:30:50.124435Z",
     "start_time": "2024-12-17T19:30:50.120026Z"
    }
   },
   "cell_type": "code",
   "source": "gc = gspread.authorize(creds)",
   "id": "b5126af16d10a20a",
   "outputs": [],
   "execution_count": 18
  },
  {
   "metadata": {
    "ExecuteTime": {
     "end_time": "2024-12-17T19:30:50.875658Z",
     "start_time": "2024-12-17T19:30:50.125942Z"
    }
   },
   "cell_type": "code",
   "source": [
    "# Open the spreadsheet\n",
    "spreadsheet = gc.open_by_key(SPREADSHEET_ID) "
   ],
   "id": "e031c1fd1b45c685",
   "outputs": [],
   "execution_count": 19
  },
  {
   "metadata": {
    "ExecuteTime": {
     "end_time": "2024-12-17T19:30:51.121991Z",
     "start_time": "2024-12-17T19:30:50.877541Z"
    }
   },
   "cell_type": "code",
   "source": "sheet = spreadsheet.worksheet(sheet_name)",
   "id": "1482919438c3c56e",
   "outputs": [],
   "execution_count": 20
  },
  {
   "metadata": {
    "ExecuteTime": {
     "end_time": "2024-12-17T19:30:51.511519Z",
     "start_time": "2024-12-17T19:30:51.123780Z"
    }
   },
   "cell_type": "code",
   "source": [
    "# Get data as a list of lists\n",
    "data = sheet.get_all_values()"
   ],
   "id": "f0ca2ba213b9a728",
   "outputs": [],
   "execution_count": 21
  },
  {
   "metadata": {
    "ExecuteTime": {
     "end_time": "2024-12-17T19:30:51.521455Z",
     "start_time": "2024-12-17T19:30:51.513446Z"
    }
   },
   "cell_type": "code",
   "source": [
    "# Convert to DataFrame\n",
    "df = pd.DataFrame(data[1:], columns=data[0]) "
   ],
   "id": "dae1c7cb972e5288",
   "outputs": [],
   "execution_count": 22
  },
  {
   "metadata": {
    "ExecuteTime": {
     "end_time": "2024-12-17T19:30:51.558019Z",
     "start_time": "2024-12-17T19:30:51.525082Z"
    }
   },
   "cell_type": "code",
   "source": "df",
   "id": "c992aecaa0059f8b",
   "outputs": [
    {
     "data": {
      "text/plain": [
       "          unique_id                   label     all_evidence is_process  \\\n",
       "0       CHEBI:24632             hydrocarbon   0.003288752467      FALSE   \n",
       "1       CHEBI:24866                    salt  0.0001096250822      FALSE   \n",
       "2       CHEBI:25555           nitrogen atom  0.0006577504933      FALSE   \n",
       "3       CHEBI:26833             sulfur atom  0.0001096250822      FALSE   \n",
       "4       CHEBI:33287              fertilizer    0.03672440254      FALSE   \n",
       "...             ...                     ...              ...        ...   \n",
       "1224  ENVO:00000567                calanque                               \n",
       "1225  ENVO:03500004               bike path                               \n",
       "1226  ENVO:03501248                overpass                               \n",
       "1227  ENVO:00000561  military training area                               \n",
       "1228  ENVO:00000075                  bridge                               \n",
       "\n",
       "     is_quality is_chemical_entity is_biome is_aquatic_biome  \\\n",
       "0         FALSE               TRUE    FALSE            FALSE   \n",
       "1         FALSE               TRUE    FALSE            FALSE   \n",
       "2         FALSE               TRUE    FALSE            FALSE   \n",
       "3         FALSE               TRUE    FALSE            FALSE   \n",
       "4         FALSE              FALSE    FALSE            FALSE   \n",
       "...         ...                ...      ...              ...   \n",
       "1224                                                           \n",
       "1225                                                           \n",
       "1226                                                           \n",
       "1227                                                           \n",
       "1228                                                           \n",
       "\n",
       "     is_terrestrial_biome is_environmental_material  ... MLS_vote  \\\n",
       "0                   FALSE                     FALSE  ...        0   \n",
       "1                   FALSE                     FALSE  ...        0   \n",
       "2                   FALSE                     FALSE  ...        0   \n",
       "3                   FALSE                     FALSE  ...        0   \n",
       "4                   FALSE                     FALSE  ...       -1   \n",
       "...                   ...                       ...  ...      ...   \n",
       "1224                                                 ...            \n",
       "1225                                                 ...            \n",
       "1226                                                 ...            \n",
       "1227                                                 ...            \n",
       "1228                                                 ...            \n",
       "\n",
       "     MLS_comments NMW_vote NMW_comment SM_vote SM_comment  \\\n",
       "0               0                                           \n",
       "1               0                                           \n",
       "2               0                                           \n",
       "3               0                                           \n",
       "4                                                           \n",
       "...           ...      ...         ...     ...        ...   \n",
       "1224                                                        \n",
       "1225                                                        \n",
       "1226                                                        \n",
       "1227                                                        \n",
       "1228                                                        \n",
       "\n",
       "     Yes = 1 No = -1 Maybe = 0 IAA_score vote_sum was_subjected_to_voting  \n",
       "0                            0         1        0                          \n",
       "1                            0         1        0                          \n",
       "2                            0         1        0                          \n",
       "3                            0         1        0                          \n",
       "4                           -3       0.4       -3                          \n",
       "...                        ...       ...      ...                     ...  \n",
       "1224                                 0.4       -2                   FALSE  \n",
       "1225                                 0.4       -2                   FALSE  \n",
       "1226                                 0.4       -2                   FALSE  \n",
       "1227                                 0.4       -2                   FALSE  \n",
       "1228                                 0.4       -2                   FALSE  \n",
       "\n",
       "[1229 rows x 39 columns]"
      ],
      "text/html": [
       "<div>\n",
       "<style scoped>\n",
       "    .dataframe tbody tr th:only-of-type {\n",
       "        vertical-align: middle;\n",
       "    }\n",
       "\n",
       "    .dataframe tbody tr th {\n",
       "        vertical-align: top;\n",
       "    }\n",
       "\n",
       "    .dataframe thead th {\n",
       "        text-align: right;\n",
       "    }\n",
       "</style>\n",
       "<table border=\"1\" class=\"dataframe\">\n",
       "  <thead>\n",
       "    <tr style=\"text-align: right;\">\n",
       "      <th></th>\n",
       "      <th>unique_id</th>\n",
       "      <th>label</th>\n",
       "      <th>all_evidence</th>\n",
       "      <th>is_process</th>\n",
       "      <th>is_quality</th>\n",
       "      <th>is_chemical_entity</th>\n",
       "      <th>is_biome</th>\n",
       "      <th>is_aquatic_biome</th>\n",
       "      <th>is_terrestrial_biome</th>\n",
       "      <th>is_environmental_material</th>\n",
       "      <th>...</th>\n",
       "      <th>MLS_vote</th>\n",
       "      <th>MLS_comments</th>\n",
       "      <th>NMW_vote</th>\n",
       "      <th>NMW_comment</th>\n",
       "      <th>SM_vote</th>\n",
       "      <th>SM_comment</th>\n",
       "      <th>Yes = 1 No = -1 Maybe = 0</th>\n",
       "      <th>IAA_score</th>\n",
       "      <th>vote_sum</th>\n",
       "      <th>was_subjected_to_voting</th>\n",
       "    </tr>\n",
       "  </thead>\n",
       "  <tbody>\n",
       "    <tr>\n",
       "      <th>0</th>\n",
       "      <td>CHEBI:24632</td>\n",
       "      <td>hydrocarbon</td>\n",
       "      <td>0.003288752467</td>\n",
       "      <td>FALSE</td>\n",
       "      <td>FALSE</td>\n",
       "      <td>TRUE</td>\n",
       "      <td>FALSE</td>\n",
       "      <td>FALSE</td>\n",
       "      <td>FALSE</td>\n",
       "      <td>FALSE</td>\n",
       "      <td>...</td>\n",
       "      <td>0</td>\n",
       "      <td>0</td>\n",
       "      <td></td>\n",
       "      <td></td>\n",
       "      <td></td>\n",
       "      <td></td>\n",
       "      <td>0</td>\n",
       "      <td>1</td>\n",
       "      <td>0</td>\n",
       "      <td></td>\n",
       "    </tr>\n",
       "    <tr>\n",
       "      <th>1</th>\n",
       "      <td>CHEBI:24866</td>\n",
       "      <td>salt</td>\n",
       "      <td>0.0001096250822</td>\n",
       "      <td>FALSE</td>\n",
       "      <td>FALSE</td>\n",
       "      <td>TRUE</td>\n",
       "      <td>FALSE</td>\n",
       "      <td>FALSE</td>\n",
       "      <td>FALSE</td>\n",
       "      <td>FALSE</td>\n",
       "      <td>...</td>\n",
       "      <td>0</td>\n",
       "      <td>0</td>\n",
       "      <td></td>\n",
       "      <td></td>\n",
       "      <td></td>\n",
       "      <td></td>\n",
       "      <td>0</td>\n",
       "      <td>1</td>\n",
       "      <td>0</td>\n",
       "      <td></td>\n",
       "    </tr>\n",
       "    <tr>\n",
       "      <th>2</th>\n",
       "      <td>CHEBI:25555</td>\n",
       "      <td>nitrogen atom</td>\n",
       "      <td>0.0006577504933</td>\n",
       "      <td>FALSE</td>\n",
       "      <td>FALSE</td>\n",
       "      <td>TRUE</td>\n",
       "      <td>FALSE</td>\n",
       "      <td>FALSE</td>\n",
       "      <td>FALSE</td>\n",
       "      <td>FALSE</td>\n",
       "      <td>...</td>\n",
       "      <td>0</td>\n",
       "      <td>0</td>\n",
       "      <td></td>\n",
       "      <td></td>\n",
       "      <td></td>\n",
       "      <td></td>\n",
       "      <td>0</td>\n",
       "      <td>1</td>\n",
       "      <td>0</td>\n",
       "      <td></td>\n",
       "    </tr>\n",
       "    <tr>\n",
       "      <th>3</th>\n",
       "      <td>CHEBI:26833</td>\n",
       "      <td>sulfur atom</td>\n",
       "      <td>0.0001096250822</td>\n",
       "      <td>FALSE</td>\n",
       "      <td>FALSE</td>\n",
       "      <td>TRUE</td>\n",
       "      <td>FALSE</td>\n",
       "      <td>FALSE</td>\n",
       "      <td>FALSE</td>\n",
       "      <td>FALSE</td>\n",
       "      <td>...</td>\n",
       "      <td>0</td>\n",
       "      <td>0</td>\n",
       "      <td></td>\n",
       "      <td></td>\n",
       "      <td></td>\n",
       "      <td></td>\n",
       "      <td>0</td>\n",
       "      <td>1</td>\n",
       "      <td>0</td>\n",
       "      <td></td>\n",
       "    </tr>\n",
       "    <tr>\n",
       "      <th>4</th>\n",
       "      <td>CHEBI:33287</td>\n",
       "      <td>fertilizer</td>\n",
       "      <td>0.03672440254</td>\n",
       "      <td>FALSE</td>\n",
       "      <td>FALSE</td>\n",
       "      <td>FALSE</td>\n",
       "      <td>FALSE</td>\n",
       "      <td>FALSE</td>\n",
       "      <td>FALSE</td>\n",
       "      <td>FALSE</td>\n",
       "      <td>...</td>\n",
       "      <td>-1</td>\n",
       "      <td></td>\n",
       "      <td></td>\n",
       "      <td></td>\n",
       "      <td></td>\n",
       "      <td></td>\n",
       "      <td>-3</td>\n",
       "      <td>0.4</td>\n",
       "      <td>-3</td>\n",
       "      <td></td>\n",
       "    </tr>\n",
       "    <tr>\n",
       "      <th>...</th>\n",
       "      <td>...</td>\n",
       "      <td>...</td>\n",
       "      <td>...</td>\n",
       "      <td>...</td>\n",
       "      <td>...</td>\n",
       "      <td>...</td>\n",
       "      <td>...</td>\n",
       "      <td>...</td>\n",
       "      <td>...</td>\n",
       "      <td>...</td>\n",
       "      <td>...</td>\n",
       "      <td>...</td>\n",
       "      <td>...</td>\n",
       "      <td>...</td>\n",
       "      <td>...</td>\n",
       "      <td>...</td>\n",
       "      <td>...</td>\n",
       "      <td>...</td>\n",
       "      <td>...</td>\n",
       "      <td>...</td>\n",
       "      <td>...</td>\n",
       "    </tr>\n",
       "    <tr>\n",
       "      <th>1224</th>\n",
       "      <td>ENVO:00000567</td>\n",
       "      <td>calanque</td>\n",
       "      <td></td>\n",
       "      <td></td>\n",
       "      <td></td>\n",
       "      <td></td>\n",
       "      <td></td>\n",
       "      <td></td>\n",
       "      <td></td>\n",
       "      <td></td>\n",
       "      <td>...</td>\n",
       "      <td></td>\n",
       "      <td></td>\n",
       "      <td></td>\n",
       "      <td></td>\n",
       "      <td></td>\n",
       "      <td></td>\n",
       "      <td></td>\n",
       "      <td>0.4</td>\n",
       "      <td>-2</td>\n",
       "      <td>FALSE</td>\n",
       "    </tr>\n",
       "    <tr>\n",
       "      <th>1225</th>\n",
       "      <td>ENVO:03500004</td>\n",
       "      <td>bike path</td>\n",
       "      <td></td>\n",
       "      <td></td>\n",
       "      <td></td>\n",
       "      <td></td>\n",
       "      <td></td>\n",
       "      <td></td>\n",
       "      <td></td>\n",
       "      <td></td>\n",
       "      <td>...</td>\n",
       "      <td></td>\n",
       "      <td></td>\n",
       "      <td></td>\n",
       "      <td></td>\n",
       "      <td></td>\n",
       "      <td></td>\n",
       "      <td></td>\n",
       "      <td>0.4</td>\n",
       "      <td>-2</td>\n",
       "      <td>FALSE</td>\n",
       "    </tr>\n",
       "    <tr>\n",
       "      <th>1226</th>\n",
       "      <td>ENVO:03501248</td>\n",
       "      <td>overpass</td>\n",
       "      <td></td>\n",
       "      <td></td>\n",
       "      <td></td>\n",
       "      <td></td>\n",
       "      <td></td>\n",
       "      <td></td>\n",
       "      <td></td>\n",
       "      <td></td>\n",
       "      <td>...</td>\n",
       "      <td></td>\n",
       "      <td></td>\n",
       "      <td></td>\n",
       "      <td></td>\n",
       "      <td></td>\n",
       "      <td></td>\n",
       "      <td></td>\n",
       "      <td>0.4</td>\n",
       "      <td>-2</td>\n",
       "      <td>FALSE</td>\n",
       "    </tr>\n",
       "    <tr>\n",
       "      <th>1227</th>\n",
       "      <td>ENVO:00000561</td>\n",
       "      <td>military training area</td>\n",
       "      <td></td>\n",
       "      <td></td>\n",
       "      <td></td>\n",
       "      <td></td>\n",
       "      <td></td>\n",
       "      <td></td>\n",
       "      <td></td>\n",
       "      <td></td>\n",
       "      <td>...</td>\n",
       "      <td></td>\n",
       "      <td></td>\n",
       "      <td></td>\n",
       "      <td></td>\n",
       "      <td></td>\n",
       "      <td></td>\n",
       "      <td></td>\n",
       "      <td>0.4</td>\n",
       "      <td>-2</td>\n",
       "      <td>FALSE</td>\n",
       "    </tr>\n",
       "    <tr>\n",
       "      <th>1228</th>\n",
       "      <td>ENVO:00000075</td>\n",
       "      <td>bridge</td>\n",
       "      <td></td>\n",
       "      <td></td>\n",
       "      <td></td>\n",
       "      <td></td>\n",
       "      <td></td>\n",
       "      <td></td>\n",
       "      <td></td>\n",
       "      <td></td>\n",
       "      <td>...</td>\n",
       "      <td></td>\n",
       "      <td></td>\n",
       "      <td></td>\n",
       "      <td></td>\n",
       "      <td></td>\n",
       "      <td></td>\n",
       "      <td></td>\n",
       "      <td>0.4</td>\n",
       "      <td>-2</td>\n",
       "      <td>FALSE</td>\n",
       "    </tr>\n",
       "  </tbody>\n",
       "</table>\n",
       "<p>1229 rows × 39 columns</p>\n",
       "</div>"
      ]
     },
     "execution_count": 23,
     "metadata": {},
     "output_type": "execute_result"
    }
   ],
   "execution_count": 23
  },
  {
   "metadata": {
    "ExecuteTime": {
     "end_time": "2024-12-17T19:30:51.565096Z",
     "start_time": "2024-12-17T19:30:51.559845Z"
    }
   },
   "cell_type": "code",
   "source": "df.columns",
   "id": "6f65055c62ac12ba",
   "outputs": [
    {
     "data": {
      "text/plain": [
       "Index(['unique_id', 'label', 'all_evidence', 'is_process', 'is_quality',\n",
       "       'is_chemical_entity', 'is_biome', 'is_aquatic_biome',\n",
       "       'is_terrestrial_biome', 'is_environmental_material', 'is_soil',\n",
       "       'is_enriched_soil', 'obsolete', 'non_host_oak_queries_count',\n",
       "       'historical_permissible_values_count', 'NMDC_soil_count',\n",
       "       'NCBI_mims_soil_trusting_CURIe_count',\n",
       "       'NCBI_mims_soil_trusting_labels_count', 'GOLD_env_terr_soil_count',\n",
       "       'non_host_oak_queries_frequency',\n",
       "       'historical_permissible_values_frequency', 'NMDC_soil_frequency',\n",
       "       'NCBI_mims_soil_trusting_CURIe_frequency',\n",
       "       'NCBI_mims_soil_trusting_labels_frequency',\n",
       "       'GOLD_env_terr_soil_frequency', 'CJM_Vote', 'CJM_Comments', 'MAM vote',\n",
       "       'MAM comments', 'MLS_vote', 'MLS_comments', 'NMW_vote', 'NMW_comment',\n",
       "       'SM_vote', 'SM_comment', 'Yes = 1 No = -1 Maybe = 0', 'IAA_score',\n",
       "       'vote_sum', 'was_subjected_to_voting'],\n",
       "      dtype='object')"
      ]
     },
     "execution_count": 24,
     "metadata": {},
     "output_type": "execute_result"
    }
   ],
   "execution_count": 24
  },
  {
   "metadata": {
    "ExecuteTime": {
     "end_time": "2024-12-17T19:30:51.574161Z",
     "start_time": "2024-12-17T19:30:51.566619Z"
    }
   },
   "cell_type": "code",
   "source": [
    "# Convert 'vote_sum' to numeric\n",
    "df['vote_sum'] = pd.to_numeric(df['vote_sum'], errors='coerce')\n",
    "\n",
    "# Convert 'IAA_score' to numeric\n",
    "df['IAA_score'] = pd.to_numeric(df['IAA_score'], errors='coerce') \n"
   ],
   "id": "e0ba6cb94792c984",
   "outputs": [],
   "execution_count": 25
  },
  {
   "metadata": {
    "ExecuteTime": {
     "end_time": "2024-12-17T19:30:51.582326Z",
     "start_time": "2024-12-17T19:30:51.576228Z"
    }
   },
   "cell_type": "code",
   "source": [
    "# Add jitter to 'vote_sum' and 'IAA_score'\n",
    "df['vote_sum_jittered'] = df['vote_sum'] + np.random.normal(0, 0.1, size=len(df))\n",
    "df['IAA_score_jittered'] = df['IAA_score'] + np.random.normal(0, 0.01, size=len(df))\n"
   ],
   "id": "8efc2dffcf2aa1b9",
   "outputs": [],
   "execution_count": 26
  },
  {
   "metadata": {
    "ExecuteTime": {
     "end_time": "2024-12-17T19:30:51.808730Z",
     "start_time": "2024-12-17T19:30:51.584288Z"
    }
   },
   "cell_type": "code",
   "source": [
    "# Scatter plot with jittered values\n",
    "plt.figure(figsize=(8, 6))\n",
    "plt.scatter(df['vote_sum_jittered'], df['IAA_score_jittered'], alpha=0.5)\n",
    "plt.xlabel('Vote Sum (Jittered)')\n",
    "plt.ylabel('IAA Score (Jittered)')\n",
    "plt.title('Scatter Plot of Vote Sum vs. IAA Score with Jitter')\n",
    "plt.grid(True)\n",
    "plt.show()"
   ],
   "id": "839fbdb2afd784f4",
   "outputs": [
    {
     "data": {
      "text/plain": [
       "<Figure size 800x600 with 1 Axes>"
      ],
      "image/png": "[encoded data removed]"
     },
     "metadata": {},
     "output_type": "display_data"
    }
   ],
   "execution_count": 27
  },
  {
   "metadata": {
    "ExecuteTime": {
     "end_time": "2024-12-17T19:30:51.824835Z",
     "start_time": "2024-12-17T19:30:51.817606Z"
    }
   },
   "cell_type": "code",
   "source": [
    "# Group by 'vote_sum' and 'IAA_score' and count the occurrences\n",
    "count_table = df.groupby(['vote_sum', 'IAA_score']).size().reset_index(name='count')"
   ],
   "id": "f7f5da11648d5886",
   "outputs": [],
   "execution_count": 28
  },
  {
   "metadata": {
    "ExecuteTime": {
     "end_time": "2024-12-17T19:30:51.835447Z",
     "start_time": "2024-12-17T19:30:51.826571Z"
    }
   },
   "cell_type": "code",
   "source": "count_table",
   "id": "bc7499dfc4af91e0",
   "outputs": [
    {
     "data": {
      "text/plain": [
       "   vote_sum  IAA_score  count\n",
       "0        -3        0.4     56\n",
       "1        -2        0.4    404\n",
       "2        -1        0.2     54\n",
       "3        -1        0.6     51\n",
       "4         0        0.3     72\n",
       "5         0        1.0    509\n",
       "6         1        0.2     34\n",
       "7         1        0.6     21\n",
       "8         2        0.4     14\n",
       "9         3        0.4     14"
      ],
      "text/html": [
       "<div>\n",
       "<style scoped>\n",
       "    .dataframe tbody tr th:only-of-type {\n",
       "        vertical-align: middle;\n",
       "    }\n",
       "\n",
       "    .dataframe tbody tr th {\n",
       "        vertical-align: top;\n",
       "    }\n",
       "\n",
       "    .dataframe thead th {\n",
       "        text-align: right;\n",
       "    }\n",
       "</style>\n",
       "<table border=\"1\" class=\"dataframe\">\n",
       "  <thead>\n",
       "    <tr style=\"text-align: right;\">\n",
       "      <th></th>\n",
       "      <th>vote_sum</th>\n",
       "      <th>IAA_score</th>\n",
       "      <th>count</th>\n",
       "    </tr>\n",
       "  </thead>\n",
       "  <tbody>\n",
       "    <tr>\n",
       "      <th>0</th>\n",
       "      <td>-3</td>\n",
       "      <td>0.4</td>\n",
       "      <td>56</td>\n",
       "    </tr>\n",
       "    <tr>\n",
       "      <th>1</th>\n",
       "      <td>-2</td>\n",
       "      <td>0.4</td>\n",
       "      <td>404</td>\n",
       "    </tr>\n",
       "    <tr>\n",
       "      <th>2</th>\n",
       "      <td>-1</td>\n",
       "      <td>0.2</td>\n",
       "      <td>54</td>\n",
       "    </tr>\n",
       "    <tr>\n",
       "      <th>3</th>\n",
       "      <td>-1</td>\n",
       "      <td>0.6</td>\n",
       "      <td>51</td>\n",
       "    </tr>\n",
       "    <tr>\n",
       "      <th>4</th>\n",
       "      <td>0</td>\n",
       "      <td>0.3</td>\n",
       "      <td>72</td>\n",
       "    </tr>\n",
       "    <tr>\n",
       "      <th>5</th>\n",
       "      <td>0</td>\n",
       "      <td>1.0</td>\n",
       "      <td>509</td>\n",
       "    </tr>\n",
       "    <tr>\n",
       "      <th>6</th>\n",
       "      <td>1</td>\n",
       "      <td>0.2</td>\n",
       "      <td>34</td>\n",
       "    </tr>\n",
       "    <tr>\n",
       "      <th>7</th>\n",
       "      <td>1</td>\n",
       "      <td>0.6</td>\n",
       "      <td>21</td>\n",
       "    </tr>\n",
       "    <tr>\n",
       "      <th>8</th>\n",
       "      <td>2</td>\n",
       "      <td>0.4</td>\n",
       "      <td>14</td>\n",
       "    </tr>\n",
       "    <tr>\n",
       "      <th>9</th>\n",
       "      <td>3</td>\n",
       "      <td>0.4</td>\n",
       "      <td>14</td>\n",
       "    </tr>\n",
       "  </tbody>\n",
       "</table>\n",
       "</div>"
      ]
     },
     "execution_count": 29,
     "metadata": {},
     "output_type": "execute_result"
    }
   ],
   "execution_count": 29
  },
  {
   "metadata": {
    "ExecuteTime": {
     "end_time": "2024-12-17T19:30:51.841330Z",
     "start_time": "2024-12-17T19:30:51.837233Z"
    }
   },
   "cell_type": "code",
   "source": "vote_sum_threshold",
   "id": "ae64885520e35c11",
   "outputs": [
    {
     "data": {
      "text/plain": [
       "1"
      ]
     },
     "execution_count": 30,
     "metadata": {},
     "output_type": "execute_result"
    }
   ],
   "execution_count": 30
  },
  {
   "metadata": {
    "ExecuteTime": {
     "end_time": "2024-12-17T19:30:51.846996Z",
     "start_time": "2024-12-17T19:30:51.843302Z"
    }
   },
   "cell_type": "code",
   "source": "IAA_score_threshold",
   "id": "b1308a6c17aa595f",
   "outputs": [
    {
     "data": {
      "text/plain": [
       "0.0"
      ]
     },
     "execution_count": 31,
     "metadata": {},
     "output_type": "execute_result"
    }
   ],
   "execution_count": 31
  },
  {
   "metadata": {
    "ExecuteTime": {
     "end_time": "2024-12-17T19:30:51.852997Z",
     "start_time": "2024-12-17T19:30:51.848699Z"
    }
   },
   "cell_type": "code",
   "source": [
    "# Create the derived DataFrame\n",
    "vote_filtered_df = df[(df['vote_sum'] >= vote_sum_threshold) & (df['IAA_score'] >= IAA_score_threshold)]"
   ],
   "id": "5ab075aba664b818",
   "outputs": [],
   "execution_count": 32
  },
  {
   "metadata": {
    "ExecuteTime": {
     "end_time": "2024-12-17T19:30:51.881692Z",
     "start_time": "2024-12-17T19:30:51.854483Z"
    }
   },
   "cell_type": "code",
   "source": "vote_filtered_df",
   "id": "30968dcada688cb2",
   "outputs": [
    {
     "data": {
      "text/plain": [
       "          unique_id                    label    all_evidence is_process  \\\n",
       "18    ENVO:00000011                   garden    0.1188080752      FALSE   \n",
       "20    ENVO:00000014                    canal   0.00885439641      FALSE   \n",
       "24    ENVO:00000020                     lake   0.02299603202      FALSE   \n",
       "26    ENVO:00000022                    river    0.0144452756      FALSE   \n",
       "27    ENVO:00000023                   stream  0.008964021492      FALSE   \n",
       "...             ...                      ...             ...        ...   \n",
       "1060  ENVO:01001568              frost heave   0.00885439641      FALSE   \n",
       "1072  ENVO:01001803          tropical forest   0.04140378549      FALSE   \n",
       "1115  ENVO:03000117                  channel   0.01770879282      FALSE   \n",
       "1119  ENVO:03500005     anthropogenic litter   0.00885439641      FALSE   \n",
       "1141  ENVO:04000009  active permafrost layer   0.02669271407      FALSE   \n",
       "\n",
       "     is_quality is_chemical_entity is_biome is_aquatic_biome  \\\n",
       "18        FALSE              FALSE    FALSE            FALSE   \n",
       "20        FALSE              FALSE    FALSE            FALSE   \n",
       "24        FALSE              FALSE    FALSE            FALSE   \n",
       "26        FALSE              FALSE    FALSE            FALSE   \n",
       "27        FALSE              FALSE    FALSE            FALSE   \n",
       "...         ...                ...      ...              ...   \n",
       "1060      FALSE              FALSE    FALSE            FALSE   \n",
       "1072      FALSE              FALSE    FALSE            FALSE   \n",
       "1115      FALSE              FALSE    FALSE            FALSE   \n",
       "1119      FALSE              FALSE    FALSE            FALSE   \n",
       "1141      FALSE              FALSE    FALSE            FALSE   \n",
       "\n",
       "     is_terrestrial_biome is_environmental_material  ... NMW_vote NMW_comment  \\\n",
       "18                  FALSE                     FALSE  ...                        \n",
       "20                  FALSE                     FALSE  ...                        \n",
       "24                  FALSE                     FALSE  ...                        \n",
       "26                  FALSE                     FALSE  ...                        \n",
       "27                  FALSE                     FALSE  ...                        \n",
       "...                   ...                       ...  ...      ...         ...   \n",
       "1060                FALSE                     FALSE  ...                        \n",
       "1072                FALSE                     FALSE  ...                        \n",
       "1115                FALSE                     FALSE  ...                        \n",
       "1119                FALSE                     FALSE  ...                        \n",
       "1141                FALSE                     FALSE  ...                        \n",
       "\n",
       "     SM_vote SM_comment Yes = 1 No = -1 Maybe = 0 IAA_score vote_sum  \\\n",
       "18                                              1       0.2        1   \n",
       "20                                              1       0.6        1   \n",
       "24                                              1       0.6        1   \n",
       "26                                              3       0.4        3   \n",
       "27                                              2       0.4        2   \n",
       "...      ...        ...                       ...       ...      ...   \n",
       "1060                                            1       0.6        1   \n",
       "1072                                            1       0.2        1   \n",
       "1115                                            2       0.4        2   \n",
       "1119                                            1       0.6        1   \n",
       "1141                                            3       0.4        3   \n",
       "\n",
       "     was_subjected_to_voting vote_sum_jittered IAA_score_jittered  \n",
       "18                                    1.007123           0.200126  \n",
       "20                                    1.011190           0.603547  \n",
       "24                                    0.910182           0.606951  \n",
       "26                                    2.990582           0.401571  \n",
       "27                                    1.905009           0.403827  \n",
       "...                      ...               ...                ...  \n",
       "1060                                  1.237414           0.599029  \n",
       "1072                                  1.026524           0.225960  \n",
       "1115                                  2.027095           0.397394  \n",
       "1119                                  1.136028           0.602705  \n",
       "1141                                  2.886132           0.398544  \n",
       "\n",
       "[83 rows x 41 columns]"
      ],
      "text/html": [
       "<div>\n",
       "<style scoped>\n",
       "    .dataframe tbody tr th:only-of-type {\n",
       "        vertical-align: middle;\n",
       "    }\n",
       "\n",
       "    .dataframe tbody tr th {\n",
       "        vertical-align: top;\n",
       "    }\n",
       "\n",
       "    .dataframe thead th {\n",
       "        text-align: right;\n",
       "    }\n",
       "</style>\n",
       "<table border=\"1\" class=\"dataframe\">\n",
       "  <thead>\n",
       "    <tr style=\"text-align: right;\">\n",
       "      <th></th>\n",
       "      <th>unique_id</th>\n",
       "      <th>label</th>\n",
       "      <th>all_evidence</th>\n",
       "      <th>is_process</th>\n",
       "      <th>is_quality</th>\n",
       "      <th>is_chemical_entity</th>\n",
       "      <th>is_biome</th>\n",
       "      <th>is_aquatic_biome</th>\n",
       "      <th>is_terrestrial_biome</th>\n",
       "      <th>is_environmental_material</th>\n",
       "      <th>...</th>\n",
       "      <th>NMW_vote</th>\n",
       "      <th>NMW_comment</th>\n",
       "      <th>SM_vote</th>\n",
       "      <th>SM_comment</th>\n",
       "      <th>Yes = 1 No = -1 Maybe = 0</th>\n",
       "      <th>IAA_score</th>\n",
       "      <th>vote_sum</th>\n",
       "      <th>was_subjected_to_voting</th>\n",
       "      <th>vote_sum_jittered</th>\n",
       "      <th>IAA_score_jittered</th>\n",
       "    </tr>\n",
       "  </thead>\n",
       "  <tbody>\n",
       "    <tr>\n",
       "      <th>18</th>\n",
       "      <td>ENVO:00000011</td>\n",
       "      <td>garden</td>\n",
       "      <td>0.1188080752</td>\n",
       "      <td>FALSE</td>\n",
       "      <td>FALSE</td>\n",
       "      <td>FALSE</td>\n",
       "      <td>FALSE</td>\n",
       "      <td>FALSE</td>\n",
       "      <td>FALSE</td>\n",
       "      <td>FALSE</td>\n",
       "      <td>...</td>\n",
       "      <td></td>\n",
       "      <td></td>\n",
       "      <td></td>\n",
       "      <td></td>\n",
       "      <td>1</td>\n",
       "      <td>0.2</td>\n",
       "      <td>1</td>\n",
       "      <td></td>\n",
       "      <td>1.007123</td>\n",
       "      <td>0.200126</td>\n",
       "    </tr>\n",
       "    <tr>\n",
       "      <th>20</th>\n",
       "      <td>ENVO:00000014</td>\n",
       "      <td>canal</td>\n",
       "      <td>0.00885439641</td>\n",
       "      <td>FALSE</td>\n",
       "      <td>FALSE</td>\n",
       "      <td>FALSE</td>\n",
       "      <td>FALSE</td>\n",
       "      <td>FALSE</td>\n",
       "      <td>FALSE</td>\n",
       "      <td>FALSE</td>\n",
       "      <td>...</td>\n",
       "      <td></td>\n",
       "      <td></td>\n",
       "      <td></td>\n",
       "      <td></td>\n",
       "      <td>1</td>\n",
       "      <td>0.6</td>\n",
       "      <td>1</td>\n",
       "      <td></td>\n",
       "      <td>1.011190</td>\n",
       "      <td>0.603547</td>\n",
       "    </tr>\n",
       "    <tr>\n",
       "      <th>24</th>\n",
       "      <td>ENVO:00000020</td>\n",
       "      <td>lake</td>\n",
       "      <td>0.02299603202</td>\n",
       "      <td>FALSE</td>\n",
       "      <td>FALSE</td>\n",
       "      <td>FALSE</td>\n",
       "      <td>FALSE</td>\n",
       "      <td>FALSE</td>\n",
       "      <td>FALSE</td>\n",
       "      <td>FALSE</td>\n",
       "      <td>...</td>\n",
       "      <td></td>\n",
       "      <td></td>\n",
       "      <td></td>\n",
       "      <td></td>\n",
       "      <td>1</td>\n",
       "      <td>0.6</td>\n",
       "      <td>1</td>\n",
       "      <td></td>\n",
       "      <td>0.910182</td>\n",
       "      <td>0.606951</td>\n",
       "    </tr>\n",
       "    <tr>\n",
       "      <th>26</th>\n",
       "      <td>ENVO:00000022</td>\n",
       "      <td>river</td>\n",
       "      <td>0.0144452756</td>\n",
       "      <td>FALSE</td>\n",
       "      <td>FALSE</td>\n",
       "      <td>FALSE</td>\n",
       "      <td>FALSE</td>\n",
       "      <td>FALSE</td>\n",
       "      <td>FALSE</td>\n",
       "      <td>FALSE</td>\n",
       "      <td>...</td>\n",
       "      <td></td>\n",
       "      <td></td>\n",
       "      <td></td>\n",
       "      <td></td>\n",
       "      <td>3</td>\n",
       "      <td>0.4</td>\n",
       "      <td>3</td>\n",
       "      <td></td>\n",
       "      <td>2.990582</td>\n",
       "      <td>0.401571</td>\n",
       "    </tr>\n",
       "    <tr>\n",
       "      <th>27</th>\n",
       "      <td>ENVO:00000023</td>\n",
       "      <td>stream</td>\n",
       "      <td>0.008964021492</td>\n",
       "      <td>FALSE</td>\n",
       "      <td>FALSE</td>\n",
       "      <td>FALSE</td>\n",
       "      <td>FALSE</td>\n",
       "      <td>FALSE</td>\n",
       "      <td>FALSE</td>\n",
       "      <td>FALSE</td>\n",
       "      <td>...</td>\n",
       "      <td></td>\n",
       "      <td></td>\n",
       "      <td></td>\n",
       "      <td></td>\n",
       "      <td>2</td>\n",
       "      <td>0.4</td>\n",
       "      <td>2</td>\n",
       "      <td></td>\n",
       "      <td>1.905009</td>\n",
       "      <td>0.403827</td>\n",
       "    </tr>\n",
       "    <tr>\n",
       "      <th>...</th>\n",
       "      <td>...</td>\n",
       "      <td>...</td>\n",
       "      <td>...</td>\n",
       "      <td>...</td>\n",
       "      <td>...</td>\n",
       "      <td>...</td>\n",
       "      <td>...</td>\n",
       "      <td>...</td>\n",
       "      <td>...</td>\n",
       "      <td>...</td>\n",
       "      <td>...</td>\n",
       "      <td>...</td>\n",
       "      <td>...</td>\n",
       "      <td>...</td>\n",
       "      <td>...</td>\n",
       "      <td>...</td>\n",
       "      <td>...</td>\n",
       "      <td>...</td>\n",
       "      <td>...</td>\n",
       "      <td>...</td>\n",
       "      <td>...</td>\n",
       "    </tr>\n",
       "    <tr>\n",
       "      <th>1060</th>\n",
       "      <td>ENVO:01001568</td>\n",
       "      <td>frost heave</td>\n",
       "      <td>0.00885439641</td>\n",
       "      <td>FALSE</td>\n",
       "      <td>FALSE</td>\n",
       "      <td>FALSE</td>\n",
       "      <td>FALSE</td>\n",
       "      <td>FALSE</td>\n",
       "      <td>FALSE</td>\n",
       "      <td>FALSE</td>\n",
       "      <td>...</td>\n",
       "      <td></td>\n",
       "      <td></td>\n",
       "      <td></td>\n",
       "      <td></td>\n",
       "      <td>1</td>\n",
       "      <td>0.6</td>\n",
       "      <td>1</td>\n",
       "      <td></td>\n",
       "      <td>1.237414</td>\n",
       "      <td>0.599029</td>\n",
       "    </tr>\n",
       "    <tr>\n",
       "      <th>1072</th>\n",
       "      <td>ENVO:01001803</td>\n",
       "      <td>tropical forest</td>\n",
       "      <td>0.04140378549</td>\n",
       "      <td>FALSE</td>\n",
       "      <td>FALSE</td>\n",
       "      <td>FALSE</td>\n",
       "      <td>FALSE</td>\n",
       "      <td>FALSE</td>\n",
       "      <td>FALSE</td>\n",
       "      <td>FALSE</td>\n",
       "      <td>...</td>\n",
       "      <td></td>\n",
       "      <td></td>\n",
       "      <td></td>\n",
       "      <td></td>\n",
       "      <td>1</td>\n",
       "      <td>0.2</td>\n",
       "      <td>1</td>\n",
       "      <td></td>\n",
       "      <td>1.026524</td>\n",
       "      <td>0.225960</td>\n",
       "    </tr>\n",
       "    <tr>\n",
       "      <th>1115</th>\n",
       "      <td>ENVO:03000117</td>\n",
       "      <td>channel</td>\n",
       "      <td>0.01770879282</td>\n",
       "      <td>FALSE</td>\n",
       "      <td>FALSE</td>\n",
       "      <td>FALSE</td>\n",
       "      <td>FALSE</td>\n",
       "      <td>FALSE</td>\n",
       "      <td>FALSE</td>\n",
       "      <td>FALSE</td>\n",
       "      <td>...</td>\n",
       "      <td></td>\n",
       "      <td></td>\n",
       "      <td></td>\n",
       "      <td></td>\n",
       "      <td>2</td>\n",
       "      <td>0.4</td>\n",
       "      <td>2</td>\n",
       "      <td></td>\n",
       "      <td>2.027095</td>\n",
       "      <td>0.397394</td>\n",
       "    </tr>\n",
       "    <tr>\n",
       "      <th>1119</th>\n",
       "      <td>ENVO:03500005</td>\n",
       "      <td>anthropogenic litter</td>\n",
       "      <td>0.00885439641</td>\n",
       "      <td>FALSE</td>\n",
       "      <td>FALSE</td>\n",
       "      <td>FALSE</td>\n",
       "      <td>FALSE</td>\n",
       "      <td>FALSE</td>\n",
       "      <td>FALSE</td>\n",
       "      <td>FALSE</td>\n",
       "      <td>...</td>\n",
       "      <td></td>\n",
       "      <td></td>\n",
       "      <td></td>\n",
       "      <td></td>\n",
       "      <td>1</td>\n",
       "      <td>0.6</td>\n",
       "      <td>1</td>\n",
       "      <td></td>\n",
       "      <td>1.136028</td>\n",
       "      <td>0.602705</td>\n",
       "    </tr>\n",
       "    <tr>\n",
       "      <th>1141</th>\n",
       "      <td>ENVO:04000009</td>\n",
       "      <td>active permafrost layer</td>\n",
       "      <td>0.02669271407</td>\n",
       "      <td>FALSE</td>\n",
       "      <td>FALSE</td>\n",
       "      <td>FALSE</td>\n",
       "      <td>FALSE</td>\n",
       "      <td>FALSE</td>\n",
       "      <td>FALSE</td>\n",
       "      <td>FALSE</td>\n",
       "      <td>...</td>\n",
       "      <td></td>\n",
       "      <td></td>\n",
       "      <td></td>\n",
       "      <td></td>\n",
       "      <td>3</td>\n",
       "      <td>0.4</td>\n",
       "      <td>3</td>\n",
       "      <td></td>\n",
       "      <td>2.886132</td>\n",
       "      <td>0.398544</td>\n",
       "    </tr>\n",
       "  </tbody>\n",
       "</table>\n",
       "<p>83 rows × 41 columns</p>\n",
       "</div>"
      ]
     },
     "execution_count": 33,
     "metadata": {},
     "output_type": "execute_result"
    }
   ],
   "execution_count": 33
  },
  {
   "metadata": {},
   "cell_type": "markdown",
   "source": "Now compare the voted-in classes with the ones that were locked into the v11.2 EnvLocalScaleSoilEnum by Mark's overly-clever code",
   "id": "13294959de026158"
  },
  {
   "metadata": {
    "ExecuteTime": {
     "end_time": "2024-12-17T19:30:55.964856Z",
     "start_time": "2024-12-17T19:30:51.883831Z"
    }
   },
   "cell_type": "code",
   "source": "schema_with_mam_biased_sels_url = SchemaView(schema_with_mam_biased_sels_url)",
   "id": "df9b5ae2e75c750a",
   "outputs": [],
   "execution_count": 34
  },
  {
   "metadata": {
    "ExecuteTime": {
     "end_time": "2024-12-17T19:30:55.969934Z",
     "start_time": "2024-12-17T19:30:55.966270Z"
    }
   },
   "cell_type": "code",
   "source": "mam_biased_sels_enum = schema_with_mam_biased_sels_url.get_enum(sels_enum_name)",
   "id": "2fad836d09da2964",
   "outputs": [],
   "execution_count": 35
  },
  {
   "metadata": {
    "ExecuteTime": {
     "end_time": "2024-12-17T19:30:55.974142Z",
     "start_time": "2024-12-17T19:30:55.971595Z"
    }
   },
   "cell_type": "code",
   "source": "mam_biased_sels_enum_pvs = list(mam_biased_sels_enum.permissible_values.keys())",
   "id": "ad3aa2bec37edf5c",
   "outputs": [],
   "execution_count": 36
  },
  {
   "metadata": {
    "ExecuteTime": {
     "end_time": "2024-12-17T19:30:55.979245Z",
     "start_time": "2024-12-17T19:30:55.975767Z"
    }
   },
   "cell_type": "code",
   "source": [
    "mam_biased_curie_label_dict = {}\n",
    "for label_with_curie in mam_biased_sels_enum_pvs:\n",
    "    match = re.search(r'(.*?) \\[(.*?)\\]', label_with_curie)  # Extract label and curie\n",
    "    if match:\n",
    "        label = match.group(1)\n",
    "        curie = match.group(2)\n",
    "        mam_biased_curie_label_dict[curie] = label\n"
   ],
   "id": "ed1819f36b9b6acd",
   "outputs": [],
   "execution_count": 37
  },
  {
   "metadata": {
    "ExecuteTime": {
     "end_time": "2024-12-17T19:30:55.983707Z",
     "start_time": "2024-12-17T19:30:55.980642Z"
    }
   },
   "cell_type": "code",
   "source": [
    "# Create the curie dictionary from filtered_df\n",
    "votes_only_dict = dict(zip(vote_filtered_df['unique_id'], vote_filtered_df['label']))"
   ],
   "id": "1841902201bd6fdb",
   "outputs": [],
   "execution_count": 38
  },
  {
   "metadata": {
    "ExecuteTime": {
     "end_time": "2024-12-17T19:30:55.988207Z",
     "start_time": "2024-12-17T19:30:55.985282Z"
    }
   },
   "cell_type": "code",
   "source": "input_data = {'MAM biased': mam_biased_curie_label_dict, 'Votes': votes_only_dict}",
   "id": "7d73d9c477023816",
   "outputs": [],
   "execution_count": 39
  },
  {
   "metadata": {
    "ExecuteTime": {
     "end_time": "2024-12-17T19:30:55.992583Z",
     "start_time": "2024-12-17T19:30:55.989642Z"
    }
   },
   "cell_type": "code",
   "source": "pvs_analysis = compare_curie_dicts(input_data)",
   "id": "6c878291e42a7a82",
   "outputs": [],
   "execution_count": 40
  },
  {
   "metadata": {},
   "cell_type": "markdown",
   "source": [
    "This dictionary shows the classes that were included in \n",
    "- the v11.2 EnvLocalScaleSoilEnum by Mark's overly-clever code only\n",
    "- the in-voted classes only\n",
    "- the intersection of those two sets"
   ],
   "id": "65bf388d52388fcf"
  },
  {
   "metadata": {
    "ExecuteTime": {
     "end_time": "2024-12-17T19:30:55.999635Z",
     "start_time": "2024-12-17T19:30:55.993896Z"
    }
   },
   "cell_type": "code",
   "source": "pprint.pprint(pvs_analysis)",
   "id": "29012dc9c5f42905",
   "outputs": [
    {
     "name": "stdout",
     "output_type": "stream",
     "text": [
      "{'MAM biased only': {'ENVO:00000064': 'road',\n",
      "                     'ENVO:00000074': 'dam',\n",
      "                     'ENVO:00000100': 'valley',\n",
      "                     'ENVO:00000108': 'meadow ecosystem',\n",
      "                     'ENVO:00000127': 'badland',\n",
      "                     'ENVO:00000169': 'canyon',\n",
      "                     'ENVO:00000177': 'moraine',\n",
      "                     'ENVO:00000181': 'nunatak',\n",
      "                     'ENVO:00000276': 'drumlin',\n",
      "                     'ENVO:00000277': 'dry lake',\n",
      "                     'ENVO:00000280': 'escarpment',\n",
      "                     'ENVO:00000282': 'esker',\n",
      "                     'ENVO:00000300': 'scrubland area',\n",
      "                     'ENVO:00000304': 'shore',\n",
      "                     'ENVO:00000320': 'crevasse',\n",
      "                     'ENVO:00000325': 'polje',\n",
      "                     'ENVO:00000370': 'tuya',\n",
      "                     'ENVO:00000410': 'kipuka',\n",
      "                     'ENVO:00000417': 'machair',\n",
      "                     'ENVO:00000418': 'ria',\n",
      "                     'ENVO:00000419': 'stack',\n",
      "                     'ENVO:00000432': 'monadnock',\n",
      "                     'ENVO:00000438': 'alas',\n",
      "                     'ENVO:00000444': 'woodland clearing',\n",
      "                     'ENVO:00000496': 'rill',\n",
      "                     'ENVO:00000508': 'terrace',\n",
      "                     'ENVO:00000542': 'kame',\n",
      "                     'ENVO:00000543': 'swale',\n",
      "                     'ENVO:00000545': 'shingle beach',\n",
      "                     'ENVO:00000551': 'endorheic basin',\n",
      "                     'ENVO:00001996': 'mine drainage',\n",
      "                     'ENVO:01000446': 'ravine',\n",
      "                     'ENVO:01000649': 'trench',\n",
      "                     'ENVO:01000935': 'campground',\n",
      "                     'ENVO:01001207': 'ranch',\n",
      "                     'ENVO:01001489': 'spur',\n",
      "                     'ENVO:01001665': 'soil cryoturbate',\n",
      "                     'ENVO:01001871': 'pit',\n",
      "                     'ENVO:02000141': 'refinery',\n",
      "                     'ENVO:03000085': 'thermokarst',\n",
      "                     'ENVO:03000143': 'cryosphere',\n",
      "                     'ENVO:03501239': 'riverfront',\n",
      "                     'ENVO:03600087': 'greenhouse'},\n",
      " 'Votes only': {'ENVO:00000014': 'canal',\n",
      "                'ENVO:00000020': 'lake',\n",
      "                'ENVO:00000025': 'reservoir',\n",
      "                'ENVO:00000037': 'ditch',\n",
      "                'ENVO:00000043': 'wetland area',\n",
      "                'ENVO:00000045': 'estuary',\n",
      "                'ENVO:00000051': 'hot spring',\n",
      "                'ENVO:00000057': 'mangrove swamp',\n",
      "                'ENVO:00000101': 'delta',\n",
      "                'ENVO:00000109': 'woodland area',\n",
      "                'ENVO:00000114': 'agricultural field',\n",
      "                'ENVO:00000141': 'bank',\n",
      "                'ENVO:00000178': 'levee',\n",
      "                'ENVO:00000189': 'peat swamp',\n",
      "                'ENVO:00000192': 'mudflat',\n",
      "                'ENVO:00000305': 'peninsula',\n",
      "                'ENVO:00000316': 'intertidal zone',\n",
      "                'ENVO:00000328': 'vadose zone',\n",
      "                'ENVO:00000486': 'shoreline',\n",
      "                'ENVO:00005803': 'animal habitation',\n",
      "                'ENVO:00012408': 'aquifer',\n",
      "                'ENVO:01000433': 'needleleaf forest',\n",
      "                'ENVO:01000447': 'roadside',\n",
      "                'ENVO:01000671': 'dike',\n",
      "                'ENVO:01000816': 'area of deciduous forest',\n",
      "                'ENVO:01000843': 'area of evergreen forest',\n",
      "                'ENVO:01000861': 'area of dwarf scrub',\n",
      "                'ENVO:01000891': 'area of pastureland or hayfields',\n",
      "                'ENVO:01000892': 'area of cropland',\n",
      "                'ENVO:01001803': 'tropical forest',\n",
      "                'ENVO:03500005': 'anthropogenic litter'},\n",
      " 'shared': {'ENVO:00000011': 'garden',\n",
      "            'ENVO:00000022': 'river',\n",
      "            'ENVO:00000023': 'stream',\n",
      "            'ENVO:00000026': 'well',\n",
      "            'ENVO:00000027': 'spring',\n",
      "            'ENVO:00000031': 'wadi',\n",
      "            'ENVO:00000035': 'marsh',\n",
      "            'ENVO:00000039': 'fjord',\n",
      "            'ENVO:00000044': 'peatland',\n",
      "            'ENVO:00000067': 'cave',\n",
      "            'ENVO:00000068': 'tunnel',\n",
      "            'ENVO:00000076': 'mine',\n",
      "            'ENVO:00000078': 'farm',\n",
      "            'ENVO:00000081': 'mountain',\n",
      "            'ENVO:00000083': 'hill',\n",
      "            'ENVO:00000086': 'plain',\n",
      "            'ENVO:00000087': 'cliff',\n",
      "            'ENVO:00000091': 'beach',\n",
      "            'ENVO:00000096': 'caldera',\n",
      "            'ENVO:00000133': 'glacier',\n",
      "            'ENVO:00000155': 'cirque',\n",
      "            'ENVO:00000170': 'dune',\n",
      "            'ENVO:00000174': 'isthmus',\n",
      "            'ENVO:00000175': 'karst',\n",
      "            'ENVO:00000179': 'mesa',\n",
      "            'ENVO:00000182': 'plateau',\n",
      "            'ENVO:00000195': 'sinkhole',\n",
      "            'ENVO:00000216': 'fumarole',\n",
      "            'ENVO:00000232': 'fen',\n",
      "            'ENVO:00000247': 'volcano',\n",
      "            'ENVO:00000255': 'flood plain',\n",
      "            'ENVO:00000260': 'prairie',\n",
      "            'ENVO:00000262': 'steppe',\n",
      "            'ENVO:00000266': 'pasture',\n",
      "            'ENVO:00000283': 'ridge',\n",
      "            'ENVO:00000284': 'quarry',\n",
      "            'ENVO:00000287': 'butte',\n",
      "            'ENVO:00000291': 'drainage basin',\n",
      "            'ENVO:00000292': 'watershed',\n",
      "            'ENVO:00000463': 'harbour',\n",
      "            'ENVO:00000489': 'palsa',\n",
      "            'ENVO:00000514': 'crater',\n",
      "            'ENVO:00000516': 'hummock',\n",
      "            'ENVO:00000533': 'landfill',\n",
      "            'ENVO:00000562': 'park',\n",
      "            'ENVO:00002000': 'slope',\n",
      "            'ENVO:00002061': 'oil spill',\n",
      "            'ENVO:00005801': 'rhizosphere',\n",
      "            'ENVO:01001357': 'desert',\n",
      "            'ENVO:01001568': 'frost heave',\n",
      "            'ENVO:03000117': 'channel',\n",
      "            'ENVO:04000009': 'active permafrost layer'}}\n"
     ]
    }
   ],
   "execution_count": 41
  },
  {
   "metadata": {},
   "cell_type": "markdown",
   "source": [
    "Are all of the in-voted classes astronomic body parts?\n",
    "\n",
    "Or are some environmental systems? Or something else? None of that is indiciated on the voting sheet.\n"
   ],
   "id": "81b495edeeabb423"
  },
  {
   "metadata": {
    "ExecuteTime": {
     "end_time": "2024-12-17T19:30:56.267848Z",
     "start_time": "2024-12-17T19:30:56.001095Z"
    }
   },
   "cell_type": "code",
   "source": "ancestor_frame = tabulate_core_ancestor_counts(list(votes_only_dict.keys()), envo_adapter)",
   "id": "34d74a0f41abfdbf",
   "outputs": [],
   "execution_count": 42
  },
  {
   "metadata": {
    "ExecuteTime": {
     "end_time": "2024-12-17T19:30:56.279457Z",
     "start_time": "2024-12-17T19:30:56.269724Z"
    }
   },
   "cell_type": "code",
   "source": [
    "ancestor_frame\n",
    "\n",
    "# there are limits to how useful this is for picking a root for ELS"
   ],
   "id": "c2ae21965ff56521",
   "outputs": [
    {
     "data": {
      "text/plain": [
       "             index             ancestor_curie_label ancestor_curie_count\n",
       "4      BFO:0000040                  material entity                   82\n",
       "7    ENVO:01000813           astronomical body part                   70\n",
       "16   ENVO:01001784  compound astronomical body part                   46\n",
       "27   ENVO:00000191     solid astronomical body part                   39\n",
       "29   ENVO:01001886                         landform                   35\n",
       "..             ...                              ...                  ...\n",
       "72   ENVO:00000096                          caldera                    2\n",
       "69   ENVO:00000087                            cliff                    2\n",
       "64   ENVO:00000081                         mountain                    2\n",
       "63   ENVO:01001828            anthropised ecosystem                    2\n",
       "158  ENVO:04000009          active permafrost layer                    2\n",
       "\n",
       "[127 rows x 3 columns]"
      ],
      "text/html": [
       "<div>\n",
       "<style scoped>\n",
       "    .dataframe tbody tr th:only-of-type {\n",
       "        vertical-align: middle;\n",
       "    }\n",
       "\n",
       "    .dataframe tbody tr th {\n",
       "        vertical-align: top;\n",
       "    }\n",
       "\n",
       "    .dataframe thead th {\n",
       "        text-align: right;\n",
       "    }\n",
       "</style>\n",
       "<table border=\"1\" class=\"dataframe\">\n",
       "  <thead>\n",
       "    <tr style=\"text-align: right;\">\n",
       "      <th></th>\n",
       "      <th>index</th>\n",
       "      <th>ancestor_curie_label</th>\n",
       "      <th>ancestor_curie_count</th>\n",
       "    </tr>\n",
       "  </thead>\n",
       "  <tbody>\n",
       "    <tr>\n",
       "      <th>4</th>\n",
       "      <td>BFO:0000040</td>\n",
       "      <td>material entity</td>\n",
       "      <td>82</td>\n",
       "    </tr>\n",
       "    <tr>\n",
       "      <th>7</th>\n",
       "      <td>ENVO:01000813</td>\n",
       "      <td>astronomical body part</td>\n",
       "      <td>70</td>\n",
       "    </tr>\n",
       "    <tr>\n",
       "      <th>16</th>\n",
       "      <td>ENVO:01001784</td>\n",
       "      <td>compound astronomical body part</td>\n",
       "      <td>46</td>\n",
       "    </tr>\n",
       "    <tr>\n",
       "      <th>27</th>\n",
       "      <td>ENVO:00000191</td>\n",
       "      <td>solid astronomical body part</td>\n",
       "      <td>39</td>\n",
       "    </tr>\n",
       "    <tr>\n",
       "      <th>29</th>\n",
       "      <td>ENVO:01001886</td>\n",
       "      <td>landform</td>\n",
       "      <td>35</td>\n",
       "    </tr>\n",
       "    <tr>\n",
       "      <th>...</th>\n",
       "      <td>...</td>\n",
       "      <td>...</td>\n",
       "      <td>...</td>\n",
       "    </tr>\n",
       "    <tr>\n",
       "      <th>72</th>\n",
       "      <td>ENVO:00000096</td>\n",
       "      <td>caldera</td>\n",
       "      <td>2</td>\n",
       "    </tr>\n",
       "    <tr>\n",
       "      <th>69</th>\n",
       "      <td>ENVO:00000087</td>\n",
       "      <td>cliff</td>\n",
       "      <td>2</td>\n",
       "    </tr>\n",
       "    <tr>\n",
       "      <th>64</th>\n",
       "      <td>ENVO:00000081</td>\n",
       "      <td>mountain</td>\n",
       "      <td>2</td>\n",
       "    </tr>\n",
       "    <tr>\n",
       "      <th>63</th>\n",
       "      <td>ENVO:01001828</td>\n",
       "      <td>anthropised ecosystem</td>\n",
       "      <td>2</td>\n",
       "    </tr>\n",
       "    <tr>\n",
       "      <th>158</th>\n",
       "      <td>ENVO:04000009</td>\n",
       "      <td>active permafrost layer</td>\n",
       "      <td>2</td>\n",
       "    </tr>\n",
       "  </tbody>\n",
       "</table>\n",
       "<p>127 rows × 3 columns</p>\n",
       "</div>"
      ]
     },
     "execution_count": 43,
     "metadata": {},
     "output_type": "execute_result"
    }
   ],
   "execution_count": 43
  },
  {
   "metadata": {
    "ExecuteTime": {
     "end_time": "2024-12-17T19:30:56.435637Z",
     "start_time": "2024-12-17T19:30:56.281378Z"
    }
   },
   "cell_type": "code",
   "source": "is_abp_df = check_descendants(list(votes_only_dict.keys()), ABP, envo_adapter)",
   "id": "d83dbfaee65d3e02",
   "outputs": [],
   "execution_count": 44
  },
  {
   "metadata": {
    "ExecuteTime": {
     "end_time": "2024-12-17T19:30:56.448989Z",
     "start_time": "2024-12-17T19:30:56.437580Z"
    }
   },
   "cell_type": "code",
   "source": "is_abp_df",
   "id": "d0336ff65bbb11c9",
   "outputs": [
    {
     "data": {
      "text/plain": [
       "            curie                    label  is_astronomical_body_part\n",
       "0   ENVO:00000011                   garden                       True\n",
       "1   ENVO:00000014                    canal                       True\n",
       "2   ENVO:00000020                     lake                       True\n",
       "3   ENVO:00000022                    river                       True\n",
       "4   ENVO:00000023                   stream                       True\n",
       "..            ...                      ...                        ...\n",
       "78  ENVO:01001568              frost heave                       True\n",
       "79  ENVO:01001803          tropical forest                       True\n",
       "80  ENVO:03000117                  channel                       True\n",
       "81  ENVO:03500005     anthropogenic litter                      False\n",
       "82  ENVO:04000009  active permafrost layer                       True\n",
       "\n",
       "[83 rows x 3 columns]"
      ],
      "text/html": [
       "<div>\n",
       "<style scoped>\n",
       "    .dataframe tbody tr th:only-of-type {\n",
       "        vertical-align: middle;\n",
       "    }\n",
       "\n",
       "    .dataframe tbody tr th {\n",
       "        vertical-align: top;\n",
       "    }\n",
       "\n",
       "    .dataframe thead th {\n",
       "        text-align: right;\n",
       "    }\n",
       "</style>\n",
       "<table border=\"1\" class=\"dataframe\">\n",
       "  <thead>\n",
       "    <tr style=\"text-align: right;\">\n",
       "      <th></th>\n",
       "      <th>curie</th>\n",
       "      <th>label</th>\n",
       "      <th>is_astronomical_body_part</th>\n",
       "    </tr>\n",
       "  </thead>\n",
       "  <tbody>\n",
       "    <tr>\n",
       "      <th>0</th>\n",
       "      <td>ENVO:00000011</td>\n",
       "      <td>garden</td>\n",
       "      <td>True</td>\n",
       "    </tr>\n",
       "    <tr>\n",
       "      <th>1</th>\n",
       "      <td>ENVO:00000014</td>\n",
       "      <td>canal</td>\n",
       "      <td>True</td>\n",
       "    </tr>\n",
       "    <tr>\n",
       "      <th>2</th>\n",
       "      <td>ENVO:00000020</td>\n",
       "      <td>lake</td>\n",
       "      <td>True</td>\n",
       "    </tr>\n",
       "    <tr>\n",
       "      <th>3</th>\n",
       "      <td>ENVO:00000022</td>\n",
       "      <td>river</td>\n",
       "      <td>True</td>\n",
       "    </tr>\n",
       "    <tr>\n",
       "      <th>4</th>\n",
       "      <td>ENVO:00000023</td>\n",
       "      <td>stream</td>\n",
       "      <td>True</td>\n",
       "    </tr>\n",
       "    <tr>\n",
       "      <th>...</th>\n",
       "      <td>...</td>\n",
       "      <td>...</td>\n",
       "      <td>...</td>\n",
       "    </tr>\n",
       "    <tr>\n",
       "      <th>78</th>\n",
       "      <td>ENVO:01001568</td>\n",
       "      <td>frost heave</td>\n",
       "      <td>True</td>\n",
       "    </tr>\n",
       "    <tr>\n",
       "      <th>79</th>\n",
       "      <td>ENVO:01001803</td>\n",
       "      <td>tropical forest</td>\n",
       "      <td>True</td>\n",
       "    </tr>\n",
       "    <tr>\n",
       "      <th>80</th>\n",
       "      <td>ENVO:03000117</td>\n",
       "      <td>channel</td>\n",
       "      <td>True</td>\n",
       "    </tr>\n",
       "    <tr>\n",
       "      <th>81</th>\n",
       "      <td>ENVO:03500005</td>\n",
       "      <td>anthropogenic litter</td>\n",
       "      <td>False</td>\n",
       "    </tr>\n",
       "    <tr>\n",
       "      <th>82</th>\n",
       "      <td>ENVO:04000009</td>\n",
       "      <td>active permafrost layer</td>\n",
       "      <td>True</td>\n",
       "    </tr>\n",
       "  </tbody>\n",
       "</table>\n",
       "<p>83 rows × 3 columns</p>\n",
       "</div>"
      ]
     },
     "execution_count": 45,
     "metadata": {},
     "output_type": "execute_result"
    }
   ],
   "execution_count": 45
  },
  {
   "metadata": {
    "ExecuteTime": {
     "end_time": "2024-12-17T19:30:56.456544Z",
     "start_time": "2024-12-17T19:30:56.451030Z"
    }
   },
   "cell_type": "code",
   "source": "not_abp = is_abp_df.loc[~is_abp_df['is_astronomical_body_part'], 'curie'].tolist()",
   "id": "64f4ffe54051eac2",
   "outputs": [],
   "execution_count": 46
  },
  {
   "metadata": {},
   "cell_type": "markdown",
   "source": "Here are the in-voted classes that are not astronomical body parts",
   "id": "b951da8a0933539"
  },
  {
   "metadata": {
    "ExecuteTime": {
     "end_time": "2024-12-17T19:30:56.464463Z",
     "start_time": "2024-12-17T19:30:56.458411Z"
    }
   },
   "cell_type": "code",
   "source": [
    "for i in not_abp:\n",
    "    l = envo_adapter.label(i)\n",
    "    print(f\"{i} ! {l}\")"
   ],
   "id": "8c3e017f26e32132",
   "outputs": [
    {
     "name": "stdout",
     "output_type": "stream",
     "text": [
      "ENVO:00000133 ! glacier\n",
      "ENVO:00005803 ! animal habitation\n",
      "ENVO:03500005 ! anthropogenic litter\n"
     ]
    }
   ],
   "execution_count": 47
  },
  {
   "metadata": {},
   "cell_type": "markdown",
   "source": "Here are their parent classes. Maybe we want to make boolean filter columns in the voting sheets for some of them?",
   "id": "d04b29ae991dc8d3"
  },
  {
   "metadata": {
    "ExecuteTime": {
     "end_time": "2024-12-17T19:30:56.482313Z",
     "start_time": "2024-12-17T19:30:56.466532Z"
    }
   },
   "cell_type": "code",
   "source": "non_abp_ancestor_frame = tabulate_core_ancestor_counts(not_abp, envo_adapter, min_count_threshold=1, omit_max_count=False)",
   "id": "d07e6e05e2697a80",
   "outputs": [],
   "execution_count": 48
  },
  {
   "metadata": {
    "ExecuteTime": {
     "end_time": "2024-12-17T19:30:56.495064Z",
     "start_time": "2024-12-17T19:30:56.484359Z"
    }
   },
   "cell_type": "code",
   "source": "non_abp_ancestor_frame",
   "id": "7b1ea5fbb50cf93a",
   "outputs": [
    {
     "data": {
      "text/plain": [
       "            index                        ancestor_curie_label  \\\n",
       "1     BFO:0000001                                      entity   \n",
       "2     BFO:0000002                                  continuant   \n",
       "3     BFO:0000004                      independent continuant   \n",
       "5     BFO:0000040                             material entity   \n",
       "0   ENVO:00000133                                     glacier   \n",
       "8   ENVO:00005803                           animal habitation   \n",
       "10  ENVO:03500005                        anthropogenic litter   \n",
       "4     BFO:0000030                                      object   \n",
       "6   ENVO:01001686              mass of environmental material   \n",
       "7   ENVO:01001691  mass of compounded environmental materials   \n",
       "9   ENVO:01001813                                construction   \n",
       "\n",
       "   ancestor_curie_count  \n",
       "1                     3  \n",
       "2                     3  \n",
       "3                     3  \n",
       "5                     3  \n",
       "0                     2  \n",
       "8                     2  \n",
       "10                    2  \n",
       "4                     1  \n",
       "6                     1  \n",
       "7                     1  \n",
       "9                     1  "
      ],
      "text/html": [
       "<div>\n",
       "<style scoped>\n",
       "    .dataframe tbody tr th:only-of-type {\n",
       "        vertical-align: middle;\n",
       "    }\n",
       "\n",
       "    .dataframe tbody tr th {\n",
       "        vertical-align: top;\n",
       "    }\n",
       "\n",
       "    .dataframe thead th {\n",
       "        text-align: right;\n",
       "    }\n",
       "</style>\n",
       "<table border=\"1\" class=\"dataframe\">\n",
       "  <thead>\n",
       "    <tr style=\"text-align: right;\">\n",
       "      <th></th>\n",
       "      <th>index</th>\n",
       "      <th>ancestor_curie_label</th>\n",
       "      <th>ancestor_curie_count</th>\n",
       "    </tr>\n",
       "  </thead>\n",
       "  <tbody>\n",
       "    <tr>\n",
       "      <th>1</th>\n",
       "      <td>BFO:0000001</td>\n",
       "      <td>entity</td>\n",
       "      <td>3</td>\n",
       "    </tr>\n",
       "    <tr>\n",
       "      <th>2</th>\n",
       "      <td>BFO:0000002</td>\n",
       "      <td>continuant</td>\n",
       "      <td>3</td>\n",
       "    </tr>\n",
       "    <tr>\n",
       "      <th>3</th>\n",
       "      <td>BFO:0000004</td>\n",
       "      <td>independent continuant</td>\n",
       "      <td>3</td>\n",
       "    </tr>\n",
       "    <tr>\n",
       "      <th>5</th>\n",
       "      <td>BFO:0000040</td>\n",
       "      <td>material entity</td>\n",
       "      <td>3</td>\n",
       "    </tr>\n",
       "    <tr>\n",
       "      <th>0</th>\n",
       "      <td>ENVO:00000133</td>\n",
       "      <td>glacier</td>\n",
       "      <td>2</td>\n",
       "    </tr>\n",
       "    <tr>\n",
       "      <th>8</th>\n",
       "      <td>ENVO:00005803</td>\n",
       "      <td>animal habitation</td>\n",
       "      <td>2</td>\n",
       "    </tr>\n",
       "    <tr>\n",
       "      <th>10</th>\n",
       "      <td>ENVO:03500005</td>\n",
       "      <td>anthropogenic litter</td>\n",
       "      <td>2</td>\n",
       "    </tr>\n",
       "    <tr>\n",
       "      <th>4</th>\n",
       "      <td>BFO:0000030</td>\n",
       "      <td>object</td>\n",
       "      <td>1</td>\n",
       "    </tr>\n",
       "    <tr>\n",
       "      <th>6</th>\n",
       "      <td>ENVO:01001686</td>\n",
       "      <td>mass of environmental material</td>\n",
       "      <td>1</td>\n",
       "    </tr>\n",
       "    <tr>\n",
       "      <th>7</th>\n",
       "      <td>ENVO:01001691</td>\n",
       "      <td>mass of compounded environmental materials</td>\n",
       "      <td>1</td>\n",
       "    </tr>\n",
       "    <tr>\n",
       "      <th>9</th>\n",
       "      <td>ENVO:01001813</td>\n",
       "      <td>construction</td>\n",
       "      <td>1</td>\n",
       "    </tr>\n",
       "  </tbody>\n",
       "</table>\n",
       "</div>"
      ]
     },
     "execution_count": 49,
     "metadata": {},
     "output_type": "execute_result"
    }
   ],
   "execution_count": 49
  },
  {
   "metadata": {},
   "cell_type": "markdown",
   "source": "Or maybe not",
   "id": "e9a426ae706c7910"
  },
  {
   "metadata": {
    "ExecuteTime": {
     "end_time": "2024-12-17T19:30:56.501421Z",
     "start_time": "2024-12-17T19:30:56.497016Z"
    }
   },
   "cell_type": "code",
   "source": [
    "votes_df_to_save = vote_filtered_df[['unique_id', 'label']]\n",
    "\n",
    "votes_df_to_save.columns = ['id','label']"
   ],
   "id": "6ba7f6a92c455542",
   "outputs": [],
   "execution_count": 50
  },
  {
   "metadata": {
    "ExecuteTime": {
     "end_time": "2024-12-17T19:30:56.510499Z",
     "start_time": "2024-12-17T19:30:56.503499Z"
    }
   },
   "cell_type": "code",
   "source": "votes_df_to_save.to_csv(output_file, index=False, sep=\"\\t\")",
   "id": "44b60ff78bfcd82f",
   "outputs": [],
   "execution_count": 51
  }
 ],
 "metadata": {
  "kernelspec": {
   "display_name": "Python 3",
   "language": "python",
   "name": "python3"
  },
  "language_info": {
   "codemirror_mode": {
    "name": "ipython",
    "version": 2
   },
   "file_extension": ".py",
   "mimetype": "text/x-python",
   "name": "python",
   "nbconvert_exporter": "python",
   "pygments_lexer": "ipython2",
   "version": "2.7.6"
  }
 },
 "nbformat": 4,
 "nbformat_minor": 5
}
