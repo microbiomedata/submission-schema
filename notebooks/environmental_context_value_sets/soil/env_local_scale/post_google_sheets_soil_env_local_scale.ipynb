{
 "cells": [
  {
   "cell_type": "code",
   "id": "initial_id",
   "metadata": {
    "collapsed": true,
    "ExecuteTime": {
     "end_time": "2024-11-08T21:18:01.979181Z",
     "start_time": "2024-11-08T21:17:57.858645Z"
    }
   },
   "source": [
    "from oaklib import get_adapter\n",
    "from oaklib.datamodels.vocabulary import IS_A, PART_OF\n",
    "\n",
    "import csv\n",
    "import pandas as pd"
   ],
   "outputs": [],
   "execution_count": 1
  },
  {
   "metadata": {
    "ExecuteTime": {
     "end_time": "2024-11-08T21:18:01.987933Z",
     "start_time": "2024-11-08T21:18:01.984270Z"
    }
   },
   "cell_type": "code",
   "source": "adapter_string = 'sqlite:obo:envo'",
   "id": "2148e2b371b9d3c1",
   "outputs": [],
   "execution_count": 2
  },
  {
   "metadata": {
    "ExecuteTime": {
     "end_time": "2024-11-08T21:18:02.079740Z",
     "start_time": "2024-11-08T21:18:02.075921Z"
    }
   },
   "cell_type": "code",
   "source": [
    "acceptable_prefixes = {\n",
    "    'ENVO'\n",
    "}"
   ],
   "id": "477f6f26578a06e0",
   "outputs": [],
   "execution_count": 3
  },
  {
   "metadata": {
    "ExecuteTime": {
     "end_time": "2024-11-08T21:18:02.122038Z",
     "start_time": "2024-11-08T21:18:02.117678Z"
    }
   },
   "cell_type": "code",
   "source": [
    "target_labels = [\n",
    "    'material entity',\n",
    "]\n"
   ],
   "id": "2b9221b70ebed187",
   "outputs": [],
   "execution_count": 4
  },
  {
   "metadata": {
    "ExecuteTime": {
     "end_time": "2024-11-08T21:18:02.169577Z",
     "start_time": "2024-11-08T21:18:02.166684Z"
    }
   },
   "cell_type": "code",
   "source": [
    "exclusions_by_label_over_is_a = [\n",
    "    'astronomical body'\n",
    "]"
   ],
   "id": "516cd149ddc657d6",
   "outputs": [],
   "execution_count": 5
  },
  {
   "metadata": {
    "ExecuteTime": {
     "end_time": "2024-11-08T21:18:02.219499Z",
     "start_time": "2024-11-08T21:18:02.215780Z"
    }
   },
   "cell_type": "code",
   "source": [
    "exclude_by_superstring_over_is_a = [\n",
    "    'UNEP-WCMC',\n",
    "    'agricult',\n",
    "    'anthropogenic',\n",
    "    'astronomical',\n",
    "    'biosphere',\n",
    "    'coast',\n",
    "    'construct',\n",
    "    'facility',\n",
    "    'feature',\n",
    "    'from',\n",
    "    'geographic',\n",
    "    'geologic',\n",
    "    'landform',\n",
    "    'marine',\n",
    "    'ocean',\n",
    "    'pingo',\n",
    "    'raised',\n",
    "    'salt',\n",
    "    'sea',\n",
    "    'system',\n",
    "    'volcanic',\n",
    "]"
   ],
   "id": "3f2188382ffdff63",
   "outputs": [],
   "execution_count": 6
  },
  {
   "metadata": {
    "ExecuteTime": {
     "end_time": "2024-11-08T21:18:02.269709Z",
     "start_time": "2024-11-08T21:18:02.264460Z"
    }
   },
   "cell_type": "code",
   "source": [
    "exclude_by_label_over_is_a_and_parts = [\n",
    "    'anatomical entity environment',\n",
    "    'anatomical entity',\n",
    "    'animal habitation',\n",
    "    'archipelago',\n",
    "    'biome',\n",
    "    'body of liquid',\n",
    "    'building',\n",
    "    'channel of a watercourse',\n",
    "    'chemical entity',\n",
    "    'container of an intermittent water body',\n",
    "    'cryoform',\n",
    "    'educational facility',\n",
    "    'environmental material',\n",
    "    'environmental system',  # includes ecosystems\n",
    "    'environmental zone',\n",
    "    'fiat part of an astronomical object',\n",
    "    'fluid astronomical body part',  # todo gets rid of plume but also lakes, stream etc.\n",
    "    'hatchery',\n",
    "    'healthcare facility',\n",
    "    'high-elevation mountain',\n",
    "    'hospital unit facility',\n",
    "    'intrusion',\n",
    "    'karst',\n",
    "    'layer',\n",
    "    'manufactured product',\n",
    "    'marine environmental zone',\n",
    "    'marine layer',\n",
    "    'mass of compounded environmental materials',  # todo eliminates glacier\n",
    "    'mass of environmental material',\n",
    "    'mass of fluid',\n",
    "    'meteor',  # includes clouds!\n",
    "    'mid-elevation mountain',\n",
    "    'mineral deposit',\n",
    "    'object aggregate',  # esp for rain\n",
    "    'organ',\n",
    "    'particle',\n",
    "    'pedosphere',\n",
    "    'penplain',\n",
    "    'piece of plastic',\n",
    "    'polder',\n",
    "    'pole',\n",
    "    'political entity',\n",
    "    'protoplanetary disk',\n",
    "    'salt mass',\n",
    "    'sandur',\n",
    "    'seamount',\n",
    "    'see cliff',\n",
    "    'star',  # todo for photosphere, which should have been removed by mass of environmental material\n",
    "    'thermokarst',\n",
    "    'volcanic feature',\n",
    "    'whole plant',\n",
    "]\n",
    "\n",
    "# todo lost rhizosphere (an environmental system) ... steppe (part of part of a biome) ...\n",
    "\n",
    "# todo are we really saying that we aren't interested in soil near a lake? \n"
   ],
   "id": "dc91a47fb8762a09",
   "outputs": [],
   "execution_count": 7
  },
  {
   "metadata": {
    "ExecuteTime": {
     "end_time": "2024-11-08T21:18:02.320853Z",
     "start_time": "2024-11-08T21:18:02.315048Z"
    }
   },
   "cell_type": "code",
   "source": [
    "keep_base_only = [\n",
    "    'artificial',\n",
    "    'basin'\n",
    "    'beach',\n",
    "    'bridge',\n",
    "    'campground',\n",
    "    'cave',\n",
    "    'channel',\n",
    "    'cliff',\n",
    "    'cone',\n",
    "    'conveyor',\n",
    "    'crater',\n",
    "    'cut',\n",
    "    'dam',\n",
    "    'dune',\n",
    "    'fault',\n",
    "    'field',\n",
    "    'flood',\n",
    "    'garden',\n",
    "    'hill',\n",
    "    'landfill',\n",
    "    'market',\n",
    "    'mine',\n",
    "    'moraine',\n",
    "    'mountain',\n",
    "    'natural',\n",
    "    'network',\n",
    "    'oil',\n",
    "    'park',\n",
    "    'pipeline',\n",
    "    'pit',\n",
    "    'plain',\n",
    "    'plane',\n",
    "    'planetary',\n",
    "    'pond',\n",
    "    'pond',\n",
    "    'prison',\n",
    "    'private',\n",
    "    'public',\n",
    "    'pyroclastic',\n",
    "    'range',\n",
    "    'reactor',\n",
    "    'refinery',\n",
    "    'ridge'\n",
    "    'rift',\n",
    "    'road',\n",
    "    'rock',\n",
    "    'site',\n",
    "    'slope',\n",
    "    'tailings',\n",
    "    'terrace',\n",
    "    'transport',\n",
    "    'tunnel',\n",
    "    'valley',\n",
    "    'volcano',\n",
    "    'water',\n",
    "    'zone',\n",
    "]\n"
   ],
   "id": "aa150cf6ca815771",
   "outputs": [],
   "execution_count": 8
  },
  {
   "metadata": {
    "ExecuteTime": {
     "end_time": "2024-11-08T21:18:02.369295Z",
     "start_time": "2024-11-08T21:18:02.365098Z"
    }
   },
   "cell_type": "code",
   "source": [
    "force_back_in = [\n",
    "    # 'allotment garden',\n",
    "    # 'alluvial fan',\n",
    "    # 'alluvial plain',\n",
    "    # 'bare soil surface layer',\n",
    "    # 'elevated landform',\n",
    "    # 'paddy field',\n",
    "    # 'rubber plantation',\n",
    "    # 'swamp ecosystem',\n",
    "    # 'technosphere',\n",
    "    # 'troposhere',\n",
    "    'agricultural ecosystem',\n",
    "    'agricultural field',\n",
    "    'dune',\n",
    "    'farm',\n",
    "    'forested area',\n",
    "    'frozen land',\n",
    "    'garden',\n",
    "    'grassland area',\n",
    "    'meadow ecosystem',\n",
    "    'mountain',\n",
    "    'orchard',\n",
    "    'pasture',\n",
    "    'peatland',\n",
    "    'pond',\n",
    "    'roadside',\n",
    "    'savanna',\n",
    "    'steppe',\n",
    "]\n",
    "\n",
    "# for the sake of 'soils whose differentia can be expressed in the broad or local scale slots\n",
    "\n",
    "# run this after discover_excludable_soils.ipynb\n",
    "# and before post_google_sheets_soil_env_medium_scale.ipynb\n",
    "\n",
    "# see discover_excludable_soils.tsv with relation_is_reasonable filtered to true\n",
    "# then remove blanks from sole_reasonable_other and sole_soil"
   ],
   "id": "63cbec0253b11d10",
   "outputs": [],
   "execution_count": 9
  },
  {
   "metadata": {
    "ExecuteTime": {
     "end_time": "2024-11-08T21:18:02.419384Z",
     "start_time": "2024-11-08T21:18:02.414942Z"
    }
   },
   "cell_type": "code",
   "source": [
    "force_back_in.extend([\n",
    "    'active permafrost layer',\n",
    "    'fen',\n",
    "    'fjord',\n",
    "    'glacier',\n",
    "    'marsh',\n",
    "    'peatland',\n",
    "    'prairie',\n",
    "    'rhizosphere',\n",
    "    'river',\n",
    "    'spring',\n",
    "    'stream',\n",
    "    'woodland area',\n",
    "])\n",
    "\n",
    "# because they had 2+ upvotes"
   ],
   "id": "c92f84a59fa1b709",
   "outputs": [],
   "execution_count": 10
  },
  {
   "metadata": {
    "ExecuteTime": {
     "end_time": "2024-11-08T21:18:02.467232Z",
     "start_time": "2024-11-08T21:18:02.462864Z"
    }
   },
   "cell_type": "code",
   "source": [
    "force_back_in.extend([\n",
    "    'arable land',\n",
    "    'biochar',\n",
    "    'flood plain',\n",
    "    'forest ecosystem',\n",
    "    'meadow ecosystem',\n",
    "    'mine drainage',\n",
    "    'oil spill',\n",
    "    'pasture',\n",
    "    'permafrost',\n",
    "    'ranch',\n",
    "    'thermokarst',\n",
    "    'wetland ecosystem', \n",
    "])\n",
    "\n",
    "# from gold terms soil exploration"
   ],
   "id": "101ce9770c85fab4",
   "outputs": [],
   "execution_count": 11
  },
  {
   "metadata": {
    "ExecuteTime": {
     "end_time": "2024-11-08T21:18:02.515265Z",
     "start_time": "2024-11-08T21:18:02.511688Z"
    }
   },
   "cell_type": "code",
   "source": [
    "force_out = [\n",
    "    'cut',\n",
    "    'field',\n",
    "    'flattened elevation',\n",
    "    'market',\n",
    "    'mount',\n",
    "    'peak',\n",
    "    'trough',\n",
    "    'yard',\n",
    "]\n",
    "\n",
    "# due to 3+ down votes"
   ],
   "id": "1a7e79eab8215a9c",
   "outputs": [],
   "execution_count": 12
  },
  {
   "metadata": {
    "ExecuteTime": {
     "end_time": "2024-11-08T21:18:02.568087Z",
     "start_time": "2024-11-08T21:18:02.562454Z"
    }
   },
   "cell_type": "code",
   "source": [
    "force_out.extend([\n",
    "    'airport',\n",
    "    'bike path',\n",
    "    'biota',\n",
    "    'bowling alley',\n",
    "    'clinic',\n",
    "    'endorheic basin',\n",
    "    'esker'\n",
    "    'fairground',\n",
    "    'fomoite',\n",
    "    'footbridge',\n",
    "    'fossil worm burrow',\n",
    "    'fountain',\n",
    "    'galaxy',\n",
    "    'globular star cluster',\n",
    "    'handrail',\n",
    "    'hangar',\n",
    "    'human nursery',\n",
    "    'interfluve',\n",
    "    'kame',\n",
    "    'kipuka',\n",
    "    'limestone pavement',\n",
    "    'maar',\n",
    "    'machair',\n",
    "    'manufactured plastisphere',\n",
    "    'microfracture',\n",
    "    'midden',\n",
    "    'military training area',\n",
    "    'moatan',\n",
    "    'mofetta',\n",
    "    'nebula',\n",
    "    'nunatak',\n",
    "    'outwash fan',\n",
    "    'overflow structure',\n",
    "    'patio',\n",
    "    'paved parking lot',\n",
    "    'petting zoo',\n",
    "    'place of worship',\n",
    "    'plastisphere',\n",
    "    'polder',\n",
    "    'processing line',\n",
    "    'pseudocrater',\n",
    "    'railway',\n",
    "    'ria',\n",
    "    'rill',\n",
    "    'sandy beach',\n",
    "    'shear fracture',\n",
    "    'shingle beach',\n",
    "    'shipwreck',\n",
    "    'solfatara',\n",
    "    'spur',\n",
    "    'spur',\n",
    "    'strand crack',\n",
    "    'stratovolcano',\n",
    "    'structural basin',\n",
    "    'technosphere',\n",
    "    'track',\n",
    "    'tube well',\n",
    "    'tuya',\n",
    "    'unexploded-ordnance dump',\n",
    "])\n",
    "\n",
    "# MAM judgement"
   ],
   "id": "95875c9016c5b9a9",
   "outputs": [],
   "execution_count": 13
  },
  {
   "metadata": {
    "ExecuteTime": {
     "end_time": "2024-11-08T21:18:02.615495Z",
     "start_time": "2024-11-08T21:18:02.612617Z"
    }
   },
   "cell_type": "code",
   "source": "# model_with_local_scale_file = 'post_google_sheets_soil_env_medium_relations_no_subclasses_useful_classes_curated.tsv'",
   "id": "ba10b9b104295ac9",
   "outputs": [],
   "execution_count": 14
  },
  {
   "metadata": {
    "ExecuteTime": {
     "end_time": "2024-11-08T21:18:02.664107Z",
     "start_time": "2024-11-08T21:18:02.660914Z"
    }
   },
   "cell_type": "code",
   "source": "output_file = 'post_google_sheets_soil_env_local_scale.tsv'",
   "id": "1d2b4fc51e047786",
   "outputs": [],
   "execution_count": 15
  },
  {
   "metadata": {
    "ExecuteTime": {
     "end_time": "2024-11-08T21:18:02.745439Z",
     "start_time": "2024-11-08T21:18:02.708325Z"
    }
   },
   "cell_type": "code",
   "source": "adapter = get_adapter(adapter_string)",
   "id": "7709e378f4d117eb",
   "outputs": [],
   "execution_count": 16
  },
  {
   "metadata": {
    "ExecuteTime": {
     "end_time": "2024-11-08T21:18:02.761184Z",
     "start_time": "2024-11-08T21:18:02.757936Z"
    }
   },
   "cell_type": "code",
   "source": "targets = set()",
   "id": "1bbc3b1ad9958a37",
   "outputs": [],
   "execution_count": 17
  },
  {
   "metadata": {
    "ExecuteTime": {
     "end_time": "2024-11-08T21:18:03.093065Z",
     "start_time": "2024-11-08T21:18:02.801699Z"
    }
   },
   "cell_type": "code",
   "source": [
    "# accumulate subclasses of the target classes (by label)\n",
    "# \n",
    "for current_label in target_labels:\n",
    "    for class_id in adapter.basic_search(current_label):\n",
    "        descendant = adapter.descendants(class_id, predicates=[IS_A])\n",
    "        for d in descendant:\n",
    "            targets.add(d)\n",
    "\n",
    "print(len(targets))"
   ],
   "id": "5315b4280bb53a5c",
   "outputs": [
    {
     "name": "stdout",
     "output_type": "stream",
     "text": [
      "5132\n"
     ]
    }
   ],
   "execution_count": 18
  },
  {
   "metadata": {
    "ExecuteTime": {
     "end_time": "2024-11-08T21:18:05.340276Z",
     "start_time": "2024-11-08T21:18:03.117467Z"
    }
   },
   "cell_type": "code",
   "source": [
    "# write the targets\n",
    "#\n",
    "with open('post_google_sheets_soil_env_local_scale_initial.tsv', 'w') as f:\n",
    "    for t in targets:\n",
    "        f.write(t + '\\t' + adapter.label(t) + '\\n')"
   ],
   "id": "81f451e5546cbeb2",
   "outputs": [],
   "execution_count": 19
  },
  {
   "metadata": {
    "ExecuteTime": {
     "end_time": "2024-11-08T21:18:10.259513Z",
     "start_time": "2024-11-08T21:18:05.345633Z"
    }
   },
   "cell_type": "code",
   "source": [
    "# deplete subclasses of the exclusion classes (by label)\n",
    "# \n",
    "\n",
    "depletion_log = []\n",
    "\n",
    "for current_label in exclude_by_label_over_is_a_and_parts:\n",
    "    for class_id in adapter.basic_search(current_label):\n",
    "        descendant = adapter.descendants(class_id,\n",
    "                                         predicates=[IS_A, PART_OF])  # todo be careful with part of assumptions!\n",
    "        for d in descendant:\n",
    "            if d in targets:\n",
    "                depletion_line = {\n",
    "                    'removed': adapter.label(d),\n",
    "                    'reason': current_label\n",
    "                }\n",
    "                # print(log_line)\n",
    "                depletion_log.append(depletion_line)\n",
    "                targets.remove(d)\n",
    "\n",
    "for current_label in exclusions_by_label_over_is_a:\n",
    "    for class_id in adapter.basic_search(current_label):\n",
    "        descendant = adapter.descendants(class_id, predicates=[IS_A])  # todo be careful with part of assumptions!\n",
    "        for d in descendant:\n",
    "            if d in targets:\n",
    "                depletion_line = {\n",
    "                    'removed': adapter.label(d),\n",
    "                    'reason': current_label\n",
    "                }\n",
    "                # print(log_line)\n",
    "                depletion_log.append(depletion_line)\n",
    "                targets.remove(d)\n",
    "\n",
    "# for current_label in keep_base_only:\n",
    "targets_dupe = targets.copy()\n",
    "for t in targets_dupe:\n",
    "    label = adapter.label(t)\n",
    "    label_words = label.split(' ')\n",
    "    for kbo in keep_base_only:\n",
    "        if kbo in label_words and len(label_words) > 1:\n",
    "            depletion_line = {\n",
    "                'removed': label,\n",
    "                'reason': f\"{t}'s label {label} contains but is not limited to {kbo}\"\n",
    "            }\n",
    "            depletion_log.append(depletion_line)\n",
    "            if t in targets:\n",
    "                targets.remove(t)\n",
    "\n",
    "print(len(targets))"
   ],
   "id": "77c441ce49ee868",
   "outputs": [
    {
     "name": "stdout",
     "output_type": "stream",
     "text": [
      "505\n"
     ]
    }
   ],
   "execution_count": 20
  },
  {
   "metadata": {
    "ExecuteTime": {
     "end_time": "2024-11-08T21:18:10.285390Z",
     "start_time": "2024-11-08T21:18:10.281106Z"
    }
   },
   "cell_type": "code",
   "source": [
    "# # write the lines in log to a TSV file 'sels_depletion.tsv'' with csv's dictwriter\n",
    "# #\n",
    "# with open('sels_depletion.tsv', 'w') as f:\n",
    "#     writer = csv.DictWriter(f, fieldnames=['removed', 'reason'])\n",
    "#     writer.writeheader()\n",
    "#     for line in depletion_log:\n",
    "#         writer.writerow(line)\n"
   ],
   "id": "62b7006a08a898a8",
   "outputs": [],
   "execution_count": 21
  },
  {
   "metadata": {
    "ExecuteTime": {
     "end_time": "2024-11-08T21:18:10.328794Z",
     "start_time": "2024-11-08T21:18:10.322149Z"
    }
   },
   "cell_type": "code",
   "source": [
    "# remove curies from the targets if their prefix, when splitting on colon, isn't in the acceptable prefixes\n",
    "for t in list(targets):\n",
    "    if t.split(':')[0] not in acceptable_prefixes:\n",
    "        targets.remove(t)\n",
    "print(len(targets))"
   ],
   "id": "c78340f4c8cfb9c3",
   "outputs": [
    {
     "name": "stdout",
     "output_type": "stream",
     "text": [
      "229\n"
     ]
    }
   ],
   "execution_count": 22
  },
  {
   "metadata": {
    "ExecuteTime": {
     "end_time": "2024-11-08T21:18:13.165256Z",
     "start_time": "2024-11-08T21:18:10.379687Z"
    }
   },
   "cell_type": "code",
   "source": [
    "# remove curies from the targets if their label contains any of the exclusion fragments\n",
    "for t in list(targets):\n",
    "    for fragment in exclude_by_superstring_over_is_a:\n",
    "        if fragment in adapter.label(t):\n",
    "            if t in targets:\n",
    "                targets.remove(t)\n",
    "print(len(targets))"
   ],
   "id": "25b2802c320e922a",
   "outputs": [
    {
     "name": "stdout",
     "output_type": "stream",
     "text": [
      "169\n"
     ]
    }
   ],
   "execution_count": 23
  },
  {
   "metadata": {
    "ExecuteTime": {
     "end_time": "2024-11-08T21:18:13.545525Z",
     "start_time": "2024-11-08T21:18:13.177546Z"
    }
   },
   "cell_type": "code",
   "source": [
    "for fbi in force_back_in: \n",
    "    # add tracking of fbis that don't map to any terms, fbis that already are in targets...\n",
    "    fbi_count = 0\n",
    "    for class_id in adapter.basic_search(fbi):\n",
    "        fbi_count += 1\n",
    "        if class_id not in targets:\n",
    "            print(f\"Adding {fbi} to targets\")\n",
    "            targets.add(class_id)\n",
    "        else:\n",
    "            print(f'{fbi} already in targets')\n",
    "    if fbi_count == 0:\n",
    "        print(f\"Can't find {fbi} in adapter\")"
   ],
   "id": "d0e98fd90746b5be",
   "outputs": [
    {
     "name": "stdout",
     "output_type": "stream",
     "text": [
      "Adding agricultural ecosystem to targets\n",
      "Adding agricultural field to targets\n",
      "dune already in targets\n",
      "Adding farm to targets\n",
      "Adding forested area to targets\n",
      "Adding frozen land to targets\n",
      "garden already in targets\n",
      "Adding grassland area to targets\n",
      "Adding meadow ecosystem to targets\n",
      "mountain already in targets\n",
      "Adding orchard to targets\n",
      "Adding pasture to targets\n",
      "Adding peatland to targets\n",
      "Adding pond to targets\n",
      "Adding roadside to targets\n",
      "Adding savanna to targets\n",
      "Adding steppe to targets\n",
      "Adding active permafrost layer to targets\n",
      "Adding fen to targets\n",
      "Adding fjord to targets\n",
      "Adding glacier to targets\n",
      "Adding marsh to targets\n",
      "peatland already in targets\n",
      "Adding prairie to targets\n",
      "Adding rhizosphere to targets\n",
      "Adding river to targets\n",
      "Adding spring to targets\n",
      "Adding stream to targets\n",
      "Adding woodland area to targets\n",
      "Adding arable land to targets\n",
      "Adding biochar to targets\n",
      "Adding flood plain to targets\n",
      "Adding forest ecosystem to targets\n",
      "meadow ecosystem already in targets\n",
      "Adding mine drainage to targets\n",
      "Adding oil spill to targets\n",
      "pasture already in targets\n",
      "Adding permafrost to targets\n",
      "Adding ranch to targets\n",
      "Adding thermokarst to targets\n",
      "Adding wetland ecosystem to targets\n"
     ]
    }
   ],
   "execution_count": 24
  },
  {
   "metadata": {
    "ExecuteTime": {
     "end_time": "2024-11-08T21:18:14.085364Z",
     "start_time": "2024-11-08T21:18:13.559091Z"
    }
   },
   "cell_type": "code",
   "source": [
    "for fo in force_out:\n",
    "    for class_id in adapter.basic_search(fo):\n",
    "        if class_id in targets:\n",
    "            print(f\"Removing {fo} from targets\")\n",
    "            targets.remove(class_id)\n",
    "        else:\n",
    "            print(f'{fo} not in targets')\n",
    "            \n",
    "# these won't show up in the previously closed sels_depletion.tsv"
   ],
   "id": "9c2be4ce4f8521a0",
   "outputs": [
    {
     "name": "stdout",
     "output_type": "stream",
     "text": [
      "Removing cut from targets\n",
      "Removing field from targets\n",
      "Removing flattened elevation from targets\n",
      "Removing market from targets\n",
      "Removing mount from targets\n",
      "Removing peak from targets\n",
      "Removing trough from targets\n",
      "Removing yard from targets\n",
      "Removing airport from targets\n",
      "Removing bike path from targets\n",
      "Removing biota from targets\n",
      "Removing bowling alley from targets\n",
      "Removing clinic from targets\n",
      "Removing endorheic basin from targets\n",
      "Removing footbridge from targets\n",
      "Removing fossil worm burrow from targets\n",
      "Removing fountain from targets\n",
      "Removing galaxy from targets\n",
      "Removing globular star cluster from targets\n",
      "handrail not in targets\n",
      "Removing hangar from targets\n",
      "Removing human nursery from targets\n",
      "Removing interfluve from targets\n",
      "Removing kame from targets\n",
      "Removing kipuka from targets\n",
      "limestone pavement not in targets\n",
      "Removing maar from targets\n",
      "Removing machair from targets\n",
      "Removing manufactured plastisphere from targets\n",
      "Removing microfracture from targets\n",
      "Removing midden from targets\n",
      "Removing military training area from targets\n",
      "Removing moatan from targets\n",
      "Removing mofetta from targets\n",
      "Removing nebula from targets\n",
      "Removing nunatak from targets\n",
      "Removing outwash fan from targets\n",
      "Removing overflow structure from targets\n",
      "Removing patio from targets\n",
      "Removing paved parking lot from targets\n",
      "Removing petting zoo from targets\n",
      "Removing place of worship from targets\n",
      "Removing plastisphere from targets\n",
      "polder not in targets\n",
      "Removing processing line from targets\n",
      "Removing pseudocrater from targets\n",
      "Removing railway from targets\n",
      "Removing ria from targets\n",
      "Removing rill from targets\n",
      "Removing sandy beach from targets\n",
      "Removing shear fracture from targets\n",
      "Removing shingle beach from targets\n",
      "Removing shipwreck from targets\n",
      "Removing solfatara from targets\n",
      "Removing spur from targets\n",
      "spur not in targets\n",
      "Removing strand crack from targets\n",
      "Removing stratovolcano from targets\n",
      "Removing structural basin from targets\n",
      "Removing technosphere from targets\n",
      "Removing track from targets\n",
      "Removing tube well from targets\n",
      "Removing tuya from targets\n",
      "Removing unexploded-ordnance dump from targets\n"
     ]
    }
   ],
   "execution_count": 25
  },
  {
   "metadata": {
    "ExecuteTime": {
     "end_time": "2024-11-08T21:18:14.199387Z",
     "start_time": "2024-11-08T21:18:14.098765Z"
    }
   },
   "cell_type": "code",
   "source": [
    "labelled_targets = []\n",
    "for t in targets:\n",
    "    labelled_targets.append(\n",
    "        {\n",
    "            'id': t,\n",
    "            'label': adapter.label(t)\n",
    "        }\n",
    "    )"
   ],
   "id": "67e8e7d3100e7c36",
   "outputs": [],
   "execution_count": 26
  },
  {
   "metadata": {
    "ExecuteTime": {
     "end_time": "2024-11-08T21:18:14.257798Z",
     "start_time": "2024-11-08T21:18:14.239145Z"
    }
   },
   "cell_type": "code",
   "source": [
    "export_frame = pd.DataFrame(labelled_targets)\n",
    "\n",
    "export_frame.to_csv(output_file, sep='\\t', index=False)"
   ],
   "id": "2c72d0bcd67213c2",
   "outputs": [],
   "execution_count": 27
  },
  {
   "metadata": {
    "ExecuteTime": {
     "end_time": "2024-11-08T21:18:14.311519Z",
     "start_time": "2024-11-08T21:18:14.302991Z"
    }
   },
   "cell_type": "code",
   "source": "",
   "id": "25e24ebecb5efdf1",
   "outputs": [],
   "execution_count": null
  }
 ],
 "metadata": {
  "kernelspec": {
   "display_name": "Python 3",
   "language": "python",
   "name": "python3"
  },
  "language_info": {
   "codemirror_mode": {
    "name": "ipython",
    "version": 2
   },
   "file_extension": ".py",
   "mimetype": "text/x-python",
   "name": "python",
   "nbconvert_exporter": "python",
   "pygments_lexer": "ipython2",
   "version": "2.7.6"
  }
 },
 "nbformat": 4,
 "nbformat_minor": 5
}
