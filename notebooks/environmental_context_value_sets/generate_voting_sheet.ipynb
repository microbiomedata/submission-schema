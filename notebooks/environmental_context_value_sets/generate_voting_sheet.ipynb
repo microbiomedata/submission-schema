{
 "cells": [
  {
   "metadata": {
    "ExecuteTime": {
     "end_time": "2024-12-12T15:36:12.351129Z",
     "start_time": "2024-12-12T15:36:12.346436Z"
    }
   },
   "cell_type": "code",
   "source": [
    "from common import *\n",
    "\n",
    "import gzip\n",
    "import os\n",
    "import shutil\n",
    "import sqlite3\n",
    "from urllib.parse import urlparse\n",
    "\n",
    "import duckdb\n",
    "import pandas as pd\n",
    "import requests\n",
    "\n",
    "from oaklib import get_adapter\n",
    "from oaklib.datamodels.vocabulary import IS_A\n",
    "from oaklib.utilities.lexical.lexical_indexer import create_lexical_index, save_lexical_index, load_lexical_index\n",
    "from oaklib.interfaces.text_annotator_interface import TextAnnotatorInterface\n",
    "\n",
    "from scipy.sparse import hstack\n",
    "from sklearn.ensemble import RandomForestClassifier\n",
    "from sklearn.metrics import classification_report\n",
    "from sklearn.model_selection import train_test_split\n",
    "\n",
    "import yaml\n",
    "import json\n"
   ],
   "id": "630126a7790cc3a7",
   "outputs": [],
   "execution_count": 139
  },
  {
   "metadata": {
    "ExecuteTime": {
     "end_time": "2024-12-12T14:55:51.523995Z",
     "start_time": "2024-12-12T14:55:51.515398Z"
    }
   },
   "cell_type": "code",
   "source": "print(\"verify output is being rendered\")",
   "id": "7b0ae730412c28ca",
   "outputs": [
    {
     "name": "stdout",
     "output_type": "stream",
     "text": [
      "verify output is being rendered\n"
     ]
    }
   ],
   "execution_count": 2
  },
  {
   "metadata": {
    "ExecuteTime": {
     "end_time": "2024-12-12T14:55:51.528438Z",
     "start_time": "2024-12-12T14:55:51.525406Z"
    }
   },
   "cell_type": "code",
   "source": [
    "# Initialize cache dictionaries for predict_from_normalized_env_packages\n",
    "# todo how to move the definitions for function that use these globals? Or just use caching around the function?\n",
    "ancestor_cache = {}\n",
    "descendant_cache = {}"
   ],
   "id": "f952b5888d2c5f0d",
   "outputs": [],
   "execution_count": 3
  },
  {
   "metadata": {
    "ExecuteTime": {
     "end_time": "2024-12-12T14:55:51.535804Z",
     "start_time": "2024-12-12T14:55:51.531515Z"
    }
   },
   "cell_type": "code",
   "source": [
    "# todo this on-demand NCBI curie extraction and annotation recapitulates work that is being added to\n",
    "# https://portal.nersc.gov/project/m3408/biosamples_duckdb/\n",
    "# via ???\n",
    "#   although that doesn't detect auto-incremented curies from  spreadsheet dragging\n",
    "\n",
    "# todo eventually, dig up a complete JSON gold biosample dump for non-hybrid biosample counts\n",
    "\n",
    "# todo make it clearer whether biosamples or studies are being counted\n",
    "#   count nmdc or gold STUDIES too?"
   ],
   "id": "5001cbd978bbdd28",
   "outputs": [],
   "execution_count": 4
  },
  {
   "cell_type": "markdown",
   "id": "2ef284816f7ce9d6",
   "metadata": {},
   "source": [
    "# Isolated Task Settings\n",
    "**Pre-assembled settings block below are preferred**\n",
    "\n",
    "_For making a soil env_broad_scale voting sheet vs a sediment env_local_scale sheet, etc._\n",
    "\n",
    "todo: bundle these into dicts so they don't have to be modified independently and kept in sync with one another."
   ]
  },
  {
   "metadata": {},
   "cell_type": "code",
   "source": "output_file_name = \"voting_sheets_output/sediment_env_local_scale_voting_sheet.tsv\"",
   "id": "90bf7256a956701d",
   "outputs": [],
   "execution_count": null
  },
  {
   "metadata": {},
   "cell_type": "code",
   "source": [
    "# semantic_anchor = 'ENVO:00000428' # biome for env_broad_scale\n",
    "semantic_anchor = 'ENVO:01000813' # astronomical body part \"abp\" for env_local_scale\n",
    "# semantic_anchor = 'ENVO:00010483' # environmental material for env_medium"
   ],
   "id": "95f7efc06f20987a",
   "outputs": [],
   "execution_count": null
  },
  {
   "metadata": {},
   "cell_type": "markdown",
   "source": "## context selectors",
   "id": "51f51b3b88634488"
  },
  {
   "metadata": {},
   "cell_type": "code",
   "source": [
    "gold_context_selectors =  [\n",
    "    'mixs:env_broad',\n",
    "    'mixs:env_local',\n",
    "    'mixs:env_medium'\n",
    "]\n"
   ],
   "id": "be00ed63d6472ead",
   "outputs": [],
   "execution_count": null
  },
  {
   "metadata": {},
   "cell_type": "code",
   "source": [
    "# ncbi_context_selector = 'env_broad_scale'\n",
    "ncbi_context_selector = 'env_local_scale'\n",
    "# ncbi_context_selector = 'env_medium'"
   ],
   "id": "7aa7b42c3f20ce44",
   "outputs": [],
   "execution_count": null
  },
  {
   "metadata": {},
   "cell_type": "code",
   "source": [
    "# nmdc_context_selector= 'env_broad_scale_id'\n",
    "nmdc_context_selector= 'env_local_scale_id'\n",
    "# nmdc_context_selector= 'env_medium_id'"
   ],
   "id": "ce80b2d7e64e5710",
   "outputs": [],
   "execution_count": null
  },
  {
   "metadata": {},
   "cell_type": "markdown",
   "source": "## package aka environment aka extension selectors",
   "id": "2f0bdadeb5d32fa8"
  },
  {
   "metadata": {},
   "cell_type": "code",
   "source": [
    "# plant_first_where = \"s1.value like 'host-associated > plants%'\"\n",
    "# sediment_first_where = \"lower(s1.value) like 'environmental > aquatic%sediment%'\"\n",
    "# soil_first_where = \"s1.value like 'environmental > terrestrial > soil%'\"\n",
    "# water_first_where = \"s1.value like 'environmental > aquatic%' and lower(s1.value) not like '%sediment%'\"\n",
    "\n",
    "plant_first_where = \"lower(s1.value) like '%plant%'\" # picks up waste water treatment plant\n",
    "sediment_first_where = \"lower(s1.value) like '%sediment%'\"\n",
    "soil_first_where = \"lower(s1.value) like '%soil%'\"\n",
    "water_first_where = \"lower(s1.value) like '%aquatic%' and lower(s1.value) not like '%sediment%'\""
   ],
   "id": "def7edf88043ac30",
   "outputs": [],
   "execution_count": null
  },
  {
   "metadata": {},
   "cell_type": "code",
   "source": "gold_first_where = sediment_first_where",
   "id": "8075741d803ff740",
   "outputs": [],
   "execution_count": null
  },
  {
   "metadata": {},
   "cell_type": "code",
   "source": [
    "# todo new since soil: why are we only considering MIMS.me for discovering appropriate env triad values?\n",
    "#   there's usually a roughly equal number of biosamples from in each extension for MIMS.me and \n",
    "\n",
    "# ncbi_package_selector = 'plant-associated.6.0'\n",
    "ncbi_package_selector = 'sediment.6.0'\n",
    "# ncbi_package_selector = 'soil.6.0'\n",
    "# ncbi_package_selector = 'water.6.0'"
   ],
   "id": "f5654d6f9319576b",
   "outputs": [],
   "execution_count": null
  },
  {
   "metadata": {},
   "cell_type": "code",
   "source": [
    "# nmdc_package_selector = 'plant-associated'\n",
    "nmdc_package_selector = 'sediment'\n",
    "# nmdc_package_selector = 'soil'\n",
    "# nmdc_package_selector = 'water'\n"
   ],
   "id": "5e358e42ad885188",
   "outputs": [],
   "execution_count": null
  },
  {
   "metadata": {},
   "cell_type": "code",
   "source": [
    "GOLDTERMS_NA = '' # ???\n",
    "\n",
    "GOLDTERMS_PLANT_ASSOCIATED = GOLDTERMS_NA # host associated -> viridiplantae? take a string approach!\n",
    "GOLDTERMS_SEDIMENT = 'GOLDTERMS:3985' #  doesn't have any subclasses\n",
    "GOLDTERMS_SOIL = 'GOLDTERMS:4212'\n",
    "GOLDTERMS_WATER = 'GOLDTERMS:3984'\n",
    "\n",
    "# GOLDTERMS:4180, 'Environmental > Aquatic > Freshwater > Pond > Sediment' and ~64 more don't share a common root\n",
    "# poetry run runoak -i sqlite:obo:goldterms info 't~sediment'\n"
   ],
   "id": "eda591e14a91cd01",
   "outputs": [],
   "execution_count": null
  },
  {
   "metadata": {},
   "cell_type": "code",
   "source": "goldterms_root = GOLDTERMS_NA",
   "id": "bba8bf1e75430ef",
   "outputs": [],
   "execution_count": null
  },
  {
   "metadata": {},
   "cell_type": "markdown",
   "source": "## selecting name and version of one enum for comparison",
   "id": "394f96a70a95754f"
  },
  {
   "metadata": {},
   "cell_type": "code",
   "source": [
    "# only the Soil enums have legacy definitions (v10.7 and earlier?)\n",
    "\n",
    "# CONTEXT_ENUM = \"EnvBroadScaleSoilEnum\"\n",
    "CONTEXT_ENUM = \"EnvLocalScaleSoilEnum\"\n",
    "# CONTEXT_ENUM = \"EnvMediumSoilEnum\"\n",
    "\n",
    "# CONTEXT_ENUM = \"\""
   ],
   "id": "20750df32ebb2033",
   "outputs": [],
   "execution_count": null
  },
  {
   "metadata": {},
   "cell_type": "code",
   "source": [
    "# todo: add columns for membership in multiple enums from multiple version of the schema?\n",
    "#  like sediment local vs soil local and water local (once that's completed)\n",
    "#  get them from schema files or something prior to that? sems like the voting sheets are too raw/preliminary for that\n",
    "#   can use a more recent schema url for more recent enums!\n",
    "\n",
    "previous_submission_schema_url = \"https://raw.githubusercontent.com/microbiomedata/submission-schema/v10.7.0/src/nmdc_submission_schema/schema/nmdc_submission_schema.yaml\"\n",
    "\n",
    "# previous_submission_schema_url = \"https://raw.githubusercontent.com/microbiomedata/submission-schema/refs/tags/v11.1.0/src/nmdc_submission_schema/schema/nmdc_submission_schema.yaml\""
   ],
   "id": "f588eccfcb2771ba",
   "outputs": [],
   "execution_count": null
  },
  {
   "metadata": {},
   "cell_type": "code",
   "source": [
    "# todo: don't call the column \"legacy_pv\". use the name of the enum and the version of the schema?\n",
    "\n",
    "comparison_enum_column_name = 'EnvLocalSoilEnum_10_7'\n",
    "# comparison_enum_column_name = 'EnvLocalScaleSoilEnum_11_1'\n",
    "# comparison_enum_column_name = 'no_comparison_enum'"
   ],
   "id": "e259066dee0973c4",
   "outputs": [],
   "execution_count": null
  },
  {
   "metadata": {},
   "cell_type": "markdown",
   "source": [
    "# Pre-compiled settings\n",
    "Do not \"run all cells below\" from any one of these pre-compiled blocks. \n",
    "Run one configuration block, and then proceed to \"Additional Settings\""
   ],
   "id": "18d94b8b65f2d8a7"
  },
  {
   "metadata": {},
   "cell_type": "markdown",
   "source": "## plant-associated env_broad_scale",
   "id": "e9b920ac677a450a"
  },
  {
   "metadata": {
    "ExecuteTime": {
     "end_time": "2024-12-12T14:55:58.917983Z",
     "start_time": "2024-12-12T14:55:58.913437Z"
    }
   },
   "cell_type": "code",
   "source": [
    "output_file_name = \"voting_sheets_output/plant_associated_env_broad_scale_voting_sheet.tsv\"\n",
    "\n",
    "# bootstrapping\n",
    "semantic_anchor = 'ENVO:00000428' # biome for env_broad_scale\n",
    "\n",
    "gold_context_selectors = [\n",
    "    'mixs:env_broad',\n",
    "    'mixs:env_local',\n",
    "    'mixs:env_medium'\n",
    "]\n",
    "\n",
    "ncbi_context_selector = 'env_broad_scale'\n",
    "\n",
    "nmdc_context_selector= 'env_broad_scale_id'\n",
    "\n",
    "## package aka environment aka extension selectors\n",
    "plant_first_where = \"lower(s1.value) like '%plant%'\"  # picks up waste water treatment plant\n",
    "gold_first_where = plant_first_where\n",
    "\n",
    "ncbi_package_selector = 'plant-associated.6.0'\n",
    "\n",
    "nmdc_package_selector = 'plant-associated'\n",
    "\n",
    "CONTEXT_ENUM = \"EnvBroadScaleSoilEnum\"\n",
    "\n",
    "previous_submission_schema_url = \"https://raw.githubusercontent.com/microbiomedata/submission-schema/refs/tags/v11.1.0/src/nmdc_submission_schema/schema/nmdc_submission_schema.yaml\"\n",
    "\n",
    "comparison_enum_column_name = 'EnvBroadScaleSoilEnum_11_1'\n"
   ],
   "id": "ced5bbf4fa90ed5",
   "outputs": [],
   "execution_count": 5
  },
  {
   "metadata": {},
   "cell_type": "markdown",
   "source": "## sediment env_broad_scale",
   "id": "f8188d45847dc773"
  },
  {
   "metadata": {},
   "cell_type": "code",
   "source": [
    "output_file_name = \"voting_sheets_output/sediment_env_broad_scale_voting_sheet.tsv\"\n",
    "\n",
    "# bootstrapping\n",
    "semantic_anchor = 'ENVO:00000428' # biome for env_broad_scale\n",
    "\n",
    "gold_context_selectors = [\n",
    "    'mixs:env_broad',\n",
    "    'mixs:env_local',\n",
    "    'mixs:env_medium'\n",
    "]\n",
    "\n",
    "ncbi_context_selector = 'env_broad_scale'\n",
    "\n",
    "nmdc_context_selector= 'env_broad_scale_id'\n",
    "\n",
    "## package aka environment aka extension selectors\n",
    "sediment_first_where = \"lower(s1.value) like '%sediment%'\"\n",
    "gold_first_where = sediment_first_where\n",
    "\n",
    "ncbi_package_selector = 'sediment.6.0'\n",
    "\n",
    "nmdc_package_selector = 'sediment'\n",
    "\n",
    "CONTEXT_ENUM = \"EnvBroadScaleSoilEnum\"\n",
    "\n",
    "previous_submission_schema_url = \"https://raw.githubusercontent.com/microbiomedata/submission-schema/refs/tags/v11.1.0/src/nmdc_submission_schema/schema/nmdc_submission_schema.yaml\"\n",
    "\n",
    "comparison_enum_column_name = 'EnvBroadScaleSoilEnum_11_1'\n"
   ],
   "id": "f189476b9a10eaf0",
   "outputs": [],
   "execution_count": null
  },
  {
   "metadata": {},
   "cell_type": "markdown",
   "source": "## soil env_broad_scale",
   "id": "fc180472ef26084"
  },
  {
   "metadata": {},
   "cell_type": "code",
   "source": [
    "output_file_name = \"voting_sheets_output/soil_env_broad_scale_voting_sheet.tsv\"\n",
    "\n",
    "# bootstrapping\n",
    "semantic_anchor = 'ENVO:00000428' # biome for env_broad_scale\n",
    "\n",
    "gold_context_selectors = [\n",
    "    'mixs:env_broad',\n",
    "    'mixs:env_local',\n",
    "    'mixs:env_medium'\n",
    "]\n",
    "\n",
    "ncbi_context_selector = 'env_broad_scale'\n",
    "\n",
    "nmdc_context_selector= 'env_broad_scale_id'\n",
    "\n",
    "## package aka environment aka extension selectors\n",
    "soil_first_where = \"lower(s1.value) like '%soil%'\"\n",
    "gold_first_where = soil_first_where\n",
    "\n",
    "ncbi_package_selector = 'soil.6.0'\n",
    "\n",
    "nmdc_package_selector = 'soil'\n",
    "\n",
    "CONTEXT_ENUM = \"EnvBroadScaleSoilEnum\"\n",
    "\n",
    "previous_submission_schema_url = \"https://raw.githubusercontent.com/microbiomedata/submission-schema/v10.7.0/src/nmdc_submission_schema/schema/nmdc_submission_schema.yaml\"\n",
    "\n",
    "comparison_enum_column_name = 'EnvBroadScaleSoilEnum_10_7'\n"
   ],
   "id": "af3f819c2221ce17",
   "outputs": [],
   "execution_count": null
  },
  {
   "metadata": {},
   "cell_type": "markdown",
   "source": "## plant-associated env_local_scale",
   "id": "1d72c560269ca418"
  },
  {
   "metadata": {},
   "cell_type": "code",
   "source": [
    "output_file_name = \"voting_sheets_output/plant_associated_env_local_scale_voting_sheet.tsv\"\n",
    "\n",
    "# bootstrapping\n",
    "semantic_anchor = 'ENVO:01000813' # astronomical body part \"abp\" for env_local_scale\n",
    "\n",
    "gold_context_selectors = [\n",
    "    'mixs:env_broad',\n",
    "    'mixs:env_local',\n",
    "    'mixs:env_medium'\n",
    "]\n",
    "\n",
    "ncbi_context_selector = 'env_local_scale'\n",
    "\n",
    "nmdc_context_selector= 'env_local_scale_id'\n",
    "\n",
    "## package aka environment aka extension selectors\n",
    "plant_first_where = \"lower(s1.value) like '%plant%'\"  # picks up waste water treatment plant\n",
    "gold_first_where = plant_first_where\n",
    "\n",
    "ncbi_package_selector = 'plant-associated.6.0'\n",
    "\n",
    "nmdc_package_selector = 'plant-associated'\n",
    "\n",
    "CONTEXT_ENUM = \"EnvLocalScaleSoilEnum\"\n",
    "\n",
    "previous_submission_schema_url = \"https://raw.githubusercontent.com/microbiomedata/submission-schema/refs/tags/v11.1.0/src/nmdc_submission_schema/schema/nmdc_submission_schema.yaml\"\n",
    "\n",
    "comparison_enum_column_name = 'EnvLocalScaleSoilEnum_11_1'\n"
   ],
   "id": "9595e20c12970b0",
   "outputs": [],
   "execution_count": null
  },
  {
   "metadata": {},
   "cell_type": "markdown",
   "source": "## sediment env_local_scale",
   "id": "5eba6130783c9748"
  },
  {
   "metadata": {},
   "cell_type": "code",
   "source": [
    "output_file_name = \"voting_sheets_output/sediment_env_local_scale_voting_sheet.tsv\"\n",
    "\n",
    "# bootstrapping\n",
    "semantic_anchor = 'ENVO:01000813' # astronomical body part \"abp\" for env_local_scale\n",
    "\n",
    "gold_context_selectors = [\n",
    "    'mixs:env_broad',\n",
    "    'mixs:env_local',\n",
    "    'mixs:env_medium'\n",
    "]\n",
    "\n",
    "ncbi_context_selector = 'env_local_scale'\n",
    "\n",
    "nmdc_context_selector= 'env_local_scale_id'\n",
    "\n",
    "## package aka environment aka extension selectors\n",
    "sediment_first_where = \"lower(s1.value) like '%sediment%'\"\n",
    "gold_first_where = sediment_first_where\n",
    "\n",
    "ncbi_package_selector = 'sediment.6.0'\n",
    "\n",
    "nmdc_package_selector = 'sediment'\n",
    "\n",
    "CONTEXT_ENUM = \"EnvLocalScaleSoilEnum\"\n",
    "\n",
    "previous_submission_schema_url = \"https://raw.githubusercontent.com/microbiomedata/submission-schema/refs/tags/v11.1.0/src/nmdc_submission_schema/schema/nmdc_submission_schema.yaml\"\n",
    "\n",
    "comparison_enum_column_name = 'EnvLocalScaleSoilEnum_11_1'\n"
   ],
   "id": "777086b0e3cfe739",
   "outputs": [],
   "execution_count": null
  },
  {
   "metadata": {},
   "cell_type": "markdown",
   "source": "## soil env_local_scale",
   "id": "bd91def46c8e96e"
  },
  {
   "metadata": {},
   "cell_type": "code",
   "source": [
    "output_file_name = \"voting_sheets_output/soil_env_local_scale_voting_sheet.tsv\"\n",
    "\n",
    "# bootstrapping\n",
    "semantic_anchor = 'ENVO:01000813' # astronomical body part \"abp\" for env_local_scale\n",
    "\n",
    "gold_context_selectors = [\n",
    "    'mixs:env_broad',\n",
    "    'mixs:env_local',\n",
    "    'mixs:env_medium'\n",
    "]\n",
    "\n",
    "ncbi_context_selector = 'env_local_scale'\n",
    "\n",
    "nmdc_context_selector= 'env_local_scale_id'\n",
    "\n",
    "## package aka environment aka extension selectors\n",
    "soil_first_where = \"lower(s1.value) like '%soil%'\"\n",
    "gold_first_where = soil_first_where\n",
    "\n",
    "ncbi_package_selector = 'soil.6.0'\n",
    "\n",
    "nmdc_package_selector = 'soil'\n",
    "\n",
    "CONTEXT_ENUM = \"EnvLocalScaleSoilEnum\"\n",
    "\n",
    "previous_submission_schema_url = \"https://raw.githubusercontent.com/microbiomedata/submission-schema/v10.7.0/src/nmdc_submission_schema/schema/nmdc_submission_schema.yaml\"\n",
    "\n",
    "comparison_enum_column_name = 'EnvLocalScaleSoilEnum_10_7'\n"
   ],
   "id": "622675f60fa6dd34",
   "outputs": [],
   "execution_count": null
  },
  {
   "metadata": {},
   "cell_type": "markdown",
   "source": "## plant-associated env_medium",
   "id": "b980432a44467b5b"
  },
  {
   "metadata": {},
   "cell_type": "code",
   "source": [
    "output_file_name = \"voting_sheets_output/plant_associated_env_medium_voting_sheet.tsv\"\n",
    "\n",
    "# bootstrapping\n",
    "semantic_anchor = 'ENVO:00010483' # environmental material for env_medium\n",
    "\n",
    "## context selectors\n",
    "gold_context_selectors = [\n",
    "    'mixs:env_broad',\n",
    "    'mixs:env_local',\n",
    "    'mixs:env_medium'\n",
    "]\n",
    "\n",
    "ncbi_context_selector = 'env_medium'\n",
    "\n",
    "nmdc_context_selector= 'env_medium_id'\n",
    "\n",
    "## package aka environment aka extension selectors\n",
    "plant_first_where = \"lower(s1.value) like '%plant%'\"  # picks up waste water treatment plant\n",
    "gold_first_where = plant_first_where\n",
    "\n",
    "ncbi_package_selector = 'plant-associated.6.0'\n",
    "\n",
    "nmdc_package_selector = 'plant-associated'\n",
    "\n",
    "CONTEXT_ENUM = \"EnvMediumSoilEnum\"\n",
    "\n",
    "previous_submission_schema_url = \"https://raw.githubusercontent.com/microbiomedata/submission-schema/refs/tags/v11.1.0/src/nmdc_submission_schema/schema/nmdc_submission_schema.yaml\"\n",
    "\n",
    "comparison_enum_column_name = 'EnvMediumSoilEnum_11_1'\n"
   ],
   "id": "23c8fc5309d58e42",
   "outputs": [],
   "execution_count": null
  },
  {
   "metadata": {},
   "cell_type": "markdown",
   "source": "## sediment env_medium",
   "id": "57fbbb1c7261470a"
  },
  {
   "metadata": {},
   "cell_type": "code",
   "source": [
    "output_file_name = \"voting_sheets_output/sediment_env_medium_voting_sheet.tsv\"\n",
    "\n",
    "# bootstrapping\n",
    "semantic_anchor = 'ENVO:00010483' # environmental material for env_medium\n",
    "\n",
    "## context selectors\n",
    "gold_context_selectors = [\n",
    "    'mixs:env_broad',\n",
    "    'mixs:env_local',\n",
    "    'mixs:env_medium'\n",
    "]\n",
    "\n",
    "ncbi_context_selector = 'env_medium'\n",
    "\n",
    "nmdc_context_selector= 'env_medium_id'\n",
    "\n",
    "## package aka environment aka extension selectors\n",
    "sediment_first_where = \"lower(s1.value) like '%sediment%'\"\n",
    "gold_first_where = sediment_first_where\n",
    "\n",
    "ncbi_package_selector = 'sediment.6.0'\n",
    "\n",
    "nmdc_package_selector = 'sediment'\n",
    "\n",
    "CONTEXT_ENUM = \"EnvMediumSoilEnum\"\n",
    "\n",
    "previous_submission_schema_url = \"https://raw.githubusercontent.com/microbiomedata/submission-schema/refs/tags/v11.1.0/src/nmdc_submission_schema/schema/nmdc_submission_schema.yaml\"\n",
    "\n",
    "comparison_enum_column_name = 'EnvMediumSoilEnum_11_1'\n"
   ],
   "id": "3d9ca27cfe400bda",
   "outputs": [],
   "execution_count": null
  },
  {
   "metadata": {},
   "cell_type": "markdown",
   "source": "## soil env_medium",
   "id": "a50e6679320330be"
  },
  {
   "metadata": {},
   "cell_type": "code",
   "source": [
    "output_file_name = \"voting_sheets_output/soil_env_medium_voting_sheet.tsv\"\n",
    "\n",
    "# bootstrapping\n",
    "semantic_anchor = 'ENVO:00010483' # environmental material for env_medium\n",
    "\n",
    "## context selectors\n",
    "gold_context_selectors = [\n",
    "    'mixs:env_broad',\n",
    "    'mixs:env_local',\n",
    "    'mixs:env_medium'\n",
    "]\n",
    "\n",
    "ncbi_context_selector = 'env_medium'\n",
    "\n",
    "nmdc_context_selector= 'env_medium_id'\n",
    "\n",
    "## package aka environment aka extension selectors\n",
    "soil_first_where = \"lower(s1.value) like '%soil%'\"\n",
    "gold_first_where = soil_first_where\n",
    "\n",
    "ncbi_package_selector = 'soil.6.0'\n",
    "\n",
    "nmdc_package_selector = 'soil'\n",
    "\n",
    "CONTEXT_ENUM = \"EnvMediumSoilEnum\"\n",
    "\n",
    "previous_submission_schema_url = \"https://raw.githubusercontent.com/microbiomedata/submission-schema/v10.7.0/src/nmdc_submission_schema/schema/nmdc_submission_schema.yaml\"\n",
    "\n",
    "comparison_enum_column_name = 'EnvMediumSoilEnum_10_7'\n"
   ],
   "id": "d10e94e1185ba1e5",
   "outputs": [],
   "execution_count": null
  },
  {
   "metadata": {},
   "cell_type": "markdown",
   "source": "# water env_broad_scale",
   "id": "2107e75f92bfe421"
  },
  {
   "metadata": {},
   "cell_type": "code",
   "source": [
    "output_file_name = \"voting_sheets_output/water_env_broad_scale_voting_sheet.tsv\"\n",
    "\n",
    "# bootstrapping\n",
    "semantic_anchor = 'ENVO:00000428' # biome for env_broad_scale\n",
    "\n",
    "gold_context_selectors = [\n",
    "    'mixs:env_broad',\n",
    "    'mixs:env_local',\n",
    "    'mixs:env_medium'\n",
    "]\n",
    "\n",
    "ncbi_context_selector = 'env_broad_scale'\n",
    "\n",
    "nmdc_context_selector= 'env_broad_scale_id'\n",
    "\n",
    "## package aka environment aka extension selectors\n",
    "water_first_where = \"lower(s1.value) like '%aquatic%' and lower(s1.value) not like '%sediment%'\"\n",
    "gold_first_where = water_first_where\n",
    "\n",
    "ncbi_package_selector = 'water.6.0'\n",
    "\n",
    "nmdc_package_selector = 'water'\n",
    "\n",
    "CONTEXT_ENUM = \"\"\n",
    "\n",
    "previous_submission_schema_url = \"https://raw.githubusercontent.com/microbiomedata/submission-schema/v10.7.0/src/nmdc_submission_schema/schema/nmdc_submission_schema.yaml\"\n",
    "\n",
    "comparison_enum_column_name = 'no_comparison_enum'\n",
    "\n"
   ],
   "id": "a5fd16929f950444",
   "outputs": [],
   "execution_count": null
  },
  {
   "metadata": {},
   "cell_type": "markdown",
   "source": "## water env_local_scale",
   "id": "38feb0092dfbbed3"
  },
  {
   "metadata": {},
   "cell_type": "code",
   "source": [
    "output_file_name = \"voting_sheets_output/water_env_local_scale_voting_sheet.tsv\"\n",
    "\n",
    "# bootstrapping\n",
    "semantic_anchor = 'ENVO:01000813' # astronomical body part \"abp\" for env_local_scale\n",
    "\n",
    "gold_context_selectors = [\n",
    "    'mixs:env_broad',\n",
    "    'mixs:env_local',\n",
    "    'mixs:env_medium'\n",
    "]\n",
    "\n",
    "ncbi_context_selector = 'env_local_scale'\n",
    "\n",
    "nmdc_context_selector= 'env_local_scale_id'\n",
    "\n",
    "## package aka environment aka extension selectors\n",
    "water_first_where = \"lower(s1.value) like '%aquatic%' and lower(s1.value) not like '%sediment%'\"\n",
    "gold_first_where = water_first_where\n",
    "\n",
    "ncbi_package_selector = 'water.6.0'\n",
    "\n",
    "nmdc_package_selector = 'water'\n",
    "\n",
    "CONTEXT_ENUM = \"\"\n",
    "\n",
    "previous_submission_schema_url = \"https://raw.githubusercontent.com/microbiomedata/submission-schema/v10.7.0/src/nmdc_submission_schema/schema/nmdc_submission_schema.yaml\"\n",
    "\n",
    "comparison_enum_column_name = 'no_comparison_enum'"
   ],
   "id": "30b45bed3c2a0302",
   "outputs": [],
   "execution_count": null
  },
  {
   "metadata": {},
   "cell_type": "markdown",
   "source": "## water env_medium",
   "id": "1a4c153d4bc6b74e"
  },
  {
   "metadata": {},
   "cell_type": "code",
   "source": [
    "output_file_name = \"voting_sheets_output/water_env_medium_voting_sheet.tsv\"\n",
    "\n",
    "# bootstrapping\n",
    "semantic_anchor = 'ENVO:00010483' # environmental material for env_medium\n",
    "\n",
    "## context selectors\n",
    "gold_context_selectors = [\n",
    "    'mixs:env_broad',\n",
    "    'mixs:env_local',\n",
    "    'mixs:env_medium'\n",
    "]\n",
    "\n",
    "ncbi_context_selector = 'env_medium'\n",
    "\n",
    "nmdc_context_selector= 'env_medium_id'\n",
    "\n",
    "## package aka environment aka extension selectors\n",
    "water_first_where = \"lower(s1.value) like '%aquatic%' and lower(s1.value) not like '%sediment%'\"\n",
    "gold_first_where = water_first_where\n",
    "\n",
    "ncbi_package_selector = 'water.6.0'\n",
    "\n",
    "nmdc_package_selector = 'water'\n",
    "\n",
    "CONTEXT_ENUM = \"\"\n",
    "\n",
    "previous_submission_schema_url = \"https://raw.githubusercontent.com/microbiomedata/submission-schema/v10.7.0/src/nmdc_submission_schema/schema/nmdc_submission_schema.yaml\"\n",
    "\n",
    "comparison_enum_column_name = 'no_comparison_enum'"
   ],
   "id": "5362cd34fd02b49b",
   "outputs": [],
   "execution_count": null
  },
  {
   "metadata": {},
   "cell_type": "markdown",
   "source": [
    "# Additional Settings\n",
    "safe to run all of these cells sequentially"
   ],
   "id": "b799aabdd66098c0"
  },
  {
   "metadata": {
    "ExecuteTime": {
     "end_time": "2024-12-12T14:56:06.386238Z",
     "start_time": "2024-12-12T14:56:06.382431Z"
    }
   },
   "cell_type": "code",
   "source": [
    "# Approved prefixes (case-insensitive)\n",
    "approved_prefixes = ['ENVO']"
   ],
   "id": "50e39f658f4bd77b",
   "outputs": [],
   "execution_count": 6
  },
  {
   "metadata": {
    "ExecuteTime": {
     "end_time": "2024-12-12T14:56:10.439332Z",
     "start_time": "2024-12-12T14:56:10.435018Z"
    }
   },
   "cell_type": "code",
   "source": "MIN_ANNOTATION_LEN = 3",
   "id": "3aa0b52456f0a95c",
   "outputs": [],
   "execution_count": 7
  },
  {
   "cell_type": "code",
   "id": "d526be618b8b9129",
   "metadata": {
    "ExecuteTime": {
     "end_time": "2024-12-12T14:56:10.725392Z",
     "start_time": "2024-12-12T14:56:10.721910Z"
    }
   },
   "source": [
    "NMDC_RUNTIME_BASE_URL = 'https://api.microbiomedata.org/nmdcschema/'\n",
    "STUDY_SET_COLLECTION = 'study_set'\n",
    "BIOSAMPLE_SET_COLLECTION = 'biosample_set'"
   ],
   "outputs": [],
   "execution_count": 8
  },
  {
   "cell_type": "code",
   "id": "11c0cba800e33ac6",
   "metadata": {
    "ExecuteTime": {
     "end_time": "2024-12-12T14:56:10.880296Z",
     "start_time": "2024-12-12T14:56:10.877537Z"
    }
   },
   "source": [
    "envo_adapter_string = \"sqlite:obo:envo\""
   ],
   "outputs": [],
   "execution_count": 9
  },
  {
   "cell_type": "code",
   "id": "7795121f47307a00",
   "metadata": {
    "ExecuteTime": {
     "end_time": "2024-12-12T14:56:11.088262Z",
     "start_time": "2024-12-12T14:56:11.085353Z"
    }
   },
   "source": [
    "env_package_override_file = 'mam-env-package-overrides.tsv'\n",
    "override_column = 'mam_inferred_env_package'"
   ],
   "outputs": [],
   "execution_count": 10
  },
  {
   "cell_type": "code",
   "id": "f1b99451d88ce356",
   "metadata": {
    "ExecuteTime": {
     "end_time": "2024-12-12T14:56:11.337872Z",
     "start_time": "2024-12-12T14:56:11.334497Z"
    }
   },
   "source": [
    "# ncbi_duckdb_url = 'https://portal.nersc.gov/project/m3408/biosamples_duckdb/ncbi_biosamples_2024-09-23.duckdb.gz'\n",
    "ncbi_duckdb_url = 'https://portal.nersc.gov/project/m3408/biosamples_duckdb/ncbi_biosamples.duckdb.gz'"
   ],
   "outputs": [],
   "execution_count": 11
  },
  {
   "cell_type": "code",
   "id": "51e5d41b02b19eec",
   "metadata": {
    "ExecuteTime": {
     "end_time": "2024-12-12T14:56:11.616846Z",
     "start_time": "2024-12-12T14:56:11.612849Z"
    }
   },
   "source": [
    "gold_data_url = \"https://gold.jgi.doe.gov/download?mode=site_excel\"\n",
    "gold_data_file_name = \"goldData.xlsx\" # goldData.xlsx: Microsoft Excel 2007+\n",
    "gold_csv_file_name = \"gold_biosamples.csv\"\n",
    "BIOSAMPLES_SHEET = \"Biosample\""
   ],
   "outputs": [],
   "execution_count": 12
  },
  {
   "cell_type": "code",
   "id": "e1d9f705fad2efa9",
   "metadata": {
    "ExecuteTime": {
     "end_time": "2024-12-12T14:56:11.856718Z",
     "start_time": "2024-12-12T14:56:11.853136Z"
    }
   },
   "source": "goldterms_semsql_url = \"https://s3.amazonaws.com/bbop-sqlite/goldterms.db.gz\"",
   "outputs": [],
   "execution_count": 13
  },
  {
   "metadata": {
    "ExecuteTime": {
     "end_time": "2024-12-12T14:56:12.081540Z",
     "start_time": "2024-12-12T14:56:12.078914Z"
    }
   },
   "cell_type": "code",
   "source": "all_nmdc_biosamples_file = 'all_nmdc_biosamples.json'",
   "id": "db6170cb9f3a6ca0",
   "outputs": [],
   "execution_count": 14
  },
  {
   "metadata": {},
   "cell_type": "markdown",
   "source": "# CURIe Constants",
   "id": "16e21c18886a373c"
  },
  {
   "metadata": {
    "ExecuteTime": {
     "end_time": "2024-12-12T14:56:12.313173Z",
     "start_time": "2024-12-12T14:56:12.306275Z"
    }
   },
   "cell_type": "code",
   "source": [
    "BIOME = 'ENVO:00000428'\n",
    "TERRESTRIAL_BIOME = 'ENVO:00000446'\n",
    "AQUATIC_BIOME = 'ENVO:00002030'\n",
    "ABP = 'ENVO:01000813'\n",
    "ENVIRONMENTAL_SYSTEM = 'ENVO:01000254'\n",
    "ENVIRONMENTAL_MATERIAL = 'ENVO:00010483'\n",
    "\n",
    "SOIL = 'ENVO:00001998'\n",
    "LIQUID_WATER = 'ENVO:00002006'\n",
    "WATER_ICE = 'ENVO:01000277'\n",
    "\n",
    "HUMAN_CONSTRUCTION = 'ENVO:00000070'\n",
    "BUILDING = 'ENVO:00000073'\n",
    "BUILDING_PART = 'ENVO:01000420'"
   ],
   "id": "73e52103eb69bbcc",
   "outputs": [],
   "execution_count": 15
  },
  {
   "metadata": {},
   "cell_type": "markdown",
   "source": "# Settings-based Queries",
   "id": "7ecec14181910236"
  },
  {
   "cell_type": "code",
   "id": "fb8c7caf28e64d10",
   "metadata": {
    "ExecuteTime": {
     "end_time": "2024-12-12T14:56:12.542025Z",
     "start_time": "2024-12-12T14:56:12.538793Z"
    }
   },
   "source": [
    "# todo could this have been done with a OAK query, eliminating the need to explicitly download the file?\n",
    "\n",
    "goldterms_envo_query = f\"\"\"\n",
    "SELECT\n",
    "\t*\n",
    "FROM\n",
    "\tstatements s\n",
    "WHERE\n",
    "\tpredicate in ('{\"', '\".join(gold_context_selectors)}')\"\"\""
   ],
   "outputs": [],
   "execution_count": 16
  },
  {
   "cell_type": "code",
   "id": "afd52cf83301de09",
   "metadata": {
    "ExecuteTime": {
     "end_time": "2024-12-12T14:56:12.688752Z",
     "start_time": "2024-12-12T14:56:12.685990Z"
    }
   },
   "source": [
    "ncbi_biosamples_per_annotation_query = f\"\"\"\n",
    "SELECT content, COUNT(1) AS count \n",
    "FROM attributes \n",
    "WHERE harmonized_name = '{ncbi_context_selector}' AND package_content like '%{ncbi_package_selector}'\n",
    "GROUP BY content\n",
    "ORDER BY COUNT(1) DESC\n",
    "\"\"\""
   ],
   "outputs": [],
   "execution_count": 17
  },
  {
   "metadata": {
    "ExecuteTime": {
     "end_time": "2024-12-12T14:56:12.978734Z",
     "start_time": "2024-12-12T14:56:12.975752Z"
    }
   },
   "cell_type": "code",
   "source": [
    "ncbi_bioprojects_per_annotation_query = f\"\"\"\n",
    "SELECT\n",
    "\ta.content,\n",
    "\tcount(DISTINCT l.content) AS count\n",
    "FROM\n",
    "\tmain.ATTRIBUTES a\n",
    "JOIN main.links l \n",
    "\tON\n",
    "\ta.id = l.id\n",
    "WHERE\n",
    "\tl.target = 'bioproject'\n",
    "\tAND harmonized_name = 'env_local_scale'\n",
    "\tAND package_content like '%{ncbi_package_selector}'\n",
    "GROUP BY\n",
    "\ta.content\n",
    "ORDER BY\n",
    "\tcount(DISTINCT l.content) DESC ;\n",
    "\"\"\""
   ],
   "id": "d82477b892c2a7a3",
   "outputs": [],
   "execution_count": 18
  },
  {
   "metadata": {
    "ExecuteTime": {
     "end_time": "2024-12-12T14:56:13.098943Z",
     "start_time": "2024-12-12T14:56:13.095755Z"
    }
   },
   "cell_type": "code",
   "source": "ncbi_X_per_annotation_query = ncbi_bioprojects_per_annotation_query",
   "id": "f86458549b99121b",
   "outputs": [],
   "execution_count": 19
  },
  {
   "metadata": {
    "ExecuteTime": {
     "end_time": "2024-12-12T14:56:13.363609Z",
     "start_time": "2024-12-12T14:56:13.360361Z"
    }
   },
   "cell_type": "code",
   "source": [
    "# and s1.subject = s1.stanza eliminates matches on blank node annotation rows (probably wouldn't change results but adds a little overhead)\n",
    "\n",
    "extension_query = f\"\"\"\n",
    "select\n",
    "\t\ts1.subject ,\n",
    "\t\ts2.predicate,\n",
    "\t\tCOALESCE (s2.\"object\",\n",
    "\ts2.\"value\") as content\n",
    "from\n",
    "\tstatements s1\n",
    "join statements s2 on \n",
    "\ts1.subject = s2.subject\n",
    "where\n",
    "\t{gold_first_where}\n",
    "\tand s1.predicate = 'rdfs:label'\n",
    "\tand s1.subject = s1.stanza\n",
    "\tand s2.predicate in ('mixs:env_broad', 'mixs:env_local', 'mixs:env_medium', 'mixs:mixs_extension', 'rdfs:label', 'mixs:other', 'mixs:anatomical_site', 'mixs:host_taxon') ;\n",
    "\"\"\"\n"
   ],
   "id": "8cdd3e6e17a2bac3",
   "outputs": [],
   "execution_count": 20
  },
  {
   "metadata": {},
   "cell_type": "markdown",
   "source": [
    "# Locally Defined Functions\n",
    "_Currently using locally-defined cache dictionaries_"
   ],
   "id": "6c4cf0d065a7de07"
  },
  {
   "cell_type": "code",
   "id": "38412bd611726160",
   "metadata": {
    "ExecuteTime": {
     "end_time": "2024-12-12T14:56:13.555747Z",
     "start_time": "2024-12-12T14:56:13.546169Z"
    }
   },
   "source": [
    "def predict_from_normalized_env_packages(df_raw, adapter):\n",
    "    # Apply the function to the relevant columns\n",
    "\n",
    "    df = df_raw.copy()\n",
    "\n",
    "    print(df.shape)\n",
    "    for column in ['env_broad_scale_id', 'env_local_scale_id', 'env_medium_id']:\n",
    "        df[f'{column}_ancestors'] = df[column].apply(lambda x: get_hierarchy_terms(x, adapter)['ancestors'])\n",
    "        df[f'{column}_descendants'] = df[column].apply(lambda x: get_hierarchy_terms(x, adapter)['descendants'])\n",
    "\n",
    "    # Vectorize each set of terms separately\n",
    "    broad_scale_ancestors = vectorize_terms(df, 'env_broad_scale_id_ancestors')\n",
    "    broad_scale_descendants = vectorize_terms(df, 'env_broad_scale_id_descendants')\n",
    "\n",
    "    local_scale_ancestors = vectorize_terms(df, 'env_local_scale_id_ancestors')\n",
    "    local_scale_descendants = vectorize_terms(df, 'env_local_scale_id_descendants')\n",
    "\n",
    "    medium_ancestors = vectorize_terms(df, 'env_medium_id_ancestors')\n",
    "    medium_descendants = vectorize_terms(df, 'env_medium_id_descendants')\n",
    "\n",
    "    # Combine all feature matrices\n",
    "    X = hstack([\n",
    "        broad_scale_ancestors,\n",
    "        broad_scale_descendants,\n",
    "        local_scale_ancestors,\n",
    "        local_scale_descendants,\n",
    "        medium_ancestors,\n",
    "        medium_descendants\n",
    "    ])\n",
    "\n",
    "    # Filter the DataFrame to only include non-null rows for the target column\n",
    "    df_filtered = df[df['normalized_env_package'].notnull() & (df['normalized_env_package'] != \"\")]\n",
    "\n",
    "    # Extract the target variable\n",
    "    y = df_filtered['normalized_env_package']\n",
    "\n",
    "    # Ensure X corresponds to the filtered rows\n",
    "    X_filtered = X[df_filtered.index]\n",
    "\n",
    "    # Split the data into training and testing sets\n",
    "    X_train, X_test, y_train, y_test = train_test_split(X_filtered, y, test_size=0.3, random_state=42)\n",
    "\n",
    "    # Train a Random Forest Classifier\n",
    "    clf = RandomForestClassifier(n_estimators=100, random_state=42)\n",
    "    clf.fit(X_train, y_train)\n",
    "\n",
    "    # Make predictions on the test set\n",
    "    y_pred = clf.predict(X_test)\n",
    "\n",
    "    # Evaluate the model\n",
    "    print(classification_report(y_test, y_pred))\n",
    "\n",
    "    # not determining confidence for each class nor saving any diagnostics any more\n",
    "\n",
    "    return clf.predict(X)"
   ],
   "outputs": [],
   "execution_count": 21
  },
  {
   "cell_type": "code",
   "id": "4515456aaeaa7980",
   "metadata": {
    "ExecuteTime": {
     "end_time": "2024-12-12T14:56:13.776015Z",
     "start_time": "2024-12-12T14:56:13.770036Z"
    }
   },
   "source": [
    "def get_hierarchy_terms(my_curie: str, adapter) -> dict:\n",
    "    \"\"\"\n",
    "    Extract ancestor and descendant terms from the ontology for a given CURIE,\n",
    "    using caching to improve performance and filtering by 'is_a' relationships.\n",
    "\n",
    "    Args:\n",
    "        my_curie (str): CURIE identifier for the ontology term.\n",
    "        adapter: Ontology adapter.\n",
    "\n",
    "    Returns:\n",
    "        dict: Dictionary containing lists of ancestor and descendant terms.\n",
    "    \"\"\"\n",
    "    if my_curie not in ancestor_cache:\n",
    "        try:\n",
    "            ancestors = list(adapter.ancestors(my_curie, predicates=[IS_A]))\n",
    "            ancestor_cache[my_curie] = [adapter.label(ancestor) for ancestor in ancestors if ancestor]\n",
    "        except Exception as my_e:\n",
    "            print(f\"Error retrieving ancestors for {my_curie}: {my_e}\")\n",
    "            ancestor_cache[my_curie] = []\n",
    "\n",
    "    if my_curie not in descendant_cache:\n",
    "        try:\n",
    "            descendants = list(adapter.descendants(my_curie, predicates=[IS_A]))\n",
    "            descendant_cache[my_curie] = [adapter.label(descendant) for descendant in descendants if descendant]\n",
    "        except Exception as my_e:\n",
    "            print(f\"Error retrieving descendants for {my_curie}: {my_e}\")\n",
    "            descendant_cache[my_curie] = []\n",
    "\n",
    "    return {\n",
    "        'ancestors': ancestor_cache[my_curie],\n",
    "        'descendants': descendant_cache[my_curie],\n",
    "    }"
   ],
   "outputs": [],
   "execution_count": 22
  },
  {
   "metadata": {},
   "cell_type": "markdown",
   "source": "# Procedural Code Starts Here",
   "id": "1423fbbafdf5e167"
  },
  {
   "cell_type": "code",
   "id": "44fb14c1b01ac34c",
   "metadata": {
    "ExecuteTime": {
     "end_time": "2024-12-12T14:56:14.052728Z",
     "start_time": "2024-12-12T14:56:14.048218Z"
    }
   },
   "source": [
    "# Determine the filenames and target directory for the NCBI DuckDB\n",
    "ncbi_compressed_filename = urlparse(ncbi_duckdb_url).path.split('/')[-1]\n",
    "ncbi_filename = os.path.splitext(ncbi_compressed_filename)[0]\n",
    "ncbi_compressed_file_path = os.path.join(ncbi_compressed_filename)\n",
    "ncbi_uncompressed_file_path = os.path.join(ncbi_filename)\n"
   ],
   "outputs": [],
   "execution_count": 23
  },
  {
   "cell_type": "code",
   "id": "353ba83ec3059ac5",
   "metadata": {
    "ExecuteTime": {
     "end_time": "2024-12-12T14:56:14.411941Z",
     "start_time": "2024-12-12T14:56:14.406362Z"
    }
   },
   "source": [
    "if os.path.isfile(ncbi_uncompressed_file_path):\n",
    "    print(f\"{ncbi_uncompressed_file_path} is already present in the current working directory.\")\n",
    "else:\n",
    "    if os.path.isfile(ncbi_compressed_file_path):\n",
    "        print(f\"{ncbi_compressed_file_path} is already present in the current working directory.\")\n",
    "    else:\n",
    "        print(f\"{ncbi_compressed_file_path} needs to be downloaded\")\n",
    "        ncbi_response = requests.get(ncbi_duckdb_url)\n",
    "        with open(ncbi_compressed_file_path, \"wb\") as f:\n",
    "            f.write(ncbi_response.content)\n",
    "        # ~ 2 minutes @ 250 Mbps\n",
    "    \n",
    "    # Unzip the compressed file and save the extracted file in target directory\n",
    "    print(f\"{ncbi_compressed_file_path} needs to be unpacked\")\n",
    "    with gzip.open(ncbi_compressed_file_path, \"rb\") as f_in:\n",
    "        with open(ncbi_uncompressed_file_path, \"wb\") as f_out:\n",
    "            shutil.copyfileobj(f_in, f_out)\n",
    "\n",
    "    # ~ 2 minutes"
   ],
   "outputs": [
    {
     "name": "stdout",
     "output_type": "stream",
     "text": [
      "ncbi_biosamples.duckdb is already present in the current working directory.\n"
     ]
    }
   ],
   "execution_count": 24
  },
  {
   "cell_type": "code",
   "id": "63f815cbfb9b7a6b",
   "metadata": {
    "ExecuteTime": {
     "end_time": "2024-12-12T14:56:14.685782Z",
     "start_time": "2024-12-12T14:56:14.635491Z"
    }
   },
   "source": [
    "ncbi_conn = duckdb.connect(database=ncbi_uncompressed_file_path, read_only=True)"
   ],
   "outputs": [],
   "execution_count": 25
  },
  {
   "cell_type": "code",
   "id": "198256f26bc060e3",
   "metadata": {
    "ExecuteTime": {
     "end_time": "2024-12-12T14:56:14.952549Z",
     "start_time": "2024-12-12T14:56:14.907142Z"
    }
   },
   "source": [
    "envo_adapter = get_adapter(envo_adapter_string)"
   ],
   "outputs": [],
   "execution_count": 26
  },
  {
   "metadata": {},
   "cell_type": "markdown",
   "source": "# Anchor aka bootstrapping classes",
   "id": "491e3ded2d1fba45"
  },
  {
   "cell_type": "code",
   "id": "e863dc687ce4be5c",
   "metadata": {
    "ExecuteTime": {
     "end_time": "2024-12-12T14:56:15.458570Z",
     "start_time": "2024-12-12T14:56:15.214543Z"
    }
   },
   "source": "anchor_descendants = get_curie_descendants_label_dict(semantic_anchor, [IS_A], envo_adapter)",
   "outputs": [],
   "execution_count": 27
  },
  {
   "cell_type": "code",
   "id": "394abb56c4987eee",
   "metadata": {
    "ExecuteTime": {
     "end_time": "2024-12-12T14:56:15.606609Z",
     "start_time": "2024-12-12T14:56:15.603729Z"
    }
   },
   "source": [
    "anchor_descendants_lod = curie_descendants_label_dict_to_lod(anchor_descendants)"
   ],
   "outputs": [],
   "execution_count": 28
  },
  {
   "cell_type": "code",
   "id": "eea1a3f8395da0d7",
   "metadata": {
    "ExecuteTime": {
     "end_time": "2024-12-12T14:56:16.045605Z",
     "start_time": "2024-12-12T14:56:16.041739Z"
    }
   },
   "source": [
    "anchor_descendants_frame = curie_descendants_label_lod_to_df(anchor_descendants_lod)"
   ],
   "outputs": [],
   "execution_count": 29
  },
  {
   "cell_type": "code",
   "id": "f85faf81e0a55a42",
   "metadata": {
    "ExecuteTime": {
     "end_time": "2024-12-12T14:56:16.418722Z",
     "start_time": "2024-12-12T14:56:16.403557Z"
    }
   },
   "source": [
    "anchor_descendants_frame"
   ],
   "outputs": [
    {
     "data": {
      "text/plain": [
       "             curie                          label\n",
       "0    ENVO:01001505            alpine tundra biome\n",
       "1    ENVO:01000024           marine benthic biome\n",
       "2    ENVO:01000252          freshwater lake biome\n",
       "3    ENVO:01000180                   tundra biome\n",
       "4    ENVO:01000123       marine sponge reef biome\n",
       "..             ...                            ...\n",
       "123  ENVO:01000858         marine upwelling biome\n",
       "124  ENVO:01000188         tropical savanna biome\n",
       "125  ENVO:01000042  neritic epipelagic zone biome\n",
       "126  ENVO:01000045              epeiric sea biome\n",
       "127  ENVO:01000049        marine coral reef biome\n",
       "\n",
       "[128 rows x 2 columns]"
      ],
      "text/html": [
       "<div>\n",
       "<style scoped>\n",
       "    .dataframe tbody tr th:only-of-type {\n",
       "        vertical-align: middle;\n",
       "    }\n",
       "\n",
       "    .dataframe tbody tr th {\n",
       "        vertical-align: top;\n",
       "    }\n",
       "\n",
       "    .dataframe thead th {\n",
       "        text-align: right;\n",
       "    }\n",
       "</style>\n",
       "<table border=\"1\" class=\"dataframe\">\n",
       "  <thead>\n",
       "    <tr style=\"text-align: right;\">\n",
       "      <th></th>\n",
       "      <th>curie</th>\n",
       "      <th>label</th>\n",
       "    </tr>\n",
       "  </thead>\n",
       "  <tbody>\n",
       "    <tr>\n",
       "      <th>0</th>\n",
       "      <td>ENVO:01001505</td>\n",
       "      <td>alpine tundra biome</td>\n",
       "    </tr>\n",
       "    <tr>\n",
       "      <th>1</th>\n",
       "      <td>ENVO:01000024</td>\n",
       "      <td>marine benthic biome</td>\n",
       "    </tr>\n",
       "    <tr>\n",
       "      <th>2</th>\n",
       "      <td>ENVO:01000252</td>\n",
       "      <td>freshwater lake biome</td>\n",
       "    </tr>\n",
       "    <tr>\n",
       "      <th>3</th>\n",
       "      <td>ENVO:01000180</td>\n",
       "      <td>tundra biome</td>\n",
       "    </tr>\n",
       "    <tr>\n",
       "      <th>4</th>\n",
       "      <td>ENVO:01000123</td>\n",
       "      <td>marine sponge reef biome</td>\n",
       "    </tr>\n",
       "    <tr>\n",
       "      <th>...</th>\n",
       "      <td>...</td>\n",
       "      <td>...</td>\n",
       "    </tr>\n",
       "    <tr>\n",
       "      <th>123</th>\n",
       "      <td>ENVO:01000858</td>\n",
       "      <td>marine upwelling biome</td>\n",
       "    </tr>\n",
       "    <tr>\n",
       "      <th>124</th>\n",
       "      <td>ENVO:01000188</td>\n",
       "      <td>tropical savanna biome</td>\n",
       "    </tr>\n",
       "    <tr>\n",
       "      <th>125</th>\n",
       "      <td>ENVO:01000042</td>\n",
       "      <td>neritic epipelagic zone biome</td>\n",
       "    </tr>\n",
       "    <tr>\n",
       "      <th>126</th>\n",
       "      <td>ENVO:01000045</td>\n",
       "      <td>epeiric sea biome</td>\n",
       "    </tr>\n",
       "    <tr>\n",
       "      <th>127</th>\n",
       "      <td>ENVO:01000049</td>\n",
       "      <td>marine coral reef biome</td>\n",
       "    </tr>\n",
       "  </tbody>\n",
       "</table>\n",
       "<p>128 rows × 2 columns</p>\n",
       "</div>"
      ]
     },
     "execution_count": 30,
     "metadata": {},
     "output_type": "execute_result"
    }
   ],
   "execution_count": 30
  },
  {
   "cell_type": "markdown",
   "id": "857f1f1efd4635b9",
   "metadata": {},
   "source": "# Classes from the reference enumeration"
  },
  {
   "cell_type": "code",
   "id": "1432828ce7983148",
   "metadata": {
    "ExecuteTime": {
     "end_time": "2024-12-12T14:56:20.110635Z",
     "start_time": "2024-12-12T14:56:16.579401Z"
    }
   },
   "source": [
    "sv = get_schemaview_from_source(previous_submission_schema_url)"
   ],
   "outputs": [],
   "execution_count": 31
  },
  {
   "cell_type": "code",
   "id": "5841e0d6bc3d3c40",
   "metadata": {
    "ExecuteTime": {
     "end_time": "2024-12-12T14:56:20.120559Z",
     "start_time": "2024-12-12T14:56:20.113270Z"
    }
   },
   "source": [
    "# todo break out slow steps into its own cell\n",
    "\n",
    "try:\n",
    "    CONTEXT_ENUM_def = sv.get_enum(CONTEXT_ENUM)\n",
    "    context_pvs_keys = list(CONTEXT_ENUM_def.permissible_values.keys())\n",
    "except AttributeError as e:\n",
    "    # Handle the AttributeError\n",
    "    print(f\"An AttributeError occurred: {e}\")\n",
    "    context_pvs_keys =[]\n",
    "    "
   ],
   "outputs": [],
   "execution_count": 32
  },
  {
   "metadata": {
    "ExecuteTime": {
     "end_time": "2024-12-12T14:56:20.126027Z",
     "start_time": "2024-12-12T14:56:20.122528Z"
    }
   },
   "cell_type": "code",
   "source": "print(context_pvs_keys)",
   "id": "e47067e5b704ee70",
   "outputs": [
    {
     "name": "stdout",
     "output_type": "stream",
     "text": [
      "['alpine tundra biome [ENVO:01001505]', 'anthropogenic terrestrial biome [ENVO:01000219]', 'broadleaf forest biome [ENVO:01000197]', 'coniferous forest biome [ENVO:01000196]', 'cropland biome [ENVO:01000245]', 'flooded grassland biome [ENVO:01000195]', 'flooded savanna biome [ENVO:01000190]', 'forest biome [ENVO:01000174]', 'grassland biome [ENVO:01000177]', 'mangrove biome [ENVO:01000181]', 'mediterranean forest biome [ENVO:01000199]', 'mediterranean grassland biome [ENVO:01000224]', 'mediterranean savanna biome [ENVO:01000229]', 'mediterranean shrubland biome [ENVO:01000217]', 'mediterranean woodland biome [ENVO:01000208]', 'mixed forest biome [ENVO:01000198]', 'montane grassland biome [ENVO:01000194]', 'montane savanna biome [ENVO:01000223]', 'montane shrubland biome [ENVO:01000216]', 'rangeland biome [ENVO:01000247]', 'savanna biome [ENVO:01000178]', 'shrubland biome [ENVO:01000176]', 'subpolar coniferous forest biome [ENVO:01000250]', 'subtropical broadleaf forest biome [ENVO:01000201]', 'subtropical coniferous forest biome [ENVO:01000209]', 'subtropical dry broadleaf forest biome [ENVO:01000225]', 'subtropical grassland biome [ENVO:01000191]', 'subtropical moist broadleaf forest biome [ENVO:01000226]', 'subtropical savanna biome [ENVO:01000187]', 'subtropical shrubland biome [ENVO:01000213]', 'subtropical woodland biome [ENVO:01000222]', 'temperate broadleaf forest biome [ENVO:01000202]', 'temperate coniferous forest biome [ENVO:01000211]', 'temperate grassland biome [ENVO:01000193]', 'temperate mixed forest biome [ENVO:01000212]', 'temperate savanna biome [ENVO:01000189]', 'temperate shrubland biome [ENVO:01000215]', 'temperate woodland biome [ENVO:01000221]', 'terrestrial biome [ENVO:00000446]', 'tidal mangrove shrubland [ENVO:01001369]', 'tropical broadleaf forest biome [ENVO:01000200]', 'tropical coniferous forest biome [ENVO:01000210]', 'tropical dry broadleaf forest biome [ENVO:01000227]', 'tropical grassland biome [ENVO:01000192]', 'tropical mixed forest biome [ENVO:01001798]', 'tropical moist broadleaf forest biome [ENVO:01000228]', 'tropical savanna biome [ENVO:01000188]', 'tropical shrubland biome [ENVO:01000214]', 'tropical woodland biome [ENVO:01000220]', 'tundra biome [ENVO:01000180]', 'woodland biome [ENVO:01000175]', 'xeric shrubland biome [ENVO:01000218]']\n"
     ]
    }
   ],
   "execution_count": 33
  },
  {
   "cell_type": "code",
   "id": "79282f64358e1608",
   "metadata": {
    "ExecuteTime": {
     "end_time": "2024-12-12T14:56:20.133104Z",
     "start_time": "2024-12-12T14:56:20.129341Z"
    }
   },
   "source": [
    "initially_parsed_context_pvs = parse_hierarchically_underscored_strings(context_pvs_keys)"
   ],
   "outputs": [],
   "execution_count": 34
  },
  {
   "cell_type": "code",
   "id": "5a9492fa605534f2",
   "metadata": {
    "ExecuteTime": {
     "end_time": "2024-12-12T14:56:20.138409Z",
     "start_time": "2024-12-12T14:56:20.134912Z"
    }
   },
   "source": [
    "deduped_context_pvs = dedupe_underscoreless_pvs(initially_parsed_context_pvs)"
   ],
   "outputs": [],
   "execution_count": 35
  },
  {
   "cell_type": "code",
   "id": "214c2e6c9a7089a8",
   "metadata": {
    "ExecuteTime": {
     "end_time": "2024-12-12T14:56:20.166778Z",
     "start_time": "2024-12-12T14:56:20.140364Z"
    }
   },
   "source": [
    "pv_validation_results = validate_curie_label_list_dict(deduped_context_pvs, envo_adapter, print_flag=True)"
   ],
   "outputs": [],
   "execution_count": 36
  },
  {
   "cell_type": "code",
   "id": "e84872aa4f8a9313",
   "metadata": {
    "ExecuteTime": {
     "end_time": "2024-12-12T14:56:20.176274Z",
     "start_time": "2024-12-12T14:56:20.168520Z"
    }
   },
   "source": [
    "pv_validation_results"
   ],
   "outputs": [
    {
     "data": {
      "text/plain": [
       "{'problems': [],\n",
       " 'valids': [{'curie': 'ENVO:01001505', 'label': 'alpine tundra biome'},\n",
       "  {'curie': 'ENVO:01000219', 'label': 'anthropogenic terrestrial biome'},\n",
       "  {'curie': 'ENVO:01000197', 'label': 'broadleaf forest biome'},\n",
       "  {'curie': 'ENVO:01000196', 'label': 'coniferous forest biome'},\n",
       "  {'curie': 'ENVO:01000245', 'label': 'cropland biome'},\n",
       "  {'curie': 'ENVO:01000195', 'label': 'flooded grassland biome'},\n",
       "  {'curie': 'ENVO:01000190', 'label': 'flooded savanna biome'},\n",
       "  {'curie': 'ENVO:01000174', 'label': 'forest biome'},\n",
       "  {'curie': 'ENVO:01000177', 'label': 'grassland biome'},\n",
       "  {'curie': 'ENVO:01000181', 'label': 'mangrove biome'},\n",
       "  {'curie': 'ENVO:01000199', 'label': 'mediterranean forest biome'},\n",
       "  {'curie': 'ENVO:01000224', 'label': 'mediterranean grassland biome'},\n",
       "  {'curie': 'ENVO:01000229', 'label': 'mediterranean savanna biome'},\n",
       "  {'curie': 'ENVO:01000217', 'label': 'mediterranean shrubland biome'},\n",
       "  {'curie': 'ENVO:01000208', 'label': 'mediterranean woodland biome'},\n",
       "  {'curie': 'ENVO:01000198', 'label': 'mixed forest biome'},\n",
       "  {'curie': 'ENVO:01000194', 'label': 'montane grassland biome'},\n",
       "  {'curie': 'ENVO:01000223', 'label': 'montane savanna biome'},\n",
       "  {'curie': 'ENVO:01000216', 'label': 'montane shrubland biome'},\n",
       "  {'curie': 'ENVO:01000247', 'label': 'rangeland biome'},\n",
       "  {'curie': 'ENVO:01000178', 'label': 'savanna biome'},\n",
       "  {'curie': 'ENVO:01000176', 'label': 'shrubland biome'},\n",
       "  {'curie': 'ENVO:01000250', 'label': 'subpolar coniferous forest biome'},\n",
       "  {'curie': 'ENVO:01000201', 'label': 'subtropical broadleaf forest biome'},\n",
       "  {'curie': 'ENVO:01000209', 'label': 'subtropical coniferous forest biome'},\n",
       "  {'curie': 'ENVO:01000225',\n",
       "   'label': 'subtropical dry broadleaf forest biome'},\n",
       "  {'curie': 'ENVO:01000191', 'label': 'subtropical grassland biome'},\n",
       "  {'curie': 'ENVO:01000226',\n",
       "   'label': 'subtropical moist broadleaf forest biome'},\n",
       "  {'curie': 'ENVO:01000187', 'label': 'subtropical savanna biome'},\n",
       "  {'curie': 'ENVO:01000213', 'label': 'subtropical shrubland biome'},\n",
       "  {'curie': 'ENVO:01000222', 'label': 'subtropical woodland biome'},\n",
       "  {'curie': 'ENVO:01000202', 'label': 'temperate broadleaf forest biome'},\n",
       "  {'curie': 'ENVO:01000211', 'label': 'temperate coniferous forest biome'},\n",
       "  {'curie': 'ENVO:01000193', 'label': 'temperate grassland biome'},\n",
       "  {'curie': 'ENVO:01000212', 'label': 'temperate mixed forest biome'},\n",
       "  {'curie': 'ENVO:01000189', 'label': 'temperate savanna biome'},\n",
       "  {'curie': 'ENVO:01000215', 'label': 'temperate shrubland biome'},\n",
       "  {'curie': 'ENVO:01000221', 'label': 'temperate woodland biome'},\n",
       "  {'curie': 'ENVO:00000446', 'label': 'terrestrial biome'},\n",
       "  {'curie': 'ENVO:01001369', 'label': 'tidal mangrove shrubland'},\n",
       "  {'curie': 'ENVO:01000200', 'label': 'tropical broadleaf forest biome'},\n",
       "  {'curie': 'ENVO:01000210', 'label': 'tropical coniferous forest biome'},\n",
       "  {'curie': 'ENVO:01000227', 'label': 'tropical dry broadleaf forest biome'},\n",
       "  {'curie': 'ENVO:01000192', 'label': 'tropical grassland biome'},\n",
       "  {'curie': 'ENVO:01001798', 'label': 'tropical mixed forest biome'},\n",
       "  {'curie': 'ENVO:01000228', 'label': 'tropical moist broadleaf forest biome'},\n",
       "  {'curie': 'ENVO:01000188', 'label': 'tropical savanna biome'},\n",
       "  {'curie': 'ENVO:01000214', 'label': 'tropical shrubland biome'},\n",
       "  {'curie': 'ENVO:01000220', 'label': 'tropical woodland biome'},\n",
       "  {'curie': 'ENVO:01000180', 'label': 'tundra biome'},\n",
       "  {'curie': 'ENVO:01000175', 'label': 'woodland biome'},\n",
       "  {'curie': 'ENVO:01000218', 'label': 'xeric shrubland biome'}]}"
      ]
     },
     "execution_count": 37,
     "metadata": {},
     "output_type": "execute_result"
    }
   ],
   "execution_count": 37
  },
  {
   "cell_type": "markdown",
   "id": "363063c37a433d70",
   "metadata": {},
   "source": "# Get the CURIEs used in NMDC Biosample annotations"
  },
  {
   "cell_type": "code",
   "id": "656e23e9eab154b0",
   "metadata": {
    "ExecuteTime": {
     "end_time": "2024-12-12T14:56:20.601917Z",
     "start_time": "2024-12-12T14:56:20.177803Z"
    }
   },
   "source": [
    "if os.path.isfile(all_nmdc_biosamples_file):\n",
    "    print(f\"{all_nmdc_biosamples_file} is present in the current working directory and will be read into all_nmdc_biosamples.\")\n",
    "    # with open(all_nmdc_biosamples_file, 'r') as file:\n",
    "    #     all_nmdc_biosamples = yaml.full_load(file)\n",
    "    # read as json\n",
    "    with open(all_nmdc_biosamples_file, 'r') as f:\n",
    "        all_nmdc_biosamples = json.load(f)\n",
    "\n",
    "else:\n",
    "    print(f\"All NMDC Biosamples need to be fetched and saved to {all_nmdc_biosamples_file}\")\n",
    "    all_nmdc_biosamples = get_docs_from_nmdc_collection(NMDC_RUNTIME_BASE_URL,\n",
    "                                               BIOSAMPLE_SET_COLLECTION)\n",
    "    # with open(all_nmdc_biosamples_file, 'w') as file:\n",
    "    #     documents = yaml.dump(all_nmdc_biosamples, file)\n",
    "    # save as json\n",
    "    with open(all_nmdc_biosamples_file, 'w') as f:\n",
    "        json.dump(all_nmdc_biosamples, f)\n",
    "\n",
    "# this saves network traffic. could use JSON for faster performance. \n",
    "# 1 minute for network fetch and JSON write?!\n",
    "# 1 minute for yaml read\n",
    "# instantaneous for JSON read?"
   ],
   "outputs": [
    {
     "name": "stdout",
     "output_type": "stream",
     "text": [
      "all_nmdc_biosamples.json is present in the current working directory and will be read into all_nmdc_biosamples.\n"
     ]
    }
   ],
   "execution_count": 38
  },
  {
   "metadata": {},
   "cell_type": "markdown",
   "source": "## Prediction of env_package annotations ",
   "id": "1566ce7dbafcfc71"
  },
  {
   "metadata": {
    "ExecuteTime": {
     "end_time": "2024-12-12T14:56:20.632913Z",
     "start_time": "2024-12-12T14:56:20.603456Z"
    }
   },
   "cell_type": "code",
   "source": [
    "# Specify the output file name\n",
    "env_packages_file = \"nmdc_biosample_asserted_normalized_and_inferred_env_package.tsv\"\n",
    "\n",
    "if os.path.exists(env_packages_file):\n",
    "    # Load the DataFrame from the file if it exists\n",
    "    print(f\"Loading {env_packages_file} into nmdc_biosample_contexts_frame...\")\n",
    "    nmdc_biosample_contexts_frame = pd.read_csv(env_packages_file, sep='\\t')\n",
    "else:\n",
    "    # File doesn't exist; generate the DataFrame\n",
    "    print(f\"{env_packages_file} not found. Predicting from asserted records and {env_package_override_file}...\")\n",
    "\n",
    "    # Load environment package overrides\n",
    "    env_pacakge_overrides = tsv_to_dict_of_dicts(env_package_override_file, 'id')\n",
    "\n",
    "    # Extract biosample contexts\n",
    "    biosample_contexts_lod = biosamples_lod_context_extractor(\n",
    "        all_nmdc_biosamples, envo_adapter,\n",
    "        my_env_pacakge_overrides=env_pacakge_overrides\n",
    "    )\n",
    "\n",
    "    # Create the DataFrame\n",
    "    nmdc_biosample_contexts_frame = pd.DataFrame(biosample_contexts_lod)\n",
    "\n",
    "    # Print value counts for the 'normalized_env_package' column\n",
    "    print(\"\\n\")\n",
    "    print(\"Value counts for normalized_env_package column:\")\n",
    "    print(nmdc_biosample_contexts_frame['normalized_env_package'].value_counts(dropna=False))\n",
    "    print(\"\\n\")\n",
    "\n",
    "    # Generate package predictions\n",
    "    package_predictions = predict_from_normalized_env_packages(nmdc_biosample_contexts_frame, envo_adapter)\n",
    "\n",
    "    # Add predictions to the DataFrame\n",
    "    nmdc_biosample_contexts_frame['predicted_env_package'] = package_predictions\n",
    "\n",
    "    # Save the DataFrame to the file\n",
    "    nmdc_biosample_contexts_frame.to_csv(env_packages_file, sep='\\t', index=False)\n",
    "    print(f\"env_package predictions saved to {env_packages_file}\")\n",
    "\n"
   ],
   "id": "32cee69d6184218f",
   "outputs": [
    {
     "name": "stdout",
     "output_type": "stream",
     "text": [
      "Loading nmdc_biosample_asserted_normalized_and_inferred_env_package.tsv into nmdc_biosample_contexts_frame...\n"
     ]
    }
   ],
   "execution_count": 39
  },
  {
   "metadata": {},
   "cell_type": "markdown",
   "source": [
    "## env-package prediction complete\n",
    "\n",
    "To-do: save this and don't recreate it if it's available\n",
    "\n",
    "Then get it reviewed by other NMDC stakeholders and inject it into MongoDB if approved"
   ],
   "id": "a86897dcc7d47c55"
  },
  {
   "metadata": {},
   "cell_type": "markdown",
   "source": "## Destructively filter `nmdc_biosample_contexts_frame` by `env_package` ",
   "id": "a3f22287b11f918f"
  },
  {
   "cell_type": "code",
   "id": "d5c6aa902c7187e0",
   "metadata": {
    "ExecuteTime": {
     "end_time": "2024-12-12T14:56:20.642340Z",
     "start_time": "2024-12-12T14:56:20.638315Z"
    }
   },
   "source": [
    "nmdc_biosample_contexts_frame.shape"
   ],
   "outputs": [
    {
     "data": {
      "text/plain": [
       "(8362, 15)"
      ]
     },
     "execution_count": 40,
     "metadata": {},
     "output_type": "execute_result"
    }
   ],
   "execution_count": 40
  },
  {
   "cell_type": "code",
   "id": "2b241bcacf4bb100",
   "metadata": {
    "ExecuteTime": {
     "end_time": "2024-12-12T14:56:20.649032Z",
     "start_time": "2024-12-12T14:56:20.644308Z"
    }
   },
   "source": [
    "nmdc_biosample_contexts_frame = nmdc_biosample_contexts_frame[\n",
    "    nmdc_biosample_contexts_frame['predicted_env_package'] == nmdc_package_selector]"
   ],
   "outputs": [],
   "execution_count": 41
  },
  {
   "cell_type": "code",
   "id": "9045896aa4ea468f",
   "metadata": {
    "ExecuteTime": {
     "end_time": "2024-12-12T14:56:20.655094Z",
     "start_time": "2024-12-12T14:56:20.651028Z"
    }
   },
   "source": [
    "nmdc_biosample_contexts_frame.shape"
   ],
   "outputs": [
    {
     "data": {
      "text/plain": [
       "(192, 15)"
      ]
     },
     "execution_count": 42,
     "metadata": {},
     "output_type": "execute_result"
    }
   ],
   "execution_count": 42
  },
  {
   "cell_type": "markdown",
   "id": "aee7b4eea48a8691",
   "metadata": {},
   "source": "# Long process of predicting OBO foundry CURIes from NCBI Biosamples"
  },
  {
   "metadata": {},
   "cell_type": "markdown",
   "source": [
    "## Start by getting unique annotations? Pre-counted by Biosamples\n",
    "\n",
    "Current task is to provide counts by \"study\" aka Bioproject in addition to Biosample counts or instead of Biosamples counts if necessary"
   ],
   "id": "fc58f6a0b79cbfa1"
  },
  {
   "cell_type": "code",
   "id": "3be362b73dbda47a",
   "metadata": {
    "ExecuteTime": {
     "end_time": "2024-12-12T14:56:24.110255Z",
     "start_time": "2024-12-12T14:56:20.656782Z"
    }
   },
   "source": "ncbi_frame = ncbi_conn.execute(ncbi_X_per_annotation_query).fetchdf()\n",
   "outputs": [
    {
     "data": {
      "text/plain": [
       "FloatProgress(value=0.0, layout=Layout(width='auto'), style=ProgressStyle(bar_color='black'))"
      ],
      "application/vnd.jupyter.widget-view+json": {
       "version_major": 2,
       "version_minor": 0,
       "model_id": "7b8c55f752014998ab6ae35f67294bbe"
      }
     },
     "metadata": {},
     "output_type": "display_data"
    }
   ],
   "execution_count": 43
  },
  {
   "cell_type": "code",
   "id": "306ee79ce77f745e",
   "metadata": {
    "ExecuteTime": {
     "end_time": "2024-12-12T14:56:24.122740Z",
     "start_time": "2024-12-12T14:56:24.114487Z"
    }
   },
   "source": [
    "ncbi_frame.insert(0, 'serial_number', range(1, len(ncbi_frame) + 1))"
   ],
   "outputs": [],
   "execution_count": 44
  },
  {
   "cell_type": "code",
   "id": "6f06a6237f0ecdb",
   "metadata": {
    "ExecuteTime": {
     "end_time": "2024-12-12T14:56:24.131118Z",
     "start_time": "2024-12-12T14:56:24.126130Z"
    }
   },
   "source": [
    "# includes values with counts of one... useful for discovering drag-down submissions?"
   ],
   "outputs": [],
   "execution_count": 45
  },
  {
   "metadata": {},
   "cell_type": "markdown",
   "source": [
    "## MIxS and NCBI guidelines imply environmental context slots are multivalued\n",
    "and that the pipe `|` should be used as a delimiter\n",
    "\n",
    "there's an envo_count value below that indicates how ofter other delimiteres might be used"
   ],
   "id": "1b851c8ef274382c"
  },
  {
   "cell_type": "code",
   "id": "f07e55ebd0f4c451",
   "metadata": {
    "ExecuteTime": {
     "end_time": "2024-12-12T14:56:24.146756Z",
     "start_time": "2024-12-12T14:56:24.135225Z"
    }
   },
   "source": [
    "ncbi_frame['content_list'] = ncbi_frame['content'].str.split('|')"
   ],
   "outputs": [],
   "execution_count": 46
  },
  {
   "metadata": {
    "ExecuteTime": {
     "end_time": "2024-12-12T14:56:24.156567Z",
     "start_time": "2024-12-12T14:56:24.149194Z"
    }
   },
   "cell_type": "code",
   "source": [
    "# todo is there any reason to not do this ?\n",
    "ncbi_frame = ncbi_frame[ncbi_frame['content'].notna() & (ncbi_frame['content'] != '')]"
   ],
   "id": "2e96404aa5dd0f7b",
   "outputs": [],
   "execution_count": 47
  },
  {
   "cell_type": "code",
   "id": "f8c2e13cee8818cb",
   "metadata": {
    "ExecuteTime": {
     "end_time": "2024-12-12T14:56:24.168456Z",
     "start_time": "2024-12-12T14:56:24.159760Z"
    }
   },
   "source": [
    "ncbi_frame['content_count'] = ncbi_frame['content_list'].apply(len)"
   ],
   "outputs": [],
   "execution_count": 48
  },
  {
   "cell_type": "code",
   "id": "edeaac7b5ce53cd5",
   "metadata": {
    "ExecuteTime": {
     "end_time": "2024-12-12T14:56:24.179140Z",
     "start_time": "2024-12-12T14:56:24.171794Z"
    }
   },
   "source": [
    "ncbi_frame.shape"
   ],
   "outputs": [
    {
     "data": {
      "text/plain": [
       "(5189, 5)"
      ]
     },
     "execution_count": 49,
     "metadata": {},
     "output_type": "execute_result"
    }
   ],
   "execution_count": 49
  },
  {
   "cell_type": "code",
   "id": "18860251fea32ee5",
   "metadata": {
    "ExecuteTime": {
     "end_time": "2024-12-12T14:56:24.190681Z",
     "start_time": "2024-12-12T14:56:24.181695Z"
    }
   },
   "source": [
    "ncbi_frame = ncbi_frame.explode('content_list').reset_index(drop=True)"
   ],
   "outputs": [],
   "execution_count": 50
  },
  {
   "cell_type": "code",
   "id": "bc8b89960c12f6e6",
   "metadata": {
    "ExecuteTime": {
     "end_time": "2024-12-12T14:56:24.199326Z",
     "start_time": "2024-12-12T14:56:24.192711Z"
    }
   },
   "source": [
    "ncbi_frame.shape"
   ],
   "outputs": [
    {
     "data": {
      "text/plain": [
       "(5307, 5)"
      ]
     },
     "execution_count": 51,
     "metadata": {},
     "output_type": "execute_result"
    }
   ],
   "execution_count": 51
  },
  {
   "metadata": {},
   "cell_type": "markdown",
   "source": [
    "## splitting adds ~ 5% more rows\n",
    "which might be important since were currently using a longest annotation strategy here"
   ],
   "id": "f02aaf625f4158d3"
  },
  {
   "cell_type": "code",
   "id": "85a0a4ccd63b7952",
   "metadata": {
    "ExecuteTime": {
     "end_time": "2024-12-12T14:56:24.205835Z",
     "start_time": "2024-12-12T14:56:24.201769Z"
    }
   },
   "source": [
    "# how many content_list strings contain envo multiple times now?"
   ],
   "outputs": [],
   "execution_count": 52
  },
  {
   "cell_type": "code",
   "id": "4dee374026c8272a",
   "metadata": {
    "ExecuteTime": {
     "end_time": "2024-12-12T14:56:24.221555Z",
     "start_time": "2024-12-12T14:56:24.208229Z"
    }
   },
   "source": [
    "ncbi_frame['envo_count'] = ncbi_frame['content_list'].str.lower().str.count(\"envo\")"
   ],
   "outputs": [],
   "execution_count": 53
  },
  {
   "cell_type": "code",
   "id": "417319d62ef07d0b",
   "metadata": {
    "ExecuteTime": {
     "end_time": "2024-12-12T14:56:24.232133Z",
     "start_time": "2024-12-12T14:56:24.223632Z"
    }
   },
   "source": [
    "ncbi_frame['envo_count'].value_counts()"
   ],
   "outputs": [
    {
     "data": {
      "text/plain": [
       "envo_count\n",
       "0    4759\n",
       "1     531\n",
       "3      15\n",
       "2       1\n",
       "7       1\n",
       "Name: count, dtype: int64"
      ]
     },
     "execution_count": 54,
     "metadata": {},
     "output_type": "execute_result"
    }
   ],
   "execution_count": 54
  },
  {
   "metadata": {},
   "cell_type": "markdown",
   "source": [
    "## If my math is correct, about 0.1% of the annotations still contain multiple CURIes \n",
    "after splitting on pipes\n",
    "\n",
    "There will also be annotations with multiple label-like strings that weren't split because they weren't delimited on pipes\n",
    "That might be a source of lost information since we are using a longest-match annotator here\n",
    "I.e. there could be annotations with multiple hits worth keeping"
   ],
   "id": "21fb4262b735aedc"
  },
  {
   "metadata": {},
   "cell_type": "markdown",
   "source": [
    "## Parsing out CURIEs\n",
    "\n",
    "this has a few limitations. The function only tries pre-specified prefixes (['ENOV'] by default) and only considers colons and underscores valid delimiters."
   ],
   "id": "119dbec6ecf9c65c"
  },
  {
   "cell_type": "code",
   "id": "7b256380eceaceaa",
   "metadata": {
    "ExecuteTime": {
     "end_time": "2024-12-12T14:56:24.869903Z",
     "start_time": "2024-12-12T14:56:24.235719Z"
    }
   },
   "source": [
    "ncbi_frame[['extracted_label', 'extracted_curie']] = ncbi_frame['content_list'].apply(parse_curie_label)"
   ],
   "outputs": [],
   "execution_count": 55
  },
  {
   "cell_type": "code",
   "id": "761e39ab29aef0a7",
   "metadata": {
    "ExecuteTime": {
     "end_time": "2024-12-12T14:56:24.876452Z",
     "start_time": "2024-12-12T14:56:24.871400Z"
    }
   },
   "source": [
    "parse_failures = ncbi_frame[\n",
    "    (ncbi_frame['envo_count'] > 0) & (ncbi_frame['extracted_curie'].isna() | (ncbi_frame['extracted_curie'] == ''))]\n"
   ],
   "outputs": [],
   "execution_count": 56
  },
  {
   "metadata": {},
   "cell_type": "markdown",
   "source": [
    "## In what kinds of cases could no CURIe be parsed\n",
    "despite the presence of \"ENVO\" in the content string?"
   ],
   "id": "e618518e6e85b5aa"
  },
  {
   "cell_type": "code",
   "id": "a9316f11da9ee0c8",
   "metadata": {
    "ExecuteTime": {
     "end_time": "2024-12-12T14:56:24.886946Z",
     "start_time": "2024-12-12T14:56:24.878016Z"
    }
   },
   "source": [
    "parse_failures"
   ],
   "outputs": [
    {
     "data": {
      "text/plain": [
       "      serial_number                                  content  count  \\\n",
       "455             449                            ENVO：00000316      2   \n",
       "2397           2339                                     ENVO      1   \n",
       "4499           4397  Tropical shrubland biome [ENVO01000214]      1   \n",
       "5126           5012   Tropical woodland biome [ENVO01000220]      1   \n",
       "\n",
       "                                 content_list  content_count  envo_count  \\\n",
       "455                             ENVO：00000316              1           1   \n",
       "2397                                     ENVO              1           1   \n",
       "4499  Tropical shrubland biome [ENVO01000214]              1           1   \n",
       "5126   Tropical woodland biome [ENVO01000220]              1           1   \n",
       "\n",
       "                              extracted_label extracted_curie  \n",
       "455                             ENVO：00000316            None  \n",
       "2397                                     ENVO            None  \n",
       "4499  Tropical shrubland biome [ENVO01000214]            None  \n",
       "5126   Tropical woodland biome [ENVO01000220]            None  "
      ],
      "text/html": [
       "<div>\n",
       "<style scoped>\n",
       "    .dataframe tbody tr th:only-of-type {\n",
       "        vertical-align: middle;\n",
       "    }\n",
       "\n",
       "    .dataframe tbody tr th {\n",
       "        vertical-align: top;\n",
       "    }\n",
       "\n",
       "    .dataframe thead th {\n",
       "        text-align: right;\n",
       "    }\n",
       "</style>\n",
       "<table border=\"1\" class=\"dataframe\">\n",
       "  <thead>\n",
       "    <tr style=\"text-align: right;\">\n",
       "      <th></th>\n",
       "      <th>serial_number</th>\n",
       "      <th>content</th>\n",
       "      <th>count</th>\n",
       "      <th>content_list</th>\n",
       "      <th>content_count</th>\n",
       "      <th>envo_count</th>\n",
       "      <th>extracted_label</th>\n",
       "      <th>extracted_curie</th>\n",
       "    </tr>\n",
       "  </thead>\n",
       "  <tbody>\n",
       "    <tr>\n",
       "      <th>455</th>\n",
       "      <td>449</td>\n",
       "      <td>ENVO：00000316</td>\n",
       "      <td>2</td>\n",
       "      <td>ENVO：00000316</td>\n",
       "      <td>1</td>\n",
       "      <td>1</td>\n",
       "      <td>ENVO：00000316</td>\n",
       "      <td>None</td>\n",
       "    </tr>\n",
       "    <tr>\n",
       "      <th>2397</th>\n",
       "      <td>2339</td>\n",
       "      <td>ENVO</td>\n",
       "      <td>1</td>\n",
       "      <td>ENVO</td>\n",
       "      <td>1</td>\n",
       "      <td>1</td>\n",
       "      <td>ENVO</td>\n",
       "      <td>None</td>\n",
       "    </tr>\n",
       "    <tr>\n",
       "      <th>4499</th>\n",
       "      <td>4397</td>\n",
       "      <td>Tropical shrubland biome [ENVO01000214]</td>\n",
       "      <td>1</td>\n",
       "      <td>Tropical shrubland biome [ENVO01000214]</td>\n",
       "      <td>1</td>\n",
       "      <td>1</td>\n",
       "      <td>Tropical shrubland biome [ENVO01000214]</td>\n",
       "      <td>None</td>\n",
       "    </tr>\n",
       "    <tr>\n",
       "      <th>5126</th>\n",
       "      <td>5012</td>\n",
       "      <td>Tropical woodland biome [ENVO01000220]</td>\n",
       "      <td>1</td>\n",
       "      <td>Tropical woodland biome [ENVO01000220]</td>\n",
       "      <td>1</td>\n",
       "      <td>1</td>\n",
       "      <td>Tropical woodland biome [ENVO01000220]</td>\n",
       "      <td>None</td>\n",
       "    </tr>\n",
       "  </tbody>\n",
       "</table>\n",
       "</div>"
      ]
     },
     "execution_count": 57,
     "metadata": {},
     "output_type": "execute_result"
    }
   ],
   "execution_count": 57
  },
  {
   "metadata": {},
   "cell_type": "markdown",
   "source": "## Retrieve the labels for the parsed CURIes",
   "id": "ab4b8ef4ac9758e2"
  },
  {
   "cell_type": "code",
   "id": "9bdebd91856ff679",
   "metadata": {
    "ExecuteTime": {
     "end_time": "2024-12-12T14:56:26.449683Z",
     "start_time": "2024-12-12T14:56:24.893502Z"
    }
   },
   "source": [
    "ncbi_frame['real_label'] = ncbi_frame['extracted_curie'].apply(envo_adapter.label)"
   ],
   "outputs": [],
   "execution_count": 58
  },
  {
   "metadata": {},
   "cell_type": "markdown",
   "source": [
    "## Apply oaklib annotation to the strings after CURIe removal\n",
    "Actually the annotator can (sometimes?) detect colon-delimited CURIEs with lower case prefixes\n",
    "\n",
    "This returns CURIes with evidence but not necessarily the label corresponding to the CURIe"
   ],
   "id": "9710b8f5b9a39057"
  },
  {
   "metadata": {
    "ExecuteTime": {
     "end_time": "2024-12-12T15:37:16.854661Z",
     "start_time": "2024-12-12T15:37:10.215749Z"
    }
   },
   "cell_type": "code",
   "source": [
    "# Specify the lexical index file name\n",
    "envo_lexical_index_file = \"envo_lexical_index.yaml\"\n",
    "\n",
    "# Check if the lexical index file exists\n",
    "if os.path.exists(envo_lexical_index_file):\n",
    "    print(f\"Loading lexical index from {envo_lexical_index_file}...\")\n",
    "    ix = load_lexical_index(envo_lexical_index_file)\n",
    "else:\n",
    "    print(f\"{envo_lexical_index_file} not found. Creating lexical index from envo_adapter...\")\n",
    "    # Create the lexical index from envo_adapter\n",
    "    ix = create_lexical_index(envo_adapter)\n",
    "    # Save the lexical index to a file\n",
    "    save_lexical_index(ix, envo_lexical_index_file)\n",
    "    print(f\"Lexical index saved to {envo_lexical_index_file}\")\n",
    "\n",
    "# Initialize the TextAnnotatorInterface\n",
    "envo_text_annotator_interface = TextAnnotatorInterface()\n",
    "envo_text_annotator_interface.lexical_index = ix\n",
    "\n",
    "# this cell only takes ~ 1 minute, but generates a lot of \"ERRORS\" and WARNINGS in a red font\n",
    "#   while lexically indexing the ontology"
   ],
   "id": "542884744a48f7bf",
   "outputs": [
    {
     "name": "stdout",
     "output_type": "stream",
     "text": [
      "Loading lexical index from envo_lexical_index.yaml...\n"
     ]
    }
   ],
   "execution_count": 142
  },
  {
   "cell_type": "code",
   "id": "d06d899567db022e",
   "metadata": {
    "ExecuteTime": {
     "end_time": "2024-12-12T15:37:30.049300Z",
     "start_time": "2024-12-12T15:37:21.310090Z"
    }
   },
   "source": [
    "# Apply the annotation function to each row in the 'label' column\n",
    "ncbi_frame['longest_annotation_curie'] = ncbi_frame['extracted_label'].apply(\n",
    "    lambda x: get_longest_annotation_curie(x, envo_text_annotator_interface, MIN_ANNOTATION_LEN))\n",
    "\n",
    "# ~ 1 minute\n"
   ],
   "outputs": [],
   "execution_count": 143
  },
  {
   "metadata": {},
   "cell_type": "markdown",
   "source": "## Add the labels for the CURIes identified though oaklib annotation of strings",
   "id": "14f0908428dfa322"
  },
  {
   "cell_type": "code",
   "id": "2d0d090813223db3",
   "metadata": {
    "ExecuteTime": {
     "end_time": "2024-12-12T14:56:49.779056Z",
     "start_time": "2024-12-12T14:56:47.735236Z"
    }
   },
   "source": [
    "ncbi_frame['longest_annotation_label'] = ncbi_frame['longest_annotation_curie'].apply(envo_adapter.label)"
   ],
   "outputs": [],
   "execution_count": 60
  },
  {
   "cell_type": "code",
   "id": "940cd4e688adb239",
   "metadata": {
    "ExecuteTime": {
     "end_time": "2024-12-12T14:56:49.794436Z",
     "start_time": "2024-12-12T14:56:49.782335Z"
    }
   },
   "source": [
    "ncbi_frame"
   ],
   "outputs": [
    {
     "data": {
      "text/plain": [
       "      serial_number                             content  count  \\\n",
       "0                 1                      not applicable    262   \n",
       "1                 2                             missing    199   \n",
       "2                 3                       not collected    127   \n",
       "3                 4                             Orchard     87   \n",
       "4                 5                                  NA     79   \n",
       "...             ...                                 ...    ...   \n",
       "5302           5186                                  29      1   \n",
       "5303           5187                                 101      1   \n",
       "5304           5188  bulk field - melilot predomination      1   \n",
       "5305           5189                    plant endosphere      1   \n",
       "5306           5190         Peatland plant microbiome 5      1   \n",
       "\n",
       "                            content_list  content_count  envo_count  \\\n",
       "0                         not applicable              1           0   \n",
       "1                                missing              1           0   \n",
       "2                          not collected              1           0   \n",
       "3                                Orchard              1           0   \n",
       "4                                     NA              1           0   \n",
       "...                                  ...            ...         ...   \n",
       "5302                                  29              1           0   \n",
       "5303                                 101              1           0   \n",
       "5304  bulk field - melilot predomination              1           0   \n",
       "5305                    plant endosphere              1           0   \n",
       "5306         Peatland plant microbiome 5              1           0   \n",
       "\n",
       "                         extracted_label extracted_curie real_label  \\\n",
       "0                         not applicable            None       None   \n",
       "1                                missing            None       None   \n",
       "2                          not collected            None       None   \n",
       "3                                Orchard            None       None   \n",
       "4                                     NA            None       None   \n",
       "...                                  ...             ...        ...   \n",
       "5302                                  29            None       None   \n",
       "5303                                 101            None       None   \n",
       "5304  bulk field - melilot predomination            None       None   \n",
       "5305                    plant endosphere            None       None   \n",
       "5306         Peatland plant microbiome 5            None       None   \n",
       "\n",
       "     longest_annotation_curie longest_annotation_label  \n",
       "0                        None                     None  \n",
       "1                        None                     None  \n",
       "2                        None                     None  \n",
       "3               ENVO:00000115                  orchard  \n",
       "4                        None                     None  \n",
       "...                       ...                      ...  \n",
       "5302                     None                     None  \n",
       "5303                     None                     None  \n",
       "5304            ENVO:01000352                    field  \n",
       "5305                     None                     None  \n",
       "5306            ENVO:00000044                 peatland  \n",
       "\n",
       "[5307 rows x 11 columns]"
      ],
      "text/html": [
       "<div>\n",
       "<style scoped>\n",
       "    .dataframe tbody tr th:only-of-type {\n",
       "        vertical-align: middle;\n",
       "    }\n",
       "\n",
       "    .dataframe tbody tr th {\n",
       "        vertical-align: top;\n",
       "    }\n",
       "\n",
       "    .dataframe thead th {\n",
       "        text-align: right;\n",
       "    }\n",
       "</style>\n",
       "<table border=\"1\" class=\"dataframe\">\n",
       "  <thead>\n",
       "    <tr style=\"text-align: right;\">\n",
       "      <th></th>\n",
       "      <th>serial_number</th>\n",
       "      <th>content</th>\n",
       "      <th>count</th>\n",
       "      <th>content_list</th>\n",
       "      <th>content_count</th>\n",
       "      <th>envo_count</th>\n",
       "      <th>extracted_label</th>\n",
       "      <th>extracted_curie</th>\n",
       "      <th>real_label</th>\n",
       "      <th>longest_annotation_curie</th>\n",
       "      <th>longest_annotation_label</th>\n",
       "    </tr>\n",
       "  </thead>\n",
       "  <tbody>\n",
       "    <tr>\n",
       "      <th>0</th>\n",
       "      <td>1</td>\n",
       "      <td>not applicable</td>\n",
       "      <td>262</td>\n",
       "      <td>not applicable</td>\n",
       "      <td>1</td>\n",
       "      <td>0</td>\n",
       "      <td>not applicable</td>\n",
       "      <td>None</td>\n",
       "      <td>None</td>\n",
       "      <td>None</td>\n",
       "      <td>None</td>\n",
       "    </tr>\n",
       "    <tr>\n",
       "      <th>1</th>\n",
       "      <td>2</td>\n",
       "      <td>missing</td>\n",
       "      <td>199</td>\n",
       "      <td>missing</td>\n",
       "      <td>1</td>\n",
       "      <td>0</td>\n",
       "      <td>missing</td>\n",
       "      <td>None</td>\n",
       "      <td>None</td>\n",
       "      <td>None</td>\n",
       "      <td>None</td>\n",
       "    </tr>\n",
       "    <tr>\n",
       "      <th>2</th>\n",
       "      <td>3</td>\n",
       "      <td>not collected</td>\n",
       "      <td>127</td>\n",
       "      <td>not collected</td>\n",
       "      <td>1</td>\n",
       "      <td>0</td>\n",
       "      <td>not collected</td>\n",
       "      <td>None</td>\n",
       "      <td>None</td>\n",
       "      <td>None</td>\n",
       "      <td>None</td>\n",
       "    </tr>\n",
       "    <tr>\n",
       "      <th>3</th>\n",
       "      <td>4</td>\n",
       "      <td>Orchard</td>\n",
       "      <td>87</td>\n",
       "      <td>Orchard</td>\n",
       "      <td>1</td>\n",
       "      <td>0</td>\n",
       "      <td>Orchard</td>\n",
       "      <td>None</td>\n",
       "      <td>None</td>\n",
       "      <td>ENVO:00000115</td>\n",
       "      <td>orchard</td>\n",
       "    </tr>\n",
       "    <tr>\n",
       "      <th>4</th>\n",
       "      <td>5</td>\n",
       "      <td>NA</td>\n",
       "      <td>79</td>\n",
       "      <td>NA</td>\n",
       "      <td>1</td>\n",
       "      <td>0</td>\n",
       "      <td>NA</td>\n",
       "      <td>None</td>\n",
       "      <td>None</td>\n",
       "      <td>None</td>\n",
       "      <td>None</td>\n",
       "    </tr>\n",
       "    <tr>\n",
       "      <th>...</th>\n",
       "      <td>...</td>\n",
       "      <td>...</td>\n",
       "      <td>...</td>\n",
       "      <td>...</td>\n",
       "      <td>...</td>\n",
       "      <td>...</td>\n",
       "      <td>...</td>\n",
       "      <td>...</td>\n",
       "      <td>...</td>\n",
       "      <td>...</td>\n",
       "      <td>...</td>\n",
       "    </tr>\n",
       "    <tr>\n",
       "      <th>5302</th>\n",
       "      <td>5186</td>\n",
       "      <td>29</td>\n",
       "      <td>1</td>\n",
       "      <td>29</td>\n",
       "      <td>1</td>\n",
       "      <td>0</td>\n",
       "      <td>29</td>\n",
       "      <td>None</td>\n",
       "      <td>None</td>\n",
       "      <td>None</td>\n",
       "      <td>None</td>\n",
       "    </tr>\n",
       "    <tr>\n",
       "      <th>5303</th>\n",
       "      <td>5187</td>\n",
       "      <td>101</td>\n",
       "      <td>1</td>\n",
       "      <td>101</td>\n",
       "      <td>1</td>\n",
       "      <td>0</td>\n",
       "      <td>101</td>\n",
       "      <td>None</td>\n",
       "      <td>None</td>\n",
       "      <td>None</td>\n",
       "      <td>None</td>\n",
       "    </tr>\n",
       "    <tr>\n",
       "      <th>5304</th>\n",
       "      <td>5188</td>\n",
       "      <td>bulk field - melilot predomination</td>\n",
       "      <td>1</td>\n",
       "      <td>bulk field - melilot predomination</td>\n",
       "      <td>1</td>\n",
       "      <td>0</td>\n",
       "      <td>bulk field - melilot predomination</td>\n",
       "      <td>None</td>\n",
       "      <td>None</td>\n",
       "      <td>ENVO:01000352</td>\n",
       "      <td>field</td>\n",
       "    </tr>\n",
       "    <tr>\n",
       "      <th>5305</th>\n",
       "      <td>5189</td>\n",
       "      <td>plant endosphere</td>\n",
       "      <td>1</td>\n",
       "      <td>plant endosphere</td>\n",
       "      <td>1</td>\n",
       "      <td>0</td>\n",
       "      <td>plant endosphere</td>\n",
       "      <td>None</td>\n",
       "      <td>None</td>\n",
       "      <td>None</td>\n",
       "      <td>None</td>\n",
       "    </tr>\n",
       "    <tr>\n",
       "      <th>5306</th>\n",
       "      <td>5190</td>\n",
       "      <td>Peatland plant microbiome 5</td>\n",
       "      <td>1</td>\n",
       "      <td>Peatland plant microbiome 5</td>\n",
       "      <td>1</td>\n",
       "      <td>0</td>\n",
       "      <td>Peatland plant microbiome 5</td>\n",
       "      <td>None</td>\n",
       "      <td>None</td>\n",
       "      <td>ENVO:00000044</td>\n",
       "      <td>peatland</td>\n",
       "    </tr>\n",
       "  </tbody>\n",
       "</table>\n",
       "<p>5307 rows × 11 columns</p>\n",
       "</div>"
      ]
     },
     "execution_count": 61,
     "metadata": {},
     "output_type": "execute_result"
    }
   ],
   "execution_count": 61
  },
  {
   "metadata": {},
   "cell_type": "markdown",
   "source": [
    "## we now have a list of CURIes for each normalized annotation\n",
    "\n",
    "This could be because the submitter provided a CURIe and a label that don't match\n",
    "*One* case of this is dragging a CURIe down a column in a spreadsheet, expecting it to be copied,\n",
    "but actually auto-incrementing it\n",
    "\n",
    "Now attempt to find one best CURIe for each annotation... by now we have lost the ability to retain multiple legitimate\n",
    "but improperly separated CURIes"
   ],
   "id": "69ed214e0186f459"
  },
  {
   "cell_type": "code",
   "id": "951ca41984b81e7d",
   "metadata": {
    "ExecuteTime": {
     "end_time": "2024-12-12T14:56:49.856806Z",
     "start_time": "2024-12-12T14:56:49.795711Z"
    }
   },
   "source": [
    "# todo don't accept extracted curie if no real label?\n",
    "# any kind of string similarity checking for label of annotated curie vs extracted label ?\n",
    "# look for long stretches of curies?\n",
    "# can we measure the beneficial impact of any of this? current crux: how to distribute counts\n",
    "\n",
    "ncbi_frame['curie_list'] = ncbi_frame.apply(\n",
    "    lambda my_row: list({my_row['extracted_curie'], my_row['longest_annotation_curie']} - {None}),\n",
    "    axis=1\n",
    ")\n",
    "\n",
    "ncbi_frame['unique_curie_count'] = ncbi_frame['curie_list'].apply(len)"
   ],
   "outputs": [],
   "execution_count": 62
  },
  {
   "cell_type": "code",
   "id": "349610c477ebf149",
   "metadata": {
    "ExecuteTime": {
     "end_time": "2024-12-12T14:56:49.865145Z",
     "start_time": "2024-12-12T14:56:49.858861Z"
    }
   },
   "source": [
    "ncbi_frame['unique_curie_count'].value_counts()"
   ],
   "outputs": [
    {
     "data": {
      "text/plain": [
       "unique_curie_count\n",
       "0    2629\n",
       "1    2593\n",
       "2      85\n",
       "Name: count, dtype: int64"
      ]
     },
     "execution_count": 63,
     "metadata": {},
     "output_type": "execute_result"
    }
   ],
   "execution_count": 63
  },
  {
   "cell_type": "code",
   "id": "e6a8c0273f36e906",
   "metadata": {
    "ExecuteTime": {
     "end_time": "2024-12-12T14:56:49.874059Z",
     "start_time": "2024-12-12T14:56:49.867032Z"
    }
   },
   "source": [
    "double_curie_frame = ncbi_frame[ncbi_frame['unique_curie_count'] > 1]"
   ],
   "outputs": [],
   "execution_count": 64
  },
  {
   "cell_type": "code",
   "id": "334e7c646337a914",
   "metadata": {
    "ExecuteTime": {
     "end_time": "2024-12-12T14:56:49.880532Z",
     "start_time": "2024-12-12T14:56:49.876289Z"
    }
   },
   "source": [
    "double_curie_frame = double_curie_frame[['extracted_curie', 'longest_annotation_curie']]"
   ],
   "outputs": [],
   "execution_count": 65
  },
  {
   "cell_type": "code",
   "id": "874149830df3dd8a",
   "metadata": {
    "ExecuteTime": {
     "end_time": "2024-12-12T14:56:49.886661Z",
     "start_time": "2024-12-12T14:56:49.882427Z"
    }
   },
   "source": [
    "double_curie_frame = double_curie_frame.drop_duplicates()"
   ],
   "outputs": [],
   "execution_count": 66
  },
  {
   "cell_type": "code",
   "id": "cdfc0bda39f3ad6d",
   "metadata": {
    "ExecuteTime": {
     "end_time": "2024-12-12T14:56:49.893519Z",
     "start_time": "2024-12-12T14:56:49.888617Z"
    }
   },
   "source": [
    "double_curie_frame[['extracted_prefix', 'extracted_local_id']] = double_curie_frame['extracted_curie'].str.split(':', expand=True)"
   ],
   "outputs": [],
   "execution_count": 67
  },
  {
   "cell_type": "code",
   "id": "de6fcee63f6677d",
   "metadata": {
    "ExecuteTime": {
     "end_time": "2024-12-12T14:56:49.900881Z",
     "start_time": "2024-12-12T14:56:49.895170Z"
    }
   },
   "source": [
    "double_curie_frame['extracted_local_id_int'] = pd.to_numeric(double_curie_frame['extracted_local_id'], errors='coerce').astype('Int64')"
   ],
   "outputs": [],
   "execution_count": 68
  },
  {
   "metadata": {
    "ExecuteTime": {
     "end_time": "2024-12-12T14:56:49.916932Z",
     "start_time": "2024-12-12T14:56:49.906514Z"
    }
   },
   "cell_type": "code",
   "source": "double_curie_frame",
   "id": "185c2d7e43614639",
   "outputs": [
    {
     "data": {
      "text/plain": [
       "     extracted_curie longest_annotation_curie extracted_prefix  \\\n",
       "149    ENVO:01000245            ENVO:01000635             ENVO   \n",
       "216    ENVO:01001430            ENVO:00000077             ENVO   \n",
       "229    ENVO:00000136            ENVO:00000316             ENVO   \n",
       "240     ENVO:0003101            ENVO:00003081             ENVO   \n",
       "248    ENVO:01001431            ENVO:01001430             ENVO   \n",
       "...              ...                      ...              ...   \n",
       "4411   ENVO:00000113            ENVO:01000739             ENVO   \n",
       "4560   ENVO:01001437            ENVO:01001430             ENVO   \n",
       "4976    ENVO:0000316            ENVO:00000316             ENVO   \n",
       "5106   ENVO:00002040            ENVO:00000109             ENVO   \n",
       "5119   ENVO:01001442            ENVO:01001430             ENVO   \n",
       "\n",
       "     extracted_local_id  extracted_local_id_int  \n",
       "149            01000245                 1000245  \n",
       "216            01001430                 1001430  \n",
       "229            00000136                     136  \n",
       "240             0003101                    3101  \n",
       "248            01001431                 1001431  \n",
       "...                 ...                     ...  \n",
       "4411           00000113                     113  \n",
       "4560           01001437                 1001437  \n",
       "4976            0000316                     316  \n",
       "5106           00002040                    2040  \n",
       "5119           01001442                 1001442  \n",
       "\n",
       "[82 rows x 5 columns]"
      ],
      "text/html": [
       "<div>\n",
       "<style scoped>\n",
       "    .dataframe tbody tr th:only-of-type {\n",
       "        vertical-align: middle;\n",
       "    }\n",
       "\n",
       "    .dataframe tbody tr th {\n",
       "        vertical-align: top;\n",
       "    }\n",
       "\n",
       "    .dataframe thead th {\n",
       "        text-align: right;\n",
       "    }\n",
       "</style>\n",
       "<table border=\"1\" class=\"dataframe\">\n",
       "  <thead>\n",
       "    <tr style=\"text-align: right;\">\n",
       "      <th></th>\n",
       "      <th>extracted_curie</th>\n",
       "      <th>longest_annotation_curie</th>\n",
       "      <th>extracted_prefix</th>\n",
       "      <th>extracted_local_id</th>\n",
       "      <th>extracted_local_id_int</th>\n",
       "    </tr>\n",
       "  </thead>\n",
       "  <tbody>\n",
       "    <tr>\n",
       "      <th>149</th>\n",
       "      <td>ENVO:01000245</td>\n",
       "      <td>ENVO:01000635</td>\n",
       "      <td>ENVO</td>\n",
       "      <td>01000245</td>\n",
       "      <td>1000245</td>\n",
       "    </tr>\n",
       "    <tr>\n",
       "      <th>216</th>\n",
       "      <td>ENVO:01001430</td>\n",
       "      <td>ENVO:00000077</td>\n",
       "      <td>ENVO</td>\n",
       "      <td>01001430</td>\n",
       "      <td>1001430</td>\n",
       "    </tr>\n",
       "    <tr>\n",
       "      <th>229</th>\n",
       "      <td>ENVO:00000136</td>\n",
       "      <td>ENVO:00000316</td>\n",
       "      <td>ENVO</td>\n",
       "      <td>00000136</td>\n",
       "      <td>136</td>\n",
       "    </tr>\n",
       "    <tr>\n",
       "      <th>240</th>\n",
       "      <td>ENVO:0003101</td>\n",
       "      <td>ENVO:00003081</td>\n",
       "      <td>ENVO</td>\n",
       "      <td>0003101</td>\n",
       "      <td>3101</td>\n",
       "    </tr>\n",
       "    <tr>\n",
       "      <th>248</th>\n",
       "      <td>ENVO:01001431</td>\n",
       "      <td>ENVO:01001430</td>\n",
       "      <td>ENVO</td>\n",
       "      <td>01001431</td>\n",
       "      <td>1001431</td>\n",
       "    </tr>\n",
       "    <tr>\n",
       "      <th>...</th>\n",
       "      <td>...</td>\n",
       "      <td>...</td>\n",
       "      <td>...</td>\n",
       "      <td>...</td>\n",
       "      <td>...</td>\n",
       "    </tr>\n",
       "    <tr>\n",
       "      <th>4411</th>\n",
       "      <td>ENVO:00000113</td>\n",
       "      <td>ENVO:01000739</td>\n",
       "      <td>ENVO</td>\n",
       "      <td>00000113</td>\n",
       "      <td>113</td>\n",
       "    </tr>\n",
       "    <tr>\n",
       "      <th>4560</th>\n",
       "      <td>ENVO:01001437</td>\n",
       "      <td>ENVO:01001430</td>\n",
       "      <td>ENVO</td>\n",
       "      <td>01001437</td>\n",
       "      <td>1001437</td>\n",
       "    </tr>\n",
       "    <tr>\n",
       "      <th>4976</th>\n",
       "      <td>ENVO:0000316</td>\n",
       "      <td>ENVO:00000316</td>\n",
       "      <td>ENVO</td>\n",
       "      <td>0000316</td>\n",
       "      <td>316</td>\n",
       "    </tr>\n",
       "    <tr>\n",
       "      <th>5106</th>\n",
       "      <td>ENVO:00002040</td>\n",
       "      <td>ENVO:00000109</td>\n",
       "      <td>ENVO</td>\n",
       "      <td>00002040</td>\n",
       "      <td>2040</td>\n",
       "    </tr>\n",
       "    <tr>\n",
       "      <th>5119</th>\n",
       "      <td>ENVO:01001442</td>\n",
       "      <td>ENVO:01001430</td>\n",
       "      <td>ENVO</td>\n",
       "      <td>01001442</td>\n",
       "      <td>1001442</td>\n",
       "    </tr>\n",
       "  </tbody>\n",
       "</table>\n",
       "<p>82 rows × 5 columns</p>\n",
       "</div>"
      ]
     },
     "execution_count": 69,
     "metadata": {},
     "output_type": "execute_result"
    }
   ],
   "execution_count": 69
  },
  {
   "cell_type": "code",
   "id": "fae831b04ed985ef",
   "metadata": {
    "ExecuteTime": {
     "end_time": "2024-12-12T14:56:49.922695Z",
     "start_time": "2024-12-12T14:56:49.918521Z"
    }
   },
   "source": [
    "# Ensure extracted_local_id_int is unique and sorted\n",
    "unique_sorted_series = double_curie_frame['extracted_local_id_int'].dropna().drop_duplicates().sort_values()\n"
   ],
   "outputs": [],
   "execution_count": 70
  },
  {
   "cell_type": "code",
   "id": "d244d7b150a3b413",
   "metadata": {
    "ExecuteTime": {
     "end_time": "2024-12-12T14:56:49.929476Z",
     "start_time": "2024-12-12T14:56:49.924327Z"
    }
   },
   "source": [
    "# Find stretches\n",
    "stretches_dict = find_consecutive_stretches_dict(unique_sorted_series)\n"
   ],
   "outputs": [],
   "execution_count": 71
  },
  {
   "cell_type": "code",
   "id": "2fda8122842f63c0",
   "metadata": {
    "ExecuteTime": {
     "end_time": "2024-12-12T14:56:49.935015Z",
     "start_time": "2024-12-12T14:56:49.930919Z"
    }
   },
   "source": [
    "# Convert the stretches dictionary into a DataFrame\n",
    "stretches_df = stretches_dict_to_long_dataframe(stretches_dict)"
   ],
   "outputs": [],
   "execution_count": 72
  },
  {
   "metadata": {},
   "cell_type": "markdown",
   "source": [
    "`stretches_df` shows groups of extracted EnvoO ids (CURIes without prefix or padding zeros) that share a common CURIe by oaklib annotation of the textual part. This may not be the best or only way to address these spurious drag-stretch, auto-incremented CURIes\n",
    "\n",
    "Ie 1001458 corresponds to ENVO:01001458, 'mist'\n",
    "\n",
    "_although it theoretically could have been ENVO:1001458 since EnvO CURIes can have 7 or 8 digits_\n",
    "\n",
    "In group 9, there are another ~ 50 sequential id values, all corresponding to environmental context annotations whose best oak-annotated class is ENVO:01001803, 'tropical forest'!\n",
    "\n",
    "How much of an impact does this have? "
   ],
   "id": "22f0c242c2505f2b"
  },
  {
   "cell_type": "code",
   "id": "367abafc0ae13a6d",
   "metadata": {
    "ExecuteTime": {
     "end_time": "2024-12-12T14:56:49.948237Z",
     "start_time": "2024-12-12T14:56:49.938190Z"
    }
   },
   "source": [
    "stretches_df"
   ],
   "outputs": [
    {
     "data": {
      "text/plain": [
       "    stretch_id    value\n",
       "0            1     3081\n",
       "1            1     3082\n",
       "2            1     3083\n",
       "3            1     3084\n",
       "4            1     3085\n",
       "5            1     3086\n",
       "6            1     3087\n",
       "7            1     3088\n",
       "8            1     3089\n",
       "9            1     3090\n",
       "10           1     3091\n",
       "11           1     3092\n",
       "12           1     3093\n",
       "13           1     3094\n",
       "14           1     3095\n",
       "15           1     3096\n",
       "16           1     3097\n",
       "17           1     3098\n",
       "18           1     3099\n",
       "19           1     3100\n",
       "20           1     3101\n",
       "21           2  1001430\n",
       "22           2  1001431\n",
       "23           2  1001432\n",
       "24           2  1001433\n",
       "25           2  1001434\n",
       "26           2  1001435\n",
       "27           2  1001436\n",
       "28           2  1001437\n",
       "29           2  1001438\n",
       "30           2  1001439\n",
       "31           2  1001440\n",
       "32           2  1001441\n",
       "33           2  1001442\n",
       "34           2  1001443\n",
       "35           2  1001444\n",
       "36           2  1001445\n",
       "37           2  1001446\n",
       "38           2  1001447\n",
       "39           2  1001448\n",
       "40           2  1001449\n",
       "41           2  1001450\n",
       "42           2  1001451\n",
       "43           2  1001452\n",
       "44           2  1001453\n",
       "45           2  1001454\n",
       "46           2  1001455\n",
       "47           2  1001456\n",
       "48           2  1001457\n",
       "49           2  1001458\n",
       "50           2  1001459\n",
       "51           2  1001460\n",
       "52           2  1001461\n",
       "53           2  1001462\n",
       "54           2  1001463"
      ],
      "text/html": [
       "<div>\n",
       "<style scoped>\n",
       "    .dataframe tbody tr th:only-of-type {\n",
       "        vertical-align: middle;\n",
       "    }\n",
       "\n",
       "    .dataframe tbody tr th {\n",
       "        vertical-align: top;\n",
       "    }\n",
       "\n",
       "    .dataframe thead th {\n",
       "        text-align: right;\n",
       "    }\n",
       "</style>\n",
       "<table border=\"1\" class=\"dataframe\">\n",
       "  <thead>\n",
       "    <tr style=\"text-align: right;\">\n",
       "      <th></th>\n",
       "      <th>stretch_id</th>\n",
       "      <th>value</th>\n",
       "    </tr>\n",
       "  </thead>\n",
       "  <tbody>\n",
       "    <tr>\n",
       "      <th>0</th>\n",
       "      <td>1</td>\n",
       "      <td>3081</td>\n",
       "    </tr>\n",
       "    <tr>\n",
       "      <th>1</th>\n",
       "      <td>1</td>\n",
       "      <td>3082</td>\n",
       "    </tr>\n",
       "    <tr>\n",
       "      <th>2</th>\n",
       "      <td>1</td>\n",
       "      <td>3083</td>\n",
       "    </tr>\n",
       "    <tr>\n",
       "      <th>3</th>\n",
       "      <td>1</td>\n",
       "      <td>3084</td>\n",
       "    </tr>\n",
       "    <tr>\n",
       "      <th>4</th>\n",
       "      <td>1</td>\n",
       "      <td>3085</td>\n",
       "    </tr>\n",
       "    <tr>\n",
       "      <th>5</th>\n",
       "      <td>1</td>\n",
       "      <td>3086</td>\n",
       "    </tr>\n",
       "    <tr>\n",
       "      <th>6</th>\n",
       "      <td>1</td>\n",
       "      <td>3087</td>\n",
       "    </tr>\n",
       "    <tr>\n",
       "      <th>7</th>\n",
       "      <td>1</td>\n",
       "      <td>3088</td>\n",
       "    </tr>\n",
       "    <tr>\n",
       "      <th>8</th>\n",
       "      <td>1</td>\n",
       "      <td>3089</td>\n",
       "    </tr>\n",
       "    <tr>\n",
       "      <th>9</th>\n",
       "      <td>1</td>\n",
       "      <td>3090</td>\n",
       "    </tr>\n",
       "    <tr>\n",
       "      <th>10</th>\n",
       "      <td>1</td>\n",
       "      <td>3091</td>\n",
       "    </tr>\n",
       "    <tr>\n",
       "      <th>11</th>\n",
       "      <td>1</td>\n",
       "      <td>3092</td>\n",
       "    </tr>\n",
       "    <tr>\n",
       "      <th>12</th>\n",
       "      <td>1</td>\n",
       "      <td>3093</td>\n",
       "    </tr>\n",
       "    <tr>\n",
       "      <th>13</th>\n",
       "      <td>1</td>\n",
       "      <td>3094</td>\n",
       "    </tr>\n",
       "    <tr>\n",
       "      <th>14</th>\n",
       "      <td>1</td>\n",
       "      <td>3095</td>\n",
       "    </tr>\n",
       "    <tr>\n",
       "      <th>15</th>\n",
       "      <td>1</td>\n",
       "      <td>3096</td>\n",
       "    </tr>\n",
       "    <tr>\n",
       "      <th>16</th>\n",
       "      <td>1</td>\n",
       "      <td>3097</td>\n",
       "    </tr>\n",
       "    <tr>\n",
       "      <th>17</th>\n",
       "      <td>1</td>\n",
       "      <td>3098</td>\n",
       "    </tr>\n",
       "    <tr>\n",
       "      <th>18</th>\n",
       "      <td>1</td>\n",
       "      <td>3099</td>\n",
       "    </tr>\n",
       "    <tr>\n",
       "      <th>19</th>\n",
       "      <td>1</td>\n",
       "      <td>3100</td>\n",
       "    </tr>\n",
       "    <tr>\n",
       "      <th>20</th>\n",
       "      <td>1</td>\n",
       "      <td>3101</td>\n",
       "    </tr>\n",
       "    <tr>\n",
       "      <th>21</th>\n",
       "      <td>2</td>\n",
       "      <td>1001430</td>\n",
       "    </tr>\n",
       "    <tr>\n",
       "      <th>22</th>\n",
       "      <td>2</td>\n",
       "      <td>1001431</td>\n",
       "    </tr>\n",
       "    <tr>\n",
       "      <th>23</th>\n",
       "      <td>2</td>\n",
       "      <td>1001432</td>\n",
       "    </tr>\n",
       "    <tr>\n",
       "      <th>24</th>\n",
       "      <td>2</td>\n",
       "      <td>1001433</td>\n",
       "    </tr>\n",
       "    <tr>\n",
       "      <th>25</th>\n",
       "      <td>2</td>\n",
       "      <td>1001434</td>\n",
       "    </tr>\n",
       "    <tr>\n",
       "      <th>26</th>\n",
       "      <td>2</td>\n",
       "      <td>1001435</td>\n",
       "    </tr>\n",
       "    <tr>\n",
       "      <th>27</th>\n",
       "      <td>2</td>\n",
       "      <td>1001436</td>\n",
       "    </tr>\n",
       "    <tr>\n",
       "      <th>28</th>\n",
       "      <td>2</td>\n",
       "      <td>1001437</td>\n",
       "    </tr>\n",
       "    <tr>\n",
       "      <th>29</th>\n",
       "      <td>2</td>\n",
       "      <td>1001438</td>\n",
       "    </tr>\n",
       "    <tr>\n",
       "      <th>30</th>\n",
       "      <td>2</td>\n",
       "      <td>1001439</td>\n",
       "    </tr>\n",
       "    <tr>\n",
       "      <th>31</th>\n",
       "      <td>2</td>\n",
       "      <td>1001440</td>\n",
       "    </tr>\n",
       "    <tr>\n",
       "      <th>32</th>\n",
       "      <td>2</td>\n",
       "      <td>1001441</td>\n",
       "    </tr>\n",
       "    <tr>\n",
       "      <th>33</th>\n",
       "      <td>2</td>\n",
       "      <td>1001442</td>\n",
       "    </tr>\n",
       "    <tr>\n",
       "      <th>34</th>\n",
       "      <td>2</td>\n",
       "      <td>1001443</td>\n",
       "    </tr>\n",
       "    <tr>\n",
       "      <th>35</th>\n",
       "      <td>2</td>\n",
       "      <td>1001444</td>\n",
       "    </tr>\n",
       "    <tr>\n",
       "      <th>36</th>\n",
       "      <td>2</td>\n",
       "      <td>1001445</td>\n",
       "    </tr>\n",
       "    <tr>\n",
       "      <th>37</th>\n",
       "      <td>2</td>\n",
       "      <td>1001446</td>\n",
       "    </tr>\n",
       "    <tr>\n",
       "      <th>38</th>\n",
       "      <td>2</td>\n",
       "      <td>1001447</td>\n",
       "    </tr>\n",
       "    <tr>\n",
       "      <th>39</th>\n",
       "      <td>2</td>\n",
       "      <td>1001448</td>\n",
       "    </tr>\n",
       "    <tr>\n",
       "      <th>40</th>\n",
       "      <td>2</td>\n",
       "      <td>1001449</td>\n",
       "    </tr>\n",
       "    <tr>\n",
       "      <th>41</th>\n",
       "      <td>2</td>\n",
       "      <td>1001450</td>\n",
       "    </tr>\n",
       "    <tr>\n",
       "      <th>42</th>\n",
       "      <td>2</td>\n",
       "      <td>1001451</td>\n",
       "    </tr>\n",
       "    <tr>\n",
       "      <th>43</th>\n",
       "      <td>2</td>\n",
       "      <td>1001452</td>\n",
       "    </tr>\n",
       "    <tr>\n",
       "      <th>44</th>\n",
       "      <td>2</td>\n",
       "      <td>1001453</td>\n",
       "    </tr>\n",
       "    <tr>\n",
       "      <th>45</th>\n",
       "      <td>2</td>\n",
       "      <td>1001454</td>\n",
       "    </tr>\n",
       "    <tr>\n",
       "      <th>46</th>\n",
       "      <td>2</td>\n",
       "      <td>1001455</td>\n",
       "    </tr>\n",
       "    <tr>\n",
       "      <th>47</th>\n",
       "      <td>2</td>\n",
       "      <td>1001456</td>\n",
       "    </tr>\n",
       "    <tr>\n",
       "      <th>48</th>\n",
       "      <td>2</td>\n",
       "      <td>1001457</td>\n",
       "    </tr>\n",
       "    <tr>\n",
       "      <th>49</th>\n",
       "      <td>2</td>\n",
       "      <td>1001458</td>\n",
       "    </tr>\n",
       "    <tr>\n",
       "      <th>50</th>\n",
       "      <td>2</td>\n",
       "      <td>1001459</td>\n",
       "    </tr>\n",
       "    <tr>\n",
       "      <th>51</th>\n",
       "      <td>2</td>\n",
       "      <td>1001460</td>\n",
       "    </tr>\n",
       "    <tr>\n",
       "      <th>52</th>\n",
       "      <td>2</td>\n",
       "      <td>1001461</td>\n",
       "    </tr>\n",
       "    <tr>\n",
       "      <th>53</th>\n",
       "      <td>2</td>\n",
       "      <td>1001462</td>\n",
       "    </tr>\n",
       "    <tr>\n",
       "      <th>54</th>\n",
       "      <td>2</td>\n",
       "      <td>1001463</td>\n",
       "    </tr>\n",
       "  </tbody>\n",
       "</table>\n",
       "</div>"
      ]
     },
     "execution_count": 73,
     "metadata": {},
     "output_type": "execute_result"
    }
   ],
   "execution_count": 73
  },
  {
   "cell_type": "code",
   "id": "8ee27ecc0697a5f5",
   "metadata": {
    "ExecuteTime": {
     "end_time": "2024-12-12T14:56:49.956245Z",
     "start_time": "2024-12-12T14:56:49.950027Z"
    }
   },
   "source": [
    "# Perform the left merge\n",
    "double_curie_frame = double_curie_frame.merge(\n",
    "    stretches_df,\n",
    "    left_on='extracted_local_id_int',\n",
    "    right_on='value',\n",
    "    how='left'\n",
    ")"
   ],
   "outputs": [],
   "execution_count": 74
  },
  {
   "cell_type": "code",
   "id": "59e278981b799f14",
   "metadata": {
    "ExecuteTime": {
     "end_time": "2024-12-12T14:56:49.967973Z",
     "start_time": "2024-12-12T14:56:49.958207Z"
    }
   },
   "source": [
    "stretch_summary_df = summarize_stretch_groups(double_curie_frame)\n"
   ],
   "outputs": [],
   "execution_count": 75
  },
  {
   "metadata": {},
   "cell_type": "markdown",
   "source": "For stretch 9, which included extracted CURIes from ENVO:01001458 to ENVO:01001511, the oaklib test annotation of 100% of the submitted environmental context annotations was ENVO:01001803, so we will keep that and disregard all of the CURIes from the stretch\n",
   "id": "46a141c88d2f24a8"
  },
  {
   "cell_type": "code",
   "id": "cee6e3ff1e1ca0d3",
   "metadata": {
    "ExecuteTime": {
     "end_time": "2024-12-12T14:56:49.977740Z",
     "start_time": "2024-12-12T14:56:49.969535Z"
    }
   },
   "source": [
    "stretch_summary_df"
   ],
   "outputs": [
    {
     "data": {
      "text/plain": [
       "   stretch_id most_common_longest_annotation_curie  fraction\n",
       "0         1.0                        ENVO:00003081  1.000000\n",
       "1         2.0                        ENVO:01001430  0.942857"
      ],
      "text/html": [
       "<div>\n",
       "<style scoped>\n",
       "    .dataframe tbody tr th:only-of-type {\n",
       "        vertical-align: middle;\n",
       "    }\n",
       "\n",
       "    .dataframe tbody tr th {\n",
       "        vertical-align: top;\n",
       "    }\n",
       "\n",
       "    .dataframe thead th {\n",
       "        text-align: right;\n",
       "    }\n",
       "</style>\n",
       "<table border=\"1\" class=\"dataframe\">\n",
       "  <thead>\n",
       "    <tr style=\"text-align: right;\">\n",
       "      <th></th>\n",
       "      <th>stretch_id</th>\n",
       "      <th>most_common_longest_annotation_curie</th>\n",
       "      <th>fraction</th>\n",
       "    </tr>\n",
       "  </thead>\n",
       "  <tbody>\n",
       "    <tr>\n",
       "      <th>0</th>\n",
       "      <td>1.0</td>\n",
       "      <td>ENVO:00003081</td>\n",
       "      <td>1.000000</td>\n",
       "    </tr>\n",
       "    <tr>\n",
       "      <th>1</th>\n",
       "      <td>2.0</td>\n",
       "      <td>ENVO:01001430</td>\n",
       "      <td>0.942857</td>\n",
       "    </tr>\n",
       "  </tbody>\n",
       "</table>\n",
       "</div>"
      ]
     },
     "execution_count": 76,
     "metadata": {},
     "output_type": "execute_result"
    }
   ],
   "execution_count": 76
  },
  {
   "metadata": {
    "ExecuteTime": {
     "end_time": "2024-12-12T14:56:49.982002Z",
     "start_time": "2024-12-12T14:56:49.979391Z"
    }
   },
   "cell_type": "code",
   "source": "decisive_fraction_threshold = 0.9",
   "id": "dcc5ba2adda9189f",
   "outputs": [],
   "execution_count": 77
  },
  {
   "metadata": {
    "ExecuteTime": {
     "end_time": "2024-12-12T14:56:49.986620Z",
     "start_time": "2024-12-12T14:56:49.983504Z"
    }
   },
   "cell_type": "code",
   "source": "decisive_stretch_summary_df = stretch_summary_df[stretch_summary_df['fraction'] >= decisive_fraction_threshold]",
   "id": "529c6e4d71a8bf31",
   "outputs": [],
   "execution_count": 78
  },
  {
   "metadata": {
    "ExecuteTime": {
     "end_time": "2024-12-12T14:56:49.994599Z",
     "start_time": "2024-12-12T14:56:49.987997Z"
    }
   },
   "cell_type": "code",
   "source": "decisive_stretch_summary_df",
   "id": "db568a6f50b6e0",
   "outputs": [
    {
     "data": {
      "text/plain": [
       "   stretch_id most_common_longest_annotation_curie  fraction\n",
       "0         1.0                        ENVO:00003081  1.000000\n",
       "1         2.0                        ENVO:01001430  0.942857"
      ],
      "text/html": [
       "<div>\n",
       "<style scoped>\n",
       "    .dataframe tbody tr th:only-of-type {\n",
       "        vertical-align: middle;\n",
       "    }\n",
       "\n",
       "    .dataframe tbody tr th {\n",
       "        vertical-align: top;\n",
       "    }\n",
       "\n",
       "    .dataframe thead th {\n",
       "        text-align: right;\n",
       "    }\n",
       "</style>\n",
       "<table border=\"1\" class=\"dataframe\">\n",
       "  <thead>\n",
       "    <tr style=\"text-align: right;\">\n",
       "      <th></th>\n",
       "      <th>stretch_id</th>\n",
       "      <th>most_common_longest_annotation_curie</th>\n",
       "      <th>fraction</th>\n",
       "    </tr>\n",
       "  </thead>\n",
       "  <tbody>\n",
       "    <tr>\n",
       "      <th>0</th>\n",
       "      <td>1.0</td>\n",
       "      <td>ENVO:00003081</td>\n",
       "      <td>1.000000</td>\n",
       "    </tr>\n",
       "    <tr>\n",
       "      <th>1</th>\n",
       "      <td>2.0</td>\n",
       "      <td>ENVO:01001430</td>\n",
       "      <td>0.942857</td>\n",
       "    </tr>\n",
       "  </tbody>\n",
       "</table>\n",
       "</div>"
      ]
     },
     "execution_count": 79,
     "metadata": {},
     "output_type": "execute_result"
    }
   ],
   "execution_count": 79
  },
  {
   "cell_type": "code",
   "id": "f47a58a1945943b8",
   "metadata": {
    "ExecuteTime": {
     "end_time": "2024-12-12T14:56:50.000658Z",
     "start_time": "2024-12-12T14:56:49.996343Z"
    }
   },
   "source": [
    "# Perform the left merge\n",
    "double_curie_frame = double_curie_frame.merge(\n",
    "    decisive_stretch_summary_df,\n",
    "    left_on='stretch_id',\n",
    "    right_on='stretch_id',\n",
    "    how='left'\n",
    ")"
   ],
   "outputs": [],
   "execution_count": 80
  },
  {
   "metadata": {
    "ExecuteTime": {
     "end_time": "2024-12-12T14:56:50.015731Z",
     "start_time": "2024-12-12T14:56:50.002297Z"
    }
   },
   "cell_type": "code",
   "source": "double_curie_frame",
   "id": "babb21e01016715",
   "outputs": [
    {
     "data": {
      "text/plain": [
       "   extracted_curie longest_annotation_curie extracted_prefix  \\\n",
       "0    ENVO:01000245            ENVO:01000635             ENVO   \n",
       "1    ENVO:01001430            ENVO:00000077             ENVO   \n",
       "2    ENVO:00000136            ENVO:00000316             ENVO   \n",
       "3     ENVO:0003101            ENVO:00003081             ENVO   \n",
       "4    ENVO:01001431            ENVO:01001430             ENVO   \n",
       "..             ...                      ...              ...   \n",
       "77   ENVO:00000113            ENVO:01000739             ENVO   \n",
       "78   ENVO:01001437            ENVO:01001430             ENVO   \n",
       "79    ENVO:0000316            ENVO:00000316             ENVO   \n",
       "80   ENVO:00002040            ENVO:00000109             ENVO   \n",
       "81   ENVO:01001442            ENVO:01001430             ENVO   \n",
       "\n",
       "   extracted_local_id  extracted_local_id_int  stretch_id      value  \\\n",
       "0            01000245                 1000245         NaN        NaN   \n",
       "1            01001430                 1001430         2.0  1001430.0   \n",
       "2            00000136                     136         NaN        NaN   \n",
       "3             0003101                    3101         1.0     3101.0   \n",
       "4            01001431                 1001431         2.0  1001431.0   \n",
       "..                ...                     ...         ...        ...   \n",
       "77           00000113                     113         NaN        NaN   \n",
       "78           01001437                 1001437         2.0  1001437.0   \n",
       "79            0000316                     316         NaN        NaN   \n",
       "80           00002040                    2040         NaN        NaN   \n",
       "81           01001442                 1001442         2.0  1001442.0   \n",
       "\n",
       "   most_common_longest_annotation_curie  fraction  \n",
       "0                                   NaN       NaN  \n",
       "1                         ENVO:01001430  0.942857  \n",
       "2                                   NaN       NaN  \n",
       "3                         ENVO:00003081  1.000000  \n",
       "4                         ENVO:01001430  0.942857  \n",
       "..                                  ...       ...  \n",
       "77                                  NaN       NaN  \n",
       "78                        ENVO:01001430  0.942857  \n",
       "79                                  NaN       NaN  \n",
       "80                                  NaN       NaN  \n",
       "81                        ENVO:01001430  0.942857  \n",
       "\n",
       "[82 rows x 9 columns]"
      ],
      "text/html": [
       "<div>\n",
       "<style scoped>\n",
       "    .dataframe tbody tr th:only-of-type {\n",
       "        vertical-align: middle;\n",
       "    }\n",
       "\n",
       "    .dataframe tbody tr th {\n",
       "        vertical-align: top;\n",
       "    }\n",
       "\n",
       "    .dataframe thead th {\n",
       "        text-align: right;\n",
       "    }\n",
       "</style>\n",
       "<table border=\"1\" class=\"dataframe\">\n",
       "  <thead>\n",
       "    <tr style=\"text-align: right;\">\n",
       "      <th></th>\n",
       "      <th>extracted_curie</th>\n",
       "      <th>longest_annotation_curie</th>\n",
       "      <th>extracted_prefix</th>\n",
       "      <th>extracted_local_id</th>\n",
       "      <th>extracted_local_id_int</th>\n",
       "      <th>stretch_id</th>\n",
       "      <th>value</th>\n",
       "      <th>most_common_longest_annotation_curie</th>\n",
       "      <th>fraction</th>\n",
       "    </tr>\n",
       "  </thead>\n",
       "  <tbody>\n",
       "    <tr>\n",
       "      <th>0</th>\n",
       "      <td>ENVO:01000245</td>\n",
       "      <td>ENVO:01000635</td>\n",
       "      <td>ENVO</td>\n",
       "      <td>01000245</td>\n",
       "      <td>1000245</td>\n",
       "      <td>NaN</td>\n",
       "      <td>NaN</td>\n",
       "      <td>NaN</td>\n",
       "      <td>NaN</td>\n",
       "    </tr>\n",
       "    <tr>\n",
       "      <th>1</th>\n",
       "      <td>ENVO:01001430</td>\n",
       "      <td>ENVO:00000077</td>\n",
       "      <td>ENVO</td>\n",
       "      <td>01001430</td>\n",
       "      <td>1001430</td>\n",
       "      <td>2.0</td>\n",
       "      <td>1001430.0</td>\n",
       "      <td>ENVO:01001430</td>\n",
       "      <td>0.942857</td>\n",
       "    </tr>\n",
       "    <tr>\n",
       "      <th>2</th>\n",
       "      <td>ENVO:00000136</td>\n",
       "      <td>ENVO:00000316</td>\n",
       "      <td>ENVO</td>\n",
       "      <td>00000136</td>\n",
       "      <td>136</td>\n",
       "      <td>NaN</td>\n",
       "      <td>NaN</td>\n",
       "      <td>NaN</td>\n",
       "      <td>NaN</td>\n",
       "    </tr>\n",
       "    <tr>\n",
       "      <th>3</th>\n",
       "      <td>ENVO:0003101</td>\n",
       "      <td>ENVO:00003081</td>\n",
       "      <td>ENVO</td>\n",
       "      <td>0003101</td>\n",
       "      <td>3101</td>\n",
       "      <td>1.0</td>\n",
       "      <td>3101.0</td>\n",
       "      <td>ENVO:00003081</td>\n",
       "      <td>1.000000</td>\n",
       "    </tr>\n",
       "    <tr>\n",
       "      <th>4</th>\n",
       "      <td>ENVO:01001431</td>\n",
       "      <td>ENVO:01001430</td>\n",
       "      <td>ENVO</td>\n",
       "      <td>01001431</td>\n",
       "      <td>1001431</td>\n",
       "      <td>2.0</td>\n",
       "      <td>1001431.0</td>\n",
       "      <td>ENVO:01001430</td>\n",
       "      <td>0.942857</td>\n",
       "    </tr>\n",
       "    <tr>\n",
       "      <th>...</th>\n",
       "      <td>...</td>\n",
       "      <td>...</td>\n",
       "      <td>...</td>\n",
       "      <td>...</td>\n",
       "      <td>...</td>\n",
       "      <td>...</td>\n",
       "      <td>...</td>\n",
       "      <td>...</td>\n",
       "      <td>...</td>\n",
       "    </tr>\n",
       "    <tr>\n",
       "      <th>77</th>\n",
       "      <td>ENVO:00000113</td>\n",
       "      <td>ENVO:01000739</td>\n",
       "      <td>ENVO</td>\n",
       "      <td>00000113</td>\n",
       "      <td>113</td>\n",
       "      <td>NaN</td>\n",
       "      <td>NaN</td>\n",
       "      <td>NaN</td>\n",
       "      <td>NaN</td>\n",
       "    </tr>\n",
       "    <tr>\n",
       "      <th>78</th>\n",
       "      <td>ENVO:01001437</td>\n",
       "      <td>ENVO:01001430</td>\n",
       "      <td>ENVO</td>\n",
       "      <td>01001437</td>\n",
       "      <td>1001437</td>\n",
       "      <td>2.0</td>\n",
       "      <td>1001437.0</td>\n",
       "      <td>ENVO:01001430</td>\n",
       "      <td>0.942857</td>\n",
       "    </tr>\n",
       "    <tr>\n",
       "      <th>79</th>\n",
       "      <td>ENVO:0000316</td>\n",
       "      <td>ENVO:00000316</td>\n",
       "      <td>ENVO</td>\n",
       "      <td>0000316</td>\n",
       "      <td>316</td>\n",
       "      <td>NaN</td>\n",
       "      <td>NaN</td>\n",
       "      <td>NaN</td>\n",
       "      <td>NaN</td>\n",
       "    </tr>\n",
       "    <tr>\n",
       "      <th>80</th>\n",
       "      <td>ENVO:00002040</td>\n",
       "      <td>ENVO:00000109</td>\n",
       "      <td>ENVO</td>\n",
       "      <td>00002040</td>\n",
       "      <td>2040</td>\n",
       "      <td>NaN</td>\n",
       "      <td>NaN</td>\n",
       "      <td>NaN</td>\n",
       "      <td>NaN</td>\n",
       "    </tr>\n",
       "    <tr>\n",
       "      <th>81</th>\n",
       "      <td>ENVO:01001442</td>\n",
       "      <td>ENVO:01001430</td>\n",
       "      <td>ENVO</td>\n",
       "      <td>01001442</td>\n",
       "      <td>1001442</td>\n",
       "      <td>2.0</td>\n",
       "      <td>1001442.0</td>\n",
       "      <td>ENVO:01001430</td>\n",
       "      <td>0.942857</td>\n",
       "    </tr>\n",
       "  </tbody>\n",
       "</table>\n",
       "<p>82 rows × 9 columns</p>\n",
       "</div>"
      ]
     },
     "execution_count": 81,
     "metadata": {},
     "output_type": "execute_result"
    }
   ],
   "execution_count": 81
  },
  {
   "cell_type": "code",
   "id": "828f3be5ac6c0ab1",
   "metadata": {
    "ExecuteTime": {
     "end_time": "2024-12-12T14:56:50.023871Z",
     "start_time": "2024-12-12T14:56:50.017232Z"
    }
   },
   "source": [
    "drag_evidence_frame = double_curie_frame[double_curie_frame['stretch_id'] >= 1]\n",
    "drag_evidence_frame = drag_evidence_frame[['extracted_curie', 'longest_annotation_curie']]\n",
    "drag_evidence_frame['drag_evidence'] = True"
   ],
   "outputs": [],
   "execution_count": 82
  },
  {
   "cell_type": "code",
   "id": "9907b1472af8731b",
   "metadata": {
    "ExecuteTime": {
     "end_time": "2024-12-12T14:56:50.038225Z",
     "start_time": "2024-12-12T14:56:50.025574Z"
    }
   },
   "source": [
    "drag_evidence_frame"
   ],
   "outputs": [
    {
     "data": {
      "text/plain": [
       "   extracted_curie longest_annotation_curie  drag_evidence\n",
       "1    ENVO:01001430            ENVO:00000077           True\n",
       "3     ENVO:0003101            ENVO:00003081           True\n",
       "4    ENVO:01001431            ENVO:01001430           True\n",
       "5     ENVO:0003081            ENVO:00003081           True\n",
       "6     ENVO:0003082            ENVO:00003081           True\n",
       "7     ENVO:0003087            ENVO:00003081           True\n",
       "8    ENVO:01001433            ENVO:01001430           True\n",
       "9     ENVO:0003095            ENVO:00003081           True\n",
       "10    ENVO:0003100            ENVO:00003081           True\n",
       "11    ENVO:0003084            ENVO:00003081           True\n",
       "12    ENVO:0003088            ENVO:00003081           True\n",
       "13    ENVO:0003094            ENVO:00003081           True\n",
       "14    ENVO:0003098            ENVO:00003081           True\n",
       "15    ENVO:0003092            ENVO:00003081           True\n",
       "16    ENVO:0003096            ENVO:00003081           True\n",
       "17    ENVO:0003097            ENVO:00003081           True\n",
       "18   ENVO:01001442            ENVO:01001246           True\n",
       "19    ENVO:0003099            ENVO:00003081           True\n",
       "20    ENVO:0003086            ENVO:00003081           True\n",
       "21    ENVO:0003093            ENVO:00003081           True\n",
       "22   ENVO:01001436            ENVO:01001430           True\n",
       "23   ENVO:01001435            ENVO:01001430           True\n",
       "24    ENVO:0003091            ENVO:00003081           True\n",
       "25   ENVO:01001432            ENVO:01001430           True\n",
       "26    ENVO:0003083            ENVO:00003081           True\n",
       "27    ENVO:0003089            ENVO:00003081           True\n",
       "28    ENVO:0003090            ENVO:00003081           True\n",
       "29   ENVO:01001434            ENVO:01001430           True\n",
       "30    ENVO:0003085            ENVO:00003081           True\n",
       "31   ENVO:01001452            ENVO:01001430           True\n",
       "32   ENVO:01001456            ENVO:01001430           True\n",
       "33   ENVO:01001439            ENVO:01001430           True\n",
       "34   ENVO:01001453            ENVO:01001430           True\n",
       "36   ENVO:01001460            ENVO:01001430           True\n",
       "37   ENVO:01001459            ENVO:01001430           True\n",
       "41   ENVO:01001441            ENVO:01001430           True\n",
       "44   ENVO:01001440            ENVO:01001430           True\n",
       "45   ENVO:01001448            ENVO:01001430           True\n",
       "49   ENVO:01001462            ENVO:01001430           True\n",
       "50   ENVO:01001463            ENVO:01001430           True\n",
       "52   ENVO:01001461            ENVO:01001430           True\n",
       "53   ENVO:01001444            ENVO:01001430           True\n",
       "55   ENVO:01001447            ENVO:01001430           True\n",
       "56   ENVO:01001449            ENVO:01001430           True\n",
       "60   ENVO:01001457            ENVO:01001430           True\n",
       "63   ENVO:01001438            ENVO:01001430           True\n",
       "65   ENVO:01001443            ENVO:01001430           True\n",
       "68   ENVO:01001458            ENVO:01001430           True\n",
       "69   ENVO:01001455            ENVO:01001430           True\n",
       "71   ENVO:01001450            ENVO:01001430           True\n",
       "72   ENVO:01001451            ENVO:01001430           True\n",
       "73   ENVO:01001445            ENVO:01001430           True\n",
       "75   ENVO:01001454            ENVO:01001430           True\n",
       "76   ENVO:01001446            ENVO:01001430           True\n",
       "78   ENVO:01001437            ENVO:01001430           True\n",
       "81   ENVO:01001442            ENVO:01001430           True"
      ],
      "text/html": [
       "<div>\n",
       "<style scoped>\n",
       "    .dataframe tbody tr th:only-of-type {\n",
       "        vertical-align: middle;\n",
       "    }\n",
       "\n",
       "    .dataframe tbody tr th {\n",
       "        vertical-align: top;\n",
       "    }\n",
       "\n",
       "    .dataframe thead th {\n",
       "        text-align: right;\n",
       "    }\n",
       "</style>\n",
       "<table border=\"1\" class=\"dataframe\">\n",
       "  <thead>\n",
       "    <tr style=\"text-align: right;\">\n",
       "      <th></th>\n",
       "      <th>extracted_curie</th>\n",
       "      <th>longest_annotation_curie</th>\n",
       "      <th>drag_evidence</th>\n",
       "    </tr>\n",
       "  </thead>\n",
       "  <tbody>\n",
       "    <tr>\n",
       "      <th>1</th>\n",
       "      <td>ENVO:01001430</td>\n",
       "      <td>ENVO:00000077</td>\n",
       "      <td>True</td>\n",
       "    </tr>\n",
       "    <tr>\n",
       "      <th>3</th>\n",
       "      <td>ENVO:0003101</td>\n",
       "      <td>ENVO:00003081</td>\n",
       "      <td>True</td>\n",
       "    </tr>\n",
       "    <tr>\n",
       "      <th>4</th>\n",
       "      <td>ENVO:01001431</td>\n",
       "      <td>ENVO:01001430</td>\n",
       "      <td>True</td>\n",
       "    </tr>\n",
       "    <tr>\n",
       "      <th>5</th>\n",
       "      <td>ENVO:0003081</td>\n",
       "      <td>ENVO:00003081</td>\n",
       "      <td>True</td>\n",
       "    </tr>\n",
       "    <tr>\n",
       "      <th>6</th>\n",
       "      <td>ENVO:0003082</td>\n",
       "      <td>ENVO:00003081</td>\n",
       "      <td>True</td>\n",
       "    </tr>\n",
       "    <tr>\n",
       "      <th>7</th>\n",
       "      <td>ENVO:0003087</td>\n",
       "      <td>ENVO:00003081</td>\n",
       "      <td>True</td>\n",
       "    </tr>\n",
       "    <tr>\n",
       "      <th>8</th>\n",
       "      <td>ENVO:01001433</td>\n",
       "      <td>ENVO:01001430</td>\n",
       "      <td>True</td>\n",
       "    </tr>\n",
       "    <tr>\n",
       "      <th>9</th>\n",
       "      <td>ENVO:0003095</td>\n",
       "      <td>ENVO:00003081</td>\n",
       "      <td>True</td>\n",
       "    </tr>\n",
       "    <tr>\n",
       "      <th>10</th>\n",
       "      <td>ENVO:0003100</td>\n",
       "      <td>ENVO:00003081</td>\n",
       "      <td>True</td>\n",
       "    </tr>\n",
       "    <tr>\n",
       "      <th>11</th>\n",
       "      <td>ENVO:0003084</td>\n",
       "      <td>ENVO:00003081</td>\n",
       "      <td>True</td>\n",
       "    </tr>\n",
       "    <tr>\n",
       "      <th>12</th>\n",
       "      <td>ENVO:0003088</td>\n",
       "      <td>ENVO:00003081</td>\n",
       "      <td>True</td>\n",
       "    </tr>\n",
       "    <tr>\n",
       "      <th>13</th>\n",
       "      <td>ENVO:0003094</td>\n",
       "      <td>ENVO:00003081</td>\n",
       "      <td>True</td>\n",
       "    </tr>\n",
       "    <tr>\n",
       "      <th>14</th>\n",
       "      <td>ENVO:0003098</td>\n",
       "      <td>ENVO:00003081</td>\n",
       "      <td>True</td>\n",
       "    </tr>\n",
       "    <tr>\n",
       "      <th>15</th>\n",
       "      <td>ENVO:0003092</td>\n",
       "      <td>ENVO:00003081</td>\n",
       "      <td>True</td>\n",
       "    </tr>\n",
       "    <tr>\n",
       "      <th>16</th>\n",
       "      <td>ENVO:0003096</td>\n",
       "      <td>ENVO:00003081</td>\n",
       "      <td>True</td>\n",
       "    </tr>\n",
       "    <tr>\n",
       "      <th>17</th>\n",
       "      <td>ENVO:0003097</td>\n",
       "      <td>ENVO:00003081</td>\n",
       "      <td>True</td>\n",
       "    </tr>\n",
       "    <tr>\n",
       "      <th>18</th>\n",
       "      <td>ENVO:01001442</td>\n",
       "      <td>ENVO:01001246</td>\n",
       "      <td>True</td>\n",
       "    </tr>\n",
       "    <tr>\n",
       "      <th>19</th>\n",
       "      <td>ENVO:0003099</td>\n",
       "      <td>ENVO:00003081</td>\n",
       "      <td>True</td>\n",
       "    </tr>\n",
       "    <tr>\n",
       "      <th>20</th>\n",
       "      <td>ENVO:0003086</td>\n",
       "      <td>ENVO:00003081</td>\n",
       "      <td>True</td>\n",
       "    </tr>\n",
       "    <tr>\n",
       "      <th>21</th>\n",
       "      <td>ENVO:0003093</td>\n",
       "      <td>ENVO:00003081</td>\n",
       "      <td>True</td>\n",
       "    </tr>\n",
       "    <tr>\n",
       "      <th>22</th>\n",
       "      <td>ENVO:01001436</td>\n",
       "      <td>ENVO:01001430</td>\n",
       "      <td>True</td>\n",
       "    </tr>\n",
       "    <tr>\n",
       "      <th>23</th>\n",
       "      <td>ENVO:01001435</td>\n",
       "      <td>ENVO:01001430</td>\n",
       "      <td>True</td>\n",
       "    </tr>\n",
       "    <tr>\n",
       "      <th>24</th>\n",
       "      <td>ENVO:0003091</td>\n",
       "      <td>ENVO:00003081</td>\n",
       "      <td>True</td>\n",
       "    </tr>\n",
       "    <tr>\n",
       "      <th>25</th>\n",
       "      <td>ENVO:01001432</td>\n",
       "      <td>ENVO:01001430</td>\n",
       "      <td>True</td>\n",
       "    </tr>\n",
       "    <tr>\n",
       "      <th>26</th>\n",
       "      <td>ENVO:0003083</td>\n",
       "      <td>ENVO:00003081</td>\n",
       "      <td>True</td>\n",
       "    </tr>\n",
       "    <tr>\n",
       "      <th>27</th>\n",
       "      <td>ENVO:0003089</td>\n",
       "      <td>ENVO:00003081</td>\n",
       "      <td>True</td>\n",
       "    </tr>\n",
       "    <tr>\n",
       "      <th>28</th>\n",
       "      <td>ENVO:0003090</td>\n",
       "      <td>ENVO:00003081</td>\n",
       "      <td>True</td>\n",
       "    </tr>\n",
       "    <tr>\n",
       "      <th>29</th>\n",
       "      <td>ENVO:01001434</td>\n",
       "      <td>ENVO:01001430</td>\n",
       "      <td>True</td>\n",
       "    </tr>\n",
       "    <tr>\n",
       "      <th>30</th>\n",
       "      <td>ENVO:0003085</td>\n",
       "      <td>ENVO:00003081</td>\n",
       "      <td>True</td>\n",
       "    </tr>\n",
       "    <tr>\n",
       "      <th>31</th>\n",
       "      <td>ENVO:01001452</td>\n",
       "      <td>ENVO:01001430</td>\n",
       "      <td>True</td>\n",
       "    </tr>\n",
       "    <tr>\n",
       "      <th>32</th>\n",
       "      <td>ENVO:01001456</td>\n",
       "      <td>ENVO:01001430</td>\n",
       "      <td>True</td>\n",
       "    </tr>\n",
       "    <tr>\n",
       "      <th>33</th>\n",
       "      <td>ENVO:01001439</td>\n",
       "      <td>ENVO:01001430</td>\n",
       "      <td>True</td>\n",
       "    </tr>\n",
       "    <tr>\n",
       "      <th>34</th>\n",
       "      <td>ENVO:01001453</td>\n",
       "      <td>ENVO:01001430</td>\n",
       "      <td>True</td>\n",
       "    </tr>\n",
       "    <tr>\n",
       "      <th>36</th>\n",
       "      <td>ENVO:01001460</td>\n",
       "      <td>ENVO:01001430</td>\n",
       "      <td>True</td>\n",
       "    </tr>\n",
       "    <tr>\n",
       "      <th>37</th>\n",
       "      <td>ENVO:01001459</td>\n",
       "      <td>ENVO:01001430</td>\n",
       "      <td>True</td>\n",
       "    </tr>\n",
       "    <tr>\n",
       "      <th>41</th>\n",
       "      <td>ENVO:01001441</td>\n",
       "      <td>ENVO:01001430</td>\n",
       "      <td>True</td>\n",
       "    </tr>\n",
       "    <tr>\n",
       "      <th>44</th>\n",
       "      <td>ENVO:01001440</td>\n",
       "      <td>ENVO:01001430</td>\n",
       "      <td>True</td>\n",
       "    </tr>\n",
       "    <tr>\n",
       "      <th>45</th>\n",
       "      <td>ENVO:01001448</td>\n",
       "      <td>ENVO:01001430</td>\n",
       "      <td>True</td>\n",
       "    </tr>\n",
       "    <tr>\n",
       "      <th>49</th>\n",
       "      <td>ENVO:01001462</td>\n",
       "      <td>ENVO:01001430</td>\n",
       "      <td>True</td>\n",
       "    </tr>\n",
       "    <tr>\n",
       "      <th>50</th>\n",
       "      <td>ENVO:01001463</td>\n",
       "      <td>ENVO:01001430</td>\n",
       "      <td>True</td>\n",
       "    </tr>\n",
       "    <tr>\n",
       "      <th>52</th>\n",
       "      <td>ENVO:01001461</td>\n",
       "      <td>ENVO:01001430</td>\n",
       "      <td>True</td>\n",
       "    </tr>\n",
       "    <tr>\n",
       "      <th>53</th>\n",
       "      <td>ENVO:01001444</td>\n",
       "      <td>ENVO:01001430</td>\n",
       "      <td>True</td>\n",
       "    </tr>\n",
       "    <tr>\n",
       "      <th>55</th>\n",
       "      <td>ENVO:01001447</td>\n",
       "      <td>ENVO:01001430</td>\n",
       "      <td>True</td>\n",
       "    </tr>\n",
       "    <tr>\n",
       "      <th>56</th>\n",
       "      <td>ENVO:01001449</td>\n",
       "      <td>ENVO:01001430</td>\n",
       "      <td>True</td>\n",
       "    </tr>\n",
       "    <tr>\n",
       "      <th>60</th>\n",
       "      <td>ENVO:01001457</td>\n",
       "      <td>ENVO:01001430</td>\n",
       "      <td>True</td>\n",
       "    </tr>\n",
       "    <tr>\n",
       "      <th>63</th>\n",
       "      <td>ENVO:01001438</td>\n",
       "      <td>ENVO:01001430</td>\n",
       "      <td>True</td>\n",
       "    </tr>\n",
       "    <tr>\n",
       "      <th>65</th>\n",
       "      <td>ENVO:01001443</td>\n",
       "      <td>ENVO:01001430</td>\n",
       "      <td>True</td>\n",
       "    </tr>\n",
       "    <tr>\n",
       "      <th>68</th>\n",
       "      <td>ENVO:01001458</td>\n",
       "      <td>ENVO:01001430</td>\n",
       "      <td>True</td>\n",
       "    </tr>\n",
       "    <tr>\n",
       "      <th>69</th>\n",
       "      <td>ENVO:01001455</td>\n",
       "      <td>ENVO:01001430</td>\n",
       "      <td>True</td>\n",
       "    </tr>\n",
       "    <tr>\n",
       "      <th>71</th>\n",
       "      <td>ENVO:01001450</td>\n",
       "      <td>ENVO:01001430</td>\n",
       "      <td>True</td>\n",
       "    </tr>\n",
       "    <tr>\n",
       "      <th>72</th>\n",
       "      <td>ENVO:01001451</td>\n",
       "      <td>ENVO:01001430</td>\n",
       "      <td>True</td>\n",
       "    </tr>\n",
       "    <tr>\n",
       "      <th>73</th>\n",
       "      <td>ENVO:01001445</td>\n",
       "      <td>ENVO:01001430</td>\n",
       "      <td>True</td>\n",
       "    </tr>\n",
       "    <tr>\n",
       "      <th>75</th>\n",
       "      <td>ENVO:01001454</td>\n",
       "      <td>ENVO:01001430</td>\n",
       "      <td>True</td>\n",
       "    </tr>\n",
       "    <tr>\n",
       "      <th>76</th>\n",
       "      <td>ENVO:01001446</td>\n",
       "      <td>ENVO:01001430</td>\n",
       "      <td>True</td>\n",
       "    </tr>\n",
       "    <tr>\n",
       "      <th>78</th>\n",
       "      <td>ENVO:01001437</td>\n",
       "      <td>ENVO:01001430</td>\n",
       "      <td>True</td>\n",
       "    </tr>\n",
       "    <tr>\n",
       "      <th>81</th>\n",
       "      <td>ENVO:01001442</td>\n",
       "      <td>ENVO:01001430</td>\n",
       "      <td>True</td>\n",
       "    </tr>\n",
       "  </tbody>\n",
       "</table>\n",
       "</div>"
      ]
     },
     "execution_count": 83,
     "metadata": {},
     "output_type": "execute_result"
    }
   ],
   "execution_count": 83
  },
  {
   "cell_type": "code",
   "id": "9873eb1bc3ea44e5",
   "metadata": {
    "ExecuteTime": {
     "end_time": "2024-12-12T14:56:50.046436Z",
     "start_time": "2024-12-12T14:56:50.039826Z"
    }
   },
   "source": [
    "ncbi_frame = ncbi_frame.merge(\n",
    "    drag_evidence_frame,\n",
    "    left_on=['extracted_curie', 'longest_annotation_curie'],\n",
    "    right_on=['extracted_curie', 'longest_annotation_curie'],\n",
    "    how='left'\n",
    ")"
   ],
   "outputs": [],
   "execution_count": 84
  },
  {
   "cell_type": "code",
   "id": "1d67b9e207b5531e",
   "metadata": {
    "ExecuteTime": {
     "end_time": "2024-12-12T14:56:50.354798Z",
     "start_time": "2024-12-12T14:56:50.048236Z"
    }
   },
   "source": [
    "# Initialize dragless_curie_list with curie_list values\n",
    "ncbi_frame[\"dragless_curie_list\"] = ncbi_frame[\"curie_list\"]\n",
    "\n",
    "# Update dragless_curie_list based on the condition\n",
    "for index, row in ncbi_frame.iterrows():\n",
    "    if row[\"drag_evidence\"] is True:\n",
    "        if row[\"longest_annotation_curie\"] is not None:\n",
    "            ncbi_frame.at[index, \"dragless_curie_list\"] = [row[\"longest_annotation_curie\"]]\n",
    "        else:\n",
    "            ncbi_frame.at[index, \"dragless_curie_list\"] = []\n",
    "\n",
    "ncbi_frame['dragless_curie_count'] = ncbi_frame['dragless_curie_list'].apply(len)"
   ],
   "outputs": [],
   "execution_count": 85
  },
  {
   "cell_type": "code",
   "id": "fb7469cd6900edd7",
   "metadata": {
    "ExecuteTime": {
     "end_time": "2024-12-12T14:56:50.362804Z",
     "start_time": "2024-12-12T14:56:50.357432Z"
    }
   },
   "source": [
    "ncbi_frame['unique_curie_count'].value_counts()"
   ],
   "outputs": [
    {
     "data": {
      "text/plain": [
       "unique_curie_count\n",
       "0    2629\n",
       "1    2593\n",
       "2      85\n",
       "Name: count, dtype: int64"
      ]
     },
     "execution_count": 86,
     "metadata": {},
     "output_type": "execute_result"
    }
   ],
   "execution_count": 86
  },
  {
   "cell_type": "code",
   "id": "7626e42d5b746a2a",
   "metadata": {
    "ExecuteTime": {
     "end_time": "2024-12-12T14:56:50.369859Z",
     "start_time": "2024-12-12T14:56:50.364375Z"
    }
   },
   "source": [
    "ncbi_frame['dragless_curie_count'].value_counts()"
   ],
   "outputs": [
    {
     "data": {
      "text/plain": [
       "dragless_curie_count\n",
       "1    2649\n",
       "0    2629\n",
       "2      29\n",
       "Name: count, dtype: int64"
      ]
     },
     "execution_count": 87,
     "metadata": {},
     "output_type": "execute_result"
    }
   ],
   "execution_count": 87
  },
  {
   "metadata": {},
   "cell_type": "markdown",
   "source": [
    "## The extent of multiple detected CURIes has been reduced ~ 4.5 fold \n",
    "(for soil env_local_scale)\n",
    "\n",
    "Isolate the submitter annotations for which there's clearly one best CURIe after removing the drag-stretches"
   ],
   "id": "55ba8eda9fc69708"
  },
  {
   "cell_type": "code",
   "id": "bb3c0eeb8e919ac5",
   "metadata": {
    "ExecuteTime": {
     "end_time": "2024-12-12T14:56:50.376024Z",
     "start_time": "2024-12-12T14:56:50.371195Z"
    }
   },
   "source": [
    "ncbi_frame.shape"
   ],
   "outputs": [
    {
     "data": {
      "text/plain": [
       "(5307, 16)"
      ]
     },
     "execution_count": 88,
     "metadata": {},
     "output_type": "execute_result"
    }
   ],
   "execution_count": 88
  },
  {
   "cell_type": "code",
   "id": "653df3ac622d4e95",
   "metadata": {
    "ExecuteTime": {
     "end_time": "2024-12-12T14:56:50.382935Z",
     "start_time": "2024-12-12T14:56:50.377790Z"
    }
   },
   "source": [
    "ncbi_frame_undisputed = ncbi_frame[ncbi_frame['dragless_curie_count'] <= 1]"
   ],
   "outputs": [],
   "execution_count": 89
  },
  {
   "cell_type": "code",
   "id": "2abdcbd301b484a9",
   "metadata": {
    "ExecuteTime": {
     "end_time": "2024-12-12T14:56:50.388623Z",
     "start_time": "2024-12-12T14:56:50.384414Z"
    }
   },
   "source": [
    "ncbi_frame_undisputed.shape"
   ],
   "outputs": [
    {
     "data": {
      "text/plain": [
       "(5278, 16)"
      ]
     },
     "execution_count": 90,
     "metadata": {},
     "output_type": "execute_result"
    }
   ],
   "execution_count": 90
  },
  {
   "cell_type": "code",
   "id": "57d0c3c05e88ea1e",
   "metadata": {
    "ExecuteTime": {
     "end_time": "2024-12-12T14:56:50.393667Z",
     "start_time": "2024-12-12T14:56:50.390175Z"
    }
   },
   "source": [
    "ncbi_frame_disputed = ncbi_frame[ncbi_frame['dragless_curie_count'] > 1]"
   ],
   "outputs": [],
   "execution_count": 91
  },
  {
   "cell_type": "code",
   "id": "d0cf6796fedc7f8a",
   "metadata": {
    "ExecuteTime": {
     "end_time": "2024-12-12T14:56:50.399161Z",
     "start_time": "2024-12-12T14:56:50.395062Z"
    }
   },
   "source": [
    "ncbi_frame_disputed.shape"
   ],
   "outputs": [
    {
     "data": {
      "text/plain": [
       "(29, 16)"
      ]
     },
     "execution_count": 92,
     "metadata": {},
     "output_type": "execute_result"
    }
   ],
   "execution_count": 92
  },
  {
   "cell_type": "code",
   "id": "fe33fe1d6d2aad09",
   "metadata": {
    "ExecuteTime": {
     "end_time": "2024-12-12T14:56:50.417233Z",
     "start_time": "2024-12-12T14:56:50.411410Z"
    }
   },
   "source": [
    "ncbi_frame_disputed = ncbi_frame_disputed.explode(\"dragless_curie_list\", ignore_index=True)\n"
   ],
   "outputs": [],
   "execution_count": 93
  },
  {
   "cell_type": "code",
   "id": "f8fe49b93cb12990",
   "metadata": {
    "ExecuteTime": {
     "end_time": "2024-12-12T14:56:50.423372Z",
     "start_time": "2024-12-12T14:56:50.418736Z"
    }
   },
   "source": [
    "ncbi_frame_disputed.shape"
   ],
   "outputs": [
    {
     "data": {
      "text/plain": [
       "(58, 16)"
      ]
     },
     "execution_count": 94,
     "metadata": {},
     "output_type": "execute_result"
    }
   ],
   "execution_count": 94
  },
  {
   "cell_type": "code",
   "id": "6896ca8dd3865cb5",
   "metadata": {
    "ExecuteTime": {
     "end_time": "2024-12-12T14:56:50.429017Z",
     "start_time": "2024-12-12T14:56:50.425554Z"
    }
   },
   "source": [
    "ncbi_frame_disputed[\"dragless_curie_list\"] = ncbi_frame_disputed[\"dragless_curie_list\"].apply(lambda x: [x])"
   ],
   "outputs": [],
   "execution_count": 95
  },
  {
   "metadata": {},
   "cell_type": "markdown",
   "source": "## Just include all of the remaining disputed CURIe assingments",
   "id": "849c8845f5c378e7"
  },
  {
   "cell_type": "code",
   "id": "9a472d228624f148",
   "metadata": {
    "ExecuteTime": {
     "end_time": "2024-12-12T14:56:50.435693Z",
     "start_time": "2024-12-12T14:56:50.430644Z"
    }
   },
   "source": [
    "# Combine the rows of ncbi_frame_undisputed and ncbi_frame_disputed into a new DataFrame\n",
    "ncbi_disputes_exploded_frame = pd.concat([ncbi_frame_undisputed, ncbi_frame_disputed], ignore_index=True)\n"
   ],
   "outputs": [],
   "execution_count": 96
  },
  {
   "cell_type": "code",
   "id": "e772d6db19793ec5",
   "metadata": {
    "ExecuteTime": {
     "end_time": "2024-12-12T14:56:50.441224Z",
     "start_time": "2024-12-12T14:56:50.437167Z"
    }
   },
   "source": [
    "ncbi_disputes_exploded_frame.shape"
   ],
   "outputs": [
    {
     "data": {
      "text/plain": [
       "(5336, 16)"
      ]
     },
     "execution_count": 97,
     "metadata": {},
     "output_type": "execute_result"
    }
   ],
   "execution_count": 97
  },
  {
   "cell_type": "code",
   "id": "ef0b5e69d724d94a",
   "metadata": {
    "ExecuteTime": {
     "end_time": "2024-12-12T14:56:50.464569Z",
     "start_time": "2024-12-12T14:56:50.442868Z"
    }
   },
   "source": [
    "ncbi_disputes_exploded_frame"
   ],
   "outputs": [
    {
     "data": {
      "text/plain": [
       "      serial_number                         content  count  \\\n",
       "0                 1                  not applicable    262   \n",
       "1                 2                         missing    199   \n",
       "2                 3                   not collected    127   \n",
       "3                 4                         Orchard     87   \n",
       "4                 5                              NA     79   \n",
       "...             ...                             ...    ...   \n",
       "5331           4863  intertidal zone [ENVO:0000316]      1   \n",
       "5332           4932            field(ENVO:00000114)      1   \n",
       "5333           4932            field(ENVO:00000114)      1   \n",
       "5334           4992            wood [ENVO_00002040]      1   \n",
       "5335           4992            wood [ENVO_00002040]      1   \n",
       "\n",
       "                        content_list  content_count  envo_count  \\\n",
       "0                     not applicable              1           0   \n",
       "1                            missing              1           0   \n",
       "2                      not collected              1           0   \n",
       "3                            Orchard              1           0   \n",
       "4                                 NA              1           0   \n",
       "...                              ...            ...         ...   \n",
       "5331  intertidal zone [ENVO:0000316]              1           1   \n",
       "5332            field(ENVO:00000114)              1           1   \n",
       "5333            field(ENVO:00000114)              1           1   \n",
       "5334            wood [ENVO_00002040]              1           1   \n",
       "5335            wood [ENVO_00002040]              1           1   \n",
       "\n",
       "      extracted_label extracted_curie          real_label  \\\n",
       "0      not applicable            None                None   \n",
       "1             missing            None                None   \n",
       "2       not collected            None                None   \n",
       "3             Orchard            None                None   \n",
       "4                  NA            None                None   \n",
       "...               ...             ...                 ...   \n",
       "5331  intertidal zone    ENVO:0000316                None   \n",
       "5332            field   ENVO:00000114  agricultural field   \n",
       "5333            field   ENVO:00000114  agricultural field   \n",
       "5334             wood   ENVO:00002040                wood   \n",
       "5335             wood   ENVO:00002040                wood   \n",
       "\n",
       "     longest_annotation_curie longest_annotation_label  \\\n",
       "0                        None                     None   \n",
       "1                        None                     None   \n",
       "2                        None                     None   \n",
       "3               ENVO:00000115                  orchard   \n",
       "4                        None                     None   \n",
       "...                       ...                      ...   \n",
       "5331            ENVO:00000316          intertidal zone   \n",
       "5332            ENVO:01000352                    field   \n",
       "5333            ENVO:01000352                    field   \n",
       "5334            ENVO:00000109            woodland area   \n",
       "5335            ENVO:00000109            woodland area   \n",
       "\n",
       "                          curie_list  unique_curie_count drag_evidence  \\\n",
       "0                                 []                   0           NaN   \n",
       "1                                 []                   0           NaN   \n",
       "2                                 []                   0           NaN   \n",
       "3                    [ENVO:00000115]                   1           NaN   \n",
       "4                                 []                   0           NaN   \n",
       "...                              ...                 ...           ...   \n",
       "5331   [ENVO:0000316, ENVO:00000316]                   2           NaN   \n",
       "5332  [ENVO:00000114, ENVO:01000352]                   2           NaN   \n",
       "5333  [ENVO:00000114, ENVO:01000352]                   2           NaN   \n",
       "5334  [ENVO:00002040, ENVO:00000109]                   2           NaN   \n",
       "5335  [ENVO:00002040, ENVO:00000109]                   2           NaN   \n",
       "\n",
       "     dragless_curie_list  dragless_curie_count  \n",
       "0                     []                     0  \n",
       "1                     []                     0  \n",
       "2                     []                     0  \n",
       "3        [ENVO:00000115]                     1  \n",
       "4                     []                     0  \n",
       "...                  ...                   ...  \n",
       "5331     [ENVO:00000316]                     2  \n",
       "5332     [ENVO:00000114]                     2  \n",
       "5333     [ENVO:01000352]                     2  \n",
       "5334     [ENVO:00002040]                     2  \n",
       "5335     [ENVO:00000109]                     2  \n",
       "\n",
       "[5336 rows x 16 columns]"
      ],
      "text/html": [
       "<div>\n",
       "<style scoped>\n",
       "    .dataframe tbody tr th:only-of-type {\n",
       "        vertical-align: middle;\n",
       "    }\n",
       "\n",
       "    .dataframe tbody tr th {\n",
       "        vertical-align: top;\n",
       "    }\n",
       "\n",
       "    .dataframe thead th {\n",
       "        text-align: right;\n",
       "    }\n",
       "</style>\n",
       "<table border=\"1\" class=\"dataframe\">\n",
       "  <thead>\n",
       "    <tr style=\"text-align: right;\">\n",
       "      <th></th>\n",
       "      <th>serial_number</th>\n",
       "      <th>content</th>\n",
       "      <th>count</th>\n",
       "      <th>content_list</th>\n",
       "      <th>content_count</th>\n",
       "      <th>envo_count</th>\n",
       "      <th>extracted_label</th>\n",
       "      <th>extracted_curie</th>\n",
       "      <th>real_label</th>\n",
       "      <th>longest_annotation_curie</th>\n",
       "      <th>longest_annotation_label</th>\n",
       "      <th>curie_list</th>\n",
       "      <th>unique_curie_count</th>\n",
       "      <th>drag_evidence</th>\n",
       "      <th>dragless_curie_list</th>\n",
       "      <th>dragless_curie_count</th>\n",
       "    </tr>\n",
       "  </thead>\n",
       "  <tbody>\n",
       "    <tr>\n",
       "      <th>0</th>\n",
       "      <td>1</td>\n",
       "      <td>not applicable</td>\n",
       "      <td>262</td>\n",
       "      <td>not applicable</td>\n",
       "      <td>1</td>\n",
       "      <td>0</td>\n",
       "      <td>not applicable</td>\n",
       "      <td>None</td>\n",
       "      <td>None</td>\n",
       "      <td>None</td>\n",
       "      <td>None</td>\n",
       "      <td>[]</td>\n",
       "      <td>0</td>\n",
       "      <td>NaN</td>\n",
       "      <td>[]</td>\n",
       "      <td>0</td>\n",
       "    </tr>\n",
       "    <tr>\n",
       "      <th>1</th>\n",
       "      <td>2</td>\n",
       "      <td>missing</td>\n",
       "      <td>199</td>\n",
       "      <td>missing</td>\n",
       "      <td>1</td>\n",
       "      <td>0</td>\n",
       "      <td>missing</td>\n",
       "      <td>None</td>\n",
       "      <td>None</td>\n",
       "      <td>None</td>\n",
       "      <td>None</td>\n",
       "      <td>[]</td>\n",
       "      <td>0</td>\n",
       "      <td>NaN</td>\n",
       "      <td>[]</td>\n",
       "      <td>0</td>\n",
       "    </tr>\n",
       "    <tr>\n",
       "      <th>2</th>\n",
       "      <td>3</td>\n",
       "      <td>not collected</td>\n",
       "      <td>127</td>\n",
       "      <td>not collected</td>\n",
       "      <td>1</td>\n",
       "      <td>0</td>\n",
       "      <td>not collected</td>\n",
       "      <td>None</td>\n",
       "      <td>None</td>\n",
       "      <td>None</td>\n",
       "      <td>None</td>\n",
       "      <td>[]</td>\n",
       "      <td>0</td>\n",
       "      <td>NaN</td>\n",
       "      <td>[]</td>\n",
       "      <td>0</td>\n",
       "    </tr>\n",
       "    <tr>\n",
       "      <th>3</th>\n",
       "      <td>4</td>\n",
       "      <td>Orchard</td>\n",
       "      <td>87</td>\n",
       "      <td>Orchard</td>\n",
       "      <td>1</td>\n",
       "      <td>0</td>\n",
       "      <td>Orchard</td>\n",
       "      <td>None</td>\n",
       "      <td>None</td>\n",
       "      <td>ENVO:00000115</td>\n",
       "      <td>orchard</td>\n",
       "      <td>[ENVO:00000115]</td>\n",
       "      <td>1</td>\n",
       "      <td>NaN</td>\n",
       "      <td>[ENVO:00000115]</td>\n",
       "      <td>1</td>\n",
       "    </tr>\n",
       "    <tr>\n",
       "      <th>4</th>\n",
       "      <td>5</td>\n",
       "      <td>NA</td>\n",
       "      <td>79</td>\n",
       "      <td>NA</td>\n",
       "      <td>1</td>\n",
       "      <td>0</td>\n",
       "      <td>NA</td>\n",
       "      <td>None</td>\n",
       "      <td>None</td>\n",
       "      <td>None</td>\n",
       "      <td>None</td>\n",
       "      <td>[]</td>\n",
       "      <td>0</td>\n",
       "      <td>NaN</td>\n",
       "      <td>[]</td>\n",
       "      <td>0</td>\n",
       "    </tr>\n",
       "    <tr>\n",
       "      <th>...</th>\n",
       "      <td>...</td>\n",
       "      <td>...</td>\n",
       "      <td>...</td>\n",
       "      <td>...</td>\n",
       "      <td>...</td>\n",
       "      <td>...</td>\n",
       "      <td>...</td>\n",
       "      <td>...</td>\n",
       "      <td>...</td>\n",
       "      <td>...</td>\n",
       "      <td>...</td>\n",
       "      <td>...</td>\n",
       "      <td>...</td>\n",
       "      <td>...</td>\n",
       "      <td>...</td>\n",
       "      <td>...</td>\n",
       "    </tr>\n",
       "    <tr>\n",
       "      <th>5331</th>\n",
       "      <td>4863</td>\n",
       "      <td>intertidal zone [ENVO:0000316]</td>\n",
       "      <td>1</td>\n",
       "      <td>intertidal zone [ENVO:0000316]</td>\n",
       "      <td>1</td>\n",
       "      <td>1</td>\n",
       "      <td>intertidal zone</td>\n",
       "      <td>ENVO:0000316</td>\n",
       "      <td>None</td>\n",
       "      <td>ENVO:00000316</td>\n",
       "      <td>intertidal zone</td>\n",
       "      <td>[ENVO:0000316, ENVO:00000316]</td>\n",
       "      <td>2</td>\n",
       "      <td>NaN</td>\n",
       "      <td>[ENVO:00000316]</td>\n",
       "      <td>2</td>\n",
       "    </tr>\n",
       "    <tr>\n",
       "      <th>5332</th>\n",
       "      <td>4932</td>\n",
       "      <td>field(ENVO:00000114)</td>\n",
       "      <td>1</td>\n",
       "      <td>field(ENVO:00000114)</td>\n",
       "      <td>1</td>\n",
       "      <td>1</td>\n",
       "      <td>field</td>\n",
       "      <td>ENVO:00000114</td>\n",
       "      <td>agricultural field</td>\n",
       "      <td>ENVO:01000352</td>\n",
       "      <td>field</td>\n",
       "      <td>[ENVO:00000114, ENVO:01000352]</td>\n",
       "      <td>2</td>\n",
       "      <td>NaN</td>\n",
       "      <td>[ENVO:00000114]</td>\n",
       "      <td>2</td>\n",
       "    </tr>\n",
       "    <tr>\n",
       "      <th>5333</th>\n",
       "      <td>4932</td>\n",
       "      <td>field(ENVO:00000114)</td>\n",
       "      <td>1</td>\n",
       "      <td>field(ENVO:00000114)</td>\n",
       "      <td>1</td>\n",
       "      <td>1</td>\n",
       "      <td>field</td>\n",
       "      <td>ENVO:00000114</td>\n",
       "      <td>agricultural field</td>\n",
       "      <td>ENVO:01000352</td>\n",
       "      <td>field</td>\n",
       "      <td>[ENVO:00000114, ENVO:01000352]</td>\n",
       "      <td>2</td>\n",
       "      <td>NaN</td>\n",
       "      <td>[ENVO:01000352]</td>\n",
       "      <td>2</td>\n",
       "    </tr>\n",
       "    <tr>\n",
       "      <th>5334</th>\n",
       "      <td>4992</td>\n",
       "      <td>wood [ENVO_00002040]</td>\n",
       "      <td>1</td>\n",
       "      <td>wood [ENVO_00002040]</td>\n",
       "      <td>1</td>\n",
       "      <td>1</td>\n",
       "      <td>wood</td>\n",
       "      <td>ENVO:00002040</td>\n",
       "      <td>wood</td>\n",
       "      <td>ENVO:00000109</td>\n",
       "      <td>woodland area</td>\n",
       "      <td>[ENVO:00002040, ENVO:00000109]</td>\n",
       "      <td>2</td>\n",
       "      <td>NaN</td>\n",
       "      <td>[ENVO:00002040]</td>\n",
       "      <td>2</td>\n",
       "    </tr>\n",
       "    <tr>\n",
       "      <th>5335</th>\n",
       "      <td>4992</td>\n",
       "      <td>wood [ENVO_00002040]</td>\n",
       "      <td>1</td>\n",
       "      <td>wood [ENVO_00002040]</td>\n",
       "      <td>1</td>\n",
       "      <td>1</td>\n",
       "      <td>wood</td>\n",
       "      <td>ENVO:00002040</td>\n",
       "      <td>wood</td>\n",
       "      <td>ENVO:00000109</td>\n",
       "      <td>woodland area</td>\n",
       "      <td>[ENVO:00002040, ENVO:00000109]</td>\n",
       "      <td>2</td>\n",
       "      <td>NaN</td>\n",
       "      <td>[ENVO:00000109]</td>\n",
       "      <td>2</td>\n",
       "    </tr>\n",
       "  </tbody>\n",
       "</table>\n",
       "<p>5336 rows × 16 columns</p>\n",
       "</div>"
      ]
     },
     "execution_count": 98,
     "metadata": {},
     "output_type": "execute_result"
    }
   ],
   "execution_count": 98
  },
  {
   "cell_type": "code",
   "id": "be53a584475499b5",
   "metadata": {
    "ExecuteTime": {
     "end_time": "2024-12-12T14:56:50.471363Z",
     "start_time": "2024-12-12T14:56:50.466171Z"
    }
   },
   "source": [
    "ncbi_disputes_exploded_frame['post_explode_curie_count'] = ncbi_disputes_exploded_frame['dragless_curie_list'].apply(len)"
   ],
   "outputs": [],
   "execution_count": 99
  },
  {
   "cell_type": "code",
   "id": "e0c0605a4ca28188",
   "metadata": {
    "ExecuteTime": {
     "end_time": "2024-12-12T14:56:50.479198Z",
     "start_time": "2024-12-12T14:56:50.473850Z"
    }
   },
   "source": [
    "ncbi_disputes_exploded_frame['post_explode_curie_count'].value_counts()"
   ],
   "outputs": [
    {
     "data": {
      "text/plain": [
       "post_explode_curie_count\n",
       "1    2707\n",
       "0    2629\n",
       "Name: count, dtype: int64"
      ]
     },
     "execution_count": 100,
     "metadata": {},
     "output_type": "execute_result"
    }
   ],
   "execution_count": 100
  },
  {
   "cell_type": "code",
   "id": "396e48f3cea80587",
   "metadata": {
    "ExecuteTime": {
     "end_time": "2024-12-12T14:56:50.486956Z",
     "start_time": "2024-12-12T14:56:50.481062Z"
    }
   },
   "source": [
    "# Set 'post_explode_curie' to the 0th item in 'dragless_curie_list'\n",
    "ncbi_disputes_exploded_frame[\"post_explode_curie\"] = ncbi_disputes_exploded_frame[\"dragless_curie_list\"].apply(\n",
    "    lambda x: x[0] if isinstance(x, list) and len(x) > 0 else None\n",
    ")"
   ],
   "outputs": [],
   "execution_count": 101
  },
  {
   "cell_type": "code",
   "id": "1e488764b4212b75",
   "metadata": {
    "ExecuteTime": {
     "end_time": "2024-12-12T14:56:50.494265Z",
     "start_time": "2024-12-12T14:56:50.488616Z"
    }
   },
   "source": [
    "\n",
    "ncbi_biosample_scoped_counts = (\n",
    "    ncbi_disputes_exploded_frame.groupby(\"post_explode_curie\")[\"count\"].sum().reset_index()\n",
    ")\n",
    "\n",
    "ncbi_biosample_scoped_counts.columns = ['curie', 'ncbi_scoped_count']"
   ],
   "outputs": [],
   "execution_count": 102
  },
  {
   "metadata": {},
   "cell_type": "markdown",
   "source": "This is currently a count of Biosamples for which the indicated CURIes can be extracted or inferred by oaklib annotation, after removal of drag-stretch, auto-incremented CURIes",
   "id": "de29981308f4d74c"
  },
  {
   "cell_type": "code",
   "id": "916cfcc3c7aa0d34",
   "metadata": {
    "ExecuteTime": {
     "end_time": "2024-12-12T14:56:50.503066Z",
     "start_time": "2024-12-12T14:56:50.495727Z"
    }
   },
   "source": [
    "ncbi_biosample_scoped_counts"
   ],
   "outputs": [
    {
     "data": {
      "text/plain": [
       "              curie  ncbi_scoped_count\n",
       "0       BFO:0000015                  4\n",
       "1       BFO:0000029                  6\n",
       "2       CHEBI:15377                 32\n",
       "3       CHEBI:22695                 15\n",
       "4       CHEBI:24632                  1\n",
       "..              ...                ...\n",
       "537  UBERON:0001913                  1\n",
       "538  UBERON:0001988                  1\n",
       "539  UBERON:0002100                  5\n",
       "540  UBERON:0002416                 12\n",
       "541  UBERON:0036016                  1\n",
       "\n",
       "[542 rows x 2 columns]"
      ],
      "text/html": [
       "<div>\n",
       "<style scoped>\n",
       "    .dataframe tbody tr th:only-of-type {\n",
       "        vertical-align: middle;\n",
       "    }\n",
       "\n",
       "    .dataframe tbody tr th {\n",
       "        vertical-align: top;\n",
       "    }\n",
       "\n",
       "    .dataframe thead th {\n",
       "        text-align: right;\n",
       "    }\n",
       "</style>\n",
       "<table border=\"1\" class=\"dataframe\">\n",
       "  <thead>\n",
       "    <tr style=\"text-align: right;\">\n",
       "      <th></th>\n",
       "      <th>curie</th>\n",
       "      <th>ncbi_scoped_count</th>\n",
       "    </tr>\n",
       "  </thead>\n",
       "  <tbody>\n",
       "    <tr>\n",
       "      <th>0</th>\n",
       "      <td>BFO:0000015</td>\n",
       "      <td>4</td>\n",
       "    </tr>\n",
       "    <tr>\n",
       "      <th>1</th>\n",
       "      <td>BFO:0000029</td>\n",
       "      <td>6</td>\n",
       "    </tr>\n",
       "    <tr>\n",
       "      <th>2</th>\n",
       "      <td>CHEBI:15377</td>\n",
       "      <td>32</td>\n",
       "    </tr>\n",
       "    <tr>\n",
       "      <th>3</th>\n",
       "      <td>CHEBI:22695</td>\n",
       "      <td>15</td>\n",
       "    </tr>\n",
       "    <tr>\n",
       "      <th>4</th>\n",
       "      <td>CHEBI:24632</td>\n",
       "      <td>1</td>\n",
       "    </tr>\n",
       "    <tr>\n",
       "      <th>...</th>\n",
       "      <td>...</td>\n",
       "      <td>...</td>\n",
       "    </tr>\n",
       "    <tr>\n",
       "      <th>537</th>\n",
       "      <td>UBERON:0001913</td>\n",
       "      <td>1</td>\n",
       "    </tr>\n",
       "    <tr>\n",
       "      <th>538</th>\n",
       "      <td>UBERON:0001988</td>\n",
       "      <td>1</td>\n",
       "    </tr>\n",
       "    <tr>\n",
       "      <th>539</th>\n",
       "      <td>UBERON:0002100</td>\n",
       "      <td>5</td>\n",
       "    </tr>\n",
       "    <tr>\n",
       "      <th>540</th>\n",
       "      <td>UBERON:0002416</td>\n",
       "      <td>12</td>\n",
       "    </tr>\n",
       "    <tr>\n",
       "      <th>541</th>\n",
       "      <td>UBERON:0036016</td>\n",
       "      <td>1</td>\n",
       "    </tr>\n",
       "  </tbody>\n",
       "</table>\n",
       "<p>542 rows × 2 columns</p>\n",
       "</div>"
      ]
     },
     "execution_count": 103,
     "metadata": {},
     "output_type": "execute_result"
    }
   ],
   "execution_count": 103
  },
  {
   "metadata": {},
   "cell_type": "markdown",
   "source": [
    "## GOLD mappings/Biosample counts hybrid\n",
    "\n",
    "we're currently including\n",
    "- mappings only\n",
    "\n",
    "and have retired the previous use of\n",
    "- mappings in hybrid with biosample counts\n",
    "\n",
    "And we're casting a wide net, especially for the hybrid approach\n",
    "- searching for 'soil', 'sediment' etc. in GOLDTERMS labels without anchoring them like 'Environmental > Aquatic > Sediment'\n",
    "- retrieving the CURIes for env_broad_scale, env_local_scale and env_medium for all voting sheets, and trusting orthogonal filtering to remove the inappropriate CURIes\n",
    "\n",
    "Should we now add (or switch to) direct biosample counts of GOLD \"envo\" annotations?\n",
    "\n",
    "Efficient retrieval of  all GOLD data in a given scope isn't easy"
   ],
   "id": "54ef0d1be4a1dea9"
  },
  {
   "metadata": {
    "ExecuteTime": {
     "end_time": "2024-12-12T14:56:50.510759Z",
     "start_time": "2024-12-12T14:56:50.504668Z"
    }
   },
   "cell_type": "code",
   "source": [
    "# Determine the filenames and target directory\n",
    "goldterms_compressed_filename = urlparse(goldterms_semsql_url).path.split('/')[-1]\n",
    "goldterms_filename = os.path.splitext(goldterms_compressed_filename)[0]\n",
    "target_dir = os.path.join(\"..\", \"..\")  # Two levels up\n",
    "\n",
    "# Print to confirm the filenames\n",
    "print(goldterms_filename)"
   ],
   "id": "40f8fc6862a817f3",
   "outputs": [
    {
     "name": "stdout",
     "output_type": "stream",
     "text": [
      "goldterms.db\n"
     ]
    }
   ],
   "execution_count": 104
  },
  {
   "metadata": {
    "ExecuteTime": {
     "end_time": "2024-12-12T14:56:51.123289Z",
     "start_time": "2024-12-12T14:56:50.512659Z"
    }
   },
   "cell_type": "code",
   "source": [
    "# Fetch the contents from the URL and save compressed file in target directory\n",
    "goldterms_response = requests.get(goldterms_semsql_url)\n",
    "goldterms_compressed_file_path = os.path.join(target_dir, goldterms_compressed_filename)\n",
    "with open(goldterms_compressed_file_path, \"wb\") as f:\n",
    "    f.write(goldterms_response.content)\n",
    "\n",
    "# ~ 1 second"
   ],
   "id": "784c07d7b6bee4c2",
   "outputs": [],
   "execution_count": 105
  },
  {
   "metadata": {
    "ExecuteTime": {
     "end_time": "2024-12-12T14:56:51.164752Z",
     "start_time": "2024-12-12T14:56:51.124467Z"
    }
   },
   "cell_type": "code",
   "source": [
    "# Unzip the compressed file and save the extracted file in target directory\n",
    "goldterms_uncompressed_file_path = os.path.join(target_dir, goldterms_filename)\n",
    "with gzip.open(goldterms_compressed_file_path, \"rb\") as f_in:\n",
    "    with open(goldterms_uncompressed_file_path, \"wb\") as f_out:\n",
    "        shutil.copyfileobj(f_in, f_out)\n",
    "\n",
    "# ~ 1 second"
   ],
   "id": "cd765130d59cd026",
   "outputs": [],
   "execution_count": 106
  },
  {
   "metadata": {
    "ExecuteTime": {
     "end_time": "2024-12-12T14:56:51.170183Z",
     "start_time": "2024-12-12T14:56:51.166279Z"
    }
   },
   "cell_type": "code",
   "source": "## that's all fast. don't bother caching",
   "id": "fd2fab3ddcf862ce",
   "outputs": [],
   "execution_count": 107
  },
  {
   "metadata": {
    "ExecuteTime": {
     "end_time": "2024-12-12T14:56:51.175363Z",
     "start_time": "2024-12-12T14:56:51.172291Z"
    }
   },
   "cell_type": "code",
   "source": "goldterms_conn = sqlite3.connect(goldterms_uncompressed_file_path)",
   "id": "dcf847a3c2ed302d",
   "outputs": [],
   "execution_count": 108
  },
  {
   "metadata": {},
   "cell_type": "markdown",
   "source": "# GOLDTERMS only approach",
   "id": "8c66c02b62dbcf22"
  },
  {
   "metadata": {
    "ExecuteTime": {
     "end_time": "2024-12-12T14:56:51.189363Z",
     "start_time": "2024-12-12T14:56:51.176960Z"
    }
   },
   "cell_type": "code",
   "source": "goldterms_result = pd.read_sql_query(extension_query, goldterms_conn)",
   "id": "beacc603e5db48b3",
   "outputs": [],
   "execution_count": 109
  },
  {
   "metadata": {
    "ExecuteTime": {
     "end_time": "2024-12-12T14:56:51.201745Z",
     "start_time": "2024-12-12T14:56:51.190812Z"
    }
   },
   "cell_type": "code",
   "source": "goldterms_result",
   "id": "85e373122e14f6dc",
   "outputs": [
    {
     "data": {
      "text/plain": [
       "                                               subject            predicate  \\\n",
       "0    GOLDTERMS:Engineered-Artificial-ecosystem-Plan...       mixs:env_broad   \n",
       "1    GOLDTERMS:Engineered-Artificial-ecosystem-Plan...  mixs:mixs_extension   \n",
       "2    GOLDTERMS:Engineered-Artificial-ecosystem-Plan...           mixs:other   \n",
       "3    GOLDTERMS:Engineered-Artificial-ecosystem-Plan...           rdfs:label   \n",
       "4    GOLDTERMS:Engineered-Artificial-ecosystem-Plan...       mixs:env_broad   \n",
       "..                                                 ...                  ...   \n",
       "286                                GOLDVOCAB:Plant-pot           rdfs:label   \n",
       "287                                   GOLDVOCAB:Plants           rdfs:label   \n",
       "288                   GOLDVOCAB:Sewage-treatment-plant           rdfs:label   \n",
       "289                   GOLDVOCAB:Soil-_28non-planted_29           rdfs:label   \n",
       "290                    GOLDVOCAB:Water-treatment-plant           rdfs:label   \n",
       "\n",
       "                                               content  \n",
       "0                                        ENVO:01000313  \n",
       "1     mixs:MiscellaneousNaturalOrArtificialEnvironment  \n",
       "2                                        ENVO:00010622  \n",
       "3    Engineered > Artificial ecosystem > Plant grow...  \n",
       "4                                        ENVO:01000313  \n",
       "..                                                 ...  \n",
       "286                                          Plant pot  \n",
       "287                                             Plants  \n",
       "288                             Sewage treatment plant  \n",
       "289                                 Soil (non-planted)  \n",
       "290                              Water treatment plant  \n",
       "\n",
       "[291 rows x 3 columns]"
      ],
      "text/html": [
       "<div>\n",
       "<style scoped>\n",
       "    .dataframe tbody tr th:only-of-type {\n",
       "        vertical-align: middle;\n",
       "    }\n",
       "\n",
       "    .dataframe tbody tr th {\n",
       "        vertical-align: top;\n",
       "    }\n",
       "\n",
       "    .dataframe thead th {\n",
       "        text-align: right;\n",
       "    }\n",
       "</style>\n",
       "<table border=\"1\" class=\"dataframe\">\n",
       "  <thead>\n",
       "    <tr style=\"text-align: right;\">\n",
       "      <th></th>\n",
       "      <th>subject</th>\n",
       "      <th>predicate</th>\n",
       "      <th>content</th>\n",
       "    </tr>\n",
       "  </thead>\n",
       "  <tbody>\n",
       "    <tr>\n",
       "      <th>0</th>\n",
       "      <td>GOLDTERMS:Engineered-Artificial-ecosystem-Plan...</td>\n",
       "      <td>mixs:env_broad</td>\n",
       "      <td>ENVO:01000313</td>\n",
       "    </tr>\n",
       "    <tr>\n",
       "      <th>1</th>\n",
       "      <td>GOLDTERMS:Engineered-Artificial-ecosystem-Plan...</td>\n",
       "      <td>mixs:mixs_extension</td>\n",
       "      <td>mixs:MiscellaneousNaturalOrArtificialEnvironment</td>\n",
       "    </tr>\n",
       "    <tr>\n",
       "      <th>2</th>\n",
       "      <td>GOLDTERMS:Engineered-Artificial-ecosystem-Plan...</td>\n",
       "      <td>mixs:other</td>\n",
       "      <td>ENVO:00010622</td>\n",
       "    </tr>\n",
       "    <tr>\n",
       "      <th>3</th>\n",
       "      <td>GOLDTERMS:Engineered-Artificial-ecosystem-Plan...</td>\n",
       "      <td>rdfs:label</td>\n",
       "      <td>Engineered &gt; Artificial ecosystem &gt; Plant grow...</td>\n",
       "    </tr>\n",
       "    <tr>\n",
       "      <th>4</th>\n",
       "      <td>GOLDTERMS:Engineered-Artificial-ecosystem-Plan...</td>\n",
       "      <td>mixs:env_broad</td>\n",
       "      <td>ENVO:01000313</td>\n",
       "    </tr>\n",
       "    <tr>\n",
       "      <th>...</th>\n",
       "      <td>...</td>\n",
       "      <td>...</td>\n",
       "      <td>...</td>\n",
       "    </tr>\n",
       "    <tr>\n",
       "      <th>286</th>\n",
       "      <td>GOLDVOCAB:Plant-pot</td>\n",
       "      <td>rdfs:label</td>\n",
       "      <td>Plant pot</td>\n",
       "    </tr>\n",
       "    <tr>\n",
       "      <th>287</th>\n",
       "      <td>GOLDVOCAB:Plants</td>\n",
       "      <td>rdfs:label</td>\n",
       "      <td>Plants</td>\n",
       "    </tr>\n",
       "    <tr>\n",
       "      <th>288</th>\n",
       "      <td>GOLDVOCAB:Sewage-treatment-plant</td>\n",
       "      <td>rdfs:label</td>\n",
       "      <td>Sewage treatment plant</td>\n",
       "    </tr>\n",
       "    <tr>\n",
       "      <th>289</th>\n",
       "      <td>GOLDVOCAB:Soil-_28non-planted_29</td>\n",
       "      <td>rdfs:label</td>\n",
       "      <td>Soil (non-planted)</td>\n",
       "    </tr>\n",
       "    <tr>\n",
       "      <th>290</th>\n",
       "      <td>GOLDVOCAB:Water-treatment-plant</td>\n",
       "      <td>rdfs:label</td>\n",
       "      <td>Water treatment plant</td>\n",
       "    </tr>\n",
       "  </tbody>\n",
       "</table>\n",
       "<p>291 rows × 3 columns</p>\n",
       "</div>"
      ]
     },
     "execution_count": 110,
     "metadata": {},
     "output_type": "execute_result"
    }
   ],
   "execution_count": 110
  },
  {
   "metadata": {
    "ExecuteTime": {
     "end_time": "2024-12-12T14:56:51.205987Z",
     "start_time": "2024-12-12T14:56:51.203150Z"
    }
   },
   "cell_type": "code",
   "source": [
    "# # todo: save this kind of content before subsetting on an environment\n",
    "# #   the subsetting is currently baked into the query\n",
    "# \n",
    "# # see also goldterms_queries.ipynb in MAM's Collab\n",
    "# goldterms_result.to_csv(\"goldterms_single_environment_mappings_long.tsv\", sep=\"\\t\", index=False)"
   ],
   "id": "859a87109b08d83c",
   "outputs": [],
   "execution_count": 111
  },
  {
   "metadata": {
    "ExecuteTime": {
     "end_time": "2024-12-12T14:56:51.211043Z",
     "start_time": "2024-12-12T14:56:51.207506Z"
    }
   },
   "cell_type": "code",
   "source": "goldterms_only_curies = goldterms_result.loc[goldterms_result['predicate'].isin(gold_context_selectors), 'content']\n",
   "id": "391d1fb9314d4b0b",
   "outputs": [],
   "execution_count": 112
  },
  {
   "metadata": {
    "ExecuteTime": {
     "end_time": "2024-12-12T14:56:51.215589Z",
     "start_time": "2024-12-12T14:56:51.212530Z"
    }
   },
   "cell_type": "code",
   "source": "goldterms_only_curies = goldterms_only_curies.unique().tolist()",
   "id": "b5621477ccaaa761",
   "outputs": [],
   "execution_count": 113
  },
  {
   "metadata": {
    "ExecuteTime": {
     "end_time": "2024-12-12T14:56:51.220116Z",
     "start_time": "2024-12-12T14:56:51.217218Z"
    }
   },
   "cell_type": "code",
   "source": "# goldterms_only_curies",
   "id": "70238d1c8e144cc3",
   "outputs": [],
   "execution_count": 114
  },
  {
   "metadata": {},
   "cell_type": "markdown",
   "source": [
    "# Make lists of CURIEs\n",
    "which will determine\n",
    "- the rows in the table\n",
    "- the boolean filter columns"
   ],
   "id": "8541580a525201e3"
  },
  {
   "metadata": {
    "ExecuteTime": {
     "end_time": "2024-12-12T14:56:51.804946Z",
     "start_time": "2024-12-12T14:56:51.222587Z"
    }
   },
   "cell_type": "code",
   "source": [
    "anchor_curies = list(anchor_descendants_frame['curie'])\n",
    "legacy_pv_curies = [i['curie'] for i in pv_validation_results['valids']]\n",
    "\n",
    "biome_curies = list(envo_adapter.descendants(BIOME, predicates=[IS_A])) # \n",
    "terrestrial_biome_curies = list(envo_adapter.descendants(TERRESTRIAL_BIOME, predicates=[IS_A]))\n",
    "aquatic_biome_curies = list(envo_adapter.descendants(AQUATIC_BIOME, predicates=[IS_A]))\n",
    "abp_curies = list(envo_adapter.descendants(ABP, predicates=[IS_A]))\n",
    "env_sys_curies = list(envo_adapter.descendants(ENVIRONMENTAL_SYSTEM, predicates=[IS_A]))\n",
    "env_mat_curies = list(envo_adapter.descendants(ENVIRONMENTAL_MATERIAL, predicates=[IS_A]))\n",
    "obsoletes_curies = list(envo_adapter.obsoletes())\n",
    "\n",
    "soil_curies = list(envo_adapter.descendants(SOIL, predicates=[IS_A])) # \n",
    "liquid_water_curies = list(envo_adapter.descendants(LIQUID_WATER, predicates=[IS_A])) # \n",
    "water_ice_curies = list(envo_adapter.descendants(WATER_ICE, predicates=[IS_A])) # \n",
    "\n",
    "human_construction_curies = list(envo_adapter.descendants(HUMAN_CONSTRUCTION, predicates=[IS_A])) #\n",
    "building_curies = list(envo_adapter.descendants(BUILDING, predicates=[IS_A])) #\n",
    "building_part_curies = list(envo_adapter.descendants(BUILDING_PART, predicates=[IS_A])) #\n"
   ],
   "id": "beb69545a9255099",
   "outputs": [],
   "execution_count": 115
  },
  {
   "metadata": {
    "ExecuteTime": {
     "end_time": "2024-12-12T14:56:51.815624Z",
     "start_time": "2024-12-12T14:56:51.806296Z"
    }
   },
   "cell_type": "code",
   "source": [
    "# Specify an output file name\n",
    "nlcd2011_class_iris_file = \"nlcd2011_class_iris.txt\"\n",
    "\n",
    "nlcd_subset_textual_representation = \"nlcd2011\"\n",
    "\n",
    "in_subset_curie = \"oio:inSubset\"\n",
    "\n",
    "\n",
    "# Initialize nlcd_classes\n",
    "nlcd_classes = []\n",
    "\n",
    "if os.path.exists(nlcd2011_class_iris_file):\n",
    "    # Load the list from the file if it exists\n",
    "    print(f\"Loading {nlcd_subset_textual_representation} classes from {nlcd2011_class_iris_file}...\")\n",
    "    with open(nlcd2011_class_iris_file, \"r\") as file:\n",
    "        nlcd_classes = [line.strip() for line in file.readlines()]\n",
    "else:\n",
    "    # File doesn't exist; generate the list using the loop\n",
    "    print(f\"{nlcd2011_class_iris_file} not found. Identifying classes in {nlcd_subset_textual_representation} subset (~2 minutes)...\")\n",
    "\n",
    "    # Retrieve all classes\n",
    "    entities = envo_adapter.entities()\n",
    "\n",
    "    # super slow 2 minutes\n",
    "    # but retrieving classes by named subset seems to crash on EnvO with its textual subsets?\n",
    "    for entity in entities:\n",
    "        term_metadata = envo_adapter.entity_metadata_map(entity)\n",
    "        if in_subset_curie in term_metadata:\n",
    "            subsets = term_metadata[in_subset_curie]\n",
    "            if nlcd_subset_textual_representation in subsets:\n",
    "                nlcd_classes.append(entity)\n",
    "\n",
    "    # Save the generated list to the file\n",
    "    with open(nlcd2011_class_iris_file, \"w\") as file:\n",
    "        for string in nlcd_classes:\n",
    "            file.write(string + \"\\n\")\n",
    "\n",
    "    print(f\"List saved to {nlcd2011_class_iris_file}\")\n",
    "\n",
    "# At this point, nlcd_classes contains the desired list\n",
    "print(f\"Total {nlcd_subset_textual_representation} classes loaded: {len(nlcd_classes)}\")\n"
   ],
   "id": "f863c6e4a8e77c74",
   "outputs": [
    {
     "name": "stdout",
     "output_type": "stream",
     "text": [
      "Loading nlcd2011 classes from nlcd2011_class_iris.txt...\n",
      "Total nlcd2011 classes loaded: 22\n"
     ]
    }
   ],
   "execution_count": 116
  },
  {
   "metadata": {},
   "cell_type": "markdown",
   "source": "## Bootstrap the rows",
   "id": "1318a3f163d8cb19"
  },
  {
   "metadata": {
    "ExecuteTime": {
     "end_time": "2024-12-12T14:56:51.821208Z",
     "start_time": "2024-12-12T14:56:51.817756Z"
    }
   },
   "cell_type": "code",
   "source": "include_in_rows = set()",
   "id": "20a9dcc52b995762",
   "outputs": [],
   "execution_count": 117
  },
  {
   "metadata": {
    "ExecuteTime": {
     "end_time": "2024-12-12T14:56:51.827424Z",
     "start_time": "2024-12-12T14:56:51.823478Z"
    }
   },
   "cell_type": "code",
   "source": "include_in_rows.update(anchor_curies)",
   "id": "2c3e280c36ed9b91",
   "outputs": [],
   "execution_count": 118
  },
  {
   "metadata": {
    "ExecuteTime": {
     "end_time": "2024-12-12T14:56:51.832803Z",
     "start_time": "2024-12-12T14:56:51.829335Z"
    }
   },
   "cell_type": "code",
   "source": "include_in_rows.update(legacy_pv_curies)",
   "id": "422c62627b450632",
   "outputs": [],
   "execution_count": 119
  },
  {
   "metadata": {
    "ExecuteTime": {
     "end_time": "2024-12-12T14:56:51.837957Z",
     "start_time": "2024-12-12T14:56:51.834602Z"
    }
   },
   "cell_type": "code",
   "source": "include_in_rows.update(nmdc_biosample_contexts_frame[nmdc_context_selector])",
   "id": "e279a2edf1fa4935",
   "outputs": [],
   "execution_count": 120
  },
  {
   "metadata": {
    "ExecuteTime": {
     "end_time": "2024-12-12T14:56:51.844176Z",
     "start_time": "2024-12-12T14:56:51.839983Z"
    }
   },
   "cell_type": "code",
   "source": "include_in_rows.update(ncbi_frame['extracted_curie'])",
   "id": "7e4be4b7ae64e990",
   "outputs": [],
   "execution_count": 121
  },
  {
   "metadata": {
    "ExecuteTime": {
     "end_time": "2024-12-12T14:56:51.852228Z",
     "start_time": "2024-12-12T14:56:51.846634Z"
    }
   },
   "cell_type": "code",
   "source": "include_in_rows.update(ncbi_frame['longest_annotation_curie'])",
   "id": "2cd900624cfce1ec",
   "outputs": [],
   "execution_count": 122
  },
  {
   "metadata": {
    "ExecuteTime": {
     "end_time": "2024-12-12T14:56:51.857128Z",
     "start_time": "2024-12-12T14:56:51.854019Z"
    }
   },
   "cell_type": "code",
   "source": "include_in_rows.update(goldterms_only_curies)",
   "id": "31ff1c10df555677",
   "outputs": [],
   "execution_count": 123
  },
  {
   "metadata": {
    "ExecuteTime": {
     "end_time": "2024-12-12T14:56:51.862653Z",
     "start_time": "2024-12-12T14:56:51.859184Z"
    }
   },
   "cell_type": "code",
   "source": "include_in_rows.update(nlcd_classes)",
   "id": "e376965702e0a36e",
   "outputs": [],
   "execution_count": 124
  },
  {
   "metadata": {
    "ExecuteTime": {
     "end_time": "2024-12-12T14:56:51.867743Z",
     "start_time": "2024-12-12T14:56:51.864562Z"
    }
   },
   "cell_type": "code",
   "source": "rows_lod = []",
   "id": "f7a6fb9413f45298",
   "outputs": [],
   "execution_count": 125
  },
  {
   "metadata": {},
   "cell_type": "markdown",
   "source": "# Voting sheet rows and boolean columns",
   "id": "d0c9c7c730c8308a"
  },
  {
   "metadata": {
    "ExecuteTime": {
     "end_time": "2024-12-12T14:57:28.313292Z",
     "start_time": "2024-12-12T14:56:51.869798Z"
    }
   },
   "cell_type": "code",
   "source": [
    "for curie in include_in_rows:\n",
    "    if curie is None:\n",
    "        continue\n",
    "        \n",
    "    # ONCE AGAIN, assuming that EnvO is the only ontology we'll check against\n",
    "    current_ancestors = list(envo_adapter.ancestors(curie, predicates=[IS_A])) # vs legacy_pv_curies\n",
    "    ancestors_in_enum_count = len(set(current_ancestors) & set(legacy_pv_curies))\n",
    "    \n",
    "    current_descendants  = list(envo_adapter.descendants(curie, predicates=[IS_A])) # vs legacy_pv_curies\n",
    "    descendants_in_enum_count  = len(set(current_descendants) & set(legacy_pv_curies))\n",
    "    \n",
    "    \n",
    "    row = {\n",
    "        'curie': curie,\n",
    "        'label': envo_adapter.label(curie),\n",
    "        'envo_native': False,\n",
    "        'obsolete': False,\n",
    "        comparison_enum_column_name: False,\n",
    "        'ancestors_in_enum_count': ancestors_in_enum_count,\n",
    "        'descendants_in_enum_count': descendants_in_enum_count,\n",
    "        'nlcd_class': False,\n",
    "        'abp': False,\n",
    "        'env_sys': False,\n",
    "        'biome': False,\n",
    "        'terrestrial_biome': False,\n",
    "        'aquatic_biome': False,\n",
    "        'env_mat': False,\n",
    "        'soil': False,\n",
    "        'liquid water': False,\n",
    "        'water ice': False,\n",
    "        'human_construction': False,\n",
    "        'building': False,\n",
    "        'building_part': False,\n",
    "        'goldterms_mappings': False,\n",
    "    }\n",
    "        \n",
    "    if curie in biome_curies:\n",
    "        row['biome'] = True\n",
    "    if curie in terrestrial_biome_curies:\n",
    "        row['terrestrial_biome'] = True\n",
    "    if curie in aquatic_biome_curies:\n",
    "        row['aquatic_biome'] = True\n",
    "    if curie in abp_curies:\n",
    "        row['abp'] = True\n",
    "    if curie in env_sys_curies:\n",
    "        row['env_sys'] = True\n",
    "    if curie in env_mat_curies:\n",
    "        row['env_mat'] = True\n",
    "    if curie in soil_curies:\n",
    "        row['soil'] = True\n",
    "    if curie in liquid_water_curies:\n",
    "        row['liquid water'] = True\n",
    "    if curie in water_ice_curies:\n",
    "        row['water ice'] = True\n",
    "    if curie in human_construction_curies:\n",
    "        row['human_construction'] = True\n",
    "    if curie in building_curies:\n",
    "        row['building'] = True\n",
    "    if curie in building_part_curies:\n",
    "        row['building_part'] = True\n",
    "    if curie in legacy_pv_curies:\n",
    "        row[comparison_enum_column_name] = True\n",
    "    if curie in obsoletes_curies:\n",
    "        row['obsolete'] = True\n",
    "    if curie in goldterms_only_curies:\n",
    "        row['goldterms_mappings'] = True\n",
    "    if curie in nlcd_classes:\n",
    "        row['nlcd_class'] = True\n",
    "        \n",
    "    try:\n",
    "        prefix, local_id = curie.split(':')\n",
    "        if prefix and prefix == 'ENVO' and row['label'] is not None:\n",
    "            row['envo_native'] = True\n",
    "    except Exception as e:\n",
    "        # Print the exception message\n",
    "        print(f\"An error occurred: {e} trying to split {curie}\")\n",
    "\n",
    "    rows_lod.append(row)\n",
    "\n",
    "# 2 minutes\n"
   ],
   "id": "32f278db05c57616",
   "outputs": [],
   "execution_count": 126
  },
  {
   "metadata": {},
   "cell_type": "markdown",
   "source": "# ^ Voting sheet rows and boolean columns",
   "id": "f77fce51b7fd116d"
  },
  {
   "metadata": {
    "ExecuteTime": {
     "end_time": "2024-12-12T14:57:28.321326Z",
     "start_time": "2024-12-12T14:57:28.314635Z"
    }
   },
   "cell_type": "code",
   "source": "rows_frame = pd.DataFrame(rows_lod)",
   "id": "26bb62d21192288f",
   "outputs": [],
   "execution_count": 127
  },
  {
   "metadata": {
    "ExecuteTime": {
     "end_time": "2024-12-12T14:57:28.341386Z",
     "start_time": "2024-12-12T14:57:28.323032Z"
    }
   },
   "cell_type": "code",
   "source": "rows_frame",
   "id": "4db3ebadb8a07a50",
   "outputs": [
    {
     "data": {
      "text/plain": [
       "               curie                            label  envo_native  obsolete  \\\n",
       "0      ENVO:00005769             mountain forest soil         True     False   \n",
       "1      ENVO:00005772                     orchard soil         True     False   \n",
       "2      ENVO:01000212     temperate mixed forest biome         True     False   \n",
       "3    FOODON:03315552                   juice beverage        False     False   \n",
       "4      ENVO:01000426                             room         True     False   \n",
       "..               ...                              ...          ...       ...   \n",
       "702    ENVO:01000252            freshwater lake biome         True     False   \n",
       "703          ENVO:12                             None        False     False   \n",
       "704    ENVO:01000219  anthropogenic terrestrial biome         True     False   \n",
       "705       RO:0002577                           system        False     False   \n",
       "706    ENVO:00005826                             None        False     False   \n",
       "\n",
       "     EnvBroadScaleSoilEnum_11_1  ancestors_in_enum_count  \\\n",
       "0                         False                        0   \n",
       "1                         False                        0   \n",
       "2                          True                        4   \n",
       "3                         False                        0   \n",
       "4                         False                        0   \n",
       "..                          ...                      ...   \n",
       "702                       False                        0   \n",
       "703                       False                        0   \n",
       "704                        True                        2   \n",
       "705                       False                        0   \n",
       "706                       False                        0   \n",
       "\n",
       "     descendants_in_enum_count  nlcd_class    abp  env_sys  ...  \\\n",
       "0                            0       False   True    False  ...   \n",
       "1                            0       False   True    False  ...   \n",
       "2                            1       False   True     True  ...   \n",
       "3                            0       False  False    False  ...   \n",
       "4                            0       False   True    False  ...   \n",
       "..                         ...         ...    ...      ...  ...   \n",
       "702                          0       False   True     True  ...   \n",
       "703                          0       False  False    False  ...   \n",
       "704                          3       False   True     True  ...   \n",
       "705                         52       False  False    False  ...   \n",
       "706                          0       False  False    False  ...   \n",
       "\n",
       "     terrestrial_biome  aquatic_biome  env_mat   soil  liquid water  \\\n",
       "0                False          False     True   True         False   \n",
       "1                False          False     True   True         False   \n",
       "2                 True          False    False  False         False   \n",
       "3                False          False     True  False         False   \n",
       "4                False          False    False  False         False   \n",
       "..                 ...            ...      ...    ...           ...   \n",
       "702              False           True    False  False         False   \n",
       "703              False          False    False  False         False   \n",
       "704               True          False    False  False         False   \n",
       "705              False          False    False  False         False   \n",
       "706              False          False    False  False         False   \n",
       "\n",
       "     water ice  human_construction  building  building_part  \\\n",
       "0        False               False     False          False   \n",
       "1        False               False     False          False   \n",
       "2        False               False     False          False   \n",
       "3        False               False     False          False   \n",
       "4        False                True     False           True   \n",
       "..         ...                 ...       ...            ...   \n",
       "702      False               False     False          False   \n",
       "703      False               False     False          False   \n",
       "704      False               False     False          False   \n",
       "705      False               False     False          False   \n",
       "706      False               False     False          False   \n",
       "\n",
       "     goldterms_mappings  \n",
       "0                 False  \n",
       "1                 False  \n",
       "2                 False  \n",
       "3                 False  \n",
       "4                 False  \n",
       "..                  ...  \n",
       "702               False  \n",
       "703               False  \n",
       "704               False  \n",
       "705               False  \n",
       "706               False  \n",
       "\n",
       "[707 rows x 21 columns]"
      ],
      "text/html": [
       "<div>\n",
       "<style scoped>\n",
       "    .dataframe tbody tr th:only-of-type {\n",
       "        vertical-align: middle;\n",
       "    }\n",
       "\n",
       "    .dataframe tbody tr th {\n",
       "        vertical-align: top;\n",
       "    }\n",
       "\n",
       "    .dataframe thead th {\n",
       "        text-align: right;\n",
       "    }\n",
       "</style>\n",
       "<table border=\"1\" class=\"dataframe\">\n",
       "  <thead>\n",
       "    <tr style=\"text-align: right;\">\n",
       "      <th></th>\n",
       "      <th>curie</th>\n",
       "      <th>label</th>\n",
       "      <th>envo_native</th>\n",
       "      <th>obsolete</th>\n",
       "      <th>EnvBroadScaleSoilEnum_11_1</th>\n",
       "      <th>ancestors_in_enum_count</th>\n",
       "      <th>descendants_in_enum_count</th>\n",
       "      <th>nlcd_class</th>\n",
       "      <th>abp</th>\n",
       "      <th>env_sys</th>\n",
       "      <th>...</th>\n",
       "      <th>terrestrial_biome</th>\n",
       "      <th>aquatic_biome</th>\n",
       "      <th>env_mat</th>\n",
       "      <th>soil</th>\n",
       "      <th>liquid water</th>\n",
       "      <th>water ice</th>\n",
       "      <th>human_construction</th>\n",
       "      <th>building</th>\n",
       "      <th>building_part</th>\n",
       "      <th>goldterms_mappings</th>\n",
       "    </tr>\n",
       "  </thead>\n",
       "  <tbody>\n",
       "    <tr>\n",
       "      <th>0</th>\n",
       "      <td>ENVO:00005769</td>\n",
       "      <td>mountain forest soil</td>\n",
       "      <td>True</td>\n",
       "      <td>False</td>\n",
       "      <td>False</td>\n",
       "      <td>0</td>\n",
       "      <td>0</td>\n",
       "      <td>False</td>\n",
       "      <td>True</td>\n",
       "      <td>False</td>\n",
       "      <td>...</td>\n",
       "      <td>False</td>\n",
       "      <td>False</td>\n",
       "      <td>True</td>\n",
       "      <td>True</td>\n",
       "      <td>False</td>\n",
       "      <td>False</td>\n",
       "      <td>False</td>\n",
       "      <td>False</td>\n",
       "      <td>False</td>\n",
       "      <td>False</td>\n",
       "    </tr>\n",
       "    <tr>\n",
       "      <th>1</th>\n",
       "      <td>ENVO:00005772</td>\n",
       "      <td>orchard soil</td>\n",
       "      <td>True</td>\n",
       "      <td>False</td>\n",
       "      <td>False</td>\n",
       "      <td>0</td>\n",
       "      <td>0</td>\n",
       "      <td>False</td>\n",
       "      <td>True</td>\n",
       "      <td>False</td>\n",
       "      <td>...</td>\n",
       "      <td>False</td>\n",
       "      <td>False</td>\n",
       "      <td>True</td>\n",
       "      <td>True</td>\n",
       "      <td>False</td>\n",
       "      <td>False</td>\n",
       "      <td>False</td>\n",
       "      <td>False</td>\n",
       "      <td>False</td>\n",
       "      <td>False</td>\n",
       "    </tr>\n",
       "    <tr>\n",
       "      <th>2</th>\n",
       "      <td>ENVO:01000212</td>\n",
       "      <td>temperate mixed forest biome</td>\n",
       "      <td>True</td>\n",
       "      <td>False</td>\n",
       "      <td>True</td>\n",
       "      <td>4</td>\n",
       "      <td>1</td>\n",
       "      <td>False</td>\n",
       "      <td>True</td>\n",
       "      <td>True</td>\n",
       "      <td>...</td>\n",
       "      <td>True</td>\n",
       "      <td>False</td>\n",
       "      <td>False</td>\n",
       "      <td>False</td>\n",
       "      <td>False</td>\n",
       "      <td>False</td>\n",
       "      <td>False</td>\n",
       "      <td>False</td>\n",
       "      <td>False</td>\n",
       "      <td>False</td>\n",
       "    </tr>\n",
       "    <tr>\n",
       "      <th>3</th>\n",
       "      <td>FOODON:03315552</td>\n",
       "      <td>juice beverage</td>\n",
       "      <td>False</td>\n",
       "      <td>False</td>\n",
       "      <td>False</td>\n",
       "      <td>0</td>\n",
       "      <td>0</td>\n",
       "      <td>False</td>\n",
       "      <td>False</td>\n",
       "      <td>False</td>\n",
       "      <td>...</td>\n",
       "      <td>False</td>\n",
       "      <td>False</td>\n",
       "      <td>True</td>\n",
       "      <td>False</td>\n",
       "      <td>False</td>\n",
       "      <td>False</td>\n",
       "      <td>False</td>\n",
       "      <td>False</td>\n",
       "      <td>False</td>\n",
       "      <td>False</td>\n",
       "    </tr>\n",
       "    <tr>\n",
       "      <th>4</th>\n",
       "      <td>ENVO:01000426</td>\n",
       "      <td>room</td>\n",
       "      <td>True</td>\n",
       "      <td>False</td>\n",
       "      <td>False</td>\n",
       "      <td>0</td>\n",
       "      <td>0</td>\n",
       "      <td>False</td>\n",
       "      <td>True</td>\n",
       "      <td>False</td>\n",
       "      <td>...</td>\n",
       "      <td>False</td>\n",
       "      <td>False</td>\n",
       "      <td>False</td>\n",
       "      <td>False</td>\n",
       "      <td>False</td>\n",
       "      <td>False</td>\n",
       "      <td>True</td>\n",
       "      <td>False</td>\n",
       "      <td>True</td>\n",
       "      <td>False</td>\n",
       "    </tr>\n",
       "    <tr>\n",
       "      <th>...</th>\n",
       "      <td>...</td>\n",
       "      <td>...</td>\n",
       "      <td>...</td>\n",
       "      <td>...</td>\n",
       "      <td>...</td>\n",
       "      <td>...</td>\n",
       "      <td>...</td>\n",
       "      <td>...</td>\n",
       "      <td>...</td>\n",
       "      <td>...</td>\n",
       "      <td>...</td>\n",
       "      <td>...</td>\n",
       "      <td>...</td>\n",
       "      <td>...</td>\n",
       "      <td>...</td>\n",
       "      <td>...</td>\n",
       "      <td>...</td>\n",
       "      <td>...</td>\n",
       "      <td>...</td>\n",
       "      <td>...</td>\n",
       "      <td>...</td>\n",
       "    </tr>\n",
       "    <tr>\n",
       "      <th>702</th>\n",
       "      <td>ENVO:01000252</td>\n",
       "      <td>freshwater lake biome</td>\n",
       "      <td>True</td>\n",
       "      <td>False</td>\n",
       "      <td>False</td>\n",
       "      <td>0</td>\n",
       "      <td>0</td>\n",
       "      <td>False</td>\n",
       "      <td>True</td>\n",
       "      <td>True</td>\n",
       "      <td>...</td>\n",
       "      <td>False</td>\n",
       "      <td>True</td>\n",
       "      <td>False</td>\n",
       "      <td>False</td>\n",
       "      <td>False</td>\n",
       "      <td>False</td>\n",
       "      <td>False</td>\n",
       "      <td>False</td>\n",
       "      <td>False</td>\n",
       "      <td>False</td>\n",
       "    </tr>\n",
       "    <tr>\n",
       "      <th>703</th>\n",
       "      <td>ENVO:12</td>\n",
       "      <td>None</td>\n",
       "      <td>False</td>\n",
       "      <td>False</td>\n",
       "      <td>False</td>\n",
       "      <td>0</td>\n",
       "      <td>0</td>\n",
       "      <td>False</td>\n",
       "      <td>False</td>\n",
       "      <td>False</td>\n",
       "      <td>...</td>\n",
       "      <td>False</td>\n",
       "      <td>False</td>\n",
       "      <td>False</td>\n",
       "      <td>False</td>\n",
       "      <td>False</td>\n",
       "      <td>False</td>\n",
       "      <td>False</td>\n",
       "      <td>False</td>\n",
       "      <td>False</td>\n",
       "      <td>False</td>\n",
       "    </tr>\n",
       "    <tr>\n",
       "      <th>704</th>\n",
       "      <td>ENVO:01000219</td>\n",
       "      <td>anthropogenic terrestrial biome</td>\n",
       "      <td>True</td>\n",
       "      <td>False</td>\n",
       "      <td>True</td>\n",
       "      <td>2</td>\n",
       "      <td>3</td>\n",
       "      <td>False</td>\n",
       "      <td>True</td>\n",
       "      <td>True</td>\n",
       "      <td>...</td>\n",
       "      <td>True</td>\n",
       "      <td>False</td>\n",
       "      <td>False</td>\n",
       "      <td>False</td>\n",
       "      <td>False</td>\n",
       "      <td>False</td>\n",
       "      <td>False</td>\n",
       "      <td>False</td>\n",
       "      <td>False</td>\n",
       "      <td>False</td>\n",
       "    </tr>\n",
       "    <tr>\n",
       "      <th>705</th>\n",
       "      <td>RO:0002577</td>\n",
       "      <td>system</td>\n",
       "      <td>False</td>\n",
       "      <td>False</td>\n",
       "      <td>False</td>\n",
       "      <td>0</td>\n",
       "      <td>52</td>\n",
       "      <td>False</td>\n",
       "      <td>False</td>\n",
       "      <td>False</td>\n",
       "      <td>...</td>\n",
       "      <td>False</td>\n",
       "      <td>False</td>\n",
       "      <td>False</td>\n",
       "      <td>False</td>\n",
       "      <td>False</td>\n",
       "      <td>False</td>\n",
       "      <td>False</td>\n",
       "      <td>False</td>\n",
       "      <td>False</td>\n",
       "      <td>False</td>\n",
       "    </tr>\n",
       "    <tr>\n",
       "      <th>706</th>\n",
       "      <td>ENVO:00005826</td>\n",
       "      <td>None</td>\n",
       "      <td>False</td>\n",
       "      <td>False</td>\n",
       "      <td>False</td>\n",
       "      <td>0</td>\n",
       "      <td>0</td>\n",
       "      <td>False</td>\n",
       "      <td>False</td>\n",
       "      <td>False</td>\n",
       "      <td>...</td>\n",
       "      <td>False</td>\n",
       "      <td>False</td>\n",
       "      <td>False</td>\n",
       "      <td>False</td>\n",
       "      <td>False</td>\n",
       "      <td>False</td>\n",
       "      <td>False</td>\n",
       "      <td>False</td>\n",
       "      <td>False</td>\n",
       "      <td>False</td>\n",
       "    </tr>\n",
       "  </tbody>\n",
       "</table>\n",
       "<p>707 rows × 21 columns</p>\n",
       "</div>"
      ]
     },
     "execution_count": 128,
     "metadata": {},
     "output_type": "execute_result"
    }
   ],
   "execution_count": 128
  },
  {
   "metadata": {},
   "cell_type": "markdown",
   "source": "# Merge in NMDC counts",
   "id": "8f7c4b1d95722568"
  },
  {
   "metadata": {
    "ExecuteTime": {
     "end_time": "2024-12-12T14:57:28.346722Z",
     "start_time": "2024-12-12T14:57:28.342993Z"
    }
   },
   "cell_type": "code",
   "source": [
    "nmdc_biosample_scoped_counts = nmdc_biosample_contexts_frame[nmdc_context_selector].value_counts().reset_index()\n",
    "nmdc_biosample_scoped_counts.columns = ['curie', 'nmdc_scoped_count']\n"
   ],
   "id": "88ebf6f76c2e0545",
   "outputs": [],
   "execution_count": 129
  },
  {
   "metadata": {
    "ExecuteTime": {
     "end_time": "2024-12-12T14:57:28.353972Z",
     "start_time": "2024-12-12T14:57:28.348177Z"
    }
   },
   "cell_type": "code",
   "source": "nmdc_biosample_scoped_counts",
   "id": "85789ece9ec4ddd6",
   "outputs": [
    {
     "data": {
      "text/plain": [
       "           curie  nmdc_scoped_count\n",
       "0  ENVO:01001442                192"
      ],
      "text/html": [
       "<div>\n",
       "<style scoped>\n",
       "    .dataframe tbody tr th:only-of-type {\n",
       "        vertical-align: middle;\n",
       "    }\n",
       "\n",
       "    .dataframe tbody tr th {\n",
       "        vertical-align: top;\n",
       "    }\n",
       "\n",
       "    .dataframe thead th {\n",
       "        text-align: right;\n",
       "    }\n",
       "</style>\n",
       "<table border=\"1\" class=\"dataframe\">\n",
       "  <thead>\n",
       "    <tr style=\"text-align: right;\">\n",
       "      <th></th>\n",
       "      <th>curie</th>\n",
       "      <th>nmdc_scoped_count</th>\n",
       "    </tr>\n",
       "  </thead>\n",
       "  <tbody>\n",
       "    <tr>\n",
       "      <th>0</th>\n",
       "      <td>ENVO:01001442</td>\n",
       "      <td>192</td>\n",
       "    </tr>\n",
       "  </tbody>\n",
       "</table>\n",
       "</div>"
      ]
     },
     "execution_count": 130,
     "metadata": {},
     "output_type": "execute_result"
    }
   ],
   "execution_count": 130
  },
  {
   "metadata": {
    "ExecuteTime": {
     "end_time": "2024-12-12T14:57:28.360598Z",
     "start_time": "2024-12-12T14:57:28.355651Z"
    }
   },
   "cell_type": "code",
   "source": [
    "# Perform the left merge\n",
    "rows_frame = rows_frame.merge(\n",
    "    nmdc_biosample_scoped_counts,\n",
    "    left_on='curie',\n",
    "    right_on='curie',\n",
    "    how='left'\n",
    ")"
   ],
   "id": "329203aecb25f598",
   "outputs": [],
   "execution_count": 131
  },
  {
   "metadata": {
    "ExecuteTime": {
     "end_time": "2024-12-12T14:57:28.380188Z",
     "start_time": "2024-12-12T14:57:28.361936Z"
    }
   },
   "cell_type": "code",
   "source": "rows_frame",
   "id": "8346fb59af8e61c6",
   "outputs": [
    {
     "data": {
      "text/plain": [
       "               curie                            label  envo_native  obsolete  \\\n",
       "0      ENVO:00005769             mountain forest soil         True     False   \n",
       "1      ENVO:00005772                     orchard soil         True     False   \n",
       "2      ENVO:01000212     temperate mixed forest biome         True     False   \n",
       "3    FOODON:03315552                   juice beverage        False     False   \n",
       "4      ENVO:01000426                             room         True     False   \n",
       "..               ...                              ...          ...       ...   \n",
       "702    ENVO:01000252            freshwater lake biome         True     False   \n",
       "703          ENVO:12                             None        False     False   \n",
       "704    ENVO:01000219  anthropogenic terrestrial biome         True     False   \n",
       "705       RO:0002577                           system        False     False   \n",
       "706    ENVO:00005826                             None        False     False   \n",
       "\n",
       "     EnvBroadScaleSoilEnum_11_1  ancestors_in_enum_count  \\\n",
       "0                         False                        0   \n",
       "1                         False                        0   \n",
       "2                          True                        4   \n",
       "3                         False                        0   \n",
       "4                         False                        0   \n",
       "..                          ...                      ...   \n",
       "702                       False                        0   \n",
       "703                       False                        0   \n",
       "704                        True                        2   \n",
       "705                       False                        0   \n",
       "706                       False                        0   \n",
       "\n",
       "     descendants_in_enum_count  nlcd_class    abp  env_sys  ...  \\\n",
       "0                            0       False   True    False  ...   \n",
       "1                            0       False   True    False  ...   \n",
       "2                            1       False   True     True  ...   \n",
       "3                            0       False  False    False  ...   \n",
       "4                            0       False   True    False  ...   \n",
       "..                         ...         ...    ...      ...  ...   \n",
       "702                          0       False   True     True  ...   \n",
       "703                          0       False  False    False  ...   \n",
       "704                          3       False   True     True  ...   \n",
       "705                         52       False  False    False  ...   \n",
       "706                          0       False  False    False  ...   \n",
       "\n",
       "     aquatic_biome  env_mat   soil  liquid water  water ice  \\\n",
       "0            False     True   True         False      False   \n",
       "1            False     True   True         False      False   \n",
       "2            False    False  False         False      False   \n",
       "3            False     True  False         False      False   \n",
       "4            False    False  False         False      False   \n",
       "..             ...      ...    ...           ...        ...   \n",
       "702           True    False  False         False      False   \n",
       "703          False    False  False         False      False   \n",
       "704          False    False  False         False      False   \n",
       "705          False    False  False         False      False   \n",
       "706          False    False  False         False      False   \n",
       "\n",
       "     human_construction  building  building_part  goldterms_mappings  \\\n",
       "0                 False     False          False               False   \n",
       "1                 False     False          False               False   \n",
       "2                 False     False          False               False   \n",
       "3                 False     False          False               False   \n",
       "4                  True     False           True               False   \n",
       "..                  ...       ...            ...                 ...   \n",
       "702               False     False          False               False   \n",
       "703               False     False          False               False   \n",
       "704               False     False          False               False   \n",
       "705               False     False          False               False   \n",
       "706               False     False          False               False   \n",
       "\n",
       "     nmdc_scoped_count  \n",
       "0                  NaN  \n",
       "1                  NaN  \n",
       "2                  NaN  \n",
       "3                  NaN  \n",
       "4                  NaN  \n",
       "..                 ...  \n",
       "702                NaN  \n",
       "703                NaN  \n",
       "704                NaN  \n",
       "705                NaN  \n",
       "706                NaN  \n",
       "\n",
       "[707 rows x 22 columns]"
      ],
      "text/html": [
       "<div>\n",
       "<style scoped>\n",
       "    .dataframe tbody tr th:only-of-type {\n",
       "        vertical-align: middle;\n",
       "    }\n",
       "\n",
       "    .dataframe tbody tr th {\n",
       "        vertical-align: top;\n",
       "    }\n",
       "\n",
       "    .dataframe thead th {\n",
       "        text-align: right;\n",
       "    }\n",
       "</style>\n",
       "<table border=\"1\" class=\"dataframe\">\n",
       "  <thead>\n",
       "    <tr style=\"text-align: right;\">\n",
       "      <th></th>\n",
       "      <th>curie</th>\n",
       "      <th>label</th>\n",
       "      <th>envo_native</th>\n",
       "      <th>obsolete</th>\n",
       "      <th>EnvBroadScaleSoilEnum_11_1</th>\n",
       "      <th>ancestors_in_enum_count</th>\n",
       "      <th>descendants_in_enum_count</th>\n",
       "      <th>nlcd_class</th>\n",
       "      <th>abp</th>\n",
       "      <th>env_sys</th>\n",
       "      <th>...</th>\n",
       "      <th>aquatic_biome</th>\n",
       "      <th>env_mat</th>\n",
       "      <th>soil</th>\n",
       "      <th>liquid water</th>\n",
       "      <th>water ice</th>\n",
       "      <th>human_construction</th>\n",
       "      <th>building</th>\n",
       "      <th>building_part</th>\n",
       "      <th>goldterms_mappings</th>\n",
       "      <th>nmdc_scoped_count</th>\n",
       "    </tr>\n",
       "  </thead>\n",
       "  <tbody>\n",
       "    <tr>\n",
       "      <th>0</th>\n",
       "      <td>ENVO:00005769</td>\n",
       "      <td>mountain forest soil</td>\n",
       "      <td>True</td>\n",
       "      <td>False</td>\n",
       "      <td>False</td>\n",
       "      <td>0</td>\n",
       "      <td>0</td>\n",
       "      <td>False</td>\n",
       "      <td>True</td>\n",
       "      <td>False</td>\n",
       "      <td>...</td>\n",
       "      <td>False</td>\n",
       "      <td>True</td>\n",
       "      <td>True</td>\n",
       "      <td>False</td>\n",
       "      <td>False</td>\n",
       "      <td>False</td>\n",
       "      <td>False</td>\n",
       "      <td>False</td>\n",
       "      <td>False</td>\n",
       "      <td>NaN</td>\n",
       "    </tr>\n",
       "    <tr>\n",
       "      <th>1</th>\n",
       "      <td>ENVO:00005772</td>\n",
       "      <td>orchard soil</td>\n",
       "      <td>True</td>\n",
       "      <td>False</td>\n",
       "      <td>False</td>\n",
       "      <td>0</td>\n",
       "      <td>0</td>\n",
       "      <td>False</td>\n",
       "      <td>True</td>\n",
       "      <td>False</td>\n",
       "      <td>...</td>\n",
       "      <td>False</td>\n",
       "      <td>True</td>\n",
       "      <td>True</td>\n",
       "      <td>False</td>\n",
       "      <td>False</td>\n",
       "      <td>False</td>\n",
       "      <td>False</td>\n",
       "      <td>False</td>\n",
       "      <td>False</td>\n",
       "      <td>NaN</td>\n",
       "    </tr>\n",
       "    <tr>\n",
       "      <th>2</th>\n",
       "      <td>ENVO:01000212</td>\n",
       "      <td>temperate mixed forest biome</td>\n",
       "      <td>True</td>\n",
       "      <td>False</td>\n",
       "      <td>True</td>\n",
       "      <td>4</td>\n",
       "      <td>1</td>\n",
       "      <td>False</td>\n",
       "      <td>True</td>\n",
       "      <td>True</td>\n",
       "      <td>...</td>\n",
       "      <td>False</td>\n",
       "      <td>False</td>\n",
       "      <td>False</td>\n",
       "      <td>False</td>\n",
       "      <td>False</td>\n",
       "      <td>False</td>\n",
       "      <td>False</td>\n",
       "      <td>False</td>\n",
       "      <td>False</td>\n",
       "      <td>NaN</td>\n",
       "    </tr>\n",
       "    <tr>\n",
       "      <th>3</th>\n",
       "      <td>FOODON:03315552</td>\n",
       "      <td>juice beverage</td>\n",
       "      <td>False</td>\n",
       "      <td>False</td>\n",
       "      <td>False</td>\n",
       "      <td>0</td>\n",
       "      <td>0</td>\n",
       "      <td>False</td>\n",
       "      <td>False</td>\n",
       "      <td>False</td>\n",
       "      <td>...</td>\n",
       "      <td>False</td>\n",
       "      <td>True</td>\n",
       "      <td>False</td>\n",
       "      <td>False</td>\n",
       "      <td>False</td>\n",
       "      <td>False</td>\n",
       "      <td>False</td>\n",
       "      <td>False</td>\n",
       "      <td>False</td>\n",
       "      <td>NaN</td>\n",
       "    </tr>\n",
       "    <tr>\n",
       "      <th>4</th>\n",
       "      <td>ENVO:01000426</td>\n",
       "      <td>room</td>\n",
       "      <td>True</td>\n",
       "      <td>False</td>\n",
       "      <td>False</td>\n",
       "      <td>0</td>\n",
       "      <td>0</td>\n",
       "      <td>False</td>\n",
       "      <td>True</td>\n",
       "      <td>False</td>\n",
       "      <td>...</td>\n",
       "      <td>False</td>\n",
       "      <td>False</td>\n",
       "      <td>False</td>\n",
       "      <td>False</td>\n",
       "      <td>False</td>\n",
       "      <td>True</td>\n",
       "      <td>False</td>\n",
       "      <td>True</td>\n",
       "      <td>False</td>\n",
       "      <td>NaN</td>\n",
       "    </tr>\n",
       "    <tr>\n",
       "      <th>...</th>\n",
       "      <td>...</td>\n",
       "      <td>...</td>\n",
       "      <td>...</td>\n",
       "      <td>...</td>\n",
       "      <td>...</td>\n",
       "      <td>...</td>\n",
       "      <td>...</td>\n",
       "      <td>...</td>\n",
       "      <td>...</td>\n",
       "      <td>...</td>\n",
       "      <td>...</td>\n",
       "      <td>...</td>\n",
       "      <td>...</td>\n",
       "      <td>...</td>\n",
       "      <td>...</td>\n",
       "      <td>...</td>\n",
       "      <td>...</td>\n",
       "      <td>...</td>\n",
       "      <td>...</td>\n",
       "      <td>...</td>\n",
       "      <td>...</td>\n",
       "    </tr>\n",
       "    <tr>\n",
       "      <th>702</th>\n",
       "      <td>ENVO:01000252</td>\n",
       "      <td>freshwater lake biome</td>\n",
       "      <td>True</td>\n",
       "      <td>False</td>\n",
       "      <td>False</td>\n",
       "      <td>0</td>\n",
       "      <td>0</td>\n",
       "      <td>False</td>\n",
       "      <td>True</td>\n",
       "      <td>True</td>\n",
       "      <td>...</td>\n",
       "      <td>True</td>\n",
       "      <td>False</td>\n",
       "      <td>False</td>\n",
       "      <td>False</td>\n",
       "      <td>False</td>\n",
       "      <td>False</td>\n",
       "      <td>False</td>\n",
       "      <td>False</td>\n",
       "      <td>False</td>\n",
       "      <td>NaN</td>\n",
       "    </tr>\n",
       "    <tr>\n",
       "      <th>703</th>\n",
       "      <td>ENVO:12</td>\n",
       "      <td>None</td>\n",
       "      <td>False</td>\n",
       "      <td>False</td>\n",
       "      <td>False</td>\n",
       "      <td>0</td>\n",
       "      <td>0</td>\n",
       "      <td>False</td>\n",
       "      <td>False</td>\n",
       "      <td>False</td>\n",
       "      <td>...</td>\n",
       "      <td>False</td>\n",
       "      <td>False</td>\n",
       "      <td>False</td>\n",
       "      <td>False</td>\n",
       "      <td>False</td>\n",
       "      <td>False</td>\n",
       "      <td>False</td>\n",
       "      <td>False</td>\n",
       "      <td>False</td>\n",
       "      <td>NaN</td>\n",
       "    </tr>\n",
       "    <tr>\n",
       "      <th>704</th>\n",
       "      <td>ENVO:01000219</td>\n",
       "      <td>anthropogenic terrestrial biome</td>\n",
       "      <td>True</td>\n",
       "      <td>False</td>\n",
       "      <td>True</td>\n",
       "      <td>2</td>\n",
       "      <td>3</td>\n",
       "      <td>False</td>\n",
       "      <td>True</td>\n",
       "      <td>True</td>\n",
       "      <td>...</td>\n",
       "      <td>False</td>\n",
       "      <td>False</td>\n",
       "      <td>False</td>\n",
       "      <td>False</td>\n",
       "      <td>False</td>\n",
       "      <td>False</td>\n",
       "      <td>False</td>\n",
       "      <td>False</td>\n",
       "      <td>False</td>\n",
       "      <td>NaN</td>\n",
       "    </tr>\n",
       "    <tr>\n",
       "      <th>705</th>\n",
       "      <td>RO:0002577</td>\n",
       "      <td>system</td>\n",
       "      <td>False</td>\n",
       "      <td>False</td>\n",
       "      <td>False</td>\n",
       "      <td>0</td>\n",
       "      <td>52</td>\n",
       "      <td>False</td>\n",
       "      <td>False</td>\n",
       "      <td>False</td>\n",
       "      <td>...</td>\n",
       "      <td>False</td>\n",
       "      <td>False</td>\n",
       "      <td>False</td>\n",
       "      <td>False</td>\n",
       "      <td>False</td>\n",
       "      <td>False</td>\n",
       "      <td>False</td>\n",
       "      <td>False</td>\n",
       "      <td>False</td>\n",
       "      <td>NaN</td>\n",
       "    </tr>\n",
       "    <tr>\n",
       "      <th>706</th>\n",
       "      <td>ENVO:00005826</td>\n",
       "      <td>None</td>\n",
       "      <td>False</td>\n",
       "      <td>False</td>\n",
       "      <td>False</td>\n",
       "      <td>0</td>\n",
       "      <td>0</td>\n",
       "      <td>False</td>\n",
       "      <td>False</td>\n",
       "      <td>False</td>\n",
       "      <td>...</td>\n",
       "      <td>False</td>\n",
       "      <td>False</td>\n",
       "      <td>False</td>\n",
       "      <td>False</td>\n",
       "      <td>False</td>\n",
       "      <td>False</td>\n",
       "      <td>False</td>\n",
       "      <td>False</td>\n",
       "      <td>False</td>\n",
       "      <td>NaN</td>\n",
       "    </tr>\n",
       "  </tbody>\n",
       "</table>\n",
       "<p>707 rows × 22 columns</p>\n",
       "</div>"
      ]
     },
     "execution_count": 132,
     "metadata": {},
     "output_type": "execute_result"
    }
   ],
   "execution_count": 132
  },
  {
   "metadata": {
    "ExecuteTime": {
     "end_time": "2024-12-12T14:57:28.383911Z",
     "start_time": "2024-12-12T14:57:28.381409Z"
    }
   },
   "cell_type": "code",
   "source": [
    "# gold and ncbi counts are slightly trickier\n",
    "# for gold: including mappings only, mappings in hybrid with biosample counts. \n",
    "#    Switch to direct biosample counts of GOLD \"envo\" annotations?\n",
    "# ncbi: we have extracted curies and annotated curies"
   ],
   "id": "87a64ed7d57d81ee",
   "outputs": [],
   "execution_count": 133
  },
  {
   "metadata": {},
   "cell_type": "markdown",
   "source": "## Merge in NCBI counts",
   "id": "1f1f840c8c0acc80"
  },
  {
   "metadata": {
    "ExecuteTime": {
     "end_time": "2024-12-12T14:57:28.390236Z",
     "start_time": "2024-12-12T14:57:28.385466Z"
    }
   },
   "cell_type": "code",
   "source": [
    "# Perform the left merge\n",
    "rows_frame = rows_frame.merge(\n",
    "    ncbi_biosample_scoped_counts,\n",
    "    left_on='curie',\n",
    "    right_on='curie',\n",
    "    how='left'\n",
    ")"
   ],
   "id": "f4d8dc1053a5bb7e",
   "outputs": [],
   "execution_count": 134
  },
  {
   "metadata": {
    "ExecuteTime": {
     "end_time": "2024-12-12T14:57:28.394122Z",
     "start_time": "2024-12-12T14:57:28.391630Z"
    }
   },
   "cell_type": "code",
   "source": "# 990 rows in https://docs.google.com/spreadsheets/d/12WH3eduBq2qSTy9zVF3n7fyajn6ssLZL/edit?gid=546570706#gid=546570706",
   "id": "396c3f6005a31874",
   "outputs": [],
   "execution_count": 135
  },
  {
   "metadata": {
    "ExecuteTime": {
     "end_time": "2024-12-12T14:57:28.404162Z",
     "start_time": "2024-12-12T14:57:28.395533Z"
    }
   },
   "cell_type": "code",
   "source": "rows_frame.to_csv(output_file_name, sep=\"\\t\", index=False)",
   "id": "b7a26a1b879188a4",
   "outputs": [],
   "execution_count": 136
  },
  {
   "metadata": {
    "ExecuteTime": {
     "end_time": "2024-12-12T14:57:29.966354Z",
     "start_time": "2024-12-12T14:57:28.405780Z"
    }
   },
   "cell_type": "code",
   "source": "ncbi_conn.close()",
   "id": "655f46a2a0a6da17",
   "outputs": [],
   "execution_count": 137
  }
 ],
 "metadata": {
  "kernelspec": {
   "display_name": "Python 3 (ipykernel)",
   "language": "python",
   "name": "python3"
  },
  "language_info": {
   "codemirror_mode": {
    "name": "ipython",
    "version": 3
   },
   "file_extension": ".py",
   "mimetype": "text/x-python",
   "name": "python",
   "nbconvert_exporter": "python",
   "pygments_lexer": "ipython3",
   "version": "3.10.13"
  }
 },
 "nbformat": 4,
 "nbformat_minor": 5
}
