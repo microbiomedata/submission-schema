{
 "cells": [
  {
   "metadata": {
    "ExecuteTime": {
     "end_time": "2024-12-11T15:40:36.485906Z",
     "start_time": "2024-12-11T15:40:30.645104Z"
    }
   },
   "cell_type": "code",
   "source": [
    "from common import *\n",
    "\n",
    "import gzip\n",
    "import os\n",
    "import shutil\n",
    "import sqlite3\n",
    "from urllib.parse import urlparse\n",
    "\n",
    "import duckdb\n",
    "import pandas as pd\n",
    "import requests\n",
    "from oaklib import get_adapter\n",
    "from oaklib.datamodels.vocabulary import IS_A\n",
    "from scipy.sparse import hstack\n",
    "from sklearn.ensemble import RandomForestClassifier\n",
    "from sklearn.metrics import classification_report\n",
    "from sklearn.model_selection import train_test_split\n",
    "\n",
    "import yaml\n",
    "import json\n"
   ],
   "id": "630126a7790cc3a7",
   "outputs": [],
   "execution_count": 1
  },
  {
   "metadata": {
    "ExecuteTime": {
     "end_time": "2024-12-11T15:40:37.494787Z",
     "start_time": "2024-12-11T15:40:37.490559Z"
    }
   },
   "cell_type": "code",
   "source": "print(\"verify output is being rendered\")",
   "id": "7b0ae730412c28ca",
   "outputs": [
    {
     "name": "stdout",
     "output_type": "stream",
     "text": [
      "verify output is being rendered\n"
     ]
    }
   ],
   "execution_count": 2
  },
  {
   "metadata": {
    "ExecuteTime": {
     "end_time": "2024-12-11T15:40:38.219174Z",
     "start_time": "2024-12-11T15:40:38.216238Z"
    }
   },
   "cell_type": "code",
   "source": [
    "# Initialize cache dictionaries for predict_from_normalized_env_packages\n",
    "# todo how to move the definitions for function that use these globals? Or just use caching around the function?\n",
    "ancestor_cache = {}\n",
    "descendant_cache = {}"
   ],
   "id": "f952b5888d2c5f0d",
   "outputs": [],
   "execution_count": 3
  },
  {
   "metadata": {
    "ExecuteTime": {
     "end_time": "2024-12-11T15:40:39.162701Z",
     "start_time": "2024-12-11T15:40:39.158403Z"
    }
   },
   "cell_type": "code",
   "source": [
    "# todo deal with circularity in env package prediction -> env triad reporting\n",
    "\n",
    "# todo this on-demand NCBI curie extraction and annotation recapitulates work that is being added to\n",
    "# https://portal.nersc.gov/project/m3408/biosamples_duckdb/\n",
    "# via \n",
    "#   although that doesn't detect auto-incremented curies from  spreadsheet dragging\n",
    "\n",
    "# todo if more caching is desired, it should probably take the form of saving dataframes for TSV\n",
    "\n",
    "# eventually, dig up a complete JSON gold biosample dump for non-hybrid biosample counts\n",
    "\n",
    "# overall run time (if NCBI biosamples and goldData are cached): ~ 10 minutes\n",
    "\n",
    "# todo make it clearer whether biosamples or studies are being counted\n",
    "# count nmdc or gold studies too?"
   ],
   "id": "5001cbd978bbdd28",
   "outputs": [],
   "execution_count": 4
  },
  {
   "cell_type": "markdown",
   "id": "2ef284816f7ce9d6",
   "metadata": {},
   "source": [
    "# Isolated Task Settings\n",
    "**Pre-assembled settings block below are preferred**\n",
    "\n",
    "_For making a Soil env_broad_scale voting sheet vs a Sediment env_local_scale sheet, etc._\n",
    "\n",
    "todo: bundle these into dicts so they don't have to be modified independently and kept in sync with one another."
   ]
  },
  {
   "metadata": {},
   "cell_type": "code",
   "source": "output_file_name = \"voting_sheets_output/sediment_env_local_scale_voting_sheet.tsv\"",
   "id": "90bf7256a956701d",
   "outputs": [],
   "execution_count": null
  },
  {
   "metadata": {},
   "cell_type": "code",
   "source": [
    "# semantic_anchor = 'ENVO:00000428' # biome for env_broad_scale\n",
    "semantic_anchor = 'ENVO:01000813' # astronomical body part \"abp\" for env_local_scale\n",
    "# semantic_anchor = 'ENVO:00010483' # environmental material for env_medium"
   ],
   "id": "95f7efc06f20987a",
   "outputs": [],
   "execution_count": null
  },
  {
   "metadata": {},
   "cell_type": "markdown",
   "source": "## context selectors",
   "id": "51f51b3b88634488"
  },
  {
   "metadata": {},
   "cell_type": "code",
   "source": [
    "gold_context_selectors =  [\n",
    "    'mixs:env_broad',\n",
    "    'mixs:env_local',\n",
    "    'mixs:env_medium'\n",
    "]\n"
   ],
   "id": "be00ed63d6472ead",
   "outputs": [],
   "execution_count": null
  },
  {
   "metadata": {},
   "cell_type": "code",
   "source": [
    "# ncbi_context_selector = 'env_broad_scale'\n",
    "ncbi_context_selector = 'env_local_scale'\n",
    "# ncbi_context_selector = 'env_medium'"
   ],
   "id": "7aa7b42c3f20ce44",
   "outputs": [],
   "execution_count": null
  },
  {
   "metadata": {},
   "cell_type": "code",
   "source": [
    "# nmdc_context_selector= 'env_broad_scale_id'\n",
    "nmdc_context_selector= 'env_local_scale_id'\n",
    "# nmdc_context_selector= 'env_medium_id'"
   ],
   "id": "ce80b2d7e64e5710",
   "outputs": [],
   "execution_count": null
  },
  {
   "metadata": {},
   "cell_type": "markdown",
   "source": "## package aka environment aka extension selectors",
   "id": "2f0bdadeb5d32fa8"
  },
  {
   "metadata": {},
   "cell_type": "code",
   "source": [
    "# plant_first_where = \"s1.value like 'host-associated > plants%'\"\n",
    "# sediment_first_where = \"lower(s1.value) like 'environmental > aquatic%sediment%'\"\n",
    "# soil_first_where = \"s1.value like 'environmental > terrestrial > soil%'\"\n",
    "# water_first_where = \"s1.value like 'environmental > aquatic%' and lower(s1.value) not like '%sediment%'\"\n",
    "\n",
    "plant_first_where = \"lower(s1.value) like '%plant%'\" # picks up waste water treatment plant\n",
    "sediment_first_where = \"lower(s1.value) like '%sediment%'\"\n",
    "soil_first_where = \"lower(s1.value) like '%soil%'\"\n",
    "water_first_where = \"lower(s1.value) like '%aquatic%' and lower(s1.value) not like '%sediment%'\""
   ],
   "id": "def7edf88043ac30",
   "outputs": [],
   "execution_count": null
  },
  {
   "metadata": {},
   "cell_type": "code",
   "source": "gold_first_where = sediment_first_where",
   "id": "8075741d803ff740",
   "outputs": [],
   "execution_count": null
  },
  {
   "metadata": {},
   "cell_type": "code",
   "source": [
    "# todo new since soil: why are we only considering MIMS.me for discovering appropriate env triad values?\n",
    "#   there's usually a roughly equal number of biosamples from in each extension for MIMS.me and \n",
    "\n",
    "# ncbi_package_selector = 'plant-associated.6.0'\n",
    "ncbi_package_selector = 'sediment.6.0'\n",
    "# ncbi_package_selector = 'soil.6.0'\n",
    "# ncbi_package_selector = 'water.6.0'"
   ],
   "id": "f5654d6f9319576b",
   "outputs": [],
   "execution_count": null
  },
  {
   "metadata": {},
   "cell_type": "code",
   "source": [
    "# nmdc_package_selector = 'plant-associated'\n",
    "nmdc_package_selector = 'sediment'\n",
    "# nmdc_package_selector = 'soil'\n",
    "# nmdc_package_selector = 'water'\n"
   ],
   "id": "5e358e42ad885188",
   "outputs": [],
   "execution_count": null
  },
  {
   "metadata": {},
   "cell_type": "code",
   "source": [
    "GOLDTERMS_NA = '' # ???\n",
    "\n",
    "GOLDTERMS_PLANT_ASSOCIATED = GOLDTERMS_NA # host associated -> viridiplantae? take a string approach!\n",
    "GOLDTERMS_SEDIMENT = 'GOLDTERMS:3985' #  doesn't have any subclasses\n",
    "GOLDTERMS_SOIL = 'GOLDTERMS:4212'\n",
    "GOLDTERMS_WATER = 'GOLDTERMS:3984'\n",
    "\n",
    "# GOLDTERMS:4180, 'Environmental > Aquatic > Freshwater > Pond > Sediment' and ~64 more don't share a common root\n",
    "# poetry run runoak -i sqlite:obo:goldterms info 't~sediment'\n"
   ],
   "id": "eda591e14a91cd01",
   "outputs": [],
   "execution_count": null
  },
  {
   "metadata": {},
   "cell_type": "code",
   "source": "goldterms_root = GOLDTERMS_NA",
   "id": "bba8bf1e75430ef",
   "outputs": [],
   "execution_count": null
  },
  {
   "metadata": {},
   "cell_type": "markdown",
   "source": "## selecting name and version of one enum for comparison",
   "id": "394f96a70a95754f"
  },
  {
   "metadata": {},
   "cell_type": "code",
   "source": [
    "# only the Soil enums have legacy definitions (v10.7 and earlier?)\n",
    "\n",
    "# CONTEXT_ENUM = \"EnvBroadScaleSoilEnum\"\n",
    "CONTEXT_ENUM = \"EnvLocalScaleSoilEnum\"\n",
    "# CONTEXT_ENUM = \"EnvMediumSoilEnum\"\n",
    "\n",
    "# CONTEXT_ENUM = \"\""
   ],
   "id": "20750df32ebb2033",
   "outputs": [],
   "execution_count": null
  },
  {
   "metadata": {},
   "cell_type": "code",
   "source": [
    "# todo: add columns for membership in multiple enums from multiple version of the schema?\n",
    "#  like sediment local vs soil local and water local (once that's completed)\n",
    "#  get them from schema files or something prior to that? sems like the voting sheets are too raw/preliminary for that\n",
    "#   can use a more recent schema url for more recent enums!\n",
    "\n",
    "previous_submission_schema_url = \"https://raw.githubusercontent.com/microbiomedata/submission-schema/v10.7.0/src/nmdc_submission_schema/schema/nmdc_submission_schema.yaml\"\n",
    "\n",
    "# previous_submission_schema_url = \"https://raw.githubusercontent.com/microbiomedata/submission-schema/refs/tags/v11.1.0/src/nmdc_submission_schema/schema/nmdc_submission_schema.yaml\""
   ],
   "id": "f588eccfcb2771ba",
   "outputs": [],
   "execution_count": null
  },
  {
   "metadata": {},
   "cell_type": "code",
   "source": [
    "# todo: don't call the column \"legacy_pv\". use the name of the enum and the version of the schema?\n",
    "\n",
    "comparison_enum_column_name = 'EnvLocalSoilEnum_10_7'\n",
    "# comparison_enum_column_name = 'EnvLocalScaleSoilEnum_11_1'\n",
    "# comparison_enum_column_name = 'no_comparison_enum'"
   ],
   "id": "e259066dee0973c4",
   "outputs": [],
   "execution_count": null
  },
  {
   "metadata": {},
   "cell_type": "markdown",
   "source": "# Pre-compiled settings",
   "id": "18d94b8b65f2d8a7"
  },
  {
   "metadata": {},
   "cell_type": "markdown",
   "source": "## plant associated env_broad_scale",
   "id": "e9b920ac677a450a"
  },
  {
   "metadata": {},
   "cell_type": "code",
   "source": [
    "output_file_name = \"voting_sheets_output/plant_associated_env_broad_scale_voting_sheet.tsv\"\n",
    "\n",
    "# bootstrapping\n",
    "semantic_anchor = 'ENVO:00000428' # biome for env_broad_scale\n",
    "\n",
    "gold_context_selectors = [\n",
    "    'mixs:env_broad',\n",
    "    'mixs:env_local',\n",
    "    'mixs:env_medium'\n",
    "]\n",
    "\n",
    "ncbi_context_selector = 'env_broad_scale'\n",
    "\n",
    "nmdc_context_selector= 'env_broad_scale_id'\n",
    "\n",
    "## package aka environment aka extension selectors\n",
    "plant_first_where = \"lower(s1.value) like '%plant%'\"  # picks up waste water treatment plant\n",
    "gold_first_where = plant_first_where\n",
    "\n",
    "ncbi_package_selector = 'plant-associated.6.0'\n",
    "\n",
    "nmdc_package_selector = 'plant-associated'\n",
    "\n",
    "CONTEXT_ENUM = \"EnvBroadScaleSoilEnum\"\n",
    "\n",
    "previous_submission_schema_url = \"https://raw.githubusercontent.com/microbiomedata/submission-schema/refs/tags/v11.1.0/src/nmdc_submission_schema/schema/nmdc_submission_schema.yaml\"\n",
    "\n",
    "comparison_enum_column_name = 'EnvBroadScaleSoilEnum_11_1'\n"
   ],
   "id": "ced5bbf4fa90ed5",
   "outputs": [],
   "execution_count": null
  },
  {
   "metadata": {},
   "cell_type": "markdown",
   "source": "## sediment env_broad_scale",
   "id": "f8188d45847dc773"
  },
  {
   "metadata": {},
   "cell_type": "code",
   "source": [
    "output_file_name = \"voting_sheets_output/sediment_env_broad_scale_voting_sheet.tsv\"\n",
    "\n",
    "# bootstrapping\n",
    "semantic_anchor = 'ENVO:00000428' # biome for env_broad_scale\n",
    "\n",
    "gold_context_selectors = [\n",
    "    'mixs:env_broad',\n",
    "    'mixs:env_local',\n",
    "    'mixs:env_medium'\n",
    "]\n",
    "\n",
    "ncbi_context_selector = 'env_broad_scale'\n",
    "\n",
    "nmdc_context_selector= 'env_broad_scale_id'\n",
    "\n",
    "## package aka environment aka extension selectors\n",
    "sediment_first_where = \"lower(s1.value) like '%sediment%'\"\n",
    "gold_first_where = sediment_first_where\n",
    "\n",
    "ncbi_package_selector = 'sediment.6.0'\n",
    "\n",
    "nmdc_package_selector = 'sediment'\n",
    "\n",
    "CONTEXT_ENUM = \"EnvBroadScaleSoilEnum\"\n",
    "\n",
    "previous_submission_schema_url = \"https://raw.githubusercontent.com/microbiomedata/submission-schema/refs/tags/v11.1.0/src/nmdc_submission_schema/schema/nmdc_submission_schema.yaml\"\n",
    "\n",
    "comparison_enum_column_name = 'EnvBroadScaleSoilEnum_11_1'\n"
   ],
   "id": "f189476b9a10eaf0",
   "outputs": [],
   "execution_count": null
  },
  {
   "metadata": {},
   "cell_type": "markdown",
   "source": "## soil env_broad_scale",
   "id": "fc180472ef26084"
  },
  {
   "metadata": {},
   "cell_type": "code",
   "source": [
    "output_file_name = \"voting_sheets_output/soil_env_broad_scale_voting_sheet.tsv\"\n",
    "\n",
    "# bootstrapping\n",
    "semantic_anchor = 'ENVO:00000428' # biome for env_broad_scale\n",
    "\n",
    "gold_context_selectors = [\n",
    "    'mixs:env_broad',\n",
    "    'mixs:env_local',\n",
    "    'mixs:env_medium'\n",
    "]\n",
    "\n",
    "ncbi_context_selector = 'env_broad_scale'\n",
    "\n",
    "nmdc_context_selector= 'env_broad_scale_id'\n",
    "\n",
    "## package aka environment aka extension selectors\n",
    "soil_first_where = \"lower(s1.value) like '%soil%'\"\n",
    "gold_first_where = soil_first_where\n",
    "\n",
    "ncbi_package_selector = 'soil.6.0'\n",
    "\n",
    "nmdc_package_selector = 'soil'\n",
    "\n",
    "CONTEXT_ENUM = \"EnvBroadScaleSoilEnum\"\n",
    "\n",
    "previous_submission_schema_url = \"https://raw.githubusercontent.com/microbiomedata/submission-schema/v10.7.0/src/nmdc_submission_schema/schema/nmdc_submission_schema.yaml\"\n",
    "\n",
    "comparison_enum_column_name = 'EnvBroadScaleSoilEnum_10_7'\n"
   ],
   "id": "af3f819c2221ce17",
   "outputs": [],
   "execution_count": null
  },
  {
   "metadata": {},
   "cell_type": "markdown",
   "source": "## plant associated env_local_scale",
   "id": "1d72c560269ca418"
  },
  {
   "metadata": {},
   "cell_type": "code",
   "source": [
    "output_file_name = \"voting_sheets_output/plant_associated_env_local_scale_voting_sheet.tsv\"\n",
    "\n",
    "# bootstrapping\n",
    "semantic_anchor = 'ENVO:01000813' # astronomical body part \"abp\" for env_local_scale\n",
    "\n",
    "gold_context_selectors = [\n",
    "    'mixs:env_broad',\n",
    "    'mixs:env_local',\n",
    "    'mixs:env_medium'\n",
    "]\n",
    "\n",
    "ncbi_context_selector = 'env_local_scale'\n",
    "\n",
    "nmdc_context_selector= 'env_local_scale_id'\n",
    "\n",
    "## package aka environment aka extension selectors\n",
    "plant_first_where = \"lower(s1.value) like '%plant%'\"  # picks up waste water treatment plant\n",
    "gold_first_where = plant_first_where\n",
    "\n",
    "ncbi_package_selector = 'plant-associated.6.0'\n",
    "\n",
    "nmdc_package_selector = 'plant-associated'\n",
    "\n",
    "CONTEXT_ENUM = \"EnvLocalScaleSoilEnum\"\n",
    "\n",
    "previous_submission_schema_url = \"https://raw.githubusercontent.com/microbiomedata/submission-schema/refs/tags/v11.1.0/src/nmdc_submission_schema/schema/nmdc_submission_schema.yaml\"\n",
    "\n",
    "comparison_enum_column_name = 'EnvLocalScaleSoilEnum_11_1'\n"
   ],
   "id": "9595e20c12970b0",
   "outputs": [],
   "execution_count": null
  },
  {
   "metadata": {},
   "cell_type": "markdown",
   "source": "## sediment env_local_scale",
   "id": "5eba6130783c9748"
  },
  {
   "metadata": {},
   "cell_type": "code",
   "source": [
    "output_file_name = \"voting_sheets_output/sediment_env_local_scale_voting_sheet.tsv\"\n",
    "\n",
    "# bootstrapping\n",
    "semantic_anchor = 'ENVO:01000813' # astronomical body part \"abp\" for env_local_scale\n",
    "\n",
    "gold_context_selectors = [\n",
    "    'mixs:env_broad',\n",
    "    'mixs:env_local',\n",
    "    'mixs:env_medium'\n",
    "]\n",
    "\n",
    "ncbi_context_selector = 'env_local_scale'\n",
    "\n",
    "nmdc_context_selector= 'env_local_scale_id'\n",
    "\n",
    "## package aka environment aka extension selectors\n",
    "sediment_first_where = \"lower(s1.value) like '%sediment%'\"\n",
    "gold_first_where = sediment_first_where\n",
    "\n",
    "ncbi_package_selector = 'sediment.6.0'\n",
    "\n",
    "nmdc_package_selector = 'sediment'\n",
    "\n",
    "CONTEXT_ENUM = \"EnvLocalScaleSoilEnum\"\n",
    "\n",
    "previous_submission_schema_url = \"https://raw.githubusercontent.com/microbiomedata/submission-schema/refs/tags/v11.1.0/src/nmdc_submission_schema/schema/nmdc_submission_schema.yaml\"\n",
    "\n",
    "comparison_enum_column_name = 'EnvLocalScaleSoilEnum_11_1'\n"
   ],
   "id": "777086b0e3cfe739",
   "outputs": [],
   "execution_count": null
  },
  {
   "metadata": {},
   "cell_type": "markdown",
   "source": "## soil env_local_scale",
   "id": "bd91def46c8e96e"
  },
  {
   "metadata": {},
   "cell_type": "code",
   "source": [
    "output_file_name = \"voting_sheets_output/soil_env_local_scale_voting_sheet.tsv\"\n",
    "\n",
    "# bootstrapping\n",
    "semantic_anchor = 'ENVO:01000813' # astronomical body part \"abp\" for env_local_scale\n",
    "\n",
    "gold_context_selectors = [\n",
    "    'mixs:env_broad',\n",
    "    'mixs:env_local',\n",
    "    'mixs:env_medium'\n",
    "]\n",
    "\n",
    "ncbi_context_selector = 'env_local_scale'\n",
    "\n",
    "nmdc_context_selector= 'env_local_scale_id'\n",
    "\n",
    "## package aka environment aka extension selectors\n",
    "soil_first_where = \"lower(s1.value) like '%soil%'\"\n",
    "gold_first_where = soil_first_where\n",
    "\n",
    "ncbi_package_selector = 'soil.6.0'\n",
    "\n",
    "nmdc_package_selector = 'soil'\n",
    "\n",
    "CONTEXT_ENUM = \"EnvLocalScaleSoilEnum\"\n",
    "\n",
    "previous_submission_schema_url = \"https://raw.githubusercontent.com/microbiomedata/submission-schema/v10.7.0/src/nmdc_submission_schema/schema/nmdc_submission_schema.yaml\"\n",
    "\n",
    "comparison_enum_column_name = 'EnvLocalScaleSoilEnum_10_7'\n"
   ],
   "id": "622675f60fa6dd34",
   "outputs": [],
   "execution_count": null
  },
  {
   "metadata": {},
   "cell_type": "markdown",
   "source": "## plant associated env_medium",
   "id": "b980432a44467b5b"
  },
  {
   "metadata": {},
   "cell_type": "code",
   "source": [
    "output_file_name = \"voting_sheets_output/plant_associated_env_medium_voting_sheet.tsv\"\n",
    "\n",
    "# bootstrapping\n",
    "semantic_anchor = 'ENVO:00010483' # environmental material for env_medium\n",
    "\n",
    "## context selectors\n",
    "gold_context_selectors = [\n",
    "    'mixs:env_broad',\n",
    "    'mixs:env_local',\n",
    "    'mixs:env_medium'\n",
    "]\n",
    "\n",
    "ncbi_context_selector = 'env_medium'\n",
    "\n",
    "nmdc_context_selector= 'env_medium_id'\n",
    "\n",
    "## package aka environment aka extension selectors\n",
    "plant_first_where = \"lower(s1.value) like '%plant%'\"  # picks up waste water treatment plant\n",
    "gold_first_where = plant_first_where\n",
    "\n",
    "ncbi_package_selector = 'plant-associated.6.0'\n",
    "\n",
    "nmdc_package_selector = 'plant-associated'\n",
    "\n",
    "CONTEXT_ENUM = \"EnvMediumSoilEnum\"\n",
    "\n",
    "previous_submission_schema_url = \"https://raw.githubusercontent.com/microbiomedata/submission-schema/refs/tags/v11.1.0/src/nmdc_submission_schema/schema/nmdc_submission_schema.yaml\"\n",
    "\n",
    "comparison_enum_column_name = 'EnvMediumSoilEnum_11_1'\n"
   ],
   "id": "23c8fc5309d58e42",
   "outputs": [],
   "execution_count": null
  },
  {
   "metadata": {},
   "cell_type": "markdown",
   "source": "## sediment env_medium",
   "id": "57fbbb1c7261470a"
  },
  {
   "metadata": {},
   "cell_type": "code",
   "source": [
    "output_file_name = \"voting_sheets_output/sediment_env_medium_voting_sheet.tsv\"\n",
    "\n",
    "# bootstrapping\n",
    "semantic_anchor = 'ENVO:00010483' # environmental material for env_medium\n",
    "\n",
    "## context selectors\n",
    "gold_context_selectors = [\n",
    "    'mixs:env_broad',\n",
    "    'mixs:env_local',\n",
    "    'mixs:env_medium'\n",
    "]\n",
    "\n",
    "ncbi_context_selector = 'env_medium'\n",
    "\n",
    "nmdc_context_selector= 'env_medium_id'\n",
    "\n",
    "## package aka environment aka extension selectors\n",
    "sediment_first_where = \"lower(s1.value) like '%sediment%'\"\n",
    "gold_first_where = sediment_first_where\n",
    "\n",
    "ncbi_package_selector = 'sediment.6.0'\n",
    "\n",
    "nmdc_package_selector = 'sediment'\n",
    "\n",
    "CONTEXT_ENUM = \"EnvMediumSoilEnum\"\n",
    "\n",
    "previous_submission_schema_url = \"https://raw.githubusercontent.com/microbiomedata/submission-schema/refs/tags/v11.1.0/src/nmdc_submission_schema/schema/nmdc_submission_schema.yaml\"\n",
    "\n",
    "comparison_enum_column_name = 'EnvMediumSoilEnum_11_1'\n"
   ],
   "id": "3d9ca27cfe400bda",
   "outputs": [],
   "execution_count": null
  },
  {
   "metadata": {},
   "cell_type": "markdown",
   "source": "## soil env_medium",
   "id": "a50e6679320330be"
  },
  {
   "metadata": {},
   "cell_type": "code",
   "source": [
    "output_file_name = \"voting_sheets_output/soil_env_medium_voting_sheet.tsv\"\n",
    "\n",
    "# bootstrapping\n",
    "semantic_anchor = 'ENVO:00010483' # environmental material for env_medium\n",
    "\n",
    "## context selectors\n",
    "gold_context_selectors = [\n",
    "    'mixs:env_broad',\n",
    "    'mixs:env_local',\n",
    "    'mixs:env_medium'\n",
    "]\n",
    "\n",
    "ncbi_context_selector = 'env_medium'\n",
    "\n",
    "nmdc_context_selector= 'env_medium_id'\n",
    "\n",
    "## package aka environment aka extension selectors\n",
    "soil_first_where = \"lower(s1.value) like '%soil%'\"\n",
    "gold_first_where = soil_first_where\n",
    "\n",
    "ncbi_package_selector = 'soil.6.0'\n",
    "\n",
    "nmdc_package_selector = 'soil'\n",
    "\n",
    "CONTEXT_ENUM = \"EnvMediumSoilEnum\"\n",
    "\n",
    "previous_submission_schema_url = \"https://raw.githubusercontent.com/microbiomedata/submission-schema/v10.7.0/src/nmdc_submission_schema/schema/nmdc_submission_schema.yaml\"\n",
    "\n",
    "comparison_enum_column_name = 'EnvMediumSoilEnum_10_7'\n"
   ],
   "id": "d10e94e1185ba1e5",
   "outputs": [],
   "execution_count": null
  },
  {
   "metadata": {},
   "cell_type": "markdown",
   "source": "# water env_broad_scale",
   "id": "2107e75f92bfe421"
  },
  {
   "metadata": {},
   "cell_type": "code",
   "source": [
    "output_file_name = \"voting_sheets_output/water_env_broad_scale_voting_sheet.tsv\"\n",
    "\n",
    "# bootstrapping\n",
    "semantic_anchor = 'ENVO:00000428' # biome for env_broad_scale\n",
    "\n",
    "gold_context_selectors = [\n",
    "    'mixs:env_broad',\n",
    "    'mixs:env_local',\n",
    "    'mixs:env_medium'\n",
    "]\n",
    "\n",
    "ncbi_context_selector = 'env_broad_scale'\n",
    "\n",
    "nmdc_context_selector= 'env_broad_scale_id'\n",
    "\n",
    "## package aka environment aka extension selectors\n",
    "water_first_where = \"lower(s1.value) like '%aquatic%' and lower(s1.value) not like '%sediment%'\"\n",
    "gold_first_where = water_first_where\n",
    "\n",
    "ncbi_package_selector = 'water.6.0'\n",
    "\n",
    "nmdc_package_selector = 'water'\n",
    "\n",
    "CONTEXT_ENUM = \"\"\n",
    "\n",
    "previous_submission_schema_url = \"https://raw.githubusercontent.com/microbiomedata/submission-schema/v10.7.0/src/nmdc_submission_schema/schema/nmdc_submission_schema.yaml\"\n",
    "\n",
    "comparison_enum_column_name = 'no_comparison_enum'\n",
    "\n"
   ],
   "id": "a5fd16929f950444",
   "outputs": [],
   "execution_count": null
  },
  {
   "metadata": {},
   "cell_type": "markdown",
   "source": "## water env_local_scale",
   "id": "38feb0092dfbbed3"
  },
  {
   "metadata": {},
   "cell_type": "code",
   "source": [
    "output_file_name = \"voting_sheets_output/water_env_local_scale_voting_sheet.tsv\"\n",
    "\n",
    "# bootstrapping\n",
    "semantic_anchor = 'ENVO:01000813' # astronomical body part \"abp\" for env_local_scale\n",
    "\n",
    "gold_context_selectors = [\n",
    "    'mixs:env_broad',\n",
    "    'mixs:env_local',\n",
    "    'mixs:env_medium'\n",
    "]\n",
    "\n",
    "ncbi_context_selector = 'env_local_scale'\n",
    "\n",
    "nmdc_context_selector= 'env_local_scale_id'\n",
    "\n",
    "## package aka environment aka extension selectors\n",
    "water_first_where = \"lower(s1.value) like '%aquatic%' and lower(s1.value) not like '%sediment%'\"\n",
    "gold_first_where = water_first_where\n",
    "\n",
    "ncbi_package_selector = 'water.6.0'\n",
    "\n",
    "nmdc_package_selector = 'water'\n",
    "\n",
    "CONTEXT_ENUM = \"\"\n",
    "\n",
    "previous_submission_schema_url = \"https://raw.githubusercontent.com/microbiomedata/submission-schema/v10.7.0/src/nmdc_submission_schema/schema/nmdc_submission_schema.yaml\"\n",
    "\n",
    "comparison_enum_column_name = 'no_comparison_enum'"
   ],
   "id": "30b45bed3c2a0302",
   "outputs": [],
   "execution_count": null
  },
  {
   "metadata": {},
   "cell_type": "markdown",
   "source": "## water env_medium",
   "id": "1a4c153d4bc6b74e"
  },
  {
   "metadata": {
    "ExecuteTime": {
     "end_time": "2024-12-11T15:41:02.723472Z",
     "start_time": "2024-12-11T15:41:02.719101Z"
    }
   },
   "cell_type": "code",
   "source": [
    "output_file_name = \"voting_sheets_output/water_env_medium_voting_sheet.tsv\"\n",
    "\n",
    "# bootstrapping\n",
    "semantic_anchor = 'ENVO:00010483' # environmental material for env_medium\n",
    "\n",
    "## context selectors\n",
    "gold_context_selectors = [\n",
    "    'mixs:env_broad',\n",
    "    'mixs:env_local',\n",
    "    'mixs:env_medium'\n",
    "]\n",
    "\n",
    "ncbi_context_selector = 'env_medium'\n",
    "\n",
    "nmdc_context_selector= 'env_medium_id'\n",
    "\n",
    "## package aka environment aka extension selectors\n",
    "water_first_where = \"lower(s1.value) like '%aquatic%' and lower(s1.value) not like '%sediment%'\"\n",
    "gold_first_where = water_first_where\n",
    "\n",
    "ncbi_package_selector = 'water.6.0'\n",
    "\n",
    "nmdc_package_selector = 'water'\n",
    "\n",
    "CONTEXT_ENUM = \"\"\n",
    "\n",
    "previous_submission_schema_url = \"https://raw.githubusercontent.com/microbiomedata/submission-schema/v10.7.0/src/nmdc_submission_schema/schema/nmdc_submission_schema.yaml\"\n",
    "\n",
    "comparison_enum_column_name = 'no_comparison_enum'"
   ],
   "id": "5362cd34fd02b49b",
   "outputs": [],
   "execution_count": 5
  },
  {
   "metadata": {},
   "cell_type": "markdown",
   "source": "# Additional Settings",
   "id": "b799aabdd66098c0"
  },
  {
   "metadata": {
    "ExecuteTime": {
     "end_time": "2024-12-11T15:41:08.005625Z",
     "start_time": "2024-12-11T15:41:08.002109Z"
    }
   },
   "cell_type": "code",
   "source": [
    "# Approved prefixes (case-insensitive)\n",
    "approved_prefixes = ['ENVO']"
   ],
   "id": "50e39f658f4bd77b",
   "outputs": [],
   "execution_count": 6
  },
  {
   "metadata": {
    "ExecuteTime": {
     "end_time": "2024-12-11T15:41:08.117610Z",
     "start_time": "2024-12-11T15:41:08.114717Z"
    }
   },
   "cell_type": "code",
   "source": "MIN_ANNOTATION_LEN = 3",
   "id": "3aa0b52456f0a95c",
   "outputs": [],
   "execution_count": 7
  },
  {
   "cell_type": "code",
   "id": "d526be618b8b9129",
   "metadata": {
    "ExecuteTime": {
     "end_time": "2024-12-11T15:41:08.339191Z",
     "start_time": "2024-12-11T15:41:08.336251Z"
    }
   },
   "source": [
    "NMDC_RUNTIME_BASE_URL = 'https://api.microbiomedata.org/nmdcschema/'\n",
    "STUDY_SET_COLLECTION = 'study_set'\n",
    "BIOSAMPLE_SET_COLLECTION = 'biosample_set'"
   ],
   "outputs": [],
   "execution_count": 8
  },
  {
   "cell_type": "code",
   "id": "11c0cba800e33ac6",
   "metadata": {
    "ExecuteTime": {
     "end_time": "2024-12-11T15:41:08.477296Z",
     "start_time": "2024-12-11T15:41:08.472363Z"
    }
   },
   "source": [
    "envo_adapter_string = \"sqlite:obo:envo\""
   ],
   "outputs": [],
   "execution_count": 9
  },
  {
   "cell_type": "code",
   "id": "7795121f47307a00",
   "metadata": {
    "ExecuteTime": {
     "end_time": "2024-12-11T15:41:08.855496Z",
     "start_time": "2024-12-11T15:41:08.852264Z"
    }
   },
   "source": [
    "env_package_override_file = 'mam-env-package-overrides.tsv'\n",
    "override_column = 'mam_inferred_env_package'"
   ],
   "outputs": [],
   "execution_count": 10
  },
  {
   "cell_type": "code",
   "id": "f1b99451d88ce356",
   "metadata": {
    "ExecuteTime": {
     "end_time": "2024-12-11T15:41:09.038112Z",
     "start_time": "2024-12-11T15:41:09.034560Z"
    }
   },
   "source": [
    "# ncbi_duckdb_url = 'https://portal.nersc.gov/project/m3408/biosamples_duckdb/ncbi_biosamples_2024-09-23.duckdb.gz'\n",
    "ncbi_duckdb_url = 'https://portal.nersc.gov/project/m3408/biosamples_duckdb/ncbi_biosamples.duckdb.gz'"
   ],
   "outputs": [],
   "execution_count": 11
  },
  {
   "cell_type": "code",
   "id": "51e5d41b02b19eec",
   "metadata": {
    "ExecuteTime": {
     "end_time": "2024-12-11T15:41:09.274446Z",
     "start_time": "2024-12-11T15:41:09.271147Z"
    }
   },
   "source": [
    "gold_data_url = \"https://gold.jgi.doe.gov/download?mode=site_excel\"\n",
    "gold_data_file_name = \"goldData.xlsx\" # goldData.xlsx: Microsoft Excel 2007+\n",
    "gold_csv_file_name = \"gold_biosamples.csv\"\n",
    "BIOSAMPLES_SHEET = \"Biosample\""
   ],
   "outputs": [],
   "execution_count": 12
  },
  {
   "cell_type": "code",
   "id": "e1d9f705fad2efa9",
   "metadata": {
    "ExecuteTime": {
     "end_time": "2024-12-11T15:41:09.431092Z",
     "start_time": "2024-12-11T15:41:09.428178Z"
    }
   },
   "source": "goldterms_semsql_url = \"https://s3.amazonaws.com/bbop-sqlite/goldterms.db.gz\"",
   "outputs": [],
   "execution_count": 13
  },
  {
   "metadata": {
    "ExecuteTime": {
     "end_time": "2024-12-11T15:41:09.659241Z",
     "start_time": "2024-12-11T15:41:09.655489Z"
    }
   },
   "cell_type": "code",
   "source": "all_nmdc_biosamples_file = 'all_nmdc_biosamples.json'",
   "id": "db6170cb9f3a6ca0",
   "outputs": [],
   "execution_count": 14
  },
  {
   "metadata": {},
   "cell_type": "markdown",
   "source": "# CURIe Constants",
   "id": "16e21c18886a373c"
  },
  {
   "metadata": {
    "ExecuteTime": {
     "end_time": "2024-12-11T15:41:10.003064Z",
     "start_time": "2024-12-11T15:41:09.999469Z"
    }
   },
   "cell_type": "code",
   "source": [
    "BIOME = 'ENVO:00000428'\n",
    "TERRESTRIAL_BIOME = 'ENVO:00000446'\n",
    "AQUATIC_BIOME = 'ENVO:00002030'\n",
    "ABP = 'ENVO:01000813'\n",
    "ENVIRONMENTAL_SYSTEM = 'ENVO:01000254'\n",
    "ENVIRONMENTAL_MATERIAL = 'ENVO:00010483'\n",
    "\n",
    "SOIL = 'ENVO:00001998'\n",
    "LIQUID_WATER = 'ENVO:00002006'\n",
    "WATER_ICE = 'ENVO:01000277'\n",
    "\n",
    "HUMAN_CONSTRUCTION = 'ENVO:00000070'\n",
    "BUILDING = 'ENVO:00000073'\n",
    "BUILDING_PART = 'ENVO:01000420'"
   ],
   "id": "73e52103eb69bbcc",
   "outputs": [],
   "execution_count": 15
  },
  {
   "metadata": {},
   "cell_type": "markdown",
   "source": "# Settings-based Queries",
   "id": "7ecec14181910236"
  },
  {
   "cell_type": "code",
   "id": "fb8c7caf28e64d10",
   "metadata": {
    "ExecuteTime": {
     "end_time": "2024-12-11T15:41:10.190791Z",
     "start_time": "2024-12-11T15:41:10.187764Z"
    }
   },
   "source": [
    "# todo could this have been done with a OAK query, eliminating the need to explicitly download the file?\n",
    "\n",
    "goldterms_envo_query = f\"\"\"\n",
    "SELECT\n",
    "\t*\n",
    "FROM\n",
    "\tstatements s\n",
    "WHERE\n",
    "\tpredicate in ('{\"', '\".join(gold_context_selectors)}')\"\"\""
   ],
   "outputs": [],
   "execution_count": 16
  },
  {
   "cell_type": "code",
   "id": "afd52cf83301de09",
   "metadata": {
    "ExecuteTime": {
     "end_time": "2024-12-11T15:41:10.397318Z",
     "start_time": "2024-12-11T15:41:10.394316Z"
    }
   },
   "source": [
    "ncbi_biosamples_per_annotation_query = f\"\"\"\n",
    "SELECT content, COUNT(1) AS count \n",
    "FROM attributes \n",
    "WHERE harmonized_name = '{ncbi_context_selector}' AND package_content like '%{ncbi_package_selector}'\n",
    "GROUP BY content\n",
    "ORDER BY COUNT(1) DESC\n",
    "\"\"\""
   ],
   "outputs": [],
   "execution_count": 17
  },
  {
   "metadata": {
    "ExecuteTime": {
     "end_time": "2024-12-11T15:41:10.591107Z",
     "start_time": "2024-12-11T15:41:10.588078Z"
    }
   },
   "cell_type": "code",
   "source": [
    "ncbi_bioprojects_per_annotation_query = f\"\"\"\n",
    "SELECT\n",
    "\ta.content,\n",
    "\tcount(DISTINCT l.content) AS count\n",
    "FROM\n",
    "\tmain.ATTRIBUTES a\n",
    "JOIN main.links l \n",
    "\tON\n",
    "\ta.id = l.id\n",
    "WHERE\n",
    "\tl.target = 'bioproject'\n",
    "\tAND harmonized_name = 'env_local_scale'\n",
    "\tAND package_content LIKE '%soil.6.0'\n",
    "GROUP BY\n",
    "\ta.content\n",
    "ORDER BY\n",
    "\tcount(DISTINCT l.content) DESC ;\n",
    "\"\"\""
   ],
   "id": "d82477b892c2a7a3",
   "outputs": [],
   "execution_count": 18
  },
  {
   "metadata": {
    "ExecuteTime": {
     "end_time": "2024-12-11T15:41:10.746523Z",
     "start_time": "2024-12-11T15:41:10.743893Z"
    }
   },
   "cell_type": "code",
   "source": "ncbi_X_per_annotation_query = ncbi_bioprojects_per_annotation_query",
   "id": "f86458549b99121b",
   "outputs": [],
   "execution_count": 19
  },
  {
   "metadata": {
    "ExecuteTime": {
     "end_time": "2024-12-11T15:41:11.041401Z",
     "start_time": "2024-12-11T15:41:11.037746Z"
    }
   },
   "cell_type": "code",
   "source": [
    "# and s1.subject = s1.stanza eliminates matches on blank node annotation rows (probably wouldn't change results but adds a little overhead)\n",
    "\n",
    "extension_query = f\"\"\"\n",
    "select\n",
    "\t\ts1.subject ,\n",
    "\t\ts2.predicate,\n",
    "\t\tCOALESCE (s2.\"object\",\n",
    "\ts2.\"value\") as content\n",
    "from\n",
    "\tstatements s1\n",
    "join statements s2 on \n",
    "\ts1.subject = s2.subject\n",
    "where\n",
    "\t{gold_first_where}\n",
    "\tand s1.predicate = 'rdfs:label'\n",
    "\tand s1.subject = s1.stanza\n",
    "\tand s2.predicate in ('mixs:env_broad', 'mixs:env_local', 'mixs:env_medium', 'mixs:mixs_extension', 'rdfs:label', 'mixs:other', 'mixs:anatomical_site', 'mixs:host_taxon') ;\n",
    "\"\"\"\n"
   ],
   "id": "8cdd3e6e17a2bac3",
   "outputs": [],
   "execution_count": 20
  },
  {
   "metadata": {},
   "cell_type": "markdown",
   "source": [
    "# Locally Defined Functions\n",
    "_Currently using locally-defined cache dictionaries_"
   ],
   "id": "6c4cf0d065a7de07"
  },
  {
   "cell_type": "code",
   "id": "38412bd611726160",
   "metadata": {
    "ExecuteTime": {
     "end_time": "2024-12-11T15:41:11.191542Z",
     "start_time": "2024-12-11T15:41:11.182004Z"
    }
   },
   "source": [
    "def predict_from_normalized_env_packages(df_raw, adapter):\n",
    "    # Apply the function to the relevant columns\n",
    "\n",
    "    df = df_raw.copy()\n",
    "\n",
    "    print(df.shape)\n",
    "    for column in ['env_broad_scale_id', 'env_local_scale_id', 'env_medium_id']:\n",
    "        df[f'{column}_ancestors'] = df[column].apply(lambda x: get_hierarchy_terms(x, adapter)['ancestors'])\n",
    "        df[f'{column}_descendants'] = df[column].apply(lambda x: get_hierarchy_terms(x, adapter)['descendants'])\n",
    "\n",
    "    # Vectorize each set of terms separately\n",
    "    broad_scale_ancestors = vectorize_terms(df, 'env_broad_scale_id_ancestors')\n",
    "    broad_scale_descendants = vectorize_terms(df, 'env_broad_scale_id_descendants')\n",
    "\n",
    "    local_scale_ancestors = vectorize_terms(df, 'env_local_scale_id_ancestors')\n",
    "    local_scale_descendants = vectorize_terms(df, 'env_local_scale_id_descendants')\n",
    "\n",
    "    medium_ancestors = vectorize_terms(df, 'env_medium_id_ancestors')\n",
    "    medium_descendants = vectorize_terms(df, 'env_medium_id_descendants')\n",
    "\n",
    "    # Combine all feature matrices\n",
    "    X = hstack([\n",
    "        broad_scale_ancestors,\n",
    "        broad_scale_descendants,\n",
    "        local_scale_ancestors,\n",
    "        local_scale_descendants,\n",
    "        medium_ancestors,\n",
    "        medium_descendants\n",
    "    ])\n",
    "\n",
    "    # Filter the DataFrame to only include non-null rows for the target column\n",
    "    df_filtered = df[df['normalized_env_package'].notnull() & (df['normalized_env_package'] != \"\")]\n",
    "\n",
    "    # Extract the target variable\n",
    "    y = df_filtered['normalized_env_package']\n",
    "\n",
    "    # Ensure X corresponds to the filtered rows\n",
    "    X_filtered = X[df_filtered.index]\n",
    "\n",
    "    # Split the data into training and testing sets\n",
    "    X_train, X_test, y_train, y_test = train_test_split(X_filtered, y, test_size=0.3, random_state=42)\n",
    "\n",
    "    # Train a Random Forest Classifier\n",
    "    clf = RandomForestClassifier(n_estimators=100, random_state=42)\n",
    "    clf.fit(X_train, y_train)\n",
    "\n",
    "    # Make predictions on the test set\n",
    "    y_pred = clf.predict(X_test)\n",
    "\n",
    "    # Evaluate the model\n",
    "    print(classification_report(y_test, y_pred))\n",
    "\n",
    "    # not determining confidence for each class nor saving any diagnostics any more\n",
    "\n",
    "    return clf.predict(X)"
   ],
   "outputs": [],
   "execution_count": 21
  },
  {
   "cell_type": "code",
   "id": "4515456aaeaa7980",
   "metadata": {
    "ExecuteTime": {
     "end_time": "2024-12-11T15:41:11.442146Z",
     "start_time": "2024-12-11T15:41:11.435882Z"
    }
   },
   "source": [
    "def get_hierarchy_terms(my_curie: str, adapter) -> dict:\n",
    "    \"\"\"\n",
    "    Extract ancestor and descendant terms from the ontology for a given CURIE,\n",
    "    using caching to improve performance and filtering by 'is_a' relationships.\n",
    "\n",
    "    Args:\n",
    "        my_curie (str): CURIE identifier for the ontology term.\n",
    "        adapter: Ontology adapter.\n",
    "\n",
    "    Returns:\n",
    "        dict: Dictionary containing lists of ancestor and descendant terms.\n",
    "    \"\"\"\n",
    "    if my_curie not in ancestor_cache:\n",
    "        try:\n",
    "            ancestors = list(adapter.ancestors(my_curie, predicates=[IS_A]))\n",
    "            ancestor_cache[my_curie] = [adapter.label(ancestor) for ancestor in ancestors if ancestor]\n",
    "        except Exception as my_e:\n",
    "            print(f\"Error retrieving ancestors for {my_curie}: {my_e}\")\n",
    "            ancestor_cache[my_curie] = []\n",
    "\n",
    "    if my_curie not in descendant_cache:\n",
    "        try:\n",
    "            descendants = list(adapter.descendants(my_curie, predicates=[IS_A]))\n",
    "            descendant_cache[my_curie] = [adapter.label(descendant) for descendant in descendants if descendant]\n",
    "        except Exception as my_e:\n",
    "            print(f\"Error retrieving descendants for {my_curie}: {my_e}\")\n",
    "            descendant_cache[my_curie] = []\n",
    "\n",
    "    return {\n",
    "        'ancestors': ancestor_cache[my_curie],\n",
    "        'descendants': descendant_cache[my_curie],\n",
    "    }"
   ],
   "outputs": [],
   "execution_count": 22
  },
  {
   "metadata": {},
   "cell_type": "markdown",
   "source": "# Procedural Code Starts Here",
   "id": "1423fbbafdf5e167"
  },
  {
   "cell_type": "code",
   "id": "44fb14c1b01ac34c",
   "metadata": {
    "ExecuteTime": {
     "end_time": "2024-12-11T15:41:11.606510Z",
     "start_time": "2024-12-11T15:41:11.602117Z"
    }
   },
   "source": [
    "# Determine the filenames and target directory for the NCBI DuckDB\n",
    "ncbi_compressed_filename = urlparse(ncbi_duckdb_url).path.split('/')[-1]\n",
    "ncbi_filename = os.path.splitext(ncbi_compressed_filename)[0]\n",
    "ncbi_compressed_file_path = os.path.join(ncbi_compressed_filename)\n",
    "ncbi_uncompressed_file_path = os.path.join(ncbi_filename)\n"
   ],
   "outputs": [],
   "execution_count": 23
  },
  {
   "cell_type": "code",
   "id": "353ba83ec3059ac5",
   "metadata": {
    "ExecuteTime": {
     "end_time": "2024-12-11T15:41:11.849653Z",
     "start_time": "2024-12-11T15:41:11.843295Z"
    }
   },
   "source": [
    "if os.path.isfile(ncbi_uncompressed_file_path):\n",
    "    print(f\"{ncbi_uncompressed_file_path} is already present in the current working directory.\")\n",
    "else:\n",
    "    if os.path.isfile(ncbi_compressed_file_path):\n",
    "        print(f\"{ncbi_compressed_file_path} is already present in the current working directory.\")\n",
    "    else:\n",
    "        print(f\"{ncbi_compressed_file_path} needs to be downloaded\")\n",
    "        ncbi_response = requests.get(ncbi_duckdb_url)\n",
    "        with open(ncbi_compressed_file_path, \"wb\") as f:\n",
    "            f.write(ncbi_response.content)\n",
    "        # ~ 2 minutes @ 250 Mbps\n",
    "    \n",
    "    # Unzip the compressed file and save the extracted file in target directory\n",
    "    print(f\"{ncbi_compressed_file_path} needs to be unpacked\")\n",
    "    with gzip.open(ncbi_compressed_file_path, \"rb\") as f_in:\n",
    "        with open(ncbi_uncompressed_file_path, \"wb\") as f_out:\n",
    "            shutil.copyfileobj(f_in, f_out)\n",
    "\n",
    "    # ~ 2 minutes"
   ],
   "outputs": [
    {
     "name": "stdout",
     "output_type": "stream",
     "text": [
      "ncbi_biosamples.duckdb is already present in the current working directory.\n"
     ]
    }
   ],
   "execution_count": 24
  },
  {
   "cell_type": "code",
   "id": "63f815cbfb9b7a6b",
   "metadata": {
    "ExecuteTime": {
     "end_time": "2024-12-11T15:41:12.015452Z",
     "start_time": "2024-12-11T15:41:11.972700Z"
    }
   },
   "source": [
    "ncbi_conn = duckdb.connect(database=ncbi_uncompressed_file_path, read_only=True)"
   ],
   "outputs": [],
   "execution_count": 25
  },
  {
   "cell_type": "code",
   "id": "198256f26bc060e3",
   "metadata": {
    "ExecuteTime": {
     "end_time": "2024-12-11T15:41:12.298494Z",
     "start_time": "2024-12-11T15:41:12.254118Z"
    }
   },
   "source": [
    "envo_adapter = get_adapter(envo_adapter_string)"
   ],
   "outputs": [],
   "execution_count": 26
  },
  {
   "metadata": {},
   "cell_type": "markdown",
   "source": "# Anchor aka bootstrapping classes",
   "id": "491e3ded2d1fba45"
  },
  {
   "cell_type": "code",
   "id": "e863dc687ce4be5c",
   "metadata": {
    "ExecuteTime": {
     "end_time": "2024-12-11T15:41:13.086537Z",
     "start_time": "2024-12-11T15:41:12.499259Z"
    }
   },
   "source": "anchor_descendants = get_curie_descendants_label_dict(semantic_anchor, [IS_A], envo_adapter)",
   "outputs": [],
   "execution_count": 27
  },
  {
   "cell_type": "code",
   "id": "394abb56c4987eee",
   "metadata": {
    "ExecuteTime": {
     "end_time": "2024-12-11T15:41:13.092591Z",
     "start_time": "2024-12-11T15:41:13.088932Z"
    }
   },
   "source": [
    "anchor_descendants_lod = curie_descendants_label_dict_to_lod(anchor_descendants)"
   ],
   "outputs": [],
   "execution_count": 28
  },
  {
   "cell_type": "code",
   "id": "eea1a3f8395da0d7",
   "metadata": {
    "ExecuteTime": {
     "end_time": "2024-12-11T15:41:13.099014Z",
     "start_time": "2024-12-11T15:41:13.094834Z"
    }
   },
   "source": [
    "anchor_descendants_frame = curie_descendants_label_lod_to_df(anchor_descendants_lod)"
   ],
   "outputs": [],
   "execution_count": 29
  },
  {
   "cell_type": "code",
   "id": "f85faf81e0a55a42",
   "metadata": {
    "ExecuteTime": {
     "end_time": "2024-12-11T15:41:13.241800Z",
     "start_time": "2024-12-11T15:41:13.225381Z"
    }
   },
   "source": [
    "anchor_descendants_frame"
   ],
   "outputs": [
    {
     "data": {
      "text/plain": [
       "                curie                       label\n",
       "0     FOODON:00001838   fermented cereal beverage\n",
       "1       ENVO:02000111                  copper ore\n",
       "2       ENVO:01000480                       glass\n",
       "3     FOODON:03400865              soup (eurofir)\n",
       "4     FOODON:00001279     cake icing food product\n",
       "...               ...                         ...\n",
       "1095    ENVO:01001117              poultry manure\n",
       "1096    ENVO:00002117  creosote contaminated soil\n",
       "1097    ENVO:01001121                plant matter\n",
       "1098    ENVO:03605000          periphytic biofilm\n",
       "1099    ENVO:00001998                        soil\n",
       "\n",
       "[1100 rows x 2 columns]"
      ],
      "text/html": [
       "<div>\n",
       "<style scoped>\n",
       "    .dataframe tbody tr th:only-of-type {\n",
       "        vertical-align: middle;\n",
       "    }\n",
       "\n",
       "    .dataframe tbody tr th {\n",
       "        vertical-align: top;\n",
       "    }\n",
       "\n",
       "    .dataframe thead th {\n",
       "        text-align: right;\n",
       "    }\n",
       "</style>\n",
       "<table border=\"1\" class=\"dataframe\">\n",
       "  <thead>\n",
       "    <tr style=\"text-align: right;\">\n",
       "      <th></th>\n",
       "      <th>curie</th>\n",
       "      <th>label</th>\n",
       "    </tr>\n",
       "  </thead>\n",
       "  <tbody>\n",
       "    <tr>\n",
       "      <th>0</th>\n",
       "      <td>FOODON:00001838</td>\n",
       "      <td>fermented cereal beverage</td>\n",
       "    </tr>\n",
       "    <tr>\n",
       "      <th>1</th>\n",
       "      <td>ENVO:02000111</td>\n",
       "      <td>copper ore</td>\n",
       "    </tr>\n",
       "    <tr>\n",
       "      <th>2</th>\n",
       "      <td>ENVO:01000480</td>\n",
       "      <td>glass</td>\n",
       "    </tr>\n",
       "    <tr>\n",
       "      <th>3</th>\n",
       "      <td>FOODON:03400865</td>\n",
       "      <td>soup (eurofir)</td>\n",
       "    </tr>\n",
       "    <tr>\n",
       "      <th>4</th>\n",
       "      <td>FOODON:00001279</td>\n",
       "      <td>cake icing food product</td>\n",
       "    </tr>\n",
       "    <tr>\n",
       "      <th>...</th>\n",
       "      <td>...</td>\n",
       "      <td>...</td>\n",
       "    </tr>\n",
       "    <tr>\n",
       "      <th>1095</th>\n",
       "      <td>ENVO:01001117</td>\n",
       "      <td>poultry manure</td>\n",
       "    </tr>\n",
       "    <tr>\n",
       "      <th>1096</th>\n",
       "      <td>ENVO:00002117</td>\n",
       "      <td>creosote contaminated soil</td>\n",
       "    </tr>\n",
       "    <tr>\n",
       "      <th>1097</th>\n",
       "      <td>ENVO:01001121</td>\n",
       "      <td>plant matter</td>\n",
       "    </tr>\n",
       "    <tr>\n",
       "      <th>1098</th>\n",
       "      <td>ENVO:03605000</td>\n",
       "      <td>periphytic biofilm</td>\n",
       "    </tr>\n",
       "    <tr>\n",
       "      <th>1099</th>\n",
       "      <td>ENVO:00001998</td>\n",
       "      <td>soil</td>\n",
       "    </tr>\n",
       "  </tbody>\n",
       "</table>\n",
       "<p>1100 rows × 2 columns</p>\n",
       "</div>"
      ]
     },
     "execution_count": 30,
     "metadata": {},
     "output_type": "execute_result"
    }
   ],
   "execution_count": 30
  },
  {
   "cell_type": "markdown",
   "id": "857f1f1efd4635b9",
   "metadata": {},
   "source": "# Classes from the reference enumeration"
  },
  {
   "cell_type": "code",
   "id": "1432828ce7983148",
   "metadata": {
    "ExecuteTime": {
     "end_time": "2024-12-11T15:41:16.708967Z",
     "start_time": "2024-12-11T15:41:13.331304Z"
    }
   },
   "source": [
    "sv = get_schemaview_from_source(previous_submission_schema_url)"
   ],
   "outputs": [],
   "execution_count": 31
  },
  {
   "cell_type": "code",
   "id": "5841e0d6bc3d3c40",
   "metadata": {
    "ExecuteTime": {
     "end_time": "2024-12-11T15:41:16.716206Z",
     "start_time": "2024-12-11T15:41:16.711150Z"
    }
   },
   "source": [
    "# todo break out slow steps into its own cell\n",
    "\n",
    "try:\n",
    "    CONTEXT_ENUM_def = sv.get_enum(CONTEXT_ENUM)\n",
    "    context_pvs_keys = list(CONTEXT_ENUM_def.permissible_values.keys())\n",
    "except AttributeError as e:\n",
    "    # Handle the AttributeError\n",
    "    print(f\"An AttributeError occurred: {e}\")\n",
    "    context_pvs_keys =[]\n",
    "    "
   ],
   "outputs": [
    {
     "name": "stdout",
     "output_type": "stream",
     "text": [
      "An AttributeError occurred: 'NoneType' object has no attribute 'permissible_values'\n"
     ]
    }
   ],
   "execution_count": 32
  },
  {
   "metadata": {
    "ExecuteTime": {
     "end_time": "2024-12-11T15:41:16.721656Z",
     "start_time": "2024-12-11T15:41:16.718270Z"
    }
   },
   "cell_type": "code",
   "source": "print(context_pvs_keys)",
   "id": "e47067e5b704ee70",
   "outputs": [
    {
     "name": "stdout",
     "output_type": "stream",
     "text": [
      "[]\n"
     ]
    }
   ],
   "execution_count": 33
  },
  {
   "cell_type": "code",
   "id": "79282f64358e1608",
   "metadata": {
    "ExecuteTime": {
     "end_time": "2024-12-11T15:41:16.727624Z",
     "start_time": "2024-12-11T15:41:16.724683Z"
    }
   },
   "source": [
    "initially_parsed_context_pvs = parse_hierarchically_underscored_strings(context_pvs_keys)"
   ],
   "outputs": [],
   "execution_count": 34
  },
  {
   "cell_type": "code",
   "id": "5a9492fa605534f2",
   "metadata": {
    "ExecuteTime": {
     "end_time": "2024-12-11T15:41:16.731969Z",
     "start_time": "2024-12-11T15:41:16.729272Z"
    }
   },
   "source": [
    "deduped_context_pvs = dedupe_underscoreless_pvs(initially_parsed_context_pvs)"
   ],
   "outputs": [],
   "execution_count": 35
  },
  {
   "cell_type": "code",
   "id": "214c2e6c9a7089a8",
   "metadata": {
    "ExecuteTime": {
     "end_time": "2024-12-11T15:41:16.736392Z",
     "start_time": "2024-12-11T15:41:16.733585Z"
    }
   },
   "source": [
    "pv_validation_results = validate_curie_label_list_dict(deduped_context_pvs, envo_adapter, print_flag=True)"
   ],
   "outputs": [],
   "execution_count": 36
  },
  {
   "cell_type": "code",
   "id": "e84872aa4f8a9313",
   "metadata": {
    "ExecuteTime": {
     "end_time": "2024-12-11T15:41:16.741621Z",
     "start_time": "2024-12-11T15:41:16.737997Z"
    }
   },
   "source": [
    "pv_validation_results"
   ],
   "outputs": [
    {
     "data": {
      "text/plain": [
       "{'problems': [], 'valids': []}"
      ]
     },
     "execution_count": 37,
     "metadata": {},
     "output_type": "execute_result"
    }
   ],
   "execution_count": 37
  },
  {
   "cell_type": "markdown",
   "id": "363063c37a433d70",
   "metadata": {},
   "source": "# Get the CURIEs used in NMDC Biosample annotations"
  },
  {
   "cell_type": "code",
   "id": "656e23e9eab154b0",
   "metadata": {
    "ExecuteTime": {
     "end_time": "2024-12-11T15:41:17.145676Z",
     "start_time": "2024-12-11T15:41:16.743141Z"
    }
   },
   "source": [
    "if os.path.isfile(all_nmdc_biosamples_file):\n",
    "    print(f\"{all_nmdc_biosamples_file} is present in the current working directory and will be read into all_nmdc_biosamples.\")\n",
    "    # with open(all_nmdc_biosamples_file, 'r') as file:\n",
    "    #     all_nmdc_biosamples = yaml.full_load(file)\n",
    "    # read as json\n",
    "    with open(all_nmdc_biosamples_file, 'r') as f:\n",
    "        all_nmdc_biosamples = json.load(f)\n",
    "\n",
    "else:\n",
    "    print(f\"All NMDC Biosamples need to be fetched and saved to {all_nmdc_biosamples_file}\")\n",
    "    all_nmdc_biosamples = get_docs_from_nmdc_collection(NMDC_RUNTIME_BASE_URL,\n",
    "                                               BIOSAMPLE_SET_COLLECTION)\n",
    "    # with open(all_nmdc_biosamples_file, 'w') as file:\n",
    "    #     documents = yaml.dump(all_nmdc_biosamples, file)\n",
    "    # save as json\n",
    "    with open(all_nmdc_biosamples_file, 'w') as f:\n",
    "        json.dump(all_nmdc_biosamples, f)\n",
    "\n",
    "# this saves network traffic. could use JSON for faster performance. \n",
    "# 1 minute for network fetch and JSON write?!\n",
    "# 1 minute for yaml read\n",
    "# instantaneous for JSON read?"
   ],
   "outputs": [
    {
     "name": "stdout",
     "output_type": "stream",
     "text": [
      "all_nmdc_biosamples.json is present in the current working directory and will be read into all_nmdc_biosamples.\n"
     ]
    }
   ],
   "execution_count": 38
  },
  {
   "metadata": {},
   "cell_type": "markdown",
   "source": "## Inference of env_package annotations ",
   "id": "1566ce7dbafcfc71"
  },
  {
   "cell_type": "code",
   "id": "6a17544640272855",
   "metadata": {
    "ExecuteTime": {
     "end_time": "2024-12-11T15:41:17.152967Z",
     "start_time": "2024-12-11T15:41:17.147305Z"
    }
   },
   "source": [
    "env_pacakge_overrides = tsv_to_dict_of_dicts(env_package_override_file, 'id')"
   ],
   "outputs": [],
   "execution_count": 39
  },
  {
   "cell_type": "code",
   "id": "66c61cf229a6545c",
   "metadata": {
    "ExecuteTime": {
     "end_time": "2024-12-11T15:41:17.161557Z",
     "start_time": "2024-12-11T15:41:17.158462Z"
    }
   },
   "source": [
    "# todo show env_pacakge_overrides as a data frame\n",
    "#   with some other columns for context?"
   ],
   "outputs": [],
   "execution_count": 40
  },
  {
   "cell_type": "code",
   "id": "7045884ea68d0351",
   "metadata": {
    "ExecuteTime": {
     "end_time": "2024-12-11T15:41:25.895847Z",
     "start_time": "2024-12-11T15:41:17.163154Z"
    }
   },
   "source": [
    "biosample_contexts_lod = biosamples_lod_context_extractor(all_nmdc_biosamples, envo_adapter,\n",
    "                                                          my_env_pacakge_overrides=env_pacakge_overrides)\n",
    "\n",
    "# ~ 10 seconds, lots of logging"
   ],
   "outputs": [
    {
     "name": "stdout",
     "output_type": "stream",
     "text": [
      "Overriding env_package for biosample nmdc:bsm-11-0k8nkx16 from  to plant-associated\n",
      "Overriding env_package for biosample nmdc:bsm-11-19v98823 from  to plant-associated\n",
      "Overriding env_package for biosample nmdc:bsm-11-1yvac190 from  to plant-associated\n",
      "Overriding env_package for biosample nmdc:bsm-11-28kgw077 from  to plant-associated\n",
      "Overriding env_package for biosample nmdc:bsm-11-2hswww54 from  to hydrocarbon resources-fluids_swabs\n",
      "Overriding env_package for biosample nmdc:bsm-11-34przm31 from  to plant-associated\n",
      "Overriding env_package for biosample nmdc:bsm-11-35m0rm03 from  to hydrocarbon resources-fluids_swabs\n",
      "Overriding env_package for biosample nmdc:bsm-11-3636w778 from  to plant-associated\n",
      "Overriding env_package for biosample nmdc:bsm-11-3nffqc45 from  to plant-associated\n",
      "Overriding env_package for biosample nmdc:bsm-11-3nhng665 from  to plant-associated\n",
      "Overriding env_package for biosample nmdc:bsm-11-3r4g4610 from  to hydrocarbon resources-fluids_swabs\n",
      "Overriding env_package for biosample nmdc:bsm-11-3tr7f795 from  to plant-associated\n",
      "Overriding env_package for biosample nmdc:bsm-11-3xc5ft48 from  to plant-associated\n",
      "Overriding env_package for biosample nmdc:bsm-11-3xthwx28 from  to plant-associated\n",
      "Overriding env_package for biosample nmdc:bsm-11-42c9kj17 from  to plant-associated\n",
      "Overriding env_package for biosample nmdc:bsm-11-43rwvm93 from  to plant-associated\n",
      "Overriding env_package for biosample nmdc:bsm-11-4838sk73 from  to plant-associated\n",
      "Overriding env_package for biosample nmdc:bsm-11-5ak8ja54 from  to plant-associated\n",
      "Overriding env_package for biosample nmdc:bsm-11-5g2kjf44 from  to plant-associated\n",
      "Overriding env_package for biosample nmdc:bsm-11-5j742c82 from  to plant-associated\n",
      "Overriding env_package for biosample nmdc:bsm-11-5qq80d09 from  to plant-associated\n",
      "Overriding env_package for biosample nmdc:bsm-11-5rgay328 from  to plant-associated\n",
      "Overriding env_package for biosample nmdc:bsm-11-5w4ba396 from  to plant-associated\n",
      "Overriding env_package for biosample nmdc:bsm-11-61xfks69 from  to plant-associated\n",
      "Overriding env_package for biosample nmdc:bsm-11-62fxv990 from  to plant-associated\n",
      "Overriding env_package for biosample nmdc:bsm-11-674m9194 from  to plant-associated\n",
      "Overriding env_package for biosample nmdc:bsm-11-678ndj04 from  to plant-associated\n",
      "Overriding env_package for biosample nmdc:bsm-11-69g1rw32 from  to plant-associated\n",
      "Overriding env_package for biosample nmdc:bsm-11-6k8cmy53 from  to plant-associated\n",
      "Overriding env_package for biosample nmdc:bsm-11-6m5dma62 from  to plant-associated\n",
      "Overriding env_package for biosample nmdc:bsm-11-6qgwc522 from  to plant-associated\n",
      "Overriding env_package for biosample nmdc:bsm-11-6xa4vj59 from  to plant-associated\n",
      "Overriding env_package for biosample nmdc:bsm-11-6y26bz06 from  to plant-associated\n",
      "Overriding env_package for biosample nmdc:bsm-11-6ya0cs71 from  to plant-associated\n",
      "Overriding env_package for biosample nmdc:bsm-11-6z11g163 from  to plant-associated\n",
      "Overriding env_package for biosample nmdc:bsm-11-73zqmh40 from  to plant-associated\n",
      "Overriding env_package for biosample nmdc:bsm-11-766dwa91 from  to plant-associated\n",
      "Overriding env_package for biosample nmdc:bsm-11-7b566r47 from  to hydrocarbon resources-fluids_swabs\n",
      "Overriding env_package for biosample nmdc:bsm-11-7cfwd964 from  to plant-associated\n",
      "Overriding env_package for biosample nmdc:bsm-11-7pyrek52 from  to plant-associated\n",
      "Overriding env_package for biosample nmdc:bsm-11-7yg2ne22 from  to plant-associated\n",
      "Overriding env_package for biosample nmdc:bsm-11-7z1qvf63 from  to plant-associated\n",
      "Overriding env_package for biosample nmdc:bsm-11-82qw5v38 from  to plant-associated\n",
      "Overriding env_package for biosample nmdc:bsm-11-899bm454 from  to plant-associated\n",
      "Overriding env_package for biosample nmdc:bsm-11-8aktkq28 from  to plant-associated\n",
      "Overriding env_package for biosample nmdc:bsm-11-8bewbp90 from  to plant-associated\n",
      "Overriding env_package for biosample nmdc:bsm-11-8cgpqn03 from  to plant-associated\n",
      "Overriding env_package for biosample nmdc:bsm-11-8e43d898 from  to plant-associated\n",
      "Overriding env_package for biosample nmdc:bsm-11-8g7xbe66 from  to plant-associated\n",
      "Overriding env_package for biosample nmdc:bsm-11-91bdea61 from  to plant-associated\n",
      "Overriding env_package for biosample nmdc:bsm-11-94c2xj88 from  to plant-associated\n",
      "Overriding env_package for biosample nmdc:bsm-11-9c0hk014 from  to plant-associated\n",
      "Overriding env_package for biosample nmdc:bsm-11-9f2ahd94 from  to plant-associated\n",
      "Overriding env_package for biosample nmdc:bsm-11-a6p0kd54 from  to hydrocarbon resources-fluids_swabs\n",
      "Overriding env_package for biosample nmdc:bsm-11-acehgb61 from  to plant-associated\n",
      "Overriding env_package for biosample nmdc:bsm-11-acfvxq24 from  to plant-associated\n",
      "Overriding env_package for biosample nmdc:bsm-11-aesqd647 from  to plant-associated\n",
      "Overriding env_package for biosample nmdc:bsm-11-af8kqq09 from  to hydrocarbon resources-fluids_swabs\n",
      "Overriding env_package for biosample nmdc:bsm-11-ahfq0n74 from  to plant-associated\n",
      "Overriding env_package for biosample nmdc:bsm-11-b2w6cr26 from  to plant-associated\n",
      "Overriding env_package for biosample nmdc:bsm-11-b7pv2a25 from  to plant-associated\n",
      "Overriding env_package for biosample nmdc:bsm-11-b9cjnj29 from  to plant-associated\n",
      "Overriding env_package for biosample nmdc:bsm-11-bcns6e03 from  to plant-associated\n",
      "Overriding env_package for biosample nmdc:bsm-11-bgar5122 from  to plant-associated\n",
      "Overriding env_package for biosample nmdc:bsm-11-bja22k98 from  to plant-associated\n",
      "Overriding env_package for biosample nmdc:bsm-11-bm9haf23 from  to plant-associated\n",
      "Overriding env_package for biosample nmdc:bsm-11-bqp0m764 from  to plant-associated\n",
      "Overriding env_package for biosample nmdc:bsm-11-byzpm179 from  to hydrocarbon resources-fluids_swabs\n",
      "Overriding env_package for biosample nmdc:bsm-11-c12hyq86 from  to plant-associated\n",
      "Overriding env_package for biosample nmdc:bsm-11-c52npq37 from  to plant-associated\n",
      "Overriding env_package for biosample nmdc:bsm-11-c756vg97 from  to plant-associated\n",
      "Overriding env_package for biosample nmdc:bsm-11-can3rz84 from  to plant-associated\n",
      "Overriding env_package for biosample nmdc:bsm-11-cjp6kd42 from  to plant-associated\n",
      "Overriding env_package for biosample nmdc:bsm-11-ck98jg55 from  to plant-associated\n",
      "Overriding env_package for biosample nmdc:bsm-11-cqbpqf62 from  to plant-associated\n",
      "Overriding env_package for biosample nmdc:bsm-11-cv5vxb38 from  to plant-associated\n",
      "Overriding env_package for biosample nmdc:bsm-11-cvqsze66 from  to plant-associated\n",
      "Overriding env_package for biosample nmdc:bsm-11-cxprmv88 from  to plant-associated\n",
      "Overriding env_package for biosample nmdc:bsm-11-cz68sy30 from  to plant-associated\n",
      "Overriding env_package for biosample nmdc:bsm-11-d8cgz835 from  to plant-associated\n",
      "Overriding env_package for biosample nmdc:bsm-11-djqze645 from  to plant-associated\n",
      "Overriding env_package for biosample nmdc:bsm-11-dppkv536 from  to plant-associated\n",
      "Overriding env_package for biosample nmdc:bsm-11-dqnfvd06 from  to plant-associated\n",
      "Overriding env_package for biosample nmdc:bsm-11-dtyb1w45 from  to plant-associated\n",
      "Overriding env_package for biosample nmdc:bsm-11-dva76848 from  to plant-associated\n",
      "Overriding env_package for biosample nmdc:bsm-11-dz264p50 from  to plant-associated\n",
      "Overriding env_package for biosample nmdc:bsm-11-e0rz6p82 from  to plant-associated\n",
      "Overriding env_package for biosample nmdc:bsm-11-e747ch69 from  to plant-associated\n",
      "Overriding env_package for biosample nmdc:bsm-11-epzqzg45 from  to plant-associated\n",
      "Overriding env_package for biosample nmdc:bsm-11-evfbfp31 from  to plant-associated\n",
      "Overriding env_package for biosample nmdc:bsm-11-f8tzvk82 from  to plant-associated\n",
      "Overriding env_package for biosample nmdc:bsm-11-fbm8fa50 from  to hydrocarbon resources-fluids_swabs\n",
      "Overriding env_package for biosample nmdc:bsm-11-feynq214 from  to plant-associated\n",
      "Overriding env_package for biosample nmdc:bsm-11-fgjpsy56 from  to plant-associated\n",
      "Overriding env_package for biosample nmdc:bsm-11-fm4p4558 from  to plant-associated\n",
      "Overriding env_package for biosample nmdc:bsm-11-fqchmc77 from  to hydrocarbon resources-fluids_swabs\n",
      "Overriding env_package for biosample nmdc:bsm-11-fy3j8w19 from  to plant-associated\n",
      "Overriding env_package for biosample nmdc:bsm-11-fyey4107 from  to plant-associated\n",
      "Overriding env_package for biosample nmdc:bsm-11-fzvzb345 from  to plant-associated\n",
      "Overriding env_package for biosample nmdc:bsm-11-g35dnf26 from  to plant-associated\n",
      "Overriding env_package for biosample nmdc:bsm-11-g3r2dm95 from  to plant-associated\n",
      "Overriding env_package for biosample nmdc:bsm-11-g4my3419 from  to plant-associated\n",
      "Overriding env_package for biosample nmdc:bsm-11-g4rxzh95 from  to plant-associated\n",
      "Overriding env_package for biosample nmdc:bsm-11-gch9pp73 from  to plant-associated\n",
      "Overriding env_package for biosample nmdc:bsm-11-gd31q856 from  to plant-associated\n",
      "Overriding env_package for biosample nmdc:bsm-11-gnbsqd30 from  to hydrocarbon resources-fluids_swabs\n",
      "Overriding env_package for biosample nmdc:bsm-11-gvp5zp51 from  to hydrocarbon resources-fluids_swabs\n",
      "Overriding env_package for biosample nmdc:bsm-11-gwx12029 from  to plant-associated\n",
      "Overriding env_package for biosample nmdc:bsm-11-h2k7nv93 from  to plant-associated\n",
      "Overriding env_package for biosample nmdc:bsm-11-h3e54f51 from  to plant-associated\n",
      "Overriding env_package for biosample nmdc:bsm-11-h96d6881 from  to plant-associated\n",
      "Overriding env_package for biosample nmdc:bsm-11-ht2c1k71 from  to plant-associated\n",
      "Overriding env_package for biosample nmdc:bsm-11-ht2v0s47 from  to plant-associated\n",
      "Overriding env_package for biosample nmdc:bsm-11-hv1hv533 from  to plant-associated\n",
      "Overriding env_package for biosample nmdc:bsm-11-j1bay453 from  to plant-associated\n",
      "Overriding env_package for biosample nmdc:bsm-11-j1hqcz15 from  to plant-associated\n",
      "Overriding env_package for biosample nmdc:bsm-11-j2pfz414 from  to plant-associated\n",
      "Overriding env_package for biosample nmdc:bsm-11-j5y27f16 from  to plant-associated\n",
      "Overriding env_package for biosample nmdc:bsm-11-j6h8pw46 from  to plant-associated\n",
      "Overriding env_package for biosample nmdc:bsm-11-j6j1p639 from  to plant-associated\n",
      "Overriding env_package for biosample nmdc:bsm-11-jjchgw36 from  to plant-associated\n",
      "Overriding env_package for biosample nmdc:bsm-11-jp678560 from  to plant-associated\n",
      "Overriding env_package for biosample nmdc:bsm-11-jq2e3v76 from  to plant-associated\n",
      "Overriding env_package for biosample nmdc:bsm-11-jx6ar740 from  to hydrocarbon resources-fluids_swabs\n",
      "Overriding env_package for biosample nmdc:bsm-11-jxazjs92 from  to plant-associated\n",
      "Overriding env_package for biosample nmdc:bsm-11-jy6ece20 from  to plant-associated\n",
      "Overriding env_package for biosample nmdc:bsm-11-k0vz1j87 from  to plant-associated\n",
      "Overriding env_package for biosample nmdc:bsm-11-k1twxb65 from  to plant-associated\n",
      "Overriding env_package for biosample nmdc:bsm-11-k9192006 from  to plant-associated\n",
      "Overriding env_package for biosample nmdc:bsm-11-kdja3v28 from  to plant-associated\n",
      "Overriding env_package for biosample nmdc:bsm-11-kesw6757 from  to plant-associated\n",
      "Overriding env_package for biosample nmdc:bsm-11-kmpwgz16 from  to hydrocarbon resources-fluids_swabs\n",
      "Overriding env_package for biosample nmdc:bsm-11-kqbbyb62 from  to hydrocarbon resources-fluids_swabs\n",
      "Overriding env_package for biosample nmdc:bsm-11-krcjqt76 from  to plant-associated\n",
      "Overriding env_package for biosample nmdc:bsm-11-kv966g71 from  to hydrocarbon resources-fluids_swabs\n",
      "Overriding env_package for biosample nmdc:bsm-11-m0h9cb45 from  to plant-associated\n",
      "Overriding env_package for biosample nmdc:bsm-11-m4e83773 from  to plant-associated\n",
      "Overriding env_package for biosample nmdc:bsm-11-m4p1ck60 from  to plant-associated\n",
      "Overriding env_package for biosample nmdc:bsm-11-m5prkp97 from  to hydrocarbon resources-fluids_swabs\n",
      "Overriding env_package for biosample nmdc:bsm-11-m69k6p77 from  to hydrocarbon resources-fluids_swabs\n",
      "Overriding env_package for biosample nmdc:bsm-11-m9k8tx16 from  to plant-associated\n",
      "Overriding env_package for biosample nmdc:bsm-11-ma7ry826 from  to plant-associated\n",
      "Overriding env_package for biosample nmdc:bsm-11-mb9s8c17 from  to plant-associated\n",
      "Overriding env_package for biosample nmdc:bsm-11-mbcv4b48 from  to plant-associated\n",
      "Overriding env_package for biosample nmdc:bsm-11-n2a7p974 from  to plant-associated\n",
      "Overriding env_package for biosample nmdc:bsm-11-n6vwc542 from  to plant-associated\n",
      "Overriding env_package for biosample nmdc:bsm-11-n8t7zs15 from  to plant-associated\n",
      "Overriding env_package for biosample nmdc:bsm-11-n9sx1a80 from  to plant-associated\n",
      "Overriding env_package for biosample nmdc:bsm-11-nher1m25 from  to hydrocarbon resources-fluids_swabs\n",
      "Overriding env_package for biosample nmdc:bsm-11-nm187g36 from  to plant-associated\n",
      "Overriding env_package for biosample nmdc:bsm-11-nr7vje40 from  to plant-associated\n",
      "Overriding env_package for biosample nmdc:bsm-11-nrkha596 from  to plant-associated\n",
      "Overriding env_package for biosample nmdc:bsm-11-nwh9ez71 from  to plant-associated\n",
      "Overriding env_package for biosample nmdc:bsm-11-nx7zwq61 from  to plant-associated\n",
      "Overriding env_package for biosample nmdc:bsm-11-p4wss361 from  to plant-associated\n",
      "Overriding env_package for biosample nmdc:bsm-11-p9j7rw40 from  to plant-associated\n",
      "Overriding env_package for biosample nmdc:bsm-11-pebqj065 from  to plant-associated\n",
      "Overriding env_package for biosample nmdc:bsm-11-pgmhxj86 from  to plant-associated\n",
      "Overriding env_package for biosample nmdc:bsm-11-pgxc4f08 from  to plant-associated\n",
      "Overriding env_package for biosample nmdc:bsm-11-ppp4fk41 from  to plant-associated\n",
      "Overriding env_package for biosample nmdc:bsm-11-pq105b36 from  to plant-associated\n",
      "Overriding env_package for biosample nmdc:bsm-11-pvr0ez88 from  to plant-associated\n",
      "Overriding env_package for biosample nmdc:bsm-11-pygdem51 from  to plant-associated\n",
      "Overriding env_package for biosample nmdc:bsm-11-q3qsx507 from  to plant-associated\n",
      "Overriding env_package for biosample nmdc:bsm-11-q3sa0t28 from  to plant-associated\n",
      "Overriding env_package for biosample nmdc:bsm-11-q94v7385 from  to plant-associated\n",
      "Overriding env_package for biosample nmdc:bsm-11-qam3hk28 from  to plant-associated\n",
      "Overriding env_package for biosample nmdc:bsm-11-qe13q836 from  to plant-associated\n",
      "Overriding env_package for biosample nmdc:bsm-11-qg6kxr61 from  to plant-associated\n",
      "Overriding env_package for biosample nmdc:bsm-11-qhq2kh40 from  to plant-associated\n",
      "Overriding env_package for biosample nmdc:bsm-11-qms4zn61 from  to plant-associated\n",
      "Overriding env_package for biosample nmdc:bsm-11-qqc8e352 from  to plant-associated\n",
      "Overriding env_package for biosample nmdc:bsm-11-qvm0vt03 from  to plant-associated\n",
      "Overriding env_package for biosample nmdc:bsm-11-qy2fef59 from  to plant-associated\n",
      "Overriding env_package for biosample nmdc:bsm-11-qzncy838 from  to plant-associated\n",
      "Overriding env_package for biosample nmdc:bsm-11-r3b0ak56 from  to plant-associated\n",
      "Overriding env_package for biosample nmdc:bsm-11-r3tm7493 from  to plant-associated\n",
      "Overriding env_package for biosample nmdc:bsm-11-r4kwpw90 from  to plant-associated\n",
      "Overriding env_package for biosample nmdc:bsm-11-r7k97q10 from  to plant-associated\n",
      "Overriding env_package for biosample nmdc:bsm-11-rk62cv25 from  to plant-associated\n",
      "Overriding env_package for biosample nmdc:bsm-11-rpj4zm44 from  to plant-associated\n",
      "Overriding env_package for biosample nmdc:bsm-11-rzz0z710 from  to plant-associated\n",
      "Overriding env_package for biosample nmdc:bsm-11-s6r1q327 from  to plant-associated\n",
      "Overriding env_package for biosample nmdc:bsm-11-s70cv630 from  to plant-associated\n",
      "Overriding env_package for biosample nmdc:bsm-11-sa4z4f71 from  to hydrocarbon resources-fluids_swabs\n",
      "Overriding env_package for biosample nmdc:bsm-11-sdjt4464 from  to plant-associated\n",
      "Overriding env_package for biosample nmdc:bsm-11-sdjyhj66 from  to plant-associated\n",
      "Overriding env_package for biosample nmdc:bsm-11-shjn2p67 from  to plant-associated\n",
      "Overriding env_package for biosample nmdc:bsm-11-sjtd0y05 from  to plant-associated\n",
      "Overriding env_package for biosample nmdc:bsm-11-spav5m37 from  to plant-associated\n",
      "Overriding env_package for biosample nmdc:bsm-11-sv771k17 from  to plant-associated\n",
      "Overriding env_package for biosample nmdc:bsm-11-syb42s66 from  to plant-associated\n",
      "Overriding env_package for biosample nmdc:bsm-11-t7xb8h63 from  to plant-associated\n",
      "Overriding env_package for biosample nmdc:bsm-11-ta8dt754 from  to plant-associated\n",
      "Overriding env_package for biosample nmdc:bsm-11-tcxb3w32 from  to plant-associated\n",
      "Overriding env_package for biosample nmdc:bsm-11-te5fxe60 from  to plant-associated\n",
      "Overriding env_package for biosample nmdc:bsm-11-th3sr643 from  to plant-associated\n",
      "Overriding env_package for biosample nmdc:bsm-11-tkwn9650 from  to plant-associated\n",
      "Overriding env_package for biosample nmdc:bsm-11-tn8q1269 from  to hydrocarbon resources-fluids_swabs\n",
      "Overriding env_package for biosample nmdc:bsm-11-tnbabs47 from  to plant-associated\n",
      "Overriding env_package for biosample nmdc:bsm-11-tpatza67 from  to plant-associated\n",
      "Overriding env_package for biosample nmdc:bsm-11-trbf6m66 from  to plant-associated\n",
      "Overriding env_package for biosample nmdc:bsm-11-trpbtt49 from  to plant-associated\n",
      "Overriding env_package for biosample nmdc:bsm-11-ttg2t449 from  to hydrocarbon resources-fluids_swabs\n",
      "Overriding env_package for biosample nmdc:bsm-11-tz96dg48 from  to plant-associated\n",
      "Overriding env_package for biosample nmdc:bsm-11-v0p16d89 from  to plant-associated\n",
      "Overriding env_package for biosample nmdc:bsm-11-v9k6q078 from  to plant-associated\n",
      "Overriding env_package for biosample nmdc:bsm-11-veffrc25 from  to hydrocarbon resources-fluids_swabs\n",
      "Overriding env_package for biosample nmdc:bsm-11-vme3w877 from  to plant-associated\n",
      "Overriding env_package for biosample nmdc:bsm-11-vp7n5531 from  to plant-associated\n",
      "Overriding env_package for biosample nmdc:bsm-11-vpe6j733 from  to plant-associated\n",
      "Overriding env_package for biosample nmdc:bsm-11-vrsw1c02 from  to plant-associated\n",
      "Overriding env_package for biosample nmdc:bsm-11-w1t8bv92 from  to plant-associated\n",
      "Overriding env_package for biosample nmdc:bsm-11-wh35sj59 from  to plant-associated\n",
      "Overriding env_package for biosample nmdc:bsm-11-wnrp0p76 from  to plant-associated\n",
      "Overriding env_package for biosample nmdc:bsm-11-wqy7mc31 from  to plant-associated\n",
      "Overriding env_package for biosample nmdc:bsm-11-wr7h1t97 from  to plant-associated\n",
      "Overriding env_package for biosample nmdc:bsm-11-x0sc5x81 from  to plant-associated\n",
      "Overriding env_package for biosample nmdc:bsm-11-xy5ern23 from  to plant-associated\n",
      "Overriding env_package for biosample nmdc:bsm-11-xy8t6808 from  to plant-associated\n",
      "Overriding env_package for biosample nmdc:bsm-11-y31mxv90 from  to plant-associated\n",
      "Overriding env_package for biosample nmdc:bsm-11-y5w1j489 from  to plant-associated\n",
      "Overriding env_package for biosample nmdc:bsm-11-y80cxc26 from  to plant-associated\n",
      "Overriding env_package for biosample nmdc:bsm-11-yd4dqe75 from  to plant-associated\n",
      "Overriding env_package for biosample nmdc:bsm-11-yfc2at70 from  to plant-associated\n",
      "Overriding env_package for biosample nmdc:bsm-11-yvzvbr38 from  to hydrocarbon resources-fluids_swabs\n",
      "Overriding env_package for biosample nmdc:bsm-11-z4hspp43 from  to plant-associated\n",
      "Overriding env_package for biosample nmdc:bsm-11-z66zfk92 from  to plant-associated\n",
      "Overriding env_package for biosample nmdc:bsm-11-z75j2v52 from  to plant-associated\n",
      "Overriding env_package for biosample nmdc:bsm-11-zf5qxz83 from  to plant-associated\n",
      "Overriding env_package for biosample nmdc:bsm-11-zsdrmw76 from  to plant-associated\n",
      "Overriding env_package for biosample nmdc:bsm-11-zvh2hc82 from  to plant-associated\n"
     ]
    }
   ],
   "execution_count": 41
  },
  {
   "cell_type": "code",
   "id": "7cf668c88434c41e",
   "metadata": {
    "ExecuteTime": {
     "end_time": "2024-12-11T15:41:25.921625Z",
     "start_time": "2024-12-11T15:41:25.897778Z"
    }
   },
   "source": [
    "nmdc_biosample_contexts_frame = pd.DataFrame(biosample_contexts_lod)"
   ],
   "outputs": [],
   "execution_count": 42
  },
  {
   "cell_type": "code",
   "id": "77e340a7962f23a6",
   "metadata": {
    "ExecuteTime": {
     "end_time": "2024-12-11T15:41:25.929443Z",
     "start_time": "2024-12-11T15:41:25.923093Z"
    }
   },
   "source": [
    "# print a value count for the normalized_env_package column\n",
    "print(\"Value counts for normalized_env_package column:\")\n",
    "print(nmdc_biosample_contexts_frame['normalized_env_package'].value_counts(dropna=False))"
   ],
   "outputs": [
    {
     "name": "stdout",
     "output_type": "stream",
     "text": [
      "Value counts for normalized_env_package column:\n",
      "normalized_env_package\n",
      "                                                   5838\n",
      "soil                                               1707\n",
      "plant-associated                                    401\n",
      "water                                               192\n",
      "miscellaneous natural or artificial environment     140\n",
      "host-associated                                      61\n",
      "hydrocarbon resources-fluids_swabs                   23\n",
      "Name: count, dtype: int64\n"
     ]
    }
   ],
   "execution_count": 43
  },
  {
   "cell_type": "code",
   "id": "5980aef19fb86ae4",
   "metadata": {
    "ExecuteTime": {
     "end_time": "2024-12-11T15:41:34.403491Z",
     "start_time": "2024-12-11T15:41:25.931800Z"
    }
   },
   "source": [
    "package_predictions = predict_from_normalized_env_packages(nmdc_biosample_contexts_frame, envo_adapter)\n",
    "\n",
    "# these predictions often have a f1 of 1.00\n",
    "# many people might find that hard to believe"
   ],
   "outputs": [
    {
     "name": "stdout",
     "output_type": "stream",
     "text": [
      "(8362, 14)\n",
      "                                                 precision    recall  f1-score   support\n",
      "\n",
      "                                host-associated       1.00      1.00      1.00        16\n",
      "             hydrocarbon resources-fluids_swabs       1.00      1.00      1.00         7\n",
      "miscellaneous natural or artificial environment       1.00      1.00      1.00        50\n",
      "                               plant-associated       1.00      1.00      1.00       122\n",
      "                                           soil       1.00      1.00      1.00       506\n",
      "                                          water       1.00      1.00      1.00        57\n",
      "\n",
      "                                       accuracy                           1.00       758\n",
      "                                      macro avg       1.00      1.00      1.00       758\n",
      "                                   weighted avg       1.00      1.00      1.00       758\n",
      "\n"
     ]
    }
   ],
   "execution_count": 44
  },
  {
   "cell_type": "code",
   "id": "e151c95fe349df93",
   "metadata": {
    "ExecuteTime": {
     "end_time": "2024-12-11T15:41:34.408902Z",
     "start_time": "2024-12-11T15:41:34.405710Z"
    }
   },
   "source": [
    "nmdc_biosample_contexts_frame['predicted_env_package'] = package_predictions"
   ],
   "outputs": [],
   "execution_count": 45
  },
  {
   "metadata": {},
   "cell_type": "markdown",
   "source": [
    "## env-package inference complete\n",
    "\n",
    "To-do: save this and don't recreate it if it's available\n",
    "\n",
    "Then get it reviewed by other NMDC stakeholders and inject it into MongoDB if approved"
   ],
   "id": "a86897dcc7d47c55"
  },
  {
   "metadata": {},
   "cell_type": "markdown",
   "source": "## Destructively filter `nmdc_biosample_contexts_frame` by `env_package` ",
   "id": "a3f22287b11f918f"
  },
  {
   "cell_type": "code",
   "id": "d5c6aa902c7187e0",
   "metadata": {
    "ExecuteTime": {
     "end_time": "2024-12-11T15:41:34.413949Z",
     "start_time": "2024-12-11T15:41:34.410186Z"
    }
   },
   "source": [
    "nmdc_biosample_contexts_frame.shape"
   ],
   "outputs": [
    {
     "data": {
      "text/plain": [
       "(8362, 15)"
      ]
     },
     "execution_count": 46,
     "metadata": {},
     "output_type": "execute_result"
    }
   ],
   "execution_count": 46
  },
  {
   "cell_type": "code",
   "id": "2b241bcacf4bb100",
   "metadata": {
    "ExecuteTime": {
     "end_time": "2024-12-11T15:41:34.420526Z",
     "start_time": "2024-12-11T15:41:34.415451Z"
    }
   },
   "source": [
    "nmdc_biosample_contexts_frame = nmdc_biosample_contexts_frame[\n",
    "    nmdc_biosample_contexts_frame['predicted_env_package'] == nmdc_package_selector]"
   ],
   "outputs": [],
   "execution_count": 47
  },
  {
   "cell_type": "code",
   "id": "9045896aa4ea468f",
   "metadata": {
    "ExecuteTime": {
     "end_time": "2024-12-11T15:41:34.425582Z",
     "start_time": "2024-12-11T15:41:34.421881Z"
    }
   },
   "source": [
    "nmdc_biosample_contexts_frame.shape"
   ],
   "outputs": [
    {
     "data": {
      "text/plain": [
       "(1388, 15)"
      ]
     },
     "execution_count": 48,
     "metadata": {},
     "output_type": "execute_result"
    }
   ],
   "execution_count": 48
  },
  {
   "cell_type": "markdown",
   "id": "aee7b4eea48a8691",
   "metadata": {},
   "source": "# Long process of inferring OBO foundry CURIes from NCBI Biosamples"
  },
  {
   "metadata": {},
   "cell_type": "markdown",
   "source": [
    "## Start by getting unique annotations? Pre-counted by Biosamples\n",
    "\n",
    "Current task is to provide counts by \"study\" aka Bioproject in addition to Biosample counts or instead of Biosamples counts if necessary"
   ],
   "id": "fc58f6a0b79cbfa1"
  },
  {
   "cell_type": "code",
   "id": "3be362b73dbda47a",
   "metadata": {
    "ExecuteTime": {
     "end_time": "2024-12-11T15:41:36.718661Z",
     "start_time": "2024-12-11T15:41:34.426998Z"
    }
   },
   "source": "ncbi_frame = ncbi_conn.execute(ncbi_X_per_annotation_query).fetchdf()\n",
   "outputs": [
    {
     "data": {
      "text/plain": [
       "FloatProgress(value=0.0, layout=Layout(width='auto'), style=ProgressStyle(bar_color='black'))"
      ],
      "application/vnd.jupyter.widget-view+json": {
       "version_major": 2,
       "version_minor": 0,
       "model_id": "522a2cc3800c43a0a9da4e509da0000d"
      }
     },
     "metadata": {},
     "output_type": "display_data"
    }
   ],
   "execution_count": 49
  },
  {
   "cell_type": "code",
   "id": "306ee79ce77f745e",
   "metadata": {
    "ExecuteTime": {
     "end_time": "2024-12-11T15:41:36.724653Z",
     "start_time": "2024-12-11T15:41:36.720612Z"
    }
   },
   "source": [
    "ncbi_frame.insert(0, 'serial_number', range(1, len(ncbi_frame) + 1))"
   ],
   "outputs": [],
   "execution_count": 50
  },
  {
   "cell_type": "code",
   "id": "6f06a6237f0ecdb",
   "metadata": {
    "ExecuteTime": {
     "end_time": "2024-12-11T15:41:36.729592Z",
     "start_time": "2024-12-11T15:41:36.726533Z"
    }
   },
   "source": [
    "# includes values with counts of one... useful for discovering drag-down submissions?"
   ],
   "outputs": [],
   "execution_count": 51
  },
  {
   "metadata": {},
   "cell_type": "markdown",
   "source": [
    "## MIxS and NCBI guidelines imply environmental context slots are multivalued\n",
    "and that the pipe `|` should be used as a delimiter\n",
    "\n",
    "there's an envo_count value below that indicates how ofter other delimiteres might be used"
   ],
   "id": "1b851c8ef274382c"
  },
  {
   "cell_type": "code",
   "id": "f07e55ebd0f4c451",
   "metadata": {
    "ExecuteTime": {
     "end_time": "2024-12-11T15:41:36.742041Z",
     "start_time": "2024-12-11T15:41:36.731490Z"
    }
   },
   "source": [
    "ncbi_frame['content_list'] = ncbi_frame['content'].str.split('|')"
   ],
   "outputs": [],
   "execution_count": 52
  },
  {
   "metadata": {
    "ExecuteTime": {
     "end_time": "2024-12-11T15:41:36.751298Z",
     "start_time": "2024-12-11T15:41:36.745381Z"
    }
   },
   "cell_type": "code",
   "source": [
    "# todo is there any reason to not do this ?\n",
    "ncbi_frame = ncbi_frame[ncbi_frame['content'].notna() & (ncbi_frame['content'] != '')]"
   ],
   "id": "2e96404aa5dd0f7b",
   "outputs": [],
   "execution_count": 53
  },
  {
   "cell_type": "code",
   "id": "f8c2e13cee8818cb",
   "metadata": {
    "ExecuteTime": {
     "end_time": "2024-12-11T15:41:36.759962Z",
     "start_time": "2024-12-11T15:41:36.753119Z"
    }
   },
   "source": [
    "ncbi_frame['content_count'] = ncbi_frame['content_list'].apply(len)"
   ],
   "outputs": [],
   "execution_count": 54
  },
  {
   "cell_type": "code",
   "id": "edeaac7b5ce53cd5",
   "metadata": {
    "ExecuteTime": {
     "end_time": "2024-12-11T15:41:36.768129Z",
     "start_time": "2024-12-11T15:41:36.762054Z"
    }
   },
   "source": [
    "ncbi_frame.shape"
   ],
   "outputs": [
    {
     "data": {
      "text/plain": [
       "(9820, 5)"
      ]
     },
     "execution_count": 55,
     "metadata": {},
     "output_type": "execute_result"
    }
   ],
   "execution_count": 55
  },
  {
   "cell_type": "code",
   "id": "18860251fea32ee5",
   "metadata": {
    "ExecuteTime": {
     "end_time": "2024-12-11T15:41:36.779806Z",
     "start_time": "2024-12-11T15:41:36.770077Z"
    }
   },
   "source": [
    "ncbi_frame = ncbi_frame.explode('content_list').reset_index(drop=True)"
   ],
   "outputs": [],
   "execution_count": 56
  },
  {
   "cell_type": "code",
   "id": "bc8b89960c12f6e6",
   "metadata": {
    "ExecuteTime": {
     "end_time": "2024-12-11T15:41:36.786540Z",
     "start_time": "2024-12-11T15:41:36.781516Z"
    }
   },
   "source": [
    "ncbi_frame.shape"
   ],
   "outputs": [
    {
     "data": {
      "text/plain": [
       "(10293, 5)"
      ]
     },
     "execution_count": 57,
     "metadata": {},
     "output_type": "execute_result"
    }
   ],
   "execution_count": 57
  },
  {
   "metadata": {},
   "cell_type": "markdown",
   "source": [
    "## splitting adds ~ 5% more rows\n",
    "which might be important since were currently using a longest annotation strategy here"
   ],
   "id": "f02aaf625f4158d3"
  },
  {
   "cell_type": "code",
   "id": "85a0a4ccd63b7952",
   "metadata": {
    "ExecuteTime": {
     "end_time": "2024-12-11T15:41:36.802809Z",
     "start_time": "2024-12-11T15:41:36.799448Z"
    }
   },
   "source": [
    "# how many content_list strings contain envo multiple times now?"
   ],
   "outputs": [],
   "execution_count": 58
  },
  {
   "cell_type": "code",
   "id": "4dee374026c8272a",
   "metadata": {
    "ExecuteTime": {
     "end_time": "2024-12-11T15:41:36.821073Z",
     "start_time": "2024-12-11T15:41:36.805163Z"
    }
   },
   "source": [
    "ncbi_frame['envo_count'] = ncbi_frame['content_list'].str.lower().str.count(\"envo\")"
   ],
   "outputs": [],
   "execution_count": 59
  },
  {
   "cell_type": "code",
   "id": "417319d62ef07d0b",
   "metadata": {
    "ExecuteTime": {
     "end_time": "2024-12-11T15:41:36.829694Z",
     "start_time": "2024-12-11T15:41:36.822995Z"
    }
   },
   "source": [
    "ncbi_frame['envo_count'].value_counts()"
   ],
   "outputs": [
    {
     "data": {
      "text/plain": [
       "envo_count\n",
       "0    8188\n",
       "1    2094\n",
       "2       9\n",
       "3       1\n",
       "4       1\n",
       "Name: count, dtype: int64"
      ]
     },
     "execution_count": 60,
     "metadata": {},
     "output_type": "execute_result"
    }
   ],
   "execution_count": 60
  },
  {
   "metadata": {},
   "cell_type": "markdown",
   "source": [
    "## If my math is correct, about 0.1% of the annotations still contain multiple CURIes \n",
    "after splitting on pipes\n",
    "\n",
    "There will also be annotations with multiple label-like strings that weren't split because they weren't delimited on pipes\n",
    "That might be a source of lost information since we are using a longest-match annotator here\n",
    "I.e. there could be annotations with multiple hits worth keeping"
   ],
   "id": "21fb4262b735aedc"
  },
  {
   "metadata": {},
   "cell_type": "markdown",
   "source": [
    "## Parsing out CURIEs\n",
    "\n",
    "this has a few limitations. The function only tries pre-specified prefixes (['ENOV'] by default) and only considers colons and underscores valid delimiters."
   ],
   "id": "119dbec6ecf9c65c"
  },
  {
   "cell_type": "code",
   "id": "7b256380eceaceaa",
   "metadata": {
    "ExecuteTime": {
     "end_time": "2024-12-11T15:41:38.192046Z",
     "start_time": "2024-12-11T15:41:36.831693Z"
    }
   },
   "source": [
    "ncbi_frame[['extracted_label', 'extracted_curie']] = ncbi_frame['content_list'].apply(parse_curie_label)"
   ],
   "outputs": [],
   "execution_count": 61
  },
  {
   "cell_type": "code",
   "id": "761e39ab29aef0a7",
   "metadata": {
    "ExecuteTime": {
     "end_time": "2024-12-11T15:41:38.199945Z",
     "start_time": "2024-12-11T15:41:38.194016Z"
    }
   },
   "source": [
    "parse_failures = ncbi_frame[\n",
    "    (ncbi_frame['envo_count'] > 0) & (ncbi_frame['extracted_curie'].isna() | (ncbi_frame['extracted_curie'] == ''))]\n"
   ],
   "outputs": [],
   "execution_count": 62
  },
  {
   "metadata": {},
   "cell_type": "markdown",
   "source": [
    "## In what kinds of cases could no CURIe be parsed\n",
    "despite the presence of \"ENVO\" in the content string?"
   ],
   "id": "e618518e6e85b5aa"
  },
  {
   "cell_type": "code",
   "id": "a9316f11da9ee0c8",
   "metadata": {
    "ExecuteTime": {
     "end_time": "2024-12-11T15:41:38.214571Z",
     "start_time": "2024-12-11T15:41:38.202833Z"
    }
   },
   "source": [
    "parse_failures"
   ],
   "outputs": [
    {
     "data": {
      "text/plain": [
       "       serial_number                                      content  count  \\\n",
       "285              283                                    ENVO:Soil      3   \n",
       "1406            1350                                  ENVO0000032      1   \n",
       "1489            1429  forest soilENVO:00002261 Sampling point 123      1   \n",
       "1490            1430  forest soilENVO:00002261 Sampling point 159      1   \n",
       "1491            1431  forest soilENVO:00002261 Sampling point 195      1   \n",
       "...              ...                                          ...    ...   \n",
       "10281           9809                                  ENVO0000080      1   \n",
       "10282           9810                                  ENVO0000137      1   \n",
       "10283           9811                                  ENVO0000147      1   \n",
       "10284           9812                                  ENVO0000163      1   \n",
       "10285           9813                                  ENVO0000183      1   \n",
       "\n",
       "                                      content_list  content_count  envo_count  \\\n",
       "285                                      ENVO:Soil              1           1   \n",
       "1406                                   ENVO0000032              1           1   \n",
       "1489   forest soilENVO:00002261 Sampling point 123              1           1   \n",
       "1490   forest soilENVO:00002261 Sampling point 159              1           1   \n",
       "1491   forest soilENVO:00002261 Sampling point 195              1           1   \n",
       "...                                            ...            ...         ...   \n",
       "10281                                  ENVO0000080              1           1   \n",
       "10282                                  ENVO0000137              1           1   \n",
       "10283                                  ENVO0000147              1           1   \n",
       "10284                                  ENVO0000163              1           1   \n",
       "10285                                  ENVO0000183              1           1   \n",
       "\n",
       "                                   extracted_label extracted_curie  \n",
       "285                                      ENVO Soil            None  \n",
       "1406                                   ENVO0000032            None  \n",
       "1489   forest soilENVO 00002261 Sampling point 123            None  \n",
       "1490   forest soilENVO 00002261 Sampling point 159            None  \n",
       "1491   forest soilENVO 00002261 Sampling point 195            None  \n",
       "...                                            ...             ...  \n",
       "10281                                  ENVO0000080            None  \n",
       "10282                                  ENVO0000137            None  \n",
       "10283                                  ENVO0000147            None  \n",
       "10284                                  ENVO0000163            None  \n",
       "10285                                  ENVO0000183            None  \n",
       "\n",
       "[453 rows x 8 columns]"
      ],
      "text/html": [
       "<div>\n",
       "<style scoped>\n",
       "    .dataframe tbody tr th:only-of-type {\n",
       "        vertical-align: middle;\n",
       "    }\n",
       "\n",
       "    .dataframe tbody tr th {\n",
       "        vertical-align: top;\n",
       "    }\n",
       "\n",
       "    .dataframe thead th {\n",
       "        text-align: right;\n",
       "    }\n",
       "</style>\n",
       "<table border=\"1\" class=\"dataframe\">\n",
       "  <thead>\n",
       "    <tr style=\"text-align: right;\">\n",
       "      <th></th>\n",
       "      <th>serial_number</th>\n",
       "      <th>content</th>\n",
       "      <th>count</th>\n",
       "      <th>content_list</th>\n",
       "      <th>content_count</th>\n",
       "      <th>envo_count</th>\n",
       "      <th>extracted_label</th>\n",
       "      <th>extracted_curie</th>\n",
       "    </tr>\n",
       "  </thead>\n",
       "  <tbody>\n",
       "    <tr>\n",
       "      <th>285</th>\n",
       "      <td>283</td>\n",
       "      <td>ENVO:Soil</td>\n",
       "      <td>3</td>\n",
       "      <td>ENVO:Soil</td>\n",
       "      <td>1</td>\n",
       "      <td>1</td>\n",
       "      <td>ENVO Soil</td>\n",
       "      <td>None</td>\n",
       "    </tr>\n",
       "    <tr>\n",
       "      <th>1406</th>\n",
       "      <td>1350</td>\n",
       "      <td>ENVO0000032</td>\n",
       "      <td>1</td>\n",
       "      <td>ENVO0000032</td>\n",
       "      <td>1</td>\n",
       "      <td>1</td>\n",
       "      <td>ENVO0000032</td>\n",
       "      <td>None</td>\n",
       "    </tr>\n",
       "    <tr>\n",
       "      <th>1489</th>\n",
       "      <td>1429</td>\n",
       "      <td>forest soilENVO:00002261 Sampling point 123</td>\n",
       "      <td>1</td>\n",
       "      <td>forest soilENVO:00002261 Sampling point 123</td>\n",
       "      <td>1</td>\n",
       "      <td>1</td>\n",
       "      <td>forest soilENVO 00002261 Sampling point 123</td>\n",
       "      <td>None</td>\n",
       "    </tr>\n",
       "    <tr>\n",
       "      <th>1490</th>\n",
       "      <td>1430</td>\n",
       "      <td>forest soilENVO:00002261 Sampling point 159</td>\n",
       "      <td>1</td>\n",
       "      <td>forest soilENVO:00002261 Sampling point 159</td>\n",
       "      <td>1</td>\n",
       "      <td>1</td>\n",
       "      <td>forest soilENVO 00002261 Sampling point 159</td>\n",
       "      <td>None</td>\n",
       "    </tr>\n",
       "    <tr>\n",
       "      <th>1491</th>\n",
       "      <td>1431</td>\n",
       "      <td>forest soilENVO:00002261 Sampling point 195</td>\n",
       "      <td>1</td>\n",
       "      <td>forest soilENVO:00002261 Sampling point 195</td>\n",
       "      <td>1</td>\n",
       "      <td>1</td>\n",
       "      <td>forest soilENVO 00002261 Sampling point 195</td>\n",
       "      <td>None</td>\n",
       "    </tr>\n",
       "    <tr>\n",
       "      <th>...</th>\n",
       "      <td>...</td>\n",
       "      <td>...</td>\n",
       "      <td>...</td>\n",
       "      <td>...</td>\n",
       "      <td>...</td>\n",
       "      <td>...</td>\n",
       "      <td>...</td>\n",
       "      <td>...</td>\n",
       "    </tr>\n",
       "    <tr>\n",
       "      <th>10281</th>\n",
       "      <td>9809</td>\n",
       "      <td>ENVO0000080</td>\n",
       "      <td>1</td>\n",
       "      <td>ENVO0000080</td>\n",
       "      <td>1</td>\n",
       "      <td>1</td>\n",
       "      <td>ENVO0000080</td>\n",
       "      <td>None</td>\n",
       "    </tr>\n",
       "    <tr>\n",
       "      <th>10282</th>\n",
       "      <td>9810</td>\n",
       "      <td>ENVO0000137</td>\n",
       "      <td>1</td>\n",
       "      <td>ENVO0000137</td>\n",
       "      <td>1</td>\n",
       "      <td>1</td>\n",
       "      <td>ENVO0000137</td>\n",
       "      <td>None</td>\n",
       "    </tr>\n",
       "    <tr>\n",
       "      <th>10283</th>\n",
       "      <td>9811</td>\n",
       "      <td>ENVO0000147</td>\n",
       "      <td>1</td>\n",
       "      <td>ENVO0000147</td>\n",
       "      <td>1</td>\n",
       "      <td>1</td>\n",
       "      <td>ENVO0000147</td>\n",
       "      <td>None</td>\n",
       "    </tr>\n",
       "    <tr>\n",
       "      <th>10284</th>\n",
       "      <td>9812</td>\n",
       "      <td>ENVO0000163</td>\n",
       "      <td>1</td>\n",
       "      <td>ENVO0000163</td>\n",
       "      <td>1</td>\n",
       "      <td>1</td>\n",
       "      <td>ENVO0000163</td>\n",
       "      <td>None</td>\n",
       "    </tr>\n",
       "    <tr>\n",
       "      <th>10285</th>\n",
       "      <td>9813</td>\n",
       "      <td>ENVO0000183</td>\n",
       "      <td>1</td>\n",
       "      <td>ENVO0000183</td>\n",
       "      <td>1</td>\n",
       "      <td>1</td>\n",
       "      <td>ENVO0000183</td>\n",
       "      <td>None</td>\n",
       "    </tr>\n",
       "  </tbody>\n",
       "</table>\n",
       "<p>453 rows × 8 columns</p>\n",
       "</div>"
      ]
     },
     "execution_count": 63,
     "metadata": {},
     "output_type": "execute_result"
    }
   ],
   "execution_count": 63
  },
  {
   "metadata": {},
   "cell_type": "markdown",
   "source": "## Retrieve the labels for the parsed CURIes",
   "id": "ab4b8ef4ac9758e2"
  },
  {
   "cell_type": "code",
   "id": "9bdebd91856ff679",
   "metadata": {
    "ExecuteTime": {
     "end_time": "2024-12-11T15:41:41.158259Z",
     "start_time": "2024-12-11T15:41:38.216496Z"
    }
   },
   "source": [
    "ncbi_frame['real_label'] = ncbi_frame['extracted_curie'].apply(envo_adapter.label)"
   ],
   "outputs": [],
   "execution_count": 64
  },
  {
   "metadata": {},
   "cell_type": "markdown",
   "source": [
    "## Apply oaklib annotation to the strings after CURIe removal\n",
    "Actually the annotator can (sometimes?) detect colon-delimited CURIEs with lower case prefixes\n",
    "\n",
    "This returns CURIes with evidence but not necessarily the label corresponding to the CURIe"
   ],
   "id": "9710b8f5b9a39057"
  },
  {
   "cell_type": "code",
   "id": "d06d899567db022e",
   "metadata": {
    "ExecuteTime": {
     "end_time": "2024-12-11T15:42:02.616129Z",
     "start_time": "2024-12-11T15:41:41.159815Z"
    }
   },
   "source": [
    "# Apply the annotation function to each row in the 'label' column\n",
    "ncbi_frame['longest_annotation_curie'] = ncbi_frame['extracted_label'].apply(\n",
    "    lambda x: get_longest_annotation_curie(x, envo_adapter, MIN_ANNOTATION_LEN))\n",
    "\n",
    "# this cell only takes ~ 1 minute, but generates a lot of \"ERRORS\" and WARNINGS in a red font\n",
    "#   while loading the ontologies that are used for annotating\n"
   ],
   "outputs": [
    {
     "name": "stderr",
     "output_type": "stream",
     "text": [
      "ERROR:root:Skipping statements(subject=ENVO:00000112,predicate=oio:hasDbXref,object=<http://www.eionet.europa.eu/gemet/concept/8704>,value=None,datatype=None,language=None,); ValueError: <http://www.eionet.europa.eu/gemet/concept/8704> is not a valid URI or CURIE\n",
      "ERROR:root:Skipping statements(subject=ENVO:00001996,predicate=oio:hasDbXref,object=<https://en.wikipedia.org/wiki/Acid_mine_drainage>,value=None,datatype=None,language=None,); ValueError: <https://en.wikipedia.org/wiki/Acid_mine_drainage> is not a valid URI or CURIE\n",
      "ERROR:root:Skipping statements(subject=ENVO:01000225,predicate=oio:hasDbXref,object=<https://www.worldwildlife.org/biomes/tropical-and-subtropical-dry-broadleaf-forests>,value=None,datatype=None,language=None,); ValueError: <https://www.worldwildlife.org/biomes/tropical-and-subtropical-dry-broadleaf-forests> is not a valid URI or CURIE\n",
      "ERROR:root:Skipping statements(subject=ENVO:01000227,predicate=oio:hasDbXref,object=<https://www.worldwildlife.org/biomes/tropical-and-subtropical-dry-broadleaf-forests>,value=None,datatype=None,language=None,); ValueError: <https://www.worldwildlife.org/biomes/tropical-and-subtropical-dry-broadleaf-forests> is not a valid URI or CURIE\n",
      "ERROR:root:Skipping statements(subject=ENVO:01001495,predicate=oio:hasDbXref,object=<https://www.goosocean.org/components/com_oe/oe.php?task=download&id=35904&version=2.0&lang=1&format=1>,value=None,datatype=None,language=None,); ValueError: <https://www.goosocean.org/components/com_oe/oe.php?task=download&id=35904&version=2.0&lang=1&format=1> is not a valid URI or CURIE\n",
      "ERROR:root:Skipping statements(subject=ENVO:01001621,predicate=oio:hasDbXref,object=<https://github.com/ESIPFed/sweet/issues/219>,value=None,datatype=None,language=None,); ValueError: <https://github.com/ESIPFed/sweet/issues/219> is not a valid URI or CURIE\n",
      "ERROR:root:Skipping statements(subject=ENVO:01001626,predicate=oio:hasDbXref,object=<https://www.worldwildlife.org/biomes/deserts-and-xeric-shrublands>,value=None,datatype=None,language=None,); ValueError: <https://www.worldwildlife.org/biomes/deserts-and-xeric-shrublands> is not a valid URI or CURIE\n",
      "ERROR:root:Skipping statements(subject=ENVO:01001627,predicate=oio:hasDbXref,object=<https://www.worldwildlife.org/ecoregions/im1304>,value=None,datatype=None,language=None,); ValueError: <https://www.worldwildlife.org/ecoregions/im1304> is not a valid URI or CURIE\n",
      "ERROR:root:Skipping statements(subject=ENVO:01001628,predicate=oio:hasDbXref,object=<https://www.worldwildlife.org/ecoregions/im1303>,value=None,datatype=None,language=None,); ValueError: <https://www.worldwildlife.org/ecoregions/im1303> is not a valid URI or CURIE\n",
      "ERROR:root:Skipping statements(subject=ENVO:01001644,predicate=oio:hasDbXref,object=<http://vocab.nerc.ac.uk/collection/S23/current/S23C021/>,value=None,datatype=None,language=None,); ValueError: <http://vocab.nerc.ac.uk/collection/S23/current/S23C021/> is not a valid URI or CURIE\n",
      "ERROR:root:Skipping statements(subject=ENVO:01001644,predicate=oio:hasDbXref,object=None,value=Carbonate which is formed as the result of some biological process.,datatype=None,language=None,); ValueError: Carbonate which is formed as the result of some biological process. is not a valid URI or CURIE\n",
      "ERROR:root:Skipping statements(subject=ENVO:01001645,predicate=oio:hasDbXref,object=<http://vocab.nerc.ac.uk/collection/S23/current/S23C013/>,value=None,datatype=None,language=None,); ValueError: <http://vocab.nerc.ac.uk/collection/S23/current/S23C013/> is not a valid URI or CURIE\n",
      "ERROR:root:Skipping statements(subject=ENVO:01001646,predicate=oio:hasDbXref,object=<http://vocab.nerc.ac.uk/collection/S23/current/S23C014/>,value=None,datatype=None,language=None,); ValueError: <http://vocab.nerc.ac.uk/collection/S23/current/S23C014/> is not a valid URI or CURIE\n",
      "ERROR:root:Skipping statements(subject=ENVO:01001647,predicate=oio:hasDbXref,object=<http://vocab.nerc.ac.uk/collection/S23/current/S23C004/>,value=None,datatype=None,language=None,); ValueError: <http://vocab.nerc.ac.uk/collection/S23/current/S23C004/> is not a valid URI or CURIE\n",
      "ERROR:root:Skipping statements(subject=ENVO:01001649,predicate=oio:hasDbXref,object=<http://vocab.nerc.ac.uk/collection/S23/current/S23C011/>,value=None,datatype=None,language=None,); ValueError: <http://vocab.nerc.ac.uk/collection/S23/current/S23C011/> is not a valid URI or CURIE\n",
      "ERROR:root:Skipping statements(subject=ENVO:01001650,predicate=oio:hasDbXref,object=<http://vocab.nerc.ac.uk/collection/S23/current/S23C012/>,value=None,datatype=None,language=None,); ValueError: <http://vocab.nerc.ac.uk/collection/S23/current/S23C012/> is not a valid URI or CURIE\n",
      "ERROR:root:Skipping statements(subject=ENVO:01001651,predicate=oio:hasDbXref,object=<http://vocab.nerc.ac.uk/collection/S23/current/S23C003/>,value=None,datatype=None,language=None,); ValueError: <http://vocab.nerc.ac.uk/collection/S23/current/S23C003/> is not a valid URI or CURIE\n",
      "ERROR:root:Skipping statements(subject=ENVO:01001652,predicate=oio:hasDbXref,object=<http://vocab.nerc.ac.uk/collection/S23/current/S23C005/>,value=None,datatype=None,language=None,); ValueError: <http://vocab.nerc.ac.uk/collection/S23/current/S23C005/> is not a valid URI or CURIE\n",
      "ERROR:root:Skipping statements(subject=ENVO:01001685,predicate=oio:hasDbXref,object=<https://github.com/EnvironmentOntology/envo/issues/1319>,value=None,datatype=None,language=None,); ValueError: <https://github.com/EnvironmentOntology/envo/issues/1319> is not a valid URI or CURIE\n",
      "ERROR:root:Skipping statements(subject=ENVO:01001692,predicate=oio:hasDbXref,object=<https://github.com/EnvironmentOntology/envo/issues/1319>,value=None,datatype=None,language=None,); ValueError: <https://github.com/EnvironmentOntology/envo/issues/1319> is not a valid URI or CURIE\n",
      "ERROR:root:Skipping statements(subject=ENVO:01001743,predicate=oio:hasDbXref,object=<https://github.com/EnvironmentOntology/envo/issues/1319>,value=None,datatype=None,language=None,); ValueError: <https://github.com/EnvironmentOntology/envo/issues/1319> is not a valid URI or CURIE\n",
      "ERROR:root:Skipping statements(subject=ENVO:01001799,predicate=oio:hasDbXref,object=<https://www.worldwildlife.org/biomes/tropical-and-subtropical-dry-broadleaf-forests>,value=None,datatype=None,language=None,); ValueError: <https://www.worldwildlife.org/biomes/tropical-and-subtropical-dry-broadleaf-forests> is not a valid URI or CURIE\n",
      "ERROR:root:Skipping statements(subject=ENVO:01001801,predicate=oio:hasDbXref,object=<https://www.worldwildlife.org/biomes/tropical-and-subtropical-dry-broadleaf-forests>,value=None,datatype=None,language=None,); ValueError: <https://www.worldwildlife.org/biomes/tropical-and-subtropical-dry-broadleaf-forests> is not a valid URI or CURIE\n",
      "ERROR:root:Skipping statements(subject=ENVO:01001823,predicate=oio:hasDbXref,object=<https://github.com/EnvironmentOntology/envo/issues/1319>,value=None,datatype=None,language=None,); ValueError: <https://github.com/EnvironmentOntology/envo/issues/1319> is not a valid URI or CURIE\n",
      "ERROR:root:Skipping statements(subject=ENVO:01001878,predicate=oio:hasDbXref,object=<https://www.goosocean.org/index.php?option=com_oe&task=viewDocumentRecord&docID=17476>,value=None,datatype=None,language=None,); ValueError: <https://www.goosocean.org/index.php?option=com_oe&task=viewDocumentRecord&docID=17476> is not a valid URI or CURIE\n",
      "ERROR:root:Skipping statements(subject=ENVO:01001879,predicate=oio:hasDbXref,object=<https://github.com/ESIPFed/sweet/issues/219>,value=None,datatype=None,language=None,); ValueError: <https://github.com/ESIPFed/sweet/issues/219> is not a valid URI or CURIE\n",
      "ERROR:root:Skipping statements(subject=ENVO:01001880,predicate=oio:hasDbXref,object=<https://github.com/ESIPFed/sweet/issues/219>,value=None,datatype=None,language=None,); ValueError: <https://github.com/ESIPFed/sweet/issues/219> is not a valid URI or CURIE\n",
      "ERROR:root:Skipping statements(subject=ENVO:01001881,predicate=oio:hasDbXref,object=<https://github.com/ESIPFed/sweet/issues/219>,value=None,datatype=None,language=None,); ValueError: <https://github.com/ESIPFed/sweet/issues/219> is not a valid URI or CURIE\n",
      "ERROR:root:Skipping statements(subject=ENVO:02000093,predicate=oio:hasDbXref,object=<https://en.wikipedia.org/wiki/Uranium_mining>,value=None,datatype=None,language=None,); ValueError: <https://en.wikipedia.org/wiki/Uranium_mining> is not a valid URI or CURIE\n",
      "ERROR:root:Skipping statements(subject=ENVO:02000094,predicate=oio:hasDbXref,object=<https://en.wikipedia.org/wiki/Ore>,value=None,datatype=None,language=None,); ValueError: <https://en.wikipedia.org/wiki/Ore> is not a valid URI or CURIE\n",
      "ERROR:root:Skipping statements(subject=ENVO:03501363,predicate=oio:hasDbXref,object=<https://www.conveyorsystemsltd.co.uk/news/168/126/Roller-Conveyor-vs-Belt-Conveyor.htm>,value=None,datatype=None,language=None,); ValueError: <https://www.conveyorsystemsltd.co.uk/news/168/126/Roller-Conveyor-vs-Belt-Conveyor.htm> is not a valid URI or CURIE\n",
      "ERROR:root:Skipping statements(subject=ENVO:06105112,predicate=oio:hasDbXref,object=<http://eurovoc.europa.eu/1837>,value=None,datatype=None,language=None,); ValueError: <http://eurovoc.europa.eu/1837> is not a valid URI or CURIE\n",
      "ERROR:root:Skipping statements(subject=ENVO:06105112,predicate=oio:hasDbXref,object=<http://aims.fao.org/aos/agrovoc/c_5998>,value=None,datatype=None,language=None,); ValueError: <http://aims.fao.org/aos/agrovoc/c_5998> is not a valid URI or CURIE\n",
      "WARNING:root:Skipping <http://geneontology.org/foo/applies-pattern> as it is not a valid CURIE\n",
      "WARNING:root:Skipping <http://schema.org/image> as it is not a valid CURIE\n",
      "WARNING:root:Skipping <http://swrl.stanford.edu/ontologies/3.3/swrla.owl#isRuleEnabled> as it is not a valid CURIE\n",
      "WARNING:root:Skipping <https://www.wikidata.org/wiki/Q2306597> as it is not a valid CURIE\n",
      "WARNING:root:Skipping <https://www.wikidata.org/wiki/Q2> as it is not a valid CURIE\n",
      "WARNING:root:Skipping <https://www.wikidata.org/wiki/Q525> as it is not a valid CURIE\n",
      "WARNING:root:Skipping <https://www.wikidata.org/wiki/Q715269> as it is not a valid CURIE\n"
     ]
    }
   ],
   "execution_count": 65
  },
  {
   "metadata": {},
   "cell_type": "markdown",
   "source": "## Add the labels for the CURIes identified though oaklib annotation of strings",
   "id": "14f0908428dfa322"
  },
  {
   "cell_type": "code",
   "id": "2d0d090813223db3",
   "metadata": {
    "ExecuteTime": {
     "end_time": "2024-12-11T15:42:05.509756Z",
     "start_time": "2024-12-11T15:42:02.617893Z"
    }
   },
   "source": [
    "ncbi_frame['longest_annotation_label'] = ncbi_frame['longest_annotation_curie'].apply(envo_adapter.label)"
   ],
   "outputs": [],
   "execution_count": 66
  },
  {
   "cell_type": "code",
   "id": "940cd4e688adb239",
   "metadata": {
    "ExecuteTime": {
     "end_time": "2024-12-11T15:42:05.522567Z",
     "start_time": "2024-12-11T15:42:05.511085Z"
    }
   },
   "source": [
    "ncbi_frame"
   ],
   "outputs": [
    {
     "data": {
      "text/plain": [
       "       serial_number                                            content  \\\n",
       "0                  1                                     not applicable   \n",
       "1                  2                                            missing   \n",
       "2                  3                                               soil   \n",
       "3                  4                                      not collected   \n",
       "4                  5                                             forest   \n",
       "...              ...                                                ...   \n",
       "10288           9816                                      ENVO:00005770   \n",
       "10289           9817  Algal crust,discontinuous and restricted in a ...   \n",
       "10290           9818                                            Bulk-CK   \n",
       "10291           9819                                               7220   \n",
       "10292           9820                                               1320   \n",
       "\n",
       "       count                                       content_list  \\\n",
       "0        269                                     not applicable   \n",
       "1        205                                            missing   \n",
       "2        203                                               soil   \n",
       "3        170                                      not collected   \n",
       "4         81                                             forest   \n",
       "...      ...                                                ...   \n",
       "10288      1                                      ENVO:00005770   \n",
       "10289      1  Algal crust,discontinuous and restricted in a ...   \n",
       "10290      1                                            Bulk-CK   \n",
       "10291      1                                               7220   \n",
       "10292      1                                               1320   \n",
       "\n",
       "       content_count  envo_count  \\\n",
       "0                  1           0   \n",
       "1                  1           0   \n",
       "2                  1           0   \n",
       "3                  1           0   \n",
       "4                  1           0   \n",
       "...              ...         ...   \n",
       "10288              1           1   \n",
       "10289              1           0   \n",
       "10290              1           0   \n",
       "10291              1           0   \n",
       "10292              1           0   \n",
       "\n",
       "                                         extracted_label extracted_curie  \\\n",
       "0                                         not applicable            None   \n",
       "1                                                missing            None   \n",
       "2                                                   soil            None   \n",
       "3                                          not collected            None   \n",
       "4                                                 forest            None   \n",
       "...                                                  ...             ...   \n",
       "10288                                                      ENVO:00005770   \n",
       "10289  Algal crust,discontinuous and restricted in a ...            None   \n",
       "10290                                            Bulk-CK            None   \n",
       "10291                                               7220            None   \n",
       "10292                                               1320            None   \n",
       "\n",
       "              real_label longest_annotation_curie longest_annotation_label  \n",
       "0                   None                     None                     None  \n",
       "1                   None                     None                     None  \n",
       "2                   None            ENVO:00001998                     soil  \n",
       "3                   None                     None                     None  \n",
       "4                   None            ENVO:00000111            forested area  \n",
       "...                  ...                      ...                      ...  \n",
       "10288  beech forest soil                     None                     None  \n",
       "10289               None             PATO:0000690            discontinuous  \n",
       "10290               None                     None                     None  \n",
       "10291               None                     None                     None  \n",
       "10292               None                     None                     None  \n",
       "\n",
       "[10293 rows x 11 columns]"
      ],
      "text/html": [
       "<div>\n",
       "<style scoped>\n",
       "    .dataframe tbody tr th:only-of-type {\n",
       "        vertical-align: middle;\n",
       "    }\n",
       "\n",
       "    .dataframe tbody tr th {\n",
       "        vertical-align: top;\n",
       "    }\n",
       "\n",
       "    .dataframe thead th {\n",
       "        text-align: right;\n",
       "    }\n",
       "</style>\n",
       "<table border=\"1\" class=\"dataframe\">\n",
       "  <thead>\n",
       "    <tr style=\"text-align: right;\">\n",
       "      <th></th>\n",
       "      <th>serial_number</th>\n",
       "      <th>content</th>\n",
       "      <th>count</th>\n",
       "      <th>content_list</th>\n",
       "      <th>content_count</th>\n",
       "      <th>envo_count</th>\n",
       "      <th>extracted_label</th>\n",
       "      <th>extracted_curie</th>\n",
       "      <th>real_label</th>\n",
       "      <th>longest_annotation_curie</th>\n",
       "      <th>longest_annotation_label</th>\n",
       "    </tr>\n",
       "  </thead>\n",
       "  <tbody>\n",
       "    <tr>\n",
       "      <th>0</th>\n",
       "      <td>1</td>\n",
       "      <td>not applicable</td>\n",
       "      <td>269</td>\n",
       "      <td>not applicable</td>\n",
       "      <td>1</td>\n",
       "      <td>0</td>\n",
       "      <td>not applicable</td>\n",
       "      <td>None</td>\n",
       "      <td>None</td>\n",
       "      <td>None</td>\n",
       "      <td>None</td>\n",
       "    </tr>\n",
       "    <tr>\n",
       "      <th>1</th>\n",
       "      <td>2</td>\n",
       "      <td>missing</td>\n",
       "      <td>205</td>\n",
       "      <td>missing</td>\n",
       "      <td>1</td>\n",
       "      <td>0</td>\n",
       "      <td>missing</td>\n",
       "      <td>None</td>\n",
       "      <td>None</td>\n",
       "      <td>None</td>\n",
       "      <td>None</td>\n",
       "    </tr>\n",
       "    <tr>\n",
       "      <th>2</th>\n",
       "      <td>3</td>\n",
       "      <td>soil</td>\n",
       "      <td>203</td>\n",
       "      <td>soil</td>\n",
       "      <td>1</td>\n",
       "      <td>0</td>\n",
       "      <td>soil</td>\n",
       "      <td>None</td>\n",
       "      <td>None</td>\n",
       "      <td>ENVO:00001998</td>\n",
       "      <td>soil</td>\n",
       "    </tr>\n",
       "    <tr>\n",
       "      <th>3</th>\n",
       "      <td>4</td>\n",
       "      <td>not collected</td>\n",
       "      <td>170</td>\n",
       "      <td>not collected</td>\n",
       "      <td>1</td>\n",
       "      <td>0</td>\n",
       "      <td>not collected</td>\n",
       "      <td>None</td>\n",
       "      <td>None</td>\n",
       "      <td>None</td>\n",
       "      <td>None</td>\n",
       "    </tr>\n",
       "    <tr>\n",
       "      <th>4</th>\n",
       "      <td>5</td>\n",
       "      <td>forest</td>\n",
       "      <td>81</td>\n",
       "      <td>forest</td>\n",
       "      <td>1</td>\n",
       "      <td>0</td>\n",
       "      <td>forest</td>\n",
       "      <td>None</td>\n",
       "      <td>None</td>\n",
       "      <td>ENVO:00000111</td>\n",
       "      <td>forested area</td>\n",
       "    </tr>\n",
       "    <tr>\n",
       "      <th>...</th>\n",
       "      <td>...</td>\n",
       "      <td>...</td>\n",
       "      <td>...</td>\n",
       "      <td>...</td>\n",
       "      <td>...</td>\n",
       "      <td>...</td>\n",
       "      <td>...</td>\n",
       "      <td>...</td>\n",
       "      <td>...</td>\n",
       "      <td>...</td>\n",
       "      <td>...</td>\n",
       "    </tr>\n",
       "    <tr>\n",
       "      <th>10288</th>\n",
       "      <td>9816</td>\n",
       "      <td>ENVO:00005770</td>\n",
       "      <td>1</td>\n",
       "      <td>ENVO:00005770</td>\n",
       "      <td>1</td>\n",
       "      <td>1</td>\n",
       "      <td></td>\n",
       "      <td>ENVO:00005770</td>\n",
       "      <td>beech forest soil</td>\n",
       "      <td>None</td>\n",
       "      <td>None</td>\n",
       "    </tr>\n",
       "    <tr>\n",
       "      <th>10289</th>\n",
       "      <td>9817</td>\n",
       "      <td>Algal crust,discontinuous and restricted in a ...</td>\n",
       "      <td>1</td>\n",
       "      <td>Algal crust,discontinuous and restricted in a ...</td>\n",
       "      <td>1</td>\n",
       "      <td>0</td>\n",
       "      <td>Algal crust,discontinuous and restricted in a ...</td>\n",
       "      <td>None</td>\n",
       "      <td>None</td>\n",
       "      <td>PATO:0000690</td>\n",
       "      <td>discontinuous</td>\n",
       "    </tr>\n",
       "    <tr>\n",
       "      <th>10290</th>\n",
       "      <td>9818</td>\n",
       "      <td>Bulk-CK</td>\n",
       "      <td>1</td>\n",
       "      <td>Bulk-CK</td>\n",
       "      <td>1</td>\n",
       "      <td>0</td>\n",
       "      <td>Bulk-CK</td>\n",
       "      <td>None</td>\n",
       "      <td>None</td>\n",
       "      <td>None</td>\n",
       "      <td>None</td>\n",
       "    </tr>\n",
       "    <tr>\n",
       "      <th>10291</th>\n",
       "      <td>9819</td>\n",
       "      <td>7220</td>\n",
       "      <td>1</td>\n",
       "      <td>7220</td>\n",
       "      <td>1</td>\n",
       "      <td>0</td>\n",
       "      <td>7220</td>\n",
       "      <td>None</td>\n",
       "      <td>None</td>\n",
       "      <td>None</td>\n",
       "      <td>None</td>\n",
       "    </tr>\n",
       "    <tr>\n",
       "      <th>10292</th>\n",
       "      <td>9820</td>\n",
       "      <td>1320</td>\n",
       "      <td>1</td>\n",
       "      <td>1320</td>\n",
       "      <td>1</td>\n",
       "      <td>0</td>\n",
       "      <td>1320</td>\n",
       "      <td>None</td>\n",
       "      <td>None</td>\n",
       "      <td>None</td>\n",
       "      <td>None</td>\n",
       "    </tr>\n",
       "  </tbody>\n",
       "</table>\n",
       "<p>10293 rows × 11 columns</p>\n",
       "</div>"
      ]
     },
     "execution_count": 67,
     "metadata": {},
     "output_type": "execute_result"
    }
   ],
   "execution_count": 67
  },
  {
   "metadata": {},
   "cell_type": "markdown",
   "source": [
    "## we now have a list of CURIes for each normalized annotation\n",
    "\n",
    "This could be because the submitter provided a CURIe and a label that don't match\n",
    "*One* case of this is dragging a CURIe down a column in a spreadsheet, expecting it to be copied,\n",
    "but actually auto-incrementing it\n",
    "\n",
    "Now attempt to find one best CURIe for each annotation... by now we have lost the ability to retain multiple legitimate\n",
    "but improperly separated CURIes"
   ],
   "id": "69ed214e0186f459"
  },
  {
   "cell_type": "code",
   "id": "951ca41984b81e7d",
   "metadata": {
    "ExecuteTime": {
     "end_time": "2024-12-11T15:42:05.633571Z",
     "start_time": "2024-12-11T15:42:05.524267Z"
    }
   },
   "source": [
    "# todo don't accept extracted curie if no real label?\n",
    "# any kind of string similarity checking for label of annotated curie vs extracted label ?\n",
    "# look for long stretches of curies?\n",
    "# can we measure the beneficial impact of any of this? current crux: how to distribute counts\n",
    "\n",
    "ncbi_frame['curie_list'] = ncbi_frame.apply(\n",
    "    lambda my_row: list({my_row['extracted_curie'], my_row['longest_annotation_curie']} - {None}),\n",
    "    axis=1\n",
    ")\n",
    "\n",
    "ncbi_frame['unique_curie_count'] = ncbi_frame['curie_list'].apply(len)"
   ],
   "outputs": [],
   "execution_count": 68
  },
  {
   "cell_type": "code",
   "id": "349610c477ebf149",
   "metadata": {
    "ExecuteTime": {
     "end_time": "2024-12-11T15:42:05.640671Z",
     "start_time": "2024-12-11T15:42:05.635147Z"
    }
   },
   "source": [
    "ncbi_frame['unique_curie_count'].value_counts()"
   ],
   "outputs": [
    {
     "data": {
      "text/plain": [
       "unique_curie_count\n",
       "1    5872\n",
       "0    3866\n",
       "2     555\n",
       "Name: count, dtype: int64"
      ]
     },
     "execution_count": 69,
     "metadata": {},
     "output_type": "execute_result"
    }
   ],
   "execution_count": 69
  },
  {
   "cell_type": "code",
   "id": "e6a8c0273f36e906",
   "metadata": {
    "ExecuteTime": {
     "end_time": "2024-12-11T15:42:05.647867Z",
     "start_time": "2024-12-11T15:42:05.642661Z"
    }
   },
   "source": [
    "double_curie_frame = ncbi_frame[ncbi_frame['unique_curie_count'] > 1]"
   ],
   "outputs": [],
   "execution_count": 70
  },
  {
   "cell_type": "code",
   "id": "334e7c646337a914",
   "metadata": {
    "ExecuteTime": {
     "end_time": "2024-12-11T15:42:05.654755Z",
     "start_time": "2024-12-11T15:42:05.649536Z"
    }
   },
   "source": [
    "double_curie_frame = double_curie_frame[['extracted_curie', 'longest_annotation_curie']]"
   ],
   "outputs": [],
   "execution_count": 71
  },
  {
   "cell_type": "code",
   "id": "874149830df3dd8a",
   "metadata": {
    "ExecuteTime": {
     "end_time": "2024-12-11T15:42:05.661495Z",
     "start_time": "2024-12-11T15:42:05.656383Z"
    }
   },
   "source": [
    "double_curie_frame = double_curie_frame.drop_duplicates()"
   ],
   "outputs": [],
   "execution_count": 72
  },
  {
   "cell_type": "code",
   "id": "cdfc0bda39f3ad6d",
   "metadata": {
    "ExecuteTime": {
     "end_time": "2024-12-11T15:42:05.668130Z",
     "start_time": "2024-12-11T15:42:05.663427Z"
    }
   },
   "source": [
    "double_curie_frame[['extracted_prefix', 'extracted_local_id']] = double_curie_frame['extracted_curie'].str.split(':', expand=True)"
   ],
   "outputs": [],
   "execution_count": 73
  },
  {
   "cell_type": "code",
   "id": "de6fcee63f6677d",
   "metadata": {
    "ExecuteTime": {
     "end_time": "2024-12-11T15:42:05.673539Z",
     "start_time": "2024-12-11T15:42:05.669702Z"
    }
   },
   "source": [
    "double_curie_frame['extracted_local_id_int'] = pd.to_numeric(double_curie_frame['extracted_local_id'], errors='coerce').astype('Int64')"
   ],
   "outputs": [],
   "execution_count": 74
  },
  {
   "metadata": {
    "ExecuteTime": {
     "end_time": "2024-12-11T15:42:05.684315Z",
     "start_time": "2024-12-11T15:42:05.675104Z"
    }
   },
   "cell_type": "code",
   "source": "double_curie_frame",
   "id": "185c2d7e43614639",
   "outputs": [
    {
     "data": {
      "text/plain": [
       "      extracted_curie longest_annotation_curie extracted_prefix  \\\n",
       "178     ENVO:00000486             PATO:0000574             ENVO   \n",
       "272      ENVO:3400002            ENVO:03400002             ENVO   \n",
       "590     ENVO:00002115            ENVO:00002984             ENVO   \n",
       "680     ENVO:01000198            ENVO:01000431             ENVO   \n",
       "963     ENVO:01001430            ENVO:00000077             ENVO   \n",
       "...               ...                      ...              ...   \n",
       "10167      ENVO:01041            ENVO:00000078             ENVO   \n",
       "10220   ENVO:00000246            ENVO:00000230             ENVO   \n",
       "10221   ENVO:01000621            ENVO:01000620             ENVO   \n",
       "10248   ENVO:01000892            ENVO:01000635             ENVO   \n",
       "10273   ENVO:00000562            ENVO:00000011             ENVO   \n",
       "\n",
       "      extracted_local_id  extracted_local_id_int  \n",
       "178             00000486                     486  \n",
       "272              3400002                 3400002  \n",
       "590             00002115                    2115  \n",
       "680             01000198                 1000198  \n",
       "963             01001430                 1001430  \n",
       "...                  ...                     ...  \n",
       "10167              01041                    1041  \n",
       "10220           00000246                     246  \n",
       "10221           01000621                 1000621  \n",
       "10248           01000892                 1000892  \n",
       "10273           00000562                     562  \n",
       "\n",
       "[438 rows x 5 columns]"
      ],
      "text/html": [
       "<div>\n",
       "<style scoped>\n",
       "    .dataframe tbody tr th:only-of-type {\n",
       "        vertical-align: middle;\n",
       "    }\n",
       "\n",
       "    .dataframe tbody tr th {\n",
       "        vertical-align: top;\n",
       "    }\n",
       "\n",
       "    .dataframe thead th {\n",
       "        text-align: right;\n",
       "    }\n",
       "</style>\n",
       "<table border=\"1\" class=\"dataframe\">\n",
       "  <thead>\n",
       "    <tr style=\"text-align: right;\">\n",
       "      <th></th>\n",
       "      <th>extracted_curie</th>\n",
       "      <th>longest_annotation_curie</th>\n",
       "      <th>extracted_prefix</th>\n",
       "      <th>extracted_local_id</th>\n",
       "      <th>extracted_local_id_int</th>\n",
       "    </tr>\n",
       "  </thead>\n",
       "  <tbody>\n",
       "    <tr>\n",
       "      <th>178</th>\n",
       "      <td>ENVO:00000486</td>\n",
       "      <td>PATO:0000574</td>\n",
       "      <td>ENVO</td>\n",
       "      <td>00000486</td>\n",
       "      <td>486</td>\n",
       "    </tr>\n",
       "    <tr>\n",
       "      <th>272</th>\n",
       "      <td>ENVO:3400002</td>\n",
       "      <td>ENVO:03400002</td>\n",
       "      <td>ENVO</td>\n",
       "      <td>3400002</td>\n",
       "      <td>3400002</td>\n",
       "    </tr>\n",
       "    <tr>\n",
       "      <th>590</th>\n",
       "      <td>ENVO:00002115</td>\n",
       "      <td>ENVO:00002984</td>\n",
       "      <td>ENVO</td>\n",
       "      <td>00002115</td>\n",
       "      <td>2115</td>\n",
       "    </tr>\n",
       "    <tr>\n",
       "      <th>680</th>\n",
       "      <td>ENVO:01000198</td>\n",
       "      <td>ENVO:01000431</td>\n",
       "      <td>ENVO</td>\n",
       "      <td>01000198</td>\n",
       "      <td>1000198</td>\n",
       "    </tr>\n",
       "    <tr>\n",
       "      <th>963</th>\n",
       "      <td>ENVO:01001430</td>\n",
       "      <td>ENVO:00000077</td>\n",
       "      <td>ENVO</td>\n",
       "      <td>01001430</td>\n",
       "      <td>1001430</td>\n",
       "    </tr>\n",
       "    <tr>\n",
       "      <th>...</th>\n",
       "      <td>...</td>\n",
       "      <td>...</td>\n",
       "      <td>...</td>\n",
       "      <td>...</td>\n",
       "      <td>...</td>\n",
       "    </tr>\n",
       "    <tr>\n",
       "      <th>10167</th>\n",
       "      <td>ENVO:01041</td>\n",
       "      <td>ENVO:00000078</td>\n",
       "      <td>ENVO</td>\n",
       "      <td>01041</td>\n",
       "      <td>1041</td>\n",
       "    </tr>\n",
       "    <tr>\n",
       "      <th>10220</th>\n",
       "      <td>ENVO:00000246</td>\n",
       "      <td>ENVO:00000230</td>\n",
       "      <td>ENVO</td>\n",
       "      <td>00000246</td>\n",
       "      <td>246</td>\n",
       "    </tr>\n",
       "    <tr>\n",
       "      <th>10221</th>\n",
       "      <td>ENVO:01000621</td>\n",
       "      <td>ENVO:01000620</td>\n",
       "      <td>ENVO</td>\n",
       "      <td>01000621</td>\n",
       "      <td>1000621</td>\n",
       "    </tr>\n",
       "    <tr>\n",
       "      <th>10248</th>\n",
       "      <td>ENVO:01000892</td>\n",
       "      <td>ENVO:01000635</td>\n",
       "      <td>ENVO</td>\n",
       "      <td>01000892</td>\n",
       "      <td>1000892</td>\n",
       "    </tr>\n",
       "    <tr>\n",
       "      <th>10273</th>\n",
       "      <td>ENVO:00000562</td>\n",
       "      <td>ENVO:00000011</td>\n",
       "      <td>ENVO</td>\n",
       "      <td>00000562</td>\n",
       "      <td>562</td>\n",
       "    </tr>\n",
       "  </tbody>\n",
       "</table>\n",
       "<p>438 rows × 5 columns</p>\n",
       "</div>"
      ]
     },
     "execution_count": 75,
     "metadata": {},
     "output_type": "execute_result"
    }
   ],
   "execution_count": 75
  },
  {
   "cell_type": "code",
   "id": "fae831b04ed985ef",
   "metadata": {
    "ExecuteTime": {
     "end_time": "2024-12-11T15:42:05.689498Z",
     "start_time": "2024-12-11T15:42:05.685789Z"
    }
   },
   "source": [
    "# Ensure extracted_local_id_int is unique and sorted\n",
    "unique_sorted_series = double_curie_frame['extracted_local_id_int'].dropna().drop_duplicates().sort_values()\n"
   ],
   "outputs": [],
   "execution_count": 76
  },
  {
   "cell_type": "code",
   "id": "d244d7b150a3b413",
   "metadata": {
    "ExecuteTime": {
     "end_time": "2024-12-11T15:42:05.702777Z",
     "start_time": "2024-12-11T15:42:05.691125Z"
    }
   },
   "source": [
    "# Find stretches\n",
    "stretches_dict = find_consecutive_stretches_dict(unique_sorted_series)\n"
   ],
   "outputs": [],
   "execution_count": 77
  },
  {
   "cell_type": "code",
   "id": "2fda8122842f63c0",
   "metadata": {
    "ExecuteTime": {
     "end_time": "2024-12-11T15:42:05.707725Z",
     "start_time": "2024-12-11T15:42:05.704442Z"
    }
   },
   "source": [
    "# Convert the stretches dictionary into a DataFrame\n",
    "stretches_df = stretches_dict_to_long_dataframe(stretches_dict)"
   ],
   "outputs": [],
   "execution_count": 78
  },
  {
   "metadata": {},
   "cell_type": "markdown",
   "source": [
    "`stretches_df` shows groups of extracted EnvoO ids (CURIes without prefix or padding zeros) that share a common CURIe by oaklib annotation of the textual part. This may not be the best or only way to address these spurious drag-stretch, auto-incremented CURIes\n",
    "\n",
    "Ie 1001458 corresponds to ENVO:01001458, 'mist'\n",
    "\n",
    "_although it theoretically could have been ENVO:1001458 since EnvO CURIes can have 7 or 8 digits_\n",
    "\n",
    "In group 9, there are another ~ 50 sequential id values, all corresponding to environmental context annotations whose best oak-annotated class is ENVO:01001803, 'tropical forest'!\n",
    "\n",
    "How much of an impact does this have? "
   ],
   "id": "22f0c242c2505f2b"
  },
  {
   "cell_type": "code",
   "id": "367abafc0ae13a6d",
   "metadata": {
    "ExecuteTime": {
     "end_time": "2024-12-11T15:42:05.715823Z",
     "start_time": "2024-12-11T15:42:05.709125Z"
    }
   },
   "source": [
    "stretches_df"
   ],
   "outputs": [
    {
     "data": {
      "text/plain": [
       "     stretch_id    value\n",
       "0             1        1\n",
       "1             1        2\n",
       "2             1        3\n",
       "3             1        4\n",
       "4             1        5\n",
       "..          ...      ...\n",
       "354           9  1001507\n",
       "355           9  1001508\n",
       "356           9  1001509\n",
       "357           9  1001510\n",
       "358           9  1001511\n",
       "\n",
       "[359 rows x 2 columns]"
      ],
      "text/html": [
       "<div>\n",
       "<style scoped>\n",
       "    .dataframe tbody tr th:only-of-type {\n",
       "        vertical-align: middle;\n",
       "    }\n",
       "\n",
       "    .dataframe tbody tr th {\n",
       "        vertical-align: top;\n",
       "    }\n",
       "\n",
       "    .dataframe thead th {\n",
       "        text-align: right;\n",
       "    }\n",
       "</style>\n",
       "<table border=\"1\" class=\"dataframe\">\n",
       "  <thead>\n",
       "    <tr style=\"text-align: right;\">\n",
       "      <th></th>\n",
       "      <th>stretch_id</th>\n",
       "      <th>value</th>\n",
       "    </tr>\n",
       "  </thead>\n",
       "  <tbody>\n",
       "    <tr>\n",
       "      <th>0</th>\n",
       "      <td>1</td>\n",
       "      <td>1</td>\n",
       "    </tr>\n",
       "    <tr>\n",
       "      <th>1</th>\n",
       "      <td>1</td>\n",
       "      <td>2</td>\n",
       "    </tr>\n",
       "    <tr>\n",
       "      <th>2</th>\n",
       "      <td>1</td>\n",
       "      <td>3</td>\n",
       "    </tr>\n",
       "    <tr>\n",
       "      <th>3</th>\n",
       "      <td>1</td>\n",
       "      <td>4</td>\n",
       "    </tr>\n",
       "    <tr>\n",
       "      <th>4</th>\n",
       "      <td>1</td>\n",
       "      <td>5</td>\n",
       "    </tr>\n",
       "    <tr>\n",
       "      <th>...</th>\n",
       "      <td>...</td>\n",
       "      <td>...</td>\n",
       "    </tr>\n",
       "    <tr>\n",
       "      <th>354</th>\n",
       "      <td>9</td>\n",
       "      <td>1001507</td>\n",
       "    </tr>\n",
       "    <tr>\n",
       "      <th>355</th>\n",
       "      <td>9</td>\n",
       "      <td>1001508</td>\n",
       "    </tr>\n",
       "    <tr>\n",
       "      <th>356</th>\n",
       "      <td>9</td>\n",
       "      <td>1001509</td>\n",
       "    </tr>\n",
       "    <tr>\n",
       "      <th>357</th>\n",
       "      <td>9</td>\n",
       "      <td>1001510</td>\n",
       "    </tr>\n",
       "    <tr>\n",
       "      <th>358</th>\n",
       "      <td>9</td>\n",
       "      <td>1001511</td>\n",
       "    </tr>\n",
       "  </tbody>\n",
       "</table>\n",
       "<p>359 rows × 2 columns</p>\n",
       "</div>"
      ]
     },
     "execution_count": 79,
     "metadata": {},
     "output_type": "execute_result"
    }
   ],
   "execution_count": 79
  },
  {
   "cell_type": "code",
   "id": "8ee27ecc0697a5f5",
   "metadata": {
    "ExecuteTime": {
     "end_time": "2024-12-11T15:42:05.721520Z",
     "start_time": "2024-12-11T15:42:05.717130Z"
    }
   },
   "source": [
    "# Perform the left merge\n",
    "double_curie_frame = double_curie_frame.merge(\n",
    "    stretches_df,\n",
    "    left_on='extracted_local_id_int',\n",
    "    right_on='value',\n",
    "    how='left'\n",
    ")"
   ],
   "outputs": [],
   "execution_count": 80
  },
  {
   "cell_type": "code",
   "id": "59e278981b799f14",
   "metadata": {
    "ExecuteTime": {
     "end_time": "2024-12-11T15:42:05.734278Z",
     "start_time": "2024-12-11T15:42:05.722908Z"
    }
   },
   "source": [
    "stretch_summary_df = summarize_stretch_groups(double_curie_frame)\n"
   ],
   "outputs": [],
   "execution_count": 81
  },
  {
   "metadata": {},
   "cell_type": "markdown",
   "source": "For stretch 9, which included extracted CURIes from ENVO:01001458 to ENVO:01001511, the oaklib test annotation of 100% of the submitted environmental context annotations was ENVO:01001803, so we will keep that and disregard all of the CURIes from the stretch\n",
   "id": "46a141c88d2f24a8"
  },
  {
   "cell_type": "code",
   "id": "cee6e3ff1e1ca0d3",
   "metadata": {
    "ExecuteTime": {
     "end_time": "2024-12-11T15:42:05.743812Z",
     "start_time": "2024-12-11T15:42:05.735684Z"
    }
   },
   "source": [
    "stretch_summary_df"
   ],
   "outputs": [
    {
     "data": {
      "text/plain": [
       "   stretch_id most_common_longest_annotation_curie  fraction\n",
       "0         1.0                        ENVO:01000703  0.683544\n",
       "1         2.0                        ENVO:00000230  0.952381\n",
       "2         3.0                        ENVO:00000428  0.993056\n",
       "3         4.0                        ENVO:00000873  1.000000\n",
       "4         5.0                        ENVO:00000078  1.000000\n",
       "5         6.0                        ENVO:00002001  0.950000\n",
       "6         7.0                        ENVO:01000431  0.333333\n",
       "7         8.0                        ENVO:01000628  0.483871\n",
       "8         9.0                        ENVO:01001803  1.000000"
      ],
      "text/html": [
       "<div>\n",
       "<style scoped>\n",
       "    .dataframe tbody tr th:only-of-type {\n",
       "        vertical-align: middle;\n",
       "    }\n",
       "\n",
       "    .dataframe tbody tr th {\n",
       "        vertical-align: top;\n",
       "    }\n",
       "\n",
       "    .dataframe thead th {\n",
       "        text-align: right;\n",
       "    }\n",
       "</style>\n",
       "<table border=\"1\" class=\"dataframe\">\n",
       "  <thead>\n",
       "    <tr style=\"text-align: right;\">\n",
       "      <th></th>\n",
       "      <th>stretch_id</th>\n",
       "      <th>most_common_longest_annotation_curie</th>\n",
       "      <th>fraction</th>\n",
       "    </tr>\n",
       "  </thead>\n",
       "  <tbody>\n",
       "    <tr>\n",
       "      <th>0</th>\n",
       "      <td>1.0</td>\n",
       "      <td>ENVO:01000703</td>\n",
       "      <td>0.683544</td>\n",
       "    </tr>\n",
       "    <tr>\n",
       "      <th>1</th>\n",
       "      <td>2.0</td>\n",
       "      <td>ENVO:00000230</td>\n",
       "      <td>0.952381</td>\n",
       "    </tr>\n",
       "    <tr>\n",
       "      <th>2</th>\n",
       "      <td>3.0</td>\n",
       "      <td>ENVO:00000428</td>\n",
       "      <td>0.993056</td>\n",
       "    </tr>\n",
       "    <tr>\n",
       "      <th>3</th>\n",
       "      <td>4.0</td>\n",
       "      <td>ENVO:00000873</td>\n",
       "      <td>1.000000</td>\n",
       "    </tr>\n",
       "    <tr>\n",
       "      <th>4</th>\n",
       "      <td>5.0</td>\n",
       "      <td>ENVO:00000078</td>\n",
       "      <td>1.000000</td>\n",
       "    </tr>\n",
       "    <tr>\n",
       "      <th>5</th>\n",
       "      <td>6.0</td>\n",
       "      <td>ENVO:00002001</td>\n",
       "      <td>0.950000</td>\n",
       "    </tr>\n",
       "    <tr>\n",
       "      <th>6</th>\n",
       "      <td>7.0</td>\n",
       "      <td>ENVO:01000431</td>\n",
       "      <td>0.333333</td>\n",
       "    </tr>\n",
       "    <tr>\n",
       "      <th>7</th>\n",
       "      <td>8.0</td>\n",
       "      <td>ENVO:01000628</td>\n",
       "      <td>0.483871</td>\n",
       "    </tr>\n",
       "    <tr>\n",
       "      <th>8</th>\n",
       "      <td>9.0</td>\n",
       "      <td>ENVO:01001803</td>\n",
       "      <td>1.000000</td>\n",
       "    </tr>\n",
       "  </tbody>\n",
       "</table>\n",
       "</div>"
      ]
     },
     "execution_count": 82,
     "metadata": {},
     "output_type": "execute_result"
    }
   ],
   "execution_count": 82
  },
  {
   "metadata": {
    "ExecuteTime": {
     "end_time": "2024-12-11T15:42:05.747718Z",
     "start_time": "2024-12-11T15:42:05.745200Z"
    }
   },
   "cell_type": "code",
   "source": "decisive_fraction_threshold = 0.9",
   "id": "dcc5ba2adda9189f",
   "outputs": [],
   "execution_count": 83
  },
  {
   "metadata": {
    "ExecuteTime": {
     "end_time": "2024-12-11T15:42:05.752957Z",
     "start_time": "2024-12-11T15:42:05.749343Z"
    }
   },
   "cell_type": "code",
   "source": "decisive_stretch_summary_df = stretch_summary_df[stretch_summary_df['fraction'] >= decisive_fraction_threshold]",
   "id": "529c6e4d71a8bf31",
   "outputs": [],
   "execution_count": 84
  },
  {
   "metadata": {
    "ExecuteTime": {
     "end_time": "2024-12-11T15:42:05.762802Z",
     "start_time": "2024-12-11T15:42:05.754409Z"
    }
   },
   "cell_type": "code",
   "source": "decisive_stretch_summary_df",
   "id": "db568a6f50b6e0",
   "outputs": [
    {
     "data": {
      "text/plain": [
       "   stretch_id most_common_longest_annotation_curie  fraction\n",
       "1         2.0                        ENVO:00000230  0.952381\n",
       "2         3.0                        ENVO:00000428  0.993056\n",
       "3         4.0                        ENVO:00000873  1.000000\n",
       "4         5.0                        ENVO:00000078  1.000000\n",
       "5         6.0                        ENVO:00002001  0.950000\n",
       "8         9.0                        ENVO:01001803  1.000000"
      ],
      "text/html": [
       "<div>\n",
       "<style scoped>\n",
       "    .dataframe tbody tr th:only-of-type {\n",
       "        vertical-align: middle;\n",
       "    }\n",
       "\n",
       "    .dataframe tbody tr th {\n",
       "        vertical-align: top;\n",
       "    }\n",
       "\n",
       "    .dataframe thead th {\n",
       "        text-align: right;\n",
       "    }\n",
       "</style>\n",
       "<table border=\"1\" class=\"dataframe\">\n",
       "  <thead>\n",
       "    <tr style=\"text-align: right;\">\n",
       "      <th></th>\n",
       "      <th>stretch_id</th>\n",
       "      <th>most_common_longest_annotation_curie</th>\n",
       "      <th>fraction</th>\n",
       "    </tr>\n",
       "  </thead>\n",
       "  <tbody>\n",
       "    <tr>\n",
       "      <th>1</th>\n",
       "      <td>2.0</td>\n",
       "      <td>ENVO:00000230</td>\n",
       "      <td>0.952381</td>\n",
       "    </tr>\n",
       "    <tr>\n",
       "      <th>2</th>\n",
       "      <td>3.0</td>\n",
       "      <td>ENVO:00000428</td>\n",
       "      <td>0.993056</td>\n",
       "    </tr>\n",
       "    <tr>\n",
       "      <th>3</th>\n",
       "      <td>4.0</td>\n",
       "      <td>ENVO:00000873</td>\n",
       "      <td>1.000000</td>\n",
       "    </tr>\n",
       "    <tr>\n",
       "      <th>4</th>\n",
       "      <td>5.0</td>\n",
       "      <td>ENVO:00000078</td>\n",
       "      <td>1.000000</td>\n",
       "    </tr>\n",
       "    <tr>\n",
       "      <th>5</th>\n",
       "      <td>6.0</td>\n",
       "      <td>ENVO:00002001</td>\n",
       "      <td>0.950000</td>\n",
       "    </tr>\n",
       "    <tr>\n",
       "      <th>8</th>\n",
       "      <td>9.0</td>\n",
       "      <td>ENVO:01001803</td>\n",
       "      <td>1.000000</td>\n",
       "    </tr>\n",
       "  </tbody>\n",
       "</table>\n",
       "</div>"
      ]
     },
     "execution_count": 85,
     "metadata": {},
     "output_type": "execute_result"
    }
   ],
   "execution_count": 85
  },
  {
   "cell_type": "code",
   "id": "f47a58a1945943b8",
   "metadata": {
    "ExecuteTime": {
     "end_time": "2024-12-11T15:42:05.769174Z",
     "start_time": "2024-12-11T15:42:05.764402Z"
    }
   },
   "source": [
    "# Perform the left merge\n",
    "double_curie_frame = double_curie_frame.merge(\n",
    "    decisive_stretch_summary_df,\n",
    "    left_on='stretch_id',\n",
    "    right_on='stretch_id',\n",
    "    how='left'\n",
    ")"
   ],
   "outputs": [],
   "execution_count": 86
  },
  {
   "metadata": {
    "ExecuteTime": {
     "end_time": "2024-12-11T15:42:05.784014Z",
     "start_time": "2024-12-11T15:42:05.770551Z"
    }
   },
   "cell_type": "code",
   "source": "double_curie_frame",
   "id": "babb21e01016715",
   "outputs": [
    {
     "data": {
      "text/plain": [
       "    extracted_curie longest_annotation_curie extracted_prefix  \\\n",
       "0     ENVO:00000486             PATO:0000574             ENVO   \n",
       "1      ENVO:3400002            ENVO:03400002             ENVO   \n",
       "2     ENVO:00002115            ENVO:00002984             ENVO   \n",
       "3     ENVO:01000198            ENVO:01000431             ENVO   \n",
       "4     ENVO:01001430            ENVO:00000077             ENVO   \n",
       "..              ...                      ...              ...   \n",
       "433      ENVO:01041            ENVO:00000078             ENVO   \n",
       "434   ENVO:00000246            ENVO:00000230             ENVO   \n",
       "435   ENVO:01000621            ENVO:01000620             ENVO   \n",
       "436   ENVO:01000892            ENVO:01000635             ENVO   \n",
       "437   ENVO:00000562            ENVO:00000011             ENVO   \n",
       "\n",
       "    extracted_local_id  extracted_local_id_int  stretch_id      value  \\\n",
       "0             00000486                     486         NaN        NaN   \n",
       "1              3400002                 3400002         NaN        NaN   \n",
       "2             00002115                    2115         NaN        NaN   \n",
       "3             01000198                 1000198         7.0  1000198.0   \n",
       "4             01001430                 1001430         NaN        NaN   \n",
       "..                 ...                     ...         ...        ...   \n",
       "433              01041                    1041         5.0     1041.0   \n",
       "434           00000246                     246         2.0      246.0   \n",
       "435           01000621                 1000621         8.0  1000621.0   \n",
       "436           01000892                 1000892         NaN        NaN   \n",
       "437           00000562                     562         NaN        NaN   \n",
       "\n",
       "    most_common_longest_annotation_curie  fraction  \n",
       "0                                    NaN       NaN  \n",
       "1                                    NaN       NaN  \n",
       "2                                    NaN       NaN  \n",
       "3                                    NaN       NaN  \n",
       "4                                    NaN       NaN  \n",
       "..                                   ...       ...  \n",
       "433                        ENVO:00000078  1.000000  \n",
       "434                        ENVO:00000230  0.952381  \n",
       "435                                  NaN       NaN  \n",
       "436                                  NaN       NaN  \n",
       "437                                  NaN       NaN  \n",
       "\n",
       "[438 rows x 9 columns]"
      ],
      "text/html": [
       "<div>\n",
       "<style scoped>\n",
       "    .dataframe tbody tr th:only-of-type {\n",
       "        vertical-align: middle;\n",
       "    }\n",
       "\n",
       "    .dataframe tbody tr th {\n",
       "        vertical-align: top;\n",
       "    }\n",
       "\n",
       "    .dataframe thead th {\n",
       "        text-align: right;\n",
       "    }\n",
       "</style>\n",
       "<table border=\"1\" class=\"dataframe\">\n",
       "  <thead>\n",
       "    <tr style=\"text-align: right;\">\n",
       "      <th></th>\n",
       "      <th>extracted_curie</th>\n",
       "      <th>longest_annotation_curie</th>\n",
       "      <th>extracted_prefix</th>\n",
       "      <th>extracted_local_id</th>\n",
       "      <th>extracted_local_id_int</th>\n",
       "      <th>stretch_id</th>\n",
       "      <th>value</th>\n",
       "      <th>most_common_longest_annotation_curie</th>\n",
       "      <th>fraction</th>\n",
       "    </tr>\n",
       "  </thead>\n",
       "  <tbody>\n",
       "    <tr>\n",
       "      <th>0</th>\n",
       "      <td>ENVO:00000486</td>\n",
       "      <td>PATO:0000574</td>\n",
       "      <td>ENVO</td>\n",
       "      <td>00000486</td>\n",
       "      <td>486</td>\n",
       "      <td>NaN</td>\n",
       "      <td>NaN</td>\n",
       "      <td>NaN</td>\n",
       "      <td>NaN</td>\n",
       "    </tr>\n",
       "    <tr>\n",
       "      <th>1</th>\n",
       "      <td>ENVO:3400002</td>\n",
       "      <td>ENVO:03400002</td>\n",
       "      <td>ENVO</td>\n",
       "      <td>3400002</td>\n",
       "      <td>3400002</td>\n",
       "      <td>NaN</td>\n",
       "      <td>NaN</td>\n",
       "      <td>NaN</td>\n",
       "      <td>NaN</td>\n",
       "    </tr>\n",
       "    <tr>\n",
       "      <th>2</th>\n",
       "      <td>ENVO:00002115</td>\n",
       "      <td>ENVO:00002984</td>\n",
       "      <td>ENVO</td>\n",
       "      <td>00002115</td>\n",
       "      <td>2115</td>\n",
       "      <td>NaN</td>\n",
       "      <td>NaN</td>\n",
       "      <td>NaN</td>\n",
       "      <td>NaN</td>\n",
       "    </tr>\n",
       "    <tr>\n",
       "      <th>3</th>\n",
       "      <td>ENVO:01000198</td>\n",
       "      <td>ENVO:01000431</td>\n",
       "      <td>ENVO</td>\n",
       "      <td>01000198</td>\n",
       "      <td>1000198</td>\n",
       "      <td>7.0</td>\n",
       "      <td>1000198.0</td>\n",
       "      <td>NaN</td>\n",
       "      <td>NaN</td>\n",
       "    </tr>\n",
       "    <tr>\n",
       "      <th>4</th>\n",
       "      <td>ENVO:01001430</td>\n",
       "      <td>ENVO:00000077</td>\n",
       "      <td>ENVO</td>\n",
       "      <td>01001430</td>\n",
       "      <td>1001430</td>\n",
       "      <td>NaN</td>\n",
       "      <td>NaN</td>\n",
       "      <td>NaN</td>\n",
       "      <td>NaN</td>\n",
       "    </tr>\n",
       "    <tr>\n",
       "      <th>...</th>\n",
       "      <td>...</td>\n",
       "      <td>...</td>\n",
       "      <td>...</td>\n",
       "      <td>...</td>\n",
       "      <td>...</td>\n",
       "      <td>...</td>\n",
       "      <td>...</td>\n",
       "      <td>...</td>\n",
       "      <td>...</td>\n",
       "    </tr>\n",
       "    <tr>\n",
       "      <th>433</th>\n",
       "      <td>ENVO:01041</td>\n",
       "      <td>ENVO:00000078</td>\n",
       "      <td>ENVO</td>\n",
       "      <td>01041</td>\n",
       "      <td>1041</td>\n",
       "      <td>5.0</td>\n",
       "      <td>1041.0</td>\n",
       "      <td>ENVO:00000078</td>\n",
       "      <td>1.000000</td>\n",
       "    </tr>\n",
       "    <tr>\n",
       "      <th>434</th>\n",
       "      <td>ENVO:00000246</td>\n",
       "      <td>ENVO:00000230</td>\n",
       "      <td>ENVO</td>\n",
       "      <td>00000246</td>\n",
       "      <td>246</td>\n",
       "      <td>2.0</td>\n",
       "      <td>246.0</td>\n",
       "      <td>ENVO:00000230</td>\n",
       "      <td>0.952381</td>\n",
       "    </tr>\n",
       "    <tr>\n",
       "      <th>435</th>\n",
       "      <td>ENVO:01000621</td>\n",
       "      <td>ENVO:01000620</td>\n",
       "      <td>ENVO</td>\n",
       "      <td>01000621</td>\n",
       "      <td>1000621</td>\n",
       "      <td>8.0</td>\n",
       "      <td>1000621.0</td>\n",
       "      <td>NaN</td>\n",
       "      <td>NaN</td>\n",
       "    </tr>\n",
       "    <tr>\n",
       "      <th>436</th>\n",
       "      <td>ENVO:01000892</td>\n",
       "      <td>ENVO:01000635</td>\n",
       "      <td>ENVO</td>\n",
       "      <td>01000892</td>\n",
       "      <td>1000892</td>\n",
       "      <td>NaN</td>\n",
       "      <td>NaN</td>\n",
       "      <td>NaN</td>\n",
       "      <td>NaN</td>\n",
       "    </tr>\n",
       "    <tr>\n",
       "      <th>437</th>\n",
       "      <td>ENVO:00000562</td>\n",
       "      <td>ENVO:00000011</td>\n",
       "      <td>ENVO</td>\n",
       "      <td>00000562</td>\n",
       "      <td>562</td>\n",
       "      <td>NaN</td>\n",
       "      <td>NaN</td>\n",
       "      <td>NaN</td>\n",
       "      <td>NaN</td>\n",
       "    </tr>\n",
       "  </tbody>\n",
       "</table>\n",
       "<p>438 rows × 9 columns</p>\n",
       "</div>"
      ]
     },
     "execution_count": 87,
     "metadata": {},
     "output_type": "execute_result"
    }
   ],
   "execution_count": 87
  },
  {
   "cell_type": "code",
   "id": "828f3be5ac6c0ab1",
   "metadata": {
    "ExecuteTime": {
     "end_time": "2024-12-11T15:42:05.789969Z",
     "start_time": "2024-12-11T15:42:05.785261Z"
    }
   },
   "source": [
    "drag_evidence_frame = double_curie_frame[double_curie_frame['stretch_id'] >= 1]\n",
    "drag_evidence_frame = drag_evidence_frame[['extracted_curie', 'longest_annotation_curie']]\n",
    "drag_evidence_frame['drag_evidence'] = True"
   ],
   "outputs": [],
   "execution_count": 88
  },
  {
   "cell_type": "code",
   "id": "9907b1472af8731b",
   "metadata": {
    "ExecuteTime": {
     "end_time": "2024-12-11T15:42:05.799909Z",
     "start_time": "2024-12-11T15:42:05.791677Z"
    }
   },
   "source": [
    "drag_evidence_frame"
   ],
   "outputs": [
    {
     "data": {
      "text/plain": [
       "    extracted_curie longest_annotation_curie  drag_evidence\n",
       "3     ENVO:01000198            ENVO:01000431           True\n",
       "9     ENVO:00000431            ENVO:00000428           True\n",
       "10    ENVO:00000448            ENVO:00000428           True\n",
       "11    ENVO:01001489            ENVO:01001803           True\n",
       "12    ENVO:00000250            ENVO:00000230           True\n",
       "..              ...                      ...            ...\n",
       "431   ENVO:01001468            ENVO:01001803           True\n",
       "432   ENVO:01000630            ENVO:01000628           True\n",
       "433      ENVO:01041            ENVO:00000078           True\n",
       "434   ENVO:00000246            ENVO:00000230           True\n",
       "435   ENVO:01000621            ENVO:01000620           True\n",
       "\n",
       "[393 rows x 3 columns]"
      ],
      "text/html": [
       "<div>\n",
       "<style scoped>\n",
       "    .dataframe tbody tr th:only-of-type {\n",
       "        vertical-align: middle;\n",
       "    }\n",
       "\n",
       "    .dataframe tbody tr th {\n",
       "        vertical-align: top;\n",
       "    }\n",
       "\n",
       "    .dataframe thead th {\n",
       "        text-align: right;\n",
       "    }\n",
       "</style>\n",
       "<table border=\"1\" class=\"dataframe\">\n",
       "  <thead>\n",
       "    <tr style=\"text-align: right;\">\n",
       "      <th></th>\n",
       "      <th>extracted_curie</th>\n",
       "      <th>longest_annotation_curie</th>\n",
       "      <th>drag_evidence</th>\n",
       "    </tr>\n",
       "  </thead>\n",
       "  <tbody>\n",
       "    <tr>\n",
       "      <th>3</th>\n",
       "      <td>ENVO:01000198</td>\n",
       "      <td>ENVO:01000431</td>\n",
       "      <td>True</td>\n",
       "    </tr>\n",
       "    <tr>\n",
       "      <th>9</th>\n",
       "      <td>ENVO:00000431</td>\n",
       "      <td>ENVO:00000428</td>\n",
       "      <td>True</td>\n",
       "    </tr>\n",
       "    <tr>\n",
       "      <th>10</th>\n",
       "      <td>ENVO:00000448</td>\n",
       "      <td>ENVO:00000428</td>\n",
       "      <td>True</td>\n",
       "    </tr>\n",
       "    <tr>\n",
       "      <th>11</th>\n",
       "      <td>ENVO:01001489</td>\n",
       "      <td>ENVO:01001803</td>\n",
       "      <td>True</td>\n",
       "    </tr>\n",
       "    <tr>\n",
       "      <th>12</th>\n",
       "      <td>ENVO:00000250</td>\n",
       "      <td>ENVO:00000230</td>\n",
       "      <td>True</td>\n",
       "    </tr>\n",
       "    <tr>\n",
       "      <th>...</th>\n",
       "      <td>...</td>\n",
       "      <td>...</td>\n",
       "      <td>...</td>\n",
       "    </tr>\n",
       "    <tr>\n",
       "      <th>431</th>\n",
       "      <td>ENVO:01001468</td>\n",
       "      <td>ENVO:01001803</td>\n",
       "      <td>True</td>\n",
       "    </tr>\n",
       "    <tr>\n",
       "      <th>432</th>\n",
       "      <td>ENVO:01000630</td>\n",
       "      <td>ENVO:01000628</td>\n",
       "      <td>True</td>\n",
       "    </tr>\n",
       "    <tr>\n",
       "      <th>433</th>\n",
       "      <td>ENVO:01041</td>\n",
       "      <td>ENVO:00000078</td>\n",
       "      <td>True</td>\n",
       "    </tr>\n",
       "    <tr>\n",
       "      <th>434</th>\n",
       "      <td>ENVO:00000246</td>\n",
       "      <td>ENVO:00000230</td>\n",
       "      <td>True</td>\n",
       "    </tr>\n",
       "    <tr>\n",
       "      <th>435</th>\n",
       "      <td>ENVO:01000621</td>\n",
       "      <td>ENVO:01000620</td>\n",
       "      <td>True</td>\n",
       "    </tr>\n",
       "  </tbody>\n",
       "</table>\n",
       "<p>393 rows × 3 columns</p>\n",
       "</div>"
      ]
     },
     "execution_count": 89,
     "metadata": {},
     "output_type": "execute_result"
    }
   ],
   "execution_count": 89
  },
  {
   "cell_type": "code",
   "id": "9873eb1bc3ea44e5",
   "metadata": {
    "ExecuteTime": {
     "end_time": "2024-12-11T15:42:05.809031Z",
     "start_time": "2024-12-11T15:42:05.801618Z"
    }
   },
   "source": [
    "ncbi_frame = ncbi_frame.merge(\n",
    "    drag_evidence_frame,\n",
    "    left_on=['extracted_curie', 'longest_annotation_curie'],\n",
    "    right_on=['extracted_curie', 'longest_annotation_curie'],\n",
    "    how='left'\n",
    ")"
   ],
   "outputs": [],
   "execution_count": 90
  },
  {
   "cell_type": "code",
   "id": "1d67b9e207b5531e",
   "metadata": {
    "ExecuteTime": {
     "end_time": "2024-12-11T15:42:06.418036Z",
     "start_time": "2024-12-11T15:42:05.810523Z"
    }
   },
   "source": [
    "# Initialize dragless_curie_list with curie_list values\n",
    "ncbi_frame[\"dragless_curie_list\"] = ncbi_frame[\"curie_list\"]\n",
    "\n",
    "# Update dragless_curie_list based on the condition\n",
    "for index, row in ncbi_frame.iterrows():\n",
    "    if row[\"drag_evidence\"] is True:\n",
    "        if row[\"longest_annotation_curie\"] is not None:\n",
    "            ncbi_frame.at[index, \"dragless_curie_list\"] = [row[\"longest_annotation_curie\"]]\n",
    "        else:\n",
    "            ncbi_frame.at[index, \"dragless_curie_list\"] = []\n",
    "\n",
    "ncbi_frame['dragless_curie_count'] = ncbi_frame['dragless_curie_list'].apply(len)"
   ],
   "outputs": [],
   "execution_count": 91
  },
  {
   "cell_type": "code",
   "id": "fb7469cd6900edd7",
   "metadata": {
    "ExecuteTime": {
     "end_time": "2024-12-11T15:42:06.424082Z",
     "start_time": "2024-12-11T15:42:06.419163Z"
    }
   },
   "source": [
    "ncbi_frame['unique_curie_count'].value_counts()"
   ],
   "outputs": [
    {
     "data": {
      "text/plain": [
       "unique_curie_count\n",
       "1    5872\n",
       "0    3866\n",
       "2     555\n",
       "Name: count, dtype: int64"
      ]
     },
     "execution_count": 92,
     "metadata": {},
     "output_type": "execute_result"
    }
   ],
   "execution_count": 92
  },
  {
   "cell_type": "code",
   "id": "7626e42d5b746a2a",
   "metadata": {
    "ExecuteTime": {
     "end_time": "2024-12-11T15:42:06.431361Z",
     "start_time": "2024-12-11T15:42:06.425820Z"
    }
   },
   "source": [
    "ncbi_frame['dragless_curie_count'].value_counts()"
   ],
   "outputs": [
    {
     "data": {
      "text/plain": [
       "dragless_curie_count\n",
       "1    6323\n",
       "0    3866\n",
       "2     104\n",
       "Name: count, dtype: int64"
      ]
     },
     "execution_count": 93,
     "metadata": {},
     "output_type": "execute_result"
    }
   ],
   "execution_count": 93
  },
  {
   "metadata": {},
   "cell_type": "markdown",
   "source": [
    "## The extent of multiple detected CURIes has been reduced ~ 4.5 fold \n",
    "(for soil env_local_scale)\n",
    "\n",
    "Isolate the submitter annotations for which there's clearly one best CURIe after removing the drag-stretches"
   ],
   "id": "55ba8eda9fc69708"
  },
  {
   "cell_type": "code",
   "id": "bb3c0eeb8e919ac5",
   "metadata": {
    "ExecuteTime": {
     "end_time": "2024-12-11T15:42:06.439381Z",
     "start_time": "2024-12-11T15:42:06.433491Z"
    }
   },
   "source": [
    "ncbi_frame.shape"
   ],
   "outputs": [
    {
     "data": {
      "text/plain": [
       "(10293, 16)"
      ]
     },
     "execution_count": 94,
     "metadata": {},
     "output_type": "execute_result"
    }
   ],
   "execution_count": 94
  },
  {
   "cell_type": "code",
   "id": "653df3ac622d4e95",
   "metadata": {
    "ExecuteTime": {
     "end_time": "2024-12-11T15:42:06.447178Z",
     "start_time": "2024-12-11T15:42:06.440898Z"
    }
   },
   "source": [
    "ncbi_frame_undisputed = ncbi_frame[ncbi_frame['dragless_curie_count'] <= 1]"
   ],
   "outputs": [],
   "execution_count": 95
  },
  {
   "cell_type": "code",
   "id": "2abdcbd301b484a9",
   "metadata": {
    "ExecuteTime": {
     "end_time": "2024-12-11T15:42:06.452519Z",
     "start_time": "2024-12-11T15:42:06.448660Z"
    }
   },
   "source": [
    "ncbi_frame_undisputed.shape"
   ],
   "outputs": [
    {
     "data": {
      "text/plain": [
       "(10189, 16)"
      ]
     },
     "execution_count": 96,
     "metadata": {},
     "output_type": "execute_result"
    }
   ],
   "execution_count": 96
  },
  {
   "cell_type": "code",
   "id": "57d0c3c05e88ea1e",
   "metadata": {
    "ExecuteTime": {
     "end_time": "2024-12-11T15:42:06.458060Z",
     "start_time": "2024-12-11T15:42:06.453944Z"
    }
   },
   "source": [
    "ncbi_frame_disputed = ncbi_frame[ncbi_frame['dragless_curie_count'] > 1]"
   ],
   "outputs": [],
   "execution_count": 97
  },
  {
   "cell_type": "code",
   "id": "d0cf6796fedc7f8a",
   "metadata": {
    "ExecuteTime": {
     "end_time": "2024-12-11T15:42:06.463940Z",
     "start_time": "2024-12-11T15:42:06.459756Z"
    }
   },
   "source": [
    "ncbi_frame_disputed.shape"
   ],
   "outputs": [
    {
     "data": {
      "text/plain": [
       "(104, 16)"
      ]
     },
     "execution_count": 98,
     "metadata": {},
     "output_type": "execute_result"
    }
   ],
   "execution_count": 98
  },
  {
   "cell_type": "code",
   "id": "fe33fe1d6d2aad09",
   "metadata": {
    "ExecuteTime": {
     "end_time": "2024-12-11T15:42:06.470912Z",
     "start_time": "2024-12-11T15:42:06.465457Z"
    }
   },
   "source": [
    "ncbi_frame_disputed = ncbi_frame_disputed.explode(\"dragless_curie_list\", ignore_index=True)\n"
   ],
   "outputs": [],
   "execution_count": 99
  },
  {
   "cell_type": "code",
   "id": "f8fe49b93cb12990",
   "metadata": {
    "ExecuteTime": {
     "end_time": "2024-12-11T15:42:06.476788Z",
     "start_time": "2024-12-11T15:42:06.472554Z"
    }
   },
   "source": [
    "ncbi_frame_disputed.shape"
   ],
   "outputs": [
    {
     "data": {
      "text/plain": [
       "(208, 16)"
      ]
     },
     "execution_count": 100,
     "metadata": {},
     "output_type": "execute_result"
    }
   ],
   "execution_count": 100
  },
  {
   "cell_type": "code",
   "id": "6896ca8dd3865cb5",
   "metadata": {
    "ExecuteTime": {
     "end_time": "2024-12-11T15:42:06.481454Z",
     "start_time": "2024-12-11T15:42:06.478154Z"
    }
   },
   "source": [
    "ncbi_frame_disputed[\"dragless_curie_list\"] = ncbi_frame_disputed[\"dragless_curie_list\"].apply(lambda x: [x])"
   ],
   "outputs": [],
   "execution_count": 101
  },
  {
   "metadata": {},
   "cell_type": "markdown",
   "source": "## Just include all of the remaining disputed CURIe assingments",
   "id": "849c8845f5c378e7"
  },
  {
   "cell_type": "code",
   "id": "9a472d228624f148",
   "metadata": {
    "ExecuteTime": {
     "end_time": "2024-12-11T15:42:06.487717Z",
     "start_time": "2024-12-11T15:42:06.482894Z"
    }
   },
   "source": [
    "# Combine the rows of ncbi_frame_undisputed and ncbi_frame_disputed into a new DataFrame\n",
    "ncbi_disputes_exploded_frame = pd.concat([ncbi_frame_undisputed, ncbi_frame_disputed], ignore_index=True)\n"
   ],
   "outputs": [],
   "execution_count": 102
  },
  {
   "cell_type": "code",
   "id": "e772d6db19793ec5",
   "metadata": {
    "ExecuteTime": {
     "end_time": "2024-12-11T15:42:06.493370Z",
     "start_time": "2024-12-11T15:42:06.489129Z"
    }
   },
   "source": [
    "ncbi_disputes_exploded_frame.shape"
   ],
   "outputs": [
    {
     "data": {
      "text/plain": [
       "(10397, 16)"
      ]
     },
     "execution_count": 103,
     "metadata": {},
     "output_type": "execute_result"
    }
   ],
   "execution_count": 103
  },
  {
   "cell_type": "code",
   "id": "ef0b5e69d724d94a",
   "metadata": {
    "ExecuteTime": {
     "end_time": "2024-12-11T15:42:06.515317Z",
     "start_time": "2024-12-11T15:42:06.495110Z"
    }
   },
   "source": [
    "ncbi_disputes_exploded_frame"
   ],
   "outputs": [
    {
     "data": {
      "text/plain": [
       "       serial_number                                            content  \\\n",
       "0                  1                                     not applicable   \n",
       "1                  2                                            missing   \n",
       "2                  3                                               soil   \n",
       "3                  4                                      not collected   \n",
       "4                  5                                             forest   \n",
       "...              ...                                                ...   \n",
       "10392           9780                  area of crop land [ENVO:01000892]   \n",
       "10393           9805       ENVO_00000562 (park) | ENVO_00000122 (track)   \n",
       "10394           9805       ENVO_00000562 (park) | ENVO_00000122 (track)   \n",
       "10395           9807  irrigation system [ENVO:00000029]|fertilizatio...   \n",
       "10396           9807  irrigation system [ENVO:00000029]|fertilizatio...   \n",
       "\n",
       "       count                           content_list  content_count  \\\n",
       "0        269                         not applicable              1   \n",
       "1        205                                missing              1   \n",
       "2        203                                   soil              1   \n",
       "3        170                          not collected              1   \n",
       "4         81                                 forest              1   \n",
       "...      ...                                    ...            ...   \n",
       "10392      1      area of crop land [ENVO:01000892]              1   \n",
       "10393      1                  ENVO_00000562 (park)               2   \n",
       "10394      1                  ENVO_00000562 (park)               2   \n",
       "10395      1  fertilization process [ENVO:02500001]              3   \n",
       "10396      1  fertilization process [ENVO:02500001]              3   \n",
       "\n",
       "       envo_count        extracted_label extracted_curie        real_label  \\\n",
       "0               0         not applicable            None              None   \n",
       "1               0                missing            None              None   \n",
       "2               0                   soil            None              None   \n",
       "3               0          not collected            None              None   \n",
       "4               0                 forest            None              None   \n",
       "...           ...                    ...             ...               ...   \n",
       "10392           1      area of crop land   ENVO:01000892  area of cropland   \n",
       "10393           1                   park   ENVO:00000562              park   \n",
       "10394           1                   park   ENVO:00000562              park   \n",
       "10395           1  fertilization process   ENVO:02500001   desertification   \n",
       "10396           1  fertilization process   ENVO:02500001   desertification   \n",
       "\n",
       "      longest_annotation_curie longest_annotation_label  \\\n",
       "0                         None                     None   \n",
       "1                         None                     None   \n",
       "2                ENVO:00001998                     soil   \n",
       "3                         None                     None   \n",
       "4                ENVO:00000111            forested area   \n",
       "...                        ...                      ...   \n",
       "10392            ENVO:01000635       planetary landmass   \n",
       "10393            ENVO:00000011                   garden   \n",
       "10394            ENVO:00000011                   garden   \n",
       "10395              BFO:0000015                  process   \n",
       "10396              BFO:0000015                  process   \n",
       "\n",
       "                           curie_list  unique_curie_count drag_evidence  \\\n",
       "0                                  []                   0           NaN   \n",
       "1                                  []                   0           NaN   \n",
       "2                     [ENVO:00001998]                   1           NaN   \n",
       "3                                  []                   0           NaN   \n",
       "4                     [ENVO:00000111]                   1           NaN   \n",
       "...                               ...                 ...           ...   \n",
       "10392  [ENVO:01000635, ENVO:01000892]                   2           NaN   \n",
       "10393  [ENVO:00000011, ENVO:00000562]                   2           NaN   \n",
       "10394  [ENVO:00000011, ENVO:00000562]                   2           NaN   \n",
       "10395    [ENVO:02500001, BFO:0000015]                   2           NaN   \n",
       "10396    [ENVO:02500001, BFO:0000015]                   2           NaN   \n",
       "\n",
       "      dragless_curie_list  dragless_curie_count  \n",
       "0                      []                     0  \n",
       "1                      []                     0  \n",
       "2         [ENVO:00001998]                     1  \n",
       "3                      []                     0  \n",
       "4         [ENVO:00000111]                     1  \n",
       "...                   ...                   ...  \n",
       "10392     [ENVO:01000892]                     2  \n",
       "10393     [ENVO:00000011]                     2  \n",
       "10394     [ENVO:00000562]                     2  \n",
       "10395     [ENVO:02500001]                     2  \n",
       "10396       [BFO:0000015]                     2  \n",
       "\n",
       "[10397 rows x 16 columns]"
      ],
      "text/html": [
       "<div>\n",
       "<style scoped>\n",
       "    .dataframe tbody tr th:only-of-type {\n",
       "        vertical-align: middle;\n",
       "    }\n",
       "\n",
       "    .dataframe tbody tr th {\n",
       "        vertical-align: top;\n",
       "    }\n",
       "\n",
       "    .dataframe thead th {\n",
       "        text-align: right;\n",
       "    }\n",
       "</style>\n",
       "<table border=\"1\" class=\"dataframe\">\n",
       "  <thead>\n",
       "    <tr style=\"text-align: right;\">\n",
       "      <th></th>\n",
       "      <th>serial_number</th>\n",
       "      <th>content</th>\n",
       "      <th>count</th>\n",
       "      <th>content_list</th>\n",
       "      <th>content_count</th>\n",
       "      <th>envo_count</th>\n",
       "      <th>extracted_label</th>\n",
       "      <th>extracted_curie</th>\n",
       "      <th>real_label</th>\n",
       "      <th>longest_annotation_curie</th>\n",
       "      <th>longest_annotation_label</th>\n",
       "      <th>curie_list</th>\n",
       "      <th>unique_curie_count</th>\n",
       "      <th>drag_evidence</th>\n",
       "      <th>dragless_curie_list</th>\n",
       "      <th>dragless_curie_count</th>\n",
       "    </tr>\n",
       "  </thead>\n",
       "  <tbody>\n",
       "    <tr>\n",
       "      <th>0</th>\n",
       "      <td>1</td>\n",
       "      <td>not applicable</td>\n",
       "      <td>269</td>\n",
       "      <td>not applicable</td>\n",
       "      <td>1</td>\n",
       "      <td>0</td>\n",
       "      <td>not applicable</td>\n",
       "      <td>None</td>\n",
       "      <td>None</td>\n",
       "      <td>None</td>\n",
       "      <td>None</td>\n",
       "      <td>[]</td>\n",
       "      <td>0</td>\n",
       "      <td>NaN</td>\n",
       "      <td>[]</td>\n",
       "      <td>0</td>\n",
       "    </tr>\n",
       "    <tr>\n",
       "      <th>1</th>\n",
       "      <td>2</td>\n",
       "      <td>missing</td>\n",
       "      <td>205</td>\n",
       "      <td>missing</td>\n",
       "      <td>1</td>\n",
       "      <td>0</td>\n",
       "      <td>missing</td>\n",
       "      <td>None</td>\n",
       "      <td>None</td>\n",
       "      <td>None</td>\n",
       "      <td>None</td>\n",
       "      <td>[]</td>\n",
       "      <td>0</td>\n",
       "      <td>NaN</td>\n",
       "      <td>[]</td>\n",
       "      <td>0</td>\n",
       "    </tr>\n",
       "    <tr>\n",
       "      <th>2</th>\n",
       "      <td>3</td>\n",
       "      <td>soil</td>\n",
       "      <td>203</td>\n",
       "      <td>soil</td>\n",
       "      <td>1</td>\n",
       "      <td>0</td>\n",
       "      <td>soil</td>\n",
       "      <td>None</td>\n",
       "      <td>None</td>\n",
       "      <td>ENVO:00001998</td>\n",
       "      <td>soil</td>\n",
       "      <td>[ENVO:00001998]</td>\n",
       "      <td>1</td>\n",
       "      <td>NaN</td>\n",
       "      <td>[ENVO:00001998]</td>\n",
       "      <td>1</td>\n",
       "    </tr>\n",
       "    <tr>\n",
       "      <th>3</th>\n",
       "      <td>4</td>\n",
       "      <td>not collected</td>\n",
       "      <td>170</td>\n",
       "      <td>not collected</td>\n",
       "      <td>1</td>\n",
       "      <td>0</td>\n",
       "      <td>not collected</td>\n",
       "      <td>None</td>\n",
       "      <td>None</td>\n",
       "      <td>None</td>\n",
       "      <td>None</td>\n",
       "      <td>[]</td>\n",
       "      <td>0</td>\n",
       "      <td>NaN</td>\n",
       "      <td>[]</td>\n",
       "      <td>0</td>\n",
       "    </tr>\n",
       "    <tr>\n",
       "      <th>4</th>\n",
       "      <td>5</td>\n",
       "      <td>forest</td>\n",
       "      <td>81</td>\n",
       "      <td>forest</td>\n",
       "      <td>1</td>\n",
       "      <td>0</td>\n",
       "      <td>forest</td>\n",
       "      <td>None</td>\n",
       "      <td>None</td>\n",
       "      <td>ENVO:00000111</td>\n",
       "      <td>forested area</td>\n",
       "      <td>[ENVO:00000111]</td>\n",
       "      <td>1</td>\n",
       "      <td>NaN</td>\n",
       "      <td>[ENVO:00000111]</td>\n",
       "      <td>1</td>\n",
       "    </tr>\n",
       "    <tr>\n",
       "      <th>...</th>\n",
       "      <td>...</td>\n",
       "      <td>...</td>\n",
       "      <td>...</td>\n",
       "      <td>...</td>\n",
       "      <td>...</td>\n",
       "      <td>...</td>\n",
       "      <td>...</td>\n",
       "      <td>...</td>\n",
       "      <td>...</td>\n",
       "      <td>...</td>\n",
       "      <td>...</td>\n",
       "      <td>...</td>\n",
       "      <td>...</td>\n",
       "      <td>...</td>\n",
       "      <td>...</td>\n",
       "      <td>...</td>\n",
       "    </tr>\n",
       "    <tr>\n",
       "      <th>10392</th>\n",
       "      <td>9780</td>\n",
       "      <td>area of crop land [ENVO:01000892]</td>\n",
       "      <td>1</td>\n",
       "      <td>area of crop land [ENVO:01000892]</td>\n",
       "      <td>1</td>\n",
       "      <td>1</td>\n",
       "      <td>area of crop land</td>\n",
       "      <td>ENVO:01000892</td>\n",
       "      <td>area of cropland</td>\n",
       "      <td>ENVO:01000635</td>\n",
       "      <td>planetary landmass</td>\n",
       "      <td>[ENVO:01000635, ENVO:01000892]</td>\n",
       "      <td>2</td>\n",
       "      <td>NaN</td>\n",
       "      <td>[ENVO:01000892]</td>\n",
       "      <td>2</td>\n",
       "    </tr>\n",
       "    <tr>\n",
       "      <th>10393</th>\n",
       "      <td>9805</td>\n",
       "      <td>ENVO_00000562 (park) | ENVO_00000122 (track)</td>\n",
       "      <td>1</td>\n",
       "      <td>ENVO_00000562 (park)</td>\n",
       "      <td>2</td>\n",
       "      <td>1</td>\n",
       "      <td>park</td>\n",
       "      <td>ENVO:00000562</td>\n",
       "      <td>park</td>\n",
       "      <td>ENVO:00000011</td>\n",
       "      <td>garden</td>\n",
       "      <td>[ENVO:00000011, ENVO:00000562]</td>\n",
       "      <td>2</td>\n",
       "      <td>NaN</td>\n",
       "      <td>[ENVO:00000011]</td>\n",
       "      <td>2</td>\n",
       "    </tr>\n",
       "    <tr>\n",
       "      <th>10394</th>\n",
       "      <td>9805</td>\n",
       "      <td>ENVO_00000562 (park) | ENVO_00000122 (track)</td>\n",
       "      <td>1</td>\n",
       "      <td>ENVO_00000562 (park)</td>\n",
       "      <td>2</td>\n",
       "      <td>1</td>\n",
       "      <td>park</td>\n",
       "      <td>ENVO:00000562</td>\n",
       "      <td>park</td>\n",
       "      <td>ENVO:00000011</td>\n",
       "      <td>garden</td>\n",
       "      <td>[ENVO:00000011, ENVO:00000562]</td>\n",
       "      <td>2</td>\n",
       "      <td>NaN</td>\n",
       "      <td>[ENVO:00000562]</td>\n",
       "      <td>2</td>\n",
       "    </tr>\n",
       "    <tr>\n",
       "      <th>10395</th>\n",
       "      <td>9807</td>\n",
       "      <td>irrigation system [ENVO:00000029]|fertilizatio...</td>\n",
       "      <td>1</td>\n",
       "      <td>fertilization process [ENVO:02500001]</td>\n",
       "      <td>3</td>\n",
       "      <td>1</td>\n",
       "      <td>fertilization process</td>\n",
       "      <td>ENVO:02500001</td>\n",
       "      <td>desertification</td>\n",
       "      <td>BFO:0000015</td>\n",
       "      <td>process</td>\n",
       "      <td>[ENVO:02500001, BFO:0000015]</td>\n",
       "      <td>2</td>\n",
       "      <td>NaN</td>\n",
       "      <td>[ENVO:02500001]</td>\n",
       "      <td>2</td>\n",
       "    </tr>\n",
       "    <tr>\n",
       "      <th>10396</th>\n",
       "      <td>9807</td>\n",
       "      <td>irrigation system [ENVO:00000029]|fertilizatio...</td>\n",
       "      <td>1</td>\n",
       "      <td>fertilization process [ENVO:02500001]</td>\n",
       "      <td>3</td>\n",
       "      <td>1</td>\n",
       "      <td>fertilization process</td>\n",
       "      <td>ENVO:02500001</td>\n",
       "      <td>desertification</td>\n",
       "      <td>BFO:0000015</td>\n",
       "      <td>process</td>\n",
       "      <td>[ENVO:02500001, BFO:0000015]</td>\n",
       "      <td>2</td>\n",
       "      <td>NaN</td>\n",
       "      <td>[BFO:0000015]</td>\n",
       "      <td>2</td>\n",
       "    </tr>\n",
       "  </tbody>\n",
       "</table>\n",
       "<p>10397 rows × 16 columns</p>\n",
       "</div>"
      ]
     },
     "execution_count": 104,
     "metadata": {},
     "output_type": "execute_result"
    }
   ],
   "execution_count": 104
  },
  {
   "cell_type": "code",
   "id": "be53a584475499b5",
   "metadata": {
    "ExecuteTime": {
     "end_time": "2024-12-11T15:42:06.523765Z",
     "start_time": "2024-12-11T15:42:06.516880Z"
    }
   },
   "source": [
    "ncbi_disputes_exploded_frame['post_explode_curie_count'] = ncbi_disputes_exploded_frame['dragless_curie_list'].apply(len)"
   ],
   "outputs": [],
   "execution_count": 105
  },
  {
   "cell_type": "code",
   "id": "e0c0605a4ca28188",
   "metadata": {
    "ExecuteTime": {
     "end_time": "2024-12-11T15:42:06.531560Z",
     "start_time": "2024-12-11T15:42:06.525309Z"
    }
   },
   "source": [
    "ncbi_disputes_exploded_frame['post_explode_curie_count'].value_counts()"
   ],
   "outputs": [
    {
     "data": {
      "text/plain": [
       "post_explode_curie_count\n",
       "1    6531\n",
       "0    3866\n",
       "Name: count, dtype: int64"
      ]
     },
     "execution_count": 106,
     "metadata": {},
     "output_type": "execute_result"
    }
   ],
   "execution_count": 106
  },
  {
   "cell_type": "code",
   "id": "396e48f3cea80587",
   "metadata": {
    "ExecuteTime": {
     "end_time": "2024-12-11T15:42:06.540010Z",
     "start_time": "2024-12-11T15:42:06.532974Z"
    }
   },
   "source": [
    "# Set 'post_explode_curie' to the 0th item in 'dragless_curie_list'\n",
    "ncbi_disputes_exploded_frame[\"post_explode_curie\"] = ncbi_disputes_exploded_frame[\"dragless_curie_list\"].apply(\n",
    "    lambda x: x[0] if isinstance(x, list) and len(x) > 0 else None\n",
    ")"
   ],
   "outputs": [],
   "execution_count": 107
  },
  {
   "cell_type": "code",
   "id": "1e488764b4212b75",
   "metadata": {
    "ExecuteTime": {
     "end_time": "2024-12-11T15:42:06.548293Z",
     "start_time": "2024-12-11T15:42:06.541446Z"
    }
   },
   "source": [
    "\n",
    "ncbi_biosample_scoped_counts = (\n",
    "    ncbi_disputes_exploded_frame.groupby(\"post_explode_curie\")[\"count\"].sum().reset_index()\n",
    ")\n",
    "\n",
    "ncbi_biosample_scoped_counts.columns = ['curie', 'ncbi_scoped_count']"
   ],
   "outputs": [],
   "execution_count": 108
  },
  {
   "metadata": {},
   "cell_type": "markdown",
   "source": "This is currently a count of Biosamples for which the indicated CURIes can be extracted or inferred by oaklib annotation, after removal of drag-stretch, auto-incremented CURIes",
   "id": "de29981308f4d74c"
  },
  {
   "cell_type": "code",
   "id": "916cfcc3c7aa0d34",
   "metadata": {
    "ExecuteTime": {
     "end_time": "2024-12-11T15:42:06.557835Z",
     "start_time": "2024-12-11T15:42:06.549670Z"
    }
   },
   "source": [
    "ncbi_biosample_scoped_counts"
   ],
   "outputs": [
    {
     "data": {
      "text/plain": [
       "               curie  ncbi_scoped_count\n",
       "0        BFO:0000015                 62\n",
       "1        BFO:0000029                 63\n",
       "2        BFO:0000030                  1\n",
       "3        CHEBI:15377                 51\n",
       "4        CHEBI:15379                  1\n",
       "...              ...                ...\n",
       "1091  UBERON:0000922                  1\n",
       "1092  UBERON:0001456                  3\n",
       "1093  UBERON:0001474                  2\n",
       "1094  UBERON:0001988                  5\n",
       "1095  UBERON:0002416                 98\n",
       "\n",
       "[1096 rows x 2 columns]"
      ],
      "text/html": [
       "<div>\n",
       "<style scoped>\n",
       "    .dataframe tbody tr th:only-of-type {\n",
       "        vertical-align: middle;\n",
       "    }\n",
       "\n",
       "    .dataframe tbody tr th {\n",
       "        vertical-align: top;\n",
       "    }\n",
       "\n",
       "    .dataframe thead th {\n",
       "        text-align: right;\n",
       "    }\n",
       "</style>\n",
       "<table border=\"1\" class=\"dataframe\">\n",
       "  <thead>\n",
       "    <tr style=\"text-align: right;\">\n",
       "      <th></th>\n",
       "      <th>curie</th>\n",
       "      <th>ncbi_scoped_count</th>\n",
       "    </tr>\n",
       "  </thead>\n",
       "  <tbody>\n",
       "    <tr>\n",
       "      <th>0</th>\n",
       "      <td>BFO:0000015</td>\n",
       "      <td>62</td>\n",
       "    </tr>\n",
       "    <tr>\n",
       "      <th>1</th>\n",
       "      <td>BFO:0000029</td>\n",
       "      <td>63</td>\n",
       "    </tr>\n",
       "    <tr>\n",
       "      <th>2</th>\n",
       "      <td>BFO:0000030</td>\n",
       "      <td>1</td>\n",
       "    </tr>\n",
       "    <tr>\n",
       "      <th>3</th>\n",
       "      <td>CHEBI:15377</td>\n",
       "      <td>51</td>\n",
       "    </tr>\n",
       "    <tr>\n",
       "      <th>4</th>\n",
       "      <td>CHEBI:15379</td>\n",
       "      <td>1</td>\n",
       "    </tr>\n",
       "    <tr>\n",
       "      <th>...</th>\n",
       "      <td>...</td>\n",
       "      <td>...</td>\n",
       "    </tr>\n",
       "    <tr>\n",
       "      <th>1091</th>\n",
       "      <td>UBERON:0000922</td>\n",
       "      <td>1</td>\n",
       "    </tr>\n",
       "    <tr>\n",
       "      <th>1092</th>\n",
       "      <td>UBERON:0001456</td>\n",
       "      <td>3</td>\n",
       "    </tr>\n",
       "    <tr>\n",
       "      <th>1093</th>\n",
       "      <td>UBERON:0001474</td>\n",
       "      <td>2</td>\n",
       "    </tr>\n",
       "    <tr>\n",
       "      <th>1094</th>\n",
       "      <td>UBERON:0001988</td>\n",
       "      <td>5</td>\n",
       "    </tr>\n",
       "    <tr>\n",
       "      <th>1095</th>\n",
       "      <td>UBERON:0002416</td>\n",
       "      <td>98</td>\n",
       "    </tr>\n",
       "  </tbody>\n",
       "</table>\n",
       "<p>1096 rows × 2 columns</p>\n",
       "</div>"
      ]
     },
     "execution_count": 109,
     "metadata": {},
     "output_type": "execute_result"
    }
   ],
   "execution_count": 109
  },
  {
   "metadata": {},
   "cell_type": "markdown",
   "source": [
    "## GOLD mappings/Biosample counts hybrid\n",
    "\n",
    "we're currently including\n",
    "- mappings only\n",
    "\n",
    "and have retired the previous use of\n",
    "- mappings in hybrid with biosample counts\n",
    "\n",
    "And we're casting a wide net, especially for the hybrid approach\n",
    "- searching for 'soil', 'sediment' etc. in GOLDTERMS labels without anchoring them like 'Environmental > Aquatic > Sediment'\n",
    "- retrieving the CURIes for env_broad_scale, env_local_scale and env_medium for all voting sheets, and trusting orthogonal filtering to remove the inappropriate CURIes\n",
    "\n",
    "Should we now add (or switch to) direct biosample counts of GOLD \"envo\" annotations?\n",
    "\n",
    "Efficient retrieval of  all GOLD data in a given scope isn't easy"
   ],
   "id": "54ef0d1be4a1dea9"
  },
  {
   "metadata": {
    "ExecuteTime": {
     "end_time": "2024-12-11T15:42:06.563245Z",
     "start_time": "2024-12-11T15:42:06.559265Z"
    }
   },
   "cell_type": "code",
   "source": [
    "# Determine the filenames and target directory\n",
    "goldterms_compressed_filename = urlparse(goldterms_semsql_url).path.split('/')[-1]\n",
    "goldterms_filename = os.path.splitext(goldterms_compressed_filename)[0]\n",
    "target_dir = os.path.join(\"..\", \"..\")  # Two levels up\n",
    "\n",
    "# Print to confirm the filenames\n",
    "print(goldterms_filename)"
   ],
   "id": "40f8fc6862a817f3",
   "outputs": [
    {
     "name": "stdout",
     "output_type": "stream",
     "text": [
      "goldterms.db\n"
     ]
    }
   ],
   "execution_count": 110
  },
  {
   "metadata": {
    "ExecuteTime": {
     "end_time": "2024-12-11T15:42:07.013558Z",
     "start_time": "2024-12-11T15:42:06.564971Z"
    }
   },
   "cell_type": "code",
   "source": [
    "# Fetch the contents from the URL and save compressed file in target directory\n",
    "goldterms_response = requests.get(goldterms_semsql_url)\n",
    "goldterms_compressed_file_path = os.path.join(target_dir, goldterms_compressed_filename)\n",
    "with open(goldterms_compressed_file_path, \"wb\") as f:\n",
    "    f.write(goldterms_response.content)\n",
    "\n",
    "# ~ 1 second"
   ],
   "id": "784c07d7b6bee4c2",
   "outputs": [],
   "execution_count": 111
  },
  {
   "metadata": {
    "ExecuteTime": {
     "end_time": "2024-12-11T15:42:07.073463Z",
     "start_time": "2024-12-11T15:42:07.031578Z"
    }
   },
   "cell_type": "code",
   "source": [
    "# Unzip the compressed file and save the extracted file in target directory\n",
    "goldterms_uncompressed_file_path = os.path.join(target_dir, goldterms_filename)\n",
    "with gzip.open(goldterms_compressed_file_path, \"rb\") as f_in:\n",
    "    with open(goldterms_uncompressed_file_path, \"wb\") as f_out:\n",
    "        shutil.copyfileobj(f_in, f_out)\n",
    "\n",
    "# ~ 1 second"
   ],
   "id": "cd765130d59cd026",
   "outputs": [],
   "execution_count": 112
  },
  {
   "metadata": {
    "ExecuteTime": {
     "end_time": "2024-12-11T15:42:07.078223Z",
     "start_time": "2024-12-11T15:42:07.074978Z"
    }
   },
   "cell_type": "code",
   "source": "## that's all fast. don't bother caching",
   "id": "fd2fab3ddcf862ce",
   "outputs": [],
   "execution_count": 113
  },
  {
   "metadata": {
    "ExecuteTime": {
     "end_time": "2024-12-11T15:42:07.083488Z",
     "start_time": "2024-12-11T15:42:07.080152Z"
    }
   },
   "cell_type": "code",
   "source": "goldterms_conn = sqlite3.connect(goldterms_uncompressed_file_path)",
   "id": "dcf847a3c2ed302d",
   "outputs": [],
   "execution_count": 114
  },
  {
   "metadata": {},
   "cell_type": "markdown",
   "source": "# GOLDTERMS only approach",
   "id": "8c66c02b62dbcf22"
  },
  {
   "metadata": {
    "ExecuteTime": {
     "end_time": "2024-12-11T15:42:07.100746Z",
     "start_time": "2024-12-11T15:42:07.085103Z"
    }
   },
   "cell_type": "code",
   "source": "goldterms_result = pd.read_sql_query(extension_query, goldterms_conn)",
   "id": "beacc603e5db48b3",
   "outputs": [],
   "execution_count": 115
  },
  {
   "metadata": {
    "ExecuteTime": {
     "end_time": "2024-12-11T15:42:07.112523Z",
     "start_time": "2024-12-11T15:42:07.102328Z"
    }
   },
   "cell_type": "code",
   "source": "goldterms_result",
   "id": "85e373122e14f6dc",
   "outputs": [
    {
     "data": {
      "text/plain": [
       "                                               subject        predicate  \\\n",
       "0           GOLDTERMS:Environmental-Aquatic-Floodplain   mixs:env_broad   \n",
       "1           GOLDTERMS:Environmental-Aquatic-Floodplain   mixs:env_local   \n",
       "2           GOLDTERMS:Environmental-Aquatic-Floodplain       rdfs:label   \n",
       "3    GOLDTERMS:Environmental-Aquatic-Freshwater-Aqu...   mixs:env_broad   \n",
       "4    GOLDTERMS:Environmental-Aquatic-Freshwater-Aqu...  mixs:env_medium   \n",
       "..                                                 ...              ...   \n",
       "570                                     GOLDTERMS:5807       rdfs:label   \n",
       "571                                     GOLDTERMS:5825   mixs:env_broad   \n",
       "572                                     GOLDTERMS:5825   mixs:env_local   \n",
       "573                                     GOLDTERMS:5825       rdfs:label   \n",
       "574                                  GOLDVOCAB:Aquatic       rdfs:label   \n",
       "\n",
       "                                               content  \n",
       "0                                        ENVO:00002030  \n",
       "1                                        ENVO:00000255  \n",
       "2                 Environmental > Aquatic > Floodplain  \n",
       "3                                        ENVO:00002030  \n",
       "4                                        ENVO:00002011  \n",
       "..                                                 ...  \n",
       "570  Environmental > Aquatic > Non-marine Saline an...  \n",
       "571                                      ENVO:00000447  \n",
       "572                                      ENVO:01000687  \n",
       "573  Environmental > Aquatic > Marine > Coastal > P...  \n",
       "574                                            Aquatic  \n",
       "\n",
       "[575 rows x 3 columns]"
      ],
      "text/html": [
       "<div>\n",
       "<style scoped>\n",
       "    .dataframe tbody tr th:only-of-type {\n",
       "        vertical-align: middle;\n",
       "    }\n",
       "\n",
       "    .dataframe tbody tr th {\n",
       "        vertical-align: top;\n",
       "    }\n",
       "\n",
       "    .dataframe thead th {\n",
       "        text-align: right;\n",
       "    }\n",
       "</style>\n",
       "<table border=\"1\" class=\"dataframe\">\n",
       "  <thead>\n",
       "    <tr style=\"text-align: right;\">\n",
       "      <th></th>\n",
       "      <th>subject</th>\n",
       "      <th>predicate</th>\n",
       "      <th>content</th>\n",
       "    </tr>\n",
       "  </thead>\n",
       "  <tbody>\n",
       "    <tr>\n",
       "      <th>0</th>\n",
       "      <td>GOLDTERMS:Environmental-Aquatic-Floodplain</td>\n",
       "      <td>mixs:env_broad</td>\n",
       "      <td>ENVO:00002030</td>\n",
       "    </tr>\n",
       "    <tr>\n",
       "      <th>1</th>\n",
       "      <td>GOLDTERMS:Environmental-Aquatic-Floodplain</td>\n",
       "      <td>mixs:env_local</td>\n",
       "      <td>ENVO:00000255</td>\n",
       "    </tr>\n",
       "    <tr>\n",
       "      <th>2</th>\n",
       "      <td>GOLDTERMS:Environmental-Aquatic-Floodplain</td>\n",
       "      <td>rdfs:label</td>\n",
       "      <td>Environmental &gt; Aquatic &gt; Floodplain</td>\n",
       "    </tr>\n",
       "    <tr>\n",
       "      <th>3</th>\n",
       "      <td>GOLDTERMS:Environmental-Aquatic-Freshwater-Aqu...</td>\n",
       "      <td>mixs:env_broad</td>\n",
       "      <td>ENVO:00002030</td>\n",
       "    </tr>\n",
       "    <tr>\n",
       "      <th>4</th>\n",
       "      <td>GOLDTERMS:Environmental-Aquatic-Freshwater-Aqu...</td>\n",
       "      <td>mixs:env_medium</td>\n",
       "      <td>ENVO:00002011</td>\n",
       "    </tr>\n",
       "    <tr>\n",
       "      <th>...</th>\n",
       "      <td>...</td>\n",
       "      <td>...</td>\n",
       "      <td>...</td>\n",
       "    </tr>\n",
       "    <tr>\n",
       "      <th>570</th>\n",
       "      <td>GOLDTERMS:5807</td>\n",
       "      <td>rdfs:label</td>\n",
       "      <td>Environmental &gt; Aquatic &gt; Non-marine Saline an...</td>\n",
       "    </tr>\n",
       "    <tr>\n",
       "      <th>571</th>\n",
       "      <td>GOLDTERMS:5825</td>\n",
       "      <td>mixs:env_broad</td>\n",
       "      <td>ENVO:00000447</td>\n",
       "    </tr>\n",
       "    <tr>\n",
       "      <th>572</th>\n",
       "      <td>GOLDTERMS:5825</td>\n",
       "      <td>mixs:env_local</td>\n",
       "      <td>ENVO:01000687</td>\n",
       "    </tr>\n",
       "    <tr>\n",
       "      <th>573</th>\n",
       "      <td>GOLDTERMS:5825</td>\n",
       "      <td>rdfs:label</td>\n",
       "      <td>Environmental &gt; Aquatic &gt; Marine &gt; Coastal &gt; P...</td>\n",
       "    </tr>\n",
       "    <tr>\n",
       "      <th>574</th>\n",
       "      <td>GOLDVOCAB:Aquatic</td>\n",
       "      <td>rdfs:label</td>\n",
       "      <td>Aquatic</td>\n",
       "    </tr>\n",
       "  </tbody>\n",
       "</table>\n",
       "<p>575 rows × 3 columns</p>\n",
       "</div>"
      ]
     },
     "execution_count": 116,
     "metadata": {},
     "output_type": "execute_result"
    }
   ],
   "execution_count": 116
  },
  {
   "metadata": {
    "ExecuteTime": {
     "end_time": "2024-12-11T15:42:07.117592Z",
     "start_time": "2024-12-11T15:42:07.114536Z"
    }
   },
   "cell_type": "code",
   "source": [
    "# # todo: save this kind of content before subsetting on an environment\n",
    "# #   the subsetting is currently baked into the query\n",
    "# \n",
    "# # see also goldterms_queries.ipynb in MAM's Collab\n",
    "# goldterms_result.to_csv(\"goldterms_single_environment_mappings_long.tsv\", sep=\"\\t\", index=False)"
   ],
   "id": "859a87109b08d83c",
   "outputs": [],
   "execution_count": 117
  },
  {
   "metadata": {
    "ExecuteTime": {
     "end_time": "2024-12-11T15:42:07.123128Z",
     "start_time": "2024-12-11T15:42:07.119425Z"
    }
   },
   "cell_type": "code",
   "source": "goldterms_only_curies = goldterms_result.loc[goldterms_result['predicate'].isin(gold_context_selectors), 'content']\n",
   "id": "391d1fb9314d4b0b",
   "outputs": [],
   "execution_count": 118
  },
  {
   "metadata": {
    "ExecuteTime": {
     "end_time": "2024-12-11T15:42:07.127617Z",
     "start_time": "2024-12-11T15:42:07.124748Z"
    }
   },
   "cell_type": "code",
   "source": "goldterms_only_curies = goldterms_only_curies.unique().tolist()",
   "id": "b5621477ccaaa761",
   "outputs": [],
   "execution_count": 119
  },
  {
   "metadata": {
    "ExecuteTime": {
     "end_time": "2024-12-11T15:42:07.131632Z",
     "start_time": "2024-12-11T15:42:07.129044Z"
    }
   },
   "cell_type": "code",
   "source": "# goldterms_only_curies",
   "id": "70238d1c8e144cc3",
   "outputs": [],
   "execution_count": 120
  },
  {
   "metadata": {},
   "cell_type": "markdown",
   "source": [
    "# Make lists of CURIEs\n",
    "which will determine\n",
    "- the rows in the table\n",
    "- the boolean filter columns"
   ],
   "id": "8541580a525201e3"
  },
  {
   "metadata": {
    "ExecuteTime": {
     "end_time": "2024-12-11T15:42:07.717643Z",
     "start_time": "2024-12-11T15:42:07.133239Z"
    }
   },
   "cell_type": "code",
   "source": [
    "anchor_curies = list(anchor_descendants_frame['curie'])\n",
    "legacy_pv_curies = [i['curie'] for i in pv_validation_results['valids']]\n",
    "\n",
    "biome_curies = list(envo_adapter.descendants(BIOME, predicates=[IS_A])) # \n",
    "terrestrial_biome_curies = list(envo_adapter.descendants(TERRESTRIAL_BIOME, predicates=[IS_A]))\n",
    "aquatic_biome_curies = list(envo_adapter.descendants(AQUATIC_BIOME, predicates=[IS_A]))\n",
    "abp_curies = list(envo_adapter.descendants(ABP, predicates=[IS_A]))\n",
    "env_sys_curies = list(envo_adapter.descendants(ENVIRONMENTAL_SYSTEM, predicates=[IS_A]))\n",
    "env_mat_curies = list(envo_adapter.descendants(ENVIRONMENTAL_MATERIAL, predicates=[IS_A]))\n",
    "obsoletes_curies = list(envo_adapter.obsoletes())\n",
    "\n",
    "soil_curies = list(envo_adapter.descendants(SOIL, predicates=[IS_A])) # \n",
    "liquid_water_curies = list(envo_adapter.descendants(LIQUID_WATER, predicates=[IS_A])) # \n",
    "water_ice_curies = list(envo_adapter.descendants(WATER_ICE, predicates=[IS_A])) # \n",
    "\n",
    "human_construction_curies = list(envo_adapter.descendants(HUMAN_CONSTRUCTION, predicates=[IS_A])) #\n",
    "building_curies = list(envo_adapter.descendants(BUILDING, predicates=[IS_A])) #\n",
    "building_part_curies = list(envo_adapter.descendants(BUILDING_PART, predicates=[IS_A])) #\n"
   ],
   "id": "beb69545a9255099",
   "outputs": [],
   "execution_count": 121
  },
  {
   "metadata": {},
   "cell_type": "markdown",
   "source": "## Bootstrap the rows",
   "id": "1318a3f163d8cb19"
  },
  {
   "metadata": {
    "ExecuteTime": {
     "end_time": "2024-12-11T15:42:07.722397Z",
     "start_time": "2024-12-11T15:42:07.719523Z"
    }
   },
   "cell_type": "code",
   "source": "include_in_rows = set()",
   "id": "20a9dcc52b995762",
   "outputs": [],
   "execution_count": 122
  },
  {
   "metadata": {
    "ExecuteTime": {
     "end_time": "2024-12-11T15:42:07.726746Z",
     "start_time": "2024-12-11T15:42:07.723811Z"
    }
   },
   "cell_type": "code",
   "source": "include_in_rows.update(anchor_curies)",
   "id": "2c3e280c36ed9b91",
   "outputs": [],
   "execution_count": 123
  },
  {
   "metadata": {
    "ExecuteTime": {
     "end_time": "2024-12-11T15:42:07.731275Z",
     "start_time": "2024-12-11T15:42:07.728252Z"
    }
   },
   "cell_type": "code",
   "source": "include_in_rows.update(legacy_pv_curies)",
   "id": "422c62627b450632",
   "outputs": [],
   "execution_count": 124
  },
  {
   "metadata": {
    "ExecuteTime": {
     "end_time": "2024-12-11T15:42:07.735905Z",
     "start_time": "2024-12-11T15:42:07.732808Z"
    }
   },
   "cell_type": "code",
   "source": "include_in_rows.update(nmdc_biosample_contexts_frame[nmdc_context_selector])",
   "id": "e279a2edf1fa4935",
   "outputs": [],
   "execution_count": 125
  },
  {
   "metadata": {
    "ExecuteTime": {
     "end_time": "2024-12-11T15:42:07.741292Z",
     "start_time": "2024-12-11T15:42:07.737461Z"
    }
   },
   "cell_type": "code",
   "source": "include_in_rows.update(ncbi_frame['extracted_curie'])",
   "id": "7e4be4b7ae64e990",
   "outputs": [],
   "execution_count": 126
  },
  {
   "metadata": {
    "ExecuteTime": {
     "end_time": "2024-12-11T15:42:07.747274Z",
     "start_time": "2024-12-11T15:42:07.742819Z"
    }
   },
   "cell_type": "code",
   "source": "include_in_rows.update(ncbi_frame['longest_annotation_curie'])",
   "id": "2cd900624cfce1ec",
   "outputs": [],
   "execution_count": 127
  },
  {
   "metadata": {
    "ExecuteTime": {
     "end_time": "2024-12-11T15:42:07.751813Z",
     "start_time": "2024-12-11T15:42:07.748940Z"
    }
   },
   "cell_type": "code",
   "source": "# include_in_rows.update(gold_env_filtered_biosamples_with_inferred['object'])",
   "id": "9790ec48f41afe79",
   "outputs": [],
   "execution_count": 128
  },
  {
   "metadata": {
    "ExecuteTime": {
     "end_time": "2024-12-11T15:42:07.756658Z",
     "start_time": "2024-12-11T15:42:07.753657Z"
    }
   },
   "cell_type": "code",
   "source": "include_in_rows.update(goldterms_only_curies)",
   "id": "31ff1c10df555677",
   "outputs": [],
   "execution_count": 129
  },
  {
   "metadata": {
    "ExecuteTime": {
     "end_time": "2024-12-11T15:42:07.761203Z",
     "start_time": "2024-12-11T15:42:07.758271Z"
    }
   },
   "cell_type": "code",
   "source": "rows_lod = []",
   "id": "f7a6fb9413f45298",
   "outputs": [],
   "execution_count": 130
  },
  {
   "metadata": {},
   "cell_type": "markdown",
   "source": "# Voting sheet rows and boolean columns",
   "id": "d0c9c7c730c8308a"
  },
  {
   "metadata": {
    "ExecuteTime": {
     "end_time": "2024-12-11T15:43:40.646062Z",
     "start_time": "2024-12-11T15:42:07.763223Z"
    }
   },
   "cell_type": "code",
   "source": [
    "for curie in include_in_rows:\n",
    "    if curie is None:\n",
    "        continue\n",
    "        \n",
    "    # ONCE AGAIN, assuming that EnvO is the only ontology we'll check against\n",
    "    current_ancestors = list(envo_adapter.ancestors(curie, predicates=[IS_A])) # vs legacy_pv_curies\n",
    "    ancestors_in_enum_count = len(set(current_ancestors) & set(legacy_pv_curies))\n",
    "    \n",
    "    current_descendants  = list(envo_adapter.descendants(curie, predicates=[IS_A])) # vs legacy_pv_curies\n",
    "    descendants_in_enum_count  = len(set(current_descendants) & set(legacy_pv_curies))\n",
    "    \n",
    "    \n",
    "    row = {\n",
    "        'curie': curie,\n",
    "        'label': envo_adapter.label(curie),\n",
    "        'envo_native': False,\n",
    "        'obsolete': False,\n",
    "        comparison_enum_column_name: False,\n",
    "        'ancestors_in_enum_count': ancestors_in_enum_count,\n",
    "        'descendants_in_enum_count': descendants_in_enum_count,\n",
    "        'abp': False,\n",
    "        'env_sys': False,\n",
    "        'biome': False,\n",
    "        'terrestrial_biome': False,\n",
    "        'aquatic_biome': False,\n",
    "        'env_mat': False,\n",
    "        'soil': False,\n",
    "        'liquid water': False,\n",
    "        'water ice': False,\n",
    "        'human_construction': False,\n",
    "        'building': False,\n",
    "        'building_part': False,\n",
    "        'goldterms_mappings': False,\n",
    "    }\n",
    "        \n",
    "    if curie in biome_curies:\n",
    "        row['biome'] = True\n",
    "    if curie in terrestrial_biome_curies:\n",
    "        row['terrestrial_biome'] = True\n",
    "    if curie in aquatic_biome_curies:\n",
    "        row['aquatic_biome'] = True\n",
    "    if curie in abp_curies:\n",
    "        row['abp'] = True\n",
    "    if curie in env_sys_curies:\n",
    "        row['env_sys'] = True\n",
    "    if curie in env_mat_curies:\n",
    "        row['env_mat'] = True\n",
    "    if curie in soil_curies:\n",
    "        row['soil'] = True\n",
    "    if curie in liquid_water_curies:\n",
    "        row['liquid water'] = True\n",
    "    if curie in water_ice_curies:\n",
    "        row['water ice'] = True\n",
    "    if curie in human_construction_curies:\n",
    "        row['human_construction'] = True\n",
    "    if curie in building_curies:\n",
    "        row['building'] = True\n",
    "    if curie in building_part_curies:\n",
    "        row['building_part'] = True\n",
    "    if curie in legacy_pv_curies:\n",
    "        row[comparison_enum_column_name] = True\n",
    "    if curie in obsoletes_curies:\n",
    "        row['obsolete'] = True\n",
    "    if curie in goldterms_only_curies:\n",
    "        row['goldterms_mappings'] = True\n",
    "        \n",
    "    try:\n",
    "        prefix, local_id = curie.split(':')\n",
    "        if prefix and prefix == 'ENVO' and row['label'] is not None:\n",
    "            row['envo_native'] = True\n",
    "    except Exception as e:\n",
    "        # Print the exception message\n",
    "        print(f\"An error occurred: {e} trying to split {curie}\")\n",
    "\n",
    "    rows_lod.append(row)\n",
    "\n",
    "# 2 minutes\n"
   ],
   "id": "32f278db05c57616",
   "outputs": [],
   "execution_count": 131
  },
  {
   "metadata": {},
   "cell_type": "markdown",
   "source": "# ^ Voting sheet rows and boolean columns",
   "id": "f77fce51b7fd116d"
  },
  {
   "metadata": {
    "ExecuteTime": {
     "end_time": "2024-12-11T15:43:40.657258Z",
     "start_time": "2024-12-11T15:43:40.647551Z"
    }
   },
   "cell_type": "code",
   "source": "rows_frame = pd.DataFrame(rows_lod)",
   "id": "26bb62d21192288f",
   "outputs": [],
   "execution_count": 132
  },
  {
   "metadata": {
    "ExecuteTime": {
     "end_time": "2024-12-11T15:43:40.674958Z",
     "start_time": "2024-12-11T15:43:40.658900Z"
    }
   },
   "cell_type": "code",
   "source": "rows_frame",
   "id": "4db3ebadb8a07a50",
   "outputs": [
    {
     "data": {
      "text/plain": [
       "              curie                                 label  envo_native  \\\n",
       "0     ENVO:00005748                              dry soil         True   \n",
       "1     ENVO:00005779                 vegetable garden soil         True   \n",
       "2      PATO:0000033                      concentration of        False   \n",
       "3     ENVO:01000385  temperate deciduous broadleaf forest         True   \n",
       "4      PATO:0000309                                 young        False   \n",
       "...             ...                                   ...          ...   \n",
       "2328  ENVO:01000192              tropical grassland biome         True   \n",
       "2329  ENVO:00000239                               pocasin         True   \n",
       "2330   ENVO:0000528                                  None        False   \n",
       "2331  ENVO:01001837                       subalpine biome         True   \n",
       "2332  ENVO:00002255                              solonetz         True   \n",
       "\n",
       "      obsolete  no_comparison_enum  ancestors_in_enum_count  \\\n",
       "0        False               False                        0   \n",
       "1        False               False                        0   \n",
       "2        False               False                        0   \n",
       "3        False               False                        0   \n",
       "4        False               False                        0   \n",
       "...        ...                 ...                      ...   \n",
       "2328     False               False                        0   \n",
       "2329     False               False                        0   \n",
       "2330     False               False                        0   \n",
       "2331     False               False                        0   \n",
       "2332     False               False                        0   \n",
       "\n",
       "      descendants_in_enum_count    abp  env_sys  biome  terrestrial_biome  \\\n",
       "0                             0   True    False  False              False   \n",
       "1                             0   True    False  False              False   \n",
       "2                             0  False    False  False              False   \n",
       "3                             0   True     True  False              False   \n",
       "4                             0  False    False  False              False   \n",
       "...                         ...    ...      ...    ...                ...   \n",
       "2328                          0   True     True   True               True   \n",
       "2329                          0  False     True  False              False   \n",
       "2330                          0  False    False  False              False   \n",
       "2331                          0   True     True   True              False   \n",
       "2332                          0   True    False  False              False   \n",
       "\n",
       "      aquatic_biome  env_mat   soil  liquid water  water ice  \\\n",
       "0             False     True   True         False      False   \n",
       "1             False     True   True         False      False   \n",
       "2             False    False  False         False      False   \n",
       "3             False    False  False         False      False   \n",
       "4             False    False  False         False      False   \n",
       "...             ...      ...    ...           ...        ...   \n",
       "2328          False    False  False         False      False   \n",
       "2329          False    False  False         False      False   \n",
       "2330          False    False  False         False      False   \n",
       "2331          False    False  False         False      False   \n",
       "2332          False     True   True         False      False   \n",
       "\n",
       "      human_construction  building  building_part  goldterms_mappings  \n",
       "0                  False     False          False               False  \n",
       "1                  False     False          False               False  \n",
       "2                  False     False          False               False  \n",
       "3                  False     False          False               False  \n",
       "4                  False     False          False               False  \n",
       "...                  ...       ...            ...                 ...  \n",
       "2328               False     False          False               False  \n",
       "2329               False     False          False               False  \n",
       "2330               False     False          False               False  \n",
       "2331               False     False          False               False  \n",
       "2332               False     False          False               False  \n",
       "\n",
       "[2333 rows x 20 columns]"
      ],
      "text/html": [
       "<div>\n",
       "<style scoped>\n",
       "    .dataframe tbody tr th:only-of-type {\n",
       "        vertical-align: middle;\n",
       "    }\n",
       "\n",
       "    .dataframe tbody tr th {\n",
       "        vertical-align: top;\n",
       "    }\n",
       "\n",
       "    .dataframe thead th {\n",
       "        text-align: right;\n",
       "    }\n",
       "</style>\n",
       "<table border=\"1\" class=\"dataframe\">\n",
       "  <thead>\n",
       "    <tr style=\"text-align: right;\">\n",
       "      <th></th>\n",
       "      <th>curie</th>\n",
       "      <th>label</th>\n",
       "      <th>envo_native</th>\n",
       "      <th>obsolete</th>\n",
       "      <th>no_comparison_enum</th>\n",
       "      <th>ancestors_in_enum_count</th>\n",
       "      <th>descendants_in_enum_count</th>\n",
       "      <th>abp</th>\n",
       "      <th>env_sys</th>\n",
       "      <th>biome</th>\n",
       "      <th>terrestrial_biome</th>\n",
       "      <th>aquatic_biome</th>\n",
       "      <th>env_mat</th>\n",
       "      <th>soil</th>\n",
       "      <th>liquid water</th>\n",
       "      <th>water ice</th>\n",
       "      <th>human_construction</th>\n",
       "      <th>building</th>\n",
       "      <th>building_part</th>\n",
       "      <th>goldterms_mappings</th>\n",
       "    </tr>\n",
       "  </thead>\n",
       "  <tbody>\n",
       "    <tr>\n",
       "      <th>0</th>\n",
       "      <td>ENVO:00005748</td>\n",
       "      <td>dry soil</td>\n",
       "      <td>True</td>\n",
       "      <td>False</td>\n",
       "      <td>False</td>\n",
       "      <td>0</td>\n",
       "      <td>0</td>\n",
       "      <td>True</td>\n",
       "      <td>False</td>\n",
       "      <td>False</td>\n",
       "      <td>False</td>\n",
       "      <td>False</td>\n",
       "      <td>True</td>\n",
       "      <td>True</td>\n",
       "      <td>False</td>\n",
       "      <td>False</td>\n",
       "      <td>False</td>\n",
       "      <td>False</td>\n",
       "      <td>False</td>\n",
       "      <td>False</td>\n",
       "    </tr>\n",
       "    <tr>\n",
       "      <th>1</th>\n",
       "      <td>ENVO:00005779</td>\n",
       "      <td>vegetable garden soil</td>\n",
       "      <td>True</td>\n",
       "      <td>False</td>\n",
       "      <td>False</td>\n",
       "      <td>0</td>\n",
       "      <td>0</td>\n",
       "      <td>True</td>\n",
       "      <td>False</td>\n",
       "      <td>False</td>\n",
       "      <td>False</td>\n",
       "      <td>False</td>\n",
       "      <td>True</td>\n",
       "      <td>True</td>\n",
       "      <td>False</td>\n",
       "      <td>False</td>\n",
       "      <td>False</td>\n",
       "      <td>False</td>\n",
       "      <td>False</td>\n",
       "      <td>False</td>\n",
       "    </tr>\n",
       "    <tr>\n",
       "      <th>2</th>\n",
       "      <td>PATO:0000033</td>\n",
       "      <td>concentration of</td>\n",
       "      <td>False</td>\n",
       "      <td>False</td>\n",
       "      <td>False</td>\n",
       "      <td>0</td>\n",
       "      <td>0</td>\n",
       "      <td>False</td>\n",
       "      <td>False</td>\n",
       "      <td>False</td>\n",
       "      <td>False</td>\n",
       "      <td>False</td>\n",
       "      <td>False</td>\n",
       "      <td>False</td>\n",
       "      <td>False</td>\n",
       "      <td>False</td>\n",
       "      <td>False</td>\n",
       "      <td>False</td>\n",
       "      <td>False</td>\n",
       "      <td>False</td>\n",
       "    </tr>\n",
       "    <tr>\n",
       "      <th>3</th>\n",
       "      <td>ENVO:01000385</td>\n",
       "      <td>temperate deciduous broadleaf forest</td>\n",
       "      <td>True</td>\n",
       "      <td>False</td>\n",
       "      <td>False</td>\n",
       "      <td>0</td>\n",
       "      <td>0</td>\n",
       "      <td>True</td>\n",
       "      <td>True</td>\n",
       "      <td>False</td>\n",
       "      <td>False</td>\n",
       "      <td>False</td>\n",
       "      <td>False</td>\n",
       "      <td>False</td>\n",
       "      <td>False</td>\n",
       "      <td>False</td>\n",
       "      <td>False</td>\n",
       "      <td>False</td>\n",
       "      <td>False</td>\n",
       "      <td>False</td>\n",
       "    </tr>\n",
       "    <tr>\n",
       "      <th>4</th>\n",
       "      <td>PATO:0000309</td>\n",
       "      <td>young</td>\n",
       "      <td>False</td>\n",
       "      <td>False</td>\n",
       "      <td>False</td>\n",
       "      <td>0</td>\n",
       "      <td>0</td>\n",
       "      <td>False</td>\n",
       "      <td>False</td>\n",
       "      <td>False</td>\n",
       "      <td>False</td>\n",
       "      <td>False</td>\n",
       "      <td>False</td>\n",
       "      <td>False</td>\n",
       "      <td>False</td>\n",
       "      <td>False</td>\n",
       "      <td>False</td>\n",
       "      <td>False</td>\n",
       "      <td>False</td>\n",
       "      <td>False</td>\n",
       "    </tr>\n",
       "    <tr>\n",
       "      <th>...</th>\n",
       "      <td>...</td>\n",
       "      <td>...</td>\n",
       "      <td>...</td>\n",
       "      <td>...</td>\n",
       "      <td>...</td>\n",
       "      <td>...</td>\n",
       "      <td>...</td>\n",
       "      <td>...</td>\n",
       "      <td>...</td>\n",
       "      <td>...</td>\n",
       "      <td>...</td>\n",
       "      <td>...</td>\n",
       "      <td>...</td>\n",
       "      <td>...</td>\n",
       "      <td>...</td>\n",
       "      <td>...</td>\n",
       "      <td>...</td>\n",
       "      <td>...</td>\n",
       "      <td>...</td>\n",
       "      <td>...</td>\n",
       "    </tr>\n",
       "    <tr>\n",
       "      <th>2328</th>\n",
       "      <td>ENVO:01000192</td>\n",
       "      <td>tropical grassland biome</td>\n",
       "      <td>True</td>\n",
       "      <td>False</td>\n",
       "      <td>False</td>\n",
       "      <td>0</td>\n",
       "      <td>0</td>\n",
       "      <td>True</td>\n",
       "      <td>True</td>\n",
       "      <td>True</td>\n",
       "      <td>True</td>\n",
       "      <td>False</td>\n",
       "      <td>False</td>\n",
       "      <td>False</td>\n",
       "      <td>False</td>\n",
       "      <td>False</td>\n",
       "      <td>False</td>\n",
       "      <td>False</td>\n",
       "      <td>False</td>\n",
       "      <td>False</td>\n",
       "    </tr>\n",
       "    <tr>\n",
       "      <th>2329</th>\n",
       "      <td>ENVO:00000239</td>\n",
       "      <td>pocasin</td>\n",
       "      <td>True</td>\n",
       "      <td>False</td>\n",
       "      <td>False</td>\n",
       "      <td>0</td>\n",
       "      <td>0</td>\n",
       "      <td>False</td>\n",
       "      <td>True</td>\n",
       "      <td>False</td>\n",
       "      <td>False</td>\n",
       "      <td>False</td>\n",
       "      <td>False</td>\n",
       "      <td>False</td>\n",
       "      <td>False</td>\n",
       "      <td>False</td>\n",
       "      <td>False</td>\n",
       "      <td>False</td>\n",
       "      <td>False</td>\n",
       "      <td>False</td>\n",
       "    </tr>\n",
       "    <tr>\n",
       "      <th>2330</th>\n",
       "      <td>ENVO:0000528</td>\n",
       "      <td>None</td>\n",
       "      <td>False</td>\n",
       "      <td>False</td>\n",
       "      <td>False</td>\n",
       "      <td>0</td>\n",
       "      <td>0</td>\n",
       "      <td>False</td>\n",
       "      <td>False</td>\n",
       "      <td>False</td>\n",
       "      <td>False</td>\n",
       "      <td>False</td>\n",
       "      <td>False</td>\n",
       "      <td>False</td>\n",
       "      <td>False</td>\n",
       "      <td>False</td>\n",
       "      <td>False</td>\n",
       "      <td>False</td>\n",
       "      <td>False</td>\n",
       "      <td>False</td>\n",
       "    </tr>\n",
       "    <tr>\n",
       "      <th>2331</th>\n",
       "      <td>ENVO:01001837</td>\n",
       "      <td>subalpine biome</td>\n",
       "      <td>True</td>\n",
       "      <td>False</td>\n",
       "      <td>False</td>\n",
       "      <td>0</td>\n",
       "      <td>0</td>\n",
       "      <td>True</td>\n",
       "      <td>True</td>\n",
       "      <td>True</td>\n",
       "      <td>False</td>\n",
       "      <td>False</td>\n",
       "      <td>False</td>\n",
       "      <td>False</td>\n",
       "      <td>False</td>\n",
       "      <td>False</td>\n",
       "      <td>False</td>\n",
       "      <td>False</td>\n",
       "      <td>False</td>\n",
       "      <td>False</td>\n",
       "    </tr>\n",
       "    <tr>\n",
       "      <th>2332</th>\n",
       "      <td>ENVO:00002255</td>\n",
       "      <td>solonetz</td>\n",
       "      <td>True</td>\n",
       "      <td>False</td>\n",
       "      <td>False</td>\n",
       "      <td>0</td>\n",
       "      <td>0</td>\n",
       "      <td>True</td>\n",
       "      <td>False</td>\n",
       "      <td>False</td>\n",
       "      <td>False</td>\n",
       "      <td>False</td>\n",
       "      <td>True</td>\n",
       "      <td>True</td>\n",
       "      <td>False</td>\n",
       "      <td>False</td>\n",
       "      <td>False</td>\n",
       "      <td>False</td>\n",
       "      <td>False</td>\n",
       "      <td>False</td>\n",
       "    </tr>\n",
       "  </tbody>\n",
       "</table>\n",
       "<p>2333 rows × 20 columns</p>\n",
       "</div>"
      ]
     },
     "execution_count": 133,
     "metadata": {},
     "output_type": "execute_result"
    }
   ],
   "execution_count": 133
  },
  {
   "metadata": {},
   "cell_type": "markdown",
   "source": "# Merge in NMDC counts",
   "id": "8f7c4b1d95722568"
  },
  {
   "metadata": {
    "ExecuteTime": {
     "end_time": "2024-12-11T15:43:40.681247Z",
     "start_time": "2024-12-11T15:43:40.676630Z"
    }
   },
   "cell_type": "code",
   "source": [
    "nmdc_biosample_scoped_counts = nmdc_biosample_contexts_frame[nmdc_context_selector].value_counts().reset_index()\n",
    "nmdc_biosample_scoped_counts.columns = ['curie', 'nmdc_scoped_count']\n"
   ],
   "id": "88ebf6f76c2e0545",
   "outputs": [],
   "execution_count": 134
  },
  {
   "metadata": {
    "ExecuteTime": {
     "end_time": "2024-12-11T15:43:40.688461Z",
     "start_time": "2024-12-11T15:43:40.682770Z"
    }
   },
   "cell_type": "code",
   "source": "nmdc_biosample_scoped_counts",
   "id": "85789ece9ec4ddd6",
   "outputs": [
    {
     "data": {
      "text/plain": [
       "            curie  nmdc_scoped_count\n",
       "0   ENVO:04000007                467\n",
       "1   ENVO:00002042                287\n",
       "2   ENVO:00002007                165\n",
       "3   ENVO:03605001                150\n",
       "4   ENVO:03605006                104\n",
       "5   ENVO:03605004                 93\n",
       "6   ENVO:01000017                 35\n",
       "7   ENVO:03605002                 27\n",
       "8   ENVO:03605003                 25\n",
       "9   ENVO:03605005                 22\n",
       "10  ENVO:01000599                 13"
      ],
      "text/html": [
       "<div>\n",
       "<style scoped>\n",
       "    .dataframe tbody tr th:only-of-type {\n",
       "        vertical-align: middle;\n",
       "    }\n",
       "\n",
       "    .dataframe tbody tr th {\n",
       "        vertical-align: top;\n",
       "    }\n",
       "\n",
       "    .dataframe thead th {\n",
       "        text-align: right;\n",
       "    }\n",
       "</style>\n",
       "<table border=\"1\" class=\"dataframe\">\n",
       "  <thead>\n",
       "    <tr style=\"text-align: right;\">\n",
       "      <th></th>\n",
       "      <th>curie</th>\n",
       "      <th>nmdc_scoped_count</th>\n",
       "    </tr>\n",
       "  </thead>\n",
       "  <tbody>\n",
       "    <tr>\n",
       "      <th>0</th>\n",
       "      <td>ENVO:04000007</td>\n",
       "      <td>467</td>\n",
       "    </tr>\n",
       "    <tr>\n",
       "      <th>1</th>\n",
       "      <td>ENVO:00002042</td>\n",
       "      <td>287</td>\n",
       "    </tr>\n",
       "    <tr>\n",
       "      <th>2</th>\n",
       "      <td>ENVO:00002007</td>\n",
       "      <td>165</td>\n",
       "    </tr>\n",
       "    <tr>\n",
       "      <th>3</th>\n",
       "      <td>ENVO:03605001</td>\n",
       "      <td>150</td>\n",
       "    </tr>\n",
       "    <tr>\n",
       "      <th>4</th>\n",
       "      <td>ENVO:03605006</td>\n",
       "      <td>104</td>\n",
       "    </tr>\n",
       "    <tr>\n",
       "      <th>5</th>\n",
       "      <td>ENVO:03605004</td>\n",
       "      <td>93</td>\n",
       "    </tr>\n",
       "    <tr>\n",
       "      <th>6</th>\n",
       "      <td>ENVO:01000017</td>\n",
       "      <td>35</td>\n",
       "    </tr>\n",
       "    <tr>\n",
       "      <th>7</th>\n",
       "      <td>ENVO:03605002</td>\n",
       "      <td>27</td>\n",
       "    </tr>\n",
       "    <tr>\n",
       "      <th>8</th>\n",
       "      <td>ENVO:03605003</td>\n",
       "      <td>25</td>\n",
       "    </tr>\n",
       "    <tr>\n",
       "      <th>9</th>\n",
       "      <td>ENVO:03605005</td>\n",
       "      <td>22</td>\n",
       "    </tr>\n",
       "    <tr>\n",
       "      <th>10</th>\n",
       "      <td>ENVO:01000599</td>\n",
       "      <td>13</td>\n",
       "    </tr>\n",
       "  </tbody>\n",
       "</table>\n",
       "</div>"
      ]
     },
     "execution_count": 135,
     "metadata": {},
     "output_type": "execute_result"
    }
   ],
   "execution_count": 135
  },
  {
   "metadata": {
    "ExecuteTime": {
     "end_time": "2024-12-11T15:43:40.695257Z",
     "start_time": "2024-12-11T15:43:40.689889Z"
    }
   },
   "cell_type": "code",
   "source": [
    "# Perform the left merge\n",
    "rows_frame = rows_frame.merge(\n",
    "    nmdc_biosample_scoped_counts,\n",
    "    left_on='curie',\n",
    "    right_on='curie',\n",
    "    how='left'\n",
    ")"
   ],
   "id": "329203aecb25f598",
   "outputs": [],
   "execution_count": 136
  },
  {
   "metadata": {},
   "cell_type": "markdown",
   "source": "# Merge in GOLD hybrid counts",
   "id": "f77f59f09d479391"
  },
  {
   "metadata": {
    "ExecuteTime": {
     "end_time": "2024-12-11T15:43:40.699298Z",
     "start_time": "2024-12-11T15:43:40.696656Z"
    }
   },
   "cell_type": "code",
   "source": "# gold_env_filtered_biosamples_with_inferred",
   "id": "cff020dba8153cb2",
   "outputs": [],
   "execution_count": 137
  },
  {
   "metadata": {
    "ExecuteTime": {
     "end_time": "2024-12-11T15:43:40.704173Z",
     "start_time": "2024-12-11T15:43:40.700916Z"
    }
   },
   "cell_type": "code",
   "source": [
    "# gold_biosample_scoped_counts = gold_env_filtered_biosamples_with_inferred['object'].value_counts().reset_index()\n",
    "# gold_biosample_scoped_counts.columns = ['curie', 'gold_hybrid_count']"
   ],
   "id": "332592b73d143dc0",
   "outputs": [],
   "execution_count": 138
  },
  {
   "metadata": {
    "ExecuteTime": {
     "end_time": "2024-12-11T15:43:40.708333Z",
     "start_time": "2024-12-11T15:43:40.705769Z"
    }
   },
   "cell_type": "code",
   "source": "# gold_biosample_scoped_counts",
   "id": "57d16757b67e19a5",
   "outputs": [],
   "execution_count": 139
  },
  {
   "metadata": {
    "ExecuteTime": {
     "end_time": "2024-12-11T15:43:40.712421Z",
     "start_time": "2024-12-11T15:43:40.709982Z"
    }
   },
   "cell_type": "code",
   "source": [
    "# # Perform the left merge\n",
    "# rows_frame = rows_frame.merge(\n",
    "#     gold_biosample_scoped_counts,\n",
    "#     left_on='curie',\n",
    "#     right_on='curie',\n",
    "#     how='left'\n",
    "# )"
   ],
   "id": "65ab8871a20a93d2",
   "outputs": [],
   "execution_count": 140
  },
  {
   "metadata": {
    "ExecuteTime": {
     "end_time": "2024-12-11T15:43:40.734022Z",
     "start_time": "2024-12-11T15:43:40.714118Z"
    }
   },
   "cell_type": "code",
   "source": "rows_frame",
   "id": "8346fb59af8e61c6",
   "outputs": [
    {
     "data": {
      "text/plain": [
       "              curie                                 label  envo_native  \\\n",
       "0     ENVO:00005748                              dry soil         True   \n",
       "1     ENVO:00005779                 vegetable garden soil         True   \n",
       "2      PATO:0000033                      concentration of        False   \n",
       "3     ENVO:01000385  temperate deciduous broadleaf forest         True   \n",
       "4      PATO:0000309                                 young        False   \n",
       "...             ...                                   ...          ...   \n",
       "2328  ENVO:01000192              tropical grassland biome         True   \n",
       "2329  ENVO:00000239                               pocasin         True   \n",
       "2330   ENVO:0000528                                  None        False   \n",
       "2331  ENVO:01001837                       subalpine biome         True   \n",
       "2332  ENVO:00002255                              solonetz         True   \n",
       "\n",
       "      obsolete  no_comparison_enum  ancestors_in_enum_count  \\\n",
       "0        False               False                        0   \n",
       "1        False               False                        0   \n",
       "2        False               False                        0   \n",
       "3        False               False                        0   \n",
       "4        False               False                        0   \n",
       "...        ...                 ...                      ...   \n",
       "2328     False               False                        0   \n",
       "2329     False               False                        0   \n",
       "2330     False               False                        0   \n",
       "2331     False               False                        0   \n",
       "2332     False               False                        0   \n",
       "\n",
       "      descendants_in_enum_count    abp  env_sys  biome  ...  aquatic_biome  \\\n",
       "0                             0   True    False  False  ...          False   \n",
       "1                             0   True    False  False  ...          False   \n",
       "2                             0  False    False  False  ...          False   \n",
       "3                             0   True     True  False  ...          False   \n",
       "4                             0  False    False  False  ...          False   \n",
       "...                         ...    ...      ...    ...  ...            ...   \n",
       "2328                          0   True     True   True  ...          False   \n",
       "2329                          0  False     True  False  ...          False   \n",
       "2330                          0  False    False  False  ...          False   \n",
       "2331                          0   True     True   True  ...          False   \n",
       "2332                          0   True    False  False  ...          False   \n",
       "\n",
       "      env_mat   soil  liquid water  water ice  human_construction  building  \\\n",
       "0        True   True         False      False               False     False   \n",
       "1        True   True         False      False               False     False   \n",
       "2       False  False         False      False               False     False   \n",
       "3       False  False         False      False               False     False   \n",
       "4       False  False         False      False               False     False   \n",
       "...       ...    ...           ...        ...                 ...       ...   \n",
       "2328    False  False         False      False               False     False   \n",
       "2329    False  False         False      False               False     False   \n",
       "2330    False  False         False      False               False     False   \n",
       "2331    False  False         False      False               False     False   \n",
       "2332     True   True         False      False               False     False   \n",
       "\n",
       "      building_part  goldterms_mappings  nmdc_scoped_count  \n",
       "0             False               False                NaN  \n",
       "1             False               False                NaN  \n",
       "2             False               False                NaN  \n",
       "3             False               False                NaN  \n",
       "4             False               False                NaN  \n",
       "...             ...                 ...                ...  \n",
       "2328          False               False                NaN  \n",
       "2329          False               False                NaN  \n",
       "2330          False               False                NaN  \n",
       "2331          False               False                NaN  \n",
       "2332          False               False                NaN  \n",
       "\n",
       "[2333 rows x 21 columns]"
      ],
      "text/html": [
       "<div>\n",
       "<style scoped>\n",
       "    .dataframe tbody tr th:only-of-type {\n",
       "        vertical-align: middle;\n",
       "    }\n",
       "\n",
       "    .dataframe tbody tr th {\n",
       "        vertical-align: top;\n",
       "    }\n",
       "\n",
       "    .dataframe thead th {\n",
       "        text-align: right;\n",
       "    }\n",
       "</style>\n",
       "<table border=\"1\" class=\"dataframe\">\n",
       "  <thead>\n",
       "    <tr style=\"text-align: right;\">\n",
       "      <th></th>\n",
       "      <th>curie</th>\n",
       "      <th>label</th>\n",
       "      <th>envo_native</th>\n",
       "      <th>obsolete</th>\n",
       "      <th>no_comparison_enum</th>\n",
       "      <th>ancestors_in_enum_count</th>\n",
       "      <th>descendants_in_enum_count</th>\n",
       "      <th>abp</th>\n",
       "      <th>env_sys</th>\n",
       "      <th>biome</th>\n",
       "      <th>...</th>\n",
       "      <th>aquatic_biome</th>\n",
       "      <th>env_mat</th>\n",
       "      <th>soil</th>\n",
       "      <th>liquid water</th>\n",
       "      <th>water ice</th>\n",
       "      <th>human_construction</th>\n",
       "      <th>building</th>\n",
       "      <th>building_part</th>\n",
       "      <th>goldterms_mappings</th>\n",
       "      <th>nmdc_scoped_count</th>\n",
       "    </tr>\n",
       "  </thead>\n",
       "  <tbody>\n",
       "    <tr>\n",
       "      <th>0</th>\n",
       "      <td>ENVO:00005748</td>\n",
       "      <td>dry soil</td>\n",
       "      <td>True</td>\n",
       "      <td>False</td>\n",
       "      <td>False</td>\n",
       "      <td>0</td>\n",
       "      <td>0</td>\n",
       "      <td>True</td>\n",
       "      <td>False</td>\n",
       "      <td>False</td>\n",
       "      <td>...</td>\n",
       "      <td>False</td>\n",
       "      <td>True</td>\n",
       "      <td>True</td>\n",
       "      <td>False</td>\n",
       "      <td>False</td>\n",
       "      <td>False</td>\n",
       "      <td>False</td>\n",
       "      <td>False</td>\n",
       "      <td>False</td>\n",
       "      <td>NaN</td>\n",
       "    </tr>\n",
       "    <tr>\n",
       "      <th>1</th>\n",
       "      <td>ENVO:00005779</td>\n",
       "      <td>vegetable garden soil</td>\n",
       "      <td>True</td>\n",
       "      <td>False</td>\n",
       "      <td>False</td>\n",
       "      <td>0</td>\n",
       "      <td>0</td>\n",
       "      <td>True</td>\n",
       "      <td>False</td>\n",
       "      <td>False</td>\n",
       "      <td>...</td>\n",
       "      <td>False</td>\n",
       "      <td>True</td>\n",
       "      <td>True</td>\n",
       "      <td>False</td>\n",
       "      <td>False</td>\n",
       "      <td>False</td>\n",
       "      <td>False</td>\n",
       "      <td>False</td>\n",
       "      <td>False</td>\n",
       "      <td>NaN</td>\n",
       "    </tr>\n",
       "    <tr>\n",
       "      <th>2</th>\n",
       "      <td>PATO:0000033</td>\n",
       "      <td>concentration of</td>\n",
       "      <td>False</td>\n",
       "      <td>False</td>\n",
       "      <td>False</td>\n",
       "      <td>0</td>\n",
       "      <td>0</td>\n",
       "      <td>False</td>\n",
       "      <td>False</td>\n",
       "      <td>False</td>\n",
       "      <td>...</td>\n",
       "      <td>False</td>\n",
       "      <td>False</td>\n",
       "      <td>False</td>\n",
       "      <td>False</td>\n",
       "      <td>False</td>\n",
       "      <td>False</td>\n",
       "      <td>False</td>\n",
       "      <td>False</td>\n",
       "      <td>False</td>\n",
       "      <td>NaN</td>\n",
       "    </tr>\n",
       "    <tr>\n",
       "      <th>3</th>\n",
       "      <td>ENVO:01000385</td>\n",
       "      <td>temperate deciduous broadleaf forest</td>\n",
       "      <td>True</td>\n",
       "      <td>False</td>\n",
       "      <td>False</td>\n",
       "      <td>0</td>\n",
       "      <td>0</td>\n",
       "      <td>True</td>\n",
       "      <td>True</td>\n",
       "      <td>False</td>\n",
       "      <td>...</td>\n",
       "      <td>False</td>\n",
       "      <td>False</td>\n",
       "      <td>False</td>\n",
       "      <td>False</td>\n",
       "      <td>False</td>\n",
       "      <td>False</td>\n",
       "      <td>False</td>\n",
       "      <td>False</td>\n",
       "      <td>False</td>\n",
       "      <td>NaN</td>\n",
       "    </tr>\n",
       "    <tr>\n",
       "      <th>4</th>\n",
       "      <td>PATO:0000309</td>\n",
       "      <td>young</td>\n",
       "      <td>False</td>\n",
       "      <td>False</td>\n",
       "      <td>False</td>\n",
       "      <td>0</td>\n",
       "      <td>0</td>\n",
       "      <td>False</td>\n",
       "      <td>False</td>\n",
       "      <td>False</td>\n",
       "      <td>...</td>\n",
       "      <td>False</td>\n",
       "      <td>False</td>\n",
       "      <td>False</td>\n",
       "      <td>False</td>\n",
       "      <td>False</td>\n",
       "      <td>False</td>\n",
       "      <td>False</td>\n",
       "      <td>False</td>\n",
       "      <td>False</td>\n",
       "      <td>NaN</td>\n",
       "    </tr>\n",
       "    <tr>\n",
       "      <th>...</th>\n",
       "      <td>...</td>\n",
       "      <td>...</td>\n",
       "      <td>...</td>\n",
       "      <td>...</td>\n",
       "      <td>...</td>\n",
       "      <td>...</td>\n",
       "      <td>...</td>\n",
       "      <td>...</td>\n",
       "      <td>...</td>\n",
       "      <td>...</td>\n",
       "      <td>...</td>\n",
       "      <td>...</td>\n",
       "      <td>...</td>\n",
       "      <td>...</td>\n",
       "      <td>...</td>\n",
       "      <td>...</td>\n",
       "      <td>...</td>\n",
       "      <td>...</td>\n",
       "      <td>...</td>\n",
       "      <td>...</td>\n",
       "      <td>...</td>\n",
       "    </tr>\n",
       "    <tr>\n",
       "      <th>2328</th>\n",
       "      <td>ENVO:01000192</td>\n",
       "      <td>tropical grassland biome</td>\n",
       "      <td>True</td>\n",
       "      <td>False</td>\n",
       "      <td>False</td>\n",
       "      <td>0</td>\n",
       "      <td>0</td>\n",
       "      <td>True</td>\n",
       "      <td>True</td>\n",
       "      <td>True</td>\n",
       "      <td>...</td>\n",
       "      <td>False</td>\n",
       "      <td>False</td>\n",
       "      <td>False</td>\n",
       "      <td>False</td>\n",
       "      <td>False</td>\n",
       "      <td>False</td>\n",
       "      <td>False</td>\n",
       "      <td>False</td>\n",
       "      <td>False</td>\n",
       "      <td>NaN</td>\n",
       "    </tr>\n",
       "    <tr>\n",
       "      <th>2329</th>\n",
       "      <td>ENVO:00000239</td>\n",
       "      <td>pocasin</td>\n",
       "      <td>True</td>\n",
       "      <td>False</td>\n",
       "      <td>False</td>\n",
       "      <td>0</td>\n",
       "      <td>0</td>\n",
       "      <td>False</td>\n",
       "      <td>True</td>\n",
       "      <td>False</td>\n",
       "      <td>...</td>\n",
       "      <td>False</td>\n",
       "      <td>False</td>\n",
       "      <td>False</td>\n",
       "      <td>False</td>\n",
       "      <td>False</td>\n",
       "      <td>False</td>\n",
       "      <td>False</td>\n",
       "      <td>False</td>\n",
       "      <td>False</td>\n",
       "      <td>NaN</td>\n",
       "    </tr>\n",
       "    <tr>\n",
       "      <th>2330</th>\n",
       "      <td>ENVO:0000528</td>\n",
       "      <td>None</td>\n",
       "      <td>False</td>\n",
       "      <td>False</td>\n",
       "      <td>False</td>\n",
       "      <td>0</td>\n",
       "      <td>0</td>\n",
       "      <td>False</td>\n",
       "      <td>False</td>\n",
       "      <td>False</td>\n",
       "      <td>...</td>\n",
       "      <td>False</td>\n",
       "      <td>False</td>\n",
       "      <td>False</td>\n",
       "      <td>False</td>\n",
       "      <td>False</td>\n",
       "      <td>False</td>\n",
       "      <td>False</td>\n",
       "      <td>False</td>\n",
       "      <td>False</td>\n",
       "      <td>NaN</td>\n",
       "    </tr>\n",
       "    <tr>\n",
       "      <th>2331</th>\n",
       "      <td>ENVO:01001837</td>\n",
       "      <td>subalpine biome</td>\n",
       "      <td>True</td>\n",
       "      <td>False</td>\n",
       "      <td>False</td>\n",
       "      <td>0</td>\n",
       "      <td>0</td>\n",
       "      <td>True</td>\n",
       "      <td>True</td>\n",
       "      <td>True</td>\n",
       "      <td>...</td>\n",
       "      <td>False</td>\n",
       "      <td>False</td>\n",
       "      <td>False</td>\n",
       "      <td>False</td>\n",
       "      <td>False</td>\n",
       "      <td>False</td>\n",
       "      <td>False</td>\n",
       "      <td>False</td>\n",
       "      <td>False</td>\n",
       "      <td>NaN</td>\n",
       "    </tr>\n",
       "    <tr>\n",
       "      <th>2332</th>\n",
       "      <td>ENVO:00002255</td>\n",
       "      <td>solonetz</td>\n",
       "      <td>True</td>\n",
       "      <td>False</td>\n",
       "      <td>False</td>\n",
       "      <td>0</td>\n",
       "      <td>0</td>\n",
       "      <td>True</td>\n",
       "      <td>False</td>\n",
       "      <td>False</td>\n",
       "      <td>...</td>\n",
       "      <td>False</td>\n",
       "      <td>True</td>\n",
       "      <td>True</td>\n",
       "      <td>False</td>\n",
       "      <td>False</td>\n",
       "      <td>False</td>\n",
       "      <td>False</td>\n",
       "      <td>False</td>\n",
       "      <td>False</td>\n",
       "      <td>NaN</td>\n",
       "    </tr>\n",
       "  </tbody>\n",
       "</table>\n",
       "<p>2333 rows × 21 columns</p>\n",
       "</div>"
      ]
     },
     "execution_count": 141,
     "metadata": {},
     "output_type": "execute_result"
    }
   ],
   "execution_count": 141
  },
  {
   "metadata": {
    "ExecuteTime": {
     "end_time": "2024-12-11T15:43:40.738546Z",
     "start_time": "2024-12-11T15:43:40.735682Z"
    }
   },
   "cell_type": "code",
   "source": [
    "# gold and ncbi counts are slightly trickier\n",
    "# for gold: including mappings only, mappings in hybrid with biosample counts. \n",
    "#    Switch to direct biosample counts of GOLD \"envo\" annotations?\n",
    "# ncbi: we have extracted curies and annotated curies"
   ],
   "id": "87a64ed7d57d81ee",
   "outputs": [],
   "execution_count": 142
  },
  {
   "metadata": {},
   "cell_type": "markdown",
   "source": "## Merge in NCBI counts",
   "id": "1f1f840c8c0acc80"
  },
  {
   "metadata": {
    "ExecuteTime": {
     "end_time": "2024-12-11T15:43:40.746193Z",
     "start_time": "2024-12-11T15:43:40.739872Z"
    }
   },
   "cell_type": "code",
   "source": [
    "# Perform the left merge\n",
    "rows_frame = rows_frame.merge(\n",
    "    ncbi_biosample_scoped_counts,\n",
    "    left_on='curie',\n",
    "    right_on='curie',\n",
    "    how='left'\n",
    ")"
   ],
   "id": "f4d8dc1053a5bb7e",
   "outputs": [],
   "execution_count": 143
  },
  {
   "metadata": {
    "ExecuteTime": {
     "end_time": "2024-12-11T15:43:40.750743Z",
     "start_time": "2024-12-11T15:43:40.747859Z"
    }
   },
   "cell_type": "code",
   "source": "# 990 rows in https://docs.google.com/spreadsheets/d/12WH3eduBq2qSTy9zVF3n7fyajn6ssLZL/edit?gid=546570706#gid=546570706",
   "id": "396c3f6005a31874",
   "outputs": [],
   "execution_count": 144
  },
  {
   "metadata": {
    "ExecuteTime": {
     "end_time": "2024-12-11T15:43:40.772753Z",
     "start_time": "2024-12-11T15:43:40.752326Z"
    }
   },
   "cell_type": "code",
   "source": "rows_frame.to_csv(output_file_name, sep=\"\\t\", index=False)",
   "id": "b7a26a1b879188a4",
   "outputs": [],
   "execution_count": 145
  },
  {
   "metadata": {
    "ExecuteTime": {
     "end_time": "2024-12-11T15:43:42.099012Z",
     "start_time": "2024-12-11T15:43:40.774300Z"
    }
   },
   "cell_type": "code",
   "source": "ncbi_conn.close()",
   "id": "655f46a2a0a6da17",
   "outputs": [],
   "execution_count": 146
  }
 ],
 "metadata": {
  "kernelspec": {
   "display_name": "Python 3 (ipykernel)",
   "language": "python",
   "name": "python3"
  },
  "language_info": {
   "codemirror_mode": {
    "name": "ipython",
    "version": 3
   },
   "file_extension": ".py",
   "mimetype": "text/x-python",
   "name": "python",
   "nbconvert_exporter": "python",
   "pygments_lexer": "ipython3",
   "version": "3.10.13"
  }
 },
 "nbformat": 4,
 "nbformat_minor": 5
}
