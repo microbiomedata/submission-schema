{
 "cells": [
  {
   "metadata": {
    "ExecuteTime": {
     "end_time": "2024-12-13T21:27:51.933146Z",
     "start_time": "2024-12-13T21:27:51.927974Z"
    }
   },
   "cell_type": "code",
   "source": [
    "from common import *\n",
    "\n",
    "import gzip\n",
    "import os\n",
    "import shutil\n",
    "import sqlite3\n",
    "from urllib.parse import urlparse\n",
    "\n",
    "import duckdb\n",
    "import pandas as pd\n",
    "import requests\n",
    "\n",
    "from oaklib import get_adapter\n",
    "from oaklib.datamodels.vocabulary import IS_A\n",
    "from oaklib.utilities.lexical.lexical_indexer import create_lexical_index, save_lexical_index, load_lexical_index\n",
    "from oaklib.interfaces.text_annotator_interface import TextAnnotatorInterface\n",
    "\n",
    "from scipy.sparse import hstack\n",
    "from sklearn.ensemble import RandomForestClassifier\n",
    "from sklearn.metrics import classification_report\n",
    "from sklearn.model_selection import train_test_split\n",
    "\n",
    "import yaml\n",
    "import json\n"
   ],
   "id": "630126a7790cc3a7",
   "outputs": [],
   "execution_count": 1442
  },
  {
   "metadata": {
    "ExecuteTime": {
     "end_time": "2024-12-13T21:27:56.645328Z",
     "start_time": "2024-12-13T21:27:56.639851Z"
    }
   },
   "cell_type": "code",
   "source": [
    "\n",
    "selected_configuration = \"plant_associated_env_broad_scale\""
   ],
   "id": "3fe616691ce40dae",
   "outputs": [],
   "execution_count": 1443
  },
  {
   "metadata": {},
   "cell_type": "markdown",
   "source": "",
   "id": "73cce5dd203c4f31"
  },
  {
   "metadata": {
    "ExecuteTime": {
     "end_time": "2024-12-13T21:27:56.821475Z",
     "start_time": "2024-12-13T21:27:56.816318Z"
    }
   },
   "cell_type": "code",
   "source": "configurations_file = \"voting_sheets_configurations.yaml\"",
   "id": "8587aac0ae5e4b6e",
   "outputs": [],
   "execution_count": 1444
  },
  {
   "metadata": {
    "ExecuteTime": {
     "end_time": "2024-12-13T21:27:57.068222Z",
     "start_time": "2024-12-13T21:27:57.062050Z"
    }
   },
   "cell_type": "code",
   "source": [
    "# these are the variables that will be set by the configuration\n",
    "\n",
    "gold_context_selectors = None\n",
    "ncbi_context_selector = None\n",
    "ncbi_package_selector = None\n",
    "first_where = None\n",
    "gold_first_where = None\n",
    "semantic_anchor = None\n",
    "previous_submission_schema_url = None\n",
    "CONTEXT_ENUM = None\n",
    "nmdc_package_selector = None\n",
    "nmdc_context_selector = None\n",
    "comparison_enum_column_name = None\n",
    "output_file_name = None\n"
   ],
   "id": "27a216a6c4302bef",
   "outputs": [],
   "execution_count": 1445
  },
  {
   "metadata": {
    "ExecuteTime": {
     "end_time": "2024-12-13T21:27:57.315439Z",
     "start_time": "2024-12-13T21:27:57.276264Z"
    }
   },
   "cell_type": "code",
   "source": [
    "# Load configurations from YAML file\n",
    "with open(configurations_file, \"r\") as file:\n",
    "    configurations = yaml.safe_load(file)[\"configurations\"]\n",
    "\n",
    "\n",
    "# Function to apply a configuration\n",
    "def apply_configuration(config_name):\n",
    "    config = configurations.get(config_name)\n",
    "    if not config:\n",
    "        raise ValueError(f\"Configuration '{config_name}' not found.\")\n",
    "\n",
    "    # Update global variables\n",
    "    globals().update(config)\n",
    "    print(f\"Configuration '{config_name}' applied.\")\n"
   ],
   "id": "7b7c9aa7b0377b9d",
   "outputs": [],
   "execution_count": 1446
  },
  {
   "metadata": {
    "ExecuteTime": {
     "end_time": "2024-12-13T21:27:57.558128Z",
     "start_time": "2024-12-13T21:27:57.552612Z"
    }
   },
   "cell_type": "code",
   "source": [
    "apply_configuration(selected_configuration)\n",
    "\n",
    "# Now the global variables like `output_file_name`, `semantic_anchor`, etc., are set."
   ],
   "id": "a4aa8e0cde326069",
   "outputs": [
    {
     "name": "stdout",
     "output_type": "stream",
     "text": [
      "Configuration 'plant_associated_env_broad_scale' applied.\n"
     ]
    }
   ],
   "execution_count": 1447
  },
  {
   "metadata": {
    "ExecuteTime": {
     "end_time": "2024-12-13T21:27:57.720696Z",
     "start_time": "2024-12-13T21:27:57.716841Z"
    }
   },
   "cell_type": "code",
   "source": "gold_first_where = first_where",
   "id": "bece5df5dfd0e112",
   "outputs": [],
   "execution_count": 1448
  },
  {
   "metadata": {
    "ExecuteTime": {
     "end_time": "2024-12-13T21:27:57.943023Z",
     "start_time": "2024-12-13T21:27:57.938679Z"
    }
   },
   "cell_type": "code",
   "source": [
    "# Initialize cache dictionaries for predict_from_normalized_env_packages\n",
    "# todo how to move the definitions for function that use these globals? Or just use caching around the function?\n",
    "ancestor_cache = {}\n",
    "descendant_cache = {}"
   ],
   "id": "f952b5888d2c5f0d",
   "outputs": [],
   "execution_count": 1449
  },
  {
   "metadata": {},
   "cell_type": "markdown",
   "source": "# Preliminary label, ancestor and descendant caching",
   "id": "fe821e1d558e5735"
  },
  {
   "metadata": {
    "ExecuteTime": {
     "end_time": "2024-12-13T21:27:58.111552Z",
     "start_time": "2024-12-13T21:27:58.107437Z"
    }
   },
   "cell_type": "code",
   "source": [
    "# todo this on-demand NCBI curie extraction and annotation recapitulates work that is being added to\n",
    "# https://portal.nersc.gov/project/m3408/biosamples_duckdb/\n",
    "# via ???\n",
    "#   although that doesn't detect auto-incremented curies from  spreadsheet dragging\n",
    "\n",
    "# todo eventually, dig up a complete JSON gold biosample dump for non-hybrid biosample counts\n",
    "\n",
    "# todo make it clearer whether biosamples or studies are being counted\n",
    "#   count nmdc or gold STUDIES too?"
   ],
   "id": "5001cbd978bbdd28",
   "outputs": [],
   "execution_count": 1450
  },
  {
   "metadata": {},
   "cell_type": "markdown",
   "source": "# Additional Settings",
   "id": "b799aabdd66098c0"
  },
  {
   "metadata": {
    "ExecuteTime": {
     "end_time": "2024-12-13T21:27:58.303405Z",
     "start_time": "2024-12-13T21:27:58.299994Z"
    }
   },
   "cell_type": "code",
   "source": [
    "# Approved prefixes (case-insensitive)\n",
    "approved_prefixes = ['ENVO']"
   ],
   "id": "50e39f658f4bd77b",
   "outputs": [],
   "execution_count": 1451
  },
  {
   "metadata": {
    "ExecuteTime": {
     "end_time": "2024-12-13T21:27:58.518689Z",
     "start_time": "2024-12-13T21:27:58.515629Z"
    }
   },
   "cell_type": "code",
   "source": "MIN_ANNOTATION_LEN = 3",
   "id": "3aa0b52456f0a95c",
   "outputs": [],
   "execution_count": 1452
  },
  {
   "cell_type": "code",
   "id": "d526be618b8b9129",
   "metadata": {
    "ExecuteTime": {
     "end_time": "2024-12-13T21:27:58.705280Z",
     "start_time": "2024-12-13T21:27:58.702219Z"
    }
   },
   "source": [
    "NMDC_RUNTIME_BASE_URL = 'https://api.microbiomedata.org/nmdcschema/'\n",
    "STUDY_SET_COLLECTION = 'study_set'\n",
    "BIOSAMPLE_SET_COLLECTION = 'biosample_set'"
   ],
   "outputs": [],
   "execution_count": 1453
  },
  {
   "cell_type": "code",
   "id": "11c0cba800e33ac6",
   "metadata": {
    "ExecuteTime": {
     "end_time": "2024-12-13T21:27:58.866077Z",
     "start_time": "2024-12-13T21:27:58.862516Z"
    }
   },
   "source": [
    "envo_adapter_string = \"sqlite:obo:envo\""
   ],
   "outputs": [],
   "execution_count": 1454
  },
  {
   "cell_type": "code",
   "id": "7795121f47307a00",
   "metadata": {
    "ExecuteTime": {
     "end_time": "2024-12-13T21:27:59.076193Z",
     "start_time": "2024-12-13T21:27:59.072405Z"
    }
   },
   "source": [
    "env_package_override_file = 'mam-env-package-overrides.tsv'\n",
    "override_column = 'mam_inferred_env_package'"
   ],
   "outputs": [],
   "execution_count": 1455
  },
  {
   "cell_type": "code",
   "id": "f1b99451d88ce356",
   "metadata": {
    "ExecuteTime": {
     "end_time": "2024-12-13T21:27:59.191968Z",
     "start_time": "2024-12-13T21:27:59.189086Z"
    }
   },
   "source": [
    "# ncbi_duckdb_url = 'https://portal.nersc.gov/project/m3408/biosamples_duckdb/ncbi_biosamples_2024-09-23.duckdb.gz'\n",
    "ncbi_duckdb_url = 'https://portal.nersc.gov/project/m3408/biosamples_duckdb/ncbi_biosamples.duckdb.gz'"
   ],
   "outputs": [],
   "execution_count": 1456
  },
  {
   "cell_type": "code",
   "id": "51e5d41b02b19eec",
   "metadata": {
    "ExecuteTime": {
     "end_time": "2024-12-13T21:27:59.416702Z",
     "start_time": "2024-12-13T21:27:59.413313Z"
    }
   },
   "source": [
    "gold_data_url = \"https://gold.jgi.doe.gov/download?mode=site_excel\"\n",
    "gold_data_file_name = \"goldData.xlsx\"  # goldData.xlsx: Microsoft Excel 2007+\n",
    "gold_csv_file_name = \"gold_biosamples.csv\"\n",
    "BIOSAMPLES_SHEET = \"Biosample\""
   ],
   "outputs": [],
   "execution_count": 1457
  },
  {
   "cell_type": "code",
   "id": "e1d9f705fad2efa9",
   "metadata": {
    "ExecuteTime": {
     "end_time": "2024-12-13T21:27:59.553357Z",
     "start_time": "2024-12-13T21:27:59.550508Z"
    }
   },
   "source": "goldterms_semsql_url = \"https://s3.amazonaws.com/bbop-sqlite/goldterms.db.gz\"",
   "outputs": [],
   "execution_count": 1458
  },
  {
   "metadata": {
    "ExecuteTime": {
     "end_time": "2024-12-13T21:27:59.751053Z",
     "start_time": "2024-12-13T21:27:59.748034Z"
    }
   },
   "cell_type": "code",
   "source": "all_nmdc_biosamples_file = 'all_nmdc_biosamples.json'",
   "id": "db6170cb9f3a6ca0",
   "outputs": [],
   "execution_count": 1459
  },
  {
   "metadata": {},
   "cell_type": "markdown",
   "source": "# CURIe Constants",
   "id": "16e21c18886a373c"
  },
  {
   "metadata": {
    "ExecuteTime": {
     "end_time": "2024-12-13T21:27:59.880976Z",
     "start_time": "2024-12-13T21:27:59.877396Z"
    }
   },
   "cell_type": "code",
   "source": [
    "BIOME = 'ENVO:00000428'\n",
    "TERRESTRIAL_BIOME = 'ENVO:00000446'\n",
    "AQUATIC_BIOME = 'ENVO:00002030'\n",
    "ABP = 'ENVO:01000813'\n",
    "ENVIRONMENTAL_SYSTEM = 'ENVO:01000254'\n",
    "ENVIRONMENTAL_MATERIAL = 'ENVO:00010483'\n",
    "\n",
    "SOIL = 'ENVO:00001998'\n",
    "LIQUID_WATER = 'ENVO:00002006'\n",
    "WATER_ICE = 'ENVO:01000277'\n",
    "\n",
    "HUMAN_CONSTRUCTION = 'ENVO:00000070'\n",
    "BUILDING = 'ENVO:00000073'\n",
    "BUILDING_PART = 'ENVO:01000420'\n",
    "\n",
    "SNOW = 'ENVO:01000406'\n",
    "MASS_OF_ENVIRONMENTAL_MATERIAL = 'ENVO:01001686'"
   ],
   "id": "73e52103eb69bbcc",
   "outputs": [],
   "execution_count": 1460
  },
  {
   "metadata": {},
   "cell_type": "markdown",
   "source": "# Settings-based Queries",
   "id": "7ecec14181910236"
  },
  {
   "cell_type": "code",
   "id": "fb8c7caf28e64d10",
   "metadata": {
    "ExecuteTime": {
     "end_time": "2024-12-13T21:28:00.025701Z",
     "start_time": "2024-12-13T21:28:00.022722Z"
    }
   },
   "source": [
    "# todo could this have been done with a OAK query, eliminating the need to explicitly download the file?\n",
    "\n",
    "goldterms_envo_query = f\"\"\"\n",
    "SELECT\n",
    "\t*\n",
    "FROM\n",
    "\tstatements s\n",
    "WHERE\n",
    "\tpredicate in ('{\"', '\".join(gold_context_selectors)}')\"\"\""
   ],
   "outputs": [],
   "execution_count": 1461
  },
  {
   "cell_type": "code",
   "id": "afd52cf83301de09",
   "metadata": {
    "ExecuteTime": {
     "end_time": "2024-12-13T21:28:00.244099Z",
     "start_time": "2024-12-13T21:28:00.240496Z"
    }
   },
   "source": [
    "ncbi_biosamples_per_annotation_query = f\"\"\"\n",
    "SELECT content, COUNT(1) AS count \n",
    "FROM attributes \n",
    "WHERE harmonized_name = '{ncbi_context_selector}' AND package_content like '%{ncbi_package_selector}'\n",
    "GROUP BY content\n",
    "ORDER BY COUNT(1) DESC\n",
    "\"\"\""
   ],
   "outputs": [],
   "execution_count": 1462
  },
  {
   "metadata": {
    "ExecuteTime": {
     "end_time": "2024-12-13T21:28:00.409183Z",
     "start_time": "2024-12-13T21:28:00.406417Z"
    }
   },
   "cell_type": "code",
   "source": [
    "ncbi_bioprojects_per_annotation_query = f\"\"\"\n",
    "SELECT\n",
    "\ta.content,\n",
    "\tcount(DISTINCT l.content) AS count\n",
    "FROM\n",
    "\tmain.ATTRIBUTES a\n",
    "JOIN main.links l \n",
    "\tON\n",
    "\ta.id = l.id\n",
    "WHERE\n",
    "\tl.target = 'bioproject'\n",
    "\tAND harmonized_name = 'env_local_scale'\n",
    "\tAND package_content like '%{ncbi_package_selector}'\n",
    "GROUP BY\n",
    "\ta.content\n",
    "ORDER BY\n",
    "\tcount(DISTINCT l.content) DESC ;\n",
    "\"\"\""
   ],
   "id": "d82477b892c2a7a3",
   "outputs": [],
   "execution_count": 1463
  },
  {
   "metadata": {
    "ExecuteTime": {
     "end_time": "2024-12-13T21:28:00.556840Z",
     "start_time": "2024-12-13T21:28:00.553328Z"
    }
   },
   "cell_type": "code",
   "source": "ncbi_X_per_annotation_query = ncbi_bioprojects_per_annotation_query",
   "id": "f86458549b99121b",
   "outputs": [],
   "execution_count": 1464
  },
  {
   "metadata": {
    "ExecuteTime": {
     "end_time": "2024-12-13T21:28:00.784547Z",
     "start_time": "2024-12-13T21:28:00.781167Z"
    }
   },
   "cell_type": "code",
   "source": [
    "# and s1.subject = s1.stanza eliminates matches on blank node annotation rows (probably wouldn't change results but adds a little overhead)\n",
    "\n",
    "extension_query = f\"\"\"\n",
    "select\n",
    "\t\ts1.subject ,\n",
    "\t\ts2.predicate,\n",
    "\t\tCOALESCE (s2.\"object\",\n",
    "\ts2.\"value\") as content\n",
    "from\n",
    "\tstatements s1\n",
    "join statements s2 on \n",
    "\ts1.subject = s2.subject\n",
    "where\n",
    "\t{gold_first_where}\n",
    "\tand s1.predicate = 'rdfs:label'\n",
    "\tand s1.subject = s1.stanza\n",
    "\tand s2.predicate in ('mixs:env_broad', 'mixs:env_local', 'mixs:env_medium', 'mixs:mixs_extension', 'rdfs:label', 'mixs:other', 'mixs:anatomical_site', 'mixs:host_taxon') ;\n",
    "\"\"\"\n"
   ],
   "id": "8cdd3e6e17a2bac3",
   "outputs": [],
   "execution_count": 1465
  },
  {
   "metadata": {},
   "cell_type": "markdown",
   "source": [
    "# Locally Defined Functions\n",
    "_Currently using locally-defined cache dictionaries_"
   ],
   "id": "6c4cf0d065a7de07"
  },
  {
   "cell_type": "code",
   "id": "38412bd611726160",
   "metadata": {
    "ExecuteTime": {
     "end_time": "2024-12-13T21:28:01.080573Z",
     "start_time": "2024-12-13T21:28:01.070041Z"
    }
   },
   "source": [
    "def predict_from_normalized_env_packages(df_raw, adapter):\n",
    "    # Apply the function to the relevant columns\n",
    "\n",
    "    df = df_raw.copy()\n",
    "\n",
    "    print(df.shape)\n",
    "    for column in ['env_broad_scale_id', 'env_local_scale_id', 'env_medium_id']:\n",
    "        df[f'{column}_ancestors'] = df[column].apply(lambda x: get_hierarchy_terms(x, adapter)['ancestors'])\n",
    "        df[f'{column}_descendants'] = df[column].apply(lambda x: get_hierarchy_terms(x, adapter)['descendants'])\n",
    "\n",
    "    # Vectorize each set of terms separately\n",
    "    broad_scale_ancestors = vectorize_terms(df, 'env_broad_scale_id_ancestors')\n",
    "    broad_scale_descendants = vectorize_terms(df, 'env_broad_scale_id_descendants')\n",
    "\n",
    "    local_scale_ancestors = vectorize_terms(df, 'env_local_scale_id_ancestors')\n",
    "    local_scale_descendants = vectorize_terms(df, 'env_local_scale_id_descendants')\n",
    "\n",
    "    medium_ancestors = vectorize_terms(df, 'env_medium_id_ancestors')\n",
    "    medium_descendants = vectorize_terms(df, 'env_medium_id_descendants')\n",
    "\n",
    "    # Combine all feature matrices\n",
    "    X = hstack([\n",
    "        broad_scale_ancestors,\n",
    "        broad_scale_descendants,\n",
    "        local_scale_ancestors,\n",
    "        local_scale_descendants,\n",
    "        medium_ancestors,\n",
    "        medium_descendants\n",
    "    ])\n",
    "\n",
    "    # Filter the DataFrame to only include non-null rows for the target column\n",
    "    df_filtered = df[df['normalized_env_package'].notnull() & (df['normalized_env_package'] != \"\")]\n",
    "\n",
    "    # Extract the target variable\n",
    "    y = df_filtered['normalized_env_package']\n",
    "\n",
    "    # Ensure X corresponds to the filtered rows\n",
    "    X_filtered = X[df_filtered.index]\n",
    "\n",
    "    # Split the data into training and testing sets\n",
    "    X_train, X_test, y_train, y_test = train_test_split(X_filtered, y, test_size=0.3, random_state=42)\n",
    "\n",
    "    # Train a Random Forest Classifier\n",
    "    clf = RandomForestClassifier(n_estimators=100, random_state=42)\n",
    "    clf.fit(X_train, y_train)\n",
    "\n",
    "    # Make predictions on the test set\n",
    "    y_pred = clf.predict(X_test)\n",
    "\n",
    "    # Evaluate the model\n",
    "    print(classification_report(y_test, y_pred))\n",
    "\n",
    "    # not determining confidence for each class nor saving any diagnostics any more\n",
    "\n",
    "    return clf.predict(X)"
   ],
   "outputs": [],
   "execution_count": 1466
  },
  {
   "cell_type": "code",
   "id": "4515456aaeaa7980",
   "metadata": {
    "ExecuteTime": {
     "end_time": "2024-12-13T21:28:01.276820Z",
     "start_time": "2024-12-13T21:28:01.269233Z"
    }
   },
   "source": [
    "def get_hierarchy_terms(my_curie: str, adapter) -> dict:\n",
    "    \"\"\"\n",
    "    Extract ancestor and descendant terms from the ontology for a given CURIE,\n",
    "    using caching to improve performance and filtering by 'is_a' relationships.\n",
    "\n",
    "    Args:\n",
    "        my_curie (str): CURIE identifier for the ontology term.\n",
    "        adapter: Ontology adapter.\n",
    "\n",
    "    Returns:\n",
    "        dict: Dictionary containing lists of ancestor and descendant terms.\n",
    "    \"\"\"\n",
    "    if my_curie not in ancestor_cache:\n",
    "        try:\n",
    "            ancestors = list(adapter.ancestors(my_curie, predicates=[IS_A]))\n",
    "            ancestor_cache[my_curie] = [adapter.label(ancestor) for ancestor in ancestors if ancestor]\n",
    "        except Exception as my_e:\n",
    "            print(f\"Error retrieving ancestors for {my_curie}: {my_e}\")\n",
    "            ancestor_cache[my_curie] = []\n",
    "\n",
    "    if my_curie not in descendant_cache:\n",
    "        try:\n",
    "            descendants = list(adapter.descendants(my_curie, predicates=[IS_A]))\n",
    "            descendant_cache[my_curie] = [adapter.label(descendant) for descendant in descendants if descendant]\n",
    "        except Exception as my_e:\n",
    "            print(f\"Error retrieving descendants for {my_curie}: {my_e}\")\n",
    "            descendant_cache[my_curie] = []\n",
    "\n",
    "    return {\n",
    "        'ancestors': ancestor_cache[my_curie],\n",
    "        'descendants': descendant_cache[my_curie],\n",
    "    }"
   ],
   "outputs": [],
   "execution_count": 1467
  },
  {
   "metadata": {},
   "cell_type": "markdown",
   "source": "# Procedural Code Starts Here",
   "id": "1423fbbafdf5e167"
  },
  {
   "cell_type": "code",
   "id": "44fb14c1b01ac34c",
   "metadata": {
    "ExecuteTime": {
     "end_time": "2024-12-13T21:28:01.411999Z",
     "start_time": "2024-12-13T21:28:01.406479Z"
    }
   },
   "source": [
    "# Determine the filenames and target directory for the NCBI DuckDB\n",
    "ncbi_compressed_filename = urlparse(ncbi_duckdb_url).path.split('/')[-1]\n",
    "ncbi_filename = os.path.splitext(ncbi_compressed_filename)[0]\n",
    "ncbi_compressed_file_path = os.path.join(ncbi_compressed_filename)\n",
    "ncbi_uncompressed_file_path = os.path.join(ncbi_filename)\n"
   ],
   "outputs": [],
   "execution_count": 1468
  },
  {
   "cell_type": "code",
   "id": "353ba83ec3059ac5",
   "metadata": {
    "ExecuteTime": {
     "end_time": "2024-12-13T21:28:01.622831Z",
     "start_time": "2024-12-13T21:28:01.617169Z"
    }
   },
   "source": [
    "if os.path.isfile(ncbi_uncompressed_file_path):\n",
    "    print(f\"{ncbi_uncompressed_file_path} is already present in the current working directory.\")\n",
    "else:\n",
    "    if os.path.isfile(ncbi_compressed_file_path):\n",
    "        print(f\"{ncbi_compressed_file_path} is already present in the current working directory.\")\n",
    "    else:\n",
    "        print(f\"{ncbi_compressed_file_path} needs to be downloaded\")\n",
    "        ncbi_response = requests.get(ncbi_duckdb_url)\n",
    "        with open(ncbi_compressed_file_path, \"wb\") as f:\n",
    "            f.write(ncbi_response.content)\n",
    "        # ~ 2 minutes @ 250 Mbps\n",
    "\n",
    "    # Unzip the compressed file and save the extracted file in target directory\n",
    "    print(f\"{ncbi_compressed_file_path} needs to be unpacked\")\n",
    "    with gzip.open(ncbi_compressed_file_path, \"rb\") as f_in:\n",
    "        with open(ncbi_uncompressed_file_path, \"wb\") as f_out:\n",
    "            shutil.copyfileobj(f_in, f_out)\n",
    "\n",
    "    # ~ 2 minutes"
   ],
   "outputs": [
    {
     "name": "stdout",
     "output_type": "stream",
     "text": [
      "ncbi_biosamples.duckdb is already present in the current working directory.\n"
     ]
    }
   ],
   "execution_count": 1469
  },
  {
   "cell_type": "code",
   "id": "63f815cbfb9b7a6b",
   "metadata": {
    "ExecuteTime": {
     "end_time": "2024-12-13T21:28:01.902412Z",
     "start_time": "2024-12-13T21:28:01.855244Z"
    }
   },
   "source": [
    "ncbi_conn = duckdb.connect(database=ncbi_uncompressed_file_path, read_only=True)"
   ],
   "outputs": [],
   "execution_count": 1470
  },
  {
   "cell_type": "code",
   "id": "198256f26bc060e3",
   "metadata": {
    "ExecuteTime": {
     "end_time": "2024-12-13T21:28:02.043833Z",
     "start_time": "2024-12-13T21:28:02.038799Z"
    }
   },
   "source": [
    "envo_adapter = get_adapter(envo_adapter_string)"
   ],
   "outputs": [],
   "execution_count": 1471
  },
  {
   "metadata": {},
   "cell_type": "markdown",
   "source": "**Preliminary replacement for `get_hierarchy_terms` and ancestor/descendant lookup in main row construction loop**",
   "id": "d1a0d6395ec6510b"
  },
  {
   "metadata": {
    "ExecuteTime": {
     "end_time": "2024-12-13T21:28:03.046652Z",
     "start_time": "2024-12-13T21:28:02.262014Z"
    }
   },
   "cell_type": "code",
   "source": [
    "reflexivity = False\n",
    "\n",
    "# File paths\n",
    "label_cache_file = \"envo_label_cache.json\"\n",
    "ancestors_file = \"envo_ancestors.json\"\n",
    "descendants_file = \"envo_descendants.json\"\n",
    "\n",
    "# Initialize caches\n",
    "envo_label_cache = {}\n",
    "envo_ancs_cache = {}\n",
    "envo_descs_cache = {}\n",
    "\n",
    "envo_entities_generator = envo_adapter.entities()\n",
    "envo_entities = list(envo_entities_generator)\n",
    "envo_entities.sort()\n",
    "\n",
    "\n",
    "# Function to generate and save the label cache\n",
    "def generate_label_cache():\n",
    "    print(\"Generating label cache...\")\n",
    "\n",
    "    label_cache = {}\n",
    "    for ee in envo_entities:\n",
    "        label_cache[ee] = envo_adapter.label(ee)\n",
    "    return label_cache\n",
    "\n",
    "\n",
    "# Check for label cache\n",
    "if os.path.exists(label_cache_file):\n",
    "    print(f\"Loading label cache from {label_cache_file}...\")\n",
    "    with open(label_cache_file, \"r\") as f:\n",
    "        envo_label_cache = json.load(f)\n",
    "else:\n",
    "    envo_label_cache = generate_label_cache()\n",
    "    with open(label_cache_file, \"w\") as f:\n",
    "        json.dump(envo_label_cache, f)\n",
    "    print(f\"Label cache saved to {label_cache_file}.\")\n",
    "\n",
    "# Check for ancestor cache\n",
    "if os.path.exists(ancestors_file):\n",
    "    print(f\"Loading ancestors from {ancestors_file}...\")\n",
    "    with open(ancestors_file, \"r\") as f:\n",
    "        envo_ancs_cache = json.load(f)\n",
    "else:\n",
    "    print(\"Ancestors file not found. Generating ancestor cache...\")\n",
    "\n",
    "    for ee in envo_entities:\n",
    "        ancs_gen = envo_adapter.ancestors(ee, reflexive=reflexivity)\n",
    "        envo_ancs_cache[ee] = [{a: envo_label_cache.get(a, None)} for a in ancs_gen]\n",
    "\n",
    "    with open(ancestors_file, \"w\") as f:\n",
    "        json.dump(envo_ancs_cache, f)\n",
    "    print(f\"Ancestors saved to {ancestors_file}.\")\n",
    "\n",
    "# Check for descendant cache\n",
    "if os.path.exists(descendants_file):\n",
    "    print(f\"Loading descendants from {descendants_file}...\")\n",
    "    with open(descendants_file, \"r\") as f:\n",
    "        envo_descs_cache = json.load(f)\n",
    "else:\n",
    "    # 5 minutes\n",
    "    print(\"Descendants file not found. Generating descendant cache...\")\n",
    "\n",
    "    for ee in envo_entities:\n",
    "        descs_gen = envo_adapter.descendants(ee, reflexive=reflexivity)\n",
    "        envo_descs_cache[ee] = [{d: envo_label_cache.get(d, None)} for d in descs_gen]\n",
    "\n",
    "    with open(descendants_file, \"w\") as f:\n",
    "        json.dump(envo_descs_cache, f)\n",
    "    print(f\"Descendants saved to {descendants_file}.\")\n"
   ],
   "id": "aa18493ce145fdf5",
   "outputs": [
    {
     "name": "stdout",
     "output_type": "stream",
     "text": [
      "Loading label cache from envo_label_cache.json...\n",
      "Loading ancestors from envo_ancestors.json...\n",
      "Loading descendants from envo_descendants.json...\n"
     ]
    }
   ],
   "execution_count": 1472
  },
  {
   "metadata": {},
   "cell_type": "markdown",
   "source": "# Anchor aka bootstrapping classes",
   "id": "491e3ded2d1fba45"
  },
  {
   "cell_type": "code",
   "id": "e863dc687ce4be5c",
   "metadata": {
    "ExecuteTime": {
     "end_time": "2024-12-13T21:28:03.146603Z",
     "start_time": "2024-12-13T21:28:03.049524Z"
    }
   },
   "source": "anchor_descendants = get_curie_descendants_label_dict(semantic_anchor, [IS_A], envo_adapter)",
   "outputs": [],
   "execution_count": 1473
  },
  {
   "cell_type": "code",
   "id": "394abb56c4987eee",
   "metadata": {
    "ExecuteTime": {
     "end_time": "2024-12-13T21:28:03.151446Z",
     "start_time": "2024-12-13T21:28:03.148138Z"
    }
   },
   "source": [
    "anchor_descendants_lod = curie_descendants_label_dict_to_lod(anchor_descendants)"
   ],
   "outputs": [],
   "execution_count": 1474
  },
  {
   "cell_type": "code",
   "id": "eea1a3f8395da0d7",
   "metadata": {
    "ExecuteTime": {
     "end_time": "2024-12-13T21:28:03.158067Z",
     "start_time": "2024-12-13T21:28:03.154695Z"
    }
   },
   "source": [
    "anchor_descendants_frame = curie_descendants_label_lod_to_df(anchor_descendants_lod)"
   ],
   "outputs": [],
   "execution_count": 1475
  },
  {
   "cell_type": "code",
   "id": "f85faf81e0a55a42",
   "metadata": {
    "ExecuteTime": {
     "end_time": "2024-12-13T21:28:03.168468Z",
     "start_time": "2024-12-13T21:28:03.159992Z"
    }
   },
   "source": [
    "anchor_descendants_frame"
   ],
   "outputs": [
    {
     "data": {
      "text/plain": [
       "             curie                          label\n",
       "0    ENVO:01001505            alpine tundra biome\n",
       "1    ENVO:01000024           marine benthic biome\n",
       "2    ENVO:01000252          freshwater lake biome\n",
       "3    ENVO:01000180                   tundra biome\n",
       "4    ENVO:01000123       marine sponge reef biome\n",
       "..             ...                            ...\n",
       "123  ENVO:01000858         marine upwelling biome\n",
       "124  ENVO:01000188         tropical savanna biome\n",
       "125  ENVO:01000042  neritic epipelagic zone biome\n",
       "126  ENVO:01000045              epeiric sea biome\n",
       "127  ENVO:01000049        marine coral reef biome\n",
       "\n",
       "[128 rows x 2 columns]"
      ],
      "text/html": [
       "<div>\n",
       "<style scoped>\n",
       "    .dataframe tbody tr th:only-of-type {\n",
       "        vertical-align: middle;\n",
       "    }\n",
       "\n",
       "    .dataframe tbody tr th {\n",
       "        vertical-align: top;\n",
       "    }\n",
       "\n",
       "    .dataframe thead th {\n",
       "        text-align: right;\n",
       "    }\n",
       "</style>\n",
       "<table border=\"1\" class=\"dataframe\">\n",
       "  <thead>\n",
       "    <tr style=\"text-align: right;\">\n",
       "      <th></th>\n",
       "      <th>curie</th>\n",
       "      <th>label</th>\n",
       "    </tr>\n",
       "  </thead>\n",
       "  <tbody>\n",
       "    <tr>\n",
       "      <th>0</th>\n",
       "      <td>ENVO:01001505</td>\n",
       "      <td>alpine tundra biome</td>\n",
       "    </tr>\n",
       "    <tr>\n",
       "      <th>1</th>\n",
       "      <td>ENVO:01000024</td>\n",
       "      <td>marine benthic biome</td>\n",
       "    </tr>\n",
       "    <tr>\n",
       "      <th>2</th>\n",
       "      <td>ENVO:01000252</td>\n",
       "      <td>freshwater lake biome</td>\n",
       "    </tr>\n",
       "    <tr>\n",
       "      <th>3</th>\n",
       "      <td>ENVO:01000180</td>\n",
       "      <td>tundra biome</td>\n",
       "    </tr>\n",
       "    <tr>\n",
       "      <th>4</th>\n",
       "      <td>ENVO:01000123</td>\n",
       "      <td>marine sponge reef biome</td>\n",
       "    </tr>\n",
       "    <tr>\n",
       "      <th>...</th>\n",
       "      <td>...</td>\n",
       "      <td>...</td>\n",
       "    </tr>\n",
       "    <tr>\n",
       "      <th>123</th>\n",
       "      <td>ENVO:01000858</td>\n",
       "      <td>marine upwelling biome</td>\n",
       "    </tr>\n",
       "    <tr>\n",
       "      <th>124</th>\n",
       "      <td>ENVO:01000188</td>\n",
       "      <td>tropical savanna biome</td>\n",
       "    </tr>\n",
       "    <tr>\n",
       "      <th>125</th>\n",
       "      <td>ENVO:01000042</td>\n",
       "      <td>neritic epipelagic zone biome</td>\n",
       "    </tr>\n",
       "    <tr>\n",
       "      <th>126</th>\n",
       "      <td>ENVO:01000045</td>\n",
       "      <td>epeiric sea biome</td>\n",
       "    </tr>\n",
       "    <tr>\n",
       "      <th>127</th>\n",
       "      <td>ENVO:01000049</td>\n",
       "      <td>marine coral reef biome</td>\n",
       "    </tr>\n",
       "  </tbody>\n",
       "</table>\n",
       "<p>128 rows × 2 columns</p>\n",
       "</div>"
      ]
     },
     "execution_count": 1476,
     "metadata": {},
     "output_type": "execute_result"
    }
   ],
   "execution_count": 1476
  },
  {
   "cell_type": "markdown",
   "id": "857f1f1efd4635b9",
   "metadata": {},
   "source": "# Classes from the reference enumeration"
  },
  {
   "cell_type": "code",
   "id": "1432828ce7983148",
   "metadata": {
    "ExecuteTime": {
     "end_time": "2024-12-13T21:28:07.098798Z",
     "start_time": "2024-12-13T21:28:03.170081Z"
    }
   },
   "source": [
    "sv = get_schemaview_from_source(previous_submission_schema_url)"
   ],
   "outputs": [],
   "execution_count": 1477
  },
  {
   "cell_type": "code",
   "id": "5841e0d6bc3d3c40",
   "metadata": {
    "ExecuteTime": {
     "end_time": "2024-12-13T21:28:07.105524Z",
     "start_time": "2024-12-13T21:28:07.100859Z"
    }
   },
   "source": [
    "# todo break out slow steps into its own cell\n",
    "\n",
    "try:\n",
    "    CONTEXT_ENUM_def = sv.get_enum(CONTEXT_ENUM)\n",
    "    context_pvs_keys = list(CONTEXT_ENUM_def.permissible_values.keys())\n",
    "except AttributeError as e:\n",
    "    # Handle the AttributeError\n",
    "    print(f\"An AttributeError occurred: {e}\")\n",
    "    context_pvs_keys = []\n"
   ],
   "outputs": [],
   "execution_count": 1478
  },
  {
   "metadata": {
    "ExecuteTime": {
     "end_time": "2024-12-13T21:28:07.110497Z",
     "start_time": "2024-12-13T21:28:07.107305Z"
    }
   },
   "cell_type": "code",
   "source": "print(context_pvs_keys)",
   "id": "e47067e5b704ee70",
   "outputs": [
    {
     "name": "stdout",
     "output_type": "stream",
     "text": [
      "['alpine tundra biome [ENVO:01001505]', 'anthropogenic terrestrial biome [ENVO:01000219]', 'broadleaf forest biome [ENVO:01000197]', 'coniferous forest biome [ENVO:01000196]', 'cropland biome [ENVO:01000245]', 'flooded grassland biome [ENVO:01000195]', 'flooded savanna biome [ENVO:01000190]', 'forest biome [ENVO:01000174]', 'grassland biome [ENVO:01000177]', 'mangrove biome [ENVO:01000181]', 'mediterranean forest biome [ENVO:01000199]', 'mediterranean grassland biome [ENVO:01000224]', 'mediterranean savanna biome [ENVO:01000229]', 'mediterranean shrubland biome [ENVO:01000217]', 'mediterranean woodland biome [ENVO:01000208]', 'mixed forest biome [ENVO:01000198]', 'montane grassland biome [ENVO:01000194]', 'montane savanna biome [ENVO:01000223]', 'montane shrubland biome [ENVO:01000216]', 'rangeland biome [ENVO:01000247]', 'savanna biome [ENVO:01000178]', 'shrubland biome [ENVO:01000176]', 'subpolar coniferous forest biome [ENVO:01000250]', 'subtropical broadleaf forest biome [ENVO:01000201]', 'subtropical coniferous forest biome [ENVO:01000209]', 'subtropical dry broadleaf forest biome [ENVO:01000225]', 'subtropical grassland biome [ENVO:01000191]', 'subtropical moist broadleaf forest biome [ENVO:01000226]', 'subtropical savanna biome [ENVO:01000187]', 'subtropical shrubland biome [ENVO:01000213]', 'subtropical woodland biome [ENVO:01000222]', 'temperate broadleaf forest biome [ENVO:01000202]', 'temperate coniferous forest biome [ENVO:01000211]', 'temperate grassland biome [ENVO:01000193]', 'temperate mixed forest biome [ENVO:01000212]', 'temperate savanna biome [ENVO:01000189]', 'temperate shrubland biome [ENVO:01000215]', 'temperate woodland biome [ENVO:01000221]', 'terrestrial biome [ENVO:00000446]', 'tidal mangrove shrubland [ENVO:01001369]', 'tropical broadleaf forest biome [ENVO:01000200]', 'tropical coniferous forest biome [ENVO:01000210]', 'tropical dry broadleaf forest biome [ENVO:01000227]', 'tropical grassland biome [ENVO:01000192]', 'tropical mixed forest biome [ENVO:01001798]', 'tropical moist broadleaf forest biome [ENVO:01000228]', 'tropical savanna biome [ENVO:01000188]', 'tropical shrubland biome [ENVO:01000214]', 'tropical woodland biome [ENVO:01000220]', 'tundra biome [ENVO:01000180]', 'woodland biome [ENVO:01000175]', 'xeric shrubland biome [ENVO:01000218]']\n"
     ]
    }
   ],
   "execution_count": 1479
  },
  {
   "cell_type": "code",
   "id": "79282f64358e1608",
   "metadata": {
    "ExecuteTime": {
     "end_time": "2024-12-13T21:28:07.114996Z",
     "start_time": "2024-12-13T21:28:07.112135Z"
    }
   },
   "source": [
    "initially_parsed_context_pvs = parse_hierarchically_underscored_strings(context_pvs_keys)"
   ],
   "outputs": [],
   "execution_count": 1480
  },
  {
   "cell_type": "code",
   "id": "5a9492fa605534f2",
   "metadata": {
    "ExecuteTime": {
     "end_time": "2024-12-13T21:28:07.122351Z",
     "start_time": "2024-12-13T21:28:07.119617Z"
    }
   },
   "source": [
    "deduped_context_pvs = dedupe_underscoreless_pvs(initially_parsed_context_pvs)"
   ],
   "outputs": [],
   "execution_count": 1481
  },
  {
   "cell_type": "code",
   "id": "214c2e6c9a7089a8",
   "metadata": {
    "ExecuteTime": {
     "end_time": "2024-12-13T21:28:07.149745Z",
     "start_time": "2024-12-13T21:28:07.123983Z"
    }
   },
   "source": [
    "pv_validation_results = validate_curie_label_list_dict(deduped_context_pvs, envo_adapter, print_flag=True)"
   ],
   "outputs": [],
   "execution_count": 1482
  },
  {
   "cell_type": "code",
   "id": "e84872aa4f8a9313",
   "metadata": {
    "ExecuteTime": {
     "end_time": "2024-12-13T21:28:07.159439Z",
     "start_time": "2024-12-13T21:28:07.151346Z"
    }
   },
   "source": [
    "pv_validation_results"
   ],
   "outputs": [
    {
     "data": {
      "text/plain": [
       "{'problems': [],\n",
       " 'valids': [{'curie': 'ENVO:01001505', 'label': 'alpine tundra biome'},\n",
       "  {'curie': 'ENVO:01000219', 'label': 'anthropogenic terrestrial biome'},\n",
       "  {'curie': 'ENVO:01000197', 'label': 'broadleaf forest biome'},\n",
       "  {'curie': 'ENVO:01000196', 'label': 'coniferous forest biome'},\n",
       "  {'curie': 'ENVO:01000245', 'label': 'cropland biome'},\n",
       "  {'curie': 'ENVO:01000195', 'label': 'flooded grassland biome'},\n",
       "  {'curie': 'ENVO:01000190', 'label': 'flooded savanna biome'},\n",
       "  {'curie': 'ENVO:01000174', 'label': 'forest biome'},\n",
       "  {'curie': 'ENVO:01000177', 'label': 'grassland biome'},\n",
       "  {'curie': 'ENVO:01000181', 'label': 'mangrove biome'},\n",
       "  {'curie': 'ENVO:01000199', 'label': 'mediterranean forest biome'},\n",
       "  {'curie': 'ENVO:01000224', 'label': 'mediterranean grassland biome'},\n",
       "  {'curie': 'ENVO:01000229', 'label': 'mediterranean savanna biome'},\n",
       "  {'curie': 'ENVO:01000217', 'label': 'mediterranean shrubland biome'},\n",
       "  {'curie': 'ENVO:01000208', 'label': 'mediterranean woodland biome'},\n",
       "  {'curie': 'ENVO:01000198', 'label': 'mixed forest biome'},\n",
       "  {'curie': 'ENVO:01000194', 'label': 'montane grassland biome'},\n",
       "  {'curie': 'ENVO:01000223', 'label': 'montane savanna biome'},\n",
       "  {'curie': 'ENVO:01000216', 'label': 'montane shrubland biome'},\n",
       "  {'curie': 'ENVO:01000247', 'label': 'rangeland biome'},\n",
       "  {'curie': 'ENVO:01000178', 'label': 'savanna biome'},\n",
       "  {'curie': 'ENVO:01000176', 'label': 'shrubland biome'},\n",
       "  {'curie': 'ENVO:01000250', 'label': 'subpolar coniferous forest biome'},\n",
       "  {'curie': 'ENVO:01000201', 'label': 'subtropical broadleaf forest biome'},\n",
       "  {'curie': 'ENVO:01000209', 'label': 'subtropical coniferous forest biome'},\n",
       "  {'curie': 'ENVO:01000225',\n",
       "   'label': 'subtropical dry broadleaf forest biome'},\n",
       "  {'curie': 'ENVO:01000191', 'label': 'subtropical grassland biome'},\n",
       "  {'curie': 'ENVO:01000226',\n",
       "   'label': 'subtropical moist broadleaf forest biome'},\n",
       "  {'curie': 'ENVO:01000187', 'label': 'subtropical savanna biome'},\n",
       "  {'curie': 'ENVO:01000213', 'label': 'subtropical shrubland biome'},\n",
       "  {'curie': 'ENVO:01000222', 'label': 'subtropical woodland biome'},\n",
       "  {'curie': 'ENVO:01000202', 'label': 'temperate broadleaf forest biome'},\n",
       "  {'curie': 'ENVO:01000211', 'label': 'temperate coniferous forest biome'},\n",
       "  {'curie': 'ENVO:01000193', 'label': 'temperate grassland biome'},\n",
       "  {'curie': 'ENVO:01000212', 'label': 'temperate mixed forest biome'},\n",
       "  {'curie': 'ENVO:01000189', 'label': 'temperate savanna biome'},\n",
       "  {'curie': 'ENVO:01000215', 'label': 'temperate shrubland biome'},\n",
       "  {'curie': 'ENVO:01000221', 'label': 'temperate woodland biome'},\n",
       "  {'curie': 'ENVO:00000446', 'label': 'terrestrial biome'},\n",
       "  {'curie': 'ENVO:01001369', 'label': 'tidal mangrove shrubland'},\n",
       "  {'curie': 'ENVO:01000200', 'label': 'tropical broadleaf forest biome'},\n",
       "  {'curie': 'ENVO:01000210', 'label': 'tropical coniferous forest biome'},\n",
       "  {'curie': 'ENVO:01000227', 'label': 'tropical dry broadleaf forest biome'},\n",
       "  {'curie': 'ENVO:01000192', 'label': 'tropical grassland biome'},\n",
       "  {'curie': 'ENVO:01001798', 'label': 'tropical mixed forest biome'},\n",
       "  {'curie': 'ENVO:01000228', 'label': 'tropical moist broadleaf forest biome'},\n",
       "  {'curie': 'ENVO:01000188', 'label': 'tropical savanna biome'},\n",
       "  {'curie': 'ENVO:01000214', 'label': 'tropical shrubland biome'},\n",
       "  {'curie': 'ENVO:01000220', 'label': 'tropical woodland biome'},\n",
       "  {'curie': 'ENVO:01000180', 'label': 'tundra biome'},\n",
       "  {'curie': 'ENVO:01000175', 'label': 'woodland biome'},\n",
       "  {'curie': 'ENVO:01000218', 'label': 'xeric shrubland biome'}]}"
      ]
     },
     "execution_count": 1483,
     "metadata": {},
     "output_type": "execute_result"
    }
   ],
   "execution_count": 1483
  },
  {
   "cell_type": "markdown",
   "id": "363063c37a433d70",
   "metadata": {},
   "source": "# Get the CURIEs used in NMDC Biosample annotations"
  },
  {
   "cell_type": "code",
   "id": "656e23e9eab154b0",
   "metadata": {
    "ExecuteTime": {
     "end_time": "2024-12-13T21:28:07.373545Z",
     "start_time": "2024-12-13T21:28:07.161138Z"
    }
   },
   "source": [
    "if os.path.isfile(all_nmdc_biosamples_file):\n",
    "    print(\n",
    "        f\"{all_nmdc_biosamples_file} is present in the current working directory and will be read into all_nmdc_biosamples.\")\n",
    "    # with open(all_nmdc_biosamples_file, 'r') as file:\n",
    "    #     all_nmdc_biosamples = yaml.full_load(file)\n",
    "    # read as json\n",
    "    with open(all_nmdc_biosamples_file, 'r') as f:\n",
    "        all_nmdc_biosamples = json.load(f)\n",
    "\n",
    "else:\n",
    "    print(f\"All NMDC Biosamples need to be fetched and saved to {all_nmdc_biosamples_file}\")\n",
    "    all_nmdc_biosamples = get_docs_from_nmdc_collection(NMDC_RUNTIME_BASE_URL,\n",
    "                                                        BIOSAMPLE_SET_COLLECTION)\n",
    "    # with open(all_nmdc_biosamples_file, 'w') as file:\n",
    "    #     documents = yaml.dump(all_nmdc_biosamples, file)\n",
    "    # save as json\n",
    "    with open(all_nmdc_biosamples_file, 'w') as f:\n",
    "        json.dump(all_nmdc_biosamples, f)\n",
    "\n",
    "# this saves network traffic. could use JSON for faster performance. \n",
    "# 1 minute for network fetch and JSON write?!\n",
    "# 1 minute for yaml read\n",
    "# instantaneous for JSON read?"
   ],
   "outputs": [
    {
     "name": "stdout",
     "output_type": "stream",
     "text": [
      "all_nmdc_biosamples.json is present in the current working directory and will be read into all_nmdc_biosamples.\n"
     ]
    }
   ],
   "execution_count": 1484
  },
  {
   "metadata": {},
   "cell_type": "markdown",
   "source": "## Prediction of env_package annotations ",
   "id": "1566ce7dbafcfc71"
  },
  {
   "metadata": {
    "ExecuteTime": {
     "end_time": "2024-12-13T21:28:07.413252Z",
     "start_time": "2024-12-13T21:28:07.375860Z"
    }
   },
   "cell_type": "code",
   "source": [
    "# Specify the output file name\n",
    "env_packages_file = \"nmdc_biosample_asserted_normalized_and_inferred_env_package.tsv\"\n",
    "\n",
    "if os.path.exists(env_packages_file):\n",
    "    # Load the DataFrame from the file if it exists\n",
    "    print(f\"Loading {env_packages_file} into nmdc_biosample_contexts_frame...\")\n",
    "    nmdc_biosample_contexts_frame = pd.read_csv(env_packages_file, sep='\\t')\n",
    "else:\n",
    "    # File doesn't exist; generate the DataFrame\n",
    "    print(f\"{env_packages_file} not found. Predicting from asserted records and {env_package_override_file}...\")\n",
    "\n",
    "    # Load environment package overrides\n",
    "    env_pacakge_overrides = tsv_to_dict_of_dicts(env_package_override_file, 'id')\n",
    "\n",
    "    # Extract biosample contexts\n",
    "    biosample_contexts_lod = biosamples_lod_context_extractor(\n",
    "        all_nmdc_biosamples, envo_adapter,\n",
    "        my_env_pacakge_overrides=env_pacakge_overrides\n",
    "    )\n",
    "\n",
    "    # Create the DataFrame\n",
    "    nmdc_biosample_contexts_frame = pd.DataFrame(biosample_contexts_lod)\n",
    "\n",
    "    # Print value counts for the 'normalized_env_package' column\n",
    "    print(\"\\n\")\n",
    "    print(\"Value counts for normalized_env_package column:\")\n",
    "    print(nmdc_biosample_contexts_frame['normalized_env_package'].value_counts(dropna=False))\n",
    "    print(\"\\n\")\n",
    "\n",
    "    # Generate package predictions\n",
    "    package_predictions = predict_from_normalized_env_packages(nmdc_biosample_contexts_frame, envo_adapter)\n",
    "\n",
    "    # Add predictions to the DataFrame\n",
    "    nmdc_biosample_contexts_frame['predicted_env_package'] = package_predictions\n",
    "\n",
    "    # Save the DataFrame to the file\n",
    "    nmdc_biosample_contexts_frame.to_csv(env_packages_file, sep='\\t', index=False)\n",
    "    print(f\"env_package predictions saved to {env_packages_file}\")\n",
    "\n"
   ],
   "id": "32cee69d6184218f",
   "outputs": [
    {
     "name": "stdout",
     "output_type": "stream",
     "text": [
      "Loading nmdc_biosample_asserted_normalized_and_inferred_env_package.tsv into nmdc_biosample_contexts_frame...\n"
     ]
    }
   ],
   "execution_count": 1485
  },
  {
   "metadata": {
    "ExecuteTime": {
     "end_time": "2024-12-13T21:28:07.422367Z",
     "start_time": "2024-12-13T21:28:07.415117Z"
    }
   },
   "cell_type": "code",
   "source": "nmdc_biosample_contexts_frame['predicted_env_package'].value_counts()",
   "id": "3efd62bb277e589c",
   "outputs": [
    {
     "data": {
      "text/plain": [
       "predicted_env_package\n",
       "soil                                               5902\n",
       "water                                              1484\n",
       "plant-associated                                    401\n",
       "sediment                                            165\n",
       "host-associated                                     156\n",
       "miscellaneous natural or artificial environment     140\n",
       "hydrocarbon resources-fluids_swabs                  114\n",
       "Name: count, dtype: int64"
      ]
     },
     "execution_count": 1486,
     "metadata": {},
     "output_type": "execute_result"
    }
   ],
   "execution_count": 1486
  },
  {
   "metadata": {},
   "cell_type": "markdown",
   "source": [
    "## env-package prediction complete\n",
    "\n",
    "To-do: save this and don't recreate it if it's available\n",
    "\n",
    "Then get it reviewed by other NMDC stakeholders and inject it into MongoDB if approved"
   ],
   "id": "a86897dcc7d47c55"
  },
  {
   "metadata": {},
   "cell_type": "markdown",
   "source": "## Destructively filter `nmdc_biosample_contexts_frame` by `env_package` ",
   "id": "a3f22287b11f918f"
  },
  {
   "cell_type": "code",
   "id": "d5c6aa902c7187e0",
   "metadata": {
    "ExecuteTime": {
     "end_time": "2024-12-13T21:28:07.429375Z",
     "start_time": "2024-12-13T21:28:07.424719Z"
    }
   },
   "source": [
    "nmdc_biosample_contexts_frame.shape"
   ],
   "outputs": [
    {
     "data": {
      "text/plain": [
       "(8362, 15)"
      ]
     },
     "execution_count": 1487,
     "metadata": {},
     "output_type": "execute_result"
    }
   ],
   "execution_count": 1487
  },
  {
   "cell_type": "code",
   "id": "2b241bcacf4bb100",
   "metadata": {
    "ExecuteTime": {
     "end_time": "2024-12-13T21:28:07.436815Z",
     "start_time": "2024-12-13T21:28:07.431450Z"
    }
   },
   "source": [
    "nmdc_biosample_contexts_frame = nmdc_biosample_contexts_frame[\n",
    "    nmdc_biosample_contexts_frame['predicted_env_package'] == nmdc_package_selector]"
   ],
   "outputs": [],
   "execution_count": 1488
  },
  {
   "cell_type": "code",
   "id": "9045896aa4ea468f",
   "metadata": {
    "ExecuteTime": {
     "end_time": "2024-12-13T21:28:07.443662Z",
     "start_time": "2024-12-13T21:28:07.439177Z"
    }
   },
   "source": [
    "nmdc_biosample_contexts_frame.shape"
   ],
   "outputs": [
    {
     "data": {
      "text/plain": [
       "(401, 15)"
      ]
     },
     "execution_count": 1489,
     "metadata": {},
     "output_type": "execute_result"
    }
   ],
   "execution_count": 1489
  },
  {
   "cell_type": "markdown",
   "id": "aee7b4eea48a8691",
   "metadata": {},
   "source": "# Long process of predicting OBO foundry CURIes from NCBI Biosamples"
  },
  {
   "metadata": {},
   "cell_type": "markdown",
   "source": [
    "## Start by getting unique annotations? Pre-counted by Biosamples\n",
    "\n",
    "Current task is to provide counts by \"study\" aka Bioproject in addition to Biosample counts or instead of Biosamples counts if necessary"
   ],
   "id": "fc58f6a0b79cbfa1"
  },
  {
   "cell_type": "code",
   "id": "3be362b73dbda47a",
   "metadata": {
    "ExecuteTime": {
     "end_time": "2024-12-13T21:28:12.849195Z",
     "start_time": "2024-12-13T21:28:07.445621Z"
    }
   },
   "source": "ncbi_frame = ncbi_conn.execute(ncbi_X_per_annotation_query).fetchdf()\n",
   "outputs": [
    {
     "data": {
      "text/plain": [
       "FloatProgress(value=0.0, layout=Layout(width='auto'), style=ProgressStyle(bar_color='black'))"
      ],
      "application/vnd.jupyter.widget-view+json": {
       "version_major": 2,
       "version_minor": 0,
       "model_id": "846fbae7d77a4f81a407d1c3c6cb14b3"
      }
     },
     "metadata": {},
     "output_type": "display_data"
    }
   ],
   "execution_count": 1490
  },
  {
   "cell_type": "code",
   "id": "306ee79ce77f745e",
   "metadata": {
    "ExecuteTime": {
     "end_time": "2024-12-13T21:28:12.859970Z",
     "start_time": "2024-12-13T21:28:12.852561Z"
    }
   },
   "source": [
    "ncbi_frame.insert(0, 'serial_number', range(1, len(ncbi_frame) + 1))"
   ],
   "outputs": [],
   "execution_count": 1491
  },
  {
   "cell_type": "code",
   "id": "6f06a6237f0ecdb",
   "metadata": {
    "ExecuteTime": {
     "end_time": "2024-12-13T21:28:12.867683Z",
     "start_time": "2024-12-13T21:28:12.863388Z"
    }
   },
   "source": [
    "# includes values with counts of one... useful for discovering drag-down submissions?"
   ],
   "outputs": [],
   "execution_count": 1492
  },
  {
   "metadata": {},
   "cell_type": "markdown",
   "source": [
    "## MIxS and NCBI guidelines imply environmental context slots are multivalued\n",
    "and that the pipe `|` should be used as a delimiter\n",
    "\n",
    "there's an envo_count value below that indicates how ofter other delimiters might be used"
   ],
   "id": "1b851c8ef274382c"
  },
  {
   "cell_type": "code",
   "id": "f07e55ebd0f4c451",
   "metadata": {
    "ExecuteTime": {
     "end_time": "2024-12-13T21:28:12.883938Z",
     "start_time": "2024-12-13T21:28:12.871208Z"
    }
   },
   "source": [
    "ncbi_frame['content_list'] = ncbi_frame['content'].str.split('|')"
   ],
   "outputs": [],
   "execution_count": 1493
  },
  {
   "metadata": {
    "ExecuteTime": {
     "end_time": "2024-12-13T21:28:12.896699Z",
     "start_time": "2024-12-13T21:28:12.887686Z"
    }
   },
   "cell_type": "code",
   "source": [
    "# todo is there any reason to not do this ?\n",
    "ncbi_frame = ncbi_frame[ncbi_frame['content'].notna() & (ncbi_frame['content'] != '')]"
   ],
   "id": "2e96404aa5dd0f7b",
   "outputs": [],
   "execution_count": 1494
  },
  {
   "cell_type": "code",
   "id": "f8c2e13cee8818cb",
   "metadata": {
    "ExecuteTime": {
     "end_time": "2024-12-13T21:28:12.906838Z",
     "start_time": "2024-12-13T21:28:12.898883Z"
    }
   },
   "source": [
    "ncbi_frame['content_count'] = ncbi_frame['content_list'].apply(len)"
   ],
   "outputs": [],
   "execution_count": 1495
  },
  {
   "cell_type": "code",
   "id": "edeaac7b5ce53cd5",
   "metadata": {
    "ExecuteTime": {
     "end_time": "2024-12-13T21:28:12.927494Z",
     "start_time": "2024-12-13T21:28:12.920367Z"
    }
   },
   "source": [
    "ncbi_frame.shape"
   ],
   "outputs": [
    {
     "data": {
      "text/plain": [
       "(5189, 5)"
      ]
     },
     "execution_count": 1496,
     "metadata": {},
     "output_type": "execute_result"
    }
   ],
   "execution_count": 1496
  },
  {
   "cell_type": "code",
   "id": "18860251fea32ee5",
   "metadata": {
    "ExecuteTime": {
     "end_time": "2024-12-13T21:28:12.949349Z",
     "start_time": "2024-12-13T21:28:12.934114Z"
    }
   },
   "source": [
    "ncbi_frame = ncbi_frame.explode('content_list').reset_index(drop=True)"
   ],
   "outputs": [],
   "execution_count": 1497
  },
  {
   "cell_type": "code",
   "id": "bc8b89960c12f6e6",
   "metadata": {
    "ExecuteTime": {
     "end_time": "2024-12-13T21:28:12.960875Z",
     "start_time": "2024-12-13T21:28:12.952134Z"
    }
   },
   "source": [
    "ncbi_frame.shape"
   ],
   "outputs": [
    {
     "data": {
      "text/plain": [
       "(5307, 5)"
      ]
     },
     "execution_count": 1498,
     "metadata": {},
     "output_type": "execute_result"
    }
   ],
   "execution_count": 1498
  },
  {
   "metadata": {},
   "cell_type": "markdown",
   "source": [
    "## splitting adds ~ 5% more rows\n",
    "which might be important since were currently using a longest annotation strategy here"
   ],
   "id": "f02aaf625f4158d3"
  },
  {
   "cell_type": "code",
   "id": "85a0a4ccd63b7952",
   "metadata": {
    "ExecuteTime": {
     "end_time": "2024-12-13T21:28:12.972292Z",
     "start_time": "2024-12-13T21:28:12.965593Z"
    }
   },
   "source": [
    "# how many content_list strings contain envo multiple times now?"
   ],
   "outputs": [],
   "execution_count": 1499
  },
  {
   "cell_type": "code",
   "id": "4dee374026c8272a",
   "metadata": {
    "ExecuteTime": {
     "end_time": "2024-12-13T21:28:12.994769Z",
     "start_time": "2024-12-13T21:28:12.976617Z"
    }
   },
   "source": [
    "ncbi_frame['envo_count'] = ncbi_frame['content_list'].str.lower().str.count(\"envo\")"
   ],
   "outputs": [],
   "execution_count": 1500
  },
  {
   "cell_type": "code",
   "id": "417319d62ef07d0b",
   "metadata": {
    "ExecuteTime": {
     "end_time": "2024-12-13T21:28:13.007301Z",
     "start_time": "2024-12-13T21:28:12.997551Z"
    }
   },
   "source": [
    "ncbi_frame['envo_count'].value_counts()"
   ],
   "outputs": [
    {
     "data": {
      "text/plain": [
       "envo_count\n",
       "0    4759\n",
       "1     531\n",
       "3      15\n",
       "7       1\n",
       "2       1\n",
       "Name: count, dtype: int64"
      ]
     },
     "execution_count": 1501,
     "metadata": {},
     "output_type": "execute_result"
    }
   ],
   "execution_count": 1501
  },
  {
   "metadata": {},
   "cell_type": "markdown",
   "source": [
    "## If my math is correct, about 0.1% of the annotations still contain multiple CURIes \n",
    "after splitting on pipes\n",
    "\n",
    "There will also be annotations with multiple label-like strings that weren't split because they were not delimited on pipes\n",
    "That might be a source of lost information since we are using a longest-match annotator here\n",
    "I.e. there could be annotations with multiple hits worth keeping"
   ],
   "id": "21fb4262b735aedc"
  },
  {
   "metadata": {},
   "cell_type": "markdown",
   "source": [
    "## Parsing out CURIEs\n",
    "\n",
    "this has a few limitations. The function only tries pre-specified prefixes (['ENVO'] by default) and only considers colons and underscores valid delimiters."
   ],
   "id": "119dbec6ecf9c65c"
  },
  {
   "cell_type": "code",
   "id": "7b256380eceaceaa",
   "metadata": {
    "ExecuteTime": {
     "end_time": "2024-12-13T21:28:13.796906Z",
     "start_time": "2024-12-13T21:28:13.010094Z"
    }
   },
   "source": [
    "ncbi_frame[['extracted_label', 'extracted_curie']] = ncbi_frame['content_list'].apply(parse_curie_label)"
   ],
   "outputs": [],
   "execution_count": 1502
  },
  {
   "cell_type": "code",
   "id": "761e39ab29aef0a7",
   "metadata": {
    "ExecuteTime": {
     "end_time": "2024-12-13T21:28:13.803546Z",
     "start_time": "2024-12-13T21:28:13.798419Z"
    }
   },
   "source": [
    "parse_failures = ncbi_frame[\n",
    "    (ncbi_frame['envo_count'] > 0) & (ncbi_frame['extracted_curie'].isna() | (ncbi_frame['extracted_curie'] == ''))]\n"
   ],
   "outputs": [],
   "execution_count": 1503
  },
  {
   "metadata": {},
   "cell_type": "markdown",
   "source": [
    "## In what kinds of cases could no CURIe be parsed\n",
    "despite the presence of \"ENVO\" in the content string?"
   ],
   "id": "e618518e6e85b5aa"
  },
  {
   "cell_type": "code",
   "id": "a9316f11da9ee0c8",
   "metadata": {
    "ExecuteTime": {
     "end_time": "2024-12-13T21:28:13.814501Z",
     "start_time": "2024-12-13T21:28:13.805074Z"
    }
   },
   "source": [
    "parse_failures"
   ],
   "outputs": [
    {
     "data": {
      "text/plain": [
       "      serial_number                                  content  count  \\\n",
       "400             394                            ENVO：00000316      2   \n",
       "1359           1320  Tropical shrubland biome [ENVO01000214]      1   \n",
       "2081           2034                                     ENVO      1   \n",
       "4631           4531   Tropical woodland biome [ENVO01000220]      1   \n",
       "\n",
       "                                 content_list  content_count  envo_count  \\\n",
       "400                             ENVO：00000316              1           1   \n",
       "1359  Tropical shrubland biome [ENVO01000214]              1           1   \n",
       "2081                                     ENVO              1           1   \n",
       "4631   Tropical woodland biome [ENVO01000220]              1           1   \n",
       "\n",
       "                              extracted_label extracted_curie  \n",
       "400                             ENVO：00000316            None  \n",
       "1359  Tropical shrubland biome [ENVO01000214]            None  \n",
       "2081                                     ENVO            None  \n",
       "4631   Tropical woodland biome [ENVO01000220]            None  "
      ],
      "text/html": [
       "<div>\n",
       "<style scoped>\n",
       "    .dataframe tbody tr th:only-of-type {\n",
       "        vertical-align: middle;\n",
       "    }\n",
       "\n",
       "    .dataframe tbody tr th {\n",
       "        vertical-align: top;\n",
       "    }\n",
       "\n",
       "    .dataframe thead th {\n",
       "        text-align: right;\n",
       "    }\n",
       "</style>\n",
       "<table border=\"1\" class=\"dataframe\">\n",
       "  <thead>\n",
       "    <tr style=\"text-align: right;\">\n",
       "      <th></th>\n",
       "      <th>serial_number</th>\n",
       "      <th>content</th>\n",
       "      <th>count</th>\n",
       "      <th>content_list</th>\n",
       "      <th>content_count</th>\n",
       "      <th>envo_count</th>\n",
       "      <th>extracted_label</th>\n",
       "      <th>extracted_curie</th>\n",
       "    </tr>\n",
       "  </thead>\n",
       "  <tbody>\n",
       "    <tr>\n",
       "      <th>400</th>\n",
       "      <td>394</td>\n",
       "      <td>ENVO：00000316</td>\n",
       "      <td>2</td>\n",
       "      <td>ENVO：00000316</td>\n",
       "      <td>1</td>\n",
       "      <td>1</td>\n",
       "      <td>ENVO：00000316</td>\n",
       "      <td>None</td>\n",
       "    </tr>\n",
       "    <tr>\n",
       "      <th>1359</th>\n",
       "      <td>1320</td>\n",
       "      <td>Tropical shrubland biome [ENVO01000214]</td>\n",
       "      <td>1</td>\n",
       "      <td>Tropical shrubland biome [ENVO01000214]</td>\n",
       "      <td>1</td>\n",
       "      <td>1</td>\n",
       "      <td>Tropical shrubland biome [ENVO01000214]</td>\n",
       "      <td>None</td>\n",
       "    </tr>\n",
       "    <tr>\n",
       "      <th>2081</th>\n",
       "      <td>2034</td>\n",
       "      <td>ENVO</td>\n",
       "      <td>1</td>\n",
       "      <td>ENVO</td>\n",
       "      <td>1</td>\n",
       "      <td>1</td>\n",
       "      <td>ENVO</td>\n",
       "      <td>None</td>\n",
       "    </tr>\n",
       "    <tr>\n",
       "      <th>4631</th>\n",
       "      <td>4531</td>\n",
       "      <td>Tropical woodland biome [ENVO01000220]</td>\n",
       "      <td>1</td>\n",
       "      <td>Tropical woodland biome [ENVO01000220]</td>\n",
       "      <td>1</td>\n",
       "      <td>1</td>\n",
       "      <td>Tropical woodland biome [ENVO01000220]</td>\n",
       "      <td>None</td>\n",
       "    </tr>\n",
       "  </tbody>\n",
       "</table>\n",
       "</div>"
      ]
     },
     "execution_count": 1504,
     "metadata": {},
     "output_type": "execute_result"
    }
   ],
   "execution_count": 1504
  },
  {
   "metadata": {},
   "cell_type": "markdown",
   "source": "## Retrieve the labels for the parsed CURIes",
   "id": "ab4b8ef4ac9758e2"
  },
  {
   "cell_type": "code",
   "id": "9bdebd91856ff679",
   "metadata": {
    "ExecuteTime": {
     "end_time": "2024-12-13T21:28:16.206464Z",
     "start_time": "2024-12-13T21:28:13.816020Z"
    }
   },
   "source": [
    "ncbi_frame['real_label'] = ncbi_frame['extracted_curie'].apply(envo_adapter.label)"
   ],
   "outputs": [],
   "execution_count": 1505
  },
  {
   "metadata": {},
   "cell_type": "markdown",
   "source": [
    "## Apply oaklib annotation to the strings after CURIe removal\n",
    "Actually the annotator can (sometimes?) detect colon-delimited CURIEs with lower case prefixes\n",
    "\n",
    "This returns CURIes with evidence but not necessarily the label corresponding to the CURIe"
   ],
   "id": "9710b8f5b9a39057"
  },
  {
   "metadata": {
    "ExecuteTime": {
     "end_time": "2024-12-13T21:28:23.911671Z",
     "start_time": "2024-12-13T21:28:16.208962Z"
    }
   },
   "cell_type": "code",
   "source": [
    "# Specify the lexical index file name\n",
    "envo_lexical_index_file = \"envo_lexical_index.yaml\"\n",
    "\n",
    "# Check if the lexical index file exists\n",
    "if os.path.exists(envo_lexical_index_file):\n",
    "    print(f\"Loading lexical index from {envo_lexical_index_file}...\")\n",
    "    ix = load_lexical_index(envo_lexical_index_file)\n",
    "else:\n",
    "    print(f\"{envo_lexical_index_file} not found. Creating lexical index from envo_adapter...\")\n",
    "    # Create the lexical index from envo_adapter\n",
    "    ix = create_lexical_index(envo_adapter)\n",
    "    # Save the lexical index to a file\n",
    "    save_lexical_index(ix, envo_lexical_index_file)\n",
    "    print(f\"Lexical index saved to {envo_lexical_index_file}\")\n",
    "\n",
    "# Initialize the TextAnnotatorInterface\n",
    "envo_text_annotator_interface = TextAnnotatorInterface()\n",
    "envo_text_annotator_interface.lexical_index = ix\n",
    "\n",
    "# this cell only takes ~ 1 minute, but generates a lot of \"ERRORS\" and WARNINGS in a red font\n",
    "#   while lexically indexing the ontology"
   ],
   "id": "542884744a48f7bf",
   "outputs": [
    {
     "name": "stdout",
     "output_type": "stream",
     "text": [
      "Loading lexical index from envo_lexical_index.yaml...\n"
     ]
    }
   ],
   "execution_count": 1506
  },
  {
   "cell_type": "code",
   "id": "d06d899567db022e",
   "metadata": {
    "ExecuteTime": {
     "end_time": "2024-12-13T21:28:32.407517Z",
     "start_time": "2024-12-13T21:28:23.913629Z"
    }
   },
   "source": [
    "# Apply the annotation function to each row in the 'label' column\n",
    "ncbi_frame['longest_annotation_curie'] = ncbi_frame['extracted_label'].apply(\n",
    "    lambda x: get_longest_annotation_curie(x, envo_text_annotator_interface, MIN_ANNOTATION_LEN))\n",
    "\n",
    "# ~ 1 minute\n"
   ],
   "outputs": [],
   "execution_count": 1507
  },
  {
   "metadata": {},
   "cell_type": "markdown",
   "source": "## Add the labels for the CURIes identified though oaklib annotation of strings",
   "id": "14f0908428dfa322"
  },
  {
   "cell_type": "code",
   "id": "2d0d090813223db3",
   "metadata": {
    "ExecuteTime": {
     "end_time": "2024-12-13T21:28:34.356339Z",
     "start_time": "2024-12-13T21:28:32.409028Z"
    }
   },
   "source": [
    "ncbi_frame['longest_annotation_label'] = ncbi_frame['longest_annotation_curie'].apply(envo_adapter.label)"
   ],
   "outputs": [],
   "execution_count": 1508
  },
  {
   "cell_type": "code",
   "id": "940cd4e688adb239",
   "metadata": {
    "ExecuteTime": {
     "end_time": "2024-12-13T21:28:34.371073Z",
     "start_time": "2024-12-13T21:28:34.357672Z"
    }
   },
   "source": [
    "ncbi_frame"
   ],
   "outputs": [
    {
     "data": {
      "text/plain": [
       "      serial_number                                            content  count  \\\n",
       "0                 1                                     not applicable    262   \n",
       "1                 2                                            missing    199   \n",
       "2                 3                                      not collected    127   \n",
       "3                 4                                            Orchard     87   \n",
       "4                 5                                                 NA     79   \n",
       "...             ...                                                ...    ...   \n",
       "5302           5186                                       cotton field      1   \n",
       "5303           5187  Environment associated with a plant part or sm...      1   \n",
       "5304           5188                                              Gut-8      1   \n",
       "5305           5189                                             Gut-13      1   \n",
       "5306           5190                                             Gut-29      1   \n",
       "\n",
       "                                           content_list  content_count  \\\n",
       "0                                        not applicable              1   \n",
       "1                                               missing              1   \n",
       "2                                         not collected              1   \n",
       "3                                               Orchard              1   \n",
       "4                                                    NA              1   \n",
       "...                                                 ...            ...   \n",
       "5302                                       cotton field              1   \n",
       "5303  Environment associated with a plant part or sm...              1   \n",
       "5304                                              Gut-8              1   \n",
       "5305                                             Gut-13              1   \n",
       "5306                                             Gut-29              1   \n",
       "\n",
       "      envo_count                                    extracted_label  \\\n",
       "0              0                                     not applicable   \n",
       "1              0                                            missing   \n",
       "2              0                                      not collected   \n",
       "3              0                                            Orchard   \n",
       "4              0                                                 NA   \n",
       "...          ...                                                ...   \n",
       "5302           0                                       cotton field   \n",
       "5303           0  Environment associated with a plant part or sm...   \n",
       "5304           0                                              Gut-8   \n",
       "5305           0                                             Gut-13   \n",
       "5306           0                                             Gut-29   \n",
       "\n",
       "     extracted_curie real_label longest_annotation_curie  \\\n",
       "0               None       None                     None   \n",
       "1               None       None                     None   \n",
       "2               None       None                     None   \n",
       "3               None       None            ENVO:00000115   \n",
       "4               None       None                     None   \n",
       "...              ...        ...                      ...   \n",
       "5302            None       None            ENVO:01000352   \n",
       "5303            None       None            ENVO:01001057   \n",
       "5304            None       None                     None   \n",
       "5305            None       None                     None   \n",
       "5306            None       None                     None   \n",
       "\n",
       "                               longest_annotation_label  \n",
       "0                                                  None  \n",
       "1                                                  None  \n",
       "2                                                  None  \n",
       "3                                               orchard  \n",
       "4                                                  None  \n",
       "...                                                 ...  \n",
       "5302                                              field  \n",
       "5303  environment associated with a plant part or sm...  \n",
       "5304                                               None  \n",
       "5305                                               None  \n",
       "5306                                               None  \n",
       "\n",
       "[5307 rows x 11 columns]"
      ],
      "text/html": [
       "<div>\n",
       "<style scoped>\n",
       "    .dataframe tbody tr th:only-of-type {\n",
       "        vertical-align: middle;\n",
       "    }\n",
       "\n",
       "    .dataframe tbody tr th {\n",
       "        vertical-align: top;\n",
       "    }\n",
       "\n",
       "    .dataframe thead th {\n",
       "        text-align: right;\n",
       "    }\n",
       "</style>\n",
       "<table border=\"1\" class=\"dataframe\">\n",
       "  <thead>\n",
       "    <tr style=\"text-align: right;\">\n",
       "      <th></th>\n",
       "      <th>serial_number</th>\n",
       "      <th>content</th>\n",
       "      <th>count</th>\n",
       "      <th>content_list</th>\n",
       "      <th>content_count</th>\n",
       "      <th>envo_count</th>\n",
       "      <th>extracted_label</th>\n",
       "      <th>extracted_curie</th>\n",
       "      <th>real_label</th>\n",
       "      <th>longest_annotation_curie</th>\n",
       "      <th>longest_annotation_label</th>\n",
       "    </tr>\n",
       "  </thead>\n",
       "  <tbody>\n",
       "    <tr>\n",
       "      <th>0</th>\n",
       "      <td>1</td>\n",
       "      <td>not applicable</td>\n",
       "      <td>262</td>\n",
       "      <td>not applicable</td>\n",
       "      <td>1</td>\n",
       "      <td>0</td>\n",
       "      <td>not applicable</td>\n",
       "      <td>None</td>\n",
       "      <td>None</td>\n",
       "      <td>None</td>\n",
       "      <td>None</td>\n",
       "    </tr>\n",
       "    <tr>\n",
       "      <th>1</th>\n",
       "      <td>2</td>\n",
       "      <td>missing</td>\n",
       "      <td>199</td>\n",
       "      <td>missing</td>\n",
       "      <td>1</td>\n",
       "      <td>0</td>\n",
       "      <td>missing</td>\n",
       "      <td>None</td>\n",
       "      <td>None</td>\n",
       "      <td>None</td>\n",
       "      <td>None</td>\n",
       "    </tr>\n",
       "    <tr>\n",
       "      <th>2</th>\n",
       "      <td>3</td>\n",
       "      <td>not collected</td>\n",
       "      <td>127</td>\n",
       "      <td>not collected</td>\n",
       "      <td>1</td>\n",
       "      <td>0</td>\n",
       "      <td>not collected</td>\n",
       "      <td>None</td>\n",
       "      <td>None</td>\n",
       "      <td>None</td>\n",
       "      <td>None</td>\n",
       "    </tr>\n",
       "    <tr>\n",
       "      <th>3</th>\n",
       "      <td>4</td>\n",
       "      <td>Orchard</td>\n",
       "      <td>87</td>\n",
       "      <td>Orchard</td>\n",
       "      <td>1</td>\n",
       "      <td>0</td>\n",
       "      <td>Orchard</td>\n",
       "      <td>None</td>\n",
       "      <td>None</td>\n",
       "      <td>ENVO:00000115</td>\n",
       "      <td>orchard</td>\n",
       "    </tr>\n",
       "    <tr>\n",
       "      <th>4</th>\n",
       "      <td>5</td>\n",
       "      <td>NA</td>\n",
       "      <td>79</td>\n",
       "      <td>NA</td>\n",
       "      <td>1</td>\n",
       "      <td>0</td>\n",
       "      <td>NA</td>\n",
       "      <td>None</td>\n",
       "      <td>None</td>\n",
       "      <td>None</td>\n",
       "      <td>None</td>\n",
       "    </tr>\n",
       "    <tr>\n",
       "      <th>...</th>\n",
       "      <td>...</td>\n",
       "      <td>...</td>\n",
       "      <td>...</td>\n",
       "      <td>...</td>\n",
       "      <td>...</td>\n",
       "      <td>...</td>\n",
       "      <td>...</td>\n",
       "      <td>...</td>\n",
       "      <td>...</td>\n",
       "      <td>...</td>\n",
       "      <td>...</td>\n",
       "    </tr>\n",
       "    <tr>\n",
       "      <th>5302</th>\n",
       "      <td>5186</td>\n",
       "      <td>cotton field</td>\n",
       "      <td>1</td>\n",
       "      <td>cotton field</td>\n",
       "      <td>1</td>\n",
       "      <td>0</td>\n",
       "      <td>cotton field</td>\n",
       "      <td>None</td>\n",
       "      <td>None</td>\n",
       "      <td>ENVO:01000352</td>\n",
       "      <td>field</td>\n",
       "    </tr>\n",
       "    <tr>\n",
       "      <th>5303</th>\n",
       "      <td>5187</td>\n",
       "      <td>Environment associated with a plant part or sm...</td>\n",
       "      <td>1</td>\n",
       "      <td>Environment associated with a plant part or sm...</td>\n",
       "      <td>1</td>\n",
       "      <td>0</td>\n",
       "      <td>Environment associated with a plant part or sm...</td>\n",
       "      <td>None</td>\n",
       "      <td>None</td>\n",
       "      <td>ENVO:01001057</td>\n",
       "      <td>environment associated with a plant part or sm...</td>\n",
       "    </tr>\n",
       "    <tr>\n",
       "      <th>5304</th>\n",
       "      <td>5188</td>\n",
       "      <td>Gut-8</td>\n",
       "      <td>1</td>\n",
       "      <td>Gut-8</td>\n",
       "      <td>1</td>\n",
       "      <td>0</td>\n",
       "      <td>Gut-8</td>\n",
       "      <td>None</td>\n",
       "      <td>None</td>\n",
       "      <td>None</td>\n",
       "      <td>None</td>\n",
       "    </tr>\n",
       "    <tr>\n",
       "      <th>5305</th>\n",
       "      <td>5189</td>\n",
       "      <td>Gut-13</td>\n",
       "      <td>1</td>\n",
       "      <td>Gut-13</td>\n",
       "      <td>1</td>\n",
       "      <td>0</td>\n",
       "      <td>Gut-13</td>\n",
       "      <td>None</td>\n",
       "      <td>None</td>\n",
       "      <td>None</td>\n",
       "      <td>None</td>\n",
       "    </tr>\n",
       "    <tr>\n",
       "      <th>5306</th>\n",
       "      <td>5190</td>\n",
       "      <td>Gut-29</td>\n",
       "      <td>1</td>\n",
       "      <td>Gut-29</td>\n",
       "      <td>1</td>\n",
       "      <td>0</td>\n",
       "      <td>Gut-29</td>\n",
       "      <td>None</td>\n",
       "      <td>None</td>\n",
       "      <td>None</td>\n",
       "      <td>None</td>\n",
       "    </tr>\n",
       "  </tbody>\n",
       "</table>\n",
       "<p>5307 rows × 11 columns</p>\n",
       "</div>"
      ]
     },
     "execution_count": 1509,
     "metadata": {},
     "output_type": "execute_result"
    }
   ],
   "execution_count": 1509
  },
  {
   "metadata": {},
   "cell_type": "markdown",
   "source": [
    "## we now have a list of CURIes for each normalized annotation\n",
    "\n",
    "This could be because the submitter provided a CURIe and a label that don't match\n",
    "*One* case of this is dragging a CURIe down a column in a spreadsheet, expecting it to be copied,\n",
    "but actually auto-incrementing it\n",
    "\n",
    "Now attempt to find one best CURIe for each annotation... by now we have lost the ability to retain multiple legitimate\n",
    "but improperly separated CURIes"
   ],
   "id": "69ed214e0186f459"
  },
  {
   "cell_type": "code",
   "id": "951ca41984b81e7d",
   "metadata": {
    "ExecuteTime": {
     "end_time": "2024-12-13T21:28:34.436277Z",
     "start_time": "2024-12-13T21:28:34.372727Z"
    }
   },
   "source": [
    "# todo don't accept extracted curie if no real label?\n",
    "# any kind of string similarity checking for label of annotated curie vs extracted label ?\n",
    "# look for long stretches of curies?\n",
    "# can we measure the beneficial impact of any of this? current crux: how to distribute counts\n",
    "\n",
    "ncbi_frame['curie_list'] = ncbi_frame.apply(\n",
    "    lambda my_row: list({my_row['extracted_curie'], my_row['longest_annotation_curie']} - {None}),\n",
    "    axis=1\n",
    ")\n",
    "\n",
    "ncbi_frame['unique_curie_count'] = ncbi_frame['curie_list'].apply(len)"
   ],
   "outputs": [],
   "execution_count": 1510
  },
  {
   "cell_type": "code",
   "id": "349610c477ebf149",
   "metadata": {
    "ExecuteTime": {
     "end_time": "2024-12-13T21:28:34.442930Z",
     "start_time": "2024-12-13T21:28:34.437856Z"
    }
   },
   "source": [
    "ncbi_frame['unique_curie_count'].value_counts()"
   ],
   "outputs": [
    {
     "data": {
      "text/plain": [
       "unique_curie_count\n",
       "0    2629\n",
       "1    2593\n",
       "2      85\n",
       "Name: count, dtype: int64"
      ]
     },
     "execution_count": 1511,
     "metadata": {},
     "output_type": "execute_result"
    }
   ],
   "execution_count": 1511
  },
  {
   "cell_type": "code",
   "id": "e6a8c0273f36e906",
   "metadata": {
    "ExecuteTime": {
     "end_time": "2024-12-13T21:28:34.448713Z",
     "start_time": "2024-12-13T21:28:34.444628Z"
    }
   },
   "source": [
    "double_curie_frame = ncbi_frame[ncbi_frame['unique_curie_count'] > 1]"
   ],
   "outputs": [],
   "execution_count": 1512
  },
  {
   "cell_type": "code",
   "id": "334e7c646337a914",
   "metadata": {
    "ExecuteTime": {
     "end_time": "2024-12-13T21:28:34.453935Z",
     "start_time": "2024-12-13T21:28:34.450453Z"
    }
   },
   "source": [
    "double_curie_frame = double_curie_frame[['extracted_curie', 'longest_annotation_curie']]"
   ],
   "outputs": [],
   "execution_count": 1513
  },
  {
   "cell_type": "code",
   "id": "874149830df3dd8a",
   "metadata": {
    "ExecuteTime": {
     "end_time": "2024-12-13T21:28:34.459410Z",
     "start_time": "2024-12-13T21:28:34.455750Z"
    }
   },
   "source": [
    "double_curie_frame = double_curie_frame.drop_duplicates()"
   ],
   "outputs": [],
   "execution_count": 1514
  },
  {
   "cell_type": "code",
   "id": "cdfc0bda39f3ad6d",
   "metadata": {
    "ExecuteTime": {
     "end_time": "2024-12-13T21:28:34.464665Z",
     "start_time": "2024-12-13T21:28:34.460802Z"
    }
   },
   "source": [
    "double_curie_frame[['extracted_prefix', 'extracted_local_id']] = double_curie_frame['extracted_curie'].str.split(':',\n",
    "                                                                                                                 expand=True)"
   ],
   "outputs": [],
   "execution_count": 1515
  },
  {
   "cell_type": "code",
   "id": "de6fcee63f6677d",
   "metadata": {
    "ExecuteTime": {
     "end_time": "2024-12-13T21:28:34.469900Z",
     "start_time": "2024-12-13T21:28:34.465992Z"
    }
   },
   "source": [
    "double_curie_frame['extracted_local_id_int'] = pd.to_numeric(double_curie_frame['extracted_local_id'],\n",
    "                                                             errors='coerce').astype('Int64')"
   ],
   "outputs": [],
   "execution_count": 1516
  },
  {
   "metadata": {
    "ExecuteTime": {
     "end_time": "2024-12-13T21:28:34.481893Z",
     "start_time": "2024-12-13T21:28:34.471871Z"
    }
   },
   "cell_type": "code",
   "source": "double_curie_frame",
   "id": "185c2d7e43614639",
   "outputs": [
    {
     "data": {
      "text/plain": [
       "     extracted_curie longest_annotation_curie extracted_prefix  \\\n",
       "156    ENVO:01000245            ENVO:01000635             ENVO   \n",
       "224     ENVO:0003084            ENVO:00003081             ENVO   \n",
       "238     ENVO:0003100            ENVO:00003081             ENVO   \n",
       "261     ENVO:0003088            ENVO:00003081             ENVO   \n",
       "262     ENVO:0003094            ENVO:00003081             ENVO   \n",
       "...              ...                      ...              ...   \n",
       "5030   ENVO:01001445            ENVO:01001430             ENVO   \n",
       "5112   ENVO:01001438            ENVO:01001430             ENVO   \n",
       "5121   ENVO:02500039            ENVO:02500038             ENVO   \n",
       "5180   ENVO:01001457            ENVO:01001430             ENVO   \n",
       "5291   ENVO:00002040            ENVO:00000109             ENVO   \n",
       "\n",
       "     extracted_local_id  extracted_local_id_int  \n",
       "156            01000245                 1000245  \n",
       "224             0003084                    3084  \n",
       "238             0003100                    3100  \n",
       "261             0003088                    3088  \n",
       "262             0003094                    3094  \n",
       "...                 ...                     ...  \n",
       "5030           01001445                 1001445  \n",
       "5112           01001438                 1001438  \n",
       "5121           02500039                 2500039  \n",
       "5180           01001457                 1001457  \n",
       "5291           00002040                    2040  \n",
       "\n",
       "[82 rows x 5 columns]"
      ],
      "text/html": [
       "<div>\n",
       "<style scoped>\n",
       "    .dataframe tbody tr th:only-of-type {\n",
       "        vertical-align: middle;\n",
       "    }\n",
       "\n",
       "    .dataframe tbody tr th {\n",
       "        vertical-align: top;\n",
       "    }\n",
       "\n",
       "    .dataframe thead th {\n",
       "        text-align: right;\n",
       "    }\n",
       "</style>\n",
       "<table border=\"1\" class=\"dataframe\">\n",
       "  <thead>\n",
       "    <tr style=\"text-align: right;\">\n",
       "      <th></th>\n",
       "      <th>extracted_curie</th>\n",
       "      <th>longest_annotation_curie</th>\n",
       "      <th>extracted_prefix</th>\n",
       "      <th>extracted_local_id</th>\n",
       "      <th>extracted_local_id_int</th>\n",
       "    </tr>\n",
       "  </thead>\n",
       "  <tbody>\n",
       "    <tr>\n",
       "      <th>156</th>\n",
       "      <td>ENVO:01000245</td>\n",
       "      <td>ENVO:01000635</td>\n",
       "      <td>ENVO</td>\n",
       "      <td>01000245</td>\n",
       "      <td>1000245</td>\n",
       "    </tr>\n",
       "    <tr>\n",
       "      <th>224</th>\n",
       "      <td>ENVO:0003084</td>\n",
       "      <td>ENVO:00003081</td>\n",
       "      <td>ENVO</td>\n",
       "      <td>0003084</td>\n",
       "      <td>3084</td>\n",
       "    </tr>\n",
       "    <tr>\n",
       "      <th>238</th>\n",
       "      <td>ENVO:0003100</td>\n",
       "      <td>ENVO:00003081</td>\n",
       "      <td>ENVO</td>\n",
       "      <td>0003100</td>\n",
       "      <td>3100</td>\n",
       "    </tr>\n",
       "    <tr>\n",
       "      <th>261</th>\n",
       "      <td>ENVO:0003088</td>\n",
       "      <td>ENVO:00003081</td>\n",
       "      <td>ENVO</td>\n",
       "      <td>0003088</td>\n",
       "      <td>3088</td>\n",
       "    </tr>\n",
       "    <tr>\n",
       "      <th>262</th>\n",
       "      <td>ENVO:0003094</td>\n",
       "      <td>ENVO:00003081</td>\n",
       "      <td>ENVO</td>\n",
       "      <td>0003094</td>\n",
       "      <td>3094</td>\n",
       "    </tr>\n",
       "    <tr>\n",
       "      <th>...</th>\n",
       "      <td>...</td>\n",
       "      <td>...</td>\n",
       "      <td>...</td>\n",
       "      <td>...</td>\n",
       "      <td>...</td>\n",
       "    </tr>\n",
       "    <tr>\n",
       "      <th>5030</th>\n",
       "      <td>ENVO:01001445</td>\n",
       "      <td>ENVO:01001430</td>\n",
       "      <td>ENVO</td>\n",
       "      <td>01001445</td>\n",
       "      <td>1001445</td>\n",
       "    </tr>\n",
       "    <tr>\n",
       "      <th>5112</th>\n",
       "      <td>ENVO:01001438</td>\n",
       "      <td>ENVO:01001430</td>\n",
       "      <td>ENVO</td>\n",
       "      <td>01001438</td>\n",
       "      <td>1001438</td>\n",
       "    </tr>\n",
       "    <tr>\n",
       "      <th>5121</th>\n",
       "      <td>ENVO:02500039</td>\n",
       "      <td>ENVO:02500038</td>\n",
       "      <td>ENVO</td>\n",
       "      <td>02500039</td>\n",
       "      <td>2500039</td>\n",
       "    </tr>\n",
       "    <tr>\n",
       "      <th>5180</th>\n",
       "      <td>ENVO:01001457</td>\n",
       "      <td>ENVO:01001430</td>\n",
       "      <td>ENVO</td>\n",
       "      <td>01001457</td>\n",
       "      <td>1001457</td>\n",
       "    </tr>\n",
       "    <tr>\n",
       "      <th>5291</th>\n",
       "      <td>ENVO:00002040</td>\n",
       "      <td>ENVO:00000109</td>\n",
       "      <td>ENVO</td>\n",
       "      <td>00002040</td>\n",
       "      <td>2040</td>\n",
       "    </tr>\n",
       "  </tbody>\n",
       "</table>\n",
       "<p>82 rows × 5 columns</p>\n",
       "</div>"
      ]
     },
     "execution_count": 1517,
     "metadata": {},
     "output_type": "execute_result"
    }
   ],
   "execution_count": 1517
  },
  {
   "cell_type": "code",
   "id": "fae831b04ed985ef",
   "metadata": {
    "ExecuteTime": {
     "end_time": "2024-12-13T21:28:34.487847Z",
     "start_time": "2024-12-13T21:28:34.483523Z"
    }
   },
   "source": [
    "# Ensure extracted_local_id_int is unique and sorted\n",
    "unique_sorted_series = double_curie_frame['extracted_local_id_int'].dropna().drop_duplicates().sort_values()\n"
   ],
   "outputs": [],
   "execution_count": 1518
  },
  {
   "cell_type": "code",
   "id": "d244d7b150a3b413",
   "metadata": {
    "ExecuteTime": {
     "end_time": "2024-12-13T21:28:34.494879Z",
     "start_time": "2024-12-13T21:28:34.489750Z"
    }
   },
   "source": [
    "# Find stretches\n",
    "stretches_dict = find_consecutive_stretches_dict(unique_sorted_series)\n"
   ],
   "outputs": [],
   "execution_count": 1519
  },
  {
   "cell_type": "code",
   "id": "2fda8122842f63c0",
   "metadata": {
    "ExecuteTime": {
     "end_time": "2024-12-13T21:28:34.499049Z",
     "start_time": "2024-12-13T21:28:34.496255Z"
    }
   },
   "source": [
    "# Convert the stretches dictionary into a DataFrame\n",
    "stretches_df = stretches_dict_to_long_dataframe(stretches_dict)"
   ],
   "outputs": [],
   "execution_count": 1520
  },
  {
   "metadata": {},
   "cell_type": "markdown",
   "source": [
    "`stretches_df` shows groups of extracted EnvoO ids (CURIes without prefix or padding zeros) that share a common CURIe by oaklib annotation of the textual part. This may not be the best or only way to address these spurious drag-stretch, auto-incremented CURIes\n",
    "\n",
    "Ie 1001458 corresponds to ENVO:01001458, 'mist'\n",
    "\n",
    "_although it theoretically could have been ENVO:1001458 since EnvO CURIes can have 7 or 8 digits_\n",
    "\n",
    "In group 9, there are another ~ 50 sequential id values, all corresponding to environmental context annotations whose best oak-annotated class is ENVO:01001803, 'tropical forest'!\n",
    "\n",
    "How much of an impact does this have? "
   ],
   "id": "22f0c242c2505f2b"
  },
  {
   "cell_type": "code",
   "id": "367abafc0ae13a6d",
   "metadata": {
    "ExecuteTime": {
     "end_time": "2024-12-13T21:28:34.508907Z",
     "start_time": "2024-12-13T21:28:34.500407Z"
    }
   },
   "source": [
    "stretches_df"
   ],
   "outputs": [
    {
     "data": {
      "text/plain": [
       "    stretch_id    value\n",
       "0            1     3081\n",
       "1            1     3082\n",
       "2            1     3083\n",
       "3            1     3084\n",
       "4            1     3085\n",
       "5            1     3086\n",
       "6            1     3087\n",
       "7            1     3088\n",
       "8            1     3089\n",
       "9            1     3090\n",
       "10           1     3091\n",
       "11           1     3092\n",
       "12           1     3093\n",
       "13           1     3094\n",
       "14           1     3095\n",
       "15           1     3096\n",
       "16           1     3097\n",
       "17           1     3098\n",
       "18           1     3099\n",
       "19           1     3100\n",
       "20           1     3101\n",
       "21           2  1001430\n",
       "22           2  1001431\n",
       "23           2  1001432\n",
       "24           2  1001433\n",
       "25           2  1001434\n",
       "26           2  1001435\n",
       "27           2  1001436\n",
       "28           2  1001437\n",
       "29           2  1001438\n",
       "30           2  1001439\n",
       "31           2  1001440\n",
       "32           2  1001441\n",
       "33           2  1001442\n",
       "34           2  1001443\n",
       "35           2  1001444\n",
       "36           2  1001445\n",
       "37           2  1001446\n",
       "38           2  1001447\n",
       "39           2  1001448\n",
       "40           2  1001449\n",
       "41           2  1001450\n",
       "42           2  1001451\n",
       "43           2  1001452\n",
       "44           2  1001453\n",
       "45           2  1001454\n",
       "46           2  1001455\n",
       "47           2  1001456\n",
       "48           2  1001457\n",
       "49           2  1001458\n",
       "50           2  1001459\n",
       "51           2  1001460\n",
       "52           2  1001461\n",
       "53           2  1001462\n",
       "54           2  1001463"
      ],
      "text/html": [
       "<div>\n",
       "<style scoped>\n",
       "    .dataframe tbody tr th:only-of-type {\n",
       "        vertical-align: middle;\n",
       "    }\n",
       "\n",
       "    .dataframe tbody tr th {\n",
       "        vertical-align: top;\n",
       "    }\n",
       "\n",
       "    .dataframe thead th {\n",
       "        text-align: right;\n",
       "    }\n",
       "</style>\n",
       "<table border=\"1\" class=\"dataframe\">\n",
       "  <thead>\n",
       "    <tr style=\"text-align: right;\">\n",
       "      <th></th>\n",
       "      <th>stretch_id</th>\n",
       "      <th>value</th>\n",
       "    </tr>\n",
       "  </thead>\n",
       "  <tbody>\n",
       "    <tr>\n",
       "      <th>0</th>\n",
       "      <td>1</td>\n",
       "      <td>3081</td>\n",
       "    </tr>\n",
       "    <tr>\n",
       "      <th>1</th>\n",
       "      <td>1</td>\n",
       "      <td>3082</td>\n",
       "    </tr>\n",
       "    <tr>\n",
       "      <th>2</th>\n",
       "      <td>1</td>\n",
       "      <td>3083</td>\n",
       "    </tr>\n",
       "    <tr>\n",
       "      <th>3</th>\n",
       "      <td>1</td>\n",
       "      <td>3084</td>\n",
       "    </tr>\n",
       "    <tr>\n",
       "      <th>4</th>\n",
       "      <td>1</td>\n",
       "      <td>3085</td>\n",
       "    </tr>\n",
       "    <tr>\n",
       "      <th>5</th>\n",
       "      <td>1</td>\n",
       "      <td>3086</td>\n",
       "    </tr>\n",
       "    <tr>\n",
       "      <th>6</th>\n",
       "      <td>1</td>\n",
       "      <td>3087</td>\n",
       "    </tr>\n",
       "    <tr>\n",
       "      <th>7</th>\n",
       "      <td>1</td>\n",
       "      <td>3088</td>\n",
       "    </tr>\n",
       "    <tr>\n",
       "      <th>8</th>\n",
       "      <td>1</td>\n",
       "      <td>3089</td>\n",
       "    </tr>\n",
       "    <tr>\n",
       "      <th>9</th>\n",
       "      <td>1</td>\n",
       "      <td>3090</td>\n",
       "    </tr>\n",
       "    <tr>\n",
       "      <th>10</th>\n",
       "      <td>1</td>\n",
       "      <td>3091</td>\n",
       "    </tr>\n",
       "    <tr>\n",
       "      <th>11</th>\n",
       "      <td>1</td>\n",
       "      <td>3092</td>\n",
       "    </tr>\n",
       "    <tr>\n",
       "      <th>12</th>\n",
       "      <td>1</td>\n",
       "      <td>3093</td>\n",
       "    </tr>\n",
       "    <tr>\n",
       "      <th>13</th>\n",
       "      <td>1</td>\n",
       "      <td>3094</td>\n",
       "    </tr>\n",
       "    <tr>\n",
       "      <th>14</th>\n",
       "      <td>1</td>\n",
       "      <td>3095</td>\n",
       "    </tr>\n",
       "    <tr>\n",
       "      <th>15</th>\n",
       "      <td>1</td>\n",
       "      <td>3096</td>\n",
       "    </tr>\n",
       "    <tr>\n",
       "      <th>16</th>\n",
       "      <td>1</td>\n",
       "      <td>3097</td>\n",
       "    </tr>\n",
       "    <tr>\n",
       "      <th>17</th>\n",
       "      <td>1</td>\n",
       "      <td>3098</td>\n",
       "    </tr>\n",
       "    <tr>\n",
       "      <th>18</th>\n",
       "      <td>1</td>\n",
       "      <td>3099</td>\n",
       "    </tr>\n",
       "    <tr>\n",
       "      <th>19</th>\n",
       "      <td>1</td>\n",
       "      <td>3100</td>\n",
       "    </tr>\n",
       "    <tr>\n",
       "      <th>20</th>\n",
       "      <td>1</td>\n",
       "      <td>3101</td>\n",
       "    </tr>\n",
       "    <tr>\n",
       "      <th>21</th>\n",
       "      <td>2</td>\n",
       "      <td>1001430</td>\n",
       "    </tr>\n",
       "    <tr>\n",
       "      <th>22</th>\n",
       "      <td>2</td>\n",
       "      <td>1001431</td>\n",
       "    </tr>\n",
       "    <tr>\n",
       "      <th>23</th>\n",
       "      <td>2</td>\n",
       "      <td>1001432</td>\n",
       "    </tr>\n",
       "    <tr>\n",
       "      <th>24</th>\n",
       "      <td>2</td>\n",
       "      <td>1001433</td>\n",
       "    </tr>\n",
       "    <tr>\n",
       "      <th>25</th>\n",
       "      <td>2</td>\n",
       "      <td>1001434</td>\n",
       "    </tr>\n",
       "    <tr>\n",
       "      <th>26</th>\n",
       "      <td>2</td>\n",
       "      <td>1001435</td>\n",
       "    </tr>\n",
       "    <tr>\n",
       "      <th>27</th>\n",
       "      <td>2</td>\n",
       "      <td>1001436</td>\n",
       "    </tr>\n",
       "    <tr>\n",
       "      <th>28</th>\n",
       "      <td>2</td>\n",
       "      <td>1001437</td>\n",
       "    </tr>\n",
       "    <tr>\n",
       "      <th>29</th>\n",
       "      <td>2</td>\n",
       "      <td>1001438</td>\n",
       "    </tr>\n",
       "    <tr>\n",
       "      <th>30</th>\n",
       "      <td>2</td>\n",
       "      <td>1001439</td>\n",
       "    </tr>\n",
       "    <tr>\n",
       "      <th>31</th>\n",
       "      <td>2</td>\n",
       "      <td>1001440</td>\n",
       "    </tr>\n",
       "    <tr>\n",
       "      <th>32</th>\n",
       "      <td>2</td>\n",
       "      <td>1001441</td>\n",
       "    </tr>\n",
       "    <tr>\n",
       "      <th>33</th>\n",
       "      <td>2</td>\n",
       "      <td>1001442</td>\n",
       "    </tr>\n",
       "    <tr>\n",
       "      <th>34</th>\n",
       "      <td>2</td>\n",
       "      <td>1001443</td>\n",
       "    </tr>\n",
       "    <tr>\n",
       "      <th>35</th>\n",
       "      <td>2</td>\n",
       "      <td>1001444</td>\n",
       "    </tr>\n",
       "    <tr>\n",
       "      <th>36</th>\n",
       "      <td>2</td>\n",
       "      <td>1001445</td>\n",
       "    </tr>\n",
       "    <tr>\n",
       "      <th>37</th>\n",
       "      <td>2</td>\n",
       "      <td>1001446</td>\n",
       "    </tr>\n",
       "    <tr>\n",
       "      <th>38</th>\n",
       "      <td>2</td>\n",
       "      <td>1001447</td>\n",
       "    </tr>\n",
       "    <tr>\n",
       "      <th>39</th>\n",
       "      <td>2</td>\n",
       "      <td>1001448</td>\n",
       "    </tr>\n",
       "    <tr>\n",
       "      <th>40</th>\n",
       "      <td>2</td>\n",
       "      <td>1001449</td>\n",
       "    </tr>\n",
       "    <tr>\n",
       "      <th>41</th>\n",
       "      <td>2</td>\n",
       "      <td>1001450</td>\n",
       "    </tr>\n",
       "    <tr>\n",
       "      <th>42</th>\n",
       "      <td>2</td>\n",
       "      <td>1001451</td>\n",
       "    </tr>\n",
       "    <tr>\n",
       "      <th>43</th>\n",
       "      <td>2</td>\n",
       "      <td>1001452</td>\n",
       "    </tr>\n",
       "    <tr>\n",
       "      <th>44</th>\n",
       "      <td>2</td>\n",
       "      <td>1001453</td>\n",
       "    </tr>\n",
       "    <tr>\n",
       "      <th>45</th>\n",
       "      <td>2</td>\n",
       "      <td>1001454</td>\n",
       "    </tr>\n",
       "    <tr>\n",
       "      <th>46</th>\n",
       "      <td>2</td>\n",
       "      <td>1001455</td>\n",
       "    </tr>\n",
       "    <tr>\n",
       "      <th>47</th>\n",
       "      <td>2</td>\n",
       "      <td>1001456</td>\n",
       "    </tr>\n",
       "    <tr>\n",
       "      <th>48</th>\n",
       "      <td>2</td>\n",
       "      <td>1001457</td>\n",
       "    </tr>\n",
       "    <tr>\n",
       "      <th>49</th>\n",
       "      <td>2</td>\n",
       "      <td>1001458</td>\n",
       "    </tr>\n",
       "    <tr>\n",
       "      <th>50</th>\n",
       "      <td>2</td>\n",
       "      <td>1001459</td>\n",
       "    </tr>\n",
       "    <tr>\n",
       "      <th>51</th>\n",
       "      <td>2</td>\n",
       "      <td>1001460</td>\n",
       "    </tr>\n",
       "    <tr>\n",
       "      <th>52</th>\n",
       "      <td>2</td>\n",
       "      <td>1001461</td>\n",
       "    </tr>\n",
       "    <tr>\n",
       "      <th>53</th>\n",
       "      <td>2</td>\n",
       "      <td>1001462</td>\n",
       "    </tr>\n",
       "    <tr>\n",
       "      <th>54</th>\n",
       "      <td>2</td>\n",
       "      <td>1001463</td>\n",
       "    </tr>\n",
       "  </tbody>\n",
       "</table>\n",
       "</div>"
      ]
     },
     "execution_count": 1521,
     "metadata": {},
     "output_type": "execute_result"
    }
   ],
   "execution_count": 1521
  },
  {
   "cell_type": "code",
   "id": "8ee27ecc0697a5f5",
   "metadata": {
    "ExecuteTime": {
     "end_time": "2024-12-13T21:28:34.515643Z",
     "start_time": "2024-12-13T21:28:34.510224Z"
    }
   },
   "source": [
    "# Perform the left merge\n",
    "double_curie_frame = double_curie_frame.merge(\n",
    "    stretches_df,\n",
    "    left_on='extracted_local_id_int',\n",
    "    right_on='value',\n",
    "    how='left'\n",
    ")"
   ],
   "outputs": [],
   "execution_count": 1522
  },
  {
   "cell_type": "code",
   "id": "59e278981b799f14",
   "metadata": {
    "ExecuteTime": {
     "end_time": "2024-12-13T21:28:34.525339Z",
     "start_time": "2024-12-13T21:28:34.517385Z"
    }
   },
   "source": [
    "stretch_summary_df = summarize_stretch_groups(double_curie_frame)\n"
   ],
   "outputs": [],
   "execution_count": 1523
  },
  {
   "metadata": {},
   "cell_type": "markdown",
   "source": "For stretch 9, which included extracted CURIes from ENVO:01001458 to ENVO:01001511, the oaklib test annotation of 100% of the submitted environmental context annotations was ENVO:01001803, so we will keep that and disregard all of the CURIes from the stretch\n",
   "id": "46a141c88d2f24a8"
  },
  {
   "cell_type": "code",
   "id": "cee6e3ff1e1ca0d3",
   "metadata": {
    "ExecuteTime": {
     "end_time": "2024-12-13T21:28:34.535413Z",
     "start_time": "2024-12-13T21:28:34.527242Z"
    }
   },
   "source": [
    "stretch_summary_df"
   ],
   "outputs": [
    {
     "data": {
      "text/plain": [
       "   stretch_id most_common_longest_annotation_curie  fraction\n",
       "0         1.0                        ENVO:00003081  1.000000\n",
       "1         2.0                        ENVO:01001430  0.942857"
      ],
      "text/html": [
       "<div>\n",
       "<style scoped>\n",
       "    .dataframe tbody tr th:only-of-type {\n",
       "        vertical-align: middle;\n",
       "    }\n",
       "\n",
       "    .dataframe tbody tr th {\n",
       "        vertical-align: top;\n",
       "    }\n",
       "\n",
       "    .dataframe thead th {\n",
       "        text-align: right;\n",
       "    }\n",
       "</style>\n",
       "<table border=\"1\" class=\"dataframe\">\n",
       "  <thead>\n",
       "    <tr style=\"text-align: right;\">\n",
       "      <th></th>\n",
       "      <th>stretch_id</th>\n",
       "      <th>most_common_longest_annotation_curie</th>\n",
       "      <th>fraction</th>\n",
       "    </tr>\n",
       "  </thead>\n",
       "  <tbody>\n",
       "    <tr>\n",
       "      <th>0</th>\n",
       "      <td>1.0</td>\n",
       "      <td>ENVO:00003081</td>\n",
       "      <td>1.000000</td>\n",
       "    </tr>\n",
       "    <tr>\n",
       "      <th>1</th>\n",
       "      <td>2.0</td>\n",
       "      <td>ENVO:01001430</td>\n",
       "      <td>0.942857</td>\n",
       "    </tr>\n",
       "  </tbody>\n",
       "</table>\n",
       "</div>"
      ]
     },
     "execution_count": 1524,
     "metadata": {},
     "output_type": "execute_result"
    }
   ],
   "execution_count": 1524
  },
  {
   "metadata": {
    "ExecuteTime": {
     "end_time": "2024-12-13T21:28:34.540405Z",
     "start_time": "2024-12-13T21:28:34.537614Z"
    }
   },
   "cell_type": "code",
   "source": "decisive_fraction_threshold = 0.9",
   "id": "dcc5ba2adda9189f",
   "outputs": [],
   "execution_count": 1525
  },
  {
   "metadata": {
    "ExecuteTime": {
     "end_time": "2024-12-13T21:28:34.545717Z",
     "start_time": "2024-12-13T21:28:34.542330Z"
    }
   },
   "cell_type": "code",
   "source": "decisive_stretch_summary_df = stretch_summary_df[stretch_summary_df['fraction'] >= decisive_fraction_threshold]",
   "id": "529c6e4d71a8bf31",
   "outputs": [],
   "execution_count": 1526
  },
  {
   "metadata": {
    "ExecuteTime": {
     "end_time": "2024-12-13T21:28:34.556167Z",
     "start_time": "2024-12-13T21:28:34.547334Z"
    }
   },
   "cell_type": "code",
   "source": "decisive_stretch_summary_df",
   "id": "db568a6f50b6e0",
   "outputs": [
    {
     "data": {
      "text/plain": [
       "   stretch_id most_common_longest_annotation_curie  fraction\n",
       "0         1.0                        ENVO:00003081  1.000000\n",
       "1         2.0                        ENVO:01001430  0.942857"
      ],
      "text/html": [
       "<div>\n",
       "<style scoped>\n",
       "    .dataframe tbody tr th:only-of-type {\n",
       "        vertical-align: middle;\n",
       "    }\n",
       "\n",
       "    .dataframe tbody tr th {\n",
       "        vertical-align: top;\n",
       "    }\n",
       "\n",
       "    .dataframe thead th {\n",
       "        text-align: right;\n",
       "    }\n",
       "</style>\n",
       "<table border=\"1\" class=\"dataframe\">\n",
       "  <thead>\n",
       "    <tr style=\"text-align: right;\">\n",
       "      <th></th>\n",
       "      <th>stretch_id</th>\n",
       "      <th>most_common_longest_annotation_curie</th>\n",
       "      <th>fraction</th>\n",
       "    </tr>\n",
       "  </thead>\n",
       "  <tbody>\n",
       "    <tr>\n",
       "      <th>0</th>\n",
       "      <td>1.0</td>\n",
       "      <td>ENVO:00003081</td>\n",
       "      <td>1.000000</td>\n",
       "    </tr>\n",
       "    <tr>\n",
       "      <th>1</th>\n",
       "      <td>2.0</td>\n",
       "      <td>ENVO:01001430</td>\n",
       "      <td>0.942857</td>\n",
       "    </tr>\n",
       "  </tbody>\n",
       "</table>\n",
       "</div>"
      ]
     },
     "execution_count": 1527,
     "metadata": {},
     "output_type": "execute_result"
    }
   ],
   "execution_count": 1527
  },
  {
   "cell_type": "code",
   "id": "f47a58a1945943b8",
   "metadata": {
    "ExecuteTime": {
     "end_time": "2024-12-13T21:28:34.564273Z",
     "start_time": "2024-12-13T21:28:34.557818Z"
    }
   },
   "source": [
    "# Perform the left merge\n",
    "double_curie_frame = double_curie_frame.merge(\n",
    "    decisive_stretch_summary_df,\n",
    "    left_on='stretch_id',\n",
    "    right_on='stretch_id',\n",
    "    how='left'\n",
    ")"
   ],
   "outputs": [],
   "execution_count": 1528
  },
  {
   "metadata": {
    "ExecuteTime": {
     "end_time": "2024-12-13T21:28:34.582062Z",
     "start_time": "2024-12-13T21:28:34.566057Z"
    }
   },
   "cell_type": "code",
   "source": "double_curie_frame",
   "id": "babb21e01016715",
   "outputs": [
    {
     "data": {
      "text/plain": [
       "   extracted_curie longest_annotation_curie extracted_prefix  \\\n",
       "0    ENVO:01000245            ENVO:01000635             ENVO   \n",
       "1     ENVO:0003084            ENVO:00003081             ENVO   \n",
       "2     ENVO:0003100            ENVO:00003081             ENVO   \n",
       "3     ENVO:0003088            ENVO:00003081             ENVO   \n",
       "4     ENVO:0003094            ENVO:00003081             ENVO   \n",
       "..             ...                      ...              ...   \n",
       "77   ENVO:01001445            ENVO:01001430             ENVO   \n",
       "78   ENVO:01001438            ENVO:01001430             ENVO   \n",
       "79   ENVO:02500039            ENVO:02500038             ENVO   \n",
       "80   ENVO:01001457            ENVO:01001430             ENVO   \n",
       "81   ENVO:00002040            ENVO:00000109             ENVO   \n",
       "\n",
       "   extracted_local_id  extracted_local_id_int  stretch_id      value  \\\n",
       "0            01000245                 1000245         NaN        NaN   \n",
       "1             0003084                    3084         1.0     3084.0   \n",
       "2             0003100                    3100         1.0     3100.0   \n",
       "3             0003088                    3088         1.0     3088.0   \n",
       "4             0003094                    3094         1.0     3094.0   \n",
       "..                ...                     ...         ...        ...   \n",
       "77           01001445                 1001445         2.0  1001445.0   \n",
       "78           01001438                 1001438         2.0  1001438.0   \n",
       "79           02500039                 2500039         NaN        NaN   \n",
       "80           01001457                 1001457         2.0  1001457.0   \n",
       "81           00002040                    2040         NaN        NaN   \n",
       "\n",
       "   most_common_longest_annotation_curie  fraction  \n",
       "0                                   NaN       NaN  \n",
       "1                         ENVO:00003081  1.000000  \n",
       "2                         ENVO:00003081  1.000000  \n",
       "3                         ENVO:00003081  1.000000  \n",
       "4                         ENVO:00003081  1.000000  \n",
       "..                                  ...       ...  \n",
       "77                        ENVO:01001430  0.942857  \n",
       "78                        ENVO:01001430  0.942857  \n",
       "79                                  NaN       NaN  \n",
       "80                        ENVO:01001430  0.942857  \n",
       "81                                  NaN       NaN  \n",
       "\n",
       "[82 rows x 9 columns]"
      ],
      "text/html": [
       "<div>\n",
       "<style scoped>\n",
       "    .dataframe tbody tr th:only-of-type {\n",
       "        vertical-align: middle;\n",
       "    }\n",
       "\n",
       "    .dataframe tbody tr th {\n",
       "        vertical-align: top;\n",
       "    }\n",
       "\n",
       "    .dataframe thead th {\n",
       "        text-align: right;\n",
       "    }\n",
       "</style>\n",
       "<table border=\"1\" class=\"dataframe\">\n",
       "  <thead>\n",
       "    <tr style=\"text-align: right;\">\n",
       "      <th></th>\n",
       "      <th>extracted_curie</th>\n",
       "      <th>longest_annotation_curie</th>\n",
       "      <th>extracted_prefix</th>\n",
       "      <th>extracted_local_id</th>\n",
       "      <th>extracted_local_id_int</th>\n",
       "      <th>stretch_id</th>\n",
       "      <th>value</th>\n",
       "      <th>most_common_longest_annotation_curie</th>\n",
       "      <th>fraction</th>\n",
       "    </tr>\n",
       "  </thead>\n",
       "  <tbody>\n",
       "    <tr>\n",
       "      <th>0</th>\n",
       "      <td>ENVO:01000245</td>\n",
       "      <td>ENVO:01000635</td>\n",
       "      <td>ENVO</td>\n",
       "      <td>01000245</td>\n",
       "      <td>1000245</td>\n",
       "      <td>NaN</td>\n",
       "      <td>NaN</td>\n",
       "      <td>NaN</td>\n",
       "      <td>NaN</td>\n",
       "    </tr>\n",
       "    <tr>\n",
       "      <th>1</th>\n",
       "      <td>ENVO:0003084</td>\n",
       "      <td>ENVO:00003081</td>\n",
       "      <td>ENVO</td>\n",
       "      <td>0003084</td>\n",
       "      <td>3084</td>\n",
       "      <td>1.0</td>\n",
       "      <td>3084.0</td>\n",
       "      <td>ENVO:00003081</td>\n",
       "      <td>1.000000</td>\n",
       "    </tr>\n",
       "    <tr>\n",
       "      <th>2</th>\n",
       "      <td>ENVO:0003100</td>\n",
       "      <td>ENVO:00003081</td>\n",
       "      <td>ENVO</td>\n",
       "      <td>0003100</td>\n",
       "      <td>3100</td>\n",
       "      <td>1.0</td>\n",
       "      <td>3100.0</td>\n",
       "      <td>ENVO:00003081</td>\n",
       "      <td>1.000000</td>\n",
       "    </tr>\n",
       "    <tr>\n",
       "      <th>3</th>\n",
       "      <td>ENVO:0003088</td>\n",
       "      <td>ENVO:00003081</td>\n",
       "      <td>ENVO</td>\n",
       "      <td>0003088</td>\n",
       "      <td>3088</td>\n",
       "      <td>1.0</td>\n",
       "      <td>3088.0</td>\n",
       "      <td>ENVO:00003081</td>\n",
       "      <td>1.000000</td>\n",
       "    </tr>\n",
       "    <tr>\n",
       "      <th>4</th>\n",
       "      <td>ENVO:0003094</td>\n",
       "      <td>ENVO:00003081</td>\n",
       "      <td>ENVO</td>\n",
       "      <td>0003094</td>\n",
       "      <td>3094</td>\n",
       "      <td>1.0</td>\n",
       "      <td>3094.0</td>\n",
       "      <td>ENVO:00003081</td>\n",
       "      <td>1.000000</td>\n",
       "    </tr>\n",
       "    <tr>\n",
       "      <th>...</th>\n",
       "      <td>...</td>\n",
       "      <td>...</td>\n",
       "      <td>...</td>\n",
       "      <td>...</td>\n",
       "      <td>...</td>\n",
       "      <td>...</td>\n",
       "      <td>...</td>\n",
       "      <td>...</td>\n",
       "      <td>...</td>\n",
       "    </tr>\n",
       "    <tr>\n",
       "      <th>77</th>\n",
       "      <td>ENVO:01001445</td>\n",
       "      <td>ENVO:01001430</td>\n",
       "      <td>ENVO</td>\n",
       "      <td>01001445</td>\n",
       "      <td>1001445</td>\n",
       "      <td>2.0</td>\n",
       "      <td>1001445.0</td>\n",
       "      <td>ENVO:01001430</td>\n",
       "      <td>0.942857</td>\n",
       "    </tr>\n",
       "    <tr>\n",
       "      <th>78</th>\n",
       "      <td>ENVO:01001438</td>\n",
       "      <td>ENVO:01001430</td>\n",
       "      <td>ENVO</td>\n",
       "      <td>01001438</td>\n",
       "      <td>1001438</td>\n",
       "      <td>2.0</td>\n",
       "      <td>1001438.0</td>\n",
       "      <td>ENVO:01001430</td>\n",
       "      <td>0.942857</td>\n",
       "    </tr>\n",
       "    <tr>\n",
       "      <th>79</th>\n",
       "      <td>ENVO:02500039</td>\n",
       "      <td>ENVO:02500038</td>\n",
       "      <td>ENVO</td>\n",
       "      <td>02500039</td>\n",
       "      <td>2500039</td>\n",
       "      <td>NaN</td>\n",
       "      <td>NaN</td>\n",
       "      <td>NaN</td>\n",
       "      <td>NaN</td>\n",
       "    </tr>\n",
       "    <tr>\n",
       "      <th>80</th>\n",
       "      <td>ENVO:01001457</td>\n",
       "      <td>ENVO:01001430</td>\n",
       "      <td>ENVO</td>\n",
       "      <td>01001457</td>\n",
       "      <td>1001457</td>\n",
       "      <td>2.0</td>\n",
       "      <td>1001457.0</td>\n",
       "      <td>ENVO:01001430</td>\n",
       "      <td>0.942857</td>\n",
       "    </tr>\n",
       "    <tr>\n",
       "      <th>81</th>\n",
       "      <td>ENVO:00002040</td>\n",
       "      <td>ENVO:00000109</td>\n",
       "      <td>ENVO</td>\n",
       "      <td>00002040</td>\n",
       "      <td>2040</td>\n",
       "      <td>NaN</td>\n",
       "      <td>NaN</td>\n",
       "      <td>NaN</td>\n",
       "      <td>NaN</td>\n",
       "    </tr>\n",
       "  </tbody>\n",
       "</table>\n",
       "<p>82 rows × 9 columns</p>\n",
       "</div>"
      ]
     },
     "execution_count": 1529,
     "metadata": {},
     "output_type": "execute_result"
    }
   ],
   "execution_count": 1529
  },
  {
   "cell_type": "code",
   "id": "828f3be5ac6c0ab1",
   "metadata": {
    "ExecuteTime": {
     "end_time": "2024-12-13T21:28:34.589398Z",
     "start_time": "2024-12-13T21:28:34.583974Z"
    }
   },
   "source": [
    "drag_evidence_frame = double_curie_frame[double_curie_frame['stretch_id'] >= 1]\n",
    "drag_evidence_frame = drag_evidence_frame[['extracted_curie', 'longest_annotation_curie']]\n",
    "drag_evidence_frame['drag_evidence'] = True"
   ],
   "outputs": [],
   "execution_count": 1530
  },
  {
   "cell_type": "code",
   "id": "9907b1472af8731b",
   "metadata": {
    "ExecuteTime": {
     "end_time": "2024-12-13T21:28:34.603571Z",
     "start_time": "2024-12-13T21:28:34.591371Z"
    }
   },
   "source": [
    "drag_evidence_frame"
   ],
   "outputs": [
    {
     "data": {
      "text/plain": [
       "   extracted_curie longest_annotation_curie  drag_evidence\n",
       "1     ENVO:0003084            ENVO:00003081           True\n",
       "2     ENVO:0003100            ENVO:00003081           True\n",
       "3     ENVO:0003088            ENVO:00003081           True\n",
       "4     ENVO:0003094            ENVO:00003081           True\n",
       "5    ENVO:01001430            ENVO:00000077           True\n",
       "6     ENVO:0003101            ENVO:00003081           True\n",
       "8    ENVO:01001431            ENVO:01001430           True\n",
       "9     ENVO:0003081            ENVO:00003081           True\n",
       "10   ENVO:01001442            ENVO:01001246           True\n",
       "11    ENVO:0003099            ENVO:00003081           True\n",
       "12    ENVO:0003086            ENVO:00003081           True\n",
       "13    ENVO:0003093            ENVO:00003081           True\n",
       "14   ENVO:01001436            ENVO:01001430           True\n",
       "15    ENVO:0003083            ENVO:00003081           True\n",
       "16   ENVO:01001432            ENVO:01001430           True\n",
       "17    ENVO:0003091            ENVO:00003081           True\n",
       "18   ENVO:01001435            ENVO:01001430           True\n",
       "19    ENVO:0003089            ENVO:00003081           True\n",
       "20    ENVO:0003090            ENVO:00003081           True\n",
       "21   ENVO:01001433            ENVO:01001430           True\n",
       "22    ENVO:0003082            ENVO:00003081           True\n",
       "23    ENVO:0003087            ENVO:00003081           True\n",
       "24    ENVO:0003095            ENVO:00003081           True\n",
       "25    ENVO:0003092            ENVO:00003081           True\n",
       "26    ENVO:0003096            ENVO:00003081           True\n",
       "27    ENVO:0003097            ENVO:00003081           True\n",
       "28    ENVO:0003098            ENVO:00003081           True\n",
       "29   ENVO:01001434            ENVO:01001430           True\n",
       "30    ENVO:0003085            ENVO:00003081           True\n",
       "32   ENVO:01001462            ENVO:01001430           True\n",
       "33   ENVO:01001463            ENVO:01001430           True\n",
       "36   ENVO:01001454            ENVO:01001430           True\n",
       "38   ENVO:01001446            ENVO:01001430           True\n",
       "39   ENVO:01001437            ENVO:01001430           True\n",
       "41   ENVO:01001444            ENVO:01001430           True\n",
       "43   ENVO:01001461            ENVO:01001430           True\n",
       "44   ENVO:01001443            ENVO:01001430           True\n",
       "47   ENVO:01001450            ENVO:01001430           True\n",
       "48   ENVO:01001451            ENVO:01001430           True\n",
       "52   ENVO:01001440            ENVO:01001430           True\n",
       "53   ENVO:01001448            ENVO:01001430           True\n",
       "55   ENVO:01001458            ENVO:01001430           True\n",
       "57   ENVO:01001455            ENVO:01001430           True\n",
       "58   ENVO:01001447            ENVO:01001430           True\n",
       "59   ENVO:01001449            ENVO:01001430           True\n",
       "62   ENVO:01001452            ENVO:01001430           True\n",
       "63   ENVO:01001456            ENVO:01001430           True\n",
       "64   ENVO:01001460            ENVO:01001430           True\n",
       "65   ENVO:01001459            ENVO:01001430           True\n",
       "68   ENVO:01001439            ENVO:01001430           True\n",
       "69   ENVO:01001453            ENVO:01001430           True\n",
       "70   ENVO:01001441            ENVO:01001430           True\n",
       "73   ENVO:01001442            ENVO:01001430           True\n",
       "77   ENVO:01001445            ENVO:01001430           True\n",
       "78   ENVO:01001438            ENVO:01001430           True\n",
       "80   ENVO:01001457            ENVO:01001430           True"
      ],
      "text/html": [
       "<div>\n",
       "<style scoped>\n",
       "    .dataframe tbody tr th:only-of-type {\n",
       "        vertical-align: middle;\n",
       "    }\n",
       "\n",
       "    .dataframe tbody tr th {\n",
       "        vertical-align: top;\n",
       "    }\n",
       "\n",
       "    .dataframe thead th {\n",
       "        text-align: right;\n",
       "    }\n",
       "</style>\n",
       "<table border=\"1\" class=\"dataframe\">\n",
       "  <thead>\n",
       "    <tr style=\"text-align: right;\">\n",
       "      <th></th>\n",
       "      <th>extracted_curie</th>\n",
       "      <th>longest_annotation_curie</th>\n",
       "      <th>drag_evidence</th>\n",
       "    </tr>\n",
       "  </thead>\n",
       "  <tbody>\n",
       "    <tr>\n",
       "      <th>1</th>\n",
       "      <td>ENVO:0003084</td>\n",
       "      <td>ENVO:00003081</td>\n",
       "      <td>True</td>\n",
       "    </tr>\n",
       "    <tr>\n",
       "      <th>2</th>\n",
       "      <td>ENVO:0003100</td>\n",
       "      <td>ENVO:00003081</td>\n",
       "      <td>True</td>\n",
       "    </tr>\n",
       "    <tr>\n",
       "      <th>3</th>\n",
       "      <td>ENVO:0003088</td>\n",
       "      <td>ENVO:00003081</td>\n",
       "      <td>True</td>\n",
       "    </tr>\n",
       "    <tr>\n",
       "      <th>4</th>\n",
       "      <td>ENVO:0003094</td>\n",
       "      <td>ENVO:00003081</td>\n",
       "      <td>True</td>\n",
       "    </tr>\n",
       "    <tr>\n",
       "      <th>5</th>\n",
       "      <td>ENVO:01001430</td>\n",
       "      <td>ENVO:00000077</td>\n",
       "      <td>True</td>\n",
       "    </tr>\n",
       "    <tr>\n",
       "      <th>6</th>\n",
       "      <td>ENVO:0003101</td>\n",
       "      <td>ENVO:00003081</td>\n",
       "      <td>True</td>\n",
       "    </tr>\n",
       "    <tr>\n",
       "      <th>8</th>\n",
       "      <td>ENVO:01001431</td>\n",
       "      <td>ENVO:01001430</td>\n",
       "      <td>True</td>\n",
       "    </tr>\n",
       "    <tr>\n",
       "      <th>9</th>\n",
       "      <td>ENVO:0003081</td>\n",
       "      <td>ENVO:00003081</td>\n",
       "      <td>True</td>\n",
       "    </tr>\n",
       "    <tr>\n",
       "      <th>10</th>\n",
       "      <td>ENVO:01001442</td>\n",
       "      <td>ENVO:01001246</td>\n",
       "      <td>True</td>\n",
       "    </tr>\n",
       "    <tr>\n",
       "      <th>11</th>\n",
       "      <td>ENVO:0003099</td>\n",
       "      <td>ENVO:00003081</td>\n",
       "      <td>True</td>\n",
       "    </tr>\n",
       "    <tr>\n",
       "      <th>12</th>\n",
       "      <td>ENVO:0003086</td>\n",
       "      <td>ENVO:00003081</td>\n",
       "      <td>True</td>\n",
       "    </tr>\n",
       "    <tr>\n",
       "      <th>13</th>\n",
       "      <td>ENVO:0003093</td>\n",
       "      <td>ENVO:00003081</td>\n",
       "      <td>True</td>\n",
       "    </tr>\n",
       "    <tr>\n",
       "      <th>14</th>\n",
       "      <td>ENVO:01001436</td>\n",
       "      <td>ENVO:01001430</td>\n",
       "      <td>True</td>\n",
       "    </tr>\n",
       "    <tr>\n",
       "      <th>15</th>\n",
       "      <td>ENVO:0003083</td>\n",
       "      <td>ENVO:00003081</td>\n",
       "      <td>True</td>\n",
       "    </tr>\n",
       "    <tr>\n",
       "      <th>16</th>\n",
       "      <td>ENVO:01001432</td>\n",
       "      <td>ENVO:01001430</td>\n",
       "      <td>True</td>\n",
       "    </tr>\n",
       "    <tr>\n",
       "      <th>17</th>\n",
       "      <td>ENVO:0003091</td>\n",
       "      <td>ENVO:00003081</td>\n",
       "      <td>True</td>\n",
       "    </tr>\n",
       "    <tr>\n",
       "      <th>18</th>\n",
       "      <td>ENVO:01001435</td>\n",
       "      <td>ENVO:01001430</td>\n",
       "      <td>True</td>\n",
       "    </tr>\n",
       "    <tr>\n",
       "      <th>19</th>\n",
       "      <td>ENVO:0003089</td>\n",
       "      <td>ENVO:00003081</td>\n",
       "      <td>True</td>\n",
       "    </tr>\n",
       "    <tr>\n",
       "      <th>20</th>\n",
       "      <td>ENVO:0003090</td>\n",
       "      <td>ENVO:00003081</td>\n",
       "      <td>True</td>\n",
       "    </tr>\n",
       "    <tr>\n",
       "      <th>21</th>\n",
       "      <td>ENVO:01001433</td>\n",
       "      <td>ENVO:01001430</td>\n",
       "      <td>True</td>\n",
       "    </tr>\n",
       "    <tr>\n",
       "      <th>22</th>\n",
       "      <td>ENVO:0003082</td>\n",
       "      <td>ENVO:00003081</td>\n",
       "      <td>True</td>\n",
       "    </tr>\n",
       "    <tr>\n",
       "      <th>23</th>\n",
       "      <td>ENVO:0003087</td>\n",
       "      <td>ENVO:00003081</td>\n",
       "      <td>True</td>\n",
       "    </tr>\n",
       "    <tr>\n",
       "      <th>24</th>\n",
       "      <td>ENVO:0003095</td>\n",
       "      <td>ENVO:00003081</td>\n",
       "      <td>True</td>\n",
       "    </tr>\n",
       "    <tr>\n",
       "      <th>25</th>\n",
       "      <td>ENVO:0003092</td>\n",
       "      <td>ENVO:00003081</td>\n",
       "      <td>True</td>\n",
       "    </tr>\n",
       "    <tr>\n",
       "      <th>26</th>\n",
       "      <td>ENVO:0003096</td>\n",
       "      <td>ENVO:00003081</td>\n",
       "      <td>True</td>\n",
       "    </tr>\n",
       "    <tr>\n",
       "      <th>27</th>\n",
       "      <td>ENVO:0003097</td>\n",
       "      <td>ENVO:00003081</td>\n",
       "      <td>True</td>\n",
       "    </tr>\n",
       "    <tr>\n",
       "      <th>28</th>\n",
       "      <td>ENVO:0003098</td>\n",
       "      <td>ENVO:00003081</td>\n",
       "      <td>True</td>\n",
       "    </tr>\n",
       "    <tr>\n",
       "      <th>29</th>\n",
       "      <td>ENVO:01001434</td>\n",
       "      <td>ENVO:01001430</td>\n",
       "      <td>True</td>\n",
       "    </tr>\n",
       "    <tr>\n",
       "      <th>30</th>\n",
       "      <td>ENVO:0003085</td>\n",
       "      <td>ENVO:00003081</td>\n",
       "      <td>True</td>\n",
       "    </tr>\n",
       "    <tr>\n",
       "      <th>32</th>\n",
       "      <td>ENVO:01001462</td>\n",
       "      <td>ENVO:01001430</td>\n",
       "      <td>True</td>\n",
       "    </tr>\n",
       "    <tr>\n",
       "      <th>33</th>\n",
       "      <td>ENVO:01001463</td>\n",
       "      <td>ENVO:01001430</td>\n",
       "      <td>True</td>\n",
       "    </tr>\n",
       "    <tr>\n",
       "      <th>36</th>\n",
       "      <td>ENVO:01001454</td>\n",
       "      <td>ENVO:01001430</td>\n",
       "      <td>True</td>\n",
       "    </tr>\n",
       "    <tr>\n",
       "      <th>38</th>\n",
       "      <td>ENVO:01001446</td>\n",
       "      <td>ENVO:01001430</td>\n",
       "      <td>True</td>\n",
       "    </tr>\n",
       "    <tr>\n",
       "      <th>39</th>\n",
       "      <td>ENVO:01001437</td>\n",
       "      <td>ENVO:01001430</td>\n",
       "      <td>True</td>\n",
       "    </tr>\n",
       "    <tr>\n",
       "      <th>41</th>\n",
       "      <td>ENVO:01001444</td>\n",
       "      <td>ENVO:01001430</td>\n",
       "      <td>True</td>\n",
       "    </tr>\n",
       "    <tr>\n",
       "      <th>43</th>\n",
       "      <td>ENVO:01001461</td>\n",
       "      <td>ENVO:01001430</td>\n",
       "      <td>True</td>\n",
       "    </tr>\n",
       "    <tr>\n",
       "      <th>44</th>\n",
       "      <td>ENVO:01001443</td>\n",
       "      <td>ENVO:01001430</td>\n",
       "      <td>True</td>\n",
       "    </tr>\n",
       "    <tr>\n",
       "      <th>47</th>\n",
       "      <td>ENVO:01001450</td>\n",
       "      <td>ENVO:01001430</td>\n",
       "      <td>True</td>\n",
       "    </tr>\n",
       "    <tr>\n",
       "      <th>48</th>\n",
       "      <td>ENVO:01001451</td>\n",
       "      <td>ENVO:01001430</td>\n",
       "      <td>True</td>\n",
       "    </tr>\n",
       "    <tr>\n",
       "      <th>52</th>\n",
       "      <td>ENVO:01001440</td>\n",
       "      <td>ENVO:01001430</td>\n",
       "      <td>True</td>\n",
       "    </tr>\n",
       "    <tr>\n",
       "      <th>53</th>\n",
       "      <td>ENVO:01001448</td>\n",
       "      <td>ENVO:01001430</td>\n",
       "      <td>True</td>\n",
       "    </tr>\n",
       "    <tr>\n",
       "      <th>55</th>\n",
       "      <td>ENVO:01001458</td>\n",
       "      <td>ENVO:01001430</td>\n",
       "      <td>True</td>\n",
       "    </tr>\n",
       "    <tr>\n",
       "      <th>57</th>\n",
       "      <td>ENVO:01001455</td>\n",
       "      <td>ENVO:01001430</td>\n",
       "      <td>True</td>\n",
       "    </tr>\n",
       "    <tr>\n",
       "      <th>58</th>\n",
       "      <td>ENVO:01001447</td>\n",
       "      <td>ENVO:01001430</td>\n",
       "      <td>True</td>\n",
       "    </tr>\n",
       "    <tr>\n",
       "      <th>59</th>\n",
       "      <td>ENVO:01001449</td>\n",
       "      <td>ENVO:01001430</td>\n",
       "      <td>True</td>\n",
       "    </tr>\n",
       "    <tr>\n",
       "      <th>62</th>\n",
       "      <td>ENVO:01001452</td>\n",
       "      <td>ENVO:01001430</td>\n",
       "      <td>True</td>\n",
       "    </tr>\n",
       "    <tr>\n",
       "      <th>63</th>\n",
       "      <td>ENVO:01001456</td>\n",
       "      <td>ENVO:01001430</td>\n",
       "      <td>True</td>\n",
       "    </tr>\n",
       "    <tr>\n",
       "      <th>64</th>\n",
       "      <td>ENVO:01001460</td>\n",
       "      <td>ENVO:01001430</td>\n",
       "      <td>True</td>\n",
       "    </tr>\n",
       "    <tr>\n",
       "      <th>65</th>\n",
       "      <td>ENVO:01001459</td>\n",
       "      <td>ENVO:01001430</td>\n",
       "      <td>True</td>\n",
       "    </tr>\n",
       "    <tr>\n",
       "      <th>68</th>\n",
       "      <td>ENVO:01001439</td>\n",
       "      <td>ENVO:01001430</td>\n",
       "      <td>True</td>\n",
       "    </tr>\n",
       "    <tr>\n",
       "      <th>69</th>\n",
       "      <td>ENVO:01001453</td>\n",
       "      <td>ENVO:01001430</td>\n",
       "      <td>True</td>\n",
       "    </tr>\n",
       "    <tr>\n",
       "      <th>70</th>\n",
       "      <td>ENVO:01001441</td>\n",
       "      <td>ENVO:01001430</td>\n",
       "      <td>True</td>\n",
       "    </tr>\n",
       "    <tr>\n",
       "      <th>73</th>\n",
       "      <td>ENVO:01001442</td>\n",
       "      <td>ENVO:01001430</td>\n",
       "      <td>True</td>\n",
       "    </tr>\n",
       "    <tr>\n",
       "      <th>77</th>\n",
       "      <td>ENVO:01001445</td>\n",
       "      <td>ENVO:01001430</td>\n",
       "      <td>True</td>\n",
       "    </tr>\n",
       "    <tr>\n",
       "      <th>78</th>\n",
       "      <td>ENVO:01001438</td>\n",
       "      <td>ENVO:01001430</td>\n",
       "      <td>True</td>\n",
       "    </tr>\n",
       "    <tr>\n",
       "      <th>80</th>\n",
       "      <td>ENVO:01001457</td>\n",
       "      <td>ENVO:01001430</td>\n",
       "      <td>True</td>\n",
       "    </tr>\n",
       "  </tbody>\n",
       "</table>\n",
       "</div>"
      ]
     },
     "execution_count": 1531,
     "metadata": {},
     "output_type": "execute_result"
    }
   ],
   "execution_count": 1531
  },
  {
   "cell_type": "code",
   "id": "9873eb1bc3ea44e5",
   "metadata": {
    "ExecuteTime": {
     "end_time": "2024-12-13T21:28:34.611938Z",
     "start_time": "2024-12-13T21:28:34.605362Z"
    }
   },
   "source": [
    "ncbi_frame = ncbi_frame.merge(\n",
    "    drag_evidence_frame,\n",
    "    left_on=['extracted_curie', 'longest_annotation_curie'],\n",
    "    right_on=['extracted_curie', 'longest_annotation_curie'],\n",
    "    how='left'\n",
    ")"
   ],
   "outputs": [],
   "execution_count": 1532
  },
  {
   "cell_type": "code",
   "id": "1d67b9e207b5531e",
   "metadata": {
    "ExecuteTime": {
     "end_time": "2024-12-13T21:28:34.927963Z",
     "start_time": "2024-12-13T21:28:34.613582Z"
    }
   },
   "source": [
    "# Initialize dragless_curie_list with curie_list values\n",
    "ncbi_frame[\"dragless_curie_list\"] = ncbi_frame[\"curie_list\"]\n",
    "\n",
    "# Update dragless_curie_list based on the condition\n",
    "for index, row in ncbi_frame.iterrows():\n",
    "    if row[\"drag_evidence\"] is True:\n",
    "        if row[\"longest_annotation_curie\"] is not None:\n",
    "            ncbi_frame.at[index, \"dragless_curie_list\"] = [row[\"longest_annotation_curie\"]]\n",
    "        else:\n",
    "            ncbi_frame.at[index, \"dragless_curie_list\"] = []\n",
    "\n",
    "ncbi_frame['dragless_curie_count'] = ncbi_frame['dragless_curie_list'].apply(len)"
   ],
   "outputs": [],
   "execution_count": 1533
  },
  {
   "cell_type": "code",
   "id": "fb7469cd6900edd7",
   "metadata": {
    "ExecuteTime": {
     "end_time": "2024-12-13T21:28:34.935893Z",
     "start_time": "2024-12-13T21:28:34.929626Z"
    }
   },
   "source": [
    "ncbi_frame['unique_curie_count'].value_counts()"
   ],
   "outputs": [
    {
     "data": {
      "text/plain": [
       "unique_curie_count\n",
       "0    2629\n",
       "1    2593\n",
       "2      85\n",
       "Name: count, dtype: int64"
      ]
     },
     "execution_count": 1534,
     "metadata": {},
     "output_type": "execute_result"
    }
   ],
   "execution_count": 1534
  },
  {
   "cell_type": "code",
   "id": "7626e42d5b746a2a",
   "metadata": {
    "ExecuteTime": {
     "end_time": "2024-12-13T21:28:34.944669Z",
     "start_time": "2024-12-13T21:28:34.937493Z"
    }
   },
   "source": [
    "ncbi_frame['dragless_curie_count'].value_counts()"
   ],
   "outputs": [
    {
     "data": {
      "text/plain": [
       "dragless_curie_count\n",
       "1    2649\n",
       "0    2629\n",
       "2      29\n",
       "Name: count, dtype: int64"
      ]
     },
     "execution_count": 1535,
     "metadata": {},
     "output_type": "execute_result"
    }
   ],
   "execution_count": 1535
  },
  {
   "metadata": {},
   "cell_type": "markdown",
   "source": [
    "## The extent of multiple detected CURIes has been reduced ~ 4.5 fold \n",
    "(for soil env_local_scale)\n",
    "\n",
    "Isolate the submitter annotations for which there's clearly one best CURIe after removing the drag-stretches"
   ],
   "id": "55ba8eda9fc69708"
  },
  {
   "cell_type": "code",
   "id": "bb3c0eeb8e919ac5",
   "metadata": {
    "ExecuteTime": {
     "end_time": "2024-12-13T21:28:34.950821Z",
     "start_time": "2024-12-13T21:28:34.946511Z"
    }
   },
   "source": [
    "ncbi_frame.shape"
   ],
   "outputs": [
    {
     "data": {
      "text/plain": [
       "(5307, 16)"
      ]
     },
     "execution_count": 1536,
     "metadata": {},
     "output_type": "execute_result"
    }
   ],
   "execution_count": 1536
  },
  {
   "cell_type": "code",
   "id": "653df3ac622d4e95",
   "metadata": {
    "ExecuteTime": {
     "end_time": "2024-12-13T21:28:34.974257Z",
     "start_time": "2024-12-13T21:28:34.968315Z"
    }
   },
   "source": [
    "ncbi_frame_undisputed = ncbi_frame[ncbi_frame['dragless_curie_count'] <= 1]"
   ],
   "outputs": [],
   "execution_count": 1537
  },
  {
   "cell_type": "code",
   "id": "2abdcbd301b484a9",
   "metadata": {
    "ExecuteTime": {
     "end_time": "2024-12-13T21:28:34.984440Z",
     "start_time": "2024-12-13T21:28:34.976175Z"
    }
   },
   "source": [
    "ncbi_frame_undisputed.shape"
   ],
   "outputs": [
    {
     "data": {
      "text/plain": [
       "(5278, 16)"
      ]
     },
     "execution_count": 1538,
     "metadata": {},
     "output_type": "execute_result"
    }
   ],
   "execution_count": 1538
  },
  {
   "cell_type": "code",
   "id": "57d0c3c05e88ea1e",
   "metadata": {
    "ExecuteTime": {
     "end_time": "2024-12-13T21:28:34.991524Z",
     "start_time": "2024-12-13T21:28:34.986273Z"
    }
   },
   "source": [
    "ncbi_frame_disputed = ncbi_frame[ncbi_frame['dragless_curie_count'] > 1]"
   ],
   "outputs": [],
   "execution_count": 1539
  },
  {
   "cell_type": "code",
   "id": "d0cf6796fedc7f8a",
   "metadata": {
    "ExecuteTime": {
     "end_time": "2024-12-13T21:28:34.998284Z",
     "start_time": "2024-12-13T21:28:34.993251Z"
    }
   },
   "source": [
    "ncbi_frame_disputed.shape"
   ],
   "outputs": [
    {
     "data": {
      "text/plain": [
       "(29, 16)"
      ]
     },
     "execution_count": 1540,
     "metadata": {},
     "output_type": "execute_result"
    }
   ],
   "execution_count": 1540
  },
  {
   "cell_type": "code",
   "id": "fe33fe1d6d2aad09",
   "metadata": {
    "ExecuteTime": {
     "end_time": "2024-12-13T21:28:35.007801Z",
     "start_time": "2024-12-13T21:28:35.000120Z"
    }
   },
   "source": [
    "ncbi_frame_disputed = ncbi_frame_disputed.explode(\"dragless_curie_list\", ignore_index=True)\n"
   ],
   "outputs": [],
   "execution_count": 1541
  },
  {
   "cell_type": "code",
   "id": "f8fe49b93cb12990",
   "metadata": {
    "ExecuteTime": {
     "end_time": "2024-12-13T21:28:35.015352Z",
     "start_time": "2024-12-13T21:28:35.010283Z"
    }
   },
   "source": [
    "ncbi_frame_disputed.shape"
   ],
   "outputs": [
    {
     "data": {
      "text/plain": [
       "(58, 16)"
      ]
     },
     "execution_count": 1542,
     "metadata": {},
     "output_type": "execute_result"
    }
   ],
   "execution_count": 1542
  },
  {
   "cell_type": "code",
   "id": "6896ca8dd3865cb5",
   "metadata": {
    "ExecuteTime": {
     "end_time": "2024-12-13T21:28:35.023335Z",
     "start_time": "2024-12-13T21:28:35.018349Z"
    }
   },
   "source": [
    "ncbi_frame_disputed[\"dragless_curie_list\"] = ncbi_frame_disputed[\"dragless_curie_list\"].apply(lambda x: [x])"
   ],
   "outputs": [],
   "execution_count": 1543
  },
  {
   "metadata": {},
   "cell_type": "markdown",
   "source": "## Just include all of the remaining disputed CURIe assignments",
   "id": "849c8845f5c378e7"
  },
  {
   "cell_type": "code",
   "id": "9a472d228624f148",
   "metadata": {
    "ExecuteTime": {
     "end_time": "2024-12-13T21:28:35.037109Z",
     "start_time": "2024-12-13T21:28:35.028364Z"
    }
   },
   "source": [
    "# Combine the rows of ncbi_frame_undisputed and ncbi_frame_disputed into a new DataFrame\n",
    "ncbi_disputes_exploded_frame = pd.concat([ncbi_frame_undisputed, ncbi_frame_disputed], ignore_index=True)\n"
   ],
   "outputs": [],
   "execution_count": 1544
  },
  {
   "cell_type": "code",
   "id": "e772d6db19793ec5",
   "metadata": {
    "ExecuteTime": {
     "end_time": "2024-12-13T21:28:35.047997Z",
     "start_time": "2024-12-13T21:28:35.039080Z"
    }
   },
   "source": [
    "ncbi_disputes_exploded_frame.shape"
   ],
   "outputs": [
    {
     "data": {
      "text/plain": [
       "(5336, 16)"
      ]
     },
     "execution_count": 1545,
     "metadata": {},
     "output_type": "execute_result"
    }
   ],
   "execution_count": 1545
  },
  {
   "cell_type": "code",
   "id": "ef0b5e69d724d94a",
   "metadata": {
    "ExecuteTime": {
     "end_time": "2024-12-13T21:28:35.074486Z",
     "start_time": "2024-12-13T21:28:35.050106Z"
    }
   },
   "source": [
    "ncbi_disputes_exploded_frame"
   ],
   "outputs": [
    {
     "data": {
      "text/plain": [
       "      serial_number                                            content  count  \\\n",
       "0                 1                                     not applicable    262   \n",
       "1                 2                                            missing    199   \n",
       "2                 3                                      not collected    127   \n",
       "3                 4                                            Orchard     87   \n",
       "4                 5                                                 NA     79   \n",
       "...             ...                                                ...    ...   \n",
       "5331           4874  cultivated environment [ENVO_01000311] rhizosp...      1   \n",
       "5332           5008  pond [ENVO:00000033]|shoreline [ENVO:00000486]...      1   \n",
       "5333           5008  pond [ENVO:00000033]|shoreline [ENVO:00000486]...      1   \n",
       "5334           5175                               wood [ENVO_00002040]      1   \n",
       "5335           5175                               wood [ENVO_00002040]      1   \n",
       "\n",
       "                                           content_list  content_count  \\\n",
       "0                                        not applicable              1   \n",
       "1                                               missing              1   \n",
       "2                                         not collected              1   \n",
       "3                                               Orchard              1   \n",
       "4                                                    NA              1   \n",
       "...                                                 ...            ...   \n",
       "5331  cultivated environment [ENVO_01000311] rhizosp...              1   \n",
       "5332                      soil pollution[ENVO:02500039]              4   \n",
       "5333                      soil pollution[ENVO:02500039]              4   \n",
       "5334                               wood [ENVO_00002040]              1   \n",
       "5335                               wood [ENVO_00002040]              1   \n",
       "\n",
       "      envo_count                                    extracted_label  \\\n",
       "0              0                                     not applicable   \n",
       "1              0                                            missing   \n",
       "2              0                                      not collected   \n",
       "3              0                                            Orchard   \n",
       "4              0                                                 NA   \n",
       "...          ...                                                ...   \n",
       "5331           2  cultivated environment [] rhizosphere environment   \n",
       "5332           1                                     soil pollution   \n",
       "5333           1                                     soil pollution   \n",
       "5334           1                                               wood   \n",
       "5335           1                                               wood   \n",
       "\n",
       "     extracted_curie              real_label longest_annotation_curie  \\\n",
       "0               None                    None                     None   \n",
       "1               None                    None                     None   \n",
       "2               None                    None                     None   \n",
       "3               None                    None            ENVO:00000115   \n",
       "4               None                    None                     None   \n",
       "...              ...                     ...                      ...   \n",
       "5331   ENVO:01000311  cultivated environment            ENVO:01000999   \n",
       "5332   ENVO:02500039         water pollution            ENVO:02500038   \n",
       "5333   ENVO:02500039         water pollution            ENVO:02500038   \n",
       "5334   ENVO:00002040                    wood            ENVO:00000109   \n",
       "5335   ENVO:00002040                    wood            ENVO:00000109   \n",
       "\n",
       "     longest_annotation_label                      curie_list  \\\n",
       "0                        None                              []   \n",
       "1                        None                              []   \n",
       "2                        None                              []   \n",
       "3                     orchard                 [ENVO:00000115]   \n",
       "4                        None                              []   \n",
       "...                       ...                             ...   \n",
       "5331  rhizosphere environment  [ENVO:01000311, ENVO:01000999]   \n",
       "5332           soil pollution  [ENVO:02500038, ENVO:02500039]   \n",
       "5333           soil pollution  [ENVO:02500038, ENVO:02500039]   \n",
       "5334            woodland area  [ENVO:00002040, ENVO:00000109]   \n",
       "5335            woodland area  [ENVO:00002040, ENVO:00000109]   \n",
       "\n",
       "      unique_curie_count drag_evidence dragless_curie_list  \\\n",
       "0                      0           NaN                  []   \n",
       "1                      0           NaN                  []   \n",
       "2                      0           NaN                  []   \n",
       "3                      1           NaN     [ENVO:00000115]   \n",
       "4                      0           NaN                  []   \n",
       "...                  ...           ...                 ...   \n",
       "5331                   2           NaN     [ENVO:01000999]   \n",
       "5332                   2           NaN     [ENVO:02500038]   \n",
       "5333                   2           NaN     [ENVO:02500039]   \n",
       "5334                   2           NaN     [ENVO:00002040]   \n",
       "5335                   2           NaN     [ENVO:00000109]   \n",
       "\n",
       "      dragless_curie_count  \n",
       "0                        0  \n",
       "1                        0  \n",
       "2                        0  \n",
       "3                        1  \n",
       "4                        0  \n",
       "...                    ...  \n",
       "5331                     2  \n",
       "5332                     2  \n",
       "5333                     2  \n",
       "5334                     2  \n",
       "5335                     2  \n",
       "\n",
       "[5336 rows x 16 columns]"
      ],
      "text/html": [
       "<div>\n",
       "<style scoped>\n",
       "    .dataframe tbody tr th:only-of-type {\n",
       "        vertical-align: middle;\n",
       "    }\n",
       "\n",
       "    .dataframe tbody tr th {\n",
       "        vertical-align: top;\n",
       "    }\n",
       "\n",
       "    .dataframe thead th {\n",
       "        text-align: right;\n",
       "    }\n",
       "</style>\n",
       "<table border=\"1\" class=\"dataframe\">\n",
       "  <thead>\n",
       "    <tr style=\"text-align: right;\">\n",
       "      <th></th>\n",
       "      <th>serial_number</th>\n",
       "      <th>content</th>\n",
       "      <th>count</th>\n",
       "      <th>content_list</th>\n",
       "      <th>content_count</th>\n",
       "      <th>envo_count</th>\n",
       "      <th>extracted_label</th>\n",
       "      <th>extracted_curie</th>\n",
       "      <th>real_label</th>\n",
       "      <th>longest_annotation_curie</th>\n",
       "      <th>longest_annotation_label</th>\n",
       "      <th>curie_list</th>\n",
       "      <th>unique_curie_count</th>\n",
       "      <th>drag_evidence</th>\n",
       "      <th>dragless_curie_list</th>\n",
       "      <th>dragless_curie_count</th>\n",
       "    </tr>\n",
       "  </thead>\n",
       "  <tbody>\n",
       "    <tr>\n",
       "      <th>0</th>\n",
       "      <td>1</td>\n",
       "      <td>not applicable</td>\n",
       "      <td>262</td>\n",
       "      <td>not applicable</td>\n",
       "      <td>1</td>\n",
       "      <td>0</td>\n",
       "      <td>not applicable</td>\n",
       "      <td>None</td>\n",
       "      <td>None</td>\n",
       "      <td>None</td>\n",
       "      <td>None</td>\n",
       "      <td>[]</td>\n",
       "      <td>0</td>\n",
       "      <td>NaN</td>\n",
       "      <td>[]</td>\n",
       "      <td>0</td>\n",
       "    </tr>\n",
       "    <tr>\n",
       "      <th>1</th>\n",
       "      <td>2</td>\n",
       "      <td>missing</td>\n",
       "      <td>199</td>\n",
       "      <td>missing</td>\n",
       "      <td>1</td>\n",
       "      <td>0</td>\n",
       "      <td>missing</td>\n",
       "      <td>None</td>\n",
       "      <td>None</td>\n",
       "      <td>None</td>\n",
       "      <td>None</td>\n",
       "      <td>[]</td>\n",
       "      <td>0</td>\n",
       "      <td>NaN</td>\n",
       "      <td>[]</td>\n",
       "      <td>0</td>\n",
       "    </tr>\n",
       "    <tr>\n",
       "      <th>2</th>\n",
       "      <td>3</td>\n",
       "      <td>not collected</td>\n",
       "      <td>127</td>\n",
       "      <td>not collected</td>\n",
       "      <td>1</td>\n",
       "      <td>0</td>\n",
       "      <td>not collected</td>\n",
       "      <td>None</td>\n",
       "      <td>None</td>\n",
       "      <td>None</td>\n",
       "      <td>None</td>\n",
       "      <td>[]</td>\n",
       "      <td>0</td>\n",
       "      <td>NaN</td>\n",
       "      <td>[]</td>\n",
       "      <td>0</td>\n",
       "    </tr>\n",
       "    <tr>\n",
       "      <th>3</th>\n",
       "      <td>4</td>\n",
       "      <td>Orchard</td>\n",
       "      <td>87</td>\n",
       "      <td>Orchard</td>\n",
       "      <td>1</td>\n",
       "      <td>0</td>\n",
       "      <td>Orchard</td>\n",
       "      <td>None</td>\n",
       "      <td>None</td>\n",
       "      <td>ENVO:00000115</td>\n",
       "      <td>orchard</td>\n",
       "      <td>[ENVO:00000115]</td>\n",
       "      <td>1</td>\n",
       "      <td>NaN</td>\n",
       "      <td>[ENVO:00000115]</td>\n",
       "      <td>1</td>\n",
       "    </tr>\n",
       "    <tr>\n",
       "      <th>4</th>\n",
       "      <td>5</td>\n",
       "      <td>NA</td>\n",
       "      <td>79</td>\n",
       "      <td>NA</td>\n",
       "      <td>1</td>\n",
       "      <td>0</td>\n",
       "      <td>NA</td>\n",
       "      <td>None</td>\n",
       "      <td>None</td>\n",
       "      <td>None</td>\n",
       "      <td>None</td>\n",
       "      <td>[]</td>\n",
       "      <td>0</td>\n",
       "      <td>NaN</td>\n",
       "      <td>[]</td>\n",
       "      <td>0</td>\n",
       "    </tr>\n",
       "    <tr>\n",
       "      <th>...</th>\n",
       "      <td>...</td>\n",
       "      <td>...</td>\n",
       "      <td>...</td>\n",
       "      <td>...</td>\n",
       "      <td>...</td>\n",
       "      <td>...</td>\n",
       "      <td>...</td>\n",
       "      <td>...</td>\n",
       "      <td>...</td>\n",
       "      <td>...</td>\n",
       "      <td>...</td>\n",
       "      <td>...</td>\n",
       "      <td>...</td>\n",
       "      <td>...</td>\n",
       "      <td>...</td>\n",
       "      <td>...</td>\n",
       "    </tr>\n",
       "    <tr>\n",
       "      <th>5331</th>\n",
       "      <td>4874</td>\n",
       "      <td>cultivated environment [ENVO_01000311] rhizosp...</td>\n",
       "      <td>1</td>\n",
       "      <td>cultivated environment [ENVO_01000311] rhizosp...</td>\n",
       "      <td>1</td>\n",
       "      <td>2</td>\n",
       "      <td>cultivated environment [] rhizosphere environment</td>\n",
       "      <td>ENVO:01000311</td>\n",
       "      <td>cultivated environment</td>\n",
       "      <td>ENVO:01000999</td>\n",
       "      <td>rhizosphere environment</td>\n",
       "      <td>[ENVO:01000311, ENVO:01000999]</td>\n",
       "      <td>2</td>\n",
       "      <td>NaN</td>\n",
       "      <td>[ENVO:01000999]</td>\n",
       "      <td>2</td>\n",
       "    </tr>\n",
       "    <tr>\n",
       "      <th>5332</th>\n",
       "      <td>5008</td>\n",
       "      <td>pond [ENVO:00000033]|shoreline [ENVO:00000486]...</td>\n",
       "      <td>1</td>\n",
       "      <td>soil pollution[ENVO:02500039]</td>\n",
       "      <td>4</td>\n",
       "      <td>1</td>\n",
       "      <td>soil pollution</td>\n",
       "      <td>ENVO:02500039</td>\n",
       "      <td>water pollution</td>\n",
       "      <td>ENVO:02500038</td>\n",
       "      <td>soil pollution</td>\n",
       "      <td>[ENVO:02500038, ENVO:02500039]</td>\n",
       "      <td>2</td>\n",
       "      <td>NaN</td>\n",
       "      <td>[ENVO:02500038]</td>\n",
       "      <td>2</td>\n",
       "    </tr>\n",
       "    <tr>\n",
       "      <th>5333</th>\n",
       "      <td>5008</td>\n",
       "      <td>pond [ENVO:00000033]|shoreline [ENVO:00000486]...</td>\n",
       "      <td>1</td>\n",
       "      <td>soil pollution[ENVO:02500039]</td>\n",
       "      <td>4</td>\n",
       "      <td>1</td>\n",
       "      <td>soil pollution</td>\n",
       "      <td>ENVO:02500039</td>\n",
       "      <td>water pollution</td>\n",
       "      <td>ENVO:02500038</td>\n",
       "      <td>soil pollution</td>\n",
       "      <td>[ENVO:02500038, ENVO:02500039]</td>\n",
       "      <td>2</td>\n",
       "      <td>NaN</td>\n",
       "      <td>[ENVO:02500039]</td>\n",
       "      <td>2</td>\n",
       "    </tr>\n",
       "    <tr>\n",
       "      <th>5334</th>\n",
       "      <td>5175</td>\n",
       "      <td>wood [ENVO_00002040]</td>\n",
       "      <td>1</td>\n",
       "      <td>wood [ENVO_00002040]</td>\n",
       "      <td>1</td>\n",
       "      <td>1</td>\n",
       "      <td>wood</td>\n",
       "      <td>ENVO:00002040</td>\n",
       "      <td>wood</td>\n",
       "      <td>ENVO:00000109</td>\n",
       "      <td>woodland area</td>\n",
       "      <td>[ENVO:00002040, ENVO:00000109]</td>\n",
       "      <td>2</td>\n",
       "      <td>NaN</td>\n",
       "      <td>[ENVO:00002040]</td>\n",
       "      <td>2</td>\n",
       "    </tr>\n",
       "    <tr>\n",
       "      <th>5335</th>\n",
       "      <td>5175</td>\n",
       "      <td>wood [ENVO_00002040]</td>\n",
       "      <td>1</td>\n",
       "      <td>wood [ENVO_00002040]</td>\n",
       "      <td>1</td>\n",
       "      <td>1</td>\n",
       "      <td>wood</td>\n",
       "      <td>ENVO:00002040</td>\n",
       "      <td>wood</td>\n",
       "      <td>ENVO:00000109</td>\n",
       "      <td>woodland area</td>\n",
       "      <td>[ENVO:00002040, ENVO:00000109]</td>\n",
       "      <td>2</td>\n",
       "      <td>NaN</td>\n",
       "      <td>[ENVO:00000109]</td>\n",
       "      <td>2</td>\n",
       "    </tr>\n",
       "  </tbody>\n",
       "</table>\n",
       "<p>5336 rows × 16 columns</p>\n",
       "</div>"
      ]
     },
     "execution_count": 1546,
     "metadata": {},
     "output_type": "execute_result"
    }
   ],
   "execution_count": 1546
  },
  {
   "cell_type": "code",
   "id": "be53a584475499b5",
   "metadata": {
    "ExecuteTime": {
     "end_time": "2024-12-13T21:28:35.085616Z",
     "start_time": "2024-12-13T21:28:35.077425Z"
    }
   },
   "source": [
    "ncbi_disputes_exploded_frame['post_explode_curie_count'] = ncbi_disputes_exploded_frame['dragless_curie_list'].apply(\n",
    "    len)"
   ],
   "outputs": [],
   "execution_count": 1547
  },
  {
   "cell_type": "code",
   "id": "e0c0605a4ca28188",
   "metadata": {
    "ExecuteTime": {
     "end_time": "2024-12-13T21:28:35.094559Z",
     "start_time": "2024-12-13T21:28:35.087517Z"
    }
   },
   "source": [
    "ncbi_disputes_exploded_frame['post_explode_curie_count'].value_counts()"
   ],
   "outputs": [
    {
     "data": {
      "text/plain": [
       "post_explode_curie_count\n",
       "1    2707\n",
       "0    2629\n",
       "Name: count, dtype: int64"
      ]
     },
     "execution_count": 1548,
     "metadata": {},
     "output_type": "execute_result"
    }
   ],
   "execution_count": 1548
  },
  {
   "cell_type": "code",
   "id": "396e48f3cea80587",
   "metadata": {
    "ExecuteTime": {
     "end_time": "2024-12-13T21:28:35.103253Z",
     "start_time": "2024-12-13T21:28:35.096684Z"
    }
   },
   "source": [
    "# Set 'post_explode_curie' to the 0th item in 'dragless_curie_list'\n",
    "ncbi_disputes_exploded_frame[\"post_explode_curie\"] = ncbi_disputes_exploded_frame[\"dragless_curie_list\"].apply(\n",
    "    lambda x: x[0] if isinstance(x, list) and len(x) > 0 else None\n",
    ")"
   ],
   "outputs": [],
   "execution_count": 1549
  },
  {
   "cell_type": "code",
   "id": "1e488764b4212b75",
   "metadata": {
    "ExecuteTime": {
     "end_time": "2024-12-13T21:28:35.111877Z",
     "start_time": "2024-12-13T21:28:35.105357Z"
    }
   },
   "source": [
    "\n",
    "ncbi_biosample_scoped_counts = (\n",
    "    ncbi_disputes_exploded_frame.groupby(\"post_explode_curie\")[\"count\"].sum().reset_index()\n",
    ")\n",
    "\n",
    "# todo parameterize the column name based on what was really counted, generally biosamples or bioprojects\n",
    "ncbi_biosample_scoped_counts.columns = ['curie', 'ncbi_bioprojects_count']"
   ],
   "outputs": [],
   "execution_count": 1550
  },
  {
   "metadata": {},
   "cell_type": "markdown",
   "source": "This is currently a count of Biosamples for which the indicated CURIes can be extracted or inferred by oaklib annotation, after removal of drag-stretch, auto-incremented CURIes",
   "id": "de29981308f4d74c"
  },
  {
   "cell_type": "code",
   "id": "916cfcc3c7aa0d34",
   "metadata": {
    "ExecuteTime": {
     "end_time": "2024-12-13T21:28:35.121190Z",
     "start_time": "2024-12-13T21:28:35.113852Z"
    }
   },
   "source": [
    "ncbi_biosample_scoped_counts"
   ],
   "outputs": [
    {
     "data": {
      "text/plain": [
       "              curie  ncbi_bioprojects_count\n",
       "0       BFO:0000015                       4\n",
       "1       BFO:0000029                       6\n",
       "2       CHEBI:15377                      32\n",
       "3       CHEBI:22695                      15\n",
       "4       CHEBI:24632                       1\n",
       "..              ...                     ...\n",
       "537  UBERON:0001913                       1\n",
       "538  UBERON:0001988                       1\n",
       "539  UBERON:0002100                       5\n",
       "540  UBERON:0002416                      12\n",
       "541  UBERON:0036016                       1\n",
       "\n",
       "[542 rows x 2 columns]"
      ],
      "text/html": [
       "<div>\n",
       "<style scoped>\n",
       "    .dataframe tbody tr th:only-of-type {\n",
       "        vertical-align: middle;\n",
       "    }\n",
       "\n",
       "    .dataframe tbody tr th {\n",
       "        vertical-align: top;\n",
       "    }\n",
       "\n",
       "    .dataframe thead th {\n",
       "        text-align: right;\n",
       "    }\n",
       "</style>\n",
       "<table border=\"1\" class=\"dataframe\">\n",
       "  <thead>\n",
       "    <tr style=\"text-align: right;\">\n",
       "      <th></th>\n",
       "      <th>curie</th>\n",
       "      <th>ncbi_bioprojects_count</th>\n",
       "    </tr>\n",
       "  </thead>\n",
       "  <tbody>\n",
       "    <tr>\n",
       "      <th>0</th>\n",
       "      <td>BFO:0000015</td>\n",
       "      <td>4</td>\n",
       "    </tr>\n",
       "    <tr>\n",
       "      <th>1</th>\n",
       "      <td>BFO:0000029</td>\n",
       "      <td>6</td>\n",
       "    </tr>\n",
       "    <tr>\n",
       "      <th>2</th>\n",
       "      <td>CHEBI:15377</td>\n",
       "      <td>32</td>\n",
       "    </tr>\n",
       "    <tr>\n",
       "      <th>3</th>\n",
       "      <td>CHEBI:22695</td>\n",
       "      <td>15</td>\n",
       "    </tr>\n",
       "    <tr>\n",
       "      <th>4</th>\n",
       "      <td>CHEBI:24632</td>\n",
       "      <td>1</td>\n",
       "    </tr>\n",
       "    <tr>\n",
       "      <th>...</th>\n",
       "      <td>...</td>\n",
       "      <td>...</td>\n",
       "    </tr>\n",
       "    <tr>\n",
       "      <th>537</th>\n",
       "      <td>UBERON:0001913</td>\n",
       "      <td>1</td>\n",
       "    </tr>\n",
       "    <tr>\n",
       "      <th>538</th>\n",
       "      <td>UBERON:0001988</td>\n",
       "      <td>1</td>\n",
       "    </tr>\n",
       "    <tr>\n",
       "      <th>539</th>\n",
       "      <td>UBERON:0002100</td>\n",
       "      <td>5</td>\n",
       "    </tr>\n",
       "    <tr>\n",
       "      <th>540</th>\n",
       "      <td>UBERON:0002416</td>\n",
       "      <td>12</td>\n",
       "    </tr>\n",
       "    <tr>\n",
       "      <th>541</th>\n",
       "      <td>UBERON:0036016</td>\n",
       "      <td>1</td>\n",
       "    </tr>\n",
       "  </tbody>\n",
       "</table>\n",
       "<p>542 rows × 2 columns</p>\n",
       "</div>"
      ]
     },
     "execution_count": 1551,
     "metadata": {},
     "output_type": "execute_result"
    }
   ],
   "execution_count": 1551
  },
  {
   "metadata": {},
   "cell_type": "markdown",
   "source": [
    "## GOLDTERMS mappings only approach\n",
    "\n",
    "we're currently including\n",
    "- mappings only\n",
    "\n",
    "and have retired the previous use of\n",
    "- mappings in hybrid with biosample counts\n",
    "\n",
    "And we're casting a wide net, especially for the hybrid approach\n",
    "- searching for 'soil', 'sediment' etc. in GOLDTERMS labels without anchoring them like 'Environmental > Aquatic > Sediment'\n",
    "- retrieving the CURIes for env_broad_scale, env_local_scale and env_medium for all voting sheets, and trusting orthogonal filtering to remove the inappropriate CURIes\n",
    "\n",
    "Should we now add (or switch to) direct biosample counts of GOLD \"envo\" annotations?\n",
    "\n",
    "Efficient retrieval of  all GOLD data in a given scope isn't easy"
   ],
   "id": "54ef0d1be4a1dea9"
  },
  {
   "metadata": {
    "ExecuteTime": {
     "end_time": "2024-12-13T21:28:35.127009Z",
     "start_time": "2024-12-13T21:28:35.122621Z"
    }
   },
   "cell_type": "code",
   "source": [
    "# Determine the filenames and target directory\n",
    "goldterms_compressed_filename = urlparse(goldterms_semsql_url).path.split('/')[-1]\n",
    "goldterms_filename = os.path.splitext(goldterms_compressed_filename)[0]\n",
    "target_dir = os.path.join(\"..\", \"..\")  # Two levels up\n",
    "\n",
    "# Print to confirm the filenames\n",
    "print(goldterms_filename)"
   ],
   "id": "40f8fc6862a817f3",
   "outputs": [
    {
     "name": "stdout",
     "output_type": "stream",
     "text": [
      "goldterms.db\n"
     ]
    }
   ],
   "execution_count": 1552
  },
  {
   "metadata": {
    "ExecuteTime": {
     "end_time": "2024-12-13T21:28:35.523213Z",
     "start_time": "2024-12-13T21:28:35.128866Z"
    }
   },
   "cell_type": "code",
   "source": [
    "# Fetch the contents from the URL and save compressed file in target directory\n",
    "goldterms_response = requests.get(goldterms_semsql_url)\n",
    "goldterms_compressed_file_path = os.path.join(target_dir, goldterms_compressed_filename)\n",
    "with open(goldterms_compressed_file_path, \"wb\") as f:\n",
    "    f.write(goldterms_response.content)\n",
    "\n",
    "# ~ 1 second"
   ],
   "id": "784c07d7b6bee4c2",
   "outputs": [],
   "execution_count": 1553
  },
  {
   "metadata": {
    "ExecuteTime": {
     "end_time": "2024-12-13T21:28:35.574537Z",
     "start_time": "2024-12-13T21:28:35.525493Z"
    }
   },
   "cell_type": "code",
   "source": [
    "# Unzip the compressed file and save the extracted file in target directory\n",
    "goldterms_uncompressed_file_path = os.path.join(target_dir, goldterms_filename)\n",
    "with gzip.open(goldterms_compressed_file_path, \"rb\") as f_in:\n",
    "    with open(goldterms_uncompressed_file_path, \"wb\") as f_out:\n",
    "        shutil.copyfileobj(f_in, f_out)\n",
    "\n",
    "# ~ 1 second"
   ],
   "id": "cd765130d59cd026",
   "outputs": [],
   "execution_count": 1554
  },
  {
   "metadata": {
    "ExecuteTime": {
     "end_time": "2024-12-13T21:28:35.582270Z",
     "start_time": "2024-12-13T21:28:35.578226Z"
    }
   },
   "cell_type": "code",
   "source": "## that's all fast. don't bother caching",
   "id": "fd2fab3ddcf862ce",
   "outputs": [],
   "execution_count": 1555
  },
  {
   "metadata": {
    "ExecuteTime": {
     "end_time": "2024-12-13T21:28:35.591970Z",
     "start_time": "2024-12-13T21:28:35.585953Z"
    }
   },
   "cell_type": "code",
   "source": "goldterms_conn = sqlite3.connect(goldterms_uncompressed_file_path)",
   "id": "dcf847a3c2ed302d",
   "outputs": [],
   "execution_count": 1556
  },
  {
   "metadata": {
    "ExecuteTime": {
     "end_time": "2024-12-13T21:28:35.613691Z",
     "start_time": "2024-12-13T21:28:35.594452Z"
    }
   },
   "cell_type": "code",
   "source": "goldterms_result = pd.read_sql_query(extension_query, goldterms_conn)",
   "id": "beacc603e5db48b3",
   "outputs": [],
   "execution_count": 1557
  },
  {
   "metadata": {
    "ExecuteTime": {
     "end_time": "2024-12-13T21:28:35.624437Z",
     "start_time": "2024-12-13T21:28:35.615235Z"
    }
   },
   "cell_type": "code",
   "source": "goldterms_result",
   "id": "85e373122e14f6dc",
   "outputs": [
    {
     "data": {
      "text/plain": [
       "                                               subject            predicate  \\\n",
       "0    GOLDTERMS:Engineered-Artificial-ecosystem-Plan...       mixs:env_broad   \n",
       "1    GOLDTERMS:Engineered-Artificial-ecosystem-Plan...  mixs:mixs_extension   \n",
       "2    GOLDTERMS:Engineered-Artificial-ecosystem-Plan...           mixs:other   \n",
       "3    GOLDTERMS:Engineered-Artificial-ecosystem-Plan...           rdfs:label   \n",
       "4    GOLDTERMS:Engineered-Artificial-ecosystem-Plan...       mixs:env_broad   \n",
       "..                                                 ...                  ...   \n",
       "286                                GOLDVOCAB:Plant-pot           rdfs:label   \n",
       "287                                   GOLDVOCAB:Plants           rdfs:label   \n",
       "288                   GOLDVOCAB:Sewage-treatment-plant           rdfs:label   \n",
       "289                   GOLDVOCAB:Soil-_28non-planted_29           rdfs:label   \n",
       "290                    GOLDVOCAB:Water-treatment-plant           rdfs:label   \n",
       "\n",
       "                                               content  \n",
       "0                                        ENVO:01000313  \n",
       "1     mixs:MiscellaneousNaturalOrArtificialEnvironment  \n",
       "2                                        ENVO:00010622  \n",
       "3    Engineered > Artificial ecosystem > Plant grow...  \n",
       "4                                        ENVO:01000313  \n",
       "..                                                 ...  \n",
       "286                                          Plant pot  \n",
       "287                                             Plants  \n",
       "288                             Sewage treatment plant  \n",
       "289                                 Soil (non-planted)  \n",
       "290                              Water treatment plant  \n",
       "\n",
       "[291 rows x 3 columns]"
      ],
      "text/html": [
       "<div>\n",
       "<style scoped>\n",
       "    .dataframe tbody tr th:only-of-type {\n",
       "        vertical-align: middle;\n",
       "    }\n",
       "\n",
       "    .dataframe tbody tr th {\n",
       "        vertical-align: top;\n",
       "    }\n",
       "\n",
       "    .dataframe thead th {\n",
       "        text-align: right;\n",
       "    }\n",
       "</style>\n",
       "<table border=\"1\" class=\"dataframe\">\n",
       "  <thead>\n",
       "    <tr style=\"text-align: right;\">\n",
       "      <th></th>\n",
       "      <th>subject</th>\n",
       "      <th>predicate</th>\n",
       "      <th>content</th>\n",
       "    </tr>\n",
       "  </thead>\n",
       "  <tbody>\n",
       "    <tr>\n",
       "      <th>0</th>\n",
       "      <td>GOLDTERMS:Engineered-Artificial-ecosystem-Plan...</td>\n",
       "      <td>mixs:env_broad</td>\n",
       "      <td>ENVO:01000313</td>\n",
       "    </tr>\n",
       "    <tr>\n",
       "      <th>1</th>\n",
       "      <td>GOLDTERMS:Engineered-Artificial-ecosystem-Plan...</td>\n",
       "      <td>mixs:mixs_extension</td>\n",
       "      <td>mixs:MiscellaneousNaturalOrArtificialEnvironment</td>\n",
       "    </tr>\n",
       "    <tr>\n",
       "      <th>2</th>\n",
       "      <td>GOLDTERMS:Engineered-Artificial-ecosystem-Plan...</td>\n",
       "      <td>mixs:other</td>\n",
       "      <td>ENVO:00010622</td>\n",
       "    </tr>\n",
       "    <tr>\n",
       "      <th>3</th>\n",
       "      <td>GOLDTERMS:Engineered-Artificial-ecosystem-Plan...</td>\n",
       "      <td>rdfs:label</td>\n",
       "      <td>Engineered &gt; Artificial ecosystem &gt; Plant grow...</td>\n",
       "    </tr>\n",
       "    <tr>\n",
       "      <th>4</th>\n",
       "      <td>GOLDTERMS:Engineered-Artificial-ecosystem-Plan...</td>\n",
       "      <td>mixs:env_broad</td>\n",
       "      <td>ENVO:01000313</td>\n",
       "    </tr>\n",
       "    <tr>\n",
       "      <th>...</th>\n",
       "      <td>...</td>\n",
       "      <td>...</td>\n",
       "      <td>...</td>\n",
       "    </tr>\n",
       "    <tr>\n",
       "      <th>286</th>\n",
       "      <td>GOLDVOCAB:Plant-pot</td>\n",
       "      <td>rdfs:label</td>\n",
       "      <td>Plant pot</td>\n",
       "    </tr>\n",
       "    <tr>\n",
       "      <th>287</th>\n",
       "      <td>GOLDVOCAB:Plants</td>\n",
       "      <td>rdfs:label</td>\n",
       "      <td>Plants</td>\n",
       "    </tr>\n",
       "    <tr>\n",
       "      <th>288</th>\n",
       "      <td>GOLDVOCAB:Sewage-treatment-plant</td>\n",
       "      <td>rdfs:label</td>\n",
       "      <td>Sewage treatment plant</td>\n",
       "    </tr>\n",
       "    <tr>\n",
       "      <th>289</th>\n",
       "      <td>GOLDVOCAB:Soil-_28non-planted_29</td>\n",
       "      <td>rdfs:label</td>\n",
       "      <td>Soil (non-planted)</td>\n",
       "    </tr>\n",
       "    <tr>\n",
       "      <th>290</th>\n",
       "      <td>GOLDVOCAB:Water-treatment-plant</td>\n",
       "      <td>rdfs:label</td>\n",
       "      <td>Water treatment plant</td>\n",
       "    </tr>\n",
       "  </tbody>\n",
       "</table>\n",
       "<p>291 rows × 3 columns</p>\n",
       "</div>"
      ]
     },
     "execution_count": 1558,
     "metadata": {},
     "output_type": "execute_result"
    }
   ],
   "execution_count": 1558
  },
  {
   "metadata": {
    "ExecuteTime": {
     "end_time": "2024-12-13T21:28:35.630249Z",
     "start_time": "2024-12-13T21:28:35.626767Z"
    }
   },
   "cell_type": "code",
   "source": [
    "# # todo: save this kind of content before subsetting on an environment\n",
    "# #   the subsetting is currently baked into the query\n",
    "# \n",
    "# # see also goldterms_queries.ipynb in MAM's Collab\n",
    "# goldterms_result.to_csv(\"goldterms_single_environment_mappings_long.tsv\", sep=\"\\t\", index=False)"
   ],
   "id": "859a87109b08d83c",
   "outputs": [],
   "execution_count": 1559
  },
  {
   "metadata": {
    "ExecuteTime": {
     "end_time": "2024-12-13T21:28:35.636934Z",
     "start_time": "2024-12-13T21:28:35.632104Z"
    }
   },
   "cell_type": "code",
   "source": "goldterms_only_curies = goldterms_result.loc[goldterms_result['predicate'].isin(gold_context_selectors), 'content']\n",
   "id": "391d1fb9314d4b0b",
   "outputs": [],
   "execution_count": 1560
  },
  {
   "metadata": {
    "ExecuteTime": {
     "end_time": "2024-12-13T21:28:35.642538Z",
     "start_time": "2024-12-13T21:28:35.638976Z"
    }
   },
   "cell_type": "code",
   "source": "goldterms_only_curies = goldterms_only_curies.unique().tolist()",
   "id": "b5621477ccaaa761",
   "outputs": [],
   "execution_count": 1561
  },
  {
   "metadata": {
    "ExecuteTime": {
     "end_time": "2024-12-13T21:28:35.647478Z",
     "start_time": "2024-12-13T21:28:35.644632Z"
    }
   },
   "cell_type": "code",
   "source": "# goldterms_only_curies",
   "id": "70238d1c8e144cc3",
   "outputs": [],
   "execution_count": 1562
  },
  {
   "metadata": {},
   "cell_type": "markdown",
   "source": [
    "# Make lists of CURIEs\n",
    "which will determine\n",
    "- the rows in the table\n",
    "- the boolean filter columns"
   ],
   "id": "8541580a525201e3"
  },
  {
   "metadata": {
    "ExecuteTime": {
     "end_time": "2024-12-13T21:28:36.412976Z",
     "start_time": "2024-12-13T21:28:35.649280Z"
    }
   },
   "cell_type": "code",
   "source": [
    "anchor_curies = list(anchor_descendants_frame['curie'])\n",
    "legacy_pv_curies = [i['curie'] for i in pv_validation_results['valids']]\n",
    "\n",
    "env_sys_curies = list(envo_adapter.descendants(ENVIRONMENTAL_SYSTEM, predicates=[IS_A]))\n",
    "biome_curies = list(envo_adapter.descendants(BIOME, predicates=[IS_A]))  # \n",
    "terrestrial_biome_curies = list(envo_adapter.descendants(TERRESTRIAL_BIOME, predicates=[IS_A]))\n",
    "aquatic_biome_curies = list(envo_adapter.descendants(AQUATIC_BIOME, predicates=[IS_A]))\n",
    "\n",
    "env_mat_curies = list(envo_adapter.descendants(ENVIRONMENTAL_MATERIAL, predicates=[IS_A]))\n",
    "soil_curies = list(envo_adapter.descendants(SOIL, predicates=[IS_A]))  # \n",
    "liquid_water_curies = list(envo_adapter.descendants(LIQUID_WATER, predicates=[IS_A]))  # \n",
    "water_ice_curies = list(envo_adapter.descendants(WATER_ICE, predicates=[IS_A]))  # \n",
    "\n",
    "abp_curies = list(envo_adapter.descendants(ABP, predicates=[IS_A]))\n",
    "human_construction_curies = list(envo_adapter.descendants(HUMAN_CONSTRUCTION, predicates=[IS_A]))  #\n",
    "building_curies = list(envo_adapter.descendants(BUILDING, predicates=[IS_A]))  #\n",
    "building_part_curies = list(envo_adapter.descendants(BUILDING_PART, predicates=[IS_A]))  #\n",
    "\n",
    "snow_curies = list(envo_adapter.descendants(SNOW, predicates=[IS_A]))  #\n",
    "mass_of_environmental_material_curies = list(\n",
    "    envo_adapter.descendants(MASS_OF_ENVIRONMENTAL_MATERIAL, predicates=[IS_A]))  #\n",
    "\n",
    "obsoletes_curies = list(envo_adapter.obsoletes())\n"
   ],
   "id": "beb69545a9255099",
   "outputs": [],
   "execution_count": 1563
  },
  {
   "metadata": {
    "ExecuteTime": {
     "end_time": "2024-12-13T21:28:36.424611Z",
     "start_time": "2024-12-13T21:28:36.415411Z"
    }
   },
   "cell_type": "code",
   "source": [
    "# Specify an output file name\n",
    "nlcd2011_class_iris_file = \"nlcd2011_class_iris.txt\"\n",
    "\n",
    "nlcd_subset_textual_representation = \"nlcd2011\"\n",
    "\n",
    "in_subset_curie = \"oio:inSubset\"\n",
    "\n",
    "# Initialize nlcd_classes\n",
    "nlcd_classes = []\n",
    "\n",
    "if os.path.exists(nlcd2011_class_iris_file):\n",
    "    # Load the list from the file if it exists\n",
    "    print(f\"Loading {nlcd_subset_textual_representation} classes from {nlcd2011_class_iris_file}...\")\n",
    "    with open(nlcd2011_class_iris_file, \"r\") as file:\n",
    "        nlcd_classes = [line.strip() for line in file.readlines()]\n",
    "else:\n",
    "    # File doesn't exist; generate the list using the loop\n",
    "    print(\n",
    "        f\"{nlcd2011_class_iris_file} not found. Identifying classes in {nlcd_subset_textual_representation} subset (~2 minutes)...\")\n",
    "\n",
    "    # Retrieve all classes\n",
    "    entities = envo_adapter.entities()\n",
    "\n",
    "    # super slow 2 minutes\n",
    "    # but retrieving classes by named subset seems to crash on EnvO with its textual subsets?\n",
    "    for entity in entities:\n",
    "        term_metadata = envo_adapter.entity_metadata_map(entity)\n",
    "        if in_subset_curie in term_metadata:\n",
    "            subsets = term_metadata[in_subset_curie]\n",
    "            if nlcd_subset_textual_representation in subsets:\n",
    "                nlcd_classes.append(entity)\n",
    "\n",
    "    # Save the generated list to the file\n",
    "    with open(nlcd2011_class_iris_file, \"w\") as file:\n",
    "        for string in nlcd_classes:\n",
    "            file.write(string + \"\\n\")\n",
    "\n",
    "    print(f\"List saved to {nlcd2011_class_iris_file}\")\n",
    "\n",
    "# At this point, nlcd_classes contains the desired list\n",
    "print(f\"Total {nlcd_subset_textual_representation} classes loaded: {len(nlcd_classes)}\")\n"
   ],
   "id": "f863c6e4a8e77c74",
   "outputs": [
    {
     "name": "stdout",
     "output_type": "stream",
     "text": [
      "Loading nlcd2011 classes from nlcd2011_class_iris.txt...\n",
      "Total nlcd2011 classes loaded: 22\n"
     ]
    }
   ],
   "execution_count": 1564
  },
  {
   "metadata": {},
   "cell_type": "markdown",
   "source": "## Bootstrap the rows",
   "id": "1318a3f163d8cb19"
  },
  {
   "metadata": {
    "ExecuteTime": {
     "end_time": "2024-12-13T21:28:36.431273Z",
     "start_time": "2024-12-13T21:28:36.427161Z"
    }
   },
   "cell_type": "code",
   "source": "include_in_rows = set()",
   "id": "20a9dcc52b995762",
   "outputs": [],
   "execution_count": 1565
  },
  {
   "metadata": {
    "ExecuteTime": {
     "end_time": "2024-12-13T21:28:36.437848Z",
     "start_time": "2024-12-13T21:28:36.433481Z"
    }
   },
   "cell_type": "code",
   "source": "include_in_rows.update(anchor_curies)",
   "id": "2c3e280c36ed9b91",
   "outputs": [],
   "execution_count": 1566
  },
  {
   "metadata": {
    "ExecuteTime": {
     "end_time": "2024-12-13T21:28:36.444673Z",
     "start_time": "2024-12-13T21:28:36.440584Z"
    }
   },
   "cell_type": "code",
   "source": "include_in_rows.update(legacy_pv_curies)",
   "id": "422c62627b450632",
   "outputs": [],
   "execution_count": 1567
  },
  {
   "metadata": {
    "ExecuteTime": {
     "end_time": "2024-12-13T21:28:36.450611Z",
     "start_time": "2024-12-13T21:28:36.446822Z"
    }
   },
   "cell_type": "code",
   "source": "include_in_rows.update(nmdc_biosample_contexts_frame[nmdc_context_selector])",
   "id": "e279a2edf1fa4935",
   "outputs": [],
   "execution_count": 1568
  },
  {
   "metadata": {
    "ExecuteTime": {
     "end_time": "2024-12-13T21:28:36.456599Z",
     "start_time": "2024-12-13T21:28:36.452849Z"
    }
   },
   "cell_type": "code",
   "source": "include_in_rows.update(ncbi_frame['extracted_curie'])",
   "id": "7e4be4b7ae64e990",
   "outputs": [],
   "execution_count": 1569
  },
  {
   "metadata": {
    "ExecuteTime": {
     "end_time": "2024-12-13T21:28:36.462098Z",
     "start_time": "2024-12-13T21:28:36.458389Z"
    }
   },
   "cell_type": "code",
   "source": "include_in_rows.update(ncbi_frame['longest_annotation_curie'])",
   "id": "2cd900624cfce1ec",
   "outputs": [],
   "execution_count": 1570
  },
  {
   "metadata": {
    "ExecuteTime": {
     "end_time": "2024-12-13T21:28:36.466764Z",
     "start_time": "2024-12-13T21:28:36.463795Z"
    }
   },
   "cell_type": "code",
   "source": "include_in_rows.update(goldterms_only_curies)",
   "id": "31ff1c10df555677",
   "outputs": [],
   "execution_count": 1571
  },
  {
   "metadata": {
    "ExecuteTime": {
     "end_time": "2024-12-13T21:28:36.471484Z",
     "start_time": "2024-12-13T21:28:36.468401Z"
    }
   },
   "cell_type": "code",
   "source": "include_in_rows.update(nlcd_classes)",
   "id": "e376965702e0a36e",
   "outputs": [],
   "execution_count": 1572
  },
  {
   "metadata": {
    "ExecuteTime": {
     "end_time": "2024-12-13T21:28:36.477496Z",
     "start_time": "2024-12-13T21:28:36.473259Z"
    }
   },
   "cell_type": "code",
   "source": "rows_lod = []",
   "id": "f7a6fb9413f45298",
   "outputs": [],
   "execution_count": 1573
  },
  {
   "metadata": {},
   "cell_type": "markdown",
   "source": "# Voting sheet rows and boolean columns",
   "id": "d0c9c7c730c8308a"
  },
  {
   "metadata": {
    "ExecuteTime": {
     "end_time": "2024-12-13T21:28:36.952918Z",
     "start_time": "2024-12-13T21:28:36.478977Z"
    }
   },
   "cell_type": "code",
   "source": [
    "for curie in include_in_rows:\n",
    "    if curie is None:\n",
    "        continue\n",
    "\n",
    "    # ONCE AGAIN, assuming that EnvO is the only ontology we'll check against\n",
    "    current_ancestors = [\n",
    "        list(ancestor.keys())[0] for ancestor in envo_ancs_cache.get(curie, [])\n",
    "    ]\n",
    "    ancestors_in_enum_count = len(set(current_ancestors) & set(legacy_pv_curies))\n",
    "\n",
    "    current_descendants = [\n",
    "        list(descendant.keys())[0] for descendant in envo_descs_cache.get(curie, [])\n",
    "    ]\n",
    "    descendants_in_enum_count = len(set(current_descendants) & set(legacy_pv_curies))\n",
    "\n",
    "    row = {\n",
    "        'curie': curie,\n",
    "        'label': envo_adapter.label(curie),\n",
    "        'envo_native': False,\n",
    "        'obsolete': False,\n",
    "        comparison_enum_column_name: False,\n",
    "        'ancestors_in_enum_count': ancestors_in_enum_count,\n",
    "        'descendants_in_enum_count': descendants_in_enum_count,\n",
    "        'nlcd_class': False,\n",
    "        'abp': False,\n",
    "        'env_sys': False,\n",
    "        'biome': False,\n",
    "        'terrestrial_biome': False,\n",
    "        'aquatic_biome': False,\n",
    "        'env_mat': False,\n",
    "        'soil': False,\n",
    "        'liquid water': False,\n",
    "        'water ice': False,\n",
    "        'snow': False,\n",
    "        'mass_of_environmental_material': False,\n",
    "        'human_construction': False,\n",
    "        'building': False,\n",
    "        'building_part': False,\n",
    "        'goldterms_mappings': False,\n",
    "    }\n",
    "\n",
    "    if curie in biome_curies:\n",
    "        row['biome'] = True\n",
    "    if curie in terrestrial_biome_curies:\n",
    "        row['terrestrial_biome'] = True\n",
    "    if curie in aquatic_biome_curies:\n",
    "        row['aquatic_biome'] = True\n",
    "    if curie in abp_curies:\n",
    "        row['abp'] = True\n",
    "    if curie in env_sys_curies:\n",
    "        row['env_sys'] = True\n",
    "    if curie in env_mat_curies:\n",
    "        row['env_mat'] = True\n",
    "    if curie in soil_curies:\n",
    "        row['soil'] = True\n",
    "    if curie in liquid_water_curies:\n",
    "        row['liquid water'] = True\n",
    "    if curie in water_ice_curies:\n",
    "        row['water ice'] = True\n",
    "    if curie in human_construction_curies:\n",
    "        row['human_construction'] = True\n",
    "    if curie in building_curies:\n",
    "        row['building'] = True\n",
    "    if curie in building_part_curies:\n",
    "        row['building_part'] = True\n",
    "    if curie in snow_curies:\n",
    "        row['snow'] = True\n",
    "    if curie in mass_of_environmental_material_curies:\n",
    "        row['mass_of_environmental_material'] = True\n",
    "    if curie in legacy_pv_curies:\n",
    "        row[comparison_enum_column_name] = True\n",
    "    if curie in obsoletes_curies:\n",
    "        row['obsolete'] = True\n",
    "    if curie in goldterms_only_curies:\n",
    "        row['goldterms_mappings'] = True\n",
    "    if curie in nlcd_classes:\n",
    "        row['nlcd_class'] = True\n",
    "\n",
    "    try:\n",
    "        prefix, local_id = curie.split(':')\n",
    "        if prefix and prefix == 'ENVO' and row['label'] is not None:\n",
    "            row['envo_native'] = True\n",
    "    except Exception as e:\n",
    "        # Print the exception message\n",
    "        print(f\"An error occurred: {e} trying to split {curie}\")\n",
    "\n",
    "    rows_lod.append(row)\n",
    "\n",
    "# 2 minutes\n"
   ],
   "id": "32f278db05c57616",
   "outputs": [],
   "execution_count": 1574
  },
  {
   "metadata": {},
   "cell_type": "markdown",
   "source": "# ^ Voting sheet rows and boolean columns",
   "id": "f77fce51b7fd116d"
  },
  {
   "metadata": {
    "ExecuteTime": {
     "end_time": "2024-12-13T21:28:36.961078Z",
     "start_time": "2024-12-13T21:28:36.954715Z"
    }
   },
   "cell_type": "code",
   "source": "rows_frame = pd.DataFrame(rows_lod)",
   "id": "26bb62d21192288f",
   "outputs": [],
   "execution_count": 1575
  },
  {
   "metadata": {
    "ExecuteTime": {
     "end_time": "2024-12-13T21:28:36.981707Z",
     "start_time": "2024-12-13T21:28:36.962623Z"
    }
   },
   "cell_type": "code",
   "source": "rows_frame",
   "id": "4db3ebadb8a07a50",
   "outputs": [
    {
     "data": {
      "text/plain": [
       "             curie                   label  envo_native  obsolete  \\\n",
       "0       PO:0000003             whole plant        False     False   \n",
       "1     ENVO:0003089                    None        False     False   \n",
       "2    ENVO:00005785  obsolete volcanic soil         True      True   \n",
       "3    ENVO:00000163       coffee plantation         True     False   \n",
       "4    ENVO:01000164             root nodule         True     False   \n",
       "..             ...                     ...          ...       ...   \n",
       "702  ENVO:01000687                   coast         True     False   \n",
       "703  ENVO:01001405  laboratory environment         True     False   \n",
       "704  ENVO:01000855    area of mixed forest         True     False   \n",
       "705  ENVO:00005822                    None        False     False   \n",
       "706  ENVO:00005847                    None        False     False   \n",
       "\n",
       "     EnvBroadScaleSoilEnum_11_1  ancestors_in_enum_count  \\\n",
       "0                         False                        0   \n",
       "1                         False                        0   \n",
       "2                         False                        0   \n",
       "3                         False                        3   \n",
       "4                         False                        0   \n",
       "..                          ...                      ...   \n",
       "702                       False                        0   \n",
       "703                       False                        0   \n",
       "704                       False                        1   \n",
       "705                       False                        0   \n",
       "706                       False                        0   \n",
       "\n",
       "     descendants_in_enum_count  nlcd_class    abp  env_sys  ...  env_mat  \\\n",
       "0                            2       False  False    False  ...    False   \n",
       "1                            0       False  False    False  ...    False   \n",
       "2                            0       False  False    False  ...    False   \n",
       "3                            0       False   True     True  ...    False   \n",
       "4                            0       False  False    False  ...    False   \n",
       "..                         ...         ...    ...      ...  ...      ...   \n",
       "702                          2       False   True    False  ...    False   \n",
       "703                          0       False  False     True  ...    False   \n",
       "704                          0        True   True    False  ...    False   \n",
       "705                          0       False  False    False  ...    False   \n",
       "706                          0       False  False    False  ...    False   \n",
       "\n",
       "      soil  liquid water  water ice   snow  mass_of_environmental_material  \\\n",
       "0    False         False      False  False                           False   \n",
       "1    False         False      False  False                           False   \n",
       "2    False         False      False  False                           False   \n",
       "3    False         False      False  False                           False   \n",
       "4    False         False      False  False                            True   \n",
       "..     ...           ...        ...    ...                             ...   \n",
       "702  False         False      False  False                           False   \n",
       "703  False         False      False  False                           False   \n",
       "704  False         False      False  False                           False   \n",
       "705  False         False      False  False                           False   \n",
       "706  False         False      False  False                           False   \n",
       "\n",
       "     human_construction  building  building_part  goldterms_mappings  \n",
       "0                 False     False          False               False  \n",
       "1                 False     False          False               False  \n",
       "2                 False     False          False               False  \n",
       "3                 False     False          False               False  \n",
       "4                 False     False          False                True  \n",
       "..                  ...       ...            ...                 ...  \n",
       "702               False     False          False               False  \n",
       "703               False     False          False               False  \n",
       "704               False     False          False               False  \n",
       "705               False     False          False               False  \n",
       "706               False     False          False               False  \n",
       "\n",
       "[707 rows x 23 columns]"
      ],
      "text/html": [
       "<div>\n",
       "<style scoped>\n",
       "    .dataframe tbody tr th:only-of-type {\n",
       "        vertical-align: middle;\n",
       "    }\n",
       "\n",
       "    .dataframe tbody tr th {\n",
       "        vertical-align: top;\n",
       "    }\n",
       "\n",
       "    .dataframe thead th {\n",
       "        text-align: right;\n",
       "    }\n",
       "</style>\n",
       "<table border=\"1\" class=\"dataframe\">\n",
       "  <thead>\n",
       "    <tr style=\"text-align: right;\">\n",
       "      <th></th>\n",
       "      <th>curie</th>\n",
       "      <th>label</th>\n",
       "      <th>envo_native</th>\n",
       "      <th>obsolete</th>\n",
       "      <th>EnvBroadScaleSoilEnum_11_1</th>\n",
       "      <th>ancestors_in_enum_count</th>\n",
       "      <th>descendants_in_enum_count</th>\n",
       "      <th>nlcd_class</th>\n",
       "      <th>abp</th>\n",
       "      <th>env_sys</th>\n",
       "      <th>...</th>\n",
       "      <th>env_mat</th>\n",
       "      <th>soil</th>\n",
       "      <th>liquid water</th>\n",
       "      <th>water ice</th>\n",
       "      <th>snow</th>\n",
       "      <th>mass_of_environmental_material</th>\n",
       "      <th>human_construction</th>\n",
       "      <th>building</th>\n",
       "      <th>building_part</th>\n",
       "      <th>goldterms_mappings</th>\n",
       "    </tr>\n",
       "  </thead>\n",
       "  <tbody>\n",
       "    <tr>\n",
       "      <th>0</th>\n",
       "      <td>PO:0000003</td>\n",
       "      <td>whole plant</td>\n",
       "      <td>False</td>\n",
       "      <td>False</td>\n",
       "      <td>False</td>\n",
       "      <td>0</td>\n",
       "      <td>2</td>\n",
       "      <td>False</td>\n",
       "      <td>False</td>\n",
       "      <td>False</td>\n",
       "      <td>...</td>\n",
       "      <td>False</td>\n",
       "      <td>False</td>\n",
       "      <td>False</td>\n",
       "      <td>False</td>\n",
       "      <td>False</td>\n",
       "      <td>False</td>\n",
       "      <td>False</td>\n",
       "      <td>False</td>\n",
       "      <td>False</td>\n",
       "      <td>False</td>\n",
       "    </tr>\n",
       "    <tr>\n",
       "      <th>1</th>\n",
       "      <td>ENVO:0003089</td>\n",
       "      <td>None</td>\n",
       "      <td>False</td>\n",
       "      <td>False</td>\n",
       "      <td>False</td>\n",
       "      <td>0</td>\n",
       "      <td>0</td>\n",
       "      <td>False</td>\n",
       "      <td>False</td>\n",
       "      <td>False</td>\n",
       "      <td>...</td>\n",
       "      <td>False</td>\n",
       "      <td>False</td>\n",
       "      <td>False</td>\n",
       "      <td>False</td>\n",
       "      <td>False</td>\n",
       "      <td>False</td>\n",
       "      <td>False</td>\n",
       "      <td>False</td>\n",
       "      <td>False</td>\n",
       "      <td>False</td>\n",
       "    </tr>\n",
       "    <tr>\n",
       "      <th>2</th>\n",
       "      <td>ENVO:00005785</td>\n",
       "      <td>obsolete volcanic soil</td>\n",
       "      <td>True</td>\n",
       "      <td>True</td>\n",
       "      <td>False</td>\n",
       "      <td>0</td>\n",
       "      <td>0</td>\n",
       "      <td>False</td>\n",
       "      <td>False</td>\n",
       "      <td>False</td>\n",
       "      <td>...</td>\n",
       "      <td>False</td>\n",
       "      <td>False</td>\n",
       "      <td>False</td>\n",
       "      <td>False</td>\n",
       "      <td>False</td>\n",
       "      <td>False</td>\n",
       "      <td>False</td>\n",
       "      <td>False</td>\n",
       "      <td>False</td>\n",
       "      <td>False</td>\n",
       "    </tr>\n",
       "    <tr>\n",
       "      <th>3</th>\n",
       "      <td>ENVO:00000163</td>\n",
       "      <td>coffee plantation</td>\n",
       "      <td>True</td>\n",
       "      <td>False</td>\n",
       "      <td>False</td>\n",
       "      <td>3</td>\n",
       "      <td>0</td>\n",
       "      <td>False</td>\n",
       "      <td>True</td>\n",
       "      <td>True</td>\n",
       "      <td>...</td>\n",
       "      <td>False</td>\n",
       "      <td>False</td>\n",
       "      <td>False</td>\n",
       "      <td>False</td>\n",
       "      <td>False</td>\n",
       "      <td>False</td>\n",
       "      <td>False</td>\n",
       "      <td>False</td>\n",
       "      <td>False</td>\n",
       "      <td>False</td>\n",
       "    </tr>\n",
       "    <tr>\n",
       "      <th>4</th>\n",
       "      <td>ENVO:01000164</td>\n",
       "      <td>root nodule</td>\n",
       "      <td>True</td>\n",
       "      <td>False</td>\n",
       "      <td>False</td>\n",
       "      <td>0</td>\n",
       "      <td>0</td>\n",
       "      <td>False</td>\n",
       "      <td>False</td>\n",
       "      <td>False</td>\n",
       "      <td>...</td>\n",
       "      <td>False</td>\n",
       "      <td>False</td>\n",
       "      <td>False</td>\n",
       "      <td>False</td>\n",
       "      <td>False</td>\n",
       "      <td>True</td>\n",
       "      <td>False</td>\n",
       "      <td>False</td>\n",
       "      <td>False</td>\n",
       "      <td>True</td>\n",
       "    </tr>\n",
       "    <tr>\n",
       "      <th>...</th>\n",
       "      <td>...</td>\n",
       "      <td>...</td>\n",
       "      <td>...</td>\n",
       "      <td>...</td>\n",
       "      <td>...</td>\n",
       "      <td>...</td>\n",
       "      <td>...</td>\n",
       "      <td>...</td>\n",
       "      <td>...</td>\n",
       "      <td>...</td>\n",
       "      <td>...</td>\n",
       "      <td>...</td>\n",
       "      <td>...</td>\n",
       "      <td>...</td>\n",
       "      <td>...</td>\n",
       "      <td>...</td>\n",
       "      <td>...</td>\n",
       "      <td>...</td>\n",
       "      <td>...</td>\n",
       "      <td>...</td>\n",
       "      <td>...</td>\n",
       "    </tr>\n",
       "    <tr>\n",
       "      <th>702</th>\n",
       "      <td>ENVO:01000687</td>\n",
       "      <td>coast</td>\n",
       "      <td>True</td>\n",
       "      <td>False</td>\n",
       "      <td>False</td>\n",
       "      <td>0</td>\n",
       "      <td>2</td>\n",
       "      <td>False</td>\n",
       "      <td>True</td>\n",
       "      <td>False</td>\n",
       "      <td>...</td>\n",
       "      <td>False</td>\n",
       "      <td>False</td>\n",
       "      <td>False</td>\n",
       "      <td>False</td>\n",
       "      <td>False</td>\n",
       "      <td>False</td>\n",
       "      <td>False</td>\n",
       "      <td>False</td>\n",
       "      <td>False</td>\n",
       "      <td>False</td>\n",
       "    </tr>\n",
       "    <tr>\n",
       "      <th>703</th>\n",
       "      <td>ENVO:01001405</td>\n",
       "      <td>laboratory environment</td>\n",
       "      <td>True</td>\n",
       "      <td>False</td>\n",
       "      <td>False</td>\n",
       "      <td>0</td>\n",
       "      <td>0</td>\n",
       "      <td>False</td>\n",
       "      <td>False</td>\n",
       "      <td>True</td>\n",
       "      <td>...</td>\n",
       "      <td>False</td>\n",
       "      <td>False</td>\n",
       "      <td>False</td>\n",
       "      <td>False</td>\n",
       "      <td>False</td>\n",
       "      <td>False</td>\n",
       "      <td>False</td>\n",
       "      <td>False</td>\n",
       "      <td>False</td>\n",
       "      <td>False</td>\n",
       "    </tr>\n",
       "    <tr>\n",
       "      <th>704</th>\n",
       "      <td>ENVO:01000855</td>\n",
       "      <td>area of mixed forest</td>\n",
       "      <td>True</td>\n",
       "      <td>False</td>\n",
       "      <td>False</td>\n",
       "      <td>1</td>\n",
       "      <td>0</td>\n",
       "      <td>True</td>\n",
       "      <td>True</td>\n",
       "      <td>False</td>\n",
       "      <td>...</td>\n",
       "      <td>False</td>\n",
       "      <td>False</td>\n",
       "      <td>False</td>\n",
       "      <td>False</td>\n",
       "      <td>False</td>\n",
       "      <td>False</td>\n",
       "      <td>False</td>\n",
       "      <td>False</td>\n",
       "      <td>False</td>\n",
       "      <td>False</td>\n",
       "    </tr>\n",
       "    <tr>\n",
       "      <th>705</th>\n",
       "      <td>ENVO:00005822</td>\n",
       "      <td>None</td>\n",
       "      <td>False</td>\n",
       "      <td>False</td>\n",
       "      <td>False</td>\n",
       "      <td>0</td>\n",
       "      <td>0</td>\n",
       "      <td>False</td>\n",
       "      <td>False</td>\n",
       "      <td>False</td>\n",
       "      <td>...</td>\n",
       "      <td>False</td>\n",
       "      <td>False</td>\n",
       "      <td>False</td>\n",
       "      <td>False</td>\n",
       "      <td>False</td>\n",
       "      <td>False</td>\n",
       "      <td>False</td>\n",
       "      <td>False</td>\n",
       "      <td>False</td>\n",
       "      <td>False</td>\n",
       "    </tr>\n",
       "    <tr>\n",
       "      <th>706</th>\n",
       "      <td>ENVO:00005847</td>\n",
       "      <td>None</td>\n",
       "      <td>False</td>\n",
       "      <td>False</td>\n",
       "      <td>False</td>\n",
       "      <td>0</td>\n",
       "      <td>0</td>\n",
       "      <td>False</td>\n",
       "      <td>False</td>\n",
       "      <td>False</td>\n",
       "      <td>...</td>\n",
       "      <td>False</td>\n",
       "      <td>False</td>\n",
       "      <td>False</td>\n",
       "      <td>False</td>\n",
       "      <td>False</td>\n",
       "      <td>False</td>\n",
       "      <td>False</td>\n",
       "      <td>False</td>\n",
       "      <td>False</td>\n",
       "      <td>False</td>\n",
       "    </tr>\n",
       "  </tbody>\n",
       "</table>\n",
       "<p>707 rows × 23 columns</p>\n",
       "</div>"
      ]
     },
     "execution_count": 1576,
     "metadata": {},
     "output_type": "execute_result"
    }
   ],
   "execution_count": 1576
  },
  {
   "metadata": {},
   "cell_type": "markdown",
   "source": "# Merge in NMDC counts",
   "id": "8f7c4b1d95722568"
  },
  {
   "metadata": {
    "ExecuteTime": {
     "end_time": "2024-12-13T21:28:36.987789Z",
     "start_time": "2024-12-13T21:28:36.983220Z"
    }
   },
   "cell_type": "code",
   "source": [
    "nmdc_biosample_scoped_counts = nmdc_biosample_contexts_frame[nmdc_context_selector].value_counts().reset_index()\n",
    "# todo parameterize the column name based on what what really counter (generally biosamples or studies)\n",
    "nmdc_biosample_scoped_counts.columns = ['curie', 'nmdc_biosamples_count']\n"
   ],
   "id": "88ebf6f76c2e0545",
   "outputs": [],
   "execution_count": 1577
  },
  {
   "metadata": {
    "ExecuteTime": {
     "end_time": "2024-12-13T21:28:36.995727Z",
     "start_time": "2024-12-13T21:28:36.989709Z"
    }
   },
   "cell_type": "code",
   "source": "nmdc_biosample_scoped_counts",
   "id": "85789ece9ec4ddd6",
   "outputs": [
    {
     "data": {
      "text/plain": [
       "           curie  nmdc_biosamples_count\n",
       "0  ENVO:00000446                    209\n",
       "1  ENVO:01001442                    192"
      ],
      "text/html": [
       "<div>\n",
       "<style scoped>\n",
       "    .dataframe tbody tr th:only-of-type {\n",
       "        vertical-align: middle;\n",
       "    }\n",
       "\n",
       "    .dataframe tbody tr th {\n",
       "        vertical-align: top;\n",
       "    }\n",
       "\n",
       "    .dataframe thead th {\n",
       "        text-align: right;\n",
       "    }\n",
       "</style>\n",
       "<table border=\"1\" class=\"dataframe\">\n",
       "  <thead>\n",
       "    <tr style=\"text-align: right;\">\n",
       "      <th></th>\n",
       "      <th>curie</th>\n",
       "      <th>nmdc_biosamples_count</th>\n",
       "    </tr>\n",
       "  </thead>\n",
       "  <tbody>\n",
       "    <tr>\n",
       "      <th>0</th>\n",
       "      <td>ENVO:00000446</td>\n",
       "      <td>209</td>\n",
       "    </tr>\n",
       "    <tr>\n",
       "      <th>1</th>\n",
       "      <td>ENVO:01001442</td>\n",
       "      <td>192</td>\n",
       "    </tr>\n",
       "  </tbody>\n",
       "</table>\n",
       "</div>"
      ]
     },
     "execution_count": 1578,
     "metadata": {},
     "output_type": "execute_result"
    }
   ],
   "execution_count": 1578
  },
  {
   "metadata": {
    "ExecuteTime": {
     "end_time": "2024-12-13T21:28:37.002392Z",
     "start_time": "2024-12-13T21:28:36.997247Z"
    }
   },
   "cell_type": "code",
   "source": [
    "# Perform the left merge\n",
    "rows_frame = rows_frame.merge(\n",
    "    nmdc_biosample_scoped_counts,\n",
    "    left_on='curie',\n",
    "    right_on='curie',\n",
    "    how='left'\n",
    ")"
   ],
   "id": "329203aecb25f598",
   "outputs": [],
   "execution_count": 1579
  },
  {
   "metadata": {
    "ExecuteTime": {
     "end_time": "2024-12-13T21:28:37.022855Z",
     "start_time": "2024-12-13T21:28:37.003872Z"
    }
   },
   "cell_type": "code",
   "source": "rows_frame",
   "id": "8346fb59af8e61c6",
   "outputs": [
    {
     "data": {
      "text/plain": [
       "             curie                   label  envo_native  obsolete  \\\n",
       "0       PO:0000003             whole plant        False     False   \n",
       "1     ENVO:0003089                    None        False     False   \n",
       "2    ENVO:00005785  obsolete volcanic soil         True      True   \n",
       "3    ENVO:00000163       coffee plantation         True     False   \n",
       "4    ENVO:01000164             root nodule         True     False   \n",
       "..             ...                     ...          ...       ...   \n",
       "702  ENVO:01000687                   coast         True     False   \n",
       "703  ENVO:01001405  laboratory environment         True     False   \n",
       "704  ENVO:01000855    area of mixed forest         True     False   \n",
       "705  ENVO:00005822                    None        False     False   \n",
       "706  ENVO:00005847                    None        False     False   \n",
       "\n",
       "     EnvBroadScaleSoilEnum_11_1  ancestors_in_enum_count  \\\n",
       "0                         False                        0   \n",
       "1                         False                        0   \n",
       "2                         False                        0   \n",
       "3                         False                        3   \n",
       "4                         False                        0   \n",
       "..                          ...                      ...   \n",
       "702                       False                        0   \n",
       "703                       False                        0   \n",
       "704                       False                        1   \n",
       "705                       False                        0   \n",
       "706                       False                        0   \n",
       "\n",
       "     descendants_in_enum_count  nlcd_class    abp  env_sys  ...   soil  \\\n",
       "0                            2       False  False    False  ...  False   \n",
       "1                            0       False  False    False  ...  False   \n",
       "2                            0       False  False    False  ...  False   \n",
       "3                            0       False   True     True  ...  False   \n",
       "4                            0       False  False    False  ...  False   \n",
       "..                         ...         ...    ...      ...  ...    ...   \n",
       "702                          2       False   True    False  ...  False   \n",
       "703                          0       False  False     True  ...  False   \n",
       "704                          0        True   True    False  ...  False   \n",
       "705                          0       False  False    False  ...  False   \n",
       "706                          0       False  False    False  ...  False   \n",
       "\n",
       "     liquid water  water ice   snow  mass_of_environmental_material  \\\n",
       "0           False      False  False                           False   \n",
       "1           False      False  False                           False   \n",
       "2           False      False  False                           False   \n",
       "3           False      False  False                           False   \n",
       "4           False      False  False                            True   \n",
       "..            ...        ...    ...                             ...   \n",
       "702         False      False  False                           False   \n",
       "703         False      False  False                           False   \n",
       "704         False      False  False                           False   \n",
       "705         False      False  False                           False   \n",
       "706         False      False  False                           False   \n",
       "\n",
       "     human_construction  building  building_part  goldterms_mappings  \\\n",
       "0                 False     False          False               False   \n",
       "1                 False     False          False               False   \n",
       "2                 False     False          False               False   \n",
       "3                 False     False          False               False   \n",
       "4                 False     False          False                True   \n",
       "..                  ...       ...            ...                 ...   \n",
       "702               False     False          False               False   \n",
       "703               False     False          False               False   \n",
       "704               False     False          False               False   \n",
       "705               False     False          False               False   \n",
       "706               False     False          False               False   \n",
       "\n",
       "     nmdc_biosamples_count  \n",
       "0                      NaN  \n",
       "1                      NaN  \n",
       "2                      NaN  \n",
       "3                      NaN  \n",
       "4                      NaN  \n",
       "..                     ...  \n",
       "702                    NaN  \n",
       "703                    NaN  \n",
       "704                    NaN  \n",
       "705                    NaN  \n",
       "706                    NaN  \n",
       "\n",
       "[707 rows x 24 columns]"
      ],
      "text/html": [
       "<div>\n",
       "<style scoped>\n",
       "    .dataframe tbody tr th:only-of-type {\n",
       "        vertical-align: middle;\n",
       "    }\n",
       "\n",
       "    .dataframe tbody tr th {\n",
       "        vertical-align: top;\n",
       "    }\n",
       "\n",
       "    .dataframe thead th {\n",
       "        text-align: right;\n",
       "    }\n",
       "</style>\n",
       "<table border=\"1\" class=\"dataframe\">\n",
       "  <thead>\n",
       "    <tr style=\"text-align: right;\">\n",
       "      <th></th>\n",
       "      <th>curie</th>\n",
       "      <th>label</th>\n",
       "      <th>envo_native</th>\n",
       "      <th>obsolete</th>\n",
       "      <th>EnvBroadScaleSoilEnum_11_1</th>\n",
       "      <th>ancestors_in_enum_count</th>\n",
       "      <th>descendants_in_enum_count</th>\n",
       "      <th>nlcd_class</th>\n",
       "      <th>abp</th>\n",
       "      <th>env_sys</th>\n",
       "      <th>...</th>\n",
       "      <th>soil</th>\n",
       "      <th>liquid water</th>\n",
       "      <th>water ice</th>\n",
       "      <th>snow</th>\n",
       "      <th>mass_of_environmental_material</th>\n",
       "      <th>human_construction</th>\n",
       "      <th>building</th>\n",
       "      <th>building_part</th>\n",
       "      <th>goldterms_mappings</th>\n",
       "      <th>nmdc_biosamples_count</th>\n",
       "    </tr>\n",
       "  </thead>\n",
       "  <tbody>\n",
       "    <tr>\n",
       "      <th>0</th>\n",
       "      <td>PO:0000003</td>\n",
       "      <td>whole plant</td>\n",
       "      <td>False</td>\n",
       "      <td>False</td>\n",
       "      <td>False</td>\n",
       "      <td>0</td>\n",
       "      <td>2</td>\n",
       "      <td>False</td>\n",
       "      <td>False</td>\n",
       "      <td>False</td>\n",
       "      <td>...</td>\n",
       "      <td>False</td>\n",
       "      <td>False</td>\n",
       "      <td>False</td>\n",
       "      <td>False</td>\n",
       "      <td>False</td>\n",
       "      <td>False</td>\n",
       "      <td>False</td>\n",
       "      <td>False</td>\n",
       "      <td>False</td>\n",
       "      <td>NaN</td>\n",
       "    </tr>\n",
       "    <tr>\n",
       "      <th>1</th>\n",
       "      <td>ENVO:0003089</td>\n",
       "      <td>None</td>\n",
       "      <td>False</td>\n",
       "      <td>False</td>\n",
       "      <td>False</td>\n",
       "      <td>0</td>\n",
       "      <td>0</td>\n",
       "      <td>False</td>\n",
       "      <td>False</td>\n",
       "      <td>False</td>\n",
       "      <td>...</td>\n",
       "      <td>False</td>\n",
       "      <td>False</td>\n",
       "      <td>False</td>\n",
       "      <td>False</td>\n",
       "      <td>False</td>\n",
       "      <td>False</td>\n",
       "      <td>False</td>\n",
       "      <td>False</td>\n",
       "      <td>False</td>\n",
       "      <td>NaN</td>\n",
       "    </tr>\n",
       "    <tr>\n",
       "      <th>2</th>\n",
       "      <td>ENVO:00005785</td>\n",
       "      <td>obsolete volcanic soil</td>\n",
       "      <td>True</td>\n",
       "      <td>True</td>\n",
       "      <td>False</td>\n",
       "      <td>0</td>\n",
       "      <td>0</td>\n",
       "      <td>False</td>\n",
       "      <td>False</td>\n",
       "      <td>False</td>\n",
       "      <td>...</td>\n",
       "      <td>False</td>\n",
       "      <td>False</td>\n",
       "      <td>False</td>\n",
       "      <td>False</td>\n",
       "      <td>False</td>\n",
       "      <td>False</td>\n",
       "      <td>False</td>\n",
       "      <td>False</td>\n",
       "      <td>False</td>\n",
       "      <td>NaN</td>\n",
       "    </tr>\n",
       "    <tr>\n",
       "      <th>3</th>\n",
       "      <td>ENVO:00000163</td>\n",
       "      <td>coffee plantation</td>\n",
       "      <td>True</td>\n",
       "      <td>False</td>\n",
       "      <td>False</td>\n",
       "      <td>3</td>\n",
       "      <td>0</td>\n",
       "      <td>False</td>\n",
       "      <td>True</td>\n",
       "      <td>True</td>\n",
       "      <td>...</td>\n",
       "      <td>False</td>\n",
       "      <td>False</td>\n",
       "      <td>False</td>\n",
       "      <td>False</td>\n",
       "      <td>False</td>\n",
       "      <td>False</td>\n",
       "      <td>False</td>\n",
       "      <td>False</td>\n",
       "      <td>False</td>\n",
       "      <td>NaN</td>\n",
       "    </tr>\n",
       "    <tr>\n",
       "      <th>4</th>\n",
       "      <td>ENVO:01000164</td>\n",
       "      <td>root nodule</td>\n",
       "      <td>True</td>\n",
       "      <td>False</td>\n",
       "      <td>False</td>\n",
       "      <td>0</td>\n",
       "      <td>0</td>\n",
       "      <td>False</td>\n",
       "      <td>False</td>\n",
       "      <td>False</td>\n",
       "      <td>...</td>\n",
       "      <td>False</td>\n",
       "      <td>False</td>\n",
       "      <td>False</td>\n",
       "      <td>False</td>\n",
       "      <td>True</td>\n",
       "      <td>False</td>\n",
       "      <td>False</td>\n",
       "      <td>False</td>\n",
       "      <td>True</td>\n",
       "      <td>NaN</td>\n",
       "    </tr>\n",
       "    <tr>\n",
       "      <th>...</th>\n",
       "      <td>...</td>\n",
       "      <td>...</td>\n",
       "      <td>...</td>\n",
       "      <td>...</td>\n",
       "      <td>...</td>\n",
       "      <td>...</td>\n",
       "      <td>...</td>\n",
       "      <td>...</td>\n",
       "      <td>...</td>\n",
       "      <td>...</td>\n",
       "      <td>...</td>\n",
       "      <td>...</td>\n",
       "      <td>...</td>\n",
       "      <td>...</td>\n",
       "      <td>...</td>\n",
       "      <td>...</td>\n",
       "      <td>...</td>\n",
       "      <td>...</td>\n",
       "      <td>...</td>\n",
       "      <td>...</td>\n",
       "      <td>...</td>\n",
       "    </tr>\n",
       "    <tr>\n",
       "      <th>702</th>\n",
       "      <td>ENVO:01000687</td>\n",
       "      <td>coast</td>\n",
       "      <td>True</td>\n",
       "      <td>False</td>\n",
       "      <td>False</td>\n",
       "      <td>0</td>\n",
       "      <td>2</td>\n",
       "      <td>False</td>\n",
       "      <td>True</td>\n",
       "      <td>False</td>\n",
       "      <td>...</td>\n",
       "      <td>False</td>\n",
       "      <td>False</td>\n",
       "      <td>False</td>\n",
       "      <td>False</td>\n",
       "      <td>False</td>\n",
       "      <td>False</td>\n",
       "      <td>False</td>\n",
       "      <td>False</td>\n",
       "      <td>False</td>\n",
       "      <td>NaN</td>\n",
       "    </tr>\n",
       "    <tr>\n",
       "      <th>703</th>\n",
       "      <td>ENVO:01001405</td>\n",
       "      <td>laboratory environment</td>\n",
       "      <td>True</td>\n",
       "      <td>False</td>\n",
       "      <td>False</td>\n",
       "      <td>0</td>\n",
       "      <td>0</td>\n",
       "      <td>False</td>\n",
       "      <td>False</td>\n",
       "      <td>True</td>\n",
       "      <td>...</td>\n",
       "      <td>False</td>\n",
       "      <td>False</td>\n",
       "      <td>False</td>\n",
       "      <td>False</td>\n",
       "      <td>False</td>\n",
       "      <td>False</td>\n",
       "      <td>False</td>\n",
       "      <td>False</td>\n",
       "      <td>False</td>\n",
       "      <td>NaN</td>\n",
       "    </tr>\n",
       "    <tr>\n",
       "      <th>704</th>\n",
       "      <td>ENVO:01000855</td>\n",
       "      <td>area of mixed forest</td>\n",
       "      <td>True</td>\n",
       "      <td>False</td>\n",
       "      <td>False</td>\n",
       "      <td>1</td>\n",
       "      <td>0</td>\n",
       "      <td>True</td>\n",
       "      <td>True</td>\n",
       "      <td>False</td>\n",
       "      <td>...</td>\n",
       "      <td>False</td>\n",
       "      <td>False</td>\n",
       "      <td>False</td>\n",
       "      <td>False</td>\n",
       "      <td>False</td>\n",
       "      <td>False</td>\n",
       "      <td>False</td>\n",
       "      <td>False</td>\n",
       "      <td>False</td>\n",
       "      <td>NaN</td>\n",
       "    </tr>\n",
       "    <tr>\n",
       "      <th>705</th>\n",
       "      <td>ENVO:00005822</td>\n",
       "      <td>None</td>\n",
       "      <td>False</td>\n",
       "      <td>False</td>\n",
       "      <td>False</td>\n",
       "      <td>0</td>\n",
       "      <td>0</td>\n",
       "      <td>False</td>\n",
       "      <td>False</td>\n",
       "      <td>False</td>\n",
       "      <td>...</td>\n",
       "      <td>False</td>\n",
       "      <td>False</td>\n",
       "      <td>False</td>\n",
       "      <td>False</td>\n",
       "      <td>False</td>\n",
       "      <td>False</td>\n",
       "      <td>False</td>\n",
       "      <td>False</td>\n",
       "      <td>False</td>\n",
       "      <td>NaN</td>\n",
       "    </tr>\n",
       "    <tr>\n",
       "      <th>706</th>\n",
       "      <td>ENVO:00005847</td>\n",
       "      <td>None</td>\n",
       "      <td>False</td>\n",
       "      <td>False</td>\n",
       "      <td>False</td>\n",
       "      <td>0</td>\n",
       "      <td>0</td>\n",
       "      <td>False</td>\n",
       "      <td>False</td>\n",
       "      <td>False</td>\n",
       "      <td>...</td>\n",
       "      <td>False</td>\n",
       "      <td>False</td>\n",
       "      <td>False</td>\n",
       "      <td>False</td>\n",
       "      <td>False</td>\n",
       "      <td>False</td>\n",
       "      <td>False</td>\n",
       "      <td>False</td>\n",
       "      <td>False</td>\n",
       "      <td>NaN</td>\n",
       "    </tr>\n",
       "  </tbody>\n",
       "</table>\n",
       "<p>707 rows × 24 columns</p>\n",
       "</div>"
      ]
     },
     "execution_count": 1580,
     "metadata": {},
     "output_type": "execute_result"
    }
   ],
   "execution_count": 1580
  },
  {
   "metadata": {
    "ExecuteTime": {
     "end_time": "2024-12-13T21:28:37.029116Z",
     "start_time": "2024-12-13T21:28:37.024871Z"
    }
   },
   "cell_type": "code",
   "source": [
    "# gold and ncbi counts are slightly trickier\n",
    "# for gold: including mappings only, mappings in hybrid with biosample counts. \n",
    "#    Switch to direct biosample counts of GOLD \"envo\" annotations?\n",
    "# ncbi: we have extracted curies and annotated curies"
   ],
   "id": "87a64ed7d57d81ee",
   "outputs": [],
   "execution_count": 1581
  },
  {
   "metadata": {},
   "cell_type": "markdown",
   "source": "## Merge in NCBI counts",
   "id": "1f1f840c8c0acc80"
  },
  {
   "metadata": {
    "ExecuteTime": {
     "end_time": "2024-12-13T21:28:37.037088Z",
     "start_time": "2024-12-13T21:28:37.031138Z"
    }
   },
   "cell_type": "code",
   "source": [
    "# Perform the left merge\n",
    "rows_frame = rows_frame.merge(\n",
    "    ncbi_biosample_scoped_counts,\n",
    "    left_on='curie',\n",
    "    right_on='curie',\n",
    "    how='left'\n",
    ")"
   ],
   "id": "f4d8dc1053a5bb7e",
   "outputs": [],
   "execution_count": 1582
  },
  {
   "metadata": {
    "ExecuteTime": {
     "end_time": "2024-12-13T21:28:37.093709Z",
     "start_time": "2024-12-13T21:28:37.039152Z"
    }
   },
   "cell_type": "code",
   "source": "# 990 rows in https://docs.google.com/spreadsheets/d/12WH3eduBq2qSTy9zVF3n7fyajn6ssLZL/edit?gid=546570706#gid=546570706",
   "id": "396c3f6005a31874",
   "outputs": [],
   "execution_count": 1583
  },
  {
   "metadata": {
    "ExecuteTime": {
     "end_time": "2024-12-13T21:28:37.107584Z",
     "start_time": "2024-12-13T21:28:37.095923Z"
    }
   },
   "cell_type": "code",
   "source": "rows_frame.to_csv(output_file_name, sep=\"\\t\", index=False)",
   "id": "b7a26a1b879188a4",
   "outputs": [],
   "execution_count": 1584
  },
  {
   "metadata": {
    "ExecuteTime": {
     "end_time": "2024-12-13T21:28:38.624975Z",
     "start_time": "2024-12-13T21:28:37.109745Z"
    }
   },
   "cell_type": "code",
   "source": "ncbi_conn.close()",
   "id": "655f46a2a0a6da17",
   "outputs": [],
   "execution_count": 1585
  },
  {
   "metadata": {
    "ExecuteTime": {
     "end_time": "2024-12-13T21:28:38.629612Z",
     "start_time": "2024-12-13T21:28:38.627004Z"
    }
   },
   "cell_type": "code",
   "source": "",
   "id": "52d37ec6d91555e",
   "outputs": [],
   "execution_count": 1585
  }
 ],
 "metadata": {
  "kernelspec": {
   "display_name": "Python 3 (ipykernel)",
   "language": "python",
   "name": "python3"
  },
  "language_info": {
   "codemirror_mode": {
    "name": "ipython",
    "version": 3
   },
   "file_extension": ".py",
   "mimetype": "text/x-python",
   "name": "python",
   "nbconvert_exporter": "python",
   "pygments_lexer": "ipython3",
   "version": "3.10.13"
  }
 },
 "nbformat": 4,
 "nbformat_minor": 5
}
