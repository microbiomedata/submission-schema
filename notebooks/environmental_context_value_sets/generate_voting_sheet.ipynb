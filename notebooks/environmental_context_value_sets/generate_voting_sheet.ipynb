{
 "cells": [
  {
   "cell_type": "code",
   "id": "630126a7790cc3a7",
   "metadata": {
    "ExecuteTime": {
     "end_time": "2024-12-04T15:38:09.811776Z",
     "start_time": "2024-12-04T15:38:06.068279Z"
    }
   },
   "source": [
    "from common import *\n",
    "\n",
    "import gzip\n",
    "import os\n",
    "import shutil\n",
    "import sqlite3\n",
    "from urllib.parse import urlparse\n",
    "\n",
    "import duckdb\n",
    "import pandas as pd\n",
    "import requests\n",
    "from oaklib import get_adapter\n",
    "from oaklib.datamodels.vocabulary import IS_A\n",
    "from scipy.sparse import hstack\n",
    "from sklearn.ensemble import RandomForestClassifier\n",
    "from sklearn.metrics import classification_report\n",
    "from sklearn.model_selection import train_test_split\n",
    "\n",
    "import yaml\n"
   ],
   "outputs": [],
   "execution_count": 1
  },
  {
   "cell_type": "code",
   "id": "7b0ae730412c28ca",
   "metadata": {
    "ExecuteTime": {
     "end_time": "2024-12-04T15:38:09.825044Z",
     "start_time": "2024-12-04T15:38:09.821318Z"
    }
   },
   "source": [
    "print(\"verify output is being rendered\")"
   ],
   "outputs": [
    {
     "name": "stdout",
     "output_type": "stream",
     "text": [
      "verify output is being rendered\n"
     ]
    }
   ],
   "execution_count": 2
  },
  {
   "cell_type": "code",
   "id": "f952b5888d2c5f0d",
   "metadata": {
    "ExecuteTime": {
     "end_time": "2024-12-04T15:38:09.939650Z",
     "start_time": "2024-12-04T15:38:09.936078Z"
    }
   },
   "source": [
    "# Initialize cache dictionaries for predict_from_normalized_env_packages\n",
    "# todo how to move the definitions for function that use these globals? Or just use caching arrond the function?\n",
    "ancestor_cache = {}\n",
    "descendant_cache = {}"
   ],
   "outputs": [],
   "execution_count": 3
  },
  {
   "cell_type": "code",
   "id": "5001cbd978bbdd28",
   "metadata": {
    "ExecuteTime": {
     "end_time": "2024-12-04T15:38:09.987983Z",
     "start_time": "2024-12-04T15:38:09.983630Z"
    }
   },
   "source": [
    "# todo deal with circularity in env package prediction -> env triad reporting\n",
    "\n",
    "# todo the on-demand NCBI curie extraction and annotation recapitulates this shared work\n",
    "#   although that doesn't detect auto-incremented curies from  spreadsheet dragging\n",
    "\n",
    "# todo if more caching is desired, it should probably take the form of saving dataframes for TSV\n",
    "\n",
    "# todo include gold-envo mappings whether they are used by any gold samples or not\n",
    "\n",
    "# eventually, dig up a complete JSON gold biosample dump\n",
    "\n",
    "# overall run time (if NCBI biosamples and goldData are cached)"
   ],
   "outputs": [],
   "execution_count": 4
  },
  {
   "cell_type": "markdown",
   "id": "2ef284816f7ce9d6",
   "metadata": {},
   "source": [
    "# Task Settings\n",
    "_For making a Soil env_broad_scale voting sheet vs a Sediment env_local_scale sheet, etc._\n",
    "\n",
    "todo: bundle these into dicts so they don't have to be modified independently and kept in sync with one another."
   ]
  },
  {
   "metadata": {
    "ExecuteTime": {
     "end_time": "2024-12-04T15:38:10.035198Z",
     "start_time": "2024-12-04T15:38:10.031714Z"
    }
   },
   "cell_type": "code",
   "source": "output_file_name = \"sediment_env_local_scale_voting_sheet_2.tsv\"",
   "id": "90bf7256a956701d",
   "outputs": [],
   "execution_count": 5
  },
  {
   "metadata": {
    "ExecuteTime": {
     "end_time": "2024-12-04T15:38:10.081501Z",
     "start_time": "2024-12-04T15:38:10.078385Z"
    }
   },
   "cell_type": "code",
   "source": [
    "# semantic_anchor = 'ENVO:00000428' # biome for env_broad_scale\n",
    "semantic_anchor = 'ENVO:01000813' # astronomical body part \"abp\" for env_local_scale\n",
    "# semantic_anchor = 'ENVO:00010483' # environmental material for env_medium"
   ],
   "id": "95f7efc06f20987a",
   "outputs": [],
   "execution_count": 6
  },
  {
   "metadata": {},
   "cell_type": "markdown",
   "source": "## context selectors",
   "id": "51f51b3b88634488"
  },
  {
   "metadata": {
    "ExecuteTime": {
     "end_time": "2024-12-04T15:38:10.136023Z",
     "start_time": "2024-12-04T15:38:10.132972Z"
    }
   },
   "cell_type": "code",
   "source": [
    "# gold_context_selector = 'mixs:env_broad'\n",
    "gold_context_selector = 'mixs:env_local'\n",
    "# gold_context_selector = 'mixs:env_medium'"
   ],
   "id": "be00ed63d6472ead",
   "outputs": [],
   "execution_count": 7
  },
  {
   "metadata": {
    "ExecuteTime": {
     "end_time": "2024-12-04T15:38:10.183802Z",
     "start_time": "2024-12-04T15:38:10.180477Z"
    }
   },
   "cell_type": "code",
   "source": [
    "# ncbi_context_selector = 'env_broad_scale'\n",
    "ncbi_context_selector = 'env_local_scale'\n",
    "# ncbi_context_selector = 'env_medium'"
   ],
   "id": "7aa7b42c3f20ce44",
   "outputs": [],
   "execution_count": 8
  },
  {
   "metadata": {
    "ExecuteTime": {
     "end_time": "2024-12-04T15:38:10.230545Z",
     "start_time": "2024-12-04T15:38:10.227558Z"
    }
   },
   "cell_type": "code",
   "source": [
    "# nmdc_context_selector= 'env_broad_scale_id'\n",
    "nmdc_context_selector= 'env_local_scale_id'\n",
    "# nmdc_context_selector= 'env_medium_id'"
   ],
   "id": "ce80b2d7e64e5710",
   "outputs": [],
   "execution_count": 9
  },
  {
   "metadata": {},
   "cell_type": "markdown",
   "source": "## package aka environment aka extension selectors",
   "id": "2f0bdadeb5d32fa8"
  },
  {
   "metadata": {
    "ExecuteTime": {
     "end_time": "2024-12-04T15:38:10.278305Z",
     "start_time": "2024-12-04T15:38:10.275040Z"
    }
   },
   "cell_type": "code",
   "source": [
    "# todo new since soil: why are we only considering MIMS.me for discovering appropriate env triad values?\n",
    "#   there's usually a roughly equal number of biosamples from in each extension for MIMS.me and \n",
    "\n",
    "# ncbi_package_selector = 'MIMS.me.plant-associated.6.0'\n",
    "ncbi_package_selector = 'MIMS.me.sediment.6.0'\n",
    "# ncbi_package_selector = 'MIMS.me.soil.6.0'\n",
    "# ncbi_package_selector = 'MIMS.me.water.6.0'"
   ],
   "id": "f5654d6f9319576b",
   "outputs": [],
   "execution_count": 10
  },
  {
   "metadata": {
    "ExecuteTime": {
     "end_time": "2024-12-04T15:38:10.328406Z",
     "start_time": "2024-12-04T15:38:10.324539Z"
    }
   },
   "cell_type": "code",
   "source": [
    "# nmdc_package_selector = 'plant-associated'\n",
    "nmdc_package_selector = 'sediment'\n",
    "# nmdc_package_selector = 'soil'\n",
    "# nmdc_package_selector = 'water'\n"
   ],
   "id": "5e358e42ad885188",
   "outputs": [],
   "execution_count": 11
  },
  {
   "metadata": {
    "ExecuteTime": {
     "end_time": "2024-12-04T15:38:10.394088Z",
     "start_time": "2024-12-04T15:38:10.379536Z"
    }
   },
   "cell_type": "code",
   "source": [
    "GOLDTERMS_NA = '' # ???\n",
    "\n",
    "GOLDTERMS_PLANT_ASSOCIATED = GOLDTERMS_NA\n",
    "GOLDTERMS_SEDIMENT = 'GOLDTERMS:3985' #  doesn't have any subclasses\n",
    "GOLDTERMS_SOIL = 'GOLDTERMS:4212'\n",
    "GOLDTERMS_WATER = 'GOLDTERMS:3984'\n",
    "\n",
    "# GOLDTERMS:4180, 'Environmental > Aquatic > Freshwater > Pond > Sediment' and ~64 more don't share a common root\n",
    "# poetry run runoak -i sqlite:obo:goldterms info 't~sediment'\n"
   ],
   "id": "eda591e14a91cd01",
   "outputs": [],
   "execution_count": 12
  },
  {
   "metadata": {
    "ExecuteTime": {
     "end_time": "2024-12-04T15:38:10.440356Z",
     "start_time": "2024-12-04T15:38:10.437369Z"
    }
   },
   "cell_type": "code",
   "source": "goldterms_root = GOLDTERMS_NA",
   "id": "bba8bf1e75430ef",
   "outputs": [],
   "execution_count": 13
  },
  {
   "metadata": {},
   "cell_type": "markdown",
   "source": "## selecting name and version of one enum for comparison\n",
   "id": "394f96a70a95754f"
  },
  {
   "metadata": {
    "ExecuteTime": {
     "end_time": "2024-12-04T15:38:10.487591Z",
     "start_time": "2024-12-04T15:38:10.484486Z"
    }
   },
   "cell_type": "code",
   "source": [
    "# only the Soil enums have legacy definitions (v10.7 and earlier?)\n",
    "\n",
    "# CONTEXT_ENUM = \"EnvBroadScaleSoilEnum\"\n",
    "CONTEXT_ENUM = \"EnvLocalScaleSoilEnum\"\n",
    "# CONTEXT_ENUM = \"EnvMediumSoilEnum\"\n",
    "\n",
    "# CONTEXT_ENUM = \"\""
   ],
   "id": "20750df32ebb2033",
   "outputs": [],
   "execution_count": 14
  },
  {
   "metadata": {
    "ExecuteTime": {
     "end_time": "2024-12-04T15:38:10.533843Z",
     "start_time": "2024-12-04T15:38:10.530726Z"
    }
   },
   "cell_type": "code",
   "source": [
    "# todo: add columns for membership in multiple enums from multiple version of the schema?\n",
    "#  like sediment local vs soil local and water local (once that's completed)\n",
    "#  get them from schema files or something prior to that? sems like the voting sheets are too raw/preliminary for that\n",
    "#   can use a more recent schema url for more recent enums!\n",
    "\n",
    "# previous_submission_schema_url = \"https://raw.githubusercontent.com/microbiomedata/submission-schema/v10.7.0/src/nmdc_submission_schema/schema/nmdc_submission_schema.yaml\"\n",
    "\n",
    "previous_submission_schema_url = \"https://raw.githubusercontent.com/microbiomedata/submission-schema/refs/tags/v11.1.0/src/nmdc_submission_schema/schema/nmdc_submission_schema.yaml\""
   ],
   "id": "f588eccfcb2771ba",
   "outputs": [],
   "execution_count": 15
  },
  {
   "metadata": {},
   "cell_type": "code",
   "outputs": [],
   "execution_count": null,
   "source": [
    "# todo: don't call the column \"legacy_pv\". use the name of the enum and the version of the schema?\n",
    "\n",
    "comparison_enum_column_name = 'EnvLocalScaleSoilEnum_11_1'"
   ],
   "id": "e259066dee0973c4"
  },
  {
   "metadata": {},
   "cell_type": "markdown",
   "source": "# Additional Settings",
   "id": "b799aabdd66098c0"
  },
  {
   "metadata": {
    "ExecuteTime": {
     "end_time": "2024-12-04T15:38:10.580960Z",
     "start_time": "2024-12-04T15:38:10.577819Z"
    }
   },
   "cell_type": "code",
   "source": [
    "# Approved prefixes (case-insensitive)\n",
    "approved_prefixes = ['ENVO']"
   ],
   "id": "50e39f658f4bd77b",
   "outputs": [],
   "execution_count": 16
  },
  {
   "metadata": {
    "ExecuteTime": {
     "end_time": "2024-12-04T15:38:10.636579Z",
     "start_time": "2024-12-04T15:38:10.633701Z"
    }
   },
   "cell_type": "code",
   "source": "MIN_ANNOTATION_LEN = 3",
   "id": "3aa0b52456f0a95c",
   "outputs": [],
   "execution_count": 17
  },
  {
   "cell_type": "code",
   "id": "d526be618b8b9129",
   "metadata": {
    "ExecuteTime": {
     "end_time": "2024-12-04T15:38:10.683472Z",
     "start_time": "2024-12-04T15:38:10.680434Z"
    }
   },
   "source": [
    "NMDC_RUNTIME_BASE_URL = 'https://api.microbiomedata.org/nmdcschema/'\n",
    "STUDY_SET_COLLECTION = 'study_set'\n",
    "BIOSAMPLE_SET_COLLECTION = 'biosample_set'"
   ],
   "outputs": [],
   "execution_count": 18
  },
  {
   "cell_type": "code",
   "id": "11c0cba800e33ac6",
   "metadata": {
    "ExecuteTime": {
     "end_time": "2024-12-04T15:38:10.730309Z",
     "start_time": "2024-12-04T15:38:10.727412Z"
    }
   },
   "source": [
    "envo_adapter_string = \"sqlite:obo:envo\""
   ],
   "outputs": [],
   "execution_count": 19
  },
  {
   "cell_type": "code",
   "id": "daf9f023fbf97cde",
   "metadata": {
    "ExecuteTime": {
     "end_time": "2024-12-04T15:38:10.776703Z",
     "start_time": "2024-12-04T15:38:10.773920Z"
    }
   },
   "source": [
    "# goldterms_adapter_string = \"sqlite:obo:envo\""
   ],
   "outputs": [],
   "execution_count": 20
  },
  {
   "cell_type": "code",
   "id": "7795121f47307a00",
   "metadata": {
    "ExecuteTime": {
     "end_time": "2024-12-04T15:38:10.823353Z",
     "start_time": "2024-12-04T15:38:10.820322Z"
    }
   },
   "source": [
    "env_package_override_file = 'mam-env-package-overrides.tsv'\n",
    "override_column = 'mam_inferred_env_package'"
   ],
   "outputs": [],
   "execution_count": 21
  },
  {
   "cell_type": "code",
   "id": "f1b99451d88ce356",
   "metadata": {
    "ExecuteTime": {
     "end_time": "2024-12-04T15:38:10.872014Z",
     "start_time": "2024-12-04T15:38:10.869023Z"
    }
   },
   "source": [
    "ncbi_duckdb_url = 'https://portal.nersc.gov/project/m3408/biosamples_duckdb/ncbi_biosamples_2024-09-23.duckdb.gz'"
   ],
   "outputs": [],
   "execution_count": 22
  },
  {
   "cell_type": "code",
   "id": "51e5d41b02b19eec",
   "metadata": {
    "ExecuteTime": {
     "end_time": "2024-12-04T15:38:10.919057Z",
     "start_time": "2024-12-04T15:38:10.915791Z"
    }
   },
   "source": [
    "gold_data_url = \"https://gold.jgi.doe.gov/download?mode=site_excel\"\n",
    "gold_data_file_name = \"goldData.xlsx\" # goldData.xlsx: Microsoft Excel 2007+\n",
    "BIOSAMPLES_SHEET = \"Biosample\""
   ],
   "outputs": [],
   "execution_count": 23
  },
  {
   "cell_type": "code",
   "id": "e1d9f705fad2efa9",
   "metadata": {
    "ExecuteTime": {
     "end_time": "2024-12-04T15:38:10.965033Z",
     "start_time": "2024-12-04T15:38:10.962256Z"
    }
   },
   "source": [
    "goldterms_semsql_url = \"https://s3.amazonaws.com/bbop-sqlite/goldterms.db.gz\"\n"
   ],
   "outputs": [],
   "execution_count": 24
  },
  {
   "metadata": {},
   "cell_type": "markdown",
   "source": "# Settings-based Queries",
   "id": "7ecec14181910236"
  },
  {
   "cell_type": "code",
   "id": "4cdc7819c92bff3c",
   "metadata": {
    "ExecuteTime": {
     "end_time": "2024-12-04T15:38:11.018442Z",
     "start_time": "2024-12-04T15:38:11.015172Z"
    }
   },
   "source": [
    "goldterms_subclass_query = f\"\"\"\n",
    "select\n",
    "\tsubject\n",
    "from\n",
    "\tentailed_edge ee\n",
    "where\n",
    "\tpredicate = 'rdfs:subClassOf'\n",
    "\tand object = '{goldterms_root}'\n",
    "\"\"\""
   ],
   "outputs": [],
   "execution_count": 25
  },
  {
   "cell_type": "code",
   "id": "fb8c7caf28e64d10",
   "metadata": {
    "ExecuteTime": {
     "end_time": "2024-12-04T15:38:11.079327Z",
     "start_time": "2024-12-04T15:38:11.069525Z"
    }
   },
   "source": [
    "# todo could this have been done with a OAK query, eliminating the need to explicitly download the file?\n",
    "\n",
    "goldterms_envo_query = f\"\"\"\n",
    "SELECT\n",
    "\t*\n",
    "FROM\n",
    "\tstatements s\n",
    "WHERE\n",
    "\tpredicate = '{gold_context_selector}'\"\"\""
   ],
   "outputs": [],
   "execution_count": 26
  },
  {
   "cell_type": "code",
   "id": "afd52cf83301de09",
   "metadata": {
    "ExecuteTime": {
     "end_time": "2024-12-04T15:38:11.130827Z",
     "start_time": "2024-12-04T15:38:11.127567Z"
    }
   },
   "source": [
    "ncbi_query = f\"\"\"\n",
    "SELECT content, COUNT(1) AS sample_count \n",
    "FROM attributes \n",
    "WHERE harmonized_name = '{ncbi_context_selector}' AND package_content = '{ncbi_package_selector}'\n",
    "GROUP BY content\n",
    "ORDER BY COUNT(1) DESC\n",
    "\"\"\""
   ],
   "outputs": [],
   "execution_count": 27
  },
  {
   "metadata": {},
   "cell_type": "markdown",
   "source": [
    "# Locally Defined Functions\n",
    "_Currently using locally-defined cache dictionaries_"
   ],
   "id": "6c4cf0d065a7de07"
  },
  {
   "cell_type": "code",
   "id": "38412bd611726160",
   "metadata": {
    "ExecuteTime": {
     "end_time": "2024-12-04T15:38:11.183883Z",
     "start_time": "2024-12-04T15:38:11.175749Z"
    }
   },
   "source": [
    "def predict_from_normalized_env_packages(df_raw, adapter):\n",
    "    # Apply the function to the relevant columns\n",
    "\n",
    "    df = df_raw.copy()\n",
    "\n",
    "    print(df.shape)\n",
    "    for column in ['env_broad_scale_id', 'env_local_scale_id', 'env_medium_id']:\n",
    "        df[f'{column}_ancestors'] = df[column].apply(lambda x: get_hierarchy_terms(x, adapter)['ancestors'])\n",
    "        df[f'{column}_descendants'] = df[column].apply(lambda x: get_hierarchy_terms(x, adapter)['descendants'])\n",
    "\n",
    "    # Vectorize each set of terms separately\n",
    "    broad_scale_ancestors = vectorize_terms(df, 'env_broad_scale_id_ancestors')\n",
    "    broad_scale_descendants = vectorize_terms(df, 'env_broad_scale_id_descendants')\n",
    "\n",
    "    local_scale_ancestors = vectorize_terms(df, 'env_local_scale_id_ancestors')\n",
    "    local_scale_descendants = vectorize_terms(df, 'env_local_scale_id_descendants')\n",
    "\n",
    "    medium_ancestors = vectorize_terms(df, 'env_medium_id_ancestors')\n",
    "    medium_descendants = vectorize_terms(df, 'env_medium_id_descendants')\n",
    "\n",
    "    # Combine all feature matrices\n",
    "    X = hstack([\n",
    "        broad_scale_ancestors,\n",
    "        broad_scale_descendants,\n",
    "        local_scale_ancestors,\n",
    "        local_scale_descendants,\n",
    "        medium_ancestors,\n",
    "        medium_descendants\n",
    "    ])\n",
    "\n",
    "    # Filter the DataFrame to only include non-null rows for the target column\n",
    "    df_filtered = df[df['normalized_env_package'].notnull() & (df['normalized_env_package'] != \"\")]\n",
    "\n",
    "    # Extract the target variable\n",
    "    y = df_filtered['normalized_env_package']\n",
    "\n",
    "    # Ensure X corresponds to the filtered rows\n",
    "    X_filtered = X[df_filtered.index]\n",
    "\n",
    "    # Split the data into training and testing sets\n",
    "    X_train, X_test, y_train, y_test = train_test_split(X_filtered, y, test_size=0.3, random_state=42)\n",
    "\n",
    "    # Train a Random Forest Classifier\n",
    "    clf = RandomForestClassifier(n_estimators=100, random_state=42)\n",
    "    clf.fit(X_train, y_train)\n",
    "\n",
    "    # Make predictions on the test set\n",
    "    y_pred = clf.predict(X_test)\n",
    "\n",
    "    # Evaluate the model\n",
    "    print(classification_report(y_test, y_pred))\n",
    "\n",
    "    # not determining confidence for each class nor saving any diagnostics any more\n",
    "\n",
    "    return clf.predict(X)"
   ],
   "outputs": [],
   "execution_count": 28
  },
  {
   "cell_type": "code",
   "id": "4515456aaeaa7980",
   "metadata": {
    "ExecuteTime": {
     "end_time": "2024-12-04T15:38:11.232561Z",
     "start_time": "2024-12-04T15:38:11.226672Z"
    }
   },
   "source": [
    "def get_hierarchy_terms(my_curie: str, adapter) -> dict:\n",
    "    \"\"\"\n",
    "    Extract ancestor and descendant terms from the ontology for a given CURIE,\n",
    "    using caching to improve performance and filtering by 'is_a' relationships.\n",
    "\n",
    "    Args:\n",
    "        my_curie (str): CURIE identifier for the ontology term.\n",
    "        adapter: Ontology adapter.\n",
    "\n",
    "    Returns:\n",
    "        dict: Dictionary containing lists of ancestor and descendant terms.\n",
    "    \"\"\"\n",
    "    if my_curie not in ancestor_cache:\n",
    "        try:\n",
    "            ancestors = list(adapter.ancestors(my_curie, predicates=[IS_A]))\n",
    "            ancestor_cache[my_curie] = [adapter.label(ancestor) for ancestor in ancestors if ancestor]\n",
    "        except Exception as my_e:\n",
    "            print(f\"Error retrieving ancestors for {my_curie}: {my_e}\")\n",
    "            ancestor_cache[my_curie] = []\n",
    "\n",
    "    if my_curie not in descendant_cache:\n",
    "        try:\n",
    "            descendants = list(adapter.descendants(my_curie, predicates=[IS_A]))\n",
    "            descendant_cache[my_curie] = [adapter.label(descendant) for descendant in descendants if descendant]\n",
    "        except Exception as my_e:\n",
    "            print(f\"Error retrieving descendants for {my_curie}: {my_e}\")\n",
    "            descendant_cache[my_curie] = []\n",
    "\n",
    "    return {\n",
    "        'ancestors': ancestor_cache[my_curie],\n",
    "        'descendants': descendant_cache[my_curie],\n",
    "    }"
   ],
   "outputs": [],
   "execution_count": 29
  },
  {
   "metadata": {},
   "cell_type": "markdown",
   "source": "# Procedural Code Starts Here",
   "id": "1423fbbafdf5e167"
  },
  {
   "cell_type": "code",
   "id": "44fb14c1b01ac34c",
   "metadata": {
    "ExecuteTime": {
     "end_time": "2024-12-04T15:38:11.282907Z",
     "start_time": "2024-12-04T15:38:11.279108Z"
    }
   },
   "source": [
    "# Determine the filenames and target directory for the NCBI DuckDB\n",
    "ncbi_compressed_filename = urlparse(ncbi_duckdb_url).path.split('/')[-1]\n",
    "ncbi_filename = os.path.splitext(ncbi_compressed_filename)[0]\n",
    "ncbi_compressed_file_path = os.path.join(ncbi_compressed_filename)\n",
    "ncbi_uncompressed_file_path = os.path.join(ncbi_filename)\n",
    "\n",
    "# target_dir = os.path.join('.') # just assume the files are downloaded into the same directory as the notebook"
   ],
   "outputs": [],
   "execution_count": 30
  },
  {
   "cell_type": "code",
   "id": "353ba83ec3059ac5",
   "metadata": {
    "ExecuteTime": {
     "end_time": "2024-12-04T15:38:11.333793Z",
     "start_time": "2024-12-04T15:38:11.326503Z"
    }
   },
   "source": [
    "if os.path.isfile(ncbi_uncompressed_file_path):\n",
    "    print(f\"{ncbi_uncompressed_file_path} is already present in the current working directory.\")\n",
    "else:\n",
    "    if os.path.isfile(ncbi_compressed_file_path):\n",
    "        print(f\"{ncbi_compressed_file_path} is already present in the current working directory.\")\n",
    "    else:\n",
    "        print(f\"{ncbi_compressed_file_path} needs to be downloaded\")\n",
    "        ncbi_response = requests.get(ncbi_duckdb_url)\n",
    "        with open(ncbi_compressed_file_path, \"wb\") as f:\n",
    "            f.write(ncbi_response.content)\n",
    "        # ~ 2 minutes @ 250 Mbps\n",
    "    \n",
    "    # Unzip the compressed file and save the extracted file in target directory\n",
    "    print(f\"{ncbi_compressed_file_path} needs to be unpacked\")\n",
    "    with gzip.open(ncbi_compressed_file_path, \"rb\") as f_in:\n",
    "        with open(ncbi_uncompressed_file_path, \"wb\") as f_out:\n",
    "            shutil.copyfileobj(f_in, f_out)\n",
    "\n",
    "    # ~ 2 minutes"
   ],
   "outputs": [
    {
     "name": "stdout",
     "output_type": "stream",
     "text": [
      "ncbi_biosamples_2024-09-23.duckdb is already present in the current working directory.\n"
     ]
    }
   ],
   "execution_count": 31
  },
  {
   "cell_type": "code",
   "id": "63f815cbfb9b7a6b",
   "metadata": {
    "ExecuteTime": {
     "end_time": "2024-12-04T15:38:11.439890Z",
     "start_time": "2024-12-04T15:38:11.407859Z"
    }
   },
   "source": [
    "ncbi_conn = duckdb.connect(database=ncbi_uncompressed_file_path, read_only=True)"
   ],
   "outputs": [],
   "execution_count": 32
  },
  {
   "cell_type": "code",
   "id": "198256f26bc060e3",
   "metadata": {
    "ExecuteTime": {
     "end_time": "2024-12-04T15:38:11.491026Z",
     "start_time": "2024-12-04T15:38:11.460633Z"
    }
   },
   "source": [
    "envo_adapter = get_adapter(envo_adapter_string)"
   ],
   "outputs": [],
   "execution_count": 33
  },
  {
   "cell_type": "code",
   "id": "e863dc687ce4be5c",
   "metadata": {
    "ExecuteTime": {
     "end_time": "2024-12-04T15:38:12.175858Z",
     "start_time": "2024-12-04T15:38:11.508726Z"
    }
   },
   "source": "anchor_descendants = get_curie_descendants_label_dict(semantic_anchor, [IS_A], envo_adapter)",
   "outputs": [],
   "execution_count": 34
  },
  {
   "cell_type": "code",
   "id": "394abb56c4987eee",
   "metadata": {
    "ExecuteTime": {
     "end_time": "2024-12-04T15:38:12.190356Z",
     "start_time": "2024-12-04T15:38:12.187139Z"
    }
   },
   "source": [
    "anchor_descendants_lod = curie_descendants_label_dict_to_lod(anchor_descendants)"
   ],
   "outputs": [],
   "execution_count": 35
  },
  {
   "cell_type": "code",
   "id": "eea1a3f8395da0d7",
   "metadata": {
    "ExecuteTime": {
     "end_time": "2024-12-04T15:38:12.234339Z",
     "start_time": "2024-12-04T15:38:12.229757Z"
    }
   },
   "source": [
    "anchor_descendants_frame = curie_descendants_label_lod_to_df(anchor_descendants_lod)"
   ],
   "outputs": [],
   "execution_count": 36
  },
  {
   "cell_type": "code",
   "id": "f85faf81e0a55a42",
   "metadata": {
    "ExecuteTime": {
     "end_time": "2024-12-04T15:38:12.293594Z",
     "start_time": "2024-12-04T15:38:12.281730Z"
    }
   },
   "source": [
    "anchor_descendants_frame"
   ],
   "outputs": [
    {
     "data": {
      "text/plain": [
       "              curie                             label\n",
       "0     ENVO:00001999                 marine water body\n",
       "1     ENVO:01000188            tropical savanna biome\n",
       "2     ENVO:00000487                  paternoster lake\n",
       "3     ENVO:01000860  temperate marine upwelling biome\n",
       "4     ENVO:01000199        mediterranean forest biome\n",
       "...             ...                               ...\n",
       "1731  ENVO:01000429                            burrow\n",
       "1732  ENVO:01000431                      mixed forest\n",
       "1733  ENVO:01000536                           factory\n",
       "1734  ENVO:00000873                  freshwater biome\n",
       "1735  ENVO:03500002                       public park\n",
       "\n",
       "[1736 rows x 2 columns]"
      ],
      "text/html": [
       "<div>\n",
       "<style scoped>\n",
       "    .dataframe tbody tr th:only-of-type {\n",
       "        vertical-align: middle;\n",
       "    }\n",
       "\n",
       "    .dataframe tbody tr th {\n",
       "        vertical-align: top;\n",
       "    }\n",
       "\n",
       "    .dataframe thead th {\n",
       "        text-align: right;\n",
       "    }\n",
       "</style>\n",
       "<table border=\"1\" class=\"dataframe\">\n",
       "  <thead>\n",
       "    <tr style=\"text-align: right;\">\n",
       "      <th></th>\n",
       "      <th>curie</th>\n",
       "      <th>label</th>\n",
       "    </tr>\n",
       "  </thead>\n",
       "  <tbody>\n",
       "    <tr>\n",
       "      <th>0</th>\n",
       "      <td>ENVO:00001999</td>\n",
       "      <td>marine water body</td>\n",
       "    </tr>\n",
       "    <tr>\n",
       "      <th>1</th>\n",
       "      <td>ENVO:01000188</td>\n",
       "      <td>tropical savanna biome</td>\n",
       "    </tr>\n",
       "    <tr>\n",
       "      <th>2</th>\n",
       "      <td>ENVO:00000487</td>\n",
       "      <td>paternoster lake</td>\n",
       "    </tr>\n",
       "    <tr>\n",
       "      <th>3</th>\n",
       "      <td>ENVO:01000860</td>\n",
       "      <td>temperate marine upwelling biome</td>\n",
       "    </tr>\n",
       "    <tr>\n",
       "      <th>4</th>\n",
       "      <td>ENVO:01000199</td>\n",
       "      <td>mediterranean forest biome</td>\n",
       "    </tr>\n",
       "    <tr>\n",
       "      <th>...</th>\n",
       "      <td>...</td>\n",
       "      <td>...</td>\n",
       "    </tr>\n",
       "    <tr>\n",
       "      <th>1731</th>\n",
       "      <td>ENVO:01000429</td>\n",
       "      <td>burrow</td>\n",
       "    </tr>\n",
       "    <tr>\n",
       "      <th>1732</th>\n",
       "      <td>ENVO:01000431</td>\n",
       "      <td>mixed forest</td>\n",
       "    </tr>\n",
       "    <tr>\n",
       "      <th>1733</th>\n",
       "      <td>ENVO:01000536</td>\n",
       "      <td>factory</td>\n",
       "    </tr>\n",
       "    <tr>\n",
       "      <th>1734</th>\n",
       "      <td>ENVO:00000873</td>\n",
       "      <td>freshwater biome</td>\n",
       "    </tr>\n",
       "    <tr>\n",
       "      <th>1735</th>\n",
       "      <td>ENVO:03500002</td>\n",
       "      <td>public park</td>\n",
       "    </tr>\n",
       "  </tbody>\n",
       "</table>\n",
       "<p>1736 rows × 2 columns</p>\n",
       "</div>"
      ]
     },
     "execution_count": 37,
     "metadata": {},
     "output_type": "execute_result"
    }
   ],
   "execution_count": 37
  },
  {
   "cell_type": "markdown",
   "id": "857f1f1efd4635b9",
   "metadata": {},
   "source": [
    "----"
   ]
  },
  {
   "cell_type": "code",
   "id": "1432828ce7983148",
   "metadata": {
    "ExecuteTime": {
     "end_time": "2024-12-04T15:38:16.312719Z",
     "start_time": "2024-12-04T15:38:12.372028Z"
    }
   },
   "source": [
    "sv = get_schemaview_from_source(previous_submission_schema_url)"
   ],
   "outputs": [],
   "execution_count": 38
  },
  {
   "cell_type": "code",
   "id": "5841e0d6bc3d3c40",
   "metadata": {
    "ExecuteTime": {
     "end_time": "2024-12-04T15:38:16.372577Z",
     "start_time": "2024-12-04T15:38:16.365968Z"
    }
   },
   "source": [
    "# todo break out slow steps into its own cell\n",
    "\n",
    "try:\n",
    "    CONTEXT_ENUM_def = sv.get_enum(CONTEXT_ENUM)\n",
    "    context_pvs_keys = list(CONTEXT_ENUM_def.permissible_values.keys())\n",
    "except AttributeError as e:\n",
    "    # Handle the AttributeError\n",
    "    print(f\"An AttributeError occurred: {e}\")\n",
    "    context_pvs_keys =[]\n",
    "    "
   ],
   "outputs": [],
   "execution_count": 39
  },
  {
   "metadata": {
    "ExecuteTime": {
     "end_time": "2024-12-04T15:38:21.418440Z",
     "start_time": "2024-12-04T15:38:21.415330Z"
    }
   },
   "cell_type": "code",
   "source": "print(context_pvs_keys)",
   "id": "e47067e5b704ee70",
   "outputs": [
    {
     "name": "stdout",
     "output_type": "stream",
     "text": [
      "['active permafrost layer [ENVO:04000009]', 'alas [ENVO:00000438]', 'badland [ENVO:00000127]', 'beach [ENVO:00000091]', 'butte [ENVO:00000287]', 'caldera [ENVO:00000096]', 'campground [ENVO:01000935]', 'canyon [ENVO:00000169]', 'cave [ENVO:00000067]', 'channel [ENVO:03000117]', 'cirque [ENVO:00000155]', 'cliff [ENVO:00000087]', 'crater [ENVO:00000514]', 'crevasse [ENVO:00000320]', 'cryosphere [ENVO:03000143]', 'dam [ENVO:00000074]', 'desert [ENVO:01001357]', 'drainage basin [ENVO:00000291]', 'drumlin [ENVO:00000276]', 'dry lake [ENVO:00000277]', 'dune [ENVO:00000170]', 'endorheic basin [ENVO:00000551]', 'escarpment [ENVO:00000280]', 'esker [ENVO:00000282]', 'farm [ENVO:00000078]', 'fen [ENVO:00000232]', 'fjord [ENVO:00000039]', 'flood plain [ENVO:00000255]', 'frost heave [ENVO:01001568]', 'fumarole [ENVO:00000216]', 'garden [ENVO:00000011]', 'glacier [ENVO:00000133]', 'greenhouse [ENVO:03600087]', 'harbour [ENVO:00000463]', 'hill [ENVO:00000083]', 'hummock [ENVO:00000516]', 'isthmus [ENVO:00000174]', 'kame [ENVO:00000542]', 'karst [ENVO:00000175]', 'kipuka [ENVO:00000410]', 'landfill [ENVO:00000533]', 'machair [ENVO:00000417]', 'marsh [ENVO:00000035]', 'meadow ecosystem [ENVO:00000108]', 'mesa [ENVO:00000179]', 'mine [ENVO:00000076]', 'mine drainage [ENVO:00001996]', 'monadnock [ENVO:00000432]', 'moraine [ENVO:00000177]', 'mountain [ENVO:00000081]', 'nunatak [ENVO:00000181]', 'oil spill [ENVO:00002061]', 'palsa [ENVO:00000489]', 'park [ENVO:00000562]', 'pasture [ENVO:00000266]', 'peatland [ENVO:00000044]', 'pit [ENVO:01001871]', 'plain [ENVO:00000086]', 'plateau [ENVO:00000182]', 'polje [ENVO:00000325]', 'prairie [ENVO:00000260]', 'quarry [ENVO:00000284]', 'ranch [ENVO:01001207]', 'ravine [ENVO:01000446]', 'refinery [ENVO:02000141]', 'rhizosphere [ENVO:00005801]', 'ria [ENVO:00000418]', 'ridge [ENVO:00000283]', 'rill [ENVO:00000496]', 'river [ENVO:00000022]', 'riverfront [ENVO:03501239]', 'road [ENVO:00000064]', 'scrubland area [ENVO:00000300]', 'shingle beach [ENVO:00000545]', 'shore [ENVO:00000304]', 'sinkhole [ENVO:00000195]', 'slope [ENVO:00002000]', 'soil cryoturbate [ENVO:01001665]', 'spring [ENVO:00000027]', 'spur [ENVO:01001489]', 'stack [ENVO:00000419]', 'steppe [ENVO:00000262]', 'stream [ENVO:00000023]', 'swale [ENVO:00000543]', 'terrace [ENVO:00000508]', 'thermokarst [ENVO:03000085]', 'trench [ENVO:01000649]', 'tunnel [ENVO:00000068]', 'tuya [ENVO:00000370]', 'valley [ENVO:00000100]', 'volcano [ENVO:00000247]', 'wadi [ENVO:00000031]', 'watershed [ENVO:00000292]', 'well [ENVO:00000026]', 'woodland clearing [ENVO:00000444]']\n"
     ]
    }
   ],
   "execution_count": 40
  },
  {
   "cell_type": "code",
   "id": "79282f64358e1608",
   "metadata": {
    "ExecuteTime": {
     "end_time": "2024-12-04T15:38:26.405495Z",
     "start_time": "2024-12-04T15:38:26.402659Z"
    }
   },
   "source": [
    "initially_parsed_context_pvs = parse_hierarchically_underscored_strings(context_pvs_keys)"
   ],
   "outputs": [],
   "execution_count": 41
  },
  {
   "cell_type": "code",
   "id": "5a9492fa605534f2",
   "metadata": {
    "ExecuteTime": {
     "end_time": "2024-12-04T15:38:31.386564Z",
     "start_time": "2024-12-04T15:38:31.383928Z"
    }
   },
   "source": [
    "deduped_context_pvs = dedupe_underscoreless_pvs(initially_parsed_context_pvs)"
   ],
   "outputs": [],
   "execution_count": 42
  },
  {
   "cell_type": "code",
   "id": "214c2e6c9a7089a8",
   "metadata": {
    "ExecuteTime": {
     "end_time": "2024-12-04T15:38:36.362775Z",
     "start_time": "2024-12-04T15:38:36.328062Z"
    }
   },
   "source": [
    "pv_validation_results = validate_curie_label_list_dict(deduped_context_pvs, envo_adapter, print_flag=True)"
   ],
   "outputs": [],
   "execution_count": 43
  },
  {
   "cell_type": "code",
   "id": "e84872aa4f8a9313",
   "metadata": {
    "ExecuteTime": {
     "end_time": "2024-12-04T15:38:41.540758Z",
     "start_time": "2024-12-04T15:38:41.528424Z"
    }
   },
   "source": [
    "pv_validation_results"
   ],
   "outputs": [
    {
     "data": {
      "text/plain": [
       "{'problems': [],\n",
       " 'valids': [{'curie': 'ENVO:04000009', 'label': 'active permafrost layer'},\n",
       "  {'curie': 'ENVO:00000438', 'label': 'alas'},\n",
       "  {'curie': 'ENVO:00000127', 'label': 'badland'},\n",
       "  {'curie': 'ENVO:00000091', 'label': 'beach'},\n",
       "  {'curie': 'ENVO:00000287', 'label': 'butte'},\n",
       "  {'curie': 'ENVO:00000096', 'label': 'caldera'},\n",
       "  {'curie': 'ENVO:01000935', 'label': 'campground'},\n",
       "  {'curie': 'ENVO:00000169', 'label': 'canyon'},\n",
       "  {'curie': 'ENVO:00000067', 'label': 'cave'},\n",
       "  {'curie': 'ENVO:03000117', 'label': 'channel'},\n",
       "  {'curie': 'ENVO:00000155', 'label': 'cirque'},\n",
       "  {'curie': 'ENVO:00000087', 'label': 'cliff'},\n",
       "  {'curie': 'ENVO:00000514', 'label': 'crater'},\n",
       "  {'curie': 'ENVO:00000320', 'label': 'crevasse'},\n",
       "  {'curie': 'ENVO:03000143', 'label': 'cryosphere'},\n",
       "  {'curie': 'ENVO:00000074', 'label': 'dam'},\n",
       "  {'curie': 'ENVO:01001357', 'label': 'desert'},\n",
       "  {'curie': 'ENVO:00000291', 'label': 'drainage basin'},\n",
       "  {'curie': 'ENVO:00000276', 'label': 'drumlin'},\n",
       "  {'curie': 'ENVO:00000277', 'label': 'dry lake'},\n",
       "  {'curie': 'ENVO:00000170', 'label': 'dune'},\n",
       "  {'curie': 'ENVO:00000551', 'label': 'endorheic basin'},\n",
       "  {'curie': 'ENVO:00000280', 'label': 'escarpment'},\n",
       "  {'curie': 'ENVO:00000282', 'label': 'esker'},\n",
       "  {'curie': 'ENVO:00000078', 'label': 'farm'},\n",
       "  {'curie': 'ENVO:00000232', 'label': 'fen'},\n",
       "  {'curie': 'ENVO:00000039', 'label': 'fjord'},\n",
       "  {'curie': 'ENVO:00000255', 'label': 'flood plain'},\n",
       "  {'curie': 'ENVO:01001568', 'label': 'frost heave'},\n",
       "  {'curie': 'ENVO:00000216', 'label': 'fumarole'},\n",
       "  {'curie': 'ENVO:00000011', 'label': 'garden'},\n",
       "  {'curie': 'ENVO:00000133', 'label': 'glacier'},\n",
       "  {'curie': 'ENVO:03600087', 'label': 'greenhouse'},\n",
       "  {'curie': 'ENVO:00000463', 'label': 'harbour'},\n",
       "  {'curie': 'ENVO:00000083', 'label': 'hill'},\n",
       "  {'curie': 'ENVO:00000516', 'label': 'hummock'},\n",
       "  {'curie': 'ENVO:00000174', 'label': 'isthmus'},\n",
       "  {'curie': 'ENVO:00000542', 'label': 'kame'},\n",
       "  {'curie': 'ENVO:00000175', 'label': 'karst'},\n",
       "  {'curie': 'ENVO:00000410', 'label': 'kipuka'},\n",
       "  {'curie': 'ENVO:00000533', 'label': 'landfill'},\n",
       "  {'curie': 'ENVO:00000417', 'label': 'machair'},\n",
       "  {'curie': 'ENVO:00000035', 'label': 'marsh'},\n",
       "  {'curie': 'ENVO:00000108', 'label': 'meadow ecosystem'},\n",
       "  {'curie': 'ENVO:00000179', 'label': 'mesa'},\n",
       "  {'curie': 'ENVO:00000076', 'label': 'mine'},\n",
       "  {'curie': 'ENVO:00001996', 'label': 'mine drainage'},\n",
       "  {'curie': 'ENVO:00000432', 'label': 'monadnock'},\n",
       "  {'curie': 'ENVO:00000177', 'label': 'moraine'},\n",
       "  {'curie': 'ENVO:00000081', 'label': 'mountain'},\n",
       "  {'curie': 'ENVO:00000181', 'label': 'nunatak'},\n",
       "  {'curie': 'ENVO:00002061', 'label': 'oil spill'},\n",
       "  {'curie': 'ENVO:00000489', 'label': 'palsa'},\n",
       "  {'curie': 'ENVO:00000562', 'label': 'park'},\n",
       "  {'curie': 'ENVO:00000266', 'label': 'pasture'},\n",
       "  {'curie': 'ENVO:00000044', 'label': 'peatland'},\n",
       "  {'curie': 'ENVO:01001871', 'label': 'pit'},\n",
       "  {'curie': 'ENVO:00000086', 'label': 'plain'},\n",
       "  {'curie': 'ENVO:00000182', 'label': 'plateau'},\n",
       "  {'curie': 'ENVO:00000325', 'label': 'polje'},\n",
       "  {'curie': 'ENVO:00000260', 'label': 'prairie'},\n",
       "  {'curie': 'ENVO:00000284', 'label': 'quarry'},\n",
       "  {'curie': 'ENVO:01001207', 'label': 'ranch'},\n",
       "  {'curie': 'ENVO:01000446', 'label': 'ravine'},\n",
       "  {'curie': 'ENVO:02000141', 'label': 'refinery'},\n",
       "  {'curie': 'ENVO:00005801', 'label': 'rhizosphere'},\n",
       "  {'curie': 'ENVO:00000418', 'label': 'ria'},\n",
       "  {'curie': 'ENVO:00000283', 'label': 'ridge'},\n",
       "  {'curie': 'ENVO:00000496', 'label': 'rill'},\n",
       "  {'curie': 'ENVO:00000022', 'label': 'river'},\n",
       "  {'curie': 'ENVO:03501239', 'label': 'riverfront'},\n",
       "  {'curie': 'ENVO:00000064', 'label': 'road'},\n",
       "  {'curie': 'ENVO:00000300', 'label': 'scrubland area'},\n",
       "  {'curie': 'ENVO:00000545', 'label': 'shingle beach'},\n",
       "  {'curie': 'ENVO:00000304', 'label': 'shore'},\n",
       "  {'curie': 'ENVO:00000195', 'label': 'sinkhole'},\n",
       "  {'curie': 'ENVO:00002000', 'label': 'slope'},\n",
       "  {'curie': 'ENVO:01001665', 'label': 'soil cryoturbate'},\n",
       "  {'curie': 'ENVO:00000027', 'label': 'spring'},\n",
       "  {'curie': 'ENVO:01001489', 'label': 'spur'},\n",
       "  {'curie': 'ENVO:00000419', 'label': 'stack'},\n",
       "  {'curie': 'ENVO:00000262', 'label': 'steppe'},\n",
       "  {'curie': 'ENVO:00000023', 'label': 'stream'},\n",
       "  {'curie': 'ENVO:00000543', 'label': 'swale'},\n",
       "  {'curie': 'ENVO:00000508', 'label': 'terrace'},\n",
       "  {'curie': 'ENVO:03000085', 'label': 'thermokarst'},\n",
       "  {'curie': 'ENVO:01000649', 'label': 'trench'},\n",
       "  {'curie': 'ENVO:00000068', 'label': 'tunnel'},\n",
       "  {'curie': 'ENVO:00000370', 'label': 'tuya'},\n",
       "  {'curie': 'ENVO:00000100', 'label': 'valley'},\n",
       "  {'curie': 'ENVO:00000247', 'label': 'volcano'},\n",
       "  {'curie': 'ENVO:00000031', 'label': 'wadi'},\n",
       "  {'curie': 'ENVO:00000292', 'label': 'watershed'},\n",
       "  {'curie': 'ENVO:00000026', 'label': 'well'},\n",
       "  {'curie': 'ENVO:00000444', 'label': 'woodland clearing'}]}"
      ]
     },
     "execution_count": 44,
     "metadata": {},
     "output_type": "execute_result"
    }
   ],
   "execution_count": 44
  },
  {
   "cell_type": "markdown",
   "id": "363063c37a433d70",
   "metadata": {},
   "source": [
    "----"
   ]
  },
  {
   "cell_type": "code",
   "id": "656e23e9eab154b0",
   "metadata": {
    "ExecuteTime": {
     "end_time": "2024-12-04T15:39:32.460090Z",
     "start_time": "2024-12-04T15:38:47.073060Z"
    }
   },
   "source": [
    "# todo rename to all_nmdc_samples etc\n",
    "all_nmdc_biosamples = get_docs_from_nmdc_collection(NMDC_RUNTIME_BASE_URL,\n",
    "                                               BIOSAMPLE_SET_COLLECTION)  # Example with stop_after\n",
    "\n",
    "# ~ 1 minute\n",
    "\n",
    "# todo cache this as a file"
   ],
   "outputs": [
    {
     "name": "stdout",
     "output_type": "stream",
     "text": [
      "Fetched page 1 with 1000 documents. Total fetched: 1000\n",
      "Fetched page 2 with 1000 documents. Total fetched: 2000\n",
      "Fetched page 3 with 1000 documents. Total fetched: 3000\n",
      "Fetched page 4 with 1000 documents. Total fetched: 4000\n",
      "Fetched page 5 with 1000 documents. Total fetched: 5000\n",
      "Fetched page 6 with 1000 documents. Total fetched: 6000\n",
      "Fetched page 7 with 1000 documents. Total fetched: 7000\n",
      "Fetched page 8 with 1000 documents. Total fetched: 8000\n",
      "Fetched page 9 with 362 documents. Total fetched: 8362\n",
      "All documents fetched.\n"
     ]
    }
   ],
   "execution_count": 45
  },
  {
   "metadata": {
    "ExecuteTime": {
     "end_time": "2024-12-04T15:39:37.543618Z",
     "start_time": "2024-12-04T15:39:37.541083Z"
    }
   },
   "cell_type": "code",
   "source": [
    "# # this is slow because it saves slots that we don't need\n",
    "# \n",
    "# with open(\"nmdc_biosamples_from_api.yaml\", \"w\") as file:\n",
    "#     yaml.dump(all_nmdc_biosamples, file, default_flow_style=False)"
   ],
   "id": "df8f692beb4c6a74",
   "outputs": [],
   "execution_count": 46
  },
  {
   "cell_type": "code",
   "id": "47c500057aa4624d",
   "metadata": {
    "ExecuteTime": {
     "end_time": "2024-12-04T15:39:42.565875Z",
     "start_time": "2024-12-04T15:39:42.563373Z"
    }
   },
   "source": [
    "# # todo I don't think we're actually using this\n",
    "# all_studies = get_docs_from_nmdc_collection(NMDC_RUNTIME_BASE_URL, STUDY_SET_COLLECTION)  # Example with stop_after"
   ],
   "outputs": [],
   "execution_count": 47
  },
  {
   "cell_type": "code",
   "id": "6a17544640272855",
   "metadata": {
    "ExecuteTime": {
     "end_time": "2024-12-04T15:39:47.511974Z",
     "start_time": "2024-12-04T15:39:47.508157Z"
    }
   },
   "source": [
    "env_pacakge_overrides = tsv_to_dict_of_dicts(env_package_override_file, 'id')"
   ],
   "outputs": [],
   "execution_count": 48
  },
  {
   "cell_type": "code",
   "id": "66c61cf229a6545c",
   "metadata": {
    "ExecuteTime": {
     "end_time": "2024-12-04T15:39:52.458730Z",
     "start_time": "2024-12-04T15:39:52.456252Z"
    }
   },
   "source": [
    "# env_pacakge_overrides\n",
    "# todo or show as frame\n",
    "# todo include some other columns for context?"
   ],
   "outputs": [],
   "execution_count": 49
  },
  {
   "cell_type": "code",
   "id": "7045884ea68d0351",
   "metadata": {
    "ExecuteTime": {
     "end_time": "2024-12-04T15:40:05.200078Z",
     "start_time": "2024-12-04T15:39:57.507918Z"
    }
   },
   "source": [
    "biosample_contexts_lod = biosamples_lod_context_extractor(all_nmdc_biosamples, envo_adapter,\n",
    "                                                          my_env_pacakge_overrides=env_pacakge_overrides)\n",
    "\n",
    "# ~ 10 seconds, lots of logging"
   ],
   "outputs": [
    {
     "name": "stdout",
     "output_type": "stream",
     "text": [
      "Overriding env_package for biosample nmdc:bsm-11-0k8nkx16 from  to plant-associated\n",
      "Overriding env_package for biosample nmdc:bsm-11-19v98823 from  to plant-associated\n",
      "Overriding env_package for biosample nmdc:bsm-11-1yvac190 from  to plant-associated\n",
      "Overriding env_package for biosample nmdc:bsm-11-28kgw077 from  to plant-associated\n",
      "Overriding env_package for biosample nmdc:bsm-11-2hswww54 from  to hydrocarbon resources-fluids_swabs\n",
      "Overriding env_package for biosample nmdc:bsm-11-34przm31 from  to plant-associated\n",
      "Overriding env_package for biosample nmdc:bsm-11-35m0rm03 from  to hydrocarbon resources-fluids_swabs\n",
      "Overriding env_package for biosample nmdc:bsm-11-3636w778 from  to plant-associated\n",
      "Overriding env_package for biosample nmdc:bsm-11-3nffqc45 from  to plant-associated\n",
      "Overriding env_package for biosample nmdc:bsm-11-3nhng665 from  to plant-associated\n",
      "Overriding env_package for biosample nmdc:bsm-11-3r4g4610 from  to hydrocarbon resources-fluids_swabs\n",
      "Overriding env_package for biosample nmdc:bsm-11-3tr7f795 from  to plant-associated\n",
      "Overriding env_package for biosample nmdc:bsm-11-3xc5ft48 from  to plant-associated\n",
      "Overriding env_package for biosample nmdc:bsm-11-3xthwx28 from  to plant-associated\n",
      "Overriding env_package for biosample nmdc:bsm-11-42c9kj17 from  to plant-associated\n",
      "Overriding env_package for biosample nmdc:bsm-11-43rwvm93 from  to plant-associated\n",
      "Overriding env_package for biosample nmdc:bsm-11-4838sk73 from  to plant-associated\n",
      "Overriding env_package for biosample nmdc:bsm-11-5ak8ja54 from  to plant-associated\n",
      "Overriding env_package for biosample nmdc:bsm-11-5g2kjf44 from  to plant-associated\n",
      "Overriding env_package for biosample nmdc:bsm-11-5j742c82 from  to plant-associated\n",
      "Overriding env_package for biosample nmdc:bsm-11-5qq80d09 from  to plant-associated\n",
      "Overriding env_package for biosample nmdc:bsm-11-5rgay328 from  to plant-associated\n",
      "Overriding env_package for biosample nmdc:bsm-11-5w4ba396 from  to plant-associated\n",
      "Overriding env_package for biosample nmdc:bsm-11-61xfks69 from  to plant-associated\n",
      "Overriding env_package for biosample nmdc:bsm-11-62fxv990 from  to plant-associated\n",
      "Overriding env_package for biosample nmdc:bsm-11-674m9194 from  to plant-associated\n",
      "Overriding env_package for biosample nmdc:bsm-11-678ndj04 from  to plant-associated\n",
      "Overriding env_package for biosample nmdc:bsm-11-69g1rw32 from  to plant-associated\n",
      "Overriding env_package for biosample nmdc:bsm-11-6k8cmy53 from  to plant-associated\n",
      "Overriding env_package for biosample nmdc:bsm-11-6m5dma62 from  to plant-associated\n",
      "Overriding env_package for biosample nmdc:bsm-11-6qgwc522 from  to plant-associated\n",
      "Overriding env_package for biosample nmdc:bsm-11-6xa4vj59 from  to plant-associated\n",
      "Overriding env_package for biosample nmdc:bsm-11-6y26bz06 from  to plant-associated\n",
      "Overriding env_package for biosample nmdc:bsm-11-6ya0cs71 from  to plant-associated\n",
      "Overriding env_package for biosample nmdc:bsm-11-6z11g163 from  to plant-associated\n",
      "Overriding env_package for biosample nmdc:bsm-11-73zqmh40 from  to plant-associated\n",
      "Overriding env_package for biosample nmdc:bsm-11-766dwa91 from  to plant-associated\n",
      "Overriding env_package for biosample nmdc:bsm-11-7b566r47 from  to hydrocarbon resources-fluids_swabs\n",
      "Overriding env_package for biosample nmdc:bsm-11-7cfwd964 from  to plant-associated\n",
      "Overriding env_package for biosample nmdc:bsm-11-7pyrek52 from  to plant-associated\n",
      "Overriding env_package for biosample nmdc:bsm-11-7yg2ne22 from  to plant-associated\n",
      "Overriding env_package for biosample nmdc:bsm-11-7z1qvf63 from  to plant-associated\n",
      "Overriding env_package for biosample nmdc:bsm-11-82qw5v38 from  to plant-associated\n",
      "Overriding env_package for biosample nmdc:bsm-11-899bm454 from  to plant-associated\n",
      "Overriding env_package for biosample nmdc:bsm-11-8aktkq28 from  to plant-associated\n",
      "Overriding env_package for biosample nmdc:bsm-11-8bewbp90 from  to plant-associated\n",
      "Overriding env_package for biosample nmdc:bsm-11-8cgpqn03 from  to plant-associated\n",
      "Overriding env_package for biosample nmdc:bsm-11-8e43d898 from  to plant-associated\n",
      "Overriding env_package for biosample nmdc:bsm-11-8g7xbe66 from  to plant-associated\n",
      "Overriding env_package for biosample nmdc:bsm-11-91bdea61 from  to plant-associated\n",
      "Overriding env_package for biosample nmdc:bsm-11-94c2xj88 from  to plant-associated\n",
      "Overriding env_package for biosample nmdc:bsm-11-9c0hk014 from  to plant-associated\n",
      "Overriding env_package for biosample nmdc:bsm-11-9f2ahd94 from  to plant-associated\n",
      "Overriding env_package for biosample nmdc:bsm-11-a6p0kd54 from  to hydrocarbon resources-fluids_swabs\n",
      "Overriding env_package for biosample nmdc:bsm-11-acehgb61 from  to plant-associated\n",
      "Overriding env_package for biosample nmdc:bsm-11-acfvxq24 from  to plant-associated\n",
      "Overriding env_package for biosample nmdc:bsm-11-aesqd647 from  to plant-associated\n",
      "Overriding env_package for biosample nmdc:bsm-11-af8kqq09 from  to hydrocarbon resources-fluids_swabs\n",
      "Overriding env_package for biosample nmdc:bsm-11-ahfq0n74 from  to plant-associated\n",
      "Overriding env_package for biosample nmdc:bsm-11-b2w6cr26 from  to plant-associated\n",
      "Overriding env_package for biosample nmdc:bsm-11-b7pv2a25 from  to plant-associated\n",
      "Overriding env_package for biosample nmdc:bsm-11-b9cjnj29 from  to plant-associated\n",
      "Overriding env_package for biosample nmdc:bsm-11-bcns6e03 from  to plant-associated\n",
      "Overriding env_package for biosample nmdc:bsm-11-bgar5122 from  to plant-associated\n",
      "Overriding env_package for biosample nmdc:bsm-11-bja22k98 from  to plant-associated\n",
      "Overriding env_package for biosample nmdc:bsm-11-bm9haf23 from  to plant-associated\n",
      "Overriding env_package for biosample nmdc:bsm-11-bqp0m764 from  to plant-associated\n",
      "Overriding env_package for biosample nmdc:bsm-11-byzpm179 from  to hydrocarbon resources-fluids_swabs\n",
      "Overriding env_package for biosample nmdc:bsm-11-c12hyq86 from  to plant-associated\n",
      "Overriding env_package for biosample nmdc:bsm-11-c52npq37 from  to plant-associated\n",
      "Overriding env_package for biosample nmdc:bsm-11-c756vg97 from  to plant-associated\n",
      "Overriding env_package for biosample nmdc:bsm-11-can3rz84 from  to plant-associated\n",
      "Overriding env_package for biosample nmdc:bsm-11-cjp6kd42 from  to plant-associated\n",
      "Overriding env_package for biosample nmdc:bsm-11-ck98jg55 from  to plant-associated\n",
      "Overriding env_package for biosample nmdc:bsm-11-cqbpqf62 from  to plant-associated\n",
      "Overriding env_package for biosample nmdc:bsm-11-cv5vxb38 from  to plant-associated\n",
      "Overriding env_package for biosample nmdc:bsm-11-cvqsze66 from  to plant-associated\n",
      "Overriding env_package for biosample nmdc:bsm-11-cxprmv88 from  to plant-associated\n",
      "Overriding env_package for biosample nmdc:bsm-11-cz68sy30 from  to plant-associated\n",
      "Overriding env_package for biosample nmdc:bsm-11-d8cgz835 from  to plant-associated\n",
      "Overriding env_package for biosample nmdc:bsm-11-djqze645 from  to plant-associated\n",
      "Overriding env_package for biosample nmdc:bsm-11-dppkv536 from  to plant-associated\n",
      "Overriding env_package for biosample nmdc:bsm-11-dqnfvd06 from  to plant-associated\n",
      "Overriding env_package for biosample nmdc:bsm-11-dtyb1w45 from  to plant-associated\n",
      "Overriding env_package for biosample nmdc:bsm-11-dva76848 from  to plant-associated\n",
      "Overriding env_package for biosample nmdc:bsm-11-dz264p50 from  to plant-associated\n",
      "Overriding env_package for biosample nmdc:bsm-11-e0rz6p82 from  to plant-associated\n",
      "Overriding env_package for biosample nmdc:bsm-11-e747ch69 from  to plant-associated\n",
      "Overriding env_package for biosample nmdc:bsm-11-epzqzg45 from  to plant-associated\n",
      "Overriding env_package for biosample nmdc:bsm-11-evfbfp31 from  to plant-associated\n",
      "Overriding env_package for biosample nmdc:bsm-11-f8tzvk82 from  to plant-associated\n",
      "Overriding env_package for biosample nmdc:bsm-11-fbm8fa50 from  to hydrocarbon resources-fluids_swabs\n",
      "Overriding env_package for biosample nmdc:bsm-11-feynq214 from  to plant-associated\n",
      "Overriding env_package for biosample nmdc:bsm-11-fgjpsy56 from  to plant-associated\n",
      "Overriding env_package for biosample nmdc:bsm-11-fm4p4558 from  to plant-associated\n",
      "Overriding env_package for biosample nmdc:bsm-11-fqchmc77 from  to hydrocarbon resources-fluids_swabs\n",
      "Overriding env_package for biosample nmdc:bsm-11-fy3j8w19 from  to plant-associated\n",
      "Overriding env_package for biosample nmdc:bsm-11-fyey4107 from  to plant-associated\n",
      "Overriding env_package for biosample nmdc:bsm-11-fzvzb345 from  to plant-associated\n",
      "Overriding env_package for biosample nmdc:bsm-11-g35dnf26 from  to plant-associated\n",
      "Overriding env_package for biosample nmdc:bsm-11-g3r2dm95 from  to plant-associated\n",
      "Overriding env_package for biosample nmdc:bsm-11-g4my3419 from  to plant-associated\n",
      "Overriding env_package for biosample nmdc:bsm-11-g4rxzh95 from  to plant-associated\n",
      "Overriding env_package for biosample nmdc:bsm-11-gch9pp73 from  to plant-associated\n",
      "Overriding env_package for biosample nmdc:bsm-11-gd31q856 from  to plant-associated\n",
      "Overriding env_package for biosample nmdc:bsm-11-gnbsqd30 from  to hydrocarbon resources-fluids_swabs\n",
      "Overriding env_package for biosample nmdc:bsm-11-gvp5zp51 from  to hydrocarbon resources-fluids_swabs\n",
      "Overriding env_package for biosample nmdc:bsm-11-gwx12029 from  to plant-associated\n",
      "Overriding env_package for biosample nmdc:bsm-11-h2k7nv93 from  to plant-associated\n",
      "Overriding env_package for biosample nmdc:bsm-11-h3e54f51 from  to plant-associated\n",
      "Overriding env_package for biosample nmdc:bsm-11-h96d6881 from  to plant-associated\n",
      "Overriding env_package for biosample nmdc:bsm-11-ht2c1k71 from  to plant-associated\n",
      "Overriding env_package for biosample nmdc:bsm-11-ht2v0s47 from  to plant-associated\n",
      "Overriding env_package for biosample nmdc:bsm-11-hv1hv533 from  to plant-associated\n",
      "Overriding env_package for biosample nmdc:bsm-11-j1bay453 from  to plant-associated\n",
      "Overriding env_package for biosample nmdc:bsm-11-j1hqcz15 from  to plant-associated\n",
      "Overriding env_package for biosample nmdc:bsm-11-j2pfz414 from  to plant-associated\n",
      "Overriding env_package for biosample nmdc:bsm-11-j5y27f16 from  to plant-associated\n",
      "Overriding env_package for biosample nmdc:bsm-11-j6h8pw46 from  to plant-associated\n",
      "Overriding env_package for biosample nmdc:bsm-11-j6j1p639 from  to plant-associated\n",
      "Overriding env_package for biosample nmdc:bsm-11-jjchgw36 from  to plant-associated\n",
      "Overriding env_package for biosample nmdc:bsm-11-jp678560 from  to plant-associated\n",
      "Overriding env_package for biosample nmdc:bsm-11-jq2e3v76 from  to plant-associated\n",
      "Overriding env_package for biosample nmdc:bsm-11-jx6ar740 from  to hydrocarbon resources-fluids_swabs\n",
      "Overriding env_package for biosample nmdc:bsm-11-jxazjs92 from  to plant-associated\n",
      "Overriding env_package for biosample nmdc:bsm-11-jy6ece20 from  to plant-associated\n",
      "Overriding env_package for biosample nmdc:bsm-11-k0vz1j87 from  to plant-associated\n",
      "Overriding env_package for biosample nmdc:bsm-11-k1twxb65 from  to plant-associated\n",
      "Overriding env_package for biosample nmdc:bsm-11-k9192006 from  to plant-associated\n",
      "Overriding env_package for biosample nmdc:bsm-11-kdja3v28 from  to plant-associated\n",
      "Overriding env_package for biosample nmdc:bsm-11-kesw6757 from  to plant-associated\n",
      "Overriding env_package for biosample nmdc:bsm-11-kmpwgz16 from  to hydrocarbon resources-fluids_swabs\n",
      "Overriding env_package for biosample nmdc:bsm-11-kqbbyb62 from  to hydrocarbon resources-fluids_swabs\n",
      "Overriding env_package for biosample nmdc:bsm-11-krcjqt76 from  to plant-associated\n",
      "Overriding env_package for biosample nmdc:bsm-11-kv966g71 from  to hydrocarbon resources-fluids_swabs\n",
      "Overriding env_package for biosample nmdc:bsm-11-m0h9cb45 from  to plant-associated\n",
      "Overriding env_package for biosample nmdc:bsm-11-m4e83773 from  to plant-associated\n",
      "Overriding env_package for biosample nmdc:bsm-11-m4p1ck60 from  to plant-associated\n",
      "Overriding env_package for biosample nmdc:bsm-11-m5prkp97 from  to hydrocarbon resources-fluids_swabs\n",
      "Overriding env_package for biosample nmdc:bsm-11-m69k6p77 from  to hydrocarbon resources-fluids_swabs\n",
      "Overriding env_package for biosample nmdc:bsm-11-m9k8tx16 from  to plant-associated\n",
      "Overriding env_package for biosample nmdc:bsm-11-ma7ry826 from  to plant-associated\n",
      "Overriding env_package for biosample nmdc:bsm-11-mb9s8c17 from  to plant-associated\n",
      "Overriding env_package for biosample nmdc:bsm-11-mbcv4b48 from  to plant-associated\n",
      "Overriding env_package for biosample nmdc:bsm-11-n2a7p974 from  to plant-associated\n",
      "Overriding env_package for biosample nmdc:bsm-11-n6vwc542 from  to plant-associated\n",
      "Overriding env_package for biosample nmdc:bsm-11-n8t7zs15 from  to plant-associated\n",
      "Overriding env_package for biosample nmdc:bsm-11-n9sx1a80 from  to plant-associated\n",
      "Overriding env_package for biosample nmdc:bsm-11-nher1m25 from  to hydrocarbon resources-fluids_swabs\n",
      "Overriding env_package for biosample nmdc:bsm-11-nm187g36 from  to plant-associated\n",
      "Overriding env_package for biosample nmdc:bsm-11-nr7vje40 from  to plant-associated\n",
      "Overriding env_package for biosample nmdc:bsm-11-nrkha596 from  to plant-associated\n",
      "Overriding env_package for biosample nmdc:bsm-11-nwh9ez71 from  to plant-associated\n",
      "Overriding env_package for biosample nmdc:bsm-11-nx7zwq61 from  to plant-associated\n",
      "Overriding env_package for biosample nmdc:bsm-11-p4wss361 from  to plant-associated\n",
      "Overriding env_package for biosample nmdc:bsm-11-p9j7rw40 from  to plant-associated\n",
      "Overriding env_package for biosample nmdc:bsm-11-pebqj065 from  to plant-associated\n",
      "Overriding env_package for biosample nmdc:bsm-11-pgmhxj86 from  to plant-associated\n",
      "Overriding env_package for biosample nmdc:bsm-11-pgxc4f08 from  to plant-associated\n",
      "Overriding env_package for biosample nmdc:bsm-11-ppp4fk41 from  to plant-associated\n",
      "Overriding env_package for biosample nmdc:bsm-11-pq105b36 from  to plant-associated\n",
      "Overriding env_package for biosample nmdc:bsm-11-pvr0ez88 from  to plant-associated\n",
      "Overriding env_package for biosample nmdc:bsm-11-pygdem51 from  to plant-associated\n",
      "Overriding env_package for biosample nmdc:bsm-11-q3qsx507 from  to plant-associated\n",
      "Overriding env_package for biosample nmdc:bsm-11-q3sa0t28 from  to plant-associated\n",
      "Overriding env_package for biosample nmdc:bsm-11-q94v7385 from  to plant-associated\n",
      "Overriding env_package for biosample nmdc:bsm-11-qam3hk28 from  to plant-associated\n",
      "Overriding env_package for biosample nmdc:bsm-11-qe13q836 from  to plant-associated\n",
      "Overriding env_package for biosample nmdc:bsm-11-qg6kxr61 from  to plant-associated\n",
      "Overriding env_package for biosample nmdc:bsm-11-qhq2kh40 from  to plant-associated\n",
      "Overriding env_package for biosample nmdc:bsm-11-qms4zn61 from  to plant-associated\n",
      "Overriding env_package for biosample nmdc:bsm-11-qqc8e352 from  to plant-associated\n",
      "Overriding env_package for biosample nmdc:bsm-11-qvm0vt03 from  to plant-associated\n",
      "Overriding env_package for biosample nmdc:bsm-11-qy2fef59 from  to plant-associated\n",
      "Overriding env_package for biosample nmdc:bsm-11-qzncy838 from  to plant-associated\n",
      "Overriding env_package for biosample nmdc:bsm-11-r3b0ak56 from  to plant-associated\n",
      "Overriding env_package for biosample nmdc:bsm-11-r3tm7493 from  to plant-associated\n",
      "Overriding env_package for biosample nmdc:bsm-11-r4kwpw90 from  to plant-associated\n",
      "Overriding env_package for biosample nmdc:bsm-11-r7k97q10 from  to plant-associated\n",
      "Overriding env_package for biosample nmdc:bsm-11-rk62cv25 from  to plant-associated\n",
      "Overriding env_package for biosample nmdc:bsm-11-rpj4zm44 from  to plant-associated\n",
      "Overriding env_package for biosample nmdc:bsm-11-rzz0z710 from  to plant-associated\n",
      "Overriding env_package for biosample nmdc:bsm-11-s6r1q327 from  to plant-associated\n",
      "Overriding env_package for biosample nmdc:bsm-11-s70cv630 from  to plant-associated\n",
      "Overriding env_package for biosample nmdc:bsm-11-sa4z4f71 from  to hydrocarbon resources-fluids_swabs\n",
      "Overriding env_package for biosample nmdc:bsm-11-sdjt4464 from  to plant-associated\n",
      "Overriding env_package for biosample nmdc:bsm-11-sdjyhj66 from  to plant-associated\n",
      "Overriding env_package for biosample nmdc:bsm-11-shjn2p67 from  to plant-associated\n",
      "Overriding env_package for biosample nmdc:bsm-11-sjtd0y05 from  to plant-associated\n",
      "Overriding env_package for biosample nmdc:bsm-11-spav5m37 from  to plant-associated\n",
      "Overriding env_package for biosample nmdc:bsm-11-sv771k17 from  to plant-associated\n",
      "Overriding env_package for biosample nmdc:bsm-11-syb42s66 from  to plant-associated\n",
      "Overriding env_package for biosample nmdc:bsm-11-t7xb8h63 from  to plant-associated\n",
      "Overriding env_package for biosample nmdc:bsm-11-ta8dt754 from  to plant-associated\n",
      "Overriding env_package for biosample nmdc:bsm-11-tcxb3w32 from  to plant-associated\n",
      "Overriding env_package for biosample nmdc:bsm-11-te5fxe60 from  to plant-associated\n",
      "Overriding env_package for biosample nmdc:bsm-11-th3sr643 from  to plant-associated\n",
      "Overriding env_package for biosample nmdc:bsm-11-tkwn9650 from  to plant-associated\n",
      "Overriding env_package for biosample nmdc:bsm-11-tn8q1269 from  to hydrocarbon resources-fluids_swabs\n",
      "Overriding env_package for biosample nmdc:bsm-11-tnbabs47 from  to plant-associated\n",
      "Overriding env_package for biosample nmdc:bsm-11-tpatza67 from  to plant-associated\n",
      "Overriding env_package for biosample nmdc:bsm-11-trbf6m66 from  to plant-associated\n",
      "Overriding env_package for biosample nmdc:bsm-11-trpbtt49 from  to plant-associated\n",
      "Overriding env_package for biosample nmdc:bsm-11-ttg2t449 from  to hydrocarbon resources-fluids_swabs\n",
      "Overriding env_package for biosample nmdc:bsm-11-tz96dg48 from  to plant-associated\n",
      "Overriding env_package for biosample nmdc:bsm-11-v0p16d89 from  to plant-associated\n",
      "Overriding env_package for biosample nmdc:bsm-11-v9k6q078 from  to plant-associated\n",
      "Overriding env_package for biosample nmdc:bsm-11-veffrc25 from  to hydrocarbon resources-fluids_swabs\n",
      "Overriding env_package for biosample nmdc:bsm-11-vme3w877 from  to plant-associated\n",
      "Overriding env_package for biosample nmdc:bsm-11-vp7n5531 from  to plant-associated\n",
      "Overriding env_package for biosample nmdc:bsm-11-vpe6j733 from  to plant-associated\n",
      "Overriding env_package for biosample nmdc:bsm-11-vrsw1c02 from  to plant-associated\n",
      "Overriding env_package for biosample nmdc:bsm-11-w1t8bv92 from  to plant-associated\n",
      "Overriding env_package for biosample nmdc:bsm-11-wh35sj59 from  to plant-associated\n",
      "Overriding env_package for biosample nmdc:bsm-11-wnrp0p76 from  to plant-associated\n",
      "Overriding env_package for biosample nmdc:bsm-11-wqy7mc31 from  to plant-associated\n",
      "Overriding env_package for biosample nmdc:bsm-11-wr7h1t97 from  to plant-associated\n",
      "Overriding env_package for biosample nmdc:bsm-11-x0sc5x81 from  to plant-associated\n",
      "Overriding env_package for biosample nmdc:bsm-11-xy5ern23 from  to plant-associated\n",
      "Overriding env_package for biosample nmdc:bsm-11-xy8t6808 from  to plant-associated\n",
      "Overriding env_package for biosample nmdc:bsm-11-y31mxv90 from  to plant-associated\n",
      "Overriding env_package for biosample nmdc:bsm-11-y5w1j489 from  to plant-associated\n",
      "Overriding env_package for biosample nmdc:bsm-11-y80cxc26 from  to plant-associated\n",
      "Overriding env_package for biosample nmdc:bsm-11-yd4dqe75 from  to plant-associated\n",
      "Overriding env_package for biosample nmdc:bsm-11-yfc2at70 from  to plant-associated\n",
      "Overriding env_package for biosample nmdc:bsm-11-yvzvbr38 from  to hydrocarbon resources-fluids_swabs\n",
      "Overriding env_package for biosample nmdc:bsm-11-z4hspp43 from  to plant-associated\n",
      "Overriding env_package for biosample nmdc:bsm-11-z66zfk92 from  to plant-associated\n",
      "Overriding env_package for biosample nmdc:bsm-11-z75j2v52 from  to plant-associated\n",
      "Overriding env_package for biosample nmdc:bsm-11-zf5qxz83 from  to plant-associated\n",
      "Overriding env_package for biosample nmdc:bsm-11-zsdrmw76 from  to plant-associated\n",
      "Overriding env_package for biosample nmdc:bsm-11-zvh2hc82 from  to plant-associated\n"
     ]
    }
   ],
   "execution_count": 50
  },
  {
   "cell_type": "code",
   "id": "7cf668c88434c41e",
   "metadata": {
    "ExecuteTime": {
     "end_time": "2024-12-04T15:40:10.194230Z",
     "start_time": "2024-12-04T15:40:10.171899Z"
    }
   },
   "source": [
    "nmdc_biosample_contexts_frame = pd.DataFrame(biosample_contexts_lod)"
   ],
   "outputs": [],
   "execution_count": 51
  },
  {
   "cell_type": "code",
   "id": "77e340a7962f23a6",
   "metadata": {
    "ExecuteTime": {
     "end_time": "2024-12-04T15:40:15.533096Z",
     "start_time": "2024-12-04T15:40:15.528341Z"
    }
   },
   "source": [
    "# print a value count for the normalized_env_package column\n",
    "print(\"Value counts for normalized_env_package column:\")\n",
    "print(nmdc_biosample_contexts_frame['normalized_env_package'].value_counts(dropna=False))"
   ],
   "outputs": [
    {
     "name": "stdout",
     "output_type": "stream",
     "text": [
      "Value counts for normalized_env_package column:\n",
      "normalized_env_package\n",
      "                                                   5838\n",
      "soil                                               1707\n",
      "plant-associated                                    401\n",
      "water                                               192\n",
      "miscellaneous natural or artificial environment     140\n",
      "host-associated                                      61\n",
      "hydrocarbon resources-fluids_swabs                   23\n",
      "Name: count, dtype: int64\n"
     ]
    }
   ],
   "execution_count": 52
  },
  {
   "cell_type": "code",
   "id": "5980aef19fb86ae4",
   "metadata": {
    "ExecuteTime": {
     "end_time": "2024-12-04T15:40:27.700290Z",
     "start_time": "2024-12-04T15:40:20.810422Z"
    }
   },
   "source": [
    "package_predictions = predict_from_normalized_env_packages(nmdc_biosample_contexts_frame, envo_adapter)"
   ],
   "outputs": [
    {
     "name": "stdout",
     "output_type": "stream",
     "text": [
      "(8362, 14)\n",
      "                                                 precision    recall  f1-score   support\n",
      "\n",
      "                                host-associated       1.00      1.00      1.00        16\n",
      "             hydrocarbon resources-fluids_swabs       1.00      1.00      1.00         7\n",
      "miscellaneous natural or artificial environment       1.00      1.00      1.00        50\n",
      "                               plant-associated       1.00      1.00      1.00       122\n",
      "                                           soil       1.00      1.00      1.00       506\n",
      "                                          water       1.00      1.00      1.00        57\n",
      "\n",
      "                                       accuracy                           1.00       758\n",
      "                                      macro avg       1.00      1.00      1.00       758\n",
      "                                   weighted avg       1.00      1.00      1.00       758\n",
      "\n"
     ]
    }
   ],
   "execution_count": 53
  },
  {
   "cell_type": "code",
   "id": "e151c95fe349df93",
   "metadata": {
    "ExecuteTime": {
     "end_time": "2024-12-04T15:40:32.987657Z",
     "start_time": "2024-12-04T15:40:32.983407Z"
    }
   },
   "source": [
    "nmdc_biosample_contexts_frame['predicted_env_package'] = package_predictions"
   ],
   "outputs": [],
   "execution_count": 54
  },
  {
   "cell_type": "code",
   "id": "d5c6aa902c7187e0",
   "metadata": {
    "ExecuteTime": {
     "end_time": "2024-12-04T15:40:38.156633Z",
     "start_time": "2024-12-04T15:40:38.152206Z"
    }
   },
   "source": [
    "nmdc_biosample_contexts_frame.shape"
   ],
   "outputs": [
    {
     "data": {
      "text/plain": [
       "(8362, 15)"
      ]
     },
     "execution_count": 55,
     "metadata": {},
     "output_type": "execute_result"
    }
   ],
   "execution_count": 55
  },
  {
   "cell_type": "code",
   "id": "2b241bcacf4bb100",
   "metadata": {
    "ExecuteTime": {
     "end_time": "2024-12-04T15:40:44.058335Z",
     "start_time": "2024-12-04T15:40:44.052763Z"
    }
   },
   "source": [
    "nmdc_biosample_contexts_frame = nmdc_biosample_contexts_frame[\n",
    "    nmdc_biosample_contexts_frame['predicted_env_package'] == nmdc_package_selector]"
   ],
   "outputs": [],
   "execution_count": 56
  },
  {
   "cell_type": "code",
   "id": "9045896aa4ea468f",
   "metadata": {
    "ExecuteTime": {
     "end_time": "2024-12-04T15:40:49.132743Z",
     "start_time": "2024-12-04T15:40:49.128951Z"
    }
   },
   "source": [
    "nmdc_biosample_contexts_frame.shape"
   ],
   "outputs": [
    {
     "data": {
      "text/plain": [
       "(0, 15)"
      ]
     },
     "execution_count": 57,
     "metadata": {},
     "output_type": "execute_result"
    }
   ],
   "execution_count": 57
  },
  {
   "cell_type": "markdown",
   "id": "aee7b4eea48a8691",
   "metadata": {},
   "source": [
    "----"
   ]
  },
  {
   "cell_type": "code",
   "id": "3be362b73dbda47a",
   "metadata": {
    "ExecuteTime": {
     "end_time": "2024-12-04T15:40:55.665888Z",
     "start_time": "2024-12-04T15:40:54.223764Z"
    }
   },
   "source": [
    "ncbi_frame = ncbi_conn.execute(ncbi_query).fetchdf()"
   ],
   "outputs": [],
   "execution_count": 58
  },
  {
   "cell_type": "code",
   "id": "306ee79ce77f745e",
   "metadata": {
    "ExecuteTime": {
     "end_time": "2024-12-04T15:41:00.812332Z",
     "start_time": "2024-12-04T15:41:00.808419Z"
    }
   },
   "source": [
    "ncbi_frame.insert(0, 'serial_number', range(1, len(ncbi_frame) + 1))"
   ],
   "outputs": [],
   "execution_count": 59
  },
  {
   "cell_type": "code",
   "id": "6f06a6237f0ecdb",
   "metadata": {
    "ExecuteTime": {
     "end_time": "2024-12-04T15:41:06.217929Z",
     "start_time": "2024-12-04T15:41:06.215174Z"
    }
   },
   "source": [
    "# includes values with counts of one... useful for discovering drag-down submissions?"
   ],
   "outputs": [],
   "execution_count": 60
  },
  {
   "cell_type": "code",
   "id": "f07e55ebd0f4c451",
   "metadata": {
    "ExecuteTime": {
     "end_time": "2024-12-04T15:41:12.421024Z",
     "start_time": "2024-12-04T15:41:12.413632Z"
    }
   },
   "source": [
    "ncbi_frame['content_list'] = ncbi_frame['content'].str.split('|')"
   ],
   "outputs": [],
   "execution_count": 61
  },
  {
   "metadata": {
    "ExecuteTime": {
     "end_time": "2024-12-04T15:41:18.432634Z",
     "start_time": "2024-12-04T15:41:18.424669Z"
    }
   },
   "cell_type": "code",
   "source": "ncbi_frame.to_csv(\"ncbi_frame.tsv\", sep=\"\\t\", index=False)",
   "id": "d3ac8df29eb8fc8",
   "outputs": [],
   "execution_count": 62
  },
  {
   "metadata": {
    "ExecuteTime": {
     "end_time": "2024-12-04T15:41:23.978816Z",
     "start_time": "2024-12-04T15:41:23.974653Z"
    }
   },
   "cell_type": "code",
   "source": [
    "# todo is there any reason to not do this ?\n",
    "ncbi_frame = ncbi_frame[ncbi_frame['content'].notna() & (ncbi_frame['content'] != '')]"
   ],
   "id": "2e96404aa5dd0f7b",
   "outputs": [],
   "execution_count": 63
  },
  {
   "cell_type": "code",
   "id": "f8c2e13cee8818cb",
   "metadata": {
    "ExecuteTime": {
     "end_time": "2024-12-04T15:41:29.713696Z",
     "start_time": "2024-12-04T15:41:29.703189Z"
    }
   },
   "source": [
    "ncbi_frame['content_count'] = ncbi_frame['content_list'].apply(len)"
   ],
   "outputs": [],
   "execution_count": 64
  },
  {
   "cell_type": "code",
   "id": "edeaac7b5ce53cd5",
   "metadata": {
    "ExecuteTime": {
     "end_time": "2024-12-04T15:41:35.054408Z",
     "start_time": "2024-12-04T15:41:35.050389Z"
    }
   },
   "source": [
    "ncbi_frame.shape"
   ],
   "outputs": [
    {
     "data": {
      "text/plain": [
       "(1128, 5)"
      ]
     },
     "execution_count": 65,
     "metadata": {},
     "output_type": "execute_result"
    }
   ],
   "execution_count": 65
  },
  {
   "cell_type": "code",
   "id": "18860251fea32ee5",
   "metadata": {
    "ExecuteTime": {
     "end_time": "2024-12-04T15:41:40.153633Z",
     "start_time": "2024-12-04T15:41:40.147392Z"
    }
   },
   "source": [
    "ncbi_frame = ncbi_frame.explode('content_list').reset_index(drop=True)"
   ],
   "outputs": [],
   "execution_count": 66
  },
  {
   "cell_type": "code",
   "id": "bc8b89960c12f6e6",
   "metadata": {
    "ExecuteTime": {
     "end_time": "2024-12-04T15:41:45.431787Z",
     "start_time": "2024-12-04T15:41:45.427798Z"
    }
   },
   "source": [
    "ncbi_frame.shape"
   ],
   "outputs": [
    {
     "data": {
      "text/plain": [
       "(1170, 5)"
      ]
     },
     "execution_count": 67,
     "metadata": {},
     "output_type": "execute_result"
    }
   ],
   "execution_count": 67
  },
  {
   "cell_type": "code",
   "id": "85a0a4ccd63b7952",
   "metadata": {
    "ExecuteTime": {
     "end_time": "2024-12-04T15:41:50.599051Z",
     "start_time": "2024-12-04T15:41:50.596452Z"
    }
   },
   "source": [
    "# how many content_list strings contain envo multiple times now?"
   ],
   "outputs": [],
   "execution_count": 68
  },
  {
   "cell_type": "code",
   "id": "4dee374026c8272a",
   "metadata": {
    "ExecuteTime": {
     "end_time": "2024-12-04T15:41:56.471587Z",
     "start_time": "2024-12-04T15:41:56.466825Z"
    }
   },
   "source": [
    "ncbi_frame['envo_count'] = ncbi_frame['content_list'].str.lower().str.count(\"envo\")"
   ],
   "outputs": [],
   "execution_count": 69
  },
  {
   "cell_type": "code",
   "id": "417319d62ef07d0b",
   "metadata": {
    "ExecuteTime": {
     "end_time": "2024-12-04T15:42:01.559778Z",
     "start_time": "2024-12-04T15:42:01.554394Z"
    }
   },
   "source": [
    "ncbi_frame['envo_count'].value_counts()"
   ],
   "outputs": [
    {
     "data": {
      "text/plain": [
       "envo_count\n",
       "0    960\n",
       "1    208\n",
       "2      1\n",
       "3      1\n",
       "Name: count, dtype: int64"
      ]
     },
     "execution_count": 70,
     "metadata": {},
     "output_type": "execute_result"
    }
   ],
   "execution_count": 70
  },
  {
   "cell_type": "markdown",
   "id": "5cf708305c445b4a",
   "metadata": {},
   "source": [
    "doesn't account for multiple label strings delimited with something other than '|'"
   ]
  },
  {
   "cell_type": "code",
   "id": "7b256380eceaceaa",
   "metadata": {
    "ExecuteTime": {
     "end_time": "2024-12-04T15:42:06.833719Z",
     "start_time": "2024-12-04T15:42:06.697707Z"
    }
   },
   "source": [
    "ncbi_frame[['extracted_label', 'extracted_curie']] = ncbi_frame['content_list'].apply(parse_curie_label)"
   ],
   "outputs": [],
   "execution_count": 71
  },
  {
   "cell_type": "code",
   "id": "761e39ab29aef0a7",
   "metadata": {
    "ExecuteTime": {
     "end_time": "2024-12-04T15:42:06.874619Z",
     "start_time": "2024-12-04T15:42:06.870361Z"
    }
   },
   "source": [
    "parse_failures = ncbi_frame[\n",
    "    (ncbi_frame['envo_count'] > 0) & (ncbi_frame['extracted_curie'].isna() | (ncbi_frame['extracted_curie'] == ''))]\n"
   ],
   "outputs": [],
   "execution_count": 72
  },
  {
   "cell_type": "code",
   "id": "a9316f11da9ee0c8",
   "metadata": {
    "ExecuteTime": {
     "end_time": "2024-12-04T15:42:06.907882Z",
     "start_time": "2024-12-04T15:42:06.901039Z"
    }
   },
   "source": [
    "parse_failures"
   ],
   "outputs": [
    {
     "data": {
      "text/plain": [
       "Empty DataFrame\n",
       "Columns: [serial_number, content, sample_count, content_list, content_count, envo_count, extracted_label, extracted_curie]\n",
       "Index: []"
      ],
      "text/html": [
       "<div>\n",
       "<style scoped>\n",
       "    .dataframe tbody tr th:only-of-type {\n",
       "        vertical-align: middle;\n",
       "    }\n",
       "\n",
       "    .dataframe tbody tr th {\n",
       "        vertical-align: top;\n",
       "    }\n",
       "\n",
       "    .dataframe thead th {\n",
       "        text-align: right;\n",
       "    }\n",
       "</style>\n",
       "<table border=\"1\" class=\"dataframe\">\n",
       "  <thead>\n",
       "    <tr style=\"text-align: right;\">\n",
       "      <th></th>\n",
       "      <th>serial_number</th>\n",
       "      <th>content</th>\n",
       "      <th>sample_count</th>\n",
       "      <th>content_list</th>\n",
       "      <th>content_count</th>\n",
       "      <th>envo_count</th>\n",
       "      <th>extracted_label</th>\n",
       "      <th>extracted_curie</th>\n",
       "    </tr>\n",
       "  </thead>\n",
       "  <tbody>\n",
       "  </tbody>\n",
       "</table>\n",
       "</div>"
      ]
     },
     "execution_count": 73,
     "metadata": {},
     "output_type": "execute_result"
    }
   ],
   "execution_count": 73
  },
  {
   "cell_type": "code",
   "id": "9bdebd91856ff679",
   "metadata": {
    "ExecuteTime": {
     "end_time": "2024-12-04T15:42:12.745807Z",
     "start_time": "2024-12-04T15:42:12.335110Z"
    }
   },
   "source": [
    "ncbi_frame['real_label'] = ncbi_frame['extracted_curie'].apply(envo_adapter.label)"
   ],
   "outputs": [],
   "execution_count": 74
  },
  {
   "cell_type": "code",
   "id": "d06d899567db022e",
   "metadata": {
    "ExecuteTime": {
     "end_time": "2024-12-04T15:42:26.126517Z",
     "start_time": "2024-12-04T15:42:12.752119Z"
    }
   },
   "source": [
    "# Apply the annotation function to each row in the 'label' column\n",
    "ncbi_frame['longest_annotation_curie'] = ncbi_frame['extracted_label'].apply(\n",
    "    lambda x: get_longest_annotation_curie(x, envo_adapter, MIN_ANNOTATION_LEN))\n",
    "\n",
    "# only runs for ~ 1 minute, but generates a lot of \"ERRORS\" while loading the ontologies that are used for annotating\n"
   ],
   "outputs": [
    {
     "name": "stderr",
     "output_type": "stream",
     "text": [
      "ERROR:root:Skipping statements(subject=ENVO:00000112,predicate=oio:hasDbXref,object=<http://www.eionet.europa.eu/gemet/concept/8704>,value=None,datatype=None,language=None,); ValueError: <http://www.eionet.europa.eu/gemet/concept/8704> is not a valid URI or CURIE\n",
      "ERROR:root:Skipping statements(subject=ENVO:00001996,predicate=oio:hasDbXref,object=<https://en.wikipedia.org/wiki/Acid_mine_drainage>,value=None,datatype=None,language=None,); ValueError: <https://en.wikipedia.org/wiki/Acid_mine_drainage> is not a valid URI or CURIE\n",
      "ERROR:root:Skipping statements(subject=ENVO:01000225,predicate=oio:hasDbXref,object=<https://www.worldwildlife.org/biomes/tropical-and-subtropical-dry-broadleaf-forests>,value=None,datatype=None,language=None,); ValueError: <https://www.worldwildlife.org/biomes/tropical-and-subtropical-dry-broadleaf-forests> is not a valid URI or CURIE\n",
      "ERROR:root:Skipping statements(subject=ENVO:01000227,predicate=oio:hasDbXref,object=<https://www.worldwildlife.org/biomes/tropical-and-subtropical-dry-broadleaf-forests>,value=None,datatype=None,language=None,); ValueError: <https://www.worldwildlife.org/biomes/tropical-and-subtropical-dry-broadleaf-forests> is not a valid URI or CURIE\n",
      "ERROR:root:Skipping statements(subject=ENVO:01001495,predicate=oio:hasDbXref,object=<https://www.goosocean.org/components/com_oe/oe.php?task=download&id=35904&version=2.0&lang=1&format=1>,value=None,datatype=None,language=None,); ValueError: <https://www.goosocean.org/components/com_oe/oe.php?task=download&id=35904&version=2.0&lang=1&format=1> is not a valid URI or CURIE\n",
      "ERROR:root:Skipping statements(subject=ENVO:01001621,predicate=oio:hasDbXref,object=<https://github.com/ESIPFed/sweet/issues/219>,value=None,datatype=None,language=None,); ValueError: <https://github.com/ESIPFed/sweet/issues/219> is not a valid URI or CURIE\n",
      "ERROR:root:Skipping statements(subject=ENVO:01001626,predicate=oio:hasDbXref,object=<https://www.worldwildlife.org/biomes/deserts-and-xeric-shrublands>,value=None,datatype=None,language=None,); ValueError: <https://www.worldwildlife.org/biomes/deserts-and-xeric-shrublands> is not a valid URI or CURIE\n",
      "ERROR:root:Skipping statements(subject=ENVO:01001627,predicate=oio:hasDbXref,object=<https://www.worldwildlife.org/ecoregions/im1304>,value=None,datatype=None,language=None,); ValueError: <https://www.worldwildlife.org/ecoregions/im1304> is not a valid URI or CURIE\n",
      "ERROR:root:Skipping statements(subject=ENVO:01001628,predicate=oio:hasDbXref,object=<https://www.worldwildlife.org/ecoregions/im1303>,value=None,datatype=None,language=None,); ValueError: <https://www.worldwildlife.org/ecoregions/im1303> is not a valid URI or CURIE\n",
      "ERROR:root:Skipping statements(subject=ENVO:01001644,predicate=oio:hasDbXref,object=<http://vocab.nerc.ac.uk/collection/S23/current/S23C021/>,value=None,datatype=None,language=None,); ValueError: <http://vocab.nerc.ac.uk/collection/S23/current/S23C021/> is not a valid URI or CURIE\n",
      "ERROR:root:Skipping statements(subject=ENVO:01001644,predicate=oio:hasDbXref,object=None,value=Carbonate which is formed as the result of some biological process.,datatype=None,language=None,); ValueError: Carbonate which is formed as the result of some biological process. is not a valid URI or CURIE\n",
      "ERROR:root:Skipping statements(subject=ENVO:01001645,predicate=oio:hasDbXref,object=<http://vocab.nerc.ac.uk/collection/S23/current/S23C013/>,value=None,datatype=None,language=None,); ValueError: <http://vocab.nerc.ac.uk/collection/S23/current/S23C013/> is not a valid URI or CURIE\n",
      "ERROR:root:Skipping statements(subject=ENVO:01001646,predicate=oio:hasDbXref,object=<http://vocab.nerc.ac.uk/collection/S23/current/S23C014/>,value=None,datatype=None,language=None,); ValueError: <http://vocab.nerc.ac.uk/collection/S23/current/S23C014/> is not a valid URI or CURIE\n",
      "ERROR:root:Skipping statements(subject=ENVO:01001647,predicate=oio:hasDbXref,object=<http://vocab.nerc.ac.uk/collection/S23/current/S23C004/>,value=None,datatype=None,language=None,); ValueError: <http://vocab.nerc.ac.uk/collection/S23/current/S23C004/> is not a valid URI or CURIE\n",
      "ERROR:root:Skipping statements(subject=ENVO:01001649,predicate=oio:hasDbXref,object=<http://vocab.nerc.ac.uk/collection/S23/current/S23C011/>,value=None,datatype=None,language=None,); ValueError: <http://vocab.nerc.ac.uk/collection/S23/current/S23C011/> is not a valid URI or CURIE\n",
      "ERROR:root:Skipping statements(subject=ENVO:01001650,predicate=oio:hasDbXref,object=<http://vocab.nerc.ac.uk/collection/S23/current/S23C012/>,value=None,datatype=None,language=None,); ValueError: <http://vocab.nerc.ac.uk/collection/S23/current/S23C012/> is not a valid URI or CURIE\n",
      "ERROR:root:Skipping statements(subject=ENVO:01001651,predicate=oio:hasDbXref,object=<http://vocab.nerc.ac.uk/collection/S23/current/S23C003/>,value=None,datatype=None,language=None,); ValueError: <http://vocab.nerc.ac.uk/collection/S23/current/S23C003/> is not a valid URI or CURIE\n",
      "ERROR:root:Skipping statements(subject=ENVO:01001652,predicate=oio:hasDbXref,object=<http://vocab.nerc.ac.uk/collection/S23/current/S23C005/>,value=None,datatype=None,language=None,); ValueError: <http://vocab.nerc.ac.uk/collection/S23/current/S23C005/> is not a valid URI or CURIE\n",
      "ERROR:root:Skipping statements(subject=ENVO:01001685,predicate=oio:hasDbXref,object=<https://github.com/EnvironmentOntology/envo/issues/1319>,value=None,datatype=None,language=None,); ValueError: <https://github.com/EnvironmentOntology/envo/issues/1319> is not a valid URI or CURIE\n",
      "ERROR:root:Skipping statements(subject=ENVO:01001692,predicate=oio:hasDbXref,object=<https://github.com/EnvironmentOntology/envo/issues/1319>,value=None,datatype=None,language=None,); ValueError: <https://github.com/EnvironmentOntology/envo/issues/1319> is not a valid URI or CURIE\n",
      "ERROR:root:Skipping statements(subject=ENVO:01001743,predicate=oio:hasDbXref,object=<https://github.com/EnvironmentOntology/envo/issues/1319>,value=None,datatype=None,language=None,); ValueError: <https://github.com/EnvironmentOntology/envo/issues/1319> is not a valid URI or CURIE\n",
      "ERROR:root:Skipping statements(subject=ENVO:01001799,predicate=oio:hasDbXref,object=<https://www.worldwildlife.org/biomes/tropical-and-subtropical-dry-broadleaf-forests>,value=None,datatype=None,language=None,); ValueError: <https://www.worldwildlife.org/biomes/tropical-and-subtropical-dry-broadleaf-forests> is not a valid URI or CURIE\n",
      "ERROR:root:Skipping statements(subject=ENVO:01001801,predicate=oio:hasDbXref,object=<https://www.worldwildlife.org/biomes/tropical-and-subtropical-dry-broadleaf-forests>,value=None,datatype=None,language=None,); ValueError: <https://www.worldwildlife.org/biomes/tropical-and-subtropical-dry-broadleaf-forests> is not a valid URI or CURIE\n",
      "ERROR:root:Skipping statements(subject=ENVO:01001823,predicate=oio:hasDbXref,object=<https://github.com/EnvironmentOntology/envo/issues/1319>,value=None,datatype=None,language=None,); ValueError: <https://github.com/EnvironmentOntology/envo/issues/1319> is not a valid URI or CURIE\n",
      "ERROR:root:Skipping statements(subject=ENVO:01001878,predicate=oio:hasDbXref,object=<https://www.goosocean.org/index.php?option=com_oe&task=viewDocumentRecord&docID=17476>,value=None,datatype=None,language=None,); ValueError: <https://www.goosocean.org/index.php?option=com_oe&task=viewDocumentRecord&docID=17476> is not a valid URI or CURIE\n",
      "ERROR:root:Skipping statements(subject=ENVO:01001879,predicate=oio:hasDbXref,object=<https://github.com/ESIPFed/sweet/issues/219>,value=None,datatype=None,language=None,); ValueError: <https://github.com/ESIPFed/sweet/issues/219> is not a valid URI or CURIE\n",
      "ERROR:root:Skipping statements(subject=ENVO:01001880,predicate=oio:hasDbXref,object=<https://github.com/ESIPFed/sweet/issues/219>,value=None,datatype=None,language=None,); ValueError: <https://github.com/ESIPFed/sweet/issues/219> is not a valid URI or CURIE\n",
      "ERROR:root:Skipping statements(subject=ENVO:01001881,predicate=oio:hasDbXref,object=<https://github.com/ESIPFed/sweet/issues/219>,value=None,datatype=None,language=None,); ValueError: <https://github.com/ESIPFed/sweet/issues/219> is not a valid URI or CURIE\n",
      "ERROR:root:Skipping statements(subject=ENVO:02000093,predicate=oio:hasDbXref,object=<https://en.wikipedia.org/wiki/Uranium_mining>,value=None,datatype=None,language=None,); ValueError: <https://en.wikipedia.org/wiki/Uranium_mining> is not a valid URI or CURIE\n",
      "ERROR:root:Skipping statements(subject=ENVO:02000094,predicate=oio:hasDbXref,object=<https://en.wikipedia.org/wiki/Ore>,value=None,datatype=None,language=None,); ValueError: <https://en.wikipedia.org/wiki/Ore> is not a valid URI or CURIE\n",
      "ERROR:root:Skipping statements(subject=ENVO:03501363,predicate=oio:hasDbXref,object=<https://www.conveyorsystemsltd.co.uk/news/168/126/Roller-Conveyor-vs-Belt-Conveyor.htm>,value=None,datatype=None,language=None,); ValueError: <https://www.conveyorsystemsltd.co.uk/news/168/126/Roller-Conveyor-vs-Belt-Conveyor.htm> is not a valid URI or CURIE\n",
      "ERROR:root:Skipping statements(subject=ENVO:06105112,predicate=oio:hasDbXref,object=<http://eurovoc.europa.eu/1837>,value=None,datatype=None,language=None,); ValueError: <http://eurovoc.europa.eu/1837> is not a valid URI or CURIE\n",
      "ERROR:root:Skipping statements(subject=ENVO:06105112,predicate=oio:hasDbXref,object=<http://aims.fao.org/aos/agrovoc/c_5998>,value=None,datatype=None,language=None,); ValueError: <http://aims.fao.org/aos/agrovoc/c_5998> is not a valid URI or CURIE\n",
      "WARNING:root:Skipping <http://geneontology.org/foo/applies-pattern> as it is not a valid CURIE\n",
      "WARNING:root:Skipping <http://schema.org/image> as it is not a valid CURIE\n",
      "WARNING:root:Skipping <http://swrl.stanford.edu/ontologies/3.3/swrla.owl#isRuleEnabled> as it is not a valid CURIE\n",
      "WARNING:root:Skipping <https://www.wikidata.org/wiki/Q2306597> as it is not a valid CURIE\n",
      "WARNING:root:Skipping <https://www.wikidata.org/wiki/Q2> as it is not a valid CURIE\n",
      "WARNING:root:Skipping <https://www.wikidata.org/wiki/Q525> as it is not a valid CURIE\n",
      "WARNING:root:Skipping <https://www.wikidata.org/wiki/Q715269> as it is not a valid CURIE\n"
     ]
    }
   ],
   "execution_count": 75
  },
  {
   "cell_type": "code",
   "id": "2d0d090813223db3",
   "metadata": {
    "ExecuteTime": {
     "end_time": "2024-12-04T15:42:31.731587Z",
     "start_time": "2024-12-04T15:42:31.384641Z"
    }
   },
   "source": [
    "ncbi_frame['longest_annotation_label'] = ncbi_frame['longest_annotation_curie'].apply(envo_adapter.label)"
   ],
   "outputs": [],
   "execution_count": 76
  },
  {
   "cell_type": "code",
   "id": "940cd4e688adb239",
   "metadata": {
    "ExecuteTime": {
     "end_time": "2024-12-04T15:42:36.989523Z",
     "start_time": "2024-12-04T15:42:36.976996Z"
    }
   },
   "source": [
    "ncbi_frame"
   ],
   "outputs": [
    {
     "data": {
      "text/plain": [
       "      serial_number                                            content  \\\n",
       "0                 1                                             stream   \n",
       "1                 2                                    intertidal zone   \n",
       "2                 3                                              coast   \n",
       "3                 4                                     not applicable   \n",
       "4                 5                                      not collected   \n",
       "...             ...                                                ...   \n",
       "1165           1127     Sublittoral_mangrove_tidal_zone, replicate = 2   \n",
       "1166           1128  acidic hot spring [ENVO:00002120]| spring wate...   \n",
       "1167           1128  acidic hot spring [ENVO:00002120]| spring wate...   \n",
       "1168           1128  acidic hot spring [ENVO:00002120]| spring wate...   \n",
       "1169           1129                           high contaminated site-9   \n",
       "\n",
       "      sample_count                                    content_list  \\\n",
       "0             2140                                          stream   \n",
       "1             1054                                 intertidal zone   \n",
       "2              891                                           coast   \n",
       "3              875                                  not applicable   \n",
       "4              830                                   not collected   \n",
       "...            ...                                             ...   \n",
       "1165             1  Sublittoral_mangrove_tidal_zone, replicate = 2   \n",
       "1166             1               acidic hot spring [ENVO:00002120]   \n",
       "1167             1                    spring water [ENVO:03600065]   \n",
       "1168             1                        sediment [ENVO:00002007]   \n",
       "1169             1                        high contaminated site-9   \n",
       "\n",
       "      content_count  envo_count  \\\n",
       "0                 1           0   \n",
       "1                 1           0   \n",
       "2                 1           0   \n",
       "3                 1           0   \n",
       "4                 1           0   \n",
       "...             ...         ...   \n",
       "1165              1           0   \n",
       "1166              3           1   \n",
       "1167              3           1   \n",
       "1168              3           1   \n",
       "1169              1           0   \n",
       "\n",
       "                                     extracted_label extracted_curie  \\\n",
       "0                                             stream            None   \n",
       "1                                    intertidal zone            None   \n",
       "2                                              coast            None   \n",
       "3                                     not applicable            None   \n",
       "4                                      not collected            None   \n",
       "...                                              ...             ...   \n",
       "1165  Sublittoral_mangrove_tidal_zone, replicate = 2            None   \n",
       "1166                               acidic hot spring   ENVO:00002120   \n",
       "1167                                    spring water   ENVO:03600065   \n",
       "1168                                        sediment   ENVO:00002007   \n",
       "1169                        high contaminated site-9            None   \n",
       "\n",
       "             real_label longest_annotation_curie longest_annotation_label  \n",
       "0                  None            ENVO:00000023                   stream  \n",
       "1                  None            ENVO:00000316          intertidal zone  \n",
       "2                  None            ENVO:01000687                    coast  \n",
       "3                  None                     None                     None  \n",
       "4                  None                     None                     None  \n",
       "...                 ...                      ...                      ...  \n",
       "1165               None                     None                     None  \n",
       "1166  acidic hot spring            ENVO:00002120        acidic hot spring  \n",
       "1167       spring water            ENVO:03600065             spring water  \n",
       "1168           sediment            ENVO:00002007                 sediment  \n",
       "1169               None              BFO:0000029                     site  \n",
       "\n",
       "[1170 rows x 11 columns]"
      ],
      "text/html": [
       "<div>\n",
       "<style scoped>\n",
       "    .dataframe tbody tr th:only-of-type {\n",
       "        vertical-align: middle;\n",
       "    }\n",
       "\n",
       "    .dataframe tbody tr th {\n",
       "        vertical-align: top;\n",
       "    }\n",
       "\n",
       "    .dataframe thead th {\n",
       "        text-align: right;\n",
       "    }\n",
       "</style>\n",
       "<table border=\"1\" class=\"dataframe\">\n",
       "  <thead>\n",
       "    <tr style=\"text-align: right;\">\n",
       "      <th></th>\n",
       "      <th>serial_number</th>\n",
       "      <th>content</th>\n",
       "      <th>sample_count</th>\n",
       "      <th>content_list</th>\n",
       "      <th>content_count</th>\n",
       "      <th>envo_count</th>\n",
       "      <th>extracted_label</th>\n",
       "      <th>extracted_curie</th>\n",
       "      <th>real_label</th>\n",
       "      <th>longest_annotation_curie</th>\n",
       "      <th>longest_annotation_label</th>\n",
       "    </tr>\n",
       "  </thead>\n",
       "  <tbody>\n",
       "    <tr>\n",
       "      <th>0</th>\n",
       "      <td>1</td>\n",
       "      <td>stream</td>\n",
       "      <td>2140</td>\n",
       "      <td>stream</td>\n",
       "      <td>1</td>\n",
       "      <td>0</td>\n",
       "      <td>stream</td>\n",
       "      <td>None</td>\n",
       "      <td>None</td>\n",
       "      <td>ENVO:00000023</td>\n",
       "      <td>stream</td>\n",
       "    </tr>\n",
       "    <tr>\n",
       "      <th>1</th>\n",
       "      <td>2</td>\n",
       "      <td>intertidal zone</td>\n",
       "      <td>1054</td>\n",
       "      <td>intertidal zone</td>\n",
       "      <td>1</td>\n",
       "      <td>0</td>\n",
       "      <td>intertidal zone</td>\n",
       "      <td>None</td>\n",
       "      <td>None</td>\n",
       "      <td>ENVO:00000316</td>\n",
       "      <td>intertidal zone</td>\n",
       "    </tr>\n",
       "    <tr>\n",
       "      <th>2</th>\n",
       "      <td>3</td>\n",
       "      <td>coast</td>\n",
       "      <td>891</td>\n",
       "      <td>coast</td>\n",
       "      <td>1</td>\n",
       "      <td>0</td>\n",
       "      <td>coast</td>\n",
       "      <td>None</td>\n",
       "      <td>None</td>\n",
       "      <td>ENVO:01000687</td>\n",
       "      <td>coast</td>\n",
       "    </tr>\n",
       "    <tr>\n",
       "      <th>3</th>\n",
       "      <td>4</td>\n",
       "      <td>not applicable</td>\n",
       "      <td>875</td>\n",
       "      <td>not applicable</td>\n",
       "      <td>1</td>\n",
       "      <td>0</td>\n",
       "      <td>not applicable</td>\n",
       "      <td>None</td>\n",
       "      <td>None</td>\n",
       "      <td>None</td>\n",
       "      <td>None</td>\n",
       "    </tr>\n",
       "    <tr>\n",
       "      <th>4</th>\n",
       "      <td>5</td>\n",
       "      <td>not collected</td>\n",
       "      <td>830</td>\n",
       "      <td>not collected</td>\n",
       "      <td>1</td>\n",
       "      <td>0</td>\n",
       "      <td>not collected</td>\n",
       "      <td>None</td>\n",
       "      <td>None</td>\n",
       "      <td>None</td>\n",
       "      <td>None</td>\n",
       "    </tr>\n",
       "    <tr>\n",
       "      <th>...</th>\n",
       "      <td>...</td>\n",
       "      <td>...</td>\n",
       "      <td>...</td>\n",
       "      <td>...</td>\n",
       "      <td>...</td>\n",
       "      <td>...</td>\n",
       "      <td>...</td>\n",
       "      <td>...</td>\n",
       "      <td>...</td>\n",
       "      <td>...</td>\n",
       "      <td>...</td>\n",
       "    </tr>\n",
       "    <tr>\n",
       "      <th>1165</th>\n",
       "      <td>1127</td>\n",
       "      <td>Sublittoral_mangrove_tidal_zone, replicate = 2</td>\n",
       "      <td>1</td>\n",
       "      <td>Sublittoral_mangrove_tidal_zone, replicate = 2</td>\n",
       "      <td>1</td>\n",
       "      <td>0</td>\n",
       "      <td>Sublittoral_mangrove_tidal_zone, replicate = 2</td>\n",
       "      <td>None</td>\n",
       "      <td>None</td>\n",
       "      <td>None</td>\n",
       "      <td>None</td>\n",
       "    </tr>\n",
       "    <tr>\n",
       "      <th>1166</th>\n",
       "      <td>1128</td>\n",
       "      <td>acidic hot spring [ENVO:00002120]| spring wate...</td>\n",
       "      <td>1</td>\n",
       "      <td>acidic hot spring [ENVO:00002120]</td>\n",
       "      <td>3</td>\n",
       "      <td>1</td>\n",
       "      <td>acidic hot spring</td>\n",
       "      <td>ENVO:00002120</td>\n",
       "      <td>acidic hot spring</td>\n",
       "      <td>ENVO:00002120</td>\n",
       "      <td>acidic hot spring</td>\n",
       "    </tr>\n",
       "    <tr>\n",
       "      <th>1167</th>\n",
       "      <td>1128</td>\n",
       "      <td>acidic hot spring [ENVO:00002120]| spring wate...</td>\n",
       "      <td>1</td>\n",
       "      <td>spring water [ENVO:03600065]</td>\n",
       "      <td>3</td>\n",
       "      <td>1</td>\n",
       "      <td>spring water</td>\n",
       "      <td>ENVO:03600065</td>\n",
       "      <td>spring water</td>\n",
       "      <td>ENVO:03600065</td>\n",
       "      <td>spring water</td>\n",
       "    </tr>\n",
       "    <tr>\n",
       "      <th>1168</th>\n",
       "      <td>1128</td>\n",
       "      <td>acidic hot spring [ENVO:00002120]| spring wate...</td>\n",
       "      <td>1</td>\n",
       "      <td>sediment [ENVO:00002007]</td>\n",
       "      <td>3</td>\n",
       "      <td>1</td>\n",
       "      <td>sediment</td>\n",
       "      <td>ENVO:00002007</td>\n",
       "      <td>sediment</td>\n",
       "      <td>ENVO:00002007</td>\n",
       "      <td>sediment</td>\n",
       "    </tr>\n",
       "    <tr>\n",
       "      <th>1169</th>\n",
       "      <td>1129</td>\n",
       "      <td>high contaminated site-9</td>\n",
       "      <td>1</td>\n",
       "      <td>high contaminated site-9</td>\n",
       "      <td>1</td>\n",
       "      <td>0</td>\n",
       "      <td>high contaminated site-9</td>\n",
       "      <td>None</td>\n",
       "      <td>None</td>\n",
       "      <td>BFO:0000029</td>\n",
       "      <td>site</td>\n",
       "    </tr>\n",
       "  </tbody>\n",
       "</table>\n",
       "<p>1170 rows × 11 columns</p>\n",
       "</div>"
      ]
     },
     "execution_count": 77,
     "metadata": {},
     "output_type": "execute_result"
    }
   ],
   "execution_count": 77
  },
  {
   "cell_type": "markdown",
   "id": "ff8c423e61902d25",
   "metadata": {},
   "source": [
    "----"
   ]
  },
  {
   "metadata": {
    "ExecuteTime": {
     "end_time": "2024-12-04T15:42:43.000498Z",
     "start_time": "2024-12-04T15:42:42.996259Z"
    }
   },
   "cell_type": "code",
   "source": [
    "if os.path.isfile(gold_data_file_name):\n",
    "    print(f\"{gold_data_file_name} is already present in the current working directory.\")\n",
    "else:\n",
    "    print(f\"{gold_data_file_name} needs to be downloaded\")\n",
    "    gold_response = requests.get(gold_data_url)\n",
    "    with open(gold_data_file_name, \"wb\") as f:\n",
    "        f.write(gold_response.content)\n",
    "        # ~ 10 seconds  @ 250 Mbps"
   ],
   "id": "8de124964756a131",
   "outputs": [
    {
     "name": "stdout",
     "output_type": "stream",
     "text": [
      "goldData.xlsx is already present in the current working directory.\n"
     ]
    }
   ],
   "execution_count": 78
  },
  {
   "metadata": {},
   "cell_type": "markdown",
   "source": [
    "Expect to see\n",
    "\n",
    "> /home/mark/.cache/pypoetry/virtualenvs/nmdc-submission-schema-DC6HKp4p-py3.10/lib/python3.10/site-packages/openpyxl/styles/stylesheet.py:237: UserWarning: Workbook contains no default style, apply openpyxl's default\n",
    "  warn(\"Workbook contains no default style, apply openpyxl's default\")"
   ],
   "id": "590bfd050233cda1"
  },
  {
   "metadata": {
    "ExecuteTime": {
     "end_time": "2024-12-04T15:44:16.889745Z",
     "start_time": "2024-12-04T15:42:43.055990Z"
    }
   },
   "cell_type": "code",
   "source": [
    "gold_biosamples_frame = pd.read_excel(gold_data_file_name, sheet_name=BIOSAMPLES_SHEET)\n",
    "# 1.5 minutes\n",
    "# todo cache the output of this, not the input!\n"
   ],
   "id": "a8ac143654db73dd",
   "outputs": [
    {
     "name": "stderr",
     "output_type": "stream",
     "text": [
      "/home/mark/.cache/pypoetry/virtualenvs/nmdc-submission-schema-DC6HKp4p-py3.10/lib/python3.10/site-packages/openpyxl/styles/stylesheet.py:237: UserWarning: Workbook contains no default style, apply openpyxl's default\n",
      "  warn(\"Workbook contains no default style, apply openpyxl's default\")\n"
     ]
    }
   ],
   "execution_count": 79
  },
  {
   "cell_type": "code",
   "id": "fb292efb113d881a",
   "metadata": {
    "ExecuteTime": {
     "end_time": "2024-12-04T15:44:16.902404Z",
     "start_time": "2024-12-04T15:44:16.895629Z"
    }
   },
   "source": [
    "gold_biosamples_frame['BIOSAMPLE ECOSYSTEM PATH ID'] = gold_biosamples_frame['BIOSAMPLE ECOSYSTEM PATH ID'].fillna(\n",
    "    0).astype(int)\n"
   ],
   "outputs": [],
   "execution_count": 80
  },
  {
   "cell_type": "code",
   "id": "ca3110d5a0a1fa80",
   "metadata": {
    "ExecuteTime": {
     "end_time": "2024-12-04T15:44:22.162863Z",
     "start_time": "2024-12-04T15:44:22.146923Z"
    }
   },
   "source": [
    "gold_biosamples_frame"
   ],
   "outputs": [
    {
     "data": {
      "text/plain": [
       "       BIOSAMPLE GOLD ID                                     BIOSAMPLE NAME  \\\n",
       "0              Gb0011929  GEBA_MDM Biosample from Great Boiling Spring, ...   \n",
       "1              Gb0035601  Compost enrichment cellulose adapted microbial...   \n",
       "2              Gb0035602  Compost enrichment cellulose adapted microbial...   \n",
       "3              Gb0035635  Compost enrichment cellulose adapted microbial...   \n",
       "4              Gb0035638  Compost enrichment cellulose adapted microbial...   \n",
       "...                  ...                                                ...   \n",
       "210932         Gb0405291  Freshwater biofilm microbial communities from ...   \n",
       "210933         Gb0405292  Freshwater biofilm microbial communities from ...   \n",
       "210934         Gb0405293  Freshwater microbial communities from Lake Sug...   \n",
       "210935         Gb0405294  Freshwater microbial communities from Prairie ...   \n",
       "210936         Gb0405295  Freshwater biofilm microbial communities from ...   \n",
       "\n",
       "        BIOSAMPLE NCBI TAX ID BIOSAMPLE NCBI TAX NAME  \\\n",
       "0                    749907.0     sediment metagenome   \n",
       "1                    702656.0      compost metagenome   \n",
       "2                    702656.0      compost metagenome   \n",
       "3                    702656.0      compost metagenome   \n",
       "4                    702656.0      compost metagenome   \n",
       "...                       ...                     ...   \n",
       "210932               718308.0      biofilm metagenome   \n",
       "210933               718308.0      biofilm metagenome   \n",
       "210934               449393.0   freshwater metagenome   \n",
       "210935               449393.0   freshwater metagenome   \n",
       "210936               718308.0      biofilm metagenome   \n",
       "\n",
       "       BIOSAMPLE SAMPLE COLLECTION SITE BIOSAMPLE SAMPLE COLLECTION DATE  \\\n",
       "0                              Sediment                              NaN   \n",
       "1                           single cell                       2012-10-31   \n",
       "2                           single cell                       2012-10-31   \n",
       "3                           single cell                       2012-10-31   \n",
       "4                           single cell                       2012-10-31   \n",
       "...                                 ...                              ...   \n",
       "210932                    creek biofilm                       2023-07-26   \n",
       "210933                    creek biofilm                       2023-07-26   \n",
       "210934                       lake water                       2023-08-01   \n",
       "210935                       lake water                       2023-08-08   \n",
       "210936                    creek biofilm                       2023-07-24   \n",
       "\n",
       "                            BIOSAMPLE GEOGRAPHIC LOCATION  BIOSAMPLE LATITUDE  \\\n",
       "0                      Great Boiling Spring (GBS), Nevada           40.661433   \n",
       "1       USA: California: Emeryville: Joint Bio-Energy ...           37.840800   \n",
       "2       USA: California: Emeryville: Joint Bio-Energy ...           37.840800   \n",
       "3       USA: California: Emeryville: Joint Bio-Energy ...           37.840800   \n",
       "4       USA: California: Emeryville: Joint Bio-Energy ...           37.840800   \n",
       "...                                                   ...                 ...   \n",
       "210932   USA: Lewis Run NEON Field Site, Briggs, Virginia           39.095630   \n",
       "210933   USA: Lewis Run NEON Field Site, Briggs, Virginia           39.095630   \n",
       "210934  USA: Lake Suggs NEON Field Site, Melrose, Florida           29.688140   \n",
       "210935  USA: Prairie Lake NEON Field Site, Vashti, Nor...           47.159710   \n",
       "210936  USA: Kings Creek NEON Field Site, Manhattan, K...           39.105060   \n",
       "\n",
       "        BIOSAMPLE LONGITUDE  BIOSAMPLE ECOSYSTEM PATH ID BIOSAMPLE ECOSYSTEM  \\\n",
       "0               -119.366250                         3992       Environmental   \n",
       "1               -122.289600                         6039          Engineered   \n",
       "2               -122.289600                         6039          Engineered   \n",
       "3               -122.289600                         6039          Engineered   \n",
       "4               -122.289600                         6039          Engineered   \n",
       "...                     ...                          ...                 ...   \n",
       "210932           -77.983216                         8389       Environmental   \n",
       "210933           -77.983216                         8389       Environmental   \n",
       "210934           -82.017318                         4179       Environmental   \n",
       "210935           -99.118723                         4179       Environmental   \n",
       "210936           -96.603829                         8389       Environmental   \n",
       "\n",
       "       BIOSAMPLE ECOSYSTEM CATEGORY BIOSAMPLE ECOSYSTEM TYPE  \\\n",
       "0                           Aquatic          Thermal springs   \n",
       "1                       Solid waste              Green waste   \n",
       "2                       Solid waste              Green waste   \n",
       "3                       Solid waste              Green waste   \n",
       "4                       Solid waste              Green waste   \n",
       "...                             ...                      ...   \n",
       "210932                      Aquatic               Freshwater   \n",
       "210933                      Aquatic               Freshwater   \n",
       "210934                      Aquatic               Freshwater   \n",
       "210935                      Aquatic               Freshwater   \n",
       "210936                      Aquatic               Freshwater   \n",
       "\n",
       "       BIOSAMPLE ECOSYSTEM SUBTYPE BIOSAMPLE SPECIFIC ECOSYSTEM  \n",
       "0                     Hot (42-90C)                 Unclassified  \n",
       "1                       Composting                 Unclassified  \n",
       "2                       Composting                 Unclassified  \n",
       "3                       Composting                 Unclassified  \n",
       "4                       Composting                 Unclassified  \n",
       "...                            ...                          ...  \n",
       "210932                       Creek                      Biofilm  \n",
       "210933                       Creek                      Biofilm  \n",
       "210934                        Lake                 Unclassified  \n",
       "210935                        Lake                 Unclassified  \n",
       "210936                       Creek                      Biofilm  \n",
       "\n",
       "[210937 rows x 15 columns]"
      ],
      "text/html": [
       "<div>\n",
       "<style scoped>\n",
       "    .dataframe tbody tr th:only-of-type {\n",
       "        vertical-align: middle;\n",
       "    }\n",
       "\n",
       "    .dataframe tbody tr th {\n",
       "        vertical-align: top;\n",
       "    }\n",
       "\n",
       "    .dataframe thead th {\n",
       "        text-align: right;\n",
       "    }\n",
       "</style>\n",
       "<table border=\"1\" class=\"dataframe\">\n",
       "  <thead>\n",
       "    <tr style=\"text-align: right;\">\n",
       "      <th></th>\n",
       "      <th>BIOSAMPLE GOLD ID</th>\n",
       "      <th>BIOSAMPLE NAME</th>\n",
       "      <th>BIOSAMPLE NCBI TAX ID</th>\n",
       "      <th>BIOSAMPLE NCBI TAX NAME</th>\n",
       "      <th>BIOSAMPLE SAMPLE COLLECTION SITE</th>\n",
       "      <th>BIOSAMPLE SAMPLE COLLECTION DATE</th>\n",
       "      <th>BIOSAMPLE GEOGRAPHIC LOCATION</th>\n",
       "      <th>BIOSAMPLE LATITUDE</th>\n",
       "      <th>BIOSAMPLE LONGITUDE</th>\n",
       "      <th>BIOSAMPLE ECOSYSTEM PATH ID</th>\n",
       "      <th>BIOSAMPLE ECOSYSTEM</th>\n",
       "      <th>BIOSAMPLE ECOSYSTEM CATEGORY</th>\n",
       "      <th>BIOSAMPLE ECOSYSTEM TYPE</th>\n",
       "      <th>BIOSAMPLE ECOSYSTEM SUBTYPE</th>\n",
       "      <th>BIOSAMPLE SPECIFIC ECOSYSTEM</th>\n",
       "    </tr>\n",
       "  </thead>\n",
       "  <tbody>\n",
       "    <tr>\n",
       "      <th>0</th>\n",
       "      <td>Gb0011929</td>\n",
       "      <td>GEBA_MDM Biosample from Great Boiling Spring, ...</td>\n",
       "      <td>749907.0</td>\n",
       "      <td>sediment metagenome</td>\n",
       "      <td>Sediment</td>\n",
       "      <td>NaN</td>\n",
       "      <td>Great Boiling Spring (GBS), Nevada</td>\n",
       "      <td>40.661433</td>\n",
       "      <td>-119.366250</td>\n",
       "      <td>3992</td>\n",
       "      <td>Environmental</td>\n",
       "      <td>Aquatic</td>\n",
       "      <td>Thermal springs</td>\n",
       "      <td>Hot (42-90C)</td>\n",
       "      <td>Unclassified</td>\n",
       "    </tr>\n",
       "    <tr>\n",
       "      <th>1</th>\n",
       "      <td>Gb0035601</td>\n",
       "      <td>Compost enrichment cellulose adapted microbial...</td>\n",
       "      <td>702656.0</td>\n",
       "      <td>compost metagenome</td>\n",
       "      <td>single cell</td>\n",
       "      <td>2012-10-31</td>\n",
       "      <td>USA: California: Emeryville: Joint Bio-Energy ...</td>\n",
       "      <td>37.840800</td>\n",
       "      <td>-122.289600</td>\n",
       "      <td>6039</td>\n",
       "      <td>Engineered</td>\n",
       "      <td>Solid waste</td>\n",
       "      <td>Green waste</td>\n",
       "      <td>Composting</td>\n",
       "      <td>Unclassified</td>\n",
       "    </tr>\n",
       "    <tr>\n",
       "      <th>2</th>\n",
       "      <td>Gb0035602</td>\n",
       "      <td>Compost enrichment cellulose adapted microbial...</td>\n",
       "      <td>702656.0</td>\n",
       "      <td>compost metagenome</td>\n",
       "      <td>single cell</td>\n",
       "      <td>2012-10-31</td>\n",
       "      <td>USA: California: Emeryville: Joint Bio-Energy ...</td>\n",
       "      <td>37.840800</td>\n",
       "      <td>-122.289600</td>\n",
       "      <td>6039</td>\n",
       "      <td>Engineered</td>\n",
       "      <td>Solid waste</td>\n",
       "      <td>Green waste</td>\n",
       "      <td>Composting</td>\n",
       "      <td>Unclassified</td>\n",
       "    </tr>\n",
       "    <tr>\n",
       "      <th>3</th>\n",
       "      <td>Gb0035635</td>\n",
       "      <td>Compost enrichment cellulose adapted microbial...</td>\n",
       "      <td>702656.0</td>\n",
       "      <td>compost metagenome</td>\n",
       "      <td>single cell</td>\n",
       "      <td>2012-10-31</td>\n",
       "      <td>USA: California: Emeryville: Joint Bio-Energy ...</td>\n",
       "      <td>37.840800</td>\n",
       "      <td>-122.289600</td>\n",
       "      <td>6039</td>\n",
       "      <td>Engineered</td>\n",
       "      <td>Solid waste</td>\n",
       "      <td>Green waste</td>\n",
       "      <td>Composting</td>\n",
       "      <td>Unclassified</td>\n",
       "    </tr>\n",
       "    <tr>\n",
       "      <th>4</th>\n",
       "      <td>Gb0035638</td>\n",
       "      <td>Compost enrichment cellulose adapted microbial...</td>\n",
       "      <td>702656.0</td>\n",
       "      <td>compost metagenome</td>\n",
       "      <td>single cell</td>\n",
       "      <td>2012-10-31</td>\n",
       "      <td>USA: California: Emeryville: Joint Bio-Energy ...</td>\n",
       "      <td>37.840800</td>\n",
       "      <td>-122.289600</td>\n",
       "      <td>6039</td>\n",
       "      <td>Engineered</td>\n",
       "      <td>Solid waste</td>\n",
       "      <td>Green waste</td>\n",
       "      <td>Composting</td>\n",
       "      <td>Unclassified</td>\n",
       "    </tr>\n",
       "    <tr>\n",
       "      <th>...</th>\n",
       "      <td>...</td>\n",
       "      <td>...</td>\n",
       "      <td>...</td>\n",
       "      <td>...</td>\n",
       "      <td>...</td>\n",
       "      <td>...</td>\n",
       "      <td>...</td>\n",
       "      <td>...</td>\n",
       "      <td>...</td>\n",
       "      <td>...</td>\n",
       "      <td>...</td>\n",
       "      <td>...</td>\n",
       "      <td>...</td>\n",
       "      <td>...</td>\n",
       "      <td>...</td>\n",
       "    </tr>\n",
       "    <tr>\n",
       "      <th>210932</th>\n",
       "      <td>Gb0405291</td>\n",
       "      <td>Freshwater biofilm microbial communities from ...</td>\n",
       "      <td>718308.0</td>\n",
       "      <td>biofilm metagenome</td>\n",
       "      <td>creek biofilm</td>\n",
       "      <td>2023-07-26</td>\n",
       "      <td>USA: Lewis Run NEON Field Site, Briggs, Virginia</td>\n",
       "      <td>39.095630</td>\n",
       "      <td>-77.983216</td>\n",
       "      <td>8389</td>\n",
       "      <td>Environmental</td>\n",
       "      <td>Aquatic</td>\n",
       "      <td>Freshwater</td>\n",
       "      <td>Creek</td>\n",
       "      <td>Biofilm</td>\n",
       "    </tr>\n",
       "    <tr>\n",
       "      <th>210933</th>\n",
       "      <td>Gb0405292</td>\n",
       "      <td>Freshwater biofilm microbial communities from ...</td>\n",
       "      <td>718308.0</td>\n",
       "      <td>biofilm metagenome</td>\n",
       "      <td>creek biofilm</td>\n",
       "      <td>2023-07-26</td>\n",
       "      <td>USA: Lewis Run NEON Field Site, Briggs, Virginia</td>\n",
       "      <td>39.095630</td>\n",
       "      <td>-77.983216</td>\n",
       "      <td>8389</td>\n",
       "      <td>Environmental</td>\n",
       "      <td>Aquatic</td>\n",
       "      <td>Freshwater</td>\n",
       "      <td>Creek</td>\n",
       "      <td>Biofilm</td>\n",
       "    </tr>\n",
       "    <tr>\n",
       "      <th>210934</th>\n",
       "      <td>Gb0405293</td>\n",
       "      <td>Freshwater microbial communities from Lake Sug...</td>\n",
       "      <td>449393.0</td>\n",
       "      <td>freshwater metagenome</td>\n",
       "      <td>lake water</td>\n",
       "      <td>2023-08-01</td>\n",
       "      <td>USA: Lake Suggs NEON Field Site, Melrose, Florida</td>\n",
       "      <td>29.688140</td>\n",
       "      <td>-82.017318</td>\n",
       "      <td>4179</td>\n",
       "      <td>Environmental</td>\n",
       "      <td>Aquatic</td>\n",
       "      <td>Freshwater</td>\n",
       "      <td>Lake</td>\n",
       "      <td>Unclassified</td>\n",
       "    </tr>\n",
       "    <tr>\n",
       "      <th>210935</th>\n",
       "      <td>Gb0405294</td>\n",
       "      <td>Freshwater microbial communities from Prairie ...</td>\n",
       "      <td>449393.0</td>\n",
       "      <td>freshwater metagenome</td>\n",
       "      <td>lake water</td>\n",
       "      <td>2023-08-08</td>\n",
       "      <td>USA: Prairie Lake NEON Field Site, Vashti, Nor...</td>\n",
       "      <td>47.159710</td>\n",
       "      <td>-99.118723</td>\n",
       "      <td>4179</td>\n",
       "      <td>Environmental</td>\n",
       "      <td>Aquatic</td>\n",
       "      <td>Freshwater</td>\n",
       "      <td>Lake</td>\n",
       "      <td>Unclassified</td>\n",
       "    </tr>\n",
       "    <tr>\n",
       "      <th>210936</th>\n",
       "      <td>Gb0405295</td>\n",
       "      <td>Freshwater biofilm microbial communities from ...</td>\n",
       "      <td>718308.0</td>\n",
       "      <td>biofilm metagenome</td>\n",
       "      <td>creek biofilm</td>\n",
       "      <td>2023-07-24</td>\n",
       "      <td>USA: Kings Creek NEON Field Site, Manhattan, K...</td>\n",
       "      <td>39.105060</td>\n",
       "      <td>-96.603829</td>\n",
       "      <td>8389</td>\n",
       "      <td>Environmental</td>\n",
       "      <td>Aquatic</td>\n",
       "      <td>Freshwater</td>\n",
       "      <td>Creek</td>\n",
       "      <td>Biofilm</td>\n",
       "    </tr>\n",
       "  </tbody>\n",
       "</table>\n",
       "<p>210937 rows × 15 columns</p>\n",
       "</div>"
      ]
     },
     "execution_count": 81,
     "metadata": {},
     "output_type": "execute_result"
    }
   ],
   "execution_count": 81
  },
  {
   "cell_type": "code",
   "id": "40f8fc6862a817f3",
   "metadata": {
    "ExecuteTime": {
     "end_time": "2024-12-04T15:44:27.311987Z",
     "start_time": "2024-12-04T15:44:27.308046Z"
    }
   },
   "source": [
    "# Determine the filenames and target directory\n",
    "goldterms_compressed_filename = urlparse(goldterms_semsql_url).path.split('/')[-1]\n",
    "goldterms_filename = os.path.splitext(goldterms_compressed_filename)[0]\n",
    "target_dir = os.path.join(\"..\", \"..\")  # Two levels up\n",
    "\n",
    "# Print to confirm the filenames\n",
    "print(goldterms_filename)"
   ],
   "outputs": [
    {
     "name": "stdout",
     "output_type": "stream",
     "text": [
      "goldterms.db\n"
     ]
    }
   ],
   "execution_count": 82
  },
  {
   "cell_type": "code",
   "id": "784c07d7b6bee4c2",
   "metadata": {
    "ExecuteTime": {
     "end_time": "2024-12-04T15:44:27.838941Z",
     "start_time": "2024-12-04T15:44:27.480719Z"
    }
   },
   "source": [
    "# Fetch the contents from the URL and save compressed file in target directory\n",
    "goldterms_response = requests.get(goldterms_semsql_url)\n",
    "goldterms_compressed_file_path = os.path.join(target_dir, goldterms_compressed_filename)\n",
    "with open(goldterms_compressed_file_path, \"wb\") as f:\n",
    "    f.write(goldterms_response.content)\n",
    "    \n",
    "# ~ 1 second"
   ],
   "outputs": [],
   "execution_count": 83
  },
  {
   "cell_type": "code",
   "id": "cd765130d59cd026",
   "metadata": {
    "ExecuteTime": {
     "end_time": "2024-12-04T15:44:27.905970Z",
     "start_time": "2024-12-04T15:44:27.843525Z"
    }
   },
   "source": [
    "# Unzip the compressed file and save the extracted file in target directory\n",
    "goldterms_uncompressed_file_path = os.path.join(target_dir, goldterms_filename)\n",
    "with gzip.open(goldterms_compressed_file_path, \"rb\") as f_in:\n",
    "    with open(goldterms_uncompressed_file_path, \"wb\") as f_out:\n",
    "        shutil.copyfileobj(f_in, f_out)\n",
    "\n",
    "# ~ 1 second"
   ],
   "outputs": [],
   "execution_count": 84
  },
  {
   "metadata": {
    "ExecuteTime": {
     "end_time": "2024-12-04T15:44:33.248095Z",
     "start_time": "2024-12-04T15:44:33.245485Z"
    }
   },
   "cell_type": "code",
   "source": "# that's all fast. don't bother caching",
   "id": "fd2fab3ddcf862ce",
   "outputs": [],
   "execution_count": 85
  },
  {
   "cell_type": "code",
   "id": "dcf847a3c2ed302d",
   "metadata": {
    "ExecuteTime": {
     "end_time": "2024-12-04T15:44:39.221096Z",
     "start_time": "2024-12-04T15:44:39.218151Z"
    }
   },
   "source": [
    "goldterms_conn = sqlite3.connect(goldterms_uncompressed_file_path)"
   ],
   "outputs": [],
   "execution_count": 86
  },
  {
   "cell_type": "code",
   "id": "cd5b0875ee9410c6",
   "metadata": {
    "ExecuteTime": {
     "end_time": "2024-12-04T15:44:44.498237Z",
     "start_time": "2024-12-04T15:44:44.491503Z"
    }
   },
   "source": [
    "goldterms_subjects = pd.read_sql_query(goldterms_subclass_query, goldterms_conn)"
   ],
   "outputs": [],
   "execution_count": 87
  },
  {
   "cell_type": "code",
   "id": "b35003035f6c1833",
   "metadata": {
    "ExecuteTime": {
     "end_time": "2024-12-04T15:44:49.774099Z",
     "start_time": "2024-12-04T15:44:49.769866Z"
    }
   },
   "source": [
    "goldterms_subjects['path_id'] = goldterms_subjects['subject'].str.extract(r'GOLDTERMS:(\\d+)')"
   ],
   "outputs": [],
   "execution_count": 88
  },
  {
   "cell_type": "code",
   "id": "afaaf46c3a83dc3e",
   "metadata": {
    "ExecuteTime": {
     "end_time": "2024-12-04T15:44:55.071867Z",
     "start_time": "2024-12-04T15:44:55.065969Z"
    }
   },
   "source": [
    "goldterms_subjects"
   ],
   "outputs": [
    {
     "data": {
      "text/plain": [
       "Empty DataFrame\n",
       "Columns: [subject, path_id]\n",
       "Index: []"
      ],
      "text/html": [
       "<div>\n",
       "<style scoped>\n",
       "    .dataframe tbody tr th:only-of-type {\n",
       "        vertical-align: middle;\n",
       "    }\n",
       "\n",
       "    .dataframe tbody tr th {\n",
       "        vertical-align: top;\n",
       "    }\n",
       "\n",
       "    .dataframe thead th {\n",
       "        text-align: right;\n",
       "    }\n",
       "</style>\n",
       "<table border=\"1\" class=\"dataframe\">\n",
       "  <thead>\n",
       "    <tr style=\"text-align: right;\">\n",
       "      <th></th>\n",
       "      <th>subject</th>\n",
       "      <th>path_id</th>\n",
       "    </tr>\n",
       "  </thead>\n",
       "  <tbody>\n",
       "  </tbody>\n",
       "</table>\n",
       "</div>"
      ]
     },
     "execution_count": 89,
     "metadata": {},
     "output_type": "execute_result"
    }
   ],
   "execution_count": 89
  },
  {
   "cell_type": "code",
   "id": "6d8f2db9770e83b7",
   "metadata": {
    "ExecuteTime": {
     "end_time": "2024-12-04T15:45:01.097051Z",
     "start_time": "2024-12-04T15:45:01.093723Z"
    }
   },
   "source": [
    "gold_path_ids = goldterms_subjects['path_id'].dropna().unique().tolist()\n",
    "gold_path_ids = [int(my_id) for my_id in gold_path_ids]\n"
   ],
   "outputs": [],
   "execution_count": 90
  },
  {
   "cell_type": "code",
   "id": "2d78193b734e2ab4",
   "metadata": {
    "ExecuteTime": {
     "end_time": "2024-12-04T15:45:01.124012Z",
     "start_time": "2024-12-04T15:45:01.101744Z"
    }
   },
   "source": [
    "gold_env_filtered_biosamples_frame = gold_biosamples_frame[\n",
    "    gold_biosamples_frame['BIOSAMPLE ECOSYSTEM PATH ID'].isin(gold_path_ids)]\n"
   ],
   "outputs": [],
   "execution_count": 91
  },
  {
   "cell_type": "code",
   "id": "3f24e8a82845de52",
   "metadata": {
    "ExecuteTime": {
     "end_time": "2024-12-04T15:45:01.194336Z",
     "start_time": "2024-12-04T15:45:01.186441Z"
    }
   },
   "source": [
    "gold_env_filtered_biosamples_frame"
   ],
   "outputs": [
    {
     "data": {
      "text/plain": [
       "Empty DataFrame\n",
       "Columns: [BIOSAMPLE GOLD ID, BIOSAMPLE NAME, BIOSAMPLE NCBI TAX ID, BIOSAMPLE NCBI TAX NAME, BIOSAMPLE SAMPLE COLLECTION SITE, BIOSAMPLE SAMPLE COLLECTION DATE, BIOSAMPLE GEOGRAPHIC LOCATION, BIOSAMPLE LATITUDE, BIOSAMPLE LONGITUDE, BIOSAMPLE ECOSYSTEM PATH ID, BIOSAMPLE ECOSYSTEM, BIOSAMPLE ECOSYSTEM CATEGORY, BIOSAMPLE ECOSYSTEM TYPE, BIOSAMPLE ECOSYSTEM SUBTYPE, BIOSAMPLE SPECIFIC ECOSYSTEM]\n",
       "Index: []"
      ],
      "text/html": [
       "<div>\n",
       "<style scoped>\n",
       "    .dataframe tbody tr th:only-of-type {\n",
       "        vertical-align: middle;\n",
       "    }\n",
       "\n",
       "    .dataframe tbody tr th {\n",
       "        vertical-align: top;\n",
       "    }\n",
       "\n",
       "    .dataframe thead th {\n",
       "        text-align: right;\n",
       "    }\n",
       "</style>\n",
       "<table border=\"1\" class=\"dataframe\">\n",
       "  <thead>\n",
       "    <tr style=\"text-align: right;\">\n",
       "      <th></th>\n",
       "      <th>BIOSAMPLE GOLD ID</th>\n",
       "      <th>BIOSAMPLE NAME</th>\n",
       "      <th>BIOSAMPLE NCBI TAX ID</th>\n",
       "      <th>BIOSAMPLE NCBI TAX NAME</th>\n",
       "      <th>BIOSAMPLE SAMPLE COLLECTION SITE</th>\n",
       "      <th>BIOSAMPLE SAMPLE COLLECTION DATE</th>\n",
       "      <th>BIOSAMPLE GEOGRAPHIC LOCATION</th>\n",
       "      <th>BIOSAMPLE LATITUDE</th>\n",
       "      <th>BIOSAMPLE LONGITUDE</th>\n",
       "      <th>BIOSAMPLE ECOSYSTEM PATH ID</th>\n",
       "      <th>BIOSAMPLE ECOSYSTEM</th>\n",
       "      <th>BIOSAMPLE ECOSYSTEM CATEGORY</th>\n",
       "      <th>BIOSAMPLE ECOSYSTEM TYPE</th>\n",
       "      <th>BIOSAMPLE ECOSYSTEM SUBTYPE</th>\n",
       "      <th>BIOSAMPLE SPECIFIC ECOSYSTEM</th>\n",
       "    </tr>\n",
       "  </thead>\n",
       "  <tbody>\n",
       "  </tbody>\n",
       "</table>\n",
       "</div>"
      ]
     },
     "execution_count": 92,
     "metadata": {},
     "output_type": "execute_result"
    }
   ],
   "execution_count": 92
  },
  {
   "cell_type": "code",
   "id": "22c7f8e126e96aab",
   "metadata": {
    "ExecuteTime": {
     "end_time": "2024-12-04T15:45:06.370502Z",
     "start_time": "2024-12-04T15:45:06.365342Z"
    }
   },
   "source": [
    "goldterms_context_frame = pd.read_sql_query(goldterms_envo_query, goldterms_conn)"
   ],
   "outputs": [],
   "execution_count": 93
  },
  {
   "cell_type": "code",
   "id": "3157b066b1c6e2cf",
   "metadata": {
    "ExecuteTime": {
     "end_time": "2024-12-04T15:45:06.498954Z",
     "start_time": "2024-12-04T15:45:06.386537Z"
    }
   },
   "source": [
    "goldterms_context_frame['object_label'] = goldterms_context_frame['object'].apply(envo_adapter.label)"
   ],
   "outputs": [],
   "execution_count": 94
  },
  {
   "cell_type": "code",
   "id": "d60306a6490fdd6a",
   "metadata": {
    "ExecuteTime": {
     "end_time": "2024-12-04T15:45:11.849458Z",
     "start_time": "2024-12-04T15:45:11.845215Z"
    }
   },
   "source": [
    "goldterms_context_frame['path_id'] = goldterms_context_frame['subject'].str.extract(r'GOLDTERMS:(\\d+)')"
   ],
   "outputs": [],
   "execution_count": 95
  },
  {
   "cell_type": "code",
   "id": "93391b53436ba5b",
   "metadata": {
    "ExecuteTime": {
     "end_time": "2024-12-04T15:45:17.069316Z",
     "start_time": "2024-12-04T15:45:17.057414Z"
    }
   },
   "source": [
    "goldterms_context_frame"
   ],
   "outputs": [
    {
     "data": {
      "text/plain": [
       "                                                stanza  \\\n",
       "0    GOLDTERMS:Engineered-Bioreactor-Anaerobic-Soft...   \n",
       "1          GOLDTERMS:Engineered-Bioreactor-DHS-reactor   \n",
       "2    GOLDTERMS:Engineered-Bioreactor-Membrane-biore...   \n",
       "3    GOLDTERMS:Engineered-Bioreactor-Membrane-biore...   \n",
       "4    GOLDTERMS:Engineered-Bioreactor-Passive-biorea...   \n",
       "..                                                 ...   \n",
       "296                                     GOLDTERMS:5838   \n",
       "297                                     GOLDTERMS:5841   \n",
       "298                                     GOLDTERMS:5843   \n",
       "299                                     GOLDTERMS:5846   \n",
       "300                                     GOLDTERMS:5850   \n",
       "\n",
       "                                               subject       predicate  \\\n",
       "0    GOLDTERMS:Engineered-Bioreactor-Anaerobic-Soft...  mixs:env_local   \n",
       "1          GOLDTERMS:Engineered-Bioreactor-DHS-reactor  mixs:env_local   \n",
       "2    GOLDTERMS:Engineered-Bioreactor-Membrane-biore...  mixs:env_local   \n",
       "3    GOLDTERMS:Engineered-Bioreactor-Membrane-biore...  mixs:env_local   \n",
       "4    GOLDTERMS:Engineered-Bioreactor-Passive-biorea...  mixs:env_local   \n",
       "..                                                 ...             ...   \n",
       "296                                     GOLDTERMS:5838  mixs:env_local   \n",
       "297                                     GOLDTERMS:5841  mixs:env_local   \n",
       "298                                     GOLDTERMS:5843  mixs:env_local   \n",
       "299                                     GOLDTERMS:5846  mixs:env_local   \n",
       "300                                     GOLDTERMS:5850  mixs:env_local   \n",
       "\n",
       "            object value datatype language graph   object_label path_id  \n",
       "0      OBI:0001046  None     None     None  None           None     NaN  \n",
       "1      OBI:0001046  None     None     None  None           None     NaN  \n",
       "2      OBI:0001046  None     None     None  None           None     NaN  \n",
       "3      OBI:0001046  None     None     None  None           None     NaN  \n",
       "4      OBI:0001046  None     None     None  None           None     NaN  \n",
       "..             ...   ...      ...      ...   ...            ...     ...  \n",
       "296    OBI:0001046  None     None     None  None           None    5838  \n",
       "297  ENVO:00000076  None     None     None  None           mine    5841  \n",
       "298    OBI:0001046  None     None     None  None           None    5843  \n",
       "299    OBI:0001046  None     None     None  None           None    5846  \n",
       "300  ENVO:03600021  None     None     None  None  tailings pond    5850  \n",
       "\n",
       "[301 rows x 10 columns]"
      ],
      "text/html": [
       "<div>\n",
       "<style scoped>\n",
       "    .dataframe tbody tr th:only-of-type {\n",
       "        vertical-align: middle;\n",
       "    }\n",
       "\n",
       "    .dataframe tbody tr th {\n",
       "        vertical-align: top;\n",
       "    }\n",
       "\n",
       "    .dataframe thead th {\n",
       "        text-align: right;\n",
       "    }\n",
       "</style>\n",
       "<table border=\"1\" class=\"dataframe\">\n",
       "  <thead>\n",
       "    <tr style=\"text-align: right;\">\n",
       "      <th></th>\n",
       "      <th>stanza</th>\n",
       "      <th>subject</th>\n",
       "      <th>predicate</th>\n",
       "      <th>object</th>\n",
       "      <th>value</th>\n",
       "      <th>datatype</th>\n",
       "      <th>language</th>\n",
       "      <th>graph</th>\n",
       "      <th>object_label</th>\n",
       "      <th>path_id</th>\n",
       "    </tr>\n",
       "  </thead>\n",
       "  <tbody>\n",
       "    <tr>\n",
       "      <th>0</th>\n",
       "      <td>GOLDTERMS:Engineered-Bioreactor-Anaerobic-Soft...</td>\n",
       "      <td>GOLDTERMS:Engineered-Bioreactor-Anaerobic-Soft...</td>\n",
       "      <td>mixs:env_local</td>\n",
       "      <td>OBI:0001046</td>\n",
       "      <td>None</td>\n",
       "      <td>None</td>\n",
       "      <td>None</td>\n",
       "      <td>None</td>\n",
       "      <td>None</td>\n",
       "      <td>NaN</td>\n",
       "    </tr>\n",
       "    <tr>\n",
       "      <th>1</th>\n",
       "      <td>GOLDTERMS:Engineered-Bioreactor-DHS-reactor</td>\n",
       "      <td>GOLDTERMS:Engineered-Bioreactor-DHS-reactor</td>\n",
       "      <td>mixs:env_local</td>\n",
       "      <td>OBI:0001046</td>\n",
       "      <td>None</td>\n",
       "      <td>None</td>\n",
       "      <td>None</td>\n",
       "      <td>None</td>\n",
       "      <td>None</td>\n",
       "      <td>NaN</td>\n",
       "    </tr>\n",
       "    <tr>\n",
       "      <th>2</th>\n",
       "      <td>GOLDTERMS:Engineered-Bioreactor-Membrane-biore...</td>\n",
       "      <td>GOLDTERMS:Engineered-Bioreactor-Membrane-biore...</td>\n",
       "      <td>mixs:env_local</td>\n",
       "      <td>OBI:0001046</td>\n",
       "      <td>None</td>\n",
       "      <td>None</td>\n",
       "      <td>None</td>\n",
       "      <td>None</td>\n",
       "      <td>None</td>\n",
       "      <td>NaN</td>\n",
       "    </tr>\n",
       "    <tr>\n",
       "      <th>3</th>\n",
       "      <td>GOLDTERMS:Engineered-Bioreactor-Membrane-biore...</td>\n",
       "      <td>GOLDTERMS:Engineered-Bioreactor-Membrane-biore...</td>\n",
       "      <td>mixs:env_local</td>\n",
       "      <td>OBI:0001046</td>\n",
       "      <td>None</td>\n",
       "      <td>None</td>\n",
       "      <td>None</td>\n",
       "      <td>None</td>\n",
       "      <td>None</td>\n",
       "      <td>NaN</td>\n",
       "    </tr>\n",
       "    <tr>\n",
       "      <th>4</th>\n",
       "      <td>GOLDTERMS:Engineered-Bioreactor-Passive-biorea...</td>\n",
       "      <td>GOLDTERMS:Engineered-Bioreactor-Passive-biorea...</td>\n",
       "      <td>mixs:env_local</td>\n",
       "      <td>OBI:0001046</td>\n",
       "      <td>None</td>\n",
       "      <td>None</td>\n",
       "      <td>None</td>\n",
       "      <td>None</td>\n",
       "      <td>None</td>\n",
       "      <td>NaN</td>\n",
       "    </tr>\n",
       "    <tr>\n",
       "      <th>...</th>\n",
       "      <td>...</td>\n",
       "      <td>...</td>\n",
       "      <td>...</td>\n",
       "      <td>...</td>\n",
       "      <td>...</td>\n",
       "      <td>...</td>\n",
       "      <td>...</td>\n",
       "      <td>...</td>\n",
       "      <td>...</td>\n",
       "      <td>...</td>\n",
       "    </tr>\n",
       "    <tr>\n",
       "      <th>296</th>\n",
       "      <td>GOLDTERMS:5838</td>\n",
       "      <td>GOLDTERMS:5838</td>\n",
       "      <td>mixs:env_local</td>\n",
       "      <td>OBI:0001046</td>\n",
       "      <td>None</td>\n",
       "      <td>None</td>\n",
       "      <td>None</td>\n",
       "      <td>None</td>\n",
       "      <td>None</td>\n",
       "      <td>5838</td>\n",
       "    </tr>\n",
       "    <tr>\n",
       "      <th>297</th>\n",
       "      <td>GOLDTERMS:5841</td>\n",
       "      <td>GOLDTERMS:5841</td>\n",
       "      <td>mixs:env_local</td>\n",
       "      <td>ENVO:00000076</td>\n",
       "      <td>None</td>\n",
       "      <td>None</td>\n",
       "      <td>None</td>\n",
       "      <td>None</td>\n",
       "      <td>mine</td>\n",
       "      <td>5841</td>\n",
       "    </tr>\n",
       "    <tr>\n",
       "      <th>298</th>\n",
       "      <td>GOLDTERMS:5843</td>\n",
       "      <td>GOLDTERMS:5843</td>\n",
       "      <td>mixs:env_local</td>\n",
       "      <td>OBI:0001046</td>\n",
       "      <td>None</td>\n",
       "      <td>None</td>\n",
       "      <td>None</td>\n",
       "      <td>None</td>\n",
       "      <td>None</td>\n",
       "      <td>5843</td>\n",
       "    </tr>\n",
       "    <tr>\n",
       "      <th>299</th>\n",
       "      <td>GOLDTERMS:5846</td>\n",
       "      <td>GOLDTERMS:5846</td>\n",
       "      <td>mixs:env_local</td>\n",
       "      <td>OBI:0001046</td>\n",
       "      <td>None</td>\n",
       "      <td>None</td>\n",
       "      <td>None</td>\n",
       "      <td>None</td>\n",
       "      <td>None</td>\n",
       "      <td>5846</td>\n",
       "    </tr>\n",
       "    <tr>\n",
       "      <th>300</th>\n",
       "      <td>GOLDTERMS:5850</td>\n",
       "      <td>GOLDTERMS:5850</td>\n",
       "      <td>mixs:env_local</td>\n",
       "      <td>ENVO:03600021</td>\n",
       "      <td>None</td>\n",
       "      <td>None</td>\n",
       "      <td>None</td>\n",
       "      <td>None</td>\n",
       "      <td>tailings pond</td>\n",
       "      <td>5850</td>\n",
       "    </tr>\n",
       "  </tbody>\n",
       "</table>\n",
       "<p>301 rows × 10 columns</p>\n",
       "</div>"
      ]
     },
     "execution_count": 96,
     "metadata": {},
     "output_type": "execute_result"
    }
   ],
   "execution_count": 96
  },
  {
   "cell_type": "code",
   "id": "beb2e0a9c669a366",
   "metadata": {
    "ExecuteTime": {
     "end_time": "2024-12-04T15:45:22.984200Z",
     "start_time": "2024-12-04T15:45:22.977143Z"
    }
   },
   "source": [
    "# Fill NaN values in 'BIOSAMPLE ECOSYSTEM PATH ID' with 0 and convert to int\n",
    "gold_env_filtered_biosamples_frame['BIOSAMPLE ECOSYSTEM PATH ID'] = gold_env_filtered_biosamples_frame[\n",
    "    'BIOSAMPLE ECOSYSTEM PATH ID'].fillna(0).astype(int)\n",
    "\n",
    "# Drop rows with NaN in 'path_id' in goldterms_context_frame\n",
    "goldterms_context_frame = goldterms_context_frame.dropna(subset=['path_id'])\n",
    "\n",
    "# Convert 'path_id' to int\n",
    "goldterms_context_frame['path_id'] = goldterms_context_frame['path_id'].astype(int)\n",
    "\n",
    "# Perform the left merge\n",
    "gold_env_filtered_biosamples_with_inferred = gold_env_filtered_biosamples_frame.merge(\n",
    "    goldterms_context_frame,\n",
    "    left_on='BIOSAMPLE ECOSYSTEM PATH ID',\n",
    "    right_on='path_id',\n",
    "    how='left'\n",
    ")\n"
   ],
   "outputs": [],
   "execution_count": 97
  },
  {
   "cell_type": "code",
   "id": "bac06360f067d3c0",
   "metadata": {
    "ExecuteTime": {
     "end_time": "2024-12-04T15:45:23.050306Z",
     "start_time": "2024-12-04T15:45:23.039351Z"
    }
   },
   "source": [
    "gold_env_filtered_biosamples_with_inferred"
   ],
   "outputs": [
    {
     "data": {
      "text/plain": [
       "Empty DataFrame\n",
       "Columns: [BIOSAMPLE GOLD ID, BIOSAMPLE NAME, BIOSAMPLE NCBI TAX ID, BIOSAMPLE NCBI TAX NAME, BIOSAMPLE SAMPLE COLLECTION SITE, BIOSAMPLE SAMPLE COLLECTION DATE, BIOSAMPLE GEOGRAPHIC LOCATION, BIOSAMPLE LATITUDE, BIOSAMPLE LONGITUDE, BIOSAMPLE ECOSYSTEM PATH ID, BIOSAMPLE ECOSYSTEM, BIOSAMPLE ECOSYSTEM CATEGORY, BIOSAMPLE ECOSYSTEM TYPE, BIOSAMPLE ECOSYSTEM SUBTYPE, BIOSAMPLE SPECIFIC ECOSYSTEM, stanza, subject, predicate, object, value, datatype, language, graph, object_label, path_id]\n",
       "Index: []\n",
       "\n",
       "[0 rows x 25 columns]"
      ],
      "text/html": [
       "<div>\n",
       "<style scoped>\n",
       "    .dataframe tbody tr th:only-of-type {\n",
       "        vertical-align: middle;\n",
       "    }\n",
       "\n",
       "    .dataframe tbody tr th {\n",
       "        vertical-align: top;\n",
       "    }\n",
       "\n",
       "    .dataframe thead th {\n",
       "        text-align: right;\n",
       "    }\n",
       "</style>\n",
       "<table border=\"1\" class=\"dataframe\">\n",
       "  <thead>\n",
       "    <tr style=\"text-align: right;\">\n",
       "      <th></th>\n",
       "      <th>BIOSAMPLE GOLD ID</th>\n",
       "      <th>BIOSAMPLE NAME</th>\n",
       "      <th>BIOSAMPLE NCBI TAX ID</th>\n",
       "      <th>BIOSAMPLE NCBI TAX NAME</th>\n",
       "      <th>BIOSAMPLE SAMPLE COLLECTION SITE</th>\n",
       "      <th>BIOSAMPLE SAMPLE COLLECTION DATE</th>\n",
       "      <th>BIOSAMPLE GEOGRAPHIC LOCATION</th>\n",
       "      <th>BIOSAMPLE LATITUDE</th>\n",
       "      <th>BIOSAMPLE LONGITUDE</th>\n",
       "      <th>BIOSAMPLE ECOSYSTEM PATH ID</th>\n",
       "      <th>...</th>\n",
       "      <th>stanza</th>\n",
       "      <th>subject</th>\n",
       "      <th>predicate</th>\n",
       "      <th>object</th>\n",
       "      <th>value</th>\n",
       "      <th>datatype</th>\n",
       "      <th>language</th>\n",
       "      <th>graph</th>\n",
       "      <th>object_label</th>\n",
       "      <th>path_id</th>\n",
       "    </tr>\n",
       "  </thead>\n",
       "  <tbody>\n",
       "  </tbody>\n",
       "</table>\n",
       "<p>0 rows × 25 columns</p>\n",
       "</div>"
      ]
     },
     "execution_count": 98,
     "metadata": {},
     "output_type": "execute_result"
    }
   ],
   "execution_count": 98
  },
  {
   "cell_type": "markdown",
   "id": "8541580a525201e3",
   "metadata": {},
   "source": [
    "----"
   ]
  },
  {
   "cell_type": "code",
   "id": "20a9dcc52b995762",
   "metadata": {
    "ExecuteTime": {
     "end_time": "2024-12-04T15:45:23.100807Z",
     "start_time": "2024-12-04T15:45:23.098086Z"
    }
   },
   "source": [
    "include_in_rows = set()"
   ],
   "outputs": [],
   "execution_count": 99
  },
  {
   "cell_type": "code",
   "id": "2c3e280c36ed9b91",
   "metadata": {
    "ExecuteTime": {
     "end_time": "2024-12-04T15:45:23.156345Z",
     "start_time": "2024-12-04T15:45:23.152850Z"
    }
   },
   "source": [
    "include_in_rows.update(anchor_descendants_frame['curie'])"
   ],
   "outputs": [],
   "execution_count": 100
  },
  {
   "cell_type": "code",
   "id": "422c62627b450632",
   "metadata": {
    "ExecuteTime": {
     "end_time": "2024-12-04T15:45:23.360168Z",
     "start_time": "2024-12-04T15:45:23.356562Z"
    }
   },
   "source": [
    "include_in_rows.update([i['curie'] for i in pv_validation_results['valids']])"
   ],
   "outputs": [],
   "execution_count": 101
  },
  {
   "cell_type": "code",
   "id": "e279a2edf1fa4935",
   "metadata": {
    "ExecuteTime": {
     "end_time": "2024-12-04T15:45:33.862579Z",
     "start_time": "2024-12-04T15:45:33.859344Z"
    }
   },
   "source": "include_in_rows.update(nmdc_biosample_contexts_frame[nmdc_context_selector])",
   "outputs": [],
   "execution_count": 102
  },
  {
   "cell_type": "code",
   "id": "7e4be4b7ae64e990",
   "metadata": {
    "ExecuteTime": {
     "end_time": "2024-12-04T15:45:33.882969Z",
     "start_time": "2024-12-04T15:45:33.871339Z"
    }
   },
   "source": [
    "include_in_rows.update(ncbi_frame['extracted_curie'])"
   ],
   "outputs": [],
   "execution_count": 103
  },
  {
   "cell_type": "code",
   "id": "2cd900624cfce1ec",
   "metadata": {
    "ExecuteTime": {
     "end_time": "2024-12-04T15:45:39.622972Z",
     "start_time": "2024-12-04T15:45:39.619039Z"
    }
   },
   "source": [
    "include_in_rows.update(ncbi_frame['longest_annotation_curie'])"
   ],
   "outputs": [],
   "execution_count": 104
  },
  {
   "cell_type": "code",
   "id": "9790ec48f41afe79",
   "metadata": {
    "ExecuteTime": {
     "end_time": "2024-12-04T15:45:46.092421Z",
     "start_time": "2024-12-04T15:45:46.089398Z"
    }
   },
   "source": [
    "include_in_rows.update(gold_env_filtered_biosamples_with_inferred['object'])"
   ],
   "outputs": [],
   "execution_count": 105
  },
  {
   "cell_type": "code",
   "id": "f7a6fb9413f45298",
   "metadata": {
    "ExecuteTime": {
     "end_time": "2024-12-04T15:45:51.602403Z",
     "start_time": "2024-12-04T15:45:51.599316Z"
    }
   },
   "source": [
    "rows_lod = []"
   ],
   "outputs": [],
   "execution_count": 106
  },
  {
   "metadata": {
    "ExecuteTime": {
     "end_time": "2024-12-04T15:45:57.322040Z",
     "start_time": "2024-12-04T15:45:57.107929Z"
    }
   },
   "cell_type": "code",
   "source": [
    "# TODO MOVE THESE UP, because the expressions are already being used above\n",
    "\n",
    "anchor_curies = list(anchor_descendants_frame['curie'])\n",
    "legacy_pv_curies = [i['curie'] for i in pv_validation_results['valids']]\n",
    "biome_curies = list(envo_adapter.descendants('ENVO:00000428', predicates=[IS_A])) # \n",
    "terrestrial_biome_curies = list(envo_adapter.descendants('ENVO:00000446', predicates=[IS_A]))\n",
    "aquatic_biome_curies = list(envo_adapter.descendants('ENVO:00002030', predicates=[IS_A]))\n",
    "abp_curies = list(envo_adapter.descendants('ENVO:01000813', predicates=[IS_A]))\n",
    "env_sys_curies = list(envo_adapter.descendants('ENVO:01000254', predicates=[IS_A]))\n",
    "env_mat_curies = list(envo_adapter.descendants('ENVO:00010483', predicates=[IS_A]))\n",
    "obsoletes_curies = list(envo_adapter.obsoletes())"
   ],
   "id": "beb69545a9255099",
   "outputs": [],
   "execution_count": 107
  },
  {
   "cell_type": "code",
   "id": "32f278db05c57616",
   "metadata": {
    "ExecuteTime": {
     "end_time": "2024-12-04T15:46:03.769138Z",
     "start_time": "2024-12-04T15:46:02.961398Z"
    }
   },
   "source": [
    "for curie in include_in_rows:\n",
    "    if curie is None:\n",
    "        continue\n",
    "        \n",
    "    row = {\n",
    "        'curie': curie,\n",
    "        'label': envo_adapter.label(curie),\n",
    "        'envo_native': False,\n",
    "        'obsolete': False,\n",
    "        comparison_enum_column_name: False,\n",
    "        'abp': False,\n",
    "        'env_sys': False,\n",
    "        'biome': False,\n",
    "        'terrestrial_biome': False,\n",
    "        'aquatic_biome': False,\n",
    "        'env_mat': False,\n",
    "    }\n",
    "        \n",
    "    if curie in biome_curies:\n",
    "        row['biome'] = True\n",
    "    if curie in terrestrial_biome_curies:\n",
    "        row['terrestrial_biome'] = True\n",
    "    if curie in aquatic_biome_curies:\n",
    "        row['aquatic_biome'] = True\n",
    "    if curie in abp_curies:\n",
    "        row['abp'] = True\n",
    "    if curie in env_sys_curies:\n",
    "        row['env_sys'] = True\n",
    "    if curie in env_mat_curies:\n",
    "        row['env_mat'] = True\n",
    "    if curie in legacy_pv_curies:\n",
    "        row[comparison_enum_column_name] = True\n",
    "    if curie in obsoletes_curies:\n",
    "        row['obsolete'] = True\n",
    "        \n",
    "    try:\n",
    "        prefix, local_id = curie.split(':')\n",
    "        if prefix and prefix == 'ENVO' and row['label'] is not None:\n",
    "            row['envo_native'] = True\n",
    "    except Exception as e:\n",
    "        # Print the exception message\n",
    "        print(f\"An error occurred: {e} trying to split {curie}\")\n",
    "\n",
    "    rows_lod.append(row)\n"
   ],
   "outputs": [],
   "execution_count": 108
  },
  {
   "cell_type": "code",
   "id": "26bb62d21192288f",
   "metadata": {
    "ExecuteTime": {
     "end_time": "2024-12-04T15:46:10.009326Z",
     "start_time": "2024-12-04T15:46:10.002866Z"
    }
   },
   "source": [
    "rows_frame = pd.DataFrame(rows_lod)"
   ],
   "outputs": [],
   "execution_count": 109
  },
  {
   "cell_type": "code",
   "id": "4db3ebadb8a07a50",
   "metadata": {
    "ExecuteTime": {
     "end_time": "2024-12-04T15:46:15.822690Z",
     "start_time": "2024-12-04T15:46:15.808701Z"
    }
   },
   "source": [
    "rows_frame"
   ],
   "outputs": [
    {
     "data": {
      "text/plain": [
       "              curie                               label  envo_native  \\\n",
       "0     ENVO:01000492                 dung building floor         True   \n",
       "1     ENVO:00001997                  acid mine drainage         True   \n",
       "2     ENVO:01000348                         maize field         True   \n",
       "3     ENVO:01000201  subtropical broadleaf forest biome         True   \n",
       "4     ENVO:01001021                          humic lake         True   \n",
       "...             ...                                 ...          ...   \n",
       "1894  ENVO:00002043          wastewater treatment plant         True   \n",
       "1895  ENVO:00003964                   tobacco warehouse         True   \n",
       "1896  ENVO:01001518               drifting sea ice mass         True   \n",
       "1897  ENVO:03501188                ophthalmology clinic         True   \n",
       "1898  ENVO:00005790                            red soil         True   \n",
       "\n",
       "      obsolete  legacy_pv   abp  env_sys  biome  terrestrial_biome  \\\n",
       "0        False      False  True    False  False              False   \n",
       "1        False      False  True    False  False              False   \n",
       "2        False      False  True    False  False              False   \n",
       "3        False      False  True     True   True               True   \n",
       "4        False      False  True    False  False              False   \n",
       "...        ...        ...   ...      ...    ...                ...   \n",
       "1894     False      False  True    False  False              False   \n",
       "1895     False      False  True    False  False              False   \n",
       "1896     False      False  True    False  False              False   \n",
       "1897     False      False  True    False  False              False   \n",
       "1898     False      False  True    False  False              False   \n",
       "\n",
       "      aquatic_biome  env_mat  \n",
       "0             False    False  \n",
       "1             False    False  \n",
       "2             False    False  \n",
       "3             False    False  \n",
       "4             False    False  \n",
       "...             ...      ...  \n",
       "1894          False    False  \n",
       "1895          False    False  \n",
       "1896          False    False  \n",
       "1897          False    False  \n",
       "1898          False     True  \n",
       "\n",
       "[1899 rows x 11 columns]"
      ],
      "text/html": [
       "<div>\n",
       "<style scoped>\n",
       "    .dataframe tbody tr th:only-of-type {\n",
       "        vertical-align: middle;\n",
       "    }\n",
       "\n",
       "    .dataframe tbody tr th {\n",
       "        vertical-align: top;\n",
       "    }\n",
       "\n",
       "    .dataframe thead th {\n",
       "        text-align: right;\n",
       "    }\n",
       "</style>\n",
       "<table border=\"1\" class=\"dataframe\">\n",
       "  <thead>\n",
       "    <tr style=\"text-align: right;\">\n",
       "      <th></th>\n",
       "      <th>curie</th>\n",
       "      <th>label</th>\n",
       "      <th>envo_native</th>\n",
       "      <th>obsolete</th>\n",
       "      <th>legacy_pv</th>\n",
       "      <th>abp</th>\n",
       "      <th>env_sys</th>\n",
       "      <th>biome</th>\n",
       "      <th>terrestrial_biome</th>\n",
       "      <th>aquatic_biome</th>\n",
       "      <th>env_mat</th>\n",
       "    </tr>\n",
       "  </thead>\n",
       "  <tbody>\n",
       "    <tr>\n",
       "      <th>0</th>\n",
       "      <td>ENVO:01000492</td>\n",
       "      <td>dung building floor</td>\n",
       "      <td>True</td>\n",
       "      <td>False</td>\n",
       "      <td>False</td>\n",
       "      <td>True</td>\n",
       "      <td>False</td>\n",
       "      <td>False</td>\n",
       "      <td>False</td>\n",
       "      <td>False</td>\n",
       "      <td>False</td>\n",
       "    </tr>\n",
       "    <tr>\n",
       "      <th>1</th>\n",
       "      <td>ENVO:00001997</td>\n",
       "      <td>acid mine drainage</td>\n",
       "      <td>True</td>\n",
       "      <td>False</td>\n",
       "      <td>False</td>\n",
       "      <td>True</td>\n",
       "      <td>False</td>\n",
       "      <td>False</td>\n",
       "      <td>False</td>\n",
       "      <td>False</td>\n",
       "      <td>False</td>\n",
       "    </tr>\n",
       "    <tr>\n",
       "      <th>2</th>\n",
       "      <td>ENVO:01000348</td>\n",
       "      <td>maize field</td>\n",
       "      <td>True</td>\n",
       "      <td>False</td>\n",
       "      <td>False</td>\n",
       "      <td>True</td>\n",
       "      <td>False</td>\n",
       "      <td>False</td>\n",
       "      <td>False</td>\n",
       "      <td>False</td>\n",
       "      <td>False</td>\n",
       "    </tr>\n",
       "    <tr>\n",
       "      <th>3</th>\n",
       "      <td>ENVO:01000201</td>\n",
       "      <td>subtropical broadleaf forest biome</td>\n",
       "      <td>True</td>\n",
       "      <td>False</td>\n",
       "      <td>False</td>\n",
       "      <td>True</td>\n",
       "      <td>True</td>\n",
       "      <td>True</td>\n",
       "      <td>True</td>\n",
       "      <td>False</td>\n",
       "      <td>False</td>\n",
       "    </tr>\n",
       "    <tr>\n",
       "      <th>4</th>\n",
       "      <td>ENVO:01001021</td>\n",
       "      <td>humic lake</td>\n",
       "      <td>True</td>\n",
       "      <td>False</td>\n",
       "      <td>False</td>\n",
       "      <td>True</td>\n",
       "      <td>False</td>\n",
       "      <td>False</td>\n",
       "      <td>False</td>\n",
       "      <td>False</td>\n",
       "      <td>False</td>\n",
       "    </tr>\n",
       "    <tr>\n",
       "      <th>...</th>\n",
       "      <td>...</td>\n",
       "      <td>...</td>\n",
       "      <td>...</td>\n",
       "      <td>...</td>\n",
       "      <td>...</td>\n",
       "      <td>...</td>\n",
       "      <td>...</td>\n",
       "      <td>...</td>\n",
       "      <td>...</td>\n",
       "      <td>...</td>\n",
       "      <td>...</td>\n",
       "    </tr>\n",
       "    <tr>\n",
       "      <th>1894</th>\n",
       "      <td>ENVO:00002043</td>\n",
       "      <td>wastewater treatment plant</td>\n",
       "      <td>True</td>\n",
       "      <td>False</td>\n",
       "      <td>False</td>\n",
       "      <td>True</td>\n",
       "      <td>False</td>\n",
       "      <td>False</td>\n",
       "      <td>False</td>\n",
       "      <td>False</td>\n",
       "      <td>False</td>\n",
       "    </tr>\n",
       "    <tr>\n",
       "      <th>1895</th>\n",
       "      <td>ENVO:00003964</td>\n",
       "      <td>tobacco warehouse</td>\n",
       "      <td>True</td>\n",
       "      <td>False</td>\n",
       "      <td>False</td>\n",
       "      <td>True</td>\n",
       "      <td>False</td>\n",
       "      <td>False</td>\n",
       "      <td>False</td>\n",
       "      <td>False</td>\n",
       "      <td>False</td>\n",
       "    </tr>\n",
       "    <tr>\n",
       "      <th>1896</th>\n",
       "      <td>ENVO:01001518</td>\n",
       "      <td>drifting sea ice mass</td>\n",
       "      <td>True</td>\n",
       "      <td>False</td>\n",
       "      <td>False</td>\n",
       "      <td>True</td>\n",
       "      <td>False</td>\n",
       "      <td>False</td>\n",
       "      <td>False</td>\n",
       "      <td>False</td>\n",
       "      <td>False</td>\n",
       "    </tr>\n",
       "    <tr>\n",
       "      <th>1897</th>\n",
       "      <td>ENVO:03501188</td>\n",
       "      <td>ophthalmology clinic</td>\n",
       "      <td>True</td>\n",
       "      <td>False</td>\n",
       "      <td>False</td>\n",
       "      <td>True</td>\n",
       "      <td>False</td>\n",
       "      <td>False</td>\n",
       "      <td>False</td>\n",
       "      <td>False</td>\n",
       "      <td>False</td>\n",
       "    </tr>\n",
       "    <tr>\n",
       "      <th>1898</th>\n",
       "      <td>ENVO:00005790</td>\n",
       "      <td>red soil</td>\n",
       "      <td>True</td>\n",
       "      <td>False</td>\n",
       "      <td>False</td>\n",
       "      <td>True</td>\n",
       "      <td>False</td>\n",
       "      <td>False</td>\n",
       "      <td>False</td>\n",
       "      <td>False</td>\n",
       "      <td>True</td>\n",
       "    </tr>\n",
       "  </tbody>\n",
       "</table>\n",
       "<p>1899 rows × 11 columns</p>\n",
       "</div>"
      ]
     },
     "execution_count": 110,
     "metadata": {},
     "output_type": "execute_result"
    }
   ],
   "execution_count": 110
  },
  {
   "cell_type": "code",
   "id": "88ebf6f76c2e0545",
   "metadata": {
    "ExecuteTime": {
     "end_time": "2024-12-04T15:46:21.648781Z",
     "start_time": "2024-12-04T15:46:21.643762Z"
    }
   },
   "source": [
    "nmdc_biosample_scoped_counts = nmdc_biosample_contexts_frame[nmdc_context_selector].value_counts().reset_index()\n",
    "nmdc_biosample_scoped_counts.columns = ['curie', 'nmdc_scoped_count']\n"
   ],
   "outputs": [],
   "execution_count": 111
  },
  {
   "cell_type": "code",
   "id": "85789ece9ec4ddd6",
   "metadata": {
    "ExecuteTime": {
     "end_time": "2024-12-04T15:46:21.714239Z",
     "start_time": "2024-12-04T15:46:21.707466Z"
    }
   },
   "source": [
    "nmdc_biosample_scoped_counts"
   ],
   "outputs": [
    {
     "data": {
      "text/plain": [
       "Empty DataFrame\n",
       "Columns: [curie, nmdc_scoped_count]\n",
       "Index: []"
      ],
      "text/html": [
       "<div>\n",
       "<style scoped>\n",
       "    .dataframe tbody tr th:only-of-type {\n",
       "        vertical-align: middle;\n",
       "    }\n",
       "\n",
       "    .dataframe tbody tr th {\n",
       "        vertical-align: top;\n",
       "    }\n",
       "\n",
       "    .dataframe thead th {\n",
       "        text-align: right;\n",
       "    }\n",
       "</style>\n",
       "<table border=\"1\" class=\"dataframe\">\n",
       "  <thead>\n",
       "    <tr style=\"text-align: right;\">\n",
       "      <th></th>\n",
       "      <th>curie</th>\n",
       "      <th>nmdc_scoped_count</th>\n",
       "    </tr>\n",
       "  </thead>\n",
       "  <tbody>\n",
       "  </tbody>\n",
       "</table>\n",
       "</div>"
      ]
     },
     "execution_count": 112,
     "metadata": {},
     "output_type": "execute_result"
    }
   ],
   "execution_count": 112
  },
  {
   "cell_type": "code",
   "id": "329203aecb25f598",
   "metadata": {
    "ExecuteTime": {
     "end_time": "2024-12-04T15:46:21.787112Z",
     "start_time": "2024-12-04T15:46:21.781317Z"
    }
   },
   "source": [
    "# Perform the left merge\n",
    "rows_frame = rows_frame.merge(\n",
    "    nmdc_biosample_scoped_counts,\n",
    "    left_on='curie',\n",
    "    right_on='curie',\n",
    "    how='left'\n",
    ")"
   ],
   "outputs": [],
   "execution_count": 113
  },
  {
   "cell_type": "code",
   "id": "cff020dba8153cb2",
   "metadata": {
    "ExecuteTime": {
     "end_time": "2024-12-04T15:46:21.932816Z",
     "start_time": "2024-12-04T15:46:21.921434Z"
    }
   },
   "source": [
    "gold_env_filtered_biosamples_with_inferred"
   ],
   "outputs": [
    {
     "data": {
      "text/plain": [
       "Empty DataFrame\n",
       "Columns: [BIOSAMPLE GOLD ID, BIOSAMPLE NAME, BIOSAMPLE NCBI TAX ID, BIOSAMPLE NCBI TAX NAME, BIOSAMPLE SAMPLE COLLECTION SITE, BIOSAMPLE SAMPLE COLLECTION DATE, BIOSAMPLE GEOGRAPHIC LOCATION, BIOSAMPLE LATITUDE, BIOSAMPLE LONGITUDE, BIOSAMPLE ECOSYSTEM PATH ID, BIOSAMPLE ECOSYSTEM, BIOSAMPLE ECOSYSTEM CATEGORY, BIOSAMPLE ECOSYSTEM TYPE, BIOSAMPLE ECOSYSTEM SUBTYPE, BIOSAMPLE SPECIFIC ECOSYSTEM, stanza, subject, predicate, object, value, datatype, language, graph, object_label, path_id]\n",
       "Index: []\n",
       "\n",
       "[0 rows x 25 columns]"
      ],
      "text/html": [
       "<div>\n",
       "<style scoped>\n",
       "    .dataframe tbody tr th:only-of-type {\n",
       "        vertical-align: middle;\n",
       "    }\n",
       "\n",
       "    .dataframe tbody tr th {\n",
       "        vertical-align: top;\n",
       "    }\n",
       "\n",
       "    .dataframe thead th {\n",
       "        text-align: right;\n",
       "    }\n",
       "</style>\n",
       "<table border=\"1\" class=\"dataframe\">\n",
       "  <thead>\n",
       "    <tr style=\"text-align: right;\">\n",
       "      <th></th>\n",
       "      <th>BIOSAMPLE GOLD ID</th>\n",
       "      <th>BIOSAMPLE NAME</th>\n",
       "      <th>BIOSAMPLE NCBI TAX ID</th>\n",
       "      <th>BIOSAMPLE NCBI TAX NAME</th>\n",
       "      <th>BIOSAMPLE SAMPLE COLLECTION SITE</th>\n",
       "      <th>BIOSAMPLE SAMPLE COLLECTION DATE</th>\n",
       "      <th>BIOSAMPLE GEOGRAPHIC LOCATION</th>\n",
       "      <th>BIOSAMPLE LATITUDE</th>\n",
       "      <th>BIOSAMPLE LONGITUDE</th>\n",
       "      <th>BIOSAMPLE ECOSYSTEM PATH ID</th>\n",
       "      <th>...</th>\n",
       "      <th>stanza</th>\n",
       "      <th>subject</th>\n",
       "      <th>predicate</th>\n",
       "      <th>object</th>\n",
       "      <th>value</th>\n",
       "      <th>datatype</th>\n",
       "      <th>language</th>\n",
       "      <th>graph</th>\n",
       "      <th>object_label</th>\n",
       "      <th>path_id</th>\n",
       "    </tr>\n",
       "  </thead>\n",
       "  <tbody>\n",
       "  </tbody>\n",
       "</table>\n",
       "<p>0 rows × 25 columns</p>\n",
       "</div>"
      ]
     },
     "execution_count": 114,
     "metadata": {},
     "output_type": "execute_result"
    }
   ],
   "execution_count": 114
  },
  {
   "cell_type": "code",
   "id": "332592b73d143dc0",
   "metadata": {
    "ExecuteTime": {
     "end_time": "2024-12-04T15:46:22.023214Z",
     "start_time": "2024-12-04T15:46:22.018320Z"
    }
   },
   "source": [
    "gold_biosample_scoped_counts = gold_env_filtered_biosamples_with_inferred['object'].value_counts().reset_index()\n",
    "gold_biosample_scoped_counts.columns = ['curie', 'gold_scoped_count']"
   ],
   "outputs": [],
   "execution_count": 115
  },
  {
   "cell_type": "code",
   "id": "57d16757b67e19a5",
   "metadata": {
    "ExecuteTime": {
     "end_time": "2024-12-04T15:46:22.219838Z",
     "start_time": "2024-12-04T15:46:22.213778Z"
    }
   },
   "source": [
    "gold_biosample_scoped_counts"
   ],
   "outputs": [
    {
     "data": {
      "text/plain": [
       "Empty DataFrame\n",
       "Columns: [curie, gold_scoped_count]\n",
       "Index: []"
      ],
      "text/html": [
       "<div>\n",
       "<style scoped>\n",
       "    .dataframe tbody tr th:only-of-type {\n",
       "        vertical-align: middle;\n",
       "    }\n",
       "\n",
       "    .dataframe tbody tr th {\n",
       "        vertical-align: top;\n",
       "    }\n",
       "\n",
       "    .dataframe thead th {\n",
       "        text-align: right;\n",
       "    }\n",
       "</style>\n",
       "<table border=\"1\" class=\"dataframe\">\n",
       "  <thead>\n",
       "    <tr style=\"text-align: right;\">\n",
       "      <th></th>\n",
       "      <th>curie</th>\n",
       "      <th>gold_scoped_count</th>\n",
       "    </tr>\n",
       "  </thead>\n",
       "  <tbody>\n",
       "  </tbody>\n",
       "</table>\n",
       "</div>"
      ]
     },
     "execution_count": 116,
     "metadata": {},
     "output_type": "execute_result"
    }
   ],
   "execution_count": 116
  },
  {
   "cell_type": "code",
   "id": "65ab8871a20a93d2",
   "metadata": {
    "ExecuteTime": {
     "end_time": "2024-12-04T15:46:22.307333Z",
     "start_time": "2024-12-04T15:46:22.301339Z"
    }
   },
   "source": [
    "# Perform the left merge\n",
    "rows_frame = rows_frame.merge(\n",
    "    gold_biosample_scoped_counts,\n",
    "    left_on='curie',\n",
    "    right_on='curie',\n",
    "    how='left'\n",
    ")"
   ],
   "outputs": [],
   "execution_count": 117
  },
  {
   "cell_type": "code",
   "id": "8346fb59af8e61c6",
   "metadata": {
    "ExecuteTime": {
     "end_time": "2024-12-04T15:46:22.519007Z",
     "start_time": "2024-12-04T15:46:22.502427Z"
    }
   },
   "source": [
    "rows_frame"
   ],
   "outputs": [
    {
     "data": {
      "text/plain": [
       "              curie                               label  envo_native  \\\n",
       "0     ENVO:01000492                 dung building floor         True   \n",
       "1     ENVO:00001997                  acid mine drainage         True   \n",
       "2     ENVO:01000348                         maize field         True   \n",
       "3     ENVO:01000201  subtropical broadleaf forest biome         True   \n",
       "4     ENVO:01001021                          humic lake         True   \n",
       "...             ...                                 ...          ...   \n",
       "1894  ENVO:00002043          wastewater treatment plant         True   \n",
       "1895  ENVO:00003964                   tobacco warehouse         True   \n",
       "1896  ENVO:01001518               drifting sea ice mass         True   \n",
       "1897  ENVO:03501188                ophthalmology clinic         True   \n",
       "1898  ENVO:00005790                            red soil         True   \n",
       "\n",
       "      obsolete  legacy_pv   abp  env_sys  biome  terrestrial_biome  \\\n",
       "0        False      False  True    False  False              False   \n",
       "1        False      False  True    False  False              False   \n",
       "2        False      False  True    False  False              False   \n",
       "3        False      False  True     True   True               True   \n",
       "4        False      False  True    False  False              False   \n",
       "...        ...        ...   ...      ...    ...                ...   \n",
       "1894     False      False  True    False  False              False   \n",
       "1895     False      False  True    False  False              False   \n",
       "1896     False      False  True    False  False              False   \n",
       "1897     False      False  True    False  False              False   \n",
       "1898     False      False  True    False  False              False   \n",
       "\n",
       "      aquatic_biome  env_mat  nmdc_scoped_count  gold_scoped_count  \n",
       "0             False    False                NaN                NaN  \n",
       "1             False    False                NaN                NaN  \n",
       "2             False    False                NaN                NaN  \n",
       "3             False    False                NaN                NaN  \n",
       "4             False    False                NaN                NaN  \n",
       "...             ...      ...                ...                ...  \n",
       "1894          False    False                NaN                NaN  \n",
       "1895          False    False                NaN                NaN  \n",
       "1896          False    False                NaN                NaN  \n",
       "1897          False    False                NaN                NaN  \n",
       "1898          False     True                NaN                NaN  \n",
       "\n",
       "[1899 rows x 13 columns]"
      ],
      "text/html": [
       "<div>\n",
       "<style scoped>\n",
       "    .dataframe tbody tr th:only-of-type {\n",
       "        vertical-align: middle;\n",
       "    }\n",
       "\n",
       "    .dataframe tbody tr th {\n",
       "        vertical-align: top;\n",
       "    }\n",
       "\n",
       "    .dataframe thead th {\n",
       "        text-align: right;\n",
       "    }\n",
       "</style>\n",
       "<table border=\"1\" class=\"dataframe\">\n",
       "  <thead>\n",
       "    <tr style=\"text-align: right;\">\n",
       "      <th></th>\n",
       "      <th>curie</th>\n",
       "      <th>label</th>\n",
       "      <th>envo_native</th>\n",
       "      <th>obsolete</th>\n",
       "      <th>legacy_pv</th>\n",
       "      <th>abp</th>\n",
       "      <th>env_sys</th>\n",
       "      <th>biome</th>\n",
       "      <th>terrestrial_biome</th>\n",
       "      <th>aquatic_biome</th>\n",
       "      <th>env_mat</th>\n",
       "      <th>nmdc_scoped_count</th>\n",
       "      <th>gold_scoped_count</th>\n",
       "    </tr>\n",
       "  </thead>\n",
       "  <tbody>\n",
       "    <tr>\n",
       "      <th>0</th>\n",
       "      <td>ENVO:01000492</td>\n",
       "      <td>dung building floor</td>\n",
       "      <td>True</td>\n",
       "      <td>False</td>\n",
       "      <td>False</td>\n",
       "      <td>True</td>\n",
       "      <td>False</td>\n",
       "      <td>False</td>\n",
       "      <td>False</td>\n",
       "      <td>False</td>\n",
       "      <td>False</td>\n",
       "      <td>NaN</td>\n",
       "      <td>NaN</td>\n",
       "    </tr>\n",
       "    <tr>\n",
       "      <th>1</th>\n",
       "      <td>ENVO:00001997</td>\n",
       "      <td>acid mine drainage</td>\n",
       "      <td>True</td>\n",
       "      <td>False</td>\n",
       "      <td>False</td>\n",
       "      <td>True</td>\n",
       "      <td>False</td>\n",
       "      <td>False</td>\n",
       "      <td>False</td>\n",
       "      <td>False</td>\n",
       "      <td>False</td>\n",
       "      <td>NaN</td>\n",
       "      <td>NaN</td>\n",
       "    </tr>\n",
       "    <tr>\n",
       "      <th>2</th>\n",
       "      <td>ENVO:01000348</td>\n",
       "      <td>maize field</td>\n",
       "      <td>True</td>\n",
       "      <td>False</td>\n",
       "      <td>False</td>\n",
       "      <td>True</td>\n",
       "      <td>False</td>\n",
       "      <td>False</td>\n",
       "      <td>False</td>\n",
       "      <td>False</td>\n",
       "      <td>False</td>\n",
       "      <td>NaN</td>\n",
       "      <td>NaN</td>\n",
       "    </tr>\n",
       "    <tr>\n",
       "      <th>3</th>\n",
       "      <td>ENVO:01000201</td>\n",
       "      <td>subtropical broadleaf forest biome</td>\n",
       "      <td>True</td>\n",
       "      <td>False</td>\n",
       "      <td>False</td>\n",
       "      <td>True</td>\n",
       "      <td>True</td>\n",
       "      <td>True</td>\n",
       "      <td>True</td>\n",
       "      <td>False</td>\n",
       "      <td>False</td>\n",
       "      <td>NaN</td>\n",
       "      <td>NaN</td>\n",
       "    </tr>\n",
       "    <tr>\n",
       "      <th>4</th>\n",
       "      <td>ENVO:01001021</td>\n",
       "      <td>humic lake</td>\n",
       "      <td>True</td>\n",
       "      <td>False</td>\n",
       "      <td>False</td>\n",
       "      <td>True</td>\n",
       "      <td>False</td>\n",
       "      <td>False</td>\n",
       "      <td>False</td>\n",
       "      <td>False</td>\n",
       "      <td>False</td>\n",
       "      <td>NaN</td>\n",
       "      <td>NaN</td>\n",
       "    </tr>\n",
       "    <tr>\n",
       "      <th>...</th>\n",
       "      <td>...</td>\n",
       "      <td>...</td>\n",
       "      <td>...</td>\n",
       "      <td>...</td>\n",
       "      <td>...</td>\n",
       "      <td>...</td>\n",
       "      <td>...</td>\n",
       "      <td>...</td>\n",
       "      <td>...</td>\n",
       "      <td>...</td>\n",
       "      <td>...</td>\n",
       "      <td>...</td>\n",
       "      <td>...</td>\n",
       "    </tr>\n",
       "    <tr>\n",
       "      <th>1894</th>\n",
       "      <td>ENVO:00002043</td>\n",
       "      <td>wastewater treatment plant</td>\n",
       "      <td>True</td>\n",
       "      <td>False</td>\n",
       "      <td>False</td>\n",
       "      <td>True</td>\n",
       "      <td>False</td>\n",
       "      <td>False</td>\n",
       "      <td>False</td>\n",
       "      <td>False</td>\n",
       "      <td>False</td>\n",
       "      <td>NaN</td>\n",
       "      <td>NaN</td>\n",
       "    </tr>\n",
       "    <tr>\n",
       "      <th>1895</th>\n",
       "      <td>ENVO:00003964</td>\n",
       "      <td>tobacco warehouse</td>\n",
       "      <td>True</td>\n",
       "      <td>False</td>\n",
       "      <td>False</td>\n",
       "      <td>True</td>\n",
       "      <td>False</td>\n",
       "      <td>False</td>\n",
       "      <td>False</td>\n",
       "      <td>False</td>\n",
       "      <td>False</td>\n",
       "      <td>NaN</td>\n",
       "      <td>NaN</td>\n",
       "    </tr>\n",
       "    <tr>\n",
       "      <th>1896</th>\n",
       "      <td>ENVO:01001518</td>\n",
       "      <td>drifting sea ice mass</td>\n",
       "      <td>True</td>\n",
       "      <td>False</td>\n",
       "      <td>False</td>\n",
       "      <td>True</td>\n",
       "      <td>False</td>\n",
       "      <td>False</td>\n",
       "      <td>False</td>\n",
       "      <td>False</td>\n",
       "      <td>False</td>\n",
       "      <td>NaN</td>\n",
       "      <td>NaN</td>\n",
       "    </tr>\n",
       "    <tr>\n",
       "      <th>1897</th>\n",
       "      <td>ENVO:03501188</td>\n",
       "      <td>ophthalmology clinic</td>\n",
       "      <td>True</td>\n",
       "      <td>False</td>\n",
       "      <td>False</td>\n",
       "      <td>True</td>\n",
       "      <td>False</td>\n",
       "      <td>False</td>\n",
       "      <td>False</td>\n",
       "      <td>False</td>\n",
       "      <td>False</td>\n",
       "      <td>NaN</td>\n",
       "      <td>NaN</td>\n",
       "    </tr>\n",
       "    <tr>\n",
       "      <th>1898</th>\n",
       "      <td>ENVO:00005790</td>\n",
       "      <td>red soil</td>\n",
       "      <td>True</td>\n",
       "      <td>False</td>\n",
       "      <td>False</td>\n",
       "      <td>True</td>\n",
       "      <td>False</td>\n",
       "      <td>False</td>\n",
       "      <td>False</td>\n",
       "      <td>False</td>\n",
       "      <td>True</td>\n",
       "      <td>NaN</td>\n",
       "      <td>NaN</td>\n",
       "    </tr>\n",
       "  </tbody>\n",
       "</table>\n",
       "<p>1899 rows × 13 columns</p>\n",
       "</div>"
      ]
     },
     "execution_count": 118,
     "metadata": {},
     "output_type": "execute_result"
    }
   ],
   "execution_count": 118
  },
  {
   "cell_type": "code",
   "id": "396c3f6005a31874",
   "metadata": {
    "ExecuteTime": {
     "end_time": "2024-12-04T15:46:22.606840Z",
     "start_time": "2024-12-04T15:46:22.603796Z"
    }
   },
   "source": [
    "# 990 rows in https://docs.google.com/spreadsheets/d/12WH3eduBq2qSTy9zVF3n7fyajn6ssLZL/edit?gid=546570706#gid=546570706"
   ],
   "outputs": [],
   "execution_count": 119
  },
  {
   "cell_type": "code",
   "id": "87a64ed7d57d81ee",
   "metadata": {
    "ExecuteTime": {
     "end_time": "2024-12-04T15:46:22.813374Z",
     "start_time": "2024-12-04T15:46:22.810719Z"
    }
   },
   "source": [
    "# gold and ncbi counts are slightly trickier\n",
    "# for gold may want to include presence or mapping in goldterms in addition to biosamples counts\n",
    "# ncbi: we have extracted curies and annotated curies"
   ],
   "outputs": [],
   "execution_count": 120
  },
  {
   "cell_type": "code",
   "id": "951ca41984b81e7d",
   "metadata": {
    "ExecuteTime": {
     "end_time": "2024-12-04T15:46:22.990551Z",
     "start_time": "2024-12-04T15:46:22.968006Z"
    }
   },
   "source": [
    "# todo move this stuff up to immediately after the creation of ncbi_frame ?\n",
    "\n",
    "# todo don't accept extracted curie if no real label?\n",
    "# any kind of string similarity checking for label of annotated curie vs extracted label ?\n",
    "# look for long runs of curies?\n",
    "# can we measure the beneficial impact of any of this? current crux: how to distribute counts\n",
    "\n",
    "ncbi_frame['curie_list'] = ncbi_frame.apply(\n",
    "    lambda my_row: list({my_row['extracted_curie'], my_row['longest_annotation_curie']} - {None}),\n",
    "    axis=1\n",
    ")\n",
    "\n",
    "ncbi_frame['unique_curie_count'] = ncbi_frame['curie_list'].apply(len)"
   ],
   "outputs": [],
   "execution_count": 121
  },
  {
   "cell_type": "code",
   "id": "c7e3c6cfe93d4685",
   "metadata": {
    "ExecuteTime": {
     "end_time": "2024-12-04T15:46:23.047723Z",
     "start_time": "2024-12-04T15:46:23.029084Z"
    }
   },
   "source": [
    "ncbi_frame"
   ],
   "outputs": [
    {
     "data": {
      "text/plain": [
       "      serial_number                                            content  \\\n",
       "0                 1                                             stream   \n",
       "1                 2                                    intertidal zone   \n",
       "2                 3                                              coast   \n",
       "3                 4                                     not applicable   \n",
       "4                 5                                      not collected   \n",
       "...             ...                                                ...   \n",
       "1165           1127     Sublittoral_mangrove_tidal_zone, replicate = 2   \n",
       "1166           1128  acidic hot spring [ENVO:00002120]| spring wate...   \n",
       "1167           1128  acidic hot spring [ENVO:00002120]| spring wate...   \n",
       "1168           1128  acidic hot spring [ENVO:00002120]| spring wate...   \n",
       "1169           1129                           high contaminated site-9   \n",
       "\n",
       "      sample_count                                    content_list  \\\n",
       "0             2140                                          stream   \n",
       "1             1054                                 intertidal zone   \n",
       "2              891                                           coast   \n",
       "3              875                                  not applicable   \n",
       "4              830                                   not collected   \n",
       "...            ...                                             ...   \n",
       "1165             1  Sublittoral_mangrove_tidal_zone, replicate = 2   \n",
       "1166             1               acidic hot spring [ENVO:00002120]   \n",
       "1167             1                    spring water [ENVO:03600065]   \n",
       "1168             1                        sediment [ENVO:00002007]   \n",
       "1169             1                        high contaminated site-9   \n",
       "\n",
       "      content_count  envo_count  \\\n",
       "0                 1           0   \n",
       "1                 1           0   \n",
       "2                 1           0   \n",
       "3                 1           0   \n",
       "4                 1           0   \n",
       "...             ...         ...   \n",
       "1165              1           0   \n",
       "1166              3           1   \n",
       "1167              3           1   \n",
       "1168              3           1   \n",
       "1169              1           0   \n",
       "\n",
       "                                     extracted_label extracted_curie  \\\n",
       "0                                             stream            None   \n",
       "1                                    intertidal zone            None   \n",
       "2                                              coast            None   \n",
       "3                                     not applicable            None   \n",
       "4                                      not collected            None   \n",
       "...                                              ...             ...   \n",
       "1165  Sublittoral_mangrove_tidal_zone, replicate = 2            None   \n",
       "1166                               acidic hot spring   ENVO:00002120   \n",
       "1167                                    spring water   ENVO:03600065   \n",
       "1168                                        sediment   ENVO:00002007   \n",
       "1169                        high contaminated site-9            None   \n",
       "\n",
       "             real_label longest_annotation_curie longest_annotation_label  \\\n",
       "0                  None            ENVO:00000023                   stream   \n",
       "1                  None            ENVO:00000316          intertidal zone   \n",
       "2                  None            ENVO:01000687                    coast   \n",
       "3                  None                     None                     None   \n",
       "4                  None                     None                     None   \n",
       "...                 ...                      ...                      ...   \n",
       "1165               None                     None                     None   \n",
       "1166  acidic hot spring            ENVO:00002120        acidic hot spring   \n",
       "1167       spring water            ENVO:03600065             spring water   \n",
       "1168           sediment            ENVO:00002007                 sediment   \n",
       "1169               None              BFO:0000029                     site   \n",
       "\n",
       "           curie_list  unique_curie_count  \n",
       "0     [ENVO:00000023]                   1  \n",
       "1     [ENVO:00000316]                   1  \n",
       "2     [ENVO:01000687]                   1  \n",
       "3                  []                   0  \n",
       "4                  []                   0  \n",
       "...               ...                 ...  \n",
       "1165               []                   0  \n",
       "1166  [ENVO:00002120]                   1  \n",
       "1167  [ENVO:03600065]                   1  \n",
       "1168  [ENVO:00002007]                   1  \n",
       "1169    [BFO:0000029]                   1  \n",
       "\n",
       "[1170 rows x 13 columns]"
      ],
      "text/html": [
       "<div>\n",
       "<style scoped>\n",
       "    .dataframe tbody tr th:only-of-type {\n",
       "        vertical-align: middle;\n",
       "    }\n",
       "\n",
       "    .dataframe tbody tr th {\n",
       "        vertical-align: top;\n",
       "    }\n",
       "\n",
       "    .dataframe thead th {\n",
       "        text-align: right;\n",
       "    }\n",
       "</style>\n",
       "<table border=\"1\" class=\"dataframe\">\n",
       "  <thead>\n",
       "    <tr style=\"text-align: right;\">\n",
       "      <th></th>\n",
       "      <th>serial_number</th>\n",
       "      <th>content</th>\n",
       "      <th>sample_count</th>\n",
       "      <th>content_list</th>\n",
       "      <th>content_count</th>\n",
       "      <th>envo_count</th>\n",
       "      <th>extracted_label</th>\n",
       "      <th>extracted_curie</th>\n",
       "      <th>real_label</th>\n",
       "      <th>longest_annotation_curie</th>\n",
       "      <th>longest_annotation_label</th>\n",
       "      <th>curie_list</th>\n",
       "      <th>unique_curie_count</th>\n",
       "    </tr>\n",
       "  </thead>\n",
       "  <tbody>\n",
       "    <tr>\n",
       "      <th>0</th>\n",
       "      <td>1</td>\n",
       "      <td>stream</td>\n",
       "      <td>2140</td>\n",
       "      <td>stream</td>\n",
       "      <td>1</td>\n",
       "      <td>0</td>\n",
       "      <td>stream</td>\n",
       "      <td>None</td>\n",
       "      <td>None</td>\n",
       "      <td>ENVO:00000023</td>\n",
       "      <td>stream</td>\n",
       "      <td>[ENVO:00000023]</td>\n",
       "      <td>1</td>\n",
       "    </tr>\n",
       "    <tr>\n",
       "      <th>1</th>\n",
       "      <td>2</td>\n",
       "      <td>intertidal zone</td>\n",
       "      <td>1054</td>\n",
       "      <td>intertidal zone</td>\n",
       "      <td>1</td>\n",
       "      <td>0</td>\n",
       "      <td>intertidal zone</td>\n",
       "      <td>None</td>\n",
       "      <td>None</td>\n",
       "      <td>ENVO:00000316</td>\n",
       "      <td>intertidal zone</td>\n",
       "      <td>[ENVO:00000316]</td>\n",
       "      <td>1</td>\n",
       "    </tr>\n",
       "    <tr>\n",
       "      <th>2</th>\n",
       "      <td>3</td>\n",
       "      <td>coast</td>\n",
       "      <td>891</td>\n",
       "      <td>coast</td>\n",
       "      <td>1</td>\n",
       "      <td>0</td>\n",
       "      <td>coast</td>\n",
       "      <td>None</td>\n",
       "      <td>None</td>\n",
       "      <td>ENVO:01000687</td>\n",
       "      <td>coast</td>\n",
       "      <td>[ENVO:01000687]</td>\n",
       "      <td>1</td>\n",
       "    </tr>\n",
       "    <tr>\n",
       "      <th>3</th>\n",
       "      <td>4</td>\n",
       "      <td>not applicable</td>\n",
       "      <td>875</td>\n",
       "      <td>not applicable</td>\n",
       "      <td>1</td>\n",
       "      <td>0</td>\n",
       "      <td>not applicable</td>\n",
       "      <td>None</td>\n",
       "      <td>None</td>\n",
       "      <td>None</td>\n",
       "      <td>None</td>\n",
       "      <td>[]</td>\n",
       "      <td>0</td>\n",
       "    </tr>\n",
       "    <tr>\n",
       "      <th>4</th>\n",
       "      <td>5</td>\n",
       "      <td>not collected</td>\n",
       "      <td>830</td>\n",
       "      <td>not collected</td>\n",
       "      <td>1</td>\n",
       "      <td>0</td>\n",
       "      <td>not collected</td>\n",
       "      <td>None</td>\n",
       "      <td>None</td>\n",
       "      <td>None</td>\n",
       "      <td>None</td>\n",
       "      <td>[]</td>\n",
       "      <td>0</td>\n",
       "    </tr>\n",
       "    <tr>\n",
       "      <th>...</th>\n",
       "      <td>...</td>\n",
       "      <td>...</td>\n",
       "      <td>...</td>\n",
       "      <td>...</td>\n",
       "      <td>...</td>\n",
       "      <td>...</td>\n",
       "      <td>...</td>\n",
       "      <td>...</td>\n",
       "      <td>...</td>\n",
       "      <td>...</td>\n",
       "      <td>...</td>\n",
       "      <td>...</td>\n",
       "      <td>...</td>\n",
       "    </tr>\n",
       "    <tr>\n",
       "      <th>1165</th>\n",
       "      <td>1127</td>\n",
       "      <td>Sublittoral_mangrove_tidal_zone, replicate = 2</td>\n",
       "      <td>1</td>\n",
       "      <td>Sublittoral_mangrove_tidal_zone, replicate = 2</td>\n",
       "      <td>1</td>\n",
       "      <td>0</td>\n",
       "      <td>Sublittoral_mangrove_tidal_zone, replicate = 2</td>\n",
       "      <td>None</td>\n",
       "      <td>None</td>\n",
       "      <td>None</td>\n",
       "      <td>None</td>\n",
       "      <td>[]</td>\n",
       "      <td>0</td>\n",
       "    </tr>\n",
       "    <tr>\n",
       "      <th>1166</th>\n",
       "      <td>1128</td>\n",
       "      <td>acidic hot spring [ENVO:00002120]| spring wate...</td>\n",
       "      <td>1</td>\n",
       "      <td>acidic hot spring [ENVO:00002120]</td>\n",
       "      <td>3</td>\n",
       "      <td>1</td>\n",
       "      <td>acidic hot spring</td>\n",
       "      <td>ENVO:00002120</td>\n",
       "      <td>acidic hot spring</td>\n",
       "      <td>ENVO:00002120</td>\n",
       "      <td>acidic hot spring</td>\n",
       "      <td>[ENVO:00002120]</td>\n",
       "      <td>1</td>\n",
       "    </tr>\n",
       "    <tr>\n",
       "      <th>1167</th>\n",
       "      <td>1128</td>\n",
       "      <td>acidic hot spring [ENVO:00002120]| spring wate...</td>\n",
       "      <td>1</td>\n",
       "      <td>spring water [ENVO:03600065]</td>\n",
       "      <td>3</td>\n",
       "      <td>1</td>\n",
       "      <td>spring water</td>\n",
       "      <td>ENVO:03600065</td>\n",
       "      <td>spring water</td>\n",
       "      <td>ENVO:03600065</td>\n",
       "      <td>spring water</td>\n",
       "      <td>[ENVO:03600065]</td>\n",
       "      <td>1</td>\n",
       "    </tr>\n",
       "    <tr>\n",
       "      <th>1168</th>\n",
       "      <td>1128</td>\n",
       "      <td>acidic hot spring [ENVO:00002120]| spring wate...</td>\n",
       "      <td>1</td>\n",
       "      <td>sediment [ENVO:00002007]</td>\n",
       "      <td>3</td>\n",
       "      <td>1</td>\n",
       "      <td>sediment</td>\n",
       "      <td>ENVO:00002007</td>\n",
       "      <td>sediment</td>\n",
       "      <td>ENVO:00002007</td>\n",
       "      <td>sediment</td>\n",
       "      <td>[ENVO:00002007]</td>\n",
       "      <td>1</td>\n",
       "    </tr>\n",
       "    <tr>\n",
       "      <th>1169</th>\n",
       "      <td>1129</td>\n",
       "      <td>high contaminated site-9</td>\n",
       "      <td>1</td>\n",
       "      <td>high contaminated site-9</td>\n",
       "      <td>1</td>\n",
       "      <td>0</td>\n",
       "      <td>high contaminated site-9</td>\n",
       "      <td>None</td>\n",
       "      <td>None</td>\n",
       "      <td>BFO:0000029</td>\n",
       "      <td>site</td>\n",
       "      <td>[BFO:0000029]</td>\n",
       "      <td>1</td>\n",
       "    </tr>\n",
       "  </tbody>\n",
       "</table>\n",
       "<p>1170 rows × 13 columns</p>\n",
       "</div>"
      ]
     },
     "execution_count": 122,
     "metadata": {},
     "output_type": "execute_result"
    }
   ],
   "execution_count": 122
  },
  {
   "cell_type": "code",
   "id": "349610c477ebf149",
   "metadata": {
    "ExecuteTime": {
     "end_time": "2024-12-04T15:46:29.833770Z",
     "start_time": "2024-12-04T15:46:29.826972Z"
    }
   },
   "source": [
    "ncbi_frame['unique_curie_count'].value_counts()"
   ],
   "outputs": [
    {
     "data": {
      "text/plain": [
       "unique_curie_count\n",
       "1    937\n",
       "0    212\n",
       "2     21\n",
       "Name: count, dtype: int64"
      ]
     },
     "execution_count": 123,
     "metadata": {},
     "output_type": "execute_result"
    }
   ],
   "execution_count": 123
  },
  {
   "cell_type": "code",
   "id": "e6a8c0273f36e906",
   "metadata": {
    "ExecuteTime": {
     "end_time": "2024-12-04T15:46:29.943265Z",
     "start_time": "2024-12-04T15:46:29.938713Z"
    }
   },
   "source": [
    "double_curie_frame = ncbi_frame[ncbi_frame['unique_curie_count'] > 1]"
   ],
   "outputs": [],
   "execution_count": 124
  },
  {
   "cell_type": "code",
   "id": "334e7c646337a914",
   "metadata": {
    "ExecuteTime": {
     "end_time": "2024-12-04T15:46:30.049581Z",
     "start_time": "2024-12-04T15:46:30.045557Z"
    }
   },
   "source": [
    "double_curie_frame = double_curie_frame[['extracted_curie', 'longest_annotation_curie']]"
   ],
   "outputs": [],
   "execution_count": 125
  },
  {
   "cell_type": "code",
   "id": "874149830df3dd8a",
   "metadata": {
    "ExecuteTime": {
     "end_time": "2024-12-04T15:46:30.136394Z",
     "start_time": "2024-12-04T15:46:30.129004Z"
    }
   },
   "source": [
    "double_curie_frame = double_curie_frame.drop_duplicates()"
   ],
   "outputs": [],
   "execution_count": 126
  },
  {
   "cell_type": "code",
   "id": "cdfc0bda39f3ad6d",
   "metadata": {
    "ExecuteTime": {
     "end_time": "2024-12-04T15:46:30.303832Z",
     "start_time": "2024-12-04T15:46:30.294493Z"
    }
   },
   "source": [
    "double_curie_frame[['extracted_prefix', 'extracted_local_id']] = double_curie_frame['extracted_curie'].str.split(':', expand=True)"
   ],
   "outputs": [],
   "execution_count": 127
  },
  {
   "cell_type": "code",
   "id": "de6fcee63f6677d",
   "metadata": {
    "ExecuteTime": {
     "end_time": "2024-12-04T15:46:30.404300Z",
     "start_time": "2024-12-04T15:46:30.399319Z"
    }
   },
   "source": [
    "double_curie_frame['extracted_local_id_int'] = pd.to_numeric(double_curie_frame['extracted_local_id'], errors='coerce').astype('Int64')"
   ],
   "outputs": [],
   "execution_count": 128
  },
  {
   "cell_type": "code",
   "id": "fae831b04ed985ef",
   "metadata": {
    "ExecuteTime": {
     "end_time": "2024-12-04T15:46:37.705937Z",
     "start_time": "2024-12-04T15:46:37.701854Z"
    }
   },
   "source": [
    "# Ensure extracted_local_id_int is unique and sorted\n",
    "unique_sorted_series = double_curie_frame['extracted_local_id_int'].dropna().drop_duplicates().sort_values()\n"
   ],
   "outputs": [],
   "execution_count": 129
  },
  {
   "cell_type": "code",
   "id": "d244d7b150a3b413",
   "metadata": {
    "ExecuteTime": {
     "end_time": "2024-12-04T15:46:43.581458Z",
     "start_time": "2024-12-04T15:46:43.577116Z"
    }
   },
   "source": [
    "# Find stretches\n",
    "stretches_dict = find_consecutive_stretches_dict(unique_sorted_series)\n",
    "\n",
    "# pprint.pprint(stretches_dict)"
   ],
   "outputs": [],
   "execution_count": 130
  },
  {
   "cell_type": "code",
   "id": "2fda8122842f63c0",
   "metadata": {
    "ExecuteTime": {
     "end_time": "2024-12-04T15:46:49.223227Z",
     "start_time": "2024-12-04T15:46:49.219414Z"
    }
   },
   "source": [
    "# Convert the stretches dictionary into a DataFrame\n",
    "stretches_df = stretches_dict_to_long_dataframe(stretches_dict)"
   ],
   "outputs": [],
   "execution_count": 131
  },
  {
   "cell_type": "code",
   "id": "367abafc0ae13a6d",
   "metadata": {
    "ExecuteTime": {
     "end_time": "2024-12-04T15:46:55.822397Z",
     "start_time": "2024-12-04T15:46:55.815254Z"
    }
   },
   "source": [
    "stretches_df"
   ],
   "outputs": [
    {
     "data": {
      "text/plain": [
       "   stretch_id    value\n",
       "0           1  1001208\n",
       "1           1  1001209\n",
       "2           1  1001210\n",
       "3           1  1001211\n",
       "4           2  1001225\n",
       "5           2  1001226\n",
       "6           2  1001227\n",
       "7           3  1001229\n",
       "8           3  1001230\n",
       "9           3  1001231"
      ],
      "text/html": [
       "<div>\n",
       "<style scoped>\n",
       "    .dataframe tbody tr th:only-of-type {\n",
       "        vertical-align: middle;\n",
       "    }\n",
       "\n",
       "    .dataframe tbody tr th {\n",
       "        vertical-align: top;\n",
       "    }\n",
       "\n",
       "    .dataframe thead th {\n",
       "        text-align: right;\n",
       "    }\n",
       "</style>\n",
       "<table border=\"1\" class=\"dataframe\">\n",
       "  <thead>\n",
       "    <tr style=\"text-align: right;\">\n",
       "      <th></th>\n",
       "      <th>stretch_id</th>\n",
       "      <th>value</th>\n",
       "    </tr>\n",
       "  </thead>\n",
       "  <tbody>\n",
       "    <tr>\n",
       "      <th>0</th>\n",
       "      <td>1</td>\n",
       "      <td>1001208</td>\n",
       "    </tr>\n",
       "    <tr>\n",
       "      <th>1</th>\n",
       "      <td>1</td>\n",
       "      <td>1001209</td>\n",
       "    </tr>\n",
       "    <tr>\n",
       "      <th>2</th>\n",
       "      <td>1</td>\n",
       "      <td>1001210</td>\n",
       "    </tr>\n",
       "    <tr>\n",
       "      <th>3</th>\n",
       "      <td>1</td>\n",
       "      <td>1001211</td>\n",
       "    </tr>\n",
       "    <tr>\n",
       "      <th>4</th>\n",
       "      <td>2</td>\n",
       "      <td>1001225</td>\n",
       "    </tr>\n",
       "    <tr>\n",
       "      <th>5</th>\n",
       "      <td>2</td>\n",
       "      <td>1001226</td>\n",
       "    </tr>\n",
       "    <tr>\n",
       "      <th>6</th>\n",
       "      <td>2</td>\n",
       "      <td>1001227</td>\n",
       "    </tr>\n",
       "    <tr>\n",
       "      <th>7</th>\n",
       "      <td>3</td>\n",
       "      <td>1001229</td>\n",
       "    </tr>\n",
       "    <tr>\n",
       "      <th>8</th>\n",
       "      <td>3</td>\n",
       "      <td>1001230</td>\n",
       "    </tr>\n",
       "    <tr>\n",
       "      <th>9</th>\n",
       "      <td>3</td>\n",
       "      <td>1001231</td>\n",
       "    </tr>\n",
       "  </tbody>\n",
       "</table>\n",
       "</div>"
      ]
     },
     "execution_count": 132,
     "metadata": {},
     "output_type": "execute_result"
    }
   ],
   "execution_count": 132
  },
  {
   "cell_type": "code",
   "id": "8ee27ecc0697a5f5",
   "metadata": {
    "ExecuteTime": {
     "end_time": "2024-12-04T15:47:02.236374Z",
     "start_time": "2024-12-04T15:47:02.232145Z"
    }
   },
   "source": [
    "# Perform the left merge\n",
    "double_curie_frame = double_curie_frame.merge(\n",
    "    stretches_df,\n",
    "    left_on='extracted_local_id_int',\n",
    "    right_on='value',\n",
    "    how='left'\n",
    ")"
   ],
   "outputs": [],
   "execution_count": 133
  },
  {
   "cell_type": "code",
   "id": "59e278981b799f14",
   "metadata": {
    "ExecuteTime": {
     "end_time": "2024-12-04T15:47:02.260877Z",
     "start_time": "2024-12-04T15:47:02.241658Z"
    }
   },
   "source": [
    "stretch_summary_df = summarize_stretch_groups(double_curie_frame)\n"
   ],
   "outputs": [],
   "execution_count": 134
  },
  {
   "cell_type": "code",
   "id": "cee6e3ff1e1ca0d3",
   "metadata": {
    "ExecuteTime": {
     "end_time": "2024-12-04T15:47:02.378312Z",
     "start_time": "2024-12-04T15:47:02.367037Z"
    }
   },
   "source": [
    "stretch_summary_df"
   ],
   "outputs": [
    {
     "data": {
      "text/plain": [
       "   stretch_id most_common_longest_annotation_curie  fraction\n",
       "0         1.0                        ENVO:01001201       1.0\n",
       "1         2.0                        ENVO:01001201       1.0\n",
       "2         3.0                        ENVO:01001201       1.0"
      ],
      "text/html": [
       "<div>\n",
       "<style scoped>\n",
       "    .dataframe tbody tr th:only-of-type {\n",
       "        vertical-align: middle;\n",
       "    }\n",
       "\n",
       "    .dataframe tbody tr th {\n",
       "        vertical-align: top;\n",
       "    }\n",
       "\n",
       "    .dataframe thead th {\n",
       "        text-align: right;\n",
       "    }\n",
       "</style>\n",
       "<table border=\"1\" class=\"dataframe\">\n",
       "  <thead>\n",
       "    <tr style=\"text-align: right;\">\n",
       "      <th></th>\n",
       "      <th>stretch_id</th>\n",
       "      <th>most_common_longest_annotation_curie</th>\n",
       "      <th>fraction</th>\n",
       "    </tr>\n",
       "  </thead>\n",
       "  <tbody>\n",
       "    <tr>\n",
       "      <th>0</th>\n",
       "      <td>1.0</td>\n",
       "      <td>ENVO:01001201</td>\n",
       "      <td>1.0</td>\n",
       "    </tr>\n",
       "    <tr>\n",
       "      <th>1</th>\n",
       "      <td>2.0</td>\n",
       "      <td>ENVO:01001201</td>\n",
       "      <td>1.0</td>\n",
       "    </tr>\n",
       "    <tr>\n",
       "      <th>2</th>\n",
       "      <td>3.0</td>\n",
       "      <td>ENVO:01001201</td>\n",
       "      <td>1.0</td>\n",
       "    </tr>\n",
       "  </tbody>\n",
       "</table>\n",
       "</div>"
      ]
     },
     "execution_count": 135,
     "metadata": {},
     "output_type": "execute_result"
    }
   ],
   "execution_count": 135
  },
  {
   "cell_type": "code",
   "id": "f47a58a1945943b8",
   "metadata": {
    "ExecuteTime": {
     "end_time": "2024-12-04T15:47:02.455859Z",
     "start_time": "2024-12-04T15:47:02.451029Z"
    }
   },
   "source": [
    "# Perform the left merge\n",
    "double_curie_frame = double_curie_frame.merge(\n",
    "    stretch_summary_df,\n",
    "    left_on='stretch_id',\n",
    "    right_on='stretch_id',\n",
    "    how='left'\n",
    ")"
   ],
   "outputs": [],
   "execution_count": 136
  },
  {
   "cell_type": "code",
   "id": "828f3be5ac6c0ab1",
   "metadata": {
    "ExecuteTime": {
     "end_time": "2024-12-04T15:47:02.569703Z",
     "start_time": "2024-12-04T15:47:02.564901Z"
    }
   },
   "source": [
    "drag_evidence_frame = double_curie_frame[double_curie_frame['stretch_id'] >= 1]\n",
    "drag_evidence_frame = drag_evidence_frame[['extracted_curie', 'longest_annotation_curie']]\n",
    "drag_evidence_frame['drag_evidence'] = True"
   ],
   "outputs": [],
   "execution_count": 137
  },
  {
   "cell_type": "code",
   "id": "9907b1472af8731b",
   "metadata": {
    "ExecuteTime": {
     "end_time": "2024-12-04T15:47:02.639547Z",
     "start_time": "2024-12-04T15:47:02.628824Z"
    }
   },
   "source": [
    "drag_evidence_frame"
   ],
   "outputs": [
    {
     "data": {
      "text/plain": [
       "   extracted_curie longest_annotation_curie  drag_evidence\n",
       "3    ENVO:01001227            ENVO:01001201           True\n",
       "4    ENVO:01001230            ENVO:01001201           True\n",
       "6    ENVO:01001225            ENVO:01001201           True\n",
       "7    ENVO:01001208            ENVO:01001201           True\n",
       "9    ENVO:01001209            ENVO:01001201           True\n",
       "10   ENVO:01001210            ENVO:01001201           True\n",
       "12   ENVO:01001211            ENVO:01001201           True\n",
       "14   ENVO:01001231            ENVO:01001201           True\n",
       "16   ENVO:01001226            ENVO:01001201           True\n",
       "19   ENVO:01001229            ENVO:01001201           True"
      ],
      "text/html": [
       "<div>\n",
       "<style scoped>\n",
       "    .dataframe tbody tr th:only-of-type {\n",
       "        vertical-align: middle;\n",
       "    }\n",
       "\n",
       "    .dataframe tbody tr th {\n",
       "        vertical-align: top;\n",
       "    }\n",
       "\n",
       "    .dataframe thead th {\n",
       "        text-align: right;\n",
       "    }\n",
       "</style>\n",
       "<table border=\"1\" class=\"dataframe\">\n",
       "  <thead>\n",
       "    <tr style=\"text-align: right;\">\n",
       "      <th></th>\n",
       "      <th>extracted_curie</th>\n",
       "      <th>longest_annotation_curie</th>\n",
       "      <th>drag_evidence</th>\n",
       "    </tr>\n",
       "  </thead>\n",
       "  <tbody>\n",
       "    <tr>\n",
       "      <th>3</th>\n",
       "      <td>ENVO:01001227</td>\n",
       "      <td>ENVO:01001201</td>\n",
       "      <td>True</td>\n",
       "    </tr>\n",
       "    <tr>\n",
       "      <th>4</th>\n",
       "      <td>ENVO:01001230</td>\n",
       "      <td>ENVO:01001201</td>\n",
       "      <td>True</td>\n",
       "    </tr>\n",
       "    <tr>\n",
       "      <th>6</th>\n",
       "      <td>ENVO:01001225</td>\n",
       "      <td>ENVO:01001201</td>\n",
       "      <td>True</td>\n",
       "    </tr>\n",
       "    <tr>\n",
       "      <th>7</th>\n",
       "      <td>ENVO:01001208</td>\n",
       "      <td>ENVO:01001201</td>\n",
       "      <td>True</td>\n",
       "    </tr>\n",
       "    <tr>\n",
       "      <th>9</th>\n",
       "      <td>ENVO:01001209</td>\n",
       "      <td>ENVO:01001201</td>\n",
       "      <td>True</td>\n",
       "    </tr>\n",
       "    <tr>\n",
       "      <th>10</th>\n",
       "      <td>ENVO:01001210</td>\n",
       "      <td>ENVO:01001201</td>\n",
       "      <td>True</td>\n",
       "    </tr>\n",
       "    <tr>\n",
       "      <th>12</th>\n",
       "      <td>ENVO:01001211</td>\n",
       "      <td>ENVO:01001201</td>\n",
       "      <td>True</td>\n",
       "    </tr>\n",
       "    <tr>\n",
       "      <th>14</th>\n",
       "      <td>ENVO:01001231</td>\n",
       "      <td>ENVO:01001201</td>\n",
       "      <td>True</td>\n",
       "    </tr>\n",
       "    <tr>\n",
       "      <th>16</th>\n",
       "      <td>ENVO:01001226</td>\n",
       "      <td>ENVO:01001201</td>\n",
       "      <td>True</td>\n",
       "    </tr>\n",
       "    <tr>\n",
       "      <th>19</th>\n",
       "      <td>ENVO:01001229</td>\n",
       "      <td>ENVO:01001201</td>\n",
       "      <td>True</td>\n",
       "    </tr>\n",
       "  </tbody>\n",
       "</table>\n",
       "</div>"
      ]
     },
     "execution_count": 138,
     "metadata": {},
     "output_type": "execute_result"
    }
   ],
   "execution_count": 138
  },
  {
   "cell_type": "code",
   "id": "9873eb1bc3ea44e5",
   "metadata": {
    "ExecuteTime": {
     "end_time": "2024-12-04T15:47:02.731634Z",
     "start_time": "2024-12-04T15:47:02.726615Z"
    }
   },
   "source": [
    "ncbi_frame = ncbi_frame.merge(\n",
    "    drag_evidence_frame,\n",
    "    left_on=['extracted_curie', 'longest_annotation_curie'],\n",
    "    right_on=['extracted_curie', 'longest_annotation_curie'],\n",
    "    how='left'\n",
    ")"
   ],
   "outputs": [],
   "execution_count": 139
  },
  {
   "cell_type": "code",
   "id": "1d67b9e207b5531e",
   "metadata": {
    "ExecuteTime": {
     "end_time": "2024-12-04T15:47:02.856966Z",
     "start_time": "2024-12-04T15:47:02.777706Z"
    }
   },
   "source": [
    "# Initialize dragless_curie_list with curie_list values\n",
    "ncbi_frame[\"dragless_curie_list\"] = ncbi_frame[\"curie_list\"]\n",
    "\n",
    "# Update dragless_curie_list based on the condition\n",
    "for index, row in ncbi_frame.iterrows():\n",
    "    if row[\"drag_evidence\"] is True:\n",
    "        if row[\"longest_annotation_curie\"] is not None:\n",
    "            ncbi_frame.at[index, \"dragless_curie_list\"] = [row[\"longest_annotation_curie\"]]\n",
    "        else:\n",
    "            ncbi_frame.at[index, \"dragless_curie_list\"] = []\n",
    "\n",
    "ncbi_frame['dragless_curie_count'] = ncbi_frame['dragless_curie_list'].apply(len)"
   ],
   "outputs": [],
   "execution_count": 140
  },
  {
   "cell_type": "code",
   "id": "fb7469cd6900edd7",
   "metadata": {
    "ExecuteTime": {
     "end_time": "2024-12-04T15:47:02.922330Z",
     "start_time": "2024-12-04T15:47:02.916302Z"
    }
   },
   "source": [
    "ncbi_frame['unique_curie_count'].value_counts()"
   ],
   "outputs": [
    {
     "data": {
      "text/plain": [
       "unique_curie_count\n",
       "1    937\n",
       "0    212\n",
       "2     21\n",
       "Name: count, dtype: int64"
      ]
     },
     "execution_count": 141,
     "metadata": {},
     "output_type": "execute_result"
    }
   ],
   "execution_count": 141
  },
  {
   "cell_type": "code",
   "id": "7626e42d5b746a2a",
   "metadata": {
    "ExecuteTime": {
     "end_time": "2024-12-04T15:47:03.032230Z",
     "start_time": "2024-12-04T15:47:03.026358Z"
    }
   },
   "source": [
    "ncbi_frame['dragless_curie_count'].value_counts()"
   ],
   "outputs": [
    {
     "data": {
      "text/plain": [
       "dragless_curie_count\n",
       "1    947\n",
       "0    212\n",
       "2     11\n",
       "Name: count, dtype: int64"
      ]
     },
     "execution_count": 142,
     "metadata": {},
     "output_type": "execute_result"
    }
   ],
   "execution_count": 142
  },
  {
   "cell_type": "code",
   "id": "bb3c0eeb8e919ac5",
   "metadata": {
    "ExecuteTime": {
     "end_time": "2024-12-04T15:47:03.158915Z",
     "start_time": "2024-12-04T15:47:03.154470Z"
    }
   },
   "source": [
    "ncbi_frame.shape"
   ],
   "outputs": [
    {
     "data": {
      "text/plain": [
       "(1170, 16)"
      ]
     },
     "execution_count": 143,
     "metadata": {},
     "output_type": "execute_result"
    }
   ],
   "execution_count": 143
  },
  {
   "cell_type": "code",
   "id": "653df3ac622d4e95",
   "metadata": {
    "ExecuteTime": {
     "end_time": "2024-12-04T15:47:03.272879Z",
     "start_time": "2024-12-04T15:47:03.268329Z"
    }
   },
   "source": [
    "ncbi_frame_undisputed = ncbi_frame[ncbi_frame['dragless_curie_count'] <= 1]"
   ],
   "outputs": [],
   "execution_count": 144
  },
  {
   "cell_type": "code",
   "id": "2abdcbd301b484a9",
   "metadata": {
    "ExecuteTime": {
     "end_time": "2024-12-04T15:47:03.395967Z",
     "start_time": "2024-12-04T15:47:03.391418Z"
    }
   },
   "source": [
    "ncbi_frame_undisputed.shape"
   ],
   "outputs": [
    {
     "data": {
      "text/plain": [
       "(1159, 16)"
      ]
     },
     "execution_count": 145,
     "metadata": {},
     "output_type": "execute_result"
    }
   ],
   "execution_count": 145
  },
  {
   "cell_type": "code",
   "id": "57d0c3c05e88ea1e",
   "metadata": {
    "ExecuteTime": {
     "end_time": "2024-12-04T15:47:03.545991Z",
     "start_time": "2024-12-04T15:47:03.541860Z"
    }
   },
   "source": [
    "ncbi_frame_disputed = ncbi_frame[ncbi_frame['dragless_curie_count'] > 1]"
   ],
   "outputs": [],
   "execution_count": 146
  },
  {
   "cell_type": "code",
   "id": "d0cf6796fedc7f8a",
   "metadata": {
    "ExecuteTime": {
     "end_time": "2024-12-04T15:47:09.727438Z",
     "start_time": "2024-12-04T15:47:09.722989Z"
    }
   },
   "source": [
    "ncbi_frame_disputed.shape"
   ],
   "outputs": [
    {
     "data": {
      "text/plain": [
       "(11, 16)"
      ]
     },
     "execution_count": 147,
     "metadata": {},
     "output_type": "execute_result"
    }
   ],
   "execution_count": 147
  },
  {
   "cell_type": "code",
   "id": "fe33fe1d6d2aad09",
   "metadata": {
    "ExecuteTime": {
     "end_time": "2024-12-04T15:47:15.518639Z",
     "start_time": "2024-12-04T15:47:15.512853Z"
    }
   },
   "source": [
    "ncbi_frame_disputed = ncbi_frame_disputed.explode(\"dragless_curie_list\", ignore_index=True)\n"
   ],
   "outputs": [],
   "execution_count": 148
  },
  {
   "cell_type": "code",
   "id": "f8fe49b93cb12990",
   "metadata": {
    "ExecuteTime": {
     "end_time": "2024-12-04T15:47:21.049347Z",
     "start_time": "2024-12-04T15:47:21.045359Z"
    }
   },
   "source": [
    "ncbi_frame_disputed.shape"
   ],
   "outputs": [
    {
     "data": {
      "text/plain": [
       "(22, 16)"
      ]
     },
     "execution_count": 149,
     "metadata": {},
     "output_type": "execute_result"
    }
   ],
   "execution_count": 149
  },
  {
   "cell_type": "code",
   "id": "6896ca8dd3865cb5",
   "metadata": {
    "ExecuteTime": {
     "end_time": "2024-12-04T15:47:27.823915Z",
     "start_time": "2024-12-04T15:47:27.820583Z"
    }
   },
   "source": [
    "ncbi_frame_disputed[\"dragless_curie_list\"] = ncbi_frame_disputed[\"dragless_curie_list\"].apply(lambda x: [x])"
   ],
   "outputs": [],
   "execution_count": 150
  },
  {
   "cell_type": "code",
   "id": "9a472d228624f148",
   "metadata": {
    "ExecuteTime": {
     "end_time": "2024-12-04T15:47:33.312021Z",
     "start_time": "2024-12-04T15:47:33.307622Z"
    }
   },
   "source": [
    "# Combine the rows of ncbi_frame_undisputed and ncbi_frame_disputed into a new DataFrame\n",
    "ncbi_disputes_exploded_frame = pd.concat([ncbi_frame_undisputed, ncbi_frame_disputed], ignore_index=True)\n"
   ],
   "outputs": [],
   "execution_count": 151
  },
  {
   "cell_type": "code",
   "id": "e772d6db19793ec5",
   "metadata": {
    "ExecuteTime": {
     "end_time": "2024-12-04T15:47:38.837316Z",
     "start_time": "2024-12-04T15:47:38.833436Z"
    }
   },
   "source": [
    "ncbi_disputes_exploded_frame.shape"
   ],
   "outputs": [
    {
     "data": {
      "text/plain": [
       "(1181, 16)"
      ]
     },
     "execution_count": 152,
     "metadata": {},
     "output_type": "execute_result"
    }
   ],
   "execution_count": 152
  },
  {
   "cell_type": "code",
   "id": "ef0b5e69d724d94a",
   "metadata": {
    "ExecuteTime": {
     "end_time": "2024-12-04T15:47:44.416893Z",
     "start_time": "2024-12-04T15:47:44.397695Z"
    }
   },
   "source": [
    "ncbi_disputes_exploded_frame"
   ],
   "outputs": [
    {
     "data": {
      "text/plain": [
       "      serial_number                                    content  sample_count  \\\n",
       "0                 1                                     stream          2140   \n",
       "1                 2                            intertidal zone          1054   \n",
       "2                 3                                      coast           891   \n",
       "3                 4                             not applicable           875   \n",
       "4                 5                              not collected           830   \n",
       "...             ...                                        ...           ...   \n",
       "1176           1091  marine environmental zone [ENVO:01001213]             1   \n",
       "1177           1123  marine environmental zone [ENVO:01001217]             1   \n",
       "1178           1123  marine environmental zone [ENVO:01001217]             1   \n",
       "1179           1124  marine environmental zone [ENVO:01001223]             1   \n",
       "1180           1124  marine environmental zone [ENVO:01001223]             1   \n",
       "\n",
       "                                   content_list  content_count  envo_count  \\\n",
       "0                                        stream              1           0   \n",
       "1                               intertidal zone              1           0   \n",
       "2                                         coast              1           0   \n",
       "3                                not applicable              1           0   \n",
       "4                                 not collected              1           0   \n",
       "...                                         ...            ...         ...   \n",
       "1176  marine environmental zone [ENVO:01001213]              1           1   \n",
       "1177  marine environmental zone [ENVO:01001217]              1           1   \n",
       "1178  marine environmental zone [ENVO:01001217]              1           1   \n",
       "1179  marine environmental zone [ENVO:01001223]              1           1   \n",
       "1180  marine environmental zone [ENVO:01001223]              1           1   \n",
       "\n",
       "                extracted_label extracted_curie                    real_label  \\\n",
       "0                        stream            None                          None   \n",
       "1               intertidal zone            None                          None   \n",
       "2                         coast            None                          None   \n",
       "3                not applicable            None                          None   \n",
       "4                 not collected            None                          None   \n",
       "...                         ...             ...                           ...   \n",
       "1176  marine environmental zone   ENVO:01001213  radio wave stellar radiation   \n",
       "1177  marine environmental zone   ENVO:01001217       X-ray stellar radiation   \n",
       "1178  marine environmental zone   ENVO:01001217       X-ray stellar radiation   \n",
       "1179  marine environmental zone   ENVO:01001223     lumber production process   \n",
       "1180  marine environmental zone   ENVO:01001223     lumber production process   \n",
       "\n",
       "     longest_annotation_curie   longest_annotation_label  \\\n",
       "0               ENVO:00000023                     stream   \n",
       "1               ENVO:00000316            intertidal zone   \n",
       "2               ENVO:01000687                      coast   \n",
       "3                        None                       None   \n",
       "4                        None                       None   \n",
       "...                       ...                        ...   \n",
       "1176            ENVO:01001201  marine environmental zone   \n",
       "1177            ENVO:01001201  marine environmental zone   \n",
       "1178            ENVO:01001201  marine environmental zone   \n",
       "1179            ENVO:01001201  marine environmental zone   \n",
       "1180            ENVO:01001201  marine environmental zone   \n",
       "\n",
       "                          curie_list  unique_curie_count drag_evidence  \\\n",
       "0                    [ENVO:00000023]                   1           NaN   \n",
       "1                    [ENVO:00000316]                   1           NaN   \n",
       "2                    [ENVO:01000687]                   1           NaN   \n",
       "3                                 []                   0           NaN   \n",
       "4                                 []                   0           NaN   \n",
       "...                              ...                 ...           ...   \n",
       "1176  [ENVO:01001213, ENVO:01001201]                   2           NaN   \n",
       "1177  [ENVO:01001217, ENVO:01001201]                   2           NaN   \n",
       "1178  [ENVO:01001217, ENVO:01001201]                   2           NaN   \n",
       "1179  [ENVO:01001223, ENVO:01001201]                   2           NaN   \n",
       "1180  [ENVO:01001223, ENVO:01001201]                   2           NaN   \n",
       "\n",
       "     dragless_curie_list  dragless_curie_count  \n",
       "0        [ENVO:00000023]                     1  \n",
       "1        [ENVO:00000316]                     1  \n",
       "2        [ENVO:01000687]                     1  \n",
       "3                     []                     0  \n",
       "4                     []                     0  \n",
       "...                  ...                   ...  \n",
       "1176     [ENVO:01001201]                     2  \n",
       "1177     [ENVO:01001217]                     2  \n",
       "1178     [ENVO:01001201]                     2  \n",
       "1179     [ENVO:01001223]                     2  \n",
       "1180     [ENVO:01001201]                     2  \n",
       "\n",
       "[1181 rows x 16 columns]"
      ],
      "text/html": [
       "<div>\n",
       "<style scoped>\n",
       "    .dataframe tbody tr th:only-of-type {\n",
       "        vertical-align: middle;\n",
       "    }\n",
       "\n",
       "    .dataframe tbody tr th {\n",
       "        vertical-align: top;\n",
       "    }\n",
       "\n",
       "    .dataframe thead th {\n",
       "        text-align: right;\n",
       "    }\n",
       "</style>\n",
       "<table border=\"1\" class=\"dataframe\">\n",
       "  <thead>\n",
       "    <tr style=\"text-align: right;\">\n",
       "      <th></th>\n",
       "      <th>serial_number</th>\n",
       "      <th>content</th>\n",
       "      <th>sample_count</th>\n",
       "      <th>content_list</th>\n",
       "      <th>content_count</th>\n",
       "      <th>envo_count</th>\n",
       "      <th>extracted_label</th>\n",
       "      <th>extracted_curie</th>\n",
       "      <th>real_label</th>\n",
       "      <th>longest_annotation_curie</th>\n",
       "      <th>longest_annotation_label</th>\n",
       "      <th>curie_list</th>\n",
       "      <th>unique_curie_count</th>\n",
       "      <th>drag_evidence</th>\n",
       "      <th>dragless_curie_list</th>\n",
       "      <th>dragless_curie_count</th>\n",
       "    </tr>\n",
       "  </thead>\n",
       "  <tbody>\n",
       "    <tr>\n",
       "      <th>0</th>\n",
       "      <td>1</td>\n",
       "      <td>stream</td>\n",
       "      <td>2140</td>\n",
       "      <td>stream</td>\n",
       "      <td>1</td>\n",
       "      <td>0</td>\n",
       "      <td>stream</td>\n",
       "      <td>None</td>\n",
       "      <td>None</td>\n",
       "      <td>ENVO:00000023</td>\n",
       "      <td>stream</td>\n",
       "      <td>[ENVO:00000023]</td>\n",
       "      <td>1</td>\n",
       "      <td>NaN</td>\n",
       "      <td>[ENVO:00000023]</td>\n",
       "      <td>1</td>\n",
       "    </tr>\n",
       "    <tr>\n",
       "      <th>1</th>\n",
       "      <td>2</td>\n",
       "      <td>intertidal zone</td>\n",
       "      <td>1054</td>\n",
       "      <td>intertidal zone</td>\n",
       "      <td>1</td>\n",
       "      <td>0</td>\n",
       "      <td>intertidal zone</td>\n",
       "      <td>None</td>\n",
       "      <td>None</td>\n",
       "      <td>ENVO:00000316</td>\n",
       "      <td>intertidal zone</td>\n",
       "      <td>[ENVO:00000316]</td>\n",
       "      <td>1</td>\n",
       "      <td>NaN</td>\n",
       "      <td>[ENVO:00000316]</td>\n",
       "      <td>1</td>\n",
       "    </tr>\n",
       "    <tr>\n",
       "      <th>2</th>\n",
       "      <td>3</td>\n",
       "      <td>coast</td>\n",
       "      <td>891</td>\n",
       "      <td>coast</td>\n",
       "      <td>1</td>\n",
       "      <td>0</td>\n",
       "      <td>coast</td>\n",
       "      <td>None</td>\n",
       "      <td>None</td>\n",
       "      <td>ENVO:01000687</td>\n",
       "      <td>coast</td>\n",
       "      <td>[ENVO:01000687]</td>\n",
       "      <td>1</td>\n",
       "      <td>NaN</td>\n",
       "      <td>[ENVO:01000687]</td>\n",
       "      <td>1</td>\n",
       "    </tr>\n",
       "    <tr>\n",
       "      <th>3</th>\n",
       "      <td>4</td>\n",
       "      <td>not applicable</td>\n",
       "      <td>875</td>\n",
       "      <td>not applicable</td>\n",
       "      <td>1</td>\n",
       "      <td>0</td>\n",
       "      <td>not applicable</td>\n",
       "      <td>None</td>\n",
       "      <td>None</td>\n",
       "      <td>None</td>\n",
       "      <td>None</td>\n",
       "      <td>[]</td>\n",
       "      <td>0</td>\n",
       "      <td>NaN</td>\n",
       "      <td>[]</td>\n",
       "      <td>0</td>\n",
       "    </tr>\n",
       "    <tr>\n",
       "      <th>4</th>\n",
       "      <td>5</td>\n",
       "      <td>not collected</td>\n",
       "      <td>830</td>\n",
       "      <td>not collected</td>\n",
       "      <td>1</td>\n",
       "      <td>0</td>\n",
       "      <td>not collected</td>\n",
       "      <td>None</td>\n",
       "      <td>None</td>\n",
       "      <td>None</td>\n",
       "      <td>None</td>\n",
       "      <td>[]</td>\n",
       "      <td>0</td>\n",
       "      <td>NaN</td>\n",
       "      <td>[]</td>\n",
       "      <td>0</td>\n",
       "    </tr>\n",
       "    <tr>\n",
       "      <th>...</th>\n",
       "      <td>...</td>\n",
       "      <td>...</td>\n",
       "      <td>...</td>\n",
       "      <td>...</td>\n",
       "      <td>...</td>\n",
       "      <td>...</td>\n",
       "      <td>...</td>\n",
       "      <td>...</td>\n",
       "      <td>...</td>\n",
       "      <td>...</td>\n",
       "      <td>...</td>\n",
       "      <td>...</td>\n",
       "      <td>...</td>\n",
       "      <td>...</td>\n",
       "      <td>...</td>\n",
       "      <td>...</td>\n",
       "    </tr>\n",
       "    <tr>\n",
       "      <th>1176</th>\n",
       "      <td>1091</td>\n",
       "      <td>marine environmental zone [ENVO:01001213]</td>\n",
       "      <td>1</td>\n",
       "      <td>marine environmental zone [ENVO:01001213]</td>\n",
       "      <td>1</td>\n",
       "      <td>1</td>\n",
       "      <td>marine environmental zone</td>\n",
       "      <td>ENVO:01001213</td>\n",
       "      <td>radio wave stellar radiation</td>\n",
       "      <td>ENVO:01001201</td>\n",
       "      <td>marine environmental zone</td>\n",
       "      <td>[ENVO:01001213, ENVO:01001201]</td>\n",
       "      <td>2</td>\n",
       "      <td>NaN</td>\n",
       "      <td>[ENVO:01001201]</td>\n",
       "      <td>2</td>\n",
       "    </tr>\n",
       "    <tr>\n",
       "      <th>1177</th>\n",
       "      <td>1123</td>\n",
       "      <td>marine environmental zone [ENVO:01001217]</td>\n",
       "      <td>1</td>\n",
       "      <td>marine environmental zone [ENVO:01001217]</td>\n",
       "      <td>1</td>\n",
       "      <td>1</td>\n",
       "      <td>marine environmental zone</td>\n",
       "      <td>ENVO:01001217</td>\n",
       "      <td>X-ray stellar radiation</td>\n",
       "      <td>ENVO:01001201</td>\n",
       "      <td>marine environmental zone</td>\n",
       "      <td>[ENVO:01001217, ENVO:01001201]</td>\n",
       "      <td>2</td>\n",
       "      <td>NaN</td>\n",
       "      <td>[ENVO:01001217]</td>\n",
       "      <td>2</td>\n",
       "    </tr>\n",
       "    <tr>\n",
       "      <th>1178</th>\n",
       "      <td>1123</td>\n",
       "      <td>marine environmental zone [ENVO:01001217]</td>\n",
       "      <td>1</td>\n",
       "      <td>marine environmental zone [ENVO:01001217]</td>\n",
       "      <td>1</td>\n",
       "      <td>1</td>\n",
       "      <td>marine environmental zone</td>\n",
       "      <td>ENVO:01001217</td>\n",
       "      <td>X-ray stellar radiation</td>\n",
       "      <td>ENVO:01001201</td>\n",
       "      <td>marine environmental zone</td>\n",
       "      <td>[ENVO:01001217, ENVO:01001201]</td>\n",
       "      <td>2</td>\n",
       "      <td>NaN</td>\n",
       "      <td>[ENVO:01001201]</td>\n",
       "      <td>2</td>\n",
       "    </tr>\n",
       "    <tr>\n",
       "      <th>1179</th>\n",
       "      <td>1124</td>\n",
       "      <td>marine environmental zone [ENVO:01001223]</td>\n",
       "      <td>1</td>\n",
       "      <td>marine environmental zone [ENVO:01001223]</td>\n",
       "      <td>1</td>\n",
       "      <td>1</td>\n",
       "      <td>marine environmental zone</td>\n",
       "      <td>ENVO:01001223</td>\n",
       "      <td>lumber production process</td>\n",
       "      <td>ENVO:01001201</td>\n",
       "      <td>marine environmental zone</td>\n",
       "      <td>[ENVO:01001223, ENVO:01001201]</td>\n",
       "      <td>2</td>\n",
       "      <td>NaN</td>\n",
       "      <td>[ENVO:01001223]</td>\n",
       "      <td>2</td>\n",
       "    </tr>\n",
       "    <tr>\n",
       "      <th>1180</th>\n",
       "      <td>1124</td>\n",
       "      <td>marine environmental zone [ENVO:01001223]</td>\n",
       "      <td>1</td>\n",
       "      <td>marine environmental zone [ENVO:01001223]</td>\n",
       "      <td>1</td>\n",
       "      <td>1</td>\n",
       "      <td>marine environmental zone</td>\n",
       "      <td>ENVO:01001223</td>\n",
       "      <td>lumber production process</td>\n",
       "      <td>ENVO:01001201</td>\n",
       "      <td>marine environmental zone</td>\n",
       "      <td>[ENVO:01001223, ENVO:01001201]</td>\n",
       "      <td>2</td>\n",
       "      <td>NaN</td>\n",
       "      <td>[ENVO:01001201]</td>\n",
       "      <td>2</td>\n",
       "    </tr>\n",
       "  </tbody>\n",
       "</table>\n",
       "<p>1181 rows × 16 columns</p>\n",
       "</div>"
      ]
     },
     "execution_count": 153,
     "metadata": {},
     "output_type": "execute_result"
    }
   ],
   "execution_count": 153
  },
  {
   "cell_type": "code",
   "id": "be53a584475499b5",
   "metadata": {
    "ExecuteTime": {
     "end_time": "2024-12-04T15:47:51.179407Z",
     "start_time": "2024-12-04T15:47:51.175518Z"
    }
   },
   "source": [
    "ncbi_disputes_exploded_frame['post_explode_curie_count'] = ncbi_disputes_exploded_frame['dragless_curie_list'].apply(len)"
   ],
   "outputs": [],
   "execution_count": 154
  },
  {
   "cell_type": "code",
   "id": "e0c0605a4ca28188",
   "metadata": {
    "ExecuteTime": {
     "end_time": "2024-12-04T15:47:51.275460Z",
     "start_time": "2024-12-04T15:47:51.269937Z"
    }
   },
   "source": [
    "ncbi_disputes_exploded_frame['post_explode_curie_count'].value_counts()"
   ],
   "outputs": [
    {
     "data": {
      "text/plain": [
       "post_explode_curie_count\n",
       "1    969\n",
       "0    212\n",
       "Name: count, dtype: int64"
      ]
     },
     "execution_count": 155,
     "metadata": {},
     "output_type": "execute_result"
    }
   ],
   "execution_count": 155
  },
  {
   "cell_type": "code",
   "id": "396e48f3cea80587",
   "metadata": {
    "ExecuteTime": {
     "end_time": "2024-12-04T15:47:51.389348Z",
     "start_time": "2024-12-04T15:47:51.385156Z"
    }
   },
   "source": [
    "# Set 'post_explode_curie' to the 0th item in 'dragless_curie_list'\n",
    "ncbi_disputes_exploded_frame[\"post_explode_curie\"] = ncbi_disputes_exploded_frame[\"dragless_curie_list\"].apply(\n",
    "    lambda x: x[0] if isinstance(x, list) and len(x) > 0 else None\n",
    ")"
   ],
   "outputs": [],
   "execution_count": 156
  },
  {
   "cell_type": "code",
   "id": "1e488764b4212b75",
   "metadata": {
    "ExecuteTime": {
     "end_time": "2024-12-04T15:47:51.475900Z",
     "start_time": "2024-12-04T15:47:51.470345Z"
    }
   },
   "source": [
    "\n",
    "ncbi_biosample_scoped_counts = (\n",
    "    ncbi_disputes_exploded_frame.groupby(\"post_explode_curie\")[\"sample_count\"].sum().reset_index()\n",
    ")\n",
    "\n",
    "ncbi_biosample_scoped_counts.columns = ['curie', 'ncbi_scoped_count']"
   ],
   "outputs": [],
   "execution_count": 157
  },
  {
   "cell_type": "code",
   "id": "916cfcc3c7aa0d34",
   "metadata": {
    "ExecuteTime": {
     "end_time": "2024-12-04T15:47:51.606812Z",
     "start_time": "2024-12-04T15:47:51.598564Z"
    }
   },
   "source": [
    "ncbi_biosample_scoped_counts"
   ],
   "outputs": [
    {
     "data": {
      "text/plain": [
       "              curie  ncbi_scoped_count\n",
       "0       BFO:0000029                 40\n",
       "1       CHEBI:15377                 29\n",
       "2       CHEBI:15379                  1\n",
       "3       CHEBI:16183                  1\n",
       "4       CHEBI:24866                 30\n",
       "..              ...                ...\n",
       "315      RO:0001025                  2\n",
       "316      RO:0002577                  6\n",
       "317  UBERON:0000060                  1\n",
       "318  UBERON:0001988                  3\n",
       "319  UBERON:0002416                 23\n",
       "\n",
       "[320 rows x 2 columns]"
      ],
      "text/html": [
       "<div>\n",
       "<style scoped>\n",
       "    .dataframe tbody tr th:only-of-type {\n",
       "        vertical-align: middle;\n",
       "    }\n",
       "\n",
       "    .dataframe tbody tr th {\n",
       "        vertical-align: top;\n",
       "    }\n",
       "\n",
       "    .dataframe thead th {\n",
       "        text-align: right;\n",
       "    }\n",
       "</style>\n",
       "<table border=\"1\" class=\"dataframe\">\n",
       "  <thead>\n",
       "    <tr style=\"text-align: right;\">\n",
       "      <th></th>\n",
       "      <th>curie</th>\n",
       "      <th>ncbi_scoped_count</th>\n",
       "    </tr>\n",
       "  </thead>\n",
       "  <tbody>\n",
       "    <tr>\n",
       "      <th>0</th>\n",
       "      <td>BFO:0000029</td>\n",
       "      <td>40</td>\n",
       "    </tr>\n",
       "    <tr>\n",
       "      <th>1</th>\n",
       "      <td>CHEBI:15377</td>\n",
       "      <td>29</td>\n",
       "    </tr>\n",
       "    <tr>\n",
       "      <th>2</th>\n",
       "      <td>CHEBI:15379</td>\n",
       "      <td>1</td>\n",
       "    </tr>\n",
       "    <tr>\n",
       "      <th>3</th>\n",
       "      <td>CHEBI:16183</td>\n",
       "      <td>1</td>\n",
       "    </tr>\n",
       "    <tr>\n",
       "      <th>4</th>\n",
       "      <td>CHEBI:24866</td>\n",
       "      <td>30</td>\n",
       "    </tr>\n",
       "    <tr>\n",
       "      <th>...</th>\n",
       "      <td>...</td>\n",
       "      <td>...</td>\n",
       "    </tr>\n",
       "    <tr>\n",
       "      <th>315</th>\n",
       "      <td>RO:0001025</td>\n",
       "      <td>2</td>\n",
       "    </tr>\n",
       "    <tr>\n",
       "      <th>316</th>\n",
       "      <td>RO:0002577</td>\n",
       "      <td>6</td>\n",
       "    </tr>\n",
       "    <tr>\n",
       "      <th>317</th>\n",
       "      <td>UBERON:0000060</td>\n",
       "      <td>1</td>\n",
       "    </tr>\n",
       "    <tr>\n",
       "      <th>318</th>\n",
       "      <td>UBERON:0001988</td>\n",
       "      <td>3</td>\n",
       "    </tr>\n",
       "    <tr>\n",
       "      <th>319</th>\n",
       "      <td>UBERON:0002416</td>\n",
       "      <td>23</td>\n",
       "    </tr>\n",
       "  </tbody>\n",
       "</table>\n",
       "<p>320 rows × 2 columns</p>\n",
       "</div>"
      ]
     },
     "execution_count": 158,
     "metadata": {},
     "output_type": "execute_result"
    }
   ],
   "execution_count": 158
  },
  {
   "cell_type": "code",
   "id": "f4d8dc1053a5bb7e",
   "metadata": {
    "ExecuteTime": {
     "end_time": "2024-12-04T15:47:51.683855Z",
     "start_time": "2024-12-04T15:47:51.678536Z"
    }
   },
   "source": [
    "# Perform the left merge\n",
    "rows_frame = rows_frame.merge(\n",
    "    ncbi_biosample_scoped_counts,\n",
    "    left_on='curie',\n",
    "    right_on='curie',\n",
    "    how='left'\n",
    ")"
   ],
   "outputs": [],
   "execution_count": 159
  },
  {
   "cell_type": "code",
   "id": "c608fca3a6ed19c4",
   "metadata": {
    "ExecuteTime": {
     "end_time": "2024-12-04T15:47:51.742384Z",
     "start_time": "2024-12-04T15:47:51.726927Z"
    }
   },
   "source": [
    "rows_frame"
   ],
   "outputs": [
    {
     "data": {
      "text/plain": [
       "              curie                               label  envo_native  \\\n",
       "0     ENVO:01000492                 dung building floor         True   \n",
       "1     ENVO:00001997                  acid mine drainage         True   \n",
       "2     ENVO:01000348                         maize field         True   \n",
       "3     ENVO:01000201  subtropical broadleaf forest biome         True   \n",
       "4     ENVO:01001021                          humic lake         True   \n",
       "...             ...                                 ...          ...   \n",
       "1894  ENVO:00002043          wastewater treatment plant         True   \n",
       "1895  ENVO:00003964                   tobacco warehouse         True   \n",
       "1896  ENVO:01001518               drifting sea ice mass         True   \n",
       "1897  ENVO:03501188                ophthalmology clinic         True   \n",
       "1898  ENVO:00005790                            red soil         True   \n",
       "\n",
       "      obsolete  legacy_pv   abp  env_sys  biome  terrestrial_biome  \\\n",
       "0        False      False  True    False  False              False   \n",
       "1        False      False  True    False  False              False   \n",
       "2        False      False  True    False  False              False   \n",
       "3        False      False  True     True   True               True   \n",
       "4        False      False  True    False  False              False   \n",
       "...        ...        ...   ...      ...    ...                ...   \n",
       "1894     False      False  True    False  False              False   \n",
       "1895     False      False  True    False  False              False   \n",
       "1896     False      False  True    False  False              False   \n",
       "1897     False      False  True    False  False              False   \n",
       "1898     False      False  True    False  False              False   \n",
       "\n",
       "      aquatic_biome  env_mat  nmdc_scoped_count  gold_scoped_count  \\\n",
       "0             False    False                NaN                NaN   \n",
       "1             False    False                NaN                NaN   \n",
       "2             False    False                NaN                NaN   \n",
       "3             False    False                NaN                NaN   \n",
       "4             False    False                NaN                NaN   \n",
       "...             ...      ...                ...                ...   \n",
       "1894          False    False                NaN                NaN   \n",
       "1895          False    False                NaN                NaN   \n",
       "1896          False    False                NaN                NaN   \n",
       "1897          False    False                NaN                NaN   \n",
       "1898          False     True                NaN                NaN   \n",
       "\n",
       "      ncbi_scoped_count  \n",
       "0                   NaN  \n",
       "1                   NaN  \n",
       "2                   NaN  \n",
       "3                   NaN  \n",
       "4                   NaN  \n",
       "...                 ...  \n",
       "1894                NaN  \n",
       "1895                NaN  \n",
       "1896                NaN  \n",
       "1897                NaN  \n",
       "1898                NaN  \n",
       "\n",
       "[1899 rows x 14 columns]"
      ],
      "text/html": [
       "<div>\n",
       "<style scoped>\n",
       "    .dataframe tbody tr th:only-of-type {\n",
       "        vertical-align: middle;\n",
       "    }\n",
       "\n",
       "    .dataframe tbody tr th {\n",
       "        vertical-align: top;\n",
       "    }\n",
       "\n",
       "    .dataframe thead th {\n",
       "        text-align: right;\n",
       "    }\n",
       "</style>\n",
       "<table border=\"1\" class=\"dataframe\">\n",
       "  <thead>\n",
       "    <tr style=\"text-align: right;\">\n",
       "      <th></th>\n",
       "      <th>curie</th>\n",
       "      <th>label</th>\n",
       "      <th>envo_native</th>\n",
       "      <th>obsolete</th>\n",
       "      <th>legacy_pv</th>\n",
       "      <th>abp</th>\n",
       "      <th>env_sys</th>\n",
       "      <th>biome</th>\n",
       "      <th>terrestrial_biome</th>\n",
       "      <th>aquatic_biome</th>\n",
       "      <th>env_mat</th>\n",
       "      <th>nmdc_scoped_count</th>\n",
       "      <th>gold_scoped_count</th>\n",
       "      <th>ncbi_scoped_count</th>\n",
       "    </tr>\n",
       "  </thead>\n",
       "  <tbody>\n",
       "    <tr>\n",
       "      <th>0</th>\n",
       "      <td>ENVO:01000492</td>\n",
       "      <td>dung building floor</td>\n",
       "      <td>True</td>\n",
       "      <td>False</td>\n",
       "      <td>False</td>\n",
       "      <td>True</td>\n",
       "      <td>False</td>\n",
       "      <td>False</td>\n",
       "      <td>False</td>\n",
       "      <td>False</td>\n",
       "      <td>False</td>\n",
       "      <td>NaN</td>\n",
       "      <td>NaN</td>\n",
       "      <td>NaN</td>\n",
       "    </tr>\n",
       "    <tr>\n",
       "      <th>1</th>\n",
       "      <td>ENVO:00001997</td>\n",
       "      <td>acid mine drainage</td>\n",
       "      <td>True</td>\n",
       "      <td>False</td>\n",
       "      <td>False</td>\n",
       "      <td>True</td>\n",
       "      <td>False</td>\n",
       "      <td>False</td>\n",
       "      <td>False</td>\n",
       "      <td>False</td>\n",
       "      <td>False</td>\n",
       "      <td>NaN</td>\n",
       "      <td>NaN</td>\n",
       "      <td>NaN</td>\n",
       "    </tr>\n",
       "    <tr>\n",
       "      <th>2</th>\n",
       "      <td>ENVO:01000348</td>\n",
       "      <td>maize field</td>\n",
       "      <td>True</td>\n",
       "      <td>False</td>\n",
       "      <td>False</td>\n",
       "      <td>True</td>\n",
       "      <td>False</td>\n",
       "      <td>False</td>\n",
       "      <td>False</td>\n",
       "      <td>False</td>\n",
       "      <td>False</td>\n",
       "      <td>NaN</td>\n",
       "      <td>NaN</td>\n",
       "      <td>NaN</td>\n",
       "    </tr>\n",
       "    <tr>\n",
       "      <th>3</th>\n",
       "      <td>ENVO:01000201</td>\n",
       "      <td>subtropical broadleaf forest biome</td>\n",
       "      <td>True</td>\n",
       "      <td>False</td>\n",
       "      <td>False</td>\n",
       "      <td>True</td>\n",
       "      <td>True</td>\n",
       "      <td>True</td>\n",
       "      <td>True</td>\n",
       "      <td>False</td>\n",
       "      <td>False</td>\n",
       "      <td>NaN</td>\n",
       "      <td>NaN</td>\n",
       "      <td>NaN</td>\n",
       "    </tr>\n",
       "    <tr>\n",
       "      <th>4</th>\n",
       "      <td>ENVO:01001021</td>\n",
       "      <td>humic lake</td>\n",
       "      <td>True</td>\n",
       "      <td>False</td>\n",
       "      <td>False</td>\n",
       "      <td>True</td>\n",
       "      <td>False</td>\n",
       "      <td>False</td>\n",
       "      <td>False</td>\n",
       "      <td>False</td>\n",
       "      <td>False</td>\n",
       "      <td>NaN</td>\n",
       "      <td>NaN</td>\n",
       "      <td>NaN</td>\n",
       "    </tr>\n",
       "    <tr>\n",
       "      <th>...</th>\n",
       "      <td>...</td>\n",
       "      <td>...</td>\n",
       "      <td>...</td>\n",
       "      <td>...</td>\n",
       "      <td>...</td>\n",
       "      <td>...</td>\n",
       "      <td>...</td>\n",
       "      <td>...</td>\n",
       "      <td>...</td>\n",
       "      <td>...</td>\n",
       "      <td>...</td>\n",
       "      <td>...</td>\n",
       "      <td>...</td>\n",
       "      <td>...</td>\n",
       "    </tr>\n",
       "    <tr>\n",
       "      <th>1894</th>\n",
       "      <td>ENVO:00002043</td>\n",
       "      <td>wastewater treatment plant</td>\n",
       "      <td>True</td>\n",
       "      <td>False</td>\n",
       "      <td>False</td>\n",
       "      <td>True</td>\n",
       "      <td>False</td>\n",
       "      <td>False</td>\n",
       "      <td>False</td>\n",
       "      <td>False</td>\n",
       "      <td>False</td>\n",
       "      <td>NaN</td>\n",
       "      <td>NaN</td>\n",
       "      <td>NaN</td>\n",
       "    </tr>\n",
       "    <tr>\n",
       "      <th>1895</th>\n",
       "      <td>ENVO:00003964</td>\n",
       "      <td>tobacco warehouse</td>\n",
       "      <td>True</td>\n",
       "      <td>False</td>\n",
       "      <td>False</td>\n",
       "      <td>True</td>\n",
       "      <td>False</td>\n",
       "      <td>False</td>\n",
       "      <td>False</td>\n",
       "      <td>False</td>\n",
       "      <td>False</td>\n",
       "      <td>NaN</td>\n",
       "      <td>NaN</td>\n",
       "      <td>NaN</td>\n",
       "    </tr>\n",
       "    <tr>\n",
       "      <th>1896</th>\n",
       "      <td>ENVO:01001518</td>\n",
       "      <td>drifting sea ice mass</td>\n",
       "      <td>True</td>\n",
       "      <td>False</td>\n",
       "      <td>False</td>\n",
       "      <td>True</td>\n",
       "      <td>False</td>\n",
       "      <td>False</td>\n",
       "      <td>False</td>\n",
       "      <td>False</td>\n",
       "      <td>False</td>\n",
       "      <td>NaN</td>\n",
       "      <td>NaN</td>\n",
       "      <td>NaN</td>\n",
       "    </tr>\n",
       "    <tr>\n",
       "      <th>1897</th>\n",
       "      <td>ENVO:03501188</td>\n",
       "      <td>ophthalmology clinic</td>\n",
       "      <td>True</td>\n",
       "      <td>False</td>\n",
       "      <td>False</td>\n",
       "      <td>True</td>\n",
       "      <td>False</td>\n",
       "      <td>False</td>\n",
       "      <td>False</td>\n",
       "      <td>False</td>\n",
       "      <td>False</td>\n",
       "      <td>NaN</td>\n",
       "      <td>NaN</td>\n",
       "      <td>NaN</td>\n",
       "    </tr>\n",
       "    <tr>\n",
       "      <th>1898</th>\n",
       "      <td>ENVO:00005790</td>\n",
       "      <td>red soil</td>\n",
       "      <td>True</td>\n",
       "      <td>False</td>\n",
       "      <td>False</td>\n",
       "      <td>True</td>\n",
       "      <td>False</td>\n",
       "      <td>False</td>\n",
       "      <td>False</td>\n",
       "      <td>False</td>\n",
       "      <td>True</td>\n",
       "      <td>NaN</td>\n",
       "      <td>NaN</td>\n",
       "      <td>NaN</td>\n",
       "    </tr>\n",
       "  </tbody>\n",
       "</table>\n",
       "<p>1899 rows × 14 columns</p>\n",
       "</div>"
      ]
     },
     "execution_count": 160,
     "metadata": {},
     "output_type": "execute_result"
    }
   ],
   "execution_count": 160
  },
  {
   "cell_type": "code",
   "id": "b7a26a1b879188a4",
   "metadata": {
    "ExecuteTime": {
     "end_time": "2024-12-04T15:47:51.882575Z",
     "start_time": "2024-12-04T15:47:51.867043Z"
    }
   },
   "source": [
    "rows_frame.to_csv(output_file_name, sep=\"\\t\", index=False)"
   ],
   "outputs": [],
   "execution_count": 161
  },
  {
   "cell_type": "code",
   "id": "a58a25a226f07cfb",
   "metadata": {
    "ExecuteTime": {
     "end_time": "2024-12-04T15:47:51.932808Z",
     "start_time": "2024-12-04T15:47:51.930006Z"
    }
   },
   "source": [],
   "outputs": [],
   "execution_count": null
  }
 ],
 "metadata": {
  "kernelspec": {
   "display_name": "Python 3 (ipykernel)",
   "language": "python",
   "name": "python3"
  },
  "language_info": {
   "codemirror_mode": {
    "name": "ipython",
    "version": 3
   },
   "file_extension": ".py",
   "mimetype": "text/x-python",
   "name": "python",
   "nbconvert_exporter": "python",
   "pygments_lexer": "ipython3",
   "version": "3.10.13"
  }
 },
 "nbformat": 4,
 "nbformat_minor": 5
}
