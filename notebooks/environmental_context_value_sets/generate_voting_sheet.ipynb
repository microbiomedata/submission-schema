{
 "cells": [
  {
   "cell_type": "code",
   "id": "630126a7790cc3a7",
   "metadata": {
    "ExecuteTime": {
     "end_time": "2024-12-06T13:21:45.028135Z",
     "start_time": "2024-12-06T13:21:41.441702Z"
    }
   },
   "source": [
    "from common import *\n",
    "\n",
    "import gzip\n",
    "import os\n",
    "import shutil\n",
    "import sqlite3\n",
    "from urllib.parse import urlparse\n",
    "\n",
    "import duckdb\n",
    "import pandas as pd\n",
    "import requests\n",
    "from oaklib import get_adapter\n",
    "from oaklib.datamodels.vocabulary import IS_A\n",
    "from scipy.sparse import hstack\n",
    "from sklearn.ensemble import RandomForestClassifier\n",
    "from sklearn.metrics import classification_report\n",
    "from sklearn.model_selection import train_test_split\n",
    "\n",
    "import yaml\n"
   ],
   "outputs": [],
   "execution_count": 1
  },
  {
   "cell_type": "code",
   "id": "7b0ae730412c28ca",
   "metadata": {
    "ExecuteTime": {
     "end_time": "2024-12-06T13:21:45.036131Z",
     "start_time": "2024-12-06T13:21:45.032092Z"
    }
   },
   "source": [
    "print(\"verify output is being rendered\")"
   ],
   "outputs": [
    {
     "name": "stdout",
     "output_type": "stream",
     "text": [
      "verify output is being rendered\n"
     ]
    }
   ],
   "execution_count": 2
  },
  {
   "cell_type": "code",
   "id": "f952b5888d2c5f0d",
   "metadata": {
    "ExecuteTime": {
     "end_time": "2024-12-06T13:21:45.196865Z",
     "start_time": "2024-12-06T13:21:45.193569Z"
    }
   },
   "source": [
    "# Initialize cache dictionaries for predict_from_normalized_env_packages\n",
    "# todo how to move the definitions for function that use these globals? Or just use caching around the function?\n",
    "ancestor_cache = {}\n",
    "descendant_cache = {}"
   ],
   "outputs": [],
   "execution_count": 3
  },
  {
   "cell_type": "code",
   "id": "5001cbd978bbdd28",
   "metadata": {
    "ExecuteTime": {
     "end_time": "2024-12-06T13:21:45.246586Z",
     "start_time": "2024-12-06T13:21:45.243547Z"
    }
   },
   "source": [
    "# todo deal with circularity in env package prediction -> env triad reporting\n",
    "\n",
    "# todo this on-demand NCBI curie extraction and annotation recapitulates work that is being added to\n",
    "# https://portal.nersc.gov/project/m3408/biosamples_duckdb/\n",
    "# via \n",
    "#   although that doesn't detect auto-incremented curies from  spreadsheet dragging\n",
    "\n",
    "# todo if more caching is desired, it should probably take the form of saving dataframes for TSV\n",
    "\n",
    "# eventually, dig up a complete JSON gold biosample dump for non-hybrid biosample counts\n",
    "\n",
    "# overall run time (if NCBI biosamples and goldData are cached): ~ 10 minutes"
   ],
   "outputs": [],
   "execution_count": 4
  },
  {
   "cell_type": "markdown",
   "id": "2ef284816f7ce9d6",
   "metadata": {},
   "source": [
    "# Task Settings\n",
    "_For making a Soil env_broad_scale voting sheet vs a Sediment env_local_scale sheet, etc._\n",
    "\n",
    "todo: bundle these into dicts so they don't have to be modified independently and kept in sync with one another."
   ]
  },
  {
   "metadata": {
    "ExecuteTime": {
     "end_time": "2024-12-06T13:21:45.292970Z",
     "start_time": "2024-12-06T13:21:45.289944Z"
    }
   },
   "cell_type": "code",
   "source": "output_file_name = \"voting_sheets_output/soil_env_broad_scale_voting_sheet.tsv\"",
   "id": "90bf7256a956701d",
   "outputs": [],
   "execution_count": 5
  },
  {
   "metadata": {
    "ExecuteTime": {
     "end_time": "2024-12-06T13:21:45.338987Z",
     "start_time": "2024-12-06T13:21:45.335963Z"
    }
   },
   "cell_type": "code",
   "source": [
    "semantic_anchor = 'ENVO:00000428' # biome for env_broad_scale\n",
    "# semantic_anchor = 'ENVO:01000813' # astronomical body part \"abp\" for env_local_scale\n",
    "# semantic_anchor = 'ENVO:00010483' # environmental material for env_medium"
   ],
   "id": "95f7efc06f20987a",
   "outputs": [],
   "execution_count": 6
  },
  {
   "metadata": {
    "ExecuteTime": {
     "end_time": "2024-12-06T13:21:45.387151Z",
     "start_time": "2024-12-06T13:21:45.383027Z"
    }
   },
   "cell_type": "code",
   "source": [
    "plant_first_where = \"s1.value like 'host-associated > plants%'\"\n",
    "sediment_first_where = \"lower(s1.value) like 'environmental > aquatic%sediment%'\"\n",
    "soil_first_where = \"s1.value like 'environmental > terrestrial > soil%'\"\n",
    "water_first_where = \"s1.value like 'environmental > aquatic%' and lower(s1.value) not like '%sediment%'\""
   ],
   "id": "def7edf88043ac30",
   "outputs": [],
   "execution_count": 7
  },
  {
   "metadata": {},
   "cell_type": "markdown",
   "source": "## context selectors",
   "id": "51f51b3b88634488"
  },
  {
   "metadata": {
    "ExecuteTime": {
     "end_time": "2024-12-06T13:21:45.432887Z",
     "start_time": "2024-12-06T13:21:45.429902Z"
    }
   },
   "cell_type": "code",
   "source": [
    "gold_context_selector = 'mixs:env_broad'\n",
    "# gold_context_selector = 'mixs:env_local'\n",
    "# gold_context_selector = 'mixs:env_medium'"
   ],
   "id": "be00ed63d6472ead",
   "outputs": [],
   "execution_count": 8
  },
  {
   "metadata": {
    "ExecuteTime": {
     "end_time": "2024-12-06T13:21:45.479998Z",
     "start_time": "2024-12-06T13:21:45.476969Z"
    }
   },
   "cell_type": "code",
   "source": [
    "ncbi_context_selector = 'env_broad_scale'\n",
    "# ncbi_context_selector = 'env_local_scale'\n",
    "# ncbi_context_selector = 'env_medium'"
   ],
   "id": "7aa7b42c3f20ce44",
   "outputs": [],
   "execution_count": 9
  },
  {
   "metadata": {
    "ExecuteTime": {
     "end_time": "2024-12-06T13:21:45.527330Z",
     "start_time": "2024-12-06T13:21:45.524007Z"
    }
   },
   "cell_type": "code",
   "source": [
    "nmdc_context_selector= 'env_broad_scale_id'\n",
    "# nmdc_context_selector= 'env_local_scale_id'\n",
    "# nmdc_context_selector= 'env_medium_id'"
   ],
   "id": "ce80b2d7e64e5710",
   "outputs": [],
   "execution_count": 10
  },
  {
   "metadata": {},
   "cell_type": "markdown",
   "source": "## package aka environment aka extension selectors",
   "id": "2f0bdadeb5d32fa8"
  },
  {
   "metadata": {
    "ExecuteTime": {
     "end_time": "2024-12-06T13:21:45.574045Z",
     "start_time": "2024-12-06T13:21:45.571098Z"
    }
   },
   "cell_type": "code",
   "source": "gold_first_where = soil_first_where",
   "id": "8075741d803ff740",
   "outputs": [],
   "execution_count": 11
  },
  {
   "metadata": {
    "ExecuteTime": {
     "end_time": "2024-12-06T13:21:45.621358Z",
     "start_time": "2024-12-06T13:21:45.617894Z"
    }
   },
   "cell_type": "code",
   "source": [
    "# todo new since soil: why are we only considering MIMS.me for discovering appropriate env triad values?\n",
    "#   there's usually a roughly equal number of biosamples from in each extension for MIMS.me and \n",
    "\n",
    "# ncbi_package_selector = 'MIMS.me.plant-associated.6.0'\n",
    "# ncbi_package_selector = 'MIMS.me.sediment.6.0'\n",
    "# ncbi_package_selector = 'MIMS.me.soil.6.0'\n",
    "# ncbi_package_selector = 'MIMS.me.water.6.0'\n",
    "\n",
    "# ncbi_package_selector = 'MIMS.me.plant-associated.6.0'\n",
    "# ncbi_package_selector = 'MIMS.me.sediment.6.0'\n",
    "ncbi_package_selector = 'soil.6.0'\n",
    "# ncbi_package_selector = 'MIMS.me.water.6.0'"
   ],
   "id": "f5654d6f9319576b",
   "outputs": [],
   "execution_count": 12
  },
  {
   "metadata": {
    "ExecuteTime": {
     "end_time": "2024-12-06T13:21:45.668074Z",
     "start_time": "2024-12-06T13:21:45.664918Z"
    }
   },
   "cell_type": "code",
   "source": [
    "# nmdc_package_selector = 'plant-associated'\n",
    "# nmdc_package_selector = 'sediment'\n",
    "nmdc_package_selector = 'soil'\n",
    "# nmdc_package_selector = 'water'\n"
   ],
   "id": "5e358e42ad885188",
   "outputs": [],
   "execution_count": 13
  },
  {
   "metadata": {
    "ExecuteTime": {
     "end_time": "2024-12-06T13:21:45.714487Z",
     "start_time": "2024-12-06T13:21:45.710839Z"
    }
   },
   "cell_type": "code",
   "source": [
    "GOLDTERMS_NA = '' # ???\n",
    "\n",
    "GOLDTERMS_PLANT_ASSOCIATED = GOLDTERMS_NA # host associated -> viridiplantae? take a string approach!\n",
    "GOLDTERMS_SEDIMENT = 'GOLDTERMS:3985' #  doesn't have any subclasses\n",
    "GOLDTERMS_SOIL = 'GOLDTERMS:4212'\n",
    "GOLDTERMS_WATER = 'GOLDTERMS:3984'\n",
    "\n",
    "# GOLDTERMS:4180, 'Environmental > Aquatic > Freshwater > Pond > Sediment' and ~64 more don't share a common root\n",
    "# poetry run runoak -i sqlite:obo:goldterms info 't~sediment'\n"
   ],
   "id": "eda591e14a91cd01",
   "outputs": [],
   "execution_count": 14
  },
  {
   "metadata": {
    "ExecuteTime": {
     "end_time": "2024-12-06T13:21:45.761643Z",
     "start_time": "2024-12-06T13:21:45.758082Z"
    }
   },
   "cell_type": "code",
   "source": "goldterms_root = GOLDTERMS_SOIL",
   "id": "bba8bf1e75430ef",
   "outputs": [],
   "execution_count": 15
  },
  {
   "metadata": {},
   "cell_type": "markdown",
   "source": "## selecting name and version of one enum for comparison\n",
   "id": "394f96a70a95754f"
  },
  {
   "metadata": {
    "ExecuteTime": {
     "end_time": "2024-12-06T13:21:45.808090Z",
     "start_time": "2024-12-06T13:21:45.804959Z"
    }
   },
   "cell_type": "code",
   "source": [
    "# only the Soil enums have legacy definitions (v10.7 and earlier?)\n",
    "\n",
    "CONTEXT_ENUM = \"EnvBroadScaleSoilEnum\"\n",
    "# CONTEXT_ENUM = \"EnvLocalScaleSoilEnum\"\n",
    "# CONTEXT_ENUM = \"EnvMediumSoilEnum\"\n",
    "\n",
    "# CONTEXT_ENUM = \"\""
   ],
   "id": "20750df32ebb2033",
   "outputs": [],
   "execution_count": 16
  },
  {
   "metadata": {
    "ExecuteTime": {
     "end_time": "2024-12-06T13:21:45.855675Z",
     "start_time": "2024-12-06T13:21:45.852250Z"
    }
   },
   "cell_type": "code",
   "source": [
    "# todo: add columns for membership in multiple enums from multiple version of the schema?\n",
    "#  like sediment local vs soil local and water local (once that's completed)\n",
    "#  get them from schema files or something prior to that? sems like the voting sheets are too raw/preliminary for that\n",
    "#   can use a more recent schema url for more recent enums!\n",
    "\n",
    "previous_submission_schema_url = \"https://raw.githubusercontent.com/microbiomedata/submission-schema/v10.7.0/src/nmdc_submission_schema/schema/nmdc_submission_schema.yaml\"\n",
    "\n",
    "# previous_submission_schema_url = \"https://raw.githubusercontent.com/microbiomedata/submission-schema/refs/tags/v11.1.0/src/nmdc_submission_schema/schema/nmdc_submission_schema.yaml\""
   ],
   "id": "f588eccfcb2771ba",
   "outputs": [],
   "execution_count": 17
  },
  {
   "metadata": {
    "ExecuteTime": {
     "end_time": "2024-12-06T13:21:45.902806Z",
     "start_time": "2024-12-06T13:21:45.899845Z"
    }
   },
   "cell_type": "code",
   "source": [
    "# todo: don't call the column \"legacy_pv\". use the name of the enum and the version of the schema?\n",
    "\n",
    "comparison_enum_column_name = 'EnvBroadScaleSoilEnum_10_7'"
   ],
   "id": "e259066dee0973c4",
   "outputs": [],
   "execution_count": 18
  },
  {
   "metadata": {},
   "cell_type": "markdown",
   "source": "# Additional Settings",
   "id": "b799aabdd66098c0"
  },
  {
   "metadata": {
    "ExecuteTime": {
     "end_time": "2024-12-06T13:21:45.948814Z",
     "start_time": "2024-12-06T13:21:45.945823Z"
    }
   },
   "cell_type": "code",
   "source": [
    "# Approved prefixes (case-insensitive)\n",
    "approved_prefixes = ['ENVO']"
   ],
   "id": "50e39f658f4bd77b",
   "outputs": [],
   "execution_count": 19
  },
  {
   "metadata": {
    "ExecuteTime": {
     "end_time": "2024-12-06T13:21:45.994585Z",
     "start_time": "2024-12-06T13:21:45.991683Z"
    }
   },
   "cell_type": "code",
   "source": "MIN_ANNOTATION_LEN = 3",
   "id": "3aa0b52456f0a95c",
   "outputs": [],
   "execution_count": 20
  },
  {
   "cell_type": "code",
   "id": "d526be618b8b9129",
   "metadata": {
    "ExecuteTime": {
     "end_time": "2024-12-06T13:21:46.041207Z",
     "start_time": "2024-12-06T13:21:46.037843Z"
    }
   },
   "source": [
    "NMDC_RUNTIME_BASE_URL = 'https://api.microbiomedata.org/nmdcschema/'\n",
    "STUDY_SET_COLLECTION = 'study_set'\n",
    "BIOSAMPLE_SET_COLLECTION = 'biosample_set'"
   ],
   "outputs": [],
   "execution_count": 21
  },
  {
   "cell_type": "code",
   "id": "11c0cba800e33ac6",
   "metadata": {
    "ExecuteTime": {
     "end_time": "2024-12-06T13:21:46.087930Z",
     "start_time": "2024-12-06T13:21:46.084753Z"
    }
   },
   "source": [
    "envo_adapter_string = \"sqlite:obo:envo\""
   ],
   "outputs": [],
   "execution_count": 22
  },
  {
   "cell_type": "code",
   "id": "daf9f023fbf97cde",
   "metadata": {
    "ExecuteTime": {
     "end_time": "2024-12-06T13:21:46.134515Z",
     "start_time": "2024-12-06T13:21:46.131683Z"
    }
   },
   "source": [
    "# goldterms_adapter_string = \"sqlite:obo:envo\""
   ],
   "outputs": [],
   "execution_count": 23
  },
  {
   "cell_type": "code",
   "id": "7795121f47307a00",
   "metadata": {
    "ExecuteTime": {
     "end_time": "2024-12-06T13:21:46.180766Z",
     "start_time": "2024-12-06T13:21:46.177687Z"
    }
   },
   "source": [
    "env_package_override_file = 'mam-env-package-overrides.tsv'\n",
    "override_column = 'mam_inferred_env_package'"
   ],
   "outputs": [],
   "execution_count": 24
  },
  {
   "cell_type": "code",
   "id": "f1b99451d88ce356",
   "metadata": {
    "ExecuteTime": {
     "end_time": "2024-12-06T13:21:46.226644Z",
     "start_time": "2024-12-06T13:21:46.223730Z"
    }
   },
   "source": [
    "ncbi_duckdb_url = 'https://portal.nersc.gov/project/m3408/biosamples_duckdb/ncbi_biosamples_2024-09-23.duckdb.gz'"
   ],
   "outputs": [],
   "execution_count": 25
  },
  {
   "cell_type": "code",
   "id": "51e5d41b02b19eec",
   "metadata": {
    "ExecuteTime": {
     "end_time": "2024-12-06T13:21:46.272829Z",
     "start_time": "2024-12-06T13:21:46.269679Z"
    }
   },
   "source": [
    "gold_data_url = \"https://gold.jgi.doe.gov/download?mode=site_excel\"\n",
    "gold_data_file_name = \"goldData.xlsx\" # goldData.xlsx: Microsoft Excel 2007+\n",
    "gold_csv_file_name = \"gold_biosamples.csv\"\n",
    "BIOSAMPLES_SHEET = \"Biosample\""
   ],
   "outputs": [],
   "execution_count": 26
  },
  {
   "cell_type": "code",
   "id": "e1d9f705fad2efa9",
   "metadata": {
    "ExecuteTime": {
     "end_time": "2024-12-06T13:21:46.319901Z",
     "start_time": "2024-12-06T13:21:46.316997Z"
    }
   },
   "source": [
    "goldterms_semsql_url = \"https://s3.amazonaws.com/bbop-sqlite/goldterms.db.gz\"\n"
   ],
   "outputs": [],
   "execution_count": 27
  },
  {
   "metadata": {},
   "cell_type": "markdown",
   "source": "# CURIe Constants",
   "id": "16e21c18886a373c"
  },
  {
   "metadata": {
    "ExecuteTime": {
     "end_time": "2024-12-06T13:21:46.367130Z",
     "start_time": "2024-12-06T13:21:46.363809Z"
    }
   },
   "cell_type": "code",
   "source": [
    "BIOME = 'ENVO:00000428'\n",
    "TERRESTRIAL_BIOME = 'ENVO:00000446'\n",
    "AQUATIC_BIOME = 'ENVO:00002030'\n",
    "ABP = 'ENVO:01000813'\n",
    "ENVIRONMENTAL_SYSTEM = 'ENVO:01000254'\n",
    "ENVIRONMENTAL_MATERIAL = 'ENVO:00010483'"
   ],
   "id": "73e52103eb69bbcc",
   "outputs": [],
   "execution_count": 28
  },
  {
   "metadata": {},
   "cell_type": "markdown",
   "source": "# Settings-based Queries",
   "id": "7ecec14181910236"
  },
  {
   "cell_type": "code",
   "id": "4cdc7819c92bff3c",
   "metadata": {
    "ExecuteTime": {
     "end_time": "2024-12-06T13:21:46.412628Z",
     "start_time": "2024-12-06T13:21:46.409575Z"
    }
   },
   "source": [
    "goldterms_subclass_query = f\"\"\"\n",
    "select\n",
    "\tsubject\n",
    "from\n",
    "\tentailed_edge ee\n",
    "where\n",
    "\tpredicate = 'rdfs:subClassOf'\n",
    "\tand object = '{goldterms_root}'\n",
    "\"\"\""
   ],
   "outputs": [],
   "execution_count": 29
  },
  {
   "cell_type": "code",
   "id": "fb8c7caf28e64d10",
   "metadata": {
    "ExecuteTime": {
     "end_time": "2024-12-06T13:21:46.458781Z",
     "start_time": "2024-12-06T13:21:46.455670Z"
    }
   },
   "source": [
    "# todo could this have been done with a OAK query, eliminating the need to explicitly download the file?\n",
    "\n",
    "goldterms_envo_query = f\"\"\"\n",
    "SELECT\n",
    "\t*\n",
    "FROM\n",
    "\tstatements s\n",
    "WHERE\n",
    "\tpredicate = '{gold_context_selector}'\"\"\""
   ],
   "outputs": [],
   "execution_count": 30
  },
  {
   "cell_type": "code",
   "id": "afd52cf83301de09",
   "metadata": {
    "ExecuteTime": {
     "end_time": "2024-12-06T13:21:46.505140Z",
     "start_time": "2024-12-06T13:21:46.501919Z"
    }
   },
   "source": [
    "ncbi_query = f\"\"\"\n",
    "SELECT content, COUNT(1) AS sample_count \n",
    "FROM attributes \n",
    "WHERE harmonized_name = '{ncbi_context_selector}' AND package_content like '%{ncbi_package_selector}'\n",
    "GROUP BY content\n",
    "ORDER BY COUNT(1) DESC\n",
    "\"\"\""
   ],
   "outputs": [],
   "execution_count": 31
  },
  {
   "metadata": {
    "ExecuteTime": {
     "end_time": "2024-12-06T13:21:46.551266Z",
     "start_time": "2024-12-06T13:21:46.547899Z"
    }
   },
   "cell_type": "code",
   "source": [
    "# and s1.subject = s1.stanza eliminates matches on blank node anntoation rows (probably woudn't change results but adds a little overhead)\n",
    "\n",
    "extension_query = f\"\"\"\n",
    "select\n",
    "\t\ts1.subject ,\n",
    "\t\ts2.predicate,\n",
    "\t\tCOALESCE (s2.\"object\",\n",
    "\ts2.\"value\") as content\n",
    "from\n",
    "\tstatements s1\n",
    "join statements s2 on \n",
    "\ts1.subject = s2.subject\n",
    "where\n",
    "\t{gold_first_where}\n",
    "\tand s1.predicate = 'rdfs:label'\n",
    "\tand s1.subject = s1.stanza\n",
    "\tand s2.predicate in ('mixs:env_broad', 'mixs:env_local', 'mixs:env_medium', 'mixs:mixs_extension', 'rdfs:label', 'mixs:other', 'mixs:anatomical_site', 'mixs:host_taxon') ;\n",
    "\"\"\"\n",
    "\n",
    "# todo provide examples of sediment samples that are excluded by the requirement for aquatic"
   ],
   "id": "8cdd3e6e17a2bac3",
   "outputs": [],
   "execution_count": 32
  },
  {
   "metadata": {},
   "cell_type": "markdown",
   "source": [
    "# Locally Defined Functions\n",
    "_Currently using locally-defined cache dictionaries_"
   ],
   "id": "6c4cf0d065a7de07"
  },
  {
   "cell_type": "code",
   "id": "38412bd611726160",
   "metadata": {
    "ExecuteTime": {
     "end_time": "2024-12-06T13:21:46.602926Z",
     "start_time": "2024-12-06T13:21:46.595079Z"
    }
   },
   "source": [
    "def predict_from_normalized_env_packages(df_raw, adapter):\n",
    "    # Apply the function to the relevant columns\n",
    "\n",
    "    df = df_raw.copy()\n",
    "\n",
    "    print(df.shape)\n",
    "    for column in ['env_broad_scale_id', 'env_local_scale_id', 'env_medium_id']:\n",
    "        df[f'{column}_ancestors'] = df[column].apply(lambda x: get_hierarchy_terms(x, adapter)['ancestors'])\n",
    "        df[f'{column}_descendants'] = df[column].apply(lambda x: get_hierarchy_terms(x, adapter)['descendants'])\n",
    "\n",
    "    # Vectorize each set of terms separately\n",
    "    broad_scale_ancestors = vectorize_terms(df, 'env_broad_scale_id_ancestors')\n",
    "    broad_scale_descendants = vectorize_terms(df, 'env_broad_scale_id_descendants')\n",
    "\n",
    "    local_scale_ancestors = vectorize_terms(df, 'env_local_scale_id_ancestors')\n",
    "    local_scale_descendants = vectorize_terms(df, 'env_local_scale_id_descendants')\n",
    "\n",
    "    medium_ancestors = vectorize_terms(df, 'env_medium_id_ancestors')\n",
    "    medium_descendants = vectorize_terms(df, 'env_medium_id_descendants')\n",
    "\n",
    "    # Combine all feature matrices\n",
    "    X = hstack([\n",
    "        broad_scale_ancestors,\n",
    "        broad_scale_descendants,\n",
    "        local_scale_ancestors,\n",
    "        local_scale_descendants,\n",
    "        medium_ancestors,\n",
    "        medium_descendants\n",
    "    ])\n",
    "\n",
    "    # Filter the DataFrame to only include non-null rows for the target column\n",
    "    df_filtered = df[df['normalized_env_package'].notnull() & (df['normalized_env_package'] != \"\")]\n",
    "\n",
    "    # Extract the target variable\n",
    "    y = df_filtered['normalized_env_package']\n",
    "\n",
    "    # Ensure X corresponds to the filtered rows\n",
    "    X_filtered = X[df_filtered.index]\n",
    "\n",
    "    # Split the data into training and testing sets\n",
    "    X_train, X_test, y_train, y_test = train_test_split(X_filtered, y, test_size=0.3, random_state=42)\n",
    "\n",
    "    # Train a Random Forest Classifier\n",
    "    clf = RandomForestClassifier(n_estimators=100, random_state=42)\n",
    "    clf.fit(X_train, y_train)\n",
    "\n",
    "    # Make predictions on the test set\n",
    "    y_pred = clf.predict(X_test)\n",
    "\n",
    "    # Evaluate the model\n",
    "    print(classification_report(y_test, y_pred))\n",
    "\n",
    "    # not determining confidence for each class nor saving any diagnostics any more\n",
    "\n",
    "    return clf.predict(X)"
   ],
   "outputs": [],
   "execution_count": 33
  },
  {
   "cell_type": "code",
   "id": "4515456aaeaa7980",
   "metadata": {
    "ExecuteTime": {
     "end_time": "2024-12-06T13:21:46.654949Z",
     "start_time": "2024-12-06T13:21:46.647008Z"
    }
   },
   "source": [
    "def get_hierarchy_terms(my_curie: str, adapter) -> dict:\n",
    "    \"\"\"\n",
    "    Extract ancestor and descendant terms from the ontology for a given CURIE,\n",
    "    using caching to improve performance and filtering by 'is_a' relationships.\n",
    "\n",
    "    Args:\n",
    "        my_curie (str): CURIE identifier for the ontology term.\n",
    "        adapter: Ontology adapter.\n",
    "\n",
    "    Returns:\n",
    "        dict: Dictionary containing lists of ancestor and descendant terms.\n",
    "    \"\"\"\n",
    "    if my_curie not in ancestor_cache:\n",
    "        try:\n",
    "            ancestors = list(adapter.ancestors(my_curie, predicates=[IS_A]))\n",
    "            ancestor_cache[my_curie] = [adapter.label(ancestor) for ancestor in ancestors if ancestor]\n",
    "        except Exception as my_e:\n",
    "            print(f\"Error retrieving ancestors for {my_curie}: {my_e}\")\n",
    "            ancestor_cache[my_curie] = []\n",
    "\n",
    "    if my_curie not in descendant_cache:\n",
    "        try:\n",
    "            descendants = list(adapter.descendants(my_curie, predicates=[IS_A]))\n",
    "            descendant_cache[my_curie] = [adapter.label(descendant) for descendant in descendants if descendant]\n",
    "        except Exception as my_e:\n",
    "            print(f\"Error retrieving descendants for {my_curie}: {my_e}\")\n",
    "            descendant_cache[my_curie] = []\n",
    "\n",
    "    return {\n",
    "        'ancestors': ancestor_cache[my_curie],\n",
    "        'descendants': descendant_cache[my_curie],\n",
    "    }"
   ],
   "outputs": [],
   "execution_count": 34
  },
  {
   "metadata": {},
   "cell_type": "markdown",
   "source": "# Procedural Code Starts Here",
   "id": "1423fbbafdf5e167"
  },
  {
   "cell_type": "code",
   "id": "44fb14c1b01ac34c",
   "metadata": {
    "ExecuteTime": {
     "end_time": "2024-12-06T13:21:46.701233Z",
     "start_time": "2024-12-06T13:21:46.697676Z"
    }
   },
   "source": [
    "# Determine the filenames and target directory for the NCBI DuckDB\n",
    "ncbi_compressed_filename = urlparse(ncbi_duckdb_url).path.split('/')[-1]\n",
    "ncbi_filename = os.path.splitext(ncbi_compressed_filename)[0]\n",
    "ncbi_compressed_file_path = os.path.join(ncbi_compressed_filename)\n",
    "ncbi_uncompressed_file_path = os.path.join(ncbi_filename)\n",
    "\n",
    "# target_dir = os.path.join('.') # just assume the files are downloaded into the same directory as the notebook"
   ],
   "outputs": [],
   "execution_count": 35
  },
  {
   "cell_type": "code",
   "id": "353ba83ec3059ac5",
   "metadata": {
    "ExecuteTime": {
     "end_time": "2024-12-06T13:21:46.750565Z",
     "start_time": "2024-12-06T13:21:46.745380Z"
    }
   },
   "source": [
    "if os.path.isfile(ncbi_uncompressed_file_path):\n",
    "    print(f\"{ncbi_uncompressed_file_path} is already present in the current working directory.\")\n",
    "else:\n",
    "    if os.path.isfile(ncbi_compressed_file_path):\n",
    "        print(f\"{ncbi_compressed_file_path} is already present in the current working directory.\")\n",
    "    else:\n",
    "        print(f\"{ncbi_compressed_file_path} needs to be downloaded\")\n",
    "        ncbi_response = requests.get(ncbi_duckdb_url)\n",
    "        with open(ncbi_compressed_file_path, \"wb\") as f:\n",
    "            f.write(ncbi_response.content)\n",
    "        # ~ 2 minutes @ 250 Mbps\n",
    "    \n",
    "    # Unzip the compressed file and save the extracted file in target directory\n",
    "    print(f\"{ncbi_compressed_file_path} needs to be unpacked\")\n",
    "    with gzip.open(ncbi_compressed_file_path, \"rb\") as f_in:\n",
    "        with open(ncbi_uncompressed_file_path, \"wb\") as f_out:\n",
    "            shutil.copyfileobj(f_in, f_out)\n",
    "\n",
    "    # ~ 2 minutes"
   ],
   "outputs": [
    {
     "name": "stdout",
     "output_type": "stream",
     "text": [
      "ncbi_biosamples_2024-09-23.duckdb is already present in the current working directory.\n"
     ]
    }
   ],
   "execution_count": 36
  },
  {
   "cell_type": "code",
   "id": "63f815cbfb9b7a6b",
   "metadata": {
    "ExecuteTime": {
     "end_time": "2024-12-06T13:21:46.847835Z",
     "start_time": "2024-12-06T13:21:46.816907Z"
    }
   },
   "source": [
    "ncbi_conn = duckdb.connect(database=ncbi_uncompressed_file_path, read_only=True)"
   ],
   "outputs": [],
   "execution_count": 37
  },
  {
   "cell_type": "code",
   "id": "198256f26bc060e3",
   "metadata": {
    "ExecuteTime": {
     "end_time": "2024-12-06T13:21:46.894482Z",
     "start_time": "2024-12-06T13:21:46.864739Z"
    }
   },
   "source": [
    "envo_adapter = get_adapter(envo_adapter_string)"
   ],
   "outputs": [],
   "execution_count": 38
  },
  {
   "cell_type": "code",
   "id": "e863dc687ce4be5c",
   "metadata": {
    "ExecuteTime": {
     "end_time": "2024-12-06T13:21:47.015897Z",
     "start_time": "2024-12-06T13:21:46.912037Z"
    }
   },
   "source": "anchor_descendants = get_curie_descendants_label_dict(semantic_anchor, [IS_A], envo_adapter)",
   "outputs": [],
   "execution_count": 39
  },
  {
   "cell_type": "code",
   "id": "394abb56c4987eee",
   "metadata": {
    "ExecuteTime": {
     "end_time": "2024-12-06T13:21:47.032660Z",
     "start_time": "2024-12-06T13:21:47.029931Z"
    }
   },
   "source": [
    "anchor_descendants_lod = curie_descendants_label_dict_to_lod(anchor_descendants)"
   ],
   "outputs": [],
   "execution_count": 40
  },
  {
   "cell_type": "code",
   "id": "eea1a3f8395da0d7",
   "metadata": {
    "ExecuteTime": {
     "end_time": "2024-12-06T13:21:47.076022Z",
     "start_time": "2024-12-06T13:21:47.072355Z"
    }
   },
   "source": [
    "anchor_descendants_frame = curie_descendants_label_lod_to_df(anchor_descendants_lod)"
   ],
   "outputs": [],
   "execution_count": 41
  },
  {
   "cell_type": "code",
   "id": "f85faf81e0a55a42",
   "metadata": {
    "ExecuteTime": {
     "end_time": "2024-12-06T13:21:47.137461Z",
     "start_time": "2024-12-06T13:21:47.120596Z"
    }
   },
   "source": [
    "anchor_descendants_frame"
   ],
   "outputs": [
    {
     "data": {
      "text/plain": [
       "             curie                          label\n",
       "0    ENVO:01001505            alpine tundra biome\n",
       "1    ENVO:01000024           marine benthic biome\n",
       "2    ENVO:01000252          freshwater lake biome\n",
       "3    ENVO:01000180                   tundra biome\n",
       "4    ENVO:01000123       marine sponge reef biome\n",
       "..             ...                            ...\n",
       "123  ENVO:01000858         marine upwelling biome\n",
       "124  ENVO:01000188         tropical savanna biome\n",
       "125  ENVO:01000042  neritic epipelagic zone biome\n",
       "126  ENVO:01000045              epeiric sea biome\n",
       "127  ENVO:01000049        marine coral reef biome\n",
       "\n",
       "[128 rows x 2 columns]"
      ],
      "text/html": [
       "<div>\n",
       "<style scoped>\n",
       "    .dataframe tbody tr th:only-of-type {\n",
       "        vertical-align: middle;\n",
       "    }\n",
       "\n",
       "    .dataframe tbody tr th {\n",
       "        vertical-align: top;\n",
       "    }\n",
       "\n",
       "    .dataframe thead th {\n",
       "        text-align: right;\n",
       "    }\n",
       "</style>\n",
       "<table border=\"1\" class=\"dataframe\">\n",
       "  <thead>\n",
       "    <tr style=\"text-align: right;\">\n",
       "      <th></th>\n",
       "      <th>curie</th>\n",
       "      <th>label</th>\n",
       "    </tr>\n",
       "  </thead>\n",
       "  <tbody>\n",
       "    <tr>\n",
       "      <th>0</th>\n",
       "      <td>ENVO:01001505</td>\n",
       "      <td>alpine tundra biome</td>\n",
       "    </tr>\n",
       "    <tr>\n",
       "      <th>1</th>\n",
       "      <td>ENVO:01000024</td>\n",
       "      <td>marine benthic biome</td>\n",
       "    </tr>\n",
       "    <tr>\n",
       "      <th>2</th>\n",
       "      <td>ENVO:01000252</td>\n",
       "      <td>freshwater lake biome</td>\n",
       "    </tr>\n",
       "    <tr>\n",
       "      <th>3</th>\n",
       "      <td>ENVO:01000180</td>\n",
       "      <td>tundra biome</td>\n",
       "    </tr>\n",
       "    <tr>\n",
       "      <th>4</th>\n",
       "      <td>ENVO:01000123</td>\n",
       "      <td>marine sponge reef biome</td>\n",
       "    </tr>\n",
       "    <tr>\n",
       "      <th>...</th>\n",
       "      <td>...</td>\n",
       "      <td>...</td>\n",
       "    </tr>\n",
       "    <tr>\n",
       "      <th>123</th>\n",
       "      <td>ENVO:01000858</td>\n",
       "      <td>marine upwelling biome</td>\n",
       "    </tr>\n",
       "    <tr>\n",
       "      <th>124</th>\n",
       "      <td>ENVO:01000188</td>\n",
       "      <td>tropical savanna biome</td>\n",
       "    </tr>\n",
       "    <tr>\n",
       "      <th>125</th>\n",
       "      <td>ENVO:01000042</td>\n",
       "      <td>neritic epipelagic zone biome</td>\n",
       "    </tr>\n",
       "    <tr>\n",
       "      <th>126</th>\n",
       "      <td>ENVO:01000045</td>\n",
       "      <td>epeiric sea biome</td>\n",
       "    </tr>\n",
       "    <tr>\n",
       "      <th>127</th>\n",
       "      <td>ENVO:01000049</td>\n",
       "      <td>marine coral reef biome</td>\n",
       "    </tr>\n",
       "  </tbody>\n",
       "</table>\n",
       "<p>128 rows × 2 columns</p>\n",
       "</div>"
      ]
     },
     "execution_count": 42,
     "metadata": {},
     "output_type": "execute_result"
    }
   ],
   "execution_count": 42
  },
  {
   "cell_type": "markdown",
   "id": "857f1f1efd4635b9",
   "metadata": {},
   "source": [
    "----"
   ]
  },
  {
   "cell_type": "code",
   "id": "1432828ce7983148",
   "metadata": {
    "ExecuteTime": {
     "end_time": "2024-12-06T13:21:50.736835Z",
     "start_time": "2024-12-06T13:21:47.216298Z"
    }
   },
   "source": [
    "sv = get_schemaview_from_source(previous_submission_schema_url)"
   ],
   "outputs": [],
   "execution_count": 43
  },
  {
   "cell_type": "code",
   "id": "5841e0d6bc3d3c40",
   "metadata": {
    "ExecuteTime": {
     "end_time": "2024-12-06T13:21:50.780241Z",
     "start_time": "2024-12-06T13:21:50.775908Z"
    }
   },
   "source": [
    "# todo break out slow steps into its own cell\n",
    "\n",
    "try:\n",
    "    CONTEXT_ENUM_def = sv.get_enum(CONTEXT_ENUM)\n",
    "    context_pvs_keys = list(CONTEXT_ENUM_def.permissible_values.keys())\n",
    "except AttributeError as e:\n",
    "    # Handle the AttributeError\n",
    "    print(f\"An AttributeError occurred: {e}\")\n",
    "    context_pvs_keys =[]\n",
    "    "
   ],
   "outputs": [],
   "execution_count": 44
  },
  {
   "metadata": {
    "ExecuteTime": {
     "end_time": "2024-12-06T13:21:50.800501Z",
     "start_time": "2024-12-06T13:21:50.785390Z"
    }
   },
   "cell_type": "code",
   "source": "print(context_pvs_keys)",
   "id": "e47067e5b704ee70",
   "outputs": [
    {
     "name": "stdout",
     "output_type": "stream",
     "text": [
      "['arid biome [ENVO:01001838]', 'subalpine biome [ENVO:01001837]', 'montane biome [ENVO:01001836]', '__montane savanna biome [ENVO:01000223]', '__montane shrubland biome [ENVO:01000216]', 'alpine biome [ENVO:01001835]', '__alpine tundra biome [ENVO:01001505]', 'subpolar biome [ENVO:01001834]', 'subtropical biome [ENVO:01001832]', '__mediterranean biome [ENVO:01001833]', '____mediterranean savanna biome [ENVO:01000229]', '____mediterranean shrubland biome [ENVO:01000217]', '____mediterranean woodland biome [ENVO:01000208]', '__subtropical woodland biome [ENVO:01000222]', '__subtropical shrubland biome [ENVO:01000213]', '__subtropical savanna biome [ENVO:01000187]', 'temperate biome [ENVO:01001831]', '__temperate woodland biome [ENVO:01000221]', '__temperate shrubland biome [ENVO:01000215]', '__temperate savanna biome [ENVO:01000189]', 'tropical biome [ENVO:01001830]', '__tropical woodland biome [ENVO:01000220]', '__tropical shrubland biome [ENVO:01000214]', '__tropical savanna biome [ENVO:01000188]', 'polar biome [ENVO:01000339]', 'terrestrial biome [ENVO:00000446]', '__anthropogenic terrestrial biome [ENVO:01000219]', '____dense settlement biome [ENVO:01000248]', '______urban biome [ENVO:01000249]', '____rangeland biome [ENVO:01000247]', '____village biome [ENVO:01000246]', '__mangrove biome [ENVO:01000181]', '__tundra biome [ENVO:01000180]', '____alpine tundra biome [ENVO:01001505]', '__shrubland biome [ENVO:01000176]', '____tidal mangrove shrubland [ENVO:01001369]', '____xeric shrubland biome [ENVO:01000218]', '____montane shrubland biome [ENVO:01000216]', '____temperate shrubland biome [ENVO:01000215]', '____tropical shrubland biome [ENVO:01000214]', '____subtropical shrubland biome [ENVO:01000213]', '______mediterranean shrubland biome [ENVO:01000217]', '__woodland biome [ENVO:01000175]', '____subtropical woodland biome [ENVO:01000222]', '______mediterranean woodland biome [ENVO:01000208]', '____temperate woodland biome [ENVO:01000221]', '____tropical woodland biome [ENVO:01000220]', '____savanna biome [ENVO:01000178]', '______montane savanna biome [ENVO:01000223]', '______flooded savanna biome [ENVO:01000190]', '______temperate savanna biome [ENVO:01000189]', '______tropical savanna biome [ENVO:01000188]', '______subtropical savanna biome [ENVO:01000187]', '________mediterranean savanna biome [ENVO:01000229]']\n"
     ]
    }
   ],
   "execution_count": 45
  },
  {
   "cell_type": "code",
   "id": "79282f64358e1608",
   "metadata": {
    "ExecuteTime": {
     "end_time": "2024-12-06T13:21:55.366302Z",
     "start_time": "2024-12-06T13:21:55.363514Z"
    }
   },
   "source": [
    "initially_parsed_context_pvs = parse_hierarchically_underscored_strings(context_pvs_keys)"
   ],
   "outputs": [],
   "execution_count": 46
  },
  {
   "cell_type": "code",
   "id": "5a9492fa605534f2",
   "metadata": {
    "ExecuteTime": {
     "end_time": "2024-12-06T13:22:00.008086Z",
     "start_time": "2024-12-06T13:22:00.005116Z"
    }
   },
   "source": [
    "deduped_context_pvs = dedupe_underscoreless_pvs(initially_parsed_context_pvs)"
   ],
   "outputs": [],
   "execution_count": 47
  },
  {
   "cell_type": "code",
   "id": "214c2e6c9a7089a8",
   "metadata": {
    "jupyter": {
     "is_executing": true
    }
   },
   "source": [
    "pv_validation_results = validate_curie_label_list_dict(deduped_context_pvs, envo_adapter, print_flag=True)"
   ],
   "outputs": [],
   "execution_count": null
  },
  {
   "cell_type": "code",
   "id": "e84872aa4f8a9313",
   "metadata": {},
   "source": [
    "pv_validation_results"
   ],
   "outputs": [],
   "execution_count": null
  },
  {
   "cell_type": "markdown",
   "id": "363063c37a433d70",
   "metadata": {},
   "source": [
    "----"
   ]
  },
  {
   "cell_type": "code",
   "id": "656e23e9eab154b0",
   "metadata": {},
   "source": [
    "# todo rename to all_nmdc_samples etc\n",
    "all_nmdc_biosamples = get_docs_from_nmdc_collection(NMDC_RUNTIME_BASE_URL,\n",
    "                                               BIOSAMPLE_SET_COLLECTION)  # Example with stop_after\n",
    "\n",
    "# ~ 1 minute\n",
    "# how long would saving and restoring to a file take?\n",
    "# YAML is pretty but that would be the slowest\n",
    "# try JSON\n",
    "# pre-filter to only include the fields we need?\n",
    "\n",
    "# todo cache this as a file"
   ],
   "outputs": [],
   "execution_count": null
  },
  {
   "cell_type": "code",
   "id": "47c500057aa4624d",
   "metadata": {},
   "source": [
    "# # todo I don't think we're actually using this\n",
    "# all_studies = get_docs_from_nmdc_collection(NMDC_RUNTIME_BASE_URL, STUDY_SET_COLLECTION)  # Example with stop_after"
   ],
   "outputs": [],
   "execution_count": null
  },
  {
   "cell_type": "code",
   "id": "6a17544640272855",
   "metadata": {},
   "source": [
    "env_pacakge_overrides = tsv_to_dict_of_dicts(env_package_override_file, 'id')"
   ],
   "outputs": [],
   "execution_count": null
  },
  {
   "cell_type": "code",
   "id": "66c61cf229a6545c",
   "metadata": {},
   "source": [
    "# todo show env_pacakge_overrides as a data frame\n",
    "#   with some other columns for context?"
   ],
   "outputs": [],
   "execution_count": null
  },
  {
   "cell_type": "code",
   "id": "7045884ea68d0351",
   "metadata": {},
   "source": [
    "biosample_contexts_lod = biosamples_lod_context_extractor(all_nmdc_biosamples, envo_adapter,\n",
    "                                                          my_env_pacakge_overrides=env_pacakge_overrides)\n",
    "\n",
    "# ~ 10 seconds, lots of logging"
   ],
   "outputs": [],
   "execution_count": null
  },
  {
   "cell_type": "code",
   "id": "7cf668c88434c41e",
   "metadata": {},
   "source": [
    "nmdc_biosample_contexts_frame = pd.DataFrame(biosample_contexts_lod)"
   ],
   "outputs": [],
   "execution_count": null
  },
  {
   "cell_type": "code",
   "id": "77e340a7962f23a6",
   "metadata": {},
   "source": [
    "# print a value count for the normalized_env_package column\n",
    "print(\"Value counts for normalized_env_package column:\")\n",
    "print(nmdc_biosample_contexts_frame['normalized_env_package'].value_counts(dropna=False))"
   ],
   "outputs": [],
   "execution_count": null
  },
  {
   "cell_type": "code",
   "id": "5980aef19fb86ae4",
   "metadata": {},
   "source": [
    "package_predictions = predict_from_normalized_env_packages(nmdc_biosample_contexts_frame, envo_adapter)\n",
    "\n",
    "# these predictions often have a f1 of 1.00\n",
    "# many people might find that hard to believe"
   ],
   "outputs": [],
   "execution_count": null
  },
  {
   "cell_type": "code",
   "id": "e151c95fe349df93",
   "metadata": {},
   "source": [
    "nmdc_biosample_contexts_frame['predicted_env_package'] = package_predictions"
   ],
   "outputs": [],
   "execution_count": null
  },
  {
   "cell_type": "code",
   "id": "d5c6aa902c7187e0",
   "metadata": {},
   "source": [
    "nmdc_biosample_contexts_frame.shape"
   ],
   "outputs": [],
   "execution_count": null
  },
  {
   "cell_type": "code",
   "id": "2b241bcacf4bb100",
   "metadata": {},
   "source": [
    "nmdc_biosample_contexts_frame = nmdc_biosample_contexts_frame[\n",
    "    nmdc_biosample_contexts_frame['predicted_env_package'] == nmdc_package_selector]"
   ],
   "outputs": [],
   "execution_count": null
  },
  {
   "cell_type": "code",
   "id": "9045896aa4ea468f",
   "metadata": {},
   "source": [
    "nmdc_biosample_contexts_frame.shape"
   ],
   "outputs": [],
   "execution_count": null
  },
  {
   "cell_type": "markdown",
   "id": "aee7b4eea48a8691",
   "metadata": {},
   "source": [
    "----"
   ]
  },
  {
   "cell_type": "code",
   "id": "3be362b73dbda47a",
   "metadata": {},
   "source": [
    "ncbi_frame = ncbi_conn.execute(ncbi_query).fetchdf()"
   ],
   "outputs": [],
   "execution_count": null
  },
  {
   "cell_type": "code",
   "id": "306ee79ce77f745e",
   "metadata": {},
   "source": [
    "ncbi_frame.insert(0, 'serial_number', range(1, len(ncbi_frame) + 1))"
   ],
   "outputs": [],
   "execution_count": null
  },
  {
   "cell_type": "code",
   "id": "6f06a6237f0ecdb",
   "metadata": {},
   "source": [
    "# includes values with counts of one... useful for discovering drag-down submissions?"
   ],
   "outputs": [],
   "execution_count": null
  },
  {
   "cell_type": "code",
   "id": "f07e55ebd0f4c451",
   "metadata": {},
   "source": [
    "ncbi_frame['content_list'] = ncbi_frame['content'].str.split('|')"
   ],
   "outputs": [],
   "execution_count": null
  },
  {
   "metadata": {},
   "cell_type": "code",
   "source": [
    "## diagnostically useful, but why are we saving this and not all of the intermediate dataframes?\n",
    "# ncbi_frame.to_csv(\"ncbi_frame.tsv\", sep=\"\\t\", index=False)"
   ],
   "id": "d3ac8df29eb8fc8",
   "outputs": [],
   "execution_count": null
  },
  {
   "metadata": {},
   "cell_type": "code",
   "source": [
    "# todo is there any reason to not do this ?\n",
    "ncbi_frame = ncbi_frame[ncbi_frame['content'].notna() & (ncbi_frame['content'] != '')]"
   ],
   "id": "2e96404aa5dd0f7b",
   "outputs": [],
   "execution_count": null
  },
  {
   "cell_type": "code",
   "id": "f8c2e13cee8818cb",
   "metadata": {},
   "source": [
    "ncbi_frame['content_count'] = ncbi_frame['content_list'].apply(len)"
   ],
   "outputs": [],
   "execution_count": null
  },
  {
   "cell_type": "code",
   "id": "edeaac7b5ce53cd5",
   "metadata": {},
   "source": [
    "ncbi_frame.shape"
   ],
   "outputs": [],
   "execution_count": null
  },
  {
   "cell_type": "code",
   "id": "18860251fea32ee5",
   "metadata": {},
   "source": [
    "ncbi_frame = ncbi_frame.explode('content_list').reset_index(drop=True)"
   ],
   "outputs": [],
   "execution_count": null
  },
  {
   "cell_type": "code",
   "id": "bc8b89960c12f6e6",
   "metadata": {},
   "source": [
    "ncbi_frame.shape"
   ],
   "outputs": [],
   "execution_count": null
  },
  {
   "cell_type": "code",
   "id": "85a0a4ccd63b7952",
   "metadata": {},
   "source": [
    "# how many content_list strings contain envo multiple times now?"
   ],
   "outputs": [],
   "execution_count": null
  },
  {
   "cell_type": "code",
   "id": "4dee374026c8272a",
   "metadata": {},
   "source": [
    "ncbi_frame['envo_count'] = ncbi_frame['content_list'].str.lower().str.count(\"envo\")"
   ],
   "outputs": [],
   "execution_count": null
  },
  {
   "cell_type": "code",
   "id": "417319d62ef07d0b",
   "metadata": {},
   "source": [
    "ncbi_frame['envo_count'].value_counts()"
   ],
   "outputs": [],
   "execution_count": null
  },
  {
   "cell_type": "markdown",
   "id": "5cf708305c445b4a",
   "metadata": {},
   "source": [
    "doesn't split multiple annotation strings delimited with something other than '|'\n",
    "annotations with no curies but multiple strings will be \"annotated\" with OAK, but currently only the one best OAK annotation is kept"
   ]
  },
  {
   "cell_type": "code",
   "id": "7b256380eceaceaa",
   "metadata": {},
   "source": [
    "ncbi_frame[['extracted_label', 'extracted_curie']] = ncbi_frame['content_list'].apply(parse_curie_label)"
   ],
   "outputs": [],
   "execution_count": null
  },
  {
   "cell_type": "code",
   "id": "761e39ab29aef0a7",
   "metadata": {},
   "source": [
    "parse_failures = ncbi_frame[\n",
    "    (ncbi_frame['envo_count'] > 0) & (ncbi_frame['extracted_curie'].isna() | (ncbi_frame['extracted_curie'] == ''))]\n"
   ],
   "outputs": [],
   "execution_count": null
  },
  {
   "cell_type": "code",
   "id": "a9316f11da9ee0c8",
   "metadata": {},
   "source": [
    "parse_failures"
   ],
   "outputs": [],
   "execution_count": null
  },
  {
   "metadata": {},
   "cell_type": "markdown",
   "source": "Should we try parsing on additional CURIE delimiters? Or no delimiter?\n",
   "id": "4041748e969c8f3f"
  },
  {
   "cell_type": "code",
   "id": "9bdebd91856ff679",
   "metadata": {},
   "source": [
    "ncbi_frame['real_label'] = ncbi_frame['extracted_curie'].apply(envo_adapter.label)"
   ],
   "outputs": [],
   "execution_count": null
  },
  {
   "cell_type": "code",
   "id": "d06d899567db022e",
   "metadata": {},
   "source": [
    "# Apply the annotation function to each row in the 'label' column\n",
    "ncbi_frame['longest_annotation_curie'] = ncbi_frame['extracted_label'].apply(\n",
    "    lambda x: get_longest_annotation_curie(x, envo_adapter, MIN_ANNOTATION_LEN))\n",
    "\n",
    "# this cell only takes ~ 1 minute, but generates a lot of \"ERRORS\" and WARNINGS in a red fornt\n",
    "#   while loading the ontologies that are used for annotating\n"
   ],
   "outputs": [],
   "execution_count": null
  },
  {
   "cell_type": "code",
   "id": "2d0d090813223db3",
   "metadata": {},
   "source": [
    "ncbi_frame['longest_annotation_label'] = ncbi_frame['longest_annotation_curie'].apply(envo_adapter.label)"
   ],
   "outputs": [],
   "execution_count": null
  },
  {
   "cell_type": "code",
   "id": "940cd4e688adb239",
   "metadata": {},
   "source": [
    "ncbi_frame"
   ],
   "outputs": [],
   "execution_count": null
  },
  {
   "metadata": {},
   "cell_type": "code",
   "source": [
    "if os.path.isfile(gold_data_file_name):\n",
    "    print(f\"{gold_data_file_name} is already present in the current working directory.\")\n",
    "else:\n",
    "    print(f\"{gold_data_file_name} needs to be downloaded\")\n",
    "    gold_response = requests.get(gold_data_url)\n",
    "    with open(gold_data_file_name, \"wb\") as f:\n",
    "        f.write(gold_response.content)\n",
    "        # ~ 10 seconds  @ 250 Mbps"
   ],
   "id": "8de124964756a131",
   "outputs": [],
   "execution_count": null
  },
  {
   "metadata": {},
   "cell_type": "markdown",
   "source": [
    "Expect to see\n",
    "\n",
    "> /home/mark/.cache/pypoetry/virtualenvs/nmdc-submission-schema-DC6HKp4p-py3.10/lib/python3.10/site-packages/openpyxl/styles/stylesheet.py:237: UserWarning: Workbook contains no default style, apply openpyxl's default\n",
    "  warn(\"Workbook contains no default style, apply openpyxl's default\")"
   ],
   "id": "590bfd050233cda1"
  },
  {
   "metadata": {},
   "cell_type": "code",
   "source": [
    "if os.path.isfile(gold_csv_file_name):\n",
    "    print(f\"{gold_csv_file_name} is present in the current working directory and will be parsed into gold_biosamples_frame.\")\n",
    "    gold_biosamples_frame = pd.read_csv(gold_csv_file_name, sep=\"\\t\")\n",
    "else:\n",
    "    print(f\"gold_biosamples_frame and {gold_csv_file_name} need to be created\")\n",
    "    gold_biosamples_frame = pd.read_excel(gold_data_file_name, sheet_name=BIOSAMPLES_SHEET)\n",
    "    gold_biosamples_frame.to_csv(\"gold_biosamples.csv\", index=False, sep=\"\\t\")\n",
    "    # 2 minutes"
   ],
   "id": "b2bded0c859cfdb7",
   "outputs": [],
   "execution_count": null
  },
  {
   "cell_type": "code",
   "id": "fb292efb113d881a",
   "metadata": {},
   "source": [
    "gold_biosamples_frame['BIOSAMPLE ECOSYSTEM PATH ID'] = gold_biosamples_frame['BIOSAMPLE ECOSYSTEM PATH ID'].fillna(\n",
    "    0).astype(int)\n"
   ],
   "outputs": [],
   "execution_count": null
  },
  {
   "cell_type": "code",
   "id": "ca3110d5a0a1fa80",
   "metadata": {},
   "source": [
    "gold_biosamples_frame"
   ],
   "outputs": [],
   "execution_count": null
  },
  {
   "cell_type": "code",
   "id": "40f8fc6862a817f3",
   "metadata": {},
   "source": [
    "# Determine the filenames and target directory\n",
    "goldterms_compressed_filename = urlparse(goldterms_semsql_url).path.split('/')[-1]\n",
    "goldterms_filename = os.path.splitext(goldterms_compressed_filename)[0]\n",
    "target_dir = os.path.join(\"..\", \"..\")  # Two levels up\n",
    "\n",
    "# Print to confirm the filenames\n",
    "print(goldterms_filename)"
   ],
   "outputs": [],
   "execution_count": null
  },
  {
   "cell_type": "code",
   "id": "784c07d7b6bee4c2",
   "metadata": {},
   "source": [
    "# Fetch the contents from the URL and save compressed file in target directory\n",
    "goldterms_response = requests.get(goldterms_semsql_url)\n",
    "goldterms_compressed_file_path = os.path.join(target_dir, goldterms_compressed_filename)\n",
    "with open(goldterms_compressed_file_path, \"wb\") as f:\n",
    "    f.write(goldterms_response.content)\n",
    "    \n",
    "# ~ 1 second"
   ],
   "outputs": [],
   "execution_count": null
  },
  {
   "cell_type": "code",
   "id": "cd765130d59cd026",
   "metadata": {},
   "source": [
    "# Unzip the compressed file and save the extracted file in target directory\n",
    "goldterms_uncompressed_file_path = os.path.join(target_dir, goldterms_filename)\n",
    "with gzip.open(goldterms_compressed_file_path, \"rb\") as f_in:\n",
    "    with open(goldterms_uncompressed_file_path, \"wb\") as f_out:\n",
    "        shutil.copyfileobj(f_in, f_out)\n",
    "\n",
    "# ~ 1 second"
   ],
   "outputs": [],
   "execution_count": null
  },
  {
   "metadata": {},
   "cell_type": "code",
   "source": "# that's all fast. don't bother caching",
   "id": "fd2fab3ddcf862ce",
   "outputs": [],
   "execution_count": null
  },
  {
   "cell_type": "code",
   "id": "dcf847a3c2ed302d",
   "metadata": {},
   "source": [
    "goldterms_conn = sqlite3.connect(goldterms_uncompressed_file_path)"
   ],
   "outputs": [],
   "execution_count": null
  },
  {
   "cell_type": "code",
   "id": "cd5b0875ee9410c6",
   "metadata": {},
   "source": [
    "goldterms_subjects = pd.read_sql_query(goldterms_subclass_query, goldterms_conn)"
   ],
   "outputs": [],
   "execution_count": null
  },
  {
   "cell_type": "code",
   "id": "b35003035f6c1833",
   "metadata": {},
   "source": [
    "goldterms_subjects['path_id'] = goldterms_subjects['subject'].str.extract(r'GOLDTERMS:(\\d+)')"
   ],
   "outputs": [],
   "execution_count": null
  },
  {
   "cell_type": "code",
   "id": "afaaf46c3a83dc3e",
   "metadata": {},
   "source": [
    "goldterms_subjects"
   ],
   "outputs": [],
   "execution_count": null
  },
  {
   "cell_type": "code",
   "id": "6d8f2db9770e83b7",
   "metadata": {},
   "source": [
    "gold_path_ids = goldterms_subjects['path_id'].dropna().unique().tolist()\n",
    "gold_path_ids = [int(my_id) for my_id in gold_path_ids]\n"
   ],
   "outputs": [],
   "execution_count": null
  },
  {
   "cell_type": "code",
   "id": "2d78193b734e2ab4",
   "metadata": {},
   "source": [
    "gold_env_filtered_biosamples_frame = gold_biosamples_frame[\n",
    "    gold_biosamples_frame['BIOSAMPLE ECOSYSTEM PATH ID'].isin(gold_path_ids)]\n"
   ],
   "outputs": [],
   "execution_count": null
  },
  {
   "cell_type": "code",
   "id": "3f24e8a82845de52",
   "metadata": {},
   "source": [
    "gold_env_filtered_biosamples_frame"
   ],
   "outputs": [],
   "execution_count": null
  },
  {
   "cell_type": "code",
   "id": "22c7f8e126e96aab",
   "metadata": {},
   "source": [
    "goldterms_context_frame = pd.read_sql_query(goldterms_envo_query, goldterms_conn)"
   ],
   "outputs": [],
   "execution_count": null
  },
  {
   "cell_type": "code",
   "id": "3157b066b1c6e2cf",
   "metadata": {},
   "source": [
    "goldterms_context_frame['object_label'] = goldterms_context_frame['object'].apply(envo_adapter.label)"
   ],
   "outputs": [],
   "execution_count": null
  },
  {
   "cell_type": "code",
   "id": "d60306a6490fdd6a",
   "metadata": {},
   "source": [
    "goldterms_context_frame['path_id'] = goldterms_context_frame['subject'].str.extract(r'GOLDTERMS:(\\d+)')"
   ],
   "outputs": [],
   "execution_count": null
  },
  {
   "cell_type": "code",
   "id": "93391b53436ba5b",
   "metadata": {},
   "source": [
    "goldterms_context_frame"
   ],
   "outputs": [],
   "execution_count": null
  },
  {
   "cell_type": "code",
   "id": "beb2e0a9c669a366",
   "metadata": {},
   "source": [
    "# Fill NaN values in 'BIOSAMPLE ECOSYSTEM PATH ID' with 0 and convert to int\n",
    "gold_env_filtered_biosamples_frame['BIOSAMPLE ECOSYSTEM PATH ID'] = gold_env_filtered_biosamples_frame[\n",
    "    'BIOSAMPLE ECOSYSTEM PATH ID'].fillna(0).astype(int)\n",
    "\n",
    "# Drop rows with NaN in 'path_id' in goldterms_context_frame\n",
    "goldterms_context_frame = goldterms_context_frame.dropna(subset=['path_id'])\n",
    "\n",
    "# Convert 'path_id' to int\n",
    "goldterms_context_frame['path_id'] = goldterms_context_frame['path_id'].astype(int)\n",
    "\n",
    "# Perform the left merge\n",
    "gold_env_filtered_biosamples_with_inferred = gold_env_filtered_biosamples_frame.merge(\n",
    "    goldterms_context_frame,\n",
    "    left_on='BIOSAMPLE ECOSYSTEM PATH ID',\n",
    "    right_on='path_id',\n",
    "    how='left'\n",
    ")\n"
   ],
   "outputs": [],
   "execution_count": null
  },
  {
   "cell_type": "code",
   "id": "bac06360f067d3c0",
   "metadata": {},
   "source": [
    "gold_env_filtered_biosamples_with_inferred"
   ],
   "outputs": [],
   "execution_count": null
  },
  {
   "metadata": {},
   "cell_type": "markdown",
   "source": "# GOLDTERMS only approach",
   "id": "8c66c02b62dbcf22"
  },
  {
   "metadata": {},
   "cell_type": "code",
   "source": "goldterms_result = pd.read_sql_query(extension_query, goldterms_conn)",
   "id": "beacc603e5db48b3",
   "outputs": [],
   "execution_count": null
  },
  {
   "metadata": {},
   "cell_type": "code",
   "source": "goldterms_result",
   "id": "85e373122e14f6dc",
   "outputs": [],
   "execution_count": null
  },
  {
   "metadata": {},
   "cell_type": "code",
   "source": [
    "# # todo: save this kind of content before subsetting on an environment\n",
    "# #   the subsetting is currently baked into the query\n",
    "# \n",
    "# # see also goldterms_queries.ipynb in MAM's Collab\n",
    "# goldterms_result.to_csv(\"goldterms_single_environment_mappings_long.tsv\", sep=\"\\t\", index=False)"
   ],
   "id": "859a87109b08d83c",
   "outputs": [],
   "execution_count": null
  },
  {
   "metadata": {},
   "cell_type": "code",
   "source": "goldterms_only_curies = goldterms_result.loc[goldterms_result['predicate'] == gold_context_selector, 'content']\n",
   "id": "391d1fb9314d4b0b",
   "outputs": [],
   "execution_count": null
  },
  {
   "metadata": {},
   "cell_type": "code",
   "source": "goldterms_only_curies = goldterms_only_curies.unique().tolist()",
   "id": "b5621477ccaaa761",
   "outputs": [],
   "execution_count": null
  },
  {
   "metadata": {},
   "cell_type": "code",
   "source": "goldterms_only_curies",
   "id": "70238d1c8e144cc3",
   "outputs": [],
   "execution_count": null
  },
  {
   "cell_type": "markdown",
   "id": "8541580a525201e3",
   "metadata": {},
   "source": [
    "----"
   ]
  },
  {
   "metadata": {},
   "cell_type": "code",
   "source": [
    "anchor_curies = list(anchor_descendants_frame['curie'])\n",
    "legacy_pv_curies = [i['curie'] for i in pv_validation_results['valids']]\n",
    "\n",
    "biome_curies = list(envo_adapter.descendants(BIOME, predicates=[IS_A])) # \n",
    "terrestrial_biome_curies = list(envo_adapter.descendants(TERRESTRIAL_BIOME, predicates=[IS_A]))\n",
    "aquatic_biome_curies = list(envo_adapter.descendants(AQUATIC_BIOME, predicates=[IS_A]))\n",
    "abp_curies = list(envo_adapter.descendants(ABP, predicates=[IS_A]))\n",
    "env_sys_curies = list(envo_adapter.descendants(ENVIRONMENTAL_SYSTEM, predicates=[IS_A]))\n",
    "env_mat_curies = list(envo_adapter.descendants(ENVIRONMENTAL_MATERIAL, predicates=[IS_A]))\n",
    "obsoletes_curies = list(envo_adapter.obsoletes())"
   ],
   "id": "beb69545a9255099",
   "outputs": [],
   "execution_count": null
  },
  {
   "metadata": {},
   "cell_type": "code",
   "source": "include_in_rows = set()",
   "id": "20a9dcc52b995762",
   "outputs": [],
   "execution_count": null
  },
  {
   "metadata": {},
   "cell_type": "code",
   "source": "include_in_rows.update(anchor_curies)",
   "id": "2c3e280c36ed9b91",
   "outputs": [],
   "execution_count": null
  },
  {
   "metadata": {},
   "cell_type": "code",
   "source": "include_in_rows.update(legacy_pv_curies)",
   "id": "422c62627b450632",
   "outputs": [],
   "execution_count": null
  },
  {
   "metadata": {},
   "cell_type": "code",
   "source": "include_in_rows.update(nmdc_biosample_contexts_frame[nmdc_context_selector])",
   "id": "e279a2edf1fa4935",
   "outputs": [],
   "execution_count": null
  },
  {
   "metadata": {},
   "cell_type": "code",
   "source": "include_in_rows.update(ncbi_frame['extracted_curie'])",
   "id": "7e4be4b7ae64e990",
   "outputs": [],
   "execution_count": null
  },
  {
   "metadata": {},
   "cell_type": "code",
   "source": "include_in_rows.update(ncbi_frame['longest_annotation_curie'])",
   "id": "2cd900624cfce1ec",
   "outputs": [],
   "execution_count": null
  },
  {
   "metadata": {},
   "cell_type": "code",
   "source": "include_in_rows.update(gold_env_filtered_biosamples_with_inferred['object'])",
   "id": "9790ec48f41afe79",
   "outputs": [],
   "execution_count": null
  },
  {
   "metadata": {},
   "cell_type": "code",
   "source": "rows_lod = []",
   "id": "f7a6fb9413f45298",
   "outputs": [],
   "execution_count": null
  },
  {
   "cell_type": "code",
   "id": "32f278db05c57616",
   "metadata": {},
   "source": [
    "for curie in include_in_rows:\n",
    "    if curie is None:\n",
    "        continue\n",
    "        \n",
    "    # ONCE AGAIN, assuming that EnvO is the only ontology we'll check against\n",
    "    current_ancestors = list(envo_adapter.ancestors(curie, predicates=[IS_A])) # vs legacy_pv_curies\n",
    "    ancestors_in_enum_count = len(set(current_ancestors) & set(legacy_pv_curies))\n",
    "    \n",
    "    current_descendants  = list(envo_adapter.descendants(curie, predicates=[IS_A])) # vs legacy_pv_curies\n",
    "    descendants_in_enum_count  = len(set(current_descendants) & set(legacy_pv_curies))\n",
    "    \n",
    "    \n",
    "    row = {\n",
    "        'curie': curie,\n",
    "        'label': envo_adapter.label(curie),\n",
    "        'envo_native': False,\n",
    "        'obsolete': False,\n",
    "        comparison_enum_column_name: False,\n",
    "        'ancestors_in_enum_count': ancestors_in_enum_count,\n",
    "        'descendants_in_enum_count': descendants_in_enum_count,\n",
    "        'abp': False,\n",
    "        'env_sys': False,\n",
    "        'biome': False,\n",
    "        'terrestrial_biome': False,\n",
    "        'aquatic_biome': False,\n",
    "        'env_mat': False,\n",
    "        'goldterms_mappings': False,\n",
    "    }\n",
    "        \n",
    "    if curie in biome_curies:\n",
    "        row['biome'] = True\n",
    "    if curie in terrestrial_biome_curies:\n",
    "        row['terrestrial_biome'] = True\n",
    "    if curie in aquatic_biome_curies:\n",
    "        row['aquatic_biome'] = True\n",
    "    if curie in abp_curies:\n",
    "        row['abp'] = True\n",
    "    if curie in env_sys_curies:\n",
    "        row['env_sys'] = True\n",
    "    if curie in env_mat_curies:\n",
    "        row['env_mat'] = True\n",
    "    if curie in legacy_pv_curies:\n",
    "        row[comparison_enum_column_name] = True\n",
    "    if curie in obsoletes_curies:\n",
    "        row['obsolete'] = True\n",
    "    if curie in goldterms_only_curies:\n",
    "        row['goldterms_mappings'] = True\n",
    "        \n",
    "    try:\n",
    "        prefix, local_id = curie.split(':')\n",
    "        if prefix and prefix == 'ENVO' and row['label'] is not None:\n",
    "            row['envo_native'] = True\n",
    "    except Exception as e:\n",
    "        # Print the exception message\n",
    "        print(f\"An error occurred: {e} trying to split {curie}\")\n",
    "\n",
    "    rows_lod.append(row)\n",
    "\n",
    "# 2 minutes\n"
   ],
   "outputs": [],
   "execution_count": null
  },
  {
   "cell_type": "code",
   "id": "26bb62d21192288f",
   "metadata": {},
   "source": [
    "rows_frame = pd.DataFrame(rows_lod)"
   ],
   "outputs": [],
   "execution_count": null
  },
  {
   "cell_type": "code",
   "id": "4db3ebadb8a07a50",
   "metadata": {},
   "source": [
    "rows_frame"
   ],
   "outputs": [],
   "execution_count": null
  },
  {
   "cell_type": "code",
   "id": "88ebf6f76c2e0545",
   "metadata": {},
   "source": [
    "nmdc_biosample_scoped_counts = nmdc_biosample_contexts_frame[nmdc_context_selector].value_counts().reset_index()\n",
    "nmdc_biosample_scoped_counts.columns = ['curie', 'nmdc_scoped_count']\n"
   ],
   "outputs": [],
   "execution_count": null
  },
  {
   "cell_type": "code",
   "id": "85789ece9ec4ddd6",
   "metadata": {},
   "source": [
    "nmdc_biosample_scoped_counts"
   ],
   "outputs": [],
   "execution_count": null
  },
  {
   "cell_type": "code",
   "id": "329203aecb25f598",
   "metadata": {},
   "source": [
    "# Perform the left merge\n",
    "rows_frame = rows_frame.merge(\n",
    "    nmdc_biosample_scoped_counts,\n",
    "    left_on='curie',\n",
    "    right_on='curie',\n",
    "    how='left'\n",
    ")"
   ],
   "outputs": [],
   "execution_count": null
  },
  {
   "cell_type": "code",
   "id": "cff020dba8153cb2",
   "metadata": {},
   "source": [
    "gold_env_filtered_biosamples_with_inferred"
   ],
   "outputs": [],
   "execution_count": null
  },
  {
   "cell_type": "code",
   "id": "332592b73d143dc0",
   "metadata": {},
   "source": [
    "gold_biosample_scoped_counts = gold_env_filtered_biosamples_with_inferred['object'].value_counts().reset_index()\n",
    "gold_biosample_scoped_counts.columns = ['curie', 'gold_hybrid_count']"
   ],
   "outputs": [],
   "execution_count": null
  },
  {
   "cell_type": "code",
   "id": "57d16757b67e19a5",
   "metadata": {},
   "source": [
    "gold_biosample_scoped_counts"
   ],
   "outputs": [],
   "execution_count": null
  },
  {
   "cell_type": "code",
   "id": "65ab8871a20a93d2",
   "metadata": {},
   "source": [
    "# Perform the left merge\n",
    "rows_frame = rows_frame.merge(\n",
    "    gold_biosample_scoped_counts,\n",
    "    left_on='curie',\n",
    "    right_on='curie',\n",
    "    how='left'\n",
    ")"
   ],
   "outputs": [],
   "execution_count": null
  },
  {
   "cell_type": "code",
   "id": "8346fb59af8e61c6",
   "metadata": {},
   "source": [
    "rows_frame"
   ],
   "outputs": [],
   "execution_count": null
  },
  {
   "cell_type": "code",
   "id": "396c3f6005a31874",
   "metadata": {},
   "source": [
    "# 990 rows in https://docs.google.com/spreadsheets/d/12WH3eduBq2qSTy9zVF3n7fyajn6ssLZL/edit?gid=546570706#gid=546570706"
   ],
   "outputs": [],
   "execution_count": null
  },
  {
   "cell_type": "code",
   "id": "87a64ed7d57d81ee",
   "metadata": {},
   "source": [
    "# gold and ncbi counts are slightly trickier\n",
    "# for gold: including mappings only, mappings in hybrid with biosample counts. \n",
    "#    Switch to direct biosample counts of GOLD \"envo\" annotations?\n",
    "# ncbi: we have extracted curies and annotated curies"
   ],
   "outputs": [],
   "execution_count": null
  },
  {
   "cell_type": "code",
   "id": "951ca41984b81e7d",
   "metadata": {},
   "source": [
    "# todo move this stuff up to immediately after the creation of ncbi_frame ?\n",
    "\n",
    "# todo don't accept extracted curie if no real label?\n",
    "# any kind of string similarity checking for label of annotated curie vs extracted label ?\n",
    "# look for long runs of curies?\n",
    "# can we measure the beneficial impact of any of this? current crux: how to distribute counts\n",
    "\n",
    "ncbi_frame['curie_list'] = ncbi_frame.apply(\n",
    "    lambda my_row: list({my_row['extracted_curie'], my_row['longest_annotation_curie']} - {None}),\n",
    "    axis=1\n",
    ")\n",
    "\n",
    "ncbi_frame['unique_curie_count'] = ncbi_frame['curie_list'].apply(len)"
   ],
   "outputs": [],
   "execution_count": null
  },
  {
   "cell_type": "code",
   "id": "c7e3c6cfe93d4685",
   "metadata": {},
   "source": [
    "ncbi_frame"
   ],
   "outputs": [],
   "execution_count": null
  },
  {
   "cell_type": "code",
   "id": "349610c477ebf149",
   "metadata": {},
   "source": [
    "ncbi_frame['unique_curie_count'].value_counts()"
   ],
   "outputs": [],
   "execution_count": null
  },
  {
   "cell_type": "code",
   "id": "e6a8c0273f36e906",
   "metadata": {},
   "source": [
    "double_curie_frame = ncbi_frame[ncbi_frame['unique_curie_count'] > 1]"
   ],
   "outputs": [],
   "execution_count": null
  },
  {
   "cell_type": "code",
   "id": "334e7c646337a914",
   "metadata": {},
   "source": [
    "double_curie_frame = double_curie_frame[['extracted_curie', 'longest_annotation_curie']]"
   ],
   "outputs": [],
   "execution_count": null
  },
  {
   "cell_type": "code",
   "id": "874149830df3dd8a",
   "metadata": {},
   "source": [
    "double_curie_frame = double_curie_frame.drop_duplicates()"
   ],
   "outputs": [],
   "execution_count": null
  },
  {
   "cell_type": "code",
   "id": "cdfc0bda39f3ad6d",
   "metadata": {},
   "source": [
    "double_curie_frame[['extracted_prefix', 'extracted_local_id']] = double_curie_frame['extracted_curie'].str.split(':', expand=True)"
   ],
   "outputs": [],
   "execution_count": null
  },
  {
   "cell_type": "code",
   "id": "de6fcee63f6677d",
   "metadata": {},
   "source": [
    "double_curie_frame['extracted_local_id_int'] = pd.to_numeric(double_curie_frame['extracted_local_id'], errors='coerce').astype('Int64')"
   ],
   "outputs": [],
   "execution_count": null
  },
  {
   "cell_type": "code",
   "id": "fae831b04ed985ef",
   "metadata": {},
   "source": [
    "# Ensure extracted_local_id_int is unique and sorted\n",
    "unique_sorted_series = double_curie_frame['extracted_local_id_int'].dropna().drop_duplicates().sort_values()\n"
   ],
   "outputs": [],
   "execution_count": null
  },
  {
   "cell_type": "code",
   "id": "d244d7b150a3b413",
   "metadata": {},
   "source": [
    "# Find stretches\n",
    "stretches_dict = find_consecutive_stretches_dict(unique_sorted_series)\n",
    "\n",
    "# pprint.pprint(stretches_dict)"
   ],
   "outputs": [],
   "execution_count": null
  },
  {
   "cell_type": "code",
   "id": "2fda8122842f63c0",
   "metadata": {},
   "source": [
    "# Convert the stretches dictionary into a DataFrame\n",
    "stretches_df = stretches_dict_to_long_dataframe(stretches_dict)"
   ],
   "outputs": [],
   "execution_count": null
  },
  {
   "cell_type": "code",
   "id": "367abafc0ae13a6d",
   "metadata": {},
   "source": [
    "stretches_df"
   ],
   "outputs": [],
   "execution_count": null
  },
  {
   "cell_type": "code",
   "id": "8ee27ecc0697a5f5",
   "metadata": {},
   "source": [
    "# Perform the left merge\n",
    "double_curie_frame = double_curie_frame.merge(\n",
    "    stretches_df,\n",
    "    left_on='extracted_local_id_int',\n",
    "    right_on='value',\n",
    "    how='left'\n",
    ")"
   ],
   "outputs": [],
   "execution_count": null
  },
  {
   "cell_type": "code",
   "id": "59e278981b799f14",
   "metadata": {},
   "source": [
    "stretch_summary_df = summarize_stretch_groups(double_curie_frame)\n"
   ],
   "outputs": [],
   "execution_count": null
  },
  {
   "cell_type": "code",
   "id": "cee6e3ff1e1ca0d3",
   "metadata": {},
   "source": [
    "stretch_summary_df"
   ],
   "outputs": [],
   "execution_count": null
  },
  {
   "cell_type": "code",
   "id": "f47a58a1945943b8",
   "metadata": {},
   "source": [
    "# Perform the left merge\n",
    "double_curie_frame = double_curie_frame.merge(\n",
    "    stretch_summary_df,\n",
    "    left_on='stretch_id',\n",
    "    right_on='stretch_id',\n",
    "    how='left'\n",
    ")"
   ],
   "outputs": [],
   "execution_count": null
  },
  {
   "cell_type": "code",
   "id": "828f3be5ac6c0ab1",
   "metadata": {},
   "source": [
    "drag_evidence_frame = double_curie_frame[double_curie_frame['stretch_id'] >= 1]\n",
    "drag_evidence_frame = drag_evidence_frame[['extracted_curie', 'longest_annotation_curie']]\n",
    "drag_evidence_frame['drag_evidence'] = True"
   ],
   "outputs": [],
   "execution_count": null
  },
  {
   "cell_type": "code",
   "id": "9907b1472af8731b",
   "metadata": {},
   "source": [
    "drag_evidence_frame"
   ],
   "outputs": [],
   "execution_count": null
  },
  {
   "cell_type": "code",
   "id": "9873eb1bc3ea44e5",
   "metadata": {},
   "source": [
    "ncbi_frame = ncbi_frame.merge(\n",
    "    drag_evidence_frame,\n",
    "    left_on=['extracted_curie', 'longest_annotation_curie'],\n",
    "    right_on=['extracted_curie', 'longest_annotation_curie'],\n",
    "    how='left'\n",
    ")"
   ],
   "outputs": [],
   "execution_count": null
  },
  {
   "cell_type": "code",
   "id": "1d67b9e207b5531e",
   "metadata": {},
   "source": [
    "# Initialize dragless_curie_list with curie_list values\n",
    "ncbi_frame[\"dragless_curie_list\"] = ncbi_frame[\"curie_list\"]\n",
    "\n",
    "# Update dragless_curie_list based on the condition\n",
    "for index, row in ncbi_frame.iterrows():\n",
    "    if row[\"drag_evidence\"] is True:\n",
    "        if row[\"longest_annotation_curie\"] is not None:\n",
    "            ncbi_frame.at[index, \"dragless_curie_list\"] = [row[\"longest_annotation_curie\"]]\n",
    "        else:\n",
    "            ncbi_frame.at[index, \"dragless_curie_list\"] = []\n",
    "\n",
    "ncbi_frame['dragless_curie_count'] = ncbi_frame['dragless_curie_list'].apply(len)"
   ],
   "outputs": [],
   "execution_count": null
  },
  {
   "cell_type": "code",
   "id": "fb7469cd6900edd7",
   "metadata": {},
   "source": [
    "ncbi_frame['unique_curie_count'].value_counts()"
   ],
   "outputs": [],
   "execution_count": null
  },
  {
   "cell_type": "code",
   "id": "7626e42d5b746a2a",
   "metadata": {},
   "source": [
    "ncbi_frame['dragless_curie_count'].value_counts()"
   ],
   "outputs": [],
   "execution_count": null
  },
  {
   "cell_type": "code",
   "id": "bb3c0eeb8e919ac5",
   "metadata": {},
   "source": [
    "ncbi_frame.shape"
   ],
   "outputs": [],
   "execution_count": null
  },
  {
   "cell_type": "code",
   "id": "653df3ac622d4e95",
   "metadata": {},
   "source": [
    "ncbi_frame_undisputed = ncbi_frame[ncbi_frame['dragless_curie_count'] <= 1]"
   ],
   "outputs": [],
   "execution_count": null
  },
  {
   "cell_type": "code",
   "id": "2abdcbd301b484a9",
   "metadata": {},
   "source": [
    "ncbi_frame_undisputed.shape"
   ],
   "outputs": [],
   "execution_count": null
  },
  {
   "cell_type": "code",
   "id": "57d0c3c05e88ea1e",
   "metadata": {},
   "source": [
    "ncbi_frame_disputed = ncbi_frame[ncbi_frame['dragless_curie_count'] > 1]"
   ],
   "outputs": [],
   "execution_count": null
  },
  {
   "cell_type": "code",
   "id": "d0cf6796fedc7f8a",
   "metadata": {},
   "source": [
    "ncbi_frame_disputed.shape"
   ],
   "outputs": [],
   "execution_count": null
  },
  {
   "cell_type": "code",
   "id": "fe33fe1d6d2aad09",
   "metadata": {},
   "source": [
    "ncbi_frame_disputed = ncbi_frame_disputed.explode(\"dragless_curie_list\", ignore_index=True)\n"
   ],
   "outputs": [],
   "execution_count": null
  },
  {
   "cell_type": "code",
   "id": "f8fe49b93cb12990",
   "metadata": {},
   "source": [
    "ncbi_frame_disputed.shape"
   ],
   "outputs": [],
   "execution_count": null
  },
  {
   "cell_type": "code",
   "id": "6896ca8dd3865cb5",
   "metadata": {},
   "source": [
    "ncbi_frame_disputed[\"dragless_curie_list\"] = ncbi_frame_disputed[\"dragless_curie_list\"].apply(lambda x: [x])"
   ],
   "outputs": [],
   "execution_count": null
  },
  {
   "cell_type": "code",
   "id": "9a472d228624f148",
   "metadata": {},
   "source": [
    "# Combine the rows of ncbi_frame_undisputed and ncbi_frame_disputed into a new DataFrame\n",
    "ncbi_disputes_exploded_frame = pd.concat([ncbi_frame_undisputed, ncbi_frame_disputed], ignore_index=True)\n"
   ],
   "outputs": [],
   "execution_count": null
  },
  {
   "cell_type": "code",
   "id": "e772d6db19793ec5",
   "metadata": {},
   "source": [
    "ncbi_disputes_exploded_frame.shape"
   ],
   "outputs": [],
   "execution_count": null
  },
  {
   "cell_type": "code",
   "id": "ef0b5e69d724d94a",
   "metadata": {},
   "source": [
    "ncbi_disputes_exploded_frame"
   ],
   "outputs": [],
   "execution_count": null
  },
  {
   "cell_type": "code",
   "id": "be53a584475499b5",
   "metadata": {},
   "source": [
    "ncbi_disputes_exploded_frame['post_explode_curie_count'] = ncbi_disputes_exploded_frame['dragless_curie_list'].apply(len)"
   ],
   "outputs": [],
   "execution_count": null
  },
  {
   "cell_type": "code",
   "id": "e0c0605a4ca28188",
   "metadata": {},
   "source": [
    "ncbi_disputes_exploded_frame['post_explode_curie_count'].value_counts()"
   ],
   "outputs": [],
   "execution_count": null
  },
  {
   "cell_type": "code",
   "id": "396e48f3cea80587",
   "metadata": {},
   "source": [
    "# Set 'post_explode_curie' to the 0th item in 'dragless_curie_list'\n",
    "ncbi_disputes_exploded_frame[\"post_explode_curie\"] = ncbi_disputes_exploded_frame[\"dragless_curie_list\"].apply(\n",
    "    lambda x: x[0] if isinstance(x, list) and len(x) > 0 else None\n",
    ")"
   ],
   "outputs": [],
   "execution_count": null
  },
  {
   "cell_type": "code",
   "id": "1e488764b4212b75",
   "metadata": {},
   "source": [
    "\n",
    "ncbi_biosample_scoped_counts = (\n",
    "    ncbi_disputes_exploded_frame.groupby(\"post_explode_curie\")[\"sample_count\"].sum().reset_index()\n",
    ")\n",
    "\n",
    "ncbi_biosample_scoped_counts.columns = ['curie', 'ncbi_scoped_count']"
   ],
   "outputs": [],
   "execution_count": null
  },
  {
   "cell_type": "code",
   "id": "916cfcc3c7aa0d34",
   "metadata": {},
   "source": [
    "ncbi_biosample_scoped_counts"
   ],
   "outputs": [],
   "execution_count": null
  },
  {
   "cell_type": "code",
   "id": "f4d8dc1053a5bb7e",
   "metadata": {},
   "source": [
    "# Perform the left merge\n",
    "rows_frame = rows_frame.merge(\n",
    "    ncbi_biosample_scoped_counts,\n",
    "    left_on='curie',\n",
    "    right_on='curie',\n",
    "    how='left'\n",
    ")"
   ],
   "outputs": [],
   "execution_count": null
  },
  {
   "cell_type": "code",
   "id": "c608fca3a6ed19c4",
   "metadata": {},
   "source": [
    "rows_frame"
   ],
   "outputs": [],
   "execution_count": null
  },
  {
   "cell_type": "code",
   "id": "b7a26a1b879188a4",
   "metadata": {},
   "source": [
    "rows_frame.to_csv(output_file_name, sep=\"\\t\", index=False)"
   ],
   "outputs": [],
   "execution_count": null
  }
 ],
 "metadata": {
  "kernelspec": {
   "display_name": "Python 3 (ipykernel)",
   "language": "python",
   "name": "python3"
  },
  "language_info": {
   "codemirror_mode": {
    "name": "ipython",
    "version": 3
   },
   "file_extension": ".py",
   "mimetype": "text/x-python",
   "name": "python",
   "nbconvert_exporter": "python",
   "pygments_lexer": "ipython3",
   "version": "3.10.13"
  }
 },
 "nbformat": 4,
 "nbformat_minor": 5
}
