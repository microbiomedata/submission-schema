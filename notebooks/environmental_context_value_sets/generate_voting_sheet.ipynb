{
 "cells": [
  {
   "cell_type": "code",
   "id": "630126a7790cc3a7",
   "metadata": {
    "ExecuteTime": {
     "end_time": "2024-12-06T13:21:45.028135Z",
     "start_time": "2024-12-06T13:21:41.441702Z"
    }
   },
   "source": [
    "from common import *\n",
    "\n",
    "import gzip\n",
    "import os\n",
    "import shutil\n",
    "import sqlite3\n",
    "from urllib.parse import urlparse\n",
    "\n",
    "import duckdb\n",
    "import pandas as pd\n",
    "import requests\n",
    "from oaklib import get_adapter\n",
    "from oaklib.datamodels.vocabulary import IS_A\n",
    "from scipy.sparse import hstack\n",
    "from sklearn.ensemble import RandomForestClassifier\n",
    "from sklearn.metrics import classification_report\n",
    "from sklearn.model_selection import train_test_split\n",
    "\n",
    "import yaml\n"
   ],
   "outputs": [],
   "execution_count": 1
  },
  {
   "cell_type": "code",
   "id": "7b0ae730412c28ca",
   "metadata": {
    "ExecuteTime": {
     "end_time": "2024-12-06T13:21:45.036131Z",
     "start_time": "2024-12-06T13:21:45.032092Z"
    }
   },
   "source": [
    "print(\"verify output is being rendered\")"
   ],
   "outputs": [
    {
     "name": "stdout",
     "output_type": "stream",
     "text": [
      "verify output is being rendered\n"
     ]
    }
   ],
   "execution_count": 2
  },
  {
   "cell_type": "code",
   "id": "f952b5888d2c5f0d",
   "metadata": {
    "ExecuteTime": {
     "end_time": "2024-12-06T13:21:45.196865Z",
     "start_time": "2024-12-06T13:21:45.193569Z"
    }
   },
   "source": [
    "# Initialize cache dictionaries for predict_from_normalized_env_packages\n",
    "# todo how to move the definitions for function that use these globals? Or just use caching around the function?\n",
    "ancestor_cache = {}\n",
    "descendant_cache = {}"
   ],
   "outputs": [],
   "execution_count": 3
  },
  {
   "cell_type": "code",
   "id": "5001cbd978bbdd28",
   "metadata": {
    "ExecuteTime": {
     "end_time": "2024-12-06T13:21:45.246586Z",
     "start_time": "2024-12-06T13:21:45.243547Z"
    }
   },
   "source": [
    "# todo deal with circularity in env package prediction -> env triad reporting\n",
    "\n",
    "# todo this on-demand NCBI curie extraction and annotation recapitulates work that is being added to\n",
    "# https://portal.nersc.gov/project/m3408/biosamples_duckdb/\n",
    "# via \n",
    "#   although that doesn't detect auto-incremented curies from  spreadsheet dragging\n",
    "\n",
    "# todo if more caching is desired, it should probably take the form of saving dataframes for TSV\n",
    "\n",
    "# eventually, dig up a complete JSON gold biosample dump for non-hybrid biosample counts\n",
    "\n",
    "# overall run time (if NCBI biosamples and goldData are cached): ~ 10 minutes"
   ],
   "outputs": [],
   "execution_count": 4
  },
  {
   "cell_type": "markdown",
   "id": "2ef284816f7ce9d6",
   "metadata": {},
   "source": [
    "# Task Settings\n",
    "_For making a Soil env_broad_scale voting sheet vs a Sediment env_local_scale sheet, etc._\n",
    "\n",
    "todo: bundle these into dicts so they don't have to be modified independently and kept in sync with one another."
   ]
  },
  {
   "metadata": {
    "ExecuteTime": {
     "end_time": "2024-12-06T13:21:45.292970Z",
     "start_time": "2024-12-06T13:21:45.289944Z"
    }
   },
   "cell_type": "code",
   "source": "output_file_name = \"voting_sheets_output/soil_env_broad_scale_voting_sheet.tsv\"",
   "id": "90bf7256a956701d",
   "outputs": [],
   "execution_count": 5
  },
  {
   "metadata": {
    "ExecuteTime": {
     "end_time": "2024-12-06T13:21:45.338987Z",
     "start_time": "2024-12-06T13:21:45.335963Z"
    }
   },
   "cell_type": "code",
   "source": [
    "semantic_anchor = 'ENVO:00000428' # biome for env_broad_scale\n",
    "# semantic_anchor = 'ENVO:01000813' # astronomical body part \"abp\" for env_local_scale\n",
    "# semantic_anchor = 'ENVO:00010483' # environmental material for env_medium"
   ],
   "id": "95f7efc06f20987a",
   "outputs": [],
   "execution_count": 6
  },
  {
   "metadata": {
    "ExecuteTime": {
     "end_time": "2024-12-06T13:21:45.387151Z",
     "start_time": "2024-12-06T13:21:45.383027Z"
    }
   },
   "cell_type": "code",
   "source": [
    "plant_first_where = \"s1.value like 'host-associated > plants%'\"\n",
    "sediment_first_where = \"lower(s1.value) like 'environmental > aquatic%sediment%'\"\n",
    "soil_first_where = \"s1.value like 'environmental > terrestrial > soil%'\"\n",
    "water_first_where = \"s1.value like 'environmental > aquatic%' and lower(s1.value) not like '%sediment%'\""
   ],
   "id": "def7edf88043ac30",
   "outputs": [],
   "execution_count": 7
  },
  {
   "metadata": {},
   "cell_type": "markdown",
   "source": "## context selectors",
   "id": "51f51b3b88634488"
  },
  {
   "metadata": {
    "ExecuteTime": {
     "end_time": "2024-12-06T13:21:45.432887Z",
     "start_time": "2024-12-06T13:21:45.429902Z"
    }
   },
   "cell_type": "code",
   "source": [
    "gold_context_selector = 'mixs:env_broad'\n",
    "# gold_context_selector = 'mixs:env_local'\n",
    "# gold_context_selector = 'mixs:env_medium'"
   ],
   "id": "be00ed63d6472ead",
   "outputs": [],
   "execution_count": 8
  },
  {
   "metadata": {
    "ExecuteTime": {
     "end_time": "2024-12-06T13:21:45.479998Z",
     "start_time": "2024-12-06T13:21:45.476969Z"
    }
   },
   "cell_type": "code",
   "source": [
    "ncbi_context_selector = 'env_broad_scale'\n",
    "# ncbi_context_selector = 'env_local_scale'\n",
    "# ncbi_context_selector = 'env_medium'"
   ],
   "id": "7aa7b42c3f20ce44",
   "outputs": [],
   "execution_count": 9
  },
  {
   "metadata": {
    "ExecuteTime": {
     "end_time": "2024-12-06T13:21:45.527330Z",
     "start_time": "2024-12-06T13:21:45.524007Z"
    }
   },
   "cell_type": "code",
   "source": [
    "nmdc_context_selector= 'env_broad_scale_id'\n",
    "# nmdc_context_selector= 'env_local_scale_id'\n",
    "# nmdc_context_selector= 'env_medium_id'"
   ],
   "id": "ce80b2d7e64e5710",
   "outputs": [],
   "execution_count": 10
  },
  {
   "metadata": {},
   "cell_type": "markdown",
   "source": "## package aka environment aka extension selectors",
   "id": "2f0bdadeb5d32fa8"
  },
  {
   "metadata": {
    "ExecuteTime": {
     "end_time": "2024-12-06T13:21:45.574045Z",
     "start_time": "2024-12-06T13:21:45.571098Z"
    }
   },
   "cell_type": "code",
   "source": "gold_first_where = soil_first_where",
   "id": "8075741d803ff740",
   "outputs": [],
   "execution_count": 11
  },
  {
   "metadata": {
    "ExecuteTime": {
     "end_time": "2024-12-06T13:21:45.621358Z",
     "start_time": "2024-12-06T13:21:45.617894Z"
    }
   },
   "cell_type": "code",
   "source": [
    "# todo new since soil: why are we only considering MIMS.me for discovering appropriate env triad values?\n",
    "#   there's usually a roughly equal number of biosamples from in each extension for MIMS.me and \n",
    "\n",
    "# ncbi_package_selector = 'MIMS.me.plant-associated.6.0'\n",
    "# ncbi_package_selector = 'MIMS.me.sediment.6.0'\n",
    "# ncbi_package_selector = 'MIMS.me.soil.6.0'\n",
    "# ncbi_package_selector = 'MIMS.me.water.6.0'\n",
    "\n",
    "# ncbi_package_selector = 'MIMS.me.plant-associated.6.0'\n",
    "# ncbi_package_selector = 'MIMS.me.sediment.6.0'\n",
    "ncbi_package_selector = 'soil.6.0'\n",
    "# ncbi_package_selector = 'MIMS.me.water.6.0'"
   ],
   "id": "f5654d6f9319576b",
   "outputs": [],
   "execution_count": 12
  },
  {
   "metadata": {
    "ExecuteTime": {
     "end_time": "2024-12-06T13:21:45.668074Z",
     "start_time": "2024-12-06T13:21:45.664918Z"
    }
   },
   "cell_type": "code",
   "source": [
    "# nmdc_package_selector = 'plant-associated'\n",
    "# nmdc_package_selector = 'sediment'\n",
    "nmdc_package_selector = 'soil'\n",
    "# nmdc_package_selector = 'water'\n"
   ],
   "id": "5e358e42ad885188",
   "outputs": [],
   "execution_count": 13
  },
  {
   "metadata": {
    "ExecuteTime": {
     "end_time": "2024-12-06T13:21:45.714487Z",
     "start_time": "2024-12-06T13:21:45.710839Z"
    }
   },
   "cell_type": "code",
   "source": [
    "GOLDTERMS_NA = '' # ???\n",
    "\n",
    "GOLDTERMS_PLANT_ASSOCIATED = GOLDTERMS_NA # host associated -> viridiplantae? take a string approach!\n",
    "GOLDTERMS_SEDIMENT = 'GOLDTERMS:3985' #  doesn't have any subclasses\n",
    "GOLDTERMS_SOIL = 'GOLDTERMS:4212'\n",
    "GOLDTERMS_WATER = 'GOLDTERMS:3984'\n",
    "\n",
    "# GOLDTERMS:4180, 'Environmental > Aquatic > Freshwater > Pond > Sediment' and ~64 more don't share a common root\n",
    "# poetry run runoak -i sqlite:obo:goldterms info 't~sediment'\n"
   ],
   "id": "eda591e14a91cd01",
   "outputs": [],
   "execution_count": 14
  },
  {
   "metadata": {
    "ExecuteTime": {
     "end_time": "2024-12-06T13:21:45.761643Z",
     "start_time": "2024-12-06T13:21:45.758082Z"
    }
   },
   "cell_type": "code",
   "source": "goldterms_root = GOLDTERMS_SOIL",
   "id": "bba8bf1e75430ef",
   "outputs": [],
   "execution_count": 15
  },
  {
   "metadata": {},
   "cell_type": "markdown",
   "source": "## selecting name and version of one enum for comparison\n",
   "id": "394f96a70a95754f"
  },
  {
   "metadata": {
    "ExecuteTime": {
     "end_time": "2024-12-06T13:21:45.808090Z",
     "start_time": "2024-12-06T13:21:45.804959Z"
    }
   },
   "cell_type": "code",
   "source": [
    "# only the Soil enums have legacy definitions (v10.7 and earlier?)\n",
    "\n",
    "CONTEXT_ENUM = \"EnvBroadScaleSoilEnum\"\n",
    "# CONTEXT_ENUM = \"EnvLocalScaleSoilEnum\"\n",
    "# CONTEXT_ENUM = \"EnvMediumSoilEnum\"\n",
    "\n",
    "# CONTEXT_ENUM = \"\""
   ],
   "id": "20750df32ebb2033",
   "outputs": [],
   "execution_count": 16
  },
  {
   "metadata": {
    "ExecuteTime": {
     "end_time": "2024-12-06T13:21:45.855675Z",
     "start_time": "2024-12-06T13:21:45.852250Z"
    }
   },
   "cell_type": "code",
   "source": [
    "# todo: add columns for membership in multiple enums from multiple version of the schema?\n",
    "#  like sediment local vs soil local and water local (once that's completed)\n",
    "#  get them from schema files or something prior to that? sems like the voting sheets are too raw/preliminary for that\n",
    "#   can use a more recent schema url for more recent enums!\n",
    "\n",
    "previous_submission_schema_url = \"https://raw.githubusercontent.com/microbiomedata/submission-schema/v10.7.0/src/nmdc_submission_schema/schema/nmdc_submission_schema.yaml\"\n",
    "\n",
    "# previous_submission_schema_url = \"https://raw.githubusercontent.com/microbiomedata/submission-schema/refs/tags/v11.1.0/src/nmdc_submission_schema/schema/nmdc_submission_schema.yaml\""
   ],
   "id": "f588eccfcb2771ba",
   "outputs": [],
   "execution_count": 17
  },
  {
   "metadata": {
    "ExecuteTime": {
     "end_time": "2024-12-06T13:21:45.902806Z",
     "start_time": "2024-12-06T13:21:45.899845Z"
    }
   },
   "cell_type": "code",
   "source": [
    "# todo: don't call the column \"legacy_pv\". use the name of the enum and the version of the schema?\n",
    "\n",
    "comparison_enum_column_name = 'EnvBroadScaleSoilEnum_10_7'"
   ],
   "id": "e259066dee0973c4",
   "outputs": [],
   "execution_count": 18
  },
  {
   "metadata": {},
   "cell_type": "markdown",
   "source": "# Additional Settings",
   "id": "b799aabdd66098c0"
  },
  {
   "metadata": {
    "ExecuteTime": {
     "end_time": "2024-12-06T13:21:45.948814Z",
     "start_time": "2024-12-06T13:21:45.945823Z"
    }
   },
   "cell_type": "code",
   "source": [
    "# Approved prefixes (case-insensitive)\n",
    "approved_prefixes = ['ENVO']"
   ],
   "id": "50e39f658f4bd77b",
   "outputs": [],
   "execution_count": 19
  },
  {
   "metadata": {
    "ExecuteTime": {
     "end_time": "2024-12-06T13:21:45.994585Z",
     "start_time": "2024-12-06T13:21:45.991683Z"
    }
   },
   "cell_type": "code",
   "source": "MIN_ANNOTATION_LEN = 3",
   "id": "3aa0b52456f0a95c",
   "outputs": [],
   "execution_count": 20
  },
  {
   "cell_type": "code",
   "id": "d526be618b8b9129",
   "metadata": {
    "ExecuteTime": {
     "end_time": "2024-12-06T13:21:46.041207Z",
     "start_time": "2024-12-06T13:21:46.037843Z"
    }
   },
   "source": [
    "NMDC_RUNTIME_BASE_URL = 'https://api.microbiomedata.org/nmdcschema/'\n",
    "STUDY_SET_COLLECTION = 'study_set'\n",
    "BIOSAMPLE_SET_COLLECTION = 'biosample_set'"
   ],
   "outputs": [],
   "execution_count": 21
  },
  {
   "cell_type": "code",
   "id": "11c0cba800e33ac6",
   "metadata": {
    "ExecuteTime": {
     "end_time": "2024-12-06T13:21:46.087930Z",
     "start_time": "2024-12-06T13:21:46.084753Z"
    }
   },
   "source": [
    "envo_adapter_string = \"sqlite:obo:envo\""
   ],
   "outputs": [],
   "execution_count": 22
  },
  {
   "cell_type": "code",
   "id": "daf9f023fbf97cde",
   "metadata": {
    "ExecuteTime": {
     "end_time": "2024-12-06T13:21:46.134515Z",
     "start_time": "2024-12-06T13:21:46.131683Z"
    }
   },
   "source": [
    "# goldterms_adapter_string = \"sqlite:obo:envo\""
   ],
   "outputs": [],
   "execution_count": 23
  },
  {
   "cell_type": "code",
   "id": "7795121f47307a00",
   "metadata": {
    "ExecuteTime": {
     "end_time": "2024-12-06T13:21:46.180766Z",
     "start_time": "2024-12-06T13:21:46.177687Z"
    }
   },
   "source": [
    "env_package_override_file = 'mam-env-package-overrides.tsv'\n",
    "override_column = 'mam_inferred_env_package'"
   ],
   "outputs": [],
   "execution_count": 24
  },
  {
   "cell_type": "code",
   "id": "f1b99451d88ce356",
   "metadata": {
    "ExecuteTime": {
     "end_time": "2024-12-06T13:21:46.226644Z",
     "start_time": "2024-12-06T13:21:46.223730Z"
    }
   },
   "source": [
    "ncbi_duckdb_url = 'https://portal.nersc.gov/project/m3408/biosamples_duckdb/ncbi_biosamples_2024-09-23.duckdb.gz'"
   ],
   "outputs": [],
   "execution_count": 25
  },
  {
   "cell_type": "code",
   "id": "51e5d41b02b19eec",
   "metadata": {
    "ExecuteTime": {
     "end_time": "2024-12-06T13:21:46.272829Z",
     "start_time": "2024-12-06T13:21:46.269679Z"
    }
   },
   "source": [
    "gold_data_url = \"https://gold.jgi.doe.gov/download?mode=site_excel\"\n",
    "gold_data_file_name = \"goldData.xlsx\" # goldData.xlsx: Microsoft Excel 2007+\n",
    "gold_csv_file_name = \"gold_biosamples.csv\"\n",
    "BIOSAMPLES_SHEET = \"Biosample\""
   ],
   "outputs": [],
   "execution_count": 26
  },
  {
   "cell_type": "code",
   "id": "e1d9f705fad2efa9",
   "metadata": {
    "ExecuteTime": {
     "end_time": "2024-12-06T13:21:46.319901Z",
     "start_time": "2024-12-06T13:21:46.316997Z"
    }
   },
   "source": [
    "goldterms_semsql_url = \"https://s3.amazonaws.com/bbop-sqlite/goldterms.db.gz\"\n"
   ],
   "outputs": [],
   "execution_count": 27
  },
  {
   "metadata": {},
   "cell_type": "markdown",
   "source": "# CURIe Constants",
   "id": "16e21c18886a373c"
  },
  {
   "metadata": {
    "ExecuteTime": {
     "end_time": "2024-12-06T13:21:46.367130Z",
     "start_time": "2024-12-06T13:21:46.363809Z"
    }
   },
   "cell_type": "code",
   "source": [
    "BIOME = 'ENVO:00000428'\n",
    "TERRESTRIAL_BIOME = 'ENVO:00000446'\n",
    "AQUATIC_BIOME = 'ENVO:00002030'\n",
    "ABP = 'ENVO:01000813'\n",
    "ENVIRONMENTAL_SYSTEM = 'ENVO:01000254'\n",
    "ENVIRONMENTAL_MATERIAL = 'ENVO:00010483'"
   ],
   "id": "73e52103eb69bbcc",
   "outputs": [],
   "execution_count": 28
  },
  {
   "metadata": {},
   "cell_type": "markdown",
   "source": "# Settings-based Queries",
   "id": "7ecec14181910236"
  },
  {
   "cell_type": "code",
   "id": "4cdc7819c92bff3c",
   "metadata": {
    "ExecuteTime": {
     "end_time": "2024-12-06T13:21:46.412628Z",
     "start_time": "2024-12-06T13:21:46.409575Z"
    }
   },
   "source": [
    "goldterms_subclass_query = f\"\"\"\n",
    "select\n",
    "\tsubject\n",
    "from\n",
    "\tentailed_edge ee\n",
    "where\n",
    "\tpredicate = 'rdfs:subClassOf'\n",
    "\tand object = '{goldterms_root}'\n",
    "\"\"\""
   ],
   "outputs": [],
   "execution_count": 29
  },
  {
   "cell_type": "code",
   "id": "fb8c7caf28e64d10",
   "metadata": {
    "ExecuteTime": {
     "end_time": "2024-12-06T13:21:46.458781Z",
     "start_time": "2024-12-06T13:21:46.455670Z"
    }
   },
   "source": [
    "# todo could this have been done with a OAK query, eliminating the need to explicitly download the file?\n",
    "\n",
    "goldterms_envo_query = f\"\"\"\n",
    "SELECT\n",
    "\t*\n",
    "FROM\n",
    "\tstatements s\n",
    "WHERE\n",
    "\tpredicate = '{gold_context_selector}'\"\"\""
   ],
   "outputs": [],
   "execution_count": 30
  },
  {
   "cell_type": "code",
   "id": "afd52cf83301de09",
   "metadata": {
    "ExecuteTime": {
     "end_time": "2024-12-06T13:21:46.505140Z",
     "start_time": "2024-12-06T13:21:46.501919Z"
    }
   },
   "source": [
    "ncbi_query = f\"\"\"\n",
    "SELECT content, COUNT(1) AS sample_count \n",
    "FROM attributes \n",
    "WHERE harmonized_name = '{ncbi_context_selector}' AND package_content like '%{ncbi_package_selector}'\n",
    "GROUP BY content\n",
    "ORDER BY COUNT(1) DESC\n",
    "\"\"\""
   ],
   "outputs": [],
   "execution_count": 31
  },
  {
   "metadata": {
    "ExecuteTime": {
     "end_time": "2024-12-06T13:21:46.551266Z",
     "start_time": "2024-12-06T13:21:46.547899Z"
    }
   },
   "cell_type": "code",
   "source": [
    "# and s1.subject = s1.stanza eliminates matches on blank node anntoation rows (probably woudn't change results but adds a little overhead)\n",
    "\n",
    "extension_query = f\"\"\"\n",
    "select\n",
    "\t\ts1.subject ,\n",
    "\t\ts2.predicate,\n",
    "\t\tCOALESCE (s2.\"object\",\n",
    "\ts2.\"value\") as content\n",
    "from\n",
    "\tstatements s1\n",
    "join statements s2 on \n",
    "\ts1.subject = s2.subject\n",
    "where\n",
    "\t{gold_first_where}\n",
    "\tand s1.predicate = 'rdfs:label'\n",
    "\tand s1.subject = s1.stanza\n",
    "\tand s2.predicate in ('mixs:env_broad', 'mixs:env_local', 'mixs:env_medium', 'mixs:mixs_extension', 'rdfs:label', 'mixs:other', 'mixs:anatomical_site', 'mixs:host_taxon') ;\n",
    "\"\"\"\n",
    "\n",
    "# todo provide examples of sediment samples that are excluded by the requirement for aquatic"
   ],
   "id": "8cdd3e6e17a2bac3",
   "outputs": [],
   "execution_count": 32
  },
  {
   "metadata": {},
   "cell_type": "markdown",
   "source": [
    "# Locally Defined Functions\n",
    "_Currently using locally-defined cache dictionaries_"
   ],
   "id": "6c4cf0d065a7de07"
  },
  {
   "cell_type": "code",
   "id": "38412bd611726160",
   "metadata": {
    "ExecuteTime": {
     "end_time": "2024-12-06T13:21:46.602926Z",
     "start_time": "2024-12-06T13:21:46.595079Z"
    }
   },
   "source": [
    "def predict_from_normalized_env_packages(df_raw, adapter):\n",
    "    # Apply the function to the relevant columns\n",
    "\n",
    "    df = df_raw.copy()\n",
    "\n",
    "    print(df.shape)\n",
    "    for column in ['env_broad_scale_id', 'env_local_scale_id', 'env_medium_id']:\n",
    "        df[f'{column}_ancestors'] = df[column].apply(lambda x: get_hierarchy_terms(x, adapter)['ancestors'])\n",
    "        df[f'{column}_descendants'] = df[column].apply(lambda x: get_hierarchy_terms(x, adapter)['descendants'])\n",
    "\n",
    "    # Vectorize each set of terms separately\n",
    "    broad_scale_ancestors = vectorize_terms(df, 'env_broad_scale_id_ancestors')\n",
    "    broad_scale_descendants = vectorize_terms(df, 'env_broad_scale_id_descendants')\n",
    "\n",
    "    local_scale_ancestors = vectorize_terms(df, 'env_local_scale_id_ancestors')\n",
    "    local_scale_descendants = vectorize_terms(df, 'env_local_scale_id_descendants')\n",
    "\n",
    "    medium_ancestors = vectorize_terms(df, 'env_medium_id_ancestors')\n",
    "    medium_descendants = vectorize_terms(df, 'env_medium_id_descendants')\n",
    "\n",
    "    # Combine all feature matrices\n",
    "    X = hstack([\n",
    "        broad_scale_ancestors,\n",
    "        broad_scale_descendants,\n",
    "        local_scale_ancestors,\n",
    "        local_scale_descendants,\n",
    "        medium_ancestors,\n",
    "        medium_descendants\n",
    "    ])\n",
    "\n",
    "    # Filter the DataFrame to only include non-null rows for the target column\n",
    "    df_filtered = df[df['normalized_env_package'].notnull() & (df['normalized_env_package'] != \"\")]\n",
    "\n",
    "    # Extract the target variable\n",
    "    y = df_filtered['normalized_env_package']\n",
    "\n",
    "    # Ensure X corresponds to the filtered rows\n",
    "    X_filtered = X[df_filtered.index]\n",
    "\n",
    "    # Split the data into training and testing sets\n",
    "    X_train, X_test, y_train, y_test = train_test_split(X_filtered, y, test_size=0.3, random_state=42)\n",
    "\n",
    "    # Train a Random Forest Classifier\n",
    "    clf = RandomForestClassifier(n_estimators=100, random_state=42)\n",
    "    clf.fit(X_train, y_train)\n",
    "\n",
    "    # Make predictions on the test set\n",
    "    y_pred = clf.predict(X_test)\n",
    "\n",
    "    # Evaluate the model\n",
    "    print(classification_report(y_test, y_pred))\n",
    "\n",
    "    # not determining confidence for each class nor saving any diagnostics any more\n",
    "\n",
    "    return clf.predict(X)"
   ],
   "outputs": [],
   "execution_count": 33
  },
  {
   "cell_type": "code",
   "id": "4515456aaeaa7980",
   "metadata": {
    "ExecuteTime": {
     "end_time": "2024-12-06T13:21:46.654949Z",
     "start_time": "2024-12-06T13:21:46.647008Z"
    }
   },
   "source": [
    "def get_hierarchy_terms(my_curie: str, adapter) -> dict:\n",
    "    \"\"\"\n",
    "    Extract ancestor and descendant terms from the ontology for a given CURIE,\n",
    "    using caching to improve performance and filtering by 'is_a' relationships.\n",
    "\n",
    "    Args:\n",
    "        my_curie (str): CURIE identifier for the ontology term.\n",
    "        adapter: Ontology adapter.\n",
    "\n",
    "    Returns:\n",
    "        dict: Dictionary containing lists of ancestor and descendant terms.\n",
    "    \"\"\"\n",
    "    if my_curie not in ancestor_cache:\n",
    "        try:\n",
    "            ancestors = list(adapter.ancestors(my_curie, predicates=[IS_A]))\n",
    "            ancestor_cache[my_curie] = [adapter.label(ancestor) for ancestor in ancestors if ancestor]\n",
    "        except Exception as my_e:\n",
    "            print(f\"Error retrieving ancestors for {my_curie}: {my_e}\")\n",
    "            ancestor_cache[my_curie] = []\n",
    "\n",
    "    if my_curie not in descendant_cache:\n",
    "        try:\n",
    "            descendants = list(adapter.descendants(my_curie, predicates=[IS_A]))\n",
    "            descendant_cache[my_curie] = [adapter.label(descendant) for descendant in descendants if descendant]\n",
    "        except Exception as my_e:\n",
    "            print(f\"Error retrieving descendants for {my_curie}: {my_e}\")\n",
    "            descendant_cache[my_curie] = []\n",
    "\n",
    "    return {\n",
    "        'ancestors': ancestor_cache[my_curie],\n",
    "        'descendants': descendant_cache[my_curie],\n",
    "    }"
   ],
   "outputs": [],
   "execution_count": 34
  },
  {
   "metadata": {},
   "cell_type": "markdown",
   "source": "# Procedural Code Starts Here",
   "id": "1423fbbafdf5e167"
  },
  {
   "cell_type": "code",
   "id": "44fb14c1b01ac34c",
   "metadata": {
    "ExecuteTime": {
     "end_time": "2024-12-06T13:21:46.701233Z",
     "start_time": "2024-12-06T13:21:46.697676Z"
    }
   },
   "source": [
    "# Determine the filenames and target directory for the NCBI DuckDB\n",
    "ncbi_compressed_filename = urlparse(ncbi_duckdb_url).path.split('/')[-1]\n",
    "ncbi_filename = os.path.splitext(ncbi_compressed_filename)[0]\n",
    "ncbi_compressed_file_path = os.path.join(ncbi_compressed_filename)\n",
    "ncbi_uncompressed_file_path = os.path.join(ncbi_filename)\n",
    "\n",
    "# target_dir = os.path.join('.') # just assume the files are downloaded into the same directory as the notebook"
   ],
   "outputs": [],
   "execution_count": 35
  },
  {
   "cell_type": "code",
   "id": "353ba83ec3059ac5",
   "metadata": {
    "ExecuteTime": {
     "end_time": "2024-12-06T13:21:46.750565Z",
     "start_time": "2024-12-06T13:21:46.745380Z"
    }
   },
   "source": [
    "if os.path.isfile(ncbi_uncompressed_file_path):\n",
    "    print(f\"{ncbi_uncompressed_file_path} is already present in the current working directory.\")\n",
    "else:\n",
    "    if os.path.isfile(ncbi_compressed_file_path):\n",
    "        print(f\"{ncbi_compressed_file_path} is already present in the current working directory.\")\n",
    "    else:\n",
    "        print(f\"{ncbi_compressed_file_path} needs to be downloaded\")\n",
    "        ncbi_response = requests.get(ncbi_duckdb_url)\n",
    "        with open(ncbi_compressed_file_path, \"wb\") as f:\n",
    "            f.write(ncbi_response.content)\n",
    "        # ~ 2 minutes @ 250 Mbps\n",
    "    \n",
    "    # Unzip the compressed file and save the extracted file in target directory\n",
    "    print(f\"{ncbi_compressed_file_path} needs to be unpacked\")\n",
    "    with gzip.open(ncbi_compressed_file_path, \"rb\") as f_in:\n",
    "        with open(ncbi_uncompressed_file_path, \"wb\") as f_out:\n",
    "            shutil.copyfileobj(f_in, f_out)\n",
    "\n",
    "    # ~ 2 minutes"
   ],
   "outputs": [
    {
     "name": "stdout",
     "output_type": "stream",
     "text": [
      "ncbi_biosamples_2024-09-23.duckdb is already present in the current working directory.\n"
     ]
    }
   ],
   "execution_count": 36
  },
  {
   "cell_type": "code",
   "id": "63f815cbfb9b7a6b",
   "metadata": {
    "ExecuteTime": {
     "end_time": "2024-12-06T13:21:46.847835Z",
     "start_time": "2024-12-06T13:21:46.816907Z"
    }
   },
   "source": [
    "ncbi_conn = duckdb.connect(database=ncbi_uncompressed_file_path, read_only=True)"
   ],
   "outputs": [],
   "execution_count": 37
  },
  {
   "cell_type": "code",
   "id": "198256f26bc060e3",
   "metadata": {
    "ExecuteTime": {
     "end_time": "2024-12-06T13:21:46.894482Z",
     "start_time": "2024-12-06T13:21:46.864739Z"
    }
   },
   "source": [
    "envo_adapter = get_adapter(envo_adapter_string)"
   ],
   "outputs": [],
   "execution_count": 38
  },
  {
   "cell_type": "code",
   "id": "e863dc687ce4be5c",
   "metadata": {
    "ExecuteTime": {
     "end_time": "2024-12-06T13:21:47.015897Z",
     "start_time": "2024-12-06T13:21:46.912037Z"
    }
   },
   "source": "anchor_descendants = get_curie_descendants_label_dict(semantic_anchor, [IS_A], envo_adapter)",
   "outputs": [],
   "execution_count": 39
  },
  {
   "cell_type": "code",
   "id": "394abb56c4987eee",
   "metadata": {
    "ExecuteTime": {
     "end_time": "2024-12-06T13:21:47.032660Z",
     "start_time": "2024-12-06T13:21:47.029931Z"
    }
   },
   "source": [
    "anchor_descendants_lod = curie_descendants_label_dict_to_lod(anchor_descendants)"
   ],
   "outputs": [],
   "execution_count": 40
  },
  {
   "cell_type": "code",
   "id": "eea1a3f8395da0d7",
   "metadata": {
    "ExecuteTime": {
     "end_time": "2024-12-06T13:21:47.076022Z",
     "start_time": "2024-12-06T13:21:47.072355Z"
    }
   },
   "source": [
    "anchor_descendants_frame = curie_descendants_label_lod_to_df(anchor_descendants_lod)"
   ],
   "outputs": [],
   "execution_count": 41
  },
  {
   "cell_type": "code",
   "id": "f85faf81e0a55a42",
   "metadata": {
    "ExecuteTime": {
     "end_time": "2024-12-06T13:21:47.137461Z",
     "start_time": "2024-12-06T13:21:47.120596Z"
    }
   },
   "source": [
    "anchor_descendants_frame"
   ],
   "outputs": [
    {
     "data": {
      "text/plain": [
       "             curie                          label\n",
       "0    ENVO:01001505            alpine tundra biome\n",
       "1    ENVO:01000024           marine benthic biome\n",
       "2    ENVO:01000252          freshwater lake biome\n",
       "3    ENVO:01000180                   tundra biome\n",
       "4    ENVO:01000123       marine sponge reef biome\n",
       "..             ...                            ...\n",
       "123  ENVO:01000858         marine upwelling biome\n",
       "124  ENVO:01000188         tropical savanna biome\n",
       "125  ENVO:01000042  neritic epipelagic zone biome\n",
       "126  ENVO:01000045              epeiric sea biome\n",
       "127  ENVO:01000049        marine coral reef biome\n",
       "\n",
       "[128 rows x 2 columns]"
      ],
      "text/html": [
       "<div>\n",
       "<style scoped>\n",
       "    .dataframe tbody tr th:only-of-type {\n",
       "        vertical-align: middle;\n",
       "    }\n",
       "\n",
       "    .dataframe tbody tr th {\n",
       "        vertical-align: top;\n",
       "    }\n",
       "\n",
       "    .dataframe thead th {\n",
       "        text-align: right;\n",
       "    }\n",
       "</style>\n",
       "<table border=\"1\" class=\"dataframe\">\n",
       "  <thead>\n",
       "    <tr style=\"text-align: right;\">\n",
       "      <th></th>\n",
       "      <th>curie</th>\n",
       "      <th>label</th>\n",
       "    </tr>\n",
       "  </thead>\n",
       "  <tbody>\n",
       "    <tr>\n",
       "      <th>0</th>\n",
       "      <td>ENVO:01001505</td>\n",
       "      <td>alpine tundra biome</td>\n",
       "    </tr>\n",
       "    <tr>\n",
       "      <th>1</th>\n",
       "      <td>ENVO:01000024</td>\n",
       "      <td>marine benthic biome</td>\n",
       "    </tr>\n",
       "    <tr>\n",
       "      <th>2</th>\n",
       "      <td>ENVO:01000252</td>\n",
       "      <td>freshwater lake biome</td>\n",
       "    </tr>\n",
       "    <tr>\n",
       "      <th>3</th>\n",
       "      <td>ENVO:01000180</td>\n",
       "      <td>tundra biome</td>\n",
       "    </tr>\n",
       "    <tr>\n",
       "      <th>4</th>\n",
       "      <td>ENVO:01000123</td>\n",
       "      <td>marine sponge reef biome</td>\n",
       "    </tr>\n",
       "    <tr>\n",
       "      <th>...</th>\n",
       "      <td>...</td>\n",
       "      <td>...</td>\n",
       "    </tr>\n",
       "    <tr>\n",
       "      <th>123</th>\n",
       "      <td>ENVO:01000858</td>\n",
       "      <td>marine upwelling biome</td>\n",
       "    </tr>\n",
       "    <tr>\n",
       "      <th>124</th>\n",
       "      <td>ENVO:01000188</td>\n",
       "      <td>tropical savanna biome</td>\n",
       "    </tr>\n",
       "    <tr>\n",
       "      <th>125</th>\n",
       "      <td>ENVO:01000042</td>\n",
       "      <td>neritic epipelagic zone biome</td>\n",
       "    </tr>\n",
       "    <tr>\n",
       "      <th>126</th>\n",
       "      <td>ENVO:01000045</td>\n",
       "      <td>epeiric sea biome</td>\n",
       "    </tr>\n",
       "    <tr>\n",
       "      <th>127</th>\n",
       "      <td>ENVO:01000049</td>\n",
       "      <td>marine coral reef biome</td>\n",
       "    </tr>\n",
       "  </tbody>\n",
       "</table>\n",
       "<p>128 rows × 2 columns</p>\n",
       "</div>"
      ]
     },
     "execution_count": 42,
     "metadata": {},
     "output_type": "execute_result"
    }
   ],
   "execution_count": 42
  },
  {
   "cell_type": "markdown",
   "id": "857f1f1efd4635b9",
   "metadata": {},
   "source": [
    "----"
   ]
  },
  {
   "cell_type": "code",
   "id": "1432828ce7983148",
   "metadata": {
    "ExecuteTime": {
     "end_time": "2024-12-06T13:21:50.736835Z",
     "start_time": "2024-12-06T13:21:47.216298Z"
    }
   },
   "source": [
    "sv = get_schemaview_from_source(previous_submission_schema_url)"
   ],
   "outputs": [],
   "execution_count": 43
  },
  {
   "cell_type": "code",
   "id": "5841e0d6bc3d3c40",
   "metadata": {
    "ExecuteTime": {
     "end_time": "2024-12-06T13:21:50.780241Z",
     "start_time": "2024-12-06T13:21:50.775908Z"
    }
   },
   "source": [
    "# todo break out slow steps into its own cell\n",
    "\n",
    "try:\n",
    "    CONTEXT_ENUM_def = sv.get_enum(CONTEXT_ENUM)\n",
    "    context_pvs_keys = list(CONTEXT_ENUM_def.permissible_values.keys())\n",
    "except AttributeError as e:\n",
    "    # Handle the AttributeError\n",
    "    print(f\"An AttributeError occurred: {e}\")\n",
    "    context_pvs_keys =[]\n",
    "    "
   ],
   "outputs": [],
   "execution_count": 44
  },
  {
   "metadata": {
    "ExecuteTime": {
     "end_time": "2024-12-06T13:21:50.800501Z",
     "start_time": "2024-12-06T13:21:50.785390Z"
    }
   },
   "cell_type": "code",
   "source": "print(context_pvs_keys)",
   "id": "e47067e5b704ee70",
   "outputs": [
    {
     "name": "stdout",
     "output_type": "stream",
     "text": [
      "['arid biome [ENVO:01001838]', 'subalpine biome [ENVO:01001837]', 'montane biome [ENVO:01001836]', '__montane savanna biome [ENVO:01000223]', '__montane shrubland biome [ENVO:01000216]', 'alpine biome [ENVO:01001835]', '__alpine tundra biome [ENVO:01001505]', 'subpolar biome [ENVO:01001834]', 'subtropical biome [ENVO:01001832]', '__mediterranean biome [ENVO:01001833]', '____mediterranean savanna biome [ENVO:01000229]', '____mediterranean shrubland biome [ENVO:01000217]', '____mediterranean woodland biome [ENVO:01000208]', '__subtropical woodland biome [ENVO:01000222]', '__subtropical shrubland biome [ENVO:01000213]', '__subtropical savanna biome [ENVO:01000187]', 'temperate biome [ENVO:01001831]', '__temperate woodland biome [ENVO:01000221]', '__temperate shrubland biome [ENVO:01000215]', '__temperate savanna biome [ENVO:01000189]', 'tropical biome [ENVO:01001830]', '__tropical woodland biome [ENVO:01000220]', '__tropical shrubland biome [ENVO:01000214]', '__tropical savanna biome [ENVO:01000188]', 'polar biome [ENVO:01000339]', 'terrestrial biome [ENVO:00000446]', '__anthropogenic terrestrial biome [ENVO:01000219]', '____dense settlement biome [ENVO:01000248]', '______urban biome [ENVO:01000249]', '____rangeland biome [ENVO:01000247]', '____village biome [ENVO:01000246]', '__mangrove biome [ENVO:01000181]', '__tundra biome [ENVO:01000180]', '____alpine tundra biome [ENVO:01001505]', '__shrubland biome [ENVO:01000176]', '____tidal mangrove shrubland [ENVO:01001369]', '____xeric shrubland biome [ENVO:01000218]', '____montane shrubland biome [ENVO:01000216]', '____temperate shrubland biome [ENVO:01000215]', '____tropical shrubland biome [ENVO:01000214]', '____subtropical shrubland biome [ENVO:01000213]', '______mediterranean shrubland biome [ENVO:01000217]', '__woodland biome [ENVO:01000175]', '____subtropical woodland biome [ENVO:01000222]', '______mediterranean woodland biome [ENVO:01000208]', '____temperate woodland biome [ENVO:01000221]', '____tropical woodland biome [ENVO:01000220]', '____savanna biome [ENVO:01000178]', '______montane savanna biome [ENVO:01000223]', '______flooded savanna biome [ENVO:01000190]', '______temperate savanna biome [ENVO:01000189]', '______tropical savanna biome [ENVO:01000188]', '______subtropical savanna biome [ENVO:01000187]', '________mediterranean savanna biome [ENVO:01000229]']\n"
     ]
    }
   ],
   "execution_count": 45
  },
  {
   "cell_type": "code",
   "id": "79282f64358e1608",
   "metadata": {
    "ExecuteTime": {
     "end_time": "2024-12-06T13:21:55.366302Z",
     "start_time": "2024-12-06T13:21:55.363514Z"
    }
   },
   "source": [
    "initially_parsed_context_pvs = parse_hierarchically_underscored_strings(context_pvs_keys)"
   ],
   "outputs": [],
   "execution_count": 46
  },
  {
   "cell_type": "code",
   "id": "5a9492fa605534f2",
   "metadata": {
    "ExecuteTime": {
     "end_time": "2024-12-06T13:22:00.008086Z",
     "start_time": "2024-12-06T13:22:00.005116Z"
    }
   },
   "source": [
    "deduped_context_pvs = dedupe_underscoreless_pvs(initially_parsed_context_pvs)"
   ],
   "outputs": [],
   "execution_count": 47
  },
  {
   "cell_type": "code",
   "id": "214c2e6c9a7089a8",
   "metadata": {
    "ExecuteTime": {
     "end_time": "2024-12-06T13:22:05.026160Z",
     "start_time": "2024-12-06T13:22:05.009337Z"
    }
   },
   "source": [
    "pv_validation_results = validate_curie_label_list_dict(deduped_context_pvs, envo_adapter, print_flag=True)"
   ],
   "outputs": [],
   "execution_count": 48
  },
  {
   "cell_type": "code",
   "id": "e84872aa4f8a9313",
   "metadata": {
    "ExecuteTime": {
     "end_time": "2024-12-06T13:22:09.581Z",
     "start_time": "2024-12-06T13:22:09.573464Z"
    }
   },
   "source": [
    "pv_validation_results"
   ],
   "outputs": [
    {
     "data": {
      "text/plain": [
       "{'problems': [],\n",
       " 'valids': [{'curie': 'ENVO:01001838', 'label': 'arid biome'},\n",
       "  {'curie': 'ENVO:01001837', 'label': 'subalpine biome'},\n",
       "  {'curie': 'ENVO:01001836', 'label': 'montane biome'},\n",
       "  {'curie': 'ENVO:01000223', 'label': 'montane savanna biome'},\n",
       "  {'curie': 'ENVO:01000216', 'label': 'montane shrubland biome'},\n",
       "  {'curie': 'ENVO:01001835', 'label': 'alpine biome'},\n",
       "  {'curie': 'ENVO:01001505', 'label': 'alpine tundra biome'},\n",
       "  {'curie': 'ENVO:01001834', 'label': 'subpolar biome'},\n",
       "  {'curie': 'ENVO:01001832', 'label': 'subtropical biome'},\n",
       "  {'curie': 'ENVO:01001833', 'label': 'mediterranean biome'},\n",
       "  {'curie': 'ENVO:01000229', 'label': 'mediterranean savanna biome'},\n",
       "  {'curie': 'ENVO:01000217', 'label': 'mediterranean shrubland biome'},\n",
       "  {'curie': 'ENVO:01000208', 'label': 'mediterranean woodland biome'},\n",
       "  {'curie': 'ENVO:01000222', 'label': 'subtropical woodland biome'},\n",
       "  {'curie': 'ENVO:01000213', 'label': 'subtropical shrubland biome'},\n",
       "  {'curie': 'ENVO:01000187', 'label': 'subtropical savanna biome'},\n",
       "  {'curie': 'ENVO:01001831', 'label': 'temperate biome'},\n",
       "  {'curie': 'ENVO:01000221', 'label': 'temperate woodland biome'},\n",
       "  {'curie': 'ENVO:01000215', 'label': 'temperate shrubland biome'},\n",
       "  {'curie': 'ENVO:01000189', 'label': 'temperate savanna biome'},\n",
       "  {'curie': 'ENVO:01001830', 'label': 'tropical biome'},\n",
       "  {'curie': 'ENVO:01000220', 'label': 'tropical woodland biome'},\n",
       "  {'curie': 'ENVO:01000214', 'label': 'tropical shrubland biome'},\n",
       "  {'curie': 'ENVO:01000188', 'label': 'tropical savanna biome'},\n",
       "  {'curie': 'ENVO:01000339', 'label': 'polar biome'},\n",
       "  {'curie': 'ENVO:00000446', 'label': 'terrestrial biome'},\n",
       "  {'curie': 'ENVO:01000219', 'label': 'anthropogenic terrestrial biome'},\n",
       "  {'curie': 'ENVO:01000248', 'label': 'dense settlement biome'},\n",
       "  {'curie': 'ENVO:01000249', 'label': 'urban biome'},\n",
       "  {'curie': 'ENVO:01000247', 'label': 'rangeland biome'},\n",
       "  {'curie': 'ENVO:01000246', 'label': 'village biome'},\n",
       "  {'curie': 'ENVO:01000181', 'label': 'mangrove biome'},\n",
       "  {'curie': 'ENVO:01000180', 'label': 'tundra biome'},\n",
       "  {'curie': 'ENVO:01000176', 'label': 'shrubland biome'},\n",
       "  {'curie': 'ENVO:01001369', 'label': 'tidal mangrove shrubland'},\n",
       "  {'curie': 'ENVO:01000218', 'label': 'xeric shrubland biome'},\n",
       "  {'curie': 'ENVO:01000175', 'label': 'woodland biome'},\n",
       "  {'curie': 'ENVO:01000178', 'label': 'savanna biome'},\n",
       "  {'curie': 'ENVO:01000190', 'label': 'flooded savanna biome'}]}"
      ]
     },
     "execution_count": 49,
     "metadata": {},
     "output_type": "execute_result"
    }
   ],
   "execution_count": 49
  },
  {
   "cell_type": "markdown",
   "id": "363063c37a433d70",
   "metadata": {},
   "source": [
    "----"
   ]
  },
  {
   "cell_type": "code",
   "id": "656e23e9eab154b0",
   "metadata": {
    "ExecuteTime": {
     "end_time": "2024-12-06T13:22:59.002210Z",
     "start_time": "2024-12-06T13:22:14.111161Z"
    }
   },
   "source": [
    "# todo rename to all_nmdc_samples etc\n",
    "all_nmdc_biosamples = get_docs_from_nmdc_collection(NMDC_RUNTIME_BASE_URL,\n",
    "                                               BIOSAMPLE_SET_COLLECTION)  # Example with stop_after\n",
    "\n",
    "# ~ 1 minute\n",
    "# how long would saving and restoring to a file take?\n",
    "# YAML is pretty but that would be the slowest\n",
    "# try JSON\n",
    "# pre-filter to only include the fields we need?\n",
    "\n",
    "# todo cache this as a file"
   ],
   "outputs": [
    {
     "name": "stdout",
     "output_type": "stream",
     "text": [
      "Fetched page 1 with 1000 documents. Total fetched: 1000\n",
      "Fetched page 2 with 1000 documents. Total fetched: 2000\n",
      "Fetched page 3 with 1000 documents. Total fetched: 3000\n",
      "Fetched page 4 with 1000 documents. Total fetched: 4000\n",
      "Fetched page 5 with 1000 documents. Total fetched: 5000\n",
      "Fetched page 6 with 1000 documents. Total fetched: 6000\n",
      "Fetched page 7 with 1000 documents. Total fetched: 7000\n",
      "Fetched page 8 with 1000 documents. Total fetched: 8000\n",
      "Fetched page 9 with 362 documents. Total fetched: 8362\n",
      "All documents fetched.\n"
     ]
    }
   ],
   "execution_count": 50
  },
  {
   "cell_type": "code",
   "id": "47c500057aa4624d",
   "metadata": {
    "ExecuteTime": {
     "end_time": "2024-12-06T13:23:03.661793Z",
     "start_time": "2024-12-06T13:23:03.658845Z"
    }
   },
   "source": [
    "# # todo I don't think we're actually using this\n",
    "# all_studies = get_docs_from_nmdc_collection(NMDC_RUNTIME_BASE_URL, STUDY_SET_COLLECTION)  # Example with stop_after"
   ],
   "outputs": [],
   "execution_count": 51
  },
  {
   "cell_type": "code",
   "id": "6a17544640272855",
   "metadata": {
    "ExecuteTime": {
     "end_time": "2024-12-06T13:23:08.244538Z",
     "start_time": "2024-12-06T13:23:08.240637Z"
    }
   },
   "source": [
    "env_pacakge_overrides = tsv_to_dict_of_dicts(env_package_override_file, 'id')"
   ],
   "outputs": [],
   "execution_count": 52
  },
  {
   "cell_type": "code",
   "id": "66c61cf229a6545c",
   "metadata": {
    "ExecuteTime": {
     "end_time": "2024-12-06T13:23:12.840087Z",
     "start_time": "2024-12-06T13:23:12.837454Z"
    }
   },
   "source": [
    "# todo show env_pacakge_overrides as a data frame\n",
    "#   with some other columns for context?"
   ],
   "outputs": [],
   "execution_count": 53
  },
  {
   "cell_type": "code",
   "id": "7045884ea68d0351",
   "metadata": {
    "ExecuteTime": {
     "end_time": "2024-12-06T13:23:24.566311Z",
     "start_time": "2024-12-06T13:23:17.470006Z"
    }
   },
   "source": [
    "biosample_contexts_lod = biosamples_lod_context_extractor(all_nmdc_biosamples, envo_adapter,\n",
    "                                                          my_env_pacakge_overrides=env_pacakge_overrides)\n",
    "\n",
    "# ~ 10 seconds, lots of logging"
   ],
   "outputs": [
    {
     "name": "stdout",
     "output_type": "stream",
     "text": [
      "Overriding env_package for biosample nmdc:bsm-11-0k8nkx16 from  to plant-associated\n",
      "Overriding env_package for biosample nmdc:bsm-11-19v98823 from  to plant-associated\n",
      "Overriding env_package for biosample nmdc:bsm-11-1yvac190 from  to plant-associated\n",
      "Overriding env_package for biosample nmdc:bsm-11-28kgw077 from  to plant-associated\n",
      "Overriding env_package for biosample nmdc:bsm-11-2hswww54 from  to hydrocarbon resources-fluids_swabs\n",
      "Overriding env_package for biosample nmdc:bsm-11-34przm31 from  to plant-associated\n",
      "Overriding env_package for biosample nmdc:bsm-11-35m0rm03 from  to hydrocarbon resources-fluids_swabs\n",
      "Overriding env_package for biosample nmdc:bsm-11-3636w778 from  to plant-associated\n",
      "Overriding env_package for biosample nmdc:bsm-11-3nffqc45 from  to plant-associated\n",
      "Overriding env_package for biosample nmdc:bsm-11-3nhng665 from  to plant-associated\n",
      "Overriding env_package for biosample nmdc:bsm-11-3r4g4610 from  to hydrocarbon resources-fluids_swabs\n",
      "Overriding env_package for biosample nmdc:bsm-11-3tr7f795 from  to plant-associated\n",
      "Overriding env_package for biosample nmdc:bsm-11-3xc5ft48 from  to plant-associated\n",
      "Overriding env_package for biosample nmdc:bsm-11-3xthwx28 from  to plant-associated\n",
      "Overriding env_package for biosample nmdc:bsm-11-42c9kj17 from  to plant-associated\n",
      "Overriding env_package for biosample nmdc:bsm-11-43rwvm93 from  to plant-associated\n",
      "Overriding env_package for biosample nmdc:bsm-11-4838sk73 from  to plant-associated\n",
      "Overriding env_package for biosample nmdc:bsm-11-5ak8ja54 from  to plant-associated\n",
      "Overriding env_package for biosample nmdc:bsm-11-5g2kjf44 from  to plant-associated\n",
      "Overriding env_package for biosample nmdc:bsm-11-5j742c82 from  to plant-associated\n",
      "Overriding env_package for biosample nmdc:bsm-11-5qq80d09 from  to plant-associated\n",
      "Overriding env_package for biosample nmdc:bsm-11-5rgay328 from  to plant-associated\n",
      "Overriding env_package for biosample nmdc:bsm-11-5w4ba396 from  to plant-associated\n",
      "Overriding env_package for biosample nmdc:bsm-11-61xfks69 from  to plant-associated\n",
      "Overriding env_package for biosample nmdc:bsm-11-62fxv990 from  to plant-associated\n",
      "Overriding env_package for biosample nmdc:bsm-11-674m9194 from  to plant-associated\n",
      "Overriding env_package for biosample nmdc:bsm-11-678ndj04 from  to plant-associated\n",
      "Overriding env_package for biosample nmdc:bsm-11-69g1rw32 from  to plant-associated\n",
      "Overriding env_package for biosample nmdc:bsm-11-6k8cmy53 from  to plant-associated\n",
      "Overriding env_package for biosample nmdc:bsm-11-6m5dma62 from  to plant-associated\n",
      "Overriding env_package for biosample nmdc:bsm-11-6qgwc522 from  to plant-associated\n",
      "Overriding env_package for biosample nmdc:bsm-11-6xa4vj59 from  to plant-associated\n",
      "Overriding env_package for biosample nmdc:bsm-11-6y26bz06 from  to plant-associated\n",
      "Overriding env_package for biosample nmdc:bsm-11-6ya0cs71 from  to plant-associated\n",
      "Overriding env_package for biosample nmdc:bsm-11-6z11g163 from  to plant-associated\n",
      "Overriding env_package for biosample nmdc:bsm-11-73zqmh40 from  to plant-associated\n",
      "Overriding env_package for biosample nmdc:bsm-11-766dwa91 from  to plant-associated\n",
      "Overriding env_package for biosample nmdc:bsm-11-7b566r47 from  to hydrocarbon resources-fluids_swabs\n",
      "Overriding env_package for biosample nmdc:bsm-11-7cfwd964 from  to plant-associated\n",
      "Overriding env_package for biosample nmdc:bsm-11-7pyrek52 from  to plant-associated\n",
      "Overriding env_package for biosample nmdc:bsm-11-7yg2ne22 from  to plant-associated\n",
      "Overriding env_package for biosample nmdc:bsm-11-7z1qvf63 from  to plant-associated\n",
      "Overriding env_package for biosample nmdc:bsm-11-82qw5v38 from  to plant-associated\n",
      "Overriding env_package for biosample nmdc:bsm-11-899bm454 from  to plant-associated\n",
      "Overriding env_package for biosample nmdc:bsm-11-8aktkq28 from  to plant-associated\n",
      "Overriding env_package for biosample nmdc:bsm-11-8bewbp90 from  to plant-associated\n",
      "Overriding env_package for biosample nmdc:bsm-11-8cgpqn03 from  to plant-associated\n",
      "Overriding env_package for biosample nmdc:bsm-11-8e43d898 from  to plant-associated\n",
      "Overriding env_package for biosample nmdc:bsm-11-8g7xbe66 from  to plant-associated\n",
      "Overriding env_package for biosample nmdc:bsm-11-91bdea61 from  to plant-associated\n",
      "Overriding env_package for biosample nmdc:bsm-11-94c2xj88 from  to plant-associated\n",
      "Overriding env_package for biosample nmdc:bsm-11-9c0hk014 from  to plant-associated\n",
      "Overriding env_package for biosample nmdc:bsm-11-9f2ahd94 from  to plant-associated\n",
      "Overriding env_package for biosample nmdc:bsm-11-a6p0kd54 from  to hydrocarbon resources-fluids_swabs\n",
      "Overriding env_package for biosample nmdc:bsm-11-acehgb61 from  to plant-associated\n",
      "Overriding env_package for biosample nmdc:bsm-11-acfvxq24 from  to plant-associated\n",
      "Overriding env_package for biosample nmdc:bsm-11-aesqd647 from  to plant-associated\n",
      "Overriding env_package for biosample nmdc:bsm-11-af8kqq09 from  to hydrocarbon resources-fluids_swabs\n",
      "Overriding env_package for biosample nmdc:bsm-11-ahfq0n74 from  to plant-associated\n",
      "Overriding env_package for biosample nmdc:bsm-11-b2w6cr26 from  to plant-associated\n",
      "Overriding env_package for biosample nmdc:bsm-11-b7pv2a25 from  to plant-associated\n",
      "Overriding env_package for biosample nmdc:bsm-11-b9cjnj29 from  to plant-associated\n",
      "Overriding env_package for biosample nmdc:bsm-11-bcns6e03 from  to plant-associated\n",
      "Overriding env_package for biosample nmdc:bsm-11-bgar5122 from  to plant-associated\n",
      "Overriding env_package for biosample nmdc:bsm-11-bja22k98 from  to plant-associated\n",
      "Overriding env_package for biosample nmdc:bsm-11-bm9haf23 from  to plant-associated\n",
      "Overriding env_package for biosample nmdc:bsm-11-bqp0m764 from  to plant-associated\n",
      "Overriding env_package for biosample nmdc:bsm-11-byzpm179 from  to hydrocarbon resources-fluids_swabs\n",
      "Overriding env_package for biosample nmdc:bsm-11-c12hyq86 from  to plant-associated\n",
      "Overriding env_package for biosample nmdc:bsm-11-c52npq37 from  to plant-associated\n",
      "Overriding env_package for biosample nmdc:bsm-11-c756vg97 from  to plant-associated\n",
      "Overriding env_package for biosample nmdc:bsm-11-can3rz84 from  to plant-associated\n",
      "Overriding env_package for biosample nmdc:bsm-11-cjp6kd42 from  to plant-associated\n",
      "Overriding env_package for biosample nmdc:bsm-11-ck98jg55 from  to plant-associated\n",
      "Overriding env_package for biosample nmdc:bsm-11-cqbpqf62 from  to plant-associated\n",
      "Overriding env_package for biosample nmdc:bsm-11-cv5vxb38 from  to plant-associated\n",
      "Overriding env_package for biosample nmdc:bsm-11-cvqsze66 from  to plant-associated\n",
      "Overriding env_package for biosample nmdc:bsm-11-cxprmv88 from  to plant-associated\n",
      "Overriding env_package for biosample nmdc:bsm-11-cz68sy30 from  to plant-associated\n",
      "Overriding env_package for biosample nmdc:bsm-11-d8cgz835 from  to plant-associated\n",
      "Overriding env_package for biosample nmdc:bsm-11-djqze645 from  to plant-associated\n",
      "Overriding env_package for biosample nmdc:bsm-11-dppkv536 from  to plant-associated\n",
      "Overriding env_package for biosample nmdc:bsm-11-dqnfvd06 from  to plant-associated\n",
      "Overriding env_package for biosample nmdc:bsm-11-dtyb1w45 from  to plant-associated\n",
      "Overriding env_package for biosample nmdc:bsm-11-dva76848 from  to plant-associated\n",
      "Overriding env_package for biosample nmdc:bsm-11-dz264p50 from  to plant-associated\n",
      "Overriding env_package for biosample nmdc:bsm-11-e0rz6p82 from  to plant-associated\n",
      "Overriding env_package for biosample nmdc:bsm-11-e747ch69 from  to plant-associated\n",
      "Overriding env_package for biosample nmdc:bsm-11-epzqzg45 from  to plant-associated\n",
      "Overriding env_package for biosample nmdc:bsm-11-evfbfp31 from  to plant-associated\n",
      "Overriding env_package for biosample nmdc:bsm-11-f8tzvk82 from  to plant-associated\n",
      "Overriding env_package for biosample nmdc:bsm-11-fbm8fa50 from  to hydrocarbon resources-fluids_swabs\n",
      "Overriding env_package for biosample nmdc:bsm-11-feynq214 from  to plant-associated\n",
      "Overriding env_package for biosample nmdc:bsm-11-fgjpsy56 from  to plant-associated\n",
      "Overriding env_package for biosample nmdc:bsm-11-fm4p4558 from  to plant-associated\n",
      "Overriding env_package for biosample nmdc:bsm-11-fqchmc77 from  to hydrocarbon resources-fluids_swabs\n",
      "Overriding env_package for biosample nmdc:bsm-11-fy3j8w19 from  to plant-associated\n",
      "Overriding env_package for biosample nmdc:bsm-11-fyey4107 from  to plant-associated\n",
      "Overriding env_package for biosample nmdc:bsm-11-fzvzb345 from  to plant-associated\n",
      "Overriding env_package for biosample nmdc:bsm-11-g35dnf26 from  to plant-associated\n",
      "Overriding env_package for biosample nmdc:bsm-11-g3r2dm95 from  to plant-associated\n",
      "Overriding env_package for biosample nmdc:bsm-11-g4my3419 from  to plant-associated\n",
      "Overriding env_package for biosample nmdc:bsm-11-g4rxzh95 from  to plant-associated\n",
      "Overriding env_package for biosample nmdc:bsm-11-gch9pp73 from  to plant-associated\n",
      "Overriding env_package for biosample nmdc:bsm-11-gd31q856 from  to plant-associated\n",
      "Overriding env_package for biosample nmdc:bsm-11-gnbsqd30 from  to hydrocarbon resources-fluids_swabs\n",
      "Overriding env_package for biosample nmdc:bsm-11-gvp5zp51 from  to hydrocarbon resources-fluids_swabs\n",
      "Overriding env_package for biosample nmdc:bsm-11-gwx12029 from  to plant-associated\n",
      "Overriding env_package for biosample nmdc:bsm-11-h2k7nv93 from  to plant-associated\n",
      "Overriding env_package for biosample nmdc:bsm-11-h3e54f51 from  to plant-associated\n",
      "Overriding env_package for biosample nmdc:bsm-11-h96d6881 from  to plant-associated\n",
      "Overriding env_package for biosample nmdc:bsm-11-ht2c1k71 from  to plant-associated\n",
      "Overriding env_package for biosample nmdc:bsm-11-ht2v0s47 from  to plant-associated\n",
      "Overriding env_package for biosample nmdc:bsm-11-hv1hv533 from  to plant-associated\n",
      "Overriding env_package for biosample nmdc:bsm-11-j1bay453 from  to plant-associated\n",
      "Overriding env_package for biosample nmdc:bsm-11-j1hqcz15 from  to plant-associated\n",
      "Overriding env_package for biosample nmdc:bsm-11-j2pfz414 from  to plant-associated\n",
      "Overriding env_package for biosample nmdc:bsm-11-j5y27f16 from  to plant-associated\n",
      "Overriding env_package for biosample nmdc:bsm-11-j6h8pw46 from  to plant-associated\n",
      "Overriding env_package for biosample nmdc:bsm-11-j6j1p639 from  to plant-associated\n",
      "Overriding env_package for biosample nmdc:bsm-11-jjchgw36 from  to plant-associated\n",
      "Overriding env_package for biosample nmdc:bsm-11-jp678560 from  to plant-associated\n",
      "Overriding env_package for biosample nmdc:bsm-11-jq2e3v76 from  to plant-associated\n",
      "Overriding env_package for biosample nmdc:bsm-11-jx6ar740 from  to hydrocarbon resources-fluids_swabs\n",
      "Overriding env_package for biosample nmdc:bsm-11-jxazjs92 from  to plant-associated\n",
      "Overriding env_package for biosample nmdc:bsm-11-jy6ece20 from  to plant-associated\n",
      "Overriding env_package for biosample nmdc:bsm-11-k0vz1j87 from  to plant-associated\n",
      "Overriding env_package for biosample nmdc:bsm-11-k1twxb65 from  to plant-associated\n",
      "Overriding env_package for biosample nmdc:bsm-11-k9192006 from  to plant-associated\n",
      "Overriding env_package for biosample nmdc:bsm-11-kdja3v28 from  to plant-associated\n",
      "Overriding env_package for biosample nmdc:bsm-11-kesw6757 from  to plant-associated\n",
      "Overriding env_package for biosample nmdc:bsm-11-kmpwgz16 from  to hydrocarbon resources-fluids_swabs\n",
      "Overriding env_package for biosample nmdc:bsm-11-kqbbyb62 from  to hydrocarbon resources-fluids_swabs\n",
      "Overriding env_package for biosample nmdc:bsm-11-krcjqt76 from  to plant-associated\n",
      "Overriding env_package for biosample nmdc:bsm-11-kv966g71 from  to hydrocarbon resources-fluids_swabs\n",
      "Overriding env_package for biosample nmdc:bsm-11-m0h9cb45 from  to plant-associated\n",
      "Overriding env_package for biosample nmdc:bsm-11-m4e83773 from  to plant-associated\n",
      "Overriding env_package for biosample nmdc:bsm-11-m4p1ck60 from  to plant-associated\n",
      "Overriding env_package for biosample nmdc:bsm-11-m5prkp97 from  to hydrocarbon resources-fluids_swabs\n",
      "Overriding env_package for biosample nmdc:bsm-11-m69k6p77 from  to hydrocarbon resources-fluids_swabs\n",
      "Overriding env_package for biosample nmdc:bsm-11-m9k8tx16 from  to plant-associated\n",
      "Overriding env_package for biosample nmdc:bsm-11-ma7ry826 from  to plant-associated\n",
      "Overriding env_package for biosample nmdc:bsm-11-mb9s8c17 from  to plant-associated\n",
      "Overriding env_package for biosample nmdc:bsm-11-mbcv4b48 from  to plant-associated\n",
      "Overriding env_package for biosample nmdc:bsm-11-n2a7p974 from  to plant-associated\n",
      "Overriding env_package for biosample nmdc:bsm-11-n6vwc542 from  to plant-associated\n",
      "Overriding env_package for biosample nmdc:bsm-11-n8t7zs15 from  to plant-associated\n",
      "Overriding env_package for biosample nmdc:bsm-11-n9sx1a80 from  to plant-associated\n",
      "Overriding env_package for biosample nmdc:bsm-11-nher1m25 from  to hydrocarbon resources-fluids_swabs\n",
      "Overriding env_package for biosample nmdc:bsm-11-nm187g36 from  to plant-associated\n",
      "Overriding env_package for biosample nmdc:bsm-11-nr7vje40 from  to plant-associated\n",
      "Overriding env_package for biosample nmdc:bsm-11-nrkha596 from  to plant-associated\n",
      "Overriding env_package for biosample nmdc:bsm-11-nwh9ez71 from  to plant-associated\n",
      "Overriding env_package for biosample nmdc:bsm-11-nx7zwq61 from  to plant-associated\n",
      "Overriding env_package for biosample nmdc:bsm-11-p4wss361 from  to plant-associated\n",
      "Overriding env_package for biosample nmdc:bsm-11-p9j7rw40 from  to plant-associated\n",
      "Overriding env_package for biosample nmdc:bsm-11-pebqj065 from  to plant-associated\n",
      "Overriding env_package for biosample nmdc:bsm-11-pgmhxj86 from  to plant-associated\n",
      "Overriding env_package for biosample nmdc:bsm-11-pgxc4f08 from  to plant-associated\n",
      "Overriding env_package for biosample nmdc:bsm-11-ppp4fk41 from  to plant-associated\n",
      "Overriding env_package for biosample nmdc:bsm-11-pq105b36 from  to plant-associated\n",
      "Overriding env_package for biosample nmdc:bsm-11-pvr0ez88 from  to plant-associated\n",
      "Overriding env_package for biosample nmdc:bsm-11-pygdem51 from  to plant-associated\n",
      "Overriding env_package for biosample nmdc:bsm-11-q3qsx507 from  to plant-associated\n",
      "Overriding env_package for biosample nmdc:bsm-11-q3sa0t28 from  to plant-associated\n",
      "Overriding env_package for biosample nmdc:bsm-11-q94v7385 from  to plant-associated\n",
      "Overriding env_package for biosample nmdc:bsm-11-qam3hk28 from  to plant-associated\n",
      "Overriding env_package for biosample nmdc:bsm-11-qe13q836 from  to plant-associated\n",
      "Overriding env_package for biosample nmdc:bsm-11-qg6kxr61 from  to plant-associated\n",
      "Overriding env_package for biosample nmdc:bsm-11-qhq2kh40 from  to plant-associated\n",
      "Overriding env_package for biosample nmdc:bsm-11-qms4zn61 from  to plant-associated\n",
      "Overriding env_package for biosample nmdc:bsm-11-qqc8e352 from  to plant-associated\n",
      "Overriding env_package for biosample nmdc:bsm-11-qvm0vt03 from  to plant-associated\n",
      "Overriding env_package for biosample nmdc:bsm-11-qy2fef59 from  to plant-associated\n",
      "Overriding env_package for biosample nmdc:bsm-11-qzncy838 from  to plant-associated\n",
      "Overriding env_package for biosample nmdc:bsm-11-r3b0ak56 from  to plant-associated\n",
      "Overriding env_package for biosample nmdc:bsm-11-r3tm7493 from  to plant-associated\n",
      "Overriding env_package for biosample nmdc:bsm-11-r4kwpw90 from  to plant-associated\n",
      "Overriding env_package for biosample nmdc:bsm-11-r7k97q10 from  to plant-associated\n",
      "Overriding env_package for biosample nmdc:bsm-11-rk62cv25 from  to plant-associated\n",
      "Overriding env_package for biosample nmdc:bsm-11-rpj4zm44 from  to plant-associated\n",
      "Overriding env_package for biosample nmdc:bsm-11-rzz0z710 from  to plant-associated\n",
      "Overriding env_package for biosample nmdc:bsm-11-s6r1q327 from  to plant-associated\n",
      "Overriding env_package for biosample nmdc:bsm-11-s70cv630 from  to plant-associated\n",
      "Overriding env_package for biosample nmdc:bsm-11-sa4z4f71 from  to hydrocarbon resources-fluids_swabs\n",
      "Overriding env_package for biosample nmdc:bsm-11-sdjt4464 from  to plant-associated\n",
      "Overriding env_package for biosample nmdc:bsm-11-sdjyhj66 from  to plant-associated\n",
      "Overriding env_package for biosample nmdc:bsm-11-shjn2p67 from  to plant-associated\n",
      "Overriding env_package for biosample nmdc:bsm-11-sjtd0y05 from  to plant-associated\n",
      "Overriding env_package for biosample nmdc:bsm-11-spav5m37 from  to plant-associated\n",
      "Overriding env_package for biosample nmdc:bsm-11-sv771k17 from  to plant-associated\n",
      "Overriding env_package for biosample nmdc:bsm-11-syb42s66 from  to plant-associated\n",
      "Overriding env_package for biosample nmdc:bsm-11-t7xb8h63 from  to plant-associated\n",
      "Overriding env_package for biosample nmdc:bsm-11-ta8dt754 from  to plant-associated\n",
      "Overriding env_package for biosample nmdc:bsm-11-tcxb3w32 from  to plant-associated\n",
      "Overriding env_package for biosample nmdc:bsm-11-te5fxe60 from  to plant-associated\n",
      "Overriding env_package for biosample nmdc:bsm-11-th3sr643 from  to plant-associated\n",
      "Overriding env_package for biosample nmdc:bsm-11-tkwn9650 from  to plant-associated\n",
      "Overriding env_package for biosample nmdc:bsm-11-tn8q1269 from  to hydrocarbon resources-fluids_swabs\n",
      "Overriding env_package for biosample nmdc:bsm-11-tnbabs47 from  to plant-associated\n",
      "Overriding env_package for biosample nmdc:bsm-11-tpatza67 from  to plant-associated\n",
      "Overriding env_package for biosample nmdc:bsm-11-trbf6m66 from  to plant-associated\n",
      "Overriding env_package for biosample nmdc:bsm-11-trpbtt49 from  to plant-associated\n",
      "Overriding env_package for biosample nmdc:bsm-11-ttg2t449 from  to hydrocarbon resources-fluids_swabs\n",
      "Overriding env_package for biosample nmdc:bsm-11-tz96dg48 from  to plant-associated\n",
      "Overriding env_package for biosample nmdc:bsm-11-v0p16d89 from  to plant-associated\n",
      "Overriding env_package for biosample nmdc:bsm-11-v9k6q078 from  to plant-associated\n",
      "Overriding env_package for biosample nmdc:bsm-11-veffrc25 from  to hydrocarbon resources-fluids_swabs\n",
      "Overriding env_package for biosample nmdc:bsm-11-vme3w877 from  to plant-associated\n",
      "Overriding env_package for biosample nmdc:bsm-11-vp7n5531 from  to plant-associated\n",
      "Overriding env_package for biosample nmdc:bsm-11-vpe6j733 from  to plant-associated\n",
      "Overriding env_package for biosample nmdc:bsm-11-vrsw1c02 from  to plant-associated\n",
      "Overriding env_package for biosample nmdc:bsm-11-w1t8bv92 from  to plant-associated\n",
      "Overriding env_package for biosample nmdc:bsm-11-wh35sj59 from  to plant-associated\n",
      "Overriding env_package for biosample nmdc:bsm-11-wnrp0p76 from  to plant-associated\n",
      "Overriding env_package for biosample nmdc:bsm-11-wqy7mc31 from  to plant-associated\n",
      "Overriding env_package for biosample nmdc:bsm-11-wr7h1t97 from  to plant-associated\n",
      "Overriding env_package for biosample nmdc:bsm-11-x0sc5x81 from  to plant-associated\n",
      "Overriding env_package for biosample nmdc:bsm-11-xy5ern23 from  to plant-associated\n",
      "Overriding env_package for biosample nmdc:bsm-11-xy8t6808 from  to plant-associated\n",
      "Overriding env_package for biosample nmdc:bsm-11-y31mxv90 from  to plant-associated\n",
      "Overriding env_package for biosample nmdc:bsm-11-y5w1j489 from  to plant-associated\n",
      "Overriding env_package for biosample nmdc:bsm-11-y80cxc26 from  to plant-associated\n",
      "Overriding env_package for biosample nmdc:bsm-11-yd4dqe75 from  to plant-associated\n",
      "Overriding env_package for biosample nmdc:bsm-11-yfc2at70 from  to plant-associated\n",
      "Overriding env_package for biosample nmdc:bsm-11-yvzvbr38 from  to hydrocarbon resources-fluids_swabs\n",
      "Overriding env_package for biosample nmdc:bsm-11-z4hspp43 from  to plant-associated\n",
      "Overriding env_package for biosample nmdc:bsm-11-z66zfk92 from  to plant-associated\n",
      "Overriding env_package for biosample nmdc:bsm-11-z75j2v52 from  to plant-associated\n",
      "Overriding env_package for biosample nmdc:bsm-11-zf5qxz83 from  to plant-associated\n",
      "Overriding env_package for biosample nmdc:bsm-11-zsdrmw76 from  to plant-associated\n",
      "Overriding env_package for biosample nmdc:bsm-11-zvh2hc82 from  to plant-associated\n"
     ]
    }
   ],
   "execution_count": 54
  },
  {
   "cell_type": "code",
   "id": "7cf668c88434c41e",
   "metadata": {
    "ExecuteTime": {
     "end_time": "2024-12-06T13:23:29.135756Z",
     "start_time": "2024-12-06T13:23:29.114642Z"
    }
   },
   "source": [
    "nmdc_biosample_contexts_frame = pd.DataFrame(biosample_contexts_lod)"
   ],
   "outputs": [],
   "execution_count": 55
  },
  {
   "cell_type": "code",
   "id": "77e340a7962f23a6",
   "metadata": {
    "ExecuteTime": {
     "end_time": "2024-12-06T13:23:33.678540Z",
     "start_time": "2024-12-06T13:23:33.673910Z"
    }
   },
   "source": [
    "# print a value count for the normalized_env_package column\n",
    "print(\"Value counts for normalized_env_package column:\")\n",
    "print(nmdc_biosample_contexts_frame['normalized_env_package'].value_counts(dropna=False))"
   ],
   "outputs": [
    {
     "name": "stdout",
     "output_type": "stream",
     "text": [
      "Value counts for normalized_env_package column:\n",
      "normalized_env_package\n",
      "                                                   5838\n",
      "soil                                               1707\n",
      "plant-associated                                    401\n",
      "water                                               192\n",
      "miscellaneous natural or artificial environment     140\n",
      "host-associated                                      61\n",
      "hydrocarbon resources-fluids_swabs                   23\n",
      "Name: count, dtype: int64\n"
     ]
    }
   ],
   "execution_count": 56
  },
  {
   "cell_type": "code",
   "id": "5980aef19fb86ae4",
   "metadata": {
    "ExecuteTime": {
     "end_time": "2024-12-06T13:23:45.067314Z",
     "start_time": "2024-12-06T13:23:38.298587Z"
    }
   },
   "source": [
    "package_predictions = predict_from_normalized_env_packages(nmdc_biosample_contexts_frame, envo_adapter)\n",
    "\n",
    "# these predictions often have a f1 of 1.00\n",
    "# many people might find that hard to believe"
   ],
   "outputs": [
    {
     "name": "stdout",
     "output_type": "stream",
     "text": [
      "(8362, 14)\n",
      "                                                 precision    recall  f1-score   support\n",
      "\n",
      "                                host-associated       1.00      1.00      1.00        16\n",
      "             hydrocarbon resources-fluids_swabs       1.00      1.00      1.00         7\n",
      "miscellaneous natural or artificial environment       1.00      1.00      1.00        50\n",
      "                               plant-associated       1.00      1.00      1.00       122\n",
      "                                           soil       1.00      1.00      1.00       506\n",
      "                                          water       1.00      1.00      1.00        57\n",
      "\n",
      "                                       accuracy                           1.00       758\n",
      "                                      macro avg       1.00      1.00      1.00       758\n",
      "                                   weighted avg       1.00      1.00      1.00       758\n",
      "\n"
     ]
    }
   ],
   "execution_count": 57
  },
  {
   "cell_type": "code",
   "id": "e151c95fe349df93",
   "metadata": {
    "ExecuteTime": {
     "end_time": "2024-12-06T13:23:49.611011Z",
     "start_time": "2024-12-06T13:23:49.607685Z"
    }
   },
   "source": [
    "nmdc_biosample_contexts_frame['predicted_env_package'] = package_predictions"
   ],
   "outputs": [],
   "execution_count": 58
  },
  {
   "cell_type": "code",
   "id": "d5c6aa902c7187e0",
   "metadata": {
    "ExecuteTime": {
     "end_time": "2024-12-06T13:23:54.207194Z",
     "start_time": "2024-12-06T13:23:54.202507Z"
    }
   },
   "source": [
    "nmdc_biosample_contexts_frame.shape"
   ],
   "outputs": [
    {
     "data": {
      "text/plain": [
       "(8362, 15)"
      ]
     },
     "execution_count": 59,
     "metadata": {},
     "output_type": "execute_result"
    }
   ],
   "execution_count": 59
  },
  {
   "cell_type": "code",
   "id": "2b241bcacf4bb100",
   "metadata": {
    "ExecuteTime": {
     "end_time": "2024-12-06T13:23:59.029659Z",
     "start_time": "2024-12-06T13:23:59.022891Z"
    }
   },
   "source": [
    "nmdc_biosample_contexts_frame = nmdc_biosample_contexts_frame[\n",
    "    nmdc_biosample_contexts_frame['predicted_env_package'] == nmdc_package_selector]"
   ],
   "outputs": [],
   "execution_count": 60
  },
  {
   "cell_type": "code",
   "id": "9045896aa4ea468f",
   "metadata": {
    "ExecuteTime": {
     "end_time": "2024-12-06T13:24:03.974367Z",
     "start_time": "2024-12-06T13:24:03.970443Z"
    }
   },
   "source": [
    "nmdc_biosample_contexts_frame.shape"
   ],
   "outputs": [
    {
     "data": {
      "text/plain": [
       "(6162, 15)"
      ]
     },
     "execution_count": 61,
     "metadata": {},
     "output_type": "execute_result"
    }
   ],
   "execution_count": 61
  },
  {
   "cell_type": "markdown",
   "id": "aee7b4eea48a8691",
   "metadata": {},
   "source": [
    "----"
   ]
  },
  {
   "cell_type": "code",
   "id": "3be362b73dbda47a",
   "metadata": {
    "ExecuteTime": {
     "end_time": "2024-12-06T13:24:11.209654Z",
     "start_time": "2024-12-06T13:24:09.239271Z"
    }
   },
   "source": [
    "ncbi_frame = ncbi_conn.execute(ncbi_query).fetchdf()"
   ],
   "outputs": [],
   "execution_count": 62
  },
  {
   "cell_type": "code",
   "id": "306ee79ce77f745e",
   "metadata": {
    "ExecuteTime": {
     "end_time": "2024-12-06T13:24:16.135219Z",
     "start_time": "2024-12-06T13:24:16.131823Z"
    }
   },
   "source": [
    "ncbi_frame.insert(0, 'serial_number', range(1, len(ncbi_frame) + 1))"
   ],
   "outputs": [],
   "execution_count": 63
  },
  {
   "cell_type": "code",
   "id": "6f06a6237f0ecdb",
   "metadata": {
    "ExecuteTime": {
     "end_time": "2024-12-06T13:24:21.146383Z",
     "start_time": "2024-12-06T13:24:21.143735Z"
    }
   },
   "source": [
    "# includes values with counts of one... useful for discovering drag-down submissions?"
   ],
   "outputs": [],
   "execution_count": 64
  },
  {
   "cell_type": "code",
   "id": "f07e55ebd0f4c451",
   "metadata": {
    "ExecuteTime": {
     "end_time": "2024-12-06T13:24:31.473079Z",
     "start_time": "2024-12-06T13:24:31.466618Z"
    }
   },
   "source": [
    "ncbi_frame['content_list'] = ncbi_frame['content'].str.split('|')"
   ],
   "outputs": [],
   "execution_count": 65
  },
  {
   "metadata": {
    "ExecuteTime": {
     "end_time": "2024-12-06T13:24:31.520846Z",
     "start_time": "2024-12-06T13:24:31.517551Z"
    }
   },
   "cell_type": "code",
   "source": [
    "## diagnostically useful, but why are we saving this and not all of the intermediate dataframes?\n",
    "# ncbi_frame.to_csv(\"ncbi_frame.tsv\", sep=\"\\t\", index=False)"
   ],
   "id": "d3ac8df29eb8fc8",
   "outputs": [],
   "execution_count": 66
  },
  {
   "metadata": {
    "ExecuteTime": {
     "end_time": "2024-12-06T13:24:36.218779Z",
     "start_time": "2024-12-06T13:24:36.214176Z"
    }
   },
   "cell_type": "code",
   "source": [
    "# todo is there any reason to not do this ?\n",
    "ncbi_frame = ncbi_frame[ncbi_frame['content'].notna() & (ncbi_frame['content'] != '')]"
   ],
   "id": "2e96404aa5dd0f7b",
   "outputs": [],
   "execution_count": 67
  },
  {
   "cell_type": "code",
   "id": "f8c2e13cee8818cb",
   "metadata": {
    "ExecuteTime": {
     "end_time": "2024-12-06T13:24:40.983606Z",
     "start_time": "2024-12-06T13:24:40.978145Z"
    }
   },
   "source": [
    "ncbi_frame['content_count'] = ncbi_frame['content_list'].apply(len)"
   ],
   "outputs": [],
   "execution_count": 68
  },
  {
   "cell_type": "code",
   "id": "edeaac7b5ce53cd5",
   "metadata": {
    "ExecuteTime": {
     "end_time": "2024-12-06T13:24:45.694822Z",
     "start_time": "2024-12-06T13:24:45.691082Z"
    }
   },
   "source": [
    "ncbi_frame.shape"
   ],
   "outputs": [
    {
     "data": {
      "text/plain": [
       "(7191, 5)"
      ]
     },
     "execution_count": 69,
     "metadata": {},
     "output_type": "execute_result"
    }
   ],
   "execution_count": 69
  },
  {
   "cell_type": "code",
   "id": "18860251fea32ee5",
   "metadata": {
    "ExecuteTime": {
     "end_time": "2024-12-06T13:24:50.389059Z",
     "start_time": "2024-12-06T13:24:50.382252Z"
    }
   },
   "source": [
    "ncbi_frame = ncbi_frame.explode('content_list').reset_index(drop=True)"
   ],
   "outputs": [],
   "execution_count": 70
  },
  {
   "cell_type": "code",
   "id": "bc8b89960c12f6e6",
   "metadata": {
    "ExecuteTime": {
     "end_time": "2024-12-06T13:24:55.785695Z",
     "start_time": "2024-12-06T13:24:55.781590Z"
    }
   },
   "source": [
    "ncbi_frame.shape"
   ],
   "outputs": [
    {
     "data": {
      "text/plain": [
       "(7330, 5)"
      ]
     },
     "execution_count": 71,
     "metadata": {},
     "output_type": "execute_result"
    }
   ],
   "execution_count": 71
  },
  {
   "cell_type": "code",
   "id": "85a0a4ccd63b7952",
   "metadata": {
    "ExecuteTime": {
     "end_time": "2024-12-06T13:25:00.512819Z",
     "start_time": "2024-12-06T13:25:00.510314Z"
    }
   },
   "source": [
    "# how many content_list strings contain envo multiple times now?"
   ],
   "outputs": [],
   "execution_count": 72
  },
  {
   "cell_type": "code",
   "id": "4dee374026c8272a",
   "metadata": {
    "ExecuteTime": {
     "end_time": "2024-12-06T13:25:05.217722Z",
     "start_time": "2024-12-06T13:25:05.208649Z"
    }
   },
   "source": [
    "ncbi_frame['envo_count'] = ncbi_frame['content_list'].str.lower().str.count(\"envo\")"
   ],
   "outputs": [],
   "execution_count": 73
  },
  {
   "cell_type": "code",
   "id": "417319d62ef07d0b",
   "metadata": {
    "ExecuteTime": {
     "end_time": "2024-12-06T13:25:09.900814Z",
     "start_time": "2024-12-06T13:25:09.895748Z"
    }
   },
   "source": [
    "ncbi_frame['envo_count'].value_counts()"
   ],
   "outputs": [
    {
     "data": {
      "text/plain": [
       "envo_count\n",
       "0    5110\n",
       "1    2213\n",
       "2       6\n",
       "3       1\n",
       "Name: count, dtype: int64"
      ]
     },
     "execution_count": 74,
     "metadata": {},
     "output_type": "execute_result"
    }
   ],
   "execution_count": 74
  },
  {
   "cell_type": "markdown",
   "id": "5cf708305c445b4a",
   "metadata": {},
   "source": [
    "doesn't split multiple annotation strings delimited with something other than '|'\n",
    "annotations with no curies but multiple strings will be \"annotated\" with OAK, but currently only the one best OAK annotation is kept"
   ]
  },
  {
   "cell_type": "code",
   "id": "7b256380eceaceaa",
   "metadata": {
    "ExecuteTime": {
     "end_time": "2024-12-06T13:25:16.474562Z",
     "start_time": "2024-12-06T13:25:14.708224Z"
    }
   },
   "source": [
    "ncbi_frame[['extracted_label', 'extracted_curie']] = ncbi_frame['content_list'].apply(parse_curie_label)"
   ],
   "outputs": [],
   "execution_count": 75
  },
  {
   "cell_type": "code",
   "id": "761e39ab29aef0a7",
   "metadata": {
    "ExecuteTime": {
     "end_time": "2024-12-06T13:25:16.522706Z",
     "start_time": "2024-12-06T13:25:16.518150Z"
    }
   },
   "source": [
    "parse_failures = ncbi_frame[\n",
    "    (ncbi_frame['envo_count'] > 0) & (ncbi_frame['extracted_curie'].isna() | (ncbi_frame['extracted_curie'] == ''))]\n"
   ],
   "outputs": [],
   "execution_count": 76
  },
  {
   "cell_type": "code",
   "id": "a9316f11da9ee0c8",
   "metadata": {
    "ExecuteTime": {
     "end_time": "2024-12-06T13:25:16.565138Z",
     "start_time": "2024-12-06T13:25:16.549016Z"
    }
   },
   "source": [
    "parse_failures"
   ],
   "outputs": [
    {
     "data": {
      "text/plain": [
       "      serial_number                                            content  \\\n",
       "316             310  ENVO:Tropical and subtropical moist broadleaf ...   \n",
       "318             312           ENVO:subtropical coniferous forest biome   \n",
       "348             340  ENVO:Tropical and subtropical coniferous fores...   \n",
       "372             364  ENVO:Temperate grasslands, savannas, and shrub...   \n",
       "373             365         ENVO:Tropical moist broadleaf forest biome   \n",
       "...             ...                                                ...   \n",
       "6557           6433                                        ENVO0000317   \n",
       "6558           6434                                        ENVO0000320   \n",
       "6559           6435                                        ENVO0000325   \n",
       "6725           6601                                        ENVO0000019   \n",
       "6726           6602                                        ENVO0000022   \n",
       "\n",
       "      sample_count                                       content_list  \\\n",
       "316            172  ENVO:Tropical and subtropical moist broadleaf ...   \n",
       "318            171           ENVO:subtropical coniferous forest biome   \n",
       "348            150  ENVO:Tropical and subtropical coniferous fores...   \n",
       "372            137  ENVO:Temperate grasslands, savannas, and shrub...   \n",
       "373            137         ENVO:Tropical moist broadleaf forest biome   \n",
       "...            ...                                                ...   \n",
       "6557             1                                        ENVO0000317   \n",
       "6558             1                                        ENVO0000320   \n",
       "6559             1                                        ENVO0000325   \n",
       "6725             1                                        ENVO0000019   \n",
       "6726             1                                        ENVO0000022   \n",
       "\n",
       "      content_count  envo_count  \\\n",
       "316               1           1   \n",
       "318               1           1   \n",
       "348               1           1   \n",
       "372               1           1   \n",
       "373               1           1   \n",
       "...             ...         ...   \n",
       "6557              1           1   \n",
       "6558              1           1   \n",
       "6559              1           1   \n",
       "6725              1           1   \n",
       "6726              1           1   \n",
       "\n",
       "                                        extracted_label extracted_curie  \n",
       "316   ENVO Tropical and subtropical moist broadleaf ...            None  \n",
       "318            ENVO subtropical coniferous forest biome            None  \n",
       "348   ENVO Tropical and subtropical coniferous fores...            None  \n",
       "372   ENVO Temperate grasslands, savannas, and shrub...            None  \n",
       "373          ENVO Tropical moist broadleaf forest biome            None  \n",
       "...                                                 ...             ...  \n",
       "6557                                        ENVO0000317            None  \n",
       "6558                                        ENVO0000320            None  \n",
       "6559                                        ENVO0000325            None  \n",
       "6725                                        ENVO0000019            None  \n",
       "6726                                        ENVO0000022            None  \n",
       "\n",
       "[338 rows x 8 columns]"
      ],
      "text/html": [
       "<div>\n",
       "<style scoped>\n",
       "    .dataframe tbody tr th:only-of-type {\n",
       "        vertical-align: middle;\n",
       "    }\n",
       "\n",
       "    .dataframe tbody tr th {\n",
       "        vertical-align: top;\n",
       "    }\n",
       "\n",
       "    .dataframe thead th {\n",
       "        text-align: right;\n",
       "    }\n",
       "</style>\n",
       "<table border=\"1\" class=\"dataframe\">\n",
       "  <thead>\n",
       "    <tr style=\"text-align: right;\">\n",
       "      <th></th>\n",
       "      <th>serial_number</th>\n",
       "      <th>content</th>\n",
       "      <th>sample_count</th>\n",
       "      <th>content_list</th>\n",
       "      <th>content_count</th>\n",
       "      <th>envo_count</th>\n",
       "      <th>extracted_label</th>\n",
       "      <th>extracted_curie</th>\n",
       "    </tr>\n",
       "  </thead>\n",
       "  <tbody>\n",
       "    <tr>\n",
       "      <th>316</th>\n",
       "      <td>310</td>\n",
       "      <td>ENVO:Tropical and subtropical moist broadleaf ...</td>\n",
       "      <td>172</td>\n",
       "      <td>ENVO:Tropical and subtropical moist broadleaf ...</td>\n",
       "      <td>1</td>\n",
       "      <td>1</td>\n",
       "      <td>ENVO Tropical and subtropical moist broadleaf ...</td>\n",
       "      <td>None</td>\n",
       "    </tr>\n",
       "    <tr>\n",
       "      <th>318</th>\n",
       "      <td>312</td>\n",
       "      <td>ENVO:subtropical coniferous forest biome</td>\n",
       "      <td>171</td>\n",
       "      <td>ENVO:subtropical coniferous forest biome</td>\n",
       "      <td>1</td>\n",
       "      <td>1</td>\n",
       "      <td>ENVO subtropical coniferous forest biome</td>\n",
       "      <td>None</td>\n",
       "    </tr>\n",
       "    <tr>\n",
       "      <th>348</th>\n",
       "      <td>340</td>\n",
       "      <td>ENVO:Tropical and subtropical coniferous fores...</td>\n",
       "      <td>150</td>\n",
       "      <td>ENVO:Tropical and subtropical coniferous fores...</td>\n",
       "      <td>1</td>\n",
       "      <td>1</td>\n",
       "      <td>ENVO Tropical and subtropical coniferous fores...</td>\n",
       "      <td>None</td>\n",
       "    </tr>\n",
       "    <tr>\n",
       "      <th>372</th>\n",
       "      <td>364</td>\n",
       "      <td>ENVO:Temperate grasslands, savannas, and shrub...</td>\n",
       "      <td>137</td>\n",
       "      <td>ENVO:Temperate grasslands, savannas, and shrub...</td>\n",
       "      <td>1</td>\n",
       "      <td>1</td>\n",
       "      <td>ENVO Temperate grasslands, savannas, and shrub...</td>\n",
       "      <td>None</td>\n",
       "    </tr>\n",
       "    <tr>\n",
       "      <th>373</th>\n",
       "      <td>365</td>\n",
       "      <td>ENVO:Tropical moist broadleaf forest biome</td>\n",
       "      <td>137</td>\n",
       "      <td>ENVO:Tropical moist broadleaf forest biome</td>\n",
       "      <td>1</td>\n",
       "      <td>1</td>\n",
       "      <td>ENVO Tropical moist broadleaf forest biome</td>\n",
       "      <td>None</td>\n",
       "    </tr>\n",
       "    <tr>\n",
       "      <th>...</th>\n",
       "      <td>...</td>\n",
       "      <td>...</td>\n",
       "      <td>...</td>\n",
       "      <td>...</td>\n",
       "      <td>...</td>\n",
       "      <td>...</td>\n",
       "      <td>...</td>\n",
       "      <td>...</td>\n",
       "    </tr>\n",
       "    <tr>\n",
       "      <th>6557</th>\n",
       "      <td>6433</td>\n",
       "      <td>ENVO0000317</td>\n",
       "      <td>1</td>\n",
       "      <td>ENVO0000317</td>\n",
       "      <td>1</td>\n",
       "      <td>1</td>\n",
       "      <td>ENVO0000317</td>\n",
       "      <td>None</td>\n",
       "    </tr>\n",
       "    <tr>\n",
       "      <th>6558</th>\n",
       "      <td>6434</td>\n",
       "      <td>ENVO0000320</td>\n",
       "      <td>1</td>\n",
       "      <td>ENVO0000320</td>\n",
       "      <td>1</td>\n",
       "      <td>1</td>\n",
       "      <td>ENVO0000320</td>\n",
       "      <td>None</td>\n",
       "    </tr>\n",
       "    <tr>\n",
       "      <th>6559</th>\n",
       "      <td>6435</td>\n",
       "      <td>ENVO0000325</td>\n",
       "      <td>1</td>\n",
       "      <td>ENVO0000325</td>\n",
       "      <td>1</td>\n",
       "      <td>1</td>\n",
       "      <td>ENVO0000325</td>\n",
       "      <td>None</td>\n",
       "    </tr>\n",
       "    <tr>\n",
       "      <th>6725</th>\n",
       "      <td>6601</td>\n",
       "      <td>ENVO0000019</td>\n",
       "      <td>1</td>\n",
       "      <td>ENVO0000019</td>\n",
       "      <td>1</td>\n",
       "      <td>1</td>\n",
       "      <td>ENVO0000019</td>\n",
       "      <td>None</td>\n",
       "    </tr>\n",
       "    <tr>\n",
       "      <th>6726</th>\n",
       "      <td>6602</td>\n",
       "      <td>ENVO0000022</td>\n",
       "      <td>1</td>\n",
       "      <td>ENVO0000022</td>\n",
       "      <td>1</td>\n",
       "      <td>1</td>\n",
       "      <td>ENVO0000022</td>\n",
       "      <td>None</td>\n",
       "    </tr>\n",
       "  </tbody>\n",
       "</table>\n",
       "<p>338 rows × 8 columns</p>\n",
       "</div>"
      ]
     },
     "execution_count": 77,
     "metadata": {},
     "output_type": "execute_result"
    }
   ],
   "execution_count": 77
  },
  {
   "metadata": {},
   "cell_type": "markdown",
   "source": "Should we try parsing on additional CURIE delimiters? Or no delimiter?\n",
   "id": "4041748e969c8f3f"
  },
  {
   "cell_type": "code",
   "id": "9bdebd91856ff679",
   "metadata": {
    "ExecuteTime": {
     "end_time": "2024-12-06T13:25:23.927641Z",
     "start_time": "2024-12-06T13:25:21.285175Z"
    }
   },
   "source": [
    "ncbi_frame['real_label'] = ncbi_frame['extracted_curie'].apply(envo_adapter.label)"
   ],
   "outputs": [],
   "execution_count": 78
  },
  {
   "cell_type": "code",
   "id": "d06d899567db022e",
   "metadata": {
    "ExecuteTime": {
     "end_time": "2024-12-06T13:25:43.499058Z",
     "start_time": "2024-12-06T13:25:23.965020Z"
    }
   },
   "source": [
    "# Apply the annotation function to each row in the 'label' column\n",
    "ncbi_frame['longest_annotation_curie'] = ncbi_frame['extracted_label'].apply(\n",
    "    lambda x: get_longest_annotation_curie(x, envo_adapter, MIN_ANNOTATION_LEN))\n",
    "\n",
    "# this cell only takes ~ 1 minute, but generates a lot of \"ERRORS\" and WARNINGS in a red fornt\n",
    "#   while loading the ontologies that are used for annotating\n"
   ],
   "outputs": [
    {
     "name": "stderr",
     "output_type": "stream",
     "text": [
      "ERROR:root:Skipping statements(subject=ENVO:00000112,predicate=oio:hasDbXref,object=<http://www.eionet.europa.eu/gemet/concept/8704>,value=None,datatype=None,language=None,); ValueError: <http://www.eionet.europa.eu/gemet/concept/8704> is not a valid URI or CURIE\n",
      "ERROR:root:Skipping statements(subject=ENVO:00001996,predicate=oio:hasDbXref,object=<https://en.wikipedia.org/wiki/Acid_mine_drainage>,value=None,datatype=None,language=None,); ValueError: <https://en.wikipedia.org/wiki/Acid_mine_drainage> is not a valid URI or CURIE\n",
      "ERROR:root:Skipping statements(subject=ENVO:01000225,predicate=oio:hasDbXref,object=<https://www.worldwildlife.org/biomes/tropical-and-subtropical-dry-broadleaf-forests>,value=None,datatype=None,language=None,); ValueError: <https://www.worldwildlife.org/biomes/tropical-and-subtropical-dry-broadleaf-forests> is not a valid URI or CURIE\n",
      "ERROR:root:Skipping statements(subject=ENVO:01000227,predicate=oio:hasDbXref,object=<https://www.worldwildlife.org/biomes/tropical-and-subtropical-dry-broadleaf-forests>,value=None,datatype=None,language=None,); ValueError: <https://www.worldwildlife.org/biomes/tropical-and-subtropical-dry-broadleaf-forests> is not a valid URI or CURIE\n",
      "ERROR:root:Skipping statements(subject=ENVO:01001495,predicate=oio:hasDbXref,object=<https://www.goosocean.org/components/com_oe/oe.php?task=download&id=35904&version=2.0&lang=1&format=1>,value=None,datatype=None,language=None,); ValueError: <https://www.goosocean.org/components/com_oe/oe.php?task=download&id=35904&version=2.0&lang=1&format=1> is not a valid URI or CURIE\n",
      "ERROR:root:Skipping statements(subject=ENVO:01001621,predicate=oio:hasDbXref,object=<https://github.com/ESIPFed/sweet/issues/219>,value=None,datatype=None,language=None,); ValueError: <https://github.com/ESIPFed/sweet/issues/219> is not a valid URI or CURIE\n",
      "ERROR:root:Skipping statements(subject=ENVO:01001626,predicate=oio:hasDbXref,object=<https://www.worldwildlife.org/biomes/deserts-and-xeric-shrublands>,value=None,datatype=None,language=None,); ValueError: <https://www.worldwildlife.org/biomes/deserts-and-xeric-shrublands> is not a valid URI or CURIE\n",
      "ERROR:root:Skipping statements(subject=ENVO:01001627,predicate=oio:hasDbXref,object=<https://www.worldwildlife.org/ecoregions/im1304>,value=None,datatype=None,language=None,); ValueError: <https://www.worldwildlife.org/ecoregions/im1304> is not a valid URI or CURIE\n",
      "ERROR:root:Skipping statements(subject=ENVO:01001628,predicate=oio:hasDbXref,object=<https://www.worldwildlife.org/ecoregions/im1303>,value=None,datatype=None,language=None,); ValueError: <https://www.worldwildlife.org/ecoregions/im1303> is not a valid URI or CURIE\n",
      "ERROR:root:Skipping statements(subject=ENVO:01001644,predicate=oio:hasDbXref,object=<http://vocab.nerc.ac.uk/collection/S23/current/S23C021/>,value=None,datatype=None,language=None,); ValueError: <http://vocab.nerc.ac.uk/collection/S23/current/S23C021/> is not a valid URI or CURIE\n",
      "ERROR:root:Skipping statements(subject=ENVO:01001644,predicate=oio:hasDbXref,object=None,value=Carbonate which is formed as the result of some biological process.,datatype=None,language=None,); ValueError: Carbonate which is formed as the result of some biological process. is not a valid URI or CURIE\n",
      "ERROR:root:Skipping statements(subject=ENVO:01001645,predicate=oio:hasDbXref,object=<http://vocab.nerc.ac.uk/collection/S23/current/S23C013/>,value=None,datatype=None,language=None,); ValueError: <http://vocab.nerc.ac.uk/collection/S23/current/S23C013/> is not a valid URI or CURIE\n",
      "ERROR:root:Skipping statements(subject=ENVO:01001646,predicate=oio:hasDbXref,object=<http://vocab.nerc.ac.uk/collection/S23/current/S23C014/>,value=None,datatype=None,language=None,); ValueError: <http://vocab.nerc.ac.uk/collection/S23/current/S23C014/> is not a valid URI or CURIE\n",
      "ERROR:root:Skipping statements(subject=ENVO:01001647,predicate=oio:hasDbXref,object=<http://vocab.nerc.ac.uk/collection/S23/current/S23C004/>,value=None,datatype=None,language=None,); ValueError: <http://vocab.nerc.ac.uk/collection/S23/current/S23C004/> is not a valid URI or CURIE\n",
      "ERROR:root:Skipping statements(subject=ENVO:01001649,predicate=oio:hasDbXref,object=<http://vocab.nerc.ac.uk/collection/S23/current/S23C011/>,value=None,datatype=None,language=None,); ValueError: <http://vocab.nerc.ac.uk/collection/S23/current/S23C011/> is not a valid URI or CURIE\n",
      "ERROR:root:Skipping statements(subject=ENVO:01001650,predicate=oio:hasDbXref,object=<http://vocab.nerc.ac.uk/collection/S23/current/S23C012/>,value=None,datatype=None,language=None,); ValueError: <http://vocab.nerc.ac.uk/collection/S23/current/S23C012/> is not a valid URI or CURIE\n",
      "ERROR:root:Skipping statements(subject=ENVO:01001651,predicate=oio:hasDbXref,object=<http://vocab.nerc.ac.uk/collection/S23/current/S23C003/>,value=None,datatype=None,language=None,); ValueError: <http://vocab.nerc.ac.uk/collection/S23/current/S23C003/> is not a valid URI or CURIE\n",
      "ERROR:root:Skipping statements(subject=ENVO:01001652,predicate=oio:hasDbXref,object=<http://vocab.nerc.ac.uk/collection/S23/current/S23C005/>,value=None,datatype=None,language=None,); ValueError: <http://vocab.nerc.ac.uk/collection/S23/current/S23C005/> is not a valid URI or CURIE\n",
      "ERROR:root:Skipping statements(subject=ENVO:01001685,predicate=oio:hasDbXref,object=<https://github.com/EnvironmentOntology/envo/issues/1319>,value=None,datatype=None,language=None,); ValueError: <https://github.com/EnvironmentOntology/envo/issues/1319> is not a valid URI or CURIE\n",
      "ERROR:root:Skipping statements(subject=ENVO:01001692,predicate=oio:hasDbXref,object=<https://github.com/EnvironmentOntology/envo/issues/1319>,value=None,datatype=None,language=None,); ValueError: <https://github.com/EnvironmentOntology/envo/issues/1319> is not a valid URI or CURIE\n",
      "ERROR:root:Skipping statements(subject=ENVO:01001743,predicate=oio:hasDbXref,object=<https://github.com/EnvironmentOntology/envo/issues/1319>,value=None,datatype=None,language=None,); ValueError: <https://github.com/EnvironmentOntology/envo/issues/1319> is not a valid URI or CURIE\n",
      "ERROR:root:Skipping statements(subject=ENVO:01001799,predicate=oio:hasDbXref,object=<https://www.worldwildlife.org/biomes/tropical-and-subtropical-dry-broadleaf-forests>,value=None,datatype=None,language=None,); ValueError: <https://www.worldwildlife.org/biomes/tropical-and-subtropical-dry-broadleaf-forests> is not a valid URI or CURIE\n",
      "ERROR:root:Skipping statements(subject=ENVO:01001801,predicate=oio:hasDbXref,object=<https://www.worldwildlife.org/biomes/tropical-and-subtropical-dry-broadleaf-forests>,value=None,datatype=None,language=None,); ValueError: <https://www.worldwildlife.org/biomes/tropical-and-subtropical-dry-broadleaf-forests> is not a valid URI or CURIE\n",
      "ERROR:root:Skipping statements(subject=ENVO:01001823,predicate=oio:hasDbXref,object=<https://github.com/EnvironmentOntology/envo/issues/1319>,value=None,datatype=None,language=None,); ValueError: <https://github.com/EnvironmentOntology/envo/issues/1319> is not a valid URI or CURIE\n",
      "ERROR:root:Skipping statements(subject=ENVO:01001878,predicate=oio:hasDbXref,object=<https://www.goosocean.org/index.php?option=com_oe&task=viewDocumentRecord&docID=17476>,value=None,datatype=None,language=None,); ValueError: <https://www.goosocean.org/index.php?option=com_oe&task=viewDocumentRecord&docID=17476> is not a valid URI or CURIE\n",
      "ERROR:root:Skipping statements(subject=ENVO:01001879,predicate=oio:hasDbXref,object=<https://github.com/ESIPFed/sweet/issues/219>,value=None,datatype=None,language=None,); ValueError: <https://github.com/ESIPFed/sweet/issues/219> is not a valid URI or CURIE\n",
      "ERROR:root:Skipping statements(subject=ENVO:01001880,predicate=oio:hasDbXref,object=<https://github.com/ESIPFed/sweet/issues/219>,value=None,datatype=None,language=None,); ValueError: <https://github.com/ESIPFed/sweet/issues/219> is not a valid URI or CURIE\n",
      "ERROR:root:Skipping statements(subject=ENVO:01001881,predicate=oio:hasDbXref,object=<https://github.com/ESIPFed/sweet/issues/219>,value=None,datatype=None,language=None,); ValueError: <https://github.com/ESIPFed/sweet/issues/219> is not a valid URI or CURIE\n",
      "ERROR:root:Skipping statements(subject=ENVO:02000093,predicate=oio:hasDbXref,object=<https://en.wikipedia.org/wiki/Uranium_mining>,value=None,datatype=None,language=None,); ValueError: <https://en.wikipedia.org/wiki/Uranium_mining> is not a valid URI or CURIE\n",
      "ERROR:root:Skipping statements(subject=ENVO:02000094,predicate=oio:hasDbXref,object=<https://en.wikipedia.org/wiki/Ore>,value=None,datatype=None,language=None,); ValueError: <https://en.wikipedia.org/wiki/Ore> is not a valid URI or CURIE\n",
      "ERROR:root:Skipping statements(subject=ENVO:03501363,predicate=oio:hasDbXref,object=<https://www.conveyorsystemsltd.co.uk/news/168/126/Roller-Conveyor-vs-Belt-Conveyor.htm>,value=None,datatype=None,language=None,); ValueError: <https://www.conveyorsystemsltd.co.uk/news/168/126/Roller-Conveyor-vs-Belt-Conveyor.htm> is not a valid URI or CURIE\n",
      "ERROR:root:Skipping statements(subject=ENVO:06105112,predicate=oio:hasDbXref,object=<http://eurovoc.europa.eu/1837>,value=None,datatype=None,language=None,); ValueError: <http://eurovoc.europa.eu/1837> is not a valid URI or CURIE\n",
      "ERROR:root:Skipping statements(subject=ENVO:06105112,predicate=oio:hasDbXref,object=<http://aims.fao.org/aos/agrovoc/c_5998>,value=None,datatype=None,language=None,); ValueError: <http://aims.fao.org/aos/agrovoc/c_5998> is not a valid URI or CURIE\n",
      "WARNING:root:Skipping <http://geneontology.org/foo/applies-pattern> as it is not a valid CURIE\n",
      "WARNING:root:Skipping <http://schema.org/image> as it is not a valid CURIE\n",
      "WARNING:root:Skipping <http://swrl.stanford.edu/ontologies/3.3/swrla.owl#isRuleEnabled> as it is not a valid CURIE\n",
      "WARNING:root:Skipping <https://www.wikidata.org/wiki/Q2306597> as it is not a valid CURIE\n",
      "WARNING:root:Skipping <https://www.wikidata.org/wiki/Q2> as it is not a valid CURIE\n",
      "WARNING:root:Skipping <https://www.wikidata.org/wiki/Q525> as it is not a valid CURIE\n",
      "WARNING:root:Skipping <https://www.wikidata.org/wiki/Q715269> as it is not a valid CURIE\n"
     ]
    }
   ],
   "execution_count": 79
  },
  {
   "cell_type": "code",
   "id": "2d0d090813223db3",
   "metadata": {
    "ExecuteTime": {
     "end_time": "2024-12-06T13:25:45.543171Z",
     "start_time": "2024-12-06T13:25:43.547766Z"
    }
   },
   "source": [
    "ncbi_frame['longest_annotation_label'] = ncbi_frame['longest_annotation_curie'].apply(envo_adapter.label)"
   ],
   "outputs": [],
   "execution_count": 80
  },
  {
   "cell_type": "code",
   "id": "940cd4e688adb239",
   "metadata": {
    "ExecuteTime": {
     "end_time": "2024-12-06T13:25:50.976743Z",
     "start_time": "2024-12-06T13:25:50.964889Z"
    }
   },
   "source": [
    "ncbi_frame"
   ],
   "outputs": [
    {
     "data": {
      "text/plain": [
       "      serial_number                              content  sample_count  \\\n",
       "0                 1           soil biome [ENVO:01001044]         16533   \n",
       "1                 2                              missing         12170   \n",
       "2                 3                                 soil         10370   \n",
       "3                 4                       not applicable          9683   \n",
       "4                 5                        not collected          6404   \n",
       "...             ...                                  ...           ...   \n",
       "7325           7187  peat biome after methane incubation             1   \n",
       "7326           7188                     Chernozemic soil             1   \n",
       "7327           7189           marine supra-littoral zone             1   \n",
       "7328           7190                       soil microcosm             1   \n",
       "7329           7191       woodland biome [ENVO:01000175]             1   \n",
       "\n",
       "                             content_list  content_count  envo_count  \\\n",
       "0              soil biome [ENVO:01001044]              1           1   \n",
       "1                                 missing              1           0   \n",
       "2                                    soil              1           0   \n",
       "3                          not applicable              1           0   \n",
       "4                           not collected              1           0   \n",
       "...                                   ...            ...         ...   \n",
       "7325  peat biome after methane incubation              1           0   \n",
       "7326                     Chernozemic soil              1           0   \n",
       "7327           marine supra-littoral zone              1           0   \n",
       "7328                       soil microcosm              1           0   \n",
       "7329       woodland biome [ENVO:01000175]              1           1   \n",
       "\n",
       "                          extracted_label extracted_curie        real_label  \\\n",
       "0                              soil biome   ENVO:01001044  soil environment   \n",
       "1                                 missing            None              None   \n",
       "2                                    soil            None              None   \n",
       "3                          not applicable            None              None   \n",
       "4                           not collected            None              None   \n",
       "...                                   ...             ...               ...   \n",
       "7325  peat biome after methane incubation            None              None   \n",
       "7326                     Chernozemic soil            None              None   \n",
       "7327           marine supra-littoral zone            None              None   \n",
       "7328                       soil microcosm            None              None   \n",
       "7329                       woodland biome   ENVO:01000175    woodland biome   \n",
       "\n",
       "     longest_annotation_curie    longest_annotation_label  \n",
       "0               ENVO:00000428                       biome  \n",
       "1                        None                        None  \n",
       "2               ENVO:00001998                        soil  \n",
       "3                        None                        None  \n",
       "4                        None                        None  \n",
       "...                       ...                         ...  \n",
       "7325              CHEBI:16183                     methane  \n",
       "7326            ENVO:00002237                   chernozem  \n",
       "7327            ENVO:01000124  marine supra-littoral zone  \n",
       "7328            ENVO:01000621                   microcosm  \n",
       "7329            ENVO:01000175              woodland biome  \n",
       "\n",
       "[7330 rows x 11 columns]"
      ],
      "text/html": [
       "<div>\n",
       "<style scoped>\n",
       "    .dataframe tbody tr th:only-of-type {\n",
       "        vertical-align: middle;\n",
       "    }\n",
       "\n",
       "    .dataframe tbody tr th {\n",
       "        vertical-align: top;\n",
       "    }\n",
       "\n",
       "    .dataframe thead th {\n",
       "        text-align: right;\n",
       "    }\n",
       "</style>\n",
       "<table border=\"1\" class=\"dataframe\">\n",
       "  <thead>\n",
       "    <tr style=\"text-align: right;\">\n",
       "      <th></th>\n",
       "      <th>serial_number</th>\n",
       "      <th>content</th>\n",
       "      <th>sample_count</th>\n",
       "      <th>content_list</th>\n",
       "      <th>content_count</th>\n",
       "      <th>envo_count</th>\n",
       "      <th>extracted_label</th>\n",
       "      <th>extracted_curie</th>\n",
       "      <th>real_label</th>\n",
       "      <th>longest_annotation_curie</th>\n",
       "      <th>longest_annotation_label</th>\n",
       "    </tr>\n",
       "  </thead>\n",
       "  <tbody>\n",
       "    <tr>\n",
       "      <th>0</th>\n",
       "      <td>1</td>\n",
       "      <td>soil biome [ENVO:01001044]</td>\n",
       "      <td>16533</td>\n",
       "      <td>soil biome [ENVO:01001044]</td>\n",
       "      <td>1</td>\n",
       "      <td>1</td>\n",
       "      <td>soil biome</td>\n",
       "      <td>ENVO:01001044</td>\n",
       "      <td>soil environment</td>\n",
       "      <td>ENVO:00000428</td>\n",
       "      <td>biome</td>\n",
       "    </tr>\n",
       "    <tr>\n",
       "      <th>1</th>\n",
       "      <td>2</td>\n",
       "      <td>missing</td>\n",
       "      <td>12170</td>\n",
       "      <td>missing</td>\n",
       "      <td>1</td>\n",
       "      <td>0</td>\n",
       "      <td>missing</td>\n",
       "      <td>None</td>\n",
       "      <td>None</td>\n",
       "      <td>None</td>\n",
       "      <td>None</td>\n",
       "    </tr>\n",
       "    <tr>\n",
       "      <th>2</th>\n",
       "      <td>3</td>\n",
       "      <td>soil</td>\n",
       "      <td>10370</td>\n",
       "      <td>soil</td>\n",
       "      <td>1</td>\n",
       "      <td>0</td>\n",
       "      <td>soil</td>\n",
       "      <td>None</td>\n",
       "      <td>None</td>\n",
       "      <td>ENVO:00001998</td>\n",
       "      <td>soil</td>\n",
       "    </tr>\n",
       "    <tr>\n",
       "      <th>3</th>\n",
       "      <td>4</td>\n",
       "      <td>not applicable</td>\n",
       "      <td>9683</td>\n",
       "      <td>not applicable</td>\n",
       "      <td>1</td>\n",
       "      <td>0</td>\n",
       "      <td>not applicable</td>\n",
       "      <td>None</td>\n",
       "      <td>None</td>\n",
       "      <td>None</td>\n",
       "      <td>None</td>\n",
       "    </tr>\n",
       "    <tr>\n",
       "      <th>4</th>\n",
       "      <td>5</td>\n",
       "      <td>not collected</td>\n",
       "      <td>6404</td>\n",
       "      <td>not collected</td>\n",
       "      <td>1</td>\n",
       "      <td>0</td>\n",
       "      <td>not collected</td>\n",
       "      <td>None</td>\n",
       "      <td>None</td>\n",
       "      <td>None</td>\n",
       "      <td>None</td>\n",
       "    </tr>\n",
       "    <tr>\n",
       "      <th>...</th>\n",
       "      <td>...</td>\n",
       "      <td>...</td>\n",
       "      <td>...</td>\n",
       "      <td>...</td>\n",
       "      <td>...</td>\n",
       "      <td>...</td>\n",
       "      <td>...</td>\n",
       "      <td>...</td>\n",
       "      <td>...</td>\n",
       "      <td>...</td>\n",
       "      <td>...</td>\n",
       "    </tr>\n",
       "    <tr>\n",
       "      <th>7325</th>\n",
       "      <td>7187</td>\n",
       "      <td>peat biome after methane incubation</td>\n",
       "      <td>1</td>\n",
       "      <td>peat biome after methane incubation</td>\n",
       "      <td>1</td>\n",
       "      <td>0</td>\n",
       "      <td>peat biome after methane incubation</td>\n",
       "      <td>None</td>\n",
       "      <td>None</td>\n",
       "      <td>CHEBI:16183</td>\n",
       "      <td>methane</td>\n",
       "    </tr>\n",
       "    <tr>\n",
       "      <th>7326</th>\n",
       "      <td>7188</td>\n",
       "      <td>Chernozemic soil</td>\n",
       "      <td>1</td>\n",
       "      <td>Chernozemic soil</td>\n",
       "      <td>1</td>\n",
       "      <td>0</td>\n",
       "      <td>Chernozemic soil</td>\n",
       "      <td>None</td>\n",
       "      <td>None</td>\n",
       "      <td>ENVO:00002237</td>\n",
       "      <td>chernozem</td>\n",
       "    </tr>\n",
       "    <tr>\n",
       "      <th>7327</th>\n",
       "      <td>7189</td>\n",
       "      <td>marine supra-littoral zone</td>\n",
       "      <td>1</td>\n",
       "      <td>marine supra-littoral zone</td>\n",
       "      <td>1</td>\n",
       "      <td>0</td>\n",
       "      <td>marine supra-littoral zone</td>\n",
       "      <td>None</td>\n",
       "      <td>None</td>\n",
       "      <td>ENVO:01000124</td>\n",
       "      <td>marine supra-littoral zone</td>\n",
       "    </tr>\n",
       "    <tr>\n",
       "      <th>7328</th>\n",
       "      <td>7190</td>\n",
       "      <td>soil microcosm</td>\n",
       "      <td>1</td>\n",
       "      <td>soil microcosm</td>\n",
       "      <td>1</td>\n",
       "      <td>0</td>\n",
       "      <td>soil microcosm</td>\n",
       "      <td>None</td>\n",
       "      <td>None</td>\n",
       "      <td>ENVO:01000621</td>\n",
       "      <td>microcosm</td>\n",
       "    </tr>\n",
       "    <tr>\n",
       "      <th>7329</th>\n",
       "      <td>7191</td>\n",
       "      <td>woodland biome [ENVO:01000175]</td>\n",
       "      <td>1</td>\n",
       "      <td>woodland biome [ENVO:01000175]</td>\n",
       "      <td>1</td>\n",
       "      <td>1</td>\n",
       "      <td>woodland biome</td>\n",
       "      <td>ENVO:01000175</td>\n",
       "      <td>woodland biome</td>\n",
       "      <td>ENVO:01000175</td>\n",
       "      <td>woodland biome</td>\n",
       "    </tr>\n",
       "  </tbody>\n",
       "</table>\n",
       "<p>7330 rows × 11 columns</p>\n",
       "</div>"
      ]
     },
     "execution_count": 81,
     "metadata": {},
     "output_type": "execute_result"
    }
   ],
   "execution_count": 81
  },
  {
   "metadata": {
    "ExecuteTime": {
     "end_time": "2024-12-06T13:25:55.638652Z",
     "start_time": "2024-12-06T13:25:55.634718Z"
    }
   },
   "cell_type": "code",
   "source": [
    "if os.path.isfile(gold_data_file_name):\n",
    "    print(f\"{gold_data_file_name} is already present in the current working directory.\")\n",
    "else:\n",
    "    print(f\"{gold_data_file_name} needs to be downloaded\")\n",
    "    gold_response = requests.get(gold_data_url)\n",
    "    with open(gold_data_file_name, \"wb\") as f:\n",
    "        f.write(gold_response.content)\n",
    "        # ~ 10 seconds  @ 250 Mbps"
   ],
   "id": "8de124964756a131",
   "outputs": [
    {
     "name": "stdout",
     "output_type": "stream",
     "text": [
      "goldData.xlsx is already present in the current working directory.\n"
     ]
    }
   ],
   "execution_count": 82
  },
  {
   "metadata": {},
   "cell_type": "markdown",
   "source": [
    "Expect to see\n",
    "\n",
    "> /home/mark/.cache/pypoetry/virtualenvs/nmdc-submission-schema-DC6HKp4p-py3.10/lib/python3.10/site-packages/openpyxl/styles/stylesheet.py:237: UserWarning: Workbook contains no default style, apply openpyxl's default\n",
    "  warn(\"Workbook contains no default style, apply openpyxl's default\")"
   ],
   "id": "590bfd050233cda1"
  },
  {
   "metadata": {
    "ExecuteTime": {
     "end_time": "2024-12-06T13:25:56.538074Z",
     "start_time": "2024-12-06T13:25:55.692716Z"
    }
   },
   "cell_type": "code",
   "source": [
    "if os.path.isfile(gold_csv_file_name):\n",
    "    print(f\"{gold_csv_file_name} is present in the current working directory and will be parsed into gold_biosamples_frame.\")\n",
    "    gold_biosamples_frame = pd.read_csv(gold_csv_file_name, sep=\"\\t\")\n",
    "else:\n",
    "    print(f\"gold_biosamples_frame and {gold_csv_file_name} need to be created\")\n",
    "    gold_biosamples_frame = pd.read_excel(gold_data_file_name, sheet_name=BIOSAMPLES_SHEET)\n",
    "    gold_biosamples_frame.to_csv(\"gold_biosamples.csv\", index=False, sep=\"\\t\")\n",
    "    # 2 minutes"
   ],
   "id": "b2bded0c859cfdb7",
   "outputs": [
    {
     "name": "stdout",
     "output_type": "stream",
     "text": [
      "gold_biosamples.csv is present in the current working directory and will be parsed into gold_biosamples_frame.\n"
     ]
    }
   ],
   "execution_count": 83
  },
  {
   "cell_type": "code",
   "id": "fb292efb113d881a",
   "metadata": {
    "ExecuteTime": {
     "end_time": "2024-12-06T13:25:56.557969Z",
     "start_time": "2024-12-06T13:25:56.552459Z"
    }
   },
   "source": [
    "gold_biosamples_frame['BIOSAMPLE ECOSYSTEM PATH ID'] = gold_biosamples_frame['BIOSAMPLE ECOSYSTEM PATH ID'].fillna(\n",
    "    0).astype(int)\n"
   ],
   "outputs": [],
   "execution_count": 84
  },
  {
   "cell_type": "code",
   "id": "ca3110d5a0a1fa80",
   "metadata": {
    "ExecuteTime": {
     "end_time": "2024-12-06T13:26:01.634411Z",
     "start_time": "2024-12-06T13:26:01.617688Z"
    }
   },
   "source": [
    "gold_biosamples_frame"
   ],
   "outputs": [
    {
     "data": {
      "text/plain": [
       "       BIOSAMPLE GOLD ID                                     BIOSAMPLE NAME  \\\n",
       "0              Gb0011929  GEBA_MDM Biosample from Great Boiling Spring, ...   \n",
       "1              Gb0035601  Compost enrichment cellulose adapted microbial...   \n",
       "2              Gb0035602  Compost enrichment cellulose adapted microbial...   \n",
       "3              Gb0035635  Compost enrichment cellulose adapted microbial...   \n",
       "4              Gb0035638  Compost enrichment cellulose adapted microbial...   \n",
       "...                  ...                                                ...   \n",
       "210932         Gb0405291  Freshwater biofilm microbial communities from ...   \n",
       "210933         Gb0405292  Freshwater biofilm microbial communities from ...   \n",
       "210934         Gb0405293  Freshwater microbial communities from Lake Sug...   \n",
       "210935         Gb0405294  Freshwater microbial communities from Prairie ...   \n",
       "210936         Gb0405295  Freshwater biofilm microbial communities from ...   \n",
       "\n",
       "        BIOSAMPLE NCBI TAX ID BIOSAMPLE NCBI TAX NAME  \\\n",
       "0                    749907.0     sediment metagenome   \n",
       "1                    702656.0      compost metagenome   \n",
       "2                    702656.0      compost metagenome   \n",
       "3                    702656.0      compost metagenome   \n",
       "4                    702656.0      compost metagenome   \n",
       "...                       ...                     ...   \n",
       "210932               718308.0      biofilm metagenome   \n",
       "210933               718308.0      biofilm metagenome   \n",
       "210934               449393.0   freshwater metagenome   \n",
       "210935               449393.0   freshwater metagenome   \n",
       "210936               718308.0      biofilm metagenome   \n",
       "\n",
       "       BIOSAMPLE SAMPLE COLLECTION SITE BIOSAMPLE SAMPLE COLLECTION DATE  \\\n",
       "0                              Sediment                              NaN   \n",
       "1                           single cell                       2012-10-31   \n",
       "2                           single cell                       2012-10-31   \n",
       "3                           single cell                       2012-10-31   \n",
       "4                           single cell                       2012-10-31   \n",
       "...                                 ...                              ...   \n",
       "210932                    creek biofilm                       2023-07-26   \n",
       "210933                    creek biofilm                       2023-07-26   \n",
       "210934                       lake water                       2023-08-01   \n",
       "210935                       lake water                       2023-08-08   \n",
       "210936                    creek biofilm                       2023-07-24   \n",
       "\n",
       "                            BIOSAMPLE GEOGRAPHIC LOCATION  BIOSAMPLE LATITUDE  \\\n",
       "0                      Great Boiling Spring (GBS), Nevada           40.661433   \n",
       "1       USA: California: Emeryville: Joint Bio-Energy ...           37.840800   \n",
       "2       USA: California: Emeryville: Joint Bio-Energy ...           37.840800   \n",
       "3       USA: California: Emeryville: Joint Bio-Energy ...           37.840800   \n",
       "4       USA: California: Emeryville: Joint Bio-Energy ...           37.840800   \n",
       "...                                                   ...                 ...   \n",
       "210932   USA: Lewis Run NEON Field Site, Briggs, Virginia           39.095630   \n",
       "210933   USA: Lewis Run NEON Field Site, Briggs, Virginia           39.095630   \n",
       "210934  USA: Lake Suggs NEON Field Site, Melrose, Florida           29.688140   \n",
       "210935  USA: Prairie Lake NEON Field Site, Vashti, Nor...           47.159710   \n",
       "210936  USA: Kings Creek NEON Field Site, Manhattan, K...           39.105060   \n",
       "\n",
       "        BIOSAMPLE LONGITUDE  BIOSAMPLE ECOSYSTEM PATH ID BIOSAMPLE ECOSYSTEM  \\\n",
       "0               -119.366250                         3992       Environmental   \n",
       "1               -122.289600                         6039          Engineered   \n",
       "2               -122.289600                         6039          Engineered   \n",
       "3               -122.289600                         6039          Engineered   \n",
       "4               -122.289600                         6039          Engineered   \n",
       "...                     ...                          ...                 ...   \n",
       "210932           -77.983216                         8389       Environmental   \n",
       "210933           -77.983216                         8389       Environmental   \n",
       "210934           -82.017318                         4179       Environmental   \n",
       "210935           -99.118723                         4179       Environmental   \n",
       "210936           -96.603829                         8389       Environmental   \n",
       "\n",
       "       BIOSAMPLE ECOSYSTEM CATEGORY BIOSAMPLE ECOSYSTEM TYPE  \\\n",
       "0                           Aquatic          Thermal springs   \n",
       "1                       Solid waste              Green waste   \n",
       "2                       Solid waste              Green waste   \n",
       "3                       Solid waste              Green waste   \n",
       "4                       Solid waste              Green waste   \n",
       "...                             ...                      ...   \n",
       "210932                      Aquatic               Freshwater   \n",
       "210933                      Aquatic               Freshwater   \n",
       "210934                      Aquatic               Freshwater   \n",
       "210935                      Aquatic               Freshwater   \n",
       "210936                      Aquatic               Freshwater   \n",
       "\n",
       "       BIOSAMPLE ECOSYSTEM SUBTYPE BIOSAMPLE SPECIFIC ECOSYSTEM  \n",
       "0                     Hot (42-90C)                 Unclassified  \n",
       "1                       Composting                 Unclassified  \n",
       "2                       Composting                 Unclassified  \n",
       "3                       Composting                 Unclassified  \n",
       "4                       Composting                 Unclassified  \n",
       "...                            ...                          ...  \n",
       "210932                       Creek                      Biofilm  \n",
       "210933                       Creek                      Biofilm  \n",
       "210934                        Lake                 Unclassified  \n",
       "210935                        Lake                 Unclassified  \n",
       "210936                       Creek                      Biofilm  \n",
       "\n",
       "[210937 rows x 15 columns]"
      ],
      "text/html": [
       "<div>\n",
       "<style scoped>\n",
       "    .dataframe tbody tr th:only-of-type {\n",
       "        vertical-align: middle;\n",
       "    }\n",
       "\n",
       "    .dataframe tbody tr th {\n",
       "        vertical-align: top;\n",
       "    }\n",
       "\n",
       "    .dataframe thead th {\n",
       "        text-align: right;\n",
       "    }\n",
       "</style>\n",
       "<table border=\"1\" class=\"dataframe\">\n",
       "  <thead>\n",
       "    <tr style=\"text-align: right;\">\n",
       "      <th></th>\n",
       "      <th>BIOSAMPLE GOLD ID</th>\n",
       "      <th>BIOSAMPLE NAME</th>\n",
       "      <th>BIOSAMPLE NCBI TAX ID</th>\n",
       "      <th>BIOSAMPLE NCBI TAX NAME</th>\n",
       "      <th>BIOSAMPLE SAMPLE COLLECTION SITE</th>\n",
       "      <th>BIOSAMPLE SAMPLE COLLECTION DATE</th>\n",
       "      <th>BIOSAMPLE GEOGRAPHIC LOCATION</th>\n",
       "      <th>BIOSAMPLE LATITUDE</th>\n",
       "      <th>BIOSAMPLE LONGITUDE</th>\n",
       "      <th>BIOSAMPLE ECOSYSTEM PATH ID</th>\n",
       "      <th>BIOSAMPLE ECOSYSTEM</th>\n",
       "      <th>BIOSAMPLE ECOSYSTEM CATEGORY</th>\n",
       "      <th>BIOSAMPLE ECOSYSTEM TYPE</th>\n",
       "      <th>BIOSAMPLE ECOSYSTEM SUBTYPE</th>\n",
       "      <th>BIOSAMPLE SPECIFIC ECOSYSTEM</th>\n",
       "    </tr>\n",
       "  </thead>\n",
       "  <tbody>\n",
       "    <tr>\n",
       "      <th>0</th>\n",
       "      <td>Gb0011929</td>\n",
       "      <td>GEBA_MDM Biosample from Great Boiling Spring, ...</td>\n",
       "      <td>749907.0</td>\n",
       "      <td>sediment metagenome</td>\n",
       "      <td>Sediment</td>\n",
       "      <td>NaN</td>\n",
       "      <td>Great Boiling Spring (GBS), Nevada</td>\n",
       "      <td>40.661433</td>\n",
       "      <td>-119.366250</td>\n",
       "      <td>3992</td>\n",
       "      <td>Environmental</td>\n",
       "      <td>Aquatic</td>\n",
       "      <td>Thermal springs</td>\n",
       "      <td>Hot (42-90C)</td>\n",
       "      <td>Unclassified</td>\n",
       "    </tr>\n",
       "    <tr>\n",
       "      <th>1</th>\n",
       "      <td>Gb0035601</td>\n",
       "      <td>Compost enrichment cellulose adapted microbial...</td>\n",
       "      <td>702656.0</td>\n",
       "      <td>compost metagenome</td>\n",
       "      <td>single cell</td>\n",
       "      <td>2012-10-31</td>\n",
       "      <td>USA: California: Emeryville: Joint Bio-Energy ...</td>\n",
       "      <td>37.840800</td>\n",
       "      <td>-122.289600</td>\n",
       "      <td>6039</td>\n",
       "      <td>Engineered</td>\n",
       "      <td>Solid waste</td>\n",
       "      <td>Green waste</td>\n",
       "      <td>Composting</td>\n",
       "      <td>Unclassified</td>\n",
       "    </tr>\n",
       "    <tr>\n",
       "      <th>2</th>\n",
       "      <td>Gb0035602</td>\n",
       "      <td>Compost enrichment cellulose adapted microbial...</td>\n",
       "      <td>702656.0</td>\n",
       "      <td>compost metagenome</td>\n",
       "      <td>single cell</td>\n",
       "      <td>2012-10-31</td>\n",
       "      <td>USA: California: Emeryville: Joint Bio-Energy ...</td>\n",
       "      <td>37.840800</td>\n",
       "      <td>-122.289600</td>\n",
       "      <td>6039</td>\n",
       "      <td>Engineered</td>\n",
       "      <td>Solid waste</td>\n",
       "      <td>Green waste</td>\n",
       "      <td>Composting</td>\n",
       "      <td>Unclassified</td>\n",
       "    </tr>\n",
       "    <tr>\n",
       "      <th>3</th>\n",
       "      <td>Gb0035635</td>\n",
       "      <td>Compost enrichment cellulose adapted microbial...</td>\n",
       "      <td>702656.0</td>\n",
       "      <td>compost metagenome</td>\n",
       "      <td>single cell</td>\n",
       "      <td>2012-10-31</td>\n",
       "      <td>USA: California: Emeryville: Joint Bio-Energy ...</td>\n",
       "      <td>37.840800</td>\n",
       "      <td>-122.289600</td>\n",
       "      <td>6039</td>\n",
       "      <td>Engineered</td>\n",
       "      <td>Solid waste</td>\n",
       "      <td>Green waste</td>\n",
       "      <td>Composting</td>\n",
       "      <td>Unclassified</td>\n",
       "    </tr>\n",
       "    <tr>\n",
       "      <th>4</th>\n",
       "      <td>Gb0035638</td>\n",
       "      <td>Compost enrichment cellulose adapted microbial...</td>\n",
       "      <td>702656.0</td>\n",
       "      <td>compost metagenome</td>\n",
       "      <td>single cell</td>\n",
       "      <td>2012-10-31</td>\n",
       "      <td>USA: California: Emeryville: Joint Bio-Energy ...</td>\n",
       "      <td>37.840800</td>\n",
       "      <td>-122.289600</td>\n",
       "      <td>6039</td>\n",
       "      <td>Engineered</td>\n",
       "      <td>Solid waste</td>\n",
       "      <td>Green waste</td>\n",
       "      <td>Composting</td>\n",
       "      <td>Unclassified</td>\n",
       "    </tr>\n",
       "    <tr>\n",
       "      <th>...</th>\n",
       "      <td>...</td>\n",
       "      <td>...</td>\n",
       "      <td>...</td>\n",
       "      <td>...</td>\n",
       "      <td>...</td>\n",
       "      <td>...</td>\n",
       "      <td>...</td>\n",
       "      <td>...</td>\n",
       "      <td>...</td>\n",
       "      <td>...</td>\n",
       "      <td>...</td>\n",
       "      <td>...</td>\n",
       "      <td>...</td>\n",
       "      <td>...</td>\n",
       "      <td>...</td>\n",
       "    </tr>\n",
       "    <tr>\n",
       "      <th>210932</th>\n",
       "      <td>Gb0405291</td>\n",
       "      <td>Freshwater biofilm microbial communities from ...</td>\n",
       "      <td>718308.0</td>\n",
       "      <td>biofilm metagenome</td>\n",
       "      <td>creek biofilm</td>\n",
       "      <td>2023-07-26</td>\n",
       "      <td>USA: Lewis Run NEON Field Site, Briggs, Virginia</td>\n",
       "      <td>39.095630</td>\n",
       "      <td>-77.983216</td>\n",
       "      <td>8389</td>\n",
       "      <td>Environmental</td>\n",
       "      <td>Aquatic</td>\n",
       "      <td>Freshwater</td>\n",
       "      <td>Creek</td>\n",
       "      <td>Biofilm</td>\n",
       "    </tr>\n",
       "    <tr>\n",
       "      <th>210933</th>\n",
       "      <td>Gb0405292</td>\n",
       "      <td>Freshwater biofilm microbial communities from ...</td>\n",
       "      <td>718308.0</td>\n",
       "      <td>biofilm metagenome</td>\n",
       "      <td>creek biofilm</td>\n",
       "      <td>2023-07-26</td>\n",
       "      <td>USA: Lewis Run NEON Field Site, Briggs, Virginia</td>\n",
       "      <td>39.095630</td>\n",
       "      <td>-77.983216</td>\n",
       "      <td>8389</td>\n",
       "      <td>Environmental</td>\n",
       "      <td>Aquatic</td>\n",
       "      <td>Freshwater</td>\n",
       "      <td>Creek</td>\n",
       "      <td>Biofilm</td>\n",
       "    </tr>\n",
       "    <tr>\n",
       "      <th>210934</th>\n",
       "      <td>Gb0405293</td>\n",
       "      <td>Freshwater microbial communities from Lake Sug...</td>\n",
       "      <td>449393.0</td>\n",
       "      <td>freshwater metagenome</td>\n",
       "      <td>lake water</td>\n",
       "      <td>2023-08-01</td>\n",
       "      <td>USA: Lake Suggs NEON Field Site, Melrose, Florida</td>\n",
       "      <td>29.688140</td>\n",
       "      <td>-82.017318</td>\n",
       "      <td>4179</td>\n",
       "      <td>Environmental</td>\n",
       "      <td>Aquatic</td>\n",
       "      <td>Freshwater</td>\n",
       "      <td>Lake</td>\n",
       "      <td>Unclassified</td>\n",
       "    </tr>\n",
       "    <tr>\n",
       "      <th>210935</th>\n",
       "      <td>Gb0405294</td>\n",
       "      <td>Freshwater microbial communities from Prairie ...</td>\n",
       "      <td>449393.0</td>\n",
       "      <td>freshwater metagenome</td>\n",
       "      <td>lake water</td>\n",
       "      <td>2023-08-08</td>\n",
       "      <td>USA: Prairie Lake NEON Field Site, Vashti, Nor...</td>\n",
       "      <td>47.159710</td>\n",
       "      <td>-99.118723</td>\n",
       "      <td>4179</td>\n",
       "      <td>Environmental</td>\n",
       "      <td>Aquatic</td>\n",
       "      <td>Freshwater</td>\n",
       "      <td>Lake</td>\n",
       "      <td>Unclassified</td>\n",
       "    </tr>\n",
       "    <tr>\n",
       "      <th>210936</th>\n",
       "      <td>Gb0405295</td>\n",
       "      <td>Freshwater biofilm microbial communities from ...</td>\n",
       "      <td>718308.0</td>\n",
       "      <td>biofilm metagenome</td>\n",
       "      <td>creek biofilm</td>\n",
       "      <td>2023-07-24</td>\n",
       "      <td>USA: Kings Creek NEON Field Site, Manhattan, K...</td>\n",
       "      <td>39.105060</td>\n",
       "      <td>-96.603829</td>\n",
       "      <td>8389</td>\n",
       "      <td>Environmental</td>\n",
       "      <td>Aquatic</td>\n",
       "      <td>Freshwater</td>\n",
       "      <td>Creek</td>\n",
       "      <td>Biofilm</td>\n",
       "    </tr>\n",
       "  </tbody>\n",
       "</table>\n",
       "<p>210937 rows × 15 columns</p>\n",
       "</div>"
      ]
     },
     "execution_count": 85,
     "metadata": {},
     "output_type": "execute_result"
    }
   ],
   "execution_count": 85
  },
  {
   "cell_type": "code",
   "id": "40f8fc6862a817f3",
   "metadata": {
    "ExecuteTime": {
     "end_time": "2024-12-06T13:26:06.451095Z",
     "start_time": "2024-12-06T13:26:06.447351Z"
    }
   },
   "source": [
    "# Determine the filenames and target directory\n",
    "goldterms_compressed_filename = urlparse(goldterms_semsql_url).path.split('/')[-1]\n",
    "goldterms_filename = os.path.splitext(goldterms_compressed_filename)[0]\n",
    "target_dir = os.path.join(\"..\", \"..\")  # Two levels up\n",
    "\n",
    "# Print to confirm the filenames\n",
    "print(goldterms_filename)"
   ],
   "outputs": [
    {
     "name": "stdout",
     "output_type": "stream",
     "text": [
      "goldterms.db\n"
     ]
    }
   ],
   "execution_count": 86
  },
  {
   "cell_type": "code",
   "id": "784c07d7b6bee4c2",
   "metadata": {
    "ExecuteTime": {
     "end_time": "2024-12-06T13:26:06.988320Z",
     "start_time": "2024-12-06T13:26:06.531892Z"
    }
   },
   "source": [
    "# Fetch the contents from the URL and save compressed file in target directory\n",
    "goldterms_response = requests.get(goldterms_semsql_url)\n",
    "goldterms_compressed_file_path = os.path.join(target_dir, goldterms_compressed_filename)\n",
    "with open(goldterms_compressed_file_path, \"wb\") as f:\n",
    "    f.write(goldterms_response.content)\n",
    "    \n",
    "# ~ 1 second"
   ],
   "outputs": [],
   "execution_count": 87
  },
  {
   "cell_type": "code",
   "id": "cd765130d59cd026",
   "metadata": {
    "ExecuteTime": {
     "end_time": "2024-12-06T13:26:07.055731Z",
     "start_time": "2024-12-06T13:26:06.993121Z"
    }
   },
   "source": [
    "# Unzip the compressed file and save the extracted file in target directory\n",
    "goldterms_uncompressed_file_path = os.path.join(target_dir, goldterms_filename)\n",
    "with gzip.open(goldterms_compressed_file_path, \"rb\") as f_in:\n",
    "    with open(goldterms_uncompressed_file_path, \"wb\") as f_out:\n",
    "        shutil.copyfileobj(f_in, f_out)\n",
    "\n",
    "# ~ 1 second"
   ],
   "outputs": [],
   "execution_count": 88
  },
  {
   "metadata": {
    "ExecuteTime": {
     "end_time": "2024-12-06T13:26:12.428591Z",
     "start_time": "2024-12-06T13:26:12.425973Z"
    }
   },
   "cell_type": "code",
   "source": "# that's all fast. don't bother caching",
   "id": "fd2fab3ddcf862ce",
   "outputs": [],
   "execution_count": 89
  },
  {
   "cell_type": "code",
   "id": "dcf847a3c2ed302d",
   "metadata": {
    "ExecuteTime": {
     "end_time": "2024-12-06T13:26:17.963457Z",
     "start_time": "2024-12-06T13:26:17.960597Z"
    }
   },
   "source": [
    "goldterms_conn = sqlite3.connect(goldterms_uncompressed_file_path)"
   ],
   "outputs": [],
   "execution_count": 90
  },
  {
   "cell_type": "code",
   "id": "cd5b0875ee9410c6",
   "metadata": {
    "ExecuteTime": {
     "end_time": "2024-12-06T13:26:22.712807Z",
     "start_time": "2024-12-06T13:26:22.707512Z"
    }
   },
   "source": [
    "goldterms_subjects = pd.read_sql_query(goldterms_subclass_query, goldterms_conn)"
   ],
   "outputs": [],
   "execution_count": 91
  },
  {
   "cell_type": "code",
   "id": "b35003035f6c1833",
   "metadata": {
    "ExecuteTime": {
     "end_time": "2024-12-06T13:26:27.466999Z",
     "start_time": "2024-12-06T13:26:27.463094Z"
    }
   },
   "source": [
    "goldterms_subjects['path_id'] = goldterms_subjects['subject'].str.extract(r'GOLDTERMS:(\\d+)')"
   ],
   "outputs": [],
   "execution_count": 92
  },
  {
   "cell_type": "code",
   "id": "afaaf46c3a83dc3e",
   "metadata": {
    "ExecuteTime": {
     "end_time": "2024-12-06T13:26:32.223400Z",
     "start_time": "2024-12-06T13:26:32.216209Z"
    }
   },
   "source": [
    "goldterms_subjects"
   ],
   "outputs": [
    {
     "data": {
      "text/plain": [
       "                                              subject path_id\n",
       "0                                      GOLDTERMS:5820    5820\n",
       "1                                      GOLDTERMS:5421    5421\n",
       "2                                      GOLDTERMS:5617    5617\n",
       "3   GOLDTERMS:Environmental-Terrestrial-Soil-Natur...     NaN\n",
       "4    GOLDTERMS:Environmental-Terrestrial-Soil-Pasture     NaN\n",
       "..                                                ...     ...\n",
       "81                                     GOLDTERMS:4203    4203\n",
       "82  GOLDTERMS:Environmental-Terrestrial-Soil-Uncla...     NaN\n",
       "83                                     GOLDTERMS:5804    5804\n",
       "84                                     GOLDTERMS:4241    4241\n",
       "85                                     GOLDTERMS:4209    4209\n",
       "\n",
       "[86 rows x 2 columns]"
      ],
      "text/html": [
       "<div>\n",
       "<style scoped>\n",
       "    .dataframe tbody tr th:only-of-type {\n",
       "        vertical-align: middle;\n",
       "    }\n",
       "\n",
       "    .dataframe tbody tr th {\n",
       "        vertical-align: top;\n",
       "    }\n",
       "\n",
       "    .dataframe thead th {\n",
       "        text-align: right;\n",
       "    }\n",
       "</style>\n",
       "<table border=\"1\" class=\"dataframe\">\n",
       "  <thead>\n",
       "    <tr style=\"text-align: right;\">\n",
       "      <th></th>\n",
       "      <th>subject</th>\n",
       "      <th>path_id</th>\n",
       "    </tr>\n",
       "  </thead>\n",
       "  <tbody>\n",
       "    <tr>\n",
       "      <th>0</th>\n",
       "      <td>GOLDTERMS:5820</td>\n",
       "      <td>5820</td>\n",
       "    </tr>\n",
       "    <tr>\n",
       "      <th>1</th>\n",
       "      <td>GOLDTERMS:5421</td>\n",
       "      <td>5421</td>\n",
       "    </tr>\n",
       "    <tr>\n",
       "      <th>2</th>\n",
       "      <td>GOLDTERMS:5617</td>\n",
       "      <td>5617</td>\n",
       "    </tr>\n",
       "    <tr>\n",
       "      <th>3</th>\n",
       "      <td>GOLDTERMS:Environmental-Terrestrial-Soil-Natur...</td>\n",
       "      <td>NaN</td>\n",
       "    </tr>\n",
       "    <tr>\n",
       "      <th>4</th>\n",
       "      <td>GOLDTERMS:Environmental-Terrestrial-Soil-Pasture</td>\n",
       "      <td>NaN</td>\n",
       "    </tr>\n",
       "    <tr>\n",
       "      <th>...</th>\n",
       "      <td>...</td>\n",
       "      <td>...</td>\n",
       "    </tr>\n",
       "    <tr>\n",
       "      <th>81</th>\n",
       "      <td>GOLDTERMS:4203</td>\n",
       "      <td>4203</td>\n",
       "    </tr>\n",
       "    <tr>\n",
       "      <th>82</th>\n",
       "      <td>GOLDTERMS:Environmental-Terrestrial-Soil-Uncla...</td>\n",
       "      <td>NaN</td>\n",
       "    </tr>\n",
       "    <tr>\n",
       "      <th>83</th>\n",
       "      <td>GOLDTERMS:5804</td>\n",
       "      <td>5804</td>\n",
       "    </tr>\n",
       "    <tr>\n",
       "      <th>84</th>\n",
       "      <td>GOLDTERMS:4241</td>\n",
       "      <td>4241</td>\n",
       "    </tr>\n",
       "    <tr>\n",
       "      <th>85</th>\n",
       "      <td>GOLDTERMS:4209</td>\n",
       "      <td>4209</td>\n",
       "    </tr>\n",
       "  </tbody>\n",
       "</table>\n",
       "<p>86 rows × 2 columns</p>\n",
       "</div>"
      ]
     },
     "execution_count": 93,
     "metadata": {},
     "output_type": "execute_result"
    }
   ],
   "execution_count": 93
  },
  {
   "cell_type": "code",
   "id": "6d8f2db9770e83b7",
   "metadata": {
    "ExecuteTime": {
     "end_time": "2024-12-06T13:26:37.121997Z",
     "start_time": "2024-12-06T13:26:37.118641Z"
    }
   },
   "source": [
    "gold_path_ids = goldterms_subjects['path_id'].dropna().unique().tolist()\n",
    "gold_path_ids = [int(my_id) for my_id in gold_path_ids]\n"
   ],
   "outputs": [],
   "execution_count": 94
  },
  {
   "cell_type": "code",
   "id": "2d78193b734e2ab4",
   "metadata": {
    "ExecuteTime": {
     "end_time": "2024-12-06T13:26:37.146377Z",
     "start_time": "2024-12-06T13:26:37.129061Z"
    }
   },
   "source": [
    "gold_env_filtered_biosamples_frame = gold_biosamples_frame[\n",
    "    gold_biosamples_frame['BIOSAMPLE ECOSYSTEM PATH ID'].isin(gold_path_ids)]\n"
   ],
   "outputs": [],
   "execution_count": 95
  },
  {
   "cell_type": "code",
   "id": "3f24e8a82845de52",
   "metadata": {
    "ExecuteTime": {
     "end_time": "2024-12-06T13:26:37.218871Z",
     "start_time": "2024-12-06T13:26:37.200693Z"
    }
   },
   "source": [
    "gold_env_filtered_biosamples_frame"
   ],
   "outputs": [
    {
     "data": {
      "text/plain": [
       "       BIOSAMPLE GOLD ID                                     BIOSAMPLE NAME  \\\n",
       "11             Gb0050971  Soil ecosystem from  different sites within th...   \n",
       "12             Gb0050972  Soil ecosystem from  different sites within th...   \n",
       "13             Gb0050973  Soil ecosystem from  different sites within th...   \n",
       "14             Gb0050974  Soil ecosystem from  different sites within th...   \n",
       "56             Gb0051017  Mammuthus primigenius fossil ecosystem from Bo...   \n",
       "...                  ...                                                ...   \n",
       "210902         Gb0405261  Soil microbial communities from San Joaquin Ex...   \n",
       "210903         Gb0405262  Soil microbial communities from San Joaquin Ex...   \n",
       "210904         Gb0405263  Soil microbial communities from San Joaquin Ex...   \n",
       "210905         Gb0405264  Soil microbial communities from San Joaquin Ex...   \n",
       "210906         Gb0405265  Soil microbial communities from San Joaquin Ex...   \n",
       "\n",
       "        BIOSAMPLE NCBI TAX ID BIOSAMPLE NCBI TAX NAME  \\\n",
       "11                   410658.0         soil metagenome   \n",
       "12                   410658.0         soil metagenome   \n",
       "13                   410658.0         soil metagenome   \n",
       "14                   410658.0         soil metagenome   \n",
       "56                   444079.0       fossil metagenome   \n",
       "...                       ...                     ...   \n",
       "210902               410658.0         soil metagenome   \n",
       "210903               410658.0         soil metagenome   \n",
       "210904               410658.0         soil metagenome   \n",
       "210905               410658.0         soil metagenome   \n",
       "210906               410658.0         soil metagenome   \n",
       "\n",
       "                         BIOSAMPLE SAMPLE COLLECTION SITE  \\\n",
       "11              soil classification Mesic aquic argiudoll   \n",
       "12                   soil classification Dystric brunisol   \n",
       "13                  soil classificaiton Distrophic oxisol   \n",
       "14      soil classification euic, hyperthermic lithic ...   \n",
       "56                     Bolshaya Kolopatkaya river, Russia   \n",
       "...                                                   ...   \n",
       "210902                                               soil   \n",
       "210903                                               soil   \n",
       "210904                                               soil   \n",
       "210905                                               soil   \n",
       "210906                                               soil   \n",
       "\n",
       "       BIOSAMPLE SAMPLE COLLECTION DATE  \\\n",
       "11                                  NaN   \n",
       "12                                  NaN   \n",
       "13                                  NaN   \n",
       "14                                  NaN   \n",
       "56                                  NaN   \n",
       "...                                 ...   \n",
       "210902                       2023-02-27   \n",
       "210903                       2023-02-27   \n",
       "210904                       2023-02-27   \n",
       "210905                       2023-02-27   \n",
       "210906                       2023-02-27   \n",
       "\n",
       "                            BIOSAMPLE GEOGRAPHIC LOCATION  BIOSAMPLE LATITUDE  \\\n",
       "11      Soils collected from different sites within th...           40.104616   \n",
       "12      Soils collected from different sites within th...           52.743203   \n",
       "13      Soils collected from different sites within th...          -29.539671   \n",
       "14      Soils collected from different sites within th...           26.663199   \n",
       "56                                 Russia: Sakha Republic           70.000000   \n",
       "...                                                   ...                 ...   \n",
       "210902                    USA: Yosemite Lakes, California           37.112820   \n",
       "210903                    USA: Yosemite Lakes, California           37.112820   \n",
       "210904                    USA: Yosemite Lakes, California           37.111270   \n",
       "210905                    USA: Yosemite Lakes, California           37.111270   \n",
       "210906                    USA: Yosemite Lakes, California           37.111270   \n",
       "\n",
       "        BIOSAMPLE LONGITUDE  BIOSAMPLE ECOSYSTEM PATH ID BIOSAMPLE ECOSYSTEM  \\\n",
       "11               -88.226517                         4212       Environmental   \n",
       "12               -91.718433                         4212       Environmental   \n",
       "13               -55.107556                         4212       Environmental   \n",
       "14               -80.628500                         4212       Environmental   \n",
       "56               151.000000                         4418       Environmental   \n",
       "...                     ...                          ...                 ...   \n",
       "210902          -119.731615                         4212       Environmental   \n",
       "210903          -119.731615                         4212       Environmental   \n",
       "210904          -119.728168                         4212       Environmental   \n",
       "210905          -119.728168                         4212       Environmental   \n",
       "210906          -119.728168                         4212       Environmental   \n",
       "\n",
       "       BIOSAMPLE ECOSYSTEM CATEGORY BIOSAMPLE ECOSYSTEM TYPE  \\\n",
       "11                      Terrestrial                     Soil   \n",
       "12                      Terrestrial                     Soil   \n",
       "13                      Terrestrial                     Soil   \n",
       "14                      Terrestrial                     Soil   \n",
       "56                      Terrestrial                     Soil   \n",
       "...                             ...                      ...   \n",
       "210902                  Terrestrial                     Soil   \n",
       "210903                  Terrestrial                     Soil   \n",
       "210904                  Terrestrial                     Soil   \n",
       "210905                  Terrestrial                     Soil   \n",
       "210906                  Terrestrial                     Soil   \n",
       "\n",
       "       BIOSAMPLE ECOSYSTEM SUBTYPE BIOSAMPLE SPECIFIC ECOSYSTEM  \n",
       "11                    Unclassified                 Unclassified  \n",
       "12                    Unclassified                 Unclassified  \n",
       "13                    Unclassified                 Unclassified  \n",
       "14                    Unclassified                 Unclassified  \n",
       "56                          Fossil                 Unclassified  \n",
       "...                            ...                          ...  \n",
       "210902                Unclassified                 Unclassified  \n",
       "210903                Unclassified                 Unclassified  \n",
       "210904                Unclassified                 Unclassified  \n",
       "210905                Unclassified                 Unclassified  \n",
       "210906                Unclassified                 Unclassified  \n",
       "\n",
       "[15367 rows x 15 columns]"
      ],
      "text/html": [
       "<div>\n",
       "<style scoped>\n",
       "    .dataframe tbody tr th:only-of-type {\n",
       "        vertical-align: middle;\n",
       "    }\n",
       "\n",
       "    .dataframe tbody tr th {\n",
       "        vertical-align: top;\n",
       "    }\n",
       "\n",
       "    .dataframe thead th {\n",
       "        text-align: right;\n",
       "    }\n",
       "</style>\n",
       "<table border=\"1\" class=\"dataframe\">\n",
       "  <thead>\n",
       "    <tr style=\"text-align: right;\">\n",
       "      <th></th>\n",
       "      <th>BIOSAMPLE GOLD ID</th>\n",
       "      <th>BIOSAMPLE NAME</th>\n",
       "      <th>BIOSAMPLE NCBI TAX ID</th>\n",
       "      <th>BIOSAMPLE NCBI TAX NAME</th>\n",
       "      <th>BIOSAMPLE SAMPLE COLLECTION SITE</th>\n",
       "      <th>BIOSAMPLE SAMPLE COLLECTION DATE</th>\n",
       "      <th>BIOSAMPLE GEOGRAPHIC LOCATION</th>\n",
       "      <th>BIOSAMPLE LATITUDE</th>\n",
       "      <th>BIOSAMPLE LONGITUDE</th>\n",
       "      <th>BIOSAMPLE ECOSYSTEM PATH ID</th>\n",
       "      <th>BIOSAMPLE ECOSYSTEM</th>\n",
       "      <th>BIOSAMPLE ECOSYSTEM CATEGORY</th>\n",
       "      <th>BIOSAMPLE ECOSYSTEM TYPE</th>\n",
       "      <th>BIOSAMPLE ECOSYSTEM SUBTYPE</th>\n",
       "      <th>BIOSAMPLE SPECIFIC ECOSYSTEM</th>\n",
       "    </tr>\n",
       "  </thead>\n",
       "  <tbody>\n",
       "    <tr>\n",
       "      <th>11</th>\n",
       "      <td>Gb0050971</td>\n",
       "      <td>Soil ecosystem from  different sites within th...</td>\n",
       "      <td>410658.0</td>\n",
       "      <td>soil metagenome</td>\n",
       "      <td>soil classification Mesic aquic argiudoll</td>\n",
       "      <td>NaN</td>\n",
       "      <td>Soils collected from different sites within th...</td>\n",
       "      <td>40.104616</td>\n",
       "      <td>-88.226517</td>\n",
       "      <td>4212</td>\n",
       "      <td>Environmental</td>\n",
       "      <td>Terrestrial</td>\n",
       "      <td>Soil</td>\n",
       "      <td>Unclassified</td>\n",
       "      <td>Unclassified</td>\n",
       "    </tr>\n",
       "    <tr>\n",
       "      <th>12</th>\n",
       "      <td>Gb0050972</td>\n",
       "      <td>Soil ecosystem from  different sites within th...</td>\n",
       "      <td>410658.0</td>\n",
       "      <td>soil metagenome</td>\n",
       "      <td>soil classification Dystric brunisol</td>\n",
       "      <td>NaN</td>\n",
       "      <td>Soils collected from different sites within th...</td>\n",
       "      <td>52.743203</td>\n",
       "      <td>-91.718433</td>\n",
       "      <td>4212</td>\n",
       "      <td>Environmental</td>\n",
       "      <td>Terrestrial</td>\n",
       "      <td>Soil</td>\n",
       "      <td>Unclassified</td>\n",
       "      <td>Unclassified</td>\n",
       "    </tr>\n",
       "    <tr>\n",
       "      <th>13</th>\n",
       "      <td>Gb0050973</td>\n",
       "      <td>Soil ecosystem from  different sites within th...</td>\n",
       "      <td>410658.0</td>\n",
       "      <td>soil metagenome</td>\n",
       "      <td>soil classificaiton Distrophic oxisol</td>\n",
       "      <td>NaN</td>\n",
       "      <td>Soils collected from different sites within th...</td>\n",
       "      <td>-29.539671</td>\n",
       "      <td>-55.107556</td>\n",
       "      <td>4212</td>\n",
       "      <td>Environmental</td>\n",
       "      <td>Terrestrial</td>\n",
       "      <td>Soil</td>\n",
       "      <td>Unclassified</td>\n",
       "      <td>Unclassified</td>\n",
       "    </tr>\n",
       "    <tr>\n",
       "      <th>14</th>\n",
       "      <td>Gb0050974</td>\n",
       "      <td>Soil ecosystem from  different sites within th...</td>\n",
       "      <td>410658.0</td>\n",
       "      <td>soil metagenome</td>\n",
       "      <td>soil classification euic, hyperthermic lithic ...</td>\n",
       "      <td>NaN</td>\n",
       "      <td>Soils collected from different sites within th...</td>\n",
       "      <td>26.663199</td>\n",
       "      <td>-80.628500</td>\n",
       "      <td>4212</td>\n",
       "      <td>Environmental</td>\n",
       "      <td>Terrestrial</td>\n",
       "      <td>Soil</td>\n",
       "      <td>Unclassified</td>\n",
       "      <td>Unclassified</td>\n",
       "    </tr>\n",
       "    <tr>\n",
       "      <th>56</th>\n",
       "      <td>Gb0051017</td>\n",
       "      <td>Mammuthus primigenius fossil ecosystem from Bo...</td>\n",
       "      <td>444079.0</td>\n",
       "      <td>fossil metagenome</td>\n",
       "      <td>Bolshaya Kolopatkaya river, Russia</td>\n",
       "      <td>NaN</td>\n",
       "      <td>Russia: Sakha Republic</td>\n",
       "      <td>70.000000</td>\n",
       "      <td>151.000000</td>\n",
       "      <td>4418</td>\n",
       "      <td>Environmental</td>\n",
       "      <td>Terrestrial</td>\n",
       "      <td>Soil</td>\n",
       "      <td>Fossil</td>\n",
       "      <td>Unclassified</td>\n",
       "    </tr>\n",
       "    <tr>\n",
       "      <th>...</th>\n",
       "      <td>...</td>\n",
       "      <td>...</td>\n",
       "      <td>...</td>\n",
       "      <td>...</td>\n",
       "      <td>...</td>\n",
       "      <td>...</td>\n",
       "      <td>...</td>\n",
       "      <td>...</td>\n",
       "      <td>...</td>\n",
       "      <td>...</td>\n",
       "      <td>...</td>\n",
       "      <td>...</td>\n",
       "      <td>...</td>\n",
       "      <td>...</td>\n",
       "      <td>...</td>\n",
       "    </tr>\n",
       "    <tr>\n",
       "      <th>210902</th>\n",
       "      <td>Gb0405261</td>\n",
       "      <td>Soil microbial communities from San Joaquin Ex...</td>\n",
       "      <td>410658.0</td>\n",
       "      <td>soil metagenome</td>\n",
       "      <td>soil</td>\n",
       "      <td>2023-02-27</td>\n",
       "      <td>USA: Yosemite Lakes, California</td>\n",
       "      <td>37.112820</td>\n",
       "      <td>-119.731615</td>\n",
       "      <td>4212</td>\n",
       "      <td>Environmental</td>\n",
       "      <td>Terrestrial</td>\n",
       "      <td>Soil</td>\n",
       "      <td>Unclassified</td>\n",
       "      <td>Unclassified</td>\n",
       "    </tr>\n",
       "    <tr>\n",
       "      <th>210903</th>\n",
       "      <td>Gb0405262</td>\n",
       "      <td>Soil microbial communities from San Joaquin Ex...</td>\n",
       "      <td>410658.0</td>\n",
       "      <td>soil metagenome</td>\n",
       "      <td>soil</td>\n",
       "      <td>2023-02-27</td>\n",
       "      <td>USA: Yosemite Lakes, California</td>\n",
       "      <td>37.112820</td>\n",
       "      <td>-119.731615</td>\n",
       "      <td>4212</td>\n",
       "      <td>Environmental</td>\n",
       "      <td>Terrestrial</td>\n",
       "      <td>Soil</td>\n",
       "      <td>Unclassified</td>\n",
       "      <td>Unclassified</td>\n",
       "    </tr>\n",
       "    <tr>\n",
       "      <th>210904</th>\n",
       "      <td>Gb0405263</td>\n",
       "      <td>Soil microbial communities from San Joaquin Ex...</td>\n",
       "      <td>410658.0</td>\n",
       "      <td>soil metagenome</td>\n",
       "      <td>soil</td>\n",
       "      <td>2023-02-27</td>\n",
       "      <td>USA: Yosemite Lakes, California</td>\n",
       "      <td>37.111270</td>\n",
       "      <td>-119.728168</td>\n",
       "      <td>4212</td>\n",
       "      <td>Environmental</td>\n",
       "      <td>Terrestrial</td>\n",
       "      <td>Soil</td>\n",
       "      <td>Unclassified</td>\n",
       "      <td>Unclassified</td>\n",
       "    </tr>\n",
       "    <tr>\n",
       "      <th>210905</th>\n",
       "      <td>Gb0405264</td>\n",
       "      <td>Soil microbial communities from San Joaquin Ex...</td>\n",
       "      <td>410658.0</td>\n",
       "      <td>soil metagenome</td>\n",
       "      <td>soil</td>\n",
       "      <td>2023-02-27</td>\n",
       "      <td>USA: Yosemite Lakes, California</td>\n",
       "      <td>37.111270</td>\n",
       "      <td>-119.728168</td>\n",
       "      <td>4212</td>\n",
       "      <td>Environmental</td>\n",
       "      <td>Terrestrial</td>\n",
       "      <td>Soil</td>\n",
       "      <td>Unclassified</td>\n",
       "      <td>Unclassified</td>\n",
       "    </tr>\n",
       "    <tr>\n",
       "      <th>210906</th>\n",
       "      <td>Gb0405265</td>\n",
       "      <td>Soil microbial communities from San Joaquin Ex...</td>\n",
       "      <td>410658.0</td>\n",
       "      <td>soil metagenome</td>\n",
       "      <td>soil</td>\n",
       "      <td>2023-02-27</td>\n",
       "      <td>USA: Yosemite Lakes, California</td>\n",
       "      <td>37.111270</td>\n",
       "      <td>-119.728168</td>\n",
       "      <td>4212</td>\n",
       "      <td>Environmental</td>\n",
       "      <td>Terrestrial</td>\n",
       "      <td>Soil</td>\n",
       "      <td>Unclassified</td>\n",
       "      <td>Unclassified</td>\n",
       "    </tr>\n",
       "  </tbody>\n",
       "</table>\n",
       "<p>15367 rows × 15 columns</p>\n",
       "</div>"
      ]
     },
     "execution_count": 96,
     "metadata": {},
     "output_type": "execute_result"
    }
   ],
   "execution_count": 96
  },
  {
   "cell_type": "code",
   "id": "22c7f8e126e96aab",
   "metadata": {
    "ExecuteTime": {
     "end_time": "2024-12-06T13:26:43.285744Z",
     "start_time": "2024-12-06T13:26:43.279300Z"
    }
   },
   "source": [
    "goldterms_context_frame = pd.read_sql_query(goldterms_envo_query, goldterms_conn)"
   ],
   "outputs": [],
   "execution_count": 97
  },
  {
   "cell_type": "code",
   "id": "3157b066b1c6e2cf",
   "metadata": {
    "ExecuteTime": {
     "end_time": "2024-12-06T13:26:43.691988Z",
     "start_time": "2024-12-06T13:26:43.348423Z"
    }
   },
   "source": [
    "goldterms_context_frame['object_label'] = goldterms_context_frame['object'].apply(envo_adapter.label)"
   ],
   "outputs": [],
   "execution_count": 98
  },
  {
   "cell_type": "code",
   "id": "d60306a6490fdd6a",
   "metadata": {
    "ExecuteTime": {
     "end_time": "2024-12-06T13:26:43.708930Z",
     "start_time": "2024-12-06T13:26:43.701647Z"
    }
   },
   "source": [
    "goldterms_context_frame['path_id'] = goldterms_context_frame['subject'].str.extract(r'GOLDTERMS:(\\d+)')"
   ],
   "outputs": [],
   "execution_count": 99
  },
  {
   "cell_type": "code",
   "id": "93391b53436ba5b",
   "metadata": {
    "ExecuteTime": {
     "end_time": "2024-12-06T13:26:49.605843Z",
     "start_time": "2024-12-06T13:26:49.593113Z"
    }
   },
   "source": [
    "goldterms_context_frame"
   ],
   "outputs": [
    {
     "data": {
      "text/plain": [
       "                                                stanza  \\\n",
       "0            GOLDTERMS:Engineered-Artificial-ecosystem   \n",
       "1    GOLDTERMS:Engineered-Artificial-ecosystem-Plan...   \n",
       "2    GOLDTERMS:Engineered-Artificial-ecosystem-Plan...   \n",
       "3    GOLDTERMS:Engineered-Bioreactor-Anaerobic-Soft...   \n",
       "4          GOLDTERMS:Engineered-Bioreactor-DHS-reactor   \n",
       "..                                                 ...   \n",
       "643                                     GOLDTERMS:5841   \n",
       "644                                     GOLDTERMS:5843   \n",
       "645                                     GOLDTERMS:5846   \n",
       "646                                     GOLDTERMS:5849   \n",
       "647                                     GOLDTERMS:5850   \n",
       "\n",
       "                                               subject       predicate  \\\n",
       "0            GOLDTERMS:Engineered-Artificial-ecosystem  mixs:env_broad   \n",
       "1    GOLDTERMS:Engineered-Artificial-ecosystem-Plan...  mixs:env_broad   \n",
       "2    GOLDTERMS:Engineered-Artificial-ecosystem-Plan...  mixs:env_broad   \n",
       "3    GOLDTERMS:Engineered-Bioreactor-Anaerobic-Soft...  mixs:env_broad   \n",
       "4          GOLDTERMS:Engineered-Bioreactor-DHS-reactor  mixs:env_broad   \n",
       "..                                                 ...             ...   \n",
       "643                                     GOLDTERMS:5841  mixs:env_broad   \n",
       "644                                     GOLDTERMS:5843  mixs:env_broad   \n",
       "645                                     GOLDTERMS:5846  mixs:env_broad   \n",
       "646                                     GOLDTERMS:5849  mixs:env_broad   \n",
       "647                                     GOLDTERMS:5850  mixs:env_broad   \n",
       "\n",
       "            object value datatype language graph               object_label  \\\n",
       "0    ENVO:01000313  None     None     None  None  anthropogenic environment   \n",
       "1    ENVO:01000313  None     None     None  None  anthropogenic environment   \n",
       "2    ENVO:01000313  None     None     None  None  anthropogenic environment   \n",
       "3    ENVO:01000313  None     None     None  None  anthropogenic environment   \n",
       "4    ENVO:01000313  None     None     None  None  anthropogenic environment   \n",
       "..             ...   ...      ...      ...   ...                        ...   \n",
       "643  ENVO:01000313  None     None     None  None  anthropogenic environment   \n",
       "644  ENVO:01000313  None     None     None  None  anthropogenic environment   \n",
       "645  ENVO:01000313  None     None     None  None  anthropogenic environment   \n",
       "646  ENVO:01000313  None     None     None  None  anthropogenic environment   \n",
       "647  ENVO:01000313  None     None     None  None  anthropogenic environment   \n",
       "\n",
       "    path_id  \n",
       "0       NaN  \n",
       "1       NaN  \n",
       "2       NaN  \n",
       "3       NaN  \n",
       "4       NaN  \n",
       "..      ...  \n",
       "643    5841  \n",
       "644    5843  \n",
       "645    5846  \n",
       "646    5849  \n",
       "647    5850  \n",
       "\n",
       "[648 rows x 10 columns]"
      ],
      "text/html": [
       "<div>\n",
       "<style scoped>\n",
       "    .dataframe tbody tr th:only-of-type {\n",
       "        vertical-align: middle;\n",
       "    }\n",
       "\n",
       "    .dataframe tbody tr th {\n",
       "        vertical-align: top;\n",
       "    }\n",
       "\n",
       "    .dataframe thead th {\n",
       "        text-align: right;\n",
       "    }\n",
       "</style>\n",
       "<table border=\"1\" class=\"dataframe\">\n",
       "  <thead>\n",
       "    <tr style=\"text-align: right;\">\n",
       "      <th></th>\n",
       "      <th>stanza</th>\n",
       "      <th>subject</th>\n",
       "      <th>predicate</th>\n",
       "      <th>object</th>\n",
       "      <th>value</th>\n",
       "      <th>datatype</th>\n",
       "      <th>language</th>\n",
       "      <th>graph</th>\n",
       "      <th>object_label</th>\n",
       "      <th>path_id</th>\n",
       "    </tr>\n",
       "  </thead>\n",
       "  <tbody>\n",
       "    <tr>\n",
       "      <th>0</th>\n",
       "      <td>GOLDTERMS:Engineered-Artificial-ecosystem</td>\n",
       "      <td>GOLDTERMS:Engineered-Artificial-ecosystem</td>\n",
       "      <td>mixs:env_broad</td>\n",
       "      <td>ENVO:01000313</td>\n",
       "      <td>None</td>\n",
       "      <td>None</td>\n",
       "      <td>None</td>\n",
       "      <td>None</td>\n",
       "      <td>anthropogenic environment</td>\n",
       "      <td>NaN</td>\n",
       "    </tr>\n",
       "    <tr>\n",
       "      <th>1</th>\n",
       "      <td>GOLDTERMS:Engineered-Artificial-ecosystem-Plan...</td>\n",
       "      <td>GOLDTERMS:Engineered-Artificial-ecosystem-Plan...</td>\n",
       "      <td>mixs:env_broad</td>\n",
       "      <td>ENVO:01000313</td>\n",
       "      <td>None</td>\n",
       "      <td>None</td>\n",
       "      <td>None</td>\n",
       "      <td>None</td>\n",
       "      <td>anthropogenic environment</td>\n",
       "      <td>NaN</td>\n",
       "    </tr>\n",
       "    <tr>\n",
       "      <th>2</th>\n",
       "      <td>GOLDTERMS:Engineered-Artificial-ecosystem-Plan...</td>\n",
       "      <td>GOLDTERMS:Engineered-Artificial-ecosystem-Plan...</td>\n",
       "      <td>mixs:env_broad</td>\n",
       "      <td>ENVO:01000313</td>\n",
       "      <td>None</td>\n",
       "      <td>None</td>\n",
       "      <td>None</td>\n",
       "      <td>None</td>\n",
       "      <td>anthropogenic environment</td>\n",
       "      <td>NaN</td>\n",
       "    </tr>\n",
       "    <tr>\n",
       "      <th>3</th>\n",
       "      <td>GOLDTERMS:Engineered-Bioreactor-Anaerobic-Soft...</td>\n",
       "      <td>GOLDTERMS:Engineered-Bioreactor-Anaerobic-Soft...</td>\n",
       "      <td>mixs:env_broad</td>\n",
       "      <td>ENVO:01000313</td>\n",
       "      <td>None</td>\n",
       "      <td>None</td>\n",
       "      <td>None</td>\n",
       "      <td>None</td>\n",
       "      <td>anthropogenic environment</td>\n",
       "      <td>NaN</td>\n",
       "    </tr>\n",
       "    <tr>\n",
       "      <th>4</th>\n",
       "      <td>GOLDTERMS:Engineered-Bioreactor-DHS-reactor</td>\n",
       "      <td>GOLDTERMS:Engineered-Bioreactor-DHS-reactor</td>\n",
       "      <td>mixs:env_broad</td>\n",
       "      <td>ENVO:01000313</td>\n",
       "      <td>None</td>\n",
       "      <td>None</td>\n",
       "      <td>None</td>\n",
       "      <td>None</td>\n",
       "      <td>anthropogenic environment</td>\n",
       "      <td>NaN</td>\n",
       "    </tr>\n",
       "    <tr>\n",
       "      <th>...</th>\n",
       "      <td>...</td>\n",
       "      <td>...</td>\n",
       "      <td>...</td>\n",
       "      <td>...</td>\n",
       "      <td>...</td>\n",
       "      <td>...</td>\n",
       "      <td>...</td>\n",
       "      <td>...</td>\n",
       "      <td>...</td>\n",
       "      <td>...</td>\n",
       "    </tr>\n",
       "    <tr>\n",
       "      <th>643</th>\n",
       "      <td>GOLDTERMS:5841</td>\n",
       "      <td>GOLDTERMS:5841</td>\n",
       "      <td>mixs:env_broad</td>\n",
       "      <td>ENVO:01000313</td>\n",
       "      <td>None</td>\n",
       "      <td>None</td>\n",
       "      <td>None</td>\n",
       "      <td>None</td>\n",
       "      <td>anthropogenic environment</td>\n",
       "      <td>5841</td>\n",
       "    </tr>\n",
       "    <tr>\n",
       "      <th>644</th>\n",
       "      <td>GOLDTERMS:5843</td>\n",
       "      <td>GOLDTERMS:5843</td>\n",
       "      <td>mixs:env_broad</td>\n",
       "      <td>ENVO:01000313</td>\n",
       "      <td>None</td>\n",
       "      <td>None</td>\n",
       "      <td>None</td>\n",
       "      <td>None</td>\n",
       "      <td>anthropogenic environment</td>\n",
       "      <td>5843</td>\n",
       "    </tr>\n",
       "    <tr>\n",
       "      <th>645</th>\n",
       "      <td>GOLDTERMS:5846</td>\n",
       "      <td>GOLDTERMS:5846</td>\n",
       "      <td>mixs:env_broad</td>\n",
       "      <td>ENVO:01000313</td>\n",
       "      <td>None</td>\n",
       "      <td>None</td>\n",
       "      <td>None</td>\n",
       "      <td>None</td>\n",
       "      <td>anthropogenic environment</td>\n",
       "      <td>5846</td>\n",
       "    </tr>\n",
       "    <tr>\n",
       "      <th>646</th>\n",
       "      <td>GOLDTERMS:5849</td>\n",
       "      <td>GOLDTERMS:5849</td>\n",
       "      <td>mixs:env_broad</td>\n",
       "      <td>ENVO:01000313</td>\n",
       "      <td>None</td>\n",
       "      <td>None</td>\n",
       "      <td>None</td>\n",
       "      <td>None</td>\n",
       "      <td>anthropogenic environment</td>\n",
       "      <td>5849</td>\n",
       "    </tr>\n",
       "    <tr>\n",
       "      <th>647</th>\n",
       "      <td>GOLDTERMS:5850</td>\n",
       "      <td>GOLDTERMS:5850</td>\n",
       "      <td>mixs:env_broad</td>\n",
       "      <td>ENVO:01000313</td>\n",
       "      <td>None</td>\n",
       "      <td>None</td>\n",
       "      <td>None</td>\n",
       "      <td>None</td>\n",
       "      <td>anthropogenic environment</td>\n",
       "      <td>5850</td>\n",
       "    </tr>\n",
       "  </tbody>\n",
       "</table>\n",
       "<p>648 rows × 10 columns</p>\n",
       "</div>"
      ]
     },
     "execution_count": 100,
     "metadata": {},
     "output_type": "execute_result"
    }
   ],
   "execution_count": 100
  },
  {
   "cell_type": "code",
   "id": "beb2e0a9c669a366",
   "metadata": {
    "ExecuteTime": {
     "end_time": "2024-12-06T13:26:54.426301Z",
     "start_time": "2024-12-06T13:26:54.417057Z"
    }
   },
   "source": [
    "# Fill NaN values in 'BIOSAMPLE ECOSYSTEM PATH ID' with 0 and convert to int\n",
    "gold_env_filtered_biosamples_frame['BIOSAMPLE ECOSYSTEM PATH ID'] = gold_env_filtered_biosamples_frame[\n",
    "    'BIOSAMPLE ECOSYSTEM PATH ID'].fillna(0).astype(int)\n",
    "\n",
    "# Drop rows with NaN in 'path_id' in goldterms_context_frame\n",
    "goldterms_context_frame = goldterms_context_frame.dropna(subset=['path_id'])\n",
    "\n",
    "# Convert 'path_id' to int\n",
    "goldterms_context_frame['path_id'] = goldterms_context_frame['path_id'].astype(int)\n",
    "\n",
    "# Perform the left merge\n",
    "gold_env_filtered_biosamples_with_inferred = gold_env_filtered_biosamples_frame.merge(\n",
    "    goldterms_context_frame,\n",
    "    left_on='BIOSAMPLE ECOSYSTEM PATH ID',\n",
    "    right_on='path_id',\n",
    "    how='left'\n",
    ")\n"
   ],
   "outputs": [],
   "execution_count": 101
  },
  {
   "cell_type": "code",
   "id": "bac06360f067d3c0",
   "metadata": {
    "ExecuteTime": {
     "end_time": "2024-12-06T13:26:54.491140Z",
     "start_time": "2024-12-06T13:26:54.471820Z"
    }
   },
   "source": [
    "gold_env_filtered_biosamples_with_inferred"
   ],
   "outputs": [
    {
     "data": {
      "text/plain": [
       "      BIOSAMPLE GOLD ID                                     BIOSAMPLE NAME  \\\n",
       "0             Gb0050971  Soil ecosystem from  different sites within th...   \n",
       "1             Gb0050972  Soil ecosystem from  different sites within th...   \n",
       "2             Gb0050973  Soil ecosystem from  different sites within th...   \n",
       "3             Gb0050974  Soil ecosystem from  different sites within th...   \n",
       "4             Gb0051017  Mammuthus primigenius fossil ecosystem from Bo...   \n",
       "...                 ...                                                ...   \n",
       "15362         Gb0405261  Soil microbial communities from San Joaquin Ex...   \n",
       "15363         Gb0405262  Soil microbial communities from San Joaquin Ex...   \n",
       "15364         Gb0405263  Soil microbial communities from San Joaquin Ex...   \n",
       "15365         Gb0405264  Soil microbial communities from San Joaquin Ex...   \n",
       "15366         Gb0405265  Soil microbial communities from San Joaquin Ex...   \n",
       "\n",
       "       BIOSAMPLE NCBI TAX ID BIOSAMPLE NCBI TAX NAME  \\\n",
       "0                   410658.0         soil metagenome   \n",
       "1                   410658.0         soil metagenome   \n",
       "2                   410658.0         soil metagenome   \n",
       "3                   410658.0         soil metagenome   \n",
       "4                   444079.0       fossil metagenome   \n",
       "...                      ...                     ...   \n",
       "15362               410658.0         soil metagenome   \n",
       "15363               410658.0         soil metagenome   \n",
       "15364               410658.0         soil metagenome   \n",
       "15365               410658.0         soil metagenome   \n",
       "15366               410658.0         soil metagenome   \n",
       "\n",
       "                        BIOSAMPLE SAMPLE COLLECTION SITE  \\\n",
       "0              soil classification Mesic aquic argiudoll   \n",
       "1                   soil classification Dystric brunisol   \n",
       "2                  soil classificaiton Distrophic oxisol   \n",
       "3      soil classification euic, hyperthermic lithic ...   \n",
       "4                     Bolshaya Kolopatkaya river, Russia   \n",
       "...                                                  ...   \n",
       "15362                                               soil   \n",
       "15363                                               soil   \n",
       "15364                                               soil   \n",
       "15365                                               soil   \n",
       "15366                                               soil   \n",
       "\n",
       "      BIOSAMPLE SAMPLE COLLECTION DATE  \\\n",
       "0                                  NaN   \n",
       "1                                  NaN   \n",
       "2                                  NaN   \n",
       "3                                  NaN   \n",
       "4                                  NaN   \n",
       "...                                ...   \n",
       "15362                       2023-02-27   \n",
       "15363                       2023-02-27   \n",
       "15364                       2023-02-27   \n",
       "15365                       2023-02-27   \n",
       "15366                       2023-02-27   \n",
       "\n",
       "                           BIOSAMPLE GEOGRAPHIC LOCATION  BIOSAMPLE LATITUDE  \\\n",
       "0      Soils collected from different sites within th...           40.104616   \n",
       "1      Soils collected from different sites within th...           52.743203   \n",
       "2      Soils collected from different sites within th...          -29.539671   \n",
       "3      Soils collected from different sites within th...           26.663199   \n",
       "4                                 Russia: Sakha Republic           70.000000   \n",
       "...                                                  ...                 ...   \n",
       "15362                    USA: Yosemite Lakes, California           37.112820   \n",
       "15363                    USA: Yosemite Lakes, California           37.112820   \n",
       "15364                    USA: Yosemite Lakes, California           37.111270   \n",
       "15365                    USA: Yosemite Lakes, California           37.111270   \n",
       "15366                    USA: Yosemite Lakes, California           37.111270   \n",
       "\n",
       "       BIOSAMPLE LONGITUDE  BIOSAMPLE ECOSYSTEM PATH ID  ...          stanza  \\\n",
       "0               -88.226517                         4212  ...  GOLDTERMS:4212   \n",
       "1               -91.718433                         4212  ...  GOLDTERMS:4212   \n",
       "2               -55.107556                         4212  ...  GOLDTERMS:4212   \n",
       "3               -80.628500                         4212  ...  GOLDTERMS:4212   \n",
       "4               151.000000                         4418  ...  GOLDTERMS:4418   \n",
       "...                    ...                          ...  ...             ...   \n",
       "15362          -119.731615                         4212  ...  GOLDTERMS:4212   \n",
       "15363          -119.731615                         4212  ...  GOLDTERMS:4212   \n",
       "15364          -119.728168                         4212  ...  GOLDTERMS:4212   \n",
       "15365          -119.728168                         4212  ...  GOLDTERMS:4212   \n",
       "15366          -119.728168                         4212  ...  GOLDTERMS:4212   \n",
       "\n",
       "              subject       predicate         object value datatype language  \\\n",
       "0      GOLDTERMS:4212  mixs:env_broad  ENVO:00000446  None     None     None   \n",
       "1      GOLDTERMS:4212  mixs:env_broad  ENVO:00000446  None     None     None   \n",
       "2      GOLDTERMS:4212  mixs:env_broad  ENVO:00000446  None     None     None   \n",
       "3      GOLDTERMS:4212  mixs:env_broad  ENVO:00000446  None     None     None   \n",
       "4      GOLDTERMS:4418  mixs:env_broad  ENVO:00000446  None     None     None   \n",
       "...               ...             ...            ...   ...      ...      ...   \n",
       "15362  GOLDTERMS:4212  mixs:env_broad  ENVO:00000446  None     None     None   \n",
       "15363  GOLDTERMS:4212  mixs:env_broad  ENVO:00000446  None     None     None   \n",
       "15364  GOLDTERMS:4212  mixs:env_broad  ENVO:00000446  None     None     None   \n",
       "15365  GOLDTERMS:4212  mixs:env_broad  ENVO:00000446  None     None     None   \n",
       "15366  GOLDTERMS:4212  mixs:env_broad  ENVO:00000446  None     None     None   \n",
       "\n",
       "      graph       object_label path_id  \n",
       "0      None  terrestrial biome    4212  \n",
       "1      None  terrestrial biome    4212  \n",
       "2      None  terrestrial biome    4212  \n",
       "3      None  terrestrial biome    4212  \n",
       "4      None  terrestrial biome    4418  \n",
       "...     ...                ...     ...  \n",
       "15362  None  terrestrial biome    4212  \n",
       "15363  None  terrestrial biome    4212  \n",
       "15364  None  terrestrial biome    4212  \n",
       "15365  None  terrestrial biome    4212  \n",
       "15366  None  terrestrial biome    4212  \n",
       "\n",
       "[15367 rows x 25 columns]"
      ],
      "text/html": [
       "<div>\n",
       "<style scoped>\n",
       "    .dataframe tbody tr th:only-of-type {\n",
       "        vertical-align: middle;\n",
       "    }\n",
       "\n",
       "    .dataframe tbody tr th {\n",
       "        vertical-align: top;\n",
       "    }\n",
       "\n",
       "    .dataframe thead th {\n",
       "        text-align: right;\n",
       "    }\n",
       "</style>\n",
       "<table border=\"1\" class=\"dataframe\">\n",
       "  <thead>\n",
       "    <tr style=\"text-align: right;\">\n",
       "      <th></th>\n",
       "      <th>BIOSAMPLE GOLD ID</th>\n",
       "      <th>BIOSAMPLE NAME</th>\n",
       "      <th>BIOSAMPLE NCBI TAX ID</th>\n",
       "      <th>BIOSAMPLE NCBI TAX NAME</th>\n",
       "      <th>BIOSAMPLE SAMPLE COLLECTION SITE</th>\n",
       "      <th>BIOSAMPLE SAMPLE COLLECTION DATE</th>\n",
       "      <th>BIOSAMPLE GEOGRAPHIC LOCATION</th>\n",
       "      <th>BIOSAMPLE LATITUDE</th>\n",
       "      <th>BIOSAMPLE LONGITUDE</th>\n",
       "      <th>BIOSAMPLE ECOSYSTEM PATH ID</th>\n",
       "      <th>...</th>\n",
       "      <th>stanza</th>\n",
       "      <th>subject</th>\n",
       "      <th>predicate</th>\n",
       "      <th>object</th>\n",
       "      <th>value</th>\n",
       "      <th>datatype</th>\n",
       "      <th>language</th>\n",
       "      <th>graph</th>\n",
       "      <th>object_label</th>\n",
       "      <th>path_id</th>\n",
       "    </tr>\n",
       "  </thead>\n",
       "  <tbody>\n",
       "    <tr>\n",
       "      <th>0</th>\n",
       "      <td>Gb0050971</td>\n",
       "      <td>Soil ecosystem from  different sites within th...</td>\n",
       "      <td>410658.0</td>\n",
       "      <td>soil metagenome</td>\n",
       "      <td>soil classification Mesic aquic argiudoll</td>\n",
       "      <td>NaN</td>\n",
       "      <td>Soils collected from different sites within th...</td>\n",
       "      <td>40.104616</td>\n",
       "      <td>-88.226517</td>\n",
       "      <td>4212</td>\n",
       "      <td>...</td>\n",
       "      <td>GOLDTERMS:4212</td>\n",
       "      <td>GOLDTERMS:4212</td>\n",
       "      <td>mixs:env_broad</td>\n",
       "      <td>ENVO:00000446</td>\n",
       "      <td>None</td>\n",
       "      <td>None</td>\n",
       "      <td>None</td>\n",
       "      <td>None</td>\n",
       "      <td>terrestrial biome</td>\n",
       "      <td>4212</td>\n",
       "    </tr>\n",
       "    <tr>\n",
       "      <th>1</th>\n",
       "      <td>Gb0050972</td>\n",
       "      <td>Soil ecosystem from  different sites within th...</td>\n",
       "      <td>410658.0</td>\n",
       "      <td>soil metagenome</td>\n",
       "      <td>soil classification Dystric brunisol</td>\n",
       "      <td>NaN</td>\n",
       "      <td>Soils collected from different sites within th...</td>\n",
       "      <td>52.743203</td>\n",
       "      <td>-91.718433</td>\n",
       "      <td>4212</td>\n",
       "      <td>...</td>\n",
       "      <td>GOLDTERMS:4212</td>\n",
       "      <td>GOLDTERMS:4212</td>\n",
       "      <td>mixs:env_broad</td>\n",
       "      <td>ENVO:00000446</td>\n",
       "      <td>None</td>\n",
       "      <td>None</td>\n",
       "      <td>None</td>\n",
       "      <td>None</td>\n",
       "      <td>terrestrial biome</td>\n",
       "      <td>4212</td>\n",
       "    </tr>\n",
       "    <tr>\n",
       "      <th>2</th>\n",
       "      <td>Gb0050973</td>\n",
       "      <td>Soil ecosystem from  different sites within th...</td>\n",
       "      <td>410658.0</td>\n",
       "      <td>soil metagenome</td>\n",
       "      <td>soil classificaiton Distrophic oxisol</td>\n",
       "      <td>NaN</td>\n",
       "      <td>Soils collected from different sites within th...</td>\n",
       "      <td>-29.539671</td>\n",
       "      <td>-55.107556</td>\n",
       "      <td>4212</td>\n",
       "      <td>...</td>\n",
       "      <td>GOLDTERMS:4212</td>\n",
       "      <td>GOLDTERMS:4212</td>\n",
       "      <td>mixs:env_broad</td>\n",
       "      <td>ENVO:00000446</td>\n",
       "      <td>None</td>\n",
       "      <td>None</td>\n",
       "      <td>None</td>\n",
       "      <td>None</td>\n",
       "      <td>terrestrial biome</td>\n",
       "      <td>4212</td>\n",
       "    </tr>\n",
       "    <tr>\n",
       "      <th>3</th>\n",
       "      <td>Gb0050974</td>\n",
       "      <td>Soil ecosystem from  different sites within th...</td>\n",
       "      <td>410658.0</td>\n",
       "      <td>soil metagenome</td>\n",
       "      <td>soil classification euic, hyperthermic lithic ...</td>\n",
       "      <td>NaN</td>\n",
       "      <td>Soils collected from different sites within th...</td>\n",
       "      <td>26.663199</td>\n",
       "      <td>-80.628500</td>\n",
       "      <td>4212</td>\n",
       "      <td>...</td>\n",
       "      <td>GOLDTERMS:4212</td>\n",
       "      <td>GOLDTERMS:4212</td>\n",
       "      <td>mixs:env_broad</td>\n",
       "      <td>ENVO:00000446</td>\n",
       "      <td>None</td>\n",
       "      <td>None</td>\n",
       "      <td>None</td>\n",
       "      <td>None</td>\n",
       "      <td>terrestrial biome</td>\n",
       "      <td>4212</td>\n",
       "    </tr>\n",
       "    <tr>\n",
       "      <th>4</th>\n",
       "      <td>Gb0051017</td>\n",
       "      <td>Mammuthus primigenius fossil ecosystem from Bo...</td>\n",
       "      <td>444079.0</td>\n",
       "      <td>fossil metagenome</td>\n",
       "      <td>Bolshaya Kolopatkaya river, Russia</td>\n",
       "      <td>NaN</td>\n",
       "      <td>Russia: Sakha Republic</td>\n",
       "      <td>70.000000</td>\n",
       "      <td>151.000000</td>\n",
       "      <td>4418</td>\n",
       "      <td>...</td>\n",
       "      <td>GOLDTERMS:4418</td>\n",
       "      <td>GOLDTERMS:4418</td>\n",
       "      <td>mixs:env_broad</td>\n",
       "      <td>ENVO:00000446</td>\n",
       "      <td>None</td>\n",
       "      <td>None</td>\n",
       "      <td>None</td>\n",
       "      <td>None</td>\n",
       "      <td>terrestrial biome</td>\n",
       "      <td>4418</td>\n",
       "    </tr>\n",
       "    <tr>\n",
       "      <th>...</th>\n",
       "      <td>...</td>\n",
       "      <td>...</td>\n",
       "      <td>...</td>\n",
       "      <td>...</td>\n",
       "      <td>...</td>\n",
       "      <td>...</td>\n",
       "      <td>...</td>\n",
       "      <td>...</td>\n",
       "      <td>...</td>\n",
       "      <td>...</td>\n",
       "      <td>...</td>\n",
       "      <td>...</td>\n",
       "      <td>...</td>\n",
       "      <td>...</td>\n",
       "      <td>...</td>\n",
       "      <td>...</td>\n",
       "      <td>...</td>\n",
       "      <td>...</td>\n",
       "      <td>...</td>\n",
       "      <td>...</td>\n",
       "      <td>...</td>\n",
       "    </tr>\n",
       "    <tr>\n",
       "      <th>15362</th>\n",
       "      <td>Gb0405261</td>\n",
       "      <td>Soil microbial communities from San Joaquin Ex...</td>\n",
       "      <td>410658.0</td>\n",
       "      <td>soil metagenome</td>\n",
       "      <td>soil</td>\n",
       "      <td>2023-02-27</td>\n",
       "      <td>USA: Yosemite Lakes, California</td>\n",
       "      <td>37.112820</td>\n",
       "      <td>-119.731615</td>\n",
       "      <td>4212</td>\n",
       "      <td>...</td>\n",
       "      <td>GOLDTERMS:4212</td>\n",
       "      <td>GOLDTERMS:4212</td>\n",
       "      <td>mixs:env_broad</td>\n",
       "      <td>ENVO:00000446</td>\n",
       "      <td>None</td>\n",
       "      <td>None</td>\n",
       "      <td>None</td>\n",
       "      <td>None</td>\n",
       "      <td>terrestrial biome</td>\n",
       "      <td>4212</td>\n",
       "    </tr>\n",
       "    <tr>\n",
       "      <th>15363</th>\n",
       "      <td>Gb0405262</td>\n",
       "      <td>Soil microbial communities from San Joaquin Ex...</td>\n",
       "      <td>410658.0</td>\n",
       "      <td>soil metagenome</td>\n",
       "      <td>soil</td>\n",
       "      <td>2023-02-27</td>\n",
       "      <td>USA: Yosemite Lakes, California</td>\n",
       "      <td>37.112820</td>\n",
       "      <td>-119.731615</td>\n",
       "      <td>4212</td>\n",
       "      <td>...</td>\n",
       "      <td>GOLDTERMS:4212</td>\n",
       "      <td>GOLDTERMS:4212</td>\n",
       "      <td>mixs:env_broad</td>\n",
       "      <td>ENVO:00000446</td>\n",
       "      <td>None</td>\n",
       "      <td>None</td>\n",
       "      <td>None</td>\n",
       "      <td>None</td>\n",
       "      <td>terrestrial biome</td>\n",
       "      <td>4212</td>\n",
       "    </tr>\n",
       "    <tr>\n",
       "      <th>15364</th>\n",
       "      <td>Gb0405263</td>\n",
       "      <td>Soil microbial communities from San Joaquin Ex...</td>\n",
       "      <td>410658.0</td>\n",
       "      <td>soil metagenome</td>\n",
       "      <td>soil</td>\n",
       "      <td>2023-02-27</td>\n",
       "      <td>USA: Yosemite Lakes, California</td>\n",
       "      <td>37.111270</td>\n",
       "      <td>-119.728168</td>\n",
       "      <td>4212</td>\n",
       "      <td>...</td>\n",
       "      <td>GOLDTERMS:4212</td>\n",
       "      <td>GOLDTERMS:4212</td>\n",
       "      <td>mixs:env_broad</td>\n",
       "      <td>ENVO:00000446</td>\n",
       "      <td>None</td>\n",
       "      <td>None</td>\n",
       "      <td>None</td>\n",
       "      <td>None</td>\n",
       "      <td>terrestrial biome</td>\n",
       "      <td>4212</td>\n",
       "    </tr>\n",
       "    <tr>\n",
       "      <th>15365</th>\n",
       "      <td>Gb0405264</td>\n",
       "      <td>Soil microbial communities from San Joaquin Ex...</td>\n",
       "      <td>410658.0</td>\n",
       "      <td>soil metagenome</td>\n",
       "      <td>soil</td>\n",
       "      <td>2023-02-27</td>\n",
       "      <td>USA: Yosemite Lakes, California</td>\n",
       "      <td>37.111270</td>\n",
       "      <td>-119.728168</td>\n",
       "      <td>4212</td>\n",
       "      <td>...</td>\n",
       "      <td>GOLDTERMS:4212</td>\n",
       "      <td>GOLDTERMS:4212</td>\n",
       "      <td>mixs:env_broad</td>\n",
       "      <td>ENVO:00000446</td>\n",
       "      <td>None</td>\n",
       "      <td>None</td>\n",
       "      <td>None</td>\n",
       "      <td>None</td>\n",
       "      <td>terrestrial biome</td>\n",
       "      <td>4212</td>\n",
       "    </tr>\n",
       "    <tr>\n",
       "      <th>15366</th>\n",
       "      <td>Gb0405265</td>\n",
       "      <td>Soil microbial communities from San Joaquin Ex...</td>\n",
       "      <td>410658.0</td>\n",
       "      <td>soil metagenome</td>\n",
       "      <td>soil</td>\n",
       "      <td>2023-02-27</td>\n",
       "      <td>USA: Yosemite Lakes, California</td>\n",
       "      <td>37.111270</td>\n",
       "      <td>-119.728168</td>\n",
       "      <td>4212</td>\n",
       "      <td>...</td>\n",
       "      <td>GOLDTERMS:4212</td>\n",
       "      <td>GOLDTERMS:4212</td>\n",
       "      <td>mixs:env_broad</td>\n",
       "      <td>ENVO:00000446</td>\n",
       "      <td>None</td>\n",
       "      <td>None</td>\n",
       "      <td>None</td>\n",
       "      <td>None</td>\n",
       "      <td>terrestrial biome</td>\n",
       "      <td>4212</td>\n",
       "    </tr>\n",
       "  </tbody>\n",
       "</table>\n",
       "<p>15367 rows × 25 columns</p>\n",
       "</div>"
      ]
     },
     "execution_count": 102,
     "metadata": {},
     "output_type": "execute_result"
    }
   ],
   "execution_count": 102
  },
  {
   "metadata": {},
   "cell_type": "markdown",
   "source": "# GOLDTERMS only approach",
   "id": "8c66c02b62dbcf22"
  },
  {
   "metadata": {
    "ExecuteTime": {
     "end_time": "2024-12-06T13:26:54.533423Z",
     "start_time": "2024-12-06T13:26:54.526077Z"
    }
   },
   "cell_type": "code",
   "source": "goldterms_result = pd.read_sql_query(extension_query, goldterms_conn)",
   "id": "beacc603e5db48b3",
   "outputs": [],
   "execution_count": 103
  },
  {
   "metadata": {
    "ExecuteTime": {
     "end_time": "2024-12-06T13:26:54.608443Z",
     "start_time": "2024-12-06T13:26:54.599984Z"
    }
   },
   "cell_type": "code",
   "source": "goldterms_result",
   "id": "85e373122e14f6dc",
   "outputs": [
    {
     "data": {
      "text/plain": [
       "                                             subject            predicate  \\\n",
       "0    GOLDTERMS:Environmental-Terrestrial-Soil-Arable       mixs:env_broad   \n",
       "1    GOLDTERMS:Environmental-Terrestrial-Soil-Arable       mixs:env_local   \n",
       "2    GOLDTERMS:Environmental-Terrestrial-Soil-Arable      mixs:env_medium   \n",
       "3    GOLDTERMS:Environmental-Terrestrial-Soil-Arable  mixs:mixs_extension   \n",
       "4    GOLDTERMS:Environmental-Terrestrial-Soil-Arable           rdfs:label   \n",
       "..                                               ...                  ...   \n",
       "403                                   GOLDTERMS:5823       mixs:env_broad   \n",
       "404                                   GOLDTERMS:5823      mixs:env_medium   \n",
       "405                                   GOLDTERMS:5823  mixs:mixs_extension   \n",
       "406                                   GOLDTERMS:5823           mixs:other   \n",
       "407                                   GOLDTERMS:5823           rdfs:label   \n",
       "\n",
       "                                               content  \n",
       "0                                        ENVO:00000446  \n",
       "1                                        ENVO:01001177  \n",
       "2                                        ENVO:00005742  \n",
       "3                                            mixs:Soil  \n",
       "4          Environmental > Terrestrial > Soil > Arable  \n",
       "..                                                 ...  \n",
       "403                                      ENVO:00000446  \n",
       "404                                      ENVO:00005802  \n",
       "405                                          mixs:Soil  \n",
       "406                                      ENVO:03600045  \n",
       "407  Environmental > Terrestrial > Soil > Bulk soil...  \n",
       "\n",
       "[408 rows x 3 columns]"
      ],
      "text/html": [
       "<div>\n",
       "<style scoped>\n",
       "    .dataframe tbody tr th:only-of-type {\n",
       "        vertical-align: middle;\n",
       "    }\n",
       "\n",
       "    .dataframe tbody tr th {\n",
       "        vertical-align: top;\n",
       "    }\n",
       "\n",
       "    .dataframe thead th {\n",
       "        text-align: right;\n",
       "    }\n",
       "</style>\n",
       "<table border=\"1\" class=\"dataframe\">\n",
       "  <thead>\n",
       "    <tr style=\"text-align: right;\">\n",
       "      <th></th>\n",
       "      <th>subject</th>\n",
       "      <th>predicate</th>\n",
       "      <th>content</th>\n",
       "    </tr>\n",
       "  </thead>\n",
       "  <tbody>\n",
       "    <tr>\n",
       "      <th>0</th>\n",
       "      <td>GOLDTERMS:Environmental-Terrestrial-Soil-Arable</td>\n",
       "      <td>mixs:env_broad</td>\n",
       "      <td>ENVO:00000446</td>\n",
       "    </tr>\n",
       "    <tr>\n",
       "      <th>1</th>\n",
       "      <td>GOLDTERMS:Environmental-Terrestrial-Soil-Arable</td>\n",
       "      <td>mixs:env_local</td>\n",
       "      <td>ENVO:01001177</td>\n",
       "    </tr>\n",
       "    <tr>\n",
       "      <th>2</th>\n",
       "      <td>GOLDTERMS:Environmental-Terrestrial-Soil-Arable</td>\n",
       "      <td>mixs:env_medium</td>\n",
       "      <td>ENVO:00005742</td>\n",
       "    </tr>\n",
       "    <tr>\n",
       "      <th>3</th>\n",
       "      <td>GOLDTERMS:Environmental-Terrestrial-Soil-Arable</td>\n",
       "      <td>mixs:mixs_extension</td>\n",
       "      <td>mixs:Soil</td>\n",
       "    </tr>\n",
       "    <tr>\n",
       "      <th>4</th>\n",
       "      <td>GOLDTERMS:Environmental-Terrestrial-Soil-Arable</td>\n",
       "      <td>rdfs:label</td>\n",
       "      <td>Environmental &gt; Terrestrial &gt; Soil &gt; Arable</td>\n",
       "    </tr>\n",
       "    <tr>\n",
       "      <th>...</th>\n",
       "      <td>...</td>\n",
       "      <td>...</td>\n",
       "      <td>...</td>\n",
       "    </tr>\n",
       "    <tr>\n",
       "      <th>403</th>\n",
       "      <td>GOLDTERMS:5823</td>\n",
       "      <td>mixs:env_broad</td>\n",
       "      <td>ENVO:00000446</td>\n",
       "    </tr>\n",
       "    <tr>\n",
       "      <th>404</th>\n",
       "      <td>GOLDTERMS:5823</td>\n",
       "      <td>mixs:env_medium</td>\n",
       "      <td>ENVO:00005802</td>\n",
       "    </tr>\n",
       "    <tr>\n",
       "      <th>405</th>\n",
       "      <td>GOLDTERMS:5823</td>\n",
       "      <td>mixs:mixs_extension</td>\n",
       "      <td>mixs:Soil</td>\n",
       "    </tr>\n",
       "    <tr>\n",
       "      <th>406</th>\n",
       "      <td>GOLDTERMS:5823</td>\n",
       "      <td>mixs:other</td>\n",
       "      <td>ENVO:03600045</td>\n",
       "    </tr>\n",
       "    <tr>\n",
       "      <th>407</th>\n",
       "      <td>GOLDTERMS:5823</td>\n",
       "      <td>rdfs:label</td>\n",
       "      <td>Environmental &gt; Terrestrial &gt; Soil &gt; Bulk soil...</td>\n",
       "    </tr>\n",
       "  </tbody>\n",
       "</table>\n",
       "<p>408 rows × 3 columns</p>\n",
       "</div>"
      ]
     },
     "execution_count": 104,
     "metadata": {},
     "output_type": "execute_result"
    }
   ],
   "execution_count": 104
  },
  {
   "metadata": {
    "ExecuteTime": {
     "end_time": "2024-12-06T13:26:54.685350Z",
     "start_time": "2024-12-06T13:26:54.682451Z"
    }
   },
   "cell_type": "code",
   "source": [
    "# # todo: save this kind of content before subsetting on an environment\n",
    "# #   the subsetting is currently baked into the query\n",
    "# \n",
    "# # see also goldterms_queries.ipynb in MAM's Collab\n",
    "# goldterms_result.to_csv(\"goldterms_single_environment_mappings_long.tsv\", sep=\"\\t\", index=False)"
   ],
   "id": "859a87109b08d83c",
   "outputs": [],
   "execution_count": 105
  },
  {
   "metadata": {
    "ExecuteTime": {
     "end_time": "2024-12-06T13:26:54.833704Z",
     "start_time": "2024-12-06T13:26:54.830285Z"
    }
   },
   "cell_type": "code",
   "source": "goldterms_only_curies = goldterms_result.loc[goldterms_result['predicate'] == gold_context_selector, 'content']\n",
   "id": "391d1fb9314d4b0b",
   "outputs": [],
   "execution_count": 106
  },
  {
   "metadata": {
    "ExecuteTime": {
     "end_time": "2024-12-06T13:26:54.888631Z",
     "start_time": "2024-12-06T13:26:54.885359Z"
    }
   },
   "cell_type": "code",
   "source": "goldterms_only_curies = goldterms_only_curies.unique().tolist()",
   "id": "b5621477ccaaa761",
   "outputs": [],
   "execution_count": 107
  },
  {
   "metadata": {
    "ExecuteTime": {
     "end_time": "2024-12-06T13:26:54.967745Z",
     "start_time": "2024-12-06T13:26:54.963464Z"
    }
   },
   "cell_type": "code",
   "source": "goldterms_only_curies",
   "id": "70238d1c8e144cc3",
   "outputs": [
    {
     "data": {
      "text/plain": [
       "['ENVO:00000446',\n",
       " 'ENVO:01000177',\n",
       " 'ENVO:00000077',\n",
       " 'ENVO:01000250',\n",
       " 'ENVO:01001209',\n",
       " 'ENVO:00000078',\n",
       " 'ENVO:01001835',\n",
       " 'ENVO:00000232']"
      ]
     },
     "execution_count": 108,
     "metadata": {},
     "output_type": "execute_result"
    }
   ],
   "execution_count": 108
  },
  {
   "cell_type": "markdown",
   "id": "8541580a525201e3",
   "metadata": {},
   "source": [
    "----"
   ]
  },
  {
   "metadata": {
    "ExecuteTime": {
     "end_time": "2024-12-06T13:26:55.264098Z",
     "start_time": "2024-12-06T13:26:55.060067Z"
    }
   },
   "cell_type": "code",
   "source": [
    "anchor_curies = list(anchor_descendants_frame['curie'])\n",
    "legacy_pv_curies = [i['curie'] for i in pv_validation_results['valids']]\n",
    "\n",
    "biome_curies = list(envo_adapter.descendants(BIOME, predicates=[IS_A])) # \n",
    "terrestrial_biome_curies = list(envo_adapter.descendants(TERRESTRIAL_BIOME, predicates=[IS_A]))\n",
    "aquatic_biome_curies = list(envo_adapter.descendants(AQUATIC_BIOME, predicates=[IS_A]))\n",
    "abp_curies = list(envo_adapter.descendants(ABP, predicates=[IS_A]))\n",
    "env_sys_curies = list(envo_adapter.descendants(ENVIRONMENTAL_SYSTEM, predicates=[IS_A]))\n",
    "env_mat_curies = list(envo_adapter.descendants(ENVIRONMENTAL_MATERIAL, predicates=[IS_A]))\n",
    "obsoletes_curies = list(envo_adapter.obsoletes())"
   ],
   "id": "beb69545a9255099",
   "outputs": [],
   "execution_count": 109
  },
  {
   "metadata": {
    "ExecuteTime": {
     "end_time": "2024-12-06T13:27:00.694903Z",
     "start_time": "2024-12-06T13:27:00.692075Z"
    }
   },
   "cell_type": "code",
   "source": "include_in_rows = set()",
   "id": "20a9dcc52b995762",
   "outputs": [],
   "execution_count": 110
  },
  {
   "metadata": {
    "ExecuteTime": {
     "end_time": "2024-12-06T13:27:05.488770Z",
     "start_time": "2024-12-06T13:27:05.486051Z"
    }
   },
   "cell_type": "code",
   "source": "include_in_rows.update(anchor_curies)",
   "id": "2c3e280c36ed9b91",
   "outputs": [],
   "execution_count": 111
  },
  {
   "metadata": {
    "ExecuteTime": {
     "end_time": "2024-12-06T13:27:11.024762Z",
     "start_time": "2024-12-06T13:27:11.022050Z"
    }
   },
   "cell_type": "code",
   "source": "include_in_rows.update(legacy_pv_curies)",
   "id": "422c62627b450632",
   "outputs": [],
   "execution_count": 112
  },
  {
   "metadata": {
    "ExecuteTime": {
     "end_time": "2024-12-06T13:27:15.765010Z",
     "start_time": "2024-12-06T13:27:15.760793Z"
    }
   },
   "cell_type": "code",
   "source": "include_in_rows.update(nmdc_biosample_contexts_frame[nmdc_context_selector])",
   "id": "e279a2edf1fa4935",
   "outputs": [],
   "execution_count": 113
  },
  {
   "metadata": {
    "ExecuteTime": {
     "end_time": "2024-12-06T13:27:20.527309Z",
     "start_time": "2024-12-06T13:27:20.523308Z"
    }
   },
   "cell_type": "code",
   "source": "include_in_rows.update(ncbi_frame['extracted_curie'])",
   "id": "7e4be4b7ae64e990",
   "outputs": [],
   "execution_count": 114
  },
  {
   "metadata": {
    "ExecuteTime": {
     "end_time": "2024-12-06T13:27:25.353607Z",
     "start_time": "2024-12-06T13:27:25.349588Z"
    }
   },
   "cell_type": "code",
   "source": "include_in_rows.update(ncbi_frame['longest_annotation_curie'])",
   "id": "2cd900624cfce1ec",
   "outputs": [],
   "execution_count": 115
  },
  {
   "metadata": {
    "ExecuteTime": {
     "end_time": "2024-12-06T13:27:30.469336Z",
     "start_time": "2024-12-06T13:27:30.456226Z"
    }
   },
   "cell_type": "code",
   "source": "include_in_rows.update(gold_env_filtered_biosamples_with_inferred['object'])",
   "id": "9790ec48f41afe79",
   "outputs": [],
   "execution_count": 116
  },
  {
   "metadata": {
    "ExecuteTime": {
     "end_time": "2024-12-06T13:27:35.617313Z",
     "start_time": "2024-12-06T13:27:35.614702Z"
    }
   },
   "cell_type": "code",
   "source": "rows_lod = []",
   "id": "f7a6fb9413f45298",
   "outputs": [],
   "execution_count": 117
  },
  {
   "cell_type": "code",
   "id": "32f278db05c57616",
   "metadata": {
    "ExecuteTime": {
     "end_time": "2024-12-06T13:28:22.316095Z",
     "start_time": "2024-12-06T13:27:40.419121Z"
    }
   },
   "source": [
    "for curie in include_in_rows:\n",
    "    if curie is None:\n",
    "        continue\n",
    "        \n",
    "    # ONCE AGAIN, assuming that EnvO is the only ontology we'll check against\n",
    "    current_ancestors = list(envo_adapter.ancestors(curie, predicates=[IS_A])) # vs legacy_pv_curies\n",
    "    ancestors_in_enum_count = len(set(current_ancestors) & set(legacy_pv_curies))\n",
    "    \n",
    "    current_descendants  = list(envo_adapter.descendants(curie, predicates=[IS_A])) # vs legacy_pv_curies\n",
    "    descendants_in_enum_count  = len(set(current_descendants) & set(legacy_pv_curies))\n",
    "    \n",
    "    \n",
    "    row = {\n",
    "        'curie': curie,\n",
    "        'label': envo_adapter.label(curie),\n",
    "        'envo_native': False,\n",
    "        'obsolete': False,\n",
    "        comparison_enum_column_name: False,\n",
    "        'ancestors_in_enum_count': ancestors_in_enum_count,\n",
    "        'descendants_in_enum_count': descendants_in_enum_count,\n",
    "        'abp': False,\n",
    "        'env_sys': False,\n",
    "        'biome': False,\n",
    "        'terrestrial_biome': False,\n",
    "        'aquatic_biome': False,\n",
    "        'env_mat': False,\n",
    "        'goldterms_mappings': False,\n",
    "    }\n",
    "        \n",
    "    if curie in biome_curies:\n",
    "        row['biome'] = True\n",
    "    if curie in terrestrial_biome_curies:\n",
    "        row['terrestrial_biome'] = True\n",
    "    if curie in aquatic_biome_curies:\n",
    "        row['aquatic_biome'] = True\n",
    "    if curie in abp_curies:\n",
    "        row['abp'] = True\n",
    "    if curie in env_sys_curies:\n",
    "        row['env_sys'] = True\n",
    "    if curie in env_mat_curies:\n",
    "        row['env_mat'] = True\n",
    "    if curie in legacy_pv_curies:\n",
    "        row[comparison_enum_column_name] = True\n",
    "    if curie in obsoletes_curies:\n",
    "        row['obsolete'] = True\n",
    "    if curie in goldterms_only_curies:\n",
    "        row['goldterms_mappings'] = True\n",
    "        \n",
    "    try:\n",
    "        prefix, local_id = curie.split(':')\n",
    "        if prefix and prefix == 'ENVO' and row['label'] is not None:\n",
    "            row['envo_native'] = True\n",
    "    except Exception as e:\n",
    "        # Print the exception message\n",
    "        print(f\"An error occurred: {e} trying to split {curie}\")\n",
    "\n",
    "    rows_lod.append(row)\n",
    "\n",
    "# 2 minutes\n"
   ],
   "outputs": [],
   "execution_count": 118
  },
  {
   "cell_type": "code",
   "id": "26bb62d21192288f",
   "metadata": {
    "ExecuteTime": {
     "end_time": "2024-12-06T13:28:27.055723Z",
     "start_time": "2024-12-06T13:28:27.048279Z"
    }
   },
   "source": [
    "rows_frame = pd.DataFrame(rows_lod)"
   ],
   "outputs": [],
   "execution_count": 119
  },
  {
   "cell_type": "code",
   "id": "4db3ebadb8a07a50",
   "metadata": {
    "ExecuteTime": {
     "end_time": "2024-12-06T13:28:31.795879Z",
     "start_time": "2024-12-06T13:28:31.781851Z"
    }
   },
   "source": [
    "rows_frame"
   ],
   "outputs": [
    {
     "data": {
      "text/plain": [
       "              curie                             label  envo_native  obsolete  \\\n",
       "0     ENVO:00002297    obsolete environmental feature         True      True   \n",
       "1      ENVO:0000472                              None        False     False   \n",
       "2     ENVO:01000210  tropical coniferous forest biome         True     False   \n",
       "3     ENVO:01000250  subpolar coniferous forest biome         True     False   \n",
       "4     ENVO:00002078                              None        False     False   \n",
       "...             ...                               ...          ...       ...   \n",
       "1575   ENVO:0000436                              None        False     False   \n",
       "1576  ENVO:01001790             terrestrial ecosystem         True     False   \n",
       "1577  ENVO:00005950                              None        False     False   \n",
       "1578  ENVO:01000245                    cropland biome         True     False   \n",
       "1579  ENVO:00002184               subsurface landform         True     False   \n",
       "\n",
       "      EnvBroadScaleSoilEnum_10_7  ancestors_in_enum_count  \\\n",
       "0                          False                        0   \n",
       "1                          False                        0   \n",
       "2                          False                        2   \n",
       "3                          False                        2   \n",
       "4                          False                        0   \n",
       "...                          ...                      ...   \n",
       "1575                       False                        0   \n",
       "1576                       False                        0   \n",
       "1577                       False                        0   \n",
       "1578                       False                        2   \n",
       "1579                       False                        0   \n",
       "\n",
       "      descendants_in_enum_count    abp  env_sys  biome  terrestrial_biome  \\\n",
       "0                             0  False    False  False              False   \n",
       "1                             0  False    False  False              False   \n",
       "2                             0   True     True   True               True   \n",
       "3                             0   True     True   True               True   \n",
       "4                             0  False    False  False              False   \n",
       "...                         ...    ...      ...    ...                ...   \n",
       "1575                          0  False    False  False              False   \n",
       "1576                         26   True     True  False              False   \n",
       "1577                          0  False    False  False              False   \n",
       "1578                          0   True     True   True               True   \n",
       "1579                          0   True    False  False              False   \n",
       "\n",
       "      aquatic_biome  env_mat  goldterms_mappings  \n",
       "0             False    False               False  \n",
       "1             False    False               False  \n",
       "2             False    False               False  \n",
       "3             False    False                True  \n",
       "4             False    False               False  \n",
       "...             ...      ...                 ...  \n",
       "1575          False    False               False  \n",
       "1576          False    False               False  \n",
       "1577          False    False               False  \n",
       "1578          False    False               False  \n",
       "1579          False    False               False  \n",
       "\n",
       "[1580 rows x 14 columns]"
      ],
      "text/html": [
       "<div>\n",
       "<style scoped>\n",
       "    .dataframe tbody tr th:only-of-type {\n",
       "        vertical-align: middle;\n",
       "    }\n",
       "\n",
       "    .dataframe tbody tr th {\n",
       "        vertical-align: top;\n",
       "    }\n",
       "\n",
       "    .dataframe thead th {\n",
       "        text-align: right;\n",
       "    }\n",
       "</style>\n",
       "<table border=\"1\" class=\"dataframe\">\n",
       "  <thead>\n",
       "    <tr style=\"text-align: right;\">\n",
       "      <th></th>\n",
       "      <th>curie</th>\n",
       "      <th>label</th>\n",
       "      <th>envo_native</th>\n",
       "      <th>obsolete</th>\n",
       "      <th>EnvBroadScaleSoilEnum_10_7</th>\n",
       "      <th>ancestors_in_enum_count</th>\n",
       "      <th>descendants_in_enum_count</th>\n",
       "      <th>abp</th>\n",
       "      <th>env_sys</th>\n",
       "      <th>biome</th>\n",
       "      <th>terrestrial_biome</th>\n",
       "      <th>aquatic_biome</th>\n",
       "      <th>env_mat</th>\n",
       "      <th>goldterms_mappings</th>\n",
       "    </tr>\n",
       "  </thead>\n",
       "  <tbody>\n",
       "    <tr>\n",
       "      <th>0</th>\n",
       "      <td>ENVO:00002297</td>\n",
       "      <td>obsolete environmental feature</td>\n",
       "      <td>True</td>\n",
       "      <td>True</td>\n",
       "      <td>False</td>\n",
       "      <td>0</td>\n",
       "      <td>0</td>\n",
       "      <td>False</td>\n",
       "      <td>False</td>\n",
       "      <td>False</td>\n",
       "      <td>False</td>\n",
       "      <td>False</td>\n",
       "      <td>False</td>\n",
       "      <td>False</td>\n",
       "    </tr>\n",
       "    <tr>\n",
       "      <th>1</th>\n",
       "      <td>ENVO:0000472</td>\n",
       "      <td>None</td>\n",
       "      <td>False</td>\n",
       "      <td>False</td>\n",
       "      <td>False</td>\n",
       "      <td>0</td>\n",
       "      <td>0</td>\n",
       "      <td>False</td>\n",
       "      <td>False</td>\n",
       "      <td>False</td>\n",
       "      <td>False</td>\n",
       "      <td>False</td>\n",
       "      <td>False</td>\n",
       "      <td>False</td>\n",
       "    </tr>\n",
       "    <tr>\n",
       "      <th>2</th>\n",
       "      <td>ENVO:01000210</td>\n",
       "      <td>tropical coniferous forest biome</td>\n",
       "      <td>True</td>\n",
       "      <td>False</td>\n",
       "      <td>False</td>\n",
       "      <td>2</td>\n",
       "      <td>0</td>\n",
       "      <td>True</td>\n",
       "      <td>True</td>\n",
       "      <td>True</td>\n",
       "      <td>True</td>\n",
       "      <td>False</td>\n",
       "      <td>False</td>\n",
       "      <td>False</td>\n",
       "    </tr>\n",
       "    <tr>\n",
       "      <th>3</th>\n",
       "      <td>ENVO:01000250</td>\n",
       "      <td>subpolar coniferous forest biome</td>\n",
       "      <td>True</td>\n",
       "      <td>False</td>\n",
       "      <td>False</td>\n",
       "      <td>2</td>\n",
       "      <td>0</td>\n",
       "      <td>True</td>\n",
       "      <td>True</td>\n",
       "      <td>True</td>\n",
       "      <td>True</td>\n",
       "      <td>False</td>\n",
       "      <td>False</td>\n",
       "      <td>True</td>\n",
       "    </tr>\n",
       "    <tr>\n",
       "      <th>4</th>\n",
       "      <td>ENVO:00002078</td>\n",
       "      <td>None</td>\n",
       "      <td>False</td>\n",
       "      <td>False</td>\n",
       "      <td>False</td>\n",
       "      <td>0</td>\n",
       "      <td>0</td>\n",
       "      <td>False</td>\n",
       "      <td>False</td>\n",
       "      <td>False</td>\n",
       "      <td>False</td>\n",
       "      <td>False</td>\n",
       "      <td>False</td>\n",
       "      <td>False</td>\n",
       "    </tr>\n",
       "    <tr>\n",
       "      <th>...</th>\n",
       "      <td>...</td>\n",
       "      <td>...</td>\n",
       "      <td>...</td>\n",
       "      <td>...</td>\n",
       "      <td>...</td>\n",
       "      <td>...</td>\n",
       "      <td>...</td>\n",
       "      <td>...</td>\n",
       "      <td>...</td>\n",
       "      <td>...</td>\n",
       "      <td>...</td>\n",
       "      <td>...</td>\n",
       "      <td>...</td>\n",
       "      <td>...</td>\n",
       "    </tr>\n",
       "    <tr>\n",
       "      <th>1575</th>\n",
       "      <td>ENVO:0000436</td>\n",
       "      <td>None</td>\n",
       "      <td>False</td>\n",
       "      <td>False</td>\n",
       "      <td>False</td>\n",
       "      <td>0</td>\n",
       "      <td>0</td>\n",
       "      <td>False</td>\n",
       "      <td>False</td>\n",
       "      <td>False</td>\n",
       "      <td>False</td>\n",
       "      <td>False</td>\n",
       "      <td>False</td>\n",
       "      <td>False</td>\n",
       "    </tr>\n",
       "    <tr>\n",
       "      <th>1576</th>\n",
       "      <td>ENVO:01001790</td>\n",
       "      <td>terrestrial ecosystem</td>\n",
       "      <td>True</td>\n",
       "      <td>False</td>\n",
       "      <td>False</td>\n",
       "      <td>0</td>\n",
       "      <td>26</td>\n",
       "      <td>True</td>\n",
       "      <td>True</td>\n",
       "      <td>False</td>\n",
       "      <td>False</td>\n",
       "      <td>False</td>\n",
       "      <td>False</td>\n",
       "      <td>False</td>\n",
       "    </tr>\n",
       "    <tr>\n",
       "      <th>1577</th>\n",
       "      <td>ENVO:00005950</td>\n",
       "      <td>None</td>\n",
       "      <td>False</td>\n",
       "      <td>False</td>\n",
       "      <td>False</td>\n",
       "      <td>0</td>\n",
       "      <td>0</td>\n",
       "      <td>False</td>\n",
       "      <td>False</td>\n",
       "      <td>False</td>\n",
       "      <td>False</td>\n",
       "      <td>False</td>\n",
       "      <td>False</td>\n",
       "      <td>False</td>\n",
       "    </tr>\n",
       "    <tr>\n",
       "      <th>1578</th>\n",
       "      <td>ENVO:01000245</td>\n",
       "      <td>cropland biome</td>\n",
       "      <td>True</td>\n",
       "      <td>False</td>\n",
       "      <td>False</td>\n",
       "      <td>2</td>\n",
       "      <td>0</td>\n",
       "      <td>True</td>\n",
       "      <td>True</td>\n",
       "      <td>True</td>\n",
       "      <td>True</td>\n",
       "      <td>False</td>\n",
       "      <td>False</td>\n",
       "      <td>False</td>\n",
       "    </tr>\n",
       "    <tr>\n",
       "      <th>1579</th>\n",
       "      <td>ENVO:00002184</td>\n",
       "      <td>subsurface landform</td>\n",
       "      <td>True</td>\n",
       "      <td>False</td>\n",
       "      <td>False</td>\n",
       "      <td>0</td>\n",
       "      <td>0</td>\n",
       "      <td>True</td>\n",
       "      <td>False</td>\n",
       "      <td>False</td>\n",
       "      <td>False</td>\n",
       "      <td>False</td>\n",
       "      <td>False</td>\n",
       "      <td>False</td>\n",
       "    </tr>\n",
       "  </tbody>\n",
       "</table>\n",
       "<p>1580 rows × 14 columns</p>\n",
       "</div>"
      ]
     },
     "execution_count": 120,
     "metadata": {},
     "output_type": "execute_result"
    }
   ],
   "execution_count": 120
  },
  {
   "cell_type": "code",
   "id": "88ebf6f76c2e0545",
   "metadata": {
    "ExecuteTime": {
     "end_time": "2024-12-06T13:28:37.387339Z",
     "start_time": "2024-12-06T13:28:37.382062Z"
    }
   },
   "source": [
    "nmdc_biosample_scoped_counts = nmdc_biosample_contexts_frame[nmdc_context_selector].value_counts().reset_index()\n",
    "nmdc_biosample_scoped_counts.columns = ['curie', 'nmdc_scoped_count']\n"
   ],
   "outputs": [],
   "execution_count": 121
  },
  {
   "cell_type": "code",
   "id": "85789ece9ec4ddd6",
   "metadata": {
    "ExecuteTime": {
     "end_time": "2024-12-06T13:28:37.461482Z",
     "start_time": "2024-12-06T13:28:37.454992Z"
    }
   },
   "source": [
    "nmdc_biosample_scoped_counts"
   ],
   "outputs": [
    {
     "data": {
      "text/plain": [
       "            curie  nmdc_scoped_count\n",
       "0   ENVO:00000446               5400\n",
       "1   ENVO:01000253                260\n",
       "2   ENVO:01000174                234\n",
       "3   ENVO:01000177                113\n",
       "4   ENVO:01000250                 31\n",
       "5   ENVO:01000221                 27\n",
       "6   ENVO:01000219                 22\n",
       "7   ENVO:01001837                 18\n",
       "8   ENVO:01000249                 15\n",
       "9   ENVO:01000245                  9\n",
       "10  ENVO:01000215                  7\n",
       "11  ENVO:01000179                  6\n",
       "12  ENVO:01000216                  6\n",
       "13  ENVO:01000247                  5\n",
       "14  ENVO:01000189                  4\n",
       "15  ENVO:01000211                  3\n",
       "16  ENVO:01000183                  2"
      ],
      "text/html": [
       "<div>\n",
       "<style scoped>\n",
       "    .dataframe tbody tr th:only-of-type {\n",
       "        vertical-align: middle;\n",
       "    }\n",
       "\n",
       "    .dataframe tbody tr th {\n",
       "        vertical-align: top;\n",
       "    }\n",
       "\n",
       "    .dataframe thead th {\n",
       "        text-align: right;\n",
       "    }\n",
       "</style>\n",
       "<table border=\"1\" class=\"dataframe\">\n",
       "  <thead>\n",
       "    <tr style=\"text-align: right;\">\n",
       "      <th></th>\n",
       "      <th>curie</th>\n",
       "      <th>nmdc_scoped_count</th>\n",
       "    </tr>\n",
       "  </thead>\n",
       "  <tbody>\n",
       "    <tr>\n",
       "      <th>0</th>\n",
       "      <td>ENVO:00000446</td>\n",
       "      <td>5400</td>\n",
       "    </tr>\n",
       "    <tr>\n",
       "      <th>1</th>\n",
       "      <td>ENVO:01000253</td>\n",
       "      <td>260</td>\n",
       "    </tr>\n",
       "    <tr>\n",
       "      <th>2</th>\n",
       "      <td>ENVO:01000174</td>\n",
       "      <td>234</td>\n",
       "    </tr>\n",
       "    <tr>\n",
       "      <th>3</th>\n",
       "      <td>ENVO:01000177</td>\n",
       "      <td>113</td>\n",
       "    </tr>\n",
       "    <tr>\n",
       "      <th>4</th>\n",
       "      <td>ENVO:01000250</td>\n",
       "      <td>31</td>\n",
       "    </tr>\n",
       "    <tr>\n",
       "      <th>5</th>\n",
       "      <td>ENVO:01000221</td>\n",
       "      <td>27</td>\n",
       "    </tr>\n",
       "    <tr>\n",
       "      <th>6</th>\n",
       "      <td>ENVO:01000219</td>\n",
       "      <td>22</td>\n",
       "    </tr>\n",
       "    <tr>\n",
       "      <th>7</th>\n",
       "      <td>ENVO:01001837</td>\n",
       "      <td>18</td>\n",
       "    </tr>\n",
       "    <tr>\n",
       "      <th>8</th>\n",
       "      <td>ENVO:01000249</td>\n",
       "      <td>15</td>\n",
       "    </tr>\n",
       "    <tr>\n",
       "      <th>9</th>\n",
       "      <td>ENVO:01000245</td>\n",
       "      <td>9</td>\n",
       "    </tr>\n",
       "    <tr>\n",
       "      <th>10</th>\n",
       "      <td>ENVO:01000215</td>\n",
       "      <td>7</td>\n",
       "    </tr>\n",
       "    <tr>\n",
       "      <th>11</th>\n",
       "      <td>ENVO:01000179</td>\n",
       "      <td>6</td>\n",
       "    </tr>\n",
       "    <tr>\n",
       "      <th>12</th>\n",
       "      <td>ENVO:01000216</td>\n",
       "      <td>6</td>\n",
       "    </tr>\n",
       "    <tr>\n",
       "      <th>13</th>\n",
       "      <td>ENVO:01000247</td>\n",
       "      <td>5</td>\n",
       "    </tr>\n",
       "    <tr>\n",
       "      <th>14</th>\n",
       "      <td>ENVO:01000189</td>\n",
       "      <td>4</td>\n",
       "    </tr>\n",
       "    <tr>\n",
       "      <th>15</th>\n",
       "      <td>ENVO:01000211</td>\n",
       "      <td>3</td>\n",
       "    </tr>\n",
       "    <tr>\n",
       "      <th>16</th>\n",
       "      <td>ENVO:01000183</td>\n",
       "      <td>2</td>\n",
       "    </tr>\n",
       "  </tbody>\n",
       "</table>\n",
       "</div>"
      ]
     },
     "execution_count": 122,
     "metadata": {},
     "output_type": "execute_result"
    }
   ],
   "execution_count": 122
  },
  {
   "cell_type": "code",
   "id": "329203aecb25f598",
   "metadata": {
    "ExecuteTime": {
     "end_time": "2024-12-06T13:28:37.512132Z",
     "start_time": "2024-12-06T13:28:37.506395Z"
    }
   },
   "source": [
    "# Perform the left merge\n",
    "rows_frame = rows_frame.merge(\n",
    "    nmdc_biosample_scoped_counts,\n",
    "    left_on='curie',\n",
    "    right_on='curie',\n",
    "    how='left'\n",
    ")"
   ],
   "outputs": [],
   "execution_count": 123
  },
  {
   "cell_type": "code",
   "id": "cff020dba8153cb2",
   "metadata": {
    "ExecuteTime": {
     "end_time": "2024-12-06T13:28:37.580871Z",
     "start_time": "2024-12-06T13:28:37.560378Z"
    }
   },
   "source": [
    "gold_env_filtered_biosamples_with_inferred"
   ],
   "outputs": [
    {
     "data": {
      "text/plain": [
       "      BIOSAMPLE GOLD ID                                     BIOSAMPLE NAME  \\\n",
       "0             Gb0050971  Soil ecosystem from  different sites within th...   \n",
       "1             Gb0050972  Soil ecosystem from  different sites within th...   \n",
       "2             Gb0050973  Soil ecosystem from  different sites within th...   \n",
       "3             Gb0050974  Soil ecosystem from  different sites within th...   \n",
       "4             Gb0051017  Mammuthus primigenius fossil ecosystem from Bo...   \n",
       "...                 ...                                                ...   \n",
       "15362         Gb0405261  Soil microbial communities from San Joaquin Ex...   \n",
       "15363         Gb0405262  Soil microbial communities from San Joaquin Ex...   \n",
       "15364         Gb0405263  Soil microbial communities from San Joaquin Ex...   \n",
       "15365         Gb0405264  Soil microbial communities from San Joaquin Ex...   \n",
       "15366         Gb0405265  Soil microbial communities from San Joaquin Ex...   \n",
       "\n",
       "       BIOSAMPLE NCBI TAX ID BIOSAMPLE NCBI TAX NAME  \\\n",
       "0                   410658.0         soil metagenome   \n",
       "1                   410658.0         soil metagenome   \n",
       "2                   410658.0         soil metagenome   \n",
       "3                   410658.0         soil metagenome   \n",
       "4                   444079.0       fossil metagenome   \n",
       "...                      ...                     ...   \n",
       "15362               410658.0         soil metagenome   \n",
       "15363               410658.0         soil metagenome   \n",
       "15364               410658.0         soil metagenome   \n",
       "15365               410658.0         soil metagenome   \n",
       "15366               410658.0         soil metagenome   \n",
       "\n",
       "                        BIOSAMPLE SAMPLE COLLECTION SITE  \\\n",
       "0              soil classification Mesic aquic argiudoll   \n",
       "1                   soil classification Dystric brunisol   \n",
       "2                  soil classificaiton Distrophic oxisol   \n",
       "3      soil classification euic, hyperthermic lithic ...   \n",
       "4                     Bolshaya Kolopatkaya river, Russia   \n",
       "...                                                  ...   \n",
       "15362                                               soil   \n",
       "15363                                               soil   \n",
       "15364                                               soil   \n",
       "15365                                               soil   \n",
       "15366                                               soil   \n",
       "\n",
       "      BIOSAMPLE SAMPLE COLLECTION DATE  \\\n",
       "0                                  NaN   \n",
       "1                                  NaN   \n",
       "2                                  NaN   \n",
       "3                                  NaN   \n",
       "4                                  NaN   \n",
       "...                                ...   \n",
       "15362                       2023-02-27   \n",
       "15363                       2023-02-27   \n",
       "15364                       2023-02-27   \n",
       "15365                       2023-02-27   \n",
       "15366                       2023-02-27   \n",
       "\n",
       "                           BIOSAMPLE GEOGRAPHIC LOCATION  BIOSAMPLE LATITUDE  \\\n",
       "0      Soils collected from different sites within th...           40.104616   \n",
       "1      Soils collected from different sites within th...           52.743203   \n",
       "2      Soils collected from different sites within th...          -29.539671   \n",
       "3      Soils collected from different sites within th...           26.663199   \n",
       "4                                 Russia: Sakha Republic           70.000000   \n",
       "...                                                  ...                 ...   \n",
       "15362                    USA: Yosemite Lakes, California           37.112820   \n",
       "15363                    USA: Yosemite Lakes, California           37.112820   \n",
       "15364                    USA: Yosemite Lakes, California           37.111270   \n",
       "15365                    USA: Yosemite Lakes, California           37.111270   \n",
       "15366                    USA: Yosemite Lakes, California           37.111270   \n",
       "\n",
       "       BIOSAMPLE LONGITUDE  BIOSAMPLE ECOSYSTEM PATH ID  ...          stanza  \\\n",
       "0               -88.226517                         4212  ...  GOLDTERMS:4212   \n",
       "1               -91.718433                         4212  ...  GOLDTERMS:4212   \n",
       "2               -55.107556                         4212  ...  GOLDTERMS:4212   \n",
       "3               -80.628500                         4212  ...  GOLDTERMS:4212   \n",
       "4               151.000000                         4418  ...  GOLDTERMS:4418   \n",
       "...                    ...                          ...  ...             ...   \n",
       "15362          -119.731615                         4212  ...  GOLDTERMS:4212   \n",
       "15363          -119.731615                         4212  ...  GOLDTERMS:4212   \n",
       "15364          -119.728168                         4212  ...  GOLDTERMS:4212   \n",
       "15365          -119.728168                         4212  ...  GOLDTERMS:4212   \n",
       "15366          -119.728168                         4212  ...  GOLDTERMS:4212   \n",
       "\n",
       "              subject       predicate         object value datatype language  \\\n",
       "0      GOLDTERMS:4212  mixs:env_broad  ENVO:00000446  None     None     None   \n",
       "1      GOLDTERMS:4212  mixs:env_broad  ENVO:00000446  None     None     None   \n",
       "2      GOLDTERMS:4212  mixs:env_broad  ENVO:00000446  None     None     None   \n",
       "3      GOLDTERMS:4212  mixs:env_broad  ENVO:00000446  None     None     None   \n",
       "4      GOLDTERMS:4418  mixs:env_broad  ENVO:00000446  None     None     None   \n",
       "...               ...             ...            ...   ...      ...      ...   \n",
       "15362  GOLDTERMS:4212  mixs:env_broad  ENVO:00000446  None     None     None   \n",
       "15363  GOLDTERMS:4212  mixs:env_broad  ENVO:00000446  None     None     None   \n",
       "15364  GOLDTERMS:4212  mixs:env_broad  ENVO:00000446  None     None     None   \n",
       "15365  GOLDTERMS:4212  mixs:env_broad  ENVO:00000446  None     None     None   \n",
       "15366  GOLDTERMS:4212  mixs:env_broad  ENVO:00000446  None     None     None   \n",
       "\n",
       "      graph       object_label path_id  \n",
       "0      None  terrestrial biome    4212  \n",
       "1      None  terrestrial biome    4212  \n",
       "2      None  terrestrial biome    4212  \n",
       "3      None  terrestrial biome    4212  \n",
       "4      None  terrestrial biome    4418  \n",
       "...     ...                ...     ...  \n",
       "15362  None  terrestrial biome    4212  \n",
       "15363  None  terrestrial biome    4212  \n",
       "15364  None  terrestrial biome    4212  \n",
       "15365  None  terrestrial biome    4212  \n",
       "15366  None  terrestrial biome    4212  \n",
       "\n",
       "[15367 rows x 25 columns]"
      ],
      "text/html": [
       "<div>\n",
       "<style scoped>\n",
       "    .dataframe tbody tr th:only-of-type {\n",
       "        vertical-align: middle;\n",
       "    }\n",
       "\n",
       "    .dataframe tbody tr th {\n",
       "        vertical-align: top;\n",
       "    }\n",
       "\n",
       "    .dataframe thead th {\n",
       "        text-align: right;\n",
       "    }\n",
       "</style>\n",
       "<table border=\"1\" class=\"dataframe\">\n",
       "  <thead>\n",
       "    <tr style=\"text-align: right;\">\n",
       "      <th></th>\n",
       "      <th>BIOSAMPLE GOLD ID</th>\n",
       "      <th>BIOSAMPLE NAME</th>\n",
       "      <th>BIOSAMPLE NCBI TAX ID</th>\n",
       "      <th>BIOSAMPLE NCBI TAX NAME</th>\n",
       "      <th>BIOSAMPLE SAMPLE COLLECTION SITE</th>\n",
       "      <th>BIOSAMPLE SAMPLE COLLECTION DATE</th>\n",
       "      <th>BIOSAMPLE GEOGRAPHIC LOCATION</th>\n",
       "      <th>BIOSAMPLE LATITUDE</th>\n",
       "      <th>BIOSAMPLE LONGITUDE</th>\n",
       "      <th>BIOSAMPLE ECOSYSTEM PATH ID</th>\n",
       "      <th>...</th>\n",
       "      <th>stanza</th>\n",
       "      <th>subject</th>\n",
       "      <th>predicate</th>\n",
       "      <th>object</th>\n",
       "      <th>value</th>\n",
       "      <th>datatype</th>\n",
       "      <th>language</th>\n",
       "      <th>graph</th>\n",
       "      <th>object_label</th>\n",
       "      <th>path_id</th>\n",
       "    </tr>\n",
       "  </thead>\n",
       "  <tbody>\n",
       "    <tr>\n",
       "      <th>0</th>\n",
       "      <td>Gb0050971</td>\n",
       "      <td>Soil ecosystem from  different sites within th...</td>\n",
       "      <td>410658.0</td>\n",
       "      <td>soil metagenome</td>\n",
       "      <td>soil classification Mesic aquic argiudoll</td>\n",
       "      <td>NaN</td>\n",
       "      <td>Soils collected from different sites within th...</td>\n",
       "      <td>40.104616</td>\n",
       "      <td>-88.226517</td>\n",
       "      <td>4212</td>\n",
       "      <td>...</td>\n",
       "      <td>GOLDTERMS:4212</td>\n",
       "      <td>GOLDTERMS:4212</td>\n",
       "      <td>mixs:env_broad</td>\n",
       "      <td>ENVO:00000446</td>\n",
       "      <td>None</td>\n",
       "      <td>None</td>\n",
       "      <td>None</td>\n",
       "      <td>None</td>\n",
       "      <td>terrestrial biome</td>\n",
       "      <td>4212</td>\n",
       "    </tr>\n",
       "    <tr>\n",
       "      <th>1</th>\n",
       "      <td>Gb0050972</td>\n",
       "      <td>Soil ecosystem from  different sites within th...</td>\n",
       "      <td>410658.0</td>\n",
       "      <td>soil metagenome</td>\n",
       "      <td>soil classification Dystric brunisol</td>\n",
       "      <td>NaN</td>\n",
       "      <td>Soils collected from different sites within th...</td>\n",
       "      <td>52.743203</td>\n",
       "      <td>-91.718433</td>\n",
       "      <td>4212</td>\n",
       "      <td>...</td>\n",
       "      <td>GOLDTERMS:4212</td>\n",
       "      <td>GOLDTERMS:4212</td>\n",
       "      <td>mixs:env_broad</td>\n",
       "      <td>ENVO:00000446</td>\n",
       "      <td>None</td>\n",
       "      <td>None</td>\n",
       "      <td>None</td>\n",
       "      <td>None</td>\n",
       "      <td>terrestrial biome</td>\n",
       "      <td>4212</td>\n",
       "    </tr>\n",
       "    <tr>\n",
       "      <th>2</th>\n",
       "      <td>Gb0050973</td>\n",
       "      <td>Soil ecosystem from  different sites within th...</td>\n",
       "      <td>410658.0</td>\n",
       "      <td>soil metagenome</td>\n",
       "      <td>soil classificaiton Distrophic oxisol</td>\n",
       "      <td>NaN</td>\n",
       "      <td>Soils collected from different sites within th...</td>\n",
       "      <td>-29.539671</td>\n",
       "      <td>-55.107556</td>\n",
       "      <td>4212</td>\n",
       "      <td>...</td>\n",
       "      <td>GOLDTERMS:4212</td>\n",
       "      <td>GOLDTERMS:4212</td>\n",
       "      <td>mixs:env_broad</td>\n",
       "      <td>ENVO:00000446</td>\n",
       "      <td>None</td>\n",
       "      <td>None</td>\n",
       "      <td>None</td>\n",
       "      <td>None</td>\n",
       "      <td>terrestrial biome</td>\n",
       "      <td>4212</td>\n",
       "    </tr>\n",
       "    <tr>\n",
       "      <th>3</th>\n",
       "      <td>Gb0050974</td>\n",
       "      <td>Soil ecosystem from  different sites within th...</td>\n",
       "      <td>410658.0</td>\n",
       "      <td>soil metagenome</td>\n",
       "      <td>soil classification euic, hyperthermic lithic ...</td>\n",
       "      <td>NaN</td>\n",
       "      <td>Soils collected from different sites within th...</td>\n",
       "      <td>26.663199</td>\n",
       "      <td>-80.628500</td>\n",
       "      <td>4212</td>\n",
       "      <td>...</td>\n",
       "      <td>GOLDTERMS:4212</td>\n",
       "      <td>GOLDTERMS:4212</td>\n",
       "      <td>mixs:env_broad</td>\n",
       "      <td>ENVO:00000446</td>\n",
       "      <td>None</td>\n",
       "      <td>None</td>\n",
       "      <td>None</td>\n",
       "      <td>None</td>\n",
       "      <td>terrestrial biome</td>\n",
       "      <td>4212</td>\n",
       "    </tr>\n",
       "    <tr>\n",
       "      <th>4</th>\n",
       "      <td>Gb0051017</td>\n",
       "      <td>Mammuthus primigenius fossil ecosystem from Bo...</td>\n",
       "      <td>444079.0</td>\n",
       "      <td>fossil metagenome</td>\n",
       "      <td>Bolshaya Kolopatkaya river, Russia</td>\n",
       "      <td>NaN</td>\n",
       "      <td>Russia: Sakha Republic</td>\n",
       "      <td>70.000000</td>\n",
       "      <td>151.000000</td>\n",
       "      <td>4418</td>\n",
       "      <td>...</td>\n",
       "      <td>GOLDTERMS:4418</td>\n",
       "      <td>GOLDTERMS:4418</td>\n",
       "      <td>mixs:env_broad</td>\n",
       "      <td>ENVO:00000446</td>\n",
       "      <td>None</td>\n",
       "      <td>None</td>\n",
       "      <td>None</td>\n",
       "      <td>None</td>\n",
       "      <td>terrestrial biome</td>\n",
       "      <td>4418</td>\n",
       "    </tr>\n",
       "    <tr>\n",
       "      <th>...</th>\n",
       "      <td>...</td>\n",
       "      <td>...</td>\n",
       "      <td>...</td>\n",
       "      <td>...</td>\n",
       "      <td>...</td>\n",
       "      <td>...</td>\n",
       "      <td>...</td>\n",
       "      <td>...</td>\n",
       "      <td>...</td>\n",
       "      <td>...</td>\n",
       "      <td>...</td>\n",
       "      <td>...</td>\n",
       "      <td>...</td>\n",
       "      <td>...</td>\n",
       "      <td>...</td>\n",
       "      <td>...</td>\n",
       "      <td>...</td>\n",
       "      <td>...</td>\n",
       "      <td>...</td>\n",
       "      <td>...</td>\n",
       "      <td>...</td>\n",
       "    </tr>\n",
       "    <tr>\n",
       "      <th>15362</th>\n",
       "      <td>Gb0405261</td>\n",
       "      <td>Soil microbial communities from San Joaquin Ex...</td>\n",
       "      <td>410658.0</td>\n",
       "      <td>soil metagenome</td>\n",
       "      <td>soil</td>\n",
       "      <td>2023-02-27</td>\n",
       "      <td>USA: Yosemite Lakes, California</td>\n",
       "      <td>37.112820</td>\n",
       "      <td>-119.731615</td>\n",
       "      <td>4212</td>\n",
       "      <td>...</td>\n",
       "      <td>GOLDTERMS:4212</td>\n",
       "      <td>GOLDTERMS:4212</td>\n",
       "      <td>mixs:env_broad</td>\n",
       "      <td>ENVO:00000446</td>\n",
       "      <td>None</td>\n",
       "      <td>None</td>\n",
       "      <td>None</td>\n",
       "      <td>None</td>\n",
       "      <td>terrestrial biome</td>\n",
       "      <td>4212</td>\n",
       "    </tr>\n",
       "    <tr>\n",
       "      <th>15363</th>\n",
       "      <td>Gb0405262</td>\n",
       "      <td>Soil microbial communities from San Joaquin Ex...</td>\n",
       "      <td>410658.0</td>\n",
       "      <td>soil metagenome</td>\n",
       "      <td>soil</td>\n",
       "      <td>2023-02-27</td>\n",
       "      <td>USA: Yosemite Lakes, California</td>\n",
       "      <td>37.112820</td>\n",
       "      <td>-119.731615</td>\n",
       "      <td>4212</td>\n",
       "      <td>...</td>\n",
       "      <td>GOLDTERMS:4212</td>\n",
       "      <td>GOLDTERMS:4212</td>\n",
       "      <td>mixs:env_broad</td>\n",
       "      <td>ENVO:00000446</td>\n",
       "      <td>None</td>\n",
       "      <td>None</td>\n",
       "      <td>None</td>\n",
       "      <td>None</td>\n",
       "      <td>terrestrial biome</td>\n",
       "      <td>4212</td>\n",
       "    </tr>\n",
       "    <tr>\n",
       "      <th>15364</th>\n",
       "      <td>Gb0405263</td>\n",
       "      <td>Soil microbial communities from San Joaquin Ex...</td>\n",
       "      <td>410658.0</td>\n",
       "      <td>soil metagenome</td>\n",
       "      <td>soil</td>\n",
       "      <td>2023-02-27</td>\n",
       "      <td>USA: Yosemite Lakes, California</td>\n",
       "      <td>37.111270</td>\n",
       "      <td>-119.728168</td>\n",
       "      <td>4212</td>\n",
       "      <td>...</td>\n",
       "      <td>GOLDTERMS:4212</td>\n",
       "      <td>GOLDTERMS:4212</td>\n",
       "      <td>mixs:env_broad</td>\n",
       "      <td>ENVO:00000446</td>\n",
       "      <td>None</td>\n",
       "      <td>None</td>\n",
       "      <td>None</td>\n",
       "      <td>None</td>\n",
       "      <td>terrestrial biome</td>\n",
       "      <td>4212</td>\n",
       "    </tr>\n",
       "    <tr>\n",
       "      <th>15365</th>\n",
       "      <td>Gb0405264</td>\n",
       "      <td>Soil microbial communities from San Joaquin Ex...</td>\n",
       "      <td>410658.0</td>\n",
       "      <td>soil metagenome</td>\n",
       "      <td>soil</td>\n",
       "      <td>2023-02-27</td>\n",
       "      <td>USA: Yosemite Lakes, California</td>\n",
       "      <td>37.111270</td>\n",
       "      <td>-119.728168</td>\n",
       "      <td>4212</td>\n",
       "      <td>...</td>\n",
       "      <td>GOLDTERMS:4212</td>\n",
       "      <td>GOLDTERMS:4212</td>\n",
       "      <td>mixs:env_broad</td>\n",
       "      <td>ENVO:00000446</td>\n",
       "      <td>None</td>\n",
       "      <td>None</td>\n",
       "      <td>None</td>\n",
       "      <td>None</td>\n",
       "      <td>terrestrial biome</td>\n",
       "      <td>4212</td>\n",
       "    </tr>\n",
       "    <tr>\n",
       "      <th>15366</th>\n",
       "      <td>Gb0405265</td>\n",
       "      <td>Soil microbial communities from San Joaquin Ex...</td>\n",
       "      <td>410658.0</td>\n",
       "      <td>soil metagenome</td>\n",
       "      <td>soil</td>\n",
       "      <td>2023-02-27</td>\n",
       "      <td>USA: Yosemite Lakes, California</td>\n",
       "      <td>37.111270</td>\n",
       "      <td>-119.728168</td>\n",
       "      <td>4212</td>\n",
       "      <td>...</td>\n",
       "      <td>GOLDTERMS:4212</td>\n",
       "      <td>GOLDTERMS:4212</td>\n",
       "      <td>mixs:env_broad</td>\n",
       "      <td>ENVO:00000446</td>\n",
       "      <td>None</td>\n",
       "      <td>None</td>\n",
       "      <td>None</td>\n",
       "      <td>None</td>\n",
       "      <td>terrestrial biome</td>\n",
       "      <td>4212</td>\n",
       "    </tr>\n",
       "  </tbody>\n",
       "</table>\n",
       "<p>15367 rows × 25 columns</p>\n",
       "</div>"
      ]
     },
     "execution_count": 124,
     "metadata": {},
     "output_type": "execute_result"
    }
   ],
   "execution_count": 124
  },
  {
   "cell_type": "code",
   "id": "332592b73d143dc0",
   "metadata": {
    "ExecuteTime": {
     "end_time": "2024-12-06T13:28:37.707129Z",
     "start_time": "2024-12-06T13:28:37.702044Z"
    }
   },
   "source": [
    "gold_biosample_scoped_counts = gold_env_filtered_biosamples_with_inferred['object'].value_counts().reset_index()\n",
    "gold_biosample_scoped_counts.columns = ['curie', 'gold_hybrid_count']"
   ],
   "outputs": [],
   "execution_count": 125
  },
  {
   "cell_type": "code",
   "id": "57d16757b67e19a5",
   "metadata": {
    "ExecuteTime": {
     "end_time": "2024-12-06T13:28:37.849144Z",
     "start_time": "2024-12-06T13:28:37.841976Z"
    }
   },
   "source": [
    "gold_biosample_scoped_counts"
   ],
   "outputs": [
    {
     "data": {
      "text/plain": [
       "           curie  gold_hybrid_count\n",
       "0  ENVO:00000446              10862\n",
       "1  ENVO:00000077               1609\n",
       "2  ENVO:01001209               1527\n",
       "3  ENVO:01000177                947\n",
       "4  ENVO:00000078                205\n",
       "5  ENVO:00000232                159\n",
       "6  ENVO:01001835                 46\n",
       "7  ENVO:01000250                 12"
      ],
      "text/html": [
       "<div>\n",
       "<style scoped>\n",
       "    .dataframe tbody tr th:only-of-type {\n",
       "        vertical-align: middle;\n",
       "    }\n",
       "\n",
       "    .dataframe tbody tr th {\n",
       "        vertical-align: top;\n",
       "    }\n",
       "\n",
       "    .dataframe thead th {\n",
       "        text-align: right;\n",
       "    }\n",
       "</style>\n",
       "<table border=\"1\" class=\"dataframe\">\n",
       "  <thead>\n",
       "    <tr style=\"text-align: right;\">\n",
       "      <th></th>\n",
       "      <th>curie</th>\n",
       "      <th>gold_hybrid_count</th>\n",
       "    </tr>\n",
       "  </thead>\n",
       "  <tbody>\n",
       "    <tr>\n",
       "      <th>0</th>\n",
       "      <td>ENVO:00000446</td>\n",
       "      <td>10862</td>\n",
       "    </tr>\n",
       "    <tr>\n",
       "      <th>1</th>\n",
       "      <td>ENVO:00000077</td>\n",
       "      <td>1609</td>\n",
       "    </tr>\n",
       "    <tr>\n",
       "      <th>2</th>\n",
       "      <td>ENVO:01001209</td>\n",
       "      <td>1527</td>\n",
       "    </tr>\n",
       "    <tr>\n",
       "      <th>3</th>\n",
       "      <td>ENVO:01000177</td>\n",
       "      <td>947</td>\n",
       "    </tr>\n",
       "    <tr>\n",
       "      <th>4</th>\n",
       "      <td>ENVO:00000078</td>\n",
       "      <td>205</td>\n",
       "    </tr>\n",
       "    <tr>\n",
       "      <th>5</th>\n",
       "      <td>ENVO:00000232</td>\n",
       "      <td>159</td>\n",
       "    </tr>\n",
       "    <tr>\n",
       "      <th>6</th>\n",
       "      <td>ENVO:01001835</td>\n",
       "      <td>46</td>\n",
       "    </tr>\n",
       "    <tr>\n",
       "      <th>7</th>\n",
       "      <td>ENVO:01000250</td>\n",
       "      <td>12</td>\n",
       "    </tr>\n",
       "  </tbody>\n",
       "</table>\n",
       "</div>"
      ]
     },
     "execution_count": 126,
     "metadata": {},
     "output_type": "execute_result"
    }
   ],
   "execution_count": 126
  },
  {
   "cell_type": "code",
   "id": "65ab8871a20a93d2",
   "metadata": {
    "ExecuteTime": {
     "end_time": "2024-12-06T13:28:37.934230Z",
     "start_time": "2024-12-06T13:28:37.927492Z"
    }
   },
   "source": [
    "# Perform the left merge\n",
    "rows_frame = rows_frame.merge(\n",
    "    gold_biosample_scoped_counts,\n",
    "    left_on='curie',\n",
    "    right_on='curie',\n",
    "    how='left'\n",
    ")"
   ],
   "outputs": [],
   "execution_count": 127
  },
  {
   "cell_type": "code",
   "id": "8346fb59af8e61c6",
   "metadata": {
    "ExecuteTime": {
     "end_time": "2024-12-06T13:28:38.128510Z",
     "start_time": "2024-12-06T13:28:38.106945Z"
    }
   },
   "source": [
    "rows_frame"
   ],
   "outputs": [
    {
     "data": {
      "text/plain": [
       "              curie                             label  envo_native  obsolete  \\\n",
       "0     ENVO:00002297    obsolete environmental feature         True      True   \n",
       "1      ENVO:0000472                              None        False     False   \n",
       "2     ENVO:01000210  tropical coniferous forest biome         True     False   \n",
       "3     ENVO:01000250  subpolar coniferous forest biome         True     False   \n",
       "4     ENVO:00002078                              None        False     False   \n",
       "...             ...                               ...          ...       ...   \n",
       "1575   ENVO:0000436                              None        False     False   \n",
       "1576  ENVO:01001790             terrestrial ecosystem         True     False   \n",
       "1577  ENVO:00005950                              None        False     False   \n",
       "1578  ENVO:01000245                    cropland biome         True     False   \n",
       "1579  ENVO:00002184               subsurface landform         True     False   \n",
       "\n",
       "      EnvBroadScaleSoilEnum_10_7  ancestors_in_enum_count  \\\n",
       "0                          False                        0   \n",
       "1                          False                        0   \n",
       "2                          False                        2   \n",
       "3                          False                        2   \n",
       "4                          False                        0   \n",
       "...                          ...                      ...   \n",
       "1575                       False                        0   \n",
       "1576                       False                        0   \n",
       "1577                       False                        0   \n",
       "1578                       False                        2   \n",
       "1579                       False                        0   \n",
       "\n",
       "      descendants_in_enum_count    abp  env_sys  biome  terrestrial_biome  \\\n",
       "0                             0  False    False  False              False   \n",
       "1                             0  False    False  False              False   \n",
       "2                             0   True     True   True               True   \n",
       "3                             0   True     True   True               True   \n",
       "4                             0  False    False  False              False   \n",
       "...                         ...    ...      ...    ...                ...   \n",
       "1575                          0  False    False  False              False   \n",
       "1576                         26   True     True  False              False   \n",
       "1577                          0  False    False  False              False   \n",
       "1578                          0   True     True   True               True   \n",
       "1579                          0   True    False  False              False   \n",
       "\n",
       "      aquatic_biome  env_mat  goldterms_mappings  nmdc_scoped_count  \\\n",
       "0             False    False               False                NaN   \n",
       "1             False    False               False                NaN   \n",
       "2             False    False               False                NaN   \n",
       "3             False    False                True               31.0   \n",
       "4             False    False               False                NaN   \n",
       "...             ...      ...                 ...                ...   \n",
       "1575          False    False               False                NaN   \n",
       "1576          False    False               False                NaN   \n",
       "1577          False    False               False                NaN   \n",
       "1578          False    False               False                9.0   \n",
       "1579          False    False               False                NaN   \n",
       "\n",
       "      gold_hybrid_count  \n",
       "0                   NaN  \n",
       "1                   NaN  \n",
       "2                   NaN  \n",
       "3                  12.0  \n",
       "4                   NaN  \n",
       "...                 ...  \n",
       "1575                NaN  \n",
       "1576                NaN  \n",
       "1577                NaN  \n",
       "1578                NaN  \n",
       "1579                NaN  \n",
       "\n",
       "[1580 rows x 16 columns]"
      ],
      "text/html": [
       "<div>\n",
       "<style scoped>\n",
       "    .dataframe tbody tr th:only-of-type {\n",
       "        vertical-align: middle;\n",
       "    }\n",
       "\n",
       "    .dataframe tbody tr th {\n",
       "        vertical-align: top;\n",
       "    }\n",
       "\n",
       "    .dataframe thead th {\n",
       "        text-align: right;\n",
       "    }\n",
       "</style>\n",
       "<table border=\"1\" class=\"dataframe\">\n",
       "  <thead>\n",
       "    <tr style=\"text-align: right;\">\n",
       "      <th></th>\n",
       "      <th>curie</th>\n",
       "      <th>label</th>\n",
       "      <th>envo_native</th>\n",
       "      <th>obsolete</th>\n",
       "      <th>EnvBroadScaleSoilEnum_10_7</th>\n",
       "      <th>ancestors_in_enum_count</th>\n",
       "      <th>descendants_in_enum_count</th>\n",
       "      <th>abp</th>\n",
       "      <th>env_sys</th>\n",
       "      <th>biome</th>\n",
       "      <th>terrestrial_biome</th>\n",
       "      <th>aquatic_biome</th>\n",
       "      <th>env_mat</th>\n",
       "      <th>goldterms_mappings</th>\n",
       "      <th>nmdc_scoped_count</th>\n",
       "      <th>gold_hybrid_count</th>\n",
       "    </tr>\n",
       "  </thead>\n",
       "  <tbody>\n",
       "    <tr>\n",
       "      <th>0</th>\n",
       "      <td>ENVO:00002297</td>\n",
       "      <td>obsolete environmental feature</td>\n",
       "      <td>True</td>\n",
       "      <td>True</td>\n",
       "      <td>False</td>\n",
       "      <td>0</td>\n",
       "      <td>0</td>\n",
       "      <td>False</td>\n",
       "      <td>False</td>\n",
       "      <td>False</td>\n",
       "      <td>False</td>\n",
       "      <td>False</td>\n",
       "      <td>False</td>\n",
       "      <td>False</td>\n",
       "      <td>NaN</td>\n",
       "      <td>NaN</td>\n",
       "    </tr>\n",
       "    <tr>\n",
       "      <th>1</th>\n",
       "      <td>ENVO:0000472</td>\n",
       "      <td>None</td>\n",
       "      <td>False</td>\n",
       "      <td>False</td>\n",
       "      <td>False</td>\n",
       "      <td>0</td>\n",
       "      <td>0</td>\n",
       "      <td>False</td>\n",
       "      <td>False</td>\n",
       "      <td>False</td>\n",
       "      <td>False</td>\n",
       "      <td>False</td>\n",
       "      <td>False</td>\n",
       "      <td>False</td>\n",
       "      <td>NaN</td>\n",
       "      <td>NaN</td>\n",
       "    </tr>\n",
       "    <tr>\n",
       "      <th>2</th>\n",
       "      <td>ENVO:01000210</td>\n",
       "      <td>tropical coniferous forest biome</td>\n",
       "      <td>True</td>\n",
       "      <td>False</td>\n",
       "      <td>False</td>\n",
       "      <td>2</td>\n",
       "      <td>0</td>\n",
       "      <td>True</td>\n",
       "      <td>True</td>\n",
       "      <td>True</td>\n",
       "      <td>True</td>\n",
       "      <td>False</td>\n",
       "      <td>False</td>\n",
       "      <td>False</td>\n",
       "      <td>NaN</td>\n",
       "      <td>NaN</td>\n",
       "    </tr>\n",
       "    <tr>\n",
       "      <th>3</th>\n",
       "      <td>ENVO:01000250</td>\n",
       "      <td>subpolar coniferous forest biome</td>\n",
       "      <td>True</td>\n",
       "      <td>False</td>\n",
       "      <td>False</td>\n",
       "      <td>2</td>\n",
       "      <td>0</td>\n",
       "      <td>True</td>\n",
       "      <td>True</td>\n",
       "      <td>True</td>\n",
       "      <td>True</td>\n",
       "      <td>False</td>\n",
       "      <td>False</td>\n",
       "      <td>True</td>\n",
       "      <td>31.0</td>\n",
       "      <td>12.0</td>\n",
       "    </tr>\n",
       "    <tr>\n",
       "      <th>4</th>\n",
       "      <td>ENVO:00002078</td>\n",
       "      <td>None</td>\n",
       "      <td>False</td>\n",
       "      <td>False</td>\n",
       "      <td>False</td>\n",
       "      <td>0</td>\n",
       "      <td>0</td>\n",
       "      <td>False</td>\n",
       "      <td>False</td>\n",
       "      <td>False</td>\n",
       "      <td>False</td>\n",
       "      <td>False</td>\n",
       "      <td>False</td>\n",
       "      <td>False</td>\n",
       "      <td>NaN</td>\n",
       "      <td>NaN</td>\n",
       "    </tr>\n",
       "    <tr>\n",
       "      <th>...</th>\n",
       "      <td>...</td>\n",
       "      <td>...</td>\n",
       "      <td>...</td>\n",
       "      <td>...</td>\n",
       "      <td>...</td>\n",
       "      <td>...</td>\n",
       "      <td>...</td>\n",
       "      <td>...</td>\n",
       "      <td>...</td>\n",
       "      <td>...</td>\n",
       "      <td>...</td>\n",
       "      <td>...</td>\n",
       "      <td>...</td>\n",
       "      <td>...</td>\n",
       "      <td>...</td>\n",
       "      <td>...</td>\n",
       "    </tr>\n",
       "    <tr>\n",
       "      <th>1575</th>\n",
       "      <td>ENVO:0000436</td>\n",
       "      <td>None</td>\n",
       "      <td>False</td>\n",
       "      <td>False</td>\n",
       "      <td>False</td>\n",
       "      <td>0</td>\n",
       "      <td>0</td>\n",
       "      <td>False</td>\n",
       "      <td>False</td>\n",
       "      <td>False</td>\n",
       "      <td>False</td>\n",
       "      <td>False</td>\n",
       "      <td>False</td>\n",
       "      <td>False</td>\n",
       "      <td>NaN</td>\n",
       "      <td>NaN</td>\n",
       "    </tr>\n",
       "    <tr>\n",
       "      <th>1576</th>\n",
       "      <td>ENVO:01001790</td>\n",
       "      <td>terrestrial ecosystem</td>\n",
       "      <td>True</td>\n",
       "      <td>False</td>\n",
       "      <td>False</td>\n",
       "      <td>0</td>\n",
       "      <td>26</td>\n",
       "      <td>True</td>\n",
       "      <td>True</td>\n",
       "      <td>False</td>\n",
       "      <td>False</td>\n",
       "      <td>False</td>\n",
       "      <td>False</td>\n",
       "      <td>False</td>\n",
       "      <td>NaN</td>\n",
       "      <td>NaN</td>\n",
       "    </tr>\n",
       "    <tr>\n",
       "      <th>1577</th>\n",
       "      <td>ENVO:00005950</td>\n",
       "      <td>None</td>\n",
       "      <td>False</td>\n",
       "      <td>False</td>\n",
       "      <td>False</td>\n",
       "      <td>0</td>\n",
       "      <td>0</td>\n",
       "      <td>False</td>\n",
       "      <td>False</td>\n",
       "      <td>False</td>\n",
       "      <td>False</td>\n",
       "      <td>False</td>\n",
       "      <td>False</td>\n",
       "      <td>False</td>\n",
       "      <td>NaN</td>\n",
       "      <td>NaN</td>\n",
       "    </tr>\n",
       "    <tr>\n",
       "      <th>1578</th>\n",
       "      <td>ENVO:01000245</td>\n",
       "      <td>cropland biome</td>\n",
       "      <td>True</td>\n",
       "      <td>False</td>\n",
       "      <td>False</td>\n",
       "      <td>2</td>\n",
       "      <td>0</td>\n",
       "      <td>True</td>\n",
       "      <td>True</td>\n",
       "      <td>True</td>\n",
       "      <td>True</td>\n",
       "      <td>False</td>\n",
       "      <td>False</td>\n",
       "      <td>False</td>\n",
       "      <td>9.0</td>\n",
       "      <td>NaN</td>\n",
       "    </tr>\n",
       "    <tr>\n",
       "      <th>1579</th>\n",
       "      <td>ENVO:00002184</td>\n",
       "      <td>subsurface landform</td>\n",
       "      <td>True</td>\n",
       "      <td>False</td>\n",
       "      <td>False</td>\n",
       "      <td>0</td>\n",
       "      <td>0</td>\n",
       "      <td>True</td>\n",
       "      <td>False</td>\n",
       "      <td>False</td>\n",
       "      <td>False</td>\n",
       "      <td>False</td>\n",
       "      <td>False</td>\n",
       "      <td>False</td>\n",
       "      <td>NaN</td>\n",
       "      <td>NaN</td>\n",
       "    </tr>\n",
       "  </tbody>\n",
       "</table>\n",
       "<p>1580 rows × 16 columns</p>\n",
       "</div>"
      ]
     },
     "execution_count": 128,
     "metadata": {},
     "output_type": "execute_result"
    }
   ],
   "execution_count": 128
  },
  {
   "cell_type": "code",
   "id": "396c3f6005a31874",
   "metadata": {
    "ExecuteTime": {
     "end_time": "2024-12-06T13:28:38.297341Z",
     "start_time": "2024-12-06T13:28:38.294171Z"
    }
   },
   "source": [
    "# 990 rows in https://docs.google.com/spreadsheets/d/12WH3eduBq2qSTy9zVF3n7fyajn6ssLZL/edit?gid=546570706#gid=546570706"
   ],
   "outputs": [],
   "execution_count": 129
  },
  {
   "cell_type": "code",
   "id": "87a64ed7d57d81ee",
   "metadata": {
    "ExecuteTime": {
     "end_time": "2024-12-06T13:28:38.399211Z",
     "start_time": "2024-12-06T13:28:38.396250Z"
    }
   },
   "source": [
    "# gold and ncbi counts are slightly trickier\n",
    "# for gold: including mappings only, mappings in hybrid with biosample counts. \n",
    "#    Switch to direct biosample counts of GOLD \"envo\" annotations?\n",
    "# ncbi: we have extracted curies and annotated curies"
   ],
   "outputs": [],
   "execution_count": 130
  },
  {
   "cell_type": "code",
   "id": "951ca41984b81e7d",
   "metadata": {
    "ExecuteTime": {
     "end_time": "2024-12-06T13:28:38.856049Z",
     "start_time": "2024-12-06T13:28:38.469071Z"
    }
   },
   "source": [
    "# todo move this stuff up to immediately after the creation of ncbi_frame ?\n",
    "\n",
    "# todo don't accept extracted curie if no real label?\n",
    "# any kind of string similarity checking for label of annotated curie vs extracted label ?\n",
    "# look for long runs of curies?\n",
    "# can we measure the beneficial impact of any of this? current crux: how to distribute counts\n",
    "\n",
    "ncbi_frame['curie_list'] = ncbi_frame.apply(\n",
    "    lambda my_row: list({my_row['extracted_curie'], my_row['longest_annotation_curie']} - {None}),\n",
    "    axis=1\n",
    ")\n",
    "\n",
    "ncbi_frame['unique_curie_count'] = ncbi_frame['curie_list'].apply(len)"
   ],
   "outputs": [],
   "execution_count": 131
  },
  {
   "cell_type": "code",
   "id": "c7e3c6cfe93d4685",
   "metadata": {
    "ExecuteTime": {
     "end_time": "2024-12-06T13:28:38.875666Z",
     "start_time": "2024-12-06T13:28:38.860317Z"
    }
   },
   "source": [
    "ncbi_frame"
   ],
   "outputs": [
    {
     "data": {
      "text/plain": [
       "      serial_number                              content  sample_count  \\\n",
       "0                 1           soil biome [ENVO:01001044]         16533   \n",
       "1                 2                              missing         12170   \n",
       "2                 3                                 soil         10370   \n",
       "3                 4                       not applicable          9683   \n",
       "4                 5                        not collected          6404   \n",
       "...             ...                                  ...           ...   \n",
       "7325           7187  peat biome after methane incubation             1   \n",
       "7326           7188                     Chernozemic soil             1   \n",
       "7327           7189           marine supra-littoral zone             1   \n",
       "7328           7190                       soil microcosm             1   \n",
       "7329           7191       woodland biome [ENVO:01000175]             1   \n",
       "\n",
       "                             content_list  content_count  envo_count  \\\n",
       "0              soil biome [ENVO:01001044]              1           1   \n",
       "1                                 missing              1           0   \n",
       "2                                    soil              1           0   \n",
       "3                          not applicable              1           0   \n",
       "4                           not collected              1           0   \n",
       "...                                   ...            ...         ...   \n",
       "7325  peat biome after methane incubation              1           0   \n",
       "7326                     Chernozemic soil              1           0   \n",
       "7327           marine supra-littoral zone              1           0   \n",
       "7328                       soil microcosm              1           0   \n",
       "7329       woodland biome [ENVO:01000175]              1           1   \n",
       "\n",
       "                          extracted_label extracted_curie        real_label  \\\n",
       "0                              soil biome   ENVO:01001044  soil environment   \n",
       "1                                 missing            None              None   \n",
       "2                                    soil            None              None   \n",
       "3                          not applicable            None              None   \n",
       "4                           not collected            None              None   \n",
       "...                                   ...             ...               ...   \n",
       "7325  peat biome after methane incubation            None              None   \n",
       "7326                     Chernozemic soil            None              None   \n",
       "7327           marine supra-littoral zone            None              None   \n",
       "7328                       soil microcosm            None              None   \n",
       "7329                       woodland biome   ENVO:01000175    woodland biome   \n",
       "\n",
       "     longest_annotation_curie    longest_annotation_label  \\\n",
       "0               ENVO:00000428                       biome   \n",
       "1                        None                        None   \n",
       "2               ENVO:00001998                        soil   \n",
       "3                        None                        None   \n",
       "4                        None                        None   \n",
       "...                       ...                         ...   \n",
       "7325              CHEBI:16183                     methane   \n",
       "7326            ENVO:00002237                   chernozem   \n",
       "7327            ENVO:01000124  marine supra-littoral zone   \n",
       "7328            ENVO:01000621                   microcosm   \n",
       "7329            ENVO:01000175              woodland biome   \n",
       "\n",
       "                          curie_list  unique_curie_count  \n",
       "0     [ENVO:00000428, ENVO:01001044]                   2  \n",
       "1                                 []                   0  \n",
       "2                    [ENVO:00001998]                   1  \n",
       "3                                 []                   0  \n",
       "4                                 []                   0  \n",
       "...                              ...                 ...  \n",
       "7325                   [CHEBI:16183]                   1  \n",
       "7326                 [ENVO:00002237]                   1  \n",
       "7327                 [ENVO:01000124]                   1  \n",
       "7328                 [ENVO:01000621]                   1  \n",
       "7329                 [ENVO:01000175]                   1  \n",
       "\n",
       "[7330 rows x 13 columns]"
      ],
      "text/html": [
       "<div>\n",
       "<style scoped>\n",
       "    .dataframe tbody tr th:only-of-type {\n",
       "        vertical-align: middle;\n",
       "    }\n",
       "\n",
       "    .dataframe tbody tr th {\n",
       "        vertical-align: top;\n",
       "    }\n",
       "\n",
       "    .dataframe thead th {\n",
       "        text-align: right;\n",
       "    }\n",
       "</style>\n",
       "<table border=\"1\" class=\"dataframe\">\n",
       "  <thead>\n",
       "    <tr style=\"text-align: right;\">\n",
       "      <th></th>\n",
       "      <th>serial_number</th>\n",
       "      <th>content</th>\n",
       "      <th>sample_count</th>\n",
       "      <th>content_list</th>\n",
       "      <th>content_count</th>\n",
       "      <th>envo_count</th>\n",
       "      <th>extracted_label</th>\n",
       "      <th>extracted_curie</th>\n",
       "      <th>real_label</th>\n",
       "      <th>longest_annotation_curie</th>\n",
       "      <th>longest_annotation_label</th>\n",
       "      <th>curie_list</th>\n",
       "      <th>unique_curie_count</th>\n",
       "    </tr>\n",
       "  </thead>\n",
       "  <tbody>\n",
       "    <tr>\n",
       "      <th>0</th>\n",
       "      <td>1</td>\n",
       "      <td>soil biome [ENVO:01001044]</td>\n",
       "      <td>16533</td>\n",
       "      <td>soil biome [ENVO:01001044]</td>\n",
       "      <td>1</td>\n",
       "      <td>1</td>\n",
       "      <td>soil biome</td>\n",
       "      <td>ENVO:01001044</td>\n",
       "      <td>soil environment</td>\n",
       "      <td>ENVO:00000428</td>\n",
       "      <td>biome</td>\n",
       "      <td>[ENVO:00000428, ENVO:01001044]</td>\n",
       "      <td>2</td>\n",
       "    </tr>\n",
       "    <tr>\n",
       "      <th>1</th>\n",
       "      <td>2</td>\n",
       "      <td>missing</td>\n",
       "      <td>12170</td>\n",
       "      <td>missing</td>\n",
       "      <td>1</td>\n",
       "      <td>0</td>\n",
       "      <td>missing</td>\n",
       "      <td>None</td>\n",
       "      <td>None</td>\n",
       "      <td>None</td>\n",
       "      <td>None</td>\n",
       "      <td>[]</td>\n",
       "      <td>0</td>\n",
       "    </tr>\n",
       "    <tr>\n",
       "      <th>2</th>\n",
       "      <td>3</td>\n",
       "      <td>soil</td>\n",
       "      <td>10370</td>\n",
       "      <td>soil</td>\n",
       "      <td>1</td>\n",
       "      <td>0</td>\n",
       "      <td>soil</td>\n",
       "      <td>None</td>\n",
       "      <td>None</td>\n",
       "      <td>ENVO:00001998</td>\n",
       "      <td>soil</td>\n",
       "      <td>[ENVO:00001998]</td>\n",
       "      <td>1</td>\n",
       "    </tr>\n",
       "    <tr>\n",
       "      <th>3</th>\n",
       "      <td>4</td>\n",
       "      <td>not applicable</td>\n",
       "      <td>9683</td>\n",
       "      <td>not applicable</td>\n",
       "      <td>1</td>\n",
       "      <td>0</td>\n",
       "      <td>not applicable</td>\n",
       "      <td>None</td>\n",
       "      <td>None</td>\n",
       "      <td>None</td>\n",
       "      <td>None</td>\n",
       "      <td>[]</td>\n",
       "      <td>0</td>\n",
       "    </tr>\n",
       "    <tr>\n",
       "      <th>4</th>\n",
       "      <td>5</td>\n",
       "      <td>not collected</td>\n",
       "      <td>6404</td>\n",
       "      <td>not collected</td>\n",
       "      <td>1</td>\n",
       "      <td>0</td>\n",
       "      <td>not collected</td>\n",
       "      <td>None</td>\n",
       "      <td>None</td>\n",
       "      <td>None</td>\n",
       "      <td>None</td>\n",
       "      <td>[]</td>\n",
       "      <td>0</td>\n",
       "    </tr>\n",
       "    <tr>\n",
       "      <th>...</th>\n",
       "      <td>...</td>\n",
       "      <td>...</td>\n",
       "      <td>...</td>\n",
       "      <td>...</td>\n",
       "      <td>...</td>\n",
       "      <td>...</td>\n",
       "      <td>...</td>\n",
       "      <td>...</td>\n",
       "      <td>...</td>\n",
       "      <td>...</td>\n",
       "      <td>...</td>\n",
       "      <td>...</td>\n",
       "      <td>...</td>\n",
       "    </tr>\n",
       "    <tr>\n",
       "      <th>7325</th>\n",
       "      <td>7187</td>\n",
       "      <td>peat biome after methane incubation</td>\n",
       "      <td>1</td>\n",
       "      <td>peat biome after methane incubation</td>\n",
       "      <td>1</td>\n",
       "      <td>0</td>\n",
       "      <td>peat biome after methane incubation</td>\n",
       "      <td>None</td>\n",
       "      <td>None</td>\n",
       "      <td>CHEBI:16183</td>\n",
       "      <td>methane</td>\n",
       "      <td>[CHEBI:16183]</td>\n",
       "      <td>1</td>\n",
       "    </tr>\n",
       "    <tr>\n",
       "      <th>7326</th>\n",
       "      <td>7188</td>\n",
       "      <td>Chernozemic soil</td>\n",
       "      <td>1</td>\n",
       "      <td>Chernozemic soil</td>\n",
       "      <td>1</td>\n",
       "      <td>0</td>\n",
       "      <td>Chernozemic soil</td>\n",
       "      <td>None</td>\n",
       "      <td>None</td>\n",
       "      <td>ENVO:00002237</td>\n",
       "      <td>chernozem</td>\n",
       "      <td>[ENVO:00002237]</td>\n",
       "      <td>1</td>\n",
       "    </tr>\n",
       "    <tr>\n",
       "      <th>7327</th>\n",
       "      <td>7189</td>\n",
       "      <td>marine supra-littoral zone</td>\n",
       "      <td>1</td>\n",
       "      <td>marine supra-littoral zone</td>\n",
       "      <td>1</td>\n",
       "      <td>0</td>\n",
       "      <td>marine supra-littoral zone</td>\n",
       "      <td>None</td>\n",
       "      <td>None</td>\n",
       "      <td>ENVO:01000124</td>\n",
       "      <td>marine supra-littoral zone</td>\n",
       "      <td>[ENVO:01000124]</td>\n",
       "      <td>1</td>\n",
       "    </tr>\n",
       "    <tr>\n",
       "      <th>7328</th>\n",
       "      <td>7190</td>\n",
       "      <td>soil microcosm</td>\n",
       "      <td>1</td>\n",
       "      <td>soil microcosm</td>\n",
       "      <td>1</td>\n",
       "      <td>0</td>\n",
       "      <td>soil microcosm</td>\n",
       "      <td>None</td>\n",
       "      <td>None</td>\n",
       "      <td>ENVO:01000621</td>\n",
       "      <td>microcosm</td>\n",
       "      <td>[ENVO:01000621]</td>\n",
       "      <td>1</td>\n",
       "    </tr>\n",
       "    <tr>\n",
       "      <th>7329</th>\n",
       "      <td>7191</td>\n",
       "      <td>woodland biome [ENVO:01000175]</td>\n",
       "      <td>1</td>\n",
       "      <td>woodland biome [ENVO:01000175]</td>\n",
       "      <td>1</td>\n",
       "      <td>1</td>\n",
       "      <td>woodland biome</td>\n",
       "      <td>ENVO:01000175</td>\n",
       "      <td>woodland biome</td>\n",
       "      <td>ENVO:01000175</td>\n",
       "      <td>woodland biome</td>\n",
       "      <td>[ENVO:01000175]</td>\n",
       "      <td>1</td>\n",
       "    </tr>\n",
       "  </tbody>\n",
       "</table>\n",
       "<p>7330 rows × 13 columns</p>\n",
       "</div>"
      ]
     },
     "execution_count": 132,
     "metadata": {},
     "output_type": "execute_result"
    }
   ],
   "execution_count": 132
  },
  {
   "cell_type": "code",
   "id": "349610c477ebf149",
   "metadata": {
    "ExecuteTime": {
     "end_time": "2024-12-06T13:28:44.239355Z",
     "start_time": "2024-12-06T13:28:44.234447Z"
    }
   },
   "source": [
    "ncbi_frame['unique_curie_count'].value_counts()"
   ],
   "outputs": [
    {
     "data": {
      "text/plain": [
       "unique_curie_count\n",
       "1    4215\n",
       "0    2465\n",
       "2     650\n",
       "Name: count, dtype: int64"
      ]
     },
     "execution_count": 133,
     "metadata": {},
     "output_type": "execute_result"
    }
   ],
   "execution_count": 133
  },
  {
   "cell_type": "code",
   "id": "e6a8c0273f36e906",
   "metadata": {
    "ExecuteTime": {
     "end_time": "2024-12-06T13:28:44.254139Z",
     "start_time": "2024-12-06T13:28:44.246098Z"
    }
   },
   "source": [
    "double_curie_frame = ncbi_frame[ncbi_frame['unique_curie_count'] > 1]"
   ],
   "outputs": [],
   "execution_count": 134
  },
  {
   "cell_type": "code",
   "id": "334e7c646337a914",
   "metadata": {
    "ExecuteTime": {
     "end_time": "2024-12-06T13:28:44.345029Z",
     "start_time": "2024-12-06T13:28:44.341047Z"
    }
   },
   "source": [
    "double_curie_frame = double_curie_frame[['extracted_curie', 'longest_annotation_curie']]"
   ],
   "outputs": [],
   "execution_count": 135
  },
  {
   "cell_type": "code",
   "id": "874149830df3dd8a",
   "metadata": {
    "ExecuteTime": {
     "end_time": "2024-12-06T13:28:44.450941Z",
     "start_time": "2024-12-06T13:28:44.446480Z"
    }
   },
   "source": [
    "double_curie_frame = double_curie_frame.drop_duplicates()"
   ],
   "outputs": [],
   "execution_count": 136
  },
  {
   "cell_type": "code",
   "id": "cdfc0bda39f3ad6d",
   "metadata": {
    "ExecuteTime": {
     "end_time": "2024-12-06T13:28:44.507986Z",
     "start_time": "2024-12-06T13:28:44.502085Z"
    }
   },
   "source": [
    "double_curie_frame[['extracted_prefix', 'extracted_local_id']] = double_curie_frame['extracted_curie'].str.split(':', expand=True)"
   ],
   "outputs": [],
   "execution_count": 137
  },
  {
   "cell_type": "code",
   "id": "de6fcee63f6677d",
   "metadata": {
    "ExecuteTime": {
     "end_time": "2024-12-06T13:28:44.572465Z",
     "start_time": "2024-12-06T13:28:44.567583Z"
    }
   },
   "source": [
    "double_curie_frame['extracted_local_id_int'] = pd.to_numeric(double_curie_frame['extracted_local_id'], errors='coerce').astype('Int64')"
   ],
   "outputs": [],
   "execution_count": 138
  },
  {
   "cell_type": "code",
   "id": "fae831b04ed985ef",
   "metadata": {
    "ExecuteTime": {
     "end_time": "2024-12-06T13:28:44.650801Z",
     "start_time": "2024-12-06T13:28:44.646081Z"
    }
   },
   "source": [
    "# Ensure extracted_local_id_int is unique and sorted\n",
    "unique_sorted_series = double_curie_frame['extracted_local_id_int'].dropna().drop_duplicates().sort_values()\n"
   ],
   "outputs": [],
   "execution_count": 139
  },
  {
   "cell_type": "code",
   "id": "d244d7b150a3b413",
   "metadata": {
    "ExecuteTime": {
     "end_time": "2024-12-06T13:28:49.777908Z",
     "start_time": "2024-12-06T13:28:49.763696Z"
    }
   },
   "source": [
    "# Find stretches\n",
    "stretches_dict = find_consecutive_stretches_dict(unique_sorted_series)\n",
    "\n",
    "# pprint.pprint(stretches_dict)"
   ],
   "outputs": [],
   "execution_count": 140
  },
  {
   "cell_type": "code",
   "id": "2fda8122842f63c0",
   "metadata": {
    "ExecuteTime": {
     "end_time": "2024-12-06T13:28:54.744637Z",
     "start_time": "2024-12-06T13:28:54.741005Z"
    }
   },
   "source": [
    "# Convert the stretches dictionary into a DataFrame\n",
    "stretches_df = stretches_dict_to_long_dataframe(stretches_dict)"
   ],
   "outputs": [],
   "execution_count": 141
  },
  {
   "cell_type": "code",
   "id": "367abafc0ae13a6d",
   "metadata": {
    "ExecuteTime": {
     "end_time": "2024-12-06T13:29:00.151468Z",
     "start_time": "2024-12-06T13:29:00.144632Z"
    }
   },
   "source": [
    "stretches_df"
   ],
   "outputs": [
    {
     "data": {
      "text/plain": [
       "     stretch_id    value\n",
       "0             1        1\n",
       "1             1        2\n",
       "2             1        3\n",
       "3             1        4\n",
       "4             1        5\n",
       "..          ...      ...\n",
       "454          10  1000271\n",
       "455          10  1000272\n",
       "456          10  1000273\n",
       "457          10  1000274\n",
       "458          10  1000275\n",
       "\n",
       "[459 rows x 2 columns]"
      ],
      "text/html": [
       "<div>\n",
       "<style scoped>\n",
       "    .dataframe tbody tr th:only-of-type {\n",
       "        vertical-align: middle;\n",
       "    }\n",
       "\n",
       "    .dataframe tbody tr th {\n",
       "        vertical-align: top;\n",
       "    }\n",
       "\n",
       "    .dataframe thead th {\n",
       "        text-align: right;\n",
       "    }\n",
       "</style>\n",
       "<table border=\"1\" class=\"dataframe\">\n",
       "  <thead>\n",
       "    <tr style=\"text-align: right;\">\n",
       "      <th></th>\n",
       "      <th>stretch_id</th>\n",
       "      <th>value</th>\n",
       "    </tr>\n",
       "  </thead>\n",
       "  <tbody>\n",
       "    <tr>\n",
       "      <th>0</th>\n",
       "      <td>1</td>\n",
       "      <td>1</td>\n",
       "    </tr>\n",
       "    <tr>\n",
       "      <th>1</th>\n",
       "      <td>1</td>\n",
       "      <td>2</td>\n",
       "    </tr>\n",
       "    <tr>\n",
       "      <th>2</th>\n",
       "      <td>1</td>\n",
       "      <td>3</td>\n",
       "    </tr>\n",
       "    <tr>\n",
       "      <th>3</th>\n",
       "      <td>1</td>\n",
       "      <td>4</td>\n",
       "    </tr>\n",
       "    <tr>\n",
       "      <th>4</th>\n",
       "      <td>1</td>\n",
       "      <td>5</td>\n",
       "    </tr>\n",
       "    <tr>\n",
       "      <th>...</th>\n",
       "      <td>...</td>\n",
       "      <td>...</td>\n",
       "    </tr>\n",
       "    <tr>\n",
       "      <th>454</th>\n",
       "      <td>10</td>\n",
       "      <td>1000271</td>\n",
       "    </tr>\n",
       "    <tr>\n",
       "      <th>455</th>\n",
       "      <td>10</td>\n",
       "      <td>1000272</td>\n",
       "    </tr>\n",
       "    <tr>\n",
       "      <th>456</th>\n",
       "      <td>10</td>\n",
       "      <td>1000273</td>\n",
       "    </tr>\n",
       "    <tr>\n",
       "      <th>457</th>\n",
       "      <td>10</td>\n",
       "      <td>1000274</td>\n",
       "    </tr>\n",
       "    <tr>\n",
       "      <th>458</th>\n",
       "      <td>10</td>\n",
       "      <td>1000275</td>\n",
       "    </tr>\n",
       "  </tbody>\n",
       "</table>\n",
       "<p>459 rows × 2 columns</p>\n",
       "</div>"
      ]
     },
     "execution_count": 142,
     "metadata": {},
     "output_type": "execute_result"
    }
   ],
   "execution_count": 142
  },
  {
   "cell_type": "code",
   "id": "8ee27ecc0697a5f5",
   "metadata": {
    "ExecuteTime": {
     "end_time": "2024-12-06T13:29:04.881125Z",
     "start_time": "2024-12-06T13:29:04.876703Z"
    }
   },
   "source": [
    "# Perform the left merge\n",
    "double_curie_frame = double_curie_frame.merge(\n",
    "    stretches_df,\n",
    "    left_on='extracted_local_id_int',\n",
    "    right_on='value',\n",
    "    how='left'\n",
    ")"
   ],
   "outputs": [],
   "execution_count": 143
  },
  {
   "cell_type": "code",
   "id": "59e278981b799f14",
   "metadata": {
    "ExecuteTime": {
     "end_time": "2024-12-06T13:29:04.910077Z",
     "start_time": "2024-12-06T13:29:04.886116Z"
    }
   },
   "source": [
    "stretch_summary_df = summarize_stretch_groups(double_curie_frame)\n"
   ],
   "outputs": [],
   "execution_count": 144
  },
  {
   "cell_type": "code",
   "id": "cee6e3ff1e1ca0d3",
   "metadata": {
    "ExecuteTime": {
     "end_time": "2024-12-06T13:29:04.973609Z",
     "start_time": "2024-12-06T13:29:04.961703Z"
    }
   },
   "source": [
    "stretch_summary_df"
   ],
   "outputs": [
    {
     "data": {
      "text/plain": [
       "   stretch_id most_common_longest_annotation_curie  fraction\n",
       "0         1.0                        ENVO:01001811  0.931034\n",
       "1         2.0                        ENVO:00000428  1.000000\n",
       "2         3.0                        ENVO:00000428  1.000000\n",
       "3         4.0                        ENVO:00000446  0.941176\n",
       "4         5.0                        ENVO:00000428  1.000000\n",
       "5         6.0                        ENVO:00002044  1.000000\n",
       "6         7.0                        ENVO:00005801  0.600000\n",
       "7         8.0                          PCO:1000004  0.923077\n",
       "8         9.0                        ENVO:01000020  1.000000\n",
       "9        10.0                        ENVO:00000428  0.916667"
      ],
      "text/html": [
       "<div>\n",
       "<style scoped>\n",
       "    .dataframe tbody tr th:only-of-type {\n",
       "        vertical-align: middle;\n",
       "    }\n",
       "\n",
       "    .dataframe tbody tr th {\n",
       "        vertical-align: top;\n",
       "    }\n",
       "\n",
       "    .dataframe thead th {\n",
       "        text-align: right;\n",
       "    }\n",
       "</style>\n",
       "<table border=\"1\" class=\"dataframe\">\n",
       "  <thead>\n",
       "    <tr style=\"text-align: right;\">\n",
       "      <th></th>\n",
       "      <th>stretch_id</th>\n",
       "      <th>most_common_longest_annotation_curie</th>\n",
       "      <th>fraction</th>\n",
       "    </tr>\n",
       "  </thead>\n",
       "  <tbody>\n",
       "    <tr>\n",
       "      <th>0</th>\n",
       "      <td>1.0</td>\n",
       "      <td>ENVO:01001811</td>\n",
       "      <td>0.931034</td>\n",
       "    </tr>\n",
       "    <tr>\n",
       "      <th>1</th>\n",
       "      <td>2.0</td>\n",
       "      <td>ENVO:00000428</td>\n",
       "      <td>1.000000</td>\n",
       "    </tr>\n",
       "    <tr>\n",
       "      <th>2</th>\n",
       "      <td>3.0</td>\n",
       "      <td>ENVO:00000428</td>\n",
       "      <td>1.000000</td>\n",
       "    </tr>\n",
       "    <tr>\n",
       "      <th>3</th>\n",
       "      <td>4.0</td>\n",
       "      <td>ENVO:00000446</td>\n",
       "      <td>0.941176</td>\n",
       "    </tr>\n",
       "    <tr>\n",
       "      <th>4</th>\n",
       "      <td>5.0</td>\n",
       "      <td>ENVO:00000428</td>\n",
       "      <td>1.000000</td>\n",
       "    </tr>\n",
       "    <tr>\n",
       "      <th>5</th>\n",
       "      <td>6.0</td>\n",
       "      <td>ENVO:00002044</td>\n",
       "      <td>1.000000</td>\n",
       "    </tr>\n",
       "    <tr>\n",
       "      <th>6</th>\n",
       "      <td>7.0</td>\n",
       "      <td>ENVO:00005801</td>\n",
       "      <td>0.600000</td>\n",
       "    </tr>\n",
       "    <tr>\n",
       "      <th>7</th>\n",
       "      <td>8.0</td>\n",
       "      <td>PCO:1000004</td>\n",
       "      <td>0.923077</td>\n",
       "    </tr>\n",
       "    <tr>\n",
       "      <th>8</th>\n",
       "      <td>9.0</td>\n",
       "      <td>ENVO:01000020</td>\n",
       "      <td>1.000000</td>\n",
       "    </tr>\n",
       "    <tr>\n",
       "      <th>9</th>\n",
       "      <td>10.0</td>\n",
       "      <td>ENVO:00000428</td>\n",
       "      <td>0.916667</td>\n",
       "    </tr>\n",
       "  </tbody>\n",
       "</table>\n",
       "</div>"
      ]
     },
     "execution_count": 145,
     "metadata": {},
     "output_type": "execute_result"
    }
   ],
   "execution_count": 145
  },
  {
   "cell_type": "code",
   "id": "f47a58a1945943b8",
   "metadata": {
    "ExecuteTime": {
     "end_time": "2024-12-06T13:29:05.106902Z",
     "start_time": "2024-12-06T13:29:05.101537Z"
    }
   },
   "source": [
    "# Perform the left merge\n",
    "double_curie_frame = double_curie_frame.merge(\n",
    "    stretch_summary_df,\n",
    "    left_on='stretch_id',\n",
    "    right_on='stretch_id',\n",
    "    how='left'\n",
    ")"
   ],
   "outputs": [],
   "execution_count": 146
  },
  {
   "cell_type": "code",
   "id": "828f3be5ac6c0ab1",
   "metadata": {
    "ExecuteTime": {
     "end_time": "2024-12-06T13:29:05.148864Z",
     "start_time": "2024-12-06T13:29:05.143082Z"
    }
   },
   "source": [
    "drag_evidence_frame = double_curie_frame[double_curie_frame['stretch_id'] >= 1]\n",
    "drag_evidence_frame = drag_evidence_frame[['extracted_curie', 'longest_annotation_curie']]\n",
    "drag_evidence_frame['drag_evidence'] = True"
   ],
   "outputs": [],
   "execution_count": 147
  },
  {
   "cell_type": "code",
   "id": "9907b1472af8731b",
   "metadata": {
    "ExecuteTime": {
     "end_time": "2024-12-06T13:29:05.201628Z",
     "start_time": "2024-12-06T13:29:05.193480Z"
    }
   },
   "source": [
    "drag_evidence_frame"
   ],
   "outputs": [
    {
     "data": {
      "text/plain": [
       "    extracted_curie longest_annotation_curie  drag_evidence\n",
       "2     ENVO:01000250            ENVO:00000109           True\n",
       "8     ENVO:01000245            ENVO:00000011           True\n",
       "17    ENVO:00000053            ENVO:00001998           True\n",
       "18    ENVO:01000002            ENVO:00000428           True\n",
       "21    ENVO:01000238            ENVO:01000339           True\n",
       "..              ...                      ...            ...\n",
       "592   ENVO:01000258            ENVO:00000428           True\n",
       "593   ENVO:01000262            ENVO:00000428           True\n",
       "594   ENVO:00002058            ENVO:00002044           True\n",
       "595   ENVO:00002060            ENVO:00002044           True\n",
       "596   ENVO:00002063            ENVO:00002044           True\n",
       "\n",
       "[541 rows x 3 columns]"
      ],
      "text/html": [
       "<div>\n",
       "<style scoped>\n",
       "    .dataframe tbody tr th:only-of-type {\n",
       "        vertical-align: middle;\n",
       "    }\n",
       "\n",
       "    .dataframe tbody tr th {\n",
       "        vertical-align: top;\n",
       "    }\n",
       "\n",
       "    .dataframe thead th {\n",
       "        text-align: right;\n",
       "    }\n",
       "</style>\n",
       "<table border=\"1\" class=\"dataframe\">\n",
       "  <thead>\n",
       "    <tr style=\"text-align: right;\">\n",
       "      <th></th>\n",
       "      <th>extracted_curie</th>\n",
       "      <th>longest_annotation_curie</th>\n",
       "      <th>drag_evidence</th>\n",
       "    </tr>\n",
       "  </thead>\n",
       "  <tbody>\n",
       "    <tr>\n",
       "      <th>2</th>\n",
       "      <td>ENVO:01000250</td>\n",
       "      <td>ENVO:00000109</td>\n",
       "      <td>True</td>\n",
       "    </tr>\n",
       "    <tr>\n",
       "      <th>8</th>\n",
       "      <td>ENVO:01000245</td>\n",
       "      <td>ENVO:00000011</td>\n",
       "      <td>True</td>\n",
       "    </tr>\n",
       "    <tr>\n",
       "      <th>17</th>\n",
       "      <td>ENVO:00000053</td>\n",
       "      <td>ENVO:00001998</td>\n",
       "      <td>True</td>\n",
       "    </tr>\n",
       "    <tr>\n",
       "      <th>18</th>\n",
       "      <td>ENVO:01000002</td>\n",
       "      <td>ENVO:00000428</td>\n",
       "      <td>True</td>\n",
       "    </tr>\n",
       "    <tr>\n",
       "      <th>21</th>\n",
       "      <td>ENVO:01000238</td>\n",
       "      <td>ENVO:01000339</td>\n",
       "      <td>True</td>\n",
       "    </tr>\n",
       "    <tr>\n",
       "      <th>...</th>\n",
       "      <td>...</td>\n",
       "      <td>...</td>\n",
       "      <td>...</td>\n",
       "    </tr>\n",
       "    <tr>\n",
       "      <th>592</th>\n",
       "      <td>ENVO:01000258</td>\n",
       "      <td>ENVO:00000428</td>\n",
       "      <td>True</td>\n",
       "    </tr>\n",
       "    <tr>\n",
       "      <th>593</th>\n",
       "      <td>ENVO:01000262</td>\n",
       "      <td>ENVO:00000428</td>\n",
       "      <td>True</td>\n",
       "    </tr>\n",
       "    <tr>\n",
       "      <th>594</th>\n",
       "      <td>ENVO:00002058</td>\n",
       "      <td>ENVO:00002044</td>\n",
       "      <td>True</td>\n",
       "    </tr>\n",
       "    <tr>\n",
       "      <th>595</th>\n",
       "      <td>ENVO:00002060</td>\n",
       "      <td>ENVO:00002044</td>\n",
       "      <td>True</td>\n",
       "    </tr>\n",
       "    <tr>\n",
       "      <th>596</th>\n",
       "      <td>ENVO:00002063</td>\n",
       "      <td>ENVO:00002044</td>\n",
       "      <td>True</td>\n",
       "    </tr>\n",
       "  </tbody>\n",
       "</table>\n",
       "<p>541 rows × 3 columns</p>\n",
       "</div>"
      ]
     },
     "execution_count": 148,
     "metadata": {},
     "output_type": "execute_result"
    }
   ],
   "execution_count": 148
  },
  {
   "cell_type": "code",
   "id": "9873eb1bc3ea44e5",
   "metadata": {
    "ExecuteTime": {
     "end_time": "2024-12-06T13:29:05.253063Z",
     "start_time": "2024-12-06T13:29:05.245373Z"
    }
   },
   "source": [
    "ncbi_frame = ncbi_frame.merge(\n",
    "    drag_evidence_frame,\n",
    "    left_on=['extracted_curie', 'longest_annotation_curie'],\n",
    "    right_on=['extracted_curie', 'longest_annotation_curie'],\n",
    "    how='left'\n",
    ")"
   ],
   "outputs": [],
   "execution_count": 149
  },
  {
   "cell_type": "code",
   "id": "1d67b9e207b5531e",
   "metadata": {
    "ExecuteTime": {
     "end_time": "2024-12-06T13:29:05.785598Z",
     "start_time": "2024-12-06T13:29:05.305849Z"
    }
   },
   "source": [
    "# Initialize dragless_curie_list with curie_list values\n",
    "ncbi_frame[\"dragless_curie_list\"] = ncbi_frame[\"curie_list\"]\n",
    "\n",
    "# Update dragless_curie_list based on the condition\n",
    "for index, row in ncbi_frame.iterrows():\n",
    "    if row[\"drag_evidence\"] is True:\n",
    "        if row[\"longest_annotation_curie\"] is not None:\n",
    "            ncbi_frame.at[index, \"dragless_curie_list\"] = [row[\"longest_annotation_curie\"]]\n",
    "        else:\n",
    "            ncbi_frame.at[index, \"dragless_curie_list\"] = []\n",
    "\n",
    "ncbi_frame['dragless_curie_count'] = ncbi_frame['dragless_curie_list'].apply(len)"
   ],
   "outputs": [],
   "execution_count": 150
  },
  {
   "cell_type": "code",
   "id": "fb7469cd6900edd7",
   "metadata": {
    "ExecuteTime": {
     "end_time": "2024-12-06T13:29:05.852439Z",
     "start_time": "2024-12-06T13:29:05.846864Z"
    }
   },
   "source": [
    "ncbi_frame['unique_curie_count'].value_counts()"
   ],
   "outputs": [
    {
     "data": {
      "text/plain": [
       "unique_curie_count\n",
       "1    4215\n",
       "0    2465\n",
       "2     650\n",
       "Name: count, dtype: int64"
      ]
     },
     "execution_count": 151,
     "metadata": {},
     "output_type": "execute_result"
    }
   ],
   "execution_count": 151
  },
  {
   "cell_type": "code",
   "id": "7626e42d5b746a2a",
   "metadata": {
    "ExecuteTime": {
     "end_time": "2024-12-06T13:29:05.898124Z",
     "start_time": "2024-12-06T13:29:05.892184Z"
    }
   },
   "source": [
    "ncbi_frame['dragless_curie_count'].value_counts()"
   ],
   "outputs": [
    {
     "data": {
      "text/plain": [
       "dragless_curie_count\n",
       "1    4758\n",
       "0    2465\n",
       "2     107\n",
       "Name: count, dtype: int64"
      ]
     },
     "execution_count": 152,
     "metadata": {},
     "output_type": "execute_result"
    }
   ],
   "execution_count": 152
  },
  {
   "cell_type": "code",
   "id": "bb3c0eeb8e919ac5",
   "metadata": {
    "ExecuteTime": {
     "end_time": "2024-12-06T13:29:06.001543Z",
     "start_time": "2024-12-06T13:29:05.996876Z"
    }
   },
   "source": [
    "ncbi_frame.shape"
   ],
   "outputs": [
    {
     "data": {
      "text/plain": [
       "(7330, 16)"
      ]
     },
     "execution_count": 153,
     "metadata": {},
     "output_type": "execute_result"
    }
   ],
   "execution_count": 153
  },
  {
   "cell_type": "code",
   "id": "653df3ac622d4e95",
   "metadata": {
    "ExecuteTime": {
     "end_time": "2024-12-06T13:29:06.169306Z",
     "start_time": "2024-12-06T13:29:06.163436Z"
    }
   },
   "source": [
    "ncbi_frame_undisputed = ncbi_frame[ncbi_frame['dragless_curie_count'] <= 1]"
   ],
   "outputs": [],
   "execution_count": 154
  },
  {
   "cell_type": "code",
   "id": "2abdcbd301b484a9",
   "metadata": {
    "ExecuteTime": {
     "end_time": "2024-12-06T13:29:06.195287Z",
     "start_time": "2024-12-06T13:29:06.191061Z"
    }
   },
   "source": [
    "ncbi_frame_undisputed.shape"
   ],
   "outputs": [
    {
     "data": {
      "text/plain": [
       "(7223, 16)"
      ]
     },
     "execution_count": 155,
     "metadata": {},
     "output_type": "execute_result"
    }
   ],
   "execution_count": 155
  },
  {
   "cell_type": "code",
   "id": "57d0c3c05e88ea1e",
   "metadata": {
    "ExecuteTime": {
     "end_time": "2024-12-06T13:29:06.290117Z",
     "start_time": "2024-12-06T13:29:06.285799Z"
    }
   },
   "source": [
    "ncbi_frame_disputed = ncbi_frame[ncbi_frame['dragless_curie_count'] > 1]"
   ],
   "outputs": [],
   "execution_count": 156
  },
  {
   "cell_type": "code",
   "id": "d0cf6796fedc7f8a",
   "metadata": {
    "ExecuteTime": {
     "end_time": "2024-12-06T13:29:06.345063Z",
     "start_time": "2024-12-06T13:29:06.340985Z"
    }
   },
   "source": [
    "ncbi_frame_disputed.shape"
   ],
   "outputs": [
    {
     "data": {
      "text/plain": [
       "(107, 16)"
      ]
     },
     "execution_count": 157,
     "metadata": {},
     "output_type": "execute_result"
    }
   ],
   "execution_count": 157
  },
  {
   "cell_type": "code",
   "id": "fe33fe1d6d2aad09",
   "metadata": {
    "ExecuteTime": {
     "end_time": "2024-12-06T13:29:06.450087Z",
     "start_time": "2024-12-06T13:29:06.443317Z"
    }
   },
   "source": [
    "ncbi_frame_disputed = ncbi_frame_disputed.explode(\"dragless_curie_list\", ignore_index=True)\n"
   ],
   "outputs": [],
   "execution_count": 158
  },
  {
   "cell_type": "code",
   "id": "f8fe49b93cb12990",
   "metadata": {
    "ExecuteTime": {
     "end_time": "2024-12-06T13:29:11.891607Z",
     "start_time": "2024-12-06T13:29:11.887571Z"
    }
   },
   "source": [
    "ncbi_frame_disputed.shape"
   ],
   "outputs": [
    {
     "data": {
      "text/plain": [
       "(214, 16)"
      ]
     },
     "execution_count": 159,
     "metadata": {},
     "output_type": "execute_result"
    }
   ],
   "execution_count": 159
  },
  {
   "cell_type": "code",
   "id": "6896ca8dd3865cb5",
   "metadata": {
    "ExecuteTime": {
     "end_time": "2024-12-06T13:29:16.822724Z",
     "start_time": "2024-12-06T13:29:16.818881Z"
    }
   },
   "source": [
    "ncbi_frame_disputed[\"dragless_curie_list\"] = ncbi_frame_disputed[\"dragless_curie_list\"].apply(lambda x: [x])"
   ],
   "outputs": [],
   "execution_count": 160
  },
  {
   "cell_type": "code",
   "id": "9a472d228624f148",
   "metadata": {
    "ExecuteTime": {
     "end_time": "2024-12-06T13:29:22.521477Z",
     "start_time": "2024-12-06T13:29:22.514811Z"
    }
   },
   "source": [
    "# Combine the rows of ncbi_frame_undisputed and ncbi_frame_disputed into a new DataFrame\n",
    "ncbi_disputes_exploded_frame = pd.concat([ncbi_frame_undisputed, ncbi_frame_disputed], ignore_index=True)\n"
   ],
   "outputs": [],
   "execution_count": 161
  },
  {
   "cell_type": "code",
   "id": "e772d6db19793ec5",
   "metadata": {
    "ExecuteTime": {
     "end_time": "2024-12-06T13:29:27.555719Z",
     "start_time": "2024-12-06T13:29:27.551131Z"
    }
   },
   "source": [
    "ncbi_disputes_exploded_frame.shape"
   ],
   "outputs": [
    {
     "data": {
      "text/plain": [
       "(7437, 16)"
      ]
     },
     "execution_count": 162,
     "metadata": {},
     "output_type": "execute_result"
    }
   ],
   "execution_count": 162
  },
  {
   "cell_type": "code",
   "id": "ef0b5e69d724d94a",
   "metadata": {
    "ExecuteTime": {
     "end_time": "2024-12-06T13:29:32.665083Z",
     "start_time": "2024-12-06T13:29:32.645853Z"
    }
   },
   "source": [
    "ncbi_disputes_exploded_frame"
   ],
   "outputs": [
    {
     "data": {
      "text/plain": [
       "      serial_number                                            content  \\\n",
       "0                 2                                            missing   \n",
       "1                 3                                               soil   \n",
       "2                 4                                     not applicable   \n",
       "3                 5                                      not collected   \n",
       "4                 6                                       forest biome   \n",
       "...             ...                                                ...   \n",
       "7432           7156  plain biome [ENVO:00000254]|agricultural biome...   \n",
       "7433           7157  plain biome [ENVO:00000254]|agricultural biome...   \n",
       "7434           7157  plain biome [ENVO:00000254]|agricultural biome...   \n",
       "7435           7158  plain biome [ENVO:00000254]|agricultural biome...   \n",
       "7436           7158  plain biome [ENVO:00000254]|agricultural biome...   \n",
       "\n",
       "      sample_count                 content_list  content_count  envo_count  \\\n",
       "0            12170                      missing              1           0   \n",
       "1            10370                         soil              1           0   \n",
       "2             9683               not applicable              1           0   \n",
       "3             6404                not collected              1           0   \n",
       "4             6373                 forest biome              1           0   \n",
       "...            ...                          ...            ...         ...   \n",
       "7432             1  plain biome [ENVO:00000254]              2           1   \n",
       "7433             1  plain biome [ENVO:00000254]              2           1   \n",
       "7434             1  plain biome [ENVO:00000254]              2           1   \n",
       "7435             1  plain biome [ENVO:00000254]              2           1   \n",
       "7436             1  plain biome [ENVO:00000254]              2           1   \n",
       "\n",
       "     extracted_label extracted_curie  real_label longest_annotation_curie  \\\n",
       "0            missing            None        None                     None   \n",
       "1               soil            None        None            ENVO:00001998   \n",
       "2     not applicable            None        None                     None   \n",
       "3      not collected            None        None                     None   \n",
       "4       forest biome            None        None            ENVO:01000174   \n",
       "...              ...             ...         ...                      ...   \n",
       "7432     plain biome   ENVO:00000254  till plain            ENVO:00000086   \n",
       "7433     plain biome   ENVO:00000254  till plain            ENVO:00000086   \n",
       "7434     plain biome   ENVO:00000254  till plain            ENVO:00000086   \n",
       "7435     plain biome   ENVO:00000254  till plain            ENVO:00000086   \n",
       "7436     plain biome   ENVO:00000254  till plain            ENVO:00000086   \n",
       "\n",
       "     longest_annotation_label                      curie_list  \\\n",
       "0                        None                              []   \n",
       "1                        soil                 [ENVO:00001998]   \n",
       "2                        None                              []   \n",
       "3                        None                              []   \n",
       "4                forest biome                 [ENVO:01000174]   \n",
       "...                       ...                             ...   \n",
       "7432                    plain  [ENVO:00000254, ENVO:00000086]   \n",
       "7433                    plain  [ENVO:00000254, ENVO:00000086]   \n",
       "7434                    plain  [ENVO:00000254, ENVO:00000086]   \n",
       "7435                    plain  [ENVO:00000254, ENVO:00000086]   \n",
       "7436                    plain  [ENVO:00000254, ENVO:00000086]   \n",
       "\n",
       "      unique_curie_count drag_evidence dragless_curie_list  \\\n",
       "0                      0           NaN                  []   \n",
       "1                      1           NaN     [ENVO:00001998]   \n",
       "2                      0           NaN                  []   \n",
       "3                      0           NaN                  []   \n",
       "4                      1           NaN     [ENVO:01000174]   \n",
       "...                  ...           ...                 ...   \n",
       "7432                   2           NaN     [ENVO:00000086]   \n",
       "7433                   2           NaN     [ENVO:00000254]   \n",
       "7434                   2           NaN     [ENVO:00000086]   \n",
       "7435                   2           NaN     [ENVO:00000254]   \n",
       "7436                   2           NaN     [ENVO:00000086]   \n",
       "\n",
       "      dragless_curie_count  \n",
       "0                        0  \n",
       "1                        1  \n",
       "2                        0  \n",
       "3                        0  \n",
       "4                        1  \n",
       "...                    ...  \n",
       "7432                     2  \n",
       "7433                     2  \n",
       "7434                     2  \n",
       "7435                     2  \n",
       "7436                     2  \n",
       "\n",
       "[7437 rows x 16 columns]"
      ],
      "text/html": [
       "<div>\n",
       "<style scoped>\n",
       "    .dataframe tbody tr th:only-of-type {\n",
       "        vertical-align: middle;\n",
       "    }\n",
       "\n",
       "    .dataframe tbody tr th {\n",
       "        vertical-align: top;\n",
       "    }\n",
       "\n",
       "    .dataframe thead th {\n",
       "        text-align: right;\n",
       "    }\n",
       "</style>\n",
       "<table border=\"1\" class=\"dataframe\">\n",
       "  <thead>\n",
       "    <tr style=\"text-align: right;\">\n",
       "      <th></th>\n",
       "      <th>serial_number</th>\n",
       "      <th>content</th>\n",
       "      <th>sample_count</th>\n",
       "      <th>content_list</th>\n",
       "      <th>content_count</th>\n",
       "      <th>envo_count</th>\n",
       "      <th>extracted_label</th>\n",
       "      <th>extracted_curie</th>\n",
       "      <th>real_label</th>\n",
       "      <th>longest_annotation_curie</th>\n",
       "      <th>longest_annotation_label</th>\n",
       "      <th>curie_list</th>\n",
       "      <th>unique_curie_count</th>\n",
       "      <th>drag_evidence</th>\n",
       "      <th>dragless_curie_list</th>\n",
       "      <th>dragless_curie_count</th>\n",
       "    </tr>\n",
       "  </thead>\n",
       "  <tbody>\n",
       "    <tr>\n",
       "      <th>0</th>\n",
       "      <td>2</td>\n",
       "      <td>missing</td>\n",
       "      <td>12170</td>\n",
       "      <td>missing</td>\n",
       "      <td>1</td>\n",
       "      <td>0</td>\n",
       "      <td>missing</td>\n",
       "      <td>None</td>\n",
       "      <td>None</td>\n",
       "      <td>None</td>\n",
       "      <td>None</td>\n",
       "      <td>[]</td>\n",
       "      <td>0</td>\n",
       "      <td>NaN</td>\n",
       "      <td>[]</td>\n",
       "      <td>0</td>\n",
       "    </tr>\n",
       "    <tr>\n",
       "      <th>1</th>\n",
       "      <td>3</td>\n",
       "      <td>soil</td>\n",
       "      <td>10370</td>\n",
       "      <td>soil</td>\n",
       "      <td>1</td>\n",
       "      <td>0</td>\n",
       "      <td>soil</td>\n",
       "      <td>None</td>\n",
       "      <td>None</td>\n",
       "      <td>ENVO:00001998</td>\n",
       "      <td>soil</td>\n",
       "      <td>[ENVO:00001998]</td>\n",
       "      <td>1</td>\n",
       "      <td>NaN</td>\n",
       "      <td>[ENVO:00001998]</td>\n",
       "      <td>1</td>\n",
       "    </tr>\n",
       "    <tr>\n",
       "      <th>2</th>\n",
       "      <td>4</td>\n",
       "      <td>not applicable</td>\n",
       "      <td>9683</td>\n",
       "      <td>not applicable</td>\n",
       "      <td>1</td>\n",
       "      <td>0</td>\n",
       "      <td>not applicable</td>\n",
       "      <td>None</td>\n",
       "      <td>None</td>\n",
       "      <td>None</td>\n",
       "      <td>None</td>\n",
       "      <td>[]</td>\n",
       "      <td>0</td>\n",
       "      <td>NaN</td>\n",
       "      <td>[]</td>\n",
       "      <td>0</td>\n",
       "    </tr>\n",
       "    <tr>\n",
       "      <th>3</th>\n",
       "      <td>5</td>\n",
       "      <td>not collected</td>\n",
       "      <td>6404</td>\n",
       "      <td>not collected</td>\n",
       "      <td>1</td>\n",
       "      <td>0</td>\n",
       "      <td>not collected</td>\n",
       "      <td>None</td>\n",
       "      <td>None</td>\n",
       "      <td>None</td>\n",
       "      <td>None</td>\n",
       "      <td>[]</td>\n",
       "      <td>0</td>\n",
       "      <td>NaN</td>\n",
       "      <td>[]</td>\n",
       "      <td>0</td>\n",
       "    </tr>\n",
       "    <tr>\n",
       "      <th>4</th>\n",
       "      <td>6</td>\n",
       "      <td>forest biome</td>\n",
       "      <td>6373</td>\n",
       "      <td>forest biome</td>\n",
       "      <td>1</td>\n",
       "      <td>0</td>\n",
       "      <td>forest biome</td>\n",
       "      <td>None</td>\n",
       "      <td>None</td>\n",
       "      <td>ENVO:01000174</td>\n",
       "      <td>forest biome</td>\n",
       "      <td>[ENVO:01000174]</td>\n",
       "      <td>1</td>\n",
       "      <td>NaN</td>\n",
       "      <td>[ENVO:01000174]</td>\n",
       "      <td>1</td>\n",
       "    </tr>\n",
       "    <tr>\n",
       "      <th>...</th>\n",
       "      <td>...</td>\n",
       "      <td>...</td>\n",
       "      <td>...</td>\n",
       "      <td>...</td>\n",
       "      <td>...</td>\n",
       "      <td>...</td>\n",
       "      <td>...</td>\n",
       "      <td>...</td>\n",
       "      <td>...</td>\n",
       "      <td>...</td>\n",
       "      <td>...</td>\n",
       "      <td>...</td>\n",
       "      <td>...</td>\n",
       "      <td>...</td>\n",
       "      <td>...</td>\n",
       "      <td>...</td>\n",
       "    </tr>\n",
       "    <tr>\n",
       "      <th>7432</th>\n",
       "      <td>7156</td>\n",
       "      <td>plain biome [ENVO:00000254]|agricultural biome...</td>\n",
       "      <td>1</td>\n",
       "      <td>plain biome [ENVO:00000254]</td>\n",
       "      <td>2</td>\n",
       "      <td>1</td>\n",
       "      <td>plain biome</td>\n",
       "      <td>ENVO:00000254</td>\n",
       "      <td>till plain</td>\n",
       "      <td>ENVO:00000086</td>\n",
       "      <td>plain</td>\n",
       "      <td>[ENVO:00000254, ENVO:00000086]</td>\n",
       "      <td>2</td>\n",
       "      <td>NaN</td>\n",
       "      <td>[ENVO:00000086]</td>\n",
       "      <td>2</td>\n",
       "    </tr>\n",
       "    <tr>\n",
       "      <th>7433</th>\n",
       "      <td>7157</td>\n",
       "      <td>plain biome [ENVO:00000254]|agricultural biome...</td>\n",
       "      <td>1</td>\n",
       "      <td>plain biome [ENVO:00000254]</td>\n",
       "      <td>2</td>\n",
       "      <td>1</td>\n",
       "      <td>plain biome</td>\n",
       "      <td>ENVO:00000254</td>\n",
       "      <td>till plain</td>\n",
       "      <td>ENVO:00000086</td>\n",
       "      <td>plain</td>\n",
       "      <td>[ENVO:00000254, ENVO:00000086]</td>\n",
       "      <td>2</td>\n",
       "      <td>NaN</td>\n",
       "      <td>[ENVO:00000254]</td>\n",
       "      <td>2</td>\n",
       "    </tr>\n",
       "    <tr>\n",
       "      <th>7434</th>\n",
       "      <td>7157</td>\n",
       "      <td>plain biome [ENVO:00000254]|agricultural biome...</td>\n",
       "      <td>1</td>\n",
       "      <td>plain biome [ENVO:00000254]</td>\n",
       "      <td>2</td>\n",
       "      <td>1</td>\n",
       "      <td>plain biome</td>\n",
       "      <td>ENVO:00000254</td>\n",
       "      <td>till plain</td>\n",
       "      <td>ENVO:00000086</td>\n",
       "      <td>plain</td>\n",
       "      <td>[ENVO:00000254, ENVO:00000086]</td>\n",
       "      <td>2</td>\n",
       "      <td>NaN</td>\n",
       "      <td>[ENVO:00000086]</td>\n",
       "      <td>2</td>\n",
       "    </tr>\n",
       "    <tr>\n",
       "      <th>7435</th>\n",
       "      <td>7158</td>\n",
       "      <td>plain biome [ENVO:00000254]|agricultural biome...</td>\n",
       "      <td>1</td>\n",
       "      <td>plain biome [ENVO:00000254]</td>\n",
       "      <td>2</td>\n",
       "      <td>1</td>\n",
       "      <td>plain biome</td>\n",
       "      <td>ENVO:00000254</td>\n",
       "      <td>till plain</td>\n",
       "      <td>ENVO:00000086</td>\n",
       "      <td>plain</td>\n",
       "      <td>[ENVO:00000254, ENVO:00000086]</td>\n",
       "      <td>2</td>\n",
       "      <td>NaN</td>\n",
       "      <td>[ENVO:00000254]</td>\n",
       "      <td>2</td>\n",
       "    </tr>\n",
       "    <tr>\n",
       "      <th>7436</th>\n",
       "      <td>7158</td>\n",
       "      <td>plain biome [ENVO:00000254]|agricultural biome...</td>\n",
       "      <td>1</td>\n",
       "      <td>plain biome [ENVO:00000254]</td>\n",
       "      <td>2</td>\n",
       "      <td>1</td>\n",
       "      <td>plain biome</td>\n",
       "      <td>ENVO:00000254</td>\n",
       "      <td>till plain</td>\n",
       "      <td>ENVO:00000086</td>\n",
       "      <td>plain</td>\n",
       "      <td>[ENVO:00000254, ENVO:00000086]</td>\n",
       "      <td>2</td>\n",
       "      <td>NaN</td>\n",
       "      <td>[ENVO:00000086]</td>\n",
       "      <td>2</td>\n",
       "    </tr>\n",
       "  </tbody>\n",
       "</table>\n",
       "<p>7437 rows × 16 columns</p>\n",
       "</div>"
      ]
     },
     "execution_count": 163,
     "metadata": {},
     "output_type": "execute_result"
    }
   ],
   "execution_count": 163
  },
  {
   "cell_type": "code",
   "id": "be53a584475499b5",
   "metadata": {
    "ExecuteTime": {
     "end_time": "2024-12-06T13:29:37.793320Z",
     "start_time": "2024-12-06T13:29:37.787186Z"
    }
   },
   "source": [
    "ncbi_disputes_exploded_frame['post_explode_curie_count'] = ncbi_disputes_exploded_frame['dragless_curie_list'].apply(len)"
   ],
   "outputs": [],
   "execution_count": 164
  },
  {
   "cell_type": "code",
   "id": "e0c0605a4ca28188",
   "metadata": {
    "ExecuteTime": {
     "end_time": "2024-12-06T13:29:37.859133Z",
     "start_time": "2024-12-06T13:29:37.853821Z"
    }
   },
   "source": [
    "ncbi_disputes_exploded_frame['post_explode_curie_count'].value_counts()"
   ],
   "outputs": [
    {
     "data": {
      "text/plain": [
       "post_explode_curie_count\n",
       "1    4972\n",
       "0    2465\n",
       "Name: count, dtype: int64"
      ]
     },
     "execution_count": 165,
     "metadata": {},
     "output_type": "execute_result"
    }
   ],
   "execution_count": 165
  },
  {
   "cell_type": "code",
   "id": "396e48f3cea80587",
   "metadata": {
    "ExecuteTime": {
     "end_time": "2024-12-06T13:29:37.926292Z",
     "start_time": "2024-12-06T13:29:37.919507Z"
    }
   },
   "source": [
    "# Set 'post_explode_curie' to the 0th item in 'dragless_curie_list'\n",
    "ncbi_disputes_exploded_frame[\"post_explode_curie\"] = ncbi_disputes_exploded_frame[\"dragless_curie_list\"].apply(\n",
    "    lambda x: x[0] if isinstance(x, list) and len(x) > 0 else None\n",
    ")"
   ],
   "outputs": [],
   "execution_count": 166
  },
  {
   "cell_type": "code",
   "id": "1e488764b4212b75",
   "metadata": {
    "ExecuteTime": {
     "end_time": "2024-12-06T13:29:37.984758Z",
     "start_time": "2024-12-06T13:29:37.977258Z"
    }
   },
   "source": [
    "\n",
    "ncbi_biosample_scoped_counts = (\n",
    "    ncbi_disputes_exploded_frame.groupby(\"post_explode_curie\")[\"sample_count\"].sum().reset_index()\n",
    ")\n",
    "\n",
    "ncbi_biosample_scoped_counts.columns = ['curie', 'ncbi_scoped_count']"
   ],
   "outputs": [],
   "execution_count": 167
  },
  {
   "cell_type": "code",
   "id": "916cfcc3c7aa0d34",
   "metadata": {
    "ExecuteTime": {
     "end_time": "2024-12-06T13:29:38.148209Z",
     "start_time": "2024-12-06T13:29:38.138061Z"
    }
   },
   "source": [
    "ncbi_biosample_scoped_counts"
   ],
   "outputs": [
    {
     "data": {
      "text/plain": [
       "               curie  ncbi_scoped_count\n",
       "0        BFO:0000029                109\n",
       "1       CHEBI:140503                  1\n",
       "2        CHEBI:15377                 44\n",
       "3        CHEBI:16183                  1\n",
       "4        CHEBI:22695                  4\n",
       "...              ...                ...\n",
       "1168      RO:0001000                 30\n",
       "1169      RO:0002577                119\n",
       "1170  UBERON:0001988                 30\n",
       "1171  UBERON:0002416                  7\n",
       "1172  UBERON:0004529                 10\n",
       "\n",
       "[1173 rows x 2 columns]"
      ],
      "text/html": [
       "<div>\n",
       "<style scoped>\n",
       "    .dataframe tbody tr th:only-of-type {\n",
       "        vertical-align: middle;\n",
       "    }\n",
       "\n",
       "    .dataframe tbody tr th {\n",
       "        vertical-align: top;\n",
       "    }\n",
       "\n",
       "    .dataframe thead th {\n",
       "        text-align: right;\n",
       "    }\n",
       "</style>\n",
       "<table border=\"1\" class=\"dataframe\">\n",
       "  <thead>\n",
       "    <tr style=\"text-align: right;\">\n",
       "      <th></th>\n",
       "      <th>curie</th>\n",
       "      <th>ncbi_scoped_count</th>\n",
       "    </tr>\n",
       "  </thead>\n",
       "  <tbody>\n",
       "    <tr>\n",
       "      <th>0</th>\n",
       "      <td>BFO:0000029</td>\n",
       "      <td>109</td>\n",
       "    </tr>\n",
       "    <tr>\n",
       "      <th>1</th>\n",
       "      <td>CHEBI:140503</td>\n",
       "      <td>1</td>\n",
       "    </tr>\n",
       "    <tr>\n",
       "      <th>2</th>\n",
       "      <td>CHEBI:15377</td>\n",
       "      <td>44</td>\n",
       "    </tr>\n",
       "    <tr>\n",
       "      <th>3</th>\n",
       "      <td>CHEBI:16183</td>\n",
       "      <td>1</td>\n",
       "    </tr>\n",
       "    <tr>\n",
       "      <th>4</th>\n",
       "      <td>CHEBI:22695</td>\n",
       "      <td>4</td>\n",
       "    </tr>\n",
       "    <tr>\n",
       "      <th>...</th>\n",
       "      <td>...</td>\n",
       "      <td>...</td>\n",
       "    </tr>\n",
       "    <tr>\n",
       "      <th>1168</th>\n",
       "      <td>RO:0001000</td>\n",
       "      <td>30</td>\n",
       "    </tr>\n",
       "    <tr>\n",
       "      <th>1169</th>\n",
       "      <td>RO:0002577</td>\n",
       "      <td>119</td>\n",
       "    </tr>\n",
       "    <tr>\n",
       "      <th>1170</th>\n",
       "      <td>UBERON:0001988</td>\n",
       "      <td>30</td>\n",
       "    </tr>\n",
       "    <tr>\n",
       "      <th>1171</th>\n",
       "      <td>UBERON:0002416</td>\n",
       "      <td>7</td>\n",
       "    </tr>\n",
       "    <tr>\n",
       "      <th>1172</th>\n",
       "      <td>UBERON:0004529</td>\n",
       "      <td>10</td>\n",
       "    </tr>\n",
       "  </tbody>\n",
       "</table>\n",
       "<p>1173 rows × 2 columns</p>\n",
       "</div>"
      ]
     },
     "execution_count": 168,
     "metadata": {},
     "output_type": "execute_result"
    }
   ],
   "execution_count": 168
  },
  {
   "cell_type": "code",
   "id": "f4d8dc1053a5bb7e",
   "metadata": {
    "ExecuteTime": {
     "end_time": "2024-12-06T13:29:38.232632Z",
     "start_time": "2024-12-06T13:29:38.226658Z"
    }
   },
   "source": [
    "# Perform the left merge\n",
    "rows_frame = rows_frame.merge(\n",
    "    ncbi_biosample_scoped_counts,\n",
    "    left_on='curie',\n",
    "    right_on='curie',\n",
    "    how='left'\n",
    ")"
   ],
   "outputs": [],
   "execution_count": 169
  },
  {
   "cell_type": "code",
   "id": "c608fca3a6ed19c4",
   "metadata": {
    "ExecuteTime": {
     "end_time": "2024-12-06T13:29:38.306806Z",
     "start_time": "2024-12-06T13:29:38.288149Z"
    }
   },
   "source": [
    "rows_frame"
   ],
   "outputs": [
    {
     "data": {
      "text/plain": [
       "              curie                             label  envo_native  obsolete  \\\n",
       "0     ENVO:00002297    obsolete environmental feature         True      True   \n",
       "1      ENVO:0000472                              None        False     False   \n",
       "2     ENVO:01000210  tropical coniferous forest biome         True     False   \n",
       "3     ENVO:01000250  subpolar coniferous forest biome         True     False   \n",
       "4     ENVO:00002078                              None        False     False   \n",
       "...             ...                               ...          ...       ...   \n",
       "1575   ENVO:0000436                              None        False     False   \n",
       "1576  ENVO:01001790             terrestrial ecosystem         True     False   \n",
       "1577  ENVO:00005950                              None        False     False   \n",
       "1578  ENVO:01000245                    cropland biome         True     False   \n",
       "1579  ENVO:00002184               subsurface landform         True     False   \n",
       "\n",
       "      EnvBroadScaleSoilEnum_10_7  ancestors_in_enum_count  \\\n",
       "0                          False                        0   \n",
       "1                          False                        0   \n",
       "2                          False                        2   \n",
       "3                          False                        2   \n",
       "4                          False                        0   \n",
       "...                          ...                      ...   \n",
       "1575                       False                        0   \n",
       "1576                       False                        0   \n",
       "1577                       False                        0   \n",
       "1578                       False                        2   \n",
       "1579                       False                        0   \n",
       "\n",
       "      descendants_in_enum_count    abp  env_sys  biome  terrestrial_biome  \\\n",
       "0                             0  False    False  False              False   \n",
       "1                             0  False    False  False              False   \n",
       "2                             0   True     True   True               True   \n",
       "3                             0   True     True   True               True   \n",
       "4                             0  False    False  False              False   \n",
       "...                         ...    ...      ...    ...                ...   \n",
       "1575                          0  False    False  False              False   \n",
       "1576                         26   True     True  False              False   \n",
       "1577                          0  False    False  False              False   \n",
       "1578                          0   True     True   True               True   \n",
       "1579                          0   True    False  False              False   \n",
       "\n",
       "      aquatic_biome  env_mat  goldterms_mappings  nmdc_scoped_count  \\\n",
       "0             False    False               False                NaN   \n",
       "1             False    False               False                NaN   \n",
       "2             False    False               False                NaN   \n",
       "3             False    False                True               31.0   \n",
       "4             False    False               False                NaN   \n",
       "...             ...      ...                 ...                ...   \n",
       "1575          False    False               False                NaN   \n",
       "1576          False    False               False                NaN   \n",
       "1577          False    False               False                NaN   \n",
       "1578          False    False               False                9.0   \n",
       "1579          False    False               False                NaN   \n",
       "\n",
       "      gold_hybrid_count  ncbi_scoped_count  \n",
       "0                   NaN                1.0  \n",
       "1                   NaN                3.0  \n",
       "2                   NaN                NaN  \n",
       "3                  12.0             2953.0  \n",
       "4                   NaN                1.0  \n",
       "...                 ...                ...  \n",
       "1575                NaN                3.0  \n",
       "1576                NaN              562.0  \n",
       "1577                NaN                NaN  \n",
       "1578                NaN             3120.0  \n",
       "1579                NaN                1.0  \n",
       "\n",
       "[1580 rows x 17 columns]"
      ],
      "text/html": [
       "<div>\n",
       "<style scoped>\n",
       "    .dataframe tbody tr th:only-of-type {\n",
       "        vertical-align: middle;\n",
       "    }\n",
       "\n",
       "    .dataframe tbody tr th {\n",
       "        vertical-align: top;\n",
       "    }\n",
       "\n",
       "    .dataframe thead th {\n",
       "        text-align: right;\n",
       "    }\n",
       "</style>\n",
       "<table border=\"1\" class=\"dataframe\">\n",
       "  <thead>\n",
       "    <tr style=\"text-align: right;\">\n",
       "      <th></th>\n",
       "      <th>curie</th>\n",
       "      <th>label</th>\n",
       "      <th>envo_native</th>\n",
       "      <th>obsolete</th>\n",
       "      <th>EnvBroadScaleSoilEnum_10_7</th>\n",
       "      <th>ancestors_in_enum_count</th>\n",
       "      <th>descendants_in_enum_count</th>\n",
       "      <th>abp</th>\n",
       "      <th>env_sys</th>\n",
       "      <th>biome</th>\n",
       "      <th>terrestrial_biome</th>\n",
       "      <th>aquatic_biome</th>\n",
       "      <th>env_mat</th>\n",
       "      <th>goldterms_mappings</th>\n",
       "      <th>nmdc_scoped_count</th>\n",
       "      <th>gold_hybrid_count</th>\n",
       "      <th>ncbi_scoped_count</th>\n",
       "    </tr>\n",
       "  </thead>\n",
       "  <tbody>\n",
       "    <tr>\n",
       "      <th>0</th>\n",
       "      <td>ENVO:00002297</td>\n",
       "      <td>obsolete environmental feature</td>\n",
       "      <td>True</td>\n",
       "      <td>True</td>\n",
       "      <td>False</td>\n",
       "      <td>0</td>\n",
       "      <td>0</td>\n",
       "      <td>False</td>\n",
       "      <td>False</td>\n",
       "      <td>False</td>\n",
       "      <td>False</td>\n",
       "      <td>False</td>\n",
       "      <td>False</td>\n",
       "      <td>False</td>\n",
       "      <td>NaN</td>\n",
       "      <td>NaN</td>\n",
       "      <td>1.0</td>\n",
       "    </tr>\n",
       "    <tr>\n",
       "      <th>1</th>\n",
       "      <td>ENVO:0000472</td>\n",
       "      <td>None</td>\n",
       "      <td>False</td>\n",
       "      <td>False</td>\n",
       "      <td>False</td>\n",
       "      <td>0</td>\n",
       "      <td>0</td>\n",
       "      <td>False</td>\n",
       "      <td>False</td>\n",
       "      <td>False</td>\n",
       "      <td>False</td>\n",
       "      <td>False</td>\n",
       "      <td>False</td>\n",
       "      <td>False</td>\n",
       "      <td>NaN</td>\n",
       "      <td>NaN</td>\n",
       "      <td>3.0</td>\n",
       "    </tr>\n",
       "    <tr>\n",
       "      <th>2</th>\n",
       "      <td>ENVO:01000210</td>\n",
       "      <td>tropical coniferous forest biome</td>\n",
       "      <td>True</td>\n",
       "      <td>False</td>\n",
       "      <td>False</td>\n",
       "      <td>2</td>\n",
       "      <td>0</td>\n",
       "      <td>True</td>\n",
       "      <td>True</td>\n",
       "      <td>True</td>\n",
       "      <td>True</td>\n",
       "      <td>False</td>\n",
       "      <td>False</td>\n",
       "      <td>False</td>\n",
       "      <td>NaN</td>\n",
       "      <td>NaN</td>\n",
       "      <td>NaN</td>\n",
       "    </tr>\n",
       "    <tr>\n",
       "      <th>3</th>\n",
       "      <td>ENVO:01000250</td>\n",
       "      <td>subpolar coniferous forest biome</td>\n",
       "      <td>True</td>\n",
       "      <td>False</td>\n",
       "      <td>False</td>\n",
       "      <td>2</td>\n",
       "      <td>0</td>\n",
       "      <td>True</td>\n",
       "      <td>True</td>\n",
       "      <td>True</td>\n",
       "      <td>True</td>\n",
       "      <td>False</td>\n",
       "      <td>False</td>\n",
       "      <td>True</td>\n",
       "      <td>31.0</td>\n",
       "      <td>12.0</td>\n",
       "      <td>2953.0</td>\n",
       "    </tr>\n",
       "    <tr>\n",
       "      <th>4</th>\n",
       "      <td>ENVO:00002078</td>\n",
       "      <td>None</td>\n",
       "      <td>False</td>\n",
       "      <td>False</td>\n",
       "      <td>False</td>\n",
       "      <td>0</td>\n",
       "      <td>0</td>\n",
       "      <td>False</td>\n",
       "      <td>False</td>\n",
       "      <td>False</td>\n",
       "      <td>False</td>\n",
       "      <td>False</td>\n",
       "      <td>False</td>\n",
       "      <td>False</td>\n",
       "      <td>NaN</td>\n",
       "      <td>NaN</td>\n",
       "      <td>1.0</td>\n",
       "    </tr>\n",
       "    <tr>\n",
       "      <th>...</th>\n",
       "      <td>...</td>\n",
       "      <td>...</td>\n",
       "      <td>...</td>\n",
       "      <td>...</td>\n",
       "      <td>...</td>\n",
       "      <td>...</td>\n",
       "      <td>...</td>\n",
       "      <td>...</td>\n",
       "      <td>...</td>\n",
       "      <td>...</td>\n",
       "      <td>...</td>\n",
       "      <td>...</td>\n",
       "      <td>...</td>\n",
       "      <td>...</td>\n",
       "      <td>...</td>\n",
       "      <td>...</td>\n",
       "      <td>...</td>\n",
       "    </tr>\n",
       "    <tr>\n",
       "      <th>1575</th>\n",
       "      <td>ENVO:0000436</td>\n",
       "      <td>None</td>\n",
       "      <td>False</td>\n",
       "      <td>False</td>\n",
       "      <td>False</td>\n",
       "      <td>0</td>\n",
       "      <td>0</td>\n",
       "      <td>False</td>\n",
       "      <td>False</td>\n",
       "      <td>False</td>\n",
       "      <td>False</td>\n",
       "      <td>False</td>\n",
       "      <td>False</td>\n",
       "      <td>False</td>\n",
       "      <td>NaN</td>\n",
       "      <td>NaN</td>\n",
       "      <td>3.0</td>\n",
       "    </tr>\n",
       "    <tr>\n",
       "      <th>1576</th>\n",
       "      <td>ENVO:01001790</td>\n",
       "      <td>terrestrial ecosystem</td>\n",
       "      <td>True</td>\n",
       "      <td>False</td>\n",
       "      <td>False</td>\n",
       "      <td>0</td>\n",
       "      <td>26</td>\n",
       "      <td>True</td>\n",
       "      <td>True</td>\n",
       "      <td>False</td>\n",
       "      <td>False</td>\n",
       "      <td>False</td>\n",
       "      <td>False</td>\n",
       "      <td>False</td>\n",
       "      <td>NaN</td>\n",
       "      <td>NaN</td>\n",
       "      <td>562.0</td>\n",
       "    </tr>\n",
       "    <tr>\n",
       "      <th>1577</th>\n",
       "      <td>ENVO:00005950</td>\n",
       "      <td>None</td>\n",
       "      <td>False</td>\n",
       "      <td>False</td>\n",
       "      <td>False</td>\n",
       "      <td>0</td>\n",
       "      <td>0</td>\n",
       "      <td>False</td>\n",
       "      <td>False</td>\n",
       "      <td>False</td>\n",
       "      <td>False</td>\n",
       "      <td>False</td>\n",
       "      <td>False</td>\n",
       "      <td>False</td>\n",
       "      <td>NaN</td>\n",
       "      <td>NaN</td>\n",
       "      <td>NaN</td>\n",
       "    </tr>\n",
       "    <tr>\n",
       "      <th>1578</th>\n",
       "      <td>ENVO:01000245</td>\n",
       "      <td>cropland biome</td>\n",
       "      <td>True</td>\n",
       "      <td>False</td>\n",
       "      <td>False</td>\n",
       "      <td>2</td>\n",
       "      <td>0</td>\n",
       "      <td>True</td>\n",
       "      <td>True</td>\n",
       "      <td>True</td>\n",
       "      <td>True</td>\n",
       "      <td>False</td>\n",
       "      <td>False</td>\n",
       "      <td>False</td>\n",
       "      <td>9.0</td>\n",
       "      <td>NaN</td>\n",
       "      <td>3120.0</td>\n",
       "    </tr>\n",
       "    <tr>\n",
       "      <th>1579</th>\n",
       "      <td>ENVO:00002184</td>\n",
       "      <td>subsurface landform</td>\n",
       "      <td>True</td>\n",
       "      <td>False</td>\n",
       "      <td>False</td>\n",
       "      <td>0</td>\n",
       "      <td>0</td>\n",
       "      <td>True</td>\n",
       "      <td>False</td>\n",
       "      <td>False</td>\n",
       "      <td>False</td>\n",
       "      <td>False</td>\n",
       "      <td>False</td>\n",
       "      <td>False</td>\n",
       "      <td>NaN</td>\n",
       "      <td>NaN</td>\n",
       "      <td>1.0</td>\n",
       "    </tr>\n",
       "  </tbody>\n",
       "</table>\n",
       "<p>1580 rows × 17 columns</p>\n",
       "</div>"
      ]
     },
     "execution_count": 170,
     "metadata": {},
     "output_type": "execute_result"
    }
   ],
   "execution_count": 170
  },
  {
   "cell_type": "code",
   "id": "b7a26a1b879188a4",
   "metadata": {
    "ExecuteTime": {
     "end_time": "2024-12-06T13:29:38.395328Z",
     "start_time": "2024-12-06T13:29:38.382976Z"
    }
   },
   "source": [
    "rows_frame.to_csv(output_file_name, sep=\"\\t\", index=False)"
   ],
   "outputs": [],
   "execution_count": 171
  }
 ],
 "metadata": {
  "kernelspec": {
   "display_name": "Python 3 (ipykernel)",
   "language": "python",
   "name": "python3"
  },
  "language_info": {
   "codemirror_mode": {
    "name": "ipython",
    "version": 3
   },
   "file_extension": ".py",
   "mimetype": "text/x-python",
   "name": "python",
   "nbconvert_exporter": "python",
   "pygments_lexer": "ipython3",
   "version": "3.10.13"
  }
 },
 "nbformat": 4,
 "nbformat_minor": 5
}
