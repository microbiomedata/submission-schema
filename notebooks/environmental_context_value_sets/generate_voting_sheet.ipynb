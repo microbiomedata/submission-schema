{
 "cells": [
  {
   "cell_type": "code",
   "id": "630126a7790cc3a7",
   "metadata": {
    "ExecuteTime": {
     "end_time": "2024-11-21T13:38:53.168444Z",
     "start_time": "2024-11-21T13:38:49.213486Z"
    }
   },
   "source": [
    "from common import *\n",
    "\n",
    "import gzip\n",
    "import os\n",
    "import shutil\n",
    "import sqlite3\n",
    "from urllib.parse import urlparse\n",
    "\n",
    "import duckdb\n",
    "import pandas as pd\n",
    "import requests\n",
    "from oaklib import get_adapter\n",
    "from oaklib.datamodels.vocabulary import IS_A\n",
    "from scipy.sparse import hstack\n",
    "from sklearn.ensemble import RandomForestClassifier\n",
    "from sklearn.metrics import classification_report\n",
    "from sklearn.model_selection import train_test_split\n",
    "\n",
    "import yaml\n"
   ],
   "outputs": [],
   "execution_count": 1
  },
  {
   "cell_type": "code",
   "id": "7b0ae730412c28ca",
   "metadata": {
    "ExecuteTime": {
     "end_time": "2024-11-21T13:38:53.176167Z",
     "start_time": "2024-11-21T13:38:53.172487Z"
    }
   },
   "source": [
    "print(\"verify output is being rendered\")"
   ],
   "outputs": [
    {
     "name": "stdout",
     "output_type": "stream",
     "text": [
      "verify output is being rendered\n"
     ]
    }
   ],
   "execution_count": 2
  },
  {
   "cell_type": "code",
   "id": "f952b5888d2c5f0d",
   "metadata": {
    "ExecuteTime": {
     "end_time": "2024-11-21T13:38:53.334418Z",
     "start_time": "2024-11-21T13:38:53.330774Z"
    }
   },
   "source": [
    "# Initialize cache dictionaries for predict_from_normalized_env_packages\n",
    "# todo how to move the definitions for function that use these globals? Or just use caching arrond the function?\n",
    "ancestor_cache = {}\n",
    "descendant_cache = {}"
   ],
   "outputs": [],
   "execution_count": 3
  },
  {
   "cell_type": "code",
   "id": "5001cbd978bbdd28",
   "metadata": {
    "ExecuteTime": {
     "end_time": "2024-11-21T13:38:53.394932Z",
     "start_time": "2024-11-21T13:38:53.391707Z"
    }
   },
   "source": [
    "# todo deal with circularity in env package prediction -> env triad reporting\n",
    "\n",
    "# todo the on-demand NCBI curie extraction and annotation recapitulates this shared work\n",
    "#   although that doesn't detect auto-incremented curies from  spreadsheet dragging\n",
    "\n",
    "# todo if more caching is desired, it should probably take the form of saving dataframes for TSV\n",
    "\n",
    "# todo include gold-envo mappings whether they are used by any gold samples or not\n",
    "\n",
    "# eventually, dig up a complete JSON gold biosample dump\n",
    "\n",
    "# overall run time (if NCBI biosamples and goldData are cached)"
   ],
   "outputs": [],
   "execution_count": 4
  },
  {
   "cell_type": "markdown",
   "id": "2ef284816f7ce9d6",
   "metadata": {},
   "source": [
    "# Task Settings\n",
    "_For making a Soil env_broad_scale voting sheet vs a Sediment env_local_scale sheet, etc._"
   ]
  },
  {
   "cell_type": "code",
   "id": "95f7efc06f20987a",
   "metadata": {
    "ExecuteTime": {
     "end_time": "2024-11-21T13:38:53.440997Z",
     "start_time": "2024-11-21T13:38:53.437967Z"
    }
   },
   "source": [
    "# ANCHOR_CURIE = 'ENVO:00000428' # biome for env_broad_scale\n",
    "# ANCHOR_CURIE = 'ENVO:01000813' # astronomical body part \"abp\" for env_local_scale\n",
    "ANCHOR_CURIE = 'ENVO:00010483' # environmental material for env_medium"
   ],
   "outputs": [],
   "execution_count": 5
  },
  {
   "cell_type": "code",
   "id": "be00ed63d6472ead",
   "metadata": {
    "ExecuteTime": {
     "end_time": "2024-11-21T13:38:53.500534Z",
     "start_time": "2024-11-21T13:38:53.489875Z"
    }
   },
   "source": "gold_scope = 'mixs:env_medium'",
   "outputs": [],
   "execution_count": 6
  },
  {
   "cell_type": "code",
   "id": "eda591e14a91cd01",
   "metadata": {
    "ExecuteTime": {
     "end_time": "2024-11-21T13:38:53.548397Z",
     "start_time": "2024-11-21T13:38:53.544960Z"
    }
   },
   "source": [
    "GOLDTERMS_NA = '' # ???\n",
    "\n",
    "GOLDTERMS_PLANT_ASSOCIATED = GOLDTERMS_NA\n",
    "GOLDTERMS_SEDIMENT = 'GOLDTERMS:3985' #  doesn't have any subclasses\n",
    "GOLDTERMS_SOIL = 'GOLDTERMS:4212'\n",
    "GOLDTERMS_WATER = 'GOLDTERMS:3984'\n",
    "\n",
    "# GOLDTERMS:4180, 'Environmental > Aquatic > Freshwater > Pond > Sediment' and ~64 more don't share a common root\n",
    "# poetry run runoak -i sqlite:obo:goldterms info 't~sediment'\n"
   ],
   "outputs": [],
   "execution_count": 7
  },
  {
   "cell_type": "code",
   "id": "bba8bf1e75430ef",
   "metadata": {
    "ExecuteTime": {
     "end_time": "2024-11-21T13:38:53.606441Z",
     "start_time": "2024-11-21T13:38:53.596793Z"
    }
   },
   "source": "GOLDTERMS_ROOT = GOLDTERMS_WATER",
   "outputs": [],
   "execution_count": 8
  },
  {
   "cell_type": "code",
   "id": "7aa7b42c3f20ce44",
   "metadata": {
    "ExecuteTime": {
     "end_time": "2024-11-21T13:38:53.660531Z",
     "start_time": "2024-11-21T13:38:53.657367Z"
    }
   },
   "source": "ncbi_scope = 'env_medium'",
   "outputs": [],
   "execution_count": 9
  },
  {
   "cell_type": "code",
   "id": "f5654d6f9319576b",
   "metadata": {
    "ExecuteTime": {
     "end_time": "2024-11-21T13:38:53.719542Z",
     "start_time": "2024-11-21T13:38:53.709786Z"
    }
   },
   "source": [
    "# todo new since soil: why are we only considering MIMS.me for discovering appropriate env triad values?\n",
    "\n",
    "# NCBI_PACKAGE = 'MIMS.me.plant-associated.6.0'\n",
    "# NCBI_PACKAGE = 'MIMS.me.sediment.6.0'\n",
    "# NCBI_PACKAGE = 'MIMS.me.soil.6.0'\n",
    "NCBI_PACKAGE = 'MIMS.me.water.6.0'"
   ],
   "outputs": [],
   "execution_count": 10
  },
  {
   "cell_type": "code",
   "id": "ce80b2d7e64e5710",
   "metadata": {
    "ExecuteTime": {
     "end_time": "2024-11-21T13:38:53.771407Z",
     "start_time": "2024-11-21T13:38:53.768290Z"
    }
   },
   "source": "nmdc_scope= 'env_medium_id'",
   "outputs": [],
   "execution_count": 11
  },
  {
   "cell_type": "code",
   "id": "5e358e42ad885188",
   "metadata": {
    "ExecuteTime": {
     "end_time": "2024-11-21T13:38:53.818731Z",
     "start_time": "2024-11-21T13:38:53.815391Z"
    }
   },
   "source": [
    "# TARGET_ENV_PACKAGE = 'plant-associated'\n",
    "# TARGET_ENV_PACKAGE = 'sediment'\n",
    "# TARGET_ENV_PACKAGE = 'soil'\n",
    "TARGET_ENV_PACKAGE = 'water'\n"
   ],
   "outputs": [],
   "execution_count": 12
  },
  {
   "cell_type": "code",
   "id": "20750df32ebb2033",
   "metadata": {
    "ExecuteTime": {
     "end_time": "2024-11-21T13:38:53.868168Z",
     "start_time": "2024-11-21T13:38:53.864123Z"
    }
   },
   "source": [
    "# only the Soil enums have legacy definitions\n",
    "\n",
    "# CONTEXT_ENUM = \"EnvBroadScaleSoilEnum\"\n",
    "# CONTEXT_ENUM = \"EnvLocalScaleSoilEnum\"\n",
    "# CONTEXT_ENUM = \"EnvMediumSoilEnum\"\n",
    "\n",
    "CONTEXT_ENUM = \"\""
   ],
   "outputs": [],
   "execution_count": 13
  },
  {
   "cell_type": "code",
   "id": "90bf7256a956701d",
   "metadata": {
    "ExecuteTime": {
     "end_time": "2024-11-21T13:38:53.916675Z",
     "start_time": "2024-11-21T13:38:53.912948Z"
    }
   },
   "source": "output_file_name = \"water_env_medium_rows_frame.tsv\"",
   "outputs": [],
   "execution_count": 14
  },
  {
   "cell_type": "markdown",
   "id": "b799aabdd66098c0",
   "metadata": {},
   "source": "# Additional Settings"
  },
  {
   "cell_type": "code",
   "id": "50e39f658f4bd77b",
   "metadata": {
    "ExecuteTime": {
     "end_time": "2024-11-21T13:38:53.964095Z",
     "start_time": "2024-11-21T13:38:53.960848Z"
    }
   },
   "source": [
    "# Approved prefixes (case-insensitive)\n",
    "approved_prefixes = ['ENVO']"
   ],
   "outputs": [],
   "execution_count": 15
  },
  {
   "cell_type": "code",
   "id": "3aa0b52456f0a95c",
   "metadata": {
    "ExecuteTime": {
     "end_time": "2024-11-21T13:38:54.015868Z",
     "start_time": "2024-11-21T13:38:54.008361Z"
    }
   },
   "source": [
    "MIN_ANNOTATION_LEN = 3"
   ],
   "outputs": [],
   "execution_count": 16
  },
  {
   "cell_type": "code",
   "id": "f588eccfcb2771ba",
   "metadata": {
    "ExecuteTime": {
     "end_time": "2024-11-21T13:38:54.072751Z",
     "start_time": "2024-11-21T13:38:54.069891Z"
    }
   },
   "source": [
    "previous_submission_schema_url = \"https://raw.githubusercontent.com/microbiomedata/submission-schema/v10.7.0/src/nmdc_submission_schema/schema/nmdc_submission_schema.yaml\""
   ],
   "outputs": [],
   "execution_count": 17
  },
  {
   "cell_type": "code",
   "id": "d526be618b8b9129",
   "metadata": {
    "ExecuteTime": {
     "end_time": "2024-11-21T13:38:54.123709Z",
     "start_time": "2024-11-21T13:38:54.120544Z"
    }
   },
   "source": [
    "NMDC_RUNTIME_BASE_URL = 'https://api.microbiomedata.org/nmdcschema/'\n",
    "STUDY_SET_COLLECTION = 'study_set'\n",
    "BIOSAMPLE_SET_COLLECTION = 'biosample_set'"
   ],
   "outputs": [],
   "execution_count": 18
  },
  {
   "cell_type": "code",
   "id": "11c0cba800e33ac6",
   "metadata": {
    "ExecuteTime": {
     "end_time": "2024-11-21T13:38:54.165069Z",
     "start_time": "2024-11-21T13:38:54.162090Z"
    }
   },
   "source": [
    "envo_adapter_string = \"sqlite:obo:envo\""
   ],
   "outputs": [],
   "execution_count": 19
  },
  {
   "cell_type": "code",
   "id": "daf9f023fbf97cde",
   "metadata": {
    "ExecuteTime": {
     "end_time": "2024-11-21T13:38:54.211630Z",
     "start_time": "2024-11-21T13:38:54.208901Z"
    }
   },
   "source": [
    "# goldterms_adapter_string = \"sqlite:obo:envo\""
   ],
   "outputs": [],
   "execution_count": 20
  },
  {
   "cell_type": "code",
   "id": "7795121f47307a00",
   "metadata": {
    "ExecuteTime": {
     "end_time": "2024-11-21T13:38:54.259418Z",
     "start_time": "2024-11-21T13:38:54.255538Z"
    }
   },
   "source": [
    "env_package_override_file = 'mam-env-package-overrides.tsv'\n",
    "override_column = 'mam_inferred_env_package'"
   ],
   "outputs": [],
   "execution_count": 21
  },
  {
   "cell_type": "code",
   "id": "f1b99451d88ce356",
   "metadata": {
    "ExecuteTime": {
     "end_time": "2024-11-21T13:38:54.309680Z",
     "start_time": "2024-11-21T13:38:54.306761Z"
    }
   },
   "source": [
    "ncbi_duckdb_url = 'https://portal.nersc.gov/project/m3408/biosamples_duckdb/ncbi_biosamples_2024-09-23.duckdb.gz'"
   ],
   "outputs": [],
   "execution_count": 22
  },
  {
   "cell_type": "code",
   "id": "51e5d41b02b19eec",
   "metadata": {
    "ExecuteTime": {
     "end_time": "2024-11-21T13:38:54.356804Z",
     "start_time": "2024-11-21T13:38:54.353632Z"
    }
   },
   "source": [
    "gold_data_url = \"https://gold.jgi.doe.gov/download?mode=site_excel\"\n",
    "gold_data_file_name = \"goldData.xlsx\" # goldData.xlsx: Microsoft Excel 2007+\n",
    "BIOSAMPLES_SHEET = \"Biosample\""
   ],
   "outputs": [],
   "execution_count": 23
  },
  {
   "cell_type": "code",
   "id": "e1d9f705fad2efa9",
   "metadata": {
    "ExecuteTime": {
     "end_time": "2024-11-21T13:38:54.403286Z",
     "start_time": "2024-11-21T13:38:54.400071Z"
    }
   },
   "source": [
    "goldterms_semsql_url = \"https://s3.amazonaws.com/bbop-sqlite/goldterms.db.gz\"\n"
   ],
   "outputs": [],
   "execution_count": 24
  },
  {
   "metadata": {},
   "cell_type": "markdown",
   "source": "# Settings-based Queries",
   "id": "7ecec14181910236"
  },
  {
   "cell_type": "code",
   "id": "4cdc7819c92bff3c",
   "metadata": {
    "ExecuteTime": {
     "end_time": "2024-11-21T13:38:54.451207Z",
     "start_time": "2024-11-21T13:38:54.447491Z"
    }
   },
   "source": [
    "goldterms_subclass_query = f\"\"\"\n",
    "select\n",
    "\tsubject\n",
    "from\n",
    "\tentailed_edge ee\n",
    "where\n",
    "\tpredicate = 'rdfs:subClassOf'\n",
    "\tand object = '{GOLDTERMS_ROOT}'\n",
    "\"\"\""
   ],
   "outputs": [],
   "execution_count": 25
  },
  {
   "cell_type": "code",
   "id": "fb8c7caf28e64d10",
   "metadata": {
    "ExecuteTime": {
     "end_time": "2024-11-21T13:38:54.507984Z",
     "start_time": "2024-11-21T13:38:54.500199Z"
    }
   },
   "source": [
    "# todo could this have been done with a OAK query, eliminating the need to explicitly download the file?\n",
    "\n",
    "goldterms_envo_query = f\"\"\"\n",
    "SELECT\n",
    "\t*\n",
    "FROM\n",
    "\tstatements s\n",
    "WHERE\n",
    "\tpredicate = '{gold_scope}'\"\"\""
   ],
   "outputs": [],
   "execution_count": 26
  },
  {
   "cell_type": "code",
   "id": "afd52cf83301de09",
   "metadata": {
    "ExecuteTime": {
     "end_time": "2024-11-21T13:38:54.555245Z",
     "start_time": "2024-11-21T13:38:54.551987Z"
    }
   },
   "source": [
    "ncbi_query = f\"\"\"\n",
    "SELECT content, COUNT(1) AS sample_count \n",
    "FROM attributes \n",
    "WHERE harmonized_name = '{ncbi_scope}' AND package_content = '{NCBI_PACKAGE}'\n",
    "GROUP BY content\n",
    "ORDER BY COUNT(1) DESC\n",
    "\"\"\""
   ],
   "outputs": [],
   "execution_count": 27
  },
  {
   "metadata": {},
   "cell_type": "markdown",
   "source": [
    "# Locally Defined Functions\n",
    "_Currently using locally-defined cache dictionaries_"
   ],
   "id": "6c4cf0d065a7de07"
  },
  {
   "cell_type": "code",
   "id": "38412bd611726160",
   "metadata": {
    "ExecuteTime": {
     "end_time": "2024-11-21T13:38:54.626810Z",
     "start_time": "2024-11-21T13:38:54.603779Z"
    }
   },
   "source": [
    "def predict_from_normalized_env_packages(df_raw, adapter):\n",
    "    # Apply the function to the relevant columns\n",
    "\n",
    "    df = df_raw.copy()\n",
    "\n",
    "    print(df.shape)\n",
    "    for column in ['env_broad_scale_id', 'env_local_scale_id', 'env_medium_id']:\n",
    "        df[f'{column}_ancestors'] = df[column].apply(lambda x: get_hierarchy_terms(x, adapter)['ancestors'])\n",
    "        df[f'{column}_descendants'] = df[column].apply(lambda x: get_hierarchy_terms(x, adapter)['descendants'])\n",
    "\n",
    "    # Vectorize each set of terms separately\n",
    "    broad_scale_ancestors = vectorize_terms(df, 'env_broad_scale_id_ancestors')\n",
    "    broad_scale_descendants = vectorize_terms(df, 'env_broad_scale_id_descendants')\n",
    "\n",
    "    local_scale_ancestors = vectorize_terms(df, 'env_local_scale_id_ancestors')\n",
    "    local_scale_descendants = vectorize_terms(df, 'env_local_scale_id_descendants')\n",
    "\n",
    "    medium_ancestors = vectorize_terms(df, 'env_medium_id_ancestors')\n",
    "    medium_descendants = vectorize_terms(df, 'env_medium_id_descendants')\n",
    "\n",
    "    # Combine all feature matrices\n",
    "    X = hstack([\n",
    "        broad_scale_ancestors,\n",
    "        broad_scale_descendants,\n",
    "        local_scale_ancestors,\n",
    "        local_scale_descendants,\n",
    "        medium_ancestors,\n",
    "        medium_descendants\n",
    "    ])\n",
    "\n",
    "    # Filter the DataFrame to only include non-null rows for the target column\n",
    "    df_filtered = df[df['normalized_env_package'].notnull() & (df['normalized_env_package'] != \"\")]\n",
    "\n",
    "    # Extract the target variable\n",
    "    y = df_filtered['normalized_env_package']\n",
    "\n",
    "    # Ensure X corresponds to the filtered rows\n",
    "    X_filtered = X[df_filtered.index]\n",
    "\n",
    "    # Split the data into training and testing sets\n",
    "    X_train, X_test, y_train, y_test = train_test_split(X_filtered, y, test_size=0.3, random_state=42)\n",
    "\n",
    "    # Train a Random Forest Classifier\n",
    "    clf = RandomForestClassifier(n_estimators=100, random_state=42)\n",
    "    clf.fit(X_train, y_train)\n",
    "\n",
    "    # Make predictions on the test set\n",
    "    y_pred = clf.predict(X_test)\n",
    "\n",
    "    # Evaluate the model\n",
    "    print(classification_report(y_test, y_pred))\n",
    "\n",
    "    # not determining confidence for each class nor saving any diagnostics any more\n",
    "\n",
    "    return clf.predict(X)"
   ],
   "outputs": [],
   "execution_count": 28
  },
  {
   "cell_type": "code",
   "id": "4515456aaeaa7980",
   "metadata": {
    "ExecuteTime": {
     "end_time": "2024-11-21T13:38:54.698465Z",
     "start_time": "2024-11-21T13:38:54.679091Z"
    }
   },
   "source": [
    "def get_hierarchy_terms(my_curie: str, adapter) -> dict:\n",
    "    \"\"\"\n",
    "    Extract ancestor and descendant terms from the ontology for a given CURIE,\n",
    "    using caching to improve performance and filtering by 'is_a' relationships.\n",
    "\n",
    "    Args:\n",
    "        my_curie (str): CURIE identifier for the ontology term.\n",
    "        adapter: Ontology adapter.\n",
    "\n",
    "    Returns:\n",
    "        dict: Dictionary containing lists of ancestor and descendant terms.\n",
    "    \"\"\"\n",
    "    if my_curie not in ancestor_cache:\n",
    "        try:\n",
    "            ancestors = list(adapter.ancestors(my_curie, predicates=[IS_A]))\n",
    "            ancestor_cache[my_curie] = [adapter.label(ancestor) for ancestor in ancestors if ancestor]\n",
    "        except Exception as my_e:\n",
    "            print(f\"Error retrieving ancestors for {my_curie}: {my_e}\")\n",
    "            ancestor_cache[my_curie] = []\n",
    "\n",
    "    if my_curie not in descendant_cache:\n",
    "        try:\n",
    "            descendants = list(adapter.descendants(my_curie, predicates=[IS_A]))\n",
    "            descendant_cache[my_curie] = [adapter.label(descendant) for descendant in descendants if descendant]\n",
    "        except Exception as my_e:\n",
    "            print(f\"Error retrieving descendants for {my_curie}: {my_e}\")\n",
    "            descendant_cache[my_curie] = []\n",
    "\n",
    "    return {\n",
    "        'ancestors': ancestor_cache[my_curie],\n",
    "        'descendants': descendant_cache[my_curie],\n",
    "    }"
   ],
   "outputs": [],
   "execution_count": 29
  },
  {
   "metadata": {},
   "cell_type": "markdown",
   "source": "# Procedural Code Starts Here",
   "id": "1423fbbafdf5e167"
  },
  {
   "cell_type": "code",
   "id": "44fb14c1b01ac34c",
   "metadata": {
    "ExecuteTime": {
     "end_time": "2024-11-21T13:38:54.762102Z",
     "start_time": "2024-11-21T13:38:54.746970Z"
    }
   },
   "source": [
    "# Determine the filenames and target directory for the NCBI DuckDB\n",
    "ncbi_compressed_filename = urlparse(ncbi_duckdb_url).path.split('/')[-1]\n",
    "ncbi_filename = os.path.splitext(ncbi_compressed_filename)[0]\n",
    "ncbi_compressed_file_path = os.path.join(ncbi_compressed_filename)\n",
    "ncbi_uncompressed_file_path = os.path.join(ncbi_filename)\n",
    "\n",
    "# target_dir = os.path.join('.') # just assume the files are downloaded into the same directory as the notebook"
   ],
   "outputs": [],
   "execution_count": 30
  },
  {
   "cell_type": "code",
   "id": "353ba83ec3059ac5",
   "metadata": {
    "ExecuteTime": {
     "end_time": "2024-11-21T13:38:54.825202Z",
     "start_time": "2024-11-21T13:38:54.808104Z"
    }
   },
   "source": [
    "if os.path.isfile(ncbi_uncompressed_file_path):\n",
    "    print(f\"{ncbi_uncompressed_file_path} is already present in the current working directory.\")\n",
    "else:\n",
    "    if os.path.isfile(ncbi_compressed_file_path):\n",
    "        print(f\"{ncbi_compressed_file_path} is already present in the current working directory.\")\n",
    "    else:\n",
    "        print(f\"{ncbi_compressed_file_path} needs to be downloaded\")\n",
    "        ncbi_response = requests.get(ncbi_duckdb_url)\n",
    "        with open(ncbi_compressed_file_path, \"wb\") as f:\n",
    "            f.write(ncbi_response.content)\n",
    "        # ~ 2 minutes @ 250 Mbps\n",
    "    \n",
    "    # Unzip the compressed file and save the extracted file in target directory\n",
    "    print(f\"{ncbi_compressed_file_path} needs to be unpacked\")\n",
    "    with gzip.open(ncbi_compressed_file_path, \"rb\") as f_in:\n",
    "        with open(ncbi_uncompressed_file_path, \"wb\") as f_out:\n",
    "            shutil.copyfileobj(f_in, f_out)\n",
    "\n",
    "    # ~ 2 minutes"
   ],
   "outputs": [
    {
     "name": "stdout",
     "output_type": "stream",
     "text": [
      "ncbi_biosamples_2024-09-23.duckdb is already present in the current working directory.\n"
     ]
    }
   ],
   "execution_count": 31
  },
  {
   "cell_type": "code",
   "id": "63f815cbfb9b7a6b",
   "metadata": {
    "ExecuteTime": {
     "end_time": "2024-11-21T13:38:54.930243Z",
     "start_time": "2024-11-21T13:38:54.898762Z"
    }
   },
   "source": [
    "ncbi_conn = duckdb.connect(database=ncbi_uncompressed_file_path, read_only=True)"
   ],
   "outputs": [],
   "execution_count": 32
  },
  {
   "cell_type": "code",
   "id": "198256f26bc060e3",
   "metadata": {
    "ExecuteTime": {
     "end_time": "2024-11-21T13:38:54.977255Z",
     "start_time": "2024-11-21T13:38:54.946970Z"
    }
   },
   "source": [
    "envo_adapter = get_adapter(envo_adapter_string)"
   ],
   "outputs": [],
   "execution_count": 33
  },
  {
   "cell_type": "code",
   "id": "e863dc687ce4be5c",
   "metadata": {
    "ExecuteTime": {
     "end_time": "2024-11-21T13:38:55.409993Z",
     "start_time": "2024-11-21T13:38:54.994830Z"
    }
   },
   "source": [
    "anchor_descendants = get_curie_descendants_label_dict(ANCHOR_CURIE, [IS_A], envo_adapter)"
   ],
   "outputs": [],
   "execution_count": 34
  },
  {
   "cell_type": "code",
   "id": "394abb56c4987eee",
   "metadata": {
    "ExecuteTime": {
     "end_time": "2024-11-21T13:38:55.424226Z",
     "start_time": "2024-11-21T13:38:55.421162Z"
    }
   },
   "source": [
    "anchor_descendants_lod = curie_descendants_label_dict_to_lod(anchor_descendants)"
   ],
   "outputs": [],
   "execution_count": 35
  },
  {
   "cell_type": "code",
   "id": "eea1a3f8395da0d7",
   "metadata": {
    "ExecuteTime": {
     "end_time": "2024-11-21T13:38:55.482382Z",
     "start_time": "2024-11-21T13:38:55.467483Z"
    }
   },
   "source": [
    "anchor_descendants_frame = curie_descendants_label_lod_to_df(anchor_descendants_lod)"
   ],
   "outputs": [],
   "execution_count": 36
  },
  {
   "cell_type": "code",
   "id": "f85faf81e0a55a42",
   "metadata": {
    "ExecuteTime": {
     "end_time": "2024-11-21T13:38:55.542252Z",
     "start_time": "2024-11-21T13:38:55.525498Z"
    }
   },
   "source": [
    "anchor_descendants_frame"
   ],
   "outputs": [
    {
     "data": {
      "text/plain": [
       "                curie                       label\n",
       "0     FOODON:00001838   fermented cereal beverage\n",
       "1       ENVO:02000111                  copper ore\n",
       "2       ENVO:01000480                       glass\n",
       "3     FOODON:03400865              soup (eurofir)\n",
       "4     FOODON:00001279     cake icing food product\n",
       "...               ...                         ...\n",
       "1095    ENVO:01001117              poultry manure\n",
       "1096    ENVO:00002117  creosote contaminated soil\n",
       "1097    ENVO:01001121                plant matter\n",
       "1098    ENVO:03605000          periphytic biofilm\n",
       "1099    ENVO:00001998                        soil\n",
       "\n",
       "[1100 rows x 2 columns]"
      ],
      "text/html": [
       "<div>\n",
       "<style scoped>\n",
       "    .dataframe tbody tr th:only-of-type {\n",
       "        vertical-align: middle;\n",
       "    }\n",
       "\n",
       "    .dataframe tbody tr th {\n",
       "        vertical-align: top;\n",
       "    }\n",
       "\n",
       "    .dataframe thead th {\n",
       "        text-align: right;\n",
       "    }\n",
       "</style>\n",
       "<table border=\"1\" class=\"dataframe\">\n",
       "  <thead>\n",
       "    <tr style=\"text-align: right;\">\n",
       "      <th></th>\n",
       "      <th>curie</th>\n",
       "      <th>label</th>\n",
       "    </tr>\n",
       "  </thead>\n",
       "  <tbody>\n",
       "    <tr>\n",
       "      <th>0</th>\n",
       "      <td>FOODON:00001838</td>\n",
       "      <td>fermented cereal beverage</td>\n",
       "    </tr>\n",
       "    <tr>\n",
       "      <th>1</th>\n",
       "      <td>ENVO:02000111</td>\n",
       "      <td>copper ore</td>\n",
       "    </tr>\n",
       "    <tr>\n",
       "      <th>2</th>\n",
       "      <td>ENVO:01000480</td>\n",
       "      <td>glass</td>\n",
       "    </tr>\n",
       "    <tr>\n",
       "      <th>3</th>\n",
       "      <td>FOODON:03400865</td>\n",
       "      <td>soup (eurofir)</td>\n",
       "    </tr>\n",
       "    <tr>\n",
       "      <th>4</th>\n",
       "      <td>FOODON:00001279</td>\n",
       "      <td>cake icing food product</td>\n",
       "    </tr>\n",
       "    <tr>\n",
       "      <th>...</th>\n",
       "      <td>...</td>\n",
       "      <td>...</td>\n",
       "    </tr>\n",
       "    <tr>\n",
       "      <th>1095</th>\n",
       "      <td>ENVO:01001117</td>\n",
       "      <td>poultry manure</td>\n",
       "    </tr>\n",
       "    <tr>\n",
       "      <th>1096</th>\n",
       "      <td>ENVO:00002117</td>\n",
       "      <td>creosote contaminated soil</td>\n",
       "    </tr>\n",
       "    <tr>\n",
       "      <th>1097</th>\n",
       "      <td>ENVO:01001121</td>\n",
       "      <td>plant matter</td>\n",
       "    </tr>\n",
       "    <tr>\n",
       "      <th>1098</th>\n",
       "      <td>ENVO:03605000</td>\n",
       "      <td>periphytic biofilm</td>\n",
       "    </tr>\n",
       "    <tr>\n",
       "      <th>1099</th>\n",
       "      <td>ENVO:00001998</td>\n",
       "      <td>soil</td>\n",
       "    </tr>\n",
       "  </tbody>\n",
       "</table>\n",
       "<p>1100 rows × 2 columns</p>\n",
       "</div>"
      ]
     },
     "execution_count": 37,
     "metadata": {},
     "output_type": "execute_result"
    }
   ],
   "execution_count": 37
  },
  {
   "cell_type": "markdown",
   "id": "857f1f1efd4635b9",
   "metadata": {},
   "source": [
    "----"
   ]
  },
  {
   "cell_type": "code",
   "id": "1432828ce7983148",
   "metadata": {
    "ExecuteTime": {
     "end_time": "2024-11-21T13:38:59.401015Z",
     "start_time": "2024-11-21T13:38:55.623479Z"
    }
   },
   "source": [
    "sv = get_schemaview_from_source(previous_submission_schema_url)"
   ],
   "outputs": [],
   "execution_count": 38
  },
  {
   "cell_type": "code",
   "id": "5841e0d6bc3d3c40",
   "metadata": {
    "ExecuteTime": {
     "end_time": "2024-11-21T13:38:59.452138Z",
     "start_time": "2024-11-21T13:38:59.446903Z"
    }
   },
   "source": [
    "# todo break out slow steps into its own cell\n",
    "\n",
    "try:\n",
    "    CONTEXT_ENUM_def = sv.get_enum(CONTEXT_ENUM)\n",
    "    context_pvs_keys = list(CONTEXT_ENUM_def.permissible_values.keys())\n",
    "except AttributeError as e:\n",
    "    # Handle the AttributeError\n",
    "    print(f\"An AttributeError occurred: {e}\")\n",
    "    context_pvs_keys =[]\n",
    "    "
   ],
   "outputs": [
    {
     "name": "stdout",
     "output_type": "stream",
     "text": [
      "An AttributeError occurred: 'NoneType' object has no attribute 'permissible_values'\n"
     ]
    }
   ],
   "execution_count": 39
  },
  {
   "cell_type": "code",
   "id": "79282f64358e1608",
   "metadata": {
    "ExecuteTime": {
     "end_time": "2024-11-21T13:38:59.539253Z",
     "start_time": "2024-11-21T13:38:59.536034Z"
    }
   },
   "source": [
    "initially_parsed_context_pvs = parse_hierarchically_underscored_strings(context_pvs_keys)"
   ],
   "outputs": [],
   "execution_count": 40
  },
  {
   "cell_type": "code",
   "id": "5a9492fa605534f2",
   "metadata": {
    "ExecuteTime": {
     "end_time": "2024-11-21T13:39:04.560829Z",
     "start_time": "2024-11-21T13:39:04.558133Z"
    }
   },
   "source": [
    "deduped_context_pvs = dedupe_underscoreless_pvs(initially_parsed_context_pvs)"
   ],
   "outputs": [],
   "execution_count": 41
  },
  {
   "cell_type": "code",
   "id": "214c2e6c9a7089a8",
   "metadata": {
    "ExecuteTime": {
     "end_time": "2024-11-21T13:39:09.596205Z",
     "start_time": "2024-11-21T13:39:09.593349Z"
    }
   },
   "source": [
    "pv_validation_results = validate_curie_label_list_dict(deduped_context_pvs, envo_adapter, print_flag=True)"
   ],
   "outputs": [],
   "execution_count": 42
  },
  {
   "cell_type": "code",
   "id": "e84872aa4f8a9313",
   "metadata": {
    "ExecuteTime": {
     "end_time": "2024-11-21T13:39:14.656793Z",
     "start_time": "2024-11-21T13:39:14.652887Z"
    }
   },
   "source": [
    "pv_validation_results"
   ],
   "outputs": [
    {
     "data": {
      "text/plain": [
       "{'problems': [], 'valids': []}"
      ]
     },
     "execution_count": 43,
     "metadata": {},
     "output_type": "execute_result"
    }
   ],
   "execution_count": 43
  },
  {
   "cell_type": "markdown",
   "id": "363063c37a433d70",
   "metadata": {},
   "source": [
    "----"
   ]
  },
  {
   "cell_type": "code",
   "id": "656e23e9eab154b0",
   "metadata": {
    "ExecuteTime": {
     "end_time": "2024-11-21T13:40:09.839976Z",
     "start_time": "2024-11-21T13:39:19.615091Z"
    }
   },
   "source": [
    "# todo rename to all_nmdc_samples etc\n",
    "all_nmdc_biosamples = get_docs_from_nmdc_collection(NMDC_RUNTIME_BASE_URL,\n",
    "                                               BIOSAMPLE_SET_COLLECTION)  # Example with stop_after\n",
    "\n",
    "# ~ 1 minute\n",
    "\n",
    "# todo cache this as a file"
   ],
   "outputs": [
    {
     "name": "stdout",
     "output_type": "stream",
     "text": [
      "Fetched page 1 with 1000 documents. Total fetched: 1000\n",
      "Fetched page 2 with 1000 documents. Total fetched: 2000\n",
      "Fetched page 3 with 1000 documents. Total fetched: 3000\n",
      "Fetched page 4 with 1000 documents. Total fetched: 4000\n",
      "Fetched page 5 with 1000 documents. Total fetched: 5000\n",
      "Fetched page 6 with 1000 documents. Total fetched: 6000\n",
      "Fetched page 7 with 1000 documents. Total fetched: 7000\n",
      "Fetched page 8 with 1000 documents. Total fetched: 8000\n",
      "Fetched page 9 with 362 documents. Total fetched: 8362\n",
      "All documents fetched.\n"
     ]
    }
   ],
   "execution_count": 44
  },
  {
   "metadata": {
    "ExecuteTime": {
     "end_time": "2024-11-21T13:40:14.874356Z",
     "start_time": "2024-11-21T13:40:14.871858Z"
    }
   },
   "cell_type": "code",
   "source": [
    "# # this is slow because it saves slots that we don't need\n",
    "# \n",
    "# with open(\"nmdc_biosamples_from_api.yaml\", \"w\") as file:\n",
    "#     yaml.dump(all_nmdc_biosamples, file, default_flow_style=False)"
   ],
   "id": "df8f692beb4c6a74",
   "outputs": [],
   "execution_count": 45
  },
  {
   "cell_type": "code",
   "id": "47c500057aa4624d",
   "metadata": {
    "ExecuteTime": {
     "end_time": "2024-11-21T13:40:19.749742Z",
     "start_time": "2024-11-21T13:40:19.747083Z"
    }
   },
   "source": [
    "# # todo I don't think we're actually using this\n",
    "# all_studies = get_docs_from_nmdc_collection(NMDC_RUNTIME_BASE_URL, STUDY_SET_COLLECTION)  # Example with stop_after"
   ],
   "outputs": [],
   "execution_count": 46
  },
  {
   "cell_type": "code",
   "id": "6a17544640272855",
   "metadata": {
    "ExecuteTime": {
     "end_time": "2024-11-21T13:40:24.604531Z",
     "start_time": "2024-11-21T13:40:24.600836Z"
    }
   },
   "source": [
    "env_pacakge_overrides = tsv_to_dict_of_dicts(env_package_override_file, 'id')"
   ],
   "outputs": [],
   "execution_count": 47
  },
  {
   "cell_type": "code",
   "id": "66c61cf229a6545c",
   "metadata": {
    "ExecuteTime": {
     "end_time": "2024-11-21T13:40:29.542166Z",
     "start_time": "2024-11-21T13:40:29.539663Z"
    }
   },
   "source": [
    "# env_pacakge_overrides\n",
    "# todo or show as frame\n",
    "# todo include some other columns for context?"
   ],
   "outputs": [],
   "execution_count": 48
  },
  {
   "cell_type": "code",
   "id": "7045884ea68d0351",
   "metadata": {
    "ExecuteTime": {
     "end_time": "2024-11-21T13:40:42.132135Z",
     "start_time": "2024-11-21T13:40:34.561986Z"
    }
   },
   "source": [
    "biosample_contexts_lod = biosamples_lod_context_extractor(all_nmdc_biosamples, envo_adapter,\n",
    "                                                          my_env_pacakge_overrides=env_pacakge_overrides)\n",
    "\n",
    "# ~ 10 seconds, lots of logging"
   ],
   "outputs": [
    {
     "name": "stdout",
     "output_type": "stream",
     "text": [
      "Overriding env_package for biosample nmdc:bsm-11-0k8nkx16 from  to plant-associated\n",
      "Overriding env_package for biosample nmdc:bsm-11-19v98823 from  to plant-associated\n",
      "Overriding env_package for biosample nmdc:bsm-11-1yvac190 from  to plant-associated\n",
      "Overriding env_package for biosample nmdc:bsm-11-28kgw077 from  to plant-associated\n",
      "Overriding env_package for biosample nmdc:bsm-11-2hswww54 from  to hydrocarbon resources-fluids_swabs\n",
      "Overriding env_package for biosample nmdc:bsm-11-34przm31 from  to plant-associated\n",
      "Overriding env_package for biosample nmdc:bsm-11-35m0rm03 from  to hydrocarbon resources-fluids_swabs\n",
      "Overriding env_package for biosample nmdc:bsm-11-3636w778 from  to plant-associated\n",
      "Overriding env_package for biosample nmdc:bsm-11-3nffqc45 from  to plant-associated\n",
      "Overriding env_package for biosample nmdc:bsm-11-3nhng665 from  to plant-associated\n",
      "Overriding env_package for biosample nmdc:bsm-11-3r4g4610 from  to hydrocarbon resources-fluids_swabs\n",
      "Overriding env_package for biosample nmdc:bsm-11-3tr7f795 from  to plant-associated\n",
      "Overriding env_package for biosample nmdc:bsm-11-3xc5ft48 from  to plant-associated\n",
      "Overriding env_package for biosample nmdc:bsm-11-3xthwx28 from  to plant-associated\n",
      "Overriding env_package for biosample nmdc:bsm-11-42c9kj17 from  to plant-associated\n",
      "Overriding env_package for biosample nmdc:bsm-11-43rwvm93 from  to plant-associated\n",
      "Overriding env_package for biosample nmdc:bsm-11-4838sk73 from  to plant-associated\n",
      "Overriding env_package for biosample nmdc:bsm-11-5ak8ja54 from  to plant-associated\n",
      "Overriding env_package for biosample nmdc:bsm-11-5g2kjf44 from  to plant-associated\n",
      "Overriding env_package for biosample nmdc:bsm-11-5j742c82 from  to plant-associated\n",
      "Overriding env_package for biosample nmdc:bsm-11-5qq80d09 from  to plant-associated\n",
      "Overriding env_package for biosample nmdc:bsm-11-5rgay328 from  to plant-associated\n",
      "Overriding env_package for biosample nmdc:bsm-11-5w4ba396 from  to plant-associated\n",
      "Overriding env_package for biosample nmdc:bsm-11-61xfks69 from  to plant-associated\n",
      "Overriding env_package for biosample nmdc:bsm-11-62fxv990 from  to plant-associated\n",
      "Overriding env_package for biosample nmdc:bsm-11-674m9194 from  to plant-associated\n",
      "Overriding env_package for biosample nmdc:bsm-11-678ndj04 from  to plant-associated\n",
      "Overriding env_package for biosample nmdc:bsm-11-69g1rw32 from  to plant-associated\n",
      "Overriding env_package for biosample nmdc:bsm-11-6k8cmy53 from  to plant-associated\n",
      "Overriding env_package for biosample nmdc:bsm-11-6m5dma62 from  to plant-associated\n",
      "Overriding env_package for biosample nmdc:bsm-11-6qgwc522 from  to plant-associated\n",
      "Overriding env_package for biosample nmdc:bsm-11-6xa4vj59 from  to plant-associated\n",
      "Overriding env_package for biosample nmdc:bsm-11-6y26bz06 from  to plant-associated\n",
      "Overriding env_package for biosample nmdc:bsm-11-6ya0cs71 from  to plant-associated\n",
      "Overriding env_package for biosample nmdc:bsm-11-6z11g163 from  to plant-associated\n",
      "Overriding env_package for biosample nmdc:bsm-11-73zqmh40 from  to plant-associated\n",
      "Overriding env_package for biosample nmdc:bsm-11-766dwa91 from  to plant-associated\n",
      "Overriding env_package for biosample nmdc:bsm-11-7b566r47 from  to hydrocarbon resources-fluids_swabs\n",
      "Overriding env_package for biosample nmdc:bsm-11-7cfwd964 from  to plant-associated\n",
      "Overriding env_package for biosample nmdc:bsm-11-7pyrek52 from  to plant-associated\n",
      "Overriding env_package for biosample nmdc:bsm-11-7yg2ne22 from  to plant-associated\n",
      "Overriding env_package for biosample nmdc:bsm-11-7z1qvf63 from  to plant-associated\n",
      "Overriding env_package for biosample nmdc:bsm-11-82qw5v38 from  to plant-associated\n",
      "Overriding env_package for biosample nmdc:bsm-11-899bm454 from  to plant-associated\n",
      "Overriding env_package for biosample nmdc:bsm-11-8aktkq28 from  to plant-associated\n",
      "Overriding env_package for biosample nmdc:bsm-11-8bewbp90 from  to plant-associated\n",
      "Overriding env_package for biosample nmdc:bsm-11-8cgpqn03 from  to plant-associated\n",
      "Overriding env_package for biosample nmdc:bsm-11-8e43d898 from  to plant-associated\n",
      "Overriding env_package for biosample nmdc:bsm-11-8g7xbe66 from  to plant-associated\n",
      "Overriding env_package for biosample nmdc:bsm-11-91bdea61 from  to plant-associated\n",
      "Overriding env_package for biosample nmdc:bsm-11-94c2xj88 from  to plant-associated\n",
      "Overriding env_package for biosample nmdc:bsm-11-9c0hk014 from  to plant-associated\n",
      "Overriding env_package for biosample nmdc:bsm-11-9f2ahd94 from  to plant-associated\n",
      "Overriding env_package for biosample nmdc:bsm-11-a6p0kd54 from  to hydrocarbon resources-fluids_swabs\n",
      "Overriding env_package for biosample nmdc:bsm-11-acehgb61 from  to plant-associated\n",
      "Overriding env_package for biosample nmdc:bsm-11-acfvxq24 from  to plant-associated\n",
      "Overriding env_package for biosample nmdc:bsm-11-aesqd647 from  to plant-associated\n",
      "Overriding env_package for biosample nmdc:bsm-11-af8kqq09 from  to hydrocarbon resources-fluids_swabs\n",
      "Overriding env_package for biosample nmdc:bsm-11-ahfq0n74 from  to plant-associated\n",
      "Overriding env_package for biosample nmdc:bsm-11-b2w6cr26 from  to plant-associated\n",
      "Overriding env_package for biosample nmdc:bsm-11-b7pv2a25 from  to plant-associated\n",
      "Overriding env_package for biosample nmdc:bsm-11-b9cjnj29 from  to plant-associated\n",
      "Overriding env_package for biosample nmdc:bsm-11-bcns6e03 from  to plant-associated\n",
      "Overriding env_package for biosample nmdc:bsm-11-bgar5122 from  to plant-associated\n",
      "Overriding env_package for biosample nmdc:bsm-11-bja22k98 from  to plant-associated\n",
      "Overriding env_package for biosample nmdc:bsm-11-bm9haf23 from  to plant-associated\n",
      "Overriding env_package for biosample nmdc:bsm-11-bqp0m764 from  to plant-associated\n",
      "Overriding env_package for biosample nmdc:bsm-11-byzpm179 from  to hydrocarbon resources-fluids_swabs\n",
      "Overriding env_package for biosample nmdc:bsm-11-c12hyq86 from  to plant-associated\n",
      "Overriding env_package for biosample nmdc:bsm-11-c52npq37 from  to plant-associated\n",
      "Overriding env_package for biosample nmdc:bsm-11-c756vg97 from  to plant-associated\n",
      "Overriding env_package for biosample nmdc:bsm-11-can3rz84 from  to plant-associated\n",
      "Overriding env_package for biosample nmdc:bsm-11-cjp6kd42 from  to plant-associated\n",
      "Overriding env_package for biosample nmdc:bsm-11-ck98jg55 from  to plant-associated\n",
      "Overriding env_package for biosample nmdc:bsm-11-cqbpqf62 from  to plant-associated\n",
      "Overriding env_package for biosample nmdc:bsm-11-cv5vxb38 from  to plant-associated\n",
      "Overriding env_package for biosample nmdc:bsm-11-cvqsze66 from  to plant-associated\n",
      "Overriding env_package for biosample nmdc:bsm-11-cxprmv88 from  to plant-associated\n",
      "Overriding env_package for biosample nmdc:bsm-11-cz68sy30 from  to plant-associated\n",
      "Overriding env_package for biosample nmdc:bsm-11-d8cgz835 from  to plant-associated\n",
      "Overriding env_package for biosample nmdc:bsm-11-djqze645 from  to plant-associated\n",
      "Overriding env_package for biosample nmdc:bsm-11-dppkv536 from  to plant-associated\n",
      "Overriding env_package for biosample nmdc:bsm-11-dqnfvd06 from  to plant-associated\n",
      "Overriding env_package for biosample nmdc:bsm-11-dtyb1w45 from  to plant-associated\n",
      "Overriding env_package for biosample nmdc:bsm-11-dva76848 from  to plant-associated\n",
      "Overriding env_package for biosample nmdc:bsm-11-dz264p50 from  to plant-associated\n",
      "Overriding env_package for biosample nmdc:bsm-11-e0rz6p82 from  to plant-associated\n",
      "Overriding env_package for biosample nmdc:bsm-11-e747ch69 from  to plant-associated\n",
      "Overriding env_package for biosample nmdc:bsm-11-epzqzg45 from  to plant-associated\n",
      "Overriding env_package for biosample nmdc:bsm-11-evfbfp31 from  to plant-associated\n",
      "Overriding env_package for biosample nmdc:bsm-11-f8tzvk82 from  to plant-associated\n",
      "Overriding env_package for biosample nmdc:bsm-11-fbm8fa50 from  to hydrocarbon resources-fluids_swabs\n",
      "Overriding env_package for biosample nmdc:bsm-11-feynq214 from  to plant-associated\n",
      "Overriding env_package for biosample nmdc:bsm-11-fgjpsy56 from  to plant-associated\n",
      "Overriding env_package for biosample nmdc:bsm-11-fm4p4558 from  to plant-associated\n",
      "Overriding env_package for biosample nmdc:bsm-11-fqchmc77 from  to hydrocarbon resources-fluids_swabs\n",
      "Overriding env_package for biosample nmdc:bsm-11-fy3j8w19 from  to plant-associated\n",
      "Overriding env_package for biosample nmdc:bsm-11-fyey4107 from  to plant-associated\n",
      "Overriding env_package for biosample nmdc:bsm-11-fzvzb345 from  to plant-associated\n",
      "Overriding env_package for biosample nmdc:bsm-11-g35dnf26 from  to plant-associated\n",
      "Overriding env_package for biosample nmdc:bsm-11-g3r2dm95 from  to plant-associated\n",
      "Overriding env_package for biosample nmdc:bsm-11-g4my3419 from  to plant-associated\n",
      "Overriding env_package for biosample nmdc:bsm-11-g4rxzh95 from  to plant-associated\n",
      "Overriding env_package for biosample nmdc:bsm-11-gch9pp73 from  to plant-associated\n",
      "Overriding env_package for biosample nmdc:bsm-11-gd31q856 from  to plant-associated\n",
      "Overriding env_package for biosample nmdc:bsm-11-gnbsqd30 from  to hydrocarbon resources-fluids_swabs\n",
      "Overriding env_package for biosample nmdc:bsm-11-gvp5zp51 from  to hydrocarbon resources-fluids_swabs\n",
      "Overriding env_package for biosample nmdc:bsm-11-gwx12029 from  to plant-associated\n",
      "Overriding env_package for biosample nmdc:bsm-11-h2k7nv93 from  to plant-associated\n",
      "Overriding env_package for biosample nmdc:bsm-11-h3e54f51 from  to plant-associated\n",
      "Overriding env_package for biosample nmdc:bsm-11-h96d6881 from  to plant-associated\n",
      "Overriding env_package for biosample nmdc:bsm-11-ht2c1k71 from  to plant-associated\n",
      "Overriding env_package for biosample nmdc:bsm-11-ht2v0s47 from  to plant-associated\n",
      "Overriding env_package for biosample nmdc:bsm-11-hv1hv533 from  to plant-associated\n",
      "Overriding env_package for biosample nmdc:bsm-11-j1bay453 from  to plant-associated\n",
      "Overriding env_package for biosample nmdc:bsm-11-j1hqcz15 from  to plant-associated\n",
      "Overriding env_package for biosample nmdc:bsm-11-j2pfz414 from  to plant-associated\n",
      "Overriding env_package for biosample nmdc:bsm-11-j5y27f16 from  to plant-associated\n",
      "Overriding env_package for biosample nmdc:bsm-11-j6h8pw46 from  to plant-associated\n",
      "Overriding env_package for biosample nmdc:bsm-11-j6j1p639 from  to plant-associated\n",
      "Overriding env_package for biosample nmdc:bsm-11-jjchgw36 from  to plant-associated\n",
      "Overriding env_package for biosample nmdc:bsm-11-jp678560 from  to plant-associated\n",
      "Overriding env_package for biosample nmdc:bsm-11-jq2e3v76 from  to plant-associated\n",
      "Overriding env_package for biosample nmdc:bsm-11-jx6ar740 from  to hydrocarbon resources-fluids_swabs\n",
      "Overriding env_package for biosample nmdc:bsm-11-jxazjs92 from  to plant-associated\n",
      "Overriding env_package for biosample nmdc:bsm-11-jy6ece20 from  to plant-associated\n",
      "Overriding env_package for biosample nmdc:bsm-11-k0vz1j87 from  to plant-associated\n",
      "Overriding env_package for biosample nmdc:bsm-11-k1twxb65 from  to plant-associated\n",
      "Overriding env_package for biosample nmdc:bsm-11-k9192006 from  to plant-associated\n",
      "Overriding env_package for biosample nmdc:bsm-11-kdja3v28 from  to plant-associated\n",
      "Overriding env_package for biosample nmdc:bsm-11-kesw6757 from  to plant-associated\n",
      "Overriding env_package for biosample nmdc:bsm-11-kmpwgz16 from  to hydrocarbon resources-fluids_swabs\n",
      "Overriding env_package for biosample nmdc:bsm-11-kqbbyb62 from  to hydrocarbon resources-fluids_swabs\n",
      "Overriding env_package for biosample nmdc:bsm-11-krcjqt76 from  to plant-associated\n",
      "Overriding env_package for biosample nmdc:bsm-11-kv966g71 from  to hydrocarbon resources-fluids_swabs\n",
      "Overriding env_package for biosample nmdc:bsm-11-m0h9cb45 from  to plant-associated\n",
      "Overriding env_package for biosample nmdc:bsm-11-m4e83773 from  to plant-associated\n",
      "Overriding env_package for biosample nmdc:bsm-11-m4p1ck60 from  to plant-associated\n",
      "Overriding env_package for biosample nmdc:bsm-11-m5prkp97 from  to hydrocarbon resources-fluids_swabs\n",
      "Overriding env_package for biosample nmdc:bsm-11-m69k6p77 from  to hydrocarbon resources-fluids_swabs\n",
      "Overriding env_package for biosample nmdc:bsm-11-m9k8tx16 from  to plant-associated\n",
      "Overriding env_package for biosample nmdc:bsm-11-ma7ry826 from  to plant-associated\n",
      "Overriding env_package for biosample nmdc:bsm-11-mb9s8c17 from  to plant-associated\n",
      "Overriding env_package for biosample nmdc:bsm-11-mbcv4b48 from  to plant-associated\n",
      "Overriding env_package for biosample nmdc:bsm-11-n2a7p974 from  to plant-associated\n",
      "Overriding env_package for biosample nmdc:bsm-11-n6vwc542 from  to plant-associated\n",
      "Overriding env_package for biosample nmdc:bsm-11-n8t7zs15 from  to plant-associated\n",
      "Overriding env_package for biosample nmdc:bsm-11-n9sx1a80 from  to plant-associated\n",
      "Overriding env_package for biosample nmdc:bsm-11-nher1m25 from  to hydrocarbon resources-fluids_swabs\n",
      "Overriding env_package for biosample nmdc:bsm-11-nm187g36 from  to plant-associated\n",
      "Overriding env_package for biosample nmdc:bsm-11-nr7vje40 from  to plant-associated\n",
      "Overriding env_package for biosample nmdc:bsm-11-nrkha596 from  to plant-associated\n",
      "Overriding env_package for biosample nmdc:bsm-11-nwh9ez71 from  to plant-associated\n",
      "Overriding env_package for biosample nmdc:bsm-11-nx7zwq61 from  to plant-associated\n",
      "Overriding env_package for biosample nmdc:bsm-11-p4wss361 from  to plant-associated\n",
      "Overriding env_package for biosample nmdc:bsm-11-p9j7rw40 from  to plant-associated\n",
      "Overriding env_package for biosample nmdc:bsm-11-pebqj065 from  to plant-associated\n",
      "Overriding env_package for biosample nmdc:bsm-11-pgmhxj86 from  to plant-associated\n",
      "Overriding env_package for biosample nmdc:bsm-11-pgxc4f08 from  to plant-associated\n",
      "Overriding env_package for biosample nmdc:bsm-11-ppp4fk41 from  to plant-associated\n",
      "Overriding env_package for biosample nmdc:bsm-11-pq105b36 from  to plant-associated\n",
      "Overriding env_package for biosample nmdc:bsm-11-pvr0ez88 from  to plant-associated\n",
      "Overriding env_package for biosample nmdc:bsm-11-pygdem51 from  to plant-associated\n",
      "Overriding env_package for biosample nmdc:bsm-11-q3qsx507 from  to plant-associated\n",
      "Overriding env_package for biosample nmdc:bsm-11-q3sa0t28 from  to plant-associated\n",
      "Overriding env_package for biosample nmdc:bsm-11-q94v7385 from  to plant-associated\n",
      "Overriding env_package for biosample nmdc:bsm-11-qam3hk28 from  to plant-associated\n",
      "Overriding env_package for biosample nmdc:bsm-11-qe13q836 from  to plant-associated\n",
      "Overriding env_package for biosample nmdc:bsm-11-qg6kxr61 from  to plant-associated\n",
      "Overriding env_package for biosample nmdc:bsm-11-qhq2kh40 from  to plant-associated\n",
      "Overriding env_package for biosample nmdc:bsm-11-qms4zn61 from  to plant-associated\n",
      "Overriding env_package for biosample nmdc:bsm-11-qqc8e352 from  to plant-associated\n",
      "Overriding env_package for biosample nmdc:bsm-11-qvm0vt03 from  to plant-associated\n",
      "Overriding env_package for biosample nmdc:bsm-11-qy2fef59 from  to plant-associated\n",
      "Overriding env_package for biosample nmdc:bsm-11-qzncy838 from  to plant-associated\n",
      "Overriding env_package for biosample nmdc:bsm-11-r3b0ak56 from  to plant-associated\n",
      "Overriding env_package for biosample nmdc:bsm-11-r3tm7493 from  to plant-associated\n",
      "Overriding env_package for biosample nmdc:bsm-11-r4kwpw90 from  to plant-associated\n",
      "Overriding env_package for biosample nmdc:bsm-11-r7k97q10 from  to plant-associated\n",
      "Overriding env_package for biosample nmdc:bsm-11-rk62cv25 from  to plant-associated\n",
      "Overriding env_package for biosample nmdc:bsm-11-rpj4zm44 from  to plant-associated\n",
      "Overriding env_package for biosample nmdc:bsm-11-rzz0z710 from  to plant-associated\n",
      "Overriding env_package for biosample nmdc:bsm-11-s6r1q327 from  to plant-associated\n",
      "Overriding env_package for biosample nmdc:bsm-11-s70cv630 from  to plant-associated\n",
      "Overriding env_package for biosample nmdc:bsm-11-sa4z4f71 from  to hydrocarbon resources-fluids_swabs\n",
      "Overriding env_package for biosample nmdc:bsm-11-sdjt4464 from  to plant-associated\n",
      "Overriding env_package for biosample nmdc:bsm-11-sdjyhj66 from  to plant-associated\n",
      "Overriding env_package for biosample nmdc:bsm-11-shjn2p67 from  to plant-associated\n",
      "Overriding env_package for biosample nmdc:bsm-11-sjtd0y05 from  to plant-associated\n",
      "Overriding env_package for biosample nmdc:bsm-11-spav5m37 from  to plant-associated\n",
      "Overriding env_package for biosample nmdc:bsm-11-sv771k17 from  to plant-associated\n",
      "Overriding env_package for biosample nmdc:bsm-11-syb42s66 from  to plant-associated\n",
      "Overriding env_package for biosample nmdc:bsm-11-t7xb8h63 from  to plant-associated\n",
      "Overriding env_package for biosample nmdc:bsm-11-ta8dt754 from  to plant-associated\n",
      "Overriding env_package for biosample nmdc:bsm-11-tcxb3w32 from  to plant-associated\n",
      "Overriding env_package for biosample nmdc:bsm-11-te5fxe60 from  to plant-associated\n",
      "Overriding env_package for biosample nmdc:bsm-11-th3sr643 from  to plant-associated\n",
      "Overriding env_package for biosample nmdc:bsm-11-tkwn9650 from  to plant-associated\n",
      "Overriding env_package for biosample nmdc:bsm-11-tn8q1269 from  to hydrocarbon resources-fluids_swabs\n",
      "Overriding env_package for biosample nmdc:bsm-11-tnbabs47 from  to plant-associated\n",
      "Overriding env_package for biosample nmdc:bsm-11-tpatza67 from  to plant-associated\n",
      "Overriding env_package for biosample nmdc:bsm-11-trbf6m66 from  to plant-associated\n",
      "Overriding env_package for biosample nmdc:bsm-11-trpbtt49 from  to plant-associated\n",
      "Overriding env_package for biosample nmdc:bsm-11-ttg2t449 from  to hydrocarbon resources-fluids_swabs\n",
      "Overriding env_package for biosample nmdc:bsm-11-tz96dg48 from  to plant-associated\n",
      "Overriding env_package for biosample nmdc:bsm-11-v0p16d89 from  to plant-associated\n",
      "Overriding env_package for biosample nmdc:bsm-11-v9k6q078 from  to plant-associated\n",
      "Overriding env_package for biosample nmdc:bsm-11-veffrc25 from  to hydrocarbon resources-fluids_swabs\n",
      "Overriding env_package for biosample nmdc:bsm-11-vme3w877 from  to plant-associated\n",
      "Overriding env_package for biosample nmdc:bsm-11-vp7n5531 from  to plant-associated\n",
      "Overriding env_package for biosample nmdc:bsm-11-vpe6j733 from  to plant-associated\n",
      "Overriding env_package for biosample nmdc:bsm-11-vrsw1c02 from  to plant-associated\n",
      "Overriding env_package for biosample nmdc:bsm-11-w1t8bv92 from  to plant-associated\n",
      "Overriding env_package for biosample nmdc:bsm-11-wh35sj59 from  to plant-associated\n",
      "Overriding env_package for biosample nmdc:bsm-11-wnrp0p76 from  to plant-associated\n",
      "Overriding env_package for biosample nmdc:bsm-11-wqy7mc31 from  to plant-associated\n",
      "Overriding env_package for biosample nmdc:bsm-11-wr7h1t97 from  to plant-associated\n",
      "Overriding env_package for biosample nmdc:bsm-11-x0sc5x81 from  to plant-associated\n",
      "Overriding env_package for biosample nmdc:bsm-11-xy5ern23 from  to plant-associated\n",
      "Overriding env_package for biosample nmdc:bsm-11-xy8t6808 from  to plant-associated\n",
      "Overriding env_package for biosample nmdc:bsm-11-y31mxv90 from  to plant-associated\n",
      "Overriding env_package for biosample nmdc:bsm-11-y5w1j489 from  to plant-associated\n",
      "Overriding env_package for biosample nmdc:bsm-11-y80cxc26 from  to plant-associated\n",
      "Overriding env_package for biosample nmdc:bsm-11-yd4dqe75 from  to plant-associated\n",
      "Overriding env_package for biosample nmdc:bsm-11-yfc2at70 from  to plant-associated\n",
      "Overriding env_package for biosample nmdc:bsm-11-yvzvbr38 from  to hydrocarbon resources-fluids_swabs\n",
      "Overriding env_package for biosample nmdc:bsm-11-z4hspp43 from  to plant-associated\n",
      "Overriding env_package for biosample nmdc:bsm-11-z66zfk92 from  to plant-associated\n",
      "Overriding env_package for biosample nmdc:bsm-11-z75j2v52 from  to plant-associated\n",
      "Overriding env_package for biosample nmdc:bsm-11-zf5qxz83 from  to plant-associated\n",
      "Overriding env_package for biosample nmdc:bsm-11-zsdrmw76 from  to plant-associated\n",
      "Overriding env_package for biosample nmdc:bsm-11-zvh2hc82 from  to plant-associated\n"
     ]
    }
   ],
   "execution_count": 49
  },
  {
   "cell_type": "code",
   "id": "7cf668c88434c41e",
   "metadata": {
    "ExecuteTime": {
     "end_time": "2024-11-21T13:40:47.122265Z",
     "start_time": "2024-11-21T13:40:47.099527Z"
    }
   },
   "source": [
    "nmdc_biosample_contexts_frame = pd.DataFrame(biosample_contexts_lod)"
   ],
   "outputs": [],
   "execution_count": 50
  },
  {
   "cell_type": "code",
   "id": "77e340a7962f23a6",
   "metadata": {
    "ExecuteTime": {
     "end_time": "2024-11-21T13:40:52.055569Z",
     "start_time": "2024-11-21T13:40:52.050531Z"
    }
   },
   "source": [
    "# print a value count for the normalized_env_package column\n",
    "print(\"Value counts for normalized_env_package column:\")\n",
    "print(nmdc_biosample_contexts_frame['normalized_env_package'].value_counts(dropna=False))"
   ],
   "outputs": [
    {
     "name": "stdout",
     "output_type": "stream",
     "text": [
      "Value counts for normalized_env_package column:\n",
      "normalized_env_package\n",
      "                                                   5838\n",
      "soil                                               1707\n",
      "plant-associated                                    401\n",
      "water                                               192\n",
      "miscellaneous natural or artificial environment     140\n",
      "host-associated                                      61\n",
      "hydrocarbon resources-fluids_swabs                   23\n",
      "Name: count, dtype: int64\n"
     ]
    }
   ],
   "execution_count": 51
  },
  {
   "cell_type": "code",
   "id": "5980aef19fb86ae4",
   "metadata": {
    "ExecuteTime": {
     "end_time": "2024-11-21T13:41:04.047011Z",
     "start_time": "2024-11-21T13:40:57.012448Z"
    }
   },
   "source": [
    "package_predictions = predict_from_normalized_env_packages(nmdc_biosample_contexts_frame, envo_adapter)"
   ],
   "outputs": [
    {
     "name": "stdout",
     "output_type": "stream",
     "text": [
      "(8362, 14)\n",
      "                                                 precision    recall  f1-score   support\n",
      "\n",
      "                                host-associated       1.00      1.00      1.00        16\n",
      "             hydrocarbon resources-fluids_swabs       1.00      1.00      1.00         7\n",
      "miscellaneous natural or artificial environment       1.00      1.00      1.00        50\n",
      "                               plant-associated       1.00      1.00      1.00       122\n",
      "                                           soil       1.00      1.00      1.00       506\n",
      "                                          water       1.00      1.00      1.00        57\n",
      "\n",
      "                                       accuracy                           1.00       758\n",
      "                                      macro avg       1.00      1.00      1.00       758\n",
      "                                   weighted avg       1.00      1.00      1.00       758\n",
      "\n"
     ]
    }
   ],
   "execution_count": 52
  },
  {
   "cell_type": "code",
   "id": "e151c95fe349df93",
   "metadata": {
    "ExecuteTime": {
     "end_time": "2024-11-21T13:41:09.155234Z",
     "start_time": "2024-11-21T13:41:09.151834Z"
    }
   },
   "source": [
    "nmdc_biosample_contexts_frame['predicted_env_package'] = package_predictions"
   ],
   "outputs": [],
   "execution_count": 53
  },
  {
   "cell_type": "code",
   "id": "d5c6aa902c7187e0",
   "metadata": {
    "ExecuteTime": {
     "end_time": "2024-11-21T13:41:14.089612Z",
     "start_time": "2024-11-21T13:41:14.085853Z"
    }
   },
   "source": [
    "nmdc_biosample_contexts_frame.shape"
   ],
   "outputs": [
    {
     "data": {
      "text/plain": [
       "(8362, 15)"
      ]
     },
     "execution_count": 54,
     "metadata": {},
     "output_type": "execute_result"
    }
   ],
   "execution_count": 54
  },
  {
   "cell_type": "code",
   "id": "2b241bcacf4bb100",
   "metadata": {
    "ExecuteTime": {
     "end_time": "2024-11-21T13:41:19.238589Z",
     "start_time": "2024-11-21T13:41:19.232285Z"
    }
   },
   "source": [
    "nmdc_biosample_contexts_frame = nmdc_biosample_contexts_frame[\n",
    "    nmdc_biosample_contexts_frame['predicted_env_package'] == TARGET_ENV_PACKAGE]"
   ],
   "outputs": [],
   "execution_count": 55
  },
  {
   "cell_type": "code",
   "id": "9045896aa4ea468f",
   "metadata": {
    "ExecuteTime": {
     "end_time": "2024-11-21T13:41:24.102754Z",
     "start_time": "2024-11-21T13:41:24.098748Z"
    }
   },
   "source": [
    "nmdc_biosample_contexts_frame.shape"
   ],
   "outputs": [
    {
     "data": {
      "text/plain": [
       "(1388, 15)"
      ]
     },
     "execution_count": 56,
     "metadata": {},
     "output_type": "execute_result"
    }
   ],
   "execution_count": 56
  },
  {
   "cell_type": "markdown",
   "id": "aee7b4eea48a8691",
   "metadata": {},
   "source": [
    "----"
   ]
  },
  {
   "cell_type": "code",
   "id": "3be362b73dbda47a",
   "metadata": {
    "ExecuteTime": {
     "end_time": "2024-11-21T13:41:30.341190Z",
     "start_time": "2024-11-21T13:41:28.989942Z"
    }
   },
   "source": [
    "ncbi_frame = ncbi_conn.execute(ncbi_query).fetchdf()"
   ],
   "outputs": [],
   "execution_count": 57
  },
  {
   "cell_type": "code",
   "id": "306ee79ce77f745e",
   "metadata": {
    "ExecuteTime": {
     "end_time": "2024-11-21T13:41:35.254268Z",
     "start_time": "2024-11-21T13:41:35.250432Z"
    }
   },
   "source": [
    "ncbi_frame.insert(0, 'serial_number', range(1, len(ncbi_frame) + 1))"
   ],
   "outputs": [],
   "execution_count": 58
  },
  {
   "cell_type": "code",
   "id": "6f06a6237f0ecdb",
   "metadata": {
    "ExecuteTime": {
     "end_time": "2024-11-21T13:41:40.096297Z",
     "start_time": "2024-11-21T13:41:40.093614Z"
    }
   },
   "source": [
    "# includes values with counts of one... useful for discovering drag-down submissions?"
   ],
   "outputs": [],
   "execution_count": 59
  },
  {
   "cell_type": "code",
   "id": "f07e55ebd0f4c451",
   "metadata": {
    "ExecuteTime": {
     "end_time": "2024-11-21T13:41:45.065340Z",
     "start_time": "2024-11-21T13:41:45.060788Z"
    }
   },
   "source": [
    "ncbi_frame['content_list'] = ncbi_frame['content'].str.split('|')"
   ],
   "outputs": [],
   "execution_count": 60
  },
  {
   "metadata": {
    "ExecuteTime": {
     "end_time": "2024-11-21T13:41:50.136578Z",
     "start_time": "2024-11-21T13:41:50.126609Z"
    }
   },
   "cell_type": "code",
   "source": "ncbi_frame.to_csv(\"ncbi_frame.tsv\", sep=\"\\t\", index=False)",
   "id": "d3ac8df29eb8fc8",
   "outputs": [],
   "execution_count": 61
  },
  {
   "metadata": {
    "ExecuteTime": {
     "end_time": "2024-11-21T13:41:55.839988Z",
     "start_time": "2024-11-21T13:41:55.835955Z"
    }
   },
   "cell_type": "code",
   "source": [
    "# todo is there any reason to not do this ?\n",
    "ncbi_frame = ncbi_frame[ncbi_frame['content'].notna() & (ncbi_frame['content'] != '')]"
   ],
   "id": "2e96404aa5dd0f7b",
   "outputs": [],
   "execution_count": 62
  },
  {
   "cell_type": "code",
   "id": "f8c2e13cee8818cb",
   "metadata": {
    "ExecuteTime": {
     "end_time": "2024-11-21T13:42:00.924205Z",
     "start_time": "2024-11-21T13:42:00.920077Z"
    }
   },
   "source": [
    "ncbi_frame['content_count'] = ncbi_frame['content_list'].apply(len)"
   ],
   "outputs": [],
   "execution_count": 63
  },
  {
   "cell_type": "code",
   "id": "edeaac7b5ce53cd5",
   "metadata": {
    "ExecuteTime": {
     "end_time": "2024-11-21T13:42:05.817823Z",
     "start_time": "2024-11-21T13:42:05.813856Z"
    }
   },
   "source": [
    "ncbi_frame.shape"
   ],
   "outputs": [
    {
     "data": {
      "text/plain": [
       "(1898, 5)"
      ]
     },
     "execution_count": 64,
     "metadata": {},
     "output_type": "execute_result"
    }
   ],
   "execution_count": 64
  },
  {
   "cell_type": "code",
   "id": "18860251fea32ee5",
   "metadata": {
    "ExecuteTime": {
     "end_time": "2024-11-21T13:42:10.841657Z",
     "start_time": "2024-11-21T13:42:10.834772Z"
    }
   },
   "source": [
    "ncbi_frame = ncbi_frame.explode('content_list').reset_index(drop=True)"
   ],
   "outputs": [],
   "execution_count": 65
  },
  {
   "cell_type": "code",
   "id": "bc8b89960c12f6e6",
   "metadata": {
    "ExecuteTime": {
     "end_time": "2024-11-21T13:42:16.669348Z",
     "start_time": "2024-11-21T13:42:16.665387Z"
    }
   },
   "source": [
    "ncbi_frame.shape"
   ],
   "outputs": [
    {
     "data": {
      "text/plain": [
       "(1931, 5)"
      ]
     },
     "execution_count": 66,
     "metadata": {},
     "output_type": "execute_result"
    }
   ],
   "execution_count": 66
  },
  {
   "cell_type": "code",
   "id": "85a0a4ccd63b7952",
   "metadata": {
    "ExecuteTime": {
     "end_time": "2024-11-21T13:42:22.060396Z",
     "start_time": "2024-11-21T13:42:22.057909Z"
    }
   },
   "source": [
    "# how many content_list strings contain envo multiple times now?"
   ],
   "outputs": [],
   "execution_count": 67
  },
  {
   "cell_type": "code",
   "id": "4dee374026c8272a",
   "metadata": {
    "ExecuteTime": {
     "end_time": "2024-11-21T13:42:27.267056Z",
     "start_time": "2024-11-21T13:42:27.261352Z"
    }
   },
   "source": [
    "ncbi_frame['envo_count'] = ncbi_frame['content_list'].str.lower().str.count(\"envo\")"
   ],
   "outputs": [],
   "execution_count": 68
  },
  {
   "cell_type": "code",
   "id": "417319d62ef07d0b",
   "metadata": {
    "ExecuteTime": {
     "end_time": "2024-11-21T13:42:32.185108Z",
     "start_time": "2024-11-21T13:42:32.177819Z"
    }
   },
   "source": [
    "ncbi_frame['envo_count'].value_counts()"
   ],
   "outputs": [
    {
     "data": {
      "text/plain": [
       "envo_count\n",
       "1    937\n",
       "0    786\n",
       "2    207\n",
       "3      1\n",
       "Name: count, dtype: int64"
      ]
     },
     "execution_count": 69,
     "metadata": {},
     "output_type": "execute_result"
    }
   ],
   "execution_count": 69
  },
  {
   "cell_type": "markdown",
   "id": "5cf708305c445b4a",
   "metadata": {},
   "source": [
    "doesn't account for multiple label strings delimited with something other than '|'"
   ]
  },
  {
   "cell_type": "code",
   "id": "7b256380eceaceaa",
   "metadata": {
    "ExecuteTime": {
     "end_time": "2024-11-21T13:42:38.811475Z",
     "start_time": "2024-11-21T13:42:38.263421Z"
    }
   },
   "source": [
    "ncbi_frame[['extracted_label', 'extracted_curie']] = ncbi_frame['content_list'].apply(parse_curie_label)"
   ],
   "outputs": [],
   "execution_count": 70
  },
  {
   "cell_type": "code",
   "id": "761e39ab29aef0a7",
   "metadata": {
    "ExecuteTime": {
     "end_time": "2024-11-21T13:42:38.868812Z",
     "start_time": "2024-11-21T13:42:38.862164Z"
    }
   },
   "source": [
    "parse_failures = ncbi_frame[\n",
    "    (ncbi_frame['envo_count'] > 0) & (ncbi_frame['extracted_curie'].isna() | (ncbi_frame['extracted_curie'] == ''))]\n"
   ],
   "outputs": [],
   "execution_count": 71
  },
  {
   "cell_type": "code",
   "id": "a9316f11da9ee0c8",
   "metadata": {
    "ExecuteTime": {
     "end_time": "2024-11-21T13:42:38.895418Z",
     "start_time": "2024-11-21T13:42:38.876674Z"
    }
   },
   "source": [
    "parse_failures"
   ],
   "outputs": [
    {
     "data": {
      "text/plain": [
       "      serial_number         content  sample_count    content_list  \\\n",
       "146             137    ENVO00010483            50    ENVO00010483   \n",
       "234             220  [ENVO00010483]            22  [ENVO00010483]   \n",
       "1816           1785      Envo:water             1      Envo:water   \n",
       "\n",
       "      content_count  envo_count extracted_label extracted_curie  \n",
       "146               1           1    ENVO00010483            None  \n",
       "234               1           1  [ENVO00010483]            None  \n",
       "1816              1           1      Envo water            None  "
      ],
      "text/html": [
       "<div>\n",
       "<style scoped>\n",
       "    .dataframe tbody tr th:only-of-type {\n",
       "        vertical-align: middle;\n",
       "    }\n",
       "\n",
       "    .dataframe tbody tr th {\n",
       "        vertical-align: top;\n",
       "    }\n",
       "\n",
       "    .dataframe thead th {\n",
       "        text-align: right;\n",
       "    }\n",
       "</style>\n",
       "<table border=\"1\" class=\"dataframe\">\n",
       "  <thead>\n",
       "    <tr style=\"text-align: right;\">\n",
       "      <th></th>\n",
       "      <th>serial_number</th>\n",
       "      <th>content</th>\n",
       "      <th>sample_count</th>\n",
       "      <th>content_list</th>\n",
       "      <th>content_count</th>\n",
       "      <th>envo_count</th>\n",
       "      <th>extracted_label</th>\n",
       "      <th>extracted_curie</th>\n",
       "    </tr>\n",
       "  </thead>\n",
       "  <tbody>\n",
       "    <tr>\n",
       "      <th>146</th>\n",
       "      <td>137</td>\n",
       "      <td>ENVO00010483</td>\n",
       "      <td>50</td>\n",
       "      <td>ENVO00010483</td>\n",
       "      <td>1</td>\n",
       "      <td>1</td>\n",
       "      <td>ENVO00010483</td>\n",
       "      <td>None</td>\n",
       "    </tr>\n",
       "    <tr>\n",
       "      <th>234</th>\n",
       "      <td>220</td>\n",
       "      <td>[ENVO00010483]</td>\n",
       "      <td>22</td>\n",
       "      <td>[ENVO00010483]</td>\n",
       "      <td>1</td>\n",
       "      <td>1</td>\n",
       "      <td>[ENVO00010483]</td>\n",
       "      <td>None</td>\n",
       "    </tr>\n",
       "    <tr>\n",
       "      <th>1816</th>\n",
       "      <td>1785</td>\n",
       "      <td>Envo:water</td>\n",
       "      <td>1</td>\n",
       "      <td>Envo:water</td>\n",
       "      <td>1</td>\n",
       "      <td>1</td>\n",
       "      <td>Envo water</td>\n",
       "      <td>None</td>\n",
       "    </tr>\n",
       "  </tbody>\n",
       "</table>\n",
       "</div>"
      ]
     },
     "execution_count": 72,
     "metadata": {},
     "output_type": "execute_result"
    }
   ],
   "execution_count": 72
  },
  {
   "cell_type": "code",
   "id": "9bdebd91856ff679",
   "metadata": {
    "ExecuteTime": {
     "end_time": "2024-11-21T13:42:45.568011Z",
     "start_time": "2024-11-21T13:42:44.842382Z"
    }
   },
   "source": [
    "ncbi_frame['real_label'] = ncbi_frame['extracted_curie'].apply(envo_adapter.label)"
   ],
   "outputs": [],
   "execution_count": 73
  },
  {
   "cell_type": "code",
   "id": "d06d899567db022e",
   "metadata": {
    "ExecuteTime": {
     "end_time": "2024-11-21T13:43:01.640462Z",
     "start_time": "2024-11-21T13:42:45.628358Z"
    }
   },
   "source": [
    "# Apply the annotation function to each row in the 'label' column\n",
    "ncbi_frame['longest_annotation_curie'] = ncbi_frame['extracted_label'].apply(\n",
    "    lambda x: get_longest_annotation_curie(x, envo_adapter, MIN_ANNOTATION_LEN))\n",
    "\n",
    "# only runs for ~ 1 minute, but generates a lot of \"ERRORS\" while loading the ontologies that are used for annotating\n"
   ],
   "outputs": [
    {
     "name": "stderr",
     "output_type": "stream",
     "text": [
      "ERROR:root:Skipping statements(subject=ENVO:00000112,predicate=oio:hasDbXref,object=<http://www.eionet.europa.eu/gemet/concept/8704>,value=None,datatype=None,language=None,); ValueError: <http://www.eionet.europa.eu/gemet/concept/8704> is not a valid URI or CURIE\n",
      "ERROR:root:Skipping statements(subject=ENVO:00001996,predicate=oio:hasDbXref,object=<https://en.wikipedia.org/wiki/Acid_mine_drainage>,value=None,datatype=None,language=None,); ValueError: <https://en.wikipedia.org/wiki/Acid_mine_drainage> is not a valid URI or CURIE\n",
      "ERROR:root:Skipping statements(subject=ENVO:01000225,predicate=oio:hasDbXref,object=<https://www.worldwildlife.org/biomes/tropical-and-subtropical-dry-broadleaf-forests>,value=None,datatype=None,language=None,); ValueError: <https://www.worldwildlife.org/biomes/tropical-and-subtropical-dry-broadleaf-forests> is not a valid URI or CURIE\n",
      "ERROR:root:Skipping statements(subject=ENVO:01000227,predicate=oio:hasDbXref,object=<https://www.worldwildlife.org/biomes/tropical-and-subtropical-dry-broadleaf-forests>,value=None,datatype=None,language=None,); ValueError: <https://www.worldwildlife.org/biomes/tropical-and-subtropical-dry-broadleaf-forests> is not a valid URI or CURIE\n",
      "ERROR:root:Skipping statements(subject=ENVO:01001495,predicate=oio:hasDbXref,object=<https://www.goosocean.org/components/com_oe/oe.php?task=download&id=35904&version=2.0&lang=1&format=1>,value=None,datatype=None,language=None,); ValueError: <https://www.goosocean.org/components/com_oe/oe.php?task=download&id=35904&version=2.0&lang=1&format=1> is not a valid URI or CURIE\n",
      "ERROR:root:Skipping statements(subject=ENVO:01001621,predicate=oio:hasDbXref,object=<https://github.com/ESIPFed/sweet/issues/219>,value=None,datatype=None,language=None,); ValueError: <https://github.com/ESIPFed/sweet/issues/219> is not a valid URI or CURIE\n",
      "ERROR:root:Skipping statements(subject=ENVO:01001626,predicate=oio:hasDbXref,object=<https://www.worldwildlife.org/biomes/deserts-and-xeric-shrublands>,value=None,datatype=None,language=None,); ValueError: <https://www.worldwildlife.org/biomes/deserts-and-xeric-shrublands> is not a valid URI or CURIE\n",
      "ERROR:root:Skipping statements(subject=ENVO:01001627,predicate=oio:hasDbXref,object=<https://www.worldwildlife.org/ecoregions/im1304>,value=None,datatype=None,language=None,); ValueError: <https://www.worldwildlife.org/ecoregions/im1304> is not a valid URI or CURIE\n",
      "ERROR:root:Skipping statements(subject=ENVO:01001628,predicate=oio:hasDbXref,object=<https://www.worldwildlife.org/ecoregions/im1303>,value=None,datatype=None,language=None,); ValueError: <https://www.worldwildlife.org/ecoregions/im1303> is not a valid URI or CURIE\n",
      "ERROR:root:Skipping statements(subject=ENVO:01001644,predicate=oio:hasDbXref,object=<http://vocab.nerc.ac.uk/collection/S23/current/S23C021/>,value=None,datatype=None,language=None,); ValueError: <http://vocab.nerc.ac.uk/collection/S23/current/S23C021/> is not a valid URI or CURIE\n",
      "ERROR:root:Skipping statements(subject=ENVO:01001644,predicate=oio:hasDbXref,object=None,value=Carbonate which is formed as the result of some biological process.,datatype=None,language=None,); ValueError: Carbonate which is formed as the result of some biological process. is not a valid URI or CURIE\n",
      "ERROR:root:Skipping statements(subject=ENVO:01001645,predicate=oio:hasDbXref,object=<http://vocab.nerc.ac.uk/collection/S23/current/S23C013/>,value=None,datatype=None,language=None,); ValueError: <http://vocab.nerc.ac.uk/collection/S23/current/S23C013/> is not a valid URI or CURIE\n",
      "ERROR:root:Skipping statements(subject=ENVO:01001646,predicate=oio:hasDbXref,object=<http://vocab.nerc.ac.uk/collection/S23/current/S23C014/>,value=None,datatype=None,language=None,); ValueError: <http://vocab.nerc.ac.uk/collection/S23/current/S23C014/> is not a valid URI or CURIE\n",
      "ERROR:root:Skipping statements(subject=ENVO:01001647,predicate=oio:hasDbXref,object=<http://vocab.nerc.ac.uk/collection/S23/current/S23C004/>,value=None,datatype=None,language=None,); ValueError: <http://vocab.nerc.ac.uk/collection/S23/current/S23C004/> is not a valid URI or CURIE\n",
      "ERROR:root:Skipping statements(subject=ENVO:01001649,predicate=oio:hasDbXref,object=<http://vocab.nerc.ac.uk/collection/S23/current/S23C011/>,value=None,datatype=None,language=None,); ValueError: <http://vocab.nerc.ac.uk/collection/S23/current/S23C011/> is not a valid URI or CURIE\n",
      "ERROR:root:Skipping statements(subject=ENVO:01001650,predicate=oio:hasDbXref,object=<http://vocab.nerc.ac.uk/collection/S23/current/S23C012/>,value=None,datatype=None,language=None,); ValueError: <http://vocab.nerc.ac.uk/collection/S23/current/S23C012/> is not a valid URI or CURIE\n",
      "ERROR:root:Skipping statements(subject=ENVO:01001651,predicate=oio:hasDbXref,object=<http://vocab.nerc.ac.uk/collection/S23/current/S23C003/>,value=None,datatype=None,language=None,); ValueError: <http://vocab.nerc.ac.uk/collection/S23/current/S23C003/> is not a valid URI or CURIE\n",
      "ERROR:root:Skipping statements(subject=ENVO:01001652,predicate=oio:hasDbXref,object=<http://vocab.nerc.ac.uk/collection/S23/current/S23C005/>,value=None,datatype=None,language=None,); ValueError: <http://vocab.nerc.ac.uk/collection/S23/current/S23C005/> is not a valid URI or CURIE\n",
      "ERROR:root:Skipping statements(subject=ENVO:01001685,predicate=oio:hasDbXref,object=<https://github.com/EnvironmentOntology/envo/issues/1319>,value=None,datatype=None,language=None,); ValueError: <https://github.com/EnvironmentOntology/envo/issues/1319> is not a valid URI or CURIE\n",
      "ERROR:root:Skipping statements(subject=ENVO:01001692,predicate=oio:hasDbXref,object=<https://github.com/EnvironmentOntology/envo/issues/1319>,value=None,datatype=None,language=None,); ValueError: <https://github.com/EnvironmentOntology/envo/issues/1319> is not a valid URI or CURIE\n",
      "ERROR:root:Skipping statements(subject=ENVO:01001743,predicate=oio:hasDbXref,object=<https://github.com/EnvironmentOntology/envo/issues/1319>,value=None,datatype=None,language=None,); ValueError: <https://github.com/EnvironmentOntology/envo/issues/1319> is not a valid URI or CURIE\n",
      "ERROR:root:Skipping statements(subject=ENVO:01001799,predicate=oio:hasDbXref,object=<https://www.worldwildlife.org/biomes/tropical-and-subtropical-dry-broadleaf-forests>,value=None,datatype=None,language=None,); ValueError: <https://www.worldwildlife.org/biomes/tropical-and-subtropical-dry-broadleaf-forests> is not a valid URI or CURIE\n",
      "ERROR:root:Skipping statements(subject=ENVO:01001801,predicate=oio:hasDbXref,object=<https://www.worldwildlife.org/biomes/tropical-and-subtropical-dry-broadleaf-forests>,value=None,datatype=None,language=None,); ValueError: <https://www.worldwildlife.org/biomes/tropical-and-subtropical-dry-broadleaf-forests> is not a valid URI or CURIE\n",
      "ERROR:root:Skipping statements(subject=ENVO:01001823,predicate=oio:hasDbXref,object=<https://github.com/EnvironmentOntology/envo/issues/1319>,value=None,datatype=None,language=None,); ValueError: <https://github.com/EnvironmentOntology/envo/issues/1319> is not a valid URI or CURIE\n",
      "ERROR:root:Skipping statements(subject=ENVO:01001878,predicate=oio:hasDbXref,object=<https://www.goosocean.org/index.php?option=com_oe&task=viewDocumentRecord&docID=17476>,value=None,datatype=None,language=None,); ValueError: <https://www.goosocean.org/index.php?option=com_oe&task=viewDocumentRecord&docID=17476> is not a valid URI or CURIE\n",
      "ERROR:root:Skipping statements(subject=ENVO:01001879,predicate=oio:hasDbXref,object=<https://github.com/ESIPFed/sweet/issues/219>,value=None,datatype=None,language=None,); ValueError: <https://github.com/ESIPFed/sweet/issues/219> is not a valid URI or CURIE\n",
      "ERROR:root:Skipping statements(subject=ENVO:01001880,predicate=oio:hasDbXref,object=<https://github.com/ESIPFed/sweet/issues/219>,value=None,datatype=None,language=None,); ValueError: <https://github.com/ESIPFed/sweet/issues/219> is not a valid URI or CURIE\n",
      "ERROR:root:Skipping statements(subject=ENVO:01001881,predicate=oio:hasDbXref,object=<https://github.com/ESIPFed/sweet/issues/219>,value=None,datatype=None,language=None,); ValueError: <https://github.com/ESIPFed/sweet/issues/219> is not a valid URI or CURIE\n",
      "ERROR:root:Skipping statements(subject=ENVO:02000093,predicate=oio:hasDbXref,object=<https://en.wikipedia.org/wiki/Uranium_mining>,value=None,datatype=None,language=None,); ValueError: <https://en.wikipedia.org/wiki/Uranium_mining> is not a valid URI or CURIE\n",
      "ERROR:root:Skipping statements(subject=ENVO:02000094,predicate=oio:hasDbXref,object=<https://en.wikipedia.org/wiki/Ore>,value=None,datatype=None,language=None,); ValueError: <https://en.wikipedia.org/wiki/Ore> is not a valid URI or CURIE\n",
      "ERROR:root:Skipping statements(subject=ENVO:03501363,predicate=oio:hasDbXref,object=<https://www.conveyorsystemsltd.co.uk/news/168/126/Roller-Conveyor-vs-Belt-Conveyor.htm>,value=None,datatype=None,language=None,); ValueError: <https://www.conveyorsystemsltd.co.uk/news/168/126/Roller-Conveyor-vs-Belt-Conveyor.htm> is not a valid URI or CURIE\n",
      "ERROR:root:Skipping statements(subject=ENVO:06105112,predicate=oio:hasDbXref,object=<http://eurovoc.europa.eu/1837>,value=None,datatype=None,language=None,); ValueError: <http://eurovoc.europa.eu/1837> is not a valid URI or CURIE\n",
      "ERROR:root:Skipping statements(subject=ENVO:06105112,predicate=oio:hasDbXref,object=<http://aims.fao.org/aos/agrovoc/c_5998>,value=None,datatype=None,language=None,); ValueError: <http://aims.fao.org/aos/agrovoc/c_5998> is not a valid URI or CURIE\n",
      "WARNING:root:Skipping <http://geneontology.org/foo/applies-pattern> as it is not a valid CURIE\n",
      "WARNING:root:Skipping <http://schema.org/image> as it is not a valid CURIE\n",
      "WARNING:root:Skipping <http://swrl.stanford.edu/ontologies/3.3/swrla.owl#isRuleEnabled> as it is not a valid CURIE\n",
      "WARNING:root:Skipping <https://www.wikidata.org/wiki/Q2306597> as it is not a valid CURIE\n",
      "WARNING:root:Skipping <https://www.wikidata.org/wiki/Q2> as it is not a valid CURIE\n",
      "WARNING:root:Skipping <https://www.wikidata.org/wiki/Q525> as it is not a valid CURIE\n",
      "WARNING:root:Skipping <https://www.wikidata.org/wiki/Q715269> as it is not a valid CURIE\n"
     ]
    }
   ],
   "execution_count": 74
  },
  {
   "cell_type": "code",
   "id": "2d0d090813223db3",
   "metadata": {
    "ExecuteTime": {
     "end_time": "2024-11-21T13:43:02.252814Z",
     "start_time": "2024-11-21T13:43:01.645876Z"
    }
   },
   "source": [
    "ncbi_frame['longest_annotation_label'] = ncbi_frame['longest_annotation_curie'].apply(envo_adapter.label)"
   ],
   "outputs": [],
   "execution_count": 75
  },
  {
   "cell_type": "code",
   "id": "940cd4e688adb239",
   "metadata": {
    "ExecuteTime": {
     "end_time": "2024-11-21T13:43:07.491098Z",
     "start_time": "2024-11-21T13:43:07.479390Z"
    }
   },
   "source": [
    "ncbi_frame"
   ],
   "outputs": [
    {
     "data": {
      "text/plain": [
       "      serial_number                          content  sample_count  \\\n",
       "0                 1                            water         19467   \n",
       "1                 2                    surface water          3494   \n",
       "2                 3                   not applicable          3372   \n",
       "3                 4                            Water          2638   \n",
       "4                 5                         seawater          2521   \n",
       "...             ...                              ...           ...   \n",
       "1926           1894                  marine water-24             1   \n",
       "1927           1895                     laboratory-2             1   \n",
       "1928           1896    water from hydrothermal plume             1   \n",
       "1929           1897       sediment(AS01 subsample-1)             1   \n",
       "1930           1898  estuarine water [ENVO:01000306]             1   \n",
       "\n",
       "                         content_list  content_count  envo_count  \\\n",
       "0                               water              1           0   \n",
       "1                       surface water              1           0   \n",
       "2                      not applicable              1           0   \n",
       "3                               Water              1           0   \n",
       "4                            seawater              1           0   \n",
       "...                               ...            ...         ...   \n",
       "1926                  marine water-24              1           0   \n",
       "1927                     laboratory-2              1           0   \n",
       "1928    water from hydrothermal plume              1           0   \n",
       "1929       sediment(AS01 subsample-1)              1           0   \n",
       "1930  estuarine water [ENVO:01000306]              1           1   \n",
       "\n",
       "                    extracted_label extracted_curie              real_label  \\\n",
       "0                             water            None                    None   \n",
       "1                     surface water            None                    None   \n",
       "2                    not applicable            None                    None   \n",
       "3                             Water            None                    None   \n",
       "4                          seawater            None                    None   \n",
       "...                             ...             ...                     ...   \n",
       "1926                marine water-24            None                    None   \n",
       "1927                   laboratory-2            None                    None   \n",
       "1928  water from hydrothermal plume            None                    None   \n",
       "1929     sediment(AS01 subsample-1)            None                    None   \n",
       "1930                estuarine water   ENVO:01000306  freshwater environment   \n",
       "\n",
       "     longest_annotation_curie longest_annotation_label  \n",
       "0                 CHEBI:15377                    water  \n",
       "1               ENVO:00002042            surface water  \n",
       "2                        None                     None  \n",
       "3                 CHEBI:15377                    water  \n",
       "4               ENVO:00002149                sea water  \n",
       "...                       ...                      ...  \n",
       "1926              CHEBI:15377                    water  \n",
       "1927                     None                     None  \n",
       "1928              CHEBI:15377                    water  \n",
       "1929            ENVO:00002007                 sediment  \n",
       "1930            ENVO:01000301          estuarine water  \n",
       "\n",
       "[1931 rows x 11 columns]"
      ],
      "text/html": [
       "<div>\n",
       "<style scoped>\n",
       "    .dataframe tbody tr th:only-of-type {\n",
       "        vertical-align: middle;\n",
       "    }\n",
       "\n",
       "    .dataframe tbody tr th {\n",
       "        vertical-align: top;\n",
       "    }\n",
       "\n",
       "    .dataframe thead th {\n",
       "        text-align: right;\n",
       "    }\n",
       "</style>\n",
       "<table border=\"1\" class=\"dataframe\">\n",
       "  <thead>\n",
       "    <tr style=\"text-align: right;\">\n",
       "      <th></th>\n",
       "      <th>serial_number</th>\n",
       "      <th>content</th>\n",
       "      <th>sample_count</th>\n",
       "      <th>content_list</th>\n",
       "      <th>content_count</th>\n",
       "      <th>envo_count</th>\n",
       "      <th>extracted_label</th>\n",
       "      <th>extracted_curie</th>\n",
       "      <th>real_label</th>\n",
       "      <th>longest_annotation_curie</th>\n",
       "      <th>longest_annotation_label</th>\n",
       "    </tr>\n",
       "  </thead>\n",
       "  <tbody>\n",
       "    <tr>\n",
       "      <th>0</th>\n",
       "      <td>1</td>\n",
       "      <td>water</td>\n",
       "      <td>19467</td>\n",
       "      <td>water</td>\n",
       "      <td>1</td>\n",
       "      <td>0</td>\n",
       "      <td>water</td>\n",
       "      <td>None</td>\n",
       "      <td>None</td>\n",
       "      <td>CHEBI:15377</td>\n",
       "      <td>water</td>\n",
       "    </tr>\n",
       "    <tr>\n",
       "      <th>1</th>\n",
       "      <td>2</td>\n",
       "      <td>surface water</td>\n",
       "      <td>3494</td>\n",
       "      <td>surface water</td>\n",
       "      <td>1</td>\n",
       "      <td>0</td>\n",
       "      <td>surface water</td>\n",
       "      <td>None</td>\n",
       "      <td>None</td>\n",
       "      <td>ENVO:00002042</td>\n",
       "      <td>surface water</td>\n",
       "    </tr>\n",
       "    <tr>\n",
       "      <th>2</th>\n",
       "      <td>3</td>\n",
       "      <td>not applicable</td>\n",
       "      <td>3372</td>\n",
       "      <td>not applicable</td>\n",
       "      <td>1</td>\n",
       "      <td>0</td>\n",
       "      <td>not applicable</td>\n",
       "      <td>None</td>\n",
       "      <td>None</td>\n",
       "      <td>None</td>\n",
       "      <td>None</td>\n",
       "    </tr>\n",
       "    <tr>\n",
       "      <th>3</th>\n",
       "      <td>4</td>\n",
       "      <td>Water</td>\n",
       "      <td>2638</td>\n",
       "      <td>Water</td>\n",
       "      <td>1</td>\n",
       "      <td>0</td>\n",
       "      <td>Water</td>\n",
       "      <td>None</td>\n",
       "      <td>None</td>\n",
       "      <td>CHEBI:15377</td>\n",
       "      <td>water</td>\n",
       "    </tr>\n",
       "    <tr>\n",
       "      <th>4</th>\n",
       "      <td>5</td>\n",
       "      <td>seawater</td>\n",
       "      <td>2521</td>\n",
       "      <td>seawater</td>\n",
       "      <td>1</td>\n",
       "      <td>0</td>\n",
       "      <td>seawater</td>\n",
       "      <td>None</td>\n",
       "      <td>None</td>\n",
       "      <td>ENVO:00002149</td>\n",
       "      <td>sea water</td>\n",
       "    </tr>\n",
       "    <tr>\n",
       "      <th>...</th>\n",
       "      <td>...</td>\n",
       "      <td>...</td>\n",
       "      <td>...</td>\n",
       "      <td>...</td>\n",
       "      <td>...</td>\n",
       "      <td>...</td>\n",
       "      <td>...</td>\n",
       "      <td>...</td>\n",
       "      <td>...</td>\n",
       "      <td>...</td>\n",
       "      <td>...</td>\n",
       "    </tr>\n",
       "    <tr>\n",
       "      <th>1926</th>\n",
       "      <td>1894</td>\n",
       "      <td>marine water-24</td>\n",
       "      <td>1</td>\n",
       "      <td>marine water-24</td>\n",
       "      <td>1</td>\n",
       "      <td>0</td>\n",
       "      <td>marine water-24</td>\n",
       "      <td>None</td>\n",
       "      <td>None</td>\n",
       "      <td>CHEBI:15377</td>\n",
       "      <td>water</td>\n",
       "    </tr>\n",
       "    <tr>\n",
       "      <th>1927</th>\n",
       "      <td>1895</td>\n",
       "      <td>laboratory-2</td>\n",
       "      <td>1</td>\n",
       "      <td>laboratory-2</td>\n",
       "      <td>1</td>\n",
       "      <td>0</td>\n",
       "      <td>laboratory-2</td>\n",
       "      <td>None</td>\n",
       "      <td>None</td>\n",
       "      <td>None</td>\n",
       "      <td>None</td>\n",
       "    </tr>\n",
       "    <tr>\n",
       "      <th>1928</th>\n",
       "      <td>1896</td>\n",
       "      <td>water from hydrothermal plume</td>\n",
       "      <td>1</td>\n",
       "      <td>water from hydrothermal plume</td>\n",
       "      <td>1</td>\n",
       "      <td>0</td>\n",
       "      <td>water from hydrothermal plume</td>\n",
       "      <td>None</td>\n",
       "      <td>None</td>\n",
       "      <td>CHEBI:15377</td>\n",
       "      <td>water</td>\n",
       "    </tr>\n",
       "    <tr>\n",
       "      <th>1929</th>\n",
       "      <td>1897</td>\n",
       "      <td>sediment(AS01 subsample-1)</td>\n",
       "      <td>1</td>\n",
       "      <td>sediment(AS01 subsample-1)</td>\n",
       "      <td>1</td>\n",
       "      <td>0</td>\n",
       "      <td>sediment(AS01 subsample-1)</td>\n",
       "      <td>None</td>\n",
       "      <td>None</td>\n",
       "      <td>ENVO:00002007</td>\n",
       "      <td>sediment</td>\n",
       "    </tr>\n",
       "    <tr>\n",
       "      <th>1930</th>\n",
       "      <td>1898</td>\n",
       "      <td>estuarine water [ENVO:01000306]</td>\n",
       "      <td>1</td>\n",
       "      <td>estuarine water [ENVO:01000306]</td>\n",
       "      <td>1</td>\n",
       "      <td>1</td>\n",
       "      <td>estuarine water</td>\n",
       "      <td>ENVO:01000306</td>\n",
       "      <td>freshwater environment</td>\n",
       "      <td>ENVO:01000301</td>\n",
       "      <td>estuarine water</td>\n",
       "    </tr>\n",
       "  </tbody>\n",
       "</table>\n",
       "<p>1931 rows × 11 columns</p>\n",
       "</div>"
      ]
     },
     "execution_count": 76,
     "metadata": {},
     "output_type": "execute_result"
    }
   ],
   "execution_count": 76
  },
  {
   "cell_type": "markdown",
   "id": "ff8c423e61902d25",
   "metadata": {},
   "source": [
    "----"
   ]
  },
  {
   "metadata": {
    "ExecuteTime": {
     "end_time": "2024-11-21T13:43:12.508532Z",
     "start_time": "2024-11-21T13:43:12.504820Z"
    }
   },
   "cell_type": "code",
   "source": [
    "if os.path.isfile(gold_data_file_name):\n",
    "    print(f\"{gold_data_file_name} is already present in the current working directory.\")\n",
    "else:\n",
    "    print(f\"{gold_data_file_name} needs to be downloaded\")\n",
    "    gold_response = requests.get(gold_data_url)\n",
    "    with open(gold_data_file_name, \"wb\") as f:\n",
    "        f.write(gold_response.content)\n",
    "        # ~ 10 seconds  @ 250 Mbps"
   ],
   "id": "8de124964756a131",
   "outputs": [
    {
     "name": "stdout",
     "output_type": "stream",
     "text": [
      "goldData.xlsx is already present in the current working directory.\n"
     ]
    }
   ],
   "execution_count": 77
  },
  {
   "metadata": {},
   "cell_type": "markdown",
   "source": [
    "Expect to see\n",
    "\n",
    "> /home/mark/.cache/pypoetry/virtualenvs/nmdc-submission-schema-DC6HKp4p-py3.10/lib/python3.10/site-packages/openpyxl/styles/stylesheet.py:237: UserWarning: Workbook contains no default style, apply openpyxl's default\n",
    "  warn(\"Workbook contains no default style, apply openpyxl's default\")"
   ],
   "id": "590bfd050233cda1"
  },
  {
   "metadata": {
    "ExecuteTime": {
     "end_time": "2024-11-21T13:44:44.276465Z",
     "start_time": "2024-11-21T13:43:12.531324Z"
    }
   },
   "cell_type": "code",
   "source": [
    "gold_biosamples_frame = pd.read_excel(gold_data_file_name, sheet_name=BIOSAMPLES_SHEET)\n",
    "# 1.5 minutes\n",
    "# todo cache the output of this, not the input!\n"
   ],
   "id": "a8ac143654db73dd",
   "outputs": [
    {
     "name": "stderr",
     "output_type": "stream",
     "text": [
      "/home/mark/.cache/pypoetry/virtualenvs/nmdc-submission-schema-DC6HKp4p-py3.10/lib/python3.10/site-packages/openpyxl/styles/stylesheet.py:237: UserWarning: Workbook contains no default style, apply openpyxl's default\n",
      "  warn(\"Workbook contains no default style, apply openpyxl's default\")\n"
     ]
    }
   ],
   "execution_count": 78
  },
  {
   "cell_type": "code",
   "id": "fb292efb113d881a",
   "metadata": {
    "ExecuteTime": {
     "end_time": "2024-11-21T13:44:49.903046Z",
     "start_time": "2024-11-21T13:44:49.898619Z"
    }
   },
   "source": [
    "gold_biosamples_frame['BIOSAMPLE ECOSYSTEM PATH ID'] = gold_biosamples_frame['BIOSAMPLE ECOSYSTEM PATH ID'].fillna(\n",
    "    0).astype(int)\n"
   ],
   "outputs": [],
   "execution_count": 79
  },
  {
   "cell_type": "code",
   "id": "ca3110d5a0a1fa80",
   "metadata": {
    "ExecuteTime": {
     "end_time": "2024-11-21T13:44:55.242485Z",
     "start_time": "2024-11-21T13:44:55.226382Z"
    }
   },
   "source": [
    "gold_biosamples_frame"
   ],
   "outputs": [
    {
     "data": {
      "text/plain": [
       "       BIOSAMPLE GOLD ID                                     BIOSAMPLE NAME  \\\n",
       "0              Gb0011929  GEBA_MDM Biosample from Great Boiling Spring, ...   \n",
       "1              Gb0035601  Compost enrichment cellulose adapted microbial...   \n",
       "2              Gb0035602  Compost enrichment cellulose adapted microbial...   \n",
       "3              Gb0035635  Compost enrichment cellulose adapted microbial...   \n",
       "4              Gb0035638  Compost enrichment cellulose adapted microbial...   \n",
       "...                  ...                                                ...   \n",
       "210932         Gb0405291  Freshwater biofilm microbial communities from ...   \n",
       "210933         Gb0405292  Freshwater biofilm microbial communities from ...   \n",
       "210934         Gb0405293  Freshwater microbial communities from Lake Sug...   \n",
       "210935         Gb0405294  Freshwater microbial communities from Prairie ...   \n",
       "210936         Gb0405295  Freshwater biofilm microbial communities from ...   \n",
       "\n",
       "        BIOSAMPLE NCBI TAX ID BIOSAMPLE NCBI TAX NAME  \\\n",
       "0                    749907.0     sediment metagenome   \n",
       "1                    702656.0      compost metagenome   \n",
       "2                    702656.0      compost metagenome   \n",
       "3                    702656.0      compost metagenome   \n",
       "4                    702656.0      compost metagenome   \n",
       "...                       ...                     ...   \n",
       "210932               718308.0      biofilm metagenome   \n",
       "210933               718308.0      biofilm metagenome   \n",
       "210934               449393.0   freshwater metagenome   \n",
       "210935               449393.0   freshwater metagenome   \n",
       "210936               718308.0      biofilm metagenome   \n",
       "\n",
       "       BIOSAMPLE SAMPLE COLLECTION SITE BIOSAMPLE SAMPLE COLLECTION DATE  \\\n",
       "0                              Sediment                              NaN   \n",
       "1                           single cell                       2012-10-31   \n",
       "2                           single cell                       2012-10-31   \n",
       "3                           single cell                       2012-10-31   \n",
       "4                           single cell                       2012-10-31   \n",
       "...                                 ...                              ...   \n",
       "210932                    creek biofilm                       2023-07-26   \n",
       "210933                    creek biofilm                       2023-07-26   \n",
       "210934                       lake water                       2023-08-01   \n",
       "210935                       lake water                       2023-08-08   \n",
       "210936                    creek biofilm                       2023-07-24   \n",
       "\n",
       "                            BIOSAMPLE GEOGRAPHIC LOCATION  BIOSAMPLE LATITUDE  \\\n",
       "0                      Great Boiling Spring (GBS), Nevada           40.661433   \n",
       "1       USA: California: Emeryville: Joint Bio-Energy ...           37.840800   \n",
       "2       USA: California: Emeryville: Joint Bio-Energy ...           37.840800   \n",
       "3       USA: California: Emeryville: Joint Bio-Energy ...           37.840800   \n",
       "4       USA: California: Emeryville: Joint Bio-Energy ...           37.840800   \n",
       "...                                                   ...                 ...   \n",
       "210932   USA: Lewis Run NEON Field Site, Briggs, Virginia           39.095630   \n",
       "210933   USA: Lewis Run NEON Field Site, Briggs, Virginia           39.095630   \n",
       "210934  USA: Lake Suggs NEON Field Site, Melrose, Florida           29.688140   \n",
       "210935  USA: Prairie Lake NEON Field Site, Vashti, Nor...           47.159710   \n",
       "210936  USA: Kings Creek NEON Field Site, Manhattan, K...           39.105060   \n",
       "\n",
       "        BIOSAMPLE LONGITUDE  BIOSAMPLE ECOSYSTEM PATH ID BIOSAMPLE ECOSYSTEM  \\\n",
       "0               -119.366250                         3992       Environmental   \n",
       "1               -122.289600                         6039          Engineered   \n",
       "2               -122.289600                         6039          Engineered   \n",
       "3               -122.289600                         6039          Engineered   \n",
       "4               -122.289600                         6039          Engineered   \n",
       "...                     ...                          ...                 ...   \n",
       "210932           -77.983216                         8389       Environmental   \n",
       "210933           -77.983216                         8389       Environmental   \n",
       "210934           -82.017318                         4179       Environmental   \n",
       "210935           -99.118723                         4179       Environmental   \n",
       "210936           -96.603829                         8389       Environmental   \n",
       "\n",
       "       BIOSAMPLE ECOSYSTEM CATEGORY BIOSAMPLE ECOSYSTEM TYPE  \\\n",
       "0                           Aquatic          Thermal springs   \n",
       "1                       Solid waste              Green waste   \n",
       "2                       Solid waste              Green waste   \n",
       "3                       Solid waste              Green waste   \n",
       "4                       Solid waste              Green waste   \n",
       "...                             ...                      ...   \n",
       "210932                      Aquatic               Freshwater   \n",
       "210933                      Aquatic               Freshwater   \n",
       "210934                      Aquatic               Freshwater   \n",
       "210935                      Aquatic               Freshwater   \n",
       "210936                      Aquatic               Freshwater   \n",
       "\n",
       "       BIOSAMPLE ECOSYSTEM SUBTYPE BIOSAMPLE SPECIFIC ECOSYSTEM  \n",
       "0                     Hot (42-90C)                 Unclassified  \n",
       "1                       Composting                 Unclassified  \n",
       "2                       Composting                 Unclassified  \n",
       "3                       Composting                 Unclassified  \n",
       "4                       Composting                 Unclassified  \n",
       "...                            ...                          ...  \n",
       "210932                       Creek                      Biofilm  \n",
       "210933                       Creek                      Biofilm  \n",
       "210934                        Lake                 Unclassified  \n",
       "210935                        Lake                 Unclassified  \n",
       "210936                       Creek                      Biofilm  \n",
       "\n",
       "[210937 rows x 15 columns]"
      ],
      "text/html": [
       "<div>\n",
       "<style scoped>\n",
       "    .dataframe tbody tr th:only-of-type {\n",
       "        vertical-align: middle;\n",
       "    }\n",
       "\n",
       "    .dataframe tbody tr th {\n",
       "        vertical-align: top;\n",
       "    }\n",
       "\n",
       "    .dataframe thead th {\n",
       "        text-align: right;\n",
       "    }\n",
       "</style>\n",
       "<table border=\"1\" class=\"dataframe\">\n",
       "  <thead>\n",
       "    <tr style=\"text-align: right;\">\n",
       "      <th></th>\n",
       "      <th>BIOSAMPLE GOLD ID</th>\n",
       "      <th>BIOSAMPLE NAME</th>\n",
       "      <th>BIOSAMPLE NCBI TAX ID</th>\n",
       "      <th>BIOSAMPLE NCBI TAX NAME</th>\n",
       "      <th>BIOSAMPLE SAMPLE COLLECTION SITE</th>\n",
       "      <th>BIOSAMPLE SAMPLE COLLECTION DATE</th>\n",
       "      <th>BIOSAMPLE GEOGRAPHIC LOCATION</th>\n",
       "      <th>BIOSAMPLE LATITUDE</th>\n",
       "      <th>BIOSAMPLE LONGITUDE</th>\n",
       "      <th>BIOSAMPLE ECOSYSTEM PATH ID</th>\n",
       "      <th>BIOSAMPLE ECOSYSTEM</th>\n",
       "      <th>BIOSAMPLE ECOSYSTEM CATEGORY</th>\n",
       "      <th>BIOSAMPLE ECOSYSTEM TYPE</th>\n",
       "      <th>BIOSAMPLE ECOSYSTEM SUBTYPE</th>\n",
       "      <th>BIOSAMPLE SPECIFIC ECOSYSTEM</th>\n",
       "    </tr>\n",
       "  </thead>\n",
       "  <tbody>\n",
       "    <tr>\n",
       "      <th>0</th>\n",
       "      <td>Gb0011929</td>\n",
       "      <td>GEBA_MDM Biosample from Great Boiling Spring, ...</td>\n",
       "      <td>749907.0</td>\n",
       "      <td>sediment metagenome</td>\n",
       "      <td>Sediment</td>\n",
       "      <td>NaN</td>\n",
       "      <td>Great Boiling Spring (GBS), Nevada</td>\n",
       "      <td>40.661433</td>\n",
       "      <td>-119.366250</td>\n",
       "      <td>3992</td>\n",
       "      <td>Environmental</td>\n",
       "      <td>Aquatic</td>\n",
       "      <td>Thermal springs</td>\n",
       "      <td>Hot (42-90C)</td>\n",
       "      <td>Unclassified</td>\n",
       "    </tr>\n",
       "    <tr>\n",
       "      <th>1</th>\n",
       "      <td>Gb0035601</td>\n",
       "      <td>Compost enrichment cellulose adapted microbial...</td>\n",
       "      <td>702656.0</td>\n",
       "      <td>compost metagenome</td>\n",
       "      <td>single cell</td>\n",
       "      <td>2012-10-31</td>\n",
       "      <td>USA: California: Emeryville: Joint Bio-Energy ...</td>\n",
       "      <td>37.840800</td>\n",
       "      <td>-122.289600</td>\n",
       "      <td>6039</td>\n",
       "      <td>Engineered</td>\n",
       "      <td>Solid waste</td>\n",
       "      <td>Green waste</td>\n",
       "      <td>Composting</td>\n",
       "      <td>Unclassified</td>\n",
       "    </tr>\n",
       "    <tr>\n",
       "      <th>2</th>\n",
       "      <td>Gb0035602</td>\n",
       "      <td>Compost enrichment cellulose adapted microbial...</td>\n",
       "      <td>702656.0</td>\n",
       "      <td>compost metagenome</td>\n",
       "      <td>single cell</td>\n",
       "      <td>2012-10-31</td>\n",
       "      <td>USA: California: Emeryville: Joint Bio-Energy ...</td>\n",
       "      <td>37.840800</td>\n",
       "      <td>-122.289600</td>\n",
       "      <td>6039</td>\n",
       "      <td>Engineered</td>\n",
       "      <td>Solid waste</td>\n",
       "      <td>Green waste</td>\n",
       "      <td>Composting</td>\n",
       "      <td>Unclassified</td>\n",
       "    </tr>\n",
       "    <tr>\n",
       "      <th>3</th>\n",
       "      <td>Gb0035635</td>\n",
       "      <td>Compost enrichment cellulose adapted microbial...</td>\n",
       "      <td>702656.0</td>\n",
       "      <td>compost metagenome</td>\n",
       "      <td>single cell</td>\n",
       "      <td>2012-10-31</td>\n",
       "      <td>USA: California: Emeryville: Joint Bio-Energy ...</td>\n",
       "      <td>37.840800</td>\n",
       "      <td>-122.289600</td>\n",
       "      <td>6039</td>\n",
       "      <td>Engineered</td>\n",
       "      <td>Solid waste</td>\n",
       "      <td>Green waste</td>\n",
       "      <td>Composting</td>\n",
       "      <td>Unclassified</td>\n",
       "    </tr>\n",
       "    <tr>\n",
       "      <th>4</th>\n",
       "      <td>Gb0035638</td>\n",
       "      <td>Compost enrichment cellulose adapted microbial...</td>\n",
       "      <td>702656.0</td>\n",
       "      <td>compost metagenome</td>\n",
       "      <td>single cell</td>\n",
       "      <td>2012-10-31</td>\n",
       "      <td>USA: California: Emeryville: Joint Bio-Energy ...</td>\n",
       "      <td>37.840800</td>\n",
       "      <td>-122.289600</td>\n",
       "      <td>6039</td>\n",
       "      <td>Engineered</td>\n",
       "      <td>Solid waste</td>\n",
       "      <td>Green waste</td>\n",
       "      <td>Composting</td>\n",
       "      <td>Unclassified</td>\n",
       "    </tr>\n",
       "    <tr>\n",
       "      <th>...</th>\n",
       "      <td>...</td>\n",
       "      <td>...</td>\n",
       "      <td>...</td>\n",
       "      <td>...</td>\n",
       "      <td>...</td>\n",
       "      <td>...</td>\n",
       "      <td>...</td>\n",
       "      <td>...</td>\n",
       "      <td>...</td>\n",
       "      <td>...</td>\n",
       "      <td>...</td>\n",
       "      <td>...</td>\n",
       "      <td>...</td>\n",
       "      <td>...</td>\n",
       "      <td>...</td>\n",
       "    </tr>\n",
       "    <tr>\n",
       "      <th>210932</th>\n",
       "      <td>Gb0405291</td>\n",
       "      <td>Freshwater biofilm microbial communities from ...</td>\n",
       "      <td>718308.0</td>\n",
       "      <td>biofilm metagenome</td>\n",
       "      <td>creek biofilm</td>\n",
       "      <td>2023-07-26</td>\n",
       "      <td>USA: Lewis Run NEON Field Site, Briggs, Virginia</td>\n",
       "      <td>39.095630</td>\n",
       "      <td>-77.983216</td>\n",
       "      <td>8389</td>\n",
       "      <td>Environmental</td>\n",
       "      <td>Aquatic</td>\n",
       "      <td>Freshwater</td>\n",
       "      <td>Creek</td>\n",
       "      <td>Biofilm</td>\n",
       "    </tr>\n",
       "    <tr>\n",
       "      <th>210933</th>\n",
       "      <td>Gb0405292</td>\n",
       "      <td>Freshwater biofilm microbial communities from ...</td>\n",
       "      <td>718308.0</td>\n",
       "      <td>biofilm metagenome</td>\n",
       "      <td>creek biofilm</td>\n",
       "      <td>2023-07-26</td>\n",
       "      <td>USA: Lewis Run NEON Field Site, Briggs, Virginia</td>\n",
       "      <td>39.095630</td>\n",
       "      <td>-77.983216</td>\n",
       "      <td>8389</td>\n",
       "      <td>Environmental</td>\n",
       "      <td>Aquatic</td>\n",
       "      <td>Freshwater</td>\n",
       "      <td>Creek</td>\n",
       "      <td>Biofilm</td>\n",
       "    </tr>\n",
       "    <tr>\n",
       "      <th>210934</th>\n",
       "      <td>Gb0405293</td>\n",
       "      <td>Freshwater microbial communities from Lake Sug...</td>\n",
       "      <td>449393.0</td>\n",
       "      <td>freshwater metagenome</td>\n",
       "      <td>lake water</td>\n",
       "      <td>2023-08-01</td>\n",
       "      <td>USA: Lake Suggs NEON Field Site, Melrose, Florida</td>\n",
       "      <td>29.688140</td>\n",
       "      <td>-82.017318</td>\n",
       "      <td>4179</td>\n",
       "      <td>Environmental</td>\n",
       "      <td>Aquatic</td>\n",
       "      <td>Freshwater</td>\n",
       "      <td>Lake</td>\n",
       "      <td>Unclassified</td>\n",
       "    </tr>\n",
       "    <tr>\n",
       "      <th>210935</th>\n",
       "      <td>Gb0405294</td>\n",
       "      <td>Freshwater microbial communities from Prairie ...</td>\n",
       "      <td>449393.0</td>\n",
       "      <td>freshwater metagenome</td>\n",
       "      <td>lake water</td>\n",
       "      <td>2023-08-08</td>\n",
       "      <td>USA: Prairie Lake NEON Field Site, Vashti, Nor...</td>\n",
       "      <td>47.159710</td>\n",
       "      <td>-99.118723</td>\n",
       "      <td>4179</td>\n",
       "      <td>Environmental</td>\n",
       "      <td>Aquatic</td>\n",
       "      <td>Freshwater</td>\n",
       "      <td>Lake</td>\n",
       "      <td>Unclassified</td>\n",
       "    </tr>\n",
       "    <tr>\n",
       "      <th>210936</th>\n",
       "      <td>Gb0405295</td>\n",
       "      <td>Freshwater biofilm microbial communities from ...</td>\n",
       "      <td>718308.0</td>\n",
       "      <td>biofilm metagenome</td>\n",
       "      <td>creek biofilm</td>\n",
       "      <td>2023-07-24</td>\n",
       "      <td>USA: Kings Creek NEON Field Site, Manhattan, K...</td>\n",
       "      <td>39.105060</td>\n",
       "      <td>-96.603829</td>\n",
       "      <td>8389</td>\n",
       "      <td>Environmental</td>\n",
       "      <td>Aquatic</td>\n",
       "      <td>Freshwater</td>\n",
       "      <td>Creek</td>\n",
       "      <td>Biofilm</td>\n",
       "    </tr>\n",
       "  </tbody>\n",
       "</table>\n",
       "<p>210937 rows × 15 columns</p>\n",
       "</div>"
      ]
     },
     "execution_count": 80,
     "metadata": {},
     "output_type": "execute_result"
    }
   ],
   "execution_count": 80
  },
  {
   "cell_type": "code",
   "id": "40f8fc6862a817f3",
   "metadata": {
    "ExecuteTime": {
     "end_time": "2024-11-21T13:45:00.597805Z",
     "start_time": "2024-11-21T13:45:00.593744Z"
    }
   },
   "source": [
    "# Determine the filenames and target directory\n",
    "goldterms_compressed_filename = urlparse(goldterms_semsql_url).path.split('/')[-1]\n",
    "goldterms_filename = os.path.splitext(goldterms_compressed_filename)[0]\n",
    "target_dir = os.path.join(\"..\", \"..\")  # Two levels up\n",
    "\n",
    "# Print to confirm the filenames\n",
    "print(goldterms_filename)"
   ],
   "outputs": [
    {
     "name": "stdout",
     "output_type": "stream",
     "text": [
      "goldterms.db\n"
     ]
    }
   ],
   "execution_count": 81
  },
  {
   "cell_type": "code",
   "id": "784c07d7b6bee4c2",
   "metadata": {
    "ExecuteTime": {
     "end_time": "2024-11-21T13:45:01.013025Z",
     "start_time": "2024-11-21T13:45:00.652398Z"
    }
   },
   "source": [
    "# Fetch the contents from the URL and save compressed file in target directory\n",
    "goldterms_response = requests.get(goldterms_semsql_url)\n",
    "goldterms_compressed_file_path = os.path.join(target_dir, goldterms_compressed_filename)\n",
    "with open(goldterms_compressed_file_path, \"wb\") as f:\n",
    "    f.write(goldterms_response.content)\n",
    "    \n",
    "# ~ 1 second"
   ],
   "outputs": [],
   "execution_count": 82
  },
  {
   "cell_type": "code",
   "id": "cd765130d59cd026",
   "metadata": {
    "ExecuteTime": {
     "end_time": "2024-11-21T13:45:01.083752Z",
     "start_time": "2024-11-21T13:45:01.016617Z"
    }
   },
   "source": [
    "# Unzip the compressed file and save the extracted file in target directory\n",
    "goldterms_uncompressed_file_path = os.path.join(target_dir, goldterms_filename)\n",
    "with gzip.open(goldterms_compressed_file_path, \"rb\") as f_in:\n",
    "    with open(goldterms_uncompressed_file_path, \"wb\") as f_out:\n",
    "        shutil.copyfileobj(f_in, f_out)\n",
    "\n",
    "# ~ 1 second"
   ],
   "outputs": [],
   "execution_count": 83
  },
  {
   "metadata": {
    "ExecuteTime": {
     "end_time": "2024-11-21T13:45:07.799993Z",
     "start_time": "2024-11-21T13:45:07.797387Z"
    }
   },
   "cell_type": "code",
   "source": "# that's all fast. don't bother caching",
   "id": "fd2fab3ddcf862ce",
   "outputs": [],
   "execution_count": 84
  },
  {
   "cell_type": "code",
   "id": "dcf847a3c2ed302d",
   "metadata": {
    "ExecuteTime": {
     "end_time": "2024-11-21T13:45:13.010743Z",
     "start_time": "2024-11-21T13:45:13.007977Z"
    }
   },
   "source": [
    "goldterms_conn = sqlite3.connect(goldterms_uncompressed_file_path)"
   ],
   "outputs": [],
   "execution_count": 85
  },
  {
   "cell_type": "code",
   "id": "cd5b0875ee9410c6",
   "metadata": {
    "ExecuteTime": {
     "end_time": "2024-11-21T13:45:18.248996Z",
     "start_time": "2024-11-21T13:45:18.243557Z"
    }
   },
   "source": [
    "goldterms_subjects = pd.read_sql_query(goldterms_subclass_query, goldterms_conn)"
   ],
   "outputs": [],
   "execution_count": 86
  },
  {
   "cell_type": "code",
   "id": "b35003035f6c1833",
   "metadata": {
    "ExecuteTime": {
     "end_time": "2024-11-21T13:45:23.663458Z",
     "start_time": "2024-11-21T13:45:23.659137Z"
    }
   },
   "source": [
    "goldterms_subjects['path_id'] = goldterms_subjects['subject'].str.extract(r'GOLDTERMS:(\\d+)')"
   ],
   "outputs": [],
   "execution_count": 87
  },
  {
   "cell_type": "code",
   "id": "afaaf46c3a83dc3e",
   "metadata": {
    "ExecuteTime": {
     "end_time": "2024-11-21T13:45:29.625911Z",
     "start_time": "2024-11-21T13:45:29.618357Z"
    }
   },
   "source": [
    "goldterms_subjects"
   ],
   "outputs": [
    {
     "data": {
      "text/plain": [
       "            subject path_id\n",
       "0    GOLDTERMS:4184    4184\n",
       "1    GOLDTERMS:5342    5342\n",
       "2    GOLDTERMS:4019    4019\n",
       "3    GOLDTERMS:4012    4012\n",
       "4    GOLDTERMS:5544    5544\n",
       "..              ...     ...\n",
       "205  GOLDTERMS:4653    4653\n",
       "206  GOLDTERMS:4167    4167\n",
       "207  GOLDTERMS:5346    5346\n",
       "208  GOLDTERMS:3965    3965\n",
       "209  GOLDTERMS:5122    5122\n",
       "\n",
       "[210 rows x 2 columns]"
      ],
      "text/html": [
       "<div>\n",
       "<style scoped>\n",
       "    .dataframe tbody tr th:only-of-type {\n",
       "        vertical-align: middle;\n",
       "    }\n",
       "\n",
       "    .dataframe tbody tr th {\n",
       "        vertical-align: top;\n",
       "    }\n",
       "\n",
       "    .dataframe thead th {\n",
       "        text-align: right;\n",
       "    }\n",
       "</style>\n",
       "<table border=\"1\" class=\"dataframe\">\n",
       "  <thead>\n",
       "    <tr style=\"text-align: right;\">\n",
       "      <th></th>\n",
       "      <th>subject</th>\n",
       "      <th>path_id</th>\n",
       "    </tr>\n",
       "  </thead>\n",
       "  <tbody>\n",
       "    <tr>\n",
       "      <th>0</th>\n",
       "      <td>GOLDTERMS:4184</td>\n",
       "      <td>4184</td>\n",
       "    </tr>\n",
       "    <tr>\n",
       "      <th>1</th>\n",
       "      <td>GOLDTERMS:5342</td>\n",
       "      <td>5342</td>\n",
       "    </tr>\n",
       "    <tr>\n",
       "      <th>2</th>\n",
       "      <td>GOLDTERMS:4019</td>\n",
       "      <td>4019</td>\n",
       "    </tr>\n",
       "    <tr>\n",
       "      <th>3</th>\n",
       "      <td>GOLDTERMS:4012</td>\n",
       "      <td>4012</td>\n",
       "    </tr>\n",
       "    <tr>\n",
       "      <th>4</th>\n",
       "      <td>GOLDTERMS:5544</td>\n",
       "      <td>5544</td>\n",
       "    </tr>\n",
       "    <tr>\n",
       "      <th>...</th>\n",
       "      <td>...</td>\n",
       "      <td>...</td>\n",
       "    </tr>\n",
       "    <tr>\n",
       "      <th>205</th>\n",
       "      <td>GOLDTERMS:4653</td>\n",
       "      <td>4653</td>\n",
       "    </tr>\n",
       "    <tr>\n",
       "      <th>206</th>\n",
       "      <td>GOLDTERMS:4167</td>\n",
       "      <td>4167</td>\n",
       "    </tr>\n",
       "    <tr>\n",
       "      <th>207</th>\n",
       "      <td>GOLDTERMS:5346</td>\n",
       "      <td>5346</td>\n",
       "    </tr>\n",
       "    <tr>\n",
       "      <th>208</th>\n",
       "      <td>GOLDTERMS:3965</td>\n",
       "      <td>3965</td>\n",
       "    </tr>\n",
       "    <tr>\n",
       "      <th>209</th>\n",
       "      <td>GOLDTERMS:5122</td>\n",
       "      <td>5122</td>\n",
       "    </tr>\n",
       "  </tbody>\n",
       "</table>\n",
       "<p>210 rows × 2 columns</p>\n",
       "</div>"
      ]
     },
     "execution_count": 88,
     "metadata": {},
     "output_type": "execute_result"
    }
   ],
   "execution_count": 88
  },
  {
   "cell_type": "code",
   "id": "6d8f2db9770e83b7",
   "metadata": {
    "ExecuteTime": {
     "end_time": "2024-11-21T13:45:34.888999Z",
     "start_time": "2024-11-21T13:45:34.885484Z"
    }
   },
   "source": [
    "gold_path_ids = goldterms_subjects['path_id'].dropna().unique().tolist()\n",
    "gold_path_ids = [int(my_id) for my_id in gold_path_ids]\n"
   ],
   "outputs": [],
   "execution_count": 89
  },
  {
   "cell_type": "code",
   "id": "2d78193b734e2ab4",
   "metadata": {
    "ExecuteTime": {
     "end_time": "2024-11-21T13:45:34.925747Z",
     "start_time": "2024-11-21T13:45:34.894419Z"
    }
   },
   "source": [
    "gold_env_filtered_biosamples_frame = gold_biosamples_frame[\n",
    "    gold_biosamples_frame['BIOSAMPLE ECOSYSTEM PATH ID'].isin(gold_path_ids)]\n"
   ],
   "outputs": [],
   "execution_count": 90
  },
  {
   "cell_type": "code",
   "id": "3f24e8a82845de52",
   "metadata": {
    "ExecuteTime": {
     "end_time": "2024-11-21T13:45:34.987142Z",
     "start_time": "2024-11-21T13:45:34.970060Z"
    }
   },
   "source": [
    "gold_env_filtered_biosamples_frame"
   ],
   "outputs": [
    {
     "data": {
      "text/plain": [
       "       BIOSAMPLE GOLD ID                                     BIOSAMPLE NAME  \\\n",
       "0              Gb0011929  GEBA_MDM Biosample from Great Boiling Spring, ...   \n",
       "15             Gb0050975  Acid Mine Drainage (ARMAN) microbial communiti...   \n",
       "16             Gb0050977  Marine microbial communities from the Indian O...   \n",
       "17             Gb0050978  Marine ecosystem from Global Ocean Sampling (G...   \n",
       "18             Gb0050979  Fossil microbial communities from Whale Fall, ...   \n",
       "...                  ...                                                ...   \n",
       "210887         Gb0404279  Freshwater sediment microbial communities from...   \n",
       "210888         Gb0404280  Freshwater microbial communities from Caribou ...   \n",
       "210930         Gb0405289  Freshwater biofilm microbial communities from ...   \n",
       "210934         Gb0405293  Freshwater microbial communities from Lake Sug...   \n",
       "210935         Gb0405294  Freshwater microbial communities from Prairie ...   \n",
       "\n",
       "        BIOSAMPLE NCBI TAX ID   BIOSAMPLE NCBI TAX NAME  \\\n",
       "0                    749907.0       sediment metagenome   \n",
       "15                   718308.0  mine drainage metagenome   \n",
       "16                   405178.0         marine metagenome   \n",
       "17                   405178.0         marine metagenome   \n",
       "18                   444079.0         fossil metagenome   \n",
       "...                       ...                       ...   \n",
       "210887               749907.0       sediment metagenome   \n",
       "210888               449393.0     freshwater metagenome   \n",
       "210930               718308.0        biofilm metagenome   \n",
       "210934               449393.0     freshwater metagenome   \n",
       "210935               449393.0     freshwater metagenome   \n",
       "\n",
       "                   BIOSAMPLE SAMPLE COLLECTION SITE  \\\n",
       "0                                          Sediment   \n",
       "15                               Acid mine drainage   \n",
       "16                                     Indian Ocean   \n",
       "17                         Cocos Island, Costa Rica   \n",
       "18      Whale Fall, Santa Cruz Basin, Pacific Ocean   \n",
       "...                                             ...   \n",
       "210887                        freshwater epipsammon   \n",
       "210888                                 stream water   \n",
       "210930                                river biofilm   \n",
       "210934                                   lake water   \n",
       "210935                                   lake water   \n",
       "\n",
       "       BIOSAMPLE SAMPLE COLLECTION DATE  \\\n",
       "0                                   NaN   \n",
       "15                           2005-06-01   \n",
       "16                           2005-08-01   \n",
       "17                                  NaN   \n",
       "18                                  NaN   \n",
       "...                                 ...   \n",
       "210887                       2023-10-18   \n",
       "210888                       2023-10-31   \n",
       "210930                       2023-07-11   \n",
       "210934                       2023-08-01   \n",
       "210935                       2023-08-08   \n",
       "\n",
       "                            BIOSAMPLE GEOGRAPHIC LOCATION  BIOSAMPLE LATITUDE  \\\n",
       "0                      Great Boiling Spring (GBS), Nevada           40.661433   \n",
       "15                       Richmond Mine, Iron Mountain CA            40.677339   \n",
       "16                                           Indian Ocean           -8.505250   \n",
       "17                               Cocos Island, Costa Rica            5.640000   \n",
       "18            Whale Fall, Santa Cruz Basin, Pacific Ocean           33.300000   \n",
       "...                                                   ...                 ...   \n",
       "210887                         USA: Gatlinburg, Tennessee           35.690420   \n",
       "210888                             USA: Chatanika, Alaska           65.153080   \n",
       "210930  USA: Arikaree River NEON Field Site, Yuma Coun...           39.758200   \n",
       "210934  USA: Lake Suggs NEON Field Site, Melrose, Florida           29.688140   \n",
       "210935  USA: Prairie Lake NEON Field Site, Vashti, Nor...           47.159710   \n",
       "\n",
       "        BIOSAMPLE LONGITUDE  BIOSAMPLE ECOSYSTEM PATH ID BIOSAMPLE ECOSYSTEM  \\\n",
       "0               -119.366250                         3992       Environmental   \n",
       "15              -122.522194                         4164       Environmental   \n",
       "16                80.375583                         4008       Environmental   \n",
       "17               -86.565280                         3973       Environmental   \n",
       "18              -119.220000                         4000       Environmental   \n",
       "...                     ...                          ...                 ...   \n",
       "210887           -83.503790                         5385       Environmental   \n",
       "210888          -147.501997                         4514       Environmental   \n",
       "210930          -102.447148                         5348       Environmental   \n",
       "210934           -82.017318                         4179       Environmental   \n",
       "210935           -99.118723                         4179       Environmental   \n",
       "\n",
       "       BIOSAMPLE ECOSYSTEM CATEGORY        BIOSAMPLE ECOSYSTEM TYPE  \\\n",
       "0                           Aquatic                 Thermal springs   \n",
       "15                          Aquatic                      Freshwater   \n",
       "16                          Aquatic                          Marine   \n",
       "17                          Aquatic  Non-marine Saline and Alkaline   \n",
       "18                          Aquatic                          Marine   \n",
       "...                             ...                             ...   \n",
       "210887                      Aquatic                      Freshwater   \n",
       "210888                      Aquatic                      Freshwater   \n",
       "210930                      Aquatic                      Freshwater   \n",
       "210934                      Aquatic                      Freshwater   \n",
       "210935                      Aquatic                      Freshwater   \n",
       "\n",
       "       BIOSAMPLE ECOSYSTEM SUBTYPE BIOSAMPLE SPECIFIC ECOSYSTEM  \n",
       "0                     Hot (42-90C)                 Unclassified  \n",
       "15                     Groundwater           Acid Mine Drainage  \n",
       "16                         Oceanic                 Unclassified  \n",
       "17                          Saline                 Unclassified  \n",
       "18                          Fossil                   Whale fall  \n",
       "...                            ...                          ...  \n",
       "210887                       Creek                     Sediment  \n",
       "210888                       Creek                 Unclassified  \n",
       "210930                       River                River biofilm  \n",
       "210934                        Lake                 Unclassified  \n",
       "210935                        Lake                 Unclassified  \n",
       "\n",
       "[51838 rows x 15 columns]"
      ],
      "text/html": [
       "<div>\n",
       "<style scoped>\n",
       "    .dataframe tbody tr th:only-of-type {\n",
       "        vertical-align: middle;\n",
       "    }\n",
       "\n",
       "    .dataframe tbody tr th {\n",
       "        vertical-align: top;\n",
       "    }\n",
       "\n",
       "    .dataframe thead th {\n",
       "        text-align: right;\n",
       "    }\n",
       "</style>\n",
       "<table border=\"1\" class=\"dataframe\">\n",
       "  <thead>\n",
       "    <tr style=\"text-align: right;\">\n",
       "      <th></th>\n",
       "      <th>BIOSAMPLE GOLD ID</th>\n",
       "      <th>BIOSAMPLE NAME</th>\n",
       "      <th>BIOSAMPLE NCBI TAX ID</th>\n",
       "      <th>BIOSAMPLE NCBI TAX NAME</th>\n",
       "      <th>BIOSAMPLE SAMPLE COLLECTION SITE</th>\n",
       "      <th>BIOSAMPLE SAMPLE COLLECTION DATE</th>\n",
       "      <th>BIOSAMPLE GEOGRAPHIC LOCATION</th>\n",
       "      <th>BIOSAMPLE LATITUDE</th>\n",
       "      <th>BIOSAMPLE LONGITUDE</th>\n",
       "      <th>BIOSAMPLE ECOSYSTEM PATH ID</th>\n",
       "      <th>BIOSAMPLE ECOSYSTEM</th>\n",
       "      <th>BIOSAMPLE ECOSYSTEM CATEGORY</th>\n",
       "      <th>BIOSAMPLE ECOSYSTEM TYPE</th>\n",
       "      <th>BIOSAMPLE ECOSYSTEM SUBTYPE</th>\n",
       "      <th>BIOSAMPLE SPECIFIC ECOSYSTEM</th>\n",
       "    </tr>\n",
       "  </thead>\n",
       "  <tbody>\n",
       "    <tr>\n",
       "      <th>0</th>\n",
       "      <td>Gb0011929</td>\n",
       "      <td>GEBA_MDM Biosample from Great Boiling Spring, ...</td>\n",
       "      <td>749907.0</td>\n",
       "      <td>sediment metagenome</td>\n",
       "      <td>Sediment</td>\n",
       "      <td>NaN</td>\n",
       "      <td>Great Boiling Spring (GBS), Nevada</td>\n",
       "      <td>40.661433</td>\n",
       "      <td>-119.366250</td>\n",
       "      <td>3992</td>\n",
       "      <td>Environmental</td>\n",
       "      <td>Aquatic</td>\n",
       "      <td>Thermal springs</td>\n",
       "      <td>Hot (42-90C)</td>\n",
       "      <td>Unclassified</td>\n",
       "    </tr>\n",
       "    <tr>\n",
       "      <th>15</th>\n",
       "      <td>Gb0050975</td>\n",
       "      <td>Acid Mine Drainage (ARMAN) microbial communiti...</td>\n",
       "      <td>718308.0</td>\n",
       "      <td>mine drainage metagenome</td>\n",
       "      <td>Acid mine drainage</td>\n",
       "      <td>2005-06-01</td>\n",
       "      <td>Richmond Mine, Iron Mountain CA</td>\n",
       "      <td>40.677339</td>\n",
       "      <td>-122.522194</td>\n",
       "      <td>4164</td>\n",
       "      <td>Environmental</td>\n",
       "      <td>Aquatic</td>\n",
       "      <td>Freshwater</td>\n",
       "      <td>Groundwater</td>\n",
       "      <td>Acid Mine Drainage</td>\n",
       "    </tr>\n",
       "    <tr>\n",
       "      <th>16</th>\n",
       "      <td>Gb0050977</td>\n",
       "      <td>Marine microbial communities from the Indian O...</td>\n",
       "      <td>405178.0</td>\n",
       "      <td>marine metagenome</td>\n",
       "      <td>Indian Ocean</td>\n",
       "      <td>2005-08-01</td>\n",
       "      <td>Indian Ocean</td>\n",
       "      <td>-8.505250</td>\n",
       "      <td>80.375583</td>\n",
       "      <td>4008</td>\n",
       "      <td>Environmental</td>\n",
       "      <td>Aquatic</td>\n",
       "      <td>Marine</td>\n",
       "      <td>Oceanic</td>\n",
       "      <td>Unclassified</td>\n",
       "    </tr>\n",
       "    <tr>\n",
       "      <th>17</th>\n",
       "      <td>Gb0050978</td>\n",
       "      <td>Marine ecosystem from Global Ocean Sampling (G...</td>\n",
       "      <td>405178.0</td>\n",
       "      <td>marine metagenome</td>\n",
       "      <td>Cocos Island, Costa Rica</td>\n",
       "      <td>NaN</td>\n",
       "      <td>Cocos Island, Costa Rica</td>\n",
       "      <td>5.640000</td>\n",
       "      <td>-86.565280</td>\n",
       "      <td>3973</td>\n",
       "      <td>Environmental</td>\n",
       "      <td>Aquatic</td>\n",
       "      <td>Non-marine Saline and Alkaline</td>\n",
       "      <td>Saline</td>\n",
       "      <td>Unclassified</td>\n",
       "    </tr>\n",
       "    <tr>\n",
       "      <th>18</th>\n",
       "      <td>Gb0050979</td>\n",
       "      <td>Fossil microbial communities from Whale Fall, ...</td>\n",
       "      <td>444079.0</td>\n",
       "      <td>fossil metagenome</td>\n",
       "      <td>Whale Fall, Santa Cruz Basin, Pacific Ocean</td>\n",
       "      <td>NaN</td>\n",
       "      <td>Whale Fall, Santa Cruz Basin, Pacific Ocean</td>\n",
       "      <td>33.300000</td>\n",
       "      <td>-119.220000</td>\n",
       "      <td>4000</td>\n",
       "      <td>Environmental</td>\n",
       "      <td>Aquatic</td>\n",
       "      <td>Marine</td>\n",
       "      <td>Fossil</td>\n",
       "      <td>Whale fall</td>\n",
       "    </tr>\n",
       "    <tr>\n",
       "      <th>...</th>\n",
       "      <td>...</td>\n",
       "      <td>...</td>\n",
       "      <td>...</td>\n",
       "      <td>...</td>\n",
       "      <td>...</td>\n",
       "      <td>...</td>\n",
       "      <td>...</td>\n",
       "      <td>...</td>\n",
       "      <td>...</td>\n",
       "      <td>...</td>\n",
       "      <td>...</td>\n",
       "      <td>...</td>\n",
       "      <td>...</td>\n",
       "      <td>...</td>\n",
       "      <td>...</td>\n",
       "    </tr>\n",
       "    <tr>\n",
       "      <th>210887</th>\n",
       "      <td>Gb0404279</td>\n",
       "      <td>Freshwater sediment microbial communities from...</td>\n",
       "      <td>749907.0</td>\n",
       "      <td>sediment metagenome</td>\n",
       "      <td>freshwater epipsammon</td>\n",
       "      <td>2023-10-18</td>\n",
       "      <td>USA: Gatlinburg, Tennessee</td>\n",
       "      <td>35.690420</td>\n",
       "      <td>-83.503790</td>\n",
       "      <td>5385</td>\n",
       "      <td>Environmental</td>\n",
       "      <td>Aquatic</td>\n",
       "      <td>Freshwater</td>\n",
       "      <td>Creek</td>\n",
       "      <td>Sediment</td>\n",
       "    </tr>\n",
       "    <tr>\n",
       "      <th>210888</th>\n",
       "      <td>Gb0404280</td>\n",
       "      <td>Freshwater microbial communities from Caribou ...</td>\n",
       "      <td>449393.0</td>\n",
       "      <td>freshwater metagenome</td>\n",
       "      <td>stream water</td>\n",
       "      <td>2023-10-31</td>\n",
       "      <td>USA: Chatanika, Alaska</td>\n",
       "      <td>65.153080</td>\n",
       "      <td>-147.501997</td>\n",
       "      <td>4514</td>\n",
       "      <td>Environmental</td>\n",
       "      <td>Aquatic</td>\n",
       "      <td>Freshwater</td>\n",
       "      <td>Creek</td>\n",
       "      <td>Unclassified</td>\n",
       "    </tr>\n",
       "    <tr>\n",
       "      <th>210930</th>\n",
       "      <td>Gb0405289</td>\n",
       "      <td>Freshwater biofilm microbial communities from ...</td>\n",
       "      <td>718308.0</td>\n",
       "      <td>biofilm metagenome</td>\n",
       "      <td>river biofilm</td>\n",
       "      <td>2023-07-11</td>\n",
       "      <td>USA: Arikaree River NEON Field Site, Yuma Coun...</td>\n",
       "      <td>39.758200</td>\n",
       "      <td>-102.447148</td>\n",
       "      <td>5348</td>\n",
       "      <td>Environmental</td>\n",
       "      <td>Aquatic</td>\n",
       "      <td>Freshwater</td>\n",
       "      <td>River</td>\n",
       "      <td>River biofilm</td>\n",
       "    </tr>\n",
       "    <tr>\n",
       "      <th>210934</th>\n",
       "      <td>Gb0405293</td>\n",
       "      <td>Freshwater microbial communities from Lake Sug...</td>\n",
       "      <td>449393.0</td>\n",
       "      <td>freshwater metagenome</td>\n",
       "      <td>lake water</td>\n",
       "      <td>2023-08-01</td>\n",
       "      <td>USA: Lake Suggs NEON Field Site, Melrose, Florida</td>\n",
       "      <td>29.688140</td>\n",
       "      <td>-82.017318</td>\n",
       "      <td>4179</td>\n",
       "      <td>Environmental</td>\n",
       "      <td>Aquatic</td>\n",
       "      <td>Freshwater</td>\n",
       "      <td>Lake</td>\n",
       "      <td>Unclassified</td>\n",
       "    </tr>\n",
       "    <tr>\n",
       "      <th>210935</th>\n",
       "      <td>Gb0405294</td>\n",
       "      <td>Freshwater microbial communities from Prairie ...</td>\n",
       "      <td>449393.0</td>\n",
       "      <td>freshwater metagenome</td>\n",
       "      <td>lake water</td>\n",
       "      <td>2023-08-08</td>\n",
       "      <td>USA: Prairie Lake NEON Field Site, Vashti, Nor...</td>\n",
       "      <td>47.159710</td>\n",
       "      <td>-99.118723</td>\n",
       "      <td>4179</td>\n",
       "      <td>Environmental</td>\n",
       "      <td>Aquatic</td>\n",
       "      <td>Freshwater</td>\n",
       "      <td>Lake</td>\n",
       "      <td>Unclassified</td>\n",
       "    </tr>\n",
       "  </tbody>\n",
       "</table>\n",
       "<p>51838 rows × 15 columns</p>\n",
       "</div>"
      ]
     },
     "execution_count": 91,
     "metadata": {},
     "output_type": "execute_result"
    }
   ],
   "execution_count": 91
  },
  {
   "cell_type": "code",
   "id": "22c7f8e126e96aab",
   "metadata": {
    "ExecuteTime": {
     "end_time": "2024-11-21T13:45:35.100644Z",
     "start_time": "2024-11-21T13:45:35.094983Z"
    }
   },
   "source": [
    "goldterms_context_frame = pd.read_sql_query(goldterms_envo_query, goldterms_conn)"
   ],
   "outputs": [],
   "execution_count": 92
  },
  {
   "cell_type": "code",
   "id": "3157b066b1c6e2cf",
   "metadata": {
    "ExecuteTime": {
     "end_time": "2024-11-21T13:45:35.252145Z",
     "start_time": "2024-11-21T13:45:35.132639Z"
    }
   },
   "source": [
    "goldterms_context_frame['object_label'] = goldterms_context_frame['object'].apply(envo_adapter.label)"
   ],
   "outputs": [],
   "execution_count": 93
  },
  {
   "cell_type": "code",
   "id": "d60306a6490fdd6a",
   "metadata": {
    "ExecuteTime": {
     "end_time": "2024-11-21T13:45:35.327085Z",
     "start_time": "2024-11-21T13:45:35.320913Z"
    }
   },
   "source": [
    "goldterms_context_frame['path_id'] = goldterms_context_frame['subject'].str.extract(r'GOLDTERMS:(\\d+)')"
   ],
   "outputs": [],
   "execution_count": 94
  },
  {
   "cell_type": "code",
   "id": "93391b53436ba5b",
   "metadata": {
    "ExecuteTime": {
     "end_time": "2024-11-21T13:45:35.362649Z",
     "start_time": "2024-11-21T13:45:35.342665Z"
    }
   },
   "source": [
    "goldterms_context_frame"
   ],
   "outputs": [
    {
     "data": {
      "text/plain": [
       "                                                stanza  \\\n",
       "0    GOLDTERMS:Engineered-Food-production-Fermentat...   \n",
       "1    GOLDTERMS:Engineered-Lab-enrichment-Defined-me...   \n",
       "2       GOLDTERMS:Engineered-Lab-enrichment-Freshwater   \n",
       "3             GOLDTERMS:Engineered-Lab-enrichment-Rock   \n",
       "4    GOLDTERMS:Engineered-Solid-waste-Agricultural-...   \n",
       "..                                                 ...   \n",
       "355                                     GOLDTERMS:5830   \n",
       "356                                     GOLDTERMS:5833   \n",
       "357                                     GOLDTERMS:5836   \n",
       "358                                     GOLDTERMS:5838   \n",
       "359                                     GOLDTERMS:5841   \n",
       "\n",
       "                                               subject        predicate  \\\n",
       "0    GOLDTERMS:Engineered-Food-production-Fermentat...  mixs:env_medium   \n",
       "1    GOLDTERMS:Engineered-Lab-enrichment-Defined-me...  mixs:env_medium   \n",
       "2       GOLDTERMS:Engineered-Lab-enrichment-Freshwater  mixs:env_medium   \n",
       "3             GOLDTERMS:Engineered-Lab-enrichment-Rock  mixs:env_medium   \n",
       "4    GOLDTERMS:Engineered-Solid-waste-Agricultural-...  mixs:env_medium   \n",
       "..                                                 ...              ...   \n",
       "355                                     GOLDTERMS:5830  mixs:env_medium   \n",
       "356                                     GOLDTERMS:5833  mixs:env_medium   \n",
       "357                                     GOLDTERMS:5836  mixs:env_medium   \n",
       "358                                     GOLDTERMS:5838  mixs:env_medium   \n",
       "359                                     GOLDTERMS:5841  mixs:env_medium   \n",
       "\n",
       "              object value datatype language graph  \\\n",
       "0    FOODON:03530206  None     None     None  None   \n",
       "1      ENVO:00002170  None     None     None  None   \n",
       "2      ENVO:00002011  None     None     None  None   \n",
       "3      ENVO:00001995  None     None     None  None   \n",
       "4      ENVO:01000371  None     None     None  None   \n",
       "..               ...   ...      ...      ...   ...   \n",
       "355    ENVO:00002044  None     None     None  None   \n",
       "356    ENVO:00002001  None     None     None  None   \n",
       "357    ENVO:00002044  None     None     None  None   \n",
       "358    ENVO:00002001  None     None     None  None   \n",
       "359    ENVO:03600013  None     None     None  None   \n",
       "\n",
       "                    object_label path_id  \n",
       "0                           None     NaN  \n",
       "1                        compost     NaN  \n",
       "2                    fresh water     NaN  \n",
       "3                           rock     NaN  \n",
       "4    agricultural waste material     NaN  \n",
       "..                           ...     ...  \n",
       "355                       sludge    5830  \n",
       "356                  waste water    5833  \n",
       "357                       sludge    5836  \n",
       "358                  waste water    5838  \n",
       "359              bituminous sand    5841  \n",
       "\n",
       "[360 rows x 10 columns]"
      ],
      "text/html": [
       "<div>\n",
       "<style scoped>\n",
       "    .dataframe tbody tr th:only-of-type {\n",
       "        vertical-align: middle;\n",
       "    }\n",
       "\n",
       "    .dataframe tbody tr th {\n",
       "        vertical-align: top;\n",
       "    }\n",
       "\n",
       "    .dataframe thead th {\n",
       "        text-align: right;\n",
       "    }\n",
       "</style>\n",
       "<table border=\"1\" class=\"dataframe\">\n",
       "  <thead>\n",
       "    <tr style=\"text-align: right;\">\n",
       "      <th></th>\n",
       "      <th>stanza</th>\n",
       "      <th>subject</th>\n",
       "      <th>predicate</th>\n",
       "      <th>object</th>\n",
       "      <th>value</th>\n",
       "      <th>datatype</th>\n",
       "      <th>language</th>\n",
       "      <th>graph</th>\n",
       "      <th>object_label</th>\n",
       "      <th>path_id</th>\n",
       "    </tr>\n",
       "  </thead>\n",
       "  <tbody>\n",
       "    <tr>\n",
       "      <th>0</th>\n",
       "      <td>GOLDTERMS:Engineered-Food-production-Fermentat...</td>\n",
       "      <td>GOLDTERMS:Engineered-Food-production-Fermentat...</td>\n",
       "      <td>mixs:env_medium</td>\n",
       "      <td>FOODON:03530206</td>\n",
       "      <td>None</td>\n",
       "      <td>None</td>\n",
       "      <td>None</td>\n",
       "      <td>None</td>\n",
       "      <td>None</td>\n",
       "      <td>NaN</td>\n",
       "    </tr>\n",
       "    <tr>\n",
       "      <th>1</th>\n",
       "      <td>GOLDTERMS:Engineered-Lab-enrichment-Defined-me...</td>\n",
       "      <td>GOLDTERMS:Engineered-Lab-enrichment-Defined-me...</td>\n",
       "      <td>mixs:env_medium</td>\n",
       "      <td>ENVO:00002170</td>\n",
       "      <td>None</td>\n",
       "      <td>None</td>\n",
       "      <td>None</td>\n",
       "      <td>None</td>\n",
       "      <td>compost</td>\n",
       "      <td>NaN</td>\n",
       "    </tr>\n",
       "    <tr>\n",
       "      <th>2</th>\n",
       "      <td>GOLDTERMS:Engineered-Lab-enrichment-Freshwater</td>\n",
       "      <td>GOLDTERMS:Engineered-Lab-enrichment-Freshwater</td>\n",
       "      <td>mixs:env_medium</td>\n",
       "      <td>ENVO:00002011</td>\n",
       "      <td>None</td>\n",
       "      <td>None</td>\n",
       "      <td>None</td>\n",
       "      <td>None</td>\n",
       "      <td>fresh water</td>\n",
       "      <td>NaN</td>\n",
       "    </tr>\n",
       "    <tr>\n",
       "      <th>3</th>\n",
       "      <td>GOLDTERMS:Engineered-Lab-enrichment-Rock</td>\n",
       "      <td>GOLDTERMS:Engineered-Lab-enrichment-Rock</td>\n",
       "      <td>mixs:env_medium</td>\n",
       "      <td>ENVO:00001995</td>\n",
       "      <td>None</td>\n",
       "      <td>None</td>\n",
       "      <td>None</td>\n",
       "      <td>None</td>\n",
       "      <td>rock</td>\n",
       "      <td>NaN</td>\n",
       "    </tr>\n",
       "    <tr>\n",
       "      <th>4</th>\n",
       "      <td>GOLDTERMS:Engineered-Solid-waste-Agricultural-...</td>\n",
       "      <td>GOLDTERMS:Engineered-Solid-waste-Agricultural-...</td>\n",
       "      <td>mixs:env_medium</td>\n",
       "      <td>ENVO:01000371</td>\n",
       "      <td>None</td>\n",
       "      <td>None</td>\n",
       "      <td>None</td>\n",
       "      <td>None</td>\n",
       "      <td>agricultural waste material</td>\n",
       "      <td>NaN</td>\n",
       "    </tr>\n",
       "    <tr>\n",
       "      <th>...</th>\n",
       "      <td>...</td>\n",
       "      <td>...</td>\n",
       "      <td>...</td>\n",
       "      <td>...</td>\n",
       "      <td>...</td>\n",
       "      <td>...</td>\n",
       "      <td>...</td>\n",
       "      <td>...</td>\n",
       "      <td>...</td>\n",
       "      <td>...</td>\n",
       "    </tr>\n",
       "    <tr>\n",
       "      <th>355</th>\n",
       "      <td>GOLDTERMS:5830</td>\n",
       "      <td>GOLDTERMS:5830</td>\n",
       "      <td>mixs:env_medium</td>\n",
       "      <td>ENVO:00002044</td>\n",
       "      <td>None</td>\n",
       "      <td>None</td>\n",
       "      <td>None</td>\n",
       "      <td>None</td>\n",
       "      <td>sludge</td>\n",
       "      <td>5830</td>\n",
       "    </tr>\n",
       "    <tr>\n",
       "      <th>356</th>\n",
       "      <td>GOLDTERMS:5833</td>\n",
       "      <td>GOLDTERMS:5833</td>\n",
       "      <td>mixs:env_medium</td>\n",
       "      <td>ENVO:00002001</td>\n",
       "      <td>None</td>\n",
       "      <td>None</td>\n",
       "      <td>None</td>\n",
       "      <td>None</td>\n",
       "      <td>waste water</td>\n",
       "      <td>5833</td>\n",
       "    </tr>\n",
       "    <tr>\n",
       "      <th>357</th>\n",
       "      <td>GOLDTERMS:5836</td>\n",
       "      <td>GOLDTERMS:5836</td>\n",
       "      <td>mixs:env_medium</td>\n",
       "      <td>ENVO:00002044</td>\n",
       "      <td>None</td>\n",
       "      <td>None</td>\n",
       "      <td>None</td>\n",
       "      <td>None</td>\n",
       "      <td>sludge</td>\n",
       "      <td>5836</td>\n",
       "    </tr>\n",
       "    <tr>\n",
       "      <th>358</th>\n",
       "      <td>GOLDTERMS:5838</td>\n",
       "      <td>GOLDTERMS:5838</td>\n",
       "      <td>mixs:env_medium</td>\n",
       "      <td>ENVO:00002001</td>\n",
       "      <td>None</td>\n",
       "      <td>None</td>\n",
       "      <td>None</td>\n",
       "      <td>None</td>\n",
       "      <td>waste water</td>\n",
       "      <td>5838</td>\n",
       "    </tr>\n",
       "    <tr>\n",
       "      <th>359</th>\n",
       "      <td>GOLDTERMS:5841</td>\n",
       "      <td>GOLDTERMS:5841</td>\n",
       "      <td>mixs:env_medium</td>\n",
       "      <td>ENVO:03600013</td>\n",
       "      <td>None</td>\n",
       "      <td>None</td>\n",
       "      <td>None</td>\n",
       "      <td>None</td>\n",
       "      <td>bituminous sand</td>\n",
       "      <td>5841</td>\n",
       "    </tr>\n",
       "  </tbody>\n",
       "</table>\n",
       "<p>360 rows × 10 columns</p>\n",
       "</div>"
      ]
     },
     "execution_count": 95,
     "metadata": {},
     "output_type": "execute_result"
    }
   ],
   "execution_count": 95
  },
  {
   "cell_type": "code",
   "id": "beb2e0a9c669a366",
   "metadata": {
    "ExecuteTime": {
     "end_time": "2024-11-21T13:45:35.468967Z",
     "start_time": "2024-11-21T13:45:35.455176Z"
    }
   },
   "source": [
    "# Fill NaN values in 'BIOSAMPLE ECOSYSTEM PATH ID' with 0 and convert to int\n",
    "gold_env_filtered_biosamples_frame['BIOSAMPLE ECOSYSTEM PATH ID'] = gold_env_filtered_biosamples_frame[\n",
    "    'BIOSAMPLE ECOSYSTEM PATH ID'].fillna(0).astype(int)\n",
    "\n",
    "# Drop rows with NaN in 'path_id' in goldterms_context_frame\n",
    "goldterms_context_frame = goldterms_context_frame.dropna(subset=['path_id'])\n",
    "\n",
    "# Convert 'path_id' to int\n",
    "goldterms_context_frame['path_id'] = goldterms_context_frame['path_id'].astype(int)\n",
    "\n",
    "# Perform the left merge\n",
    "gold_env_filtered_biosamples_with_inferred = gold_env_filtered_biosamples_frame.merge(\n",
    "    goldterms_context_frame,\n",
    "    left_on='BIOSAMPLE ECOSYSTEM PATH ID',\n",
    "    right_on='path_id',\n",
    "    how='left'\n",
    ")\n"
   ],
   "outputs": [],
   "execution_count": 96
  },
  {
   "cell_type": "code",
   "id": "bac06360f067d3c0",
   "metadata": {
    "ExecuteTime": {
     "end_time": "2024-11-21T13:45:35.518163Z",
     "start_time": "2024-11-21T13:45:35.496272Z"
    }
   },
   "source": [
    "gold_env_filtered_biosamples_with_inferred"
   ],
   "outputs": [
    {
     "data": {
      "text/plain": [
       "      BIOSAMPLE GOLD ID                                     BIOSAMPLE NAME  \\\n",
       "0             Gb0011929  GEBA_MDM Biosample from Great Boiling Spring, ...   \n",
       "1             Gb0050975  Acid Mine Drainage (ARMAN) microbial communiti...   \n",
       "2             Gb0050977  Marine microbial communities from the Indian O...   \n",
       "3             Gb0050978  Marine ecosystem from Global Ocean Sampling (G...   \n",
       "4             Gb0050979  Fossil microbial communities from Whale Fall, ...   \n",
       "...                 ...                                                ...   \n",
       "51833         Gb0404279  Freshwater sediment microbial communities from...   \n",
       "51834         Gb0404280  Freshwater microbial communities from Caribou ...   \n",
       "51835         Gb0405289  Freshwater biofilm microbial communities from ...   \n",
       "51836         Gb0405293  Freshwater microbial communities from Lake Sug...   \n",
       "51837         Gb0405294  Freshwater microbial communities from Prairie ...   \n",
       "\n",
       "       BIOSAMPLE NCBI TAX ID   BIOSAMPLE NCBI TAX NAME  \\\n",
       "0                   749907.0       sediment metagenome   \n",
       "1                   718308.0  mine drainage metagenome   \n",
       "2                   405178.0         marine metagenome   \n",
       "3                   405178.0         marine metagenome   \n",
       "4                   444079.0         fossil metagenome   \n",
       "...                      ...                       ...   \n",
       "51833               749907.0       sediment metagenome   \n",
       "51834               449393.0     freshwater metagenome   \n",
       "51835               718308.0        biofilm metagenome   \n",
       "51836               449393.0     freshwater metagenome   \n",
       "51837               449393.0     freshwater metagenome   \n",
       "\n",
       "                  BIOSAMPLE SAMPLE COLLECTION SITE  \\\n",
       "0                                         Sediment   \n",
       "1                               Acid mine drainage   \n",
       "2                                     Indian Ocean   \n",
       "3                         Cocos Island, Costa Rica   \n",
       "4      Whale Fall, Santa Cruz Basin, Pacific Ocean   \n",
       "...                                            ...   \n",
       "51833                        freshwater epipsammon   \n",
       "51834                                 stream water   \n",
       "51835                                river biofilm   \n",
       "51836                                   lake water   \n",
       "51837                                   lake water   \n",
       "\n",
       "      BIOSAMPLE SAMPLE COLLECTION DATE  \\\n",
       "0                                  NaN   \n",
       "1                           2005-06-01   \n",
       "2                           2005-08-01   \n",
       "3                                  NaN   \n",
       "4                                  NaN   \n",
       "...                                ...   \n",
       "51833                       2023-10-18   \n",
       "51834                       2023-10-31   \n",
       "51835                       2023-07-11   \n",
       "51836                       2023-08-01   \n",
       "51837                       2023-08-08   \n",
       "\n",
       "                           BIOSAMPLE GEOGRAPHIC LOCATION  BIOSAMPLE LATITUDE  \\\n",
       "0                     Great Boiling Spring (GBS), Nevada           40.661433   \n",
       "1                       Richmond Mine, Iron Mountain CA            40.677339   \n",
       "2                                           Indian Ocean           -8.505250   \n",
       "3                               Cocos Island, Costa Rica            5.640000   \n",
       "4            Whale Fall, Santa Cruz Basin, Pacific Ocean           33.300000   \n",
       "...                                                  ...                 ...   \n",
       "51833                         USA: Gatlinburg, Tennessee           35.690420   \n",
       "51834                             USA: Chatanika, Alaska           65.153080   \n",
       "51835  USA: Arikaree River NEON Field Site, Yuma Coun...           39.758200   \n",
       "51836  USA: Lake Suggs NEON Field Site, Melrose, Florida           29.688140   \n",
       "51837  USA: Prairie Lake NEON Field Site, Vashti, Nor...           47.159710   \n",
       "\n",
       "       BIOSAMPLE LONGITUDE  BIOSAMPLE ECOSYSTEM PATH ID  ...          stanza  \\\n",
       "0              -119.366250                         3992  ...             NaN   \n",
       "1              -122.522194                         4164  ...  GOLDTERMS:4164   \n",
       "2                80.375583                         4008  ...             NaN   \n",
       "3               -86.565280                         3973  ...             NaN   \n",
       "4              -119.220000                         4000  ...             NaN   \n",
       "...                    ...                          ...  ...             ...   \n",
       "51833           -83.503790                         5385  ...  GOLDTERMS:5385   \n",
       "51834          -147.501997                         4514  ...  GOLDTERMS:4514   \n",
       "51835          -102.447148                         5348  ...  GOLDTERMS:5348   \n",
       "51836           -82.017318                         4179  ...  GOLDTERMS:4179   \n",
       "51837           -99.118723                         4179  ...  GOLDTERMS:4179   \n",
       "\n",
       "              subject        predicate         object value datatype language  \\\n",
       "0                 NaN              NaN            NaN   NaN      NaN      NaN   \n",
       "1      GOLDTERMS:4164  mixs:env_medium  ENVO:01001004  None     None     None   \n",
       "2                 NaN              NaN            NaN   NaN      NaN      NaN   \n",
       "3                 NaN              NaN            NaN   NaN      NaN      NaN   \n",
       "4                 NaN              NaN            NaN   NaN      NaN      NaN   \n",
       "...               ...              ...            ...   ...      ...      ...   \n",
       "51833  GOLDTERMS:5385  mixs:env_medium  ENVO:00002007  None     None     None   \n",
       "51834  GOLDTERMS:4514  mixs:env_medium  ENVO:00002011  None     None     None   \n",
       "51835  GOLDTERMS:5348  mixs:env_medium  ENVO:00002011  None     None     None   \n",
       "51836  GOLDTERMS:4179  mixs:env_medium  ENVO:00002011  None     None     None   \n",
       "51837  GOLDTERMS:4179  mixs:env_medium  ENVO:00002011  None     None     None   \n",
       "\n",
       "      graph object_label path_id  \n",
       "0       NaN          NaN     NaN  \n",
       "1      None  groundwater  4164.0  \n",
       "2       NaN          NaN     NaN  \n",
       "3       NaN          NaN     NaN  \n",
       "4       NaN          NaN     NaN  \n",
       "...     ...          ...     ...  \n",
       "51833  None     sediment  5385.0  \n",
       "51834  None  fresh water  4514.0  \n",
       "51835  None  fresh water  5348.0  \n",
       "51836  None  fresh water  4179.0  \n",
       "51837  None  fresh water  4179.0  \n",
       "\n",
       "[51838 rows x 25 columns]"
      ],
      "text/html": [
       "<div>\n",
       "<style scoped>\n",
       "    .dataframe tbody tr th:only-of-type {\n",
       "        vertical-align: middle;\n",
       "    }\n",
       "\n",
       "    .dataframe tbody tr th {\n",
       "        vertical-align: top;\n",
       "    }\n",
       "\n",
       "    .dataframe thead th {\n",
       "        text-align: right;\n",
       "    }\n",
       "</style>\n",
       "<table border=\"1\" class=\"dataframe\">\n",
       "  <thead>\n",
       "    <tr style=\"text-align: right;\">\n",
       "      <th></th>\n",
       "      <th>BIOSAMPLE GOLD ID</th>\n",
       "      <th>BIOSAMPLE NAME</th>\n",
       "      <th>BIOSAMPLE NCBI TAX ID</th>\n",
       "      <th>BIOSAMPLE NCBI TAX NAME</th>\n",
       "      <th>BIOSAMPLE SAMPLE COLLECTION SITE</th>\n",
       "      <th>BIOSAMPLE SAMPLE COLLECTION DATE</th>\n",
       "      <th>BIOSAMPLE GEOGRAPHIC LOCATION</th>\n",
       "      <th>BIOSAMPLE LATITUDE</th>\n",
       "      <th>BIOSAMPLE LONGITUDE</th>\n",
       "      <th>BIOSAMPLE ECOSYSTEM PATH ID</th>\n",
       "      <th>...</th>\n",
       "      <th>stanza</th>\n",
       "      <th>subject</th>\n",
       "      <th>predicate</th>\n",
       "      <th>object</th>\n",
       "      <th>value</th>\n",
       "      <th>datatype</th>\n",
       "      <th>language</th>\n",
       "      <th>graph</th>\n",
       "      <th>object_label</th>\n",
       "      <th>path_id</th>\n",
       "    </tr>\n",
       "  </thead>\n",
       "  <tbody>\n",
       "    <tr>\n",
       "      <th>0</th>\n",
       "      <td>Gb0011929</td>\n",
       "      <td>GEBA_MDM Biosample from Great Boiling Spring, ...</td>\n",
       "      <td>749907.0</td>\n",
       "      <td>sediment metagenome</td>\n",
       "      <td>Sediment</td>\n",
       "      <td>NaN</td>\n",
       "      <td>Great Boiling Spring (GBS), Nevada</td>\n",
       "      <td>40.661433</td>\n",
       "      <td>-119.366250</td>\n",
       "      <td>3992</td>\n",
       "      <td>...</td>\n",
       "      <td>NaN</td>\n",
       "      <td>NaN</td>\n",
       "      <td>NaN</td>\n",
       "      <td>NaN</td>\n",
       "      <td>NaN</td>\n",
       "      <td>NaN</td>\n",
       "      <td>NaN</td>\n",
       "      <td>NaN</td>\n",
       "      <td>NaN</td>\n",
       "      <td>NaN</td>\n",
       "    </tr>\n",
       "    <tr>\n",
       "      <th>1</th>\n",
       "      <td>Gb0050975</td>\n",
       "      <td>Acid Mine Drainage (ARMAN) microbial communiti...</td>\n",
       "      <td>718308.0</td>\n",
       "      <td>mine drainage metagenome</td>\n",
       "      <td>Acid mine drainage</td>\n",
       "      <td>2005-06-01</td>\n",
       "      <td>Richmond Mine, Iron Mountain CA</td>\n",
       "      <td>40.677339</td>\n",
       "      <td>-122.522194</td>\n",
       "      <td>4164</td>\n",
       "      <td>...</td>\n",
       "      <td>GOLDTERMS:4164</td>\n",
       "      <td>GOLDTERMS:4164</td>\n",
       "      <td>mixs:env_medium</td>\n",
       "      <td>ENVO:01001004</td>\n",
       "      <td>None</td>\n",
       "      <td>None</td>\n",
       "      <td>None</td>\n",
       "      <td>None</td>\n",
       "      <td>groundwater</td>\n",
       "      <td>4164.0</td>\n",
       "    </tr>\n",
       "    <tr>\n",
       "      <th>2</th>\n",
       "      <td>Gb0050977</td>\n",
       "      <td>Marine microbial communities from the Indian O...</td>\n",
       "      <td>405178.0</td>\n",
       "      <td>marine metagenome</td>\n",
       "      <td>Indian Ocean</td>\n",
       "      <td>2005-08-01</td>\n",
       "      <td>Indian Ocean</td>\n",
       "      <td>-8.505250</td>\n",
       "      <td>80.375583</td>\n",
       "      <td>4008</td>\n",
       "      <td>...</td>\n",
       "      <td>NaN</td>\n",
       "      <td>NaN</td>\n",
       "      <td>NaN</td>\n",
       "      <td>NaN</td>\n",
       "      <td>NaN</td>\n",
       "      <td>NaN</td>\n",
       "      <td>NaN</td>\n",
       "      <td>NaN</td>\n",
       "      <td>NaN</td>\n",
       "      <td>NaN</td>\n",
       "    </tr>\n",
       "    <tr>\n",
       "      <th>3</th>\n",
       "      <td>Gb0050978</td>\n",
       "      <td>Marine ecosystem from Global Ocean Sampling (G...</td>\n",
       "      <td>405178.0</td>\n",
       "      <td>marine metagenome</td>\n",
       "      <td>Cocos Island, Costa Rica</td>\n",
       "      <td>NaN</td>\n",
       "      <td>Cocos Island, Costa Rica</td>\n",
       "      <td>5.640000</td>\n",
       "      <td>-86.565280</td>\n",
       "      <td>3973</td>\n",
       "      <td>...</td>\n",
       "      <td>NaN</td>\n",
       "      <td>NaN</td>\n",
       "      <td>NaN</td>\n",
       "      <td>NaN</td>\n",
       "      <td>NaN</td>\n",
       "      <td>NaN</td>\n",
       "      <td>NaN</td>\n",
       "      <td>NaN</td>\n",
       "      <td>NaN</td>\n",
       "      <td>NaN</td>\n",
       "    </tr>\n",
       "    <tr>\n",
       "      <th>4</th>\n",
       "      <td>Gb0050979</td>\n",
       "      <td>Fossil microbial communities from Whale Fall, ...</td>\n",
       "      <td>444079.0</td>\n",
       "      <td>fossil metagenome</td>\n",
       "      <td>Whale Fall, Santa Cruz Basin, Pacific Ocean</td>\n",
       "      <td>NaN</td>\n",
       "      <td>Whale Fall, Santa Cruz Basin, Pacific Ocean</td>\n",
       "      <td>33.300000</td>\n",
       "      <td>-119.220000</td>\n",
       "      <td>4000</td>\n",
       "      <td>...</td>\n",
       "      <td>NaN</td>\n",
       "      <td>NaN</td>\n",
       "      <td>NaN</td>\n",
       "      <td>NaN</td>\n",
       "      <td>NaN</td>\n",
       "      <td>NaN</td>\n",
       "      <td>NaN</td>\n",
       "      <td>NaN</td>\n",
       "      <td>NaN</td>\n",
       "      <td>NaN</td>\n",
       "    </tr>\n",
       "    <tr>\n",
       "      <th>...</th>\n",
       "      <td>...</td>\n",
       "      <td>...</td>\n",
       "      <td>...</td>\n",
       "      <td>...</td>\n",
       "      <td>...</td>\n",
       "      <td>...</td>\n",
       "      <td>...</td>\n",
       "      <td>...</td>\n",
       "      <td>...</td>\n",
       "      <td>...</td>\n",
       "      <td>...</td>\n",
       "      <td>...</td>\n",
       "      <td>...</td>\n",
       "      <td>...</td>\n",
       "      <td>...</td>\n",
       "      <td>...</td>\n",
       "      <td>...</td>\n",
       "      <td>...</td>\n",
       "      <td>...</td>\n",
       "      <td>...</td>\n",
       "      <td>...</td>\n",
       "    </tr>\n",
       "    <tr>\n",
       "      <th>51833</th>\n",
       "      <td>Gb0404279</td>\n",
       "      <td>Freshwater sediment microbial communities from...</td>\n",
       "      <td>749907.0</td>\n",
       "      <td>sediment metagenome</td>\n",
       "      <td>freshwater epipsammon</td>\n",
       "      <td>2023-10-18</td>\n",
       "      <td>USA: Gatlinburg, Tennessee</td>\n",
       "      <td>35.690420</td>\n",
       "      <td>-83.503790</td>\n",
       "      <td>5385</td>\n",
       "      <td>...</td>\n",
       "      <td>GOLDTERMS:5385</td>\n",
       "      <td>GOLDTERMS:5385</td>\n",
       "      <td>mixs:env_medium</td>\n",
       "      <td>ENVO:00002007</td>\n",
       "      <td>None</td>\n",
       "      <td>None</td>\n",
       "      <td>None</td>\n",
       "      <td>None</td>\n",
       "      <td>sediment</td>\n",
       "      <td>5385.0</td>\n",
       "    </tr>\n",
       "    <tr>\n",
       "      <th>51834</th>\n",
       "      <td>Gb0404280</td>\n",
       "      <td>Freshwater microbial communities from Caribou ...</td>\n",
       "      <td>449393.0</td>\n",
       "      <td>freshwater metagenome</td>\n",
       "      <td>stream water</td>\n",
       "      <td>2023-10-31</td>\n",
       "      <td>USA: Chatanika, Alaska</td>\n",
       "      <td>65.153080</td>\n",
       "      <td>-147.501997</td>\n",
       "      <td>4514</td>\n",
       "      <td>...</td>\n",
       "      <td>GOLDTERMS:4514</td>\n",
       "      <td>GOLDTERMS:4514</td>\n",
       "      <td>mixs:env_medium</td>\n",
       "      <td>ENVO:00002011</td>\n",
       "      <td>None</td>\n",
       "      <td>None</td>\n",
       "      <td>None</td>\n",
       "      <td>None</td>\n",
       "      <td>fresh water</td>\n",
       "      <td>4514.0</td>\n",
       "    </tr>\n",
       "    <tr>\n",
       "      <th>51835</th>\n",
       "      <td>Gb0405289</td>\n",
       "      <td>Freshwater biofilm microbial communities from ...</td>\n",
       "      <td>718308.0</td>\n",
       "      <td>biofilm metagenome</td>\n",
       "      <td>river biofilm</td>\n",
       "      <td>2023-07-11</td>\n",
       "      <td>USA: Arikaree River NEON Field Site, Yuma Coun...</td>\n",
       "      <td>39.758200</td>\n",
       "      <td>-102.447148</td>\n",
       "      <td>5348</td>\n",
       "      <td>...</td>\n",
       "      <td>GOLDTERMS:5348</td>\n",
       "      <td>GOLDTERMS:5348</td>\n",
       "      <td>mixs:env_medium</td>\n",
       "      <td>ENVO:00002011</td>\n",
       "      <td>None</td>\n",
       "      <td>None</td>\n",
       "      <td>None</td>\n",
       "      <td>None</td>\n",
       "      <td>fresh water</td>\n",
       "      <td>5348.0</td>\n",
       "    </tr>\n",
       "    <tr>\n",
       "      <th>51836</th>\n",
       "      <td>Gb0405293</td>\n",
       "      <td>Freshwater microbial communities from Lake Sug...</td>\n",
       "      <td>449393.0</td>\n",
       "      <td>freshwater metagenome</td>\n",
       "      <td>lake water</td>\n",
       "      <td>2023-08-01</td>\n",
       "      <td>USA: Lake Suggs NEON Field Site, Melrose, Florida</td>\n",
       "      <td>29.688140</td>\n",
       "      <td>-82.017318</td>\n",
       "      <td>4179</td>\n",
       "      <td>...</td>\n",
       "      <td>GOLDTERMS:4179</td>\n",
       "      <td>GOLDTERMS:4179</td>\n",
       "      <td>mixs:env_medium</td>\n",
       "      <td>ENVO:00002011</td>\n",
       "      <td>None</td>\n",
       "      <td>None</td>\n",
       "      <td>None</td>\n",
       "      <td>None</td>\n",
       "      <td>fresh water</td>\n",
       "      <td>4179.0</td>\n",
       "    </tr>\n",
       "    <tr>\n",
       "      <th>51837</th>\n",
       "      <td>Gb0405294</td>\n",
       "      <td>Freshwater microbial communities from Prairie ...</td>\n",
       "      <td>449393.0</td>\n",
       "      <td>freshwater metagenome</td>\n",
       "      <td>lake water</td>\n",
       "      <td>2023-08-08</td>\n",
       "      <td>USA: Prairie Lake NEON Field Site, Vashti, Nor...</td>\n",
       "      <td>47.159710</td>\n",
       "      <td>-99.118723</td>\n",
       "      <td>4179</td>\n",
       "      <td>...</td>\n",
       "      <td>GOLDTERMS:4179</td>\n",
       "      <td>GOLDTERMS:4179</td>\n",
       "      <td>mixs:env_medium</td>\n",
       "      <td>ENVO:00002011</td>\n",
       "      <td>None</td>\n",
       "      <td>None</td>\n",
       "      <td>None</td>\n",
       "      <td>None</td>\n",
       "      <td>fresh water</td>\n",
       "      <td>4179.0</td>\n",
       "    </tr>\n",
       "  </tbody>\n",
       "</table>\n",
       "<p>51838 rows × 25 columns</p>\n",
       "</div>"
      ]
     },
     "execution_count": 97,
     "metadata": {},
     "output_type": "execute_result"
    }
   ],
   "execution_count": 97
  },
  {
   "cell_type": "markdown",
   "id": "8541580a525201e3",
   "metadata": {},
   "source": [
    "----"
   ]
  },
  {
   "cell_type": "code",
   "id": "20a9dcc52b995762",
   "metadata": {
    "ExecuteTime": {
     "end_time": "2024-11-21T13:45:35.584144Z",
     "start_time": "2024-11-21T13:45:35.581212Z"
    }
   },
   "source": [
    "include_in_rows = set()"
   ],
   "outputs": [],
   "execution_count": 98
  },
  {
   "cell_type": "code",
   "id": "2c3e280c36ed9b91",
   "metadata": {
    "ExecuteTime": {
     "end_time": "2024-11-21T13:45:35.803176Z",
     "start_time": "2024-11-21T13:45:35.799686Z"
    }
   },
   "source": [
    "include_in_rows.update(anchor_descendants_frame['curie'])"
   ],
   "outputs": [],
   "execution_count": 99
  },
  {
   "cell_type": "code",
   "id": "422c62627b450632",
   "metadata": {
    "ExecuteTime": {
     "end_time": "2024-11-21T13:45:35.919633Z",
     "start_time": "2024-11-21T13:45:35.916234Z"
    }
   },
   "source": [
    "include_in_rows.update([i['curie'] for i in pv_validation_results['valids']])"
   ],
   "outputs": [],
   "execution_count": 100
  },
  {
   "cell_type": "code",
   "id": "e279a2edf1fa4935",
   "metadata": {
    "ExecuteTime": {
     "end_time": "2024-11-21T13:45:35.989276Z",
     "start_time": "2024-11-21T13:45:35.985268Z"
    }
   },
   "source": [
    "include_in_rows.update(nmdc_biosample_contexts_frame[nmdc_scope])"
   ],
   "outputs": [],
   "execution_count": 101
  },
  {
   "cell_type": "code",
   "id": "7e4be4b7ae64e990",
   "metadata": {
    "ExecuteTime": {
     "end_time": "2024-11-21T13:45:36.074704Z",
     "start_time": "2024-11-21T13:45:36.071154Z"
    }
   },
   "source": [
    "include_in_rows.update(ncbi_frame['extracted_curie'])"
   ],
   "outputs": [],
   "execution_count": 102
  },
  {
   "cell_type": "code",
   "id": "2cd900624cfce1ec",
   "metadata": {
    "ExecuteTime": {
     "end_time": "2024-11-21T13:45:41.500922Z",
     "start_time": "2024-11-21T13:45:41.497655Z"
    }
   },
   "source": [
    "include_in_rows.update(ncbi_frame['longest_annotation_curie'])"
   ],
   "outputs": [],
   "execution_count": 103
  },
  {
   "cell_type": "code",
   "id": "9790ec48f41afe79",
   "metadata": {
    "ExecuteTime": {
     "end_time": "2024-11-21T13:45:46.431035Z",
     "start_time": "2024-11-21T13:45:46.422643Z"
    }
   },
   "source": [
    "include_in_rows.update(gold_env_filtered_biosamples_with_inferred['object'])"
   ],
   "outputs": [],
   "execution_count": 104
  },
  {
   "cell_type": "code",
   "id": "f7a6fb9413f45298",
   "metadata": {
    "ExecuteTime": {
     "end_time": "2024-11-21T13:45:51.606608Z",
     "start_time": "2024-11-21T13:45:51.603814Z"
    }
   },
   "source": [
    "rows_lod = []"
   ],
   "outputs": [],
   "execution_count": 105
  },
  {
   "metadata": {
    "ExecuteTime": {
     "end_time": "2024-11-21T13:45:56.737920Z",
     "start_time": "2024-11-21T13:45:56.526379Z"
    }
   },
   "cell_type": "code",
   "source": [
    "# TODO MOVE THESE UP, because the expressions are already being used above\n",
    "\n",
    "anchor_curies = list(anchor_descendants_frame['curie'])\n",
    "legacy_pv_curies = [i['curie'] for i in pv_validation_results['valids']]\n",
    "biome_curies = list(envo_adapter.descendants('ENVO:00000428', predicates=[IS_A])) # \n",
    "terrestrial_biome_curies = list(envo_adapter.descendants('ENVO:00000446', predicates=[IS_A]))\n",
    "aquatic_biome_curies = list(envo_adapter.descendants('ENVO:00002030', predicates=[IS_A]))\n",
    "abp_curies = list(envo_adapter.descendants('ENVO:01000813', predicates=[IS_A]))\n",
    "env_sys_curies = list(envo_adapter.descendants('ENVO:01000254', predicates=[IS_A]))\n",
    "env_mat_curies = list(envo_adapter.descendants('ENVO:00010483', predicates=[IS_A]))\n",
    "obsoletes_curies = list(envo_adapter.obsoletes())"
   ],
   "id": "beb69545a9255099",
   "outputs": [],
   "execution_count": 106
  },
  {
   "cell_type": "code",
   "id": "32f278db05c57616",
   "metadata": {
    "ExecuteTime": {
     "end_time": "2024-11-21T13:46:03.039464Z",
     "start_time": "2024-11-21T13:46:02.299081Z"
    }
   },
   "source": [
    "for curie in include_in_rows:\n",
    "    if curie is None:\n",
    "        continue\n",
    "        \n",
    "    row = {\n",
    "        'curie': curie,\n",
    "        'label': envo_adapter.label(curie),\n",
    "        'envo_native': False,\n",
    "        'obsolete': False,\n",
    "        'legacy_pv': False,\n",
    "        'abp': False,\n",
    "        'env_sys': False,\n",
    "        'biome': False,\n",
    "        'terrestrial_biome': False,\n",
    "        'aquatic_biome': False,\n",
    "        'env_mat': False,\n",
    "    }\n",
    "        \n",
    "    if curie in biome_curies:\n",
    "        row['biome'] = True\n",
    "    if curie in terrestrial_biome_curies:\n",
    "        row['terrestrial_biome'] = True\n",
    "    if curie in aquatic_biome_curies:\n",
    "        row['aquatic_biome'] = True\n",
    "    if curie in abp_curies:\n",
    "        row['abp'] = True\n",
    "    if curie in env_sys_curies:\n",
    "        row['env_sys'] = True\n",
    "    if curie in env_mat_curies:\n",
    "        row['env_mat'] = True\n",
    "    if curie in legacy_pv_curies:\n",
    "        row['legacy_pv'] = True\n",
    "    if curie in obsoletes_curies:\n",
    "        row['obsolete'] = True\n",
    "        \n",
    "    try:\n",
    "        prefix, local_id = curie.split(':')\n",
    "        if prefix and prefix == 'ENVO' and row['label'] is not None:\n",
    "            row['envo_native'] = True\n",
    "    except Exception as e:\n",
    "        # Print the exception message\n",
    "        print(f\"An error occurred: {e} trying to split {curie}\")\n",
    "\n",
    "    rows_lod.append(row)\n"
   ],
   "outputs": [
    {
     "name": "stdout",
     "output_type": "stream",
     "text": [
      "An error occurred: 'float' object has no attribute 'split' trying to split nan\n"
     ]
    }
   ],
   "execution_count": 107
  },
  {
   "cell_type": "code",
   "id": "26bb62d21192288f",
   "metadata": {
    "ExecuteTime": {
     "end_time": "2024-11-21T13:46:08.447166Z",
     "start_time": "2024-11-21T13:46:08.440190Z"
    }
   },
   "source": [
    "rows_frame = pd.DataFrame(rows_lod)"
   ],
   "outputs": [],
   "execution_count": 108
  },
  {
   "cell_type": "code",
   "id": "4db3ebadb8a07a50",
   "metadata": {
    "ExecuteTime": {
     "end_time": "2024-11-21T13:46:13.342277Z",
     "start_time": "2024-11-21T13:46:13.329228Z"
    }
   },
   "source": [
    "rows_frame"
   ],
   "outputs": [
    {
     "data": {
      "text/plain": [
       "                curie                                              label  \\\n",
       "0     FOODON:03400644  a.  primary food commodities of plant origin (...   \n",
       "1       ENVO:00002873                             organic waste material   \n",
       "2       ENVO:01001528                                friable-frozen soil   \n",
       "3       ENVO:00002481                                               None   \n",
       "4       ENVO:01000458                                           concrete   \n",
       "...               ...                                                ...   \n",
       "1890  FOODON:00001162                                      grape extract   \n",
       "1891    ENVO:00000134                                         permafrost   \n",
       "1892    ENVO:00002229                                           arenosol   \n",
       "1893    ENVO:01000628                                       plant litter   \n",
       "1894    ENVO:00002185                                      oil reservoir   \n",
       "\n",
       "      envo_native  obsolete  legacy_pv    abp  env_sys  biome  \\\n",
       "0           False     False      False  False    False  False   \n",
       "1            True     False      False  False    False  False   \n",
       "2            True     False      False   True    False  False   \n",
       "3           False     False      False  False    False  False   \n",
       "4            True     False      False  False    False  False   \n",
       "...           ...       ...        ...    ...      ...    ...   \n",
       "1890        False     False      False  False    False  False   \n",
       "1891         True     False      False  False    False  False   \n",
       "1892         True     False      False   True    False  False   \n",
       "1893         True     False      False  False    False  False   \n",
       "1894         True     False      False   True    False  False   \n",
       "\n",
       "      terrestrial_biome  aquatic_biome  env_mat  \n",
       "0                 False          False     True  \n",
       "1                 False          False     True  \n",
       "2                 False          False     True  \n",
       "3                 False          False    False  \n",
       "4                 False          False     True  \n",
       "...                 ...            ...      ...  \n",
       "1890              False          False     True  \n",
       "1891              False          False     True  \n",
       "1892              False          False     True  \n",
       "1893              False          False     True  \n",
       "1894              False          False    False  \n",
       "\n",
       "[1895 rows x 11 columns]"
      ],
      "text/html": [
       "<div>\n",
       "<style scoped>\n",
       "    .dataframe tbody tr th:only-of-type {\n",
       "        vertical-align: middle;\n",
       "    }\n",
       "\n",
       "    .dataframe tbody tr th {\n",
       "        vertical-align: top;\n",
       "    }\n",
       "\n",
       "    .dataframe thead th {\n",
       "        text-align: right;\n",
       "    }\n",
       "</style>\n",
       "<table border=\"1\" class=\"dataframe\">\n",
       "  <thead>\n",
       "    <tr style=\"text-align: right;\">\n",
       "      <th></th>\n",
       "      <th>curie</th>\n",
       "      <th>label</th>\n",
       "      <th>envo_native</th>\n",
       "      <th>obsolete</th>\n",
       "      <th>legacy_pv</th>\n",
       "      <th>abp</th>\n",
       "      <th>env_sys</th>\n",
       "      <th>biome</th>\n",
       "      <th>terrestrial_biome</th>\n",
       "      <th>aquatic_biome</th>\n",
       "      <th>env_mat</th>\n",
       "    </tr>\n",
       "  </thead>\n",
       "  <tbody>\n",
       "    <tr>\n",
       "      <th>0</th>\n",
       "      <td>FOODON:03400644</td>\n",
       "      <td>a.  primary food commodities of plant origin (...</td>\n",
       "      <td>False</td>\n",
       "      <td>False</td>\n",
       "      <td>False</td>\n",
       "      <td>False</td>\n",
       "      <td>False</td>\n",
       "      <td>False</td>\n",
       "      <td>False</td>\n",
       "      <td>False</td>\n",
       "      <td>True</td>\n",
       "    </tr>\n",
       "    <tr>\n",
       "      <th>1</th>\n",
       "      <td>ENVO:00002873</td>\n",
       "      <td>organic waste material</td>\n",
       "      <td>True</td>\n",
       "      <td>False</td>\n",
       "      <td>False</td>\n",
       "      <td>False</td>\n",
       "      <td>False</td>\n",
       "      <td>False</td>\n",
       "      <td>False</td>\n",
       "      <td>False</td>\n",
       "      <td>True</td>\n",
       "    </tr>\n",
       "    <tr>\n",
       "      <th>2</th>\n",
       "      <td>ENVO:01001528</td>\n",
       "      <td>friable-frozen soil</td>\n",
       "      <td>True</td>\n",
       "      <td>False</td>\n",
       "      <td>False</td>\n",
       "      <td>True</td>\n",
       "      <td>False</td>\n",
       "      <td>False</td>\n",
       "      <td>False</td>\n",
       "      <td>False</td>\n",
       "      <td>True</td>\n",
       "    </tr>\n",
       "    <tr>\n",
       "      <th>3</th>\n",
       "      <td>ENVO:00002481</td>\n",
       "      <td>None</td>\n",
       "      <td>False</td>\n",
       "      <td>False</td>\n",
       "      <td>False</td>\n",
       "      <td>False</td>\n",
       "      <td>False</td>\n",
       "      <td>False</td>\n",
       "      <td>False</td>\n",
       "      <td>False</td>\n",
       "      <td>False</td>\n",
       "    </tr>\n",
       "    <tr>\n",
       "      <th>4</th>\n",
       "      <td>ENVO:01000458</td>\n",
       "      <td>concrete</td>\n",
       "      <td>True</td>\n",
       "      <td>False</td>\n",
       "      <td>False</td>\n",
       "      <td>False</td>\n",
       "      <td>False</td>\n",
       "      <td>False</td>\n",
       "      <td>False</td>\n",
       "      <td>False</td>\n",
       "      <td>True</td>\n",
       "    </tr>\n",
       "    <tr>\n",
       "      <th>...</th>\n",
       "      <td>...</td>\n",
       "      <td>...</td>\n",
       "      <td>...</td>\n",
       "      <td>...</td>\n",
       "      <td>...</td>\n",
       "      <td>...</td>\n",
       "      <td>...</td>\n",
       "      <td>...</td>\n",
       "      <td>...</td>\n",
       "      <td>...</td>\n",
       "      <td>...</td>\n",
       "    </tr>\n",
       "    <tr>\n",
       "      <th>1890</th>\n",
       "      <td>FOODON:00001162</td>\n",
       "      <td>grape extract</td>\n",
       "      <td>False</td>\n",
       "      <td>False</td>\n",
       "      <td>False</td>\n",
       "      <td>False</td>\n",
       "      <td>False</td>\n",
       "      <td>False</td>\n",
       "      <td>False</td>\n",
       "      <td>False</td>\n",
       "      <td>True</td>\n",
       "    </tr>\n",
       "    <tr>\n",
       "      <th>1891</th>\n",
       "      <td>ENVO:00000134</td>\n",
       "      <td>permafrost</td>\n",
       "      <td>True</td>\n",
       "      <td>False</td>\n",
       "      <td>False</td>\n",
       "      <td>False</td>\n",
       "      <td>False</td>\n",
       "      <td>False</td>\n",
       "      <td>False</td>\n",
       "      <td>False</td>\n",
       "      <td>True</td>\n",
       "    </tr>\n",
       "    <tr>\n",
       "      <th>1892</th>\n",
       "      <td>ENVO:00002229</td>\n",
       "      <td>arenosol</td>\n",
       "      <td>True</td>\n",
       "      <td>False</td>\n",
       "      <td>False</td>\n",
       "      <td>True</td>\n",
       "      <td>False</td>\n",
       "      <td>False</td>\n",
       "      <td>False</td>\n",
       "      <td>False</td>\n",
       "      <td>True</td>\n",
       "    </tr>\n",
       "    <tr>\n",
       "      <th>1893</th>\n",
       "      <td>ENVO:01000628</td>\n",
       "      <td>plant litter</td>\n",
       "      <td>True</td>\n",
       "      <td>False</td>\n",
       "      <td>False</td>\n",
       "      <td>False</td>\n",
       "      <td>False</td>\n",
       "      <td>False</td>\n",
       "      <td>False</td>\n",
       "      <td>False</td>\n",
       "      <td>True</td>\n",
       "    </tr>\n",
       "    <tr>\n",
       "      <th>1894</th>\n",
       "      <td>ENVO:00002185</td>\n",
       "      <td>oil reservoir</td>\n",
       "      <td>True</td>\n",
       "      <td>False</td>\n",
       "      <td>False</td>\n",
       "      <td>True</td>\n",
       "      <td>False</td>\n",
       "      <td>False</td>\n",
       "      <td>False</td>\n",
       "      <td>False</td>\n",
       "      <td>False</td>\n",
       "    </tr>\n",
       "  </tbody>\n",
       "</table>\n",
       "<p>1895 rows × 11 columns</p>\n",
       "</div>"
      ]
     },
     "execution_count": 109,
     "metadata": {},
     "output_type": "execute_result"
    }
   ],
   "execution_count": 109
  },
  {
   "cell_type": "code",
   "id": "88ebf6f76c2e0545",
   "metadata": {
    "ExecuteTime": {
     "end_time": "2024-11-21T13:46:18.721649Z",
     "start_time": "2024-11-21T13:46:18.717066Z"
    }
   },
   "source": [
    "nmdc_biosample_scoped_counts = nmdc_biosample_contexts_frame[nmdc_scope].value_counts().reset_index()\n",
    "nmdc_biosample_scoped_counts.columns = ['curie', 'nmdc_scoped_count']\n"
   ],
   "outputs": [],
   "execution_count": 110
  },
  {
   "cell_type": "code",
   "id": "85789ece9ec4ddd6",
   "metadata": {
    "ExecuteTime": {
     "end_time": "2024-11-21T13:46:18.782630Z",
     "start_time": "2024-11-21T13:46:18.773615Z"
    }
   },
   "source": [
    "nmdc_biosample_scoped_counts"
   ],
   "outputs": [
    {
     "data": {
      "text/plain": [
       "            curie  nmdc_scoped_count\n",
       "0   ENVO:04000007                467\n",
       "1   ENVO:00002042                287\n",
       "2   ENVO:00002007                165\n",
       "3   ENVO:03605001                150\n",
       "4   ENVO:03605006                104\n",
       "5   ENVO:03605004                 93\n",
       "6   ENVO:01000017                 35\n",
       "7   ENVO:03605002                 27\n",
       "8   ENVO:03605003                 25\n",
       "9   ENVO:03605005                 22\n",
       "10  ENVO:01000599                 13"
      ],
      "text/html": [
       "<div>\n",
       "<style scoped>\n",
       "    .dataframe tbody tr th:only-of-type {\n",
       "        vertical-align: middle;\n",
       "    }\n",
       "\n",
       "    .dataframe tbody tr th {\n",
       "        vertical-align: top;\n",
       "    }\n",
       "\n",
       "    .dataframe thead th {\n",
       "        text-align: right;\n",
       "    }\n",
       "</style>\n",
       "<table border=\"1\" class=\"dataframe\">\n",
       "  <thead>\n",
       "    <tr style=\"text-align: right;\">\n",
       "      <th></th>\n",
       "      <th>curie</th>\n",
       "      <th>nmdc_scoped_count</th>\n",
       "    </tr>\n",
       "  </thead>\n",
       "  <tbody>\n",
       "    <tr>\n",
       "      <th>0</th>\n",
       "      <td>ENVO:04000007</td>\n",
       "      <td>467</td>\n",
       "    </tr>\n",
       "    <tr>\n",
       "      <th>1</th>\n",
       "      <td>ENVO:00002042</td>\n",
       "      <td>287</td>\n",
       "    </tr>\n",
       "    <tr>\n",
       "      <th>2</th>\n",
       "      <td>ENVO:00002007</td>\n",
       "      <td>165</td>\n",
       "    </tr>\n",
       "    <tr>\n",
       "      <th>3</th>\n",
       "      <td>ENVO:03605001</td>\n",
       "      <td>150</td>\n",
       "    </tr>\n",
       "    <tr>\n",
       "      <th>4</th>\n",
       "      <td>ENVO:03605006</td>\n",
       "      <td>104</td>\n",
       "    </tr>\n",
       "    <tr>\n",
       "      <th>5</th>\n",
       "      <td>ENVO:03605004</td>\n",
       "      <td>93</td>\n",
       "    </tr>\n",
       "    <tr>\n",
       "      <th>6</th>\n",
       "      <td>ENVO:01000017</td>\n",
       "      <td>35</td>\n",
       "    </tr>\n",
       "    <tr>\n",
       "      <th>7</th>\n",
       "      <td>ENVO:03605002</td>\n",
       "      <td>27</td>\n",
       "    </tr>\n",
       "    <tr>\n",
       "      <th>8</th>\n",
       "      <td>ENVO:03605003</td>\n",
       "      <td>25</td>\n",
       "    </tr>\n",
       "    <tr>\n",
       "      <th>9</th>\n",
       "      <td>ENVO:03605005</td>\n",
       "      <td>22</td>\n",
       "    </tr>\n",
       "    <tr>\n",
       "      <th>10</th>\n",
       "      <td>ENVO:01000599</td>\n",
       "      <td>13</td>\n",
       "    </tr>\n",
       "  </tbody>\n",
       "</table>\n",
       "</div>"
      ]
     },
     "execution_count": 111,
     "metadata": {},
     "output_type": "execute_result"
    }
   ],
   "execution_count": 111
  },
  {
   "cell_type": "code",
   "id": "329203aecb25f598",
   "metadata": {
    "ExecuteTime": {
     "end_time": "2024-11-21T13:46:18.848519Z",
     "start_time": "2024-11-21T13:46:18.842510Z"
    }
   },
   "source": [
    "# Perform the left merge\n",
    "rows_frame = rows_frame.merge(\n",
    "    nmdc_biosample_scoped_counts,\n",
    "    left_on='curie',\n",
    "    right_on='curie',\n",
    "    how='left'\n",
    ")"
   ],
   "outputs": [],
   "execution_count": 112
  },
  {
   "cell_type": "code",
   "id": "cff020dba8153cb2",
   "metadata": {
    "ExecuteTime": {
     "end_time": "2024-11-21T13:46:18.988060Z",
     "start_time": "2024-11-21T13:46:18.967831Z"
    }
   },
   "source": [
    "gold_env_filtered_biosamples_with_inferred"
   ],
   "outputs": [
    {
     "data": {
      "text/plain": [
       "      BIOSAMPLE GOLD ID                                     BIOSAMPLE NAME  \\\n",
       "0             Gb0011929  GEBA_MDM Biosample from Great Boiling Spring, ...   \n",
       "1             Gb0050975  Acid Mine Drainage (ARMAN) microbial communiti...   \n",
       "2             Gb0050977  Marine microbial communities from the Indian O...   \n",
       "3             Gb0050978  Marine ecosystem from Global Ocean Sampling (G...   \n",
       "4             Gb0050979  Fossil microbial communities from Whale Fall, ...   \n",
       "...                 ...                                                ...   \n",
       "51833         Gb0404279  Freshwater sediment microbial communities from...   \n",
       "51834         Gb0404280  Freshwater microbial communities from Caribou ...   \n",
       "51835         Gb0405289  Freshwater biofilm microbial communities from ...   \n",
       "51836         Gb0405293  Freshwater microbial communities from Lake Sug...   \n",
       "51837         Gb0405294  Freshwater microbial communities from Prairie ...   \n",
       "\n",
       "       BIOSAMPLE NCBI TAX ID   BIOSAMPLE NCBI TAX NAME  \\\n",
       "0                   749907.0       sediment metagenome   \n",
       "1                   718308.0  mine drainage metagenome   \n",
       "2                   405178.0         marine metagenome   \n",
       "3                   405178.0         marine metagenome   \n",
       "4                   444079.0         fossil metagenome   \n",
       "...                      ...                       ...   \n",
       "51833               749907.0       sediment metagenome   \n",
       "51834               449393.0     freshwater metagenome   \n",
       "51835               718308.0        biofilm metagenome   \n",
       "51836               449393.0     freshwater metagenome   \n",
       "51837               449393.0     freshwater metagenome   \n",
       "\n",
       "                  BIOSAMPLE SAMPLE COLLECTION SITE  \\\n",
       "0                                         Sediment   \n",
       "1                               Acid mine drainage   \n",
       "2                                     Indian Ocean   \n",
       "3                         Cocos Island, Costa Rica   \n",
       "4      Whale Fall, Santa Cruz Basin, Pacific Ocean   \n",
       "...                                            ...   \n",
       "51833                        freshwater epipsammon   \n",
       "51834                                 stream water   \n",
       "51835                                river biofilm   \n",
       "51836                                   lake water   \n",
       "51837                                   lake water   \n",
       "\n",
       "      BIOSAMPLE SAMPLE COLLECTION DATE  \\\n",
       "0                                  NaN   \n",
       "1                           2005-06-01   \n",
       "2                           2005-08-01   \n",
       "3                                  NaN   \n",
       "4                                  NaN   \n",
       "...                                ...   \n",
       "51833                       2023-10-18   \n",
       "51834                       2023-10-31   \n",
       "51835                       2023-07-11   \n",
       "51836                       2023-08-01   \n",
       "51837                       2023-08-08   \n",
       "\n",
       "                           BIOSAMPLE GEOGRAPHIC LOCATION  BIOSAMPLE LATITUDE  \\\n",
       "0                     Great Boiling Spring (GBS), Nevada           40.661433   \n",
       "1                       Richmond Mine, Iron Mountain CA            40.677339   \n",
       "2                                           Indian Ocean           -8.505250   \n",
       "3                               Cocos Island, Costa Rica            5.640000   \n",
       "4            Whale Fall, Santa Cruz Basin, Pacific Ocean           33.300000   \n",
       "...                                                  ...                 ...   \n",
       "51833                         USA: Gatlinburg, Tennessee           35.690420   \n",
       "51834                             USA: Chatanika, Alaska           65.153080   \n",
       "51835  USA: Arikaree River NEON Field Site, Yuma Coun...           39.758200   \n",
       "51836  USA: Lake Suggs NEON Field Site, Melrose, Florida           29.688140   \n",
       "51837  USA: Prairie Lake NEON Field Site, Vashti, Nor...           47.159710   \n",
       "\n",
       "       BIOSAMPLE LONGITUDE  BIOSAMPLE ECOSYSTEM PATH ID  ...          stanza  \\\n",
       "0              -119.366250                         3992  ...             NaN   \n",
       "1              -122.522194                         4164  ...  GOLDTERMS:4164   \n",
       "2                80.375583                         4008  ...             NaN   \n",
       "3               -86.565280                         3973  ...             NaN   \n",
       "4              -119.220000                         4000  ...             NaN   \n",
       "...                    ...                          ...  ...             ...   \n",
       "51833           -83.503790                         5385  ...  GOLDTERMS:5385   \n",
       "51834          -147.501997                         4514  ...  GOLDTERMS:4514   \n",
       "51835          -102.447148                         5348  ...  GOLDTERMS:5348   \n",
       "51836           -82.017318                         4179  ...  GOLDTERMS:4179   \n",
       "51837           -99.118723                         4179  ...  GOLDTERMS:4179   \n",
       "\n",
       "              subject        predicate         object value datatype language  \\\n",
       "0                 NaN              NaN            NaN   NaN      NaN      NaN   \n",
       "1      GOLDTERMS:4164  mixs:env_medium  ENVO:01001004  None     None     None   \n",
       "2                 NaN              NaN            NaN   NaN      NaN      NaN   \n",
       "3                 NaN              NaN            NaN   NaN      NaN      NaN   \n",
       "4                 NaN              NaN            NaN   NaN      NaN      NaN   \n",
       "...               ...              ...            ...   ...      ...      ...   \n",
       "51833  GOLDTERMS:5385  mixs:env_medium  ENVO:00002007  None     None     None   \n",
       "51834  GOLDTERMS:4514  mixs:env_medium  ENVO:00002011  None     None     None   \n",
       "51835  GOLDTERMS:5348  mixs:env_medium  ENVO:00002011  None     None     None   \n",
       "51836  GOLDTERMS:4179  mixs:env_medium  ENVO:00002011  None     None     None   \n",
       "51837  GOLDTERMS:4179  mixs:env_medium  ENVO:00002011  None     None     None   \n",
       "\n",
       "      graph object_label path_id  \n",
       "0       NaN          NaN     NaN  \n",
       "1      None  groundwater  4164.0  \n",
       "2       NaN          NaN     NaN  \n",
       "3       NaN          NaN     NaN  \n",
       "4       NaN          NaN     NaN  \n",
       "...     ...          ...     ...  \n",
       "51833  None     sediment  5385.0  \n",
       "51834  None  fresh water  4514.0  \n",
       "51835  None  fresh water  5348.0  \n",
       "51836  None  fresh water  4179.0  \n",
       "51837  None  fresh water  4179.0  \n",
       "\n",
       "[51838 rows x 25 columns]"
      ],
      "text/html": [
       "<div>\n",
       "<style scoped>\n",
       "    .dataframe tbody tr th:only-of-type {\n",
       "        vertical-align: middle;\n",
       "    }\n",
       "\n",
       "    .dataframe tbody tr th {\n",
       "        vertical-align: top;\n",
       "    }\n",
       "\n",
       "    .dataframe thead th {\n",
       "        text-align: right;\n",
       "    }\n",
       "</style>\n",
       "<table border=\"1\" class=\"dataframe\">\n",
       "  <thead>\n",
       "    <tr style=\"text-align: right;\">\n",
       "      <th></th>\n",
       "      <th>BIOSAMPLE GOLD ID</th>\n",
       "      <th>BIOSAMPLE NAME</th>\n",
       "      <th>BIOSAMPLE NCBI TAX ID</th>\n",
       "      <th>BIOSAMPLE NCBI TAX NAME</th>\n",
       "      <th>BIOSAMPLE SAMPLE COLLECTION SITE</th>\n",
       "      <th>BIOSAMPLE SAMPLE COLLECTION DATE</th>\n",
       "      <th>BIOSAMPLE GEOGRAPHIC LOCATION</th>\n",
       "      <th>BIOSAMPLE LATITUDE</th>\n",
       "      <th>BIOSAMPLE LONGITUDE</th>\n",
       "      <th>BIOSAMPLE ECOSYSTEM PATH ID</th>\n",
       "      <th>...</th>\n",
       "      <th>stanza</th>\n",
       "      <th>subject</th>\n",
       "      <th>predicate</th>\n",
       "      <th>object</th>\n",
       "      <th>value</th>\n",
       "      <th>datatype</th>\n",
       "      <th>language</th>\n",
       "      <th>graph</th>\n",
       "      <th>object_label</th>\n",
       "      <th>path_id</th>\n",
       "    </tr>\n",
       "  </thead>\n",
       "  <tbody>\n",
       "    <tr>\n",
       "      <th>0</th>\n",
       "      <td>Gb0011929</td>\n",
       "      <td>GEBA_MDM Biosample from Great Boiling Spring, ...</td>\n",
       "      <td>749907.0</td>\n",
       "      <td>sediment metagenome</td>\n",
       "      <td>Sediment</td>\n",
       "      <td>NaN</td>\n",
       "      <td>Great Boiling Spring (GBS), Nevada</td>\n",
       "      <td>40.661433</td>\n",
       "      <td>-119.366250</td>\n",
       "      <td>3992</td>\n",
       "      <td>...</td>\n",
       "      <td>NaN</td>\n",
       "      <td>NaN</td>\n",
       "      <td>NaN</td>\n",
       "      <td>NaN</td>\n",
       "      <td>NaN</td>\n",
       "      <td>NaN</td>\n",
       "      <td>NaN</td>\n",
       "      <td>NaN</td>\n",
       "      <td>NaN</td>\n",
       "      <td>NaN</td>\n",
       "    </tr>\n",
       "    <tr>\n",
       "      <th>1</th>\n",
       "      <td>Gb0050975</td>\n",
       "      <td>Acid Mine Drainage (ARMAN) microbial communiti...</td>\n",
       "      <td>718308.0</td>\n",
       "      <td>mine drainage metagenome</td>\n",
       "      <td>Acid mine drainage</td>\n",
       "      <td>2005-06-01</td>\n",
       "      <td>Richmond Mine, Iron Mountain CA</td>\n",
       "      <td>40.677339</td>\n",
       "      <td>-122.522194</td>\n",
       "      <td>4164</td>\n",
       "      <td>...</td>\n",
       "      <td>GOLDTERMS:4164</td>\n",
       "      <td>GOLDTERMS:4164</td>\n",
       "      <td>mixs:env_medium</td>\n",
       "      <td>ENVO:01001004</td>\n",
       "      <td>None</td>\n",
       "      <td>None</td>\n",
       "      <td>None</td>\n",
       "      <td>None</td>\n",
       "      <td>groundwater</td>\n",
       "      <td>4164.0</td>\n",
       "    </tr>\n",
       "    <tr>\n",
       "      <th>2</th>\n",
       "      <td>Gb0050977</td>\n",
       "      <td>Marine microbial communities from the Indian O...</td>\n",
       "      <td>405178.0</td>\n",
       "      <td>marine metagenome</td>\n",
       "      <td>Indian Ocean</td>\n",
       "      <td>2005-08-01</td>\n",
       "      <td>Indian Ocean</td>\n",
       "      <td>-8.505250</td>\n",
       "      <td>80.375583</td>\n",
       "      <td>4008</td>\n",
       "      <td>...</td>\n",
       "      <td>NaN</td>\n",
       "      <td>NaN</td>\n",
       "      <td>NaN</td>\n",
       "      <td>NaN</td>\n",
       "      <td>NaN</td>\n",
       "      <td>NaN</td>\n",
       "      <td>NaN</td>\n",
       "      <td>NaN</td>\n",
       "      <td>NaN</td>\n",
       "      <td>NaN</td>\n",
       "    </tr>\n",
       "    <tr>\n",
       "      <th>3</th>\n",
       "      <td>Gb0050978</td>\n",
       "      <td>Marine ecosystem from Global Ocean Sampling (G...</td>\n",
       "      <td>405178.0</td>\n",
       "      <td>marine metagenome</td>\n",
       "      <td>Cocos Island, Costa Rica</td>\n",
       "      <td>NaN</td>\n",
       "      <td>Cocos Island, Costa Rica</td>\n",
       "      <td>5.640000</td>\n",
       "      <td>-86.565280</td>\n",
       "      <td>3973</td>\n",
       "      <td>...</td>\n",
       "      <td>NaN</td>\n",
       "      <td>NaN</td>\n",
       "      <td>NaN</td>\n",
       "      <td>NaN</td>\n",
       "      <td>NaN</td>\n",
       "      <td>NaN</td>\n",
       "      <td>NaN</td>\n",
       "      <td>NaN</td>\n",
       "      <td>NaN</td>\n",
       "      <td>NaN</td>\n",
       "    </tr>\n",
       "    <tr>\n",
       "      <th>4</th>\n",
       "      <td>Gb0050979</td>\n",
       "      <td>Fossil microbial communities from Whale Fall, ...</td>\n",
       "      <td>444079.0</td>\n",
       "      <td>fossil metagenome</td>\n",
       "      <td>Whale Fall, Santa Cruz Basin, Pacific Ocean</td>\n",
       "      <td>NaN</td>\n",
       "      <td>Whale Fall, Santa Cruz Basin, Pacific Ocean</td>\n",
       "      <td>33.300000</td>\n",
       "      <td>-119.220000</td>\n",
       "      <td>4000</td>\n",
       "      <td>...</td>\n",
       "      <td>NaN</td>\n",
       "      <td>NaN</td>\n",
       "      <td>NaN</td>\n",
       "      <td>NaN</td>\n",
       "      <td>NaN</td>\n",
       "      <td>NaN</td>\n",
       "      <td>NaN</td>\n",
       "      <td>NaN</td>\n",
       "      <td>NaN</td>\n",
       "      <td>NaN</td>\n",
       "    </tr>\n",
       "    <tr>\n",
       "      <th>...</th>\n",
       "      <td>...</td>\n",
       "      <td>...</td>\n",
       "      <td>...</td>\n",
       "      <td>...</td>\n",
       "      <td>...</td>\n",
       "      <td>...</td>\n",
       "      <td>...</td>\n",
       "      <td>...</td>\n",
       "      <td>...</td>\n",
       "      <td>...</td>\n",
       "      <td>...</td>\n",
       "      <td>...</td>\n",
       "      <td>...</td>\n",
       "      <td>...</td>\n",
       "      <td>...</td>\n",
       "      <td>...</td>\n",
       "      <td>...</td>\n",
       "      <td>...</td>\n",
       "      <td>...</td>\n",
       "      <td>...</td>\n",
       "      <td>...</td>\n",
       "    </tr>\n",
       "    <tr>\n",
       "      <th>51833</th>\n",
       "      <td>Gb0404279</td>\n",
       "      <td>Freshwater sediment microbial communities from...</td>\n",
       "      <td>749907.0</td>\n",
       "      <td>sediment metagenome</td>\n",
       "      <td>freshwater epipsammon</td>\n",
       "      <td>2023-10-18</td>\n",
       "      <td>USA: Gatlinburg, Tennessee</td>\n",
       "      <td>35.690420</td>\n",
       "      <td>-83.503790</td>\n",
       "      <td>5385</td>\n",
       "      <td>...</td>\n",
       "      <td>GOLDTERMS:5385</td>\n",
       "      <td>GOLDTERMS:5385</td>\n",
       "      <td>mixs:env_medium</td>\n",
       "      <td>ENVO:00002007</td>\n",
       "      <td>None</td>\n",
       "      <td>None</td>\n",
       "      <td>None</td>\n",
       "      <td>None</td>\n",
       "      <td>sediment</td>\n",
       "      <td>5385.0</td>\n",
       "    </tr>\n",
       "    <tr>\n",
       "      <th>51834</th>\n",
       "      <td>Gb0404280</td>\n",
       "      <td>Freshwater microbial communities from Caribou ...</td>\n",
       "      <td>449393.0</td>\n",
       "      <td>freshwater metagenome</td>\n",
       "      <td>stream water</td>\n",
       "      <td>2023-10-31</td>\n",
       "      <td>USA: Chatanika, Alaska</td>\n",
       "      <td>65.153080</td>\n",
       "      <td>-147.501997</td>\n",
       "      <td>4514</td>\n",
       "      <td>...</td>\n",
       "      <td>GOLDTERMS:4514</td>\n",
       "      <td>GOLDTERMS:4514</td>\n",
       "      <td>mixs:env_medium</td>\n",
       "      <td>ENVO:00002011</td>\n",
       "      <td>None</td>\n",
       "      <td>None</td>\n",
       "      <td>None</td>\n",
       "      <td>None</td>\n",
       "      <td>fresh water</td>\n",
       "      <td>4514.0</td>\n",
       "    </tr>\n",
       "    <tr>\n",
       "      <th>51835</th>\n",
       "      <td>Gb0405289</td>\n",
       "      <td>Freshwater biofilm microbial communities from ...</td>\n",
       "      <td>718308.0</td>\n",
       "      <td>biofilm metagenome</td>\n",
       "      <td>river biofilm</td>\n",
       "      <td>2023-07-11</td>\n",
       "      <td>USA: Arikaree River NEON Field Site, Yuma Coun...</td>\n",
       "      <td>39.758200</td>\n",
       "      <td>-102.447148</td>\n",
       "      <td>5348</td>\n",
       "      <td>...</td>\n",
       "      <td>GOLDTERMS:5348</td>\n",
       "      <td>GOLDTERMS:5348</td>\n",
       "      <td>mixs:env_medium</td>\n",
       "      <td>ENVO:00002011</td>\n",
       "      <td>None</td>\n",
       "      <td>None</td>\n",
       "      <td>None</td>\n",
       "      <td>None</td>\n",
       "      <td>fresh water</td>\n",
       "      <td>5348.0</td>\n",
       "    </tr>\n",
       "    <tr>\n",
       "      <th>51836</th>\n",
       "      <td>Gb0405293</td>\n",
       "      <td>Freshwater microbial communities from Lake Sug...</td>\n",
       "      <td>449393.0</td>\n",
       "      <td>freshwater metagenome</td>\n",
       "      <td>lake water</td>\n",
       "      <td>2023-08-01</td>\n",
       "      <td>USA: Lake Suggs NEON Field Site, Melrose, Florida</td>\n",
       "      <td>29.688140</td>\n",
       "      <td>-82.017318</td>\n",
       "      <td>4179</td>\n",
       "      <td>...</td>\n",
       "      <td>GOLDTERMS:4179</td>\n",
       "      <td>GOLDTERMS:4179</td>\n",
       "      <td>mixs:env_medium</td>\n",
       "      <td>ENVO:00002011</td>\n",
       "      <td>None</td>\n",
       "      <td>None</td>\n",
       "      <td>None</td>\n",
       "      <td>None</td>\n",
       "      <td>fresh water</td>\n",
       "      <td>4179.0</td>\n",
       "    </tr>\n",
       "    <tr>\n",
       "      <th>51837</th>\n",
       "      <td>Gb0405294</td>\n",
       "      <td>Freshwater microbial communities from Prairie ...</td>\n",
       "      <td>449393.0</td>\n",
       "      <td>freshwater metagenome</td>\n",
       "      <td>lake water</td>\n",
       "      <td>2023-08-08</td>\n",
       "      <td>USA: Prairie Lake NEON Field Site, Vashti, Nor...</td>\n",
       "      <td>47.159710</td>\n",
       "      <td>-99.118723</td>\n",
       "      <td>4179</td>\n",
       "      <td>...</td>\n",
       "      <td>GOLDTERMS:4179</td>\n",
       "      <td>GOLDTERMS:4179</td>\n",
       "      <td>mixs:env_medium</td>\n",
       "      <td>ENVO:00002011</td>\n",
       "      <td>None</td>\n",
       "      <td>None</td>\n",
       "      <td>None</td>\n",
       "      <td>None</td>\n",
       "      <td>fresh water</td>\n",
       "      <td>4179.0</td>\n",
       "    </tr>\n",
       "  </tbody>\n",
       "</table>\n",
       "<p>51838 rows × 25 columns</p>\n",
       "</div>"
      ]
     },
     "execution_count": 113,
     "metadata": {},
     "output_type": "execute_result"
    }
   ],
   "execution_count": 113
  },
  {
   "cell_type": "code",
   "id": "332592b73d143dc0",
   "metadata": {
    "ExecuteTime": {
     "end_time": "2024-11-21T13:46:19.049284Z",
     "start_time": "2024-11-21T13:46:19.042889Z"
    }
   },
   "source": [
    "gold_biosample_scoped_counts = gold_env_filtered_biosamples_with_inferred['object'].value_counts().reset_index()\n",
    "gold_biosample_scoped_counts.columns = ['curie', 'gold_scoped_count']"
   ],
   "outputs": [],
   "execution_count": 114
  },
  {
   "cell_type": "code",
   "id": "57d16757b67e19a5",
   "metadata": {
    "ExecuteTime": {
     "end_time": "2024-11-21T13:46:19.189542Z",
     "start_time": "2024-11-21T13:46:19.182315Z"
    }
   },
   "source": [
    "gold_biosample_scoped_counts"
   ],
   "outputs": [
    {
     "data": {
      "text/plain": [
       "              curie  gold_scoped_count\n",
       "0     ENVO:00002011              14196\n",
       "1     ENVO:00002007               7312\n",
       "2     ENVO:01001004                613\n",
       "3     ENVO:01000277                581\n",
       "4     ENVO:00002012                351\n",
       "5     ENVO:00003064                337\n",
       "6     ENVO:00001998                141\n",
       "7     ENVO:01000063                138\n",
       "8     ENVO:01001064                137\n",
       "9     ENVO:00002200                104\n",
       "10  FOODON:03412266                 90\n",
       "11    ENVO:03600064                 68\n",
       "12    ENVO:03600082                 55\n",
       "13    ENVO:01000173                 27\n",
       "14    ENVO:00003096                 26\n",
       "15    ENVO:00002010                 18\n",
       "16    ENVO:00001995                 18\n",
       "17    ENVO:00003044                 15\n",
       "18    ENVO:03605000                  9\n",
       "19    ENVO:01001267                  7\n",
       "20    ENVO:02000138                  6\n",
       "21    ENVO:03600007                  3\n",
       "22    ENVO:01000406                  1"
      ],
      "text/html": [
       "<div>\n",
       "<style scoped>\n",
       "    .dataframe tbody tr th:only-of-type {\n",
       "        vertical-align: middle;\n",
       "    }\n",
       "\n",
       "    .dataframe tbody tr th {\n",
       "        vertical-align: top;\n",
       "    }\n",
       "\n",
       "    .dataframe thead th {\n",
       "        text-align: right;\n",
       "    }\n",
       "</style>\n",
       "<table border=\"1\" class=\"dataframe\">\n",
       "  <thead>\n",
       "    <tr style=\"text-align: right;\">\n",
       "      <th></th>\n",
       "      <th>curie</th>\n",
       "      <th>gold_scoped_count</th>\n",
       "    </tr>\n",
       "  </thead>\n",
       "  <tbody>\n",
       "    <tr>\n",
       "      <th>0</th>\n",
       "      <td>ENVO:00002011</td>\n",
       "      <td>14196</td>\n",
       "    </tr>\n",
       "    <tr>\n",
       "      <th>1</th>\n",
       "      <td>ENVO:00002007</td>\n",
       "      <td>7312</td>\n",
       "    </tr>\n",
       "    <tr>\n",
       "      <th>2</th>\n",
       "      <td>ENVO:01001004</td>\n",
       "      <td>613</td>\n",
       "    </tr>\n",
       "    <tr>\n",
       "      <th>3</th>\n",
       "      <td>ENVO:01000277</td>\n",
       "      <td>581</td>\n",
       "    </tr>\n",
       "    <tr>\n",
       "      <th>4</th>\n",
       "      <td>ENVO:00002012</td>\n",
       "      <td>351</td>\n",
       "    </tr>\n",
       "    <tr>\n",
       "      <th>5</th>\n",
       "      <td>ENVO:00003064</td>\n",
       "      <td>337</td>\n",
       "    </tr>\n",
       "    <tr>\n",
       "      <th>6</th>\n",
       "      <td>ENVO:00001998</td>\n",
       "      <td>141</td>\n",
       "    </tr>\n",
       "    <tr>\n",
       "      <th>7</th>\n",
       "      <td>ENVO:01000063</td>\n",
       "      <td>138</td>\n",
       "    </tr>\n",
       "    <tr>\n",
       "      <th>8</th>\n",
       "      <td>ENVO:01001064</td>\n",
       "      <td>137</td>\n",
       "    </tr>\n",
       "    <tr>\n",
       "      <th>9</th>\n",
       "      <td>ENVO:00002200</td>\n",
       "      <td>104</td>\n",
       "    </tr>\n",
       "    <tr>\n",
       "      <th>10</th>\n",
       "      <td>FOODON:03412266</td>\n",
       "      <td>90</td>\n",
       "    </tr>\n",
       "    <tr>\n",
       "      <th>11</th>\n",
       "      <td>ENVO:03600064</td>\n",
       "      <td>68</td>\n",
       "    </tr>\n",
       "    <tr>\n",
       "      <th>12</th>\n",
       "      <td>ENVO:03600082</td>\n",
       "      <td>55</td>\n",
       "    </tr>\n",
       "    <tr>\n",
       "      <th>13</th>\n",
       "      <td>ENVO:01000173</td>\n",
       "      <td>27</td>\n",
       "    </tr>\n",
       "    <tr>\n",
       "      <th>14</th>\n",
       "      <td>ENVO:00003096</td>\n",
       "      <td>26</td>\n",
       "    </tr>\n",
       "    <tr>\n",
       "      <th>15</th>\n",
       "      <td>ENVO:00002010</td>\n",
       "      <td>18</td>\n",
       "    </tr>\n",
       "    <tr>\n",
       "      <th>16</th>\n",
       "      <td>ENVO:00001995</td>\n",
       "      <td>18</td>\n",
       "    </tr>\n",
       "    <tr>\n",
       "      <th>17</th>\n",
       "      <td>ENVO:00003044</td>\n",
       "      <td>15</td>\n",
       "    </tr>\n",
       "    <tr>\n",
       "      <th>18</th>\n",
       "      <td>ENVO:03605000</td>\n",
       "      <td>9</td>\n",
       "    </tr>\n",
       "    <tr>\n",
       "      <th>19</th>\n",
       "      <td>ENVO:01001267</td>\n",
       "      <td>7</td>\n",
       "    </tr>\n",
       "    <tr>\n",
       "      <th>20</th>\n",
       "      <td>ENVO:02000138</td>\n",
       "      <td>6</td>\n",
       "    </tr>\n",
       "    <tr>\n",
       "      <th>21</th>\n",
       "      <td>ENVO:03600007</td>\n",
       "      <td>3</td>\n",
       "    </tr>\n",
       "    <tr>\n",
       "      <th>22</th>\n",
       "      <td>ENVO:01000406</td>\n",
       "      <td>1</td>\n",
       "    </tr>\n",
       "  </tbody>\n",
       "</table>\n",
       "</div>"
      ]
     },
     "execution_count": 115,
     "metadata": {},
     "output_type": "execute_result"
    }
   ],
   "execution_count": 115
  },
  {
   "cell_type": "code",
   "id": "65ab8871a20a93d2",
   "metadata": {
    "ExecuteTime": {
     "end_time": "2024-11-21T13:46:19.288584Z",
     "start_time": "2024-11-21T13:46:19.282443Z"
    }
   },
   "source": [
    "# Perform the left merge\n",
    "rows_frame = rows_frame.merge(\n",
    "    gold_biosample_scoped_counts,\n",
    "    left_on='curie',\n",
    "    right_on='curie',\n",
    "    how='left'\n",
    ")"
   ],
   "outputs": [],
   "execution_count": 116
  },
  {
   "cell_type": "code",
   "id": "8346fb59af8e61c6",
   "metadata": {
    "ExecuteTime": {
     "end_time": "2024-11-21T13:46:19.465346Z",
     "start_time": "2024-11-21T13:46:19.449800Z"
    }
   },
   "source": [
    "rows_frame"
   ],
   "outputs": [
    {
     "data": {
      "text/plain": [
       "                curie                                              label  \\\n",
       "0     FOODON:03400644  a.  primary food commodities of plant origin (...   \n",
       "1       ENVO:00002873                             organic waste material   \n",
       "2       ENVO:01001528                                friable-frozen soil   \n",
       "3       ENVO:00002481                                               None   \n",
       "4       ENVO:01000458                                           concrete   \n",
       "...               ...                                                ...   \n",
       "1890  FOODON:00001162                                      grape extract   \n",
       "1891    ENVO:00000134                                         permafrost   \n",
       "1892    ENVO:00002229                                           arenosol   \n",
       "1893    ENVO:01000628                                       plant litter   \n",
       "1894    ENVO:00002185                                      oil reservoir   \n",
       "\n",
       "      envo_native  obsolete  legacy_pv    abp  env_sys  biome  \\\n",
       "0           False     False      False  False    False  False   \n",
       "1            True     False      False  False    False  False   \n",
       "2            True     False      False   True    False  False   \n",
       "3           False     False      False  False    False  False   \n",
       "4            True     False      False  False    False  False   \n",
       "...           ...       ...        ...    ...      ...    ...   \n",
       "1890        False     False      False  False    False  False   \n",
       "1891         True     False      False  False    False  False   \n",
       "1892         True     False      False   True    False  False   \n",
       "1893         True     False      False  False    False  False   \n",
       "1894         True     False      False   True    False  False   \n",
       "\n",
       "      terrestrial_biome  aquatic_biome  env_mat  nmdc_scoped_count  \\\n",
       "0                 False          False     True                NaN   \n",
       "1                 False          False     True                NaN   \n",
       "2                 False          False     True                NaN   \n",
       "3                 False          False    False                NaN   \n",
       "4                 False          False     True                NaN   \n",
       "...                 ...            ...      ...                ...   \n",
       "1890              False          False     True                NaN   \n",
       "1891              False          False     True                NaN   \n",
       "1892              False          False     True                NaN   \n",
       "1893              False          False     True                NaN   \n",
       "1894              False          False    False                NaN   \n",
       "\n",
       "      gold_scoped_count  \n",
       "0                   NaN  \n",
       "1                   NaN  \n",
       "2                   NaN  \n",
       "3                   NaN  \n",
       "4                   NaN  \n",
       "...                 ...  \n",
       "1890                NaN  \n",
       "1891                NaN  \n",
       "1892                NaN  \n",
       "1893                NaN  \n",
       "1894                NaN  \n",
       "\n",
       "[1895 rows x 13 columns]"
      ],
      "text/html": [
       "<div>\n",
       "<style scoped>\n",
       "    .dataframe tbody tr th:only-of-type {\n",
       "        vertical-align: middle;\n",
       "    }\n",
       "\n",
       "    .dataframe tbody tr th {\n",
       "        vertical-align: top;\n",
       "    }\n",
       "\n",
       "    .dataframe thead th {\n",
       "        text-align: right;\n",
       "    }\n",
       "</style>\n",
       "<table border=\"1\" class=\"dataframe\">\n",
       "  <thead>\n",
       "    <tr style=\"text-align: right;\">\n",
       "      <th></th>\n",
       "      <th>curie</th>\n",
       "      <th>label</th>\n",
       "      <th>envo_native</th>\n",
       "      <th>obsolete</th>\n",
       "      <th>legacy_pv</th>\n",
       "      <th>abp</th>\n",
       "      <th>env_sys</th>\n",
       "      <th>biome</th>\n",
       "      <th>terrestrial_biome</th>\n",
       "      <th>aquatic_biome</th>\n",
       "      <th>env_mat</th>\n",
       "      <th>nmdc_scoped_count</th>\n",
       "      <th>gold_scoped_count</th>\n",
       "    </tr>\n",
       "  </thead>\n",
       "  <tbody>\n",
       "    <tr>\n",
       "      <th>0</th>\n",
       "      <td>FOODON:03400644</td>\n",
       "      <td>a.  primary food commodities of plant origin (...</td>\n",
       "      <td>False</td>\n",
       "      <td>False</td>\n",
       "      <td>False</td>\n",
       "      <td>False</td>\n",
       "      <td>False</td>\n",
       "      <td>False</td>\n",
       "      <td>False</td>\n",
       "      <td>False</td>\n",
       "      <td>True</td>\n",
       "      <td>NaN</td>\n",
       "      <td>NaN</td>\n",
       "    </tr>\n",
       "    <tr>\n",
       "      <th>1</th>\n",
       "      <td>ENVO:00002873</td>\n",
       "      <td>organic waste material</td>\n",
       "      <td>True</td>\n",
       "      <td>False</td>\n",
       "      <td>False</td>\n",
       "      <td>False</td>\n",
       "      <td>False</td>\n",
       "      <td>False</td>\n",
       "      <td>False</td>\n",
       "      <td>False</td>\n",
       "      <td>True</td>\n",
       "      <td>NaN</td>\n",
       "      <td>NaN</td>\n",
       "    </tr>\n",
       "    <tr>\n",
       "      <th>2</th>\n",
       "      <td>ENVO:01001528</td>\n",
       "      <td>friable-frozen soil</td>\n",
       "      <td>True</td>\n",
       "      <td>False</td>\n",
       "      <td>False</td>\n",
       "      <td>True</td>\n",
       "      <td>False</td>\n",
       "      <td>False</td>\n",
       "      <td>False</td>\n",
       "      <td>False</td>\n",
       "      <td>True</td>\n",
       "      <td>NaN</td>\n",
       "      <td>NaN</td>\n",
       "    </tr>\n",
       "    <tr>\n",
       "      <th>3</th>\n",
       "      <td>ENVO:00002481</td>\n",
       "      <td>None</td>\n",
       "      <td>False</td>\n",
       "      <td>False</td>\n",
       "      <td>False</td>\n",
       "      <td>False</td>\n",
       "      <td>False</td>\n",
       "      <td>False</td>\n",
       "      <td>False</td>\n",
       "      <td>False</td>\n",
       "      <td>False</td>\n",
       "      <td>NaN</td>\n",
       "      <td>NaN</td>\n",
       "    </tr>\n",
       "    <tr>\n",
       "      <th>4</th>\n",
       "      <td>ENVO:01000458</td>\n",
       "      <td>concrete</td>\n",
       "      <td>True</td>\n",
       "      <td>False</td>\n",
       "      <td>False</td>\n",
       "      <td>False</td>\n",
       "      <td>False</td>\n",
       "      <td>False</td>\n",
       "      <td>False</td>\n",
       "      <td>False</td>\n",
       "      <td>True</td>\n",
       "      <td>NaN</td>\n",
       "      <td>NaN</td>\n",
       "    </tr>\n",
       "    <tr>\n",
       "      <th>...</th>\n",
       "      <td>...</td>\n",
       "      <td>...</td>\n",
       "      <td>...</td>\n",
       "      <td>...</td>\n",
       "      <td>...</td>\n",
       "      <td>...</td>\n",
       "      <td>...</td>\n",
       "      <td>...</td>\n",
       "      <td>...</td>\n",
       "      <td>...</td>\n",
       "      <td>...</td>\n",
       "      <td>...</td>\n",
       "      <td>...</td>\n",
       "    </tr>\n",
       "    <tr>\n",
       "      <th>1890</th>\n",
       "      <td>FOODON:00001162</td>\n",
       "      <td>grape extract</td>\n",
       "      <td>False</td>\n",
       "      <td>False</td>\n",
       "      <td>False</td>\n",
       "      <td>False</td>\n",
       "      <td>False</td>\n",
       "      <td>False</td>\n",
       "      <td>False</td>\n",
       "      <td>False</td>\n",
       "      <td>True</td>\n",
       "      <td>NaN</td>\n",
       "      <td>NaN</td>\n",
       "    </tr>\n",
       "    <tr>\n",
       "      <th>1891</th>\n",
       "      <td>ENVO:00000134</td>\n",
       "      <td>permafrost</td>\n",
       "      <td>True</td>\n",
       "      <td>False</td>\n",
       "      <td>False</td>\n",
       "      <td>False</td>\n",
       "      <td>False</td>\n",
       "      <td>False</td>\n",
       "      <td>False</td>\n",
       "      <td>False</td>\n",
       "      <td>True</td>\n",
       "      <td>NaN</td>\n",
       "      <td>NaN</td>\n",
       "    </tr>\n",
       "    <tr>\n",
       "      <th>1892</th>\n",
       "      <td>ENVO:00002229</td>\n",
       "      <td>arenosol</td>\n",
       "      <td>True</td>\n",
       "      <td>False</td>\n",
       "      <td>False</td>\n",
       "      <td>True</td>\n",
       "      <td>False</td>\n",
       "      <td>False</td>\n",
       "      <td>False</td>\n",
       "      <td>False</td>\n",
       "      <td>True</td>\n",
       "      <td>NaN</td>\n",
       "      <td>NaN</td>\n",
       "    </tr>\n",
       "    <tr>\n",
       "      <th>1893</th>\n",
       "      <td>ENVO:01000628</td>\n",
       "      <td>plant litter</td>\n",
       "      <td>True</td>\n",
       "      <td>False</td>\n",
       "      <td>False</td>\n",
       "      <td>False</td>\n",
       "      <td>False</td>\n",
       "      <td>False</td>\n",
       "      <td>False</td>\n",
       "      <td>False</td>\n",
       "      <td>True</td>\n",
       "      <td>NaN</td>\n",
       "      <td>NaN</td>\n",
       "    </tr>\n",
       "    <tr>\n",
       "      <th>1894</th>\n",
       "      <td>ENVO:00002185</td>\n",
       "      <td>oil reservoir</td>\n",
       "      <td>True</td>\n",
       "      <td>False</td>\n",
       "      <td>False</td>\n",
       "      <td>True</td>\n",
       "      <td>False</td>\n",
       "      <td>False</td>\n",
       "      <td>False</td>\n",
       "      <td>False</td>\n",
       "      <td>False</td>\n",
       "      <td>NaN</td>\n",
       "      <td>NaN</td>\n",
       "    </tr>\n",
       "  </tbody>\n",
       "</table>\n",
       "<p>1895 rows × 13 columns</p>\n",
       "</div>"
      ]
     },
     "execution_count": 117,
     "metadata": {},
     "output_type": "execute_result"
    }
   ],
   "execution_count": 117
  },
  {
   "cell_type": "code",
   "id": "396c3f6005a31874",
   "metadata": {
    "ExecuteTime": {
     "end_time": "2024-11-21T13:46:19.653906Z",
     "start_time": "2024-11-21T13:46:19.650731Z"
    }
   },
   "source": [
    "# 990 rows in https://docs.google.com/spreadsheets/d/12WH3eduBq2qSTy9zVF3n7fyajn6ssLZL/edit?gid=546570706#gid=546570706"
   ],
   "outputs": [],
   "execution_count": 118
  },
  {
   "cell_type": "code",
   "id": "87a64ed7d57d81ee",
   "metadata": {
    "ExecuteTime": {
     "end_time": "2024-11-21T13:46:19.826419Z",
     "start_time": "2024-11-21T13:46:19.823428Z"
    }
   },
   "source": [
    "# gold and ncbi counts are slightly trickier\n",
    "# for gold may want to include presence or mapping in goldterms in addition to biosamples counts\n",
    "# ncbi: we have extracted curies and annotated curies"
   ],
   "outputs": [],
   "execution_count": 119
  },
  {
   "cell_type": "code",
   "id": "951ca41984b81e7d",
   "metadata": {
    "ExecuteTime": {
     "end_time": "2024-11-21T13:46:19.967843Z",
     "start_time": "2024-11-21T13:46:19.935109Z"
    }
   },
   "source": [
    "# todo move this stuff up to immediately after the creation of ncbi_frame ?\n",
    "\n",
    "# todo don't accept extracted curie if no real label?\n",
    "# any kind of string similarity checking for label of annotated curie vs extracted label ?\n",
    "# look for long runs of curies?\n",
    "# can we measure the beneficial impact of any of this? current crux: how to distribute counts\n",
    "\n",
    "ncbi_frame['curie_list'] = ncbi_frame.apply(\n",
    "    lambda my_row: list({my_row['extracted_curie'], my_row['longest_annotation_curie']} - {None}),\n",
    "    axis=1\n",
    ")\n",
    "\n",
    "ncbi_frame['unique_curie_count'] = ncbi_frame['curie_list'].apply(len)"
   ],
   "outputs": [],
   "execution_count": 120
  },
  {
   "cell_type": "code",
   "id": "c7e3c6cfe93d4685",
   "metadata": {
    "ExecuteTime": {
     "end_time": "2024-11-21T13:46:26.566061Z",
     "start_time": "2024-11-21T13:46:26.551012Z"
    }
   },
   "source": [
    "ncbi_frame"
   ],
   "outputs": [
    {
     "data": {
      "text/plain": [
       "      serial_number                          content  sample_count  \\\n",
       "0                 1                            water         19467   \n",
       "1                 2                    surface water          3494   \n",
       "2                 3                   not applicable          3372   \n",
       "3                 4                            Water          2638   \n",
       "4                 5                         seawater          2521   \n",
       "...             ...                              ...           ...   \n",
       "1926           1894                  marine water-24             1   \n",
       "1927           1895                     laboratory-2             1   \n",
       "1928           1896    water from hydrothermal plume             1   \n",
       "1929           1897       sediment(AS01 subsample-1)             1   \n",
       "1930           1898  estuarine water [ENVO:01000306]             1   \n",
       "\n",
       "                         content_list  content_count  envo_count  \\\n",
       "0                               water              1           0   \n",
       "1                       surface water              1           0   \n",
       "2                      not applicable              1           0   \n",
       "3                               Water              1           0   \n",
       "4                            seawater              1           0   \n",
       "...                               ...            ...         ...   \n",
       "1926                  marine water-24              1           0   \n",
       "1927                     laboratory-2              1           0   \n",
       "1928    water from hydrothermal plume              1           0   \n",
       "1929       sediment(AS01 subsample-1)              1           0   \n",
       "1930  estuarine water [ENVO:01000306]              1           1   \n",
       "\n",
       "                    extracted_label extracted_curie              real_label  \\\n",
       "0                             water            None                    None   \n",
       "1                     surface water            None                    None   \n",
       "2                    not applicable            None                    None   \n",
       "3                             Water            None                    None   \n",
       "4                          seawater            None                    None   \n",
       "...                             ...             ...                     ...   \n",
       "1926                marine water-24            None                    None   \n",
       "1927                   laboratory-2            None                    None   \n",
       "1928  water from hydrothermal plume            None                    None   \n",
       "1929     sediment(AS01 subsample-1)            None                    None   \n",
       "1930                estuarine water   ENVO:01000306  freshwater environment   \n",
       "\n",
       "     longest_annotation_curie longest_annotation_label  \\\n",
       "0                 CHEBI:15377                    water   \n",
       "1               ENVO:00002042            surface water   \n",
       "2                        None                     None   \n",
       "3                 CHEBI:15377                    water   \n",
       "4               ENVO:00002149                sea water   \n",
       "...                       ...                      ...   \n",
       "1926              CHEBI:15377                    water   \n",
       "1927                     None                     None   \n",
       "1928              CHEBI:15377                    water   \n",
       "1929            ENVO:00002007                 sediment   \n",
       "1930            ENVO:01000301          estuarine water   \n",
       "\n",
       "                          curie_list  unique_curie_count  \n",
       "0                      [CHEBI:15377]                   1  \n",
       "1                    [ENVO:00002042]                   1  \n",
       "2                                 []                   0  \n",
       "3                      [CHEBI:15377]                   1  \n",
       "4                    [ENVO:00002149]                   1  \n",
       "...                              ...                 ...  \n",
       "1926                   [CHEBI:15377]                   1  \n",
       "1927                              []                   0  \n",
       "1928                   [CHEBI:15377]                   1  \n",
       "1929                 [ENVO:00002007]                   1  \n",
       "1930  [ENVO:01000306, ENVO:01000301]                   2  \n",
       "\n",
       "[1931 rows x 13 columns]"
      ],
      "text/html": [
       "<div>\n",
       "<style scoped>\n",
       "    .dataframe tbody tr th:only-of-type {\n",
       "        vertical-align: middle;\n",
       "    }\n",
       "\n",
       "    .dataframe tbody tr th {\n",
       "        vertical-align: top;\n",
       "    }\n",
       "\n",
       "    .dataframe thead th {\n",
       "        text-align: right;\n",
       "    }\n",
       "</style>\n",
       "<table border=\"1\" class=\"dataframe\">\n",
       "  <thead>\n",
       "    <tr style=\"text-align: right;\">\n",
       "      <th></th>\n",
       "      <th>serial_number</th>\n",
       "      <th>content</th>\n",
       "      <th>sample_count</th>\n",
       "      <th>content_list</th>\n",
       "      <th>content_count</th>\n",
       "      <th>envo_count</th>\n",
       "      <th>extracted_label</th>\n",
       "      <th>extracted_curie</th>\n",
       "      <th>real_label</th>\n",
       "      <th>longest_annotation_curie</th>\n",
       "      <th>longest_annotation_label</th>\n",
       "      <th>curie_list</th>\n",
       "      <th>unique_curie_count</th>\n",
       "    </tr>\n",
       "  </thead>\n",
       "  <tbody>\n",
       "    <tr>\n",
       "      <th>0</th>\n",
       "      <td>1</td>\n",
       "      <td>water</td>\n",
       "      <td>19467</td>\n",
       "      <td>water</td>\n",
       "      <td>1</td>\n",
       "      <td>0</td>\n",
       "      <td>water</td>\n",
       "      <td>None</td>\n",
       "      <td>None</td>\n",
       "      <td>CHEBI:15377</td>\n",
       "      <td>water</td>\n",
       "      <td>[CHEBI:15377]</td>\n",
       "      <td>1</td>\n",
       "    </tr>\n",
       "    <tr>\n",
       "      <th>1</th>\n",
       "      <td>2</td>\n",
       "      <td>surface water</td>\n",
       "      <td>3494</td>\n",
       "      <td>surface water</td>\n",
       "      <td>1</td>\n",
       "      <td>0</td>\n",
       "      <td>surface water</td>\n",
       "      <td>None</td>\n",
       "      <td>None</td>\n",
       "      <td>ENVO:00002042</td>\n",
       "      <td>surface water</td>\n",
       "      <td>[ENVO:00002042]</td>\n",
       "      <td>1</td>\n",
       "    </tr>\n",
       "    <tr>\n",
       "      <th>2</th>\n",
       "      <td>3</td>\n",
       "      <td>not applicable</td>\n",
       "      <td>3372</td>\n",
       "      <td>not applicable</td>\n",
       "      <td>1</td>\n",
       "      <td>0</td>\n",
       "      <td>not applicable</td>\n",
       "      <td>None</td>\n",
       "      <td>None</td>\n",
       "      <td>None</td>\n",
       "      <td>None</td>\n",
       "      <td>[]</td>\n",
       "      <td>0</td>\n",
       "    </tr>\n",
       "    <tr>\n",
       "      <th>3</th>\n",
       "      <td>4</td>\n",
       "      <td>Water</td>\n",
       "      <td>2638</td>\n",
       "      <td>Water</td>\n",
       "      <td>1</td>\n",
       "      <td>0</td>\n",
       "      <td>Water</td>\n",
       "      <td>None</td>\n",
       "      <td>None</td>\n",
       "      <td>CHEBI:15377</td>\n",
       "      <td>water</td>\n",
       "      <td>[CHEBI:15377]</td>\n",
       "      <td>1</td>\n",
       "    </tr>\n",
       "    <tr>\n",
       "      <th>4</th>\n",
       "      <td>5</td>\n",
       "      <td>seawater</td>\n",
       "      <td>2521</td>\n",
       "      <td>seawater</td>\n",
       "      <td>1</td>\n",
       "      <td>0</td>\n",
       "      <td>seawater</td>\n",
       "      <td>None</td>\n",
       "      <td>None</td>\n",
       "      <td>ENVO:00002149</td>\n",
       "      <td>sea water</td>\n",
       "      <td>[ENVO:00002149]</td>\n",
       "      <td>1</td>\n",
       "    </tr>\n",
       "    <tr>\n",
       "      <th>...</th>\n",
       "      <td>...</td>\n",
       "      <td>...</td>\n",
       "      <td>...</td>\n",
       "      <td>...</td>\n",
       "      <td>...</td>\n",
       "      <td>...</td>\n",
       "      <td>...</td>\n",
       "      <td>...</td>\n",
       "      <td>...</td>\n",
       "      <td>...</td>\n",
       "      <td>...</td>\n",
       "      <td>...</td>\n",
       "      <td>...</td>\n",
       "    </tr>\n",
       "    <tr>\n",
       "      <th>1926</th>\n",
       "      <td>1894</td>\n",
       "      <td>marine water-24</td>\n",
       "      <td>1</td>\n",
       "      <td>marine water-24</td>\n",
       "      <td>1</td>\n",
       "      <td>0</td>\n",
       "      <td>marine water-24</td>\n",
       "      <td>None</td>\n",
       "      <td>None</td>\n",
       "      <td>CHEBI:15377</td>\n",
       "      <td>water</td>\n",
       "      <td>[CHEBI:15377]</td>\n",
       "      <td>1</td>\n",
       "    </tr>\n",
       "    <tr>\n",
       "      <th>1927</th>\n",
       "      <td>1895</td>\n",
       "      <td>laboratory-2</td>\n",
       "      <td>1</td>\n",
       "      <td>laboratory-2</td>\n",
       "      <td>1</td>\n",
       "      <td>0</td>\n",
       "      <td>laboratory-2</td>\n",
       "      <td>None</td>\n",
       "      <td>None</td>\n",
       "      <td>None</td>\n",
       "      <td>None</td>\n",
       "      <td>[]</td>\n",
       "      <td>0</td>\n",
       "    </tr>\n",
       "    <tr>\n",
       "      <th>1928</th>\n",
       "      <td>1896</td>\n",
       "      <td>water from hydrothermal plume</td>\n",
       "      <td>1</td>\n",
       "      <td>water from hydrothermal plume</td>\n",
       "      <td>1</td>\n",
       "      <td>0</td>\n",
       "      <td>water from hydrothermal plume</td>\n",
       "      <td>None</td>\n",
       "      <td>None</td>\n",
       "      <td>CHEBI:15377</td>\n",
       "      <td>water</td>\n",
       "      <td>[CHEBI:15377]</td>\n",
       "      <td>1</td>\n",
       "    </tr>\n",
       "    <tr>\n",
       "      <th>1929</th>\n",
       "      <td>1897</td>\n",
       "      <td>sediment(AS01 subsample-1)</td>\n",
       "      <td>1</td>\n",
       "      <td>sediment(AS01 subsample-1)</td>\n",
       "      <td>1</td>\n",
       "      <td>0</td>\n",
       "      <td>sediment(AS01 subsample-1)</td>\n",
       "      <td>None</td>\n",
       "      <td>None</td>\n",
       "      <td>ENVO:00002007</td>\n",
       "      <td>sediment</td>\n",
       "      <td>[ENVO:00002007]</td>\n",
       "      <td>1</td>\n",
       "    </tr>\n",
       "    <tr>\n",
       "      <th>1930</th>\n",
       "      <td>1898</td>\n",
       "      <td>estuarine water [ENVO:01000306]</td>\n",
       "      <td>1</td>\n",
       "      <td>estuarine water [ENVO:01000306]</td>\n",
       "      <td>1</td>\n",
       "      <td>1</td>\n",
       "      <td>estuarine water</td>\n",
       "      <td>ENVO:01000306</td>\n",
       "      <td>freshwater environment</td>\n",
       "      <td>ENVO:01000301</td>\n",
       "      <td>estuarine water</td>\n",
       "      <td>[ENVO:01000306, ENVO:01000301]</td>\n",
       "      <td>2</td>\n",
       "    </tr>\n",
       "  </tbody>\n",
       "</table>\n",
       "<p>1931 rows × 13 columns</p>\n",
       "</div>"
      ]
     },
     "execution_count": 121,
     "metadata": {},
     "output_type": "execute_result"
    }
   ],
   "execution_count": 121
  },
  {
   "cell_type": "code",
   "id": "349610c477ebf149",
   "metadata": {
    "ExecuteTime": {
     "end_time": "2024-11-21T13:46:32.211799Z",
     "start_time": "2024-11-21T13:46:32.193343Z"
    }
   },
   "source": [
    "ncbi_frame['unique_curie_count'].value_counts()"
   ],
   "outputs": [
    {
     "data": {
      "text/plain": [
       "unique_curie_count\n",
       "1    987\n",
       "2    716\n",
       "0    228\n",
       "Name: count, dtype: int64"
      ]
     },
     "execution_count": 122,
     "metadata": {},
     "output_type": "execute_result"
    }
   ],
   "execution_count": 122
  },
  {
   "cell_type": "code",
   "id": "e6a8c0273f36e906",
   "metadata": {
    "ExecuteTime": {
     "end_time": "2024-11-21T13:46:32.382772Z",
     "start_time": "2024-11-21T13:46:32.378715Z"
    }
   },
   "source": [
    "double_curie_frame = ncbi_frame[ncbi_frame['unique_curie_count'] > 1]"
   ],
   "outputs": [],
   "execution_count": 123
  },
  {
   "cell_type": "code",
   "id": "334e7c646337a914",
   "metadata": {
    "ExecuteTime": {
     "end_time": "2024-11-21T13:46:32.467223Z",
     "start_time": "2024-11-21T13:46:32.463388Z"
    }
   },
   "source": [
    "double_curie_frame = double_curie_frame[['extracted_curie', 'longest_annotation_curie']]"
   ],
   "outputs": [],
   "execution_count": 124
  },
  {
   "cell_type": "code",
   "id": "874149830df3dd8a",
   "metadata": {
    "ExecuteTime": {
     "end_time": "2024-11-21T13:46:32.540667Z",
     "start_time": "2024-11-21T13:46:32.536371Z"
    }
   },
   "source": [
    "double_curie_frame = double_curie_frame.drop_duplicates()"
   ],
   "outputs": [],
   "execution_count": 125
  },
  {
   "cell_type": "code",
   "id": "cdfc0bda39f3ad6d",
   "metadata": {
    "ExecuteTime": {
     "end_time": "2024-11-21T13:46:32.619228Z",
     "start_time": "2024-11-21T13:46:32.613652Z"
    }
   },
   "source": [
    "double_curie_frame[['extracted_prefix', 'extracted_local_id']] = double_curie_frame['extracted_curie'].str.split(':', expand=True)"
   ],
   "outputs": [],
   "execution_count": 126
  },
  {
   "cell_type": "code",
   "id": "de6fcee63f6677d",
   "metadata": {
    "ExecuteTime": {
     "end_time": "2024-11-21T13:46:32.700051Z",
     "start_time": "2024-11-21T13:46:32.695206Z"
    }
   },
   "source": [
    "double_curie_frame['extracted_local_id_int'] = pd.to_numeric(double_curie_frame['extracted_local_id'], errors='coerce').astype('Int64')"
   ],
   "outputs": [],
   "execution_count": 127
  },
  {
   "cell_type": "code",
   "id": "fae831b04ed985ef",
   "metadata": {
    "ExecuteTime": {
     "end_time": "2024-11-21T13:46:38.103237Z",
     "start_time": "2024-11-21T13:46:38.099441Z"
    }
   },
   "source": [
    "# Ensure extracted_local_id_int is unique and sorted\n",
    "unique_sorted_series = double_curie_frame['extracted_local_id_int'].dropna().drop_duplicates().sort_values()\n"
   ],
   "outputs": [],
   "execution_count": 128
  },
  {
   "cell_type": "code",
   "id": "d244d7b150a3b413",
   "metadata": {
    "ExecuteTime": {
     "end_time": "2024-11-21T13:46:42.966671Z",
     "start_time": "2024-11-21T13:46:42.948318Z"
    }
   },
   "source": [
    "# Find stretches\n",
    "stretches_dict = find_consecutive_stretches_dict(unique_sorted_series)\n",
    "\n",
    "# pprint.pprint(stretches_dict)"
   ],
   "outputs": [],
   "execution_count": 129
  },
  {
   "cell_type": "code",
   "id": "2fda8122842f63c0",
   "metadata": {
    "ExecuteTime": {
     "end_time": "2024-11-21T13:46:47.794907Z",
     "start_time": "2024-11-21T13:46:47.789989Z"
    }
   },
   "source": [
    "# Convert the stretches dictionary into a DataFrame\n",
    "stretches_df = stretches_dict_to_long_dataframe(stretches_dict)"
   ],
   "outputs": [],
   "execution_count": 130
  },
  {
   "cell_type": "code",
   "id": "367abafc0ae13a6d",
   "metadata": {
    "ExecuteTime": {
     "end_time": "2024-11-21T13:46:52.774227Z",
     "start_time": "2024-11-21T13:46:52.767011Z"
    }
   },
   "source": [
    "stretches_df"
   ],
   "outputs": [
    {
     "data": {
      "text/plain": [
       "     stretch_id       value\n",
       "0             1        2151\n",
       "1             1        2152\n",
       "2             1        2153\n",
       "3             1        2154\n",
       "4             1        2155\n",
       "..          ...         ...\n",
       "699           5  2018051508\n",
       "700           5  2018051509\n",
       "701           5  2018051510\n",
       "702           5  2018051511\n",
       "703           5  2018051512\n",
       "\n",
       "[704 rows x 2 columns]"
      ],
      "text/html": [
       "<div>\n",
       "<style scoped>\n",
       "    .dataframe tbody tr th:only-of-type {\n",
       "        vertical-align: middle;\n",
       "    }\n",
       "\n",
       "    .dataframe tbody tr th {\n",
       "        vertical-align: top;\n",
       "    }\n",
       "\n",
       "    .dataframe thead th {\n",
       "        text-align: right;\n",
       "    }\n",
       "</style>\n",
       "<table border=\"1\" class=\"dataframe\">\n",
       "  <thead>\n",
       "    <tr style=\"text-align: right;\">\n",
       "      <th></th>\n",
       "      <th>stretch_id</th>\n",
       "      <th>value</th>\n",
       "    </tr>\n",
       "  </thead>\n",
       "  <tbody>\n",
       "    <tr>\n",
       "      <th>0</th>\n",
       "      <td>1</td>\n",
       "      <td>2151</td>\n",
       "    </tr>\n",
       "    <tr>\n",
       "      <th>1</th>\n",
       "      <td>1</td>\n",
       "      <td>2152</td>\n",
       "    </tr>\n",
       "    <tr>\n",
       "      <th>2</th>\n",
       "      <td>1</td>\n",
       "      <td>2153</td>\n",
       "    </tr>\n",
       "    <tr>\n",
       "      <th>3</th>\n",
       "      <td>1</td>\n",
       "      <td>2154</td>\n",
       "    </tr>\n",
       "    <tr>\n",
       "      <th>4</th>\n",
       "      <td>1</td>\n",
       "      <td>2155</td>\n",
       "    </tr>\n",
       "    <tr>\n",
       "      <th>...</th>\n",
       "      <td>...</td>\n",
       "      <td>...</td>\n",
       "    </tr>\n",
       "    <tr>\n",
       "      <th>699</th>\n",
       "      <td>5</td>\n",
       "      <td>2018051508</td>\n",
       "    </tr>\n",
       "    <tr>\n",
       "      <th>700</th>\n",
       "      <td>5</td>\n",
       "      <td>2018051509</td>\n",
       "    </tr>\n",
       "    <tr>\n",
       "      <th>701</th>\n",
       "      <td>5</td>\n",
       "      <td>2018051510</td>\n",
       "    </tr>\n",
       "    <tr>\n",
       "      <th>702</th>\n",
       "      <td>5</td>\n",
       "      <td>2018051511</td>\n",
       "    </tr>\n",
       "    <tr>\n",
       "      <th>703</th>\n",
       "      <td>5</td>\n",
       "      <td>2018051512</td>\n",
       "    </tr>\n",
       "  </tbody>\n",
       "</table>\n",
       "<p>704 rows × 2 columns</p>\n",
       "</div>"
      ]
     },
     "execution_count": 131,
     "metadata": {},
     "output_type": "execute_result"
    }
   ],
   "execution_count": 131
  },
  {
   "cell_type": "code",
   "id": "8ee27ecc0697a5f5",
   "metadata": {
    "ExecuteTime": {
     "end_time": "2024-11-21T13:46:58.705261Z",
     "start_time": "2024-11-21T13:46:58.700256Z"
    }
   },
   "source": [
    "# Perform the left merge\n",
    "double_curie_frame = double_curie_frame.merge(\n",
    "    stretches_df,\n",
    "    left_on='extracted_local_id_int',\n",
    "    right_on='value',\n",
    "    how='left'\n",
    ")"
   ],
   "outputs": [],
   "execution_count": 132
  },
  {
   "cell_type": "code",
   "id": "59e278981b799f14",
   "metadata": {
    "ExecuteTime": {
     "end_time": "2024-11-21T13:46:58.763870Z",
     "start_time": "2024-11-21T13:46:58.753572Z"
    }
   },
   "source": [
    "stretch_summary_df = summarize_stretch_groups(double_curie_frame)\n"
   ],
   "outputs": [],
   "execution_count": 133
  },
  {
   "cell_type": "code",
   "id": "cee6e3ff1e1ca0d3",
   "metadata": {
    "ExecuteTime": {
     "end_time": "2024-11-21T13:46:58.806164Z",
     "start_time": "2024-11-21T13:46:58.798275Z"
    }
   },
   "source": [
    "stretch_summary_df"
   ],
   "outputs": [
    {
     "data": {
      "text/plain": [
       "   stretch_id most_common_longest_annotation_curie  fraction\n",
       "0         1.0                        ENVO:00002150       1.0\n",
       "1         2.0                        ENVO:01000301       1.0\n",
       "2         3.0                          CHEBI:15377       1.0\n",
       "3         4.0                          CHEBI:15377       1.0\n",
       "4         5.0                          CHEBI:15377       1.0"
      ],
      "text/html": [
       "<div>\n",
       "<style scoped>\n",
       "    .dataframe tbody tr th:only-of-type {\n",
       "        vertical-align: middle;\n",
       "    }\n",
       "\n",
       "    .dataframe tbody tr th {\n",
       "        vertical-align: top;\n",
       "    }\n",
       "\n",
       "    .dataframe thead th {\n",
       "        text-align: right;\n",
       "    }\n",
       "</style>\n",
       "<table border=\"1\" class=\"dataframe\">\n",
       "  <thead>\n",
       "    <tr style=\"text-align: right;\">\n",
       "      <th></th>\n",
       "      <th>stretch_id</th>\n",
       "      <th>most_common_longest_annotation_curie</th>\n",
       "      <th>fraction</th>\n",
       "    </tr>\n",
       "  </thead>\n",
       "  <tbody>\n",
       "    <tr>\n",
       "      <th>0</th>\n",
       "      <td>1.0</td>\n",
       "      <td>ENVO:00002150</td>\n",
       "      <td>1.0</td>\n",
       "    </tr>\n",
       "    <tr>\n",
       "      <th>1</th>\n",
       "      <td>2.0</td>\n",
       "      <td>ENVO:01000301</td>\n",
       "      <td>1.0</td>\n",
       "    </tr>\n",
       "    <tr>\n",
       "      <th>2</th>\n",
       "      <td>3.0</td>\n",
       "      <td>CHEBI:15377</td>\n",
       "      <td>1.0</td>\n",
       "    </tr>\n",
       "    <tr>\n",
       "      <th>3</th>\n",
       "      <td>4.0</td>\n",
       "      <td>CHEBI:15377</td>\n",
       "      <td>1.0</td>\n",
       "    </tr>\n",
       "    <tr>\n",
       "      <th>4</th>\n",
       "      <td>5.0</td>\n",
       "      <td>CHEBI:15377</td>\n",
       "      <td>1.0</td>\n",
       "    </tr>\n",
       "  </tbody>\n",
       "</table>\n",
       "</div>"
      ]
     },
     "execution_count": 134,
     "metadata": {},
     "output_type": "execute_result"
    }
   ],
   "execution_count": 134
  },
  {
   "cell_type": "code",
   "id": "f47a58a1945943b8",
   "metadata": {
    "ExecuteTime": {
     "end_time": "2024-11-21T13:47:04.604371Z",
     "start_time": "2024-11-21T13:47:04.599349Z"
    }
   },
   "source": [
    "# Perform the left merge\n",
    "double_curie_frame = double_curie_frame.merge(\n",
    "    stretch_summary_df,\n",
    "    left_on='stretch_id',\n",
    "    right_on='stretch_id',\n",
    "    how='left'\n",
    ")"
   ],
   "outputs": [],
   "execution_count": 135
  },
  {
   "cell_type": "code",
   "id": "828f3be5ac6c0ab1",
   "metadata": {
    "ExecuteTime": {
     "end_time": "2024-11-21T13:47:04.659250Z",
     "start_time": "2024-11-21T13:47:04.652903Z"
    }
   },
   "source": [
    "drag_evidence_frame = double_curie_frame[double_curie_frame['stretch_id'] >= 1]\n",
    "drag_evidence_frame = drag_evidence_frame[['extracted_curie', 'longest_annotation_curie']]\n",
    "drag_evidence_frame['drag_evidence'] = True"
   ],
   "outputs": [],
   "execution_count": 136
  },
  {
   "cell_type": "code",
   "id": "9907b1472af8731b",
   "metadata": {
    "ExecuteTime": {
     "end_time": "2024-11-21T13:47:04.738014Z",
     "start_time": "2024-11-21T13:47:04.729235Z"
    }
   },
   "source": [
    "drag_evidence_frame"
   ],
   "outputs": [
    {
     "data": {
      "text/plain": [
       "    extracted_curie longest_annotation_curie  drag_evidence\n",
       "8     ENVO:00002153            ENVO:00002150           True\n",
       "9     ENVO:00002166            ENVO:00002150           True\n",
       "10    ENVO:00002199            ENVO:00002150           True\n",
       "11    ENVO:00002203            ENVO:00002150           True\n",
       "12    ENVO:00002204            ENVO:00002150           True\n",
       "..              ...                      ...            ...\n",
       "710   ENVO:00002769            ENVO:00002150           True\n",
       "711   ENVO:00002788            ENVO:00002150           True\n",
       "712   ENVO:00002800            ENVO:00002150           True\n",
       "713   ENVO:00002804            ENVO:00002150           True\n",
       "714   ENVO:01000306            ENVO:01000301           True\n",
       "\n",
       "[704 rows x 3 columns]"
      ],
      "text/html": [
       "<div>\n",
       "<style scoped>\n",
       "    .dataframe tbody tr th:only-of-type {\n",
       "        vertical-align: middle;\n",
       "    }\n",
       "\n",
       "    .dataframe tbody tr th {\n",
       "        vertical-align: top;\n",
       "    }\n",
       "\n",
       "    .dataframe thead th {\n",
       "        text-align: right;\n",
       "    }\n",
       "</style>\n",
       "<table border=\"1\" class=\"dataframe\">\n",
       "  <thead>\n",
       "    <tr style=\"text-align: right;\">\n",
       "      <th></th>\n",
       "      <th>extracted_curie</th>\n",
       "      <th>longest_annotation_curie</th>\n",
       "      <th>drag_evidence</th>\n",
       "    </tr>\n",
       "  </thead>\n",
       "  <tbody>\n",
       "    <tr>\n",
       "      <th>8</th>\n",
       "      <td>ENVO:00002153</td>\n",
       "      <td>ENVO:00002150</td>\n",
       "      <td>True</td>\n",
       "    </tr>\n",
       "    <tr>\n",
       "      <th>9</th>\n",
       "      <td>ENVO:00002166</td>\n",
       "      <td>ENVO:00002150</td>\n",
       "      <td>True</td>\n",
       "    </tr>\n",
       "    <tr>\n",
       "      <th>10</th>\n",
       "      <td>ENVO:00002199</td>\n",
       "      <td>ENVO:00002150</td>\n",
       "      <td>True</td>\n",
       "    </tr>\n",
       "    <tr>\n",
       "      <th>11</th>\n",
       "      <td>ENVO:00002203</td>\n",
       "      <td>ENVO:00002150</td>\n",
       "      <td>True</td>\n",
       "    </tr>\n",
       "    <tr>\n",
       "      <th>12</th>\n",
       "      <td>ENVO:00002204</td>\n",
       "      <td>ENVO:00002150</td>\n",
       "      <td>True</td>\n",
       "    </tr>\n",
       "    <tr>\n",
       "      <th>...</th>\n",
       "      <td>...</td>\n",
       "      <td>...</td>\n",
       "      <td>...</td>\n",
       "    </tr>\n",
       "    <tr>\n",
       "      <th>710</th>\n",
       "      <td>ENVO:00002769</td>\n",
       "      <td>ENVO:00002150</td>\n",
       "      <td>True</td>\n",
       "    </tr>\n",
       "    <tr>\n",
       "      <th>711</th>\n",
       "      <td>ENVO:00002788</td>\n",
       "      <td>ENVO:00002150</td>\n",
       "      <td>True</td>\n",
       "    </tr>\n",
       "    <tr>\n",
       "      <th>712</th>\n",
       "      <td>ENVO:00002800</td>\n",
       "      <td>ENVO:00002150</td>\n",
       "      <td>True</td>\n",
       "    </tr>\n",
       "    <tr>\n",
       "      <th>713</th>\n",
       "      <td>ENVO:00002804</td>\n",
       "      <td>ENVO:00002150</td>\n",
       "      <td>True</td>\n",
       "    </tr>\n",
       "    <tr>\n",
       "      <th>714</th>\n",
       "      <td>ENVO:01000306</td>\n",
       "      <td>ENVO:01000301</td>\n",
       "      <td>True</td>\n",
       "    </tr>\n",
       "  </tbody>\n",
       "</table>\n",
       "<p>704 rows × 3 columns</p>\n",
       "</div>"
      ]
     },
     "execution_count": 137,
     "metadata": {},
     "output_type": "execute_result"
    }
   ],
   "execution_count": 137
  },
  {
   "cell_type": "code",
   "id": "9873eb1bc3ea44e5",
   "metadata": {
    "ExecuteTime": {
     "end_time": "2024-11-21T13:47:11.414786Z",
     "start_time": "2024-11-21T13:47:11.409025Z"
    }
   },
   "source": [
    "ncbi_frame = ncbi_frame.merge(\n",
    "    drag_evidence_frame,\n",
    "    left_on=['extracted_curie', 'longest_annotation_curie'],\n",
    "    right_on=['extracted_curie', 'longest_annotation_curie'],\n",
    "    how='left'\n",
    ")"
   ],
   "outputs": [],
   "execution_count": 138
  },
  {
   "cell_type": "code",
   "id": "1d67b9e207b5531e",
   "metadata": {
    "ExecuteTime": {
     "end_time": "2024-11-21T13:47:11.632336Z",
     "start_time": "2024-11-21T13:47:11.465918Z"
    }
   },
   "source": [
    "# Initialize dragless_curie_list with curie_list values\n",
    "ncbi_frame[\"dragless_curie_list\"] = ncbi_frame[\"curie_list\"]\n",
    "\n",
    "# Update dragless_curie_list based on the condition\n",
    "for index, row in ncbi_frame.iterrows():\n",
    "    if row[\"drag_evidence\"] is True:\n",
    "        if row[\"longest_annotation_curie\"] is not None:\n",
    "            ncbi_frame.at[index, \"dragless_curie_list\"] = [row[\"longest_annotation_curie\"]]\n",
    "        else:\n",
    "            ncbi_frame.at[index, \"dragless_curie_list\"] = []\n",
    "\n",
    "ncbi_frame['dragless_curie_count'] = ncbi_frame['dragless_curie_list'].apply(len)"
   ],
   "outputs": [],
   "execution_count": 139
  },
  {
   "cell_type": "code",
   "id": "fb7469cd6900edd7",
   "metadata": {
    "ExecuteTime": {
     "end_time": "2024-11-21T13:47:11.642588Z",
     "start_time": "2024-11-21T13:47:11.637109Z"
    }
   },
   "source": [
    "ncbi_frame['unique_curie_count'].value_counts()"
   ],
   "outputs": [
    {
     "data": {
      "text/plain": [
       "unique_curie_count\n",
       "1    987\n",
       "2    716\n",
       "0    228\n",
       "Name: count, dtype: int64"
      ]
     },
     "execution_count": 140,
     "metadata": {},
     "output_type": "execute_result"
    }
   ],
   "execution_count": 140
  },
  {
   "cell_type": "code",
   "id": "7626e42d5b746a2a",
   "metadata": {
    "ExecuteTime": {
     "end_time": "2024-11-21T13:47:17.407326Z",
     "start_time": "2024-11-21T13:47:17.402058Z"
    }
   },
   "source": [
    "ncbi_frame['dragless_curie_count'].value_counts()"
   ],
   "outputs": [
    {
     "data": {
      "text/plain": [
       "dragless_curie_count\n",
       "1    1691\n",
       "0     228\n",
       "2      12\n",
       "Name: count, dtype: int64"
      ]
     },
     "execution_count": 141,
     "metadata": {},
     "output_type": "execute_result"
    }
   ],
   "execution_count": 141
  },
  {
   "cell_type": "code",
   "id": "bb3c0eeb8e919ac5",
   "metadata": {
    "ExecuteTime": {
     "end_time": "2024-11-21T13:47:17.466963Z",
     "start_time": "2024-11-21T13:47:17.463286Z"
    }
   },
   "source": [
    "ncbi_frame.shape"
   ],
   "outputs": [
    {
     "data": {
      "text/plain": [
       "(1931, 16)"
      ]
     },
     "execution_count": 142,
     "metadata": {},
     "output_type": "execute_result"
    }
   ],
   "execution_count": 142
  },
  {
   "cell_type": "code",
   "id": "653df3ac622d4e95",
   "metadata": {
    "ExecuteTime": {
     "end_time": "2024-11-21T13:47:17.567175Z",
     "start_time": "2024-11-21T13:47:17.562394Z"
    }
   },
   "source": [
    "ncbi_frame_undisputed = ncbi_frame[ncbi_frame['dragless_curie_count'] <= 1]"
   ],
   "outputs": [],
   "execution_count": 143
  },
  {
   "cell_type": "code",
   "id": "2abdcbd301b484a9",
   "metadata": {
    "ExecuteTime": {
     "end_time": "2024-11-21T13:47:17.648213Z",
     "start_time": "2024-11-21T13:47:17.643859Z"
    }
   },
   "source": [
    "ncbi_frame_undisputed.shape"
   ],
   "outputs": [
    {
     "data": {
      "text/plain": [
       "(1919, 16)"
      ]
     },
     "execution_count": 144,
     "metadata": {},
     "output_type": "execute_result"
    }
   ],
   "execution_count": 144
  },
  {
   "cell_type": "code",
   "id": "57d0c3c05e88ea1e",
   "metadata": {
    "ExecuteTime": {
     "end_time": "2024-11-21T13:47:17.738932Z",
     "start_time": "2024-11-21T13:47:17.734885Z"
    }
   },
   "source": [
    "ncbi_frame_disputed = ncbi_frame[ncbi_frame['dragless_curie_count'] > 1]"
   ],
   "outputs": [],
   "execution_count": 145
  },
  {
   "cell_type": "code",
   "id": "d0cf6796fedc7f8a",
   "metadata": {
    "ExecuteTime": {
     "end_time": "2024-11-21T13:47:17.797579Z",
     "start_time": "2024-11-21T13:47:17.792608Z"
    }
   },
   "source": [
    "ncbi_frame_disputed.shape"
   ],
   "outputs": [
    {
     "data": {
      "text/plain": [
       "(12, 16)"
      ]
     },
     "execution_count": 146,
     "metadata": {},
     "output_type": "execute_result"
    }
   ],
   "execution_count": 146
  },
  {
   "cell_type": "code",
   "id": "fe33fe1d6d2aad09",
   "metadata": {
    "ExecuteTime": {
     "end_time": "2024-11-21T13:47:23.348854Z",
     "start_time": "2024-11-21T13:47:23.343053Z"
    }
   },
   "source": [
    "ncbi_frame_disputed = ncbi_frame_disputed.explode(\"dragless_curie_list\", ignore_index=True)\n"
   ],
   "outputs": [],
   "execution_count": 147
  },
  {
   "cell_type": "code",
   "id": "f8fe49b93cb12990",
   "metadata": {
    "ExecuteTime": {
     "end_time": "2024-11-21T13:47:28.868026Z",
     "start_time": "2024-11-21T13:47:28.863560Z"
    }
   },
   "source": [
    "ncbi_frame_disputed.shape"
   ],
   "outputs": [
    {
     "data": {
      "text/plain": [
       "(24, 16)"
      ]
     },
     "execution_count": 148,
     "metadata": {},
     "output_type": "execute_result"
    }
   ],
   "execution_count": 148
  },
  {
   "cell_type": "code",
   "id": "6896ca8dd3865cb5",
   "metadata": {
    "ExecuteTime": {
     "end_time": "2024-11-21T13:47:33.802349Z",
     "start_time": "2024-11-21T13:47:33.799043Z"
    }
   },
   "source": [
    "ncbi_frame_disputed[\"dragless_curie_list\"] = ncbi_frame_disputed[\"dragless_curie_list\"].apply(lambda x: [x])"
   ],
   "outputs": [],
   "execution_count": 149
  },
  {
   "cell_type": "code",
   "id": "9a472d228624f148",
   "metadata": {
    "ExecuteTime": {
     "end_time": "2024-11-21T13:47:39.527518Z",
     "start_time": "2024-11-21T13:47:39.523147Z"
    }
   },
   "source": [
    "# Combine the rows of ncbi_frame_undisputed and ncbi_frame_disputed into a new DataFrame\n",
    "ncbi_disputes_exploded_frame = pd.concat([ncbi_frame_undisputed, ncbi_frame_disputed], ignore_index=True)\n"
   ],
   "outputs": [],
   "execution_count": 150
  },
  {
   "cell_type": "code",
   "id": "e772d6db19793ec5",
   "metadata": {
    "ExecuteTime": {
     "end_time": "2024-11-21T13:47:44.561823Z",
     "start_time": "2024-11-21T13:47:44.557141Z"
    }
   },
   "source": [
    "ncbi_disputes_exploded_frame.shape"
   ],
   "outputs": [
    {
     "data": {
      "text/plain": [
       "(1943, 16)"
      ]
     },
     "execution_count": 151,
     "metadata": {},
     "output_type": "execute_result"
    }
   ],
   "execution_count": 151
  },
  {
   "cell_type": "code",
   "id": "ef0b5e69d724d94a",
   "metadata": {
    "ExecuteTime": {
     "end_time": "2024-11-21T13:47:51.552044Z",
     "start_time": "2024-11-21T13:47:51.532793Z"
    }
   },
   "source": [
    "ncbi_disputes_exploded_frame"
   ],
   "outputs": [
    {
     "data": {
      "text/plain": [
       "      serial_number                            content  sample_count  \\\n",
       "0                 1                              water         19467   \n",
       "1                 2                      surface water          3494   \n",
       "2                 3                     not applicable          3372   \n",
       "3                 4                              Water          2638   \n",
       "4                 5                           seawater          2521   \n",
       "...             ...                                ...           ...   \n",
       "1938           1158  Surface sea water [ENVO:01001581]             1   \n",
       "1939           1294       ground water [ENVO:00002041]             1   \n",
       "1940           1294       ground water [ENVO:00002041]             1   \n",
       "1941           1805     delta of river [ENVO:00000101]             1   \n",
       "1942           1805     delta of river [ENVO:00000101]             1   \n",
       "\n",
       "                           content_list  content_count  envo_count  \\\n",
       "0                                 water              1           0   \n",
       "1                         surface water              1           0   \n",
       "2                        not applicable              1           0   \n",
       "3                                 Water              1           0   \n",
       "4                              seawater              1           0   \n",
       "...                                 ...            ...         ...   \n",
       "1938  Surface sea water [ENVO:01001581]              1           1   \n",
       "1939       ground water [ENVO:00002041]              1           1   \n",
       "1940       ground water [ENVO:00002041]              1           1   \n",
       "1941     delta of river [ENVO:00000101]              1           1   \n",
       "1942     delta of river [ENVO:00000101]              1           1   \n",
       "\n",
       "        extracted_label extracted_curie             real_label  \\\n",
       "0                 water            None                   None   \n",
       "1         surface water            None                   None   \n",
       "2        not applicable            None                   None   \n",
       "3                 Water            None                   None   \n",
       "4              seawater            None                   None   \n",
       "...                 ...             ...                    ...   \n",
       "1938  Surface sea water   ENVO:01001581      sea surface layer   \n",
       "1939       ground water   ENVO:00002041  obsolete ground water   \n",
       "1940       ground water   ENVO:00002041  obsolete ground water   \n",
       "1941     delta of river   ENVO:00000101                  delta   \n",
       "1942     delta of river   ENVO:00000101                  delta   \n",
       "\n",
       "     longest_annotation_curie longest_annotation_label  \\\n",
       "0                 CHEBI:15377                    water   \n",
       "1               ENVO:00002042            surface water   \n",
       "2                        None                     None   \n",
       "3                 CHEBI:15377                    water   \n",
       "4               ENVO:00002149                sea water   \n",
       "...                       ...                      ...   \n",
       "1938            ENVO:00002149                sea water   \n",
       "1939            ENVO:01001004              groundwater   \n",
       "1940            ENVO:01001004              groundwater   \n",
       "1941            ENVO:00000022                    river   \n",
       "1942            ENVO:00000022                    river   \n",
       "\n",
       "                          curie_list  unique_curie_count drag_evidence  \\\n",
       "0                      [CHEBI:15377]                   1           NaN   \n",
       "1                    [ENVO:00002042]                   1           NaN   \n",
       "2                                 []                   0           NaN   \n",
       "3                      [CHEBI:15377]                   1           NaN   \n",
       "4                    [ENVO:00002149]                   1           NaN   \n",
       "...                              ...                 ...           ...   \n",
       "1938  [ENVO:01001581, ENVO:00002149]                   2           NaN   \n",
       "1939  [ENVO:00002041, ENVO:01001004]                   2           NaN   \n",
       "1940  [ENVO:00002041, ENVO:01001004]                   2           NaN   \n",
       "1941  [ENVO:00000101, ENVO:00000022]                   2           NaN   \n",
       "1942  [ENVO:00000101, ENVO:00000022]                   2           NaN   \n",
       "\n",
       "     dragless_curie_list  dragless_curie_count  \n",
       "0          [CHEBI:15377]                     1  \n",
       "1        [ENVO:00002042]                     1  \n",
       "2                     []                     0  \n",
       "3          [CHEBI:15377]                     1  \n",
       "4        [ENVO:00002149]                     1  \n",
       "...                  ...                   ...  \n",
       "1938     [ENVO:00002149]                     2  \n",
       "1939     [ENVO:00002041]                     2  \n",
       "1940     [ENVO:01001004]                     2  \n",
       "1941     [ENVO:00000101]                     2  \n",
       "1942     [ENVO:00000022]                     2  \n",
       "\n",
       "[1943 rows x 16 columns]"
      ],
      "text/html": [
       "<div>\n",
       "<style scoped>\n",
       "    .dataframe tbody tr th:only-of-type {\n",
       "        vertical-align: middle;\n",
       "    }\n",
       "\n",
       "    .dataframe tbody tr th {\n",
       "        vertical-align: top;\n",
       "    }\n",
       "\n",
       "    .dataframe thead th {\n",
       "        text-align: right;\n",
       "    }\n",
       "</style>\n",
       "<table border=\"1\" class=\"dataframe\">\n",
       "  <thead>\n",
       "    <tr style=\"text-align: right;\">\n",
       "      <th></th>\n",
       "      <th>serial_number</th>\n",
       "      <th>content</th>\n",
       "      <th>sample_count</th>\n",
       "      <th>content_list</th>\n",
       "      <th>content_count</th>\n",
       "      <th>envo_count</th>\n",
       "      <th>extracted_label</th>\n",
       "      <th>extracted_curie</th>\n",
       "      <th>real_label</th>\n",
       "      <th>longest_annotation_curie</th>\n",
       "      <th>longest_annotation_label</th>\n",
       "      <th>curie_list</th>\n",
       "      <th>unique_curie_count</th>\n",
       "      <th>drag_evidence</th>\n",
       "      <th>dragless_curie_list</th>\n",
       "      <th>dragless_curie_count</th>\n",
       "    </tr>\n",
       "  </thead>\n",
       "  <tbody>\n",
       "    <tr>\n",
       "      <th>0</th>\n",
       "      <td>1</td>\n",
       "      <td>water</td>\n",
       "      <td>19467</td>\n",
       "      <td>water</td>\n",
       "      <td>1</td>\n",
       "      <td>0</td>\n",
       "      <td>water</td>\n",
       "      <td>None</td>\n",
       "      <td>None</td>\n",
       "      <td>CHEBI:15377</td>\n",
       "      <td>water</td>\n",
       "      <td>[CHEBI:15377]</td>\n",
       "      <td>1</td>\n",
       "      <td>NaN</td>\n",
       "      <td>[CHEBI:15377]</td>\n",
       "      <td>1</td>\n",
       "    </tr>\n",
       "    <tr>\n",
       "      <th>1</th>\n",
       "      <td>2</td>\n",
       "      <td>surface water</td>\n",
       "      <td>3494</td>\n",
       "      <td>surface water</td>\n",
       "      <td>1</td>\n",
       "      <td>0</td>\n",
       "      <td>surface water</td>\n",
       "      <td>None</td>\n",
       "      <td>None</td>\n",
       "      <td>ENVO:00002042</td>\n",
       "      <td>surface water</td>\n",
       "      <td>[ENVO:00002042]</td>\n",
       "      <td>1</td>\n",
       "      <td>NaN</td>\n",
       "      <td>[ENVO:00002042]</td>\n",
       "      <td>1</td>\n",
       "    </tr>\n",
       "    <tr>\n",
       "      <th>2</th>\n",
       "      <td>3</td>\n",
       "      <td>not applicable</td>\n",
       "      <td>3372</td>\n",
       "      <td>not applicable</td>\n",
       "      <td>1</td>\n",
       "      <td>0</td>\n",
       "      <td>not applicable</td>\n",
       "      <td>None</td>\n",
       "      <td>None</td>\n",
       "      <td>None</td>\n",
       "      <td>None</td>\n",
       "      <td>[]</td>\n",
       "      <td>0</td>\n",
       "      <td>NaN</td>\n",
       "      <td>[]</td>\n",
       "      <td>0</td>\n",
       "    </tr>\n",
       "    <tr>\n",
       "      <th>3</th>\n",
       "      <td>4</td>\n",
       "      <td>Water</td>\n",
       "      <td>2638</td>\n",
       "      <td>Water</td>\n",
       "      <td>1</td>\n",
       "      <td>0</td>\n",
       "      <td>Water</td>\n",
       "      <td>None</td>\n",
       "      <td>None</td>\n",
       "      <td>CHEBI:15377</td>\n",
       "      <td>water</td>\n",
       "      <td>[CHEBI:15377]</td>\n",
       "      <td>1</td>\n",
       "      <td>NaN</td>\n",
       "      <td>[CHEBI:15377]</td>\n",
       "      <td>1</td>\n",
       "    </tr>\n",
       "    <tr>\n",
       "      <th>4</th>\n",
       "      <td>5</td>\n",
       "      <td>seawater</td>\n",
       "      <td>2521</td>\n",
       "      <td>seawater</td>\n",
       "      <td>1</td>\n",
       "      <td>0</td>\n",
       "      <td>seawater</td>\n",
       "      <td>None</td>\n",
       "      <td>None</td>\n",
       "      <td>ENVO:00002149</td>\n",
       "      <td>sea water</td>\n",
       "      <td>[ENVO:00002149]</td>\n",
       "      <td>1</td>\n",
       "      <td>NaN</td>\n",
       "      <td>[ENVO:00002149]</td>\n",
       "      <td>1</td>\n",
       "    </tr>\n",
       "    <tr>\n",
       "      <th>...</th>\n",
       "      <td>...</td>\n",
       "      <td>...</td>\n",
       "      <td>...</td>\n",
       "      <td>...</td>\n",
       "      <td>...</td>\n",
       "      <td>...</td>\n",
       "      <td>...</td>\n",
       "      <td>...</td>\n",
       "      <td>...</td>\n",
       "      <td>...</td>\n",
       "      <td>...</td>\n",
       "      <td>...</td>\n",
       "      <td>...</td>\n",
       "      <td>...</td>\n",
       "      <td>...</td>\n",
       "      <td>...</td>\n",
       "    </tr>\n",
       "    <tr>\n",
       "      <th>1938</th>\n",
       "      <td>1158</td>\n",
       "      <td>Surface sea water [ENVO:01001581]</td>\n",
       "      <td>1</td>\n",
       "      <td>Surface sea water [ENVO:01001581]</td>\n",
       "      <td>1</td>\n",
       "      <td>1</td>\n",
       "      <td>Surface sea water</td>\n",
       "      <td>ENVO:01001581</td>\n",
       "      <td>sea surface layer</td>\n",
       "      <td>ENVO:00002149</td>\n",
       "      <td>sea water</td>\n",
       "      <td>[ENVO:01001581, ENVO:00002149]</td>\n",
       "      <td>2</td>\n",
       "      <td>NaN</td>\n",
       "      <td>[ENVO:00002149]</td>\n",
       "      <td>2</td>\n",
       "    </tr>\n",
       "    <tr>\n",
       "      <th>1939</th>\n",
       "      <td>1294</td>\n",
       "      <td>ground water [ENVO:00002041]</td>\n",
       "      <td>1</td>\n",
       "      <td>ground water [ENVO:00002041]</td>\n",
       "      <td>1</td>\n",
       "      <td>1</td>\n",
       "      <td>ground water</td>\n",
       "      <td>ENVO:00002041</td>\n",
       "      <td>obsolete ground water</td>\n",
       "      <td>ENVO:01001004</td>\n",
       "      <td>groundwater</td>\n",
       "      <td>[ENVO:00002041, ENVO:01001004]</td>\n",
       "      <td>2</td>\n",
       "      <td>NaN</td>\n",
       "      <td>[ENVO:00002041]</td>\n",
       "      <td>2</td>\n",
       "    </tr>\n",
       "    <tr>\n",
       "      <th>1940</th>\n",
       "      <td>1294</td>\n",
       "      <td>ground water [ENVO:00002041]</td>\n",
       "      <td>1</td>\n",
       "      <td>ground water [ENVO:00002041]</td>\n",
       "      <td>1</td>\n",
       "      <td>1</td>\n",
       "      <td>ground water</td>\n",
       "      <td>ENVO:00002041</td>\n",
       "      <td>obsolete ground water</td>\n",
       "      <td>ENVO:01001004</td>\n",
       "      <td>groundwater</td>\n",
       "      <td>[ENVO:00002041, ENVO:01001004]</td>\n",
       "      <td>2</td>\n",
       "      <td>NaN</td>\n",
       "      <td>[ENVO:01001004]</td>\n",
       "      <td>2</td>\n",
       "    </tr>\n",
       "    <tr>\n",
       "      <th>1941</th>\n",
       "      <td>1805</td>\n",
       "      <td>delta of river [ENVO:00000101]</td>\n",
       "      <td>1</td>\n",
       "      <td>delta of river [ENVO:00000101]</td>\n",
       "      <td>1</td>\n",
       "      <td>1</td>\n",
       "      <td>delta of river</td>\n",
       "      <td>ENVO:00000101</td>\n",
       "      <td>delta</td>\n",
       "      <td>ENVO:00000022</td>\n",
       "      <td>river</td>\n",
       "      <td>[ENVO:00000101, ENVO:00000022]</td>\n",
       "      <td>2</td>\n",
       "      <td>NaN</td>\n",
       "      <td>[ENVO:00000101]</td>\n",
       "      <td>2</td>\n",
       "    </tr>\n",
       "    <tr>\n",
       "      <th>1942</th>\n",
       "      <td>1805</td>\n",
       "      <td>delta of river [ENVO:00000101]</td>\n",
       "      <td>1</td>\n",
       "      <td>delta of river [ENVO:00000101]</td>\n",
       "      <td>1</td>\n",
       "      <td>1</td>\n",
       "      <td>delta of river</td>\n",
       "      <td>ENVO:00000101</td>\n",
       "      <td>delta</td>\n",
       "      <td>ENVO:00000022</td>\n",
       "      <td>river</td>\n",
       "      <td>[ENVO:00000101, ENVO:00000022]</td>\n",
       "      <td>2</td>\n",
       "      <td>NaN</td>\n",
       "      <td>[ENVO:00000022]</td>\n",
       "      <td>2</td>\n",
       "    </tr>\n",
       "  </tbody>\n",
       "</table>\n",
       "<p>1943 rows × 16 columns</p>\n",
       "</div>"
      ]
     },
     "execution_count": 152,
     "metadata": {},
     "output_type": "execute_result"
    }
   ],
   "execution_count": 152
  },
  {
   "cell_type": "code",
   "id": "be53a584475499b5",
   "metadata": {
    "ExecuteTime": {
     "end_time": "2024-11-21T13:47:57.342518Z",
     "start_time": "2024-11-21T13:47:57.338474Z"
    }
   },
   "source": [
    "ncbi_disputes_exploded_frame['post_explode_curie_count'] = ncbi_disputes_exploded_frame['dragless_curie_list'].apply(len)"
   ],
   "outputs": [],
   "execution_count": 153
  },
  {
   "cell_type": "code",
   "id": "e0c0605a4ca28188",
   "metadata": {
    "ExecuteTime": {
     "end_time": "2024-11-21T13:47:57.414901Z",
     "start_time": "2024-11-21T13:47:57.406403Z"
    }
   },
   "source": [
    "ncbi_disputes_exploded_frame['post_explode_curie_count'].value_counts()"
   ],
   "outputs": [
    {
     "data": {
      "text/plain": [
       "post_explode_curie_count\n",
       "1    1715\n",
       "0     228\n",
       "Name: count, dtype: int64"
      ]
     },
     "execution_count": 154,
     "metadata": {},
     "output_type": "execute_result"
    }
   ],
   "execution_count": 154
  },
  {
   "cell_type": "code",
   "id": "396e48f3cea80587",
   "metadata": {
    "ExecuteTime": {
     "end_time": "2024-11-21T13:47:57.478601Z",
     "start_time": "2024-11-21T13:47:57.472708Z"
    }
   },
   "source": [
    "# Set 'post_explode_curie' to the 0th item in 'dragless_curie_list'\n",
    "ncbi_disputes_exploded_frame[\"post_explode_curie\"] = ncbi_disputes_exploded_frame[\"dragless_curie_list\"].apply(\n",
    "    lambda x: x[0] if isinstance(x, list) and len(x) > 0 else None\n",
    ")"
   ],
   "outputs": [],
   "execution_count": 155
  },
  {
   "cell_type": "code",
   "id": "1e488764b4212b75",
   "metadata": {
    "ExecuteTime": {
     "end_time": "2024-11-21T13:47:57.574195Z",
     "start_time": "2024-11-21T13:47:57.567431Z"
    }
   },
   "source": [
    "\n",
    "ncbi_biosample_scoped_counts = (\n",
    "    ncbi_disputes_exploded_frame.groupby(\"post_explode_curie\")[\"sample_count\"].sum().reset_index()\n",
    ")\n",
    "\n",
    "ncbi_biosample_scoped_counts.columns = ['curie', 'ncbi_scoped_count']"
   ],
   "outputs": [],
   "execution_count": 156
  },
  {
   "cell_type": "code",
   "id": "916cfcc3c7aa0d34",
   "metadata": {
    "ExecuteTime": {
     "end_time": "2024-11-21T13:47:57.684610Z",
     "start_time": "2024-11-21T13:47:57.675235Z"
    }
   },
   "source": [
    "ncbi_biosample_scoped_counts"
   ],
   "outputs": [
    {
     "data": {
      "text/plain": [
       "              curie  ncbi_scoped_count\n",
       "0       CHEBI:15377              25729\n",
       "1       CHEBI:18248                  2\n",
       "2       CHEBI:26822                  1\n",
       "3        CHEBI:3311                  8\n",
       "4       CHEBI:46662                 15\n",
       "..              ...                ...\n",
       "265  UBERON:0001988                  1\n",
       "266  UBERON:0002075                 34\n",
       "267  UBERON:0002385                 34\n",
       "268  UBERON:0002416                 16\n",
       "269  UBERON:0006314                  4\n",
       "\n",
       "[270 rows x 2 columns]"
      ],
      "text/html": [
       "<div>\n",
       "<style scoped>\n",
       "    .dataframe tbody tr th:only-of-type {\n",
       "        vertical-align: middle;\n",
       "    }\n",
       "\n",
       "    .dataframe tbody tr th {\n",
       "        vertical-align: top;\n",
       "    }\n",
       "\n",
       "    .dataframe thead th {\n",
       "        text-align: right;\n",
       "    }\n",
       "</style>\n",
       "<table border=\"1\" class=\"dataframe\">\n",
       "  <thead>\n",
       "    <tr style=\"text-align: right;\">\n",
       "      <th></th>\n",
       "      <th>curie</th>\n",
       "      <th>ncbi_scoped_count</th>\n",
       "    </tr>\n",
       "  </thead>\n",
       "  <tbody>\n",
       "    <tr>\n",
       "      <th>0</th>\n",
       "      <td>CHEBI:15377</td>\n",
       "      <td>25729</td>\n",
       "    </tr>\n",
       "    <tr>\n",
       "      <th>1</th>\n",
       "      <td>CHEBI:18248</td>\n",
       "      <td>2</td>\n",
       "    </tr>\n",
       "    <tr>\n",
       "      <th>2</th>\n",
       "      <td>CHEBI:26822</td>\n",
       "      <td>1</td>\n",
       "    </tr>\n",
       "    <tr>\n",
       "      <th>3</th>\n",
       "      <td>CHEBI:3311</td>\n",
       "      <td>8</td>\n",
       "    </tr>\n",
       "    <tr>\n",
       "      <th>4</th>\n",
       "      <td>CHEBI:46662</td>\n",
       "      <td>15</td>\n",
       "    </tr>\n",
       "    <tr>\n",
       "      <th>...</th>\n",
       "      <td>...</td>\n",
       "      <td>...</td>\n",
       "    </tr>\n",
       "    <tr>\n",
       "      <th>265</th>\n",
       "      <td>UBERON:0001988</td>\n",
       "      <td>1</td>\n",
       "    </tr>\n",
       "    <tr>\n",
       "      <th>266</th>\n",
       "      <td>UBERON:0002075</td>\n",
       "      <td>34</td>\n",
       "    </tr>\n",
       "    <tr>\n",
       "      <th>267</th>\n",
       "      <td>UBERON:0002385</td>\n",
       "      <td>34</td>\n",
       "    </tr>\n",
       "    <tr>\n",
       "      <th>268</th>\n",
       "      <td>UBERON:0002416</td>\n",
       "      <td>16</td>\n",
       "    </tr>\n",
       "    <tr>\n",
       "      <th>269</th>\n",
       "      <td>UBERON:0006314</td>\n",
       "      <td>4</td>\n",
       "    </tr>\n",
       "  </tbody>\n",
       "</table>\n",
       "<p>270 rows × 2 columns</p>\n",
       "</div>"
      ]
     },
     "execution_count": 157,
     "metadata": {},
     "output_type": "execute_result"
    }
   ],
   "execution_count": 157
  },
  {
   "cell_type": "code",
   "id": "f4d8dc1053a5bb7e",
   "metadata": {
    "ExecuteTime": {
     "end_time": "2024-11-21T13:47:57.740155Z",
     "start_time": "2024-11-21T13:47:57.731689Z"
    }
   },
   "source": [
    "# Perform the left merge\n",
    "rows_frame = rows_frame.merge(\n",
    "    ncbi_biosample_scoped_counts,\n",
    "    left_on='curie',\n",
    "    right_on='curie',\n",
    "    how='left'\n",
    ")"
   ],
   "outputs": [],
   "execution_count": 158
  },
  {
   "cell_type": "code",
   "id": "c608fca3a6ed19c4",
   "metadata": {
    "ExecuteTime": {
     "end_time": "2024-11-21T13:47:57.836413Z",
     "start_time": "2024-11-21T13:47:57.817642Z"
    }
   },
   "source": [
    "rows_frame"
   ],
   "outputs": [
    {
     "data": {
      "text/plain": [
       "                curie                                              label  \\\n",
       "0     FOODON:03400644  a.  primary food commodities of plant origin (...   \n",
       "1       ENVO:00002873                             organic waste material   \n",
       "2       ENVO:01001528                                friable-frozen soil   \n",
       "3       ENVO:00002481                                               None   \n",
       "4       ENVO:01000458                                           concrete   \n",
       "...               ...                                                ...   \n",
       "1890  FOODON:00001162                                      grape extract   \n",
       "1891    ENVO:00000134                                         permafrost   \n",
       "1892    ENVO:00002229                                           arenosol   \n",
       "1893    ENVO:01000628                                       plant litter   \n",
       "1894    ENVO:00002185                                      oil reservoir   \n",
       "\n",
       "      envo_native  obsolete  legacy_pv    abp  env_sys  biome  \\\n",
       "0           False     False      False  False    False  False   \n",
       "1            True     False      False  False    False  False   \n",
       "2            True     False      False   True    False  False   \n",
       "3           False     False      False  False    False  False   \n",
       "4            True     False      False  False    False  False   \n",
       "...           ...       ...        ...    ...      ...    ...   \n",
       "1890        False     False      False  False    False  False   \n",
       "1891         True     False      False  False    False  False   \n",
       "1892         True     False      False   True    False  False   \n",
       "1893         True     False      False  False    False  False   \n",
       "1894         True     False      False   True    False  False   \n",
       "\n",
       "      terrestrial_biome  aquatic_biome  env_mat  nmdc_scoped_count  \\\n",
       "0                 False          False     True                NaN   \n",
       "1                 False          False     True                NaN   \n",
       "2                 False          False     True                NaN   \n",
       "3                 False          False    False                NaN   \n",
       "4                 False          False     True                NaN   \n",
       "...                 ...            ...      ...                ...   \n",
       "1890              False          False     True                NaN   \n",
       "1891              False          False     True                NaN   \n",
       "1892              False          False     True                NaN   \n",
       "1893              False          False     True                NaN   \n",
       "1894              False          False    False                NaN   \n",
       "\n",
       "      gold_scoped_count  ncbi_scoped_count  \n",
       "0                   NaN                NaN  \n",
       "1                   NaN                NaN  \n",
       "2                   NaN                NaN  \n",
       "3                   NaN                NaN  \n",
       "4                   NaN                9.0  \n",
       "...                 ...                ...  \n",
       "1890                NaN                NaN  \n",
       "1891                NaN                NaN  \n",
       "1892                NaN                NaN  \n",
       "1893                NaN                NaN  \n",
       "1894                NaN                NaN  \n",
       "\n",
       "[1895 rows x 14 columns]"
      ],
      "text/html": [
       "<div>\n",
       "<style scoped>\n",
       "    .dataframe tbody tr th:only-of-type {\n",
       "        vertical-align: middle;\n",
       "    }\n",
       "\n",
       "    .dataframe tbody tr th {\n",
       "        vertical-align: top;\n",
       "    }\n",
       "\n",
       "    .dataframe thead th {\n",
       "        text-align: right;\n",
       "    }\n",
       "</style>\n",
       "<table border=\"1\" class=\"dataframe\">\n",
       "  <thead>\n",
       "    <tr style=\"text-align: right;\">\n",
       "      <th></th>\n",
       "      <th>curie</th>\n",
       "      <th>label</th>\n",
       "      <th>envo_native</th>\n",
       "      <th>obsolete</th>\n",
       "      <th>legacy_pv</th>\n",
       "      <th>abp</th>\n",
       "      <th>env_sys</th>\n",
       "      <th>biome</th>\n",
       "      <th>terrestrial_biome</th>\n",
       "      <th>aquatic_biome</th>\n",
       "      <th>env_mat</th>\n",
       "      <th>nmdc_scoped_count</th>\n",
       "      <th>gold_scoped_count</th>\n",
       "      <th>ncbi_scoped_count</th>\n",
       "    </tr>\n",
       "  </thead>\n",
       "  <tbody>\n",
       "    <tr>\n",
       "      <th>0</th>\n",
       "      <td>FOODON:03400644</td>\n",
       "      <td>a.  primary food commodities of plant origin (...</td>\n",
       "      <td>False</td>\n",
       "      <td>False</td>\n",
       "      <td>False</td>\n",
       "      <td>False</td>\n",
       "      <td>False</td>\n",
       "      <td>False</td>\n",
       "      <td>False</td>\n",
       "      <td>False</td>\n",
       "      <td>True</td>\n",
       "      <td>NaN</td>\n",
       "      <td>NaN</td>\n",
       "      <td>NaN</td>\n",
       "    </tr>\n",
       "    <tr>\n",
       "      <th>1</th>\n",
       "      <td>ENVO:00002873</td>\n",
       "      <td>organic waste material</td>\n",
       "      <td>True</td>\n",
       "      <td>False</td>\n",
       "      <td>False</td>\n",
       "      <td>False</td>\n",
       "      <td>False</td>\n",
       "      <td>False</td>\n",
       "      <td>False</td>\n",
       "      <td>False</td>\n",
       "      <td>True</td>\n",
       "      <td>NaN</td>\n",
       "      <td>NaN</td>\n",
       "      <td>NaN</td>\n",
       "    </tr>\n",
       "    <tr>\n",
       "      <th>2</th>\n",
       "      <td>ENVO:01001528</td>\n",
       "      <td>friable-frozen soil</td>\n",
       "      <td>True</td>\n",
       "      <td>False</td>\n",
       "      <td>False</td>\n",
       "      <td>True</td>\n",
       "      <td>False</td>\n",
       "      <td>False</td>\n",
       "      <td>False</td>\n",
       "      <td>False</td>\n",
       "      <td>True</td>\n",
       "      <td>NaN</td>\n",
       "      <td>NaN</td>\n",
       "      <td>NaN</td>\n",
       "    </tr>\n",
       "    <tr>\n",
       "      <th>3</th>\n",
       "      <td>ENVO:00002481</td>\n",
       "      <td>None</td>\n",
       "      <td>False</td>\n",
       "      <td>False</td>\n",
       "      <td>False</td>\n",
       "      <td>False</td>\n",
       "      <td>False</td>\n",
       "      <td>False</td>\n",
       "      <td>False</td>\n",
       "      <td>False</td>\n",
       "      <td>False</td>\n",
       "      <td>NaN</td>\n",
       "      <td>NaN</td>\n",
       "      <td>NaN</td>\n",
       "    </tr>\n",
       "    <tr>\n",
       "      <th>4</th>\n",
       "      <td>ENVO:01000458</td>\n",
       "      <td>concrete</td>\n",
       "      <td>True</td>\n",
       "      <td>False</td>\n",
       "      <td>False</td>\n",
       "      <td>False</td>\n",
       "      <td>False</td>\n",
       "      <td>False</td>\n",
       "      <td>False</td>\n",
       "      <td>False</td>\n",
       "      <td>True</td>\n",
       "      <td>NaN</td>\n",
       "      <td>NaN</td>\n",
       "      <td>9.0</td>\n",
       "    </tr>\n",
       "    <tr>\n",
       "      <th>...</th>\n",
       "      <td>...</td>\n",
       "      <td>...</td>\n",
       "      <td>...</td>\n",
       "      <td>...</td>\n",
       "      <td>...</td>\n",
       "      <td>...</td>\n",
       "      <td>...</td>\n",
       "      <td>...</td>\n",
       "      <td>...</td>\n",
       "      <td>...</td>\n",
       "      <td>...</td>\n",
       "      <td>...</td>\n",
       "      <td>...</td>\n",
       "      <td>...</td>\n",
       "    </tr>\n",
       "    <tr>\n",
       "      <th>1890</th>\n",
       "      <td>FOODON:00001162</td>\n",
       "      <td>grape extract</td>\n",
       "      <td>False</td>\n",
       "      <td>False</td>\n",
       "      <td>False</td>\n",
       "      <td>False</td>\n",
       "      <td>False</td>\n",
       "      <td>False</td>\n",
       "      <td>False</td>\n",
       "      <td>False</td>\n",
       "      <td>True</td>\n",
       "      <td>NaN</td>\n",
       "      <td>NaN</td>\n",
       "      <td>NaN</td>\n",
       "    </tr>\n",
       "    <tr>\n",
       "      <th>1891</th>\n",
       "      <td>ENVO:00000134</td>\n",
       "      <td>permafrost</td>\n",
       "      <td>True</td>\n",
       "      <td>False</td>\n",
       "      <td>False</td>\n",
       "      <td>False</td>\n",
       "      <td>False</td>\n",
       "      <td>False</td>\n",
       "      <td>False</td>\n",
       "      <td>False</td>\n",
       "      <td>True</td>\n",
       "      <td>NaN</td>\n",
       "      <td>NaN</td>\n",
       "      <td>NaN</td>\n",
       "    </tr>\n",
       "    <tr>\n",
       "      <th>1892</th>\n",
       "      <td>ENVO:00002229</td>\n",
       "      <td>arenosol</td>\n",
       "      <td>True</td>\n",
       "      <td>False</td>\n",
       "      <td>False</td>\n",
       "      <td>True</td>\n",
       "      <td>False</td>\n",
       "      <td>False</td>\n",
       "      <td>False</td>\n",
       "      <td>False</td>\n",
       "      <td>True</td>\n",
       "      <td>NaN</td>\n",
       "      <td>NaN</td>\n",
       "      <td>NaN</td>\n",
       "    </tr>\n",
       "    <tr>\n",
       "      <th>1893</th>\n",
       "      <td>ENVO:01000628</td>\n",
       "      <td>plant litter</td>\n",
       "      <td>True</td>\n",
       "      <td>False</td>\n",
       "      <td>False</td>\n",
       "      <td>False</td>\n",
       "      <td>False</td>\n",
       "      <td>False</td>\n",
       "      <td>False</td>\n",
       "      <td>False</td>\n",
       "      <td>True</td>\n",
       "      <td>NaN</td>\n",
       "      <td>NaN</td>\n",
       "      <td>NaN</td>\n",
       "    </tr>\n",
       "    <tr>\n",
       "      <th>1894</th>\n",
       "      <td>ENVO:00002185</td>\n",
       "      <td>oil reservoir</td>\n",
       "      <td>True</td>\n",
       "      <td>False</td>\n",
       "      <td>False</td>\n",
       "      <td>True</td>\n",
       "      <td>False</td>\n",
       "      <td>False</td>\n",
       "      <td>False</td>\n",
       "      <td>False</td>\n",
       "      <td>False</td>\n",
       "      <td>NaN</td>\n",
       "      <td>NaN</td>\n",
       "      <td>NaN</td>\n",
       "    </tr>\n",
       "  </tbody>\n",
       "</table>\n",
       "<p>1895 rows × 14 columns</p>\n",
       "</div>"
      ]
     },
     "execution_count": 159,
     "metadata": {},
     "output_type": "execute_result"
    }
   ],
   "execution_count": 159
  },
  {
   "cell_type": "code",
   "id": "b7a26a1b879188a4",
   "metadata": {
    "ExecuteTime": {
     "end_time": "2024-11-21T13:47:57.991132Z",
     "start_time": "2024-11-21T13:47:57.976572Z"
    }
   },
   "source": [
    "rows_frame.to_csv(output_file_name, sep=\"\\t\", index=False)"
   ],
   "outputs": [],
   "execution_count": 160
  },
  {
   "cell_type": "code",
   "id": "a58a25a226f07cfb",
   "metadata": {
    "ExecuteTime": {
     "end_time": "2024-11-21T13:47:58.037923Z",
     "start_time": "2024-11-21T13:47:58.035086Z"
    }
   },
   "source": [],
   "outputs": [],
   "execution_count": null
  }
 ],
 "metadata": {
  "kernelspec": {
   "display_name": "Python 3 (ipykernel)",
   "language": "python",
   "name": "python3"
  },
  "language_info": {
   "codemirror_mode": {
    "name": "ipython",
    "version": 3
   },
   "file_extension": ".py",
   "mimetype": "text/x-python",
   "name": "python",
   "nbconvert_exporter": "python",
   "pygments_lexer": "ipython3",
   "version": "3.10.13"
  }
 },
 "nbformat": 4,
 "nbformat_minor": 5
}
