{
 "cells": [
  {
   "metadata": {
    "ExecuteTime": {
     "end_time": "2024-12-12T18:35:08.591684Z",
     "start_time": "2024-12-12T18:35:03.239420Z"
    }
   },
   "cell_type": "code",
   "source": [
    "from common import *\n",
    "\n",
    "import gzip\n",
    "import os\n",
    "import shutil\n",
    "import sqlite3\n",
    "from urllib.parse import urlparse\n",
    "\n",
    "import duckdb\n",
    "import pandas as pd\n",
    "import requests\n",
    "\n",
    "from oaklib import get_adapter\n",
    "from oaklib.datamodels.vocabulary import IS_A\n",
    "from oaklib.utilities.lexical.lexical_indexer import create_lexical_index, save_lexical_index, load_lexical_index\n",
    "from oaklib.interfaces.text_annotator_interface import TextAnnotatorInterface\n",
    "\n",
    "from scipy.sparse import hstack\n",
    "from sklearn.ensemble import RandomForestClassifier\n",
    "from sklearn.metrics import classification_report\n",
    "from sklearn.model_selection import train_test_split\n",
    "\n",
    "import yaml\n",
    "import json\n"
   ],
   "id": "630126a7790cc3a7",
   "outputs": [],
   "execution_count": 1
  },
  {
   "metadata": {
    "ExecuteTime": {
     "end_time": "2024-12-12T18:35:08.600439Z",
     "start_time": "2024-12-12T18:35:08.594263Z"
    }
   },
   "cell_type": "code",
   "source": [
    "\n",
    "selected_configuration = \"water_env_medium\""
   ],
   "id": "3fe616691ce40dae",
   "outputs": [],
   "execution_count": 2
  },
  {
   "metadata": {
    "ExecuteTime": {
     "end_time": "2024-12-12T18:35:08.605159Z",
     "start_time": "2024-12-12T18:35:08.602351Z"
    }
   },
   "cell_type": "code",
   "source": "configurations_file = \"voting_sheets_configurations.yaml\"",
   "id": "8587aac0ae5e4b6e",
   "outputs": [],
   "execution_count": 3
  },
  {
   "metadata": {
    "ExecuteTime": {
     "end_time": "2024-12-12T18:35:08.612098Z",
     "start_time": "2024-12-12T18:35:08.608332Z"
    }
   },
   "cell_type": "code",
   "source": [
    "# these are the variables that will be set by the configuration\n",
    "\n",
    "gold_context_selectors = None\n",
    "ncbi_context_selector = None\n",
    "ncbi_package_selector = None\n",
    "first_where = None\n",
    "gold_first_where = None\n",
    "semantic_anchor = None\n",
    "previous_submission_schema_url = None\n",
    "CONTEXT_ENUM = None\n",
    "nmdc_package_selector = None\n",
    "nmdc_context_selector = None\n",
    "comparison_enum_column_name = None\n",
    "output_file_name = None\n"
   ],
   "id": "27a216a6c4302bef",
   "outputs": [],
   "execution_count": 4
  },
  {
   "metadata": {
    "ExecuteTime": {
     "end_time": "2024-12-12T18:35:08.644366Z",
     "start_time": "2024-12-12T18:35:08.613820Z"
    }
   },
   "cell_type": "code",
   "source": [
    "# Load configurations from YAML file\n",
    "with open(configurations_file, \"r\") as file:\n",
    "    configurations = yaml.safe_load(file)[\"configurations\"]\n",
    "\n",
    "# Function to apply a configuration\n",
    "def apply_configuration(config_name):\n",
    "    config = configurations.get(config_name)\n",
    "    if not config:\n",
    "        raise ValueError(f\"Configuration '{config_name}' not found.\")\n",
    "    \n",
    "    # Update global variables\n",
    "    globals().update(config)\n",
    "    print(f\"Configuration '{config_name}' applied.\")\n"
   ],
   "id": "7b7c9aa7b0377b9d",
   "outputs": [],
   "execution_count": 5
  },
  {
   "metadata": {
    "ExecuteTime": {
     "end_time": "2024-12-12T18:35:08.649130Z",
     "start_time": "2024-12-12T18:35:08.645983Z"
    }
   },
   "cell_type": "code",
   "source": [
    "apply_configuration(selected_configuration)\n",
    "\n",
    "# Now the global variables like `output_file_name`, `semantic_anchor`, etc., are set."
   ],
   "id": "a4aa8e0cde326069",
   "outputs": [
    {
     "name": "stdout",
     "output_type": "stream",
     "text": [
      "Configuration 'water_env_medium' applied.\n"
     ]
    }
   ],
   "execution_count": 6
  },
  {
   "metadata": {
    "ExecuteTime": {
     "end_time": "2024-12-12T18:35:08.654282Z",
     "start_time": "2024-12-12T18:35:08.651212Z"
    }
   },
   "cell_type": "code",
   "source": "gold_first_where = first_where",
   "id": "bece5df5dfd0e112",
   "outputs": [],
   "execution_count": 7
  },
  {
   "metadata": {
    "ExecuteTime": {
     "end_time": "2024-12-12T18:35:08.661309Z",
     "start_time": "2024-12-12T18:35:08.656853Z"
    }
   },
   "cell_type": "code",
   "source": [
    "# Initialize cache dictionaries for predict_from_normalized_env_packages\n",
    "# todo how to move the definitions for function that use these globals? Or just use caching around the function?\n",
    "ancestor_cache = {}\n",
    "descendant_cache = {}"
   ],
   "id": "f952b5888d2c5f0d",
   "outputs": [],
   "execution_count": 8
  },
  {
   "metadata": {},
   "cell_type": "markdown",
   "source": "# Preliminary label, ancestor and descendant caching",
   "id": "fe821e1d558e5735"
  },
  {
   "metadata": {
    "ExecuteTime": {
     "end_time": "2024-12-12T18:35:08.668086Z",
     "start_time": "2024-12-12T18:35:08.663531Z"
    }
   },
   "cell_type": "code",
   "source": [
    "# todo this on-demand NCBI curie extraction and annotation recapitulates work that is being added to\n",
    "# https://portal.nersc.gov/project/m3408/biosamples_duckdb/\n",
    "# via ???\n",
    "#   although that doesn't detect auto-incremented curies from  spreadsheet dragging\n",
    "\n",
    "# todo eventually, dig up a complete JSON gold biosample dump for non-hybrid biosample counts\n",
    "\n",
    "# todo make it clearer whether biosamples or studies are being counted\n",
    "#   count nmdc or gold STUDIES too?"
   ],
   "id": "5001cbd978bbdd28",
   "outputs": [],
   "execution_count": 9
  },
  {
   "metadata": {},
   "cell_type": "markdown",
   "source": "# Additional Settings",
   "id": "b799aabdd66098c0"
  },
  {
   "metadata": {
    "ExecuteTime": {
     "end_time": "2024-12-12T18:35:08.675367Z",
     "start_time": "2024-12-12T18:35:08.672512Z"
    }
   },
   "cell_type": "code",
   "source": [
    "# Approved prefixes (case-insensitive)\n",
    "approved_prefixes = ['ENVO']"
   ],
   "id": "50e39f658f4bd77b",
   "outputs": [],
   "execution_count": 10
  },
  {
   "metadata": {
    "ExecuteTime": {
     "end_time": "2024-12-12T18:35:08.679957Z",
     "start_time": "2024-12-12T18:35:08.677170Z"
    }
   },
   "cell_type": "code",
   "source": "MIN_ANNOTATION_LEN = 3",
   "id": "3aa0b52456f0a95c",
   "outputs": [],
   "execution_count": 11
  },
  {
   "cell_type": "code",
   "id": "d526be618b8b9129",
   "metadata": {
    "ExecuteTime": {
     "end_time": "2024-12-12T18:35:08.684579Z",
     "start_time": "2024-12-12T18:35:08.681470Z"
    }
   },
   "source": [
    "NMDC_RUNTIME_BASE_URL = 'https://api.microbiomedata.org/nmdcschema/'\n",
    "STUDY_SET_COLLECTION = 'study_set'\n",
    "BIOSAMPLE_SET_COLLECTION = 'biosample_set'"
   ],
   "outputs": [],
   "execution_count": 12
  },
  {
   "cell_type": "code",
   "id": "11c0cba800e33ac6",
   "metadata": {
    "ExecuteTime": {
     "end_time": "2024-12-12T18:35:08.689771Z",
     "start_time": "2024-12-12T18:35:08.686506Z"
    }
   },
   "source": [
    "envo_adapter_string = \"sqlite:obo:envo\""
   ],
   "outputs": [],
   "execution_count": 13
  },
  {
   "cell_type": "code",
   "id": "7795121f47307a00",
   "metadata": {
    "ExecuteTime": {
     "end_time": "2024-12-12T18:35:08.694093Z",
     "start_time": "2024-12-12T18:35:08.691255Z"
    }
   },
   "source": [
    "env_package_override_file = 'mam-env-package-overrides.tsv'\n",
    "override_column = 'mam_inferred_env_package'"
   ],
   "outputs": [],
   "execution_count": 14
  },
  {
   "cell_type": "code",
   "id": "f1b99451d88ce356",
   "metadata": {
    "ExecuteTime": {
     "end_time": "2024-12-12T18:35:08.745593Z",
     "start_time": "2024-12-12T18:35:08.742502Z"
    }
   },
   "source": [
    "# ncbi_duckdb_url = 'https://portal.nersc.gov/project/m3408/biosamples_duckdb/ncbi_biosamples_2024-09-23.duckdb.gz'\n",
    "ncbi_duckdb_url = 'https://portal.nersc.gov/project/m3408/biosamples_duckdb/ncbi_biosamples.duckdb.gz'"
   ],
   "outputs": [],
   "execution_count": 15
  },
  {
   "cell_type": "code",
   "id": "51e5d41b02b19eec",
   "metadata": {
    "ExecuteTime": {
     "end_time": "2024-12-12T18:35:08.822395Z",
     "start_time": "2024-12-12T18:35:08.818053Z"
    }
   },
   "source": [
    "gold_data_url = \"https://gold.jgi.doe.gov/download?mode=site_excel\"\n",
    "gold_data_file_name = \"goldData.xlsx\" # goldData.xlsx: Microsoft Excel 2007+\n",
    "gold_csv_file_name = \"gold_biosamples.csv\"\n",
    "BIOSAMPLES_SHEET = \"Biosample\""
   ],
   "outputs": [],
   "execution_count": 16
  },
  {
   "cell_type": "code",
   "id": "e1d9f705fad2efa9",
   "metadata": {
    "ExecuteTime": {
     "end_time": "2024-12-12T18:35:09.805310Z",
     "start_time": "2024-12-12T18:35:09.802038Z"
    }
   },
   "source": "goldterms_semsql_url = \"https://s3.amazonaws.com/bbop-sqlite/goldterms.db.gz\"",
   "outputs": [],
   "execution_count": 17
  },
  {
   "metadata": {
    "ExecuteTime": {
     "end_time": "2024-12-12T18:35:09.929092Z",
     "start_time": "2024-12-12T18:35:09.926004Z"
    }
   },
   "cell_type": "code",
   "source": "all_nmdc_biosamples_file = 'all_nmdc_biosamples.json'",
   "id": "db6170cb9f3a6ca0",
   "outputs": [],
   "execution_count": 18
  },
  {
   "metadata": {},
   "cell_type": "markdown",
   "source": "# CURIe Constants",
   "id": "16e21c18886a373c"
  },
  {
   "metadata": {
    "ExecuteTime": {
     "end_time": "2024-12-12T18:35:10.096610Z",
     "start_time": "2024-12-12T18:35:10.092996Z"
    }
   },
   "cell_type": "code",
   "source": [
    "BIOME = 'ENVO:00000428'\n",
    "TERRESTRIAL_BIOME = 'ENVO:00000446'\n",
    "AQUATIC_BIOME = 'ENVO:00002030'\n",
    "ABP = 'ENVO:01000813'\n",
    "ENVIRONMENTAL_SYSTEM = 'ENVO:01000254'\n",
    "ENVIRONMENTAL_MATERIAL = 'ENVO:00010483'\n",
    "\n",
    "SOIL = 'ENVO:00001998'\n",
    "LIQUID_WATER = 'ENVO:00002006'\n",
    "WATER_ICE = 'ENVO:01000277'\n",
    "\n",
    "HUMAN_CONSTRUCTION = 'ENVO:00000070'\n",
    "BUILDING = 'ENVO:00000073'\n",
    "BUILDING_PART = 'ENVO:01000420'"
   ],
   "id": "73e52103eb69bbcc",
   "outputs": [],
   "execution_count": 19
  },
  {
   "metadata": {},
   "cell_type": "markdown",
   "source": "# Settings-based Queries",
   "id": "7ecec14181910236"
  },
  {
   "cell_type": "code",
   "id": "fb8c7caf28e64d10",
   "metadata": {
    "ExecuteTime": {
     "end_time": "2024-12-12T18:35:10.203910Z",
     "start_time": "2024-12-12T18:35:10.199570Z"
    }
   },
   "source": [
    "# todo could this have been done with a OAK query, eliminating the need to explicitly download the file?\n",
    "\n",
    "goldterms_envo_query = f\"\"\"\n",
    "SELECT\n",
    "\t*\n",
    "FROM\n",
    "\tstatements s\n",
    "WHERE\n",
    "\tpredicate in ('{\"', '\".join(gold_context_selectors)}')\"\"\""
   ],
   "outputs": [],
   "execution_count": 20
  },
  {
   "cell_type": "code",
   "id": "afd52cf83301de09",
   "metadata": {
    "ExecuteTime": {
     "end_time": "2024-12-12T18:35:10.390584Z",
     "start_time": "2024-12-12T18:35:10.387566Z"
    }
   },
   "source": [
    "ncbi_biosamples_per_annotation_query = f\"\"\"\n",
    "SELECT content, COUNT(1) AS count \n",
    "FROM attributes \n",
    "WHERE harmonized_name = '{ncbi_context_selector}' AND package_content like '%{ncbi_package_selector}'\n",
    "GROUP BY content\n",
    "ORDER BY COUNT(1) DESC\n",
    "\"\"\""
   ],
   "outputs": [],
   "execution_count": 21
  },
  {
   "metadata": {
    "ExecuteTime": {
     "end_time": "2024-12-12T18:35:10.495989Z",
     "start_time": "2024-12-12T18:35:10.492834Z"
    }
   },
   "cell_type": "code",
   "source": [
    "ncbi_bioprojects_per_annotation_query = f\"\"\"\n",
    "SELECT\n",
    "\ta.content,\n",
    "\tcount(DISTINCT l.content) AS count\n",
    "FROM\n",
    "\tmain.ATTRIBUTES a\n",
    "JOIN main.links l \n",
    "\tON\n",
    "\ta.id = l.id\n",
    "WHERE\n",
    "\tl.target = 'bioproject'\n",
    "\tAND harmonized_name = 'env_local_scale'\n",
    "\tAND package_content like '%{ncbi_package_selector}'\n",
    "GROUP BY\n",
    "\ta.content\n",
    "ORDER BY\n",
    "\tcount(DISTINCT l.content) DESC ;\n",
    "\"\"\""
   ],
   "id": "d82477b892c2a7a3",
   "outputs": [],
   "execution_count": 22
  },
  {
   "metadata": {
    "ExecuteTime": {
     "end_time": "2024-12-12T18:35:10.661523Z",
     "start_time": "2024-12-12T18:35:10.658750Z"
    }
   },
   "cell_type": "code",
   "source": "ncbi_X_per_annotation_query = ncbi_bioprojects_per_annotation_query",
   "id": "f86458549b99121b",
   "outputs": [],
   "execution_count": 23
  },
  {
   "metadata": {
    "ExecuteTime": {
     "end_time": "2024-12-12T18:35:10.771804Z",
     "start_time": "2024-12-12T18:35:10.767744Z"
    }
   },
   "cell_type": "code",
   "source": [
    "# and s1.subject = s1.stanza eliminates matches on blank node annotation rows (probably wouldn't change results but adds a little overhead)\n",
    "\n",
    "extension_query = f\"\"\"\n",
    "select\n",
    "\t\ts1.subject ,\n",
    "\t\ts2.predicate,\n",
    "\t\tCOALESCE (s2.\"object\",\n",
    "\ts2.\"value\") as content\n",
    "from\n",
    "\tstatements s1\n",
    "join statements s2 on \n",
    "\ts1.subject = s2.subject\n",
    "where\n",
    "\t{gold_first_where}\n",
    "\tand s1.predicate = 'rdfs:label'\n",
    "\tand s1.subject = s1.stanza\n",
    "\tand s2.predicate in ('mixs:env_broad', 'mixs:env_local', 'mixs:env_medium', 'mixs:mixs_extension', 'rdfs:label', 'mixs:other', 'mixs:anatomical_site', 'mixs:host_taxon') ;\n",
    "\"\"\"\n"
   ],
   "id": "8cdd3e6e17a2bac3",
   "outputs": [],
   "execution_count": 24
  },
  {
   "metadata": {},
   "cell_type": "markdown",
   "source": [
    "# Locally Defined Functions\n",
    "_Currently using locally-defined cache dictionaries_"
   ],
   "id": "6c4cf0d065a7de07"
  },
  {
   "cell_type": "code",
   "id": "38412bd611726160",
   "metadata": {
    "ExecuteTime": {
     "end_time": "2024-12-12T18:35:10.939675Z",
     "start_time": "2024-12-12T18:35:10.930790Z"
    }
   },
   "source": [
    "def predict_from_normalized_env_packages(df_raw, adapter):\n",
    "    # Apply the function to the relevant columns\n",
    "\n",
    "    df = df_raw.copy()\n",
    "\n",
    "    print(df.shape)\n",
    "    for column in ['env_broad_scale_id', 'env_local_scale_id', 'env_medium_id']:\n",
    "        df[f'{column}_ancestors'] = df[column].apply(lambda x: get_hierarchy_terms(x, adapter)['ancestors'])\n",
    "        df[f'{column}_descendants'] = df[column].apply(lambda x: get_hierarchy_terms(x, adapter)['descendants'])\n",
    "\n",
    "    # Vectorize each set of terms separately\n",
    "    broad_scale_ancestors = vectorize_terms(df, 'env_broad_scale_id_ancestors')\n",
    "    broad_scale_descendants = vectorize_terms(df, 'env_broad_scale_id_descendants')\n",
    "\n",
    "    local_scale_ancestors = vectorize_terms(df, 'env_local_scale_id_ancestors')\n",
    "    local_scale_descendants = vectorize_terms(df, 'env_local_scale_id_descendants')\n",
    "\n",
    "    medium_ancestors = vectorize_terms(df, 'env_medium_id_ancestors')\n",
    "    medium_descendants = vectorize_terms(df, 'env_medium_id_descendants')\n",
    "\n",
    "    # Combine all feature matrices\n",
    "    X = hstack([\n",
    "        broad_scale_ancestors,\n",
    "        broad_scale_descendants,\n",
    "        local_scale_ancestors,\n",
    "        local_scale_descendants,\n",
    "        medium_ancestors,\n",
    "        medium_descendants\n",
    "    ])\n",
    "\n",
    "    # Filter the DataFrame to only include non-null rows for the target column\n",
    "    df_filtered = df[df['normalized_env_package'].notnull() & (df['normalized_env_package'] != \"\")]\n",
    "\n",
    "    # Extract the target variable\n",
    "    y = df_filtered['normalized_env_package']\n",
    "\n",
    "    # Ensure X corresponds to the filtered rows\n",
    "    X_filtered = X[df_filtered.index]\n",
    "\n",
    "    # Split the data into training and testing sets\n",
    "    X_train, X_test, y_train, y_test = train_test_split(X_filtered, y, test_size=0.3, random_state=42)\n",
    "\n",
    "    # Train a Random Forest Classifier\n",
    "    clf = RandomForestClassifier(n_estimators=100, random_state=42)\n",
    "    clf.fit(X_train, y_train)\n",
    "\n",
    "    # Make predictions on the test set\n",
    "    y_pred = clf.predict(X_test)\n",
    "\n",
    "    # Evaluate the model\n",
    "    print(classification_report(y_test, y_pred))\n",
    "\n",
    "    # not determining confidence for each class nor saving any diagnostics any more\n",
    "\n",
    "    return clf.predict(X)"
   ],
   "outputs": [],
   "execution_count": 25
  },
  {
   "cell_type": "code",
   "id": "4515456aaeaa7980",
   "metadata": {
    "ExecuteTime": {
     "end_time": "2024-12-12T18:35:11.132530Z",
     "start_time": "2024-12-12T18:35:11.126368Z"
    }
   },
   "source": [
    "def get_hierarchy_terms(my_curie: str, adapter) -> dict:\n",
    "    \"\"\"\n",
    "    Extract ancestor and descendant terms from the ontology for a given CURIE,\n",
    "    using caching to improve performance and filtering by 'is_a' relationships.\n",
    "\n",
    "    Args:\n",
    "        my_curie (str): CURIE identifier for the ontology term.\n",
    "        adapter: Ontology adapter.\n",
    "\n",
    "    Returns:\n",
    "        dict: Dictionary containing lists of ancestor and descendant terms.\n",
    "    \"\"\"\n",
    "    if my_curie not in ancestor_cache:\n",
    "        try:\n",
    "            ancestors = list(adapter.ancestors(my_curie, predicates=[IS_A]))\n",
    "            ancestor_cache[my_curie] = [adapter.label(ancestor) for ancestor in ancestors if ancestor]\n",
    "        except Exception as my_e:\n",
    "            print(f\"Error retrieving ancestors for {my_curie}: {my_e}\")\n",
    "            ancestor_cache[my_curie] = []\n",
    "\n",
    "    if my_curie not in descendant_cache:\n",
    "        try:\n",
    "            descendants = list(adapter.descendants(my_curie, predicates=[IS_A]))\n",
    "            descendant_cache[my_curie] = [adapter.label(descendant) for descendant in descendants if descendant]\n",
    "        except Exception as my_e:\n",
    "            print(f\"Error retrieving descendants for {my_curie}: {my_e}\")\n",
    "            descendant_cache[my_curie] = []\n",
    "\n",
    "    return {\n",
    "        'ancestors': ancestor_cache[my_curie],\n",
    "        'descendants': descendant_cache[my_curie],\n",
    "    }"
   ],
   "outputs": [],
   "execution_count": 26
  },
  {
   "metadata": {},
   "cell_type": "markdown",
   "source": "# Procedural Code Starts Here",
   "id": "1423fbbafdf5e167"
  },
  {
   "cell_type": "code",
   "id": "44fb14c1b01ac34c",
   "metadata": {
    "ExecuteTime": {
     "end_time": "2024-12-12T18:35:11.293309Z",
     "start_time": "2024-12-12T18:35:11.289420Z"
    }
   },
   "source": [
    "# Determine the filenames and target directory for the NCBI DuckDB\n",
    "ncbi_compressed_filename = urlparse(ncbi_duckdb_url).path.split('/')[-1]\n",
    "ncbi_filename = os.path.splitext(ncbi_compressed_filename)[0]\n",
    "ncbi_compressed_file_path = os.path.join(ncbi_compressed_filename)\n",
    "ncbi_uncompressed_file_path = os.path.join(ncbi_filename)\n"
   ],
   "outputs": [],
   "execution_count": 27
  },
  {
   "cell_type": "code",
   "id": "353ba83ec3059ac5",
   "metadata": {
    "ExecuteTime": {
     "end_time": "2024-12-12T18:35:11.404228Z",
     "start_time": "2024-12-12T18:35:11.397977Z"
    }
   },
   "source": [
    "if os.path.isfile(ncbi_uncompressed_file_path):\n",
    "    print(f\"{ncbi_uncompressed_file_path} is already present in the current working directory.\")\n",
    "else:\n",
    "    if os.path.isfile(ncbi_compressed_file_path):\n",
    "        print(f\"{ncbi_compressed_file_path} is already present in the current working directory.\")\n",
    "    else:\n",
    "        print(f\"{ncbi_compressed_file_path} needs to be downloaded\")\n",
    "        ncbi_response = requests.get(ncbi_duckdb_url)\n",
    "        with open(ncbi_compressed_file_path, \"wb\") as f:\n",
    "            f.write(ncbi_response.content)\n",
    "        # ~ 2 minutes @ 250 Mbps\n",
    "    \n",
    "    # Unzip the compressed file and save the extracted file in target directory\n",
    "    print(f\"{ncbi_compressed_file_path} needs to be unpacked\")\n",
    "    with gzip.open(ncbi_compressed_file_path, \"rb\") as f_in:\n",
    "        with open(ncbi_uncompressed_file_path, \"wb\") as f_out:\n",
    "            shutil.copyfileobj(f_in, f_out)\n",
    "\n",
    "    # ~ 2 minutes"
   ],
   "outputs": [
    {
     "name": "stdout",
     "output_type": "stream",
     "text": [
      "ncbi_biosamples.duckdb is already present in the current working directory.\n"
     ]
    }
   ],
   "execution_count": 28
  },
  {
   "cell_type": "code",
   "id": "63f815cbfb9b7a6b",
   "metadata": {
    "ExecuteTime": {
     "end_time": "2024-12-12T18:35:11.632180Z",
     "start_time": "2024-12-12T18:35:11.589447Z"
    }
   },
   "source": [
    "ncbi_conn = duckdb.connect(database=ncbi_uncompressed_file_path, read_only=True)"
   ],
   "outputs": [],
   "execution_count": 29
  },
  {
   "cell_type": "code",
   "id": "198256f26bc060e3",
   "metadata": {
    "ExecuteTime": {
     "end_time": "2024-12-12T18:35:11.760864Z",
     "start_time": "2024-12-12T18:35:11.717123Z"
    }
   },
   "source": [
    "envo_adapter = get_adapter(envo_adapter_string)"
   ],
   "outputs": [],
   "execution_count": 30
  },
  {
   "metadata": {},
   "cell_type": "markdown",
   "source": "**Preliminary replacement for `get_hierarchy_terms` and ancestor/descendant lookup in main row construction loop**",
   "id": "d1a0d6395ec6510b"
  },
  {
   "metadata": {
    "ExecuteTime": {
     "end_time": "2024-12-12T18:35:12.928685Z",
     "start_time": "2024-12-12T18:35:11.909461Z"
    }
   },
   "cell_type": "code",
   "source": [
    "reflexivity = False\n",
    "\n",
    "# File paths\n",
    "label_cache_file = \"envo_label_cache.json\"\n",
    "ancestors_file = \"envo_ancestors.json\"\n",
    "descendants_file = \"envo_descendants.json\"\n",
    "\n",
    "# Initialize caches\n",
    "envo_label_cache = {}\n",
    "envo_ancs_cache = {}\n",
    "envo_descs_cache = {}\n",
    "\n",
    "envo_entities_generator = envo_adapter.entities()\n",
    "envo_entities = list(envo_entities_generator)\n",
    "envo_entities.sort()\n",
    "\n",
    "# Function to generate and save the label cache\n",
    "def generate_label_cache():\n",
    "    print(\"Generating label cache...\")\n",
    "\n",
    "    label_cache = {}\n",
    "    for ee in envo_entities:\n",
    "        label_cache[ee] = envo_adapter.label(ee)\n",
    "    return label_cache\n",
    "\n",
    "# Check for label cache\n",
    "if os.path.exists(label_cache_file):\n",
    "    print(f\"Loading label cache from {label_cache_file}...\")\n",
    "    with open(label_cache_file, \"r\") as f:\n",
    "        envo_label_cache = json.load(f)\n",
    "else:\n",
    "    envo_label_cache = generate_label_cache()\n",
    "    with open(label_cache_file, \"w\") as f:\n",
    "        json.dump(envo_label_cache, f)\n",
    "    print(f\"Label cache saved to {label_cache_file}.\")\n",
    "\n",
    "# Check for ancestor cache\n",
    "if os.path.exists(ancestors_file):\n",
    "    print(f\"Loading ancestors from {ancestors_file}...\")\n",
    "    with open(ancestors_file, \"r\") as f:\n",
    "        envo_ancs_cache = json.load(f)\n",
    "else:\n",
    "    print(\"Ancestors file not found. Generating ancestor cache...\")\n",
    "\n",
    "    for ee in envo_entities:\n",
    "        ancs_gen = envo_adapter.ancestors(ee, reflexive=reflexivity)\n",
    "        envo_ancs_cache[ee] = [{a: envo_label_cache.get(a, None)} for a in ancs_gen]\n",
    "\n",
    "    with open(ancestors_file, \"w\") as f:\n",
    "        json.dump(envo_ancs_cache, f)\n",
    "    print(f\"Ancestors saved to {ancestors_file}.\")\n",
    "\n",
    "# Check for descendant cache\n",
    "if os.path.exists(descendants_file):\n",
    "    print(f\"Loading descendants from {descendants_file}...\")\n",
    "    with open(descendants_file, \"r\") as f:\n",
    "        envo_descs_cache = json.load(f)\n",
    "else:\n",
    "    # 5 minutes\n",
    "    print(\"Descendants file not found. Generating descendant cache...\")\n",
    "\n",
    "    for ee in envo_entities:\n",
    "        descs_gen = envo_adapter.descendants(ee, reflexive=reflexivity)\n",
    "        envo_descs_cache[ee] = [{d: envo_label_cache.get(d, None)} for d in descs_gen]\n",
    "\n",
    "    with open(descendants_file, \"w\") as f:\n",
    "        json.dump(envo_descs_cache, f)\n",
    "    print(f\"Descendants saved to {descendants_file}.\")\n"
   ],
   "id": "aa18493ce145fdf5",
   "outputs": [
    {
     "name": "stdout",
     "output_type": "stream",
     "text": [
      "Loading label cache from envo_label_cache.json...\n",
      "Loading ancestors from envo_ancestors.json...\n",
      "Loading descendants from envo_descendants.json...\n"
     ]
    }
   ],
   "execution_count": 31
  },
  {
   "metadata": {},
   "cell_type": "markdown",
   "source": "# Anchor aka bootstrapping classes",
   "id": "491e3ded2d1fba45"
  },
  {
   "cell_type": "code",
   "id": "e863dc687ce4be5c",
   "metadata": {
    "ExecuteTime": {
     "end_time": "2024-12-12T18:35:13.357240Z",
     "start_time": "2024-12-12T18:35:12.930919Z"
    }
   },
   "source": "anchor_descendants = get_curie_descendants_label_dict(semantic_anchor, [IS_A], envo_adapter)",
   "outputs": [],
   "execution_count": 32
  },
  {
   "cell_type": "code",
   "id": "394abb56c4987eee",
   "metadata": {
    "ExecuteTime": {
     "end_time": "2024-12-12T18:35:13.362926Z",
     "start_time": "2024-12-12T18:35:13.359182Z"
    }
   },
   "source": [
    "anchor_descendants_lod = curie_descendants_label_dict_to_lod(anchor_descendants)"
   ],
   "outputs": [],
   "execution_count": 33
  },
  {
   "cell_type": "code",
   "id": "eea1a3f8395da0d7",
   "metadata": {
    "ExecuteTime": {
     "end_time": "2024-12-12T18:35:13.369358Z",
     "start_time": "2024-12-12T18:35:13.365763Z"
    }
   },
   "source": [
    "anchor_descendants_frame = curie_descendants_label_lod_to_df(anchor_descendants_lod)"
   ],
   "outputs": [],
   "execution_count": 34
  },
  {
   "cell_type": "code",
   "id": "f85faf81e0a55a42",
   "metadata": {
    "ExecuteTime": {
     "end_time": "2024-12-12T18:35:13.387377Z",
     "start_time": "2024-12-12T18:35:13.371745Z"
    }
   },
   "source": [
    "anchor_descendants_frame"
   ],
   "outputs": [
    {
     "data": {
      "text/plain": [
       "                curie                       label\n",
       "0     FOODON:00001838   fermented cereal beverage\n",
       "1       ENVO:02000111                  copper ore\n",
       "2       ENVO:01000480                       glass\n",
       "3     FOODON:03400865              soup (eurofir)\n",
       "4     FOODON:00001279     cake icing food product\n",
       "...               ...                         ...\n",
       "1095    ENVO:01001117              poultry manure\n",
       "1096    ENVO:00002117  creosote contaminated soil\n",
       "1097    ENVO:01001121                plant matter\n",
       "1098    ENVO:03605000          periphytic biofilm\n",
       "1099    ENVO:00001998                        soil\n",
       "\n",
       "[1100 rows x 2 columns]"
      ],
      "text/html": [
       "<div>\n",
       "<style scoped>\n",
       "    .dataframe tbody tr th:only-of-type {\n",
       "        vertical-align: middle;\n",
       "    }\n",
       "\n",
       "    .dataframe tbody tr th {\n",
       "        vertical-align: top;\n",
       "    }\n",
       "\n",
       "    .dataframe thead th {\n",
       "        text-align: right;\n",
       "    }\n",
       "</style>\n",
       "<table border=\"1\" class=\"dataframe\">\n",
       "  <thead>\n",
       "    <tr style=\"text-align: right;\">\n",
       "      <th></th>\n",
       "      <th>curie</th>\n",
       "      <th>label</th>\n",
       "    </tr>\n",
       "  </thead>\n",
       "  <tbody>\n",
       "    <tr>\n",
       "      <th>0</th>\n",
       "      <td>FOODON:00001838</td>\n",
       "      <td>fermented cereal beverage</td>\n",
       "    </tr>\n",
       "    <tr>\n",
       "      <th>1</th>\n",
       "      <td>ENVO:02000111</td>\n",
       "      <td>copper ore</td>\n",
       "    </tr>\n",
       "    <tr>\n",
       "      <th>2</th>\n",
       "      <td>ENVO:01000480</td>\n",
       "      <td>glass</td>\n",
       "    </tr>\n",
       "    <tr>\n",
       "      <th>3</th>\n",
       "      <td>FOODON:03400865</td>\n",
       "      <td>soup (eurofir)</td>\n",
       "    </tr>\n",
       "    <tr>\n",
       "      <th>4</th>\n",
       "      <td>FOODON:00001279</td>\n",
       "      <td>cake icing food product</td>\n",
       "    </tr>\n",
       "    <tr>\n",
       "      <th>...</th>\n",
       "      <td>...</td>\n",
       "      <td>...</td>\n",
       "    </tr>\n",
       "    <tr>\n",
       "      <th>1095</th>\n",
       "      <td>ENVO:01001117</td>\n",
       "      <td>poultry manure</td>\n",
       "    </tr>\n",
       "    <tr>\n",
       "      <th>1096</th>\n",
       "      <td>ENVO:00002117</td>\n",
       "      <td>creosote contaminated soil</td>\n",
       "    </tr>\n",
       "    <tr>\n",
       "      <th>1097</th>\n",
       "      <td>ENVO:01001121</td>\n",
       "      <td>plant matter</td>\n",
       "    </tr>\n",
       "    <tr>\n",
       "      <th>1098</th>\n",
       "      <td>ENVO:03605000</td>\n",
       "      <td>periphytic biofilm</td>\n",
       "    </tr>\n",
       "    <tr>\n",
       "      <th>1099</th>\n",
       "      <td>ENVO:00001998</td>\n",
       "      <td>soil</td>\n",
       "    </tr>\n",
       "  </tbody>\n",
       "</table>\n",
       "<p>1100 rows × 2 columns</p>\n",
       "</div>"
      ]
     },
     "execution_count": 35,
     "metadata": {},
     "output_type": "execute_result"
    }
   ],
   "execution_count": 35
  },
  {
   "cell_type": "markdown",
   "id": "857f1f1efd4635b9",
   "metadata": {},
   "source": "# Classes from the reference enumeration"
  },
  {
   "cell_type": "code",
   "id": "1432828ce7983148",
   "metadata": {
    "ExecuteTime": {
     "end_time": "2024-12-12T18:35:16.645948Z",
     "start_time": "2024-12-12T18:35:13.388674Z"
    }
   },
   "source": [
    "sv = get_schemaview_from_source(previous_submission_schema_url)"
   ],
   "outputs": [],
   "execution_count": 36
  },
  {
   "cell_type": "code",
   "id": "5841e0d6bc3d3c40",
   "metadata": {
    "ExecuteTime": {
     "end_time": "2024-12-12T18:35:16.652291Z",
     "start_time": "2024-12-12T18:35:16.647785Z"
    }
   },
   "source": [
    "# todo break out slow steps into its own cell\n",
    "\n",
    "try:\n",
    "    CONTEXT_ENUM_def = sv.get_enum(CONTEXT_ENUM)\n",
    "    context_pvs_keys = list(CONTEXT_ENUM_def.permissible_values.keys())\n",
    "except AttributeError as e:\n",
    "    # Handle the AttributeError\n",
    "    print(f\"An AttributeError occurred: {e}\")\n",
    "    context_pvs_keys =[]\n",
    "    "
   ],
   "outputs": [
    {
     "name": "stdout",
     "output_type": "stream",
     "text": [
      "An AttributeError occurred: 'NoneType' object has no attribute 'permissible_values'\n"
     ]
    }
   ],
   "execution_count": 37
  },
  {
   "metadata": {
    "ExecuteTime": {
     "end_time": "2024-12-12T18:35:16.675226Z",
     "start_time": "2024-12-12T18:35:16.653932Z"
    }
   },
   "cell_type": "code",
   "source": "print(context_pvs_keys)",
   "id": "e47067e5b704ee70",
   "outputs": [
    {
     "name": "stdout",
     "output_type": "stream",
     "text": [
      "[]\n"
     ]
    }
   ],
   "execution_count": 38
  },
  {
   "cell_type": "code",
   "id": "79282f64358e1608",
   "metadata": {
    "ExecuteTime": {
     "end_time": "2024-12-12T18:35:16.681117Z",
     "start_time": "2024-12-12T18:35:16.677257Z"
    }
   },
   "source": [
    "initially_parsed_context_pvs = parse_hierarchically_underscored_strings(context_pvs_keys)"
   ],
   "outputs": [],
   "execution_count": 39
  },
  {
   "cell_type": "code",
   "id": "5a9492fa605534f2",
   "metadata": {
    "ExecuteTime": {
     "end_time": "2024-12-12T18:35:16.689101Z",
     "start_time": "2024-12-12T18:35:16.686269Z"
    }
   },
   "source": [
    "deduped_context_pvs = dedupe_underscoreless_pvs(initially_parsed_context_pvs)"
   ],
   "outputs": [],
   "execution_count": 40
  },
  {
   "cell_type": "code",
   "id": "214c2e6c9a7089a8",
   "metadata": {
    "ExecuteTime": {
     "end_time": "2024-12-12T18:35:16.704342Z",
     "start_time": "2024-12-12T18:35:16.690458Z"
    }
   },
   "source": [
    "pv_validation_results = validate_curie_label_list_dict(deduped_context_pvs, envo_adapter, print_flag=True)"
   ],
   "outputs": [],
   "execution_count": 41
  },
  {
   "cell_type": "code",
   "id": "e84872aa4f8a9313",
   "metadata": {
    "ExecuteTime": {
     "end_time": "2024-12-12T18:35:16.727748Z",
     "start_time": "2024-12-12T18:35:16.706060Z"
    }
   },
   "source": [
    "pv_validation_results"
   ],
   "outputs": [
    {
     "data": {
      "text/plain": [
       "{'problems': [], 'valids': []}"
      ]
     },
     "execution_count": 42,
     "metadata": {},
     "output_type": "execute_result"
    }
   ],
   "execution_count": 42
  },
  {
   "cell_type": "markdown",
   "id": "363063c37a433d70",
   "metadata": {},
   "source": "# Get the CURIEs used in NMDC Biosample annotations"
  },
  {
   "cell_type": "code",
   "id": "656e23e9eab154b0",
   "metadata": {
    "ExecuteTime": {
     "end_time": "2024-12-12T18:35:16.907340Z",
     "start_time": "2024-12-12T18:35:16.730114Z"
    }
   },
   "source": [
    "if os.path.isfile(all_nmdc_biosamples_file):\n",
    "    print(f\"{all_nmdc_biosamples_file} is present in the current working directory and will be read into all_nmdc_biosamples.\")\n",
    "    # with open(all_nmdc_biosamples_file, 'r') as file:\n",
    "    #     all_nmdc_biosamples = yaml.full_load(file)\n",
    "    # read as json\n",
    "    with open(all_nmdc_biosamples_file, 'r') as f:\n",
    "        all_nmdc_biosamples = json.load(f)\n",
    "\n",
    "else:\n",
    "    print(f\"All NMDC Biosamples need to be fetched and saved to {all_nmdc_biosamples_file}\")\n",
    "    all_nmdc_biosamples = get_docs_from_nmdc_collection(NMDC_RUNTIME_BASE_URL,\n",
    "                                               BIOSAMPLE_SET_COLLECTION)\n",
    "    # with open(all_nmdc_biosamples_file, 'w') as file:\n",
    "    #     documents = yaml.dump(all_nmdc_biosamples, file)\n",
    "    # save as json\n",
    "    with open(all_nmdc_biosamples_file, 'w') as f:\n",
    "        json.dump(all_nmdc_biosamples, f)\n",
    "\n",
    "# this saves network traffic. could use JSON for faster performance. \n",
    "# 1 minute for network fetch and JSON write?!\n",
    "# 1 minute for yaml read\n",
    "# instantaneous for JSON read?"
   ],
   "outputs": [
    {
     "name": "stdout",
     "output_type": "stream",
     "text": [
      "all_nmdc_biosamples.json is present in the current working directory and will be read into all_nmdc_biosamples.\n"
     ]
    }
   ],
   "execution_count": 43
  },
  {
   "metadata": {},
   "cell_type": "markdown",
   "source": "## Prediction of env_package annotations ",
   "id": "1566ce7dbafcfc71"
  },
  {
   "metadata": {
    "ExecuteTime": {
     "end_time": "2024-12-12T18:35:16.941605Z",
     "start_time": "2024-12-12T18:35:16.909Z"
    }
   },
   "cell_type": "code",
   "source": [
    "# Specify the output file name\n",
    "env_packages_file = \"nmdc_biosample_asserted_normalized_and_inferred_env_package.tsv\"\n",
    "\n",
    "if os.path.exists(env_packages_file):\n",
    "    # Load the DataFrame from the file if it exists\n",
    "    print(f\"Loading {env_packages_file} into nmdc_biosample_contexts_frame...\")\n",
    "    nmdc_biosample_contexts_frame = pd.read_csv(env_packages_file, sep='\\t')\n",
    "else:\n",
    "    # File doesn't exist; generate the DataFrame\n",
    "    print(f\"{env_packages_file} not found. Predicting from asserted records and {env_package_override_file}...\")\n",
    "\n",
    "    # Load environment package overrides\n",
    "    env_pacakge_overrides = tsv_to_dict_of_dicts(env_package_override_file, 'id')\n",
    "\n",
    "    # Extract biosample contexts\n",
    "    biosample_contexts_lod = biosamples_lod_context_extractor(\n",
    "        all_nmdc_biosamples, envo_adapter,\n",
    "        my_env_pacakge_overrides=env_pacakge_overrides\n",
    "    )\n",
    "\n",
    "    # Create the DataFrame\n",
    "    nmdc_biosample_contexts_frame = pd.DataFrame(biosample_contexts_lod)\n",
    "\n",
    "    # Print value counts for the 'normalized_env_package' column\n",
    "    print(\"\\n\")\n",
    "    print(\"Value counts for normalized_env_package column:\")\n",
    "    print(nmdc_biosample_contexts_frame['normalized_env_package'].value_counts(dropna=False))\n",
    "    print(\"\\n\")\n",
    "\n",
    "    # Generate package predictions\n",
    "    package_predictions = predict_from_normalized_env_packages(nmdc_biosample_contexts_frame, envo_adapter)\n",
    "\n",
    "    # Add predictions to the DataFrame\n",
    "    nmdc_biosample_contexts_frame['predicted_env_package'] = package_predictions\n",
    "\n",
    "    # Save the DataFrame to the file\n",
    "    nmdc_biosample_contexts_frame.to_csv(env_packages_file, sep='\\t', index=False)\n",
    "    print(f\"env_package predictions saved to {env_packages_file}\")\n",
    "\n"
   ],
   "id": "32cee69d6184218f",
   "outputs": [
    {
     "name": "stdout",
     "output_type": "stream",
     "text": [
      "Loading nmdc_biosample_asserted_normalized_and_inferred_env_package.tsv into nmdc_biosample_contexts_frame...\n"
     ]
    }
   ],
   "execution_count": 44
  },
  {
   "metadata": {},
   "cell_type": "markdown",
   "source": [
    "## env-package prediction complete\n",
    "\n",
    "To-do: save this and don't recreate it if it's available\n",
    "\n",
    "Then get it reviewed by other NMDC stakeholders and inject it into MongoDB if approved"
   ],
   "id": "a86897dcc7d47c55"
  },
  {
   "metadata": {},
   "cell_type": "markdown",
   "source": "## Destructively filter `nmdc_biosample_contexts_frame` by `env_package` ",
   "id": "a3f22287b11f918f"
  },
  {
   "cell_type": "code",
   "id": "d5c6aa902c7187e0",
   "metadata": {
    "ExecuteTime": {
     "end_time": "2024-12-12T18:35:16.947789Z",
     "start_time": "2024-12-12T18:35:16.943126Z"
    }
   },
   "source": [
    "nmdc_biosample_contexts_frame.shape"
   ],
   "outputs": [
    {
     "data": {
      "text/plain": [
       "(8362, 15)"
      ]
     },
     "execution_count": 45,
     "metadata": {},
     "output_type": "execute_result"
    }
   ],
   "execution_count": 45
  },
  {
   "cell_type": "code",
   "id": "2b241bcacf4bb100",
   "metadata": {
    "ExecuteTime": {
     "end_time": "2024-12-12T18:35:16.955201Z",
     "start_time": "2024-12-12T18:35:16.949249Z"
    }
   },
   "source": [
    "nmdc_biosample_contexts_frame = nmdc_biosample_contexts_frame[\n",
    "    nmdc_biosample_contexts_frame['predicted_env_package'] == nmdc_package_selector]"
   ],
   "outputs": [],
   "execution_count": 46
  },
  {
   "cell_type": "code",
   "id": "9045896aa4ea468f",
   "metadata": {
    "ExecuteTime": {
     "end_time": "2024-12-12T18:35:16.961370Z",
     "start_time": "2024-12-12T18:35:16.956716Z"
    }
   },
   "source": [
    "nmdc_biosample_contexts_frame.shape"
   ],
   "outputs": [
    {
     "data": {
      "text/plain": [
       "(1742, 15)"
      ]
     },
     "execution_count": 47,
     "metadata": {},
     "output_type": "execute_result"
    }
   ],
   "execution_count": 47
  },
  {
   "cell_type": "markdown",
   "id": "aee7b4eea48a8691",
   "metadata": {},
   "source": "# Long process of predicting OBO foundry CURIes from NCBI Biosamples"
  },
  {
   "metadata": {},
   "cell_type": "markdown",
   "source": [
    "## Start by getting unique annotations? Pre-counted by Biosamples\n",
    "\n",
    "Current task is to provide counts by \"study\" aka Bioproject in addition to Biosample counts or instead of Biosamples counts if necessary"
   ],
   "id": "fc58f6a0b79cbfa1"
  },
  {
   "cell_type": "code",
   "id": "3be362b73dbda47a",
   "metadata": {
    "ExecuteTime": {
     "end_time": "2024-12-12T18:35:19.409351Z",
     "start_time": "2024-12-12T18:35:16.963259Z"
    }
   },
   "source": "ncbi_frame = ncbi_conn.execute(ncbi_X_per_annotation_query).fetchdf()\n",
   "outputs": [
    {
     "data": {
      "text/plain": [
       "FloatProgress(value=0.0, layout=Layout(width='auto'), style=ProgressStyle(bar_color='black'))"
      ],
      "application/vnd.jupyter.widget-view+json": {
       "version_major": 2,
       "version_minor": 0,
       "model_id": "d98319f528144db6925620ae99403d2b"
      }
     },
     "metadata": {},
     "output_type": "display_data"
    }
   ],
   "execution_count": 48
  },
  {
   "cell_type": "code",
   "id": "306ee79ce77f745e",
   "metadata": {
    "ExecuteTime": {
     "end_time": "2024-12-12T18:35:19.417762Z",
     "start_time": "2024-12-12T18:35:19.412894Z"
    }
   },
   "source": [
    "ncbi_frame.insert(0, 'serial_number', range(1, len(ncbi_frame) + 1))"
   ],
   "outputs": [],
   "execution_count": 49
  },
  {
   "cell_type": "code",
   "id": "6f06a6237f0ecdb",
   "metadata": {
    "ExecuteTime": {
     "end_time": "2024-12-12T18:35:19.422809Z",
     "start_time": "2024-12-12T18:35:19.419302Z"
    }
   },
   "source": [
    "# includes values with counts of one... useful for discovering drag-down submissions?"
   ],
   "outputs": [],
   "execution_count": 50
  },
  {
   "metadata": {},
   "cell_type": "markdown",
   "source": [
    "## MIxS and NCBI guidelines imply environmental context slots are multivalued\n",
    "and that the pipe `|` should be used as a delimiter\n",
    "\n",
    "there's an envo_count value below that indicates how ofter other delimiters might be used"
   ],
   "id": "1b851c8ef274382c"
  },
  {
   "cell_type": "code",
   "id": "f07e55ebd0f4c451",
   "metadata": {
    "ExecuteTime": {
     "end_time": "2024-12-12T18:35:19.434520Z",
     "start_time": "2024-12-12T18:35:19.424358Z"
    }
   },
   "source": [
    "ncbi_frame['content_list'] = ncbi_frame['content'].str.split('|')"
   ],
   "outputs": [],
   "execution_count": 51
  },
  {
   "metadata": {
    "ExecuteTime": {
     "end_time": "2024-12-12T18:35:19.443990Z",
     "start_time": "2024-12-12T18:35:19.436498Z"
    }
   },
   "cell_type": "code",
   "source": [
    "# todo is there any reason to not do this ?\n",
    "ncbi_frame = ncbi_frame[ncbi_frame['content'].notna() & (ncbi_frame['content'] != '')]"
   ],
   "id": "2e96404aa5dd0f7b",
   "outputs": [],
   "execution_count": 52
  },
  {
   "cell_type": "code",
   "id": "f8c2e13cee8818cb",
   "metadata": {
    "ExecuteTime": {
     "end_time": "2024-12-12T18:35:19.453962Z",
     "start_time": "2024-12-12T18:35:19.446449Z"
    }
   },
   "source": [
    "ncbi_frame['content_count'] = ncbi_frame['content_list'].apply(len)"
   ],
   "outputs": [],
   "execution_count": 53
  },
  {
   "cell_type": "code",
   "id": "edeaac7b5ce53cd5",
   "metadata": {
    "ExecuteTime": {
     "end_time": "2024-12-12T18:35:19.462665Z",
     "start_time": "2024-12-12T18:35:19.455487Z"
    }
   },
   "source": [
    "ncbi_frame.shape"
   ],
   "outputs": [
    {
     "data": {
      "text/plain": [
       "(9007, 5)"
      ]
     },
     "execution_count": 54,
     "metadata": {},
     "output_type": "execute_result"
    }
   ],
   "execution_count": 54
  },
  {
   "cell_type": "code",
   "id": "18860251fea32ee5",
   "metadata": {
    "ExecuteTime": {
     "end_time": "2024-12-12T18:35:19.472957Z",
     "start_time": "2024-12-12T18:35:19.464981Z"
    }
   },
   "source": [
    "ncbi_frame = ncbi_frame.explode('content_list').reset_index(drop=True)"
   ],
   "outputs": [],
   "execution_count": 55
  },
  {
   "cell_type": "code",
   "id": "bc8b89960c12f6e6",
   "metadata": {
    "ExecuteTime": {
     "end_time": "2024-12-12T18:35:19.479306Z",
     "start_time": "2024-12-12T18:35:19.474640Z"
    }
   },
   "source": [
    "ncbi_frame.shape"
   ],
   "outputs": [
    {
     "data": {
      "text/plain": [
       "(9692, 5)"
      ]
     },
     "execution_count": 56,
     "metadata": {},
     "output_type": "execute_result"
    }
   ],
   "execution_count": 56
  },
  {
   "metadata": {},
   "cell_type": "markdown",
   "source": [
    "## splitting adds ~ 5% more rows\n",
    "which might be important since were currently using a longest annotation strategy here"
   ],
   "id": "f02aaf625f4158d3"
  },
  {
   "cell_type": "code",
   "id": "85a0a4ccd63b7952",
   "metadata": {
    "ExecuteTime": {
     "end_time": "2024-12-12T18:35:19.484698Z",
     "start_time": "2024-12-12T18:35:19.481604Z"
    }
   },
   "source": [
    "# how many content_list strings contain envo multiple times now?"
   ],
   "outputs": [],
   "execution_count": 57
  },
  {
   "cell_type": "code",
   "id": "4dee374026c8272a",
   "metadata": {
    "ExecuteTime": {
     "end_time": "2024-12-12T18:35:19.509114Z",
     "start_time": "2024-12-12T18:35:19.494544Z"
    }
   },
   "source": [
    "ncbi_frame['envo_count'] = ncbi_frame['content_list'].str.lower().str.count(\"envo\")"
   ],
   "outputs": [],
   "execution_count": 58
  },
  {
   "cell_type": "code",
   "id": "417319d62ef07d0b",
   "metadata": {
    "ExecuteTime": {
     "end_time": "2024-12-12T18:35:19.518504Z",
     "start_time": "2024-12-12T18:35:19.511032Z"
    }
   },
   "source": [
    "ncbi_frame['envo_count'].value_counts()"
   ],
   "outputs": [
    {
     "data": {
      "text/plain": [
       "envo_count\n",
       "0    7171\n",
       "1    2511\n",
       "2       8\n",
       "3       2\n",
       "Name: count, dtype: int64"
      ]
     },
     "execution_count": 59,
     "metadata": {},
     "output_type": "execute_result"
    }
   ],
   "execution_count": 59
  },
  {
   "metadata": {},
   "cell_type": "markdown",
   "source": [
    "## If my math is correct, about 0.1% of the annotations still contain multiple CURIes \n",
    "after splitting on pipes\n",
    "\n",
    "There will also be annotations with multiple label-like strings that weren't split because they were not delimited on pipes\n",
    "That might be a source of lost information since we are using a longest-match annotator here\n",
    "I.e. there could be annotations with multiple hits worth keeping"
   ],
   "id": "21fb4262b735aedc"
  },
  {
   "metadata": {},
   "cell_type": "markdown",
   "source": [
    "## Parsing out CURIEs\n",
    "\n",
    "this has a few limitations. The function only tries pre-specified prefixes (['ENVO'] by default) and only considers colons and underscores valid delimiters."
   ],
   "id": "119dbec6ecf9c65c"
  },
  {
   "cell_type": "code",
   "id": "7b256380eceaceaa",
   "metadata": {
    "ExecuteTime": {
     "end_time": "2024-12-12T18:35:20.873415Z",
     "start_time": "2024-12-12T18:35:19.520547Z"
    }
   },
   "source": [
    "ncbi_frame[['extracted_label', 'extracted_curie']] = ncbi_frame['content_list'].apply(parse_curie_label)"
   ],
   "outputs": [],
   "execution_count": 60
  },
  {
   "cell_type": "code",
   "id": "761e39ab29aef0a7",
   "metadata": {
    "ExecuteTime": {
     "end_time": "2024-12-12T18:35:20.884438Z",
     "start_time": "2024-12-12T18:35:20.876091Z"
    }
   },
   "source": [
    "parse_failures = ncbi_frame[\n",
    "    (ncbi_frame['envo_count'] > 0) & (ncbi_frame['extracted_curie'].isna() | (ncbi_frame['extracted_curie'] == ''))]\n"
   ],
   "outputs": [],
   "execution_count": 61
  },
  {
   "metadata": {},
   "cell_type": "markdown",
   "source": [
    "## In what kinds of cases could no CURIe be parsed\n",
    "despite the presence of \"ENVO\" in the content string?"
   ],
   "id": "e618518e6e85b5aa"
  },
  {
   "cell_type": "code",
   "id": "a9316f11da9ee0c8",
   "metadata": {
    "ExecuteTime": {
     "end_time": "2024-12-12T18:35:20.905402Z",
     "start_time": "2024-12-12T18:35:20.888777Z"
    }
   },
   "source": [
    "parse_failures"
   ],
   "outputs": [
    {
     "data": {
      "text/plain": [
       "      serial_number                                            content  count  \\\n",
       "970             949                    marine photic zoneENVO:00000209      2   \n",
       "1904           1810                                    ENVO:bioreactor      1   \n",
       "2422           2281  coastal sea waterENVO:00002150 | marine water ...      1   \n",
       "2423           2281  coastal sea waterENVO:00002150 | marine water ...      1   \n",
       "2424           2281  coastal sea waterENVO:00002150 | marine water ...      1   \n",
       "3232           3029           well [ENVO00000026]|depth [PATO:0001595]      1   \n",
       "3250           3045                            ENVO:aerobic bioreactor      1   \n",
       "3401           3186                                         ENVO:water      1   \n",
       "3996           3729                               ENVO00012408 Aquifer      1   \n",
       "4306           4010                             ENVO: alkaline habitat      1   \n",
       "4621           4309                    Coatsal sea water[ENVO00002150]      1   \n",
       "4735           4411                     ENVO: water-associated habitat      1   \n",
       "5364           5000  coastal sea waterENVO:00002150 | marine water ...      1   \n",
       "5365           5000  coastal sea waterENVO:00002150 | marine water ...      1   \n",
       "5366           5000  coastal sea waterENVO:00002150 | marine water ...      1   \n",
       "6574           6113  coastal water body [ENVO_02000049]|intertidal ...      1   \n",
       "7189           6687           Marine hydrothermal vent ENVO [01000122]      1   \n",
       "8083           7527  coastal sea waterENVO:00002150 | marine water ...      1   \n",
       "8084           7527  coastal sea waterENVO:00002150 | marine water ...      1   \n",
       "8085           7527  coastal sea waterENVO:00002150 | marine water ...      1   \n",
       "8454           7863                           ENVO:Textile waste water      1   \n",
       "8640           8040  lake [ENVO:00000020]|sediment [sedimentENVO:00...      1   \n",
       "9173           8534  coastal sea waterENVO:00002150 | marine water ...      1   \n",
       "9174           8534  coastal sea waterENVO:00002150 | marine water ...      1   \n",
       "9175           8534  coastal sea waterENVO:00002150 | marine water ...      1   \n",
       "\n",
       "                                  content_list  content_count  envo_count  \\\n",
       "970            marine photic zoneENVO:00000209              1           1   \n",
       "1904                           ENVO:bioreactor              1           1   \n",
       "2422           coastal sea waterENVO:00002150               3           1   \n",
       "2423           marine water bodyENVO:00001999               3           1   \n",
       "2424           coastal water bodyENVO:02000051              3           1   \n",
       "3232                       well [ENVO00000026]              2           1   \n",
       "3250                   ENVO:aerobic bioreactor              1           1   \n",
       "3401                                ENVO:water              1           1   \n",
       "3996                      ENVO00012408 Aquifer              1           1   \n",
       "4306                    ENVO: alkaline habitat              1           1   \n",
       "4621           Coatsal sea water[ENVO00002150]              1           1   \n",
       "4735            ENVO: water-associated habitat              1           1   \n",
       "5364           coastal sea waterENVO:00002150               3           1   \n",
       "5365           marine water bodyENVO:00001999               3           1   \n",
       "5366           coastal water bodyENVO:02000050              3           1   \n",
       "6574         intertidal sedimentENVO_00002179]              2           1   \n",
       "7189  Marine hydrothermal vent ENVO [01000122]              1           1   \n",
       "8083           coastal sea waterENVO:00002150               3           1   \n",
       "8084           marine water bodyENVO:00001999               3           1   \n",
       "8085           coastal water bodyENVO:02000054              3           1   \n",
       "8454                  ENVO:Textile waste water              1           1   \n",
       "8640          sediment [sedimentENVO:00002007]              2           1   \n",
       "9173           coastal sea waterENVO:00002150               3           1   \n",
       "9174           marine water bodyENVO:00001999               3           1   \n",
       "9175           coastal water bodyENVO:02000049              3           1   \n",
       "\n",
       "                               extracted_label extracted_curie  \n",
       "970            marine photic zoneENVO 00000209            None  \n",
       "1904                           ENVO bioreactor            None  \n",
       "2422           coastal sea waterENVO 00002150             None  \n",
       "2423           marine water bodyENVO 00001999             None  \n",
       "2424           coastal water bodyENVO 02000051            None  \n",
       "3232                       well [ENVO00000026]            None  \n",
       "3250                   ENVO aerobic bioreactor            None  \n",
       "3401                                ENVO water            None  \n",
       "3996                      ENVO00012408 Aquifer            None  \n",
       "4306                    ENVO  alkaline habitat            None  \n",
       "4621           Coatsal sea water[ENVO00002150]            None  \n",
       "4735            ENVO  water-associated habitat            None  \n",
       "5364           coastal sea waterENVO 00002150             None  \n",
       "5365           marine water bodyENVO 00001999             None  \n",
       "5366           coastal water bodyENVO 02000050            None  \n",
       "6574         intertidal sedimentENVO_00002179]            None  \n",
       "7189  Marine hydrothermal vent ENVO [01000122]            None  \n",
       "8083           coastal sea waterENVO 00002150             None  \n",
       "8084           marine water bodyENVO 00001999             None  \n",
       "8085           coastal water bodyENVO 02000054            None  \n",
       "8454                  ENVO Textile waste water            None  \n",
       "8640          sediment [sedimentENVO 00002007]            None  \n",
       "9173           coastal sea waterENVO 00002150             None  \n",
       "9174           marine water bodyENVO 00001999             None  \n",
       "9175           coastal water bodyENVO 02000049            None  "
      ],
      "text/html": [
       "<div>\n",
       "<style scoped>\n",
       "    .dataframe tbody tr th:only-of-type {\n",
       "        vertical-align: middle;\n",
       "    }\n",
       "\n",
       "    .dataframe tbody tr th {\n",
       "        vertical-align: top;\n",
       "    }\n",
       "\n",
       "    .dataframe thead th {\n",
       "        text-align: right;\n",
       "    }\n",
       "</style>\n",
       "<table border=\"1\" class=\"dataframe\">\n",
       "  <thead>\n",
       "    <tr style=\"text-align: right;\">\n",
       "      <th></th>\n",
       "      <th>serial_number</th>\n",
       "      <th>content</th>\n",
       "      <th>count</th>\n",
       "      <th>content_list</th>\n",
       "      <th>content_count</th>\n",
       "      <th>envo_count</th>\n",
       "      <th>extracted_label</th>\n",
       "      <th>extracted_curie</th>\n",
       "    </tr>\n",
       "  </thead>\n",
       "  <tbody>\n",
       "    <tr>\n",
       "      <th>970</th>\n",
       "      <td>949</td>\n",
       "      <td>marine photic zoneENVO:00000209</td>\n",
       "      <td>2</td>\n",
       "      <td>marine photic zoneENVO:00000209</td>\n",
       "      <td>1</td>\n",
       "      <td>1</td>\n",
       "      <td>marine photic zoneENVO 00000209</td>\n",
       "      <td>None</td>\n",
       "    </tr>\n",
       "    <tr>\n",
       "      <th>1904</th>\n",
       "      <td>1810</td>\n",
       "      <td>ENVO:bioreactor</td>\n",
       "      <td>1</td>\n",
       "      <td>ENVO:bioreactor</td>\n",
       "      <td>1</td>\n",
       "      <td>1</td>\n",
       "      <td>ENVO bioreactor</td>\n",
       "      <td>None</td>\n",
       "    </tr>\n",
       "    <tr>\n",
       "      <th>2422</th>\n",
       "      <td>2281</td>\n",
       "      <td>coastal sea waterENVO:00002150 | marine water ...</td>\n",
       "      <td>1</td>\n",
       "      <td>coastal sea waterENVO:00002150</td>\n",
       "      <td>3</td>\n",
       "      <td>1</td>\n",
       "      <td>coastal sea waterENVO 00002150</td>\n",
       "      <td>None</td>\n",
       "    </tr>\n",
       "    <tr>\n",
       "      <th>2423</th>\n",
       "      <td>2281</td>\n",
       "      <td>coastal sea waterENVO:00002150 | marine water ...</td>\n",
       "      <td>1</td>\n",
       "      <td>marine water bodyENVO:00001999</td>\n",
       "      <td>3</td>\n",
       "      <td>1</td>\n",
       "      <td>marine water bodyENVO 00001999</td>\n",
       "      <td>None</td>\n",
       "    </tr>\n",
       "    <tr>\n",
       "      <th>2424</th>\n",
       "      <td>2281</td>\n",
       "      <td>coastal sea waterENVO:00002150 | marine water ...</td>\n",
       "      <td>1</td>\n",
       "      <td>coastal water bodyENVO:02000051</td>\n",
       "      <td>3</td>\n",
       "      <td>1</td>\n",
       "      <td>coastal water bodyENVO 02000051</td>\n",
       "      <td>None</td>\n",
       "    </tr>\n",
       "    <tr>\n",
       "      <th>3232</th>\n",
       "      <td>3029</td>\n",
       "      <td>well [ENVO00000026]|depth [PATO:0001595]</td>\n",
       "      <td>1</td>\n",
       "      <td>well [ENVO00000026]</td>\n",
       "      <td>2</td>\n",
       "      <td>1</td>\n",
       "      <td>well [ENVO00000026]</td>\n",
       "      <td>None</td>\n",
       "    </tr>\n",
       "    <tr>\n",
       "      <th>3250</th>\n",
       "      <td>3045</td>\n",
       "      <td>ENVO:aerobic bioreactor</td>\n",
       "      <td>1</td>\n",
       "      <td>ENVO:aerobic bioreactor</td>\n",
       "      <td>1</td>\n",
       "      <td>1</td>\n",
       "      <td>ENVO aerobic bioreactor</td>\n",
       "      <td>None</td>\n",
       "    </tr>\n",
       "    <tr>\n",
       "      <th>3401</th>\n",
       "      <td>3186</td>\n",
       "      <td>ENVO:water</td>\n",
       "      <td>1</td>\n",
       "      <td>ENVO:water</td>\n",
       "      <td>1</td>\n",
       "      <td>1</td>\n",
       "      <td>ENVO water</td>\n",
       "      <td>None</td>\n",
       "    </tr>\n",
       "    <tr>\n",
       "      <th>3996</th>\n",
       "      <td>3729</td>\n",
       "      <td>ENVO00012408 Aquifer</td>\n",
       "      <td>1</td>\n",
       "      <td>ENVO00012408 Aquifer</td>\n",
       "      <td>1</td>\n",
       "      <td>1</td>\n",
       "      <td>ENVO00012408 Aquifer</td>\n",
       "      <td>None</td>\n",
       "    </tr>\n",
       "    <tr>\n",
       "      <th>4306</th>\n",
       "      <td>4010</td>\n",
       "      <td>ENVO: alkaline habitat</td>\n",
       "      <td>1</td>\n",
       "      <td>ENVO: alkaline habitat</td>\n",
       "      <td>1</td>\n",
       "      <td>1</td>\n",
       "      <td>ENVO  alkaline habitat</td>\n",
       "      <td>None</td>\n",
       "    </tr>\n",
       "    <tr>\n",
       "      <th>4621</th>\n",
       "      <td>4309</td>\n",
       "      <td>Coatsal sea water[ENVO00002150]</td>\n",
       "      <td>1</td>\n",
       "      <td>Coatsal sea water[ENVO00002150]</td>\n",
       "      <td>1</td>\n",
       "      <td>1</td>\n",
       "      <td>Coatsal sea water[ENVO00002150]</td>\n",
       "      <td>None</td>\n",
       "    </tr>\n",
       "    <tr>\n",
       "      <th>4735</th>\n",
       "      <td>4411</td>\n",
       "      <td>ENVO: water-associated habitat</td>\n",
       "      <td>1</td>\n",
       "      <td>ENVO: water-associated habitat</td>\n",
       "      <td>1</td>\n",
       "      <td>1</td>\n",
       "      <td>ENVO  water-associated habitat</td>\n",
       "      <td>None</td>\n",
       "    </tr>\n",
       "    <tr>\n",
       "      <th>5364</th>\n",
       "      <td>5000</td>\n",
       "      <td>coastal sea waterENVO:00002150 | marine water ...</td>\n",
       "      <td>1</td>\n",
       "      <td>coastal sea waterENVO:00002150</td>\n",
       "      <td>3</td>\n",
       "      <td>1</td>\n",
       "      <td>coastal sea waterENVO 00002150</td>\n",
       "      <td>None</td>\n",
       "    </tr>\n",
       "    <tr>\n",
       "      <th>5365</th>\n",
       "      <td>5000</td>\n",
       "      <td>coastal sea waterENVO:00002150 | marine water ...</td>\n",
       "      <td>1</td>\n",
       "      <td>marine water bodyENVO:00001999</td>\n",
       "      <td>3</td>\n",
       "      <td>1</td>\n",
       "      <td>marine water bodyENVO 00001999</td>\n",
       "      <td>None</td>\n",
       "    </tr>\n",
       "    <tr>\n",
       "      <th>5366</th>\n",
       "      <td>5000</td>\n",
       "      <td>coastal sea waterENVO:00002150 | marine water ...</td>\n",
       "      <td>1</td>\n",
       "      <td>coastal water bodyENVO:02000050</td>\n",
       "      <td>3</td>\n",
       "      <td>1</td>\n",
       "      <td>coastal water bodyENVO 02000050</td>\n",
       "      <td>None</td>\n",
       "    </tr>\n",
       "    <tr>\n",
       "      <th>6574</th>\n",
       "      <td>6113</td>\n",
       "      <td>coastal water body [ENVO_02000049]|intertidal ...</td>\n",
       "      <td>1</td>\n",
       "      <td>intertidal sedimentENVO_00002179]</td>\n",
       "      <td>2</td>\n",
       "      <td>1</td>\n",
       "      <td>intertidal sedimentENVO_00002179]</td>\n",
       "      <td>None</td>\n",
       "    </tr>\n",
       "    <tr>\n",
       "      <th>7189</th>\n",
       "      <td>6687</td>\n",
       "      <td>Marine hydrothermal vent ENVO [01000122]</td>\n",
       "      <td>1</td>\n",
       "      <td>Marine hydrothermal vent ENVO [01000122]</td>\n",
       "      <td>1</td>\n",
       "      <td>1</td>\n",
       "      <td>Marine hydrothermal vent ENVO [01000122]</td>\n",
       "      <td>None</td>\n",
       "    </tr>\n",
       "    <tr>\n",
       "      <th>8083</th>\n",
       "      <td>7527</td>\n",
       "      <td>coastal sea waterENVO:00002150 | marine water ...</td>\n",
       "      <td>1</td>\n",
       "      <td>coastal sea waterENVO:00002150</td>\n",
       "      <td>3</td>\n",
       "      <td>1</td>\n",
       "      <td>coastal sea waterENVO 00002150</td>\n",
       "      <td>None</td>\n",
       "    </tr>\n",
       "    <tr>\n",
       "      <th>8084</th>\n",
       "      <td>7527</td>\n",
       "      <td>coastal sea waterENVO:00002150 | marine water ...</td>\n",
       "      <td>1</td>\n",
       "      <td>marine water bodyENVO:00001999</td>\n",
       "      <td>3</td>\n",
       "      <td>1</td>\n",
       "      <td>marine water bodyENVO 00001999</td>\n",
       "      <td>None</td>\n",
       "    </tr>\n",
       "    <tr>\n",
       "      <th>8085</th>\n",
       "      <td>7527</td>\n",
       "      <td>coastal sea waterENVO:00002150 | marine water ...</td>\n",
       "      <td>1</td>\n",
       "      <td>coastal water bodyENVO:02000054</td>\n",
       "      <td>3</td>\n",
       "      <td>1</td>\n",
       "      <td>coastal water bodyENVO 02000054</td>\n",
       "      <td>None</td>\n",
       "    </tr>\n",
       "    <tr>\n",
       "      <th>8454</th>\n",
       "      <td>7863</td>\n",
       "      <td>ENVO:Textile waste water</td>\n",
       "      <td>1</td>\n",
       "      <td>ENVO:Textile waste water</td>\n",
       "      <td>1</td>\n",
       "      <td>1</td>\n",
       "      <td>ENVO Textile waste water</td>\n",
       "      <td>None</td>\n",
       "    </tr>\n",
       "    <tr>\n",
       "      <th>8640</th>\n",
       "      <td>8040</td>\n",
       "      <td>lake [ENVO:00000020]|sediment [sedimentENVO:00...</td>\n",
       "      <td>1</td>\n",
       "      <td>sediment [sedimentENVO:00002007]</td>\n",
       "      <td>2</td>\n",
       "      <td>1</td>\n",
       "      <td>sediment [sedimentENVO 00002007]</td>\n",
       "      <td>None</td>\n",
       "    </tr>\n",
       "    <tr>\n",
       "      <th>9173</th>\n",
       "      <td>8534</td>\n",
       "      <td>coastal sea waterENVO:00002150 | marine water ...</td>\n",
       "      <td>1</td>\n",
       "      <td>coastal sea waterENVO:00002150</td>\n",
       "      <td>3</td>\n",
       "      <td>1</td>\n",
       "      <td>coastal sea waterENVO 00002150</td>\n",
       "      <td>None</td>\n",
       "    </tr>\n",
       "    <tr>\n",
       "      <th>9174</th>\n",
       "      <td>8534</td>\n",
       "      <td>coastal sea waterENVO:00002150 | marine water ...</td>\n",
       "      <td>1</td>\n",
       "      <td>marine water bodyENVO:00001999</td>\n",
       "      <td>3</td>\n",
       "      <td>1</td>\n",
       "      <td>marine water bodyENVO 00001999</td>\n",
       "      <td>None</td>\n",
       "    </tr>\n",
       "    <tr>\n",
       "      <th>9175</th>\n",
       "      <td>8534</td>\n",
       "      <td>coastal sea waterENVO:00002150 | marine water ...</td>\n",
       "      <td>1</td>\n",
       "      <td>coastal water bodyENVO:02000049</td>\n",
       "      <td>3</td>\n",
       "      <td>1</td>\n",
       "      <td>coastal water bodyENVO 02000049</td>\n",
       "      <td>None</td>\n",
       "    </tr>\n",
       "  </tbody>\n",
       "</table>\n",
       "</div>"
      ]
     },
     "execution_count": 62,
     "metadata": {},
     "output_type": "execute_result"
    }
   ],
   "execution_count": 62
  },
  {
   "metadata": {},
   "cell_type": "markdown",
   "source": "## Retrieve the labels for the parsed CURIes",
   "id": "ab4b8ef4ac9758e2"
  },
  {
   "cell_type": "code",
   "id": "9bdebd91856ff679",
   "metadata": {
    "ExecuteTime": {
     "end_time": "2024-12-12T18:35:23.815626Z",
     "start_time": "2024-12-12T18:35:20.907505Z"
    }
   },
   "source": [
    "ncbi_frame['real_label'] = ncbi_frame['extracted_curie'].apply(envo_adapter.label)"
   ],
   "outputs": [],
   "execution_count": 63
  },
  {
   "metadata": {},
   "cell_type": "markdown",
   "source": [
    "## Apply oaklib annotation to the strings after CURIe removal\n",
    "Actually the annotator can (sometimes?) detect colon-delimited CURIEs with lower case prefixes\n",
    "\n",
    "This returns CURIes with evidence but not necessarily the label corresponding to the CURIe"
   ],
   "id": "9710b8f5b9a39057"
  },
  {
   "metadata": {
    "ExecuteTime": {
     "end_time": "2024-12-12T18:35:28.914227Z",
     "start_time": "2024-12-12T18:35:23.817567Z"
    }
   },
   "cell_type": "code",
   "source": [
    "# Specify the lexical index file name\n",
    "envo_lexical_index_file = \"envo_lexical_index.yaml\"\n",
    "\n",
    "# Check if the lexical index file exists\n",
    "if os.path.exists(envo_lexical_index_file):\n",
    "    print(f\"Loading lexical index from {envo_lexical_index_file}...\")\n",
    "    ix = load_lexical_index(envo_lexical_index_file)\n",
    "else:\n",
    "    print(f\"{envo_lexical_index_file} not found. Creating lexical index from envo_adapter...\")\n",
    "    # Create the lexical index from envo_adapter\n",
    "    ix = create_lexical_index(envo_adapter)\n",
    "    # Save the lexical index to a file\n",
    "    save_lexical_index(ix, envo_lexical_index_file)\n",
    "    print(f\"Lexical index saved to {envo_lexical_index_file}\")\n",
    "\n",
    "# Initialize the TextAnnotatorInterface\n",
    "envo_text_annotator_interface = TextAnnotatorInterface()\n",
    "envo_text_annotator_interface.lexical_index = ix\n",
    "\n",
    "# this cell only takes ~ 1 minute, but generates a lot of \"ERRORS\" and WARNINGS in a red font\n",
    "#   while lexically indexing the ontology"
   ],
   "id": "542884744a48f7bf",
   "outputs": [
    {
     "name": "stdout",
     "output_type": "stream",
     "text": [
      "Loading lexical index from envo_lexical_index.yaml...\n"
     ]
    }
   ],
   "execution_count": 64
  },
  {
   "cell_type": "code",
   "id": "d06d899567db022e",
   "metadata": {
    "ExecuteTime": {
     "end_time": "2024-12-12T18:35:38.190092Z",
     "start_time": "2024-12-12T18:35:28.915859Z"
    }
   },
   "source": [
    "# Apply the annotation function to each row in the 'label' column\n",
    "ncbi_frame['longest_annotation_curie'] = ncbi_frame['extracted_label'].apply(\n",
    "    lambda x: get_longest_annotation_curie(x, envo_text_annotator_interface, MIN_ANNOTATION_LEN))\n",
    "\n",
    "# ~ 1 minute\n"
   ],
   "outputs": [],
   "execution_count": 65
  },
  {
   "metadata": {},
   "cell_type": "markdown",
   "source": "## Add the labels for the CURIes identified though oaklib annotation of strings",
   "id": "14f0908428dfa322"
  },
  {
   "cell_type": "code",
   "id": "2d0d090813223db3",
   "metadata": {
    "ExecuteTime": {
     "end_time": "2024-12-12T18:35:40.843846Z",
     "start_time": "2024-12-12T18:35:38.193188Z"
    }
   },
   "source": [
    "ncbi_frame['longest_annotation_label'] = ncbi_frame['longest_annotation_curie'].apply(envo_adapter.label)"
   ],
   "outputs": [],
   "execution_count": 66
  },
  {
   "cell_type": "code",
   "id": "940cd4e688adb239",
   "metadata": {
    "ExecuteTime": {
     "end_time": "2024-12-12T18:35:40.856989Z",
     "start_time": "2024-12-12T18:35:40.845404Z"
    }
   },
   "source": [
    "ncbi_frame"
   ],
   "outputs": [
    {
     "data": {
      "text/plain": [
       "      serial_number                     content  count  \\\n",
       "0                 1              not applicable    271   \n",
       "1                 2                     missing    165   \n",
       "2                 3                        lake    136   \n",
       "3                 4    middle and lower reaches    100   \n",
       "4                 5                   shoreline     82   \n",
       "...             ...                         ...    ...   \n",
       "9687           9003    Lake beach sand_S2.63.R2      1   \n",
       "9688           9004  Lake beach sand_S3.63.R3.2      1   \n",
       "9689           9005    Lake beach sand_S3.N3.R1      1   \n",
       "9690           9006               LS-DP-27JUN19      1   \n",
       "9691           9007       BNR system wo recycle      1   \n",
       "\n",
       "                    content_list  content_count  envo_count  \\\n",
       "0                 not applicable              1           0   \n",
       "1                        missing              1           0   \n",
       "2                           lake              1           0   \n",
       "3       middle and lower reaches              1           0   \n",
       "4                      shoreline              1           0   \n",
       "...                          ...            ...         ...   \n",
       "9687    Lake beach sand_S2.63.R2              1           0   \n",
       "9688  Lake beach sand_S3.63.R3.2              1           0   \n",
       "9689    Lake beach sand_S3.N3.R1              1           0   \n",
       "9690               LS-DP-27JUN19              1           0   \n",
       "9691       BNR system wo recycle              1           0   \n",
       "\n",
       "                 extracted_label extracted_curie real_label  \\\n",
       "0                 not applicable            None       None   \n",
       "1                        missing            None       None   \n",
       "2                           lake            None       None   \n",
       "3       middle and lower reaches            None       None   \n",
       "4                      shoreline            None       None   \n",
       "...                          ...             ...        ...   \n",
       "9687    Lake beach sand_S2.63.R2            None       None   \n",
       "9688  Lake beach sand_S3.63.R3.2            None       None   \n",
       "9689    Lake beach sand_S3.N3.R1            None       None   \n",
       "9690               LS-DP-27JUN19            None       None   \n",
       "9691       BNR system wo recycle            None       None   \n",
       "\n",
       "     longest_annotation_curie longest_annotation_label  \n",
       "0                        None                     None  \n",
       "1                        None                     None  \n",
       "2               ENVO:00000020                     lake  \n",
       "3               ENVO:00000029              watercourse  \n",
       "4               ENVO:00000486                shoreline  \n",
       "...                       ...                      ...  \n",
       "9687            ENVO:00002138               beach sand  \n",
       "9688            ENVO:00002138               beach sand  \n",
       "9689            ENVO:00002138               beach sand  \n",
       "9690                     None                     None  \n",
       "9691               RO:0002577                   system  \n",
       "\n",
       "[9692 rows x 11 columns]"
      ],
      "text/html": [
       "<div>\n",
       "<style scoped>\n",
       "    .dataframe tbody tr th:only-of-type {\n",
       "        vertical-align: middle;\n",
       "    }\n",
       "\n",
       "    .dataframe tbody tr th {\n",
       "        vertical-align: top;\n",
       "    }\n",
       "\n",
       "    .dataframe thead th {\n",
       "        text-align: right;\n",
       "    }\n",
       "</style>\n",
       "<table border=\"1\" class=\"dataframe\">\n",
       "  <thead>\n",
       "    <tr style=\"text-align: right;\">\n",
       "      <th></th>\n",
       "      <th>serial_number</th>\n",
       "      <th>content</th>\n",
       "      <th>count</th>\n",
       "      <th>content_list</th>\n",
       "      <th>content_count</th>\n",
       "      <th>envo_count</th>\n",
       "      <th>extracted_label</th>\n",
       "      <th>extracted_curie</th>\n",
       "      <th>real_label</th>\n",
       "      <th>longest_annotation_curie</th>\n",
       "      <th>longest_annotation_label</th>\n",
       "    </tr>\n",
       "  </thead>\n",
       "  <tbody>\n",
       "    <tr>\n",
       "      <th>0</th>\n",
       "      <td>1</td>\n",
       "      <td>not applicable</td>\n",
       "      <td>271</td>\n",
       "      <td>not applicable</td>\n",
       "      <td>1</td>\n",
       "      <td>0</td>\n",
       "      <td>not applicable</td>\n",
       "      <td>None</td>\n",
       "      <td>None</td>\n",
       "      <td>None</td>\n",
       "      <td>None</td>\n",
       "    </tr>\n",
       "    <tr>\n",
       "      <th>1</th>\n",
       "      <td>2</td>\n",
       "      <td>missing</td>\n",
       "      <td>165</td>\n",
       "      <td>missing</td>\n",
       "      <td>1</td>\n",
       "      <td>0</td>\n",
       "      <td>missing</td>\n",
       "      <td>None</td>\n",
       "      <td>None</td>\n",
       "      <td>None</td>\n",
       "      <td>None</td>\n",
       "    </tr>\n",
       "    <tr>\n",
       "      <th>2</th>\n",
       "      <td>3</td>\n",
       "      <td>lake</td>\n",
       "      <td>136</td>\n",
       "      <td>lake</td>\n",
       "      <td>1</td>\n",
       "      <td>0</td>\n",
       "      <td>lake</td>\n",
       "      <td>None</td>\n",
       "      <td>None</td>\n",
       "      <td>ENVO:00000020</td>\n",
       "      <td>lake</td>\n",
       "    </tr>\n",
       "    <tr>\n",
       "      <th>3</th>\n",
       "      <td>4</td>\n",
       "      <td>middle and lower reaches</td>\n",
       "      <td>100</td>\n",
       "      <td>middle and lower reaches</td>\n",
       "      <td>1</td>\n",
       "      <td>0</td>\n",
       "      <td>middle and lower reaches</td>\n",
       "      <td>None</td>\n",
       "      <td>None</td>\n",
       "      <td>ENVO:00000029</td>\n",
       "      <td>watercourse</td>\n",
       "    </tr>\n",
       "    <tr>\n",
       "      <th>4</th>\n",
       "      <td>5</td>\n",
       "      <td>shoreline</td>\n",
       "      <td>82</td>\n",
       "      <td>shoreline</td>\n",
       "      <td>1</td>\n",
       "      <td>0</td>\n",
       "      <td>shoreline</td>\n",
       "      <td>None</td>\n",
       "      <td>None</td>\n",
       "      <td>ENVO:00000486</td>\n",
       "      <td>shoreline</td>\n",
       "    </tr>\n",
       "    <tr>\n",
       "      <th>...</th>\n",
       "      <td>...</td>\n",
       "      <td>...</td>\n",
       "      <td>...</td>\n",
       "      <td>...</td>\n",
       "      <td>...</td>\n",
       "      <td>...</td>\n",
       "      <td>...</td>\n",
       "      <td>...</td>\n",
       "      <td>...</td>\n",
       "      <td>...</td>\n",
       "      <td>...</td>\n",
       "    </tr>\n",
       "    <tr>\n",
       "      <th>9687</th>\n",
       "      <td>9003</td>\n",
       "      <td>Lake beach sand_S2.63.R2</td>\n",
       "      <td>1</td>\n",
       "      <td>Lake beach sand_S2.63.R2</td>\n",
       "      <td>1</td>\n",
       "      <td>0</td>\n",
       "      <td>Lake beach sand_S2.63.R2</td>\n",
       "      <td>None</td>\n",
       "      <td>None</td>\n",
       "      <td>ENVO:00002138</td>\n",
       "      <td>beach sand</td>\n",
       "    </tr>\n",
       "    <tr>\n",
       "      <th>9688</th>\n",
       "      <td>9004</td>\n",
       "      <td>Lake beach sand_S3.63.R3.2</td>\n",
       "      <td>1</td>\n",
       "      <td>Lake beach sand_S3.63.R3.2</td>\n",
       "      <td>1</td>\n",
       "      <td>0</td>\n",
       "      <td>Lake beach sand_S3.63.R3.2</td>\n",
       "      <td>None</td>\n",
       "      <td>None</td>\n",
       "      <td>ENVO:00002138</td>\n",
       "      <td>beach sand</td>\n",
       "    </tr>\n",
       "    <tr>\n",
       "      <th>9689</th>\n",
       "      <td>9005</td>\n",
       "      <td>Lake beach sand_S3.N3.R1</td>\n",
       "      <td>1</td>\n",
       "      <td>Lake beach sand_S3.N3.R1</td>\n",
       "      <td>1</td>\n",
       "      <td>0</td>\n",
       "      <td>Lake beach sand_S3.N3.R1</td>\n",
       "      <td>None</td>\n",
       "      <td>None</td>\n",
       "      <td>ENVO:00002138</td>\n",
       "      <td>beach sand</td>\n",
       "    </tr>\n",
       "    <tr>\n",
       "      <th>9690</th>\n",
       "      <td>9006</td>\n",
       "      <td>LS-DP-27JUN19</td>\n",
       "      <td>1</td>\n",
       "      <td>LS-DP-27JUN19</td>\n",
       "      <td>1</td>\n",
       "      <td>0</td>\n",
       "      <td>LS-DP-27JUN19</td>\n",
       "      <td>None</td>\n",
       "      <td>None</td>\n",
       "      <td>None</td>\n",
       "      <td>None</td>\n",
       "    </tr>\n",
       "    <tr>\n",
       "      <th>9691</th>\n",
       "      <td>9007</td>\n",
       "      <td>BNR system wo recycle</td>\n",
       "      <td>1</td>\n",
       "      <td>BNR system wo recycle</td>\n",
       "      <td>1</td>\n",
       "      <td>0</td>\n",
       "      <td>BNR system wo recycle</td>\n",
       "      <td>None</td>\n",
       "      <td>None</td>\n",
       "      <td>RO:0002577</td>\n",
       "      <td>system</td>\n",
       "    </tr>\n",
       "  </tbody>\n",
       "</table>\n",
       "<p>9692 rows × 11 columns</p>\n",
       "</div>"
      ]
     },
     "execution_count": 67,
     "metadata": {},
     "output_type": "execute_result"
    }
   ],
   "execution_count": 67
  },
  {
   "metadata": {},
   "cell_type": "markdown",
   "source": [
    "## we now have a list of CURIes for each normalized annotation\n",
    "\n",
    "This could be because the submitter provided a CURIe and a label that don't match\n",
    "*One* case of this is dragging a CURIe down a column in a spreadsheet, expecting it to be copied,\n",
    "but actually auto-incrementing it\n",
    "\n",
    "Now attempt to find one best CURIe for each annotation... by now we have lost the ability to retain multiple legitimate\n",
    "but improperly separated CURIes"
   ],
   "id": "69ed214e0186f459"
  },
  {
   "cell_type": "code",
   "id": "951ca41984b81e7d",
   "metadata": {
    "ExecuteTime": {
     "end_time": "2024-12-12T18:35:40.953643Z",
     "start_time": "2024-12-12T18:35:40.858316Z"
    }
   },
   "source": [
    "# todo don't accept extracted curie if no real label?\n",
    "# any kind of string similarity checking for label of annotated curie vs extracted label ?\n",
    "# look for long stretches of curies?\n",
    "# can we measure the beneficial impact of any of this? current crux: how to distribute counts\n",
    "\n",
    "ncbi_frame['curie_list'] = ncbi_frame.apply(\n",
    "    lambda my_row: list({my_row['extracted_curie'], my_row['longest_annotation_curie']} - {None}),\n",
    "    axis=1\n",
    ")\n",
    "\n",
    "ncbi_frame['unique_curie_count'] = ncbi_frame['curie_list'].apply(len)"
   ],
   "outputs": [],
   "execution_count": 68
  },
  {
   "cell_type": "code",
   "id": "349610c477ebf149",
   "metadata": {
    "ExecuteTime": {
     "end_time": "2024-12-12T18:35:40.964166Z",
     "start_time": "2024-12-12T18:35:40.956915Z"
    }
   },
   "source": [
    "ncbi_frame['unique_curie_count'].value_counts()"
   ],
   "outputs": [
    {
     "data": {
      "text/plain": [
       "unique_curie_count\n",
       "1    5955\n",
       "0    2679\n",
       "2    1058\n",
       "Name: count, dtype: int64"
      ]
     },
     "execution_count": 69,
     "metadata": {},
     "output_type": "execute_result"
    }
   ],
   "execution_count": 69
  },
  {
   "cell_type": "code",
   "id": "e6a8c0273f36e906",
   "metadata": {
    "ExecuteTime": {
     "end_time": "2024-12-12T18:35:40.971917Z",
     "start_time": "2024-12-12T18:35:40.966031Z"
    }
   },
   "source": [
    "double_curie_frame = ncbi_frame[ncbi_frame['unique_curie_count'] > 1]"
   ],
   "outputs": [],
   "execution_count": 70
  },
  {
   "cell_type": "code",
   "id": "334e7c646337a914",
   "metadata": {
    "ExecuteTime": {
     "end_time": "2024-12-12T18:35:40.977788Z",
     "start_time": "2024-12-12T18:35:40.973719Z"
    }
   },
   "source": [
    "double_curie_frame = double_curie_frame[['extracted_curie', 'longest_annotation_curie']]"
   ],
   "outputs": [],
   "execution_count": 71
  },
  {
   "cell_type": "code",
   "id": "874149830df3dd8a",
   "metadata": {
    "ExecuteTime": {
     "end_time": "2024-12-12T18:35:40.983810Z",
     "start_time": "2024-12-12T18:35:40.979528Z"
    }
   },
   "source": [
    "double_curie_frame = double_curie_frame.drop_duplicates()"
   ],
   "outputs": [],
   "execution_count": 72
  },
  {
   "cell_type": "code",
   "id": "cdfc0bda39f3ad6d",
   "metadata": {
    "ExecuteTime": {
     "end_time": "2024-12-12T18:35:40.991291Z",
     "start_time": "2024-12-12T18:35:40.985285Z"
    }
   },
   "source": [
    "double_curie_frame[['extracted_prefix', 'extracted_local_id']] = double_curie_frame['extracted_curie'].str.split(':', expand=True)"
   ],
   "outputs": [],
   "execution_count": 73
  },
  {
   "cell_type": "code",
   "id": "de6fcee63f6677d",
   "metadata": {
    "ExecuteTime": {
     "end_time": "2024-12-12T18:35:40.997394Z",
     "start_time": "2024-12-12T18:35:40.992927Z"
    }
   },
   "source": [
    "double_curie_frame['extracted_local_id_int'] = pd.to_numeric(double_curie_frame['extracted_local_id'], errors='coerce').astype('Int64')"
   ],
   "outputs": [],
   "execution_count": 74
  },
  {
   "metadata": {
    "ExecuteTime": {
     "end_time": "2024-12-12T18:35:41.007731Z",
     "start_time": "2024-12-12T18:35:40.998975Z"
    }
   },
   "cell_type": "code",
   "source": "double_curie_frame",
   "id": "185c2d7e43614639",
   "outputs": [
    {
     "data": {
      "text/plain": [
       "     extracted_curie longest_annotation_curie extracted_prefix  \\\n",
       "236    ENVO:00002006              CHEBI:15377             ENVO   \n",
       "457    ENVO:00002150            ENVO:01000007             ENVO   \n",
       "482        ENVO:0001            ENVO:01001110             ENVO   \n",
       "579    ENVO:00000213            ENVO:01000065             ENVO   \n",
       "635    ENVO:00000489            ENVO:00000486             ENVO   \n",
       "...              ...                      ...              ...   \n",
       "9513   ENVO:00001070            ENVO:00000486             ENVO   \n",
       "9514   ENVO:00001139            ENVO:00000486             ENVO   \n",
       "9573   ENVO:00002201            ENVO:00002131             ENVO   \n",
       "9667   ENVO:00002181            ENVO:00002131             ENVO   \n",
       "9668   ENVO:00002198            ENVO:00002131             ENVO   \n",
       "\n",
       "     extracted_local_id  extracted_local_id_int  \n",
       "236            00002006                    2006  \n",
       "457            00002150                    2150  \n",
       "482                0001                       1  \n",
       "579            00000213                     213  \n",
       "635            00000489                     489  \n",
       "...                 ...                     ...  \n",
       "9513           00001070                    1070  \n",
       "9514           00001139                    1139  \n",
       "9573           00002201                    2201  \n",
       "9667           00002181                    2181  \n",
       "9668           00002198                    2198  \n",
       "\n",
       "[1045 rows x 5 columns]"
      ],
      "text/html": [
       "<div>\n",
       "<style scoped>\n",
       "    .dataframe tbody tr th:only-of-type {\n",
       "        vertical-align: middle;\n",
       "    }\n",
       "\n",
       "    .dataframe tbody tr th {\n",
       "        vertical-align: top;\n",
       "    }\n",
       "\n",
       "    .dataframe thead th {\n",
       "        text-align: right;\n",
       "    }\n",
       "</style>\n",
       "<table border=\"1\" class=\"dataframe\">\n",
       "  <thead>\n",
       "    <tr style=\"text-align: right;\">\n",
       "      <th></th>\n",
       "      <th>extracted_curie</th>\n",
       "      <th>longest_annotation_curie</th>\n",
       "      <th>extracted_prefix</th>\n",
       "      <th>extracted_local_id</th>\n",
       "      <th>extracted_local_id_int</th>\n",
       "    </tr>\n",
       "  </thead>\n",
       "  <tbody>\n",
       "    <tr>\n",
       "      <th>236</th>\n",
       "      <td>ENVO:00002006</td>\n",
       "      <td>CHEBI:15377</td>\n",
       "      <td>ENVO</td>\n",
       "      <td>00002006</td>\n",
       "      <td>2006</td>\n",
       "    </tr>\n",
       "    <tr>\n",
       "      <th>457</th>\n",
       "      <td>ENVO:00002150</td>\n",
       "      <td>ENVO:01000007</td>\n",
       "      <td>ENVO</td>\n",
       "      <td>00002150</td>\n",
       "      <td>2150</td>\n",
       "    </tr>\n",
       "    <tr>\n",
       "      <th>482</th>\n",
       "      <td>ENVO:0001</td>\n",
       "      <td>ENVO:01001110</td>\n",
       "      <td>ENVO</td>\n",
       "      <td>0001</td>\n",
       "      <td>1</td>\n",
       "    </tr>\n",
       "    <tr>\n",
       "      <th>579</th>\n",
       "      <td>ENVO:00000213</td>\n",
       "      <td>ENVO:01000065</td>\n",
       "      <td>ENVO</td>\n",
       "      <td>00000213</td>\n",
       "      <td>213</td>\n",
       "    </tr>\n",
       "    <tr>\n",
       "      <th>635</th>\n",
       "      <td>ENVO:00000489</td>\n",
       "      <td>ENVO:00000486</td>\n",
       "      <td>ENVO</td>\n",
       "      <td>00000489</td>\n",
       "      <td>489</td>\n",
       "    </tr>\n",
       "    <tr>\n",
       "      <th>...</th>\n",
       "      <td>...</td>\n",
       "      <td>...</td>\n",
       "      <td>...</td>\n",
       "      <td>...</td>\n",
       "      <td>...</td>\n",
       "    </tr>\n",
       "    <tr>\n",
       "      <th>9513</th>\n",
       "      <td>ENVO:00001070</td>\n",
       "      <td>ENVO:00000486</td>\n",
       "      <td>ENVO</td>\n",
       "      <td>00001070</td>\n",
       "      <td>1070</td>\n",
       "    </tr>\n",
       "    <tr>\n",
       "      <th>9514</th>\n",
       "      <td>ENVO:00001139</td>\n",
       "      <td>ENVO:00000486</td>\n",
       "      <td>ENVO</td>\n",
       "      <td>00001139</td>\n",
       "      <td>1139</td>\n",
       "    </tr>\n",
       "    <tr>\n",
       "      <th>9573</th>\n",
       "      <td>ENVO:00002201</td>\n",
       "      <td>ENVO:00002131</td>\n",
       "      <td>ENVO</td>\n",
       "      <td>00002201</td>\n",
       "      <td>2201</td>\n",
       "    </tr>\n",
       "    <tr>\n",
       "      <th>9667</th>\n",
       "      <td>ENVO:00002181</td>\n",
       "      <td>ENVO:00002131</td>\n",
       "      <td>ENVO</td>\n",
       "      <td>00002181</td>\n",
       "      <td>2181</td>\n",
       "    </tr>\n",
       "    <tr>\n",
       "      <th>9668</th>\n",
       "      <td>ENVO:00002198</td>\n",
       "      <td>ENVO:00002131</td>\n",
       "      <td>ENVO</td>\n",
       "      <td>00002198</td>\n",
       "      <td>2198</td>\n",
       "    </tr>\n",
       "  </tbody>\n",
       "</table>\n",
       "<p>1045 rows × 5 columns</p>\n",
       "</div>"
      ]
     },
     "execution_count": 75,
     "metadata": {},
     "output_type": "execute_result"
    }
   ],
   "execution_count": 75
  },
  {
   "cell_type": "code",
   "id": "fae831b04ed985ef",
   "metadata": {
    "ExecuteTime": {
     "end_time": "2024-12-12T18:35:41.013779Z",
     "start_time": "2024-12-12T18:35:41.009099Z"
    }
   },
   "source": [
    "# Ensure extracted_local_id_int is unique and sorted\n",
    "unique_sorted_series = double_curie_frame['extracted_local_id_int'].dropna().drop_duplicates().sort_values()\n"
   ],
   "outputs": [],
   "execution_count": 76
  },
  {
   "cell_type": "code",
   "id": "d244d7b150a3b413",
   "metadata": {
    "ExecuteTime": {
     "end_time": "2024-12-12T18:35:41.037344Z",
     "start_time": "2024-12-12T18:35:41.015247Z"
    }
   },
   "source": [
    "# Find stretches\n",
    "stretches_dict = find_consecutive_stretches_dict(unique_sorted_series)\n"
   ],
   "outputs": [],
   "execution_count": 77
  },
  {
   "cell_type": "code",
   "id": "2fda8122842f63c0",
   "metadata": {
    "ExecuteTime": {
     "end_time": "2024-12-12T18:35:41.043979Z",
     "start_time": "2024-12-12T18:35:41.038779Z"
    }
   },
   "source": [
    "# Convert the stretches dictionary into a DataFrame\n",
    "stretches_df = stretches_dict_to_long_dataframe(stretches_dict)"
   ],
   "outputs": [],
   "execution_count": 78
  },
  {
   "metadata": {},
   "cell_type": "markdown",
   "source": [
    "`stretches_df` shows groups of extracted EnvoO ids (CURIes without prefix or padding zeros) that share a common CURIe by oaklib annotation of the textual part. This may not be the best or only way to address these spurious drag-stretch, auto-incremented CURIes\n",
    "\n",
    "Ie 1001458 corresponds to ENVO:01001458, 'mist'\n",
    "\n",
    "_although it theoretically could have been ENVO:1001458 since EnvO CURIes can have 7 or 8 digits_\n",
    "\n",
    "In group 9, there are another ~ 50 sequential id values, all corresponding to environmental context annotations whose best oak-annotated class is ENVO:01001803, 'tropical forest'!\n",
    "\n",
    "How much of an impact does this have? "
   ],
   "id": "22f0c242c2505f2b"
  },
  {
   "cell_type": "code",
   "id": "367abafc0ae13a6d",
   "metadata": {
    "ExecuteTime": {
     "end_time": "2024-12-12T18:35:41.051859Z",
     "start_time": "2024-12-12T18:35:41.045387Z"
    }
   },
   "source": [
    "stretches_df"
   ],
   "outputs": [
    {
     "data": {
      "text/plain": [
       "     stretch_id       value\n",
       "0             1           1\n",
       "1             1           2\n",
       "2             1           3\n",
       "3             1           4\n",
       "4             1           5\n",
       "..          ...         ...\n",
       "926           7  2018051508\n",
       "927           7  2018051509\n",
       "928           7  2018051510\n",
       "929           7  2018051511\n",
       "930           7  2018051512\n",
       "\n",
       "[931 rows x 2 columns]"
      ],
      "text/html": [
       "<div>\n",
       "<style scoped>\n",
       "    .dataframe tbody tr th:only-of-type {\n",
       "        vertical-align: middle;\n",
       "    }\n",
       "\n",
       "    .dataframe tbody tr th {\n",
       "        vertical-align: top;\n",
       "    }\n",
       "\n",
       "    .dataframe thead th {\n",
       "        text-align: right;\n",
       "    }\n",
       "</style>\n",
       "<table border=\"1\" class=\"dataframe\">\n",
       "  <thead>\n",
       "    <tr style=\"text-align: right;\">\n",
       "      <th></th>\n",
       "      <th>stretch_id</th>\n",
       "      <th>value</th>\n",
       "    </tr>\n",
       "  </thead>\n",
       "  <tbody>\n",
       "    <tr>\n",
       "      <th>0</th>\n",
       "      <td>1</td>\n",
       "      <td>1</td>\n",
       "    </tr>\n",
       "    <tr>\n",
       "      <th>1</th>\n",
       "      <td>1</td>\n",
       "      <td>2</td>\n",
       "    </tr>\n",
       "    <tr>\n",
       "      <th>2</th>\n",
       "      <td>1</td>\n",
       "      <td>3</td>\n",
       "    </tr>\n",
       "    <tr>\n",
       "      <th>3</th>\n",
       "      <td>1</td>\n",
       "      <td>4</td>\n",
       "    </tr>\n",
       "    <tr>\n",
       "      <th>4</th>\n",
       "      <td>1</td>\n",
       "      <td>5</td>\n",
       "    </tr>\n",
       "    <tr>\n",
       "      <th>...</th>\n",
       "      <td>...</td>\n",
       "      <td>...</td>\n",
       "    </tr>\n",
       "    <tr>\n",
       "      <th>926</th>\n",
       "      <td>7</td>\n",
       "      <td>2018051508</td>\n",
       "    </tr>\n",
       "    <tr>\n",
       "      <th>927</th>\n",
       "      <td>7</td>\n",
       "      <td>2018051509</td>\n",
       "    </tr>\n",
       "    <tr>\n",
       "      <th>928</th>\n",
       "      <td>7</td>\n",
       "      <td>2018051510</td>\n",
       "    </tr>\n",
       "    <tr>\n",
       "      <th>929</th>\n",
       "      <td>7</td>\n",
       "      <td>2018051511</td>\n",
       "    </tr>\n",
       "    <tr>\n",
       "      <th>930</th>\n",
       "      <td>7</td>\n",
       "      <td>2018051512</td>\n",
       "    </tr>\n",
       "  </tbody>\n",
       "</table>\n",
       "<p>931 rows × 2 columns</p>\n",
       "</div>"
      ]
     },
     "execution_count": 79,
     "metadata": {},
     "output_type": "execute_result"
    }
   ],
   "execution_count": 79
  },
  {
   "cell_type": "code",
   "id": "8ee27ecc0697a5f5",
   "metadata": {
    "ExecuteTime": {
     "end_time": "2024-12-12T18:35:41.058186Z",
     "start_time": "2024-12-12T18:35:41.053282Z"
    }
   },
   "source": [
    "# Perform the left merge\n",
    "double_curie_frame = double_curie_frame.merge(\n",
    "    stretches_df,\n",
    "    left_on='extracted_local_id_int',\n",
    "    right_on='value',\n",
    "    how='left'\n",
    ")"
   ],
   "outputs": [],
   "execution_count": 80
  },
  {
   "cell_type": "code",
   "id": "59e278981b799f14",
   "metadata": {
    "ExecuteTime": {
     "end_time": "2024-12-12T18:35:41.071380Z",
     "start_time": "2024-12-12T18:35:41.059889Z"
    }
   },
   "source": [
    "stretch_summary_df = summarize_stretch_groups(double_curie_frame)\n"
   ],
   "outputs": [],
   "execution_count": 81
  },
  {
   "metadata": {},
   "cell_type": "markdown",
   "source": "For stretch 9, which included extracted CURIes from ENVO:01001458 to ENVO:01001511, the oaklib test annotation of 100% of the submitted environmental context annotations was ENVO:01001803, so we will keep that and disregard all of the CURIes from the stretch\n",
   "id": "46a141c88d2f24a8"
  },
  {
   "cell_type": "code",
   "id": "cee6e3ff1e1ca0d3",
   "metadata": {
    "ExecuteTime": {
     "end_time": "2024-12-12T18:35:41.080972Z",
     "start_time": "2024-12-12T18:35:41.072934Z"
    }
   },
   "source": [
    "stretch_summary_df"
   ],
   "outputs": [
    {
     "data": {
      "text/plain": [
       "   stretch_id most_common_longest_annotation_curie  fraction\n",
       "0         1.0                        ENVO:00000486  0.821429\n",
       "1         2.0                        ENVO:00000486  0.988042\n",
       "2         3.0                        ENVO:00002001  0.685393\n",
       "3         4.0                        ENVO:02000049  1.000000\n",
       "4         5.0                        ENVO:01000341  1.000000\n",
       "5         6.0                        ENVO:01000341  1.000000\n",
       "6         7.0                        ENVO:01000341  1.000000"
      ],
      "text/html": [
       "<div>\n",
       "<style scoped>\n",
       "    .dataframe tbody tr th:only-of-type {\n",
       "        vertical-align: middle;\n",
       "    }\n",
       "\n",
       "    .dataframe tbody tr th {\n",
       "        vertical-align: top;\n",
       "    }\n",
       "\n",
       "    .dataframe thead th {\n",
       "        text-align: right;\n",
       "    }\n",
       "</style>\n",
       "<table border=\"1\" class=\"dataframe\">\n",
       "  <thead>\n",
       "    <tr style=\"text-align: right;\">\n",
       "      <th></th>\n",
       "      <th>stretch_id</th>\n",
       "      <th>most_common_longest_annotation_curie</th>\n",
       "      <th>fraction</th>\n",
       "    </tr>\n",
       "  </thead>\n",
       "  <tbody>\n",
       "    <tr>\n",
       "      <th>0</th>\n",
       "      <td>1.0</td>\n",
       "      <td>ENVO:00000486</td>\n",
       "      <td>0.821429</td>\n",
       "    </tr>\n",
       "    <tr>\n",
       "      <th>1</th>\n",
       "      <td>2.0</td>\n",
       "      <td>ENVO:00000486</td>\n",
       "      <td>0.988042</td>\n",
       "    </tr>\n",
       "    <tr>\n",
       "      <th>2</th>\n",
       "      <td>3.0</td>\n",
       "      <td>ENVO:00002001</td>\n",
       "      <td>0.685393</td>\n",
       "    </tr>\n",
       "    <tr>\n",
       "      <th>3</th>\n",
       "      <td>4.0</td>\n",
       "      <td>ENVO:02000049</td>\n",
       "      <td>1.000000</td>\n",
       "    </tr>\n",
       "    <tr>\n",
       "      <th>4</th>\n",
       "      <td>5.0</td>\n",
       "      <td>ENVO:01000341</td>\n",
       "      <td>1.000000</td>\n",
       "    </tr>\n",
       "    <tr>\n",
       "      <th>5</th>\n",
       "      <td>6.0</td>\n",
       "      <td>ENVO:01000341</td>\n",
       "      <td>1.000000</td>\n",
       "    </tr>\n",
       "    <tr>\n",
       "      <th>6</th>\n",
       "      <td>7.0</td>\n",
       "      <td>ENVO:01000341</td>\n",
       "      <td>1.000000</td>\n",
       "    </tr>\n",
       "  </tbody>\n",
       "</table>\n",
       "</div>"
      ]
     },
     "execution_count": 82,
     "metadata": {},
     "output_type": "execute_result"
    }
   ],
   "execution_count": 82
  },
  {
   "metadata": {
    "ExecuteTime": {
     "end_time": "2024-12-12T18:35:41.085136Z",
     "start_time": "2024-12-12T18:35:41.082514Z"
    }
   },
   "cell_type": "code",
   "source": "decisive_fraction_threshold = 0.9",
   "id": "dcc5ba2adda9189f",
   "outputs": [],
   "execution_count": 83
  },
  {
   "metadata": {
    "ExecuteTime": {
     "end_time": "2024-12-12T18:35:41.090112Z",
     "start_time": "2024-12-12T18:35:41.086746Z"
    }
   },
   "cell_type": "code",
   "source": "decisive_stretch_summary_df = stretch_summary_df[stretch_summary_df['fraction'] >= decisive_fraction_threshold]",
   "id": "529c6e4d71a8bf31",
   "outputs": [],
   "execution_count": 84
  },
  {
   "metadata": {
    "ExecuteTime": {
     "end_time": "2024-12-12T18:35:41.099015Z",
     "start_time": "2024-12-12T18:35:41.091886Z"
    }
   },
   "cell_type": "code",
   "source": "decisive_stretch_summary_df",
   "id": "db568a6f50b6e0",
   "outputs": [
    {
     "data": {
      "text/plain": [
       "   stretch_id most_common_longest_annotation_curie  fraction\n",
       "1         2.0                        ENVO:00000486  0.988042\n",
       "3         4.0                        ENVO:02000049  1.000000\n",
       "4         5.0                        ENVO:01000341  1.000000\n",
       "5         6.0                        ENVO:01000341  1.000000\n",
       "6         7.0                        ENVO:01000341  1.000000"
      ],
      "text/html": [
       "<div>\n",
       "<style scoped>\n",
       "    .dataframe tbody tr th:only-of-type {\n",
       "        vertical-align: middle;\n",
       "    }\n",
       "\n",
       "    .dataframe tbody tr th {\n",
       "        vertical-align: top;\n",
       "    }\n",
       "\n",
       "    .dataframe thead th {\n",
       "        text-align: right;\n",
       "    }\n",
       "</style>\n",
       "<table border=\"1\" class=\"dataframe\">\n",
       "  <thead>\n",
       "    <tr style=\"text-align: right;\">\n",
       "      <th></th>\n",
       "      <th>stretch_id</th>\n",
       "      <th>most_common_longest_annotation_curie</th>\n",
       "      <th>fraction</th>\n",
       "    </tr>\n",
       "  </thead>\n",
       "  <tbody>\n",
       "    <tr>\n",
       "      <th>1</th>\n",
       "      <td>2.0</td>\n",
       "      <td>ENVO:00000486</td>\n",
       "      <td>0.988042</td>\n",
       "    </tr>\n",
       "    <tr>\n",
       "      <th>3</th>\n",
       "      <td>4.0</td>\n",
       "      <td>ENVO:02000049</td>\n",
       "      <td>1.000000</td>\n",
       "    </tr>\n",
       "    <tr>\n",
       "      <th>4</th>\n",
       "      <td>5.0</td>\n",
       "      <td>ENVO:01000341</td>\n",
       "      <td>1.000000</td>\n",
       "    </tr>\n",
       "    <tr>\n",
       "      <th>5</th>\n",
       "      <td>6.0</td>\n",
       "      <td>ENVO:01000341</td>\n",
       "      <td>1.000000</td>\n",
       "    </tr>\n",
       "    <tr>\n",
       "      <th>6</th>\n",
       "      <td>7.0</td>\n",
       "      <td>ENVO:01000341</td>\n",
       "      <td>1.000000</td>\n",
       "    </tr>\n",
       "  </tbody>\n",
       "</table>\n",
       "</div>"
      ]
     },
     "execution_count": 85,
     "metadata": {},
     "output_type": "execute_result"
    }
   ],
   "execution_count": 85
  },
  {
   "cell_type": "code",
   "id": "f47a58a1945943b8",
   "metadata": {
    "ExecuteTime": {
     "end_time": "2024-12-12T18:35:41.105637Z",
     "start_time": "2024-12-12T18:35:41.100711Z"
    }
   },
   "source": [
    "# Perform the left merge\n",
    "double_curie_frame = double_curie_frame.merge(\n",
    "    decisive_stretch_summary_df,\n",
    "    left_on='stretch_id',\n",
    "    right_on='stretch_id',\n",
    "    how='left'\n",
    ")"
   ],
   "outputs": [],
   "execution_count": 86
  },
  {
   "metadata": {
    "ExecuteTime": {
     "end_time": "2024-12-12T18:35:41.122044Z",
     "start_time": "2024-12-12T18:35:41.106989Z"
    }
   },
   "cell_type": "code",
   "source": "double_curie_frame",
   "id": "babb21e01016715",
   "outputs": [
    {
     "data": {
      "text/plain": [
       "     extracted_curie longest_annotation_curie extracted_prefix  \\\n",
       "0      ENVO:00002006              CHEBI:15377             ENVO   \n",
       "1      ENVO:00002150            ENVO:01000007             ENVO   \n",
       "2          ENVO:0001            ENVO:01001110             ENVO   \n",
       "3      ENVO:00000213            ENVO:01000065             ENVO   \n",
       "4      ENVO:00000489            ENVO:00000486             ENVO   \n",
       "...              ...                      ...              ...   \n",
       "1040   ENVO:00001070            ENVO:00000486             ENVO   \n",
       "1041   ENVO:00001139            ENVO:00000486             ENVO   \n",
       "1042   ENVO:00002201            ENVO:00002131             ENVO   \n",
       "1043   ENVO:00002181            ENVO:00002131             ENVO   \n",
       "1044   ENVO:00002198            ENVO:00002131             ENVO   \n",
       "\n",
       "     extracted_local_id  extracted_local_id_int  stretch_id   value  \\\n",
       "0              00002006                    2006         3.0  2006.0   \n",
       "1              00002150                    2150         3.0  2150.0   \n",
       "2                  0001                       1         1.0     1.0   \n",
       "3              00000213                     213         NaN     NaN   \n",
       "4              00000489                     489         2.0   489.0   \n",
       "...                 ...                     ...         ...     ...   \n",
       "1040           00001070                    1070         2.0  1070.0   \n",
       "1041           00001139                    1139         2.0  1139.0   \n",
       "1042           00002201                    2201         3.0  2201.0   \n",
       "1043           00002181                    2181         3.0  2181.0   \n",
       "1044           00002198                    2198         3.0  2198.0   \n",
       "\n",
       "     most_common_longest_annotation_curie  fraction  \n",
       "0                                     NaN       NaN  \n",
       "1                                     NaN       NaN  \n",
       "2                                     NaN       NaN  \n",
       "3                                     NaN       NaN  \n",
       "4                           ENVO:00000486  0.988042  \n",
       "...                                   ...       ...  \n",
       "1040                        ENVO:00000486  0.988042  \n",
       "1041                        ENVO:00000486  0.988042  \n",
       "1042                                  NaN       NaN  \n",
       "1043                                  NaN       NaN  \n",
       "1044                                  NaN       NaN  \n",
       "\n",
       "[1045 rows x 9 columns]"
      ],
      "text/html": [
       "<div>\n",
       "<style scoped>\n",
       "    .dataframe tbody tr th:only-of-type {\n",
       "        vertical-align: middle;\n",
       "    }\n",
       "\n",
       "    .dataframe tbody tr th {\n",
       "        vertical-align: top;\n",
       "    }\n",
       "\n",
       "    .dataframe thead th {\n",
       "        text-align: right;\n",
       "    }\n",
       "</style>\n",
       "<table border=\"1\" class=\"dataframe\">\n",
       "  <thead>\n",
       "    <tr style=\"text-align: right;\">\n",
       "      <th></th>\n",
       "      <th>extracted_curie</th>\n",
       "      <th>longest_annotation_curie</th>\n",
       "      <th>extracted_prefix</th>\n",
       "      <th>extracted_local_id</th>\n",
       "      <th>extracted_local_id_int</th>\n",
       "      <th>stretch_id</th>\n",
       "      <th>value</th>\n",
       "      <th>most_common_longest_annotation_curie</th>\n",
       "      <th>fraction</th>\n",
       "    </tr>\n",
       "  </thead>\n",
       "  <tbody>\n",
       "    <tr>\n",
       "      <th>0</th>\n",
       "      <td>ENVO:00002006</td>\n",
       "      <td>CHEBI:15377</td>\n",
       "      <td>ENVO</td>\n",
       "      <td>00002006</td>\n",
       "      <td>2006</td>\n",
       "      <td>3.0</td>\n",
       "      <td>2006.0</td>\n",
       "      <td>NaN</td>\n",
       "      <td>NaN</td>\n",
       "    </tr>\n",
       "    <tr>\n",
       "      <th>1</th>\n",
       "      <td>ENVO:00002150</td>\n",
       "      <td>ENVO:01000007</td>\n",
       "      <td>ENVO</td>\n",
       "      <td>00002150</td>\n",
       "      <td>2150</td>\n",
       "      <td>3.0</td>\n",
       "      <td>2150.0</td>\n",
       "      <td>NaN</td>\n",
       "      <td>NaN</td>\n",
       "    </tr>\n",
       "    <tr>\n",
       "      <th>2</th>\n",
       "      <td>ENVO:0001</td>\n",
       "      <td>ENVO:01001110</td>\n",
       "      <td>ENVO</td>\n",
       "      <td>0001</td>\n",
       "      <td>1</td>\n",
       "      <td>1.0</td>\n",
       "      <td>1.0</td>\n",
       "      <td>NaN</td>\n",
       "      <td>NaN</td>\n",
       "    </tr>\n",
       "    <tr>\n",
       "      <th>3</th>\n",
       "      <td>ENVO:00000213</td>\n",
       "      <td>ENVO:01000065</td>\n",
       "      <td>ENVO</td>\n",
       "      <td>00000213</td>\n",
       "      <td>213</td>\n",
       "      <td>NaN</td>\n",
       "      <td>NaN</td>\n",
       "      <td>NaN</td>\n",
       "      <td>NaN</td>\n",
       "    </tr>\n",
       "    <tr>\n",
       "      <th>4</th>\n",
       "      <td>ENVO:00000489</td>\n",
       "      <td>ENVO:00000486</td>\n",
       "      <td>ENVO</td>\n",
       "      <td>00000489</td>\n",
       "      <td>489</td>\n",
       "      <td>2.0</td>\n",
       "      <td>489.0</td>\n",
       "      <td>ENVO:00000486</td>\n",
       "      <td>0.988042</td>\n",
       "    </tr>\n",
       "    <tr>\n",
       "      <th>...</th>\n",
       "      <td>...</td>\n",
       "      <td>...</td>\n",
       "      <td>...</td>\n",
       "      <td>...</td>\n",
       "      <td>...</td>\n",
       "      <td>...</td>\n",
       "      <td>...</td>\n",
       "      <td>...</td>\n",
       "      <td>...</td>\n",
       "    </tr>\n",
       "    <tr>\n",
       "      <th>1040</th>\n",
       "      <td>ENVO:00001070</td>\n",
       "      <td>ENVO:00000486</td>\n",
       "      <td>ENVO</td>\n",
       "      <td>00001070</td>\n",
       "      <td>1070</td>\n",
       "      <td>2.0</td>\n",
       "      <td>1070.0</td>\n",
       "      <td>ENVO:00000486</td>\n",
       "      <td>0.988042</td>\n",
       "    </tr>\n",
       "    <tr>\n",
       "      <th>1041</th>\n",
       "      <td>ENVO:00001139</td>\n",
       "      <td>ENVO:00000486</td>\n",
       "      <td>ENVO</td>\n",
       "      <td>00001139</td>\n",
       "      <td>1139</td>\n",
       "      <td>2.0</td>\n",
       "      <td>1139.0</td>\n",
       "      <td>ENVO:00000486</td>\n",
       "      <td>0.988042</td>\n",
       "    </tr>\n",
       "    <tr>\n",
       "      <th>1042</th>\n",
       "      <td>ENVO:00002201</td>\n",
       "      <td>ENVO:00002131</td>\n",
       "      <td>ENVO</td>\n",
       "      <td>00002201</td>\n",
       "      <td>2201</td>\n",
       "      <td>3.0</td>\n",
       "      <td>2201.0</td>\n",
       "      <td>NaN</td>\n",
       "      <td>NaN</td>\n",
       "    </tr>\n",
       "    <tr>\n",
       "      <th>1043</th>\n",
       "      <td>ENVO:00002181</td>\n",
       "      <td>ENVO:00002131</td>\n",
       "      <td>ENVO</td>\n",
       "      <td>00002181</td>\n",
       "      <td>2181</td>\n",
       "      <td>3.0</td>\n",
       "      <td>2181.0</td>\n",
       "      <td>NaN</td>\n",
       "      <td>NaN</td>\n",
       "    </tr>\n",
       "    <tr>\n",
       "      <th>1044</th>\n",
       "      <td>ENVO:00002198</td>\n",
       "      <td>ENVO:00002131</td>\n",
       "      <td>ENVO</td>\n",
       "      <td>00002198</td>\n",
       "      <td>2198</td>\n",
       "      <td>3.0</td>\n",
       "      <td>2198.0</td>\n",
       "      <td>NaN</td>\n",
       "      <td>NaN</td>\n",
       "    </tr>\n",
       "  </tbody>\n",
       "</table>\n",
       "<p>1045 rows × 9 columns</p>\n",
       "</div>"
      ]
     },
     "execution_count": 87,
     "metadata": {},
     "output_type": "execute_result"
    }
   ],
   "execution_count": 87
  },
  {
   "cell_type": "code",
   "id": "828f3be5ac6c0ab1",
   "metadata": {
    "ExecuteTime": {
     "end_time": "2024-12-12T18:35:41.129981Z",
     "start_time": "2024-12-12T18:35:41.124055Z"
    }
   },
   "source": [
    "drag_evidence_frame = double_curie_frame[double_curie_frame['stretch_id'] >= 1]\n",
    "drag_evidence_frame = drag_evidence_frame[['extracted_curie', 'longest_annotation_curie']]\n",
    "drag_evidence_frame['drag_evidence'] = True"
   ],
   "outputs": [],
   "execution_count": 88
  },
  {
   "cell_type": "code",
   "id": "9907b1472af8731b",
   "metadata": {
    "ExecuteTime": {
     "end_time": "2024-12-12T18:35:41.140345Z",
     "start_time": "2024-12-12T18:35:41.131555Z"
    }
   },
   "source": [
    "drag_evidence_frame"
   ],
   "outputs": [
    {
     "data": {
      "text/plain": [
       "     extracted_curie longest_annotation_curie  drag_evidence\n",
       "0      ENVO:00002006              CHEBI:15377           True\n",
       "1      ENVO:00002150            ENVO:01000007           True\n",
       "2          ENVO:0001            ENVO:01001110           True\n",
       "4      ENVO:00000489            ENVO:00000486           True\n",
       "5      ENVO:00000488            ENVO:00000486           True\n",
       "...              ...                      ...            ...\n",
       "1040   ENVO:00001070            ENVO:00000486           True\n",
       "1041   ENVO:00001139            ENVO:00000486           True\n",
       "1042   ENVO:00002201            ENVO:00002131           True\n",
       "1043   ENVO:00002181            ENVO:00002131           True\n",
       "1044   ENVO:00002198            ENVO:00002131           True\n",
       "\n",
       "[1005 rows x 3 columns]"
      ],
      "text/html": [
       "<div>\n",
       "<style scoped>\n",
       "    .dataframe tbody tr th:only-of-type {\n",
       "        vertical-align: middle;\n",
       "    }\n",
       "\n",
       "    .dataframe tbody tr th {\n",
       "        vertical-align: top;\n",
       "    }\n",
       "\n",
       "    .dataframe thead th {\n",
       "        text-align: right;\n",
       "    }\n",
       "</style>\n",
       "<table border=\"1\" class=\"dataframe\">\n",
       "  <thead>\n",
       "    <tr style=\"text-align: right;\">\n",
       "      <th></th>\n",
       "      <th>extracted_curie</th>\n",
       "      <th>longest_annotation_curie</th>\n",
       "      <th>drag_evidence</th>\n",
       "    </tr>\n",
       "  </thead>\n",
       "  <tbody>\n",
       "    <tr>\n",
       "      <th>0</th>\n",
       "      <td>ENVO:00002006</td>\n",
       "      <td>CHEBI:15377</td>\n",
       "      <td>True</td>\n",
       "    </tr>\n",
       "    <tr>\n",
       "      <th>1</th>\n",
       "      <td>ENVO:00002150</td>\n",
       "      <td>ENVO:01000007</td>\n",
       "      <td>True</td>\n",
       "    </tr>\n",
       "    <tr>\n",
       "      <th>2</th>\n",
       "      <td>ENVO:0001</td>\n",
       "      <td>ENVO:01001110</td>\n",
       "      <td>True</td>\n",
       "    </tr>\n",
       "    <tr>\n",
       "      <th>4</th>\n",
       "      <td>ENVO:00000489</td>\n",
       "      <td>ENVO:00000486</td>\n",
       "      <td>True</td>\n",
       "    </tr>\n",
       "    <tr>\n",
       "      <th>5</th>\n",
       "      <td>ENVO:00000488</td>\n",
       "      <td>ENVO:00000486</td>\n",
       "      <td>True</td>\n",
       "    </tr>\n",
       "    <tr>\n",
       "      <th>...</th>\n",
       "      <td>...</td>\n",
       "      <td>...</td>\n",
       "      <td>...</td>\n",
       "    </tr>\n",
       "    <tr>\n",
       "      <th>1040</th>\n",
       "      <td>ENVO:00001070</td>\n",
       "      <td>ENVO:00000486</td>\n",
       "      <td>True</td>\n",
       "    </tr>\n",
       "    <tr>\n",
       "      <th>1041</th>\n",
       "      <td>ENVO:00001139</td>\n",
       "      <td>ENVO:00000486</td>\n",
       "      <td>True</td>\n",
       "    </tr>\n",
       "    <tr>\n",
       "      <th>1042</th>\n",
       "      <td>ENVO:00002201</td>\n",
       "      <td>ENVO:00002131</td>\n",
       "      <td>True</td>\n",
       "    </tr>\n",
       "    <tr>\n",
       "      <th>1043</th>\n",
       "      <td>ENVO:00002181</td>\n",
       "      <td>ENVO:00002131</td>\n",
       "      <td>True</td>\n",
       "    </tr>\n",
       "    <tr>\n",
       "      <th>1044</th>\n",
       "      <td>ENVO:00002198</td>\n",
       "      <td>ENVO:00002131</td>\n",
       "      <td>True</td>\n",
       "    </tr>\n",
       "  </tbody>\n",
       "</table>\n",
       "<p>1005 rows × 3 columns</p>\n",
       "</div>"
      ]
     },
     "execution_count": 89,
     "metadata": {},
     "output_type": "execute_result"
    }
   ],
   "execution_count": 89
  },
  {
   "cell_type": "code",
   "id": "9873eb1bc3ea44e5",
   "metadata": {
    "ExecuteTime": {
     "end_time": "2024-12-12T18:35:41.149522Z",
     "start_time": "2024-12-12T18:35:41.141883Z"
    }
   },
   "source": [
    "ncbi_frame = ncbi_frame.merge(\n",
    "    drag_evidence_frame,\n",
    "    left_on=['extracted_curie', 'longest_annotation_curie'],\n",
    "    right_on=['extracted_curie', 'longest_annotation_curie'],\n",
    "    how='left'\n",
    ")"
   ],
   "outputs": [],
   "execution_count": 90
  },
  {
   "cell_type": "code",
   "id": "1d67b9e207b5531e",
   "metadata": {
    "ExecuteTime": {
     "end_time": "2024-12-12T18:35:41.769190Z",
     "start_time": "2024-12-12T18:35:41.151140Z"
    }
   },
   "source": [
    "# Initialize dragless_curie_list with curie_list values\n",
    "ncbi_frame[\"dragless_curie_list\"] = ncbi_frame[\"curie_list\"]\n",
    "\n",
    "# Update dragless_curie_list based on the condition\n",
    "for index, row in ncbi_frame.iterrows():\n",
    "    if row[\"drag_evidence\"] is True:\n",
    "        if row[\"longest_annotation_curie\"] is not None:\n",
    "            ncbi_frame.at[index, \"dragless_curie_list\"] = [row[\"longest_annotation_curie\"]]\n",
    "        else:\n",
    "            ncbi_frame.at[index, \"dragless_curie_list\"] = []\n",
    "\n",
    "ncbi_frame['dragless_curie_count'] = ncbi_frame['dragless_curie_list'].apply(len)"
   ],
   "outputs": [],
   "execution_count": 91
  },
  {
   "cell_type": "code",
   "id": "fb7469cd6900edd7",
   "metadata": {
    "ExecuteTime": {
     "end_time": "2024-12-12T18:35:41.789385Z",
     "start_time": "2024-12-12T18:35:41.783965Z"
    }
   },
   "source": [
    "ncbi_frame['unique_curie_count'].value_counts()"
   ],
   "outputs": [
    {
     "data": {
      "text/plain": [
       "unique_curie_count\n",
       "1    5955\n",
       "0    2679\n",
       "2    1058\n",
       "Name: count, dtype: int64"
      ]
     },
     "execution_count": 92,
     "metadata": {},
     "output_type": "execute_result"
    }
   ],
   "execution_count": 92
  },
  {
   "cell_type": "code",
   "id": "7626e42d5b746a2a",
   "metadata": {
    "ExecuteTime": {
     "end_time": "2024-12-12T18:35:41.796401Z",
     "start_time": "2024-12-12T18:35:41.790995Z"
    }
   },
   "source": [
    "ncbi_frame['dragless_curie_count'].value_counts()"
   ],
   "outputs": [
    {
     "data": {
      "text/plain": [
       "dragless_curie_count\n",
       "1    6965\n",
       "0    2679\n",
       "2      48\n",
       "Name: count, dtype: int64"
      ]
     },
     "execution_count": 93,
     "metadata": {},
     "output_type": "execute_result"
    }
   ],
   "execution_count": 93
  },
  {
   "metadata": {},
   "cell_type": "markdown",
   "source": [
    "## The extent of multiple detected CURIes has been reduced ~ 4.5 fold \n",
    "(for soil env_local_scale)\n",
    "\n",
    "Isolate the submitter annotations for which there's clearly one best CURIe after removing the drag-stretches"
   ],
   "id": "55ba8eda9fc69708"
  },
  {
   "cell_type": "code",
   "id": "bb3c0eeb8e919ac5",
   "metadata": {
    "ExecuteTime": {
     "end_time": "2024-12-12T18:35:41.802685Z",
     "start_time": "2024-12-12T18:35:41.798256Z"
    }
   },
   "source": [
    "ncbi_frame.shape"
   ],
   "outputs": [
    {
     "data": {
      "text/plain": [
       "(9692, 16)"
      ]
     },
     "execution_count": 94,
     "metadata": {},
     "output_type": "execute_result"
    }
   ],
   "execution_count": 94
  },
  {
   "cell_type": "code",
   "id": "653df3ac622d4e95",
   "metadata": {
    "ExecuteTime": {
     "end_time": "2024-12-12T18:35:41.810915Z",
     "start_time": "2024-12-12T18:35:41.805060Z"
    }
   },
   "source": [
    "ncbi_frame_undisputed = ncbi_frame[ncbi_frame['dragless_curie_count'] <= 1]"
   ],
   "outputs": [],
   "execution_count": 95
  },
  {
   "cell_type": "code",
   "id": "2abdcbd301b484a9",
   "metadata": {
    "ExecuteTime": {
     "end_time": "2024-12-12T18:35:41.816660Z",
     "start_time": "2024-12-12T18:35:41.812672Z"
    }
   },
   "source": [
    "ncbi_frame_undisputed.shape"
   ],
   "outputs": [
    {
     "data": {
      "text/plain": [
       "(9644, 16)"
      ]
     },
     "execution_count": 96,
     "metadata": {},
     "output_type": "execute_result"
    }
   ],
   "execution_count": 96
  },
  {
   "cell_type": "code",
   "id": "57d0c3c05e88ea1e",
   "metadata": {
    "ExecuteTime": {
     "end_time": "2024-12-12T18:35:41.822415Z",
     "start_time": "2024-12-12T18:35:41.818390Z"
    }
   },
   "source": [
    "ncbi_frame_disputed = ncbi_frame[ncbi_frame['dragless_curie_count'] > 1]"
   ],
   "outputs": [],
   "execution_count": 97
  },
  {
   "cell_type": "code",
   "id": "d0cf6796fedc7f8a",
   "metadata": {
    "ExecuteTime": {
     "end_time": "2024-12-12T18:35:41.828299Z",
     "start_time": "2024-12-12T18:35:41.824052Z"
    }
   },
   "source": [
    "ncbi_frame_disputed.shape"
   ],
   "outputs": [
    {
     "data": {
      "text/plain": [
       "(48, 16)"
      ]
     },
     "execution_count": 98,
     "metadata": {},
     "output_type": "execute_result"
    }
   ],
   "execution_count": 98
  },
  {
   "cell_type": "code",
   "id": "fe33fe1d6d2aad09",
   "metadata": {
    "ExecuteTime": {
     "end_time": "2024-12-12T18:35:41.835558Z",
     "start_time": "2024-12-12T18:35:41.829951Z"
    }
   },
   "source": [
    "ncbi_frame_disputed = ncbi_frame_disputed.explode(\"dragless_curie_list\", ignore_index=True)\n"
   ],
   "outputs": [],
   "execution_count": 99
  },
  {
   "cell_type": "code",
   "id": "f8fe49b93cb12990",
   "metadata": {
    "ExecuteTime": {
     "end_time": "2024-12-12T18:35:41.842132Z",
     "start_time": "2024-12-12T18:35:41.837565Z"
    }
   },
   "source": [
    "ncbi_frame_disputed.shape"
   ],
   "outputs": [
    {
     "data": {
      "text/plain": [
       "(96, 16)"
      ]
     },
     "execution_count": 100,
     "metadata": {},
     "output_type": "execute_result"
    }
   ],
   "execution_count": 100
  },
  {
   "cell_type": "code",
   "id": "6896ca8dd3865cb5",
   "metadata": {
    "ExecuteTime": {
     "end_time": "2024-12-12T18:35:41.846985Z",
     "start_time": "2024-12-12T18:35:41.843507Z"
    }
   },
   "source": [
    "ncbi_frame_disputed[\"dragless_curie_list\"] = ncbi_frame_disputed[\"dragless_curie_list\"].apply(lambda x: [x])"
   ],
   "outputs": [],
   "execution_count": 101
  },
  {
   "metadata": {},
   "cell_type": "markdown",
   "source": "## Just include all of the remaining disputed CURIe assignments",
   "id": "849c8845f5c378e7"
  },
  {
   "cell_type": "code",
   "id": "9a472d228624f148",
   "metadata": {
    "ExecuteTime": {
     "end_time": "2024-12-12T18:35:41.854394Z",
     "start_time": "2024-12-12T18:35:41.848817Z"
    }
   },
   "source": [
    "# Combine the rows of ncbi_frame_undisputed and ncbi_frame_disputed into a new DataFrame\n",
    "ncbi_disputes_exploded_frame = pd.concat([ncbi_frame_undisputed, ncbi_frame_disputed], ignore_index=True)\n"
   ],
   "outputs": [],
   "execution_count": 102
  },
  {
   "cell_type": "code",
   "id": "e772d6db19793ec5",
   "metadata": {
    "ExecuteTime": {
     "end_time": "2024-12-12T18:35:41.860115Z",
     "start_time": "2024-12-12T18:35:41.856003Z"
    }
   },
   "source": [
    "ncbi_disputes_exploded_frame.shape"
   ],
   "outputs": [
    {
     "data": {
      "text/plain": [
       "(9740, 16)"
      ]
     },
     "execution_count": 103,
     "metadata": {},
     "output_type": "execute_result"
    }
   ],
   "execution_count": 103
  },
  {
   "cell_type": "code",
   "id": "ef0b5e69d724d94a",
   "metadata": {
    "ExecuteTime": {
     "end_time": "2024-12-12T18:35:41.882089Z",
     "start_time": "2024-12-12T18:35:41.861637Z"
    }
   },
   "source": [
    "ncbi_disputes_exploded_frame"
   ],
   "outputs": [
    {
     "data": {
      "text/plain": [
       "      serial_number                           content  count  \\\n",
       "0                 1                    not applicable    271   \n",
       "1                 2                           missing    165   \n",
       "2                 3                              lake    136   \n",
       "3                 4          middle and lower reaches    100   \n",
       "4                 5                         shoreline     82   \n",
       "...             ...                               ...    ...   \n",
       "9735           8284            sludge [ENVO:00003043]      1   \n",
       "9736           8590         reservoir [ENVO:00000377]      1   \n",
       "9737           8590         reservoir [ENVO:00000377]      1   \n",
       "9738           8697  River Freshwater [ENVO:01000297]      1   \n",
       "9739           8697  River Freshwater [ENVO:01000297]      1   \n",
       "\n",
       "                          content_list  content_count  envo_count  \\\n",
       "0                       not applicable              1           0   \n",
       "1                              missing              1           0   \n",
       "2                                 lake              1           0   \n",
       "3             middle and lower reaches              1           0   \n",
       "4                            shoreline              1           0   \n",
       "...                                ...            ...         ...   \n",
       "9735            sludge [ENVO:00003043]              1           1   \n",
       "9736         reservoir [ENVO:00000377]              1           1   \n",
       "9737         reservoir [ENVO:00000377]              1           1   \n",
       "9738  River Freshwater [ENVO:01000297]              1           1   \n",
       "9739  River Freshwater [ENVO:01000297]              1           1   \n",
       "\n",
       "               extracted_label extracted_curie        real_label  \\\n",
       "0               not applicable            None              None   \n",
       "1                      missing            None              None   \n",
       "2                         lake            None              None   \n",
       "3     middle and lower reaches            None              None   \n",
       "4                    shoreline            None              None   \n",
       "...                        ...             ...               ...   \n",
       "9735                    sludge   ENVO:00003043      sewage plant   \n",
       "9736                 reservoir   ENVO:00000377   artificial lake   \n",
       "9737                 reservoir   ENVO:00000377   artificial lake   \n",
       "9738          River Freshwater   ENVO:01000297  freshwater river   \n",
       "9739          River Freshwater   ENVO:01000297  freshwater river   \n",
       "\n",
       "     longest_annotation_curie longest_annotation_label  \\\n",
       "0                        None                     None   \n",
       "1                        None                     None   \n",
       "2               ENVO:00000020                     lake   \n",
       "3               ENVO:00000029              watercourse   \n",
       "4               ENVO:00000486                shoreline   \n",
       "...                       ...                      ...   \n",
       "9735            ENVO:00002044                   sludge   \n",
       "9736            ENVO:00000025                reservoir   \n",
       "9737            ENVO:00000025                reservoir   \n",
       "9738            ENVO:00002011              fresh water   \n",
       "9739            ENVO:00002011              fresh water   \n",
       "\n",
       "                          curie_list  unique_curie_count drag_evidence  \\\n",
       "0                                 []                   0           NaN   \n",
       "1                                 []                   0           NaN   \n",
       "2                    [ENVO:00000020]                   1           NaN   \n",
       "3                    [ENVO:00000029]                   1           NaN   \n",
       "4                    [ENVO:00000486]                   1           NaN   \n",
       "...                              ...                 ...           ...   \n",
       "9735  [ENVO:00002044, ENVO:00003043]                   2           NaN   \n",
       "9736  [ENVO:00000377, ENVO:00000025]                   2           NaN   \n",
       "9737  [ENVO:00000377, ENVO:00000025]                   2           NaN   \n",
       "9738  [ENVO:01000297, ENVO:00002011]                   2           NaN   \n",
       "9739  [ENVO:01000297, ENVO:00002011]                   2           NaN   \n",
       "\n",
       "     dragless_curie_list  dragless_curie_count  \n",
       "0                     []                     0  \n",
       "1                     []                     0  \n",
       "2        [ENVO:00000020]                     1  \n",
       "3        [ENVO:00000029]                     1  \n",
       "4        [ENVO:00000486]                     1  \n",
       "...                  ...                   ...  \n",
       "9735     [ENVO:00003043]                     2  \n",
       "9736     [ENVO:00000377]                     2  \n",
       "9737     [ENVO:00000025]                     2  \n",
       "9738     [ENVO:01000297]                     2  \n",
       "9739     [ENVO:00002011]                     2  \n",
       "\n",
       "[9740 rows x 16 columns]"
      ],
      "text/html": [
       "<div>\n",
       "<style scoped>\n",
       "    .dataframe tbody tr th:only-of-type {\n",
       "        vertical-align: middle;\n",
       "    }\n",
       "\n",
       "    .dataframe tbody tr th {\n",
       "        vertical-align: top;\n",
       "    }\n",
       "\n",
       "    .dataframe thead th {\n",
       "        text-align: right;\n",
       "    }\n",
       "</style>\n",
       "<table border=\"1\" class=\"dataframe\">\n",
       "  <thead>\n",
       "    <tr style=\"text-align: right;\">\n",
       "      <th></th>\n",
       "      <th>serial_number</th>\n",
       "      <th>content</th>\n",
       "      <th>count</th>\n",
       "      <th>content_list</th>\n",
       "      <th>content_count</th>\n",
       "      <th>envo_count</th>\n",
       "      <th>extracted_label</th>\n",
       "      <th>extracted_curie</th>\n",
       "      <th>real_label</th>\n",
       "      <th>longest_annotation_curie</th>\n",
       "      <th>longest_annotation_label</th>\n",
       "      <th>curie_list</th>\n",
       "      <th>unique_curie_count</th>\n",
       "      <th>drag_evidence</th>\n",
       "      <th>dragless_curie_list</th>\n",
       "      <th>dragless_curie_count</th>\n",
       "    </tr>\n",
       "  </thead>\n",
       "  <tbody>\n",
       "    <tr>\n",
       "      <th>0</th>\n",
       "      <td>1</td>\n",
       "      <td>not applicable</td>\n",
       "      <td>271</td>\n",
       "      <td>not applicable</td>\n",
       "      <td>1</td>\n",
       "      <td>0</td>\n",
       "      <td>not applicable</td>\n",
       "      <td>None</td>\n",
       "      <td>None</td>\n",
       "      <td>None</td>\n",
       "      <td>None</td>\n",
       "      <td>[]</td>\n",
       "      <td>0</td>\n",
       "      <td>NaN</td>\n",
       "      <td>[]</td>\n",
       "      <td>0</td>\n",
       "    </tr>\n",
       "    <tr>\n",
       "      <th>1</th>\n",
       "      <td>2</td>\n",
       "      <td>missing</td>\n",
       "      <td>165</td>\n",
       "      <td>missing</td>\n",
       "      <td>1</td>\n",
       "      <td>0</td>\n",
       "      <td>missing</td>\n",
       "      <td>None</td>\n",
       "      <td>None</td>\n",
       "      <td>None</td>\n",
       "      <td>None</td>\n",
       "      <td>[]</td>\n",
       "      <td>0</td>\n",
       "      <td>NaN</td>\n",
       "      <td>[]</td>\n",
       "      <td>0</td>\n",
       "    </tr>\n",
       "    <tr>\n",
       "      <th>2</th>\n",
       "      <td>3</td>\n",
       "      <td>lake</td>\n",
       "      <td>136</td>\n",
       "      <td>lake</td>\n",
       "      <td>1</td>\n",
       "      <td>0</td>\n",
       "      <td>lake</td>\n",
       "      <td>None</td>\n",
       "      <td>None</td>\n",
       "      <td>ENVO:00000020</td>\n",
       "      <td>lake</td>\n",
       "      <td>[ENVO:00000020]</td>\n",
       "      <td>1</td>\n",
       "      <td>NaN</td>\n",
       "      <td>[ENVO:00000020]</td>\n",
       "      <td>1</td>\n",
       "    </tr>\n",
       "    <tr>\n",
       "      <th>3</th>\n",
       "      <td>4</td>\n",
       "      <td>middle and lower reaches</td>\n",
       "      <td>100</td>\n",
       "      <td>middle and lower reaches</td>\n",
       "      <td>1</td>\n",
       "      <td>0</td>\n",
       "      <td>middle and lower reaches</td>\n",
       "      <td>None</td>\n",
       "      <td>None</td>\n",
       "      <td>ENVO:00000029</td>\n",
       "      <td>watercourse</td>\n",
       "      <td>[ENVO:00000029]</td>\n",
       "      <td>1</td>\n",
       "      <td>NaN</td>\n",
       "      <td>[ENVO:00000029]</td>\n",
       "      <td>1</td>\n",
       "    </tr>\n",
       "    <tr>\n",
       "      <th>4</th>\n",
       "      <td>5</td>\n",
       "      <td>shoreline</td>\n",
       "      <td>82</td>\n",
       "      <td>shoreline</td>\n",
       "      <td>1</td>\n",
       "      <td>0</td>\n",
       "      <td>shoreline</td>\n",
       "      <td>None</td>\n",
       "      <td>None</td>\n",
       "      <td>ENVO:00000486</td>\n",
       "      <td>shoreline</td>\n",
       "      <td>[ENVO:00000486]</td>\n",
       "      <td>1</td>\n",
       "      <td>NaN</td>\n",
       "      <td>[ENVO:00000486]</td>\n",
       "      <td>1</td>\n",
       "    </tr>\n",
       "    <tr>\n",
       "      <th>...</th>\n",
       "      <td>...</td>\n",
       "      <td>...</td>\n",
       "      <td>...</td>\n",
       "      <td>...</td>\n",
       "      <td>...</td>\n",
       "      <td>...</td>\n",
       "      <td>...</td>\n",
       "      <td>...</td>\n",
       "      <td>...</td>\n",
       "      <td>...</td>\n",
       "      <td>...</td>\n",
       "      <td>...</td>\n",
       "      <td>...</td>\n",
       "      <td>...</td>\n",
       "      <td>...</td>\n",
       "      <td>...</td>\n",
       "    </tr>\n",
       "    <tr>\n",
       "      <th>9735</th>\n",
       "      <td>8284</td>\n",
       "      <td>sludge [ENVO:00003043]</td>\n",
       "      <td>1</td>\n",
       "      <td>sludge [ENVO:00003043]</td>\n",
       "      <td>1</td>\n",
       "      <td>1</td>\n",
       "      <td>sludge</td>\n",
       "      <td>ENVO:00003043</td>\n",
       "      <td>sewage plant</td>\n",
       "      <td>ENVO:00002044</td>\n",
       "      <td>sludge</td>\n",
       "      <td>[ENVO:00002044, ENVO:00003043]</td>\n",
       "      <td>2</td>\n",
       "      <td>NaN</td>\n",
       "      <td>[ENVO:00003043]</td>\n",
       "      <td>2</td>\n",
       "    </tr>\n",
       "    <tr>\n",
       "      <th>9736</th>\n",
       "      <td>8590</td>\n",
       "      <td>reservoir [ENVO:00000377]</td>\n",
       "      <td>1</td>\n",
       "      <td>reservoir [ENVO:00000377]</td>\n",
       "      <td>1</td>\n",
       "      <td>1</td>\n",
       "      <td>reservoir</td>\n",
       "      <td>ENVO:00000377</td>\n",
       "      <td>artificial lake</td>\n",
       "      <td>ENVO:00000025</td>\n",
       "      <td>reservoir</td>\n",
       "      <td>[ENVO:00000377, ENVO:00000025]</td>\n",
       "      <td>2</td>\n",
       "      <td>NaN</td>\n",
       "      <td>[ENVO:00000377]</td>\n",
       "      <td>2</td>\n",
       "    </tr>\n",
       "    <tr>\n",
       "      <th>9737</th>\n",
       "      <td>8590</td>\n",
       "      <td>reservoir [ENVO:00000377]</td>\n",
       "      <td>1</td>\n",
       "      <td>reservoir [ENVO:00000377]</td>\n",
       "      <td>1</td>\n",
       "      <td>1</td>\n",
       "      <td>reservoir</td>\n",
       "      <td>ENVO:00000377</td>\n",
       "      <td>artificial lake</td>\n",
       "      <td>ENVO:00000025</td>\n",
       "      <td>reservoir</td>\n",
       "      <td>[ENVO:00000377, ENVO:00000025]</td>\n",
       "      <td>2</td>\n",
       "      <td>NaN</td>\n",
       "      <td>[ENVO:00000025]</td>\n",
       "      <td>2</td>\n",
       "    </tr>\n",
       "    <tr>\n",
       "      <th>9738</th>\n",
       "      <td>8697</td>\n",
       "      <td>River Freshwater [ENVO:01000297]</td>\n",
       "      <td>1</td>\n",
       "      <td>River Freshwater [ENVO:01000297]</td>\n",
       "      <td>1</td>\n",
       "      <td>1</td>\n",
       "      <td>River Freshwater</td>\n",
       "      <td>ENVO:01000297</td>\n",
       "      <td>freshwater river</td>\n",
       "      <td>ENVO:00002011</td>\n",
       "      <td>fresh water</td>\n",
       "      <td>[ENVO:01000297, ENVO:00002011]</td>\n",
       "      <td>2</td>\n",
       "      <td>NaN</td>\n",
       "      <td>[ENVO:01000297]</td>\n",
       "      <td>2</td>\n",
       "    </tr>\n",
       "    <tr>\n",
       "      <th>9739</th>\n",
       "      <td>8697</td>\n",
       "      <td>River Freshwater [ENVO:01000297]</td>\n",
       "      <td>1</td>\n",
       "      <td>River Freshwater [ENVO:01000297]</td>\n",
       "      <td>1</td>\n",
       "      <td>1</td>\n",
       "      <td>River Freshwater</td>\n",
       "      <td>ENVO:01000297</td>\n",
       "      <td>freshwater river</td>\n",
       "      <td>ENVO:00002011</td>\n",
       "      <td>fresh water</td>\n",
       "      <td>[ENVO:01000297, ENVO:00002011]</td>\n",
       "      <td>2</td>\n",
       "      <td>NaN</td>\n",
       "      <td>[ENVO:00002011]</td>\n",
       "      <td>2</td>\n",
       "    </tr>\n",
       "  </tbody>\n",
       "</table>\n",
       "<p>9740 rows × 16 columns</p>\n",
       "</div>"
      ]
     },
     "execution_count": 104,
     "metadata": {},
     "output_type": "execute_result"
    }
   ],
   "execution_count": 104
  },
  {
   "cell_type": "code",
   "id": "be53a584475499b5",
   "metadata": {
    "ExecuteTime": {
     "end_time": "2024-12-12T18:35:41.889911Z",
     "start_time": "2024-12-12T18:35:41.883623Z"
    }
   },
   "source": [
    "ncbi_disputes_exploded_frame['post_explode_curie_count'] = ncbi_disputes_exploded_frame['dragless_curie_list'].apply(len)"
   ],
   "outputs": [],
   "execution_count": 105
  },
  {
   "cell_type": "code",
   "id": "e0c0605a4ca28188",
   "metadata": {
    "ExecuteTime": {
     "end_time": "2024-12-12T18:35:41.896722Z",
     "start_time": "2024-12-12T18:35:41.891624Z"
    }
   },
   "source": [
    "ncbi_disputes_exploded_frame['post_explode_curie_count'].value_counts()"
   ],
   "outputs": [
    {
     "data": {
      "text/plain": [
       "post_explode_curie_count\n",
       "1    7061\n",
       "0    2679\n",
       "Name: count, dtype: int64"
      ]
     },
     "execution_count": 106,
     "metadata": {},
     "output_type": "execute_result"
    }
   ],
   "execution_count": 106
  },
  {
   "cell_type": "code",
   "id": "396e48f3cea80587",
   "metadata": {
    "ExecuteTime": {
     "end_time": "2024-12-12T18:35:41.905156Z",
     "start_time": "2024-12-12T18:35:41.898235Z"
    }
   },
   "source": [
    "# Set 'post_explode_curie' to the 0th item in 'dragless_curie_list'\n",
    "ncbi_disputes_exploded_frame[\"post_explode_curie\"] = ncbi_disputes_exploded_frame[\"dragless_curie_list\"].apply(\n",
    "    lambda x: x[0] if isinstance(x, list) and len(x) > 0 else None\n",
    ")"
   ],
   "outputs": [],
   "execution_count": 107
  },
  {
   "cell_type": "code",
   "id": "1e488764b4212b75",
   "metadata": {
    "ExecuteTime": {
     "end_time": "2024-12-12T18:35:41.913630Z",
     "start_time": "2024-12-12T18:35:41.906772Z"
    }
   },
   "source": [
    "\n",
    "ncbi_biosample_scoped_counts = (\n",
    "    ncbi_disputes_exploded_frame.groupby(\"post_explode_curie\")[\"count\"].sum().reset_index()\n",
    ")\n",
    "\n",
    "# todo parameterize the column name based on what was really counted, generally biosamples or bioprojects\n",
    "ncbi_biosample_scoped_counts.columns = ['curie', 'ncbi_bioporjects_count']"
   ],
   "outputs": [],
   "execution_count": 108
  },
  {
   "metadata": {},
   "cell_type": "markdown",
   "source": "This is currently a count of Biosamples for which the indicated CURIes can be extracted or inferred by oaklib annotation, after removal of drag-stretch, auto-incremented CURIes",
   "id": "de29981308f4d74c"
  },
  {
   "cell_type": "code",
   "id": "916cfcc3c7aa0d34",
   "metadata": {
    "ExecuteTime": {
     "end_time": "2024-12-12T18:35:41.923110Z",
     "start_time": "2024-12-12T18:35:41.915172Z"
    }
   },
   "source": [
    "ncbi_biosample_scoped_counts"
   ],
   "outputs": [
    {
     "data": {
      "text/plain": [
       "               curie  ncbi_bioporjects_count\n",
       "0        BFO:0000015                       4\n",
       "1        BFO:0000029                     108\n",
       "2        BFO:0000030                       1\n",
       "3        CHEBI:15377                     391\n",
       "4        CHEBI:15379                      18\n",
       "...              ...                     ...\n",
       "1135  UBERON:0000912                       1\n",
       "1136  UBERON:0000955                       1\n",
       "1137  UBERON:0001088                       1\n",
       "1138  UBERON:0001769                       1\n",
       "1139  UBERON:0002416                      63\n",
       "\n",
       "[1140 rows x 2 columns]"
      ],
      "text/html": [
       "<div>\n",
       "<style scoped>\n",
       "    .dataframe tbody tr th:only-of-type {\n",
       "        vertical-align: middle;\n",
       "    }\n",
       "\n",
       "    .dataframe tbody tr th {\n",
       "        vertical-align: top;\n",
       "    }\n",
       "\n",
       "    .dataframe thead th {\n",
       "        text-align: right;\n",
       "    }\n",
       "</style>\n",
       "<table border=\"1\" class=\"dataframe\">\n",
       "  <thead>\n",
       "    <tr style=\"text-align: right;\">\n",
       "      <th></th>\n",
       "      <th>curie</th>\n",
       "      <th>ncbi_bioporjects_count</th>\n",
       "    </tr>\n",
       "  </thead>\n",
       "  <tbody>\n",
       "    <tr>\n",
       "      <th>0</th>\n",
       "      <td>BFO:0000015</td>\n",
       "      <td>4</td>\n",
       "    </tr>\n",
       "    <tr>\n",
       "      <th>1</th>\n",
       "      <td>BFO:0000029</td>\n",
       "      <td>108</td>\n",
       "    </tr>\n",
       "    <tr>\n",
       "      <th>2</th>\n",
       "      <td>BFO:0000030</td>\n",
       "      <td>1</td>\n",
       "    </tr>\n",
       "    <tr>\n",
       "      <th>3</th>\n",
       "      <td>CHEBI:15377</td>\n",
       "      <td>391</td>\n",
       "    </tr>\n",
       "    <tr>\n",
       "      <th>4</th>\n",
       "      <td>CHEBI:15379</td>\n",
       "      <td>18</td>\n",
       "    </tr>\n",
       "    <tr>\n",
       "      <th>...</th>\n",
       "      <td>...</td>\n",
       "      <td>...</td>\n",
       "    </tr>\n",
       "    <tr>\n",
       "      <th>1135</th>\n",
       "      <td>UBERON:0000912</td>\n",
       "      <td>1</td>\n",
       "    </tr>\n",
       "    <tr>\n",
       "      <th>1136</th>\n",
       "      <td>UBERON:0000955</td>\n",
       "      <td>1</td>\n",
       "    </tr>\n",
       "    <tr>\n",
       "      <th>1137</th>\n",
       "      <td>UBERON:0001088</td>\n",
       "      <td>1</td>\n",
       "    </tr>\n",
       "    <tr>\n",
       "      <th>1138</th>\n",
       "      <td>UBERON:0001769</td>\n",
       "      <td>1</td>\n",
       "    </tr>\n",
       "    <tr>\n",
       "      <th>1139</th>\n",
       "      <td>UBERON:0002416</td>\n",
       "      <td>63</td>\n",
       "    </tr>\n",
       "  </tbody>\n",
       "</table>\n",
       "<p>1140 rows × 2 columns</p>\n",
       "</div>"
      ]
     },
     "execution_count": 109,
     "metadata": {},
     "output_type": "execute_result"
    }
   ],
   "execution_count": 109
  },
  {
   "metadata": {},
   "cell_type": "markdown",
   "source": [
    "## GOLDTERMS mappings only approach\n",
    "\n",
    "we're currently including\n",
    "- mappings only\n",
    "\n",
    "and have retired the previous use of\n",
    "- mappings in hybrid with biosample counts\n",
    "\n",
    "And we're casting a wide net, especially for the hybrid approach\n",
    "- searching for 'soil', 'sediment' etc. in GOLDTERMS labels without anchoring them like 'Environmental > Aquatic > Sediment'\n",
    "- retrieving the CURIes for env_broad_scale, env_local_scale and env_medium for all voting sheets, and trusting orthogonal filtering to remove the inappropriate CURIes\n",
    "\n",
    "Should we now add (or switch to) direct biosample counts of GOLD \"envo\" annotations?\n",
    "\n",
    "Efficient retrieval of  all GOLD data in a given scope isn't easy"
   ],
   "id": "54ef0d1be4a1dea9"
  },
  {
   "metadata": {
    "ExecuteTime": {
     "end_time": "2024-12-12T18:35:41.928425Z",
     "start_time": "2024-12-12T18:35:41.924513Z"
    }
   },
   "cell_type": "code",
   "source": [
    "# Determine the filenames and target directory\n",
    "goldterms_compressed_filename = urlparse(goldterms_semsql_url).path.split('/')[-1]\n",
    "goldterms_filename = os.path.splitext(goldterms_compressed_filename)[0]\n",
    "target_dir = os.path.join(\"..\", \"..\")  # Two levels up\n",
    "\n",
    "# Print to confirm the filenames\n",
    "print(goldterms_filename)"
   ],
   "id": "40f8fc6862a817f3",
   "outputs": [
    {
     "name": "stdout",
     "output_type": "stream",
     "text": [
      "goldterms.db\n"
     ]
    }
   ],
   "execution_count": 110
  },
  {
   "metadata": {
    "ExecuteTime": {
     "end_time": "2024-12-12T18:35:42.434434Z",
     "start_time": "2024-12-12T18:35:41.930010Z"
    }
   },
   "cell_type": "code",
   "source": [
    "# Fetch the contents from the URL and save compressed file in target directory\n",
    "goldterms_response = requests.get(goldterms_semsql_url)\n",
    "goldterms_compressed_file_path = os.path.join(target_dir, goldterms_compressed_filename)\n",
    "with open(goldterms_compressed_file_path, \"wb\") as f:\n",
    "    f.write(goldterms_response.content)\n",
    "\n",
    "# ~ 1 second"
   ],
   "id": "784c07d7b6bee4c2",
   "outputs": [],
   "execution_count": 111
  },
  {
   "metadata": {
    "ExecuteTime": {
     "end_time": "2024-12-12T18:35:42.479310Z",
     "start_time": "2024-12-12T18:35:42.436460Z"
    }
   },
   "cell_type": "code",
   "source": [
    "# Unzip the compressed file and save the extracted file in target directory\n",
    "goldterms_uncompressed_file_path = os.path.join(target_dir, goldterms_filename)\n",
    "with gzip.open(goldterms_compressed_file_path, \"rb\") as f_in:\n",
    "    with open(goldterms_uncompressed_file_path, \"wb\") as f_out:\n",
    "        shutil.copyfileobj(f_in, f_out)\n",
    "\n",
    "# ~ 1 second"
   ],
   "id": "cd765130d59cd026",
   "outputs": [],
   "execution_count": 112
  },
  {
   "metadata": {
    "ExecuteTime": {
     "end_time": "2024-12-12T18:35:42.483781Z",
     "start_time": "2024-12-12T18:35:42.480995Z"
    }
   },
   "cell_type": "code",
   "source": "## that's all fast. don't bother caching",
   "id": "fd2fab3ddcf862ce",
   "outputs": [],
   "execution_count": 113
  },
  {
   "metadata": {
    "ExecuteTime": {
     "end_time": "2024-12-12T18:35:42.488346Z",
     "start_time": "2024-12-12T18:35:42.485557Z"
    }
   },
   "cell_type": "code",
   "source": "goldterms_conn = sqlite3.connect(goldterms_uncompressed_file_path)",
   "id": "dcf847a3c2ed302d",
   "outputs": [],
   "execution_count": 114
  },
  {
   "metadata": {
    "ExecuteTime": {
     "end_time": "2024-12-12T18:35:42.504741Z",
     "start_time": "2024-12-12T18:35:42.490179Z"
    }
   },
   "cell_type": "code",
   "source": "goldterms_result = pd.read_sql_query(extension_query, goldterms_conn)",
   "id": "beacc603e5db48b3",
   "outputs": [],
   "execution_count": 115
  },
  {
   "metadata": {
    "ExecuteTime": {
     "end_time": "2024-12-12T18:35:42.515285Z",
     "start_time": "2024-12-12T18:35:42.506361Z"
    }
   },
   "cell_type": "code",
   "source": "goldterms_result",
   "id": "85e373122e14f6dc",
   "outputs": [
    {
     "data": {
      "text/plain": [
       "                                               subject        predicate  \\\n",
       "0           GOLDTERMS:Environmental-Aquatic-Floodplain   mixs:env_broad   \n",
       "1           GOLDTERMS:Environmental-Aquatic-Floodplain   mixs:env_local   \n",
       "2           GOLDTERMS:Environmental-Aquatic-Floodplain       rdfs:label   \n",
       "3    GOLDTERMS:Environmental-Aquatic-Freshwater-Aqu...   mixs:env_broad   \n",
       "4    GOLDTERMS:Environmental-Aquatic-Freshwater-Aqu...  mixs:env_medium   \n",
       "..                                                 ...              ...   \n",
       "570                                     GOLDTERMS:5807       rdfs:label   \n",
       "571                                     GOLDTERMS:5825   mixs:env_broad   \n",
       "572                                     GOLDTERMS:5825   mixs:env_local   \n",
       "573                                     GOLDTERMS:5825       rdfs:label   \n",
       "574                                  GOLDVOCAB:Aquatic       rdfs:label   \n",
       "\n",
       "                                               content  \n",
       "0                                        ENVO:00002030  \n",
       "1                                        ENVO:00000255  \n",
       "2                 Environmental > Aquatic > Floodplain  \n",
       "3                                        ENVO:00002030  \n",
       "4                                        ENVO:00002011  \n",
       "..                                                 ...  \n",
       "570  Environmental > Aquatic > Non-marine Saline an...  \n",
       "571                                      ENVO:00000447  \n",
       "572                                      ENVO:01000687  \n",
       "573  Environmental > Aquatic > Marine > Coastal > P...  \n",
       "574                                            Aquatic  \n",
       "\n",
       "[575 rows x 3 columns]"
      ],
      "text/html": [
       "<div>\n",
       "<style scoped>\n",
       "    .dataframe tbody tr th:only-of-type {\n",
       "        vertical-align: middle;\n",
       "    }\n",
       "\n",
       "    .dataframe tbody tr th {\n",
       "        vertical-align: top;\n",
       "    }\n",
       "\n",
       "    .dataframe thead th {\n",
       "        text-align: right;\n",
       "    }\n",
       "</style>\n",
       "<table border=\"1\" class=\"dataframe\">\n",
       "  <thead>\n",
       "    <tr style=\"text-align: right;\">\n",
       "      <th></th>\n",
       "      <th>subject</th>\n",
       "      <th>predicate</th>\n",
       "      <th>content</th>\n",
       "    </tr>\n",
       "  </thead>\n",
       "  <tbody>\n",
       "    <tr>\n",
       "      <th>0</th>\n",
       "      <td>GOLDTERMS:Environmental-Aquatic-Floodplain</td>\n",
       "      <td>mixs:env_broad</td>\n",
       "      <td>ENVO:00002030</td>\n",
       "    </tr>\n",
       "    <tr>\n",
       "      <th>1</th>\n",
       "      <td>GOLDTERMS:Environmental-Aquatic-Floodplain</td>\n",
       "      <td>mixs:env_local</td>\n",
       "      <td>ENVO:00000255</td>\n",
       "    </tr>\n",
       "    <tr>\n",
       "      <th>2</th>\n",
       "      <td>GOLDTERMS:Environmental-Aquatic-Floodplain</td>\n",
       "      <td>rdfs:label</td>\n",
       "      <td>Environmental &gt; Aquatic &gt; Floodplain</td>\n",
       "    </tr>\n",
       "    <tr>\n",
       "      <th>3</th>\n",
       "      <td>GOLDTERMS:Environmental-Aquatic-Freshwater-Aqu...</td>\n",
       "      <td>mixs:env_broad</td>\n",
       "      <td>ENVO:00002030</td>\n",
       "    </tr>\n",
       "    <tr>\n",
       "      <th>4</th>\n",
       "      <td>GOLDTERMS:Environmental-Aquatic-Freshwater-Aqu...</td>\n",
       "      <td>mixs:env_medium</td>\n",
       "      <td>ENVO:00002011</td>\n",
       "    </tr>\n",
       "    <tr>\n",
       "      <th>...</th>\n",
       "      <td>...</td>\n",
       "      <td>...</td>\n",
       "      <td>...</td>\n",
       "    </tr>\n",
       "    <tr>\n",
       "      <th>570</th>\n",
       "      <td>GOLDTERMS:5807</td>\n",
       "      <td>rdfs:label</td>\n",
       "      <td>Environmental &gt; Aquatic &gt; Non-marine Saline an...</td>\n",
       "    </tr>\n",
       "    <tr>\n",
       "      <th>571</th>\n",
       "      <td>GOLDTERMS:5825</td>\n",
       "      <td>mixs:env_broad</td>\n",
       "      <td>ENVO:00000447</td>\n",
       "    </tr>\n",
       "    <tr>\n",
       "      <th>572</th>\n",
       "      <td>GOLDTERMS:5825</td>\n",
       "      <td>mixs:env_local</td>\n",
       "      <td>ENVO:01000687</td>\n",
       "    </tr>\n",
       "    <tr>\n",
       "      <th>573</th>\n",
       "      <td>GOLDTERMS:5825</td>\n",
       "      <td>rdfs:label</td>\n",
       "      <td>Environmental &gt; Aquatic &gt; Marine &gt; Coastal &gt; P...</td>\n",
       "    </tr>\n",
       "    <tr>\n",
       "      <th>574</th>\n",
       "      <td>GOLDVOCAB:Aquatic</td>\n",
       "      <td>rdfs:label</td>\n",
       "      <td>Aquatic</td>\n",
       "    </tr>\n",
       "  </tbody>\n",
       "</table>\n",
       "<p>575 rows × 3 columns</p>\n",
       "</div>"
      ]
     },
     "execution_count": 116,
     "metadata": {},
     "output_type": "execute_result"
    }
   ],
   "execution_count": 116
  },
  {
   "metadata": {
    "ExecuteTime": {
     "end_time": "2024-12-12T18:35:42.520826Z",
     "start_time": "2024-12-12T18:35:42.516938Z"
    }
   },
   "cell_type": "code",
   "source": [
    "# # todo: save this kind of content before subsetting on an environment\n",
    "# #   the subsetting is currently baked into the query\n",
    "# \n",
    "# # see also goldterms_queries.ipynb in MAM's Collab\n",
    "# goldterms_result.to_csv(\"goldterms_single_environment_mappings_long.tsv\", sep=\"\\t\", index=False)"
   ],
   "id": "859a87109b08d83c",
   "outputs": [],
   "execution_count": 117
  },
  {
   "metadata": {
    "ExecuteTime": {
     "end_time": "2024-12-12T18:35:42.526906Z",
     "start_time": "2024-12-12T18:35:42.522969Z"
    }
   },
   "cell_type": "code",
   "source": "goldterms_only_curies = goldterms_result.loc[goldterms_result['predicate'].isin(gold_context_selectors), 'content']\n",
   "id": "391d1fb9314d4b0b",
   "outputs": [],
   "execution_count": 118
  },
  {
   "metadata": {
    "ExecuteTime": {
     "end_time": "2024-12-12T18:35:42.532018Z",
     "start_time": "2024-12-12T18:35:42.528786Z"
    }
   },
   "cell_type": "code",
   "source": "goldterms_only_curies = goldterms_only_curies.unique().tolist()",
   "id": "b5621477ccaaa761",
   "outputs": [],
   "execution_count": 119
  },
  {
   "metadata": {
    "ExecuteTime": {
     "end_time": "2024-12-12T18:35:42.536331Z",
     "start_time": "2024-12-12T18:35:42.533424Z"
    }
   },
   "cell_type": "code",
   "source": "# goldterms_only_curies",
   "id": "70238d1c8e144cc3",
   "outputs": [],
   "execution_count": 120
  },
  {
   "metadata": {},
   "cell_type": "markdown",
   "source": [
    "# Make lists of CURIEs\n",
    "which will determine\n",
    "- the rows in the table\n",
    "- the boolean filter columns"
   ],
   "id": "8541580a525201e3"
  },
  {
   "metadata": {
    "ExecuteTime": {
     "end_time": "2024-12-12T18:35:43.523498Z",
     "start_time": "2024-12-12T18:35:42.537966Z"
    }
   },
   "cell_type": "code",
   "source": [
    "anchor_curies = list(anchor_descendants_frame['curie'])\n",
    "legacy_pv_curies = [i['curie'] for i in pv_validation_results['valids']]\n",
    "\n",
    "biome_curies = list(envo_adapter.descendants(BIOME, predicates=[IS_A])) # \n",
    "terrestrial_biome_curies = list(envo_adapter.descendants(TERRESTRIAL_BIOME, predicates=[IS_A]))\n",
    "aquatic_biome_curies = list(envo_adapter.descendants(AQUATIC_BIOME, predicates=[IS_A]))\n",
    "abp_curies = list(envo_adapter.descendants(ABP, predicates=[IS_A]))\n",
    "env_sys_curies = list(envo_adapter.descendants(ENVIRONMENTAL_SYSTEM, predicates=[IS_A]))\n",
    "env_mat_curies = list(envo_adapter.descendants(ENVIRONMENTAL_MATERIAL, predicates=[IS_A]))\n",
    "obsoletes_curies = list(envo_adapter.obsoletes())\n",
    "\n",
    "soil_curies = list(envo_adapter.descendants(SOIL, predicates=[IS_A])) # \n",
    "liquid_water_curies = list(envo_adapter.descendants(LIQUID_WATER, predicates=[IS_A])) # \n",
    "water_ice_curies = list(envo_adapter.descendants(WATER_ICE, predicates=[IS_A])) # \n",
    "\n",
    "human_construction_curies = list(envo_adapter.descendants(HUMAN_CONSTRUCTION, predicates=[IS_A])) #\n",
    "building_curies = list(envo_adapter.descendants(BUILDING, predicates=[IS_A])) #\n",
    "building_part_curies = list(envo_adapter.descendants(BUILDING_PART, predicates=[IS_A])) #\n"
   ],
   "id": "beb69545a9255099",
   "outputs": [],
   "execution_count": 121
  },
  {
   "metadata": {
    "ExecuteTime": {
     "end_time": "2024-12-12T18:35:43.533343Z",
     "start_time": "2024-12-12T18:35:43.525678Z"
    }
   },
   "cell_type": "code",
   "source": [
    "# Specify an output file name\n",
    "nlcd2011_class_iris_file = \"nlcd2011_class_iris.txt\"\n",
    "\n",
    "nlcd_subset_textual_representation = \"nlcd2011\"\n",
    "\n",
    "in_subset_curie = \"oio:inSubset\"\n",
    "\n",
    "\n",
    "# Initialize nlcd_classes\n",
    "nlcd_classes = []\n",
    "\n",
    "if os.path.exists(nlcd2011_class_iris_file):\n",
    "    # Load the list from the file if it exists\n",
    "    print(f\"Loading {nlcd_subset_textual_representation} classes from {nlcd2011_class_iris_file}...\")\n",
    "    with open(nlcd2011_class_iris_file, \"r\") as file:\n",
    "        nlcd_classes = [line.strip() for line in file.readlines()]\n",
    "else:\n",
    "    # File doesn't exist; generate the list using the loop\n",
    "    print(f\"{nlcd2011_class_iris_file} not found. Identifying classes in {nlcd_subset_textual_representation} subset (~2 minutes)...\")\n",
    "\n",
    "    # Retrieve all classes\n",
    "    entities = envo_adapter.entities()\n",
    "\n",
    "    # super slow 2 minutes\n",
    "    # but retrieving classes by named subset seems to crash on EnvO with its textual subsets?\n",
    "    for entity in entities:\n",
    "        term_metadata = envo_adapter.entity_metadata_map(entity)\n",
    "        if in_subset_curie in term_metadata:\n",
    "            subsets = term_metadata[in_subset_curie]\n",
    "            if nlcd_subset_textual_representation in subsets:\n",
    "                nlcd_classes.append(entity)\n",
    "\n",
    "    # Save the generated list to the file\n",
    "    with open(nlcd2011_class_iris_file, \"w\") as file:\n",
    "        for string in nlcd_classes:\n",
    "            file.write(string + \"\\n\")\n",
    "\n",
    "    print(f\"List saved to {nlcd2011_class_iris_file}\")\n",
    "\n",
    "# At this point, nlcd_classes contains the desired list\n",
    "print(f\"Total {nlcd_subset_textual_representation} classes loaded: {len(nlcd_classes)}\")\n"
   ],
   "id": "f863c6e4a8e77c74",
   "outputs": [
    {
     "name": "stdout",
     "output_type": "stream",
     "text": [
      "Loading nlcd2011 classes from nlcd2011_class_iris.txt...\n",
      "Total nlcd2011 classes loaded: 22\n"
     ]
    }
   ],
   "execution_count": 122
  },
  {
   "metadata": {},
   "cell_type": "markdown",
   "source": "## Bootstrap the rows",
   "id": "1318a3f163d8cb19"
  },
  {
   "metadata": {
    "ExecuteTime": {
     "end_time": "2024-12-12T18:35:43.538208Z",
     "start_time": "2024-12-12T18:35:43.535143Z"
    }
   },
   "cell_type": "code",
   "source": "include_in_rows = set()",
   "id": "20a9dcc52b995762",
   "outputs": [],
   "execution_count": 123
  },
  {
   "metadata": {
    "ExecuteTime": {
     "end_time": "2024-12-12T18:35:43.543178Z",
     "start_time": "2024-12-12T18:35:43.539970Z"
    }
   },
   "cell_type": "code",
   "source": "include_in_rows.update(anchor_curies)",
   "id": "2c3e280c36ed9b91",
   "outputs": [],
   "execution_count": 124
  },
  {
   "metadata": {
    "ExecuteTime": {
     "end_time": "2024-12-12T18:35:43.548129Z",
     "start_time": "2024-12-12T18:35:43.545141Z"
    }
   },
   "cell_type": "code",
   "source": "include_in_rows.update(legacy_pv_curies)",
   "id": "422c62627b450632",
   "outputs": [],
   "execution_count": 125
  },
  {
   "metadata": {
    "ExecuteTime": {
     "end_time": "2024-12-12T18:35:43.554078Z",
     "start_time": "2024-12-12T18:35:43.550266Z"
    }
   },
   "cell_type": "code",
   "source": "include_in_rows.update(nmdc_biosample_contexts_frame[nmdc_context_selector])",
   "id": "e279a2edf1fa4935",
   "outputs": [],
   "execution_count": 126
  },
  {
   "metadata": {
    "ExecuteTime": {
     "end_time": "2024-12-12T18:35:43.561313Z",
     "start_time": "2024-12-12T18:35:43.556057Z"
    }
   },
   "cell_type": "code",
   "source": "include_in_rows.update(ncbi_frame['extracted_curie'])",
   "id": "7e4be4b7ae64e990",
   "outputs": [],
   "execution_count": 127
  },
  {
   "metadata": {
    "ExecuteTime": {
     "end_time": "2024-12-12T18:35:43.568435Z",
     "start_time": "2024-12-12T18:35:43.563837Z"
    }
   },
   "cell_type": "code",
   "source": "include_in_rows.update(ncbi_frame['longest_annotation_curie'])",
   "id": "2cd900624cfce1ec",
   "outputs": [],
   "execution_count": 128
  },
  {
   "metadata": {
    "ExecuteTime": {
     "end_time": "2024-12-12T18:35:43.573313Z",
     "start_time": "2024-12-12T18:35:43.570073Z"
    }
   },
   "cell_type": "code",
   "source": "include_in_rows.update(goldterms_only_curies)",
   "id": "31ff1c10df555677",
   "outputs": [],
   "execution_count": 129
  },
  {
   "metadata": {
    "ExecuteTime": {
     "end_time": "2024-12-12T18:35:43.578264Z",
     "start_time": "2024-12-12T18:35:43.575167Z"
    }
   },
   "cell_type": "code",
   "source": "include_in_rows.update(nlcd_classes)",
   "id": "e376965702e0a36e",
   "outputs": [],
   "execution_count": 130
  },
  {
   "metadata": {
    "ExecuteTime": {
     "end_time": "2024-12-12T18:35:43.582880Z",
     "start_time": "2024-12-12T18:35:43.579738Z"
    }
   },
   "cell_type": "code",
   "source": "rows_lod = []",
   "id": "f7a6fb9413f45298",
   "outputs": [],
   "execution_count": 131
  },
  {
   "metadata": {},
   "cell_type": "markdown",
   "source": "# Voting sheet rows and boolean columns",
   "id": "d0c9c7c730c8308a"
  },
  {
   "metadata": {
    "ExecuteTime": {
     "end_time": "2024-12-12T18:35:45.052145Z",
     "start_time": "2024-12-12T18:35:43.585151Z"
    }
   },
   "cell_type": "code",
   "source": [
    "for curie in include_in_rows:\n",
    "    if curie is None:\n",
    "        continue\n",
    "\n",
    "    # ONCE AGAIN, assuming that EnvO is the only ontology we'll check against\n",
    "    current_ancestors = [\n",
    "        list(ancestor.keys())[0] for ancestor in envo_ancs_cache.get(curie, [])\n",
    "    ]\n",
    "    ancestors_in_enum_count = len(set(current_ancestors) & set(legacy_pv_curies))\n",
    "\n",
    "    current_descendants = [\n",
    "        list(descendant.keys())[0] for descendant in envo_descs_cache.get(curie, [])\n",
    "    ]\n",
    "    descendants_in_enum_count = len(set(current_descendants) & set(legacy_pv_curies))\n",
    "\n",
    "    row = {\n",
    "        'curie': curie,\n",
    "        'label': envo_adapter.label(curie),\n",
    "        'envo_native': False,\n",
    "        'obsolete': False,\n",
    "        comparison_enum_column_name: False,\n",
    "        'ancestors_in_enum_count': ancestors_in_enum_count,\n",
    "        'descendants_in_enum_count': descendants_in_enum_count,\n",
    "        'nlcd_class': False,\n",
    "        'abp': False,\n",
    "        'env_sys': False,\n",
    "        'biome': False,\n",
    "        'terrestrial_biome': False,\n",
    "        'aquatic_biome': False,\n",
    "        'env_mat': False,\n",
    "        'soil': False,\n",
    "        'liquid water': False,\n",
    "        'water ice': False,\n",
    "        'human_construction': False,\n",
    "        'building': False,\n",
    "        'building_part': False,\n",
    "        'goldterms_mappings': False,\n",
    "    }\n",
    "\n",
    "    if curie in biome_curies:\n",
    "        row['biome'] = True\n",
    "    if curie in terrestrial_biome_curies:\n",
    "        row['terrestrial_biome'] = True\n",
    "    if curie in aquatic_biome_curies:\n",
    "        row['aquatic_biome'] = True\n",
    "    if curie in abp_curies:\n",
    "        row['abp'] = True\n",
    "    if curie in env_sys_curies:\n",
    "        row['env_sys'] = True\n",
    "    if curie in env_mat_curies:\n",
    "        row['env_mat'] = True\n",
    "    if curie in soil_curies:\n",
    "        row['soil'] = True\n",
    "    if curie in liquid_water_curies:\n",
    "        row['liquid water'] = True\n",
    "    if curie in water_ice_curies:\n",
    "        row['water ice'] = True\n",
    "    if curie in human_construction_curies:\n",
    "        row['human_construction'] = True\n",
    "    if curie in building_curies:\n",
    "        row['building'] = True\n",
    "    if curie in building_part_curies:\n",
    "        row['building_part'] = True\n",
    "    if curie in legacy_pv_curies:\n",
    "        row[comparison_enum_column_name] = True\n",
    "    if curie in obsoletes_curies:\n",
    "        row['obsolete'] = True\n",
    "    if curie in goldterms_only_curies:\n",
    "        row['goldterms_mappings'] = True\n",
    "    if curie in nlcd_classes:\n",
    "        row['nlcd_class'] = True\n",
    "\n",
    "    try:\n",
    "        prefix, local_id = curie.split(':')\n",
    "        if prefix and prefix == 'ENVO' and row['label'] is not None:\n",
    "            row['envo_native'] = True\n",
    "    except Exception as e:\n",
    "        # Print the exception message\n",
    "        print(f\"An error occurred: {e} trying to split {curie}\")\n",
    "\n",
    "    rows_lod.append(row)\n",
    "\n",
    "# 2 minutes\n"
   ],
   "id": "32f278db05c57616",
   "outputs": [],
   "execution_count": 132
  },
  {
   "metadata": {},
   "cell_type": "markdown",
   "source": "# ^ Voting sheet rows and boolean columns",
   "id": "f77fce51b7fd116d"
  },
  {
   "metadata": {
    "ExecuteTime": {
     "end_time": "2024-12-12T18:35:45.064690Z",
     "start_time": "2024-12-12T18:35:45.053501Z"
    }
   },
   "cell_type": "code",
   "source": "rows_frame = pd.DataFrame(rows_lod)",
   "id": "26bb62d21192288f",
   "outputs": [],
   "execution_count": 133
  },
  {
   "metadata": {
    "ExecuteTime": {
     "end_time": "2024-12-12T18:35:45.084519Z",
     "start_time": "2024-12-12T18:35:45.066325Z"
    }
   },
   "cell_type": "code",
   "source": "rows_frame",
   "id": "4db3ebadb8a07a50",
   "outputs": [
    {
     "data": {
      "text/plain": [
       "              curie            label  envo_native  obsolete  \\\n",
       "0     ENVO:00000770             None        False     False   \n",
       "1     ENVO:00001027             None        False     False   \n",
       "2     ENVO:03510029   primer (paint)         True     False   \n",
       "3     ENVO:03600087       greenhouse         True     False   \n",
       "4     ENVO:02000036  saliva material         True     False   \n",
       "...             ...              ...          ...       ...   \n",
       "2873  ENVO:00003323          tannery         True     False   \n",
       "2874  ENVO:00000745             None        False     False   \n",
       "2875  ENVO:00000026             well         True     False   \n",
       "2876  ENVO:00000872             None        False     False   \n",
       "2877  ENVO:00002232          andosol         True     False   \n",
       "\n",
       "      no_comparison_enum  ancestors_in_enum_count  descendants_in_enum_count  \\\n",
       "0                  False                        0                          0   \n",
       "1                  False                        0                          0   \n",
       "2                  False                        0                          0   \n",
       "3                  False                        0                          0   \n",
       "4                  False                        0                          0   \n",
       "...                  ...                      ...                        ...   \n",
       "2873               False                        0                          0   \n",
       "2874               False                        0                          0   \n",
       "2875               False                        0                          0   \n",
       "2876               False                        0                          0   \n",
       "2877               False                        0                          0   \n",
       "\n",
       "      nlcd_class    abp  env_sys  ...  terrestrial_biome  aquatic_biome  \\\n",
       "0          False  False    False  ...              False          False   \n",
       "1          False  False    False  ...              False          False   \n",
       "2          False  False    False  ...              False          False   \n",
       "3          False   True    False  ...              False          False   \n",
       "4          False  False    False  ...              False          False   \n",
       "...          ...    ...      ...  ...                ...            ...   \n",
       "2873       False   True    False  ...              False          False   \n",
       "2874       False  False    False  ...              False          False   \n",
       "2875       False   True    False  ...              False          False   \n",
       "2876       False  False    False  ...              False          False   \n",
       "2877       False   True    False  ...              False          False   \n",
       "\n",
       "      env_mat   soil  liquid water  water ice  human_construction  building  \\\n",
       "0       False  False         False      False               False     False   \n",
       "1       False  False         False      False               False     False   \n",
       "2        True  False         False      False               False     False   \n",
       "3       False  False         False      False                True     False   \n",
       "4        True  False         False      False               False     False   \n",
       "...       ...    ...           ...        ...                 ...       ...   \n",
       "2873    False  False         False      False                True      True   \n",
       "2874    False  False         False      False               False     False   \n",
       "2875    False  False         False      False               False     False   \n",
       "2876    False  False         False      False               False     False   \n",
       "2877     True   True         False      False               False     False   \n",
       "\n",
       "      building_part  goldterms_mappings  \n",
       "0             False               False  \n",
       "1             False               False  \n",
       "2             False               False  \n",
       "3             False               False  \n",
       "4             False               False  \n",
       "...             ...                 ...  \n",
       "2873          False               False  \n",
       "2874          False               False  \n",
       "2875          False               False  \n",
       "2876          False               False  \n",
       "2877          False               False  \n",
       "\n",
       "[2878 rows x 21 columns]"
      ],
      "text/html": [
       "<div>\n",
       "<style scoped>\n",
       "    .dataframe tbody tr th:only-of-type {\n",
       "        vertical-align: middle;\n",
       "    }\n",
       "\n",
       "    .dataframe tbody tr th {\n",
       "        vertical-align: top;\n",
       "    }\n",
       "\n",
       "    .dataframe thead th {\n",
       "        text-align: right;\n",
       "    }\n",
       "</style>\n",
       "<table border=\"1\" class=\"dataframe\">\n",
       "  <thead>\n",
       "    <tr style=\"text-align: right;\">\n",
       "      <th></th>\n",
       "      <th>curie</th>\n",
       "      <th>label</th>\n",
       "      <th>envo_native</th>\n",
       "      <th>obsolete</th>\n",
       "      <th>no_comparison_enum</th>\n",
       "      <th>ancestors_in_enum_count</th>\n",
       "      <th>descendants_in_enum_count</th>\n",
       "      <th>nlcd_class</th>\n",
       "      <th>abp</th>\n",
       "      <th>env_sys</th>\n",
       "      <th>...</th>\n",
       "      <th>terrestrial_biome</th>\n",
       "      <th>aquatic_biome</th>\n",
       "      <th>env_mat</th>\n",
       "      <th>soil</th>\n",
       "      <th>liquid water</th>\n",
       "      <th>water ice</th>\n",
       "      <th>human_construction</th>\n",
       "      <th>building</th>\n",
       "      <th>building_part</th>\n",
       "      <th>goldterms_mappings</th>\n",
       "    </tr>\n",
       "  </thead>\n",
       "  <tbody>\n",
       "    <tr>\n",
       "      <th>0</th>\n",
       "      <td>ENVO:00000770</td>\n",
       "      <td>None</td>\n",
       "      <td>False</td>\n",
       "      <td>False</td>\n",
       "      <td>False</td>\n",
       "      <td>0</td>\n",
       "      <td>0</td>\n",
       "      <td>False</td>\n",
       "      <td>False</td>\n",
       "      <td>False</td>\n",
       "      <td>...</td>\n",
       "      <td>False</td>\n",
       "      <td>False</td>\n",
       "      <td>False</td>\n",
       "      <td>False</td>\n",
       "      <td>False</td>\n",
       "      <td>False</td>\n",
       "      <td>False</td>\n",
       "      <td>False</td>\n",
       "      <td>False</td>\n",
       "      <td>False</td>\n",
       "    </tr>\n",
       "    <tr>\n",
       "      <th>1</th>\n",
       "      <td>ENVO:00001027</td>\n",
       "      <td>None</td>\n",
       "      <td>False</td>\n",
       "      <td>False</td>\n",
       "      <td>False</td>\n",
       "      <td>0</td>\n",
       "      <td>0</td>\n",
       "      <td>False</td>\n",
       "      <td>False</td>\n",
       "      <td>False</td>\n",
       "      <td>...</td>\n",
       "      <td>False</td>\n",
       "      <td>False</td>\n",
       "      <td>False</td>\n",
       "      <td>False</td>\n",
       "      <td>False</td>\n",
       "      <td>False</td>\n",
       "      <td>False</td>\n",
       "      <td>False</td>\n",
       "      <td>False</td>\n",
       "      <td>False</td>\n",
       "    </tr>\n",
       "    <tr>\n",
       "      <th>2</th>\n",
       "      <td>ENVO:03510029</td>\n",
       "      <td>primer (paint)</td>\n",
       "      <td>True</td>\n",
       "      <td>False</td>\n",
       "      <td>False</td>\n",
       "      <td>0</td>\n",
       "      <td>0</td>\n",
       "      <td>False</td>\n",
       "      <td>False</td>\n",
       "      <td>False</td>\n",
       "      <td>...</td>\n",
       "      <td>False</td>\n",
       "      <td>False</td>\n",
       "      <td>True</td>\n",
       "      <td>False</td>\n",
       "      <td>False</td>\n",
       "      <td>False</td>\n",
       "      <td>False</td>\n",
       "      <td>False</td>\n",
       "      <td>False</td>\n",
       "      <td>False</td>\n",
       "    </tr>\n",
       "    <tr>\n",
       "      <th>3</th>\n",
       "      <td>ENVO:03600087</td>\n",
       "      <td>greenhouse</td>\n",
       "      <td>True</td>\n",
       "      <td>False</td>\n",
       "      <td>False</td>\n",
       "      <td>0</td>\n",
       "      <td>0</td>\n",
       "      <td>False</td>\n",
       "      <td>True</td>\n",
       "      <td>False</td>\n",
       "      <td>...</td>\n",
       "      <td>False</td>\n",
       "      <td>False</td>\n",
       "      <td>False</td>\n",
       "      <td>False</td>\n",
       "      <td>False</td>\n",
       "      <td>False</td>\n",
       "      <td>True</td>\n",
       "      <td>False</td>\n",
       "      <td>False</td>\n",
       "      <td>False</td>\n",
       "    </tr>\n",
       "    <tr>\n",
       "      <th>4</th>\n",
       "      <td>ENVO:02000036</td>\n",
       "      <td>saliva material</td>\n",
       "      <td>True</td>\n",
       "      <td>False</td>\n",
       "      <td>False</td>\n",
       "      <td>0</td>\n",
       "      <td>0</td>\n",
       "      <td>False</td>\n",
       "      <td>False</td>\n",
       "      <td>False</td>\n",
       "      <td>...</td>\n",
       "      <td>False</td>\n",
       "      <td>False</td>\n",
       "      <td>True</td>\n",
       "      <td>False</td>\n",
       "      <td>False</td>\n",
       "      <td>False</td>\n",
       "      <td>False</td>\n",
       "      <td>False</td>\n",
       "      <td>False</td>\n",
       "      <td>False</td>\n",
       "    </tr>\n",
       "    <tr>\n",
       "      <th>...</th>\n",
       "      <td>...</td>\n",
       "      <td>...</td>\n",
       "      <td>...</td>\n",
       "      <td>...</td>\n",
       "      <td>...</td>\n",
       "      <td>...</td>\n",
       "      <td>...</td>\n",
       "      <td>...</td>\n",
       "      <td>...</td>\n",
       "      <td>...</td>\n",
       "      <td>...</td>\n",
       "      <td>...</td>\n",
       "      <td>...</td>\n",
       "      <td>...</td>\n",
       "      <td>...</td>\n",
       "      <td>...</td>\n",
       "      <td>...</td>\n",
       "      <td>...</td>\n",
       "      <td>...</td>\n",
       "      <td>...</td>\n",
       "      <td>...</td>\n",
       "    </tr>\n",
       "    <tr>\n",
       "      <th>2873</th>\n",
       "      <td>ENVO:00003323</td>\n",
       "      <td>tannery</td>\n",
       "      <td>True</td>\n",
       "      <td>False</td>\n",
       "      <td>False</td>\n",
       "      <td>0</td>\n",
       "      <td>0</td>\n",
       "      <td>False</td>\n",
       "      <td>True</td>\n",
       "      <td>False</td>\n",
       "      <td>...</td>\n",
       "      <td>False</td>\n",
       "      <td>False</td>\n",
       "      <td>False</td>\n",
       "      <td>False</td>\n",
       "      <td>False</td>\n",
       "      <td>False</td>\n",
       "      <td>True</td>\n",
       "      <td>True</td>\n",
       "      <td>False</td>\n",
       "      <td>False</td>\n",
       "    </tr>\n",
       "    <tr>\n",
       "      <th>2874</th>\n",
       "      <td>ENVO:00000745</td>\n",
       "      <td>None</td>\n",
       "      <td>False</td>\n",
       "      <td>False</td>\n",
       "      <td>False</td>\n",
       "      <td>0</td>\n",
       "      <td>0</td>\n",
       "      <td>False</td>\n",
       "      <td>False</td>\n",
       "      <td>False</td>\n",
       "      <td>...</td>\n",
       "      <td>False</td>\n",
       "      <td>False</td>\n",
       "      <td>False</td>\n",
       "      <td>False</td>\n",
       "      <td>False</td>\n",
       "      <td>False</td>\n",
       "      <td>False</td>\n",
       "      <td>False</td>\n",
       "      <td>False</td>\n",
       "      <td>False</td>\n",
       "    </tr>\n",
       "    <tr>\n",
       "      <th>2875</th>\n",
       "      <td>ENVO:00000026</td>\n",
       "      <td>well</td>\n",
       "      <td>True</td>\n",
       "      <td>False</td>\n",
       "      <td>False</td>\n",
       "      <td>0</td>\n",
       "      <td>0</td>\n",
       "      <td>False</td>\n",
       "      <td>True</td>\n",
       "      <td>False</td>\n",
       "      <td>...</td>\n",
       "      <td>False</td>\n",
       "      <td>False</td>\n",
       "      <td>False</td>\n",
       "      <td>False</td>\n",
       "      <td>False</td>\n",
       "      <td>False</td>\n",
       "      <td>False</td>\n",
       "      <td>False</td>\n",
       "      <td>False</td>\n",
       "      <td>False</td>\n",
       "    </tr>\n",
       "    <tr>\n",
       "      <th>2876</th>\n",
       "      <td>ENVO:00000872</td>\n",
       "      <td>None</td>\n",
       "      <td>False</td>\n",
       "      <td>False</td>\n",
       "      <td>False</td>\n",
       "      <td>0</td>\n",
       "      <td>0</td>\n",
       "      <td>False</td>\n",
       "      <td>False</td>\n",
       "      <td>False</td>\n",
       "      <td>...</td>\n",
       "      <td>False</td>\n",
       "      <td>False</td>\n",
       "      <td>False</td>\n",
       "      <td>False</td>\n",
       "      <td>False</td>\n",
       "      <td>False</td>\n",
       "      <td>False</td>\n",
       "      <td>False</td>\n",
       "      <td>False</td>\n",
       "      <td>False</td>\n",
       "    </tr>\n",
       "    <tr>\n",
       "      <th>2877</th>\n",
       "      <td>ENVO:00002232</td>\n",
       "      <td>andosol</td>\n",
       "      <td>True</td>\n",
       "      <td>False</td>\n",
       "      <td>False</td>\n",
       "      <td>0</td>\n",
       "      <td>0</td>\n",
       "      <td>False</td>\n",
       "      <td>True</td>\n",
       "      <td>False</td>\n",
       "      <td>...</td>\n",
       "      <td>False</td>\n",
       "      <td>False</td>\n",
       "      <td>True</td>\n",
       "      <td>True</td>\n",
       "      <td>False</td>\n",
       "      <td>False</td>\n",
       "      <td>False</td>\n",
       "      <td>False</td>\n",
       "      <td>False</td>\n",
       "      <td>False</td>\n",
       "    </tr>\n",
       "  </tbody>\n",
       "</table>\n",
       "<p>2878 rows × 21 columns</p>\n",
       "</div>"
      ]
     },
     "execution_count": 134,
     "metadata": {},
     "output_type": "execute_result"
    }
   ],
   "execution_count": 134
  },
  {
   "metadata": {},
   "cell_type": "markdown",
   "source": "# Merge in NMDC counts",
   "id": "8f7c4b1d95722568"
  },
  {
   "metadata": {
    "ExecuteTime": {
     "end_time": "2024-12-12T18:35:45.091401Z",
     "start_time": "2024-12-12T18:35:45.086122Z"
    }
   },
   "cell_type": "code",
   "source": [
    "nmdc_biosample_scoped_counts = nmdc_biosample_contexts_frame[nmdc_context_selector].value_counts().reset_index()\n",
    "# todo parameterize the column name based on what what really counter (generally biosamples or studies)\n",
    "nmdc_biosample_scoped_counts.columns = ['curie', 'nmdc_biosamples_count']\n"
   ],
   "id": "88ebf6f76c2e0545",
   "outputs": [],
   "execution_count": 135
  },
  {
   "metadata": {
    "ExecuteTime": {
     "end_time": "2024-12-12T18:35:45.100409Z",
     "start_time": "2024-12-12T18:35:45.093152Z"
    }
   },
   "cell_type": "code",
   "source": "nmdc_biosample_scoped_counts",
   "id": "85789ece9ec4ddd6",
   "outputs": [
    {
     "data": {
      "text/plain": [
       "            curie  nmdc_biosamples_count\n",
       "0   ENVO:04000007                    560\n",
       "1   ENVO:03605001                    371\n",
       "2   ENVO:00002042                    287\n",
       "3   ENVO:00002007                    165\n",
       "4   ENVO:03605006                    104\n",
       "5   ENVO:03605004                    100\n",
       "6   ENVO:01000017                     52\n",
       "7   ENVO:03605005                     37\n",
       "8   ENVO:03605002                     27\n",
       "9   ENVO:03605003                     25\n",
       "10  ENVO:01000599                     13\n",
       "11  ENVO:00002011                      1"
      ],
      "text/html": [
       "<div>\n",
       "<style scoped>\n",
       "    .dataframe tbody tr th:only-of-type {\n",
       "        vertical-align: middle;\n",
       "    }\n",
       "\n",
       "    .dataframe tbody tr th {\n",
       "        vertical-align: top;\n",
       "    }\n",
       "\n",
       "    .dataframe thead th {\n",
       "        text-align: right;\n",
       "    }\n",
       "</style>\n",
       "<table border=\"1\" class=\"dataframe\">\n",
       "  <thead>\n",
       "    <tr style=\"text-align: right;\">\n",
       "      <th></th>\n",
       "      <th>curie</th>\n",
       "      <th>nmdc_biosamples_count</th>\n",
       "    </tr>\n",
       "  </thead>\n",
       "  <tbody>\n",
       "    <tr>\n",
       "      <th>0</th>\n",
       "      <td>ENVO:04000007</td>\n",
       "      <td>560</td>\n",
       "    </tr>\n",
       "    <tr>\n",
       "      <th>1</th>\n",
       "      <td>ENVO:03605001</td>\n",
       "      <td>371</td>\n",
       "    </tr>\n",
       "    <tr>\n",
       "      <th>2</th>\n",
       "      <td>ENVO:00002042</td>\n",
       "      <td>287</td>\n",
       "    </tr>\n",
       "    <tr>\n",
       "      <th>3</th>\n",
       "      <td>ENVO:00002007</td>\n",
       "      <td>165</td>\n",
       "    </tr>\n",
       "    <tr>\n",
       "      <th>4</th>\n",
       "      <td>ENVO:03605006</td>\n",
       "      <td>104</td>\n",
       "    </tr>\n",
       "    <tr>\n",
       "      <th>5</th>\n",
       "      <td>ENVO:03605004</td>\n",
       "      <td>100</td>\n",
       "    </tr>\n",
       "    <tr>\n",
       "      <th>6</th>\n",
       "      <td>ENVO:01000017</td>\n",
       "      <td>52</td>\n",
       "    </tr>\n",
       "    <tr>\n",
       "      <th>7</th>\n",
       "      <td>ENVO:03605005</td>\n",
       "      <td>37</td>\n",
       "    </tr>\n",
       "    <tr>\n",
       "      <th>8</th>\n",
       "      <td>ENVO:03605002</td>\n",
       "      <td>27</td>\n",
       "    </tr>\n",
       "    <tr>\n",
       "      <th>9</th>\n",
       "      <td>ENVO:03605003</td>\n",
       "      <td>25</td>\n",
       "    </tr>\n",
       "    <tr>\n",
       "      <th>10</th>\n",
       "      <td>ENVO:01000599</td>\n",
       "      <td>13</td>\n",
       "    </tr>\n",
       "    <tr>\n",
       "      <th>11</th>\n",
       "      <td>ENVO:00002011</td>\n",
       "      <td>1</td>\n",
       "    </tr>\n",
       "  </tbody>\n",
       "</table>\n",
       "</div>"
      ]
     },
     "execution_count": 136,
     "metadata": {},
     "output_type": "execute_result"
    }
   ],
   "execution_count": 136
  },
  {
   "metadata": {
    "ExecuteTime": {
     "end_time": "2024-12-12T18:35:45.109171Z",
     "start_time": "2024-12-12T18:35:45.102257Z"
    }
   },
   "cell_type": "code",
   "source": [
    "# Perform the left merge\n",
    "rows_frame = rows_frame.merge(\n",
    "    nmdc_biosample_scoped_counts,\n",
    "    left_on='curie',\n",
    "    right_on='curie',\n",
    "    how='left'\n",
    ")"
   ],
   "id": "329203aecb25f598",
   "outputs": [],
   "execution_count": 137
  },
  {
   "metadata": {
    "ExecuteTime": {
     "end_time": "2024-12-12T18:35:45.131064Z",
     "start_time": "2024-12-12T18:35:45.110843Z"
    }
   },
   "cell_type": "code",
   "source": "rows_frame",
   "id": "8346fb59af8e61c6",
   "outputs": [
    {
     "data": {
      "text/plain": [
       "              curie            label  envo_native  obsolete  \\\n",
       "0     ENVO:00000770             None        False     False   \n",
       "1     ENVO:00001027             None        False     False   \n",
       "2     ENVO:03510029   primer (paint)         True     False   \n",
       "3     ENVO:03600087       greenhouse         True     False   \n",
       "4     ENVO:02000036  saliva material         True     False   \n",
       "...             ...              ...          ...       ...   \n",
       "2873  ENVO:00003323          tannery         True     False   \n",
       "2874  ENVO:00000745             None        False     False   \n",
       "2875  ENVO:00000026             well         True     False   \n",
       "2876  ENVO:00000872             None        False     False   \n",
       "2877  ENVO:00002232          andosol         True     False   \n",
       "\n",
       "      no_comparison_enum  ancestors_in_enum_count  descendants_in_enum_count  \\\n",
       "0                  False                        0                          0   \n",
       "1                  False                        0                          0   \n",
       "2                  False                        0                          0   \n",
       "3                  False                        0                          0   \n",
       "4                  False                        0                          0   \n",
       "...                  ...                      ...                        ...   \n",
       "2873               False                        0                          0   \n",
       "2874               False                        0                          0   \n",
       "2875               False                        0                          0   \n",
       "2876               False                        0                          0   \n",
       "2877               False                        0                          0   \n",
       "\n",
       "      nlcd_class    abp  env_sys  ...  aquatic_biome  env_mat   soil  \\\n",
       "0          False  False    False  ...          False    False  False   \n",
       "1          False  False    False  ...          False    False  False   \n",
       "2          False  False    False  ...          False     True  False   \n",
       "3          False   True    False  ...          False    False  False   \n",
       "4          False  False    False  ...          False     True  False   \n",
       "...          ...    ...      ...  ...            ...      ...    ...   \n",
       "2873       False   True    False  ...          False    False  False   \n",
       "2874       False  False    False  ...          False    False  False   \n",
       "2875       False   True    False  ...          False    False  False   \n",
       "2876       False  False    False  ...          False    False  False   \n",
       "2877       False   True    False  ...          False     True   True   \n",
       "\n",
       "      liquid water  water ice  human_construction  building  building_part  \\\n",
       "0            False      False               False     False          False   \n",
       "1            False      False               False     False          False   \n",
       "2            False      False               False     False          False   \n",
       "3            False      False                True     False          False   \n",
       "4            False      False               False     False          False   \n",
       "...            ...        ...                 ...       ...            ...   \n",
       "2873         False      False                True      True          False   \n",
       "2874         False      False               False     False          False   \n",
       "2875         False      False               False     False          False   \n",
       "2876         False      False               False     False          False   \n",
       "2877         False      False               False     False          False   \n",
       "\n",
       "      goldterms_mappings  nmdc_biosamples_count  \n",
       "0                  False                    NaN  \n",
       "1                  False                    NaN  \n",
       "2                  False                    NaN  \n",
       "3                  False                    NaN  \n",
       "4                  False                    NaN  \n",
       "...                  ...                    ...  \n",
       "2873               False                    NaN  \n",
       "2874               False                    NaN  \n",
       "2875               False                    NaN  \n",
       "2876               False                    NaN  \n",
       "2877               False                    NaN  \n",
       "\n",
       "[2878 rows x 22 columns]"
      ],
      "text/html": [
       "<div>\n",
       "<style scoped>\n",
       "    .dataframe tbody tr th:only-of-type {\n",
       "        vertical-align: middle;\n",
       "    }\n",
       "\n",
       "    .dataframe tbody tr th {\n",
       "        vertical-align: top;\n",
       "    }\n",
       "\n",
       "    .dataframe thead th {\n",
       "        text-align: right;\n",
       "    }\n",
       "</style>\n",
       "<table border=\"1\" class=\"dataframe\">\n",
       "  <thead>\n",
       "    <tr style=\"text-align: right;\">\n",
       "      <th></th>\n",
       "      <th>curie</th>\n",
       "      <th>label</th>\n",
       "      <th>envo_native</th>\n",
       "      <th>obsolete</th>\n",
       "      <th>no_comparison_enum</th>\n",
       "      <th>ancestors_in_enum_count</th>\n",
       "      <th>descendants_in_enum_count</th>\n",
       "      <th>nlcd_class</th>\n",
       "      <th>abp</th>\n",
       "      <th>env_sys</th>\n",
       "      <th>...</th>\n",
       "      <th>aquatic_biome</th>\n",
       "      <th>env_mat</th>\n",
       "      <th>soil</th>\n",
       "      <th>liquid water</th>\n",
       "      <th>water ice</th>\n",
       "      <th>human_construction</th>\n",
       "      <th>building</th>\n",
       "      <th>building_part</th>\n",
       "      <th>goldterms_mappings</th>\n",
       "      <th>nmdc_biosamples_count</th>\n",
       "    </tr>\n",
       "  </thead>\n",
       "  <tbody>\n",
       "    <tr>\n",
       "      <th>0</th>\n",
       "      <td>ENVO:00000770</td>\n",
       "      <td>None</td>\n",
       "      <td>False</td>\n",
       "      <td>False</td>\n",
       "      <td>False</td>\n",
       "      <td>0</td>\n",
       "      <td>0</td>\n",
       "      <td>False</td>\n",
       "      <td>False</td>\n",
       "      <td>False</td>\n",
       "      <td>...</td>\n",
       "      <td>False</td>\n",
       "      <td>False</td>\n",
       "      <td>False</td>\n",
       "      <td>False</td>\n",
       "      <td>False</td>\n",
       "      <td>False</td>\n",
       "      <td>False</td>\n",
       "      <td>False</td>\n",
       "      <td>False</td>\n",
       "      <td>NaN</td>\n",
       "    </tr>\n",
       "    <tr>\n",
       "      <th>1</th>\n",
       "      <td>ENVO:00001027</td>\n",
       "      <td>None</td>\n",
       "      <td>False</td>\n",
       "      <td>False</td>\n",
       "      <td>False</td>\n",
       "      <td>0</td>\n",
       "      <td>0</td>\n",
       "      <td>False</td>\n",
       "      <td>False</td>\n",
       "      <td>False</td>\n",
       "      <td>...</td>\n",
       "      <td>False</td>\n",
       "      <td>False</td>\n",
       "      <td>False</td>\n",
       "      <td>False</td>\n",
       "      <td>False</td>\n",
       "      <td>False</td>\n",
       "      <td>False</td>\n",
       "      <td>False</td>\n",
       "      <td>False</td>\n",
       "      <td>NaN</td>\n",
       "    </tr>\n",
       "    <tr>\n",
       "      <th>2</th>\n",
       "      <td>ENVO:03510029</td>\n",
       "      <td>primer (paint)</td>\n",
       "      <td>True</td>\n",
       "      <td>False</td>\n",
       "      <td>False</td>\n",
       "      <td>0</td>\n",
       "      <td>0</td>\n",
       "      <td>False</td>\n",
       "      <td>False</td>\n",
       "      <td>False</td>\n",
       "      <td>...</td>\n",
       "      <td>False</td>\n",
       "      <td>True</td>\n",
       "      <td>False</td>\n",
       "      <td>False</td>\n",
       "      <td>False</td>\n",
       "      <td>False</td>\n",
       "      <td>False</td>\n",
       "      <td>False</td>\n",
       "      <td>False</td>\n",
       "      <td>NaN</td>\n",
       "    </tr>\n",
       "    <tr>\n",
       "      <th>3</th>\n",
       "      <td>ENVO:03600087</td>\n",
       "      <td>greenhouse</td>\n",
       "      <td>True</td>\n",
       "      <td>False</td>\n",
       "      <td>False</td>\n",
       "      <td>0</td>\n",
       "      <td>0</td>\n",
       "      <td>False</td>\n",
       "      <td>True</td>\n",
       "      <td>False</td>\n",
       "      <td>...</td>\n",
       "      <td>False</td>\n",
       "      <td>False</td>\n",
       "      <td>False</td>\n",
       "      <td>False</td>\n",
       "      <td>False</td>\n",
       "      <td>True</td>\n",
       "      <td>False</td>\n",
       "      <td>False</td>\n",
       "      <td>False</td>\n",
       "      <td>NaN</td>\n",
       "    </tr>\n",
       "    <tr>\n",
       "      <th>4</th>\n",
       "      <td>ENVO:02000036</td>\n",
       "      <td>saliva material</td>\n",
       "      <td>True</td>\n",
       "      <td>False</td>\n",
       "      <td>False</td>\n",
       "      <td>0</td>\n",
       "      <td>0</td>\n",
       "      <td>False</td>\n",
       "      <td>False</td>\n",
       "      <td>False</td>\n",
       "      <td>...</td>\n",
       "      <td>False</td>\n",
       "      <td>True</td>\n",
       "      <td>False</td>\n",
       "      <td>False</td>\n",
       "      <td>False</td>\n",
       "      <td>False</td>\n",
       "      <td>False</td>\n",
       "      <td>False</td>\n",
       "      <td>False</td>\n",
       "      <td>NaN</td>\n",
       "    </tr>\n",
       "    <tr>\n",
       "      <th>...</th>\n",
       "      <td>...</td>\n",
       "      <td>...</td>\n",
       "      <td>...</td>\n",
       "      <td>...</td>\n",
       "      <td>...</td>\n",
       "      <td>...</td>\n",
       "      <td>...</td>\n",
       "      <td>...</td>\n",
       "      <td>...</td>\n",
       "      <td>...</td>\n",
       "      <td>...</td>\n",
       "      <td>...</td>\n",
       "      <td>...</td>\n",
       "      <td>...</td>\n",
       "      <td>...</td>\n",
       "      <td>...</td>\n",
       "      <td>...</td>\n",
       "      <td>...</td>\n",
       "      <td>...</td>\n",
       "      <td>...</td>\n",
       "      <td>...</td>\n",
       "    </tr>\n",
       "    <tr>\n",
       "      <th>2873</th>\n",
       "      <td>ENVO:00003323</td>\n",
       "      <td>tannery</td>\n",
       "      <td>True</td>\n",
       "      <td>False</td>\n",
       "      <td>False</td>\n",
       "      <td>0</td>\n",
       "      <td>0</td>\n",
       "      <td>False</td>\n",
       "      <td>True</td>\n",
       "      <td>False</td>\n",
       "      <td>...</td>\n",
       "      <td>False</td>\n",
       "      <td>False</td>\n",
       "      <td>False</td>\n",
       "      <td>False</td>\n",
       "      <td>False</td>\n",
       "      <td>True</td>\n",
       "      <td>True</td>\n",
       "      <td>False</td>\n",
       "      <td>False</td>\n",
       "      <td>NaN</td>\n",
       "    </tr>\n",
       "    <tr>\n",
       "      <th>2874</th>\n",
       "      <td>ENVO:00000745</td>\n",
       "      <td>None</td>\n",
       "      <td>False</td>\n",
       "      <td>False</td>\n",
       "      <td>False</td>\n",
       "      <td>0</td>\n",
       "      <td>0</td>\n",
       "      <td>False</td>\n",
       "      <td>False</td>\n",
       "      <td>False</td>\n",
       "      <td>...</td>\n",
       "      <td>False</td>\n",
       "      <td>False</td>\n",
       "      <td>False</td>\n",
       "      <td>False</td>\n",
       "      <td>False</td>\n",
       "      <td>False</td>\n",
       "      <td>False</td>\n",
       "      <td>False</td>\n",
       "      <td>False</td>\n",
       "      <td>NaN</td>\n",
       "    </tr>\n",
       "    <tr>\n",
       "      <th>2875</th>\n",
       "      <td>ENVO:00000026</td>\n",
       "      <td>well</td>\n",
       "      <td>True</td>\n",
       "      <td>False</td>\n",
       "      <td>False</td>\n",
       "      <td>0</td>\n",
       "      <td>0</td>\n",
       "      <td>False</td>\n",
       "      <td>True</td>\n",
       "      <td>False</td>\n",
       "      <td>...</td>\n",
       "      <td>False</td>\n",
       "      <td>False</td>\n",
       "      <td>False</td>\n",
       "      <td>False</td>\n",
       "      <td>False</td>\n",
       "      <td>False</td>\n",
       "      <td>False</td>\n",
       "      <td>False</td>\n",
       "      <td>False</td>\n",
       "      <td>NaN</td>\n",
       "    </tr>\n",
       "    <tr>\n",
       "      <th>2876</th>\n",
       "      <td>ENVO:00000872</td>\n",
       "      <td>None</td>\n",
       "      <td>False</td>\n",
       "      <td>False</td>\n",
       "      <td>False</td>\n",
       "      <td>0</td>\n",
       "      <td>0</td>\n",
       "      <td>False</td>\n",
       "      <td>False</td>\n",
       "      <td>False</td>\n",
       "      <td>...</td>\n",
       "      <td>False</td>\n",
       "      <td>False</td>\n",
       "      <td>False</td>\n",
       "      <td>False</td>\n",
       "      <td>False</td>\n",
       "      <td>False</td>\n",
       "      <td>False</td>\n",
       "      <td>False</td>\n",
       "      <td>False</td>\n",
       "      <td>NaN</td>\n",
       "    </tr>\n",
       "    <tr>\n",
       "      <th>2877</th>\n",
       "      <td>ENVO:00002232</td>\n",
       "      <td>andosol</td>\n",
       "      <td>True</td>\n",
       "      <td>False</td>\n",
       "      <td>False</td>\n",
       "      <td>0</td>\n",
       "      <td>0</td>\n",
       "      <td>False</td>\n",
       "      <td>True</td>\n",
       "      <td>False</td>\n",
       "      <td>...</td>\n",
       "      <td>False</td>\n",
       "      <td>True</td>\n",
       "      <td>True</td>\n",
       "      <td>False</td>\n",
       "      <td>False</td>\n",
       "      <td>False</td>\n",
       "      <td>False</td>\n",
       "      <td>False</td>\n",
       "      <td>False</td>\n",
       "      <td>NaN</td>\n",
       "    </tr>\n",
       "  </tbody>\n",
       "</table>\n",
       "<p>2878 rows × 22 columns</p>\n",
       "</div>"
      ]
     },
     "execution_count": 138,
     "metadata": {},
     "output_type": "execute_result"
    }
   ],
   "execution_count": 138
  },
  {
   "metadata": {
    "ExecuteTime": {
     "end_time": "2024-12-12T18:35:45.135953Z",
     "start_time": "2024-12-12T18:35:45.132967Z"
    }
   },
   "cell_type": "code",
   "source": [
    "# gold and ncbi counts are slightly trickier\n",
    "# for gold: including mappings only, mappings in hybrid with biosample counts. \n",
    "#    Switch to direct biosample counts of GOLD \"envo\" annotations?\n",
    "# ncbi: we have extracted curies and annotated curies"
   ],
   "id": "87a64ed7d57d81ee",
   "outputs": [],
   "execution_count": 139
  },
  {
   "metadata": {},
   "cell_type": "markdown",
   "source": "## Merge in NCBI counts",
   "id": "1f1f840c8c0acc80"
  },
  {
   "metadata": {
    "ExecuteTime": {
     "end_time": "2024-12-12T18:35:45.144039Z",
     "start_time": "2024-12-12T18:35:45.137604Z"
    }
   },
   "cell_type": "code",
   "source": [
    "# Perform the left merge\n",
    "rows_frame = rows_frame.merge(\n",
    "    ncbi_biosample_scoped_counts,\n",
    "    left_on='curie',\n",
    "    right_on='curie',\n",
    "    how='left'\n",
    ")"
   ],
   "id": "f4d8dc1053a5bb7e",
   "outputs": [],
   "execution_count": 140
  },
  {
   "metadata": {
    "ExecuteTime": {
     "end_time": "2024-12-12T18:35:45.148813Z",
     "start_time": "2024-12-12T18:35:45.145727Z"
    }
   },
   "cell_type": "code",
   "source": "# 990 rows in https://docs.google.com/spreadsheets/d/12WH3eduBq2qSTy9zVF3n7fyajn6ssLZL/edit?gid=546570706#gid=546570706",
   "id": "396c3f6005a31874",
   "outputs": [],
   "execution_count": 141
  },
  {
   "metadata": {
    "ExecuteTime": {
     "end_time": "2024-12-12T18:35:45.174987Z",
     "start_time": "2024-12-12T18:35:45.150818Z"
    }
   },
   "cell_type": "code",
   "source": "rows_frame.to_csv(output_file_name, sep=\"\\t\", index=False)",
   "id": "b7a26a1b879188a4",
   "outputs": [],
   "execution_count": 142
  },
  {
   "metadata": {
    "ExecuteTime": {
     "end_time": "2024-12-12T18:35:46.557379Z",
     "start_time": "2024-12-12T18:35:45.177423Z"
    }
   },
   "cell_type": "code",
   "source": "ncbi_conn.close()",
   "id": "655f46a2a0a6da17",
   "outputs": [],
   "execution_count": 143
  }
 ],
 "metadata": {
  "kernelspec": {
   "display_name": "Python 3 (ipykernel)",
   "language": "python",
   "name": "python3"
  },
  "language_info": {
   "codemirror_mode": {
    "name": "ipython",
    "version": 3
   },
   "file_extension": ".py",
   "mimetype": "text/x-python",
   "name": "python",
   "nbconvert_exporter": "python",
   "pygments_lexer": "ipython3",
   "version": "3.10.13"
  }
 },
 "nbformat": 4,
 "nbformat_minor": 5
}
