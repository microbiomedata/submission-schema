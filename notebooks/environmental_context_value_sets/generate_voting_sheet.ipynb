{
 "cells": [
  {
   "cell_type": "code",
   "id": "630126a7790cc3a7",
   "metadata": {
    "ExecuteTime": {
     "end_time": "2024-12-06T20:25:12.183336Z",
     "start_time": "2024-12-06T20:25:06.932974Z"
    }
   },
   "source": [
    "from common import *\n",
    "\n",
    "import gzip\n",
    "import os\n",
    "import shutil\n",
    "import sqlite3\n",
    "from urllib.parse import urlparse\n",
    "\n",
    "import duckdb\n",
    "import pandas as pd\n",
    "import requests\n",
    "from oaklib import get_adapter\n",
    "from oaklib.datamodels.vocabulary import IS_A\n",
    "from scipy.sparse import hstack\n",
    "from sklearn.ensemble import RandomForestClassifier\n",
    "from sklearn.metrics import classification_report\n",
    "from sklearn.model_selection import train_test_split\n",
    "\n",
    "import yaml\n"
   ],
   "outputs": [],
   "execution_count": 1
  },
  {
   "cell_type": "code",
   "id": "7b0ae730412c28ca",
   "metadata": {
    "ExecuteTime": {
     "end_time": "2024-12-06T20:25:12.193068Z",
     "start_time": "2024-12-06T20:25:12.185656Z"
    }
   },
   "source": [
    "print(\"verify output is being rendered\")"
   ],
   "outputs": [
    {
     "name": "stdout",
     "output_type": "stream",
     "text": [
      "verify output is being rendered\n"
     ]
    }
   ],
   "execution_count": 2
  },
  {
   "cell_type": "code",
   "id": "f952b5888d2c5f0d",
   "metadata": {
    "ExecuteTime": {
     "end_time": "2024-12-06T20:25:12.197867Z",
     "start_time": "2024-12-06T20:25:12.194603Z"
    }
   },
   "source": [
    "# Initialize cache dictionaries for predict_from_normalized_env_packages\n",
    "# todo how to move the definitions for function that use these globals? Or just use caching around the function?\n",
    "ancestor_cache = {}\n",
    "descendant_cache = {}"
   ],
   "outputs": [],
   "execution_count": 3
  },
  {
   "cell_type": "code",
   "id": "5001cbd978bbdd28",
   "metadata": {
    "ExecuteTime": {
     "end_time": "2024-12-06T20:25:12.203690Z",
     "start_time": "2024-12-06T20:25:12.200877Z"
    }
   },
   "source": [
    "# todo deal with circularity in env package prediction -> env triad reporting\n",
    "\n",
    "# todo this on-demand NCBI curie extraction and annotation recapitulates work that is being added to\n",
    "# https://portal.nersc.gov/project/m3408/biosamples_duckdb/\n",
    "# via \n",
    "#   although that doesn't detect auto-incremented curies from  spreadsheet dragging\n",
    "\n",
    "# todo if more caching is desired, it should probably take the form of saving dataframes for TSV\n",
    "\n",
    "# eventually, dig up a complete JSON gold biosample dump for non-hybrid biosample counts\n",
    "\n",
    "# overall run time (if NCBI biosamples and goldData are cached): ~ 10 minutes\n",
    "\n",
    "# count studies not biosamples ?"
   ],
   "outputs": [],
   "execution_count": 4
  },
  {
   "cell_type": "markdown",
   "id": "2ef284816f7ce9d6",
   "metadata": {},
   "source": [
    "# Task Settings\n",
    "_For making a Soil env_broad_scale voting sheet vs a Sediment env_local_scale sheet, etc._\n",
    "\n",
    "todo: bundle these into dicts so they don't have to be modified independently and kept in sync with one another."
   ]
  },
  {
   "metadata": {
    "ExecuteTime": {
     "end_time": "2024-12-06T20:25:12.208023Z",
     "start_time": "2024-12-06T20:25:12.205455Z"
    }
   },
   "cell_type": "code",
   "source": "output_file_name = \"voting_sheets_output/plant_associated_env_medium_voting_sheet.tsv\"",
   "id": "90bf7256a956701d",
   "outputs": [],
   "execution_count": 5
  },
  {
   "metadata": {
    "ExecuteTime": {
     "end_time": "2024-12-06T20:25:12.212345Z",
     "start_time": "2024-12-06T20:25:12.209620Z"
    }
   },
   "cell_type": "code",
   "source": [
    "# semantic_anchor = 'ENVO:00000428' # biome for env_broad_scale\n",
    "# semantic_anchor = 'ENVO:01000813' # astronomical body part \"abp\" for env_local_scale\n",
    "semantic_anchor = 'ENVO:00010483' # environmental material for env_medium"
   ],
   "id": "95f7efc06f20987a",
   "outputs": [],
   "execution_count": 6
  },
  {
   "metadata": {
    "ExecuteTime": {
     "end_time": "2024-12-06T20:25:12.216524Z",
     "start_time": "2024-12-06T20:25:12.213803Z"
    }
   },
   "cell_type": "code",
   "source": [
    "plant_first_where = \"s1.value like 'host-associated > plants%'\"\n",
    "sediment_first_where = \"lower(s1.value) like 'environmental > aquatic%sediment%'\"\n",
    "soil_first_where = \"s1.value like 'environmental > terrestrial > soil%'\"\n",
    "water_first_where = \"s1.value like 'environmental > aquatic%' and lower(s1.value) not like '%sediment%'\""
   ],
   "id": "def7edf88043ac30",
   "outputs": [],
   "execution_count": 7
  },
  {
   "metadata": {},
   "cell_type": "markdown",
   "source": "## context selectors",
   "id": "51f51b3b88634488"
  },
  {
   "metadata": {
    "ExecuteTime": {
     "end_time": "2024-12-06T20:25:12.220882Z",
     "start_time": "2024-12-06T20:25:12.218040Z"
    }
   },
   "cell_type": "code",
   "source": [
    "# gold_context_selector = 'mixs:env_broad'\n",
    "# gold_context_selector = 'mixs:env_local'\n",
    "gold_context_selector = 'mixs:env_medium'"
   ],
   "id": "be00ed63d6472ead",
   "outputs": [],
   "execution_count": 8
  },
  {
   "metadata": {
    "ExecuteTime": {
     "end_time": "2024-12-06T20:25:12.225259Z",
     "start_time": "2024-12-06T20:25:12.222436Z"
    }
   },
   "cell_type": "code",
   "source": [
    "# ncbi_context_selector = 'env_broad_scale'\n",
    "# ncbi_context_selector = 'env_local_scale'\n",
    "ncbi_context_selector = 'env_medium'"
   ],
   "id": "7aa7b42c3f20ce44",
   "outputs": [],
   "execution_count": 9
  },
  {
   "metadata": {
    "ExecuteTime": {
     "end_time": "2024-12-06T20:25:12.231954Z",
     "start_time": "2024-12-06T20:25:12.229404Z"
    }
   },
   "cell_type": "code",
   "source": [
    "# nmdc_context_selector= 'env_broad_scale_id'\n",
    "# nmdc_context_selector= 'env_local_scale_id'\n",
    "nmdc_context_selector= 'env_medium_id'"
   ],
   "id": "ce80b2d7e64e5710",
   "outputs": [],
   "execution_count": 10
  },
  {
   "metadata": {},
   "cell_type": "markdown",
   "source": "## package aka environment aka extension selectors",
   "id": "2f0bdadeb5d32fa8"
  },
  {
   "metadata": {
    "ExecuteTime": {
     "end_time": "2024-12-06T20:25:12.236296Z",
     "start_time": "2024-12-06T20:25:12.233477Z"
    }
   },
   "cell_type": "code",
   "source": "gold_first_where = water_first_where",
   "id": "8075741d803ff740",
   "outputs": [],
   "execution_count": 11
  },
  {
   "metadata": {
    "ExecuteTime": {
     "end_time": "2024-12-06T20:25:12.242731Z",
     "start_time": "2024-12-06T20:25:12.238874Z"
    }
   },
   "cell_type": "code",
   "source": [
    "# todo new since soil: why are we only considering MIMS.me for discovering appropriate env triad values?\n",
    "#   there's usually a roughly equal number of biosamples from in each extension for MIMS.me and \n",
    "\n",
    "ncbi_package_selector = 'plant-associated.6.0'\n",
    "# ncbi_package_selector = 'sediment.6.0'\n",
    "# ncbi_package_selector = 'soil.6.0'\n",
    "# ncbi_package_selector = 'water.6.0'"
   ],
   "id": "f5654d6f9319576b",
   "outputs": [],
   "execution_count": 12
  },
  {
   "metadata": {
    "ExecuteTime": {
     "end_time": "2024-12-06T20:25:12.247278Z",
     "start_time": "2024-12-06T20:25:12.244452Z"
    }
   },
   "cell_type": "code",
   "source": [
    "nmdc_package_selector = 'plant-associated'\n",
    "# nmdc_package_selector = 'sediment'\n",
    "# nmdc_package_selector = 'soil'\n",
    "# nmdc_package_selector = 'water'\n"
   ],
   "id": "5e358e42ad885188",
   "outputs": [],
   "execution_count": 13
  },
  {
   "metadata": {
    "ExecuteTime": {
     "end_time": "2024-12-06T20:25:12.252456Z",
     "start_time": "2024-12-06T20:25:12.248990Z"
    }
   },
   "cell_type": "code",
   "source": [
    "GOLDTERMS_NA = '' # ???\n",
    "\n",
    "GOLDTERMS_PLANT_ASSOCIATED = GOLDTERMS_NA # host associated -> viridiplantae? take a string approach!\n",
    "GOLDTERMS_SEDIMENT = 'GOLDTERMS:3985' #  doesn't have any subclasses\n",
    "GOLDTERMS_SOIL = 'GOLDTERMS:4212'\n",
    "GOLDTERMS_WATER = 'GOLDTERMS:3984'\n",
    "\n",
    "# GOLDTERMS:4180, 'Environmental > Aquatic > Freshwater > Pond > Sediment' and ~64 more don't share a common root\n",
    "# poetry run runoak -i sqlite:obo:goldterms info 't~sediment'\n"
   ],
   "id": "eda591e14a91cd01",
   "outputs": [],
   "execution_count": 14
  },
  {
   "metadata": {
    "ExecuteTime": {
     "end_time": "2024-12-06T20:25:12.300333Z",
     "start_time": "2024-12-06T20:25:12.296461Z"
    }
   },
   "cell_type": "code",
   "source": "goldterms_root = GOLDTERMS_NA",
   "id": "bba8bf1e75430ef",
   "outputs": [],
   "execution_count": 15
  },
  {
   "metadata": {},
   "cell_type": "markdown",
   "source": "## selecting name and version of one enum for comparison\n",
   "id": "394f96a70a95754f"
  },
  {
   "metadata": {
    "ExecuteTime": {
     "end_time": "2024-12-06T20:25:12.603292Z",
     "start_time": "2024-12-06T20:25:12.599640Z"
    }
   },
   "cell_type": "code",
   "source": [
    "# only the Soil enums have legacy definitions (v10.7 and earlier?)\n",
    "\n",
    "CONTEXT_ENUM = \"EnvBroadScaleSoilEnum\"\n",
    "# CONTEXT_ENUM = \"EnvLocalScaleSoilEnum\"\n",
    "# CONTEXT_ENUM = \"EnvMediumSoilEnum\"\n",
    "\n",
    "# CONTEXT_ENUM = \"\""
   ],
   "id": "20750df32ebb2033",
   "outputs": [],
   "execution_count": 16
  },
  {
   "metadata": {
    "ExecuteTime": {
     "end_time": "2024-12-06T20:25:13.387285Z",
     "start_time": "2024-12-06T20:25:13.383914Z"
    }
   },
   "cell_type": "code",
   "source": [
    "# todo: add columns for membership in multiple enums from multiple version of the schema?\n",
    "#  like sediment local vs soil local and water local (once that's completed)\n",
    "#  get them from schema files or something prior to that? sems like the voting sheets are too raw/preliminary for that\n",
    "#   can use a more recent schema url for more recent enums!\n",
    "\n",
    "# previous_submission_schema_url = \"https://raw.githubusercontent.com/microbiomedata/submission-schema/v10.7.0/src/nmdc_submission_schema/schema/nmdc_submission_schema.yaml\"\n",
    "\n",
    "previous_submission_schema_url = \"https://raw.githubusercontent.com/microbiomedata/submission-schema/refs/tags/v11.1.0/src/nmdc_submission_schema/schema/nmdc_submission_schema.yaml\""
   ],
   "id": "f588eccfcb2771ba",
   "outputs": [],
   "execution_count": 17
  },
  {
   "metadata": {
    "ExecuteTime": {
     "end_time": "2024-12-06T20:25:13.560032Z",
     "start_time": "2024-12-06T20:25:13.556710Z"
    }
   },
   "cell_type": "code",
   "source": [
    "# todo: don't call the column \"legacy_pv\". use the name of the enum and the version of the schema?\n",
    "\n",
    "comparison_enum_column_name = 'EnvMediumSoilEnum_11_1'\n",
    "# comparison_enum_column_name = 'no_comparison_enum'"
   ],
   "id": "e259066dee0973c4",
   "outputs": [],
   "execution_count": 18
  },
  {
   "metadata": {},
   "cell_type": "markdown",
   "source": "# Additional Settings",
   "id": "b799aabdd66098c0"
  },
  {
   "metadata": {
    "ExecuteTime": {
     "end_time": "2024-12-06T20:25:13.750325Z",
     "start_time": "2024-12-06T20:25:13.747399Z"
    }
   },
   "cell_type": "code",
   "source": [
    "# Approved prefixes (case-insensitive)\n",
    "approved_prefixes = ['ENVO']"
   ],
   "id": "50e39f658f4bd77b",
   "outputs": [],
   "execution_count": 19
  },
  {
   "metadata": {
    "ExecuteTime": {
     "end_time": "2024-12-06T20:25:13.846980Z",
     "start_time": "2024-12-06T20:25:13.844094Z"
    }
   },
   "cell_type": "code",
   "source": "MIN_ANNOTATION_LEN = 3",
   "id": "3aa0b52456f0a95c",
   "outputs": [],
   "execution_count": 20
  },
  {
   "cell_type": "code",
   "id": "d526be618b8b9129",
   "metadata": {
    "ExecuteTime": {
     "end_time": "2024-12-06T20:25:14.201322Z",
     "start_time": "2024-12-06T20:25:14.198207Z"
    }
   },
   "source": [
    "NMDC_RUNTIME_BASE_URL = 'https://api.microbiomedata.org/nmdcschema/'\n",
    "STUDY_SET_COLLECTION = 'study_set'\n",
    "BIOSAMPLE_SET_COLLECTION = 'biosample_set'"
   ],
   "outputs": [],
   "execution_count": 21
  },
  {
   "cell_type": "code",
   "id": "11c0cba800e33ac6",
   "metadata": {
    "ExecuteTime": {
     "end_time": "2024-12-06T20:25:14.319280Z",
     "start_time": "2024-12-06T20:25:14.315882Z"
    }
   },
   "source": [
    "envo_adapter_string = \"sqlite:obo:envo\""
   ],
   "outputs": [],
   "execution_count": 22
  },
  {
   "cell_type": "code",
   "id": "daf9f023fbf97cde",
   "metadata": {
    "ExecuteTime": {
     "end_time": "2024-12-06T20:25:14.509536Z",
     "start_time": "2024-12-06T20:25:14.506785Z"
    }
   },
   "source": [
    "# goldterms_adapter_string = \"sqlite:obo:envo\""
   ],
   "outputs": [],
   "execution_count": 23
  },
  {
   "cell_type": "code",
   "id": "7795121f47307a00",
   "metadata": {
    "ExecuteTime": {
     "end_time": "2024-12-06T20:25:14.667656Z",
     "start_time": "2024-12-06T20:25:14.664171Z"
    }
   },
   "source": [
    "env_package_override_file = 'mam-env-package-overrides.tsv'\n",
    "override_column = 'mam_inferred_env_package'"
   ],
   "outputs": [],
   "execution_count": 24
  },
  {
   "cell_type": "code",
   "id": "f1b99451d88ce356",
   "metadata": {
    "ExecuteTime": {
     "end_time": "2024-12-06T20:25:14.852778Z",
     "start_time": "2024-12-06T20:25:14.849976Z"
    }
   },
   "source": [
    "# ncbi_duckdb_url = 'https://portal.nersc.gov/project/m3408/biosamples_duckdb/ncbi_biosamples_2024-09-23.duckdb.gz'\n",
    "ncbi_duckdb_url = 'https://portal.nersc.gov/project/m3408/biosamples_duckdb/ncbi_biosamples.duckdb.gz'"
   ],
   "outputs": [],
   "execution_count": 25
  },
  {
   "cell_type": "code",
   "id": "51e5d41b02b19eec",
   "metadata": {
    "ExecuteTime": {
     "end_time": "2024-12-06T20:25:14.971914Z",
     "start_time": "2024-12-06T20:25:14.967757Z"
    }
   },
   "source": [
    "gold_data_url = \"https://gold.jgi.doe.gov/download?mode=site_excel\"\n",
    "gold_data_file_name = \"goldData.xlsx\" # goldData.xlsx: Microsoft Excel 2007+\n",
    "gold_csv_file_name = \"gold_biosamples.csv\"\n",
    "BIOSAMPLES_SHEET = \"Biosample\""
   ],
   "outputs": [],
   "execution_count": 26
  },
  {
   "cell_type": "code",
   "id": "e1d9f705fad2efa9",
   "metadata": {
    "ExecuteTime": {
     "end_time": "2024-12-06T20:25:15.268752Z",
     "start_time": "2024-12-06T20:25:15.265760Z"
    }
   },
   "source": [
    "goldterms_semsql_url = \"https://s3.amazonaws.com/bbop-sqlite/goldterms.db.gz\"\n"
   ],
   "outputs": [],
   "execution_count": 27
  },
  {
   "metadata": {},
   "cell_type": "markdown",
   "source": "# CURIe Constants",
   "id": "16e21c18886a373c"
  },
  {
   "metadata": {
    "ExecuteTime": {
     "end_time": "2024-12-06T20:25:15.384685Z",
     "start_time": "2024-12-06T20:25:15.381201Z"
    }
   },
   "cell_type": "code",
   "source": [
    "BIOME = 'ENVO:00000428'\n",
    "TERRESTRIAL_BIOME = 'ENVO:00000446'\n",
    "AQUATIC_BIOME = 'ENVO:00002030'\n",
    "ABP = 'ENVO:01000813'\n",
    "ENVIRONMENTAL_SYSTEM = 'ENVO:01000254'\n",
    "ENVIRONMENTAL_MATERIAL = 'ENVO:00010483'\n",
    "\n",
    "SOIL = 'ENVO:00001998'\n",
    "LIQUID_WATER = 'ENVO:00002006'\n",
    "WATER_ICE = 'ENVO:01000277'"
   ],
   "id": "73e52103eb69bbcc",
   "outputs": [],
   "execution_count": 28
  },
  {
   "metadata": {},
   "cell_type": "markdown",
   "source": "# Settings-based Queries",
   "id": "7ecec14181910236"
  },
  {
   "cell_type": "code",
   "id": "4cdc7819c92bff3c",
   "metadata": {
    "ExecuteTime": {
     "end_time": "2024-12-06T20:25:15.613614Z",
     "start_time": "2024-12-06T20:25:15.610360Z"
    }
   },
   "source": [
    "goldterms_subclass_query = f\"\"\"\n",
    "select\n",
    "\tsubject\n",
    "from\n",
    "\tentailed_edge ee\n",
    "where\n",
    "\tpredicate = 'rdfs:subClassOf'\n",
    "\tand object = '{goldterms_root}'\n",
    "\"\"\""
   ],
   "outputs": [],
   "execution_count": 29
  },
  {
   "cell_type": "code",
   "id": "fb8c7caf28e64d10",
   "metadata": {
    "ExecuteTime": {
     "end_time": "2024-12-06T20:25:15.766398Z",
     "start_time": "2024-12-06T20:25:15.763017Z"
    }
   },
   "source": [
    "# todo could this have been done with a OAK query, eliminating the need to explicitly download the file?\n",
    "\n",
    "goldterms_envo_query = f\"\"\"\n",
    "SELECT\n",
    "\t*\n",
    "FROM\n",
    "\tstatements s\n",
    "WHERE\n",
    "\tpredicate = '{gold_context_selector}'\"\"\""
   ],
   "outputs": [],
   "execution_count": 30
  },
  {
   "cell_type": "code",
   "id": "afd52cf83301de09",
   "metadata": {
    "ExecuteTime": {
     "end_time": "2024-12-06T20:25:15.995882Z",
     "start_time": "2024-12-06T20:25:15.992589Z"
    }
   },
   "source": [
    "ncbi_query = f\"\"\"\n",
    "SELECT content, COUNT(1) AS sample_count \n",
    "FROM attributes \n",
    "WHERE harmonized_name = '{ncbi_context_selector}' AND package_content like '%{ncbi_package_selector}'\n",
    "GROUP BY content\n",
    "ORDER BY COUNT(1) DESC\n",
    "\"\"\""
   ],
   "outputs": [],
   "execution_count": 31
  },
  {
   "metadata": {
    "ExecuteTime": {
     "end_time": "2024-12-06T20:25:16.089857Z",
     "start_time": "2024-12-06T20:25:16.085309Z"
    }
   },
   "cell_type": "code",
   "source": [
    "# and s1.subject = s1.stanza eliminates matches on blank node anntoation rows (probably woudn't change results but adds a little overhead)\n",
    "\n",
    "extension_query = f\"\"\"\n",
    "select\n",
    "\t\ts1.subject ,\n",
    "\t\ts2.predicate,\n",
    "\t\tCOALESCE (s2.\"object\",\n",
    "\ts2.\"value\") as content\n",
    "from\n",
    "\tstatements s1\n",
    "join statements s2 on \n",
    "\ts1.subject = s2.subject\n",
    "where\n",
    "\t{gold_first_where}\n",
    "\tand s1.predicate = 'rdfs:label'\n",
    "\tand s1.subject = s1.stanza\n",
    "\tand s2.predicate in ('mixs:env_broad', 'mixs:env_local', 'mixs:env_medium', 'mixs:mixs_extension', 'rdfs:label', 'mixs:other', 'mixs:anatomical_site', 'mixs:host_taxon') ;\n",
    "\"\"\"\n",
    "\n",
    "# todo provide examples of sediment samples that are excluded by the requirement for aquatic"
   ],
   "id": "8cdd3e6e17a2bac3",
   "outputs": [],
   "execution_count": 32
  },
  {
   "metadata": {},
   "cell_type": "markdown",
   "source": [
    "# Locally Defined Functions\n",
    "_Currently using locally-defined cache dictionaries_"
   ],
   "id": "6c4cf0d065a7de07"
  },
  {
   "cell_type": "code",
   "id": "38412bd611726160",
   "metadata": {
    "ExecuteTime": {
     "end_time": "2024-12-06T20:25:16.344521Z",
     "start_time": "2024-12-06T20:25:16.335773Z"
    }
   },
   "source": [
    "def predict_from_normalized_env_packages(df_raw, adapter):\n",
    "    # Apply the function to the relevant columns\n",
    "\n",
    "    df = df_raw.copy()\n",
    "\n",
    "    print(df.shape)\n",
    "    for column in ['env_broad_scale_id', 'env_local_scale_id', 'env_medium_id']:\n",
    "        df[f'{column}_ancestors'] = df[column].apply(lambda x: get_hierarchy_terms(x, adapter)['ancestors'])\n",
    "        df[f'{column}_descendants'] = df[column].apply(lambda x: get_hierarchy_terms(x, adapter)['descendants'])\n",
    "\n",
    "    # Vectorize each set of terms separately\n",
    "    broad_scale_ancestors = vectorize_terms(df, 'env_broad_scale_id_ancestors')\n",
    "    broad_scale_descendants = vectorize_terms(df, 'env_broad_scale_id_descendants')\n",
    "\n",
    "    local_scale_ancestors = vectorize_terms(df, 'env_local_scale_id_ancestors')\n",
    "    local_scale_descendants = vectorize_terms(df, 'env_local_scale_id_descendants')\n",
    "\n",
    "    medium_ancestors = vectorize_terms(df, 'env_medium_id_ancestors')\n",
    "    medium_descendants = vectorize_terms(df, 'env_medium_id_descendants')\n",
    "\n",
    "    # Combine all feature matrices\n",
    "    X = hstack([\n",
    "        broad_scale_ancestors,\n",
    "        broad_scale_descendants,\n",
    "        local_scale_ancestors,\n",
    "        local_scale_descendants,\n",
    "        medium_ancestors,\n",
    "        medium_descendants\n",
    "    ])\n",
    "\n",
    "    # Filter the DataFrame to only include non-null rows for the target column\n",
    "    df_filtered = df[df['normalized_env_package'].notnull() & (df['normalized_env_package'] != \"\")]\n",
    "\n",
    "    # Extract the target variable\n",
    "    y = df_filtered['normalized_env_package']\n",
    "\n",
    "    # Ensure X corresponds to the filtered rows\n",
    "    X_filtered = X[df_filtered.index]\n",
    "\n",
    "    # Split the data into training and testing sets\n",
    "    X_train, X_test, y_train, y_test = train_test_split(X_filtered, y, test_size=0.3, random_state=42)\n",
    "\n",
    "    # Train a Random Forest Classifier\n",
    "    clf = RandomForestClassifier(n_estimators=100, random_state=42)\n",
    "    clf.fit(X_train, y_train)\n",
    "\n",
    "    # Make predictions on the test set\n",
    "    y_pred = clf.predict(X_test)\n",
    "\n",
    "    # Evaluate the model\n",
    "    print(classification_report(y_test, y_pred))\n",
    "\n",
    "    # not determining confidence for each class nor saving any diagnostics any more\n",
    "\n",
    "    return clf.predict(X)"
   ],
   "outputs": [],
   "execution_count": 33
  },
  {
   "cell_type": "code",
   "id": "4515456aaeaa7980",
   "metadata": {
    "ExecuteTime": {
     "end_time": "2024-12-06T20:25:16.418625Z",
     "start_time": "2024-12-06T20:25:16.411441Z"
    }
   },
   "source": [
    "def get_hierarchy_terms(my_curie: str, adapter) -> dict:\n",
    "    \"\"\"\n",
    "    Extract ancestor and descendant terms from the ontology for a given CURIE,\n",
    "    using caching to improve performance and filtering by 'is_a' relationships.\n",
    "\n",
    "    Args:\n",
    "        my_curie (str): CURIE identifier for the ontology term.\n",
    "        adapter: Ontology adapter.\n",
    "\n",
    "    Returns:\n",
    "        dict: Dictionary containing lists of ancestor and descendant terms.\n",
    "    \"\"\"\n",
    "    if my_curie not in ancestor_cache:\n",
    "        try:\n",
    "            ancestors = list(adapter.ancestors(my_curie, predicates=[IS_A]))\n",
    "            ancestor_cache[my_curie] = [adapter.label(ancestor) for ancestor in ancestors if ancestor]\n",
    "        except Exception as my_e:\n",
    "            print(f\"Error retrieving ancestors for {my_curie}: {my_e}\")\n",
    "            ancestor_cache[my_curie] = []\n",
    "\n",
    "    if my_curie not in descendant_cache:\n",
    "        try:\n",
    "            descendants = list(adapter.descendants(my_curie, predicates=[IS_A]))\n",
    "            descendant_cache[my_curie] = [adapter.label(descendant) for descendant in descendants if descendant]\n",
    "        except Exception as my_e:\n",
    "            print(f\"Error retrieving descendants for {my_curie}: {my_e}\")\n",
    "            descendant_cache[my_curie] = []\n",
    "\n",
    "    return {\n",
    "        'ancestors': ancestor_cache[my_curie],\n",
    "        'descendants': descendant_cache[my_curie],\n",
    "    }"
   ],
   "outputs": [],
   "execution_count": 34
  },
  {
   "metadata": {},
   "cell_type": "markdown",
   "source": "# Procedural Code Starts Here",
   "id": "1423fbbafdf5e167"
  },
  {
   "cell_type": "code",
   "id": "44fb14c1b01ac34c",
   "metadata": {
    "ExecuteTime": {
     "end_time": "2024-12-06T20:25:16.620944Z",
     "start_time": "2024-12-06T20:25:16.617049Z"
    }
   },
   "source": [
    "# Determine the filenames and target directory for the NCBI DuckDB\n",
    "ncbi_compressed_filename = urlparse(ncbi_duckdb_url).path.split('/')[-1]\n",
    "ncbi_filename = os.path.splitext(ncbi_compressed_filename)[0]\n",
    "ncbi_compressed_file_path = os.path.join(ncbi_compressed_filename)\n",
    "ncbi_uncompressed_file_path = os.path.join(ncbi_filename)\n",
    "\n",
    "# target_dir = os.path.join('.') # just assume the files are downloaded into the same directory as the notebook"
   ],
   "outputs": [],
   "execution_count": 35
  },
  {
   "cell_type": "code",
   "id": "353ba83ec3059ac5",
   "metadata": {
    "ExecuteTime": {
     "end_time": "2024-12-06T20:25:16.761847Z",
     "start_time": "2024-12-06T20:25:16.754758Z"
    }
   },
   "source": [
    "if os.path.isfile(ncbi_uncompressed_file_path):\n",
    "    print(f\"{ncbi_uncompressed_file_path} is already present in the current working directory.\")\n",
    "else:\n",
    "    if os.path.isfile(ncbi_compressed_file_path):\n",
    "        print(f\"{ncbi_compressed_file_path} is already present in the current working directory.\")\n",
    "    else:\n",
    "        print(f\"{ncbi_compressed_file_path} needs to be downloaded\")\n",
    "        ncbi_response = requests.get(ncbi_duckdb_url)\n",
    "        with open(ncbi_compressed_file_path, \"wb\") as f:\n",
    "            f.write(ncbi_response.content)\n",
    "        # ~ 2 minutes @ 250 Mbps\n",
    "    \n",
    "    # Unzip the compressed file and save the extracted file in target directory\n",
    "    print(f\"{ncbi_compressed_file_path} needs to be unpacked\")\n",
    "    with gzip.open(ncbi_compressed_file_path, \"rb\") as f_in:\n",
    "        with open(ncbi_uncompressed_file_path, \"wb\") as f_out:\n",
    "            shutil.copyfileobj(f_in, f_out)\n",
    "\n",
    "    # ~ 2 minutes"
   ],
   "outputs": [
    {
     "name": "stdout",
     "output_type": "stream",
     "text": [
      "ncbi_biosamples.duckdb is already present in the current working directory.\n"
     ]
    }
   ],
   "execution_count": 36
  },
  {
   "cell_type": "code",
   "id": "63f815cbfb9b7a6b",
   "metadata": {
    "ExecuteTime": {
     "end_time": "2024-12-06T20:25:16.994063Z",
     "start_time": "2024-12-06T20:25:16.949430Z"
    }
   },
   "source": [
    "ncbi_conn = duckdb.connect(database=ncbi_uncompressed_file_path, read_only=True)"
   ],
   "outputs": [],
   "execution_count": 37
  },
  {
   "cell_type": "code",
   "id": "198256f26bc060e3",
   "metadata": {
    "ExecuteTime": {
     "end_time": "2024-12-06T20:25:17.097289Z",
     "start_time": "2024-12-06T20:25:17.051747Z"
    }
   },
   "source": [
    "envo_adapter = get_adapter(envo_adapter_string)"
   ],
   "outputs": [],
   "execution_count": 38
  },
  {
   "cell_type": "code",
   "id": "e863dc687ce4be5c",
   "metadata": {
    "ExecuteTime": {
     "end_time": "2024-12-06T20:25:17.801756Z",
     "start_time": "2024-12-06T20:25:17.284796Z"
    }
   },
   "source": "anchor_descendants = get_curie_descendants_label_dict(semantic_anchor, [IS_A], envo_adapter)",
   "outputs": [],
   "execution_count": 39
  },
  {
   "cell_type": "code",
   "id": "394abb56c4987eee",
   "metadata": {
    "ExecuteTime": {
     "end_time": "2024-12-06T20:25:17.807805Z",
     "start_time": "2024-12-06T20:25:17.804579Z"
    }
   },
   "source": [
    "anchor_descendants_lod = curie_descendants_label_dict_to_lod(anchor_descendants)"
   ],
   "outputs": [],
   "execution_count": 40
  },
  {
   "cell_type": "code",
   "id": "eea1a3f8395da0d7",
   "metadata": {
    "ExecuteTime": {
     "end_time": "2024-12-06T20:25:17.813732Z",
     "start_time": "2024-12-06T20:25:17.809615Z"
    }
   },
   "source": [
    "anchor_descendants_frame = curie_descendants_label_lod_to_df(anchor_descendants_lod)"
   ],
   "outputs": [],
   "execution_count": 41
  },
  {
   "cell_type": "code",
   "id": "f85faf81e0a55a42",
   "metadata": {
    "ExecuteTime": {
     "end_time": "2024-12-06T20:25:17.832471Z",
     "start_time": "2024-12-06T20:25:17.817166Z"
    }
   },
   "source": [
    "anchor_descendants_frame"
   ],
   "outputs": [
    {
     "data": {
      "text/plain": [
       "                curie                       label\n",
       "0     FOODON:00001838   fermented cereal beverage\n",
       "1       ENVO:02000111                  copper ore\n",
       "2       ENVO:01000480                       glass\n",
       "3     FOODON:03400865              soup (eurofir)\n",
       "4     FOODON:00001279     cake icing food product\n",
       "...               ...                         ...\n",
       "1095    ENVO:01001117              poultry manure\n",
       "1096    ENVO:00002117  creosote contaminated soil\n",
       "1097    ENVO:01001121                plant matter\n",
       "1098    ENVO:03605000          periphytic biofilm\n",
       "1099    ENVO:00001998                        soil\n",
       "\n",
       "[1100 rows x 2 columns]"
      ],
      "text/html": [
       "<div>\n",
       "<style scoped>\n",
       "    .dataframe tbody tr th:only-of-type {\n",
       "        vertical-align: middle;\n",
       "    }\n",
       "\n",
       "    .dataframe tbody tr th {\n",
       "        vertical-align: top;\n",
       "    }\n",
       "\n",
       "    .dataframe thead th {\n",
       "        text-align: right;\n",
       "    }\n",
       "</style>\n",
       "<table border=\"1\" class=\"dataframe\">\n",
       "  <thead>\n",
       "    <tr style=\"text-align: right;\">\n",
       "      <th></th>\n",
       "      <th>curie</th>\n",
       "      <th>label</th>\n",
       "    </tr>\n",
       "  </thead>\n",
       "  <tbody>\n",
       "    <tr>\n",
       "      <th>0</th>\n",
       "      <td>FOODON:00001838</td>\n",
       "      <td>fermented cereal beverage</td>\n",
       "    </tr>\n",
       "    <tr>\n",
       "      <th>1</th>\n",
       "      <td>ENVO:02000111</td>\n",
       "      <td>copper ore</td>\n",
       "    </tr>\n",
       "    <tr>\n",
       "      <th>2</th>\n",
       "      <td>ENVO:01000480</td>\n",
       "      <td>glass</td>\n",
       "    </tr>\n",
       "    <tr>\n",
       "      <th>3</th>\n",
       "      <td>FOODON:03400865</td>\n",
       "      <td>soup (eurofir)</td>\n",
       "    </tr>\n",
       "    <tr>\n",
       "      <th>4</th>\n",
       "      <td>FOODON:00001279</td>\n",
       "      <td>cake icing food product</td>\n",
       "    </tr>\n",
       "    <tr>\n",
       "      <th>...</th>\n",
       "      <td>...</td>\n",
       "      <td>...</td>\n",
       "    </tr>\n",
       "    <tr>\n",
       "      <th>1095</th>\n",
       "      <td>ENVO:01001117</td>\n",
       "      <td>poultry manure</td>\n",
       "    </tr>\n",
       "    <tr>\n",
       "      <th>1096</th>\n",
       "      <td>ENVO:00002117</td>\n",
       "      <td>creosote contaminated soil</td>\n",
       "    </tr>\n",
       "    <tr>\n",
       "      <th>1097</th>\n",
       "      <td>ENVO:01001121</td>\n",
       "      <td>plant matter</td>\n",
       "    </tr>\n",
       "    <tr>\n",
       "      <th>1098</th>\n",
       "      <td>ENVO:03605000</td>\n",
       "      <td>periphytic biofilm</td>\n",
       "    </tr>\n",
       "    <tr>\n",
       "      <th>1099</th>\n",
       "      <td>ENVO:00001998</td>\n",
       "      <td>soil</td>\n",
       "    </tr>\n",
       "  </tbody>\n",
       "</table>\n",
       "<p>1100 rows × 2 columns</p>\n",
       "</div>"
      ]
     },
     "execution_count": 42,
     "metadata": {},
     "output_type": "execute_result"
    }
   ],
   "execution_count": 42
  },
  {
   "cell_type": "markdown",
   "id": "857f1f1efd4635b9",
   "metadata": {},
   "source": [
    "----"
   ]
  },
  {
   "cell_type": "code",
   "id": "1432828ce7983148",
   "metadata": {
    "ExecuteTime": {
     "end_time": "2024-12-06T20:25:21.846278Z",
     "start_time": "2024-12-06T20:25:17.910687Z"
    }
   },
   "source": [
    "sv = get_schemaview_from_source(previous_submission_schema_url)"
   ],
   "outputs": [],
   "execution_count": 43
  },
  {
   "cell_type": "code",
   "id": "5841e0d6bc3d3c40",
   "metadata": {
    "ExecuteTime": {
     "end_time": "2024-12-06T20:25:21.853329Z",
     "start_time": "2024-12-06T20:25:21.848528Z"
    }
   },
   "source": [
    "# todo break out slow steps into its own cell\n",
    "\n",
    "try:\n",
    "    CONTEXT_ENUM_def = sv.get_enum(CONTEXT_ENUM)\n",
    "    context_pvs_keys = list(CONTEXT_ENUM_def.permissible_values.keys())\n",
    "except AttributeError as e:\n",
    "    # Handle the AttributeError\n",
    "    print(f\"An AttributeError occurred: {e}\")\n",
    "    context_pvs_keys =[]\n",
    "    "
   ],
   "outputs": [],
   "execution_count": 44
  },
  {
   "metadata": {
    "ExecuteTime": {
     "end_time": "2024-12-06T20:25:21.859701Z",
     "start_time": "2024-12-06T20:25:21.854967Z"
    }
   },
   "cell_type": "code",
   "source": "print(context_pvs_keys)",
   "id": "e47067e5b704ee70",
   "outputs": [
    {
     "name": "stdout",
     "output_type": "stream",
     "text": [
      "['alpine tundra biome [ENVO:01001505]', 'anthropogenic terrestrial biome [ENVO:01000219]', 'broadleaf forest biome [ENVO:01000197]', 'coniferous forest biome [ENVO:01000196]', 'cropland biome [ENVO:01000245]', 'flooded grassland biome [ENVO:01000195]', 'flooded savanna biome [ENVO:01000190]', 'forest biome [ENVO:01000174]', 'grassland biome [ENVO:01000177]', 'mangrove biome [ENVO:01000181]', 'mediterranean forest biome [ENVO:01000199]', 'mediterranean grassland biome [ENVO:01000224]', 'mediterranean savanna biome [ENVO:01000229]', 'mediterranean shrubland biome [ENVO:01000217]', 'mediterranean woodland biome [ENVO:01000208]', 'mixed forest biome [ENVO:01000198]', 'montane grassland biome [ENVO:01000194]', 'montane savanna biome [ENVO:01000223]', 'montane shrubland biome [ENVO:01000216]', 'rangeland biome [ENVO:01000247]', 'savanna biome [ENVO:01000178]', 'shrubland biome [ENVO:01000176]', 'subpolar coniferous forest biome [ENVO:01000250]', 'subtropical broadleaf forest biome [ENVO:01000201]', 'subtropical coniferous forest biome [ENVO:01000209]', 'subtropical dry broadleaf forest biome [ENVO:01000225]', 'subtropical grassland biome [ENVO:01000191]', 'subtropical moist broadleaf forest biome [ENVO:01000226]', 'subtropical savanna biome [ENVO:01000187]', 'subtropical shrubland biome [ENVO:01000213]', 'subtropical woodland biome [ENVO:01000222]', 'temperate broadleaf forest biome [ENVO:01000202]', 'temperate coniferous forest biome [ENVO:01000211]', 'temperate grassland biome [ENVO:01000193]', 'temperate mixed forest biome [ENVO:01000212]', 'temperate savanna biome [ENVO:01000189]', 'temperate shrubland biome [ENVO:01000215]', 'temperate woodland biome [ENVO:01000221]', 'terrestrial biome [ENVO:00000446]', 'tidal mangrove shrubland [ENVO:01001369]', 'tropical broadleaf forest biome [ENVO:01000200]', 'tropical coniferous forest biome [ENVO:01000210]', 'tropical dry broadleaf forest biome [ENVO:01000227]', 'tropical grassland biome [ENVO:01000192]', 'tropical mixed forest biome [ENVO:01001798]', 'tropical moist broadleaf forest biome [ENVO:01000228]', 'tropical savanna biome [ENVO:01000188]', 'tropical shrubland biome [ENVO:01000214]', 'tropical woodland biome [ENVO:01000220]', 'tundra biome [ENVO:01000180]', 'woodland biome [ENVO:01000175]', 'xeric shrubland biome [ENVO:01000218]']\n"
     ]
    }
   ],
   "execution_count": 45
  },
  {
   "cell_type": "code",
   "id": "79282f64358e1608",
   "metadata": {
    "ExecuteTime": {
     "end_time": "2024-12-06T20:25:21.865553Z",
     "start_time": "2024-12-06T20:25:21.862687Z"
    }
   },
   "source": [
    "initially_parsed_context_pvs = parse_hierarchically_underscored_strings(context_pvs_keys)"
   ],
   "outputs": [],
   "execution_count": 46
  },
  {
   "cell_type": "code",
   "id": "5a9492fa605534f2",
   "metadata": {
    "ExecuteTime": {
     "end_time": "2024-12-06T20:25:21.870044Z",
     "start_time": "2024-12-06T20:25:21.866952Z"
    }
   },
   "source": [
    "deduped_context_pvs = dedupe_underscoreless_pvs(initially_parsed_context_pvs)"
   ],
   "outputs": [],
   "execution_count": 47
  },
  {
   "cell_type": "code",
   "id": "214c2e6c9a7089a8",
   "metadata": {
    "ExecuteTime": {
     "end_time": "2024-12-06T20:25:21.894645Z",
     "start_time": "2024-12-06T20:25:21.871555Z"
    }
   },
   "source": [
    "pv_validation_results = validate_curie_label_list_dict(deduped_context_pvs, envo_adapter, print_flag=True)"
   ],
   "outputs": [],
   "execution_count": 48
  },
  {
   "cell_type": "code",
   "id": "e84872aa4f8a9313",
   "metadata": {
    "ExecuteTime": {
     "end_time": "2024-12-06T20:25:21.906928Z",
     "start_time": "2024-12-06T20:25:21.896524Z"
    }
   },
   "source": [
    "pv_validation_results"
   ],
   "outputs": [
    {
     "data": {
      "text/plain": [
       "{'problems': [],\n",
       " 'valids': [{'curie': 'ENVO:01001505', 'label': 'alpine tundra biome'},\n",
       "  {'curie': 'ENVO:01000219', 'label': 'anthropogenic terrestrial biome'},\n",
       "  {'curie': 'ENVO:01000197', 'label': 'broadleaf forest biome'},\n",
       "  {'curie': 'ENVO:01000196', 'label': 'coniferous forest biome'},\n",
       "  {'curie': 'ENVO:01000245', 'label': 'cropland biome'},\n",
       "  {'curie': 'ENVO:01000195', 'label': 'flooded grassland biome'},\n",
       "  {'curie': 'ENVO:01000190', 'label': 'flooded savanna biome'},\n",
       "  {'curie': 'ENVO:01000174', 'label': 'forest biome'},\n",
       "  {'curie': 'ENVO:01000177', 'label': 'grassland biome'},\n",
       "  {'curie': 'ENVO:01000181', 'label': 'mangrove biome'},\n",
       "  {'curie': 'ENVO:01000199', 'label': 'mediterranean forest biome'},\n",
       "  {'curie': 'ENVO:01000224', 'label': 'mediterranean grassland biome'},\n",
       "  {'curie': 'ENVO:01000229', 'label': 'mediterranean savanna biome'},\n",
       "  {'curie': 'ENVO:01000217', 'label': 'mediterranean shrubland biome'},\n",
       "  {'curie': 'ENVO:01000208', 'label': 'mediterranean woodland biome'},\n",
       "  {'curie': 'ENVO:01000198', 'label': 'mixed forest biome'},\n",
       "  {'curie': 'ENVO:01000194', 'label': 'montane grassland biome'},\n",
       "  {'curie': 'ENVO:01000223', 'label': 'montane savanna biome'},\n",
       "  {'curie': 'ENVO:01000216', 'label': 'montane shrubland biome'},\n",
       "  {'curie': 'ENVO:01000247', 'label': 'rangeland biome'},\n",
       "  {'curie': 'ENVO:01000178', 'label': 'savanna biome'},\n",
       "  {'curie': 'ENVO:01000176', 'label': 'shrubland biome'},\n",
       "  {'curie': 'ENVO:01000250', 'label': 'subpolar coniferous forest biome'},\n",
       "  {'curie': 'ENVO:01000201', 'label': 'subtropical broadleaf forest biome'},\n",
       "  {'curie': 'ENVO:01000209', 'label': 'subtropical coniferous forest biome'},\n",
       "  {'curie': 'ENVO:01000225',\n",
       "   'label': 'subtropical dry broadleaf forest biome'},\n",
       "  {'curie': 'ENVO:01000191', 'label': 'subtropical grassland biome'},\n",
       "  {'curie': 'ENVO:01000226',\n",
       "   'label': 'subtropical moist broadleaf forest biome'},\n",
       "  {'curie': 'ENVO:01000187', 'label': 'subtropical savanna biome'},\n",
       "  {'curie': 'ENVO:01000213', 'label': 'subtropical shrubland biome'},\n",
       "  {'curie': 'ENVO:01000222', 'label': 'subtropical woodland biome'},\n",
       "  {'curie': 'ENVO:01000202', 'label': 'temperate broadleaf forest biome'},\n",
       "  {'curie': 'ENVO:01000211', 'label': 'temperate coniferous forest biome'},\n",
       "  {'curie': 'ENVO:01000193', 'label': 'temperate grassland biome'},\n",
       "  {'curie': 'ENVO:01000212', 'label': 'temperate mixed forest biome'},\n",
       "  {'curie': 'ENVO:01000189', 'label': 'temperate savanna biome'},\n",
       "  {'curie': 'ENVO:01000215', 'label': 'temperate shrubland biome'},\n",
       "  {'curie': 'ENVO:01000221', 'label': 'temperate woodland biome'},\n",
       "  {'curie': 'ENVO:00000446', 'label': 'terrestrial biome'},\n",
       "  {'curie': 'ENVO:01001369', 'label': 'tidal mangrove shrubland'},\n",
       "  {'curie': 'ENVO:01000200', 'label': 'tropical broadleaf forest biome'},\n",
       "  {'curie': 'ENVO:01000210', 'label': 'tropical coniferous forest biome'},\n",
       "  {'curie': 'ENVO:01000227', 'label': 'tropical dry broadleaf forest biome'},\n",
       "  {'curie': 'ENVO:01000192', 'label': 'tropical grassland biome'},\n",
       "  {'curie': 'ENVO:01001798', 'label': 'tropical mixed forest biome'},\n",
       "  {'curie': 'ENVO:01000228', 'label': 'tropical moist broadleaf forest biome'},\n",
       "  {'curie': 'ENVO:01000188', 'label': 'tropical savanna biome'},\n",
       "  {'curie': 'ENVO:01000214', 'label': 'tropical shrubland biome'},\n",
       "  {'curie': 'ENVO:01000220', 'label': 'tropical woodland biome'},\n",
       "  {'curie': 'ENVO:01000180', 'label': 'tundra biome'},\n",
       "  {'curie': 'ENVO:01000175', 'label': 'woodland biome'},\n",
       "  {'curie': 'ENVO:01000218', 'label': 'xeric shrubland biome'}]}"
      ]
     },
     "execution_count": 49,
     "metadata": {},
     "output_type": "execute_result"
    }
   ],
   "execution_count": 49
  },
  {
   "cell_type": "markdown",
   "id": "363063c37a433d70",
   "metadata": {},
   "source": [
    "----"
   ]
  },
  {
   "cell_type": "code",
   "id": "656e23e9eab154b0",
   "metadata": {
    "ExecuteTime": {
     "end_time": "2024-12-06T20:26:10.743089Z",
     "start_time": "2024-12-06T20:25:21.909002Z"
    }
   },
   "source": [
    "# todo rename to all_nmdc_samples etc\n",
    "all_nmdc_biosamples = get_docs_from_nmdc_collection(NMDC_RUNTIME_BASE_URL,\n",
    "                                               BIOSAMPLE_SET_COLLECTION)  # Example with stop_after\n",
    "\n",
    "# ~ 1 minute\n",
    "# how long would saving and restoring to a file take?\n",
    "# YAML is pretty but that would be the slowest\n",
    "# try JSON\n",
    "# pre-filter to only include the fields we need?\n",
    "\n",
    "# todo cache this as a file"
   ],
   "outputs": [
    {
     "name": "stdout",
     "output_type": "stream",
     "text": [
      "Fetched page 1 with 1000 documents. Total fetched: 1000\n",
      "Fetched page 2 with 1000 documents. Total fetched: 2000\n",
      "Fetched page 3 with 1000 documents. Total fetched: 3000\n",
      "Fetched page 4 with 1000 documents. Total fetched: 4000\n",
      "Fetched page 5 with 1000 documents. Total fetched: 5000\n",
      "Fetched page 6 with 1000 documents. Total fetched: 6000\n",
      "Fetched page 7 with 1000 documents. Total fetched: 7000\n",
      "Fetched page 8 with 1000 documents. Total fetched: 8000\n",
      "Fetched page 9 with 362 documents. Total fetched: 8362\n",
      "All documents fetched.\n"
     ]
    }
   ],
   "execution_count": 50
  },
  {
   "cell_type": "code",
   "id": "6a17544640272855",
   "metadata": {
    "ExecuteTime": {
     "end_time": "2024-12-06T20:26:10.750472Z",
     "start_time": "2024-12-06T20:26:10.744903Z"
    }
   },
   "source": [
    "env_pacakge_overrides = tsv_to_dict_of_dicts(env_package_override_file, 'id')"
   ],
   "outputs": [],
   "execution_count": 51
  },
  {
   "cell_type": "code",
   "id": "66c61cf229a6545c",
   "metadata": {
    "ExecuteTime": {
     "end_time": "2024-12-06T20:26:10.760147Z",
     "start_time": "2024-12-06T20:26:10.757043Z"
    }
   },
   "source": [
    "# todo show env_pacakge_overrides as a data frame\n",
    "#   with some other columns for context?"
   ],
   "outputs": [],
   "execution_count": 52
  },
  {
   "cell_type": "code",
   "id": "7045884ea68d0351",
   "metadata": {
    "ExecuteTime": {
     "end_time": "2024-12-06T20:26:21.995495Z",
     "start_time": "2024-12-06T20:26:10.761877Z"
    }
   },
   "source": [
    "biosample_contexts_lod = biosamples_lod_context_extractor(all_nmdc_biosamples, envo_adapter,\n",
    "                                                          my_env_pacakge_overrides=env_pacakge_overrides)\n",
    "\n",
    "# ~ 10 seconds, lots of logging"
   ],
   "outputs": [
    {
     "name": "stdout",
     "output_type": "stream",
     "text": [
      "Overriding env_package for biosample nmdc:bsm-11-0k8nkx16 from  to plant-associated\n",
      "Overriding env_package for biosample nmdc:bsm-11-19v98823 from  to plant-associated\n",
      "Overriding env_package for biosample nmdc:bsm-11-1yvac190 from  to plant-associated\n",
      "Overriding env_package for biosample nmdc:bsm-11-28kgw077 from  to plant-associated\n",
      "Overriding env_package for biosample nmdc:bsm-11-2hswww54 from  to hydrocarbon resources-fluids_swabs\n",
      "Overriding env_package for biosample nmdc:bsm-11-34przm31 from  to plant-associated\n",
      "Overriding env_package for biosample nmdc:bsm-11-35m0rm03 from  to hydrocarbon resources-fluids_swabs\n",
      "Overriding env_package for biosample nmdc:bsm-11-3636w778 from  to plant-associated\n",
      "Overriding env_package for biosample nmdc:bsm-11-3nffqc45 from  to plant-associated\n",
      "Overriding env_package for biosample nmdc:bsm-11-3nhng665 from  to plant-associated\n",
      "Overriding env_package for biosample nmdc:bsm-11-3r4g4610 from  to hydrocarbon resources-fluids_swabs\n",
      "Overriding env_package for biosample nmdc:bsm-11-3tr7f795 from  to plant-associated\n",
      "Overriding env_package for biosample nmdc:bsm-11-3xc5ft48 from  to plant-associated\n",
      "Overriding env_package for biosample nmdc:bsm-11-3xthwx28 from  to plant-associated\n",
      "Overriding env_package for biosample nmdc:bsm-11-42c9kj17 from  to plant-associated\n",
      "Overriding env_package for biosample nmdc:bsm-11-43rwvm93 from  to plant-associated\n",
      "Overriding env_package for biosample nmdc:bsm-11-4838sk73 from  to plant-associated\n",
      "Overriding env_package for biosample nmdc:bsm-11-5ak8ja54 from  to plant-associated\n",
      "Overriding env_package for biosample nmdc:bsm-11-5g2kjf44 from  to plant-associated\n",
      "Overriding env_package for biosample nmdc:bsm-11-5j742c82 from  to plant-associated\n",
      "Overriding env_package for biosample nmdc:bsm-11-5qq80d09 from  to plant-associated\n",
      "Overriding env_package for biosample nmdc:bsm-11-5rgay328 from  to plant-associated\n",
      "Overriding env_package for biosample nmdc:bsm-11-5w4ba396 from  to plant-associated\n",
      "Overriding env_package for biosample nmdc:bsm-11-61xfks69 from  to plant-associated\n",
      "Overriding env_package for biosample nmdc:bsm-11-62fxv990 from  to plant-associated\n",
      "Overriding env_package for biosample nmdc:bsm-11-674m9194 from  to plant-associated\n",
      "Overriding env_package for biosample nmdc:bsm-11-678ndj04 from  to plant-associated\n",
      "Overriding env_package for biosample nmdc:bsm-11-69g1rw32 from  to plant-associated\n",
      "Overriding env_package for biosample nmdc:bsm-11-6k8cmy53 from  to plant-associated\n",
      "Overriding env_package for biosample nmdc:bsm-11-6m5dma62 from  to plant-associated\n",
      "Overriding env_package for biosample nmdc:bsm-11-6qgwc522 from  to plant-associated\n",
      "Overriding env_package for biosample nmdc:bsm-11-6xa4vj59 from  to plant-associated\n",
      "Overriding env_package for biosample nmdc:bsm-11-6y26bz06 from  to plant-associated\n",
      "Overriding env_package for biosample nmdc:bsm-11-6ya0cs71 from  to plant-associated\n",
      "Overriding env_package for biosample nmdc:bsm-11-6z11g163 from  to plant-associated\n",
      "Overriding env_package for biosample nmdc:bsm-11-73zqmh40 from  to plant-associated\n",
      "Overriding env_package for biosample nmdc:bsm-11-766dwa91 from  to plant-associated\n",
      "Overriding env_package for biosample nmdc:bsm-11-7b566r47 from  to hydrocarbon resources-fluids_swabs\n",
      "Overriding env_package for biosample nmdc:bsm-11-7cfwd964 from  to plant-associated\n",
      "Overriding env_package for biosample nmdc:bsm-11-7pyrek52 from  to plant-associated\n",
      "Overriding env_package for biosample nmdc:bsm-11-7yg2ne22 from  to plant-associated\n",
      "Overriding env_package for biosample nmdc:bsm-11-7z1qvf63 from  to plant-associated\n",
      "Overriding env_package for biosample nmdc:bsm-11-82qw5v38 from  to plant-associated\n",
      "Overriding env_package for biosample nmdc:bsm-11-899bm454 from  to plant-associated\n",
      "Overriding env_package for biosample nmdc:bsm-11-8aktkq28 from  to plant-associated\n",
      "Overriding env_package for biosample nmdc:bsm-11-8bewbp90 from  to plant-associated\n",
      "Overriding env_package for biosample nmdc:bsm-11-8cgpqn03 from  to plant-associated\n",
      "Overriding env_package for biosample nmdc:bsm-11-8e43d898 from  to plant-associated\n",
      "Overriding env_package for biosample nmdc:bsm-11-8g7xbe66 from  to plant-associated\n",
      "Overriding env_package for biosample nmdc:bsm-11-91bdea61 from  to plant-associated\n",
      "Overriding env_package for biosample nmdc:bsm-11-94c2xj88 from  to plant-associated\n",
      "Overriding env_package for biosample nmdc:bsm-11-9c0hk014 from  to plant-associated\n",
      "Overriding env_package for biosample nmdc:bsm-11-9f2ahd94 from  to plant-associated\n",
      "Overriding env_package for biosample nmdc:bsm-11-a6p0kd54 from  to hydrocarbon resources-fluids_swabs\n",
      "Overriding env_package for biosample nmdc:bsm-11-acehgb61 from  to plant-associated\n",
      "Overriding env_package for biosample nmdc:bsm-11-acfvxq24 from  to plant-associated\n",
      "Overriding env_package for biosample nmdc:bsm-11-aesqd647 from  to plant-associated\n",
      "Overriding env_package for biosample nmdc:bsm-11-af8kqq09 from  to hydrocarbon resources-fluids_swabs\n",
      "Overriding env_package for biosample nmdc:bsm-11-ahfq0n74 from  to plant-associated\n",
      "Overriding env_package for biosample nmdc:bsm-11-b2w6cr26 from  to plant-associated\n",
      "Overriding env_package for biosample nmdc:bsm-11-b7pv2a25 from  to plant-associated\n",
      "Overriding env_package for biosample nmdc:bsm-11-b9cjnj29 from  to plant-associated\n",
      "Overriding env_package for biosample nmdc:bsm-11-bcns6e03 from  to plant-associated\n",
      "Overriding env_package for biosample nmdc:bsm-11-bgar5122 from  to plant-associated\n",
      "Overriding env_package for biosample nmdc:bsm-11-bja22k98 from  to plant-associated\n",
      "Overriding env_package for biosample nmdc:bsm-11-bm9haf23 from  to plant-associated\n",
      "Overriding env_package for biosample nmdc:bsm-11-bqp0m764 from  to plant-associated\n",
      "Overriding env_package for biosample nmdc:bsm-11-byzpm179 from  to hydrocarbon resources-fluids_swabs\n",
      "Overriding env_package for biosample nmdc:bsm-11-c12hyq86 from  to plant-associated\n",
      "Overriding env_package for biosample nmdc:bsm-11-c52npq37 from  to plant-associated\n",
      "Overriding env_package for biosample nmdc:bsm-11-c756vg97 from  to plant-associated\n",
      "Overriding env_package for biosample nmdc:bsm-11-can3rz84 from  to plant-associated\n",
      "Overriding env_package for biosample nmdc:bsm-11-cjp6kd42 from  to plant-associated\n",
      "Overriding env_package for biosample nmdc:bsm-11-ck98jg55 from  to plant-associated\n",
      "Overriding env_package for biosample nmdc:bsm-11-cqbpqf62 from  to plant-associated\n",
      "Overriding env_package for biosample nmdc:bsm-11-cv5vxb38 from  to plant-associated\n",
      "Overriding env_package for biosample nmdc:bsm-11-cvqsze66 from  to plant-associated\n",
      "Overriding env_package for biosample nmdc:bsm-11-cxprmv88 from  to plant-associated\n",
      "Overriding env_package for biosample nmdc:bsm-11-cz68sy30 from  to plant-associated\n",
      "Overriding env_package for biosample nmdc:bsm-11-d8cgz835 from  to plant-associated\n",
      "Overriding env_package for biosample nmdc:bsm-11-djqze645 from  to plant-associated\n",
      "Overriding env_package for biosample nmdc:bsm-11-dppkv536 from  to plant-associated\n",
      "Overriding env_package for biosample nmdc:bsm-11-dqnfvd06 from  to plant-associated\n",
      "Overriding env_package for biosample nmdc:bsm-11-dtyb1w45 from  to plant-associated\n",
      "Overriding env_package for biosample nmdc:bsm-11-dva76848 from  to plant-associated\n",
      "Overriding env_package for biosample nmdc:bsm-11-dz264p50 from  to plant-associated\n",
      "Overriding env_package for biosample nmdc:bsm-11-e0rz6p82 from  to plant-associated\n",
      "Overriding env_package for biosample nmdc:bsm-11-e747ch69 from  to plant-associated\n",
      "Overriding env_package for biosample nmdc:bsm-11-epzqzg45 from  to plant-associated\n",
      "Overriding env_package for biosample nmdc:bsm-11-evfbfp31 from  to plant-associated\n",
      "Overriding env_package for biosample nmdc:bsm-11-f8tzvk82 from  to plant-associated\n",
      "Overriding env_package for biosample nmdc:bsm-11-fbm8fa50 from  to hydrocarbon resources-fluids_swabs\n",
      "Overriding env_package for biosample nmdc:bsm-11-feynq214 from  to plant-associated\n",
      "Overriding env_package for biosample nmdc:bsm-11-fgjpsy56 from  to plant-associated\n",
      "Overriding env_package for biosample nmdc:bsm-11-fm4p4558 from  to plant-associated\n",
      "Overriding env_package for biosample nmdc:bsm-11-fqchmc77 from  to hydrocarbon resources-fluids_swabs\n",
      "Overriding env_package for biosample nmdc:bsm-11-fy3j8w19 from  to plant-associated\n",
      "Overriding env_package for biosample nmdc:bsm-11-fyey4107 from  to plant-associated\n",
      "Overriding env_package for biosample nmdc:bsm-11-fzvzb345 from  to plant-associated\n",
      "Overriding env_package for biosample nmdc:bsm-11-g35dnf26 from  to plant-associated\n",
      "Overriding env_package for biosample nmdc:bsm-11-g3r2dm95 from  to plant-associated\n",
      "Overriding env_package for biosample nmdc:bsm-11-g4my3419 from  to plant-associated\n",
      "Overriding env_package for biosample nmdc:bsm-11-g4rxzh95 from  to plant-associated\n",
      "Overriding env_package for biosample nmdc:bsm-11-gch9pp73 from  to plant-associated\n",
      "Overriding env_package for biosample nmdc:bsm-11-gd31q856 from  to plant-associated\n",
      "Overriding env_package for biosample nmdc:bsm-11-gnbsqd30 from  to hydrocarbon resources-fluids_swabs\n",
      "Overriding env_package for biosample nmdc:bsm-11-gvp5zp51 from  to hydrocarbon resources-fluids_swabs\n",
      "Overriding env_package for biosample nmdc:bsm-11-gwx12029 from  to plant-associated\n",
      "Overriding env_package for biosample nmdc:bsm-11-h2k7nv93 from  to plant-associated\n",
      "Overriding env_package for biosample nmdc:bsm-11-h3e54f51 from  to plant-associated\n",
      "Overriding env_package for biosample nmdc:bsm-11-h96d6881 from  to plant-associated\n",
      "Overriding env_package for biosample nmdc:bsm-11-ht2c1k71 from  to plant-associated\n",
      "Overriding env_package for biosample nmdc:bsm-11-ht2v0s47 from  to plant-associated\n",
      "Overriding env_package for biosample nmdc:bsm-11-hv1hv533 from  to plant-associated\n",
      "Overriding env_package for biosample nmdc:bsm-11-j1bay453 from  to plant-associated\n",
      "Overriding env_package for biosample nmdc:bsm-11-j1hqcz15 from  to plant-associated\n",
      "Overriding env_package for biosample nmdc:bsm-11-j2pfz414 from  to plant-associated\n",
      "Overriding env_package for biosample nmdc:bsm-11-j5y27f16 from  to plant-associated\n",
      "Overriding env_package for biosample nmdc:bsm-11-j6h8pw46 from  to plant-associated\n",
      "Overriding env_package for biosample nmdc:bsm-11-j6j1p639 from  to plant-associated\n",
      "Overriding env_package for biosample nmdc:bsm-11-jjchgw36 from  to plant-associated\n",
      "Overriding env_package for biosample nmdc:bsm-11-jp678560 from  to plant-associated\n",
      "Overriding env_package for biosample nmdc:bsm-11-jq2e3v76 from  to plant-associated\n",
      "Overriding env_package for biosample nmdc:bsm-11-jx6ar740 from  to hydrocarbon resources-fluids_swabs\n",
      "Overriding env_package for biosample nmdc:bsm-11-jxazjs92 from  to plant-associated\n",
      "Overriding env_package for biosample nmdc:bsm-11-jy6ece20 from  to plant-associated\n",
      "Overriding env_package for biosample nmdc:bsm-11-k0vz1j87 from  to plant-associated\n",
      "Overriding env_package for biosample nmdc:bsm-11-k1twxb65 from  to plant-associated\n",
      "Overriding env_package for biosample nmdc:bsm-11-k9192006 from  to plant-associated\n",
      "Overriding env_package for biosample nmdc:bsm-11-kdja3v28 from  to plant-associated\n",
      "Overriding env_package for biosample nmdc:bsm-11-kesw6757 from  to plant-associated\n",
      "Overriding env_package for biosample nmdc:bsm-11-kmpwgz16 from  to hydrocarbon resources-fluids_swabs\n",
      "Overriding env_package for biosample nmdc:bsm-11-kqbbyb62 from  to hydrocarbon resources-fluids_swabs\n",
      "Overriding env_package for biosample nmdc:bsm-11-krcjqt76 from  to plant-associated\n",
      "Overriding env_package for biosample nmdc:bsm-11-kv966g71 from  to hydrocarbon resources-fluids_swabs\n",
      "Overriding env_package for biosample nmdc:bsm-11-m0h9cb45 from  to plant-associated\n",
      "Overriding env_package for biosample nmdc:bsm-11-m4e83773 from  to plant-associated\n",
      "Overriding env_package for biosample nmdc:bsm-11-m4p1ck60 from  to plant-associated\n",
      "Overriding env_package for biosample nmdc:bsm-11-m5prkp97 from  to hydrocarbon resources-fluids_swabs\n",
      "Overriding env_package for biosample nmdc:bsm-11-m69k6p77 from  to hydrocarbon resources-fluids_swabs\n",
      "Overriding env_package for biosample nmdc:bsm-11-m9k8tx16 from  to plant-associated\n",
      "Overriding env_package for biosample nmdc:bsm-11-ma7ry826 from  to plant-associated\n",
      "Overriding env_package for biosample nmdc:bsm-11-mb9s8c17 from  to plant-associated\n",
      "Overriding env_package for biosample nmdc:bsm-11-mbcv4b48 from  to plant-associated\n",
      "Overriding env_package for biosample nmdc:bsm-11-n2a7p974 from  to plant-associated\n",
      "Overriding env_package for biosample nmdc:bsm-11-n6vwc542 from  to plant-associated\n",
      "Overriding env_package for biosample nmdc:bsm-11-n8t7zs15 from  to plant-associated\n",
      "Overriding env_package for biosample nmdc:bsm-11-n9sx1a80 from  to plant-associated\n",
      "Overriding env_package for biosample nmdc:bsm-11-nher1m25 from  to hydrocarbon resources-fluids_swabs\n",
      "Overriding env_package for biosample nmdc:bsm-11-nm187g36 from  to plant-associated\n",
      "Overriding env_package for biosample nmdc:bsm-11-nr7vje40 from  to plant-associated\n",
      "Overriding env_package for biosample nmdc:bsm-11-nrkha596 from  to plant-associated\n",
      "Overriding env_package for biosample nmdc:bsm-11-nwh9ez71 from  to plant-associated\n",
      "Overriding env_package for biosample nmdc:bsm-11-nx7zwq61 from  to plant-associated\n",
      "Overriding env_package for biosample nmdc:bsm-11-p4wss361 from  to plant-associated\n",
      "Overriding env_package for biosample nmdc:bsm-11-p9j7rw40 from  to plant-associated\n",
      "Overriding env_package for biosample nmdc:bsm-11-pebqj065 from  to plant-associated\n",
      "Overriding env_package for biosample nmdc:bsm-11-pgmhxj86 from  to plant-associated\n",
      "Overriding env_package for biosample nmdc:bsm-11-pgxc4f08 from  to plant-associated\n",
      "Overriding env_package for biosample nmdc:bsm-11-ppp4fk41 from  to plant-associated\n",
      "Overriding env_package for biosample nmdc:bsm-11-pq105b36 from  to plant-associated\n",
      "Overriding env_package for biosample nmdc:bsm-11-pvr0ez88 from  to plant-associated\n",
      "Overriding env_package for biosample nmdc:bsm-11-pygdem51 from  to plant-associated\n",
      "Overriding env_package for biosample nmdc:bsm-11-q3qsx507 from  to plant-associated\n",
      "Overriding env_package for biosample nmdc:bsm-11-q3sa0t28 from  to plant-associated\n",
      "Overriding env_package for biosample nmdc:bsm-11-q94v7385 from  to plant-associated\n",
      "Overriding env_package for biosample nmdc:bsm-11-qam3hk28 from  to plant-associated\n",
      "Overriding env_package for biosample nmdc:bsm-11-qe13q836 from  to plant-associated\n",
      "Overriding env_package for biosample nmdc:bsm-11-qg6kxr61 from  to plant-associated\n",
      "Overriding env_package for biosample nmdc:bsm-11-qhq2kh40 from  to plant-associated\n",
      "Overriding env_package for biosample nmdc:bsm-11-qms4zn61 from  to plant-associated\n",
      "Overriding env_package for biosample nmdc:bsm-11-qqc8e352 from  to plant-associated\n",
      "Overriding env_package for biosample nmdc:bsm-11-qvm0vt03 from  to plant-associated\n",
      "Overriding env_package for biosample nmdc:bsm-11-qy2fef59 from  to plant-associated\n",
      "Overriding env_package for biosample nmdc:bsm-11-qzncy838 from  to plant-associated\n",
      "Overriding env_package for biosample nmdc:bsm-11-r3b0ak56 from  to plant-associated\n",
      "Overriding env_package for biosample nmdc:bsm-11-r3tm7493 from  to plant-associated\n",
      "Overriding env_package for biosample nmdc:bsm-11-r4kwpw90 from  to plant-associated\n",
      "Overriding env_package for biosample nmdc:bsm-11-r7k97q10 from  to plant-associated\n",
      "Overriding env_package for biosample nmdc:bsm-11-rk62cv25 from  to plant-associated\n",
      "Overriding env_package for biosample nmdc:bsm-11-rpj4zm44 from  to plant-associated\n",
      "Overriding env_package for biosample nmdc:bsm-11-rzz0z710 from  to plant-associated\n",
      "Overriding env_package for biosample nmdc:bsm-11-s6r1q327 from  to plant-associated\n",
      "Overriding env_package for biosample nmdc:bsm-11-s70cv630 from  to plant-associated\n",
      "Overriding env_package for biosample nmdc:bsm-11-sa4z4f71 from  to hydrocarbon resources-fluids_swabs\n",
      "Overriding env_package for biosample nmdc:bsm-11-sdjt4464 from  to plant-associated\n",
      "Overriding env_package for biosample nmdc:bsm-11-sdjyhj66 from  to plant-associated\n",
      "Overriding env_package for biosample nmdc:bsm-11-shjn2p67 from  to plant-associated\n",
      "Overriding env_package for biosample nmdc:bsm-11-sjtd0y05 from  to plant-associated\n",
      "Overriding env_package for biosample nmdc:bsm-11-spav5m37 from  to plant-associated\n",
      "Overriding env_package for biosample nmdc:bsm-11-sv771k17 from  to plant-associated\n",
      "Overriding env_package for biosample nmdc:bsm-11-syb42s66 from  to plant-associated\n",
      "Overriding env_package for biosample nmdc:bsm-11-t7xb8h63 from  to plant-associated\n",
      "Overriding env_package for biosample nmdc:bsm-11-ta8dt754 from  to plant-associated\n",
      "Overriding env_package for biosample nmdc:bsm-11-tcxb3w32 from  to plant-associated\n",
      "Overriding env_package for biosample nmdc:bsm-11-te5fxe60 from  to plant-associated\n",
      "Overriding env_package for biosample nmdc:bsm-11-th3sr643 from  to plant-associated\n",
      "Overriding env_package for biosample nmdc:bsm-11-tkwn9650 from  to plant-associated\n",
      "Overriding env_package for biosample nmdc:bsm-11-tn8q1269 from  to hydrocarbon resources-fluids_swabs\n",
      "Overriding env_package for biosample nmdc:bsm-11-tnbabs47 from  to plant-associated\n",
      "Overriding env_package for biosample nmdc:bsm-11-tpatza67 from  to plant-associated\n",
      "Overriding env_package for biosample nmdc:bsm-11-trbf6m66 from  to plant-associated\n",
      "Overriding env_package for biosample nmdc:bsm-11-trpbtt49 from  to plant-associated\n",
      "Overriding env_package for biosample nmdc:bsm-11-ttg2t449 from  to hydrocarbon resources-fluids_swabs\n",
      "Overriding env_package for biosample nmdc:bsm-11-tz96dg48 from  to plant-associated\n",
      "Overriding env_package for biosample nmdc:bsm-11-v0p16d89 from  to plant-associated\n",
      "Overriding env_package for biosample nmdc:bsm-11-v9k6q078 from  to plant-associated\n",
      "Overriding env_package for biosample nmdc:bsm-11-veffrc25 from  to hydrocarbon resources-fluids_swabs\n",
      "Overriding env_package for biosample nmdc:bsm-11-vme3w877 from  to plant-associated\n",
      "Overriding env_package for biosample nmdc:bsm-11-vp7n5531 from  to plant-associated\n",
      "Overriding env_package for biosample nmdc:bsm-11-vpe6j733 from  to plant-associated\n",
      "Overriding env_package for biosample nmdc:bsm-11-vrsw1c02 from  to plant-associated\n",
      "Overriding env_package for biosample nmdc:bsm-11-w1t8bv92 from  to plant-associated\n",
      "Overriding env_package for biosample nmdc:bsm-11-wh35sj59 from  to plant-associated\n",
      "Overriding env_package for biosample nmdc:bsm-11-wnrp0p76 from  to plant-associated\n",
      "Overriding env_package for biosample nmdc:bsm-11-wqy7mc31 from  to plant-associated\n",
      "Overriding env_package for biosample nmdc:bsm-11-wr7h1t97 from  to plant-associated\n",
      "Overriding env_package for biosample nmdc:bsm-11-x0sc5x81 from  to plant-associated\n",
      "Overriding env_package for biosample nmdc:bsm-11-xy5ern23 from  to plant-associated\n",
      "Overriding env_package for biosample nmdc:bsm-11-xy8t6808 from  to plant-associated\n",
      "Overriding env_package for biosample nmdc:bsm-11-y31mxv90 from  to plant-associated\n",
      "Overriding env_package for biosample nmdc:bsm-11-y5w1j489 from  to plant-associated\n",
      "Overriding env_package for biosample nmdc:bsm-11-y80cxc26 from  to plant-associated\n",
      "Overriding env_package for biosample nmdc:bsm-11-yd4dqe75 from  to plant-associated\n",
      "Overriding env_package for biosample nmdc:bsm-11-yfc2at70 from  to plant-associated\n",
      "Overriding env_package for biosample nmdc:bsm-11-yvzvbr38 from  to hydrocarbon resources-fluids_swabs\n",
      "Overriding env_package for biosample nmdc:bsm-11-z4hspp43 from  to plant-associated\n",
      "Overriding env_package for biosample nmdc:bsm-11-z66zfk92 from  to plant-associated\n",
      "Overriding env_package for biosample nmdc:bsm-11-z75j2v52 from  to plant-associated\n",
      "Overriding env_package for biosample nmdc:bsm-11-zf5qxz83 from  to plant-associated\n",
      "Overriding env_package for biosample nmdc:bsm-11-zsdrmw76 from  to plant-associated\n",
      "Overriding env_package for biosample nmdc:bsm-11-zvh2hc82 from  to plant-associated\n"
     ]
    }
   ],
   "execution_count": 53
  },
  {
   "cell_type": "code",
   "id": "7cf668c88434c41e",
   "metadata": {
    "ExecuteTime": {
     "end_time": "2024-12-06T20:26:22.023079Z",
     "start_time": "2024-12-06T20:26:21.998406Z"
    }
   },
   "source": [
    "nmdc_biosample_contexts_frame = pd.DataFrame(biosample_contexts_lod)"
   ],
   "outputs": [],
   "execution_count": 54
  },
  {
   "cell_type": "code",
   "id": "77e340a7962f23a6",
   "metadata": {
    "ExecuteTime": {
     "end_time": "2024-12-06T20:26:22.029472Z",
     "start_time": "2024-12-06T20:26:22.024681Z"
    }
   },
   "source": [
    "# print a value count for the normalized_env_package column\n",
    "print(\"Value counts for normalized_env_package column:\")\n",
    "print(nmdc_biosample_contexts_frame['normalized_env_package'].value_counts(dropna=False))"
   ],
   "outputs": [
    {
     "name": "stdout",
     "output_type": "stream",
     "text": [
      "Value counts for normalized_env_package column:\n",
      "normalized_env_package\n",
      "                                                   5838\n",
      "soil                                               1707\n",
      "plant-associated                                    401\n",
      "water                                               192\n",
      "miscellaneous natural or artificial environment     140\n",
      "host-associated                                      61\n",
      "hydrocarbon resources-fluids_swabs                   23\n",
      "Name: count, dtype: int64\n"
     ]
    }
   ],
   "execution_count": 55
  },
  {
   "cell_type": "code",
   "id": "5980aef19fb86ae4",
   "metadata": {
    "ExecuteTime": {
     "end_time": "2024-12-06T20:26:31.737207Z",
     "start_time": "2024-12-06T20:26:22.030917Z"
    }
   },
   "source": [
    "package_predictions = predict_from_normalized_env_packages(nmdc_biosample_contexts_frame, envo_adapter)\n",
    "\n",
    "# these predictions often have a f1 of 1.00\n",
    "# many people might find that hard to believe"
   ],
   "outputs": [
    {
     "name": "stdout",
     "output_type": "stream",
     "text": [
      "(8362, 14)\n",
      "                                                 precision    recall  f1-score   support\n",
      "\n",
      "                                host-associated       1.00      1.00      1.00        16\n",
      "             hydrocarbon resources-fluids_swabs       1.00      1.00      1.00         7\n",
      "miscellaneous natural or artificial environment       1.00      1.00      1.00        50\n",
      "                               plant-associated       1.00      1.00      1.00       122\n",
      "                                           soil       1.00      1.00      1.00       506\n",
      "                                          water       1.00      1.00      1.00        57\n",
      "\n",
      "                                       accuracy                           1.00       758\n",
      "                                      macro avg       1.00      1.00      1.00       758\n",
      "                                   weighted avg       1.00      1.00      1.00       758\n",
      "\n"
     ]
    }
   ],
   "execution_count": 56
  },
  {
   "cell_type": "code",
   "id": "e151c95fe349df93",
   "metadata": {
    "ExecuteTime": {
     "end_time": "2024-12-06T20:26:31.744235Z",
     "start_time": "2024-12-06T20:26:31.739045Z"
    }
   },
   "source": [
    "nmdc_biosample_contexts_frame['predicted_env_package'] = package_predictions"
   ],
   "outputs": [],
   "execution_count": 57
  },
  {
   "cell_type": "code",
   "id": "d5c6aa902c7187e0",
   "metadata": {
    "ExecuteTime": {
     "end_time": "2024-12-06T20:26:31.751120Z",
     "start_time": "2024-12-06T20:26:31.746149Z"
    }
   },
   "source": [
    "nmdc_biosample_contexts_frame.shape"
   ],
   "outputs": [
    {
     "data": {
      "text/plain": [
       "(8362, 15)"
      ]
     },
     "execution_count": 58,
     "metadata": {},
     "output_type": "execute_result"
    }
   ],
   "execution_count": 58
  },
  {
   "cell_type": "code",
   "id": "2b241bcacf4bb100",
   "metadata": {
    "ExecuteTime": {
     "end_time": "2024-12-06T20:26:31.759283Z",
     "start_time": "2024-12-06T20:26:31.752737Z"
    }
   },
   "source": [
    "nmdc_biosample_contexts_frame = nmdc_biosample_contexts_frame[\n",
    "    nmdc_biosample_contexts_frame['predicted_env_package'] == nmdc_package_selector]"
   ],
   "outputs": [],
   "execution_count": 59
  },
  {
   "cell_type": "code",
   "id": "9045896aa4ea468f",
   "metadata": {
    "ExecuteTime": {
     "end_time": "2024-12-06T20:26:31.765818Z",
     "start_time": "2024-12-06T20:26:31.761223Z"
    }
   },
   "source": [
    "nmdc_biosample_contexts_frame.shape"
   ],
   "outputs": [
    {
     "data": {
      "text/plain": [
       "(401, 15)"
      ]
     },
     "execution_count": 60,
     "metadata": {},
     "output_type": "execute_result"
    }
   ],
   "execution_count": 60
  },
  {
   "cell_type": "markdown",
   "id": "aee7b4eea48a8691",
   "metadata": {},
   "source": [
    "----"
   ]
  },
  {
   "cell_type": "code",
   "id": "3be362b73dbda47a",
   "metadata": {
    "ExecuteTime": {
     "end_time": "2024-12-06T20:26:33.456064Z",
     "start_time": "2024-12-06T20:26:31.767656Z"
    }
   },
   "source": [
    "ncbi_frame = ncbi_conn.execute(ncbi_query).fetchdf()"
   ],
   "outputs": [],
   "execution_count": 61
  },
  {
   "cell_type": "code",
   "id": "306ee79ce77f745e",
   "metadata": {
    "ExecuteTime": {
     "end_time": "2024-12-06T20:26:33.460631Z",
     "start_time": "2024-12-06T20:26:33.457579Z"
    }
   },
   "source": [
    "ncbi_frame.insert(0, 'serial_number', range(1, len(ncbi_frame) + 1))"
   ],
   "outputs": [],
   "execution_count": 62
  },
  {
   "cell_type": "code",
   "id": "6f06a6237f0ecdb",
   "metadata": {
    "ExecuteTime": {
     "end_time": "2024-12-06T20:26:33.464514Z",
     "start_time": "2024-12-06T20:26:33.461839Z"
    }
   },
   "source": [
    "# includes values with counts of one... useful for discovering drag-down submissions?"
   ],
   "outputs": [],
   "execution_count": 63
  },
  {
   "cell_type": "code",
   "id": "f07e55ebd0f4c451",
   "metadata": {
    "ExecuteTime": {
     "end_time": "2024-12-06T20:26:33.472901Z",
     "start_time": "2024-12-06T20:26:33.466012Z"
    }
   },
   "source": [
    "ncbi_frame['content_list'] = ncbi_frame['content'].str.split('|')"
   ],
   "outputs": [],
   "execution_count": 64
  },
  {
   "metadata": {
    "ExecuteTime": {
     "end_time": "2024-12-06T20:26:33.476539Z",
     "start_time": "2024-12-06T20:26:33.474283Z"
    }
   },
   "cell_type": "code",
   "source": [
    "## diagnostically useful, but why are we saving this and not all of the intermediate dataframes?\n",
    "# ncbi_frame.to_csv(\"ncbi_frame.tsv\", sep=\"\\t\", index=False)"
   ],
   "id": "d3ac8df29eb8fc8",
   "outputs": [],
   "execution_count": 65
  },
  {
   "metadata": {
    "ExecuteTime": {
     "end_time": "2024-12-06T20:26:33.482548Z",
     "start_time": "2024-12-06T20:26:33.477712Z"
    }
   },
   "cell_type": "code",
   "source": [
    "# todo is there any reason to not do this ?\n",
    "ncbi_frame = ncbi_frame[ncbi_frame['content'].notna() & (ncbi_frame['content'] != '')]"
   ],
   "id": "2e96404aa5dd0f7b",
   "outputs": [],
   "execution_count": 66
  },
  {
   "cell_type": "code",
   "id": "f8c2e13cee8818cb",
   "metadata": {
    "ExecuteTime": {
     "end_time": "2024-12-06T20:26:33.488484Z",
     "start_time": "2024-12-06T20:26:33.483696Z"
    }
   },
   "source": [
    "ncbi_frame['content_count'] = ncbi_frame['content_list'].apply(len)"
   ],
   "outputs": [],
   "execution_count": 67
  },
  {
   "cell_type": "code",
   "id": "edeaac7b5ce53cd5",
   "metadata": {
    "ExecuteTime": {
     "end_time": "2024-12-06T20:26:33.495750Z",
     "start_time": "2024-12-06T20:26:33.490765Z"
    }
   },
   "source": [
    "ncbi_frame.shape"
   ],
   "outputs": [
    {
     "data": {
      "text/plain": [
       "(7904, 5)"
      ]
     },
     "execution_count": 68,
     "metadata": {},
     "output_type": "execute_result"
    }
   ],
   "execution_count": 68
  },
  {
   "cell_type": "code",
   "id": "18860251fea32ee5",
   "metadata": {
    "ExecuteTime": {
     "end_time": "2024-12-06T20:26:33.507012Z",
     "start_time": "2024-12-06T20:26:33.498213Z"
    }
   },
   "source": [
    "ncbi_frame = ncbi_frame.explode('content_list').reset_index(drop=True)"
   ],
   "outputs": [],
   "execution_count": 69
  },
  {
   "cell_type": "code",
   "id": "bc8b89960c12f6e6",
   "metadata": {
    "ExecuteTime": {
     "end_time": "2024-12-06T20:26:33.521292Z",
     "start_time": "2024-12-06T20:26:33.516633Z"
    }
   },
   "source": [
    "ncbi_frame.shape"
   ],
   "outputs": [
    {
     "data": {
      "text/plain": [
       "(15964, 5)"
      ]
     },
     "execution_count": 70,
     "metadata": {},
     "output_type": "execute_result"
    }
   ],
   "execution_count": 70
  },
  {
   "cell_type": "code",
   "id": "85a0a4ccd63b7952",
   "metadata": {
    "ExecuteTime": {
     "end_time": "2024-12-06T20:26:33.526409Z",
     "start_time": "2024-12-06T20:26:33.523198Z"
    }
   },
   "source": [
    "# how many content_list strings contain envo multiple times now?"
   ],
   "outputs": [],
   "execution_count": 71
  },
  {
   "cell_type": "code",
   "id": "4dee374026c8272a",
   "metadata": {
    "ExecuteTime": {
     "end_time": "2024-12-06T20:26:33.542841Z",
     "start_time": "2024-12-06T20:26:33.528176Z"
    }
   },
   "source": [
    "ncbi_frame['envo_count'] = ncbi_frame['content_list'].str.lower().str.count(\"envo\")"
   ],
   "outputs": [],
   "execution_count": 72
  },
  {
   "cell_type": "code",
   "id": "417319d62ef07d0b",
   "metadata": {
    "ExecuteTime": {
     "end_time": "2024-12-06T20:26:33.550243Z",
     "start_time": "2024-12-06T20:26:33.544636Z"
    }
   },
   "source": [
    "ncbi_frame['envo_count'].value_counts()"
   ],
   "outputs": [
    {
     "data": {
      "text/plain": [
       "envo_count\n",
       "1    8473\n",
       "0    7490\n",
       "3       1\n",
       "Name: count, dtype: int64"
      ]
     },
     "execution_count": 73,
     "metadata": {},
     "output_type": "execute_result"
    }
   ],
   "execution_count": 73
  },
  {
   "cell_type": "markdown",
   "id": "5cf708305c445b4a",
   "metadata": {},
   "source": [
    "doesn't split multiple annotation strings delimited with something other than '|'\n",
    "annotations with no curies but multiple strings will be \"annotated\" with OAK, but currently only the one best OAK annotation is kept"
   ]
  },
  {
   "cell_type": "code",
   "id": "7b256380eceaceaa",
   "metadata": {
    "ExecuteTime": {
     "end_time": "2024-12-06T20:26:35.398999Z",
     "start_time": "2024-12-06T20:26:33.551765Z"
    }
   },
   "source": [
    "ncbi_frame[['extracted_label', 'extracted_curie']] = ncbi_frame['content_list'].apply(parse_curie_label)"
   ],
   "outputs": [],
   "execution_count": 74
  },
  {
   "cell_type": "code",
   "id": "761e39ab29aef0a7",
   "metadata": {
    "ExecuteTime": {
     "end_time": "2024-12-06T20:26:35.407031Z",
     "start_time": "2024-12-06T20:26:35.400578Z"
    }
   },
   "source": [
    "parse_failures = ncbi_frame[\n",
    "    (ncbi_frame['envo_count'] > 0) & (ncbi_frame['extracted_curie'].isna() | (ncbi_frame['extracted_curie'] == ''))]\n"
   ],
   "outputs": [],
   "execution_count": 75
  },
  {
   "cell_type": "code",
   "id": "a9316f11da9ee0c8",
   "metadata": {
    "ExecuteTime": {
     "end_time": "2024-12-06T20:26:35.419148Z",
     "start_time": "2024-12-06T20:26:35.408287Z"
    }
   },
   "source": [
    "parse_failures"
   ],
   "outputs": [
    {
     "data": {
      "text/plain": [
       "       serial_number                                    content  sample_count  \\\n",
       "346              339  [ENVO00005801]|[ENVO01001181]|[PO0009005]            72   \n",
       "347              339  [ENVO00005801]|[ENVO01001181]|[PO0009005]            72   \n",
       "413              401                              ENVO：00010483            58   \n",
       "474              462                      Root[ENVO:PO:0009005]            45   \n",
       "806              787                               ENVO00010483            12   \n",
       "854              834                              ENVO：01000314            10   \n",
       "1055            1028              plant organ [ENVO:PO_0009008]             5   \n",
       "6834            3596                                       ENVO             1   \n",
       "8614            4561                            ENVO:PO_0025008             1   \n",
       "8615            4562                            ENVO:PO_0025018             1   \n",
       "8616            4563                            ENVO:PO_0025021             1   \n",
       "10071           5370                            ENVO:PO_0025007             1   \n",
       "10072           5371                            ENVO:PO_0025012             1   \n",
       "10073           5372                            ENVO:PO_0025014             1   \n",
       "11501           5834                            ENVO:PO_0025010             1   \n",
       "11502           5835                            ENVO:PO_0025015             1   \n",
       "11503           5836                            ENVO:PO_0025019             1   \n",
       "11504           5837                            ENVO:PO_0025022             1   \n",
       "13045           6350                            ENVO:PO_0025011             1   \n",
       "13046           6351                            ENVO:PO_0025013             1   \n",
       "14877           7279                            ENVO:PO_0025009             1   \n",
       "14878           7280                            ENVO:PO_0025016             1   \n",
       "14879           7281                            ENVO:PO_0025017             1   \n",
       "14880           7282                            ENVO:PO_0025020             1   \n",
       "\n",
       "                        content_list  content_count  envo_count  \\\n",
       "346                   [ENVO00005801]              3           1   \n",
       "347                   [ENVO01001181]              3           1   \n",
       "413                    ENVO：00010483              1           1   \n",
       "474            Root[ENVO:PO:0009005]              1           1   \n",
       "806                     ENVO00010483              1           1   \n",
       "854                    ENVO：01000314              1           1   \n",
       "1055   plant organ [ENVO:PO_0009008]              1           1   \n",
       "6834                            ENVO              1           1   \n",
       "8614                 ENVO:PO_0025008              1           1   \n",
       "8615                 ENVO:PO_0025018              1           1   \n",
       "8616                 ENVO:PO_0025021              1           1   \n",
       "10071                ENVO:PO_0025007              1           1   \n",
       "10072                ENVO:PO_0025012              1           1   \n",
       "10073                ENVO:PO_0025014              1           1   \n",
       "11501                ENVO:PO_0025010              1           1   \n",
       "11502                ENVO:PO_0025015              1           1   \n",
       "11503                ENVO:PO_0025019              1           1   \n",
       "11504                ENVO:PO_0025022              1           1   \n",
       "13045                ENVO:PO_0025011              1           1   \n",
       "13046                ENVO:PO_0025013              1           1   \n",
       "14877                ENVO:PO_0025009              1           1   \n",
       "14878                ENVO:PO_0025016              1           1   \n",
       "14879                ENVO:PO_0025017              1           1   \n",
       "14880                ENVO:PO_0025020              1           1   \n",
       "\n",
       "                     extracted_label extracted_curie  \n",
       "346                   [ENVO00005801]            None  \n",
       "347                   [ENVO01001181]            None  \n",
       "413                    ENVO：00010483            None  \n",
       "474            Root[ENVO PO 0009005]            None  \n",
       "806                     ENVO00010483            None  \n",
       "854                    ENVO：01000314            None  \n",
       "1055   plant organ [ENVO PO_0009008]            None  \n",
       "6834                            ENVO            None  \n",
       "8614                 ENVO PO_0025008            None  \n",
       "8615                 ENVO PO_0025018            None  \n",
       "8616                 ENVO PO_0025021            None  \n",
       "10071                ENVO PO_0025007            None  \n",
       "10072                ENVO PO_0025012            None  \n",
       "10073                ENVO PO_0025014            None  \n",
       "11501                ENVO PO_0025010            None  \n",
       "11502                ENVO PO_0025015            None  \n",
       "11503                ENVO PO_0025019            None  \n",
       "11504                ENVO PO_0025022            None  \n",
       "13045                ENVO PO_0025011            None  \n",
       "13046                ENVO PO_0025013            None  \n",
       "14877                ENVO PO_0025009            None  \n",
       "14878                ENVO PO_0025016            None  \n",
       "14879                ENVO PO_0025017            None  \n",
       "14880                ENVO PO_0025020            None  "
      ],
      "text/html": [
       "<div>\n",
       "<style scoped>\n",
       "    .dataframe tbody tr th:only-of-type {\n",
       "        vertical-align: middle;\n",
       "    }\n",
       "\n",
       "    .dataframe tbody tr th {\n",
       "        vertical-align: top;\n",
       "    }\n",
       "\n",
       "    .dataframe thead th {\n",
       "        text-align: right;\n",
       "    }\n",
       "</style>\n",
       "<table border=\"1\" class=\"dataframe\">\n",
       "  <thead>\n",
       "    <tr style=\"text-align: right;\">\n",
       "      <th></th>\n",
       "      <th>serial_number</th>\n",
       "      <th>content</th>\n",
       "      <th>sample_count</th>\n",
       "      <th>content_list</th>\n",
       "      <th>content_count</th>\n",
       "      <th>envo_count</th>\n",
       "      <th>extracted_label</th>\n",
       "      <th>extracted_curie</th>\n",
       "    </tr>\n",
       "  </thead>\n",
       "  <tbody>\n",
       "    <tr>\n",
       "      <th>346</th>\n",
       "      <td>339</td>\n",
       "      <td>[ENVO00005801]|[ENVO01001181]|[PO0009005]</td>\n",
       "      <td>72</td>\n",
       "      <td>[ENVO00005801]</td>\n",
       "      <td>3</td>\n",
       "      <td>1</td>\n",
       "      <td>[ENVO00005801]</td>\n",
       "      <td>None</td>\n",
       "    </tr>\n",
       "    <tr>\n",
       "      <th>347</th>\n",
       "      <td>339</td>\n",
       "      <td>[ENVO00005801]|[ENVO01001181]|[PO0009005]</td>\n",
       "      <td>72</td>\n",
       "      <td>[ENVO01001181]</td>\n",
       "      <td>3</td>\n",
       "      <td>1</td>\n",
       "      <td>[ENVO01001181]</td>\n",
       "      <td>None</td>\n",
       "    </tr>\n",
       "    <tr>\n",
       "      <th>413</th>\n",
       "      <td>401</td>\n",
       "      <td>ENVO：00010483</td>\n",
       "      <td>58</td>\n",
       "      <td>ENVO：00010483</td>\n",
       "      <td>1</td>\n",
       "      <td>1</td>\n",
       "      <td>ENVO：00010483</td>\n",
       "      <td>None</td>\n",
       "    </tr>\n",
       "    <tr>\n",
       "      <th>474</th>\n",
       "      <td>462</td>\n",
       "      <td>Root[ENVO:PO:0009005]</td>\n",
       "      <td>45</td>\n",
       "      <td>Root[ENVO:PO:0009005]</td>\n",
       "      <td>1</td>\n",
       "      <td>1</td>\n",
       "      <td>Root[ENVO PO 0009005]</td>\n",
       "      <td>None</td>\n",
       "    </tr>\n",
       "    <tr>\n",
       "      <th>806</th>\n",
       "      <td>787</td>\n",
       "      <td>ENVO00010483</td>\n",
       "      <td>12</td>\n",
       "      <td>ENVO00010483</td>\n",
       "      <td>1</td>\n",
       "      <td>1</td>\n",
       "      <td>ENVO00010483</td>\n",
       "      <td>None</td>\n",
       "    </tr>\n",
       "    <tr>\n",
       "      <th>854</th>\n",
       "      <td>834</td>\n",
       "      <td>ENVO：01000314</td>\n",
       "      <td>10</td>\n",
       "      <td>ENVO：01000314</td>\n",
       "      <td>1</td>\n",
       "      <td>1</td>\n",
       "      <td>ENVO：01000314</td>\n",
       "      <td>None</td>\n",
       "    </tr>\n",
       "    <tr>\n",
       "      <th>1055</th>\n",
       "      <td>1028</td>\n",
       "      <td>plant organ [ENVO:PO_0009008]</td>\n",
       "      <td>5</td>\n",
       "      <td>plant organ [ENVO:PO_0009008]</td>\n",
       "      <td>1</td>\n",
       "      <td>1</td>\n",
       "      <td>plant organ [ENVO PO_0009008]</td>\n",
       "      <td>None</td>\n",
       "    </tr>\n",
       "    <tr>\n",
       "      <th>6834</th>\n",
       "      <td>3596</td>\n",
       "      <td>ENVO</td>\n",
       "      <td>1</td>\n",
       "      <td>ENVO</td>\n",
       "      <td>1</td>\n",
       "      <td>1</td>\n",
       "      <td>ENVO</td>\n",
       "      <td>None</td>\n",
       "    </tr>\n",
       "    <tr>\n",
       "      <th>8614</th>\n",
       "      <td>4561</td>\n",
       "      <td>ENVO:PO_0025008</td>\n",
       "      <td>1</td>\n",
       "      <td>ENVO:PO_0025008</td>\n",
       "      <td>1</td>\n",
       "      <td>1</td>\n",
       "      <td>ENVO PO_0025008</td>\n",
       "      <td>None</td>\n",
       "    </tr>\n",
       "    <tr>\n",
       "      <th>8615</th>\n",
       "      <td>4562</td>\n",
       "      <td>ENVO:PO_0025018</td>\n",
       "      <td>1</td>\n",
       "      <td>ENVO:PO_0025018</td>\n",
       "      <td>1</td>\n",
       "      <td>1</td>\n",
       "      <td>ENVO PO_0025018</td>\n",
       "      <td>None</td>\n",
       "    </tr>\n",
       "    <tr>\n",
       "      <th>8616</th>\n",
       "      <td>4563</td>\n",
       "      <td>ENVO:PO_0025021</td>\n",
       "      <td>1</td>\n",
       "      <td>ENVO:PO_0025021</td>\n",
       "      <td>1</td>\n",
       "      <td>1</td>\n",
       "      <td>ENVO PO_0025021</td>\n",
       "      <td>None</td>\n",
       "    </tr>\n",
       "    <tr>\n",
       "      <th>10071</th>\n",
       "      <td>5370</td>\n",
       "      <td>ENVO:PO_0025007</td>\n",
       "      <td>1</td>\n",
       "      <td>ENVO:PO_0025007</td>\n",
       "      <td>1</td>\n",
       "      <td>1</td>\n",
       "      <td>ENVO PO_0025007</td>\n",
       "      <td>None</td>\n",
       "    </tr>\n",
       "    <tr>\n",
       "      <th>10072</th>\n",
       "      <td>5371</td>\n",
       "      <td>ENVO:PO_0025012</td>\n",
       "      <td>1</td>\n",
       "      <td>ENVO:PO_0025012</td>\n",
       "      <td>1</td>\n",
       "      <td>1</td>\n",
       "      <td>ENVO PO_0025012</td>\n",
       "      <td>None</td>\n",
       "    </tr>\n",
       "    <tr>\n",
       "      <th>10073</th>\n",
       "      <td>5372</td>\n",
       "      <td>ENVO:PO_0025014</td>\n",
       "      <td>1</td>\n",
       "      <td>ENVO:PO_0025014</td>\n",
       "      <td>1</td>\n",
       "      <td>1</td>\n",
       "      <td>ENVO PO_0025014</td>\n",
       "      <td>None</td>\n",
       "    </tr>\n",
       "    <tr>\n",
       "      <th>11501</th>\n",
       "      <td>5834</td>\n",
       "      <td>ENVO:PO_0025010</td>\n",
       "      <td>1</td>\n",
       "      <td>ENVO:PO_0025010</td>\n",
       "      <td>1</td>\n",
       "      <td>1</td>\n",
       "      <td>ENVO PO_0025010</td>\n",
       "      <td>None</td>\n",
       "    </tr>\n",
       "    <tr>\n",
       "      <th>11502</th>\n",
       "      <td>5835</td>\n",
       "      <td>ENVO:PO_0025015</td>\n",
       "      <td>1</td>\n",
       "      <td>ENVO:PO_0025015</td>\n",
       "      <td>1</td>\n",
       "      <td>1</td>\n",
       "      <td>ENVO PO_0025015</td>\n",
       "      <td>None</td>\n",
       "    </tr>\n",
       "    <tr>\n",
       "      <th>11503</th>\n",
       "      <td>5836</td>\n",
       "      <td>ENVO:PO_0025019</td>\n",
       "      <td>1</td>\n",
       "      <td>ENVO:PO_0025019</td>\n",
       "      <td>1</td>\n",
       "      <td>1</td>\n",
       "      <td>ENVO PO_0025019</td>\n",
       "      <td>None</td>\n",
       "    </tr>\n",
       "    <tr>\n",
       "      <th>11504</th>\n",
       "      <td>5837</td>\n",
       "      <td>ENVO:PO_0025022</td>\n",
       "      <td>1</td>\n",
       "      <td>ENVO:PO_0025022</td>\n",
       "      <td>1</td>\n",
       "      <td>1</td>\n",
       "      <td>ENVO PO_0025022</td>\n",
       "      <td>None</td>\n",
       "    </tr>\n",
       "    <tr>\n",
       "      <th>13045</th>\n",
       "      <td>6350</td>\n",
       "      <td>ENVO:PO_0025011</td>\n",
       "      <td>1</td>\n",
       "      <td>ENVO:PO_0025011</td>\n",
       "      <td>1</td>\n",
       "      <td>1</td>\n",
       "      <td>ENVO PO_0025011</td>\n",
       "      <td>None</td>\n",
       "    </tr>\n",
       "    <tr>\n",
       "      <th>13046</th>\n",
       "      <td>6351</td>\n",
       "      <td>ENVO:PO_0025013</td>\n",
       "      <td>1</td>\n",
       "      <td>ENVO:PO_0025013</td>\n",
       "      <td>1</td>\n",
       "      <td>1</td>\n",
       "      <td>ENVO PO_0025013</td>\n",
       "      <td>None</td>\n",
       "    </tr>\n",
       "    <tr>\n",
       "      <th>14877</th>\n",
       "      <td>7279</td>\n",
       "      <td>ENVO:PO_0025009</td>\n",
       "      <td>1</td>\n",
       "      <td>ENVO:PO_0025009</td>\n",
       "      <td>1</td>\n",
       "      <td>1</td>\n",
       "      <td>ENVO PO_0025009</td>\n",
       "      <td>None</td>\n",
       "    </tr>\n",
       "    <tr>\n",
       "      <th>14878</th>\n",
       "      <td>7280</td>\n",
       "      <td>ENVO:PO_0025016</td>\n",
       "      <td>1</td>\n",
       "      <td>ENVO:PO_0025016</td>\n",
       "      <td>1</td>\n",
       "      <td>1</td>\n",
       "      <td>ENVO PO_0025016</td>\n",
       "      <td>None</td>\n",
       "    </tr>\n",
       "    <tr>\n",
       "      <th>14879</th>\n",
       "      <td>7281</td>\n",
       "      <td>ENVO:PO_0025017</td>\n",
       "      <td>1</td>\n",
       "      <td>ENVO:PO_0025017</td>\n",
       "      <td>1</td>\n",
       "      <td>1</td>\n",
       "      <td>ENVO PO_0025017</td>\n",
       "      <td>None</td>\n",
       "    </tr>\n",
       "    <tr>\n",
       "      <th>14880</th>\n",
       "      <td>7282</td>\n",
       "      <td>ENVO:PO_0025020</td>\n",
       "      <td>1</td>\n",
       "      <td>ENVO:PO_0025020</td>\n",
       "      <td>1</td>\n",
       "      <td>1</td>\n",
       "      <td>ENVO PO_0025020</td>\n",
       "      <td>None</td>\n",
       "    </tr>\n",
       "  </tbody>\n",
       "</table>\n",
       "</div>"
      ]
     },
     "execution_count": 76,
     "metadata": {},
     "output_type": "execute_result"
    }
   ],
   "execution_count": 76
  },
  {
   "metadata": {},
   "cell_type": "markdown",
   "source": "Should we try parsing on additional CURIE delimiters? Or no delimiter?\n",
   "id": "4041748e969c8f3f"
  },
  {
   "cell_type": "code",
   "id": "9bdebd91856ff679",
   "metadata": {
    "ExecuteTime": {
     "end_time": "2024-12-06T20:26:40.570924Z",
     "start_time": "2024-12-06T20:26:35.420510Z"
    }
   },
   "source": [
    "ncbi_frame['real_label'] = ncbi_frame['extracted_curie'].apply(envo_adapter.label)"
   ],
   "outputs": [],
   "execution_count": 77
  },
  {
   "cell_type": "code",
   "id": "d06d899567db022e",
   "metadata": {
    "ExecuteTime": {
     "end_time": "2024-12-06T20:27:20.945578Z",
     "start_time": "2024-12-06T20:26:40.572564Z"
    }
   },
   "source": [
    "# Apply the annotation function to each row in the 'label' column\n",
    "ncbi_frame['longest_annotation_curie'] = ncbi_frame['extracted_label'].apply(\n",
    "    lambda x: get_longest_annotation_curie(x, envo_adapter, MIN_ANNOTATION_LEN))\n",
    "\n",
    "# this cell only takes ~ 1 minute, but generates a lot of \"ERRORS\" and WARNINGS in a red fornt\n",
    "#   while loading the ontologies that are used for annotating\n"
   ],
   "outputs": [
    {
     "name": "stderr",
     "output_type": "stream",
     "text": [
      "ERROR:root:Skipping statements(subject=ENVO:00000112,predicate=oio:hasDbXref,object=<http://www.eionet.europa.eu/gemet/concept/8704>,value=None,datatype=None,language=None,); ValueError: <http://www.eionet.europa.eu/gemet/concept/8704> is not a valid URI or CURIE\n",
      "ERROR:root:Skipping statements(subject=ENVO:00001996,predicate=oio:hasDbXref,object=<https://en.wikipedia.org/wiki/Acid_mine_drainage>,value=None,datatype=None,language=None,); ValueError: <https://en.wikipedia.org/wiki/Acid_mine_drainage> is not a valid URI or CURIE\n",
      "ERROR:root:Skipping statements(subject=ENVO:01000225,predicate=oio:hasDbXref,object=<https://www.worldwildlife.org/biomes/tropical-and-subtropical-dry-broadleaf-forests>,value=None,datatype=None,language=None,); ValueError: <https://www.worldwildlife.org/biomes/tropical-and-subtropical-dry-broadleaf-forests> is not a valid URI or CURIE\n",
      "ERROR:root:Skipping statements(subject=ENVO:01000227,predicate=oio:hasDbXref,object=<https://www.worldwildlife.org/biomes/tropical-and-subtropical-dry-broadleaf-forests>,value=None,datatype=None,language=None,); ValueError: <https://www.worldwildlife.org/biomes/tropical-and-subtropical-dry-broadleaf-forests> is not a valid URI or CURIE\n",
      "ERROR:root:Skipping statements(subject=ENVO:01001495,predicate=oio:hasDbXref,object=<https://www.goosocean.org/components/com_oe/oe.php?task=download&id=35904&version=2.0&lang=1&format=1>,value=None,datatype=None,language=None,); ValueError: <https://www.goosocean.org/components/com_oe/oe.php?task=download&id=35904&version=2.0&lang=1&format=1> is not a valid URI or CURIE\n",
      "ERROR:root:Skipping statements(subject=ENVO:01001621,predicate=oio:hasDbXref,object=<https://github.com/ESIPFed/sweet/issues/219>,value=None,datatype=None,language=None,); ValueError: <https://github.com/ESIPFed/sweet/issues/219> is not a valid URI or CURIE\n",
      "ERROR:root:Skipping statements(subject=ENVO:01001626,predicate=oio:hasDbXref,object=<https://www.worldwildlife.org/biomes/deserts-and-xeric-shrublands>,value=None,datatype=None,language=None,); ValueError: <https://www.worldwildlife.org/biomes/deserts-and-xeric-shrublands> is not a valid URI or CURIE\n",
      "ERROR:root:Skipping statements(subject=ENVO:01001627,predicate=oio:hasDbXref,object=<https://www.worldwildlife.org/ecoregions/im1304>,value=None,datatype=None,language=None,); ValueError: <https://www.worldwildlife.org/ecoregions/im1304> is not a valid URI or CURIE\n",
      "ERROR:root:Skipping statements(subject=ENVO:01001628,predicate=oio:hasDbXref,object=<https://www.worldwildlife.org/ecoregions/im1303>,value=None,datatype=None,language=None,); ValueError: <https://www.worldwildlife.org/ecoregions/im1303> is not a valid URI or CURIE\n",
      "ERROR:root:Skipping statements(subject=ENVO:01001644,predicate=oio:hasDbXref,object=<http://vocab.nerc.ac.uk/collection/S23/current/S23C021/>,value=None,datatype=None,language=None,); ValueError: <http://vocab.nerc.ac.uk/collection/S23/current/S23C021/> is not a valid URI or CURIE\n",
      "ERROR:root:Skipping statements(subject=ENVO:01001644,predicate=oio:hasDbXref,object=None,value=Carbonate which is formed as the result of some biological process.,datatype=None,language=None,); ValueError: Carbonate which is formed as the result of some biological process. is not a valid URI or CURIE\n",
      "ERROR:root:Skipping statements(subject=ENVO:01001645,predicate=oio:hasDbXref,object=<http://vocab.nerc.ac.uk/collection/S23/current/S23C013/>,value=None,datatype=None,language=None,); ValueError: <http://vocab.nerc.ac.uk/collection/S23/current/S23C013/> is not a valid URI or CURIE\n",
      "ERROR:root:Skipping statements(subject=ENVO:01001646,predicate=oio:hasDbXref,object=<http://vocab.nerc.ac.uk/collection/S23/current/S23C014/>,value=None,datatype=None,language=None,); ValueError: <http://vocab.nerc.ac.uk/collection/S23/current/S23C014/> is not a valid URI or CURIE\n",
      "ERROR:root:Skipping statements(subject=ENVO:01001647,predicate=oio:hasDbXref,object=<http://vocab.nerc.ac.uk/collection/S23/current/S23C004/>,value=None,datatype=None,language=None,); ValueError: <http://vocab.nerc.ac.uk/collection/S23/current/S23C004/> is not a valid URI or CURIE\n",
      "ERROR:root:Skipping statements(subject=ENVO:01001649,predicate=oio:hasDbXref,object=<http://vocab.nerc.ac.uk/collection/S23/current/S23C011/>,value=None,datatype=None,language=None,); ValueError: <http://vocab.nerc.ac.uk/collection/S23/current/S23C011/> is not a valid URI or CURIE\n",
      "ERROR:root:Skipping statements(subject=ENVO:01001650,predicate=oio:hasDbXref,object=<http://vocab.nerc.ac.uk/collection/S23/current/S23C012/>,value=None,datatype=None,language=None,); ValueError: <http://vocab.nerc.ac.uk/collection/S23/current/S23C012/> is not a valid URI or CURIE\n",
      "ERROR:root:Skipping statements(subject=ENVO:01001651,predicate=oio:hasDbXref,object=<http://vocab.nerc.ac.uk/collection/S23/current/S23C003/>,value=None,datatype=None,language=None,); ValueError: <http://vocab.nerc.ac.uk/collection/S23/current/S23C003/> is not a valid URI or CURIE\n",
      "ERROR:root:Skipping statements(subject=ENVO:01001652,predicate=oio:hasDbXref,object=<http://vocab.nerc.ac.uk/collection/S23/current/S23C005/>,value=None,datatype=None,language=None,); ValueError: <http://vocab.nerc.ac.uk/collection/S23/current/S23C005/> is not a valid URI or CURIE\n",
      "ERROR:root:Skipping statements(subject=ENVO:01001685,predicate=oio:hasDbXref,object=<https://github.com/EnvironmentOntology/envo/issues/1319>,value=None,datatype=None,language=None,); ValueError: <https://github.com/EnvironmentOntology/envo/issues/1319> is not a valid URI or CURIE\n",
      "ERROR:root:Skipping statements(subject=ENVO:01001692,predicate=oio:hasDbXref,object=<https://github.com/EnvironmentOntology/envo/issues/1319>,value=None,datatype=None,language=None,); ValueError: <https://github.com/EnvironmentOntology/envo/issues/1319> is not a valid URI or CURIE\n",
      "ERROR:root:Skipping statements(subject=ENVO:01001743,predicate=oio:hasDbXref,object=<https://github.com/EnvironmentOntology/envo/issues/1319>,value=None,datatype=None,language=None,); ValueError: <https://github.com/EnvironmentOntology/envo/issues/1319> is not a valid URI or CURIE\n",
      "ERROR:root:Skipping statements(subject=ENVO:01001799,predicate=oio:hasDbXref,object=<https://www.worldwildlife.org/biomes/tropical-and-subtropical-dry-broadleaf-forests>,value=None,datatype=None,language=None,); ValueError: <https://www.worldwildlife.org/biomes/tropical-and-subtropical-dry-broadleaf-forests> is not a valid URI or CURIE\n",
      "ERROR:root:Skipping statements(subject=ENVO:01001801,predicate=oio:hasDbXref,object=<https://www.worldwildlife.org/biomes/tropical-and-subtropical-dry-broadleaf-forests>,value=None,datatype=None,language=None,); ValueError: <https://www.worldwildlife.org/biomes/tropical-and-subtropical-dry-broadleaf-forests> is not a valid URI or CURIE\n",
      "ERROR:root:Skipping statements(subject=ENVO:01001823,predicate=oio:hasDbXref,object=<https://github.com/EnvironmentOntology/envo/issues/1319>,value=None,datatype=None,language=None,); ValueError: <https://github.com/EnvironmentOntology/envo/issues/1319> is not a valid URI or CURIE\n",
      "ERROR:root:Skipping statements(subject=ENVO:01001878,predicate=oio:hasDbXref,object=<https://www.goosocean.org/index.php?option=com_oe&task=viewDocumentRecord&docID=17476>,value=None,datatype=None,language=None,); ValueError: <https://www.goosocean.org/index.php?option=com_oe&task=viewDocumentRecord&docID=17476> is not a valid URI or CURIE\n",
      "ERROR:root:Skipping statements(subject=ENVO:01001879,predicate=oio:hasDbXref,object=<https://github.com/ESIPFed/sweet/issues/219>,value=None,datatype=None,language=None,); ValueError: <https://github.com/ESIPFed/sweet/issues/219> is not a valid URI or CURIE\n",
      "ERROR:root:Skipping statements(subject=ENVO:01001880,predicate=oio:hasDbXref,object=<https://github.com/ESIPFed/sweet/issues/219>,value=None,datatype=None,language=None,); ValueError: <https://github.com/ESIPFed/sweet/issues/219> is not a valid URI or CURIE\n",
      "ERROR:root:Skipping statements(subject=ENVO:01001881,predicate=oio:hasDbXref,object=<https://github.com/ESIPFed/sweet/issues/219>,value=None,datatype=None,language=None,); ValueError: <https://github.com/ESIPFed/sweet/issues/219> is not a valid URI or CURIE\n",
      "ERROR:root:Skipping statements(subject=ENVO:02000093,predicate=oio:hasDbXref,object=<https://en.wikipedia.org/wiki/Uranium_mining>,value=None,datatype=None,language=None,); ValueError: <https://en.wikipedia.org/wiki/Uranium_mining> is not a valid URI or CURIE\n",
      "ERROR:root:Skipping statements(subject=ENVO:02000094,predicate=oio:hasDbXref,object=<https://en.wikipedia.org/wiki/Ore>,value=None,datatype=None,language=None,); ValueError: <https://en.wikipedia.org/wiki/Ore> is not a valid URI or CURIE\n",
      "ERROR:root:Skipping statements(subject=ENVO:03501363,predicate=oio:hasDbXref,object=<https://www.conveyorsystemsltd.co.uk/news/168/126/Roller-Conveyor-vs-Belt-Conveyor.htm>,value=None,datatype=None,language=None,); ValueError: <https://www.conveyorsystemsltd.co.uk/news/168/126/Roller-Conveyor-vs-Belt-Conveyor.htm> is not a valid URI or CURIE\n",
      "ERROR:root:Skipping statements(subject=ENVO:06105112,predicate=oio:hasDbXref,object=<http://eurovoc.europa.eu/1837>,value=None,datatype=None,language=None,); ValueError: <http://eurovoc.europa.eu/1837> is not a valid URI or CURIE\n",
      "ERROR:root:Skipping statements(subject=ENVO:06105112,predicate=oio:hasDbXref,object=<http://aims.fao.org/aos/agrovoc/c_5998>,value=None,datatype=None,language=None,); ValueError: <http://aims.fao.org/aos/agrovoc/c_5998> is not a valid URI or CURIE\n",
      "WARNING:root:Skipping <http://geneontology.org/foo/applies-pattern> as it is not a valid CURIE\n",
      "WARNING:root:Skipping <http://schema.org/image> as it is not a valid CURIE\n",
      "WARNING:root:Skipping <http://swrl.stanford.edu/ontologies/3.3/swrla.owl#isRuleEnabled> as it is not a valid CURIE\n",
      "WARNING:root:Skipping <https://www.wikidata.org/wiki/Q2306597> as it is not a valid CURIE\n",
      "WARNING:root:Skipping <https://www.wikidata.org/wiki/Q2> as it is not a valid CURIE\n",
      "WARNING:root:Skipping <https://www.wikidata.org/wiki/Q525> as it is not a valid CURIE\n",
      "WARNING:root:Skipping <https://www.wikidata.org/wiki/Q715269> as it is not a valid CURIE\n"
     ]
    }
   ],
   "execution_count": 78
  },
  {
   "cell_type": "code",
   "id": "2d0d090813223db3",
   "metadata": {
    "ExecuteTime": {
     "end_time": "2024-12-06T20:27:25.627313Z",
     "start_time": "2024-12-06T20:27:20.946900Z"
    }
   },
   "source": [
    "ncbi_frame['longest_annotation_label'] = ncbi_frame['longest_annotation_curie'].apply(envo_adapter.label)"
   ],
   "outputs": [],
   "execution_count": 79
  },
  {
   "cell_type": "code",
   "id": "940cd4e688adb239",
   "metadata": {
    "ExecuteTime": {
     "end_time": "2024-12-06T20:27:25.644817Z",
     "start_time": "2024-12-06T20:27:25.629302Z"
    }
   },
   "source": [
    "ncbi_frame"
   ],
   "outputs": [
    {
     "data": {
      "text/plain": [
       "       serial_number                               content  sample_count  \\\n",
       "0                  1                        not applicable         13553   \n",
       "1                  2                                 plant         10684   \n",
       "2                  3                                  soil          9189   \n",
       "3                  4                                  root          7722   \n",
       "4                  5               vegetative shoot system          7675   \n",
       "...              ...                                   ...           ...   \n",
       "15959           7901                                root34             1   \n",
       "15960           7902                             XVM2_8hWT             1   \n",
       "15961           7903  Metrosideros tree with crown dieback             1   \n",
       "15962           7904               material[ENVO:00002018]             1   \n",
       "15963           7905               material[ENVO:00002032]             1   \n",
       "\n",
       "                               content_list  content_count  envo_count  \\\n",
       "0                            not applicable              1           0   \n",
       "1                                     plant              1           0   \n",
       "2                                      soil              1           0   \n",
       "3                                      root              1           0   \n",
       "4                   vegetative shoot system              1           0   \n",
       "...                                     ...            ...         ...   \n",
       "15959                                root34              1           0   \n",
       "15960                             XVM2_8hWT              1           0   \n",
       "15961  Metrosideros tree with crown dieback              1           0   \n",
       "15962               material[ENVO:00002018]              1           1   \n",
       "15963               material[ENVO:00002032]              1           1   \n",
       "\n",
       "                            extracted_label extracted_curie  \\\n",
       "0                            not applicable            None   \n",
       "1                                     plant            None   \n",
       "2                                      soil            None   \n",
       "3                                      root            None   \n",
       "4                   vegetative shoot system            None   \n",
       "...                                     ...             ...   \n",
       "15959                                root34            None   \n",
       "15960                             XVM2_8hWT            None   \n",
       "15961  Metrosideros tree with crown dieback            None   \n",
       "15962                              material   ENVO:00002018   \n",
       "15963                              material   ENVO:00002032   \n",
       "\n",
       "                                 real_label longest_annotation_curie  \\\n",
       "0                                      None                     None   \n",
       "1                                      None                     None   \n",
       "2                                      None            ENVO:00001998   \n",
       "3                                      None              NCBITaxon:1   \n",
       "4                                      None               PO:0009006   \n",
       "...                                     ...                      ...   \n",
       "15959                                  None              NCBITaxon:1   \n",
       "15960                                  None                     None   \n",
       "15961                                  None            ENVO:03501116   \n",
       "15962                                sewage                     None   \n",
       "15963  obsolete organism-associated habitat                     None   \n",
       "\n",
       "      longest_annotation_label  \n",
       "0                         None  \n",
       "1                         None  \n",
       "2                         soil  \n",
       "3                         root  \n",
       "4                 shoot system  \n",
       "...                        ...  \n",
       "15959                     root  \n",
       "15960                     None  \n",
       "15961     rapid transit system  \n",
       "15962                     None  \n",
       "15963                     None  \n",
       "\n",
       "[15964 rows x 11 columns]"
      ],
      "text/html": [
       "<div>\n",
       "<style scoped>\n",
       "    .dataframe tbody tr th:only-of-type {\n",
       "        vertical-align: middle;\n",
       "    }\n",
       "\n",
       "    .dataframe tbody tr th {\n",
       "        vertical-align: top;\n",
       "    }\n",
       "\n",
       "    .dataframe thead th {\n",
       "        text-align: right;\n",
       "    }\n",
       "</style>\n",
       "<table border=\"1\" class=\"dataframe\">\n",
       "  <thead>\n",
       "    <tr style=\"text-align: right;\">\n",
       "      <th></th>\n",
       "      <th>serial_number</th>\n",
       "      <th>content</th>\n",
       "      <th>sample_count</th>\n",
       "      <th>content_list</th>\n",
       "      <th>content_count</th>\n",
       "      <th>envo_count</th>\n",
       "      <th>extracted_label</th>\n",
       "      <th>extracted_curie</th>\n",
       "      <th>real_label</th>\n",
       "      <th>longest_annotation_curie</th>\n",
       "      <th>longest_annotation_label</th>\n",
       "    </tr>\n",
       "  </thead>\n",
       "  <tbody>\n",
       "    <tr>\n",
       "      <th>0</th>\n",
       "      <td>1</td>\n",
       "      <td>not applicable</td>\n",
       "      <td>13553</td>\n",
       "      <td>not applicable</td>\n",
       "      <td>1</td>\n",
       "      <td>0</td>\n",
       "      <td>not applicable</td>\n",
       "      <td>None</td>\n",
       "      <td>None</td>\n",
       "      <td>None</td>\n",
       "      <td>None</td>\n",
       "    </tr>\n",
       "    <tr>\n",
       "      <th>1</th>\n",
       "      <td>2</td>\n",
       "      <td>plant</td>\n",
       "      <td>10684</td>\n",
       "      <td>plant</td>\n",
       "      <td>1</td>\n",
       "      <td>0</td>\n",
       "      <td>plant</td>\n",
       "      <td>None</td>\n",
       "      <td>None</td>\n",
       "      <td>None</td>\n",
       "      <td>None</td>\n",
       "    </tr>\n",
       "    <tr>\n",
       "      <th>2</th>\n",
       "      <td>3</td>\n",
       "      <td>soil</td>\n",
       "      <td>9189</td>\n",
       "      <td>soil</td>\n",
       "      <td>1</td>\n",
       "      <td>0</td>\n",
       "      <td>soil</td>\n",
       "      <td>None</td>\n",
       "      <td>None</td>\n",
       "      <td>ENVO:00001998</td>\n",
       "      <td>soil</td>\n",
       "    </tr>\n",
       "    <tr>\n",
       "      <th>3</th>\n",
       "      <td>4</td>\n",
       "      <td>root</td>\n",
       "      <td>7722</td>\n",
       "      <td>root</td>\n",
       "      <td>1</td>\n",
       "      <td>0</td>\n",
       "      <td>root</td>\n",
       "      <td>None</td>\n",
       "      <td>None</td>\n",
       "      <td>NCBITaxon:1</td>\n",
       "      <td>root</td>\n",
       "    </tr>\n",
       "    <tr>\n",
       "      <th>4</th>\n",
       "      <td>5</td>\n",
       "      <td>vegetative shoot system</td>\n",
       "      <td>7675</td>\n",
       "      <td>vegetative shoot system</td>\n",
       "      <td>1</td>\n",
       "      <td>0</td>\n",
       "      <td>vegetative shoot system</td>\n",
       "      <td>None</td>\n",
       "      <td>None</td>\n",
       "      <td>PO:0009006</td>\n",
       "      <td>shoot system</td>\n",
       "    </tr>\n",
       "    <tr>\n",
       "      <th>...</th>\n",
       "      <td>...</td>\n",
       "      <td>...</td>\n",
       "      <td>...</td>\n",
       "      <td>...</td>\n",
       "      <td>...</td>\n",
       "      <td>...</td>\n",
       "      <td>...</td>\n",
       "      <td>...</td>\n",
       "      <td>...</td>\n",
       "      <td>...</td>\n",
       "      <td>...</td>\n",
       "    </tr>\n",
       "    <tr>\n",
       "      <th>15959</th>\n",
       "      <td>7901</td>\n",
       "      <td>root34</td>\n",
       "      <td>1</td>\n",
       "      <td>root34</td>\n",
       "      <td>1</td>\n",
       "      <td>0</td>\n",
       "      <td>root34</td>\n",
       "      <td>None</td>\n",
       "      <td>None</td>\n",
       "      <td>NCBITaxon:1</td>\n",
       "      <td>root</td>\n",
       "    </tr>\n",
       "    <tr>\n",
       "      <th>15960</th>\n",
       "      <td>7902</td>\n",
       "      <td>XVM2_8hWT</td>\n",
       "      <td>1</td>\n",
       "      <td>XVM2_8hWT</td>\n",
       "      <td>1</td>\n",
       "      <td>0</td>\n",
       "      <td>XVM2_8hWT</td>\n",
       "      <td>None</td>\n",
       "      <td>None</td>\n",
       "      <td>None</td>\n",
       "      <td>None</td>\n",
       "    </tr>\n",
       "    <tr>\n",
       "      <th>15961</th>\n",
       "      <td>7903</td>\n",
       "      <td>Metrosideros tree with crown dieback</td>\n",
       "      <td>1</td>\n",
       "      <td>Metrosideros tree with crown dieback</td>\n",
       "      <td>1</td>\n",
       "      <td>0</td>\n",
       "      <td>Metrosideros tree with crown dieback</td>\n",
       "      <td>None</td>\n",
       "      <td>None</td>\n",
       "      <td>ENVO:03501116</td>\n",
       "      <td>rapid transit system</td>\n",
       "    </tr>\n",
       "    <tr>\n",
       "      <th>15962</th>\n",
       "      <td>7904</td>\n",
       "      <td>material[ENVO:00002018]</td>\n",
       "      <td>1</td>\n",
       "      <td>material[ENVO:00002018]</td>\n",
       "      <td>1</td>\n",
       "      <td>1</td>\n",
       "      <td>material</td>\n",
       "      <td>ENVO:00002018</td>\n",
       "      <td>sewage</td>\n",
       "      <td>None</td>\n",
       "      <td>None</td>\n",
       "    </tr>\n",
       "    <tr>\n",
       "      <th>15963</th>\n",
       "      <td>7905</td>\n",
       "      <td>material[ENVO:00002032]</td>\n",
       "      <td>1</td>\n",
       "      <td>material[ENVO:00002032]</td>\n",
       "      <td>1</td>\n",
       "      <td>1</td>\n",
       "      <td>material</td>\n",
       "      <td>ENVO:00002032</td>\n",
       "      <td>obsolete organism-associated habitat</td>\n",
       "      <td>None</td>\n",
       "      <td>None</td>\n",
       "    </tr>\n",
       "  </tbody>\n",
       "</table>\n",
       "<p>15964 rows × 11 columns</p>\n",
       "</div>"
      ]
     },
     "execution_count": 80,
     "metadata": {},
     "output_type": "execute_result"
    }
   ],
   "execution_count": 80
  },
  {
   "metadata": {
    "ExecuteTime": {
     "end_time": "2024-12-06T20:27:25.652784Z",
     "start_time": "2024-12-06T20:27:25.647199Z"
    }
   },
   "cell_type": "code",
   "source": [
    "if os.path.isfile(gold_data_file_name):\n",
    "    print(f\"{gold_data_file_name} is already present in the current working directory.\")\n",
    "else:\n",
    "    print(f\"{gold_data_file_name} needs to be downloaded\")\n",
    "    gold_response = requests.get(gold_data_url)\n",
    "    with open(gold_data_file_name, \"wb\") as f:\n",
    "        f.write(gold_response.content)\n",
    "        # ~ 10 seconds  @ 250 Mbps"
   ],
   "id": "8de124964756a131",
   "outputs": [
    {
     "name": "stdout",
     "output_type": "stream",
     "text": [
      "goldData.xlsx is already present in the current working directory.\n"
     ]
    }
   ],
   "execution_count": 81
  },
  {
   "metadata": {},
   "cell_type": "markdown",
   "source": [
    "Expect to see\n",
    "\n",
    "> /home/mark/.cache/pypoetry/virtualenvs/nmdc-submission-schema-DC6HKp4p-py3.10/lib/python3.10/site-packages/openpyxl/styles/stylesheet.py:237: UserWarning: Workbook contains no default style, apply openpyxl's default\n",
    "  warn(\"Workbook contains no default style, apply openpyxl's default\")"
   ],
   "id": "590bfd050233cda1"
  },
  {
   "metadata": {
    "ExecuteTime": {
     "end_time": "2024-12-06T20:27:26.582242Z",
     "start_time": "2024-12-06T20:27:25.654667Z"
    }
   },
   "cell_type": "code",
   "source": [
    "if os.path.isfile(gold_csv_file_name):\n",
    "    print(f\"{gold_csv_file_name} is present in the current working directory and will be parsed into gold_biosamples_frame.\")\n",
    "    gold_biosamples_frame = pd.read_csv(gold_csv_file_name, sep=\"\\t\")\n",
    "else:\n",
    "    print(f\"gold_biosamples_frame and {gold_csv_file_name} need to be created\")\n",
    "    gold_biosamples_frame = pd.read_excel(gold_data_file_name, sheet_name=BIOSAMPLES_SHEET)\n",
    "    gold_biosamples_frame.to_csv(\"gold_biosamples.csv\", index=False, sep=\"\\t\")\n",
    "    # 2 minutes"
   ],
   "id": "b2bded0c859cfdb7",
   "outputs": [
    {
     "name": "stdout",
     "output_type": "stream",
     "text": [
      "gold_biosamples.csv is present in the current working directory and will be parsed into gold_biosamples_frame.\n"
     ]
    }
   ],
   "execution_count": 82
  },
  {
   "cell_type": "code",
   "id": "fb292efb113d881a",
   "metadata": {
    "ExecuteTime": {
     "end_time": "2024-12-06T20:27:26.596479Z",
     "start_time": "2024-12-06T20:27:26.584603Z"
    }
   },
   "source": [
    "gold_biosamples_frame['BIOSAMPLE ECOSYSTEM PATH ID'] = gold_biosamples_frame['BIOSAMPLE ECOSYSTEM PATH ID'].fillna(\n",
    "    0).astype(int)\n"
   ],
   "outputs": [],
   "execution_count": 83
  },
  {
   "cell_type": "code",
   "id": "ca3110d5a0a1fa80",
   "metadata": {
    "ExecuteTime": {
     "end_time": "2024-12-06T20:27:26.623569Z",
     "start_time": "2024-12-06T20:27:26.599184Z"
    }
   },
   "source": [
    "gold_biosamples_frame"
   ],
   "outputs": [
    {
     "data": {
      "text/plain": [
       "       BIOSAMPLE GOLD ID                                     BIOSAMPLE NAME  \\\n",
       "0              Gb0011929  GEBA_MDM Biosample from Great Boiling Spring, ...   \n",
       "1              Gb0035601  Compost enrichment cellulose adapted microbial...   \n",
       "2              Gb0035602  Compost enrichment cellulose adapted microbial...   \n",
       "3              Gb0035635  Compost enrichment cellulose adapted microbial...   \n",
       "4              Gb0035638  Compost enrichment cellulose adapted microbial...   \n",
       "...                  ...                                                ...   \n",
       "211608         Gb0405291  Freshwater biofilm microbial communities from ...   \n",
       "211609         Gb0405292  Freshwater biofilm microbial communities from ...   \n",
       "211610         Gb0405293  Freshwater microbial communities from Lake Sug...   \n",
       "211611         Gb0405294  Freshwater microbial communities from Prairie ...   \n",
       "211612         Gb0405295  Freshwater biofilm microbial communities from ...   \n",
       "\n",
       "        BIOSAMPLE NCBI TAX ID BIOSAMPLE NCBI TAX NAME  \\\n",
       "0                    749907.0     sediment metagenome   \n",
       "1                    702656.0      compost metagenome   \n",
       "2                    702656.0      compost metagenome   \n",
       "3                    702656.0      compost metagenome   \n",
       "4                    702656.0      compost metagenome   \n",
       "...                       ...                     ...   \n",
       "211608               718308.0      biofilm metagenome   \n",
       "211609               718308.0      biofilm metagenome   \n",
       "211610               449393.0   freshwater metagenome   \n",
       "211611               449393.0   freshwater metagenome   \n",
       "211612               718308.0      biofilm metagenome   \n",
       "\n",
       "       BIOSAMPLE SAMPLE COLLECTION SITE BIOSAMPLE SAMPLE COLLECTION DATE  \\\n",
       "0                              Sediment                              NaN   \n",
       "1                           single cell                       2012-10-31   \n",
       "2                           single cell                       2012-10-31   \n",
       "3                           single cell                       2012-10-31   \n",
       "4                           single cell                       2012-10-31   \n",
       "...                                 ...                              ...   \n",
       "211608                    creek biofilm                       2023-07-26   \n",
       "211609                    creek biofilm                       2023-07-26   \n",
       "211610                       lake water                       2023-08-01   \n",
       "211611                       lake water                       2023-08-08   \n",
       "211612                    creek biofilm                       2023-07-24   \n",
       "\n",
       "                            BIOSAMPLE GEOGRAPHIC LOCATION  BIOSAMPLE LATITUDE  \\\n",
       "0                      Great Boiling Spring (GBS), Nevada           40.661433   \n",
       "1       USA: California: Emeryville: Joint Bio-Energy ...           37.840800   \n",
       "2       USA: California: Emeryville: Joint Bio-Energy ...           37.840800   \n",
       "3       USA: California: Emeryville: Joint Bio-Energy ...           37.840800   \n",
       "4       USA: California: Emeryville: Joint Bio-Energy ...           37.840800   \n",
       "...                                                   ...                 ...   \n",
       "211608   USA: Lewis Run NEON Field Site, Briggs, Virginia           39.095630   \n",
       "211609   USA: Lewis Run NEON Field Site, Briggs, Virginia           39.095630   \n",
       "211610  USA: Lake Suggs NEON Field Site, Melrose, Florida           29.688140   \n",
       "211611  USA: Prairie Lake NEON Field Site, Vashti, Nor...           47.159710   \n",
       "211612  USA: Kings Creek NEON Field Site, Manhattan, K...           39.105060   \n",
       "\n",
       "        BIOSAMPLE LONGITUDE  BIOSAMPLE ECOSYSTEM PATH ID BIOSAMPLE ECOSYSTEM  \\\n",
       "0               -119.366250                         3992       Environmental   \n",
       "1               -122.289600                         6039          Engineered   \n",
       "2               -122.289600                         6039          Engineered   \n",
       "3               -122.289600                         6039          Engineered   \n",
       "4               -122.289600                         6039          Engineered   \n",
       "...                     ...                          ...                 ...   \n",
       "211608           -77.983216                         8389       Environmental   \n",
       "211609           -77.983216                         8389       Environmental   \n",
       "211610           -82.017318                         4179       Environmental   \n",
       "211611           -99.118723                         4179       Environmental   \n",
       "211612           -96.603829                         8389       Environmental   \n",
       "\n",
       "       BIOSAMPLE ECOSYSTEM CATEGORY BIOSAMPLE ECOSYSTEM TYPE  \\\n",
       "0                           Aquatic          Thermal springs   \n",
       "1                       Solid waste              Green waste   \n",
       "2                       Solid waste              Green waste   \n",
       "3                       Solid waste              Green waste   \n",
       "4                       Solid waste              Green waste   \n",
       "...                             ...                      ...   \n",
       "211608                      Aquatic               Freshwater   \n",
       "211609                      Aquatic               Freshwater   \n",
       "211610                      Aquatic               Freshwater   \n",
       "211611                      Aquatic               Freshwater   \n",
       "211612                      Aquatic               Freshwater   \n",
       "\n",
       "       BIOSAMPLE ECOSYSTEM SUBTYPE BIOSAMPLE SPECIFIC ECOSYSTEM  \n",
       "0                     Hot (42-90C)                 Unclassified  \n",
       "1                       Composting                 Unclassified  \n",
       "2                       Composting                 Unclassified  \n",
       "3                       Composting                 Unclassified  \n",
       "4                       Composting                 Unclassified  \n",
       "...                            ...                          ...  \n",
       "211608                       Creek                      Biofilm  \n",
       "211609                       Creek                      Biofilm  \n",
       "211610                        Lake                 Unclassified  \n",
       "211611                        Lake                 Unclassified  \n",
       "211612                       Creek                      Biofilm  \n",
       "\n",
       "[211613 rows x 15 columns]"
      ],
      "text/html": [
       "<div>\n",
       "<style scoped>\n",
       "    .dataframe tbody tr th:only-of-type {\n",
       "        vertical-align: middle;\n",
       "    }\n",
       "\n",
       "    .dataframe tbody tr th {\n",
       "        vertical-align: top;\n",
       "    }\n",
       "\n",
       "    .dataframe thead th {\n",
       "        text-align: right;\n",
       "    }\n",
       "</style>\n",
       "<table border=\"1\" class=\"dataframe\">\n",
       "  <thead>\n",
       "    <tr style=\"text-align: right;\">\n",
       "      <th></th>\n",
       "      <th>BIOSAMPLE GOLD ID</th>\n",
       "      <th>BIOSAMPLE NAME</th>\n",
       "      <th>BIOSAMPLE NCBI TAX ID</th>\n",
       "      <th>BIOSAMPLE NCBI TAX NAME</th>\n",
       "      <th>BIOSAMPLE SAMPLE COLLECTION SITE</th>\n",
       "      <th>BIOSAMPLE SAMPLE COLLECTION DATE</th>\n",
       "      <th>BIOSAMPLE GEOGRAPHIC LOCATION</th>\n",
       "      <th>BIOSAMPLE LATITUDE</th>\n",
       "      <th>BIOSAMPLE LONGITUDE</th>\n",
       "      <th>BIOSAMPLE ECOSYSTEM PATH ID</th>\n",
       "      <th>BIOSAMPLE ECOSYSTEM</th>\n",
       "      <th>BIOSAMPLE ECOSYSTEM CATEGORY</th>\n",
       "      <th>BIOSAMPLE ECOSYSTEM TYPE</th>\n",
       "      <th>BIOSAMPLE ECOSYSTEM SUBTYPE</th>\n",
       "      <th>BIOSAMPLE SPECIFIC ECOSYSTEM</th>\n",
       "    </tr>\n",
       "  </thead>\n",
       "  <tbody>\n",
       "    <tr>\n",
       "      <th>0</th>\n",
       "      <td>Gb0011929</td>\n",
       "      <td>GEBA_MDM Biosample from Great Boiling Spring, ...</td>\n",
       "      <td>749907.0</td>\n",
       "      <td>sediment metagenome</td>\n",
       "      <td>Sediment</td>\n",
       "      <td>NaN</td>\n",
       "      <td>Great Boiling Spring (GBS), Nevada</td>\n",
       "      <td>40.661433</td>\n",
       "      <td>-119.366250</td>\n",
       "      <td>3992</td>\n",
       "      <td>Environmental</td>\n",
       "      <td>Aquatic</td>\n",
       "      <td>Thermal springs</td>\n",
       "      <td>Hot (42-90C)</td>\n",
       "      <td>Unclassified</td>\n",
       "    </tr>\n",
       "    <tr>\n",
       "      <th>1</th>\n",
       "      <td>Gb0035601</td>\n",
       "      <td>Compost enrichment cellulose adapted microbial...</td>\n",
       "      <td>702656.0</td>\n",
       "      <td>compost metagenome</td>\n",
       "      <td>single cell</td>\n",
       "      <td>2012-10-31</td>\n",
       "      <td>USA: California: Emeryville: Joint Bio-Energy ...</td>\n",
       "      <td>37.840800</td>\n",
       "      <td>-122.289600</td>\n",
       "      <td>6039</td>\n",
       "      <td>Engineered</td>\n",
       "      <td>Solid waste</td>\n",
       "      <td>Green waste</td>\n",
       "      <td>Composting</td>\n",
       "      <td>Unclassified</td>\n",
       "    </tr>\n",
       "    <tr>\n",
       "      <th>2</th>\n",
       "      <td>Gb0035602</td>\n",
       "      <td>Compost enrichment cellulose adapted microbial...</td>\n",
       "      <td>702656.0</td>\n",
       "      <td>compost metagenome</td>\n",
       "      <td>single cell</td>\n",
       "      <td>2012-10-31</td>\n",
       "      <td>USA: California: Emeryville: Joint Bio-Energy ...</td>\n",
       "      <td>37.840800</td>\n",
       "      <td>-122.289600</td>\n",
       "      <td>6039</td>\n",
       "      <td>Engineered</td>\n",
       "      <td>Solid waste</td>\n",
       "      <td>Green waste</td>\n",
       "      <td>Composting</td>\n",
       "      <td>Unclassified</td>\n",
       "    </tr>\n",
       "    <tr>\n",
       "      <th>3</th>\n",
       "      <td>Gb0035635</td>\n",
       "      <td>Compost enrichment cellulose adapted microbial...</td>\n",
       "      <td>702656.0</td>\n",
       "      <td>compost metagenome</td>\n",
       "      <td>single cell</td>\n",
       "      <td>2012-10-31</td>\n",
       "      <td>USA: California: Emeryville: Joint Bio-Energy ...</td>\n",
       "      <td>37.840800</td>\n",
       "      <td>-122.289600</td>\n",
       "      <td>6039</td>\n",
       "      <td>Engineered</td>\n",
       "      <td>Solid waste</td>\n",
       "      <td>Green waste</td>\n",
       "      <td>Composting</td>\n",
       "      <td>Unclassified</td>\n",
       "    </tr>\n",
       "    <tr>\n",
       "      <th>4</th>\n",
       "      <td>Gb0035638</td>\n",
       "      <td>Compost enrichment cellulose adapted microbial...</td>\n",
       "      <td>702656.0</td>\n",
       "      <td>compost metagenome</td>\n",
       "      <td>single cell</td>\n",
       "      <td>2012-10-31</td>\n",
       "      <td>USA: California: Emeryville: Joint Bio-Energy ...</td>\n",
       "      <td>37.840800</td>\n",
       "      <td>-122.289600</td>\n",
       "      <td>6039</td>\n",
       "      <td>Engineered</td>\n",
       "      <td>Solid waste</td>\n",
       "      <td>Green waste</td>\n",
       "      <td>Composting</td>\n",
       "      <td>Unclassified</td>\n",
       "    </tr>\n",
       "    <tr>\n",
       "      <th>...</th>\n",
       "      <td>...</td>\n",
       "      <td>...</td>\n",
       "      <td>...</td>\n",
       "      <td>...</td>\n",
       "      <td>...</td>\n",
       "      <td>...</td>\n",
       "      <td>...</td>\n",
       "      <td>...</td>\n",
       "      <td>...</td>\n",
       "      <td>...</td>\n",
       "      <td>...</td>\n",
       "      <td>...</td>\n",
       "      <td>...</td>\n",
       "      <td>...</td>\n",
       "      <td>...</td>\n",
       "    </tr>\n",
       "    <tr>\n",
       "      <th>211608</th>\n",
       "      <td>Gb0405291</td>\n",
       "      <td>Freshwater biofilm microbial communities from ...</td>\n",
       "      <td>718308.0</td>\n",
       "      <td>biofilm metagenome</td>\n",
       "      <td>creek biofilm</td>\n",
       "      <td>2023-07-26</td>\n",
       "      <td>USA: Lewis Run NEON Field Site, Briggs, Virginia</td>\n",
       "      <td>39.095630</td>\n",
       "      <td>-77.983216</td>\n",
       "      <td>8389</td>\n",
       "      <td>Environmental</td>\n",
       "      <td>Aquatic</td>\n",
       "      <td>Freshwater</td>\n",
       "      <td>Creek</td>\n",
       "      <td>Biofilm</td>\n",
       "    </tr>\n",
       "    <tr>\n",
       "      <th>211609</th>\n",
       "      <td>Gb0405292</td>\n",
       "      <td>Freshwater biofilm microbial communities from ...</td>\n",
       "      <td>718308.0</td>\n",
       "      <td>biofilm metagenome</td>\n",
       "      <td>creek biofilm</td>\n",
       "      <td>2023-07-26</td>\n",
       "      <td>USA: Lewis Run NEON Field Site, Briggs, Virginia</td>\n",
       "      <td>39.095630</td>\n",
       "      <td>-77.983216</td>\n",
       "      <td>8389</td>\n",
       "      <td>Environmental</td>\n",
       "      <td>Aquatic</td>\n",
       "      <td>Freshwater</td>\n",
       "      <td>Creek</td>\n",
       "      <td>Biofilm</td>\n",
       "    </tr>\n",
       "    <tr>\n",
       "      <th>211610</th>\n",
       "      <td>Gb0405293</td>\n",
       "      <td>Freshwater microbial communities from Lake Sug...</td>\n",
       "      <td>449393.0</td>\n",
       "      <td>freshwater metagenome</td>\n",
       "      <td>lake water</td>\n",
       "      <td>2023-08-01</td>\n",
       "      <td>USA: Lake Suggs NEON Field Site, Melrose, Florida</td>\n",
       "      <td>29.688140</td>\n",
       "      <td>-82.017318</td>\n",
       "      <td>4179</td>\n",
       "      <td>Environmental</td>\n",
       "      <td>Aquatic</td>\n",
       "      <td>Freshwater</td>\n",
       "      <td>Lake</td>\n",
       "      <td>Unclassified</td>\n",
       "    </tr>\n",
       "    <tr>\n",
       "      <th>211611</th>\n",
       "      <td>Gb0405294</td>\n",
       "      <td>Freshwater microbial communities from Prairie ...</td>\n",
       "      <td>449393.0</td>\n",
       "      <td>freshwater metagenome</td>\n",
       "      <td>lake water</td>\n",
       "      <td>2023-08-08</td>\n",
       "      <td>USA: Prairie Lake NEON Field Site, Vashti, Nor...</td>\n",
       "      <td>47.159710</td>\n",
       "      <td>-99.118723</td>\n",
       "      <td>4179</td>\n",
       "      <td>Environmental</td>\n",
       "      <td>Aquatic</td>\n",
       "      <td>Freshwater</td>\n",
       "      <td>Lake</td>\n",
       "      <td>Unclassified</td>\n",
       "    </tr>\n",
       "    <tr>\n",
       "      <th>211612</th>\n",
       "      <td>Gb0405295</td>\n",
       "      <td>Freshwater biofilm microbial communities from ...</td>\n",
       "      <td>718308.0</td>\n",
       "      <td>biofilm metagenome</td>\n",
       "      <td>creek biofilm</td>\n",
       "      <td>2023-07-24</td>\n",
       "      <td>USA: Kings Creek NEON Field Site, Manhattan, K...</td>\n",
       "      <td>39.105060</td>\n",
       "      <td>-96.603829</td>\n",
       "      <td>8389</td>\n",
       "      <td>Environmental</td>\n",
       "      <td>Aquatic</td>\n",
       "      <td>Freshwater</td>\n",
       "      <td>Creek</td>\n",
       "      <td>Biofilm</td>\n",
       "    </tr>\n",
       "  </tbody>\n",
       "</table>\n",
       "<p>211613 rows × 15 columns</p>\n",
       "</div>"
      ]
     },
     "execution_count": 84,
     "metadata": {},
     "output_type": "execute_result"
    }
   ],
   "execution_count": 84
  },
  {
   "cell_type": "code",
   "id": "40f8fc6862a817f3",
   "metadata": {
    "ExecuteTime": {
     "end_time": "2024-12-06T20:27:26.630879Z",
     "start_time": "2024-12-06T20:27:26.625750Z"
    }
   },
   "source": [
    "# Determine the filenames and target directory\n",
    "goldterms_compressed_filename = urlparse(goldterms_semsql_url).path.split('/')[-1]\n",
    "goldterms_filename = os.path.splitext(goldterms_compressed_filename)[0]\n",
    "target_dir = os.path.join(\"..\", \"..\")  # Two levels up\n",
    "\n",
    "# Print to confirm the filenames\n",
    "print(goldterms_filename)"
   ],
   "outputs": [
    {
     "name": "stdout",
     "output_type": "stream",
     "text": [
      "goldterms.db\n"
     ]
    }
   ],
   "execution_count": 85
  },
  {
   "cell_type": "code",
   "id": "784c07d7b6bee4c2",
   "metadata": {
    "ExecuteTime": {
     "end_time": "2024-12-06T20:27:27.106126Z",
     "start_time": "2024-12-06T20:27:26.633305Z"
    }
   },
   "source": [
    "# Fetch the contents from the URL and save compressed file in target directory\n",
    "goldterms_response = requests.get(goldterms_semsql_url)\n",
    "goldterms_compressed_file_path = os.path.join(target_dir, goldterms_compressed_filename)\n",
    "with open(goldterms_compressed_file_path, \"wb\") as f:\n",
    "    f.write(goldterms_response.content)\n",
    "    \n",
    "# ~ 1 second"
   ],
   "outputs": [],
   "execution_count": 86
  },
  {
   "cell_type": "code",
   "id": "cd765130d59cd026",
   "metadata": {
    "ExecuteTime": {
     "end_time": "2024-12-06T20:27:27.160468Z",
     "start_time": "2024-12-06T20:27:27.108186Z"
    }
   },
   "source": [
    "# Unzip the compressed file and save the extracted file in target directory\n",
    "goldterms_uncompressed_file_path = os.path.join(target_dir, goldterms_filename)\n",
    "with gzip.open(goldterms_compressed_file_path, \"rb\") as f_in:\n",
    "    with open(goldterms_uncompressed_file_path, \"wb\") as f_out:\n",
    "        shutil.copyfileobj(f_in, f_out)\n",
    "\n",
    "# ~ 1 second"
   ],
   "outputs": [],
   "execution_count": 87
  },
  {
   "metadata": {
    "ExecuteTime": {
     "end_time": "2024-12-06T20:27:27.167786Z",
     "start_time": "2024-12-06T20:27:27.163557Z"
    }
   },
   "cell_type": "code",
   "source": "# that's all fast. don't bother caching",
   "id": "fd2fab3ddcf862ce",
   "outputs": [],
   "execution_count": 88
  },
  {
   "cell_type": "code",
   "id": "dcf847a3c2ed302d",
   "metadata": {
    "ExecuteTime": {
     "end_time": "2024-12-06T20:27:27.175780Z",
     "start_time": "2024-12-06T20:27:27.169683Z"
    }
   },
   "source": [
    "goldterms_conn = sqlite3.connect(goldterms_uncompressed_file_path)"
   ],
   "outputs": [],
   "execution_count": 89
  },
  {
   "cell_type": "code",
   "id": "cd5b0875ee9410c6",
   "metadata": {
    "ExecuteTime": {
     "end_time": "2024-12-06T20:27:27.192094Z",
     "start_time": "2024-12-06T20:27:27.179179Z"
    }
   },
   "source": [
    "goldterms_subjects = pd.read_sql_query(goldterms_subclass_query, goldterms_conn)"
   ],
   "outputs": [],
   "execution_count": 90
  },
  {
   "cell_type": "code",
   "id": "b35003035f6c1833",
   "metadata": {
    "ExecuteTime": {
     "end_time": "2024-12-06T20:27:27.201316Z",
     "start_time": "2024-12-06T20:27:27.194072Z"
    }
   },
   "source": [
    "goldterms_subjects['path_id'] = goldterms_subjects['subject'].str.extract(r'GOLDTERMS:(\\d+)')"
   ],
   "outputs": [],
   "execution_count": 91
  },
  {
   "cell_type": "code",
   "id": "afaaf46c3a83dc3e",
   "metadata": {
    "ExecuteTime": {
     "end_time": "2024-12-06T20:27:27.211893Z",
     "start_time": "2024-12-06T20:27:27.203450Z"
    }
   },
   "source": [
    "goldterms_subjects"
   ],
   "outputs": [
    {
     "data": {
      "text/plain": [
       "Empty DataFrame\n",
       "Columns: [subject, path_id]\n",
       "Index: []"
      ],
      "text/html": [
       "<div>\n",
       "<style scoped>\n",
       "    .dataframe tbody tr th:only-of-type {\n",
       "        vertical-align: middle;\n",
       "    }\n",
       "\n",
       "    .dataframe tbody tr th {\n",
       "        vertical-align: top;\n",
       "    }\n",
       "\n",
       "    .dataframe thead th {\n",
       "        text-align: right;\n",
       "    }\n",
       "</style>\n",
       "<table border=\"1\" class=\"dataframe\">\n",
       "  <thead>\n",
       "    <tr style=\"text-align: right;\">\n",
       "      <th></th>\n",
       "      <th>subject</th>\n",
       "      <th>path_id</th>\n",
       "    </tr>\n",
       "  </thead>\n",
       "  <tbody>\n",
       "  </tbody>\n",
       "</table>\n",
       "</div>"
      ]
     },
     "execution_count": 92,
     "metadata": {},
     "output_type": "execute_result"
    }
   ],
   "execution_count": 92
  },
  {
   "cell_type": "code",
   "id": "6d8f2db9770e83b7",
   "metadata": {
    "ExecuteTime": {
     "end_time": "2024-12-06T20:27:27.217824Z",
     "start_time": "2024-12-06T20:27:27.213645Z"
    }
   },
   "source": [
    "gold_path_ids = goldterms_subjects['path_id'].dropna().unique().tolist()\n",
    "gold_path_ids = [int(my_id) for my_id in gold_path_ids]\n"
   ],
   "outputs": [],
   "execution_count": 93
  },
  {
   "cell_type": "code",
   "id": "2d78193b734e2ab4",
   "metadata": {
    "ExecuteTime": {
     "end_time": "2024-12-06T20:27:27.226411Z",
     "start_time": "2024-12-06T20:27:27.220128Z"
    }
   },
   "source": [
    "gold_env_filtered_biosamples_frame = gold_biosamples_frame[\n",
    "    gold_biosamples_frame['BIOSAMPLE ECOSYSTEM PATH ID'].isin(gold_path_ids)]\n"
   ],
   "outputs": [],
   "execution_count": 94
  },
  {
   "cell_type": "code",
   "id": "3f24e8a82845de52",
   "metadata": {
    "ExecuteTime": {
     "end_time": "2024-12-06T20:27:27.237478Z",
     "start_time": "2024-12-06T20:27:27.228036Z"
    }
   },
   "source": [
    "gold_env_filtered_biosamples_frame"
   ],
   "outputs": [
    {
     "data": {
      "text/plain": [
       "Empty DataFrame\n",
       "Columns: [BIOSAMPLE GOLD ID, BIOSAMPLE NAME, BIOSAMPLE NCBI TAX ID, BIOSAMPLE NCBI TAX NAME, BIOSAMPLE SAMPLE COLLECTION SITE, BIOSAMPLE SAMPLE COLLECTION DATE, BIOSAMPLE GEOGRAPHIC LOCATION, BIOSAMPLE LATITUDE, BIOSAMPLE LONGITUDE, BIOSAMPLE ECOSYSTEM PATH ID, BIOSAMPLE ECOSYSTEM, BIOSAMPLE ECOSYSTEM CATEGORY, BIOSAMPLE ECOSYSTEM TYPE, BIOSAMPLE ECOSYSTEM SUBTYPE, BIOSAMPLE SPECIFIC ECOSYSTEM]\n",
       "Index: []"
      ],
      "text/html": [
       "<div>\n",
       "<style scoped>\n",
       "    .dataframe tbody tr th:only-of-type {\n",
       "        vertical-align: middle;\n",
       "    }\n",
       "\n",
       "    .dataframe tbody tr th {\n",
       "        vertical-align: top;\n",
       "    }\n",
       "\n",
       "    .dataframe thead th {\n",
       "        text-align: right;\n",
       "    }\n",
       "</style>\n",
       "<table border=\"1\" class=\"dataframe\">\n",
       "  <thead>\n",
       "    <tr style=\"text-align: right;\">\n",
       "      <th></th>\n",
       "      <th>BIOSAMPLE GOLD ID</th>\n",
       "      <th>BIOSAMPLE NAME</th>\n",
       "      <th>BIOSAMPLE NCBI TAX ID</th>\n",
       "      <th>BIOSAMPLE NCBI TAX NAME</th>\n",
       "      <th>BIOSAMPLE SAMPLE COLLECTION SITE</th>\n",
       "      <th>BIOSAMPLE SAMPLE COLLECTION DATE</th>\n",
       "      <th>BIOSAMPLE GEOGRAPHIC LOCATION</th>\n",
       "      <th>BIOSAMPLE LATITUDE</th>\n",
       "      <th>BIOSAMPLE LONGITUDE</th>\n",
       "      <th>BIOSAMPLE ECOSYSTEM PATH ID</th>\n",
       "      <th>BIOSAMPLE ECOSYSTEM</th>\n",
       "      <th>BIOSAMPLE ECOSYSTEM CATEGORY</th>\n",
       "      <th>BIOSAMPLE ECOSYSTEM TYPE</th>\n",
       "      <th>BIOSAMPLE ECOSYSTEM SUBTYPE</th>\n",
       "      <th>BIOSAMPLE SPECIFIC ECOSYSTEM</th>\n",
       "    </tr>\n",
       "  </thead>\n",
       "  <tbody>\n",
       "  </tbody>\n",
       "</table>\n",
       "</div>"
      ]
     },
     "execution_count": 95,
     "metadata": {},
     "output_type": "execute_result"
    }
   ],
   "execution_count": 95
  },
  {
   "cell_type": "code",
   "id": "22c7f8e126e96aab",
   "metadata": {
    "ExecuteTime": {
     "end_time": "2024-12-06T20:27:27.249177Z",
     "start_time": "2024-12-06T20:27:27.239756Z"
    }
   },
   "source": [
    "goldterms_context_frame = pd.read_sql_query(goldterms_envo_query, goldterms_conn)"
   ],
   "outputs": [],
   "execution_count": 96
  },
  {
   "cell_type": "code",
   "id": "3157b066b1c6e2cf",
   "metadata": {
    "ExecuteTime": {
     "end_time": "2024-12-06T20:27:27.417102Z",
     "start_time": "2024-12-06T20:27:27.251122Z"
    }
   },
   "source": [
    "goldterms_context_frame['object_label'] = goldterms_context_frame['object'].apply(envo_adapter.label)"
   ],
   "outputs": [],
   "execution_count": 97
  },
  {
   "cell_type": "code",
   "id": "d60306a6490fdd6a",
   "metadata": {
    "ExecuteTime": {
     "end_time": "2024-12-06T20:27:27.423696Z",
     "start_time": "2024-12-06T20:27:27.418954Z"
    }
   },
   "source": [
    "goldterms_context_frame['path_id'] = goldterms_context_frame['subject'].str.extract(r'GOLDTERMS:(\\d+)')"
   ],
   "outputs": [],
   "execution_count": 98
  },
  {
   "cell_type": "code",
   "id": "93391b53436ba5b",
   "metadata": {
    "ExecuteTime": {
     "end_time": "2024-12-06T20:27:27.436863Z",
     "start_time": "2024-12-06T20:27:27.425155Z"
    }
   },
   "source": [
    "goldterms_context_frame"
   ],
   "outputs": [
    {
     "data": {
      "text/plain": [
       "                                                stanza  \\\n",
       "0    GOLDTERMS:Engineered-Lab-enrichment-Defined-me...   \n",
       "1       GOLDTERMS:Engineered-Lab-enrichment-Freshwater   \n",
       "2             GOLDTERMS:Engineered-Lab-enrichment-Rock   \n",
       "3    GOLDTERMS:Engineered-Solid-waste-Agricultural-...   \n",
       "4    GOLDTERMS:Engineered-Solid-waste-Cellulose-ass...   \n",
       "..                                                 ...   \n",
       "393                                     GOLDTERMS:5833   \n",
       "394                                     GOLDTERMS:5836   \n",
       "395                                     GOLDTERMS:5838   \n",
       "396                                     GOLDTERMS:5841   \n",
       "397                                     GOLDTERMS:5846   \n",
       "\n",
       "                                               subject        predicate  \\\n",
       "0    GOLDTERMS:Engineered-Lab-enrichment-Defined-me...  mixs:env_medium   \n",
       "1       GOLDTERMS:Engineered-Lab-enrichment-Freshwater  mixs:env_medium   \n",
       "2             GOLDTERMS:Engineered-Lab-enrichment-Rock  mixs:env_medium   \n",
       "3    GOLDTERMS:Engineered-Solid-waste-Agricultural-...  mixs:env_medium   \n",
       "4    GOLDTERMS:Engineered-Solid-waste-Cellulose-ass...  mixs:env_medium   \n",
       "..                                                 ...              ...   \n",
       "393                                     GOLDTERMS:5833  mixs:env_medium   \n",
       "394                                     GOLDTERMS:5836  mixs:env_medium   \n",
       "395                                     GOLDTERMS:5838  mixs:env_medium   \n",
       "396                                     GOLDTERMS:5841  mixs:env_medium   \n",
       "397                                     GOLDTERMS:5846  mixs:env_medium   \n",
       "\n",
       "            object value datatype language graph                 object_label  \\\n",
       "0    ENVO:00002170  None     None     None  None                      compost   \n",
       "1    ENVO:00002011  None     None     None  None                  fresh water   \n",
       "2    ENVO:00001995  None     None     None  None                         rock   \n",
       "3    ENVO:01000371  None     None     None  None  agricultural waste material   \n",
       "4    ENVO:02000155  None     None     None  None         solid waste material   \n",
       "..             ...   ...      ...      ...   ...                          ...   \n",
       "393  ENVO:00002001  None     None     None  None                  waste water   \n",
       "394  ENVO:00002044  None     None     None  None                       sludge   \n",
       "395  ENVO:00002001  None     None     None  None                  waste water   \n",
       "396  ENVO:03600013  None     None     None  None              bituminous sand   \n",
       "397  ENVO:00002034  None     None     None  None                      biofilm   \n",
       "\n",
       "    path_id  \n",
       "0       NaN  \n",
       "1       NaN  \n",
       "2       NaN  \n",
       "3       NaN  \n",
       "4       NaN  \n",
       "..      ...  \n",
       "393    5833  \n",
       "394    5836  \n",
       "395    5838  \n",
       "396    5841  \n",
       "397    5846  \n",
       "\n",
       "[398 rows x 10 columns]"
      ],
      "text/html": [
       "<div>\n",
       "<style scoped>\n",
       "    .dataframe tbody tr th:only-of-type {\n",
       "        vertical-align: middle;\n",
       "    }\n",
       "\n",
       "    .dataframe tbody tr th {\n",
       "        vertical-align: top;\n",
       "    }\n",
       "\n",
       "    .dataframe thead th {\n",
       "        text-align: right;\n",
       "    }\n",
       "</style>\n",
       "<table border=\"1\" class=\"dataframe\">\n",
       "  <thead>\n",
       "    <tr style=\"text-align: right;\">\n",
       "      <th></th>\n",
       "      <th>stanza</th>\n",
       "      <th>subject</th>\n",
       "      <th>predicate</th>\n",
       "      <th>object</th>\n",
       "      <th>value</th>\n",
       "      <th>datatype</th>\n",
       "      <th>language</th>\n",
       "      <th>graph</th>\n",
       "      <th>object_label</th>\n",
       "      <th>path_id</th>\n",
       "    </tr>\n",
       "  </thead>\n",
       "  <tbody>\n",
       "    <tr>\n",
       "      <th>0</th>\n",
       "      <td>GOLDTERMS:Engineered-Lab-enrichment-Defined-me...</td>\n",
       "      <td>GOLDTERMS:Engineered-Lab-enrichment-Defined-me...</td>\n",
       "      <td>mixs:env_medium</td>\n",
       "      <td>ENVO:00002170</td>\n",
       "      <td>None</td>\n",
       "      <td>None</td>\n",
       "      <td>None</td>\n",
       "      <td>None</td>\n",
       "      <td>compost</td>\n",
       "      <td>NaN</td>\n",
       "    </tr>\n",
       "    <tr>\n",
       "      <th>1</th>\n",
       "      <td>GOLDTERMS:Engineered-Lab-enrichment-Freshwater</td>\n",
       "      <td>GOLDTERMS:Engineered-Lab-enrichment-Freshwater</td>\n",
       "      <td>mixs:env_medium</td>\n",
       "      <td>ENVO:00002011</td>\n",
       "      <td>None</td>\n",
       "      <td>None</td>\n",
       "      <td>None</td>\n",
       "      <td>None</td>\n",
       "      <td>fresh water</td>\n",
       "      <td>NaN</td>\n",
       "    </tr>\n",
       "    <tr>\n",
       "      <th>2</th>\n",
       "      <td>GOLDTERMS:Engineered-Lab-enrichment-Rock</td>\n",
       "      <td>GOLDTERMS:Engineered-Lab-enrichment-Rock</td>\n",
       "      <td>mixs:env_medium</td>\n",
       "      <td>ENVO:00001995</td>\n",
       "      <td>None</td>\n",
       "      <td>None</td>\n",
       "      <td>None</td>\n",
       "      <td>None</td>\n",
       "      <td>rock</td>\n",
       "      <td>NaN</td>\n",
       "    </tr>\n",
       "    <tr>\n",
       "      <th>3</th>\n",
       "      <td>GOLDTERMS:Engineered-Solid-waste-Agricultural-...</td>\n",
       "      <td>GOLDTERMS:Engineered-Solid-waste-Agricultural-...</td>\n",
       "      <td>mixs:env_medium</td>\n",
       "      <td>ENVO:01000371</td>\n",
       "      <td>None</td>\n",
       "      <td>None</td>\n",
       "      <td>None</td>\n",
       "      <td>None</td>\n",
       "      <td>agricultural waste material</td>\n",
       "      <td>NaN</td>\n",
       "    </tr>\n",
       "    <tr>\n",
       "      <th>4</th>\n",
       "      <td>GOLDTERMS:Engineered-Solid-waste-Cellulose-ass...</td>\n",
       "      <td>GOLDTERMS:Engineered-Solid-waste-Cellulose-ass...</td>\n",
       "      <td>mixs:env_medium</td>\n",
       "      <td>ENVO:02000155</td>\n",
       "      <td>None</td>\n",
       "      <td>None</td>\n",
       "      <td>None</td>\n",
       "      <td>None</td>\n",
       "      <td>solid waste material</td>\n",
       "      <td>NaN</td>\n",
       "    </tr>\n",
       "    <tr>\n",
       "      <th>...</th>\n",
       "      <td>...</td>\n",
       "      <td>...</td>\n",
       "      <td>...</td>\n",
       "      <td>...</td>\n",
       "      <td>...</td>\n",
       "      <td>...</td>\n",
       "      <td>...</td>\n",
       "      <td>...</td>\n",
       "      <td>...</td>\n",
       "      <td>...</td>\n",
       "    </tr>\n",
       "    <tr>\n",
       "      <th>393</th>\n",
       "      <td>GOLDTERMS:5833</td>\n",
       "      <td>GOLDTERMS:5833</td>\n",
       "      <td>mixs:env_medium</td>\n",
       "      <td>ENVO:00002001</td>\n",
       "      <td>None</td>\n",
       "      <td>None</td>\n",
       "      <td>None</td>\n",
       "      <td>None</td>\n",
       "      <td>waste water</td>\n",
       "      <td>5833</td>\n",
       "    </tr>\n",
       "    <tr>\n",
       "      <th>394</th>\n",
       "      <td>GOLDTERMS:5836</td>\n",
       "      <td>GOLDTERMS:5836</td>\n",
       "      <td>mixs:env_medium</td>\n",
       "      <td>ENVO:00002044</td>\n",
       "      <td>None</td>\n",
       "      <td>None</td>\n",
       "      <td>None</td>\n",
       "      <td>None</td>\n",
       "      <td>sludge</td>\n",
       "      <td>5836</td>\n",
       "    </tr>\n",
       "    <tr>\n",
       "      <th>395</th>\n",
       "      <td>GOLDTERMS:5838</td>\n",
       "      <td>GOLDTERMS:5838</td>\n",
       "      <td>mixs:env_medium</td>\n",
       "      <td>ENVO:00002001</td>\n",
       "      <td>None</td>\n",
       "      <td>None</td>\n",
       "      <td>None</td>\n",
       "      <td>None</td>\n",
       "      <td>waste water</td>\n",
       "      <td>5838</td>\n",
       "    </tr>\n",
       "    <tr>\n",
       "      <th>396</th>\n",
       "      <td>GOLDTERMS:5841</td>\n",
       "      <td>GOLDTERMS:5841</td>\n",
       "      <td>mixs:env_medium</td>\n",
       "      <td>ENVO:03600013</td>\n",
       "      <td>None</td>\n",
       "      <td>None</td>\n",
       "      <td>None</td>\n",
       "      <td>None</td>\n",
       "      <td>bituminous sand</td>\n",
       "      <td>5841</td>\n",
       "    </tr>\n",
       "    <tr>\n",
       "      <th>397</th>\n",
       "      <td>GOLDTERMS:5846</td>\n",
       "      <td>GOLDTERMS:5846</td>\n",
       "      <td>mixs:env_medium</td>\n",
       "      <td>ENVO:00002034</td>\n",
       "      <td>None</td>\n",
       "      <td>None</td>\n",
       "      <td>None</td>\n",
       "      <td>None</td>\n",
       "      <td>biofilm</td>\n",
       "      <td>5846</td>\n",
       "    </tr>\n",
       "  </tbody>\n",
       "</table>\n",
       "<p>398 rows × 10 columns</p>\n",
       "</div>"
      ]
     },
     "execution_count": 99,
     "metadata": {},
     "output_type": "execute_result"
    }
   ],
   "execution_count": 99
  },
  {
   "cell_type": "code",
   "id": "beb2e0a9c669a366",
   "metadata": {
    "ExecuteTime": {
     "end_time": "2024-12-06T20:27:27.451137Z",
     "start_time": "2024-12-06T20:27:27.439843Z"
    }
   },
   "source": [
    "# Fill NaN values in 'BIOSAMPLE ECOSYSTEM PATH ID' with 0 and convert to int\n",
    "gold_env_filtered_biosamples_frame['BIOSAMPLE ECOSYSTEM PATH ID'] = gold_env_filtered_biosamples_frame[\n",
    "    'BIOSAMPLE ECOSYSTEM PATH ID'].fillna(0).astype(int)\n",
    "\n",
    "# Drop rows with NaN in 'path_id' in goldterms_context_frame\n",
    "goldterms_context_frame = goldterms_context_frame.dropna(subset=['path_id'])\n",
    "\n",
    "# Convert 'path_id' to int\n",
    "goldterms_context_frame['path_id'] = goldterms_context_frame['path_id'].astype(int)\n",
    "\n",
    "# Perform the left merge\n",
    "gold_env_filtered_biosamples_with_inferred = gold_env_filtered_biosamples_frame.merge(\n",
    "    goldterms_context_frame,\n",
    "    left_on='BIOSAMPLE ECOSYSTEM PATH ID',\n",
    "    right_on='path_id',\n",
    "    how='left'\n",
    ")\n"
   ],
   "outputs": [],
   "execution_count": 100
  },
  {
   "cell_type": "code",
   "id": "bac06360f067d3c0",
   "metadata": {
    "ExecuteTime": {
     "end_time": "2024-12-06T20:27:27.463164Z",
     "start_time": "2024-12-06T20:27:27.453099Z"
    }
   },
   "source": [
    "gold_env_filtered_biosamples_with_inferred"
   ],
   "outputs": [
    {
     "data": {
      "text/plain": [
       "Empty DataFrame\n",
       "Columns: [BIOSAMPLE GOLD ID, BIOSAMPLE NAME, BIOSAMPLE NCBI TAX ID, BIOSAMPLE NCBI TAX NAME, BIOSAMPLE SAMPLE COLLECTION SITE, BIOSAMPLE SAMPLE COLLECTION DATE, BIOSAMPLE GEOGRAPHIC LOCATION, BIOSAMPLE LATITUDE, BIOSAMPLE LONGITUDE, BIOSAMPLE ECOSYSTEM PATH ID, BIOSAMPLE ECOSYSTEM, BIOSAMPLE ECOSYSTEM CATEGORY, BIOSAMPLE ECOSYSTEM TYPE, BIOSAMPLE ECOSYSTEM SUBTYPE, BIOSAMPLE SPECIFIC ECOSYSTEM, stanza, subject, predicate, object, value, datatype, language, graph, object_label, path_id]\n",
       "Index: []\n",
       "\n",
       "[0 rows x 25 columns]"
      ],
      "text/html": [
       "<div>\n",
       "<style scoped>\n",
       "    .dataframe tbody tr th:only-of-type {\n",
       "        vertical-align: middle;\n",
       "    }\n",
       "\n",
       "    .dataframe tbody tr th {\n",
       "        vertical-align: top;\n",
       "    }\n",
       "\n",
       "    .dataframe thead th {\n",
       "        text-align: right;\n",
       "    }\n",
       "</style>\n",
       "<table border=\"1\" class=\"dataframe\">\n",
       "  <thead>\n",
       "    <tr style=\"text-align: right;\">\n",
       "      <th></th>\n",
       "      <th>BIOSAMPLE GOLD ID</th>\n",
       "      <th>BIOSAMPLE NAME</th>\n",
       "      <th>BIOSAMPLE NCBI TAX ID</th>\n",
       "      <th>BIOSAMPLE NCBI TAX NAME</th>\n",
       "      <th>BIOSAMPLE SAMPLE COLLECTION SITE</th>\n",
       "      <th>BIOSAMPLE SAMPLE COLLECTION DATE</th>\n",
       "      <th>BIOSAMPLE GEOGRAPHIC LOCATION</th>\n",
       "      <th>BIOSAMPLE LATITUDE</th>\n",
       "      <th>BIOSAMPLE LONGITUDE</th>\n",
       "      <th>BIOSAMPLE ECOSYSTEM PATH ID</th>\n",
       "      <th>...</th>\n",
       "      <th>stanza</th>\n",
       "      <th>subject</th>\n",
       "      <th>predicate</th>\n",
       "      <th>object</th>\n",
       "      <th>value</th>\n",
       "      <th>datatype</th>\n",
       "      <th>language</th>\n",
       "      <th>graph</th>\n",
       "      <th>object_label</th>\n",
       "      <th>path_id</th>\n",
       "    </tr>\n",
       "  </thead>\n",
       "  <tbody>\n",
       "  </tbody>\n",
       "</table>\n",
       "<p>0 rows × 25 columns</p>\n",
       "</div>"
      ]
     },
     "execution_count": 101,
     "metadata": {},
     "output_type": "execute_result"
    }
   ],
   "execution_count": 101
  },
  {
   "metadata": {},
   "cell_type": "markdown",
   "source": "# GOLDTERMS only approach",
   "id": "8c66c02b62dbcf22"
  },
  {
   "metadata": {
    "ExecuteTime": {
     "end_time": "2024-12-06T20:27:27.476934Z",
     "start_time": "2024-12-06T20:27:27.464711Z"
    }
   },
   "cell_type": "code",
   "source": "goldterms_result = pd.read_sql_query(extension_query, goldterms_conn)",
   "id": "beacc603e5db48b3",
   "outputs": [],
   "execution_count": 102
  },
  {
   "metadata": {
    "ExecuteTime": {
     "end_time": "2024-12-06T20:27:27.486520Z",
     "start_time": "2024-12-06T20:27:27.478548Z"
    }
   },
   "cell_type": "code",
   "source": "goldterms_result",
   "id": "85e373122e14f6dc",
   "outputs": [
    {
     "data": {
      "text/plain": [
       "                                               subject        predicate  \\\n",
       "0           GOLDTERMS:Environmental-Aquatic-Floodplain   mixs:env_broad   \n",
       "1           GOLDTERMS:Environmental-Aquatic-Floodplain   mixs:env_local   \n",
       "2           GOLDTERMS:Environmental-Aquatic-Floodplain       rdfs:label   \n",
       "3    GOLDTERMS:Environmental-Aquatic-Freshwater-Aqu...   mixs:env_broad   \n",
       "4    GOLDTERMS:Environmental-Aquatic-Freshwater-Aqu...  mixs:env_medium   \n",
       "..                                                 ...              ...   \n",
       "569                                     GOLDTERMS:5807  mixs:env_medium   \n",
       "570                                     GOLDTERMS:5807       rdfs:label   \n",
       "571                                     GOLDTERMS:5825   mixs:env_broad   \n",
       "572                                     GOLDTERMS:5825   mixs:env_local   \n",
       "573                                     GOLDTERMS:5825       rdfs:label   \n",
       "\n",
       "                                               content  \n",
       "0                                        ENVO:00002030  \n",
       "1                                        ENVO:00000255  \n",
       "2                 Environmental > Aquatic > Floodplain  \n",
       "3                                        ENVO:00002030  \n",
       "4                                        ENVO:00002011  \n",
       "..                                                 ...  \n",
       "569                                      ENVO:00002010  \n",
       "570  Environmental > Aquatic > Non-marine Saline an...  \n",
       "571                                      ENVO:00000447  \n",
       "572                                      ENVO:01000687  \n",
       "573  Environmental > Aquatic > Marine > Coastal > P...  \n",
       "\n",
       "[574 rows x 3 columns]"
      ],
      "text/html": [
       "<div>\n",
       "<style scoped>\n",
       "    .dataframe tbody tr th:only-of-type {\n",
       "        vertical-align: middle;\n",
       "    }\n",
       "\n",
       "    .dataframe tbody tr th {\n",
       "        vertical-align: top;\n",
       "    }\n",
       "\n",
       "    .dataframe thead th {\n",
       "        text-align: right;\n",
       "    }\n",
       "</style>\n",
       "<table border=\"1\" class=\"dataframe\">\n",
       "  <thead>\n",
       "    <tr style=\"text-align: right;\">\n",
       "      <th></th>\n",
       "      <th>subject</th>\n",
       "      <th>predicate</th>\n",
       "      <th>content</th>\n",
       "    </tr>\n",
       "  </thead>\n",
       "  <tbody>\n",
       "    <tr>\n",
       "      <th>0</th>\n",
       "      <td>GOLDTERMS:Environmental-Aquatic-Floodplain</td>\n",
       "      <td>mixs:env_broad</td>\n",
       "      <td>ENVO:00002030</td>\n",
       "    </tr>\n",
       "    <tr>\n",
       "      <th>1</th>\n",
       "      <td>GOLDTERMS:Environmental-Aquatic-Floodplain</td>\n",
       "      <td>mixs:env_local</td>\n",
       "      <td>ENVO:00000255</td>\n",
       "    </tr>\n",
       "    <tr>\n",
       "      <th>2</th>\n",
       "      <td>GOLDTERMS:Environmental-Aquatic-Floodplain</td>\n",
       "      <td>rdfs:label</td>\n",
       "      <td>Environmental &gt; Aquatic &gt; Floodplain</td>\n",
       "    </tr>\n",
       "    <tr>\n",
       "      <th>3</th>\n",
       "      <td>GOLDTERMS:Environmental-Aquatic-Freshwater-Aqu...</td>\n",
       "      <td>mixs:env_broad</td>\n",
       "      <td>ENVO:00002030</td>\n",
       "    </tr>\n",
       "    <tr>\n",
       "      <th>4</th>\n",
       "      <td>GOLDTERMS:Environmental-Aquatic-Freshwater-Aqu...</td>\n",
       "      <td>mixs:env_medium</td>\n",
       "      <td>ENVO:00002011</td>\n",
       "    </tr>\n",
       "    <tr>\n",
       "      <th>...</th>\n",
       "      <td>...</td>\n",
       "      <td>...</td>\n",
       "      <td>...</td>\n",
       "    </tr>\n",
       "    <tr>\n",
       "      <th>569</th>\n",
       "      <td>GOLDTERMS:5807</td>\n",
       "      <td>mixs:env_medium</td>\n",
       "      <td>ENVO:00002010</td>\n",
       "    </tr>\n",
       "    <tr>\n",
       "      <th>570</th>\n",
       "      <td>GOLDTERMS:5807</td>\n",
       "      <td>rdfs:label</td>\n",
       "      <td>Environmental &gt; Aquatic &gt; Non-marine Saline an...</td>\n",
       "    </tr>\n",
       "    <tr>\n",
       "      <th>571</th>\n",
       "      <td>GOLDTERMS:5825</td>\n",
       "      <td>mixs:env_broad</td>\n",
       "      <td>ENVO:00000447</td>\n",
       "    </tr>\n",
       "    <tr>\n",
       "      <th>572</th>\n",
       "      <td>GOLDTERMS:5825</td>\n",
       "      <td>mixs:env_local</td>\n",
       "      <td>ENVO:01000687</td>\n",
       "    </tr>\n",
       "    <tr>\n",
       "      <th>573</th>\n",
       "      <td>GOLDTERMS:5825</td>\n",
       "      <td>rdfs:label</td>\n",
       "      <td>Environmental &gt; Aquatic &gt; Marine &gt; Coastal &gt; P...</td>\n",
       "    </tr>\n",
       "  </tbody>\n",
       "</table>\n",
       "<p>574 rows × 3 columns</p>\n",
       "</div>"
      ]
     },
     "execution_count": 103,
     "metadata": {},
     "output_type": "execute_result"
    }
   ],
   "execution_count": 103
  },
  {
   "metadata": {
    "ExecuteTime": {
     "end_time": "2024-12-06T20:27:27.493601Z",
     "start_time": "2024-12-06T20:27:27.488745Z"
    }
   },
   "cell_type": "code",
   "source": [
    "# # todo: save this kind of content before subsetting on an environment\n",
    "# #   the subsetting is currently baked into the query\n",
    "# \n",
    "# # see also goldterms_queries.ipynb in MAM's Collab\n",
    "# goldterms_result.to_csv(\"goldterms_single_environment_mappings_long.tsv\", sep=\"\\t\", index=False)"
   ],
   "id": "859a87109b08d83c",
   "outputs": [],
   "execution_count": 104
  },
  {
   "metadata": {
    "ExecuteTime": {
     "end_time": "2024-12-06T20:27:27.502931Z",
     "start_time": "2024-12-06T20:27:27.497021Z"
    }
   },
   "cell_type": "code",
   "source": "goldterms_only_curies = goldterms_result.loc[goldterms_result['predicate'] == gold_context_selector, 'content']\n",
   "id": "391d1fb9314d4b0b",
   "outputs": [],
   "execution_count": 105
  },
  {
   "metadata": {
    "ExecuteTime": {
     "end_time": "2024-12-06T20:27:27.509944Z",
     "start_time": "2024-12-06T20:27:27.505311Z"
    }
   },
   "cell_type": "code",
   "source": "goldterms_only_curies = goldterms_only_curies.unique().tolist()",
   "id": "b5621477ccaaa761",
   "outputs": [],
   "execution_count": 106
  },
  {
   "metadata": {
    "ExecuteTime": {
     "end_time": "2024-12-06T20:27:27.517573Z",
     "start_time": "2024-12-06T20:27:27.511954Z"
    }
   },
   "cell_type": "code",
   "source": "goldterms_only_curies",
   "id": "70238d1c8e144cc3",
   "outputs": [
    {
     "data": {
      "text/plain": [
       "['ENVO:00002011',\n",
       " 'ENVO:01000008',\n",
       " 'ENVO:00002012',\n",
       " 'ENVO:01000140',\n",
       " 'ENVO:03600064',\n",
       " 'ENVO:00003064',\n",
       " 'ENVO:01000277',\n",
       " 'ENVO:00000133',\n",
       " 'ENVO:01001004',\n",
       " 'ENVO:01001267',\n",
       " 'ENVO:02000145',\n",
       " 'ENVO:03600082',\n",
       " 'ENVO:01001869',\n",
       " 'ENVO:03605000',\n",
       " 'ENVO:01000063',\n",
       " 'ENVO:01001064',\n",
       " 'ENVO:00003096',\n",
       " 'ENVO:00001995',\n",
       " 'ENVO:00003044',\n",
       " 'ENVO:00001998',\n",
       " 'ENVO:00002200',\n",
       " 'ENVO:01000173',\n",
       " 'ENVO:02000138',\n",
       " 'ENVO:00002034',\n",
       " 'ENVO:01000406',\n",
       " 'ENVO:01000142',\n",
       " 'ENVO:03600007',\n",
       " 'ENVO:00002010']"
      ]
     },
     "execution_count": 107,
     "metadata": {},
     "output_type": "execute_result"
    }
   ],
   "execution_count": 107
  },
  {
   "cell_type": "markdown",
   "id": "8541580a525201e3",
   "metadata": {},
   "source": [
    "----"
   ]
  },
  {
   "metadata": {
    "ExecuteTime": {
     "end_time": "2024-12-06T20:27:28.013695Z",
     "start_time": "2024-12-06T20:27:27.519682Z"
    }
   },
   "cell_type": "code",
   "source": [
    "anchor_curies = list(anchor_descendants_frame['curie'])\n",
    "legacy_pv_curies = [i['curie'] for i in pv_validation_results['valids']]\n",
    "\n",
    "biome_curies = list(envo_adapter.descendants(BIOME, predicates=[IS_A])) # \n",
    "terrestrial_biome_curies = list(envo_adapter.descendants(TERRESTRIAL_BIOME, predicates=[IS_A]))\n",
    "aquatic_biome_curies = list(envo_adapter.descendants(AQUATIC_BIOME, predicates=[IS_A]))\n",
    "abp_curies = list(envo_adapter.descendants(ABP, predicates=[IS_A]))\n",
    "env_sys_curies = list(envo_adapter.descendants(ENVIRONMENTAL_SYSTEM, predicates=[IS_A]))\n",
    "env_mat_curies = list(envo_adapter.descendants(ENVIRONMENTAL_MATERIAL, predicates=[IS_A]))\n",
    "obsoletes_curies = list(envo_adapter.obsoletes())\n",
    "\n",
    "soil_curies = list(envo_adapter.descendants(SOIL, predicates=[IS_A])) # \n",
    "liquid_water_curies = list(envo_adapter.descendants(LIQUID_WATER, predicates=[IS_A])) # \n",
    "water_ice_curies = list(envo_adapter.descendants(WATER_ICE, predicates=[IS_A])) # "
   ],
   "id": "beb69545a9255099",
   "outputs": [],
   "execution_count": 108
  },
  {
   "metadata": {
    "ExecuteTime": {
     "end_time": "2024-12-06T20:27:28.018575Z",
     "start_time": "2024-12-06T20:27:28.015378Z"
    }
   },
   "cell_type": "code",
   "source": "include_in_rows = set()",
   "id": "20a9dcc52b995762",
   "outputs": [],
   "execution_count": 109
  },
  {
   "metadata": {
    "ExecuteTime": {
     "end_time": "2024-12-06T20:27:28.023178Z",
     "start_time": "2024-12-06T20:27:28.020116Z"
    }
   },
   "cell_type": "code",
   "source": "include_in_rows.update(anchor_curies)",
   "id": "2c3e280c36ed9b91",
   "outputs": [],
   "execution_count": 110
  },
  {
   "metadata": {
    "ExecuteTime": {
     "end_time": "2024-12-06T20:27:28.027261Z",
     "start_time": "2024-12-06T20:27:28.024750Z"
    }
   },
   "cell_type": "code",
   "source": "include_in_rows.update(legacy_pv_curies)",
   "id": "422c62627b450632",
   "outputs": [],
   "execution_count": 111
  },
  {
   "metadata": {
    "ExecuteTime": {
     "end_time": "2024-12-06T20:27:28.032052Z",
     "start_time": "2024-12-06T20:27:28.028794Z"
    }
   },
   "cell_type": "code",
   "source": "include_in_rows.update(nmdc_biosample_contexts_frame[nmdc_context_selector])",
   "id": "e279a2edf1fa4935",
   "outputs": [],
   "execution_count": 112
  },
  {
   "metadata": {
    "ExecuteTime": {
     "end_time": "2024-12-06T20:27:28.040614Z",
     "start_time": "2024-12-06T20:27:28.033743Z"
    }
   },
   "cell_type": "code",
   "source": "include_in_rows.update(ncbi_frame['extracted_curie'])",
   "id": "7e4be4b7ae64e990",
   "outputs": [],
   "execution_count": 113
  },
  {
   "metadata": {
    "ExecuteTime": {
     "end_time": "2024-12-06T20:27:28.051035Z",
     "start_time": "2024-12-06T20:27:28.043207Z"
    }
   },
   "cell_type": "code",
   "source": "include_in_rows.update(ncbi_frame['longest_annotation_curie'])",
   "id": "2cd900624cfce1ec",
   "outputs": [],
   "execution_count": 114
  },
  {
   "metadata": {
    "ExecuteTime": {
     "end_time": "2024-12-06T20:27:28.056391Z",
     "start_time": "2024-12-06T20:27:28.052908Z"
    }
   },
   "cell_type": "code",
   "source": "include_in_rows.update(gold_env_filtered_biosamples_with_inferred['object'])",
   "id": "9790ec48f41afe79",
   "outputs": [],
   "execution_count": 115
  },
  {
   "metadata": {
    "ExecuteTime": {
     "end_time": "2024-12-06T20:27:28.060850Z",
     "start_time": "2024-12-06T20:27:28.058063Z"
    }
   },
   "cell_type": "code",
   "source": "rows_lod = []",
   "id": "f7a6fb9413f45298",
   "outputs": [],
   "execution_count": 116
  },
  {
   "cell_type": "code",
   "id": "32f278db05c57616",
   "metadata": {
    "ExecuteTime": {
     "end_time": "2024-12-06T20:28:38.049013Z",
     "start_time": "2024-12-06T20:27:28.062607Z"
    }
   },
   "source": [
    "for curie in include_in_rows:\n",
    "    if curie is None:\n",
    "        continue\n",
    "        \n",
    "    # ONCE AGAIN, assuming that EnvO is the only ontology we'll check against\n",
    "    current_ancestors = list(envo_adapter.ancestors(curie, predicates=[IS_A])) # vs legacy_pv_curies\n",
    "    ancestors_in_enum_count = len(set(current_ancestors) & set(legacy_pv_curies))\n",
    "    \n",
    "    current_descendants  = list(envo_adapter.descendants(curie, predicates=[IS_A])) # vs legacy_pv_curies\n",
    "    descendants_in_enum_count  = len(set(current_descendants) & set(legacy_pv_curies))\n",
    "    \n",
    "    \n",
    "    row = {\n",
    "        'curie': curie,\n",
    "        'label': envo_adapter.label(curie),\n",
    "        'envo_native': False,\n",
    "        'obsolete': False,\n",
    "        comparison_enum_column_name: False,\n",
    "        'ancestors_in_enum_count': ancestors_in_enum_count,\n",
    "        'descendants_in_enum_count': descendants_in_enum_count,\n",
    "        'abp': False,\n",
    "        'env_sys': False,\n",
    "        'biome': False,\n",
    "        'terrestrial_biome': False,\n",
    "        'aquatic_biome': False,\n",
    "        'env_mat': False,\n",
    "        'soil': False,\n",
    "        'liquid water': False,\n",
    "        'water ice': False,\n",
    "        'goldterms_mappings': False,\n",
    "    }\n",
    "        \n",
    "    if curie in biome_curies:\n",
    "        row['biome'] = True\n",
    "    if curie in terrestrial_biome_curies:\n",
    "        row['terrestrial_biome'] = True\n",
    "    if curie in aquatic_biome_curies:\n",
    "        row['aquatic_biome'] = True\n",
    "    if curie in abp_curies:\n",
    "        row['abp'] = True\n",
    "    if curie in env_sys_curies:\n",
    "        row['env_sys'] = True\n",
    "    if curie in env_mat_curies:\n",
    "        row['env_mat'] = True\n",
    "    if curie in soil_curies:\n",
    "        row['soil'] = True\n",
    "    if curie in liquid_water_curies:\n",
    "        row['liquid water'] = True\n",
    "    if curie in water_ice_curies:\n",
    "        row['water ice'] = True\n",
    "    if curie in legacy_pv_curies:\n",
    "        row[comparison_enum_column_name] = True\n",
    "    if curie in obsoletes_curies:\n",
    "        row['obsolete'] = True\n",
    "    if curie in goldterms_only_curies:\n",
    "        row['goldterms_mappings'] = True\n",
    "        \n",
    "    try:\n",
    "        prefix, local_id = curie.split(':')\n",
    "        if prefix and prefix == 'ENVO' and row['label'] is not None:\n",
    "            row['envo_native'] = True\n",
    "    except Exception as e:\n",
    "        # Print the exception message\n",
    "        print(f\"An error occurred: {e} trying to split {curie}\")\n",
    "\n",
    "    rows_lod.append(row)\n",
    "\n",
    "# 2 minutes\n"
   ],
   "outputs": [],
   "execution_count": 117
  },
  {
   "cell_type": "code",
   "id": "26bb62d21192288f",
   "metadata": {
    "ExecuteTime": {
     "end_time": "2024-12-06T20:28:38.057735Z",
     "start_time": "2024-12-06T20:28:38.050466Z"
    }
   },
   "source": [
    "rows_frame = pd.DataFrame(rows_lod)"
   ],
   "outputs": [],
   "execution_count": 118
  },
  {
   "cell_type": "code",
   "id": "4db3ebadb8a07a50",
   "metadata": {
    "ExecuteTime": {
     "end_time": "2024-12-06T20:28:38.074451Z",
     "start_time": "2024-12-06T20:28:38.059090Z"
    }
   },
   "source": [
    "rows_frame"
   ],
   "outputs": [
    {
     "data": {
      "text/plain": [
       "                curie                        label  envo_native  obsolete  \\\n",
       "0     FOODON:00001006  mammalian meat food product        False     False   \n",
       "1       ENVO:00000474                          cut         True     False   \n",
       "2       ENVO:00005796                marine sludge         True     False   \n",
       "3     FOODON:00001127              cow milk cheese        False     False   \n",
       "4       ENVO:03600069            nest of alligator         True     False   \n",
       "...               ...                          ...          ...       ...   \n",
       "1528    ENVO:01000357               alkaline water         True     False   \n",
       "1529    ENVO:01000999      rhizosphere environment         True     False   \n",
       "1530      OBI:0000967                    container        False     False   \n",
       "1531   UBERON:0002416          integumental system        False     False   \n",
       "1532    ENVO:02000113                 welding fume         True     False   \n",
       "\n",
       "      EnvMediumSoilEnum_11_1  ancestors_in_enum_count  \\\n",
       "0                      False                        0   \n",
       "1                      False                        0   \n",
       "2                      False                        0   \n",
       "3                      False                        0   \n",
       "4                      False                        0   \n",
       "...                      ...                      ...   \n",
       "1528                   False                        0   \n",
       "1529                   False                        0   \n",
       "1530                   False                        0   \n",
       "1531                   False                        0   \n",
       "1532                   False                        0   \n",
       "\n",
       "      descendants_in_enum_count    abp  env_sys  biome  terrestrial_biome  \\\n",
       "0                             0  False    False  False              False   \n",
       "1                             0   True    False  False              False   \n",
       "2                             0  False    False  False              False   \n",
       "3                             0  False    False  False              False   \n",
       "4                             0  False    False  False              False   \n",
       "...                         ...    ...      ...    ...                ...   \n",
       "1528                          0  False    False  False              False   \n",
       "1529                          0  False     True  False              False   \n",
       "1530                          0  False    False  False              False   \n",
       "1531                          0  False    False  False              False   \n",
       "1532                          0  False    False  False              False   \n",
       "\n",
       "      aquatic_biome  env_mat   soil  liquid water  water ice  \\\n",
       "0             False     True  False         False      False   \n",
       "1             False    False  False         False      False   \n",
       "2             False     True  False         False      False   \n",
       "3             False     True  False         False      False   \n",
       "4             False    False  False         False      False   \n",
       "...             ...      ...    ...           ...        ...   \n",
       "1528          False     True  False          True      False   \n",
       "1529          False    False  False         False      False   \n",
       "1530          False    False  False         False      False   \n",
       "1531          False    False  False         False      False   \n",
       "1532          False     True  False         False      False   \n",
       "\n",
       "      goldterms_mappings  \n",
       "0                  False  \n",
       "1                  False  \n",
       "2                  False  \n",
       "3                  False  \n",
       "4                  False  \n",
       "...                  ...  \n",
       "1528               False  \n",
       "1529               False  \n",
       "1530               False  \n",
       "1531               False  \n",
       "1532               False  \n",
       "\n",
       "[1533 rows x 17 columns]"
      ],
      "text/html": [
       "<div>\n",
       "<style scoped>\n",
       "    .dataframe tbody tr th:only-of-type {\n",
       "        vertical-align: middle;\n",
       "    }\n",
       "\n",
       "    .dataframe tbody tr th {\n",
       "        vertical-align: top;\n",
       "    }\n",
       "\n",
       "    .dataframe thead th {\n",
       "        text-align: right;\n",
       "    }\n",
       "</style>\n",
       "<table border=\"1\" class=\"dataframe\">\n",
       "  <thead>\n",
       "    <tr style=\"text-align: right;\">\n",
       "      <th></th>\n",
       "      <th>curie</th>\n",
       "      <th>label</th>\n",
       "      <th>envo_native</th>\n",
       "      <th>obsolete</th>\n",
       "      <th>EnvMediumSoilEnum_11_1</th>\n",
       "      <th>ancestors_in_enum_count</th>\n",
       "      <th>descendants_in_enum_count</th>\n",
       "      <th>abp</th>\n",
       "      <th>env_sys</th>\n",
       "      <th>biome</th>\n",
       "      <th>terrestrial_biome</th>\n",
       "      <th>aquatic_biome</th>\n",
       "      <th>env_mat</th>\n",
       "      <th>soil</th>\n",
       "      <th>liquid water</th>\n",
       "      <th>water ice</th>\n",
       "      <th>goldterms_mappings</th>\n",
       "    </tr>\n",
       "  </thead>\n",
       "  <tbody>\n",
       "    <tr>\n",
       "      <th>0</th>\n",
       "      <td>FOODON:00001006</td>\n",
       "      <td>mammalian meat food product</td>\n",
       "      <td>False</td>\n",
       "      <td>False</td>\n",
       "      <td>False</td>\n",
       "      <td>0</td>\n",
       "      <td>0</td>\n",
       "      <td>False</td>\n",
       "      <td>False</td>\n",
       "      <td>False</td>\n",
       "      <td>False</td>\n",
       "      <td>False</td>\n",
       "      <td>True</td>\n",
       "      <td>False</td>\n",
       "      <td>False</td>\n",
       "      <td>False</td>\n",
       "      <td>False</td>\n",
       "    </tr>\n",
       "    <tr>\n",
       "      <th>1</th>\n",
       "      <td>ENVO:00000474</td>\n",
       "      <td>cut</td>\n",
       "      <td>True</td>\n",
       "      <td>False</td>\n",
       "      <td>False</td>\n",
       "      <td>0</td>\n",
       "      <td>0</td>\n",
       "      <td>True</td>\n",
       "      <td>False</td>\n",
       "      <td>False</td>\n",
       "      <td>False</td>\n",
       "      <td>False</td>\n",
       "      <td>False</td>\n",
       "      <td>False</td>\n",
       "      <td>False</td>\n",
       "      <td>False</td>\n",
       "      <td>False</td>\n",
       "    </tr>\n",
       "    <tr>\n",
       "      <th>2</th>\n",
       "      <td>ENVO:00005796</td>\n",
       "      <td>marine sludge</td>\n",
       "      <td>True</td>\n",
       "      <td>False</td>\n",
       "      <td>False</td>\n",
       "      <td>0</td>\n",
       "      <td>0</td>\n",
       "      <td>False</td>\n",
       "      <td>False</td>\n",
       "      <td>False</td>\n",
       "      <td>False</td>\n",
       "      <td>False</td>\n",
       "      <td>True</td>\n",
       "      <td>False</td>\n",
       "      <td>False</td>\n",
       "      <td>False</td>\n",
       "      <td>False</td>\n",
       "    </tr>\n",
       "    <tr>\n",
       "      <th>3</th>\n",
       "      <td>FOODON:00001127</td>\n",
       "      <td>cow milk cheese</td>\n",
       "      <td>False</td>\n",
       "      <td>False</td>\n",
       "      <td>False</td>\n",
       "      <td>0</td>\n",
       "      <td>0</td>\n",
       "      <td>False</td>\n",
       "      <td>False</td>\n",
       "      <td>False</td>\n",
       "      <td>False</td>\n",
       "      <td>False</td>\n",
       "      <td>True</td>\n",
       "      <td>False</td>\n",
       "      <td>False</td>\n",
       "      <td>False</td>\n",
       "      <td>False</td>\n",
       "    </tr>\n",
       "    <tr>\n",
       "      <th>4</th>\n",
       "      <td>ENVO:03600069</td>\n",
       "      <td>nest of alligator</td>\n",
       "      <td>True</td>\n",
       "      <td>False</td>\n",
       "      <td>False</td>\n",
       "      <td>0</td>\n",
       "      <td>0</td>\n",
       "      <td>False</td>\n",
       "      <td>False</td>\n",
       "      <td>False</td>\n",
       "      <td>False</td>\n",
       "      <td>False</td>\n",
       "      <td>False</td>\n",
       "      <td>False</td>\n",
       "      <td>False</td>\n",
       "      <td>False</td>\n",
       "      <td>False</td>\n",
       "    </tr>\n",
       "    <tr>\n",
       "      <th>...</th>\n",
       "      <td>...</td>\n",
       "      <td>...</td>\n",
       "      <td>...</td>\n",
       "      <td>...</td>\n",
       "      <td>...</td>\n",
       "      <td>...</td>\n",
       "      <td>...</td>\n",
       "      <td>...</td>\n",
       "      <td>...</td>\n",
       "      <td>...</td>\n",
       "      <td>...</td>\n",
       "      <td>...</td>\n",
       "      <td>...</td>\n",
       "      <td>...</td>\n",
       "      <td>...</td>\n",
       "      <td>...</td>\n",
       "      <td>...</td>\n",
       "    </tr>\n",
       "    <tr>\n",
       "      <th>1528</th>\n",
       "      <td>ENVO:01000357</td>\n",
       "      <td>alkaline water</td>\n",
       "      <td>True</td>\n",
       "      <td>False</td>\n",
       "      <td>False</td>\n",
       "      <td>0</td>\n",
       "      <td>0</td>\n",
       "      <td>False</td>\n",
       "      <td>False</td>\n",
       "      <td>False</td>\n",
       "      <td>False</td>\n",
       "      <td>False</td>\n",
       "      <td>True</td>\n",
       "      <td>False</td>\n",
       "      <td>True</td>\n",
       "      <td>False</td>\n",
       "      <td>False</td>\n",
       "    </tr>\n",
       "    <tr>\n",
       "      <th>1529</th>\n",
       "      <td>ENVO:01000999</td>\n",
       "      <td>rhizosphere environment</td>\n",
       "      <td>True</td>\n",
       "      <td>False</td>\n",
       "      <td>False</td>\n",
       "      <td>0</td>\n",
       "      <td>0</td>\n",
       "      <td>False</td>\n",
       "      <td>True</td>\n",
       "      <td>False</td>\n",
       "      <td>False</td>\n",
       "      <td>False</td>\n",
       "      <td>False</td>\n",
       "      <td>False</td>\n",
       "      <td>False</td>\n",
       "      <td>False</td>\n",
       "      <td>False</td>\n",
       "    </tr>\n",
       "    <tr>\n",
       "      <th>1530</th>\n",
       "      <td>OBI:0000967</td>\n",
       "      <td>container</td>\n",
       "      <td>False</td>\n",
       "      <td>False</td>\n",
       "      <td>False</td>\n",
       "      <td>0</td>\n",
       "      <td>0</td>\n",
       "      <td>False</td>\n",
       "      <td>False</td>\n",
       "      <td>False</td>\n",
       "      <td>False</td>\n",
       "      <td>False</td>\n",
       "      <td>False</td>\n",
       "      <td>False</td>\n",
       "      <td>False</td>\n",
       "      <td>False</td>\n",
       "      <td>False</td>\n",
       "    </tr>\n",
       "    <tr>\n",
       "      <th>1531</th>\n",
       "      <td>UBERON:0002416</td>\n",
       "      <td>integumental system</td>\n",
       "      <td>False</td>\n",
       "      <td>False</td>\n",
       "      <td>False</td>\n",
       "      <td>0</td>\n",
       "      <td>0</td>\n",
       "      <td>False</td>\n",
       "      <td>False</td>\n",
       "      <td>False</td>\n",
       "      <td>False</td>\n",
       "      <td>False</td>\n",
       "      <td>False</td>\n",
       "      <td>False</td>\n",
       "      <td>False</td>\n",
       "      <td>False</td>\n",
       "      <td>False</td>\n",
       "    </tr>\n",
       "    <tr>\n",
       "      <th>1532</th>\n",
       "      <td>ENVO:02000113</td>\n",
       "      <td>welding fume</td>\n",
       "      <td>True</td>\n",
       "      <td>False</td>\n",
       "      <td>False</td>\n",
       "      <td>0</td>\n",
       "      <td>0</td>\n",
       "      <td>False</td>\n",
       "      <td>False</td>\n",
       "      <td>False</td>\n",
       "      <td>False</td>\n",
       "      <td>False</td>\n",
       "      <td>True</td>\n",
       "      <td>False</td>\n",
       "      <td>False</td>\n",
       "      <td>False</td>\n",
       "      <td>False</td>\n",
       "    </tr>\n",
       "  </tbody>\n",
       "</table>\n",
       "<p>1533 rows × 17 columns</p>\n",
       "</div>"
      ]
     },
     "execution_count": 119,
     "metadata": {},
     "output_type": "execute_result"
    }
   ],
   "execution_count": 119
  },
  {
   "cell_type": "code",
   "id": "88ebf6f76c2e0545",
   "metadata": {
    "ExecuteTime": {
     "end_time": "2024-12-06T20:28:38.080027Z",
     "start_time": "2024-12-06T20:28:38.076104Z"
    }
   },
   "source": [
    "nmdc_biosample_scoped_counts = nmdc_biosample_contexts_frame[nmdc_context_selector].value_counts().reset_index()\n",
    "nmdc_biosample_scoped_counts.columns = ['curie', 'nmdc_scoped_count']\n"
   ],
   "outputs": [],
   "execution_count": 120
  },
  {
   "cell_type": "code",
   "id": "85789ece9ec4ddd6",
   "metadata": {
    "ExecuteTime": {
     "end_time": "2024-12-06T20:28:38.087537Z",
     "start_time": "2024-12-06T20:28:38.081557Z"
    }
   },
   "source": [
    "nmdc_biosample_scoped_counts"
   ],
   "outputs": [
    {
     "data": {
      "text/plain": [
       "           curie  nmdc_scoped_count\n",
       "0  ENVO:01001001                192\n",
       "1  ENVO:01000349                101\n",
       "2     PO:0025034                 98\n",
       "3     PO:0009007                 10"
      ],
      "text/html": [
       "<div>\n",
       "<style scoped>\n",
       "    .dataframe tbody tr th:only-of-type {\n",
       "        vertical-align: middle;\n",
       "    }\n",
       "\n",
       "    .dataframe tbody tr th {\n",
       "        vertical-align: top;\n",
       "    }\n",
       "\n",
       "    .dataframe thead th {\n",
       "        text-align: right;\n",
       "    }\n",
       "</style>\n",
       "<table border=\"1\" class=\"dataframe\">\n",
       "  <thead>\n",
       "    <tr style=\"text-align: right;\">\n",
       "      <th></th>\n",
       "      <th>curie</th>\n",
       "      <th>nmdc_scoped_count</th>\n",
       "    </tr>\n",
       "  </thead>\n",
       "  <tbody>\n",
       "    <tr>\n",
       "      <th>0</th>\n",
       "      <td>ENVO:01001001</td>\n",
       "      <td>192</td>\n",
       "    </tr>\n",
       "    <tr>\n",
       "      <th>1</th>\n",
       "      <td>ENVO:01000349</td>\n",
       "      <td>101</td>\n",
       "    </tr>\n",
       "    <tr>\n",
       "      <th>2</th>\n",
       "      <td>PO:0025034</td>\n",
       "      <td>98</td>\n",
       "    </tr>\n",
       "    <tr>\n",
       "      <th>3</th>\n",
       "      <td>PO:0009007</td>\n",
       "      <td>10</td>\n",
       "    </tr>\n",
       "  </tbody>\n",
       "</table>\n",
       "</div>"
      ]
     },
     "execution_count": 121,
     "metadata": {},
     "output_type": "execute_result"
    }
   ],
   "execution_count": 121
  },
  {
   "cell_type": "code",
   "id": "329203aecb25f598",
   "metadata": {
    "ExecuteTime": {
     "end_time": "2024-12-06T20:28:38.094707Z",
     "start_time": "2024-12-06T20:28:38.089097Z"
    }
   },
   "source": [
    "# Perform the left merge\n",
    "rows_frame = rows_frame.merge(\n",
    "    nmdc_biosample_scoped_counts,\n",
    "    left_on='curie',\n",
    "    right_on='curie',\n",
    "    how='left'\n",
    ")"
   ],
   "outputs": [],
   "execution_count": 122
  },
  {
   "cell_type": "code",
   "id": "cff020dba8153cb2",
   "metadata": {
    "ExecuteTime": {
     "end_time": "2024-12-06T20:28:38.105892Z",
     "start_time": "2024-12-06T20:28:38.096087Z"
    }
   },
   "source": [
    "gold_env_filtered_biosamples_with_inferred"
   ],
   "outputs": [
    {
     "data": {
      "text/plain": [
       "Empty DataFrame\n",
       "Columns: [BIOSAMPLE GOLD ID, BIOSAMPLE NAME, BIOSAMPLE NCBI TAX ID, BIOSAMPLE NCBI TAX NAME, BIOSAMPLE SAMPLE COLLECTION SITE, BIOSAMPLE SAMPLE COLLECTION DATE, BIOSAMPLE GEOGRAPHIC LOCATION, BIOSAMPLE LATITUDE, BIOSAMPLE LONGITUDE, BIOSAMPLE ECOSYSTEM PATH ID, BIOSAMPLE ECOSYSTEM, BIOSAMPLE ECOSYSTEM CATEGORY, BIOSAMPLE ECOSYSTEM TYPE, BIOSAMPLE ECOSYSTEM SUBTYPE, BIOSAMPLE SPECIFIC ECOSYSTEM, stanza, subject, predicate, object, value, datatype, language, graph, object_label, path_id]\n",
       "Index: []\n",
       "\n",
       "[0 rows x 25 columns]"
      ],
      "text/html": [
       "<div>\n",
       "<style scoped>\n",
       "    .dataframe tbody tr th:only-of-type {\n",
       "        vertical-align: middle;\n",
       "    }\n",
       "\n",
       "    .dataframe tbody tr th {\n",
       "        vertical-align: top;\n",
       "    }\n",
       "\n",
       "    .dataframe thead th {\n",
       "        text-align: right;\n",
       "    }\n",
       "</style>\n",
       "<table border=\"1\" class=\"dataframe\">\n",
       "  <thead>\n",
       "    <tr style=\"text-align: right;\">\n",
       "      <th></th>\n",
       "      <th>BIOSAMPLE GOLD ID</th>\n",
       "      <th>BIOSAMPLE NAME</th>\n",
       "      <th>BIOSAMPLE NCBI TAX ID</th>\n",
       "      <th>BIOSAMPLE NCBI TAX NAME</th>\n",
       "      <th>BIOSAMPLE SAMPLE COLLECTION SITE</th>\n",
       "      <th>BIOSAMPLE SAMPLE COLLECTION DATE</th>\n",
       "      <th>BIOSAMPLE GEOGRAPHIC LOCATION</th>\n",
       "      <th>BIOSAMPLE LATITUDE</th>\n",
       "      <th>BIOSAMPLE LONGITUDE</th>\n",
       "      <th>BIOSAMPLE ECOSYSTEM PATH ID</th>\n",
       "      <th>...</th>\n",
       "      <th>stanza</th>\n",
       "      <th>subject</th>\n",
       "      <th>predicate</th>\n",
       "      <th>object</th>\n",
       "      <th>value</th>\n",
       "      <th>datatype</th>\n",
       "      <th>language</th>\n",
       "      <th>graph</th>\n",
       "      <th>object_label</th>\n",
       "      <th>path_id</th>\n",
       "    </tr>\n",
       "  </thead>\n",
       "  <tbody>\n",
       "  </tbody>\n",
       "</table>\n",
       "<p>0 rows × 25 columns</p>\n",
       "</div>"
      ]
     },
     "execution_count": 123,
     "metadata": {},
     "output_type": "execute_result"
    }
   ],
   "execution_count": 123
  },
  {
   "cell_type": "code",
   "id": "332592b73d143dc0",
   "metadata": {
    "ExecuteTime": {
     "end_time": "2024-12-06T20:28:38.130437Z",
     "start_time": "2024-12-06T20:28:38.125891Z"
    }
   },
   "source": [
    "gold_biosample_scoped_counts = gold_env_filtered_biosamples_with_inferred['object'].value_counts().reset_index()\n",
    "gold_biosample_scoped_counts.columns = ['curie', 'gold_hybrid_count']"
   ],
   "outputs": [],
   "execution_count": 124
  },
  {
   "cell_type": "code",
   "id": "57d16757b67e19a5",
   "metadata": {
    "ExecuteTime": {
     "end_time": "2024-12-06T20:28:38.137853Z",
     "start_time": "2024-12-06T20:28:38.132336Z"
    }
   },
   "source": [
    "gold_biosample_scoped_counts"
   ],
   "outputs": [
    {
     "data": {
      "text/plain": [
       "Empty DataFrame\n",
       "Columns: [curie, gold_hybrid_count]\n",
       "Index: []"
      ],
      "text/html": [
       "<div>\n",
       "<style scoped>\n",
       "    .dataframe tbody tr th:only-of-type {\n",
       "        vertical-align: middle;\n",
       "    }\n",
       "\n",
       "    .dataframe tbody tr th {\n",
       "        vertical-align: top;\n",
       "    }\n",
       "\n",
       "    .dataframe thead th {\n",
       "        text-align: right;\n",
       "    }\n",
       "</style>\n",
       "<table border=\"1\" class=\"dataframe\">\n",
       "  <thead>\n",
       "    <tr style=\"text-align: right;\">\n",
       "      <th></th>\n",
       "      <th>curie</th>\n",
       "      <th>gold_hybrid_count</th>\n",
       "    </tr>\n",
       "  </thead>\n",
       "  <tbody>\n",
       "  </tbody>\n",
       "</table>\n",
       "</div>"
      ]
     },
     "execution_count": 125,
     "metadata": {},
     "output_type": "execute_result"
    }
   ],
   "execution_count": 125
  },
  {
   "cell_type": "code",
   "id": "65ab8871a20a93d2",
   "metadata": {
    "ExecuteTime": {
     "end_time": "2024-12-06T20:28:38.144350Z",
     "start_time": "2024-12-06T20:28:38.139372Z"
    }
   },
   "source": [
    "# Perform the left merge\n",
    "rows_frame = rows_frame.merge(\n",
    "    gold_biosample_scoped_counts,\n",
    "    left_on='curie',\n",
    "    right_on='curie',\n",
    "    how='left'\n",
    ")"
   ],
   "outputs": [],
   "execution_count": 126
  },
  {
   "cell_type": "code",
   "id": "8346fb59af8e61c6",
   "metadata": {
    "ExecuteTime": {
     "end_time": "2024-12-06T20:28:38.163094Z",
     "start_time": "2024-12-06T20:28:38.145922Z"
    }
   },
   "source": [
    "rows_frame"
   ],
   "outputs": [
    {
     "data": {
      "text/plain": [
       "                curie                        label  envo_native  obsolete  \\\n",
       "0     FOODON:00001006  mammalian meat food product        False     False   \n",
       "1       ENVO:00000474                          cut         True     False   \n",
       "2       ENVO:00005796                marine sludge         True     False   \n",
       "3     FOODON:00001127              cow milk cheese        False     False   \n",
       "4       ENVO:03600069            nest of alligator         True     False   \n",
       "...               ...                          ...          ...       ...   \n",
       "1528    ENVO:01000357               alkaline water         True     False   \n",
       "1529    ENVO:01000999      rhizosphere environment         True     False   \n",
       "1530      OBI:0000967                    container        False     False   \n",
       "1531   UBERON:0002416          integumental system        False     False   \n",
       "1532    ENVO:02000113                 welding fume         True     False   \n",
       "\n",
       "      EnvMediumSoilEnum_11_1  ancestors_in_enum_count  \\\n",
       "0                      False                        0   \n",
       "1                      False                        0   \n",
       "2                      False                        0   \n",
       "3                      False                        0   \n",
       "4                      False                        0   \n",
       "...                      ...                      ...   \n",
       "1528                   False                        0   \n",
       "1529                   False                        0   \n",
       "1530                   False                        0   \n",
       "1531                   False                        0   \n",
       "1532                   False                        0   \n",
       "\n",
       "      descendants_in_enum_count    abp  env_sys  biome  terrestrial_biome  \\\n",
       "0                             0  False    False  False              False   \n",
       "1                             0   True    False  False              False   \n",
       "2                             0  False    False  False              False   \n",
       "3                             0  False    False  False              False   \n",
       "4                             0  False    False  False              False   \n",
       "...                         ...    ...      ...    ...                ...   \n",
       "1528                          0  False    False  False              False   \n",
       "1529                          0  False     True  False              False   \n",
       "1530                          0  False    False  False              False   \n",
       "1531                          0  False    False  False              False   \n",
       "1532                          0  False    False  False              False   \n",
       "\n",
       "      aquatic_biome  env_mat   soil  liquid water  water ice  \\\n",
       "0             False     True  False         False      False   \n",
       "1             False    False  False         False      False   \n",
       "2             False     True  False         False      False   \n",
       "3             False     True  False         False      False   \n",
       "4             False    False  False         False      False   \n",
       "...             ...      ...    ...           ...        ...   \n",
       "1528          False     True  False          True      False   \n",
       "1529          False    False  False         False      False   \n",
       "1530          False    False  False         False      False   \n",
       "1531          False    False  False         False      False   \n",
       "1532          False     True  False         False      False   \n",
       "\n",
       "      goldterms_mappings  nmdc_scoped_count  gold_hybrid_count  \n",
       "0                  False                NaN                NaN  \n",
       "1                  False                NaN                NaN  \n",
       "2                  False                NaN                NaN  \n",
       "3                  False                NaN                NaN  \n",
       "4                  False                NaN                NaN  \n",
       "...                  ...                ...                ...  \n",
       "1528               False                NaN                NaN  \n",
       "1529               False                NaN                NaN  \n",
       "1530               False                NaN                NaN  \n",
       "1531               False                NaN                NaN  \n",
       "1532               False                NaN                NaN  \n",
       "\n",
       "[1533 rows x 19 columns]"
      ],
      "text/html": [
       "<div>\n",
       "<style scoped>\n",
       "    .dataframe tbody tr th:only-of-type {\n",
       "        vertical-align: middle;\n",
       "    }\n",
       "\n",
       "    .dataframe tbody tr th {\n",
       "        vertical-align: top;\n",
       "    }\n",
       "\n",
       "    .dataframe thead th {\n",
       "        text-align: right;\n",
       "    }\n",
       "</style>\n",
       "<table border=\"1\" class=\"dataframe\">\n",
       "  <thead>\n",
       "    <tr style=\"text-align: right;\">\n",
       "      <th></th>\n",
       "      <th>curie</th>\n",
       "      <th>label</th>\n",
       "      <th>envo_native</th>\n",
       "      <th>obsolete</th>\n",
       "      <th>EnvMediumSoilEnum_11_1</th>\n",
       "      <th>ancestors_in_enum_count</th>\n",
       "      <th>descendants_in_enum_count</th>\n",
       "      <th>abp</th>\n",
       "      <th>env_sys</th>\n",
       "      <th>biome</th>\n",
       "      <th>terrestrial_biome</th>\n",
       "      <th>aquatic_biome</th>\n",
       "      <th>env_mat</th>\n",
       "      <th>soil</th>\n",
       "      <th>liquid water</th>\n",
       "      <th>water ice</th>\n",
       "      <th>goldterms_mappings</th>\n",
       "      <th>nmdc_scoped_count</th>\n",
       "      <th>gold_hybrid_count</th>\n",
       "    </tr>\n",
       "  </thead>\n",
       "  <tbody>\n",
       "    <tr>\n",
       "      <th>0</th>\n",
       "      <td>FOODON:00001006</td>\n",
       "      <td>mammalian meat food product</td>\n",
       "      <td>False</td>\n",
       "      <td>False</td>\n",
       "      <td>False</td>\n",
       "      <td>0</td>\n",
       "      <td>0</td>\n",
       "      <td>False</td>\n",
       "      <td>False</td>\n",
       "      <td>False</td>\n",
       "      <td>False</td>\n",
       "      <td>False</td>\n",
       "      <td>True</td>\n",
       "      <td>False</td>\n",
       "      <td>False</td>\n",
       "      <td>False</td>\n",
       "      <td>False</td>\n",
       "      <td>NaN</td>\n",
       "      <td>NaN</td>\n",
       "    </tr>\n",
       "    <tr>\n",
       "      <th>1</th>\n",
       "      <td>ENVO:00000474</td>\n",
       "      <td>cut</td>\n",
       "      <td>True</td>\n",
       "      <td>False</td>\n",
       "      <td>False</td>\n",
       "      <td>0</td>\n",
       "      <td>0</td>\n",
       "      <td>True</td>\n",
       "      <td>False</td>\n",
       "      <td>False</td>\n",
       "      <td>False</td>\n",
       "      <td>False</td>\n",
       "      <td>False</td>\n",
       "      <td>False</td>\n",
       "      <td>False</td>\n",
       "      <td>False</td>\n",
       "      <td>False</td>\n",
       "      <td>NaN</td>\n",
       "      <td>NaN</td>\n",
       "    </tr>\n",
       "    <tr>\n",
       "      <th>2</th>\n",
       "      <td>ENVO:00005796</td>\n",
       "      <td>marine sludge</td>\n",
       "      <td>True</td>\n",
       "      <td>False</td>\n",
       "      <td>False</td>\n",
       "      <td>0</td>\n",
       "      <td>0</td>\n",
       "      <td>False</td>\n",
       "      <td>False</td>\n",
       "      <td>False</td>\n",
       "      <td>False</td>\n",
       "      <td>False</td>\n",
       "      <td>True</td>\n",
       "      <td>False</td>\n",
       "      <td>False</td>\n",
       "      <td>False</td>\n",
       "      <td>False</td>\n",
       "      <td>NaN</td>\n",
       "      <td>NaN</td>\n",
       "    </tr>\n",
       "    <tr>\n",
       "      <th>3</th>\n",
       "      <td>FOODON:00001127</td>\n",
       "      <td>cow milk cheese</td>\n",
       "      <td>False</td>\n",
       "      <td>False</td>\n",
       "      <td>False</td>\n",
       "      <td>0</td>\n",
       "      <td>0</td>\n",
       "      <td>False</td>\n",
       "      <td>False</td>\n",
       "      <td>False</td>\n",
       "      <td>False</td>\n",
       "      <td>False</td>\n",
       "      <td>True</td>\n",
       "      <td>False</td>\n",
       "      <td>False</td>\n",
       "      <td>False</td>\n",
       "      <td>False</td>\n",
       "      <td>NaN</td>\n",
       "      <td>NaN</td>\n",
       "    </tr>\n",
       "    <tr>\n",
       "      <th>4</th>\n",
       "      <td>ENVO:03600069</td>\n",
       "      <td>nest of alligator</td>\n",
       "      <td>True</td>\n",
       "      <td>False</td>\n",
       "      <td>False</td>\n",
       "      <td>0</td>\n",
       "      <td>0</td>\n",
       "      <td>False</td>\n",
       "      <td>False</td>\n",
       "      <td>False</td>\n",
       "      <td>False</td>\n",
       "      <td>False</td>\n",
       "      <td>False</td>\n",
       "      <td>False</td>\n",
       "      <td>False</td>\n",
       "      <td>False</td>\n",
       "      <td>False</td>\n",
       "      <td>NaN</td>\n",
       "      <td>NaN</td>\n",
       "    </tr>\n",
       "    <tr>\n",
       "      <th>...</th>\n",
       "      <td>...</td>\n",
       "      <td>...</td>\n",
       "      <td>...</td>\n",
       "      <td>...</td>\n",
       "      <td>...</td>\n",
       "      <td>...</td>\n",
       "      <td>...</td>\n",
       "      <td>...</td>\n",
       "      <td>...</td>\n",
       "      <td>...</td>\n",
       "      <td>...</td>\n",
       "      <td>...</td>\n",
       "      <td>...</td>\n",
       "      <td>...</td>\n",
       "      <td>...</td>\n",
       "      <td>...</td>\n",
       "      <td>...</td>\n",
       "      <td>...</td>\n",
       "      <td>...</td>\n",
       "    </tr>\n",
       "    <tr>\n",
       "      <th>1528</th>\n",
       "      <td>ENVO:01000357</td>\n",
       "      <td>alkaline water</td>\n",
       "      <td>True</td>\n",
       "      <td>False</td>\n",
       "      <td>False</td>\n",
       "      <td>0</td>\n",
       "      <td>0</td>\n",
       "      <td>False</td>\n",
       "      <td>False</td>\n",
       "      <td>False</td>\n",
       "      <td>False</td>\n",
       "      <td>False</td>\n",
       "      <td>True</td>\n",
       "      <td>False</td>\n",
       "      <td>True</td>\n",
       "      <td>False</td>\n",
       "      <td>False</td>\n",
       "      <td>NaN</td>\n",
       "      <td>NaN</td>\n",
       "    </tr>\n",
       "    <tr>\n",
       "      <th>1529</th>\n",
       "      <td>ENVO:01000999</td>\n",
       "      <td>rhizosphere environment</td>\n",
       "      <td>True</td>\n",
       "      <td>False</td>\n",
       "      <td>False</td>\n",
       "      <td>0</td>\n",
       "      <td>0</td>\n",
       "      <td>False</td>\n",
       "      <td>True</td>\n",
       "      <td>False</td>\n",
       "      <td>False</td>\n",
       "      <td>False</td>\n",
       "      <td>False</td>\n",
       "      <td>False</td>\n",
       "      <td>False</td>\n",
       "      <td>False</td>\n",
       "      <td>False</td>\n",
       "      <td>NaN</td>\n",
       "      <td>NaN</td>\n",
       "    </tr>\n",
       "    <tr>\n",
       "      <th>1530</th>\n",
       "      <td>OBI:0000967</td>\n",
       "      <td>container</td>\n",
       "      <td>False</td>\n",
       "      <td>False</td>\n",
       "      <td>False</td>\n",
       "      <td>0</td>\n",
       "      <td>0</td>\n",
       "      <td>False</td>\n",
       "      <td>False</td>\n",
       "      <td>False</td>\n",
       "      <td>False</td>\n",
       "      <td>False</td>\n",
       "      <td>False</td>\n",
       "      <td>False</td>\n",
       "      <td>False</td>\n",
       "      <td>False</td>\n",
       "      <td>False</td>\n",
       "      <td>NaN</td>\n",
       "      <td>NaN</td>\n",
       "    </tr>\n",
       "    <tr>\n",
       "      <th>1531</th>\n",
       "      <td>UBERON:0002416</td>\n",
       "      <td>integumental system</td>\n",
       "      <td>False</td>\n",
       "      <td>False</td>\n",
       "      <td>False</td>\n",
       "      <td>0</td>\n",
       "      <td>0</td>\n",
       "      <td>False</td>\n",
       "      <td>False</td>\n",
       "      <td>False</td>\n",
       "      <td>False</td>\n",
       "      <td>False</td>\n",
       "      <td>False</td>\n",
       "      <td>False</td>\n",
       "      <td>False</td>\n",
       "      <td>False</td>\n",
       "      <td>False</td>\n",
       "      <td>NaN</td>\n",
       "      <td>NaN</td>\n",
       "    </tr>\n",
       "    <tr>\n",
       "      <th>1532</th>\n",
       "      <td>ENVO:02000113</td>\n",
       "      <td>welding fume</td>\n",
       "      <td>True</td>\n",
       "      <td>False</td>\n",
       "      <td>False</td>\n",
       "      <td>0</td>\n",
       "      <td>0</td>\n",
       "      <td>False</td>\n",
       "      <td>False</td>\n",
       "      <td>False</td>\n",
       "      <td>False</td>\n",
       "      <td>False</td>\n",
       "      <td>True</td>\n",
       "      <td>False</td>\n",
       "      <td>False</td>\n",
       "      <td>False</td>\n",
       "      <td>False</td>\n",
       "      <td>NaN</td>\n",
       "      <td>NaN</td>\n",
       "    </tr>\n",
       "  </tbody>\n",
       "</table>\n",
       "<p>1533 rows × 19 columns</p>\n",
       "</div>"
      ]
     },
     "execution_count": 127,
     "metadata": {},
     "output_type": "execute_result"
    }
   ],
   "execution_count": 127
  },
  {
   "cell_type": "code",
   "id": "396c3f6005a31874",
   "metadata": {
    "ExecuteTime": {
     "end_time": "2024-12-06T20:28:38.167283Z",
     "start_time": "2024-12-06T20:28:38.164705Z"
    }
   },
   "source": [
    "# 990 rows in https://docs.google.com/spreadsheets/d/12WH3eduBq2qSTy9zVF3n7fyajn6ssLZL/edit?gid=546570706#gid=546570706"
   ],
   "outputs": [],
   "execution_count": 128
  },
  {
   "cell_type": "code",
   "id": "87a64ed7d57d81ee",
   "metadata": {
    "ExecuteTime": {
     "end_time": "2024-12-06T20:28:38.171475Z",
     "start_time": "2024-12-06T20:28:38.168999Z"
    }
   },
   "source": [
    "# gold and ncbi counts are slightly trickier\n",
    "# for gold: including mappings only, mappings in hybrid with biosample counts. \n",
    "#    Switch to direct biosample counts of GOLD \"envo\" annotations?\n",
    "# ncbi: we have extracted curies and annotated curies"
   ],
   "outputs": [],
   "execution_count": 129
  },
  {
   "cell_type": "code",
   "id": "951ca41984b81e7d",
   "metadata": {
    "ExecuteTime": {
     "end_time": "2024-12-06T20:28:38.349618Z",
     "start_time": "2024-12-06T20:28:38.173194Z"
    }
   },
   "source": [
    "# todo move this stuff up to immediately after the creation of ncbi_frame ?\n",
    "\n",
    "# todo don't accept extracted curie if no real label?\n",
    "# any kind of string similarity checking for label of annotated curie vs extracted label ?\n",
    "# look for long runs of curies?\n",
    "# can we measure the beneficial impact of any of this? current crux: how to distribute counts\n",
    "\n",
    "ncbi_frame['curie_list'] = ncbi_frame.apply(\n",
    "    lambda my_row: list({my_row['extracted_curie'], my_row['longest_annotation_curie']} - {None}),\n",
    "    axis=1\n",
    ")\n",
    "\n",
    "ncbi_frame['unique_curie_count'] = ncbi_frame['curie_list'].apply(len)"
   ],
   "outputs": [],
   "execution_count": 130
  },
  {
   "cell_type": "code",
   "id": "c7e3c6cfe93d4685",
   "metadata": {
    "ExecuteTime": {
     "end_time": "2024-12-06T20:28:38.368365Z",
     "start_time": "2024-12-06T20:28:38.351253Z"
    }
   },
   "source": [
    "ncbi_frame"
   ],
   "outputs": [
    {
     "data": {
      "text/plain": [
       "       serial_number                               content  sample_count  \\\n",
       "0                  1                        not applicable         13553   \n",
       "1                  2                                 plant         10684   \n",
       "2                  3                                  soil          9189   \n",
       "3                  4                                  root          7722   \n",
       "4                  5               vegetative shoot system          7675   \n",
       "...              ...                                   ...           ...   \n",
       "15959           7901                                root34             1   \n",
       "15960           7902                             XVM2_8hWT             1   \n",
       "15961           7903  Metrosideros tree with crown dieback             1   \n",
       "15962           7904               material[ENVO:00002018]             1   \n",
       "15963           7905               material[ENVO:00002032]             1   \n",
       "\n",
       "                               content_list  content_count  envo_count  \\\n",
       "0                            not applicable              1           0   \n",
       "1                                     plant              1           0   \n",
       "2                                      soil              1           0   \n",
       "3                                      root              1           0   \n",
       "4                   vegetative shoot system              1           0   \n",
       "...                                     ...            ...         ...   \n",
       "15959                                root34              1           0   \n",
       "15960                             XVM2_8hWT              1           0   \n",
       "15961  Metrosideros tree with crown dieback              1           0   \n",
       "15962               material[ENVO:00002018]              1           1   \n",
       "15963               material[ENVO:00002032]              1           1   \n",
       "\n",
       "                            extracted_label extracted_curie  \\\n",
       "0                            not applicable            None   \n",
       "1                                     plant            None   \n",
       "2                                      soil            None   \n",
       "3                                      root            None   \n",
       "4                   vegetative shoot system            None   \n",
       "...                                     ...             ...   \n",
       "15959                                root34            None   \n",
       "15960                             XVM2_8hWT            None   \n",
       "15961  Metrosideros tree with crown dieback            None   \n",
       "15962                              material   ENVO:00002018   \n",
       "15963                              material   ENVO:00002032   \n",
       "\n",
       "                                 real_label longest_annotation_curie  \\\n",
       "0                                      None                     None   \n",
       "1                                      None                     None   \n",
       "2                                      None            ENVO:00001998   \n",
       "3                                      None              NCBITaxon:1   \n",
       "4                                      None               PO:0009006   \n",
       "...                                     ...                      ...   \n",
       "15959                                  None              NCBITaxon:1   \n",
       "15960                                  None                     None   \n",
       "15961                                  None            ENVO:03501116   \n",
       "15962                                sewage                     None   \n",
       "15963  obsolete organism-associated habitat                     None   \n",
       "\n",
       "      longest_annotation_label       curie_list  unique_curie_count  \n",
       "0                         None               []                   0  \n",
       "1                         None               []                   0  \n",
       "2                         soil  [ENVO:00001998]                   1  \n",
       "3                         root    [NCBITaxon:1]                   1  \n",
       "4                 shoot system     [PO:0009006]                   1  \n",
       "...                        ...              ...                 ...  \n",
       "15959                     root    [NCBITaxon:1]                   1  \n",
       "15960                     None               []                   0  \n",
       "15961     rapid transit system  [ENVO:03501116]                   1  \n",
       "15962                     None  [ENVO:00002018]                   1  \n",
       "15963                     None  [ENVO:00002032]                   1  \n",
       "\n",
       "[15964 rows x 13 columns]"
      ],
      "text/html": [
       "<div>\n",
       "<style scoped>\n",
       "    .dataframe tbody tr th:only-of-type {\n",
       "        vertical-align: middle;\n",
       "    }\n",
       "\n",
       "    .dataframe tbody tr th {\n",
       "        vertical-align: top;\n",
       "    }\n",
       "\n",
       "    .dataframe thead th {\n",
       "        text-align: right;\n",
       "    }\n",
       "</style>\n",
       "<table border=\"1\" class=\"dataframe\">\n",
       "  <thead>\n",
       "    <tr style=\"text-align: right;\">\n",
       "      <th></th>\n",
       "      <th>serial_number</th>\n",
       "      <th>content</th>\n",
       "      <th>sample_count</th>\n",
       "      <th>content_list</th>\n",
       "      <th>content_count</th>\n",
       "      <th>envo_count</th>\n",
       "      <th>extracted_label</th>\n",
       "      <th>extracted_curie</th>\n",
       "      <th>real_label</th>\n",
       "      <th>longest_annotation_curie</th>\n",
       "      <th>longest_annotation_label</th>\n",
       "      <th>curie_list</th>\n",
       "      <th>unique_curie_count</th>\n",
       "    </tr>\n",
       "  </thead>\n",
       "  <tbody>\n",
       "    <tr>\n",
       "      <th>0</th>\n",
       "      <td>1</td>\n",
       "      <td>not applicable</td>\n",
       "      <td>13553</td>\n",
       "      <td>not applicable</td>\n",
       "      <td>1</td>\n",
       "      <td>0</td>\n",
       "      <td>not applicable</td>\n",
       "      <td>None</td>\n",
       "      <td>None</td>\n",
       "      <td>None</td>\n",
       "      <td>None</td>\n",
       "      <td>[]</td>\n",
       "      <td>0</td>\n",
       "    </tr>\n",
       "    <tr>\n",
       "      <th>1</th>\n",
       "      <td>2</td>\n",
       "      <td>plant</td>\n",
       "      <td>10684</td>\n",
       "      <td>plant</td>\n",
       "      <td>1</td>\n",
       "      <td>0</td>\n",
       "      <td>plant</td>\n",
       "      <td>None</td>\n",
       "      <td>None</td>\n",
       "      <td>None</td>\n",
       "      <td>None</td>\n",
       "      <td>[]</td>\n",
       "      <td>0</td>\n",
       "    </tr>\n",
       "    <tr>\n",
       "      <th>2</th>\n",
       "      <td>3</td>\n",
       "      <td>soil</td>\n",
       "      <td>9189</td>\n",
       "      <td>soil</td>\n",
       "      <td>1</td>\n",
       "      <td>0</td>\n",
       "      <td>soil</td>\n",
       "      <td>None</td>\n",
       "      <td>None</td>\n",
       "      <td>ENVO:00001998</td>\n",
       "      <td>soil</td>\n",
       "      <td>[ENVO:00001998]</td>\n",
       "      <td>1</td>\n",
       "    </tr>\n",
       "    <tr>\n",
       "      <th>3</th>\n",
       "      <td>4</td>\n",
       "      <td>root</td>\n",
       "      <td>7722</td>\n",
       "      <td>root</td>\n",
       "      <td>1</td>\n",
       "      <td>0</td>\n",
       "      <td>root</td>\n",
       "      <td>None</td>\n",
       "      <td>None</td>\n",
       "      <td>NCBITaxon:1</td>\n",
       "      <td>root</td>\n",
       "      <td>[NCBITaxon:1]</td>\n",
       "      <td>1</td>\n",
       "    </tr>\n",
       "    <tr>\n",
       "      <th>4</th>\n",
       "      <td>5</td>\n",
       "      <td>vegetative shoot system</td>\n",
       "      <td>7675</td>\n",
       "      <td>vegetative shoot system</td>\n",
       "      <td>1</td>\n",
       "      <td>0</td>\n",
       "      <td>vegetative shoot system</td>\n",
       "      <td>None</td>\n",
       "      <td>None</td>\n",
       "      <td>PO:0009006</td>\n",
       "      <td>shoot system</td>\n",
       "      <td>[PO:0009006]</td>\n",
       "      <td>1</td>\n",
       "    </tr>\n",
       "    <tr>\n",
       "      <th>...</th>\n",
       "      <td>...</td>\n",
       "      <td>...</td>\n",
       "      <td>...</td>\n",
       "      <td>...</td>\n",
       "      <td>...</td>\n",
       "      <td>...</td>\n",
       "      <td>...</td>\n",
       "      <td>...</td>\n",
       "      <td>...</td>\n",
       "      <td>...</td>\n",
       "      <td>...</td>\n",
       "      <td>...</td>\n",
       "      <td>...</td>\n",
       "    </tr>\n",
       "    <tr>\n",
       "      <th>15959</th>\n",
       "      <td>7901</td>\n",
       "      <td>root34</td>\n",
       "      <td>1</td>\n",
       "      <td>root34</td>\n",
       "      <td>1</td>\n",
       "      <td>0</td>\n",
       "      <td>root34</td>\n",
       "      <td>None</td>\n",
       "      <td>None</td>\n",
       "      <td>NCBITaxon:1</td>\n",
       "      <td>root</td>\n",
       "      <td>[NCBITaxon:1]</td>\n",
       "      <td>1</td>\n",
       "    </tr>\n",
       "    <tr>\n",
       "      <th>15960</th>\n",
       "      <td>7902</td>\n",
       "      <td>XVM2_8hWT</td>\n",
       "      <td>1</td>\n",
       "      <td>XVM2_8hWT</td>\n",
       "      <td>1</td>\n",
       "      <td>0</td>\n",
       "      <td>XVM2_8hWT</td>\n",
       "      <td>None</td>\n",
       "      <td>None</td>\n",
       "      <td>None</td>\n",
       "      <td>None</td>\n",
       "      <td>[]</td>\n",
       "      <td>0</td>\n",
       "    </tr>\n",
       "    <tr>\n",
       "      <th>15961</th>\n",
       "      <td>7903</td>\n",
       "      <td>Metrosideros tree with crown dieback</td>\n",
       "      <td>1</td>\n",
       "      <td>Metrosideros tree with crown dieback</td>\n",
       "      <td>1</td>\n",
       "      <td>0</td>\n",
       "      <td>Metrosideros tree with crown dieback</td>\n",
       "      <td>None</td>\n",
       "      <td>None</td>\n",
       "      <td>ENVO:03501116</td>\n",
       "      <td>rapid transit system</td>\n",
       "      <td>[ENVO:03501116]</td>\n",
       "      <td>1</td>\n",
       "    </tr>\n",
       "    <tr>\n",
       "      <th>15962</th>\n",
       "      <td>7904</td>\n",
       "      <td>material[ENVO:00002018]</td>\n",
       "      <td>1</td>\n",
       "      <td>material[ENVO:00002018]</td>\n",
       "      <td>1</td>\n",
       "      <td>1</td>\n",
       "      <td>material</td>\n",
       "      <td>ENVO:00002018</td>\n",
       "      <td>sewage</td>\n",
       "      <td>None</td>\n",
       "      <td>None</td>\n",
       "      <td>[ENVO:00002018]</td>\n",
       "      <td>1</td>\n",
       "    </tr>\n",
       "    <tr>\n",
       "      <th>15963</th>\n",
       "      <td>7905</td>\n",
       "      <td>material[ENVO:00002032]</td>\n",
       "      <td>1</td>\n",
       "      <td>material[ENVO:00002032]</td>\n",
       "      <td>1</td>\n",
       "      <td>1</td>\n",
       "      <td>material</td>\n",
       "      <td>ENVO:00002032</td>\n",
       "      <td>obsolete organism-associated habitat</td>\n",
       "      <td>None</td>\n",
       "      <td>None</td>\n",
       "      <td>[ENVO:00002032]</td>\n",
       "      <td>1</td>\n",
       "    </tr>\n",
       "  </tbody>\n",
       "</table>\n",
       "<p>15964 rows × 13 columns</p>\n",
       "</div>"
      ]
     },
     "execution_count": 131,
     "metadata": {},
     "output_type": "execute_result"
    }
   ],
   "execution_count": 131
  },
  {
   "cell_type": "code",
   "id": "349610c477ebf149",
   "metadata": {
    "ExecuteTime": {
     "end_time": "2024-12-06T20:28:38.376055Z",
     "start_time": "2024-12-06T20:28:38.369961Z"
    }
   },
   "source": [
    "ncbi_frame['unique_curie_count'].value_counts()"
   ],
   "outputs": [
    {
     "data": {
      "text/plain": [
       "unique_curie_count\n",
       "1    11928\n",
       "0     3987\n",
       "2       49\n",
       "Name: count, dtype: int64"
      ]
     },
     "execution_count": 132,
     "metadata": {},
     "output_type": "execute_result"
    }
   ],
   "execution_count": 132
  },
  {
   "cell_type": "code",
   "id": "e6a8c0273f36e906",
   "metadata": {
    "ExecuteTime": {
     "end_time": "2024-12-06T20:28:38.381050Z",
     "start_time": "2024-12-06T20:28:38.377559Z"
    }
   },
   "source": [
    "double_curie_frame = ncbi_frame[ncbi_frame['unique_curie_count'] > 1]"
   ],
   "outputs": [],
   "execution_count": 133
  },
  {
   "cell_type": "code",
   "id": "334e7c646337a914",
   "metadata": {
    "ExecuteTime": {
     "end_time": "2024-12-06T20:28:38.386113Z",
     "start_time": "2024-12-06T20:28:38.382627Z"
    }
   },
   "source": [
    "double_curie_frame = double_curie_frame[['extracted_curie', 'longest_annotation_curie']]"
   ],
   "outputs": [],
   "execution_count": 134
  },
  {
   "cell_type": "code",
   "id": "874149830df3dd8a",
   "metadata": {
    "ExecuteTime": {
     "end_time": "2024-12-06T20:28:38.391372Z",
     "start_time": "2024-12-06T20:28:38.387716Z"
    }
   },
   "source": [
    "double_curie_frame = double_curie_frame.drop_duplicates()"
   ],
   "outputs": [],
   "execution_count": 135
  },
  {
   "cell_type": "code",
   "id": "cdfc0bda39f3ad6d",
   "metadata": {
    "ExecuteTime": {
     "end_time": "2024-12-06T20:28:38.396583Z",
     "start_time": "2024-12-06T20:28:38.392619Z"
    }
   },
   "source": [
    "double_curie_frame[['extracted_prefix', 'extracted_local_id']] = double_curie_frame['extracted_curie'].str.split(':', expand=True)"
   ],
   "outputs": [],
   "execution_count": 136
  },
  {
   "cell_type": "code",
   "id": "de6fcee63f6677d",
   "metadata": {
    "ExecuteTime": {
     "end_time": "2024-12-06T20:28:38.401711Z",
     "start_time": "2024-12-06T20:28:38.397890Z"
    }
   },
   "source": [
    "double_curie_frame['extracted_local_id_int'] = pd.to_numeric(double_curie_frame['extracted_local_id'], errors='coerce').astype('Int64')"
   ],
   "outputs": [],
   "execution_count": 137
  },
  {
   "cell_type": "code",
   "id": "fae831b04ed985ef",
   "metadata": {
    "ExecuteTime": {
     "end_time": "2024-12-06T20:28:38.407263Z",
     "start_time": "2024-12-06T20:28:38.403265Z"
    }
   },
   "source": [
    "# Ensure extracted_local_id_int is unique and sorted\n",
    "unique_sorted_series = double_curie_frame['extracted_local_id_int'].dropna().drop_duplicates().sort_values()\n"
   ],
   "outputs": [],
   "execution_count": 138
  },
  {
   "cell_type": "code",
   "id": "d244d7b150a3b413",
   "metadata": {
    "ExecuteTime": {
     "end_time": "2024-12-06T20:28:38.413212Z",
     "start_time": "2024-12-06T20:28:38.408787Z"
    }
   },
   "source": [
    "# Find stretches\n",
    "stretches_dict = find_consecutive_stretches_dict(unique_sorted_series)\n",
    "\n",
    "# pprint.pprint(stretches_dict)"
   ],
   "outputs": [],
   "execution_count": 139
  },
  {
   "cell_type": "code",
   "id": "2fda8122842f63c0",
   "metadata": {
    "ExecuteTime": {
     "end_time": "2024-12-06T20:28:38.418516Z",
     "start_time": "2024-12-06T20:28:38.415058Z"
    }
   },
   "source": [
    "# Convert the stretches dictionary into a DataFrame\n",
    "stretches_df = stretches_dict_to_long_dataframe(stretches_dict)"
   ],
   "outputs": [],
   "execution_count": 140
  },
  {
   "cell_type": "code",
   "id": "367abafc0ae13a6d",
   "metadata": {
    "ExecuteTime": {
     "end_time": "2024-12-06T20:28:38.427928Z",
     "start_time": "2024-12-06T20:28:38.420064Z"
    }
   },
   "source": [
    "stretches_df"
   ],
   "outputs": [
    {
     "data": {
      "text/plain": [
       "    stretch_id    value\n",
       "0            1        1\n",
       "1            1        2\n",
       "2            1        3\n",
       "3            1        4\n",
       "4            1        5\n",
       "5            1        6\n",
       "6            1        7\n",
       "7            2     3031\n",
       "8            2     3032\n",
       "9            2     3033\n",
       "10           2     3034\n",
       "11           2     3035\n",
       "12           2     3036\n",
       "13           3  1001400\n",
       "14           3  1001401\n",
       "15           3  1001402\n",
       "16           3  1001403\n",
       "17           3  1001404\n",
       "18           3  1001405\n",
       "19           3  1001406\n",
       "20           3  1001407"
      ],
      "text/html": [
       "<div>\n",
       "<style scoped>\n",
       "    .dataframe tbody tr th:only-of-type {\n",
       "        vertical-align: middle;\n",
       "    }\n",
       "\n",
       "    .dataframe tbody tr th {\n",
       "        vertical-align: top;\n",
       "    }\n",
       "\n",
       "    .dataframe thead th {\n",
       "        text-align: right;\n",
       "    }\n",
       "</style>\n",
       "<table border=\"1\" class=\"dataframe\">\n",
       "  <thead>\n",
       "    <tr style=\"text-align: right;\">\n",
       "      <th></th>\n",
       "      <th>stretch_id</th>\n",
       "      <th>value</th>\n",
       "    </tr>\n",
       "  </thead>\n",
       "  <tbody>\n",
       "    <tr>\n",
       "      <th>0</th>\n",
       "      <td>1</td>\n",
       "      <td>1</td>\n",
       "    </tr>\n",
       "    <tr>\n",
       "      <th>1</th>\n",
       "      <td>1</td>\n",
       "      <td>2</td>\n",
       "    </tr>\n",
       "    <tr>\n",
       "      <th>2</th>\n",
       "      <td>1</td>\n",
       "      <td>3</td>\n",
       "    </tr>\n",
       "    <tr>\n",
       "      <th>3</th>\n",
       "      <td>1</td>\n",
       "      <td>4</td>\n",
       "    </tr>\n",
       "    <tr>\n",
       "      <th>4</th>\n",
       "      <td>1</td>\n",
       "      <td>5</td>\n",
       "    </tr>\n",
       "    <tr>\n",
       "      <th>5</th>\n",
       "      <td>1</td>\n",
       "      <td>6</td>\n",
       "    </tr>\n",
       "    <tr>\n",
       "      <th>6</th>\n",
       "      <td>1</td>\n",
       "      <td>7</td>\n",
       "    </tr>\n",
       "    <tr>\n",
       "      <th>7</th>\n",
       "      <td>2</td>\n",
       "      <td>3031</td>\n",
       "    </tr>\n",
       "    <tr>\n",
       "      <th>8</th>\n",
       "      <td>2</td>\n",
       "      <td>3032</td>\n",
       "    </tr>\n",
       "    <tr>\n",
       "      <th>9</th>\n",
       "      <td>2</td>\n",
       "      <td>3033</td>\n",
       "    </tr>\n",
       "    <tr>\n",
       "      <th>10</th>\n",
       "      <td>2</td>\n",
       "      <td>3034</td>\n",
       "    </tr>\n",
       "    <tr>\n",
       "      <th>11</th>\n",
       "      <td>2</td>\n",
       "      <td>3035</td>\n",
       "    </tr>\n",
       "    <tr>\n",
       "      <th>12</th>\n",
       "      <td>2</td>\n",
       "      <td>3036</td>\n",
       "    </tr>\n",
       "    <tr>\n",
       "      <th>13</th>\n",
       "      <td>3</td>\n",
       "      <td>1001400</td>\n",
       "    </tr>\n",
       "    <tr>\n",
       "      <th>14</th>\n",
       "      <td>3</td>\n",
       "      <td>1001401</td>\n",
       "    </tr>\n",
       "    <tr>\n",
       "      <th>15</th>\n",
       "      <td>3</td>\n",
       "      <td>1001402</td>\n",
       "    </tr>\n",
       "    <tr>\n",
       "      <th>16</th>\n",
       "      <td>3</td>\n",
       "      <td>1001403</td>\n",
       "    </tr>\n",
       "    <tr>\n",
       "      <th>17</th>\n",
       "      <td>3</td>\n",
       "      <td>1001404</td>\n",
       "    </tr>\n",
       "    <tr>\n",
       "      <th>18</th>\n",
       "      <td>3</td>\n",
       "      <td>1001405</td>\n",
       "    </tr>\n",
       "    <tr>\n",
       "      <th>19</th>\n",
       "      <td>3</td>\n",
       "      <td>1001406</td>\n",
       "    </tr>\n",
       "    <tr>\n",
       "      <th>20</th>\n",
       "      <td>3</td>\n",
       "      <td>1001407</td>\n",
       "    </tr>\n",
       "  </tbody>\n",
       "</table>\n",
       "</div>"
      ]
     },
     "execution_count": 141,
     "metadata": {},
     "output_type": "execute_result"
    }
   ],
   "execution_count": 141
  },
  {
   "cell_type": "code",
   "id": "8ee27ecc0697a5f5",
   "metadata": {
    "ExecuteTime": {
     "end_time": "2024-12-06T20:28:38.434402Z",
     "start_time": "2024-12-06T20:28:38.429473Z"
    }
   },
   "source": [
    "# Perform the left merge\n",
    "double_curie_frame = double_curie_frame.merge(\n",
    "    stretches_df,\n",
    "    left_on='extracted_local_id_int',\n",
    "    right_on='value',\n",
    "    how='left'\n",
    ")"
   ],
   "outputs": [],
   "execution_count": 142
  },
  {
   "cell_type": "code",
   "id": "59e278981b799f14",
   "metadata": {
    "ExecuteTime": {
     "end_time": "2024-12-06T20:28:38.443646Z",
     "start_time": "2024-12-06T20:28:38.435850Z"
    }
   },
   "source": [
    "stretch_summary_df = summarize_stretch_groups(double_curie_frame)\n"
   ],
   "outputs": [],
   "execution_count": 143
  },
  {
   "cell_type": "code",
   "id": "cee6e3ff1e1ca0d3",
   "metadata": {
    "ExecuteTime": {
     "end_time": "2024-12-06T20:28:38.452810Z",
     "start_time": "2024-12-06T20:28:38.445224Z"
    }
   },
   "source": [
    "stretch_summary_df"
   ],
   "outputs": [
    {
     "data": {
      "text/plain": [
       "   stretch_id most_common_longest_annotation_curie  fraction\n",
       "0         1.0                        ENVO:00001998       0.5\n",
       "1         2.0                        ENVO:00003030       1.0\n",
       "2         3.0                        ENVO:01001121       1.0"
      ],
      "text/html": [
       "<div>\n",
       "<style scoped>\n",
       "    .dataframe tbody tr th:only-of-type {\n",
       "        vertical-align: middle;\n",
       "    }\n",
       "\n",
       "    .dataframe tbody tr th {\n",
       "        vertical-align: top;\n",
       "    }\n",
       "\n",
       "    .dataframe thead th {\n",
       "        text-align: right;\n",
       "    }\n",
       "</style>\n",
       "<table border=\"1\" class=\"dataframe\">\n",
       "  <thead>\n",
       "    <tr style=\"text-align: right;\">\n",
       "      <th></th>\n",
       "      <th>stretch_id</th>\n",
       "      <th>most_common_longest_annotation_curie</th>\n",
       "      <th>fraction</th>\n",
       "    </tr>\n",
       "  </thead>\n",
       "  <tbody>\n",
       "    <tr>\n",
       "      <th>0</th>\n",
       "      <td>1.0</td>\n",
       "      <td>ENVO:00001998</td>\n",
       "      <td>0.5</td>\n",
       "    </tr>\n",
       "    <tr>\n",
       "      <th>1</th>\n",
       "      <td>2.0</td>\n",
       "      <td>ENVO:00003030</td>\n",
       "      <td>1.0</td>\n",
       "    </tr>\n",
       "    <tr>\n",
       "      <th>2</th>\n",
       "      <td>3.0</td>\n",
       "      <td>ENVO:01001121</td>\n",
       "      <td>1.0</td>\n",
       "    </tr>\n",
       "  </tbody>\n",
       "</table>\n",
       "</div>"
      ]
     },
     "execution_count": 144,
     "metadata": {},
     "output_type": "execute_result"
    }
   ],
   "execution_count": 144
  },
  {
   "cell_type": "code",
   "id": "f47a58a1945943b8",
   "metadata": {
    "ExecuteTime": {
     "end_time": "2024-12-06T20:28:38.459376Z",
     "start_time": "2024-12-06T20:28:38.454396Z"
    }
   },
   "source": [
    "# Perform the left merge\n",
    "double_curie_frame = double_curie_frame.merge(\n",
    "    stretch_summary_df,\n",
    "    left_on='stretch_id',\n",
    "    right_on='stretch_id',\n",
    "    how='left'\n",
    ")"
   ],
   "outputs": [],
   "execution_count": 145
  },
  {
   "cell_type": "code",
   "id": "828f3be5ac6c0ab1",
   "metadata": {
    "ExecuteTime": {
     "end_time": "2024-12-06T20:28:38.465860Z",
     "start_time": "2024-12-06T20:28:38.460633Z"
    }
   },
   "source": [
    "drag_evidence_frame = double_curie_frame[double_curie_frame['stretch_id'] >= 1]\n",
    "drag_evidence_frame = drag_evidence_frame[['extracted_curie', 'longest_annotation_curie']]\n",
    "drag_evidence_frame['drag_evidence'] = True"
   ],
   "outputs": [],
   "execution_count": 146
  },
  {
   "cell_type": "code",
   "id": "9907b1472af8731b",
   "metadata": {
    "ExecuteTime": {
     "end_time": "2024-12-06T20:28:38.477081Z",
     "start_time": "2024-12-06T20:28:38.467805Z"
    }
   },
   "source": [
    "drag_evidence_frame"
   ],
   "outputs": [
    {
     "data": {
      "text/plain": [
       "   extracted_curie longest_annotation_curie  drag_evidence\n",
       "10   ENVO:00000006            ENVO:00001998           True\n",
       "11   ENVO:00000004              NCBITaxon:1           True\n",
       "12   ENVO:00000002              NCBITaxon:1           True\n",
       "13   ENVO:00000006              NCBITaxon:1           True\n",
       "14   ENVO:00000001            ENVO:00001998           True\n",
       "15   ENVO:00000004            ENVO:00001998           True\n",
       "16   ENVO:00000001              NCBITaxon:1           True\n",
       "17   ENVO:00000003              NCBITaxon:1           True\n",
       "18   ENVO:00000005              NCBITaxon:1           True\n",
       "19   ENVO:00000007              NCBITaxon:1           True\n",
       "20   ENVO:00000002            ENVO:00001998           True\n",
       "21   ENVO:00000005            ENVO:00001998           True\n",
       "22   ENVO:00000003            ENVO:00001998           True\n",
       "23   ENVO:00000007            ENVO:00001998           True\n",
       "26   ENVO:01001403            ENVO:01001121           True\n",
       "31   ENVO:00003035            ENVO:00003030           True\n",
       "32   ENVO:00003036            ENVO:00003030           True\n",
       "33   ENVO:00003033            ENVO:00003030           True\n",
       "34   ENVO:01001402            ENVO:01001121           True\n",
       "36   ENVO:00003032            ENVO:00003030           True\n",
       "37   ENVO:01001400            ENVO:01001121           True\n",
       "38   ENVO:01001406            ENVO:01001121           True\n",
       "39   ENVO:01001405            ENVO:01001121           True\n",
       "40   ENVO:01001404            ENVO:01001121           True\n",
       "42   ENVO:01001401            ENVO:01001121           True\n",
       "43   ENVO:01001407            ENVO:01001121           True\n",
       "44   ENVO:00003031            ENVO:00003030           True\n",
       "45   ENVO:00003034            ENVO:00003030           True"
      ],
      "text/html": [
       "<div>\n",
       "<style scoped>\n",
       "    .dataframe tbody tr th:only-of-type {\n",
       "        vertical-align: middle;\n",
       "    }\n",
       "\n",
       "    .dataframe tbody tr th {\n",
       "        vertical-align: top;\n",
       "    }\n",
       "\n",
       "    .dataframe thead th {\n",
       "        text-align: right;\n",
       "    }\n",
       "</style>\n",
       "<table border=\"1\" class=\"dataframe\">\n",
       "  <thead>\n",
       "    <tr style=\"text-align: right;\">\n",
       "      <th></th>\n",
       "      <th>extracted_curie</th>\n",
       "      <th>longest_annotation_curie</th>\n",
       "      <th>drag_evidence</th>\n",
       "    </tr>\n",
       "  </thead>\n",
       "  <tbody>\n",
       "    <tr>\n",
       "      <th>10</th>\n",
       "      <td>ENVO:00000006</td>\n",
       "      <td>ENVO:00001998</td>\n",
       "      <td>True</td>\n",
       "    </tr>\n",
       "    <tr>\n",
       "      <th>11</th>\n",
       "      <td>ENVO:00000004</td>\n",
       "      <td>NCBITaxon:1</td>\n",
       "      <td>True</td>\n",
       "    </tr>\n",
       "    <tr>\n",
       "      <th>12</th>\n",
       "      <td>ENVO:00000002</td>\n",
       "      <td>NCBITaxon:1</td>\n",
       "      <td>True</td>\n",
       "    </tr>\n",
       "    <tr>\n",
       "      <th>13</th>\n",
       "      <td>ENVO:00000006</td>\n",
       "      <td>NCBITaxon:1</td>\n",
       "      <td>True</td>\n",
       "    </tr>\n",
       "    <tr>\n",
       "      <th>14</th>\n",
       "      <td>ENVO:00000001</td>\n",
       "      <td>ENVO:00001998</td>\n",
       "      <td>True</td>\n",
       "    </tr>\n",
       "    <tr>\n",
       "      <th>15</th>\n",
       "      <td>ENVO:00000004</td>\n",
       "      <td>ENVO:00001998</td>\n",
       "      <td>True</td>\n",
       "    </tr>\n",
       "    <tr>\n",
       "      <th>16</th>\n",
       "      <td>ENVO:00000001</td>\n",
       "      <td>NCBITaxon:1</td>\n",
       "      <td>True</td>\n",
       "    </tr>\n",
       "    <tr>\n",
       "      <th>17</th>\n",
       "      <td>ENVO:00000003</td>\n",
       "      <td>NCBITaxon:1</td>\n",
       "      <td>True</td>\n",
       "    </tr>\n",
       "    <tr>\n",
       "      <th>18</th>\n",
       "      <td>ENVO:00000005</td>\n",
       "      <td>NCBITaxon:1</td>\n",
       "      <td>True</td>\n",
       "    </tr>\n",
       "    <tr>\n",
       "      <th>19</th>\n",
       "      <td>ENVO:00000007</td>\n",
       "      <td>NCBITaxon:1</td>\n",
       "      <td>True</td>\n",
       "    </tr>\n",
       "    <tr>\n",
       "      <th>20</th>\n",
       "      <td>ENVO:00000002</td>\n",
       "      <td>ENVO:00001998</td>\n",
       "      <td>True</td>\n",
       "    </tr>\n",
       "    <tr>\n",
       "      <th>21</th>\n",
       "      <td>ENVO:00000005</td>\n",
       "      <td>ENVO:00001998</td>\n",
       "      <td>True</td>\n",
       "    </tr>\n",
       "    <tr>\n",
       "      <th>22</th>\n",
       "      <td>ENVO:00000003</td>\n",
       "      <td>ENVO:00001998</td>\n",
       "      <td>True</td>\n",
       "    </tr>\n",
       "    <tr>\n",
       "      <th>23</th>\n",
       "      <td>ENVO:00000007</td>\n",
       "      <td>ENVO:00001998</td>\n",
       "      <td>True</td>\n",
       "    </tr>\n",
       "    <tr>\n",
       "      <th>26</th>\n",
       "      <td>ENVO:01001403</td>\n",
       "      <td>ENVO:01001121</td>\n",
       "      <td>True</td>\n",
       "    </tr>\n",
       "    <tr>\n",
       "      <th>31</th>\n",
       "      <td>ENVO:00003035</td>\n",
       "      <td>ENVO:00003030</td>\n",
       "      <td>True</td>\n",
       "    </tr>\n",
       "    <tr>\n",
       "      <th>32</th>\n",
       "      <td>ENVO:00003036</td>\n",
       "      <td>ENVO:00003030</td>\n",
       "      <td>True</td>\n",
       "    </tr>\n",
       "    <tr>\n",
       "      <th>33</th>\n",
       "      <td>ENVO:00003033</td>\n",
       "      <td>ENVO:00003030</td>\n",
       "      <td>True</td>\n",
       "    </tr>\n",
       "    <tr>\n",
       "      <th>34</th>\n",
       "      <td>ENVO:01001402</td>\n",
       "      <td>ENVO:01001121</td>\n",
       "      <td>True</td>\n",
       "    </tr>\n",
       "    <tr>\n",
       "      <th>36</th>\n",
       "      <td>ENVO:00003032</td>\n",
       "      <td>ENVO:00003030</td>\n",
       "      <td>True</td>\n",
       "    </tr>\n",
       "    <tr>\n",
       "      <th>37</th>\n",
       "      <td>ENVO:01001400</td>\n",
       "      <td>ENVO:01001121</td>\n",
       "      <td>True</td>\n",
       "    </tr>\n",
       "    <tr>\n",
       "      <th>38</th>\n",
       "      <td>ENVO:01001406</td>\n",
       "      <td>ENVO:01001121</td>\n",
       "      <td>True</td>\n",
       "    </tr>\n",
       "    <tr>\n",
       "      <th>39</th>\n",
       "      <td>ENVO:01001405</td>\n",
       "      <td>ENVO:01001121</td>\n",
       "      <td>True</td>\n",
       "    </tr>\n",
       "    <tr>\n",
       "      <th>40</th>\n",
       "      <td>ENVO:01001404</td>\n",
       "      <td>ENVO:01001121</td>\n",
       "      <td>True</td>\n",
       "    </tr>\n",
       "    <tr>\n",
       "      <th>42</th>\n",
       "      <td>ENVO:01001401</td>\n",
       "      <td>ENVO:01001121</td>\n",
       "      <td>True</td>\n",
       "    </tr>\n",
       "    <tr>\n",
       "      <th>43</th>\n",
       "      <td>ENVO:01001407</td>\n",
       "      <td>ENVO:01001121</td>\n",
       "      <td>True</td>\n",
       "    </tr>\n",
       "    <tr>\n",
       "      <th>44</th>\n",
       "      <td>ENVO:00003031</td>\n",
       "      <td>ENVO:00003030</td>\n",
       "      <td>True</td>\n",
       "    </tr>\n",
       "    <tr>\n",
       "      <th>45</th>\n",
       "      <td>ENVO:00003034</td>\n",
       "      <td>ENVO:00003030</td>\n",
       "      <td>True</td>\n",
       "    </tr>\n",
       "  </tbody>\n",
       "</table>\n",
       "</div>"
      ]
     },
     "execution_count": 147,
     "metadata": {},
     "output_type": "execute_result"
    }
   ],
   "execution_count": 147
  },
  {
   "cell_type": "code",
   "id": "9873eb1bc3ea44e5",
   "metadata": {
    "ExecuteTime": {
     "end_time": "2024-12-06T20:28:38.486508Z",
     "start_time": "2024-12-06T20:28:38.478418Z"
    }
   },
   "source": [
    "ncbi_frame = ncbi_frame.merge(\n",
    "    drag_evidence_frame,\n",
    "    left_on=['extracted_curie', 'longest_annotation_curie'],\n",
    "    right_on=['extracted_curie', 'longest_annotation_curie'],\n",
    "    how='left'\n",
    ")"
   ],
   "outputs": [],
   "execution_count": 148
  },
  {
   "cell_type": "code",
   "id": "1d67b9e207b5531e",
   "metadata": {
    "ExecuteTime": {
     "end_time": "2024-12-06T20:28:39.383973Z",
     "start_time": "2024-12-06T20:28:38.488034Z"
    }
   },
   "source": [
    "# Initialize dragless_curie_list with curie_list values\n",
    "ncbi_frame[\"dragless_curie_list\"] = ncbi_frame[\"curie_list\"]\n",
    "\n",
    "# Update dragless_curie_list based on the condition\n",
    "for index, row in ncbi_frame.iterrows():\n",
    "    if row[\"drag_evidence\"] is True:\n",
    "        if row[\"longest_annotation_curie\"] is not None:\n",
    "            ncbi_frame.at[index, \"dragless_curie_list\"] = [row[\"longest_annotation_curie\"]]\n",
    "        else:\n",
    "            ncbi_frame.at[index, \"dragless_curie_list\"] = []\n",
    "\n",
    "ncbi_frame['dragless_curie_count'] = ncbi_frame['dragless_curie_list'].apply(len)"
   ],
   "outputs": [],
   "execution_count": 149
  },
  {
   "cell_type": "code",
   "id": "fb7469cd6900edd7",
   "metadata": {
    "ExecuteTime": {
     "end_time": "2024-12-06T20:28:39.393411Z",
     "start_time": "2024-12-06T20:28:39.385998Z"
    }
   },
   "source": [
    "ncbi_frame['unique_curie_count'].value_counts()"
   ],
   "outputs": [
    {
     "data": {
      "text/plain": [
       "unique_curie_count\n",
       "1    11928\n",
       "0     3987\n",
       "2       49\n",
       "Name: count, dtype: int64"
      ]
     },
     "execution_count": 150,
     "metadata": {},
     "output_type": "execute_result"
    }
   ],
   "execution_count": 150
  },
  {
   "cell_type": "code",
   "id": "7626e42d5b746a2a",
   "metadata": {
    "ExecuteTime": {
     "end_time": "2024-12-06T20:28:39.400357Z",
     "start_time": "2024-12-06T20:28:39.395119Z"
    }
   },
   "source": [
    "ncbi_frame['dragless_curie_count'].value_counts()"
   ],
   "outputs": [
    {
     "data": {
      "text/plain": [
       "dragless_curie_count\n",
       "1    11956\n",
       "0     3987\n",
       "2       21\n",
       "Name: count, dtype: int64"
      ]
     },
     "execution_count": 151,
     "metadata": {},
     "output_type": "execute_result"
    }
   ],
   "execution_count": 151
  },
  {
   "cell_type": "code",
   "id": "bb3c0eeb8e919ac5",
   "metadata": {
    "ExecuteTime": {
     "end_time": "2024-12-06T20:28:39.405319Z",
     "start_time": "2024-12-06T20:28:39.401673Z"
    }
   },
   "source": [
    "ncbi_frame.shape"
   ],
   "outputs": [
    {
     "data": {
      "text/plain": [
       "(15964, 16)"
      ]
     },
     "execution_count": 152,
     "metadata": {},
     "output_type": "execute_result"
    }
   ],
   "execution_count": 152
  },
  {
   "cell_type": "code",
   "id": "653df3ac622d4e95",
   "metadata": {
    "ExecuteTime": {
     "end_time": "2024-12-06T20:28:39.414791Z",
     "start_time": "2024-12-06T20:28:39.407075Z"
    }
   },
   "source": [
    "ncbi_frame_undisputed = ncbi_frame[ncbi_frame['dragless_curie_count'] <= 1]"
   ],
   "outputs": [],
   "execution_count": 153
  },
  {
   "cell_type": "code",
   "id": "2abdcbd301b484a9",
   "metadata": {
    "ExecuteTime": {
     "end_time": "2024-12-06T20:28:39.420266Z",
     "start_time": "2024-12-06T20:28:39.416335Z"
    }
   },
   "source": [
    "ncbi_frame_undisputed.shape"
   ],
   "outputs": [
    {
     "data": {
      "text/plain": [
       "(15943, 16)"
      ]
     },
     "execution_count": 154,
     "metadata": {},
     "output_type": "execute_result"
    }
   ],
   "execution_count": 154
  },
  {
   "cell_type": "code",
   "id": "57d0c3c05e88ea1e",
   "metadata": {
    "ExecuteTime": {
     "end_time": "2024-12-06T20:28:39.426401Z",
     "start_time": "2024-12-06T20:28:39.421830Z"
    }
   },
   "source": [
    "ncbi_frame_disputed = ncbi_frame[ncbi_frame['dragless_curie_count'] > 1]"
   ],
   "outputs": [],
   "execution_count": 155
  },
  {
   "cell_type": "code",
   "id": "d0cf6796fedc7f8a",
   "metadata": {
    "ExecuteTime": {
     "end_time": "2024-12-06T20:28:39.431411Z",
     "start_time": "2024-12-06T20:28:39.427890Z"
    }
   },
   "source": [
    "ncbi_frame_disputed.shape"
   ],
   "outputs": [
    {
     "data": {
      "text/plain": [
       "(21, 16)"
      ]
     },
     "execution_count": 156,
     "metadata": {},
     "output_type": "execute_result"
    }
   ],
   "execution_count": 156
  },
  {
   "cell_type": "code",
   "id": "fe33fe1d6d2aad09",
   "metadata": {
    "ExecuteTime": {
     "end_time": "2024-12-06T20:28:39.438710Z",
     "start_time": "2024-12-06T20:28:39.433076Z"
    }
   },
   "source": [
    "ncbi_frame_disputed = ncbi_frame_disputed.explode(\"dragless_curie_list\", ignore_index=True)\n"
   ],
   "outputs": [],
   "execution_count": 157
  },
  {
   "cell_type": "code",
   "id": "f8fe49b93cb12990",
   "metadata": {
    "ExecuteTime": {
     "end_time": "2024-12-06T20:28:39.444093Z",
     "start_time": "2024-12-06T20:28:39.440353Z"
    }
   },
   "source": [
    "ncbi_frame_disputed.shape"
   ],
   "outputs": [
    {
     "data": {
      "text/plain": [
       "(42, 16)"
      ]
     },
     "execution_count": 158,
     "metadata": {},
     "output_type": "execute_result"
    }
   ],
   "execution_count": 158
  },
  {
   "cell_type": "code",
   "id": "6896ca8dd3865cb5",
   "metadata": {
    "ExecuteTime": {
     "end_time": "2024-12-06T20:28:39.448990Z",
     "start_time": "2024-12-06T20:28:39.445612Z"
    }
   },
   "source": [
    "ncbi_frame_disputed[\"dragless_curie_list\"] = ncbi_frame_disputed[\"dragless_curie_list\"].apply(lambda x: [x])"
   ],
   "outputs": [],
   "execution_count": 159
  },
  {
   "cell_type": "code",
   "id": "9a472d228624f148",
   "metadata": {
    "ExecuteTime": {
     "end_time": "2024-12-06T20:28:39.457132Z",
     "start_time": "2024-12-06T20:28:39.450538Z"
    }
   },
   "source": [
    "# Combine the rows of ncbi_frame_undisputed and ncbi_frame_disputed into a new DataFrame\n",
    "ncbi_disputes_exploded_frame = pd.concat([ncbi_frame_undisputed, ncbi_frame_disputed], ignore_index=True)\n"
   ],
   "outputs": [],
   "execution_count": 160
  },
  {
   "cell_type": "code",
   "id": "e772d6db19793ec5",
   "metadata": {
    "ExecuteTime": {
     "end_time": "2024-12-06T20:28:39.462718Z",
     "start_time": "2024-12-06T20:28:39.458621Z"
    }
   },
   "source": [
    "ncbi_disputes_exploded_frame.shape"
   ],
   "outputs": [
    {
     "data": {
      "text/plain": [
       "(15985, 16)"
      ]
     },
     "execution_count": 161,
     "metadata": {},
     "output_type": "execute_result"
    }
   ],
   "execution_count": 161
  },
  {
   "cell_type": "code",
   "id": "ef0b5e69d724d94a",
   "metadata": {
    "ExecuteTime": {
     "end_time": "2024-12-06T20:28:39.484263Z",
     "start_time": "2024-12-06T20:28:39.464225Z"
    }
   },
   "source": [
    "ncbi_disputes_exploded_frame"
   ],
   "outputs": [
    {
     "data": {
      "text/plain": [
       "       serial_number                     content  sample_count  \\\n",
       "0                  1              not applicable         13553   \n",
       "1                  2                       plant         10684   \n",
       "2                  3                        soil          9189   \n",
       "3                  4                        root          7722   \n",
       "4                  5     vegetative shoot system          7675   \n",
       "...              ...                         ...           ...   \n",
       "15980           4770  plant matter ENVO:01001306             1   \n",
       "15981           6070  plant matter ENVO:01001431             1   \n",
       "15982           6070  plant matter ENVO:01001431             1   \n",
       "15983           7875      wetland[ENVO_00000043]             1   \n",
       "15984           7875      wetland[ENVO_00000043]             1   \n",
       "\n",
       "                     content_list  content_count  envo_count  \\\n",
       "0                  not applicable              1           0   \n",
       "1                           plant              1           0   \n",
       "2                            soil              1           0   \n",
       "3                            root              1           0   \n",
       "4         vegetative shoot system              1           0   \n",
       "...                           ...            ...         ...   \n",
       "15980  plant matter ENVO:01001306              1           1   \n",
       "15981  plant matter ENVO:01001431              1           1   \n",
       "15982  plant matter ENVO:01001431              1           1   \n",
       "15983      wetland[ENVO_00000043]              1           1   \n",
       "15984      wetland[ENVO_00000043]              1           1   \n",
       "\n",
       "               extracted_label extracted_curie                real_label  \\\n",
       "0               not applicable            None                      None   \n",
       "1                        plant            None                      None   \n",
       "2                         soil            None                      None   \n",
       "3                         root            None                      None   \n",
       "4      vegetative shoot system            None                      None   \n",
       "...                        ...             ...                       ...   \n",
       "15980             plant matter   ENVO:01001306  bone element environment   \n",
       "15981             plant matter   ENVO:01001431          land use process   \n",
       "15982             plant matter   ENVO:01001431          land use process   \n",
       "15983                  wetland   ENVO:00000043              wetland area   \n",
       "15984                  wetland   ENVO:00000043              wetland area   \n",
       "\n",
       "      longest_annotation_curie longest_annotation_label  \\\n",
       "0                         None                     None   \n",
       "1                         None                     None   \n",
       "2                ENVO:00001998                     soil   \n",
       "3                  NCBITaxon:1                     root   \n",
       "4                   PO:0009006             shoot system   \n",
       "...                        ...                      ...   \n",
       "15980            ENVO:01001121             plant matter   \n",
       "15981            ENVO:01001121             plant matter   \n",
       "15982            ENVO:01001121             plant matter   \n",
       "15983            ENVO:00000035                    marsh   \n",
       "15984            ENVO:00000035                    marsh   \n",
       "\n",
       "                           curie_list  unique_curie_count drag_evidence  \\\n",
       "0                                  []                   0           NaN   \n",
       "1                                  []                   0           NaN   \n",
       "2                     [ENVO:00001998]                   1           NaN   \n",
       "3                       [NCBITaxon:1]                   1           NaN   \n",
       "4                        [PO:0009006]                   1           NaN   \n",
       "...                               ...                 ...           ...   \n",
       "15980  [ENVO:01001306, ENVO:01001121]                   2           NaN   \n",
       "15981  [ENVO:01001431, ENVO:01001121]                   2           NaN   \n",
       "15982  [ENVO:01001431, ENVO:01001121]                   2           NaN   \n",
       "15983  [ENVO:00000043, ENVO:00000035]                   2           NaN   \n",
       "15984  [ENVO:00000043, ENVO:00000035]                   2           NaN   \n",
       "\n",
       "      dragless_curie_list  dragless_curie_count  \n",
       "0                      []                     0  \n",
       "1                      []                     0  \n",
       "2         [ENVO:00001998]                     1  \n",
       "3           [NCBITaxon:1]                     1  \n",
       "4            [PO:0009006]                     1  \n",
       "...                   ...                   ...  \n",
       "15980     [ENVO:01001121]                     2  \n",
       "15981     [ENVO:01001431]                     2  \n",
       "15982     [ENVO:01001121]                     2  \n",
       "15983     [ENVO:00000043]                     2  \n",
       "15984     [ENVO:00000035]                     2  \n",
       "\n",
       "[15985 rows x 16 columns]"
      ],
      "text/html": [
       "<div>\n",
       "<style scoped>\n",
       "    .dataframe tbody tr th:only-of-type {\n",
       "        vertical-align: middle;\n",
       "    }\n",
       "\n",
       "    .dataframe tbody tr th {\n",
       "        vertical-align: top;\n",
       "    }\n",
       "\n",
       "    .dataframe thead th {\n",
       "        text-align: right;\n",
       "    }\n",
       "</style>\n",
       "<table border=\"1\" class=\"dataframe\">\n",
       "  <thead>\n",
       "    <tr style=\"text-align: right;\">\n",
       "      <th></th>\n",
       "      <th>serial_number</th>\n",
       "      <th>content</th>\n",
       "      <th>sample_count</th>\n",
       "      <th>content_list</th>\n",
       "      <th>content_count</th>\n",
       "      <th>envo_count</th>\n",
       "      <th>extracted_label</th>\n",
       "      <th>extracted_curie</th>\n",
       "      <th>real_label</th>\n",
       "      <th>longest_annotation_curie</th>\n",
       "      <th>longest_annotation_label</th>\n",
       "      <th>curie_list</th>\n",
       "      <th>unique_curie_count</th>\n",
       "      <th>drag_evidence</th>\n",
       "      <th>dragless_curie_list</th>\n",
       "      <th>dragless_curie_count</th>\n",
       "    </tr>\n",
       "  </thead>\n",
       "  <tbody>\n",
       "    <tr>\n",
       "      <th>0</th>\n",
       "      <td>1</td>\n",
       "      <td>not applicable</td>\n",
       "      <td>13553</td>\n",
       "      <td>not applicable</td>\n",
       "      <td>1</td>\n",
       "      <td>0</td>\n",
       "      <td>not applicable</td>\n",
       "      <td>None</td>\n",
       "      <td>None</td>\n",
       "      <td>None</td>\n",
       "      <td>None</td>\n",
       "      <td>[]</td>\n",
       "      <td>0</td>\n",
       "      <td>NaN</td>\n",
       "      <td>[]</td>\n",
       "      <td>0</td>\n",
       "    </tr>\n",
       "    <tr>\n",
       "      <th>1</th>\n",
       "      <td>2</td>\n",
       "      <td>plant</td>\n",
       "      <td>10684</td>\n",
       "      <td>plant</td>\n",
       "      <td>1</td>\n",
       "      <td>0</td>\n",
       "      <td>plant</td>\n",
       "      <td>None</td>\n",
       "      <td>None</td>\n",
       "      <td>None</td>\n",
       "      <td>None</td>\n",
       "      <td>[]</td>\n",
       "      <td>0</td>\n",
       "      <td>NaN</td>\n",
       "      <td>[]</td>\n",
       "      <td>0</td>\n",
       "    </tr>\n",
       "    <tr>\n",
       "      <th>2</th>\n",
       "      <td>3</td>\n",
       "      <td>soil</td>\n",
       "      <td>9189</td>\n",
       "      <td>soil</td>\n",
       "      <td>1</td>\n",
       "      <td>0</td>\n",
       "      <td>soil</td>\n",
       "      <td>None</td>\n",
       "      <td>None</td>\n",
       "      <td>ENVO:00001998</td>\n",
       "      <td>soil</td>\n",
       "      <td>[ENVO:00001998]</td>\n",
       "      <td>1</td>\n",
       "      <td>NaN</td>\n",
       "      <td>[ENVO:00001998]</td>\n",
       "      <td>1</td>\n",
       "    </tr>\n",
       "    <tr>\n",
       "      <th>3</th>\n",
       "      <td>4</td>\n",
       "      <td>root</td>\n",
       "      <td>7722</td>\n",
       "      <td>root</td>\n",
       "      <td>1</td>\n",
       "      <td>0</td>\n",
       "      <td>root</td>\n",
       "      <td>None</td>\n",
       "      <td>None</td>\n",
       "      <td>NCBITaxon:1</td>\n",
       "      <td>root</td>\n",
       "      <td>[NCBITaxon:1]</td>\n",
       "      <td>1</td>\n",
       "      <td>NaN</td>\n",
       "      <td>[NCBITaxon:1]</td>\n",
       "      <td>1</td>\n",
       "    </tr>\n",
       "    <tr>\n",
       "      <th>4</th>\n",
       "      <td>5</td>\n",
       "      <td>vegetative shoot system</td>\n",
       "      <td>7675</td>\n",
       "      <td>vegetative shoot system</td>\n",
       "      <td>1</td>\n",
       "      <td>0</td>\n",
       "      <td>vegetative shoot system</td>\n",
       "      <td>None</td>\n",
       "      <td>None</td>\n",
       "      <td>PO:0009006</td>\n",
       "      <td>shoot system</td>\n",
       "      <td>[PO:0009006]</td>\n",
       "      <td>1</td>\n",
       "      <td>NaN</td>\n",
       "      <td>[PO:0009006]</td>\n",
       "      <td>1</td>\n",
       "    </tr>\n",
       "    <tr>\n",
       "      <th>...</th>\n",
       "      <td>...</td>\n",
       "      <td>...</td>\n",
       "      <td>...</td>\n",
       "      <td>...</td>\n",
       "      <td>...</td>\n",
       "      <td>...</td>\n",
       "      <td>...</td>\n",
       "      <td>...</td>\n",
       "      <td>...</td>\n",
       "      <td>...</td>\n",
       "      <td>...</td>\n",
       "      <td>...</td>\n",
       "      <td>...</td>\n",
       "      <td>...</td>\n",
       "      <td>...</td>\n",
       "      <td>...</td>\n",
       "    </tr>\n",
       "    <tr>\n",
       "      <th>15980</th>\n",
       "      <td>4770</td>\n",
       "      <td>plant matter ENVO:01001306</td>\n",
       "      <td>1</td>\n",
       "      <td>plant matter ENVO:01001306</td>\n",
       "      <td>1</td>\n",
       "      <td>1</td>\n",
       "      <td>plant matter</td>\n",
       "      <td>ENVO:01001306</td>\n",
       "      <td>bone element environment</td>\n",
       "      <td>ENVO:01001121</td>\n",
       "      <td>plant matter</td>\n",
       "      <td>[ENVO:01001306, ENVO:01001121]</td>\n",
       "      <td>2</td>\n",
       "      <td>NaN</td>\n",
       "      <td>[ENVO:01001121]</td>\n",
       "      <td>2</td>\n",
       "    </tr>\n",
       "    <tr>\n",
       "      <th>15981</th>\n",
       "      <td>6070</td>\n",
       "      <td>plant matter ENVO:01001431</td>\n",
       "      <td>1</td>\n",
       "      <td>plant matter ENVO:01001431</td>\n",
       "      <td>1</td>\n",
       "      <td>1</td>\n",
       "      <td>plant matter</td>\n",
       "      <td>ENVO:01001431</td>\n",
       "      <td>land use process</td>\n",
       "      <td>ENVO:01001121</td>\n",
       "      <td>plant matter</td>\n",
       "      <td>[ENVO:01001431, ENVO:01001121]</td>\n",
       "      <td>2</td>\n",
       "      <td>NaN</td>\n",
       "      <td>[ENVO:01001431]</td>\n",
       "      <td>2</td>\n",
       "    </tr>\n",
       "    <tr>\n",
       "      <th>15982</th>\n",
       "      <td>6070</td>\n",
       "      <td>plant matter ENVO:01001431</td>\n",
       "      <td>1</td>\n",
       "      <td>plant matter ENVO:01001431</td>\n",
       "      <td>1</td>\n",
       "      <td>1</td>\n",
       "      <td>plant matter</td>\n",
       "      <td>ENVO:01001431</td>\n",
       "      <td>land use process</td>\n",
       "      <td>ENVO:01001121</td>\n",
       "      <td>plant matter</td>\n",
       "      <td>[ENVO:01001431, ENVO:01001121]</td>\n",
       "      <td>2</td>\n",
       "      <td>NaN</td>\n",
       "      <td>[ENVO:01001121]</td>\n",
       "      <td>2</td>\n",
       "    </tr>\n",
       "    <tr>\n",
       "      <th>15983</th>\n",
       "      <td>7875</td>\n",
       "      <td>wetland[ENVO_00000043]</td>\n",
       "      <td>1</td>\n",
       "      <td>wetland[ENVO_00000043]</td>\n",
       "      <td>1</td>\n",
       "      <td>1</td>\n",
       "      <td>wetland</td>\n",
       "      <td>ENVO:00000043</td>\n",
       "      <td>wetland area</td>\n",
       "      <td>ENVO:00000035</td>\n",
       "      <td>marsh</td>\n",
       "      <td>[ENVO:00000043, ENVO:00000035]</td>\n",
       "      <td>2</td>\n",
       "      <td>NaN</td>\n",
       "      <td>[ENVO:00000043]</td>\n",
       "      <td>2</td>\n",
       "    </tr>\n",
       "    <tr>\n",
       "      <th>15984</th>\n",
       "      <td>7875</td>\n",
       "      <td>wetland[ENVO_00000043]</td>\n",
       "      <td>1</td>\n",
       "      <td>wetland[ENVO_00000043]</td>\n",
       "      <td>1</td>\n",
       "      <td>1</td>\n",
       "      <td>wetland</td>\n",
       "      <td>ENVO:00000043</td>\n",
       "      <td>wetland area</td>\n",
       "      <td>ENVO:00000035</td>\n",
       "      <td>marsh</td>\n",
       "      <td>[ENVO:00000043, ENVO:00000035]</td>\n",
       "      <td>2</td>\n",
       "      <td>NaN</td>\n",
       "      <td>[ENVO:00000035]</td>\n",
       "      <td>2</td>\n",
       "    </tr>\n",
       "  </tbody>\n",
       "</table>\n",
       "<p>15985 rows × 16 columns</p>\n",
       "</div>"
      ]
     },
     "execution_count": 162,
     "metadata": {},
     "output_type": "execute_result"
    }
   ],
   "execution_count": 162
  },
  {
   "cell_type": "code",
   "id": "be53a584475499b5",
   "metadata": {
    "ExecuteTime": {
     "end_time": "2024-12-06T20:28:39.493537Z",
     "start_time": "2024-12-06T20:28:39.485818Z"
    }
   },
   "source": [
    "ncbi_disputes_exploded_frame['post_explode_curie_count'] = ncbi_disputes_exploded_frame['dragless_curie_list'].apply(len)"
   ],
   "outputs": [],
   "execution_count": 163
  },
  {
   "cell_type": "code",
   "id": "e0c0605a4ca28188",
   "metadata": {
    "ExecuteTime": {
     "end_time": "2024-12-06T20:28:39.500864Z",
     "start_time": "2024-12-06T20:28:39.495262Z"
    }
   },
   "source": [
    "ncbi_disputes_exploded_frame['post_explode_curie_count'].value_counts()"
   ],
   "outputs": [
    {
     "data": {
      "text/plain": [
       "post_explode_curie_count\n",
       "1    11998\n",
       "0     3987\n",
       "Name: count, dtype: int64"
      ]
     },
     "execution_count": 164,
     "metadata": {},
     "output_type": "execute_result"
    }
   ],
   "execution_count": 164
  },
  {
   "cell_type": "code",
   "id": "396e48f3cea80587",
   "metadata": {
    "ExecuteTime": {
     "end_time": "2024-12-06T20:28:39.511169Z",
     "start_time": "2024-12-06T20:28:39.502308Z"
    }
   },
   "source": [
    "# Set 'post_explode_curie' to the 0th item in 'dragless_curie_list'\n",
    "ncbi_disputes_exploded_frame[\"post_explode_curie\"] = ncbi_disputes_exploded_frame[\"dragless_curie_list\"].apply(\n",
    "    lambda x: x[0] if isinstance(x, list) and len(x) > 0 else None\n",
    ")"
   ],
   "outputs": [],
   "execution_count": 165
  },
  {
   "cell_type": "code",
   "id": "1e488764b4212b75",
   "metadata": {
    "ExecuteTime": {
     "end_time": "2024-12-06T20:28:39.519947Z",
     "start_time": "2024-12-06T20:28:39.512633Z"
    }
   },
   "source": [
    "\n",
    "ncbi_biosample_scoped_counts = (\n",
    "    ncbi_disputes_exploded_frame.groupby(\"post_explode_curie\")[\"sample_count\"].sum().reset_index()\n",
    ")\n",
    "\n",
    "ncbi_biosample_scoped_counts.columns = ['curie', 'ncbi_scoped_count']"
   ],
   "outputs": [],
   "execution_count": 166
  },
  {
   "cell_type": "code",
   "id": "916cfcc3c7aa0d34",
   "metadata": {
    "ExecuteTime": {
     "end_time": "2024-12-06T20:28:39.528609Z",
     "start_time": "2024-12-06T20:28:39.521480Z"
    }
   },
   "source": [
    "ncbi_biosample_scoped_counts"
   ],
   "outputs": [
    {
     "data": {
      "text/plain": [
       "              curie  ncbi_scoped_count\n",
       "0       BFO:0000050                  8\n",
       "1      CHEBI:140503                  1\n",
       "2       CHEBI:15377                622\n",
       "3       CHEBI:16236                  6\n",
       "4       CHEBI:16261                 14\n",
       "..              ...                ...\n",
       "513  UBERON:0001988                 41\n",
       "514  UBERON:0002100                  9\n",
       "515  UBERON:0002416               2749\n",
       "516  UBERON:0004529                  1\n",
       "517  UBERON:0036016                  7\n",
       "\n",
       "[518 rows x 2 columns]"
      ],
      "text/html": [
       "<div>\n",
       "<style scoped>\n",
       "    .dataframe tbody tr th:only-of-type {\n",
       "        vertical-align: middle;\n",
       "    }\n",
       "\n",
       "    .dataframe tbody tr th {\n",
       "        vertical-align: top;\n",
       "    }\n",
       "\n",
       "    .dataframe thead th {\n",
       "        text-align: right;\n",
       "    }\n",
       "</style>\n",
       "<table border=\"1\" class=\"dataframe\">\n",
       "  <thead>\n",
       "    <tr style=\"text-align: right;\">\n",
       "      <th></th>\n",
       "      <th>curie</th>\n",
       "      <th>ncbi_scoped_count</th>\n",
       "    </tr>\n",
       "  </thead>\n",
       "  <tbody>\n",
       "    <tr>\n",
       "      <th>0</th>\n",
       "      <td>BFO:0000050</td>\n",
       "      <td>8</td>\n",
       "    </tr>\n",
       "    <tr>\n",
       "      <th>1</th>\n",
       "      <td>CHEBI:140503</td>\n",
       "      <td>1</td>\n",
       "    </tr>\n",
       "    <tr>\n",
       "      <th>2</th>\n",
       "      <td>CHEBI:15377</td>\n",
       "      <td>622</td>\n",
       "    </tr>\n",
       "    <tr>\n",
       "      <th>3</th>\n",
       "      <td>CHEBI:16236</td>\n",
       "      <td>6</td>\n",
       "    </tr>\n",
       "    <tr>\n",
       "      <th>4</th>\n",
       "      <td>CHEBI:16261</td>\n",
       "      <td>14</td>\n",
       "    </tr>\n",
       "    <tr>\n",
       "      <th>...</th>\n",
       "      <td>...</td>\n",
       "      <td>...</td>\n",
       "    </tr>\n",
       "    <tr>\n",
       "      <th>513</th>\n",
       "      <td>UBERON:0001988</td>\n",
       "      <td>41</td>\n",
       "    </tr>\n",
       "    <tr>\n",
       "      <th>514</th>\n",
       "      <td>UBERON:0002100</td>\n",
       "      <td>9</td>\n",
       "    </tr>\n",
       "    <tr>\n",
       "      <th>515</th>\n",
       "      <td>UBERON:0002416</td>\n",
       "      <td>2749</td>\n",
       "    </tr>\n",
       "    <tr>\n",
       "      <th>516</th>\n",
       "      <td>UBERON:0004529</td>\n",
       "      <td>1</td>\n",
       "    </tr>\n",
       "    <tr>\n",
       "      <th>517</th>\n",
       "      <td>UBERON:0036016</td>\n",
       "      <td>7</td>\n",
       "    </tr>\n",
       "  </tbody>\n",
       "</table>\n",
       "<p>518 rows × 2 columns</p>\n",
       "</div>"
      ]
     },
     "execution_count": 167,
     "metadata": {},
     "output_type": "execute_result"
    }
   ],
   "execution_count": 167
  },
  {
   "cell_type": "code",
   "id": "f4d8dc1053a5bb7e",
   "metadata": {
    "ExecuteTime": {
     "end_time": "2024-12-06T20:28:39.536165Z",
     "start_time": "2024-12-06T20:28:39.530057Z"
    }
   },
   "source": [
    "# Perform the left merge\n",
    "rows_frame = rows_frame.merge(\n",
    "    ncbi_biosample_scoped_counts,\n",
    "    left_on='curie',\n",
    "    right_on='curie',\n",
    "    how='left'\n",
    ")"
   ],
   "outputs": [],
   "execution_count": 168
  },
  {
   "cell_type": "code",
   "id": "c608fca3a6ed19c4",
   "metadata": {
    "ExecuteTime": {
     "end_time": "2024-12-06T20:28:39.557654Z",
     "start_time": "2024-12-06T20:28:39.538087Z"
    }
   },
   "source": [
    "rows_frame"
   ],
   "outputs": [
    {
     "data": {
      "text/plain": [
       "                curie                        label  envo_native  obsolete  \\\n",
       "0     FOODON:00001006  mammalian meat food product        False     False   \n",
       "1       ENVO:00000474                          cut         True     False   \n",
       "2       ENVO:00005796                marine sludge         True     False   \n",
       "3     FOODON:00001127              cow milk cheese        False     False   \n",
       "4       ENVO:03600069            nest of alligator         True     False   \n",
       "...               ...                          ...          ...       ...   \n",
       "1528    ENVO:01000357               alkaline water         True     False   \n",
       "1529    ENVO:01000999      rhizosphere environment         True     False   \n",
       "1530      OBI:0000967                    container        False     False   \n",
       "1531   UBERON:0002416          integumental system        False     False   \n",
       "1532    ENVO:02000113                 welding fume         True     False   \n",
       "\n",
       "      EnvMediumSoilEnum_11_1  ancestors_in_enum_count  \\\n",
       "0                      False                        0   \n",
       "1                      False                        0   \n",
       "2                      False                        0   \n",
       "3                      False                        0   \n",
       "4                      False                        0   \n",
       "...                      ...                      ...   \n",
       "1528                   False                        0   \n",
       "1529                   False                        0   \n",
       "1530                   False                        0   \n",
       "1531                   False                        0   \n",
       "1532                   False                        0   \n",
       "\n",
       "      descendants_in_enum_count    abp  env_sys  biome  terrestrial_biome  \\\n",
       "0                             0  False    False  False              False   \n",
       "1                             0   True    False  False              False   \n",
       "2                             0  False    False  False              False   \n",
       "3                             0  False    False  False              False   \n",
       "4                             0  False    False  False              False   \n",
       "...                         ...    ...      ...    ...                ...   \n",
       "1528                          0  False    False  False              False   \n",
       "1529                          0  False     True  False              False   \n",
       "1530                          0  False    False  False              False   \n",
       "1531                          0  False    False  False              False   \n",
       "1532                          0  False    False  False              False   \n",
       "\n",
       "      aquatic_biome  env_mat   soil  liquid water  water ice  \\\n",
       "0             False     True  False         False      False   \n",
       "1             False    False  False         False      False   \n",
       "2             False     True  False         False      False   \n",
       "3             False     True  False         False      False   \n",
       "4             False    False  False         False      False   \n",
       "...             ...      ...    ...           ...        ...   \n",
       "1528          False     True  False          True      False   \n",
       "1529          False    False  False         False      False   \n",
       "1530          False    False  False         False      False   \n",
       "1531          False    False  False         False      False   \n",
       "1532          False     True  False         False      False   \n",
       "\n",
       "      goldterms_mappings  nmdc_scoped_count  gold_hybrid_count  \\\n",
       "0                  False                NaN                NaN   \n",
       "1                  False                NaN                NaN   \n",
       "2                  False                NaN                NaN   \n",
       "3                  False                NaN                NaN   \n",
       "4                  False                NaN                NaN   \n",
       "...                  ...                ...                ...   \n",
       "1528               False                NaN                NaN   \n",
       "1529               False                NaN                NaN   \n",
       "1530               False                NaN                NaN   \n",
       "1531               False                NaN                NaN   \n",
       "1532               False                NaN                NaN   \n",
       "\n",
       "      ncbi_scoped_count  \n",
       "0                   NaN  \n",
       "1                  12.0  \n",
       "2                   NaN  \n",
       "3                   NaN  \n",
       "4                   1.0  \n",
       "...                 ...  \n",
       "1528                NaN  \n",
       "1529              486.0  \n",
       "1530                1.0  \n",
       "1531             2749.0  \n",
       "1532                NaN  \n",
       "\n",
       "[1533 rows x 20 columns]"
      ],
      "text/html": [
       "<div>\n",
       "<style scoped>\n",
       "    .dataframe tbody tr th:only-of-type {\n",
       "        vertical-align: middle;\n",
       "    }\n",
       "\n",
       "    .dataframe tbody tr th {\n",
       "        vertical-align: top;\n",
       "    }\n",
       "\n",
       "    .dataframe thead th {\n",
       "        text-align: right;\n",
       "    }\n",
       "</style>\n",
       "<table border=\"1\" class=\"dataframe\">\n",
       "  <thead>\n",
       "    <tr style=\"text-align: right;\">\n",
       "      <th></th>\n",
       "      <th>curie</th>\n",
       "      <th>label</th>\n",
       "      <th>envo_native</th>\n",
       "      <th>obsolete</th>\n",
       "      <th>EnvMediumSoilEnum_11_1</th>\n",
       "      <th>ancestors_in_enum_count</th>\n",
       "      <th>descendants_in_enum_count</th>\n",
       "      <th>abp</th>\n",
       "      <th>env_sys</th>\n",
       "      <th>biome</th>\n",
       "      <th>terrestrial_biome</th>\n",
       "      <th>aquatic_biome</th>\n",
       "      <th>env_mat</th>\n",
       "      <th>soil</th>\n",
       "      <th>liquid water</th>\n",
       "      <th>water ice</th>\n",
       "      <th>goldterms_mappings</th>\n",
       "      <th>nmdc_scoped_count</th>\n",
       "      <th>gold_hybrid_count</th>\n",
       "      <th>ncbi_scoped_count</th>\n",
       "    </tr>\n",
       "  </thead>\n",
       "  <tbody>\n",
       "    <tr>\n",
       "      <th>0</th>\n",
       "      <td>FOODON:00001006</td>\n",
       "      <td>mammalian meat food product</td>\n",
       "      <td>False</td>\n",
       "      <td>False</td>\n",
       "      <td>False</td>\n",
       "      <td>0</td>\n",
       "      <td>0</td>\n",
       "      <td>False</td>\n",
       "      <td>False</td>\n",
       "      <td>False</td>\n",
       "      <td>False</td>\n",
       "      <td>False</td>\n",
       "      <td>True</td>\n",
       "      <td>False</td>\n",
       "      <td>False</td>\n",
       "      <td>False</td>\n",
       "      <td>False</td>\n",
       "      <td>NaN</td>\n",
       "      <td>NaN</td>\n",
       "      <td>NaN</td>\n",
       "    </tr>\n",
       "    <tr>\n",
       "      <th>1</th>\n",
       "      <td>ENVO:00000474</td>\n",
       "      <td>cut</td>\n",
       "      <td>True</td>\n",
       "      <td>False</td>\n",
       "      <td>False</td>\n",
       "      <td>0</td>\n",
       "      <td>0</td>\n",
       "      <td>True</td>\n",
       "      <td>False</td>\n",
       "      <td>False</td>\n",
       "      <td>False</td>\n",
       "      <td>False</td>\n",
       "      <td>False</td>\n",
       "      <td>False</td>\n",
       "      <td>False</td>\n",
       "      <td>False</td>\n",
       "      <td>False</td>\n",
       "      <td>NaN</td>\n",
       "      <td>NaN</td>\n",
       "      <td>12.0</td>\n",
       "    </tr>\n",
       "    <tr>\n",
       "      <th>2</th>\n",
       "      <td>ENVO:00005796</td>\n",
       "      <td>marine sludge</td>\n",
       "      <td>True</td>\n",
       "      <td>False</td>\n",
       "      <td>False</td>\n",
       "      <td>0</td>\n",
       "      <td>0</td>\n",
       "      <td>False</td>\n",
       "      <td>False</td>\n",
       "      <td>False</td>\n",
       "      <td>False</td>\n",
       "      <td>False</td>\n",
       "      <td>True</td>\n",
       "      <td>False</td>\n",
       "      <td>False</td>\n",
       "      <td>False</td>\n",
       "      <td>False</td>\n",
       "      <td>NaN</td>\n",
       "      <td>NaN</td>\n",
       "      <td>NaN</td>\n",
       "    </tr>\n",
       "    <tr>\n",
       "      <th>3</th>\n",
       "      <td>FOODON:00001127</td>\n",
       "      <td>cow milk cheese</td>\n",
       "      <td>False</td>\n",
       "      <td>False</td>\n",
       "      <td>False</td>\n",
       "      <td>0</td>\n",
       "      <td>0</td>\n",
       "      <td>False</td>\n",
       "      <td>False</td>\n",
       "      <td>False</td>\n",
       "      <td>False</td>\n",
       "      <td>False</td>\n",
       "      <td>True</td>\n",
       "      <td>False</td>\n",
       "      <td>False</td>\n",
       "      <td>False</td>\n",
       "      <td>False</td>\n",
       "      <td>NaN</td>\n",
       "      <td>NaN</td>\n",
       "      <td>NaN</td>\n",
       "    </tr>\n",
       "    <tr>\n",
       "      <th>4</th>\n",
       "      <td>ENVO:03600069</td>\n",
       "      <td>nest of alligator</td>\n",
       "      <td>True</td>\n",
       "      <td>False</td>\n",
       "      <td>False</td>\n",
       "      <td>0</td>\n",
       "      <td>0</td>\n",
       "      <td>False</td>\n",
       "      <td>False</td>\n",
       "      <td>False</td>\n",
       "      <td>False</td>\n",
       "      <td>False</td>\n",
       "      <td>False</td>\n",
       "      <td>False</td>\n",
       "      <td>False</td>\n",
       "      <td>False</td>\n",
       "      <td>False</td>\n",
       "      <td>NaN</td>\n",
       "      <td>NaN</td>\n",
       "      <td>1.0</td>\n",
       "    </tr>\n",
       "    <tr>\n",
       "      <th>...</th>\n",
       "      <td>...</td>\n",
       "      <td>...</td>\n",
       "      <td>...</td>\n",
       "      <td>...</td>\n",
       "      <td>...</td>\n",
       "      <td>...</td>\n",
       "      <td>...</td>\n",
       "      <td>...</td>\n",
       "      <td>...</td>\n",
       "      <td>...</td>\n",
       "      <td>...</td>\n",
       "      <td>...</td>\n",
       "      <td>...</td>\n",
       "      <td>...</td>\n",
       "      <td>...</td>\n",
       "      <td>...</td>\n",
       "      <td>...</td>\n",
       "      <td>...</td>\n",
       "      <td>...</td>\n",
       "      <td>...</td>\n",
       "    </tr>\n",
       "    <tr>\n",
       "      <th>1528</th>\n",
       "      <td>ENVO:01000357</td>\n",
       "      <td>alkaline water</td>\n",
       "      <td>True</td>\n",
       "      <td>False</td>\n",
       "      <td>False</td>\n",
       "      <td>0</td>\n",
       "      <td>0</td>\n",
       "      <td>False</td>\n",
       "      <td>False</td>\n",
       "      <td>False</td>\n",
       "      <td>False</td>\n",
       "      <td>False</td>\n",
       "      <td>True</td>\n",
       "      <td>False</td>\n",
       "      <td>True</td>\n",
       "      <td>False</td>\n",
       "      <td>False</td>\n",
       "      <td>NaN</td>\n",
       "      <td>NaN</td>\n",
       "      <td>NaN</td>\n",
       "    </tr>\n",
       "    <tr>\n",
       "      <th>1529</th>\n",
       "      <td>ENVO:01000999</td>\n",
       "      <td>rhizosphere environment</td>\n",
       "      <td>True</td>\n",
       "      <td>False</td>\n",
       "      <td>False</td>\n",
       "      <td>0</td>\n",
       "      <td>0</td>\n",
       "      <td>False</td>\n",
       "      <td>True</td>\n",
       "      <td>False</td>\n",
       "      <td>False</td>\n",
       "      <td>False</td>\n",
       "      <td>False</td>\n",
       "      <td>False</td>\n",
       "      <td>False</td>\n",
       "      <td>False</td>\n",
       "      <td>False</td>\n",
       "      <td>NaN</td>\n",
       "      <td>NaN</td>\n",
       "      <td>486.0</td>\n",
       "    </tr>\n",
       "    <tr>\n",
       "      <th>1530</th>\n",
       "      <td>OBI:0000967</td>\n",
       "      <td>container</td>\n",
       "      <td>False</td>\n",
       "      <td>False</td>\n",
       "      <td>False</td>\n",
       "      <td>0</td>\n",
       "      <td>0</td>\n",
       "      <td>False</td>\n",
       "      <td>False</td>\n",
       "      <td>False</td>\n",
       "      <td>False</td>\n",
       "      <td>False</td>\n",
       "      <td>False</td>\n",
       "      <td>False</td>\n",
       "      <td>False</td>\n",
       "      <td>False</td>\n",
       "      <td>False</td>\n",
       "      <td>NaN</td>\n",
       "      <td>NaN</td>\n",
       "      <td>1.0</td>\n",
       "    </tr>\n",
       "    <tr>\n",
       "      <th>1531</th>\n",
       "      <td>UBERON:0002416</td>\n",
       "      <td>integumental system</td>\n",
       "      <td>False</td>\n",
       "      <td>False</td>\n",
       "      <td>False</td>\n",
       "      <td>0</td>\n",
       "      <td>0</td>\n",
       "      <td>False</td>\n",
       "      <td>False</td>\n",
       "      <td>False</td>\n",
       "      <td>False</td>\n",
       "      <td>False</td>\n",
       "      <td>False</td>\n",
       "      <td>False</td>\n",
       "      <td>False</td>\n",
       "      <td>False</td>\n",
       "      <td>False</td>\n",
       "      <td>NaN</td>\n",
       "      <td>NaN</td>\n",
       "      <td>2749.0</td>\n",
       "    </tr>\n",
       "    <tr>\n",
       "      <th>1532</th>\n",
       "      <td>ENVO:02000113</td>\n",
       "      <td>welding fume</td>\n",
       "      <td>True</td>\n",
       "      <td>False</td>\n",
       "      <td>False</td>\n",
       "      <td>0</td>\n",
       "      <td>0</td>\n",
       "      <td>False</td>\n",
       "      <td>False</td>\n",
       "      <td>False</td>\n",
       "      <td>False</td>\n",
       "      <td>False</td>\n",
       "      <td>True</td>\n",
       "      <td>False</td>\n",
       "      <td>False</td>\n",
       "      <td>False</td>\n",
       "      <td>False</td>\n",
       "      <td>NaN</td>\n",
       "      <td>NaN</td>\n",
       "      <td>NaN</td>\n",
       "    </tr>\n",
       "  </tbody>\n",
       "</table>\n",
       "<p>1533 rows × 20 columns</p>\n",
       "</div>"
      ]
     },
     "execution_count": 169,
     "metadata": {},
     "output_type": "execute_result"
    }
   ],
   "execution_count": 169
  },
  {
   "cell_type": "code",
   "id": "b7a26a1b879188a4",
   "metadata": {
    "ExecuteTime": {
     "end_time": "2024-12-06T20:28:39.573879Z",
     "start_time": "2024-12-06T20:28:39.559471Z"
    }
   },
   "source": [
    "rows_frame.to_csv(output_file_name, sep=\"\\t\", index=False)"
   ],
   "outputs": [],
   "execution_count": 170
  }
 ],
 "metadata": {
  "kernelspec": {
   "display_name": "Python 3 (ipykernel)",
   "language": "python",
   "name": "python3"
  },
  "language_info": {
   "codemirror_mode": {
    "name": "ipython",
    "version": 3
   },
   "file_extension": ".py",
   "mimetype": "text/x-python",
   "name": "python",
   "nbconvert_exporter": "python",
   "pygments_lexer": "ipython3",
   "version": "3.10.13"
  }
 },
 "nbformat": 4,
 "nbformat_minor": 5
}
