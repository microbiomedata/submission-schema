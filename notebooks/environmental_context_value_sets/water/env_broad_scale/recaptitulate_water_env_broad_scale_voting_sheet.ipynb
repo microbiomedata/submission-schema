{
 "cells": [
  {
   "metadata": {
    "ExecuteTime": {
     "end_time": "2024-11-15T13:49:59.496432Z",
     "start_time": "2024-11-15T13:49:55.728032Z"
    }
   },
   "cell_type": "code",
   "source": [
    "import csv\n",
    "import gzip\n",
    "import os\n",
    "import re\n",
    "import shutil\n",
    "import sqlite3\n",
    "from typing import Dict, Any\n",
    "from urllib.parse import urlparse\n",
    "\n",
    "import duckdb\n",
    "import pandas as pd\n",
    "import requests\n",
    "from linkml_runtime import SchemaView\n",
    "from oaklib import get_adapter\n",
    "from oaklib.datamodels.vocabulary import IS_A\n",
    "from scipy.sparse import hstack\n",
    "from sklearn.ensemble import RandomForestClassifier\n",
    "from sklearn.feature_extraction.text import CountVectorizer  # from scikit-learn\n",
    "from sklearn.metrics import classification_report\n",
    "from sklearn.model_selection import train_test_split\n",
    "\n",
    "import pprint"
   ],
   "id": "630126a7790cc3a7",
   "outputs": [],
   "execution_count": 1
  },
  {
   "metadata": {
    "ExecuteTime": {
     "end_time": "2024-11-15T13:49:59.504357Z",
     "start_time": "2024-11-15T13:49:59.501399Z"
    }
   },
   "cell_type": "code",
   "source": [
    "# Approved prefixes (case-insensitive)\n",
    "approved_prefixes = ['ENVO']"
   ],
   "id": "914fdae0d02dad58",
   "outputs": [],
   "execution_count": 2
  },
  {
   "metadata": {
    "ExecuteTime": {
     "end_time": "2024-11-15T13:49:59.570902Z",
     "start_time": "2024-11-15T13:49:59.568196Z"
    }
   },
   "cell_type": "code",
   "source": [
    "# make a biomes curie -> label dict?\n",
    "BIOME_CURIE = 'ENVO:00000428'"
   ],
   "id": "95f7efc06f20987a",
   "outputs": [],
   "execution_count": 3
  },
  {
   "metadata": {
    "ExecuteTime": {
     "end_time": "2024-11-15T13:49:59.613669Z",
     "start_time": "2024-11-15T13:49:59.610800Z"
    }
   },
   "cell_type": "code",
   "source": "ENV_BROAD_SCALE_ENUM = \"EnvBroadScaleSoilEnum\"",
   "id": "20750df32ebb2033",
   "outputs": [],
   "execution_count": 4
  },
  {
   "metadata": {
    "ExecuteTime": {
     "end_time": "2024-11-15T13:49:59.661216Z",
     "start_time": "2024-11-15T13:49:59.658064Z"
    }
   },
   "cell_type": "code",
   "source": [
    "ncbi_query = \"\"\"\n",
    "SELECT content, COUNT(1) AS sample_count \n",
    "FROM attributes \n",
    "WHERE harmonized_name = 'env_broad_scale' AND package_content = 'MIMS.me.soil.6.0' \n",
    "GROUP BY content \n",
    "ORDER BY COUNT(1) DESC\n",
    "\"\"\""
   ],
   "id": "d33879ec4c6ca1df",
   "outputs": [],
   "execution_count": 5
  },
  {
   "metadata": {
    "ExecuteTime": {
     "end_time": "2024-11-15T13:49:59.708306Z",
     "start_time": "2024-11-15T13:49:59.704573Z"
    }
   },
   "cell_type": "code",
   "source": "envo_adapter_string = \"sqlite:obo:envo\"",
   "id": "8240c0de4cbcec24",
   "outputs": [],
   "execution_count": 6
  },
  {
   "metadata": {
    "ExecuteTime": {
     "end_time": "2024-11-15T13:49:59.765706Z",
     "start_time": "2024-11-15T13:49:59.755974Z"
    }
   },
   "cell_type": "code",
   "source": "# goldterms_adapter_string = \"sqlite:obo:envo\"",
   "id": "eb27b996bb24645a",
   "outputs": [],
   "execution_count": 7
  },
  {
   "metadata": {
    "ExecuteTime": {
     "end_time": "2024-11-15T13:49:59.813803Z",
     "start_time": "2024-11-15T13:49:59.810470Z"
    }
   },
   "cell_type": "code",
   "source": [
    "goldterms_semsql_url = \"https://s3.amazonaws.com/bbop-sqlite/goldterms.db.gz\"\n",
    "\n",
    "# https://s3.amazonaws.com/bbop-sqlite/\n",
    "# <Contents>\n",
    "# <Key>goldterms.db.gz</Key>\n",
    "# <LastModified>2024-11-03T17:24:56.000Z</LastModified>\n",
    "# <ETag>\"fe8e35b215786cb9fc347b7fadbe055f\"</ETag>\n",
    "# <Size>2935781</Size>\n",
    "# <StorageClass>STANDARD</StorageClass>\n",
    "# </Contents>\n"
   ],
   "id": "2ae64976b48e359",
   "outputs": [],
   "execution_count": 8
  },
  {
   "metadata": {
    "ExecuteTime": {
     "end_time": "2024-11-15T13:49:59.862872Z",
     "start_time": "2024-11-15T13:49:59.858992Z"
    }
   },
   "cell_type": "code",
   "source": [
    "# todo could this have been done with a OAK query, eliminating the need to explicitly download the file?\n",
    "\n",
    "goldterms_envo_query = \"\"\"\n",
    "SELECT\n",
    "\t*\n",
    "FROM\n",
    "\tstatements s\n",
    "WHERE\n",
    "\tpredicate = 'mixs:env_broad'\"\"\""
   ],
   "id": "ae751e002f65be71",
   "outputs": [],
   "execution_count": 9
  },
  {
   "metadata": {
    "ExecuteTime": {
     "end_time": "2024-11-15T13:49:59.909842Z",
     "start_time": "2024-11-15T13:49:59.906413Z"
    }
   },
   "cell_type": "code",
   "source": "GOLDTERMS_SOIL = 'GOLDTERMS:4212'",
   "id": "eda591e14a91cd01",
   "outputs": [],
   "execution_count": 10
  },
  {
   "metadata": {
    "ExecuteTime": {
     "end_time": "2024-11-15T13:49:59.958322Z",
     "start_time": "2024-11-15T13:49:59.954911Z"
    }
   },
   "cell_type": "code",
   "source": [
    "goldterms_soil_subclass_query = f\"\"\"\n",
    "select\n",
    "\tsubject\n",
    "from\n",
    "\tentailed_edge ee\n",
    "where\n",
    "\tpredicate = 'rdfs:subClassOf'\n",
    "\tand object = '{GOLDTERMS_SOIL}'\n",
    "\"\"\""
   ],
   "id": "6b672d93e1f5c53",
   "outputs": [],
   "execution_count": 11
  },
  {
   "metadata": {
    "ExecuteTime": {
     "end_time": "2024-11-15T13:50:00.007332Z",
     "start_time": "2024-11-15T13:50:00.003351Z"
    }
   },
   "cell_type": "code",
   "source": "previous_submission_schema_url = \"https://raw.githubusercontent.com/microbiomedata/submission-schema/v10.7.0/src/nmdc_submission_schema/schema/nmdc_submission_schema.yaml\"",
   "id": "a1e9e99c5ac41ef4",
   "outputs": [],
   "execution_count": 12
  },
  {
   "metadata": {
    "ExecuteTime": {
     "end_time": "2024-11-15T13:50:00.053907Z",
     "start_time": "2024-11-15T13:50:00.050868Z"
    }
   },
   "cell_type": "code",
   "source": [
    "NMDC_RUNTIME_BASE_URL = 'https://api.microbiomedata.org/nmdcschema/'\n",
    "STUDY_SET_COLLECTION = 'study_set'\n",
    "BIOSAMPLE_SET_COLLECTION = 'biosample_set'"
   ],
   "id": "cde9a57dca22a7c1",
   "outputs": [],
   "execution_count": 13
  },
  {
   "metadata": {
    "ExecuteTime": {
     "end_time": "2024-11-15T13:50:00.103350Z",
     "start_time": "2024-11-15T13:50:00.098810Z"
    }
   },
   "cell_type": "code",
   "source": [
    "env_package_override_file = '../../mam-env-package-overrides.tsv'\n",
    "override_column = 'mam_inferred_env_package'"
   ],
   "id": "375bac6b84ab6198",
   "outputs": [],
   "execution_count": 14
  },
  {
   "metadata": {
    "ExecuteTime": {
     "end_time": "2024-11-15T13:50:00.149743Z",
     "start_time": "2024-11-15T13:50:00.146336Z"
    }
   },
   "cell_type": "code",
   "source": [
    "# ncbi_duckdb_file = '../../ncbi_biosamples.duckdb'\n",
    "\n",
    "ncbi_duckdb_url = 'https://portal.nersc.gov/project/m3408/biosamples_duckdb/ncbi_biosamples_2024-09-23.duckdb.gz'"
   ],
   "id": "8a8be3a9e6123df5",
   "outputs": [],
   "execution_count": 15
  },
  {
   "metadata": {
    "ExecuteTime": {
     "end_time": "2024-11-15T13:50:00.196051Z",
     "start_time": "2024-11-15T13:50:00.193159Z"
    }
   },
   "cell_type": "code",
   "source": [
    "gold_data_url = \"https://gold.jgi.doe.gov/download?mode=site_excel\"\n",
    "BIOSAMPLES_SHEET = \"Biosample\""
   ],
   "id": "fb9c800afcc86146",
   "outputs": [],
   "execution_count": 16
  },
  {
   "metadata": {
    "ExecuteTime": {
     "end_time": "2024-11-15T13:50:00.244033Z",
     "start_time": "2024-11-15T13:50:00.240474Z"
    }
   },
   "cell_type": "code",
   "source": [
    "# Initialize cache dictionaries for predict_from_normalized_env_packages\n",
    "ancestor_cache = {}\n",
    "descendant_cache = {}"
   ],
   "id": "f952b5888d2c5f0d",
   "outputs": [],
   "execution_count": 17
  },
  {
   "metadata": {
    "ExecuteTime": {
     "end_time": "2024-11-15T13:50:00.292346Z",
     "start_time": "2024-11-15T13:50:00.287454Z"
    }
   },
   "cell_type": "code",
   "source": [
    "# todo is filling memory with things like this a good idea? for understandability? or performance?\n",
    "# todo they should be aggregated somewhere, as specified by the config.yaml\n",
    "# todo or should we going straight to data frames? in which case a dlist of dicts might be preferable\n",
    "def get_curie_descendants_label_dict(curie, predicates, adapter):\n",
    "    curie_label_dict = {}\n",
    "    for descendant in adapter.descendants(curie, predicates=predicates):\n",
    "        curie_label_dict[descendant] = adapter.label(descendant)\n",
    "    return curie_label_dict"
   ],
   "id": "342c71e8b7a3366f",
   "outputs": [],
   "execution_count": 18
  },
  {
   "metadata": {
    "ExecuteTime": {
     "end_time": "2024-11-15T13:50:00.339322Z",
     "start_time": "2024-11-15T13:50:00.335292Z"
    }
   },
   "cell_type": "code",
   "source": [
    "def curie_descendants_label_dict_to_lod(curie_label_dict):\n",
    "    return [{'curie': k, 'label': v} for k, v in curie_label_dict.items()]"
   ],
   "id": "1f4304edb0904f25",
   "outputs": [],
   "execution_count": 19
  },
  {
   "metadata": {
    "ExecuteTime": {
     "end_time": "2024-11-15T13:50:00.385642Z",
     "start_time": "2024-11-15T13:50:00.382459Z"
    }
   },
   "cell_type": "code",
   "source": [
    "def curie_descendants_label_lod_to_df(curie_label_lod):\n",
    "    return pd.DataFrame(curie_label_lod)"
   ],
   "id": "c43fc53d70ff43e8",
   "outputs": [],
   "execution_count": 20
  },
  {
   "metadata": {
    "ExecuteTime": {
     "end_time": "2024-11-15T13:50:00.431454Z",
     "start_time": "2024-11-15T13:50:00.428246Z"
    }
   },
   "cell_type": "code",
   "source": [
    "def get_schemaview_from_source(source):\n",
    "    return SchemaView(source)"
   ],
   "id": "28e160b747e7480e",
   "outputs": [],
   "execution_count": 21
  },
  {
   "metadata": {
    "ExecuteTime": {
     "end_time": "2024-11-15T13:50:00.476914Z",
     "start_time": "2024-11-15T13:50:00.474333Z"
    }
   },
   "cell_type": "code",
   "source": [
    "# def get_schema_from_schemaview(schemaview):\n",
    "#     return schemaview.schema"
   ],
   "id": "993d01723365ec07",
   "outputs": [],
   "execution_count": 22
  },
  {
   "metadata": {
    "ExecuteTime": {
     "end_time": "2024-11-15T13:50:00.524458Z",
     "start_time": "2024-11-15T13:50:00.520470Z"
    }
   },
   "cell_type": "code",
   "source": [
    "def parse_hierarchically_underscored_strings(hierarchically_underscored_string_list):\n",
    "    result = []\n",
    "    for item in hierarchically_underscored_string_list:\n",
    "        # Remove leading underscores for label, split on '[' to separate curie\n",
    "        label, curie = item.lstrip('_').split(' [')\n",
    "        # Remove the trailing ']' from curie\n",
    "        curie = curie.rstrip(']')\n",
    "        # Append dictionary with label and curie\n",
    "        result.append({'label': label.strip(), 'curie': curie.strip()})\n",
    "    return result"
   ],
   "id": "8ce34ecfbae82a23",
   "outputs": [],
   "execution_count": 23
  },
  {
   "metadata": {
    "ExecuteTime": {
     "end_time": "2024-11-15T13:50:00.572477Z",
     "start_time": "2024-11-15T13:50:00.568115Z"
    }
   },
   "cell_type": "code",
   "source": [
    "def dedupe_underscoreless_pvs(underscoreless_pvs):\n",
    "    # Dictionary to store CURIE as key and list of unique labels as values\n",
    "    curie_to_labels = {}\n",
    "\n",
    "    for item in underscoreless_pvs:\n",
    "        curie = item['curie']\n",
    "        label = item['label']\n",
    "\n",
    "        # Initialize the list if curie is not yet a key\n",
    "        if curie not in curie_to_labels:\n",
    "            curie_to_labels[curie] = []\n",
    "\n",
    "        # Add label if it is not already in the list for this curie\n",
    "        if label not in curie_to_labels[curie]:\n",
    "            curie_to_labels[curie].append(label)\n",
    "    return curie_to_labels\n"
   ],
   "id": "ce2b4b74d1fdc0d4",
   "outputs": [],
   "execution_count": 24
  },
  {
   "metadata": {
    "ExecuteTime": {
     "end_time": "2024-11-15T13:50:00.620989Z",
     "start_time": "2024-11-15T13:50:00.616437Z"
    }
   },
   "cell_type": "code",
   "source": [
    "def validate_curie_label_list_dict(curie_label_dict, adapter, print_flag=False):\n",
    "    problem_curies = []\n",
    "    valid_curies = []\n",
    "    for curie, labels in curie_label_dict.items():\n",
    "        true_label = adapter.label(curie)\n",
    "        if true_label not in labels:\n",
    "            problem_curies.append(curie)\n",
    "            if print_flag:\n",
    "                print(f\"Error: {curie} has true label {true_label} which doesn't appear in {labels}\")\n",
    "        else:\n",
    "            valid_curies.append({\"curie\": curie, \"label\": true_label})\n",
    "    return {\"problems\": problem_curies, \"valids\": valid_curies}"
   ],
   "id": "cbd3ed3aec38ee16",
   "outputs": [],
   "execution_count": 25
  },
  {
   "metadata": {
    "ExecuteTime": {
     "end_time": "2024-11-15T13:50:00.673400Z",
     "start_time": "2024-11-15T13:50:00.665594Z"
    }
   },
   "cell_type": "code",
   "source": [
    "# todo could pre-determine the collection sizes\n",
    "# todo could report elapsed time\n",
    "\n",
    "def get_docs_from_nmdc_collection(base_url, collection_name, max_page_size=1000, stop_after=None):\n",
    "    \"\"\"\n",
    "    Fetch all documents from a paginated API. Defaults to fetching a large number of documents per page.\n",
    "    Optionally stop after a specified number of documents.\n",
    "\n",
    "    Parameters:\n",
    "    - base_url: The base URL of the API endpoint (e.g., 'https://api.microbiomedata.org/nmdcschema/').\n",
    "    - collection_name: The name of the collection to fetch (e.g., 'biosample_set').\n",
    "    - max_page_size: The maximum number of items to retrieve per page (default 1000).\n",
    "    - stop_after: Optional parameter to stop fetching after a certain number of documents (default None).\n",
    "\n",
    "    Returns:\n",
    "    - A list of documents fetched from the API.\n",
    "    \"\"\"\n",
    "    documents = []\n",
    "    page_token = None\n",
    "    total_documents = 0\n",
    "    page_count = 0\n",
    "\n",
    "    # Construct the full URL with the collection name\n",
    "    url = f\"{base_url}{collection_name}\"\n",
    "\n",
    "    while True:\n",
    "        page_count += 1\n",
    "        # Prepare the query parameters\n",
    "        params = {\n",
    "            'collection_name': collection_name,\n",
    "            'max_page_size': max_page_size,  # Set large max_page_size to reduce pagination\n",
    "        }\n",
    "\n",
    "        if page_token:\n",
    "            params['page_token'] = page_token  # Add the page token for pagination\n",
    "\n",
    "        # Send the request to the API\n",
    "        response = requests.get(url, params=params)\n",
    "\n",
    "        if response.status_code != 200:\n",
    "            print(f\"Error fetching data: {response.status_code}\")\n",
    "            break\n",
    "\n",
    "        data = response.json()\n",
    "\n",
    "        # Add the current page of documents to the list\n",
    "        num_documents_on_page = len(data['resources'])\n",
    "        documents.extend(data['resources'])\n",
    "        total_documents += num_documents_on_page\n",
    "\n",
    "        # Status reporting\n",
    "        print(f\"Fetched page {page_count} with {num_documents_on_page} documents. Total fetched: {total_documents}\")\n",
    "\n",
    "        # If stop_after is provided, stop fetching after reaching the specified number of documents\n",
    "        if stop_after and total_documents >= stop_after:\n",
    "            documents = documents[:stop_after]  # Trim to the required number\n",
    "            print(f\"Reached stop_after limit of {stop_after} documents.\")\n",
    "            break\n",
    "\n",
    "        # Check if there is a next page\n",
    "        page_token = data.get('next_page_token')\n",
    "        if not page_token:\n",
    "            print(\"All documents fetched.\")\n",
    "            break  # Exit the loop if no more pages are available\n",
    "\n",
    "    return documents"
   ],
   "id": "69ea6069b4c4abbb",
   "outputs": [],
   "execution_count": 26
  },
  {
   "metadata": {
    "ExecuteTime": {
     "end_time": "2024-11-15T13:50:00.722425Z",
     "start_time": "2024-11-15T13:50:00.718535Z"
    }
   },
   "cell_type": "code",
   "source": [
    "\n",
    "def get_name_or_rawval(env_scale: Dict[str, Any]) -> str:\n",
    "    \"\"\"Safely extract label from environmental scale data.\"\"\"\n",
    "    if env_scale:\n",
    "        term = env_scale.get('term')\n",
    "        if term:\n",
    "            return term.get('name', term.get('has_raw_value', ''))\n",
    "    return ''"
   ],
   "id": "590502abe99de710",
   "outputs": [],
   "execution_count": 27
  },
  {
   "metadata": {
    "ExecuteTime": {
     "end_time": "2024-11-15T13:50:00.772026Z",
     "start_time": "2024-11-15T13:50:00.767370Z"
    }
   },
   "cell_type": "code",
   "source": [
    "def tsv_to_dict_of_dicts(tsv_file, outer_key_column):\n",
    "    \"\"\"\n",
    "    Reads a TSV file into a dictionary of dictionaries.\n",
    "\n",
    "    :param tsv_file: Path to the TSV file.\n",
    "    :param outer_key_column: The column name or index to be used as the key for the outer dictionary.\n",
    "    :return: A dictionary of dictionaries, with outer keys being the values from the specified column.\n",
    "    \"\"\"\n",
    "    with open(tsv_file, newline='', encoding='utf-8') as f:\n",
    "        reader = csv.DictReader(f, delimiter='\\t')\n",
    "\n",
    "        result = {}\n",
    "\n",
    "        for row in reader:\n",
    "            outer_key = row[outer_key_column]\n",
    "            result[outer_key] = {key: value for key, value in row.items() if key != outer_key_column}\n",
    "\n",
    "    return result"
   ],
   "id": "6668e06afbd16f4",
   "outputs": [],
   "execution_count": 28
  },
  {
   "metadata": {
    "ExecuteTime": {
     "end_time": "2024-11-15T13:50:00.823704Z",
     "start_time": "2024-11-15T13:50:00.815315Z"
    }
   },
   "cell_type": "code",
   "source": [
    "# todo only gets authoritative labels from the passed adapter, which is presumably EnvO only\n",
    "# todo would benefit from caching of labels\n",
    "\n",
    "def biosamples_lod_context_extractor(biosamples_lod, adapter, env_pacakge_overrides=None):\n",
    "    new_lod = []\n",
    "    for biosample in biosamples_lod:\n",
    "        insdc_identifiers = biosample.get('insdc_biosample_identifiers', [])\n",
    "\n",
    "        env_broad_scale_label = get_name_or_rawval(biosample.get('env_broad_scale'))\n",
    "        env_local_scale_label = get_name_or_rawval(biosample.get('env_local_scale'))\n",
    "        env_medium_label = get_name_or_rawval(biosample.get('env_medium'))\n",
    "\n",
    "        # Extracting optional scalar env_package.has_raw_value\n",
    "        env_package_has_raw_value = biosample.get('env_package', {}).get('has_raw_value', '')\n",
    "\n",
    "        # Extracting required multivalued part_of\n",
    "        associated_studies = '|'.join(biosample.get('associated_studies', []))  # Assuming part_of is a list of strings\n",
    "\n",
    "        row: Dict[str, str] = {\n",
    "            'id': biosample['id'],\n",
    "            'insdc_biosample_identifiers': '|'.join(insdc_identifiers) if insdc_identifiers else '',\n",
    "\n",
    "            'env_broad_scale_id': biosample['env_broad_scale']['term']['id'],\n",
    "            'env_broad_scale_mongo_label': env_broad_scale_label,\n",
    "            'env_broad_scale_auth_label': adapter.label(biosample['env_broad_scale']['term']['id']),\n",
    "\n",
    "            'env_local_scale_id': biosample['env_local_scale']['term']['id'],\n",
    "            'env_local_scale_mongo_label': env_local_scale_label,\n",
    "            'env_local_scale_auth_label': adapter.label(biosample['env_local_scale']['term']['id']),\n",
    "\n",
    "            'env_medium_id': biosample['env_medium']['term']['id'],\n",
    "            'env_medium_mongo_label': env_medium_label,\n",
    "            'env_medium_auth_label': adapter.label(biosample['env_medium']['term']['id']),\n",
    "\n",
    "            'env_package_has_raw_value': env_package_has_raw_value,\n",
    "            'normalized_env_package': 'soil' if env_package_has_raw_value == 'ENVO:00001998' else env_package_has_raw_value.lower(),\n",
    "            # todo abstract this though label search, or at least providing a lookup structure\n",
    "\n",
    "            'associated_studies': associated_studies\n",
    "        }\n",
    "\n",
    "        if env_pacakge_overrides and biosample['id'] in env_pacakge_overrides:\n",
    "            print(\n",
    "                f\"Overriding env_package for biosample {biosample['id']} from {row['normalized_env_package']} to {env_pacakge_overrides[biosample['id']]['mam_inferred_env_package']}\")\n",
    "            row['normalized_env_package'] = env_pacakge_overrides[biosample['id']]['mam_inferred_env_package']\n",
    "\n",
    "        new_lod.append(row)\n",
    "    return new_lod\n"
   ],
   "id": "53b9c7e7d15845f6",
   "outputs": [],
   "execution_count": 29
  },
  {
   "metadata": {
    "ExecuteTime": {
     "end_time": "2024-11-15T13:50:00.873636Z",
     "start_time": "2024-11-15T13:50:00.867419Z"
    }
   },
   "cell_type": "code",
   "source": [
    "def get_hierarchy_terms(curie: str, adapter) -> dict:\n",
    "    \"\"\"\n",
    "    Extract ancestor and descendant terms from the ontology for a given CURIE,\n",
    "    using caching to improve performance and filtering by 'is_a' relationships.\n",
    "\n",
    "    Args:\n",
    "        curie (str): CURIE identifier for the ontology term.\n",
    "        adapter: Ontology adapter.\n",
    "\n",
    "    Returns:\n",
    "        dict: Dictionary containing lists of ancestor and descendant terms.\n",
    "    \"\"\"\n",
    "    if curie in ancestor_cache:\n",
    "        ancestors = ancestor_cache[curie]\n",
    "    else:\n",
    "        try:\n",
    "            ancestors = list(adapter.ancestors(curie, predicates=[IS_A]))\n",
    "            ancestor_cache[curie] = [adapter.label(ancestor) for ancestor in ancestors if ancestor]\n",
    "        except Exception as e:\n",
    "            print(f\"Error retrieving ancestors for {curie}: {e}\")\n",
    "            ancestor_cache[curie] = []\n",
    "\n",
    "    if curie in descendant_cache:\n",
    "        descendants = descendant_cache[curie]\n",
    "    else:\n",
    "        try:\n",
    "            descendants = list(adapter.descendants(curie, predicates=[IS_A]))\n",
    "            descendant_cache[curie] = [adapter.label(descendant) for descendant in descendants if descendant]\n",
    "        except Exception as e:\n",
    "            print(f\"Error retrieving descendants for {curie}: {e}\")\n",
    "            descendant_cache[curie] = []\n",
    "\n",
    "    return {\n",
    "        'ancestors': ancestor_cache[curie],\n",
    "        'descendants': descendant_cache[curie],\n",
    "    }"
   ],
   "id": "3efcfc9fcc2fe391",
   "outputs": [],
   "execution_count": 30
  },
  {
   "metadata": {
    "ExecuteTime": {
     "end_time": "2024-11-15T13:50:00.920361Z",
     "start_time": "2024-11-15T13:50:00.916272Z"
    }
   },
   "cell_type": "code",
   "source": [
    "def vectorize_terms(df, column):\n",
    "    \"\"\"\n",
    "    Vectorize the ancestor or descendant terms for a given column.\n",
    "\n",
    "    Args:\n",
    "        df (pd.DataFrame): The input dataframe.\n",
    "        column (str): The column name to vectorize.\n",
    "\n",
    "    Returns:\n",
    "        sparse matrix: The vectorized term matrix.\n",
    "    \"\"\"\n",
    "    vectorizer = CountVectorizer()\n",
    "    return vectorizer.fit_transform(\n",
    "        df[column].apply(lambda x: ' '.join([str(term) for term in x if term is not None]) if x is not None else '')\n",
    "    )"
   ],
   "id": "e9be0a2e69ee7409",
   "outputs": [],
   "execution_count": 31
  },
  {
   "metadata": {
    "ExecuteTime": {
     "end_time": "2024-11-15T13:50:00.971220Z",
     "start_time": "2024-11-15T13:50:00.963648Z"
    }
   },
   "cell_type": "code",
   "source": [
    "def predict_from_normalized_env_packages(df_raw, adapter):\n",
    "    # Apply the function to the relevant columns\n",
    "\n",
    "    df = df_raw.copy()\n",
    "    for column in ['env_broad_scale_id', 'env_local_scale_id', 'env_medium_id']:\n",
    "        df[f'{column}_ancestors'] = df[column].apply(lambda x: get_hierarchy_terms(x, adapter)['ancestors'])\n",
    "        df[f'{column}_descendants'] = df[column].apply(lambda x: get_hierarchy_terms(x, adapter)['descendants'])\n",
    "\n",
    "    # Vectorize each set of terms separately\n",
    "    broad_scale_ancestors = vectorize_terms(df, 'env_broad_scale_id_ancestors')\n",
    "    broad_scale_descendants = vectorize_terms(df, 'env_broad_scale_id_descendants')\n",
    "\n",
    "    local_scale_ancestors = vectorize_terms(df, 'env_local_scale_id_ancestors')\n",
    "    local_scale_descendants = vectorize_terms(df, 'env_local_scale_id_descendants')\n",
    "\n",
    "    medium_ancestors = vectorize_terms(df, 'env_medium_id_ancestors')\n",
    "    medium_descendants = vectorize_terms(df, 'env_medium_id_descendants')\n",
    "\n",
    "    # Combine all feature matrices\n",
    "    X = hstack([\n",
    "        broad_scale_ancestors,\n",
    "        broad_scale_descendants,\n",
    "        local_scale_ancestors,\n",
    "        local_scale_descendants,\n",
    "        medium_ancestors,\n",
    "        medium_descendants\n",
    "    ])\n",
    "\n",
    "    # Filter the DataFrame to only include non-null rows for the target column\n",
    "    df_filtered = df[df['normalized_env_package'].notnull() & (df['normalized_env_package'] != \"\")]\n",
    "\n",
    "    # Extract the target variable\n",
    "    y = df_filtered['normalized_env_package']\n",
    "\n",
    "    # Ensure X corresponds to the filtered rows\n",
    "    X_filtered = X[df_filtered.index]\n",
    "\n",
    "    # Split the data into training and testing sets\n",
    "    X_train, X_test, y_train, y_test = train_test_split(X_filtered, y, test_size=0.3, random_state=42)\n",
    "\n",
    "    # Train a Random Forest Classifier\n",
    "    clf = RandomForestClassifier(n_estimators=100, random_state=42)\n",
    "    clf.fit(X_train, y_train)\n",
    "\n",
    "    # Make predictions on the test set\n",
    "    y_pred = clf.predict(X_test)\n",
    "\n",
    "    # Evaluate the model\n",
    "    print(classification_report(y_test, y_pred))\n",
    "\n",
    "    # # Predict the normalized_env_package for all rows\n",
    "    # df['predicted_normalized_env_package'] = clf.predict(X)\n",
    "\n",
    "    # # If you want to add confidence scores for each class\n",
    "    # class_probabilities = clf.predict_proba(X)\n",
    "    # \n",
    "    # # Get the class labels from the model\n",
    "    # class_labels = clf.classes_\n",
    "    # \n",
    "    # # Add a column for each class with the corresponding confidence score\n",
    "    # for i, class_label in enumerate(class_labels):\n",
    "    #     df[f'confidence_{class_label}'] = class_probabilities[:, i]\n",
    "    # \n",
    "    # return df\n",
    "\n",
    "    return clf.predict(X)"
   ],
   "id": "f03bb583dfde6d48",
   "outputs": [],
   "execution_count": 32
  },
  {
   "metadata": {
    "ExecuteTime": {
     "end_time": "2024-11-15T13:50:01.019675Z",
     "start_time": "2024-11-15T13:50:01.014737Z"
    }
   },
   "cell_type": "code",
   "source": [
    "def parse_curie_label(text, approved_prefixes=['ENVO']):\n",
    "    # Case-insensitive pattern for matching approved prefixes followed by an ID\n",
    "    pattern = r'\\b(?:' + '|'.join(approved_prefixes) + r')\\s*[:_]\\s*(\\d+)\\b'\n",
    "    curie_match = re.search(pattern, text, re.IGNORECASE)\n",
    "\n",
    "    if curie_match:\n",
    "        curie = f\"{approved_prefixes[0].upper()}:{curie_match.group(1)}\"  # standardize prefix to 'ENVO:ID'\n",
    "        label = re.sub(pattern, \"\", text).strip(\"[]() \")\n",
    "        # replace any colons in the label with a whitespace\n",
    "        return pd.Series([label, curie])\n",
    "    else:\n",
    "        label = re.sub(r':', ' ', text)\n",
    "        return pd.Series([label, None])  # No CURIE found, return original label and None for CURIE\n"
   ],
   "id": "9edf0d5477083503",
   "outputs": [],
   "execution_count": 33
  },
  {
   "metadata": {
    "ExecuteTime": {
     "end_time": "2024-11-15T13:50:01.071270Z",
     "start_time": "2024-11-15T13:50:01.067303Z"
    }
   },
   "cell_type": "code",
   "source": [
    "def get_longest_annotation_curie(text, adapter):\n",
    "    annotations = adapter.annotate_text(text)\n",
    "    if not annotations:  # Check if annotations list is empty\n",
    "        return None\n",
    "    try:\n",
    "        longest_annotation = max(annotations, key=lambda x: x.subject_end - x.subject_start)\n",
    "        return longest_annotation.object_id\n",
    "    except ValueError:\n",
    "        return None  # Return None if there's an unexpected issue with finding the max\n"
   ],
   "id": "8db01eb510b460c2",
   "outputs": [],
   "execution_count": 34
  },
  {
   "metadata": {
    "ExecuteTime": {
     "end_time": "2024-11-15T13:50:01.117685Z",
     "start_time": "2024-11-15T13:50:01.114238Z"
    }
   },
   "cell_type": "code",
   "source": [
    "# Determine the filenames and target directory\n",
    "ncbi_compressed_filename = urlparse(ncbi_duckdb_url).path.split('/')[-1]\n",
    "ncbi_filename = os.path.splitext(ncbi_compressed_filename)[0]\n",
    "target_dir = os.path.join(\"..\", \"..\")  # Two levels up"
   ],
   "id": "6b934c793818f5bc",
   "outputs": [],
   "execution_count": 35
  },
  {
   "metadata": {
    "ExecuteTime": {
     "end_time": "2024-11-15T13:51:31.488618Z",
     "start_time": "2024-11-15T13:50:01.161310Z"
    }
   },
   "cell_type": "code",
   "source": [
    "# Fetch the contents from the URL and save compressed file in target directory\n",
    "ncbi_response = requests.get(ncbi_duckdb_url)\n",
    "ncbi_compressed_file_path = os.path.join(target_dir, ncbi_compressed_filename)\n",
    "with open(ncbi_compressed_file_path, \"wb\") as f:\n",
    "    f.write(ncbi_response.content)\n",
    "\n",
    "# ~ 2 minutes @ 250 Mbps"
   ],
   "id": "8c6147ebd9dcd69d",
   "outputs": [],
   "execution_count": 36
  },
  {
   "metadata": {
    "ExecuteTime": {
     "end_time": "2024-11-15T13:52:42.664840Z",
     "start_time": "2024-11-15T13:51:31.534214Z"
    }
   },
   "cell_type": "code",
   "source": [
    "# Unzip the compressed file and save the extracted file in target directory\n",
    "ncbi_uncompressed_file_path = os.path.join(target_dir, ncbi_filename)\n",
    "with gzip.open(ncbi_compressed_file_path, \"rb\") as f_in:\n",
    "    with open(ncbi_uncompressed_file_path, \"wb\") as f_out:\n",
    "        shutil.copyfileobj(f_in, f_out)\n",
    "\n",
    "# ~ 1 minute"
   ],
   "id": "a65971b89486ffe8",
   "outputs": [],
   "execution_count": 37
  },
  {
   "metadata": {
    "ExecuteTime": {
     "end_time": "2024-11-15T13:52:42.742187Z",
     "start_time": "2024-11-15T13:52:42.709962Z"
    }
   },
   "cell_type": "code",
   "source": "ncbi_conn = duckdb.connect(database=ncbi_uncompressed_file_path, read_only=True)",
   "id": "a3c0ec1db5a4f847",
   "outputs": [],
   "execution_count": 38
  },
  {
   "metadata": {
    "ExecuteTime": {
     "end_time": "2024-11-15T13:52:42.785979Z",
     "start_time": "2024-11-15T13:52:42.755429Z"
    }
   },
   "cell_type": "code",
   "source": "envo_adapter = get_adapter(envo_adapter_string)",
   "id": "2f5ec46c2396082c",
   "outputs": [],
   "execution_count": 39
  },
  {
   "metadata": {
    "ExecuteTime": {
     "end_time": "2024-11-15T13:52:42.907449Z",
     "start_time": "2024-11-15T13:52:42.802519Z"
    }
   },
   "cell_type": "code",
   "source": "biome_descendants = get_curie_descendants_label_dict(BIOME_CURIE, [IS_A], envo_adapter)",
   "id": "67808c8134cd1f9a",
   "outputs": [],
   "execution_count": 40
  },
  {
   "metadata": {
    "ExecuteTime": {
     "end_time": "2024-11-15T13:52:42.921905Z",
     "start_time": "2024-11-15T13:52:42.919135Z"
    }
   },
   "cell_type": "code",
   "source": "biome_descendants_lod = curie_descendants_label_dict_to_lod(biome_descendants)",
   "id": "97f53975986137a2",
   "outputs": [],
   "execution_count": 41
  },
  {
   "metadata": {
    "ExecuteTime": {
     "end_time": "2024-11-15T13:52:42.965752Z",
     "start_time": "2024-11-15T13:52:42.962173Z"
    }
   },
   "cell_type": "code",
   "source": "biome_descendants_frame = curie_descendants_label_lod_to_df(biome_descendants_lod)",
   "id": "6ff81c86ce7c4064",
   "outputs": [],
   "execution_count": 42
  },
  {
   "metadata": {
    "ExecuteTime": {
     "end_time": "2024-11-15T13:52:43.026211Z",
     "start_time": "2024-11-15T13:52:43.009966Z"
    }
   },
   "cell_type": "code",
   "source": "biome_descendants_frame",
   "id": "7d9f5e51cb21844",
   "outputs": [
    {
     "data": {
      "text/plain": [
       "             curie                          label\n",
       "0    ENVO:01001505            alpine tundra biome\n",
       "1    ENVO:01000024           marine benthic biome\n",
       "2    ENVO:01000252          freshwater lake biome\n",
       "3    ENVO:01000180                   tundra biome\n",
       "4    ENVO:01000123       marine sponge reef biome\n",
       "..             ...                            ...\n",
       "123  ENVO:01000858         marine upwelling biome\n",
       "124  ENVO:01000188         tropical savanna biome\n",
       "125  ENVO:01000042  neritic epipelagic zone biome\n",
       "126  ENVO:01000045              epeiric sea biome\n",
       "127  ENVO:01000049        marine coral reef biome\n",
       "\n",
       "[128 rows x 2 columns]"
      ],
      "text/html": [
       "<div>\n",
       "<style scoped>\n",
       "    .dataframe tbody tr th:only-of-type {\n",
       "        vertical-align: middle;\n",
       "    }\n",
       "\n",
       "    .dataframe tbody tr th {\n",
       "        vertical-align: top;\n",
       "    }\n",
       "\n",
       "    .dataframe thead th {\n",
       "        text-align: right;\n",
       "    }\n",
       "</style>\n",
       "<table border=\"1\" class=\"dataframe\">\n",
       "  <thead>\n",
       "    <tr style=\"text-align: right;\">\n",
       "      <th></th>\n",
       "      <th>curie</th>\n",
       "      <th>label</th>\n",
       "    </tr>\n",
       "  </thead>\n",
       "  <tbody>\n",
       "    <tr>\n",
       "      <th>0</th>\n",
       "      <td>ENVO:01001505</td>\n",
       "      <td>alpine tundra biome</td>\n",
       "    </tr>\n",
       "    <tr>\n",
       "      <th>1</th>\n",
       "      <td>ENVO:01000024</td>\n",
       "      <td>marine benthic biome</td>\n",
       "    </tr>\n",
       "    <tr>\n",
       "      <th>2</th>\n",
       "      <td>ENVO:01000252</td>\n",
       "      <td>freshwater lake biome</td>\n",
       "    </tr>\n",
       "    <tr>\n",
       "      <th>3</th>\n",
       "      <td>ENVO:01000180</td>\n",
       "      <td>tundra biome</td>\n",
       "    </tr>\n",
       "    <tr>\n",
       "      <th>4</th>\n",
       "      <td>ENVO:01000123</td>\n",
       "      <td>marine sponge reef biome</td>\n",
       "    </tr>\n",
       "    <tr>\n",
       "      <th>...</th>\n",
       "      <td>...</td>\n",
       "      <td>...</td>\n",
       "    </tr>\n",
       "    <tr>\n",
       "      <th>123</th>\n",
       "      <td>ENVO:01000858</td>\n",
       "      <td>marine upwelling biome</td>\n",
       "    </tr>\n",
       "    <tr>\n",
       "      <th>124</th>\n",
       "      <td>ENVO:01000188</td>\n",
       "      <td>tropical savanna biome</td>\n",
       "    </tr>\n",
       "    <tr>\n",
       "      <th>125</th>\n",
       "      <td>ENVO:01000042</td>\n",
       "      <td>neritic epipelagic zone biome</td>\n",
       "    </tr>\n",
       "    <tr>\n",
       "      <th>126</th>\n",
       "      <td>ENVO:01000045</td>\n",
       "      <td>epeiric sea biome</td>\n",
       "    </tr>\n",
       "    <tr>\n",
       "      <th>127</th>\n",
       "      <td>ENVO:01000049</td>\n",
       "      <td>marine coral reef biome</td>\n",
       "    </tr>\n",
       "  </tbody>\n",
       "</table>\n",
       "<p>128 rows × 2 columns</p>\n",
       "</div>"
      ]
     },
     "execution_count": 43,
     "metadata": {},
     "output_type": "execute_result"
    }
   ],
   "execution_count": 43
  },
  {
   "metadata": {},
   "cell_type": "markdown",
   "source": "**Use `biome_descendants_frame` as an approximation of `local/biome-ids.tsv`**",
   "id": "4c418e6f7c75da52"
  },
  {
   "metadata": {
    "ExecuteTime": {
     "end_time": "2024-11-15T13:52:46.701502Z",
     "start_time": "2024-11-15T13:52:43.099420Z"
    }
   },
   "cell_type": "code",
   "source": "sv = get_schemaview_from_source(previous_submission_schema_url)",
   "id": "3f73cf88902b5ca6",
   "outputs": [],
   "execution_count": 44
  },
  {
   "metadata": {
    "ExecuteTime": {
     "end_time": "2024-11-15T13:52:46.745587Z",
     "start_time": "2024-11-15T13:52:46.741684Z"
    }
   },
   "cell_type": "code",
   "source": [
    "soil_env_broad_scale_enum = sv.get_enum(ENV_BROAD_SCALE_ENUM)\n",
    "soil_env_broad_scale_pvs_keys = list(soil_env_broad_scale_enum.permissible_values.keys())"
   ],
   "id": "c6355aee16d6a340",
   "outputs": [],
   "execution_count": 45
  },
  {
   "metadata": {
    "ExecuteTime": {
     "end_time": "2024-11-15T13:52:46.765244Z",
     "start_time": "2024-11-15T13:52:46.749899Z"
    }
   },
   "cell_type": "code",
   "source": "initially_parsed_soil_env_broad_scale_pvs = parse_hierarchically_underscored_strings(soil_env_broad_scale_pvs_keys)",
   "id": "f0631ea631f6c807",
   "outputs": [],
   "execution_count": 46
  },
  {
   "metadata": {
    "ExecuteTime": {
     "end_time": "2024-11-15T13:52:51.854125Z",
     "start_time": "2024-11-15T13:52:51.851379Z"
    }
   },
   "cell_type": "code",
   "source": "deduped_soil_env_broad_scale_pvs = dedupe_underscoreless_pvs(initially_parsed_soil_env_broad_scale_pvs)",
   "id": "4f9efbd6e1e2c834",
   "outputs": [],
   "execution_count": 47
  },
  {
   "metadata": {
    "ExecuteTime": {
     "end_time": "2024-11-15T13:52:56.786669Z",
     "start_time": "2024-11-15T13:52:56.770270Z"
    }
   },
   "cell_type": "code",
   "source": "pv_validation_results = validate_curie_label_list_dict(deduped_soil_env_broad_scale_pvs, envo_adapter, print_flag=True)",
   "id": "eb81442383577618",
   "outputs": [],
   "execution_count": 48
  },
  {
   "metadata": {
    "ExecuteTime": {
     "end_time": "2024-11-15T13:53:01.876984Z",
     "start_time": "2024-11-15T13:53:01.870502Z"
    }
   },
   "cell_type": "code",
   "source": "pv_validation_results",
   "id": "aa0d1bdc45bb3f3b",
   "outputs": [
    {
     "data": {
      "text/plain": [
       "{'problems': [],\n",
       " 'valids': [{'curie': 'ENVO:01001838', 'label': 'arid biome'},\n",
       "  {'curie': 'ENVO:01001837', 'label': 'subalpine biome'},\n",
       "  {'curie': 'ENVO:01001836', 'label': 'montane biome'},\n",
       "  {'curie': 'ENVO:01000223', 'label': 'montane savanna biome'},\n",
       "  {'curie': 'ENVO:01000216', 'label': 'montane shrubland biome'},\n",
       "  {'curie': 'ENVO:01001835', 'label': 'alpine biome'},\n",
       "  {'curie': 'ENVO:01001505', 'label': 'alpine tundra biome'},\n",
       "  {'curie': 'ENVO:01001834', 'label': 'subpolar biome'},\n",
       "  {'curie': 'ENVO:01001832', 'label': 'subtropical biome'},\n",
       "  {'curie': 'ENVO:01001833', 'label': 'mediterranean biome'},\n",
       "  {'curie': 'ENVO:01000229', 'label': 'mediterranean savanna biome'},\n",
       "  {'curie': 'ENVO:01000217', 'label': 'mediterranean shrubland biome'},\n",
       "  {'curie': 'ENVO:01000208', 'label': 'mediterranean woodland biome'},\n",
       "  {'curie': 'ENVO:01000222', 'label': 'subtropical woodland biome'},\n",
       "  {'curie': 'ENVO:01000213', 'label': 'subtropical shrubland biome'},\n",
       "  {'curie': 'ENVO:01000187', 'label': 'subtropical savanna biome'},\n",
       "  {'curie': 'ENVO:01001831', 'label': 'temperate biome'},\n",
       "  {'curie': 'ENVO:01000221', 'label': 'temperate woodland biome'},\n",
       "  {'curie': 'ENVO:01000215', 'label': 'temperate shrubland biome'},\n",
       "  {'curie': 'ENVO:01000189', 'label': 'temperate savanna biome'},\n",
       "  {'curie': 'ENVO:01001830', 'label': 'tropical biome'},\n",
       "  {'curie': 'ENVO:01000220', 'label': 'tropical woodland biome'},\n",
       "  {'curie': 'ENVO:01000214', 'label': 'tropical shrubland biome'},\n",
       "  {'curie': 'ENVO:01000188', 'label': 'tropical savanna biome'},\n",
       "  {'curie': 'ENVO:01000339', 'label': 'polar biome'},\n",
       "  {'curie': 'ENVO:00000446', 'label': 'terrestrial biome'},\n",
       "  {'curie': 'ENVO:01000219', 'label': 'anthropogenic terrestrial biome'},\n",
       "  {'curie': 'ENVO:01000248', 'label': 'dense settlement biome'},\n",
       "  {'curie': 'ENVO:01000249', 'label': 'urban biome'},\n",
       "  {'curie': 'ENVO:01000247', 'label': 'rangeland biome'},\n",
       "  {'curie': 'ENVO:01000246', 'label': 'village biome'},\n",
       "  {'curie': 'ENVO:01000181', 'label': 'mangrove biome'},\n",
       "  {'curie': 'ENVO:01000180', 'label': 'tundra biome'},\n",
       "  {'curie': 'ENVO:01000176', 'label': 'shrubland biome'},\n",
       "  {'curie': 'ENVO:01001369', 'label': 'tidal mangrove shrubland'},\n",
       "  {'curie': 'ENVO:01000218', 'label': 'xeric shrubland biome'},\n",
       "  {'curie': 'ENVO:01000175', 'label': 'woodland biome'},\n",
       "  {'curie': 'ENVO:01000178', 'label': 'savanna biome'},\n",
       "  {'curie': 'ENVO:01000190', 'label': 'flooded savanna biome'}]}"
      ]
     },
     "execution_count": 49,
     "metadata": {},
     "output_type": "execute_result"
    }
   ],
   "execution_count": 49
  },
  {
   "metadata": {},
   "cell_type": "markdown",
   "source": "**Use `pv_validation_results['valids']` as an approximation of `local/EnvBroadScaleSoilEnum-pvs-keys-parsed-unique.csv`**",
   "id": "cd05c55ab2a84b0d"
  },
  {
   "metadata": {
    "ExecuteTime": {
     "end_time": "2024-11-15T13:53:58.444134Z",
     "start_time": "2024-11-15T13:53:07.259983Z"
    }
   },
   "cell_type": "code",
   "source": [
    "all_biosamples = get_docs_from_nmdc_collection(NMDC_RUNTIME_BASE_URL,\n",
    "                                               BIOSAMPLE_SET_COLLECTION)  # Example with stop_after"
   ],
   "id": "53d8c3995e597527",
   "outputs": [
    {
     "name": "stdout",
     "output_type": "stream",
     "text": [
      "Fetched page 1 with 1000 documents. Total fetched: 1000\n",
      "Fetched page 2 with 1000 documents. Total fetched: 2000\n",
      "Fetched page 3 with 1000 documents. Total fetched: 3000\n",
      "Fetched page 4 with 1000 documents. Total fetched: 4000\n",
      "Fetched page 5 with 1000 documents. Total fetched: 5000\n",
      "Fetched page 6 with 1000 documents. Total fetched: 6000\n",
      "Fetched page 7 with 1000 documents. Total fetched: 7000\n",
      "Fetched page 8 with 1000 documents. Total fetched: 8000\n",
      "Fetched page 9 with 320 documents. Total fetched: 8320\n",
      "All documents fetched.\n"
     ]
    }
   ],
   "execution_count": 50
  },
  {
   "metadata": {
    "ExecuteTime": {
     "end_time": "2024-11-15T13:54:04.073583Z",
     "start_time": "2024-11-15T13:54:03.443119Z"
    }
   },
   "cell_type": "code",
   "source": "all_studies = get_docs_from_nmdc_collection(NMDC_RUNTIME_BASE_URL, STUDY_SET_COLLECTION)  # Example with stop_after",
   "id": "95a21f388c30f596",
   "outputs": [
    {
     "name": "stdout",
     "output_type": "stream",
     "text": [
      "Fetched page 1 with 29 documents. Total fetched: 29\n",
      "All documents fetched.\n"
     ]
    }
   ],
   "execution_count": 51
  },
  {
   "metadata": {
    "ExecuteTime": {
     "end_time": "2024-11-15T13:54:08.997509Z",
     "start_time": "2024-11-15T13:54:08.992324Z"
    }
   },
   "cell_type": "code",
   "source": "env_pacakge_overrides = tsv_to_dict_of_dicts(env_package_override_file, 'id')",
   "id": "c8f6e276e7e29c15",
   "outputs": [],
   "execution_count": 52
  },
  {
   "metadata": {
    "ExecuteTime": {
     "end_time": "2024-11-15T13:54:14.069650Z",
     "start_time": "2024-11-15T13:54:14.066839Z"
    }
   },
   "cell_type": "code",
   "source": [
    "# env_pacakge_overrides\n",
    "# todo or show as frame\n",
    "# todo include some other columns for context?"
   ],
   "id": "d3bd77c4549f2db3",
   "outputs": [],
   "execution_count": 53
  },
  {
   "metadata": {
    "jupyter": {
     "is_executing": true
    },
    "ExecuteTime": {
     "start_time": "2024-11-15T13:54:20.006118Z"
    }
   },
   "cell_type": "code",
   "source": [
    "biosample_contexts_lod = biosamples_lod_context_extractor(all_biosamples, envo_adapter,\n",
    "                                                          env_pacakge_overrides=env_pacakge_overrides)"
   ],
   "id": "cdd0699ed7bfa22d",
   "outputs": [
    {
     "name": "stdout",
     "output_type": "stream",
     "text": [
      "Overriding env_package for biosample nmdc:bsm-11-0k8nkx16 from  to plant-associated\n",
      "Overriding env_package for biosample nmdc:bsm-11-19v98823 from  to plant-associated\n",
      "Overriding env_package for biosample nmdc:bsm-11-1yvac190 from  to plant-associated\n",
      "Overriding env_package for biosample nmdc:bsm-11-28kgw077 from  to plant-associated\n",
      "Overriding env_package for biosample nmdc:bsm-11-2hswww54 from  to hydrocarbon resources-fluids_swabs\n",
      "Overriding env_package for biosample nmdc:bsm-11-34przm31 from  to plant-associated\n",
      "Overriding env_package for biosample nmdc:bsm-11-35m0rm03 from  to hydrocarbon resources-fluids_swabs\n",
      "Overriding env_package for biosample nmdc:bsm-11-3636w778 from  to plant-associated\n",
      "Overriding env_package for biosample nmdc:bsm-11-3nffqc45 from  to plant-associated\n",
      "Overriding env_package for biosample nmdc:bsm-11-3nhng665 from  to plant-associated\n",
      "Overriding env_package for biosample nmdc:bsm-11-3r4g4610 from  to hydrocarbon resources-fluids_swabs\n",
      "Overriding env_package for biosample nmdc:bsm-11-3tr7f795 from  to plant-associated\n",
      "Overriding env_package for biosample nmdc:bsm-11-3xc5ft48 from  to plant-associated\n",
      "Overriding env_package for biosample nmdc:bsm-11-3xthwx28 from  to plant-associated\n",
      "Overriding env_package for biosample nmdc:bsm-11-42c9kj17 from  to plant-associated\n",
      "Overriding env_package for biosample nmdc:bsm-11-43rwvm93 from  to plant-associated\n",
      "Overriding env_package for biosample nmdc:bsm-11-4838sk73 from  to plant-associated\n",
      "Overriding env_package for biosample nmdc:bsm-11-5ak8ja54 from  to plant-associated\n",
      "Overriding env_package for biosample nmdc:bsm-11-5g2kjf44 from  to plant-associated\n",
      "Overriding env_package for biosample nmdc:bsm-11-5j742c82 from  to plant-associated\n",
      "Overriding env_package for biosample nmdc:bsm-11-5qq80d09 from  to plant-associated\n",
      "Overriding env_package for biosample nmdc:bsm-11-5rgay328 from  to plant-associated\n",
      "Overriding env_package for biosample nmdc:bsm-11-5w4ba396 from  to plant-associated\n",
      "Overriding env_package for biosample nmdc:bsm-11-61xfks69 from  to plant-associated\n",
      "Overriding env_package for biosample nmdc:bsm-11-62fxv990 from  to plant-associated\n",
      "Overriding env_package for biosample nmdc:bsm-11-674m9194 from  to plant-associated\n",
      "Overriding env_package for biosample nmdc:bsm-11-678ndj04 from  to plant-associated\n",
      "Overriding env_package for biosample nmdc:bsm-11-69g1rw32 from  to plant-associated\n",
      "Overriding env_package for biosample nmdc:bsm-11-6k8cmy53 from  to plant-associated\n",
      "Overriding env_package for biosample nmdc:bsm-11-6m5dma62 from  to plant-associated\n",
      "Overriding env_package for biosample nmdc:bsm-11-6qgwc522 from  to plant-associated\n",
      "Overriding env_package for biosample nmdc:bsm-11-6xa4vj59 from  to plant-associated\n",
      "Overriding env_package for biosample nmdc:bsm-11-6y26bz06 from  to plant-associated\n",
      "Overriding env_package for biosample nmdc:bsm-11-6ya0cs71 from  to plant-associated\n",
      "Overriding env_package for biosample nmdc:bsm-11-6z11g163 from  to plant-associated\n",
      "Overriding env_package for biosample nmdc:bsm-11-73zqmh40 from  to plant-associated\n",
      "Overriding env_package for biosample nmdc:bsm-11-766dwa91 from  to plant-associated\n",
      "Overriding env_package for biosample nmdc:bsm-11-7b566r47 from  to hydrocarbon resources-fluids_swabs\n",
      "Overriding env_package for biosample nmdc:bsm-11-7cfwd964 from  to plant-associated\n",
      "Overriding env_package for biosample nmdc:bsm-11-7pyrek52 from  to plant-associated\n",
      "Overriding env_package for biosample nmdc:bsm-11-7yg2ne22 from  to plant-associated\n",
      "Overriding env_package for biosample nmdc:bsm-11-7z1qvf63 from  to plant-associated\n",
      "Overriding env_package for biosample nmdc:bsm-11-82qw5v38 from  to plant-associated\n",
      "Overriding env_package for biosample nmdc:bsm-11-899bm454 from  to plant-associated\n",
      "Overriding env_package for biosample nmdc:bsm-11-8aktkq28 from  to plant-associated\n",
      "Overriding env_package for biosample nmdc:bsm-11-8bewbp90 from  to plant-associated\n",
      "Overriding env_package for biosample nmdc:bsm-11-8cgpqn03 from  to plant-associated\n",
      "Overriding env_package for biosample nmdc:bsm-11-8e43d898 from  to plant-associated\n",
      "Overriding env_package for biosample nmdc:bsm-11-8g7xbe66 from  to plant-associated\n",
      "Overriding env_package for biosample nmdc:bsm-11-91bdea61 from  to plant-associated\n",
      "Overriding env_package for biosample nmdc:bsm-11-94c2xj88 from  to plant-associated\n",
      "Overriding env_package for biosample nmdc:bsm-11-9c0hk014 from  to plant-associated\n",
      "Overriding env_package for biosample nmdc:bsm-11-9f2ahd94 from  to plant-associated\n",
      "Overriding env_package for biosample nmdc:bsm-11-a6p0kd54 from  to hydrocarbon resources-fluids_swabs\n",
      "Overriding env_package for biosample nmdc:bsm-11-acehgb61 from  to plant-associated\n",
      "Overriding env_package for biosample nmdc:bsm-11-acfvxq24 from  to plant-associated\n",
      "Overriding env_package for biosample nmdc:bsm-11-aesqd647 from  to plant-associated\n",
      "Overriding env_package for biosample nmdc:bsm-11-af8kqq09 from  to hydrocarbon resources-fluids_swabs\n",
      "Overriding env_package for biosample nmdc:bsm-11-ahfq0n74 from  to plant-associated\n",
      "Overriding env_package for biosample nmdc:bsm-11-b2w6cr26 from  to plant-associated\n",
      "Overriding env_package for biosample nmdc:bsm-11-b7pv2a25 from  to plant-associated\n",
      "Overriding env_package for biosample nmdc:bsm-11-b9cjnj29 from  to plant-associated\n",
      "Overriding env_package for biosample nmdc:bsm-11-bcns6e03 from  to plant-associated\n",
      "Overriding env_package for biosample nmdc:bsm-11-bgar5122 from  to plant-associated\n",
      "Overriding env_package for biosample nmdc:bsm-11-bja22k98 from  to plant-associated\n",
      "Overriding env_package for biosample nmdc:bsm-11-bm9haf23 from  to plant-associated\n",
      "Overriding env_package for biosample nmdc:bsm-11-bqp0m764 from  to plant-associated\n",
      "Overriding env_package for biosample nmdc:bsm-11-byzpm179 from  to hydrocarbon resources-fluids_swabs\n",
      "Overriding env_package for biosample nmdc:bsm-11-c12hyq86 from  to plant-associated\n",
      "Overriding env_package for biosample nmdc:bsm-11-c52npq37 from  to plant-associated\n",
      "Overriding env_package for biosample nmdc:bsm-11-c756vg97 from  to plant-associated\n",
      "Overriding env_package for biosample nmdc:bsm-11-can3rz84 from  to plant-associated\n",
      "Overriding env_package for biosample nmdc:bsm-11-cjp6kd42 from  to plant-associated\n",
      "Overriding env_package for biosample nmdc:bsm-11-ck98jg55 from  to plant-associated\n",
      "Overriding env_package for biosample nmdc:bsm-11-cqbpqf62 from  to plant-associated\n",
      "Overriding env_package for biosample nmdc:bsm-11-cv5vxb38 from  to plant-associated\n",
      "Overriding env_package for biosample nmdc:bsm-11-cvqsze66 from  to plant-associated\n",
      "Overriding env_package for biosample nmdc:bsm-11-cxprmv88 from  to plant-associated\n",
      "Overriding env_package for biosample nmdc:bsm-11-cz68sy30 from  to plant-associated\n",
      "Overriding env_package for biosample nmdc:bsm-11-d8cgz835 from  to plant-associated\n",
      "Overriding env_package for biosample nmdc:bsm-11-djqze645 from  to plant-associated\n",
      "Overriding env_package for biosample nmdc:bsm-11-dppkv536 from  to plant-associated\n",
      "Overriding env_package for biosample nmdc:bsm-11-dqnfvd06 from  to plant-associated\n",
      "Overriding env_package for biosample nmdc:bsm-11-dtyb1w45 from  to plant-associated\n",
      "Overriding env_package for biosample nmdc:bsm-11-dva76848 from  to plant-associated\n",
      "Overriding env_package for biosample nmdc:bsm-11-dz264p50 from  to plant-associated\n",
      "Overriding env_package for biosample nmdc:bsm-11-e0rz6p82 from  to plant-associated\n",
      "Overriding env_package for biosample nmdc:bsm-11-e747ch69 from  to plant-associated\n",
      "Overriding env_package for biosample nmdc:bsm-11-epzqzg45 from  to plant-associated\n",
      "Overriding env_package for biosample nmdc:bsm-11-evfbfp31 from  to plant-associated\n",
      "Overriding env_package for biosample nmdc:bsm-11-f8tzvk82 from  to plant-associated\n",
      "Overriding env_package for biosample nmdc:bsm-11-fbm8fa50 from  to hydrocarbon resources-fluids_swabs\n",
      "Overriding env_package for biosample nmdc:bsm-11-feynq214 from  to plant-associated\n",
      "Overriding env_package for biosample nmdc:bsm-11-fgjpsy56 from  to plant-associated\n",
      "Overriding env_package for biosample nmdc:bsm-11-fm4p4558 from  to plant-associated\n",
      "Overriding env_package for biosample nmdc:bsm-11-fqchmc77 from  to hydrocarbon resources-fluids_swabs\n",
      "Overriding env_package for biosample nmdc:bsm-11-fy3j8w19 from  to plant-associated\n",
      "Overriding env_package for biosample nmdc:bsm-11-fyey4107 from  to plant-associated\n",
      "Overriding env_package for biosample nmdc:bsm-11-fzvzb345 from  to plant-associated\n",
      "Overriding env_package for biosample nmdc:bsm-11-g35dnf26 from  to plant-associated\n",
      "Overriding env_package for biosample nmdc:bsm-11-g3r2dm95 from  to plant-associated\n",
      "Overriding env_package for biosample nmdc:bsm-11-g4my3419 from  to plant-associated\n",
      "Overriding env_package for biosample nmdc:bsm-11-g4rxzh95 from  to plant-associated\n",
      "Overriding env_package for biosample nmdc:bsm-11-gch9pp73 from  to plant-associated\n",
      "Overriding env_package for biosample nmdc:bsm-11-gd31q856 from  to plant-associated\n",
      "Overriding env_package for biosample nmdc:bsm-11-gnbsqd30 from  to hydrocarbon resources-fluids_swabs\n",
      "Overriding env_package for biosample nmdc:bsm-11-gvp5zp51 from  to hydrocarbon resources-fluids_swabs\n",
      "Overriding env_package for biosample nmdc:bsm-11-gwx12029 from  to plant-associated\n",
      "Overriding env_package for biosample nmdc:bsm-11-h2k7nv93 from  to plant-associated\n",
      "Overriding env_package for biosample nmdc:bsm-11-h3e54f51 from  to plant-associated\n",
      "Overriding env_package for biosample nmdc:bsm-11-h96d6881 from  to plant-associated\n",
      "Overriding env_package for biosample nmdc:bsm-11-ht2c1k71 from  to plant-associated\n",
      "Overriding env_package for biosample nmdc:bsm-11-ht2v0s47 from  to plant-associated\n",
      "Overriding env_package for biosample nmdc:bsm-11-hv1hv533 from  to plant-associated\n",
      "Overriding env_package for biosample nmdc:bsm-11-j1bay453 from  to plant-associated\n",
      "Overriding env_package for biosample nmdc:bsm-11-j1hqcz15 from  to plant-associated\n",
      "Overriding env_package for biosample nmdc:bsm-11-j2pfz414 from  to plant-associated\n",
      "Overriding env_package for biosample nmdc:bsm-11-j5y27f16 from  to plant-associated\n",
      "Overriding env_package for biosample nmdc:bsm-11-j6h8pw46 from  to plant-associated\n",
      "Overriding env_package for biosample nmdc:bsm-11-j6j1p639 from  to plant-associated\n",
      "Overriding env_package for biosample nmdc:bsm-11-jjchgw36 from  to plant-associated\n",
      "Overriding env_package for biosample nmdc:bsm-11-jp678560 from  to plant-associated\n",
      "Overriding env_package for biosample nmdc:bsm-11-jq2e3v76 from  to plant-associated\n",
      "Overriding env_package for biosample nmdc:bsm-11-jx6ar740 from  to hydrocarbon resources-fluids_swabs\n",
      "Overriding env_package for biosample nmdc:bsm-11-jxazjs92 from  to plant-associated\n",
      "Overriding env_package for biosample nmdc:bsm-11-jy6ece20 from  to plant-associated\n",
      "Overriding env_package for biosample nmdc:bsm-11-k0vz1j87 from  to plant-associated\n",
      "Overriding env_package for biosample nmdc:bsm-11-k1twxb65 from  to plant-associated\n",
      "Overriding env_package for biosample nmdc:bsm-11-k9192006 from  to plant-associated\n",
      "Overriding env_package for biosample nmdc:bsm-11-kdja3v28 from  to plant-associated\n",
      "Overriding env_package for biosample nmdc:bsm-11-kesw6757 from  to plant-associated\n",
      "Overriding env_package for biosample nmdc:bsm-11-kmpwgz16 from  to hydrocarbon resources-fluids_swabs\n",
      "Overriding env_package for biosample nmdc:bsm-11-kqbbyb62 from  to hydrocarbon resources-fluids_swabs\n",
      "Overriding env_package for biosample nmdc:bsm-11-krcjqt76 from  to plant-associated\n",
      "Overriding env_package for biosample nmdc:bsm-11-kv966g71 from  to hydrocarbon resources-fluids_swabs\n",
      "Overriding env_package for biosample nmdc:bsm-11-m0h9cb45 from  to plant-associated\n",
      "Overriding env_package for biosample nmdc:bsm-11-m4e83773 from  to plant-associated\n",
      "Overriding env_package for biosample nmdc:bsm-11-m4p1ck60 from  to plant-associated\n",
      "Overriding env_package for biosample nmdc:bsm-11-m5prkp97 from  to hydrocarbon resources-fluids_swabs\n",
      "Overriding env_package for biosample nmdc:bsm-11-m69k6p77 from  to hydrocarbon resources-fluids_swabs\n",
      "Overriding env_package for biosample nmdc:bsm-11-m9k8tx16 from  to plant-associated\n",
      "Overriding env_package for biosample nmdc:bsm-11-ma7ry826 from  to plant-associated\n",
      "Overriding env_package for biosample nmdc:bsm-11-mb9s8c17 from  to plant-associated\n",
      "Overriding env_package for biosample nmdc:bsm-11-mbcv4b48 from  to plant-associated\n",
      "Overriding env_package for biosample nmdc:bsm-11-n2a7p974 from  to plant-associated\n",
      "Overriding env_package for biosample nmdc:bsm-11-n6vwc542 from  to plant-associated\n",
      "Overriding env_package for biosample nmdc:bsm-11-n8t7zs15 from  to plant-associated\n",
      "Overriding env_package for biosample nmdc:bsm-11-n9sx1a80 from  to plant-associated\n",
      "Overriding env_package for biosample nmdc:bsm-11-nher1m25 from  to hydrocarbon resources-fluids_swabs\n",
      "Overriding env_package for biosample nmdc:bsm-11-nm187g36 from  to plant-associated\n",
      "Overriding env_package for biosample nmdc:bsm-11-nr7vje40 from  to plant-associated\n",
      "Overriding env_package for biosample nmdc:bsm-11-nrkha596 from  to plant-associated\n",
      "Overriding env_package for biosample nmdc:bsm-11-nwh9ez71 from  to plant-associated\n",
      "Overriding env_package for biosample nmdc:bsm-11-nx7zwq61 from  to plant-associated\n",
      "Overriding env_package for biosample nmdc:bsm-11-p4wss361 from  to plant-associated\n",
      "Overriding env_package for biosample nmdc:bsm-11-p9j7rw40 from  to plant-associated\n",
      "Overriding env_package for biosample nmdc:bsm-11-pebqj065 from  to plant-associated\n",
      "Overriding env_package for biosample nmdc:bsm-11-pgmhxj86 from  to plant-associated\n",
      "Overriding env_package for biosample nmdc:bsm-11-pgxc4f08 from  to plant-associated\n",
      "Overriding env_package for biosample nmdc:bsm-11-ppp4fk41 from  to plant-associated\n",
      "Overriding env_package for biosample nmdc:bsm-11-pq105b36 from  to plant-associated\n",
      "Overriding env_package for biosample nmdc:bsm-11-pvr0ez88 from  to plant-associated\n",
      "Overriding env_package for biosample nmdc:bsm-11-pygdem51 from  to plant-associated\n",
      "Overriding env_package for biosample nmdc:bsm-11-q3qsx507 from  to plant-associated\n",
      "Overriding env_package for biosample nmdc:bsm-11-q3sa0t28 from  to plant-associated\n",
      "Overriding env_package for biosample nmdc:bsm-11-q94v7385 from  to plant-associated\n",
      "Overriding env_package for biosample nmdc:bsm-11-qam3hk28 from  to plant-associated\n",
      "Overriding env_package for biosample nmdc:bsm-11-qe13q836 from  to plant-associated\n",
      "Overriding env_package for biosample nmdc:bsm-11-qg6kxr61 from  to plant-associated\n",
      "Overriding env_package for biosample nmdc:bsm-11-qhq2kh40 from  to plant-associated\n",
      "Overriding env_package for biosample nmdc:bsm-11-qms4zn61 from  to plant-associated\n",
      "Overriding env_package for biosample nmdc:bsm-11-qqc8e352 from  to plant-associated\n",
      "Overriding env_package for biosample nmdc:bsm-11-qvm0vt03 from  to plant-associated\n",
      "Overriding env_package for biosample nmdc:bsm-11-qy2fef59 from  to plant-associated\n",
      "Overriding env_package for biosample nmdc:bsm-11-qzncy838 from  to plant-associated\n",
      "Overriding env_package for biosample nmdc:bsm-11-r3b0ak56 from  to plant-associated\n",
      "Overriding env_package for biosample nmdc:bsm-11-r3tm7493 from  to plant-associated\n",
      "Overriding env_package for biosample nmdc:bsm-11-r4kwpw90 from  to plant-associated\n",
      "Overriding env_package for biosample nmdc:bsm-11-r7k97q10 from  to plant-associated\n",
      "Overriding env_package for biosample nmdc:bsm-11-rk62cv25 from  to plant-associated\n",
      "Overriding env_package for biosample nmdc:bsm-11-rpj4zm44 from  to plant-associated\n",
      "Overriding env_package for biosample nmdc:bsm-11-rzz0z710 from  to plant-associated\n",
      "Overriding env_package for biosample nmdc:bsm-11-s6r1q327 from  to plant-associated\n",
      "Overriding env_package for biosample nmdc:bsm-11-s70cv630 from  to plant-associated\n",
      "Overriding env_package for biosample nmdc:bsm-11-sa4z4f71 from  to hydrocarbon resources-fluids_swabs\n",
      "Overriding env_package for biosample nmdc:bsm-11-sdjt4464 from  to plant-associated\n",
      "Overriding env_package for biosample nmdc:bsm-11-sdjyhj66 from  to plant-associated\n",
      "Overriding env_package for biosample nmdc:bsm-11-shjn2p67 from  to plant-associated\n",
      "Overriding env_package for biosample nmdc:bsm-11-sjtd0y05 from  to plant-associated\n",
      "Overriding env_package for biosample nmdc:bsm-11-spav5m37 from  to plant-associated\n",
      "Overriding env_package for biosample nmdc:bsm-11-sv771k17 from  to plant-associated\n",
      "Overriding env_package for biosample nmdc:bsm-11-syb42s66 from  to plant-associated\n",
      "Overriding env_package for biosample nmdc:bsm-11-t7xb8h63 from  to plant-associated\n",
      "Overriding env_package for biosample nmdc:bsm-11-ta8dt754 from  to plant-associated\n",
      "Overriding env_package for biosample nmdc:bsm-11-tcxb3w32 from  to plant-associated\n",
      "Overriding env_package for biosample nmdc:bsm-11-te5fxe60 from  to plant-associated\n",
      "Overriding env_package for biosample nmdc:bsm-11-th3sr643 from  to plant-associated\n",
      "Overriding env_package for biosample nmdc:bsm-11-tkwn9650 from  to plant-associated\n",
      "Overriding env_package for biosample nmdc:bsm-11-tn8q1269 from  to hydrocarbon resources-fluids_swabs\n",
      "Overriding env_package for biosample nmdc:bsm-11-tnbabs47 from  to plant-associated\n",
      "Overriding env_package for biosample nmdc:bsm-11-tpatza67 from  to plant-associated\n",
      "Overriding env_package for biosample nmdc:bsm-11-trbf6m66 from  to plant-associated\n",
      "Overriding env_package for biosample nmdc:bsm-11-trpbtt49 from  to plant-associated\n",
      "Overriding env_package for biosample nmdc:bsm-11-ttg2t449 from  to hydrocarbon resources-fluids_swabs\n",
      "Overriding env_package for biosample nmdc:bsm-11-tz96dg48 from  to plant-associated\n",
      "Overriding env_package for biosample nmdc:bsm-11-v0p16d89 from  to plant-associated\n",
      "Overriding env_package for biosample nmdc:bsm-11-v9k6q078 from  to plant-associated\n",
      "Overriding env_package for biosample nmdc:bsm-11-veffrc25 from  to hydrocarbon resources-fluids_swabs\n",
      "Overriding env_package for biosample nmdc:bsm-11-vme3w877 from  to plant-associated\n",
      "Overriding env_package for biosample nmdc:bsm-11-vp7n5531 from  to plant-associated\n",
      "Overriding env_package for biosample nmdc:bsm-11-vpe6j733 from  to plant-associated\n",
      "Overriding env_package for biosample nmdc:bsm-11-vrsw1c02 from  to plant-associated\n",
      "Overriding env_package for biosample nmdc:bsm-11-w1t8bv92 from  to plant-associated\n",
      "Overriding env_package for biosample nmdc:bsm-11-wh35sj59 from  to plant-associated\n",
      "Overriding env_package for biosample nmdc:bsm-11-wnrp0p76 from  to plant-associated\n",
      "Overriding env_package for biosample nmdc:bsm-11-wqy7mc31 from  to plant-associated\n"
     ]
    }
   ],
   "execution_count": null
  },
  {
   "metadata": {},
   "cell_type": "code",
   "source": "nmdc_biosample_contexts_frame = pd.DataFrame(biosample_contexts_lod)",
   "id": "4b93dbbb4912a825",
   "outputs": [],
   "execution_count": null
  },
  {
   "metadata": {},
   "cell_type": "code",
   "source": [
    "# print a value count for the normalized_env_package column\n",
    "print(\"Value counts for normalized_env_package column:\")\n",
    "print(nmdc_biosample_contexts_frame['normalized_env_package'].value_counts(dropna=False))"
   ],
   "id": "f7cc947dcc620637",
   "outputs": [],
   "execution_count": null
  },
  {
   "metadata": {},
   "cell_type": "code",
   "source": "package_predictions = predict_from_normalized_env_packages(nmdc_biosample_contexts_frame, envo_adapter)",
   "id": "c09274a258eaa131",
   "outputs": [],
   "execution_count": null
  },
  {
   "metadata": {},
   "cell_type": "code",
   "source": "nmdc_biosample_contexts_frame['predicted_env_package'] = package_predictions",
   "id": "8db3619186f07681",
   "outputs": [],
   "execution_count": null
  },
  {
   "metadata": {},
   "cell_type": "code",
   "source": "nmdc_biosample_contexts_frame.shape",
   "id": "764a152a8c9fb9ff",
   "outputs": [],
   "execution_count": null
  },
  {
   "metadata": {},
   "cell_type": "code",
   "source": [
    "nmdc_soil_biosample_contexts_frame = nmdc_biosample_contexts_frame[\n",
    "    nmdc_biosample_contexts_frame['predicted_env_package'] == 'soil']"
   ],
   "id": "f8e447afbe4734f",
   "outputs": [],
   "execution_count": null
  },
  {
   "metadata": {},
   "cell_type": "code",
   "source": "nmdc_soil_biosample_contexts_frame.shape",
   "id": "8c10b65e05f9df26",
   "outputs": [],
   "execution_count": null
  },
  {
   "metadata": {},
   "cell_type": "markdown",
   "source": "**filter and count, then use `nmdc_soil_biosample_contexts_frame` as an approximation of `local/nmdc-production-biosamples-soil-env_broad_scale.tsv`**",
   "id": "38d09a3bb6bfb3c3"
  },
  {
   "metadata": {},
   "cell_type": "code",
   "source": "ncbi_frame = ncbi_conn.execute(ncbi_query).fetchdf()",
   "id": "5789ecb82c53fd3a",
   "outputs": [],
   "execution_count": null
  },
  {
   "metadata": {},
   "cell_type": "code",
   "source": "ncbi_frame.insert(0, 'serial_number', range(1, len(ncbi_frame) + 1))",
   "id": "dd689a5d175c9fd9",
   "outputs": [],
   "execution_count": null
  },
  {
   "metadata": {},
   "cell_type": "code",
   "source": "# includes env broad scale values with counts of one... useful for discovering drag-down submissions?",
   "id": "c33fd385877863f3",
   "outputs": [],
   "execution_count": null
  },
  {
   "metadata": {},
   "cell_type": "code",
   "source": "ncbi_frame['content_list'] = ncbi_frame['content'].str.split('|')",
   "id": "a2492565d3934896",
   "outputs": [],
   "execution_count": null
  },
  {
   "metadata": {},
   "cell_type": "code",
   "source": "ncbi_frame['content_count'] = ncbi_frame['content_list'].apply(len)",
   "id": "20aa3fa342102bef",
   "outputs": [],
   "execution_count": null
  },
  {
   "metadata": {},
   "cell_type": "code",
   "source": "ncbi_frame.shape",
   "id": "34682934e6d4b38d",
   "outputs": [],
   "execution_count": null
  },
  {
   "metadata": {},
   "cell_type": "code",
   "source": "ncbi_frame = ncbi_frame.explode('content_list').reset_index(drop=True)",
   "id": "d708e65b1ef28344",
   "outputs": [],
   "execution_count": null
  },
  {
   "metadata": {},
   "cell_type": "code",
   "source": "ncbi_frame.shape",
   "id": "3feabb64849b8402",
   "outputs": [],
   "execution_count": null
  },
  {
   "metadata": {},
   "cell_type": "code",
   "source": "# how many content_list strings contain envo multiple times now?",
   "id": "a76934c8555f4923",
   "outputs": [],
   "execution_count": null
  },
  {
   "metadata": {},
   "cell_type": "code",
   "source": "ncbi_frame['envo_count'] = ncbi_frame['content_list'].str.lower().str.count(\"envo\")",
   "id": "ec3f672a6982e836",
   "outputs": [],
   "execution_count": null
  },
  {
   "metadata": {},
   "cell_type": "code",
   "source": "ncbi_frame['envo_count'].value_counts()",
   "id": "927b2041141d82ad",
   "outputs": [],
   "execution_count": null
  },
  {
   "metadata": {},
   "cell_type": "markdown",
   "source": "doesn't account for multiple label strings delimited with something other than '|'",
   "id": "36d4d1c696c1a5d5"
  },
  {
   "metadata": {},
   "cell_type": "code",
   "source": "ncbi_frame[['extracted_label', 'extracted_curie']] = ncbi_frame['content_list'].apply(parse_curie_label)",
   "id": "393d2f52a7b7155c",
   "outputs": [],
   "execution_count": null
  },
  {
   "metadata": {},
   "cell_type": "code",
   "source": [
    "parse_failures = ncbi_frame[\n",
    "    (ncbi_frame['envo_count'] > 0) & (ncbi_frame['extracted_curie'].isna() | (ncbi_frame['extracted_curie'] == ''))]\n"
   ],
   "id": "2b310df2655ee870",
   "outputs": [],
   "execution_count": null
  },
  {
   "metadata": {},
   "cell_type": "code",
   "source": "parse_failures",
   "id": "f0ec687bf5e3843c",
   "outputs": [],
   "execution_count": null
  },
  {
   "metadata": {},
   "cell_type": "code",
   "source": "ncbi_frame['real_label'] = ncbi_frame['extracted_curie'].apply(envo_adapter.label)",
   "id": "6be66d60a992144b",
   "outputs": [],
   "execution_count": null
  },
  {
   "metadata": {},
   "cell_type": "code",
   "source": [
    "# Apply the function to each row in the 'label' column\n",
    "ncbi_frame['longest_annotation_curie'] = ncbi_frame['extracted_label'].apply(\n",
    "    lambda x: get_longest_annotation_curie(x, envo_adapter))\n"
   ],
   "id": "8bc7d8d00aeab56",
   "outputs": [],
   "execution_count": null
  },
  {
   "metadata": {},
   "cell_type": "code",
   "source": "ncbi_frame['longest_annotation_label'] = ncbi_frame['longest_annotation_curie'].apply(envo_adapter.label)",
   "id": "38e6a45ffdafc058",
   "outputs": [],
   "execution_count": null
  },
  {
   "metadata": {},
   "cell_type": "code",
   "source": "ncbi_frame",
   "id": "d393c31729bdfb34",
   "outputs": [],
   "execution_count": null
  },
  {
   "metadata": {},
   "cell_type": "markdown",
   "source": "**Use `ncbi_frame` as an approximation of `local/ncbi-mims-soil-biosamples-env_broad_scale-annotated.tsv`**",
   "id": "a34f812b53b3b945"
  },
  {
   "metadata": {},
   "cell_type": "code",
   "source": [
    "gold_biosamples_frame = pd.read_excel(gold_data_url, sheet_name=BIOSAMPLES_SHEET)\n",
    "# 2 minutes"
   ],
   "id": "a66b83e1abdbe5c",
   "outputs": [],
   "execution_count": null
  },
  {
   "metadata": {},
   "cell_type": "code",
   "source": [
    "gold_biosamples_frame['BIOSAMPLE ECOSYSTEM PATH ID'] = gold_biosamples_frame['BIOSAMPLE ECOSYSTEM PATH ID'].fillna(\n",
    "    0).astype(int)\n"
   ],
   "id": "e56753c932a76fc9",
   "outputs": [],
   "execution_count": null
  },
  {
   "metadata": {},
   "cell_type": "code",
   "source": "# gold_biosamples_frame['BIOSAMPLE ECOSYSTEM PATH ID'] = gold_biosamples_frame['BIOSAMPLE ECOSYSTEM PATH ID'].astype(int)",
   "id": "42229a18c7aa03f3",
   "outputs": [],
   "execution_count": null
  },
  {
   "metadata": {},
   "cell_type": "code",
   "source": "gold_biosamples_frame",
   "id": "6a4bc761aa25612e",
   "outputs": [],
   "execution_count": null
  },
  {
   "metadata": {},
   "cell_type": "code",
   "source": [
    "# Determine the filenames and target directory\n",
    "goldterms_compressed_filename = urlparse(goldterms_semsql_url).path.split('/')[-1]\n",
    "goldterms_filename = os.path.splitext(goldterms_compressed_filename)[0]\n",
    "target_dir = os.path.join(\"..\", \"..\")  # Two levels up\n",
    "\n",
    "# Print to confirm the filenames\n",
    "print(goldterms_filename)"
   ],
   "id": "900a1ccb2e55da85",
   "outputs": [],
   "execution_count": null
  },
  {
   "metadata": {},
   "cell_type": "code",
   "source": [
    "# Fetch the contents from the URL and save compressed file in target directory\n",
    "goldterms_response = requests.get(goldterms_semsql_url)\n",
    "goldterms_compressed_file_path = os.path.join(target_dir, goldterms_compressed_filename)\n",
    "with open(goldterms_compressed_file_path, \"wb\") as f:\n",
    "    f.write(goldterms_response.content)"
   ],
   "id": "ba5fb12553bf4825",
   "outputs": [],
   "execution_count": null
  },
  {
   "metadata": {},
   "cell_type": "code",
   "source": [
    "# Unzip the compressed file and save the extracted file in target directory\n",
    "goldterms_uncompressed_file_path = os.path.join(target_dir, goldterms_filename)\n",
    "with gzip.open(goldterms_compressed_file_path, \"rb\") as f_in:\n",
    "    with open(goldterms_uncompressed_file_path, \"wb\") as f_out:\n",
    "        shutil.copyfileobj(f_in, f_out)"
   ],
   "id": "f60c064a587dd407",
   "outputs": [],
   "execution_count": null
  },
  {
   "metadata": {},
   "cell_type": "code",
   "source": "goldterms_conn = sqlite3.connect(goldterms_uncompressed_file_path)",
   "id": "1f663ead96b88e75",
   "outputs": [],
   "execution_count": null
  },
  {
   "metadata": {},
   "cell_type": "code",
   "source": "goldterms_soil_subjects = pd.read_sql_query(goldterms_soil_subclass_query, goldterms_conn)",
   "id": "bcedfe9ddb7254fd",
   "outputs": [],
   "execution_count": null
  },
  {
   "metadata": {},
   "cell_type": "code",
   "source": "goldterms_soil_subjects['path_id'] = goldterms_soil_subjects['subject'].str.extract(r'GOLDTERMS:(\\d+)')",
   "id": "82a240e419eb635d",
   "outputs": [],
   "execution_count": null
  },
  {
   "metadata": {},
   "cell_type": "code",
   "source": "goldterms_soil_subjects",
   "id": "8e90c8dfb6b820b4",
   "outputs": [],
   "execution_count": null
  },
  {
   "metadata": {},
   "cell_type": "code",
   "source": [
    "soil_path_ids = goldterms_soil_subjects['path_id'].dropna().unique().tolist()\n",
    "soil_path_ids = [int(id) for id in soil_path_ids]\n"
   ],
   "id": "9e70094c5c28b5ae",
   "outputs": [],
   "execution_count": null
  },
  {
   "metadata": {},
   "cell_type": "code",
   "source": [
    "gold_soil_biosamples_frame = gold_biosamples_frame[\n",
    "    gold_biosamples_frame['BIOSAMPLE ECOSYSTEM PATH ID'].isin(soil_path_ids)]\n"
   ],
   "id": "d294ca1680c31685",
   "outputs": [],
   "execution_count": null
  },
  {
   "metadata": {},
   "cell_type": "code",
   "source": "gold_soil_biosamples_frame",
   "id": "ea40acff447df533",
   "outputs": [],
   "execution_count": null
  },
  {
   "metadata": {},
   "cell_type": "code",
   "source": "goldterms_mixs_broad_frame = pd.read_sql_query(goldterms_envo_query, goldterms_conn)",
   "id": "4b4ed63d71bf1e65",
   "outputs": [],
   "execution_count": null
  },
  {
   "metadata": {},
   "cell_type": "code",
   "source": "goldterms_mixs_broad_frame['mixs_broad_label'] = goldterms_mixs_broad_frame['object'].apply(envo_adapter.label)",
   "id": "e736fe9475ea3d",
   "outputs": [],
   "execution_count": null
  },
  {
   "metadata": {},
   "cell_type": "code",
   "source": "goldterms_mixs_broad_frame['path_id'] = goldterms_mixs_broad_frame['subject'].str.extract(r'GOLDTERMS:(\\d+)')",
   "id": "ce93f9d692231ed8",
   "outputs": [],
   "execution_count": null
  },
  {
   "metadata": {},
   "cell_type": "code",
   "source": "goldterms_mixs_broad_frame",
   "id": "f0e775fd25205bcd",
   "outputs": [],
   "execution_count": null
  },
  {
   "metadata": {},
   "cell_type": "code",
   "source": [
    "# Fill NaN values in 'BIOSAMPLE ECOSYSTEM PATH ID' with 0 and convert to int\n",
    "gold_soil_biosamples_frame['BIOSAMPLE ECOSYSTEM PATH ID'] = gold_soil_biosamples_frame[\n",
    "    'BIOSAMPLE ECOSYSTEM PATH ID'].fillna(0).astype(int)\n",
    "\n",
    "# Drop rows with NaN in 'path_id' in goldterms_mixs_broad_frame\n",
    "goldterms_mixs_broad_frame = goldterms_mixs_broad_frame.dropna(subset=['path_id'])\n",
    "\n",
    "# Convert 'path_id' to int\n",
    "goldterms_mixs_broad_frame['path_id'] = goldterms_mixs_broad_frame['path_id'].astype(int)\n",
    "\n",
    "# Perform the left merge\n",
    "gold_soil_biosamples_inferred_broad = gold_soil_biosamples_frame.merge(\n",
    "    goldterms_mixs_broad_frame,\n",
    "    left_on='BIOSAMPLE ECOSYSTEM PATH ID',\n",
    "    right_on='path_id',\n",
    "    how='left'\n",
    ")\n"
   ],
   "id": "7a3f4269e0736579",
   "outputs": [],
   "execution_count": null
  },
  {
   "metadata": {},
   "cell_type": "code",
   "source": "gold_soil_biosamples_inferred_broad",
   "id": "27e616ea4cbd27ab",
   "outputs": [],
   "execution_count": null
  },
  {
   "metadata": {},
   "cell_type": "markdown",
   "source": "**Use `gold_soil_biosamples_inferred_broad` as an approximation of `local/goldData_biosamples-inferred-soil-env_broad_scale-counts.tsv`**",
   "id": "7e6055a76a17daf0"
  },
  {
   "metadata": {},
   "cell_type": "markdown",
   "source": [
    "```config/soil-env_broad_scale-evidence-config.yaml``` from the same unmerged branch:\n",
    "\n",
    "```yaml\n",
    "- filename: local/biome-ids.tsv # biome_descendants_frame\n",
    "  output_prefix: all_biomes_oak\n",
    "  header: false\n",
    "  data_column_number: 1\n",
    "- filename: local/EnvBroadScaleSoilEnum-pvs-keys-parsed-unique.csv # pv_validation_results['valids']\n",
    "  output_prefix: historical_permissible_values\n",
    "  header: true\n",
    "  data_column_name: normalized_curie\n",
    "- filename: local/nmdc-production-biosamples-soil-env_broad_scale.tsv # biosample_contexts_frame\n",
    "  output_prefix: NMDC_soil\n",
    "  header: false\n",
    "  data_column_number: 1\n",
    "  count_column_number: 2\n",
    "- filename: local/ncbi-mims-soil-biosamples-env_broad_scale-annotated.tsv # ncbi_frame\n",
    "  output_prefix: NCBI_mims_soil_trusting_CURIe\n",
    "  header: true\n",
    "  data_column_name: normalized_curie\n",
    "  count_column_name: count\n",
    "- filename: local/ncbi-mims-soil-biosamples-env_broad_scale-annotated.tsv\n",
    "  output_prefix: NCBI_mims_soil_trusting_labels\n",
    "  header: true\n",
    "  data_column_name: matched_id\n",
    "  count_column_name: count\n",
    "- filename: local/goldData_biosamples-inferred-soil-env_broad_scale-counts.tsv # gold_soil_biosamples_inferred_broad\n",
    "  output_prefix: GOLD_env_terr_soil\n",
    "  header: false\n",
    "  data_column_number: 1\n",
    "  count_column_number: 2\n",
    "```"
   ],
   "id": "b9aa0126f0fecc23"
  },
  {
   "metadata": {},
   "cell_type": "code",
   "source": "include_in_rows = set()",
   "id": "74d28ee43bc2df13",
   "outputs": [],
   "execution_count": null
  },
  {
   "metadata": {},
   "cell_type": "code",
   "source": "include_in_rows.update(biome_descendants_frame['curie'])",
   "id": "4a5858d51d55c1f3",
   "outputs": [],
   "execution_count": null
  },
  {
   "metadata": {},
   "cell_type": "code",
   "source": "include_in_rows.update([i['curie'] for i in pv_validation_results['valids']])",
   "id": "3a206d349955474b",
   "outputs": [],
   "execution_count": null
  },
  {
   "metadata": {},
   "cell_type": "code",
   "source": "include_in_rows.update(nmdc_biosample_contexts_frame['env_broad_scale_id'])",
   "id": "6612c4f580111c69",
   "outputs": [],
   "execution_count": null
  },
  {
   "metadata": {},
   "cell_type": "code",
   "source": "include_in_rows.update(ncbi_frame['extracted_curie'])",
   "id": "4c9a01436eb4376",
   "outputs": [],
   "execution_count": null
  },
  {
   "metadata": {},
   "cell_type": "code",
   "source": "include_in_rows.update(ncbi_frame['longest_annotation_curie'])",
   "id": "79fc8410c9ad2cb1",
   "outputs": [],
   "execution_count": null
  },
  {
   "metadata": {},
   "cell_type": "code",
   "source": "include_in_rows.update(gold_soil_biosamples_inferred_broad['object'])",
   "id": "3a349c2bc9dc144d",
   "outputs": [],
   "execution_count": null
  },
  {
   "metadata": {},
   "cell_type": "code",
   "source": "rows_lod = []",
   "id": "8cc32502bceef8ea",
   "outputs": [],
   "execution_count": null
  },
  {
   "metadata": {},
   "cell_type": "code",
   "source": [
    "# TODO MOVE THESE UP, because the expressions are already being used above\n",
    "\n",
    "biome_curies = list(biome_descendants_frame['curie'])\n",
    "legacy_pv_curies = [i['curie'] for i in pv_validation_results['valids']]\n",
    "terrestrial_biome_curies = list(envo_adapter.descendants('ENVO:00000446', predicates=[IS_A]))\n",
    "aquatic_biome_curies = list(envo_adapter.descendants('ENVO:00002030', predicates=[IS_A]))\n",
    "abp_curies = list(envo_adapter.descendants('ENVO:01000813', predicates=[IS_A]))\n",
    "env_sys_curies = list(envo_adapter.descendants('ENVO:01000254', predicates=[IS_A]))\n",
    "env_mat_curies = list(envo_adapter.descendants('ENVO:00010483', predicates=[IS_A]))\n",
    "obsoletes_curies = list(envo_adapter.obsoletes())\n",
    "\n",
    "for curie in include_in_rows:\n",
    "    if curie is None:\n",
    "        continue\n",
    "    row = {\n",
    "        'curie': curie,\n",
    "        'label': envo_adapter.label(curie),\n",
    "        'envo_native': False,\n",
    "        'obsolete': False,\n",
    "        'legacy_pv': False,\n",
    "        'abp': False,\n",
    "        'env_sys': False,\n",
    "        'biome': False,\n",
    "        'terrestrial_biome': False,\n",
    "        'aquatic_biome': False,\n",
    "        'env_mat': False,\n",
    "    }\n",
    "    prefix, local_id = curie.split(':')\n",
    "    if prefix and prefix == 'ENVO' and row['label'] is not None:\n",
    "        row['envo_native'] = True\n",
    "    if curie in biome_curies:\n",
    "        row['biome'] = True\n",
    "    if curie in terrestrial_biome_curies:\n",
    "        row['terrestrial_biome'] = True\n",
    "    if curie in aquatic_biome_curies:\n",
    "        row['aquatic_biome'] = True\n",
    "    if curie in abp_curies:\n",
    "        row['abp'] = True\n",
    "    if curie in env_sys_curies:\n",
    "        row['env_sys'] = True\n",
    "    if curie in env_mat_curies:\n",
    "        row['env_mat'] = True\n",
    "    if curie in legacy_pv_curies:\n",
    "        row['legacy_pv'] = True\n",
    "    if curie in obsoletes_curies:\n",
    "        row['obsolete'] = True\n",
    "    rows_lod.append(row)\n",
    "\n",
    "# todo terrestrial biome, aquatic biome, ABP, environmental material\n"
   ],
   "id": "2a88bc28334675b9",
   "outputs": [],
   "execution_count": null
  },
  {
   "metadata": {},
   "cell_type": "code",
   "source": "rows_frame = pd.DataFrame(rows_lod)",
   "id": "e3c1c8acd0d86bd8",
   "outputs": [],
   "execution_count": null
  },
  {
   "metadata": {},
   "cell_type": "code",
   "source": [
    "nmdc_biosample_ebs_counts = nmdc_soil_biosample_contexts_frame['env_broad_scale_id'].value_counts().reset_index()\n",
    "nmdc_biosample_ebs_counts.columns = ['curie', 'nmdc_ebs_count']\n"
   ],
   "id": "8392ef84a3254d56",
   "outputs": [],
   "execution_count": null
  },
  {
   "metadata": {},
   "cell_type": "code",
   "source": "nmdc_biosample_ebs_counts",
   "id": "fd4a155b6cb06235",
   "outputs": [],
   "execution_count": null
  },
  {
   "metadata": {},
   "cell_type": "code",
   "source": [
    "# Perform the left merge\n",
    "rows_frame = rows_frame.merge(\n",
    "    nmdc_biosample_ebs_counts,\n",
    "    left_on='curie',\n",
    "    right_on='curie',\n",
    "    how='left'\n",
    ")"
   ],
   "id": "3bd7ce9b1a42f70a",
   "outputs": [],
   "execution_count": null
  },
  {
   "metadata": {},
   "cell_type": "code",
   "source": "gold_soil_biosamples_inferred_broad",
   "id": "335b3ab91d029ba",
   "outputs": [],
   "execution_count": null
  },
  {
   "metadata": {},
   "cell_type": "code",
   "source": [
    "gold_biosample_ebs_counts = gold_soil_biosamples_inferred_broad['object'].value_counts().reset_index()\n",
    "gold_biosample_ebs_counts.columns = ['curie', 'gold_ebs_count']"
   ],
   "id": "c7a4d5fd716efd3c",
   "outputs": [],
   "execution_count": null
  },
  {
   "metadata": {},
   "cell_type": "code",
   "source": "gold_biosample_ebs_counts",
   "id": "da2433c6d19907a1",
   "outputs": [],
   "execution_count": null
  },
  {
   "metadata": {},
   "cell_type": "code",
   "source": [
    "# Perform the left merge\n",
    "rows_frame = rows_frame.merge(\n",
    "    gold_biosample_ebs_counts,\n",
    "    left_on='curie',\n",
    "    right_on='curie',\n",
    "    how='left'\n",
    ")"
   ],
   "id": "f5c673de7e5fd32a",
   "outputs": [],
   "execution_count": null
  },
  {
   "metadata": {},
   "cell_type": "code",
   "source": "rows_frame",
   "id": "cdde35e2977eaf9a",
   "outputs": [],
   "execution_count": null
  },
  {
   "metadata": {},
   "cell_type": "code",
   "source": "# 990 rows in https://docs.google.com/spreadsheets/d/12WH3eduBq2qSTy9zVF3n7fyajn6ssLZL/edit?gid=546570706#gid=546570706",
   "id": "9baa9d73af8159ca",
   "outputs": [],
   "execution_count": null
  },
  {
   "metadata": {},
   "cell_type": "code",
   "source": [
    "# gold and ncbi counts are slightly trickier\n",
    "# for gold may want to include presence or mapping in goldterms in addition to biosamples counts\n",
    "# ncbi: we have extracted curies and annotated curies"
   ],
   "id": "460de8efcd09385d",
   "outputs": [],
   "execution_count": null
  },
  {
   "metadata": {},
   "cell_type": "code",
   "source": [
    "# todo move this stuff up to immediately after the creation of ncbi_frame ?\n",
    "\n",
    "# todo don't accept extracted curie if no real label?\n",
    "# any kind of string similarity checking for label of annotated curie vs extracted label ?\n",
    "# look for long runs of curies?\n",
    "# can we measure the beneficial impact of any of this? current crux: how to distribute counts\n",
    "\n",
    "ncbi_frame['curie_list'] = ncbi_frame.apply(\n",
    "    lambda row: list({row['extracted_curie'], row['longest_annotation_curie']} - {None}),\n",
    "    axis=1\n",
    ")\n",
    "\n",
    "ncbi_frame['unique_curie_count'] = ncbi_frame['curie_list'].apply(len)"
   ],
   "id": "f416a6fe17c57df8",
   "outputs": [],
   "execution_count": null
  },
  {
   "metadata": {},
   "cell_type": "code",
   "source": "ncbi_frame",
   "id": "8e61714bd08518e1",
   "outputs": [],
   "execution_count": null
  },
  {
   "metadata": {},
   "cell_type": "code",
   "source": "ncbi_frame['unique_curie_count'].value_counts()",
   "id": "7a69fc0bd5e16703",
   "outputs": [],
   "execution_count": null
  },
  {
   "metadata": {},
   "cell_type": "code",
   "source": "double_curie_frame = ncbi_frame[ncbi_frame['unique_curie_count'] > 1]",
   "id": "2b43b2226a208cf2",
   "outputs": [],
   "execution_count": null
  },
  {
   "metadata": {},
   "cell_type": "code",
   "source": "double_curie_frame = double_curie_frame[['extracted_curie', 'longest_annotation_curie']]",
   "id": "9e74fd42072e1242",
   "outputs": [],
   "execution_count": null
  },
  {
   "metadata": {},
   "cell_type": "code",
   "source": "double_curie_frame = double_curie_frame.drop_duplicates()",
   "id": "3406bb4668dc4ecc",
   "outputs": [],
   "execution_count": null
  },
  {
   "metadata": {},
   "cell_type": "code",
   "source": "double_curie_frame[['extracted_prefix', 'extracted_local_id']] = double_curie_frame['extracted_curie'].str.split(':', expand=True)",
   "id": "79a954a6c86b49c7",
   "outputs": [],
   "execution_count": null
  },
  {
   "metadata": {},
   "cell_type": "code",
   "source": "double_curie_frame['extracted_local_id_int'] = pd.to_numeric(double_curie_frame['extracted_local_id'], errors='coerce').astype('Int64')",
   "id": "9822b8635cb794c",
   "outputs": [],
   "execution_count": null
  },
  {
   "metadata": {},
   "cell_type": "code",
   "source": [
    "def find_consecutive_stretches_dict(series):\n",
    "    \"\"\"\n",
    "    Detect consecutive stretches of integer values in a pandas Series.\n",
    "    Returns a dictionary where the keys are serial numbers (starting at 0),\n",
    "    and the values are lists of consecutive integers.\n",
    "    \"\"\"\n",
    "    # Ensure the series is clean: drop NaN, duplicates, and non-integer values\n",
    "    series = series.dropna().drop_duplicates()\n",
    "    series = series[series.apply(lambda x: isinstance(x, (int, float)) and (x == int(x)))].astype(int)\n",
    "    series = series.sort_values()\n",
    "\n",
    "    stretches_dict = {}\n",
    "    current_stretch = []\n",
    "    stretch_index = 1\n",
    "\n",
    "    for i in range(len(series)):\n",
    "        if i == 0 or series.iloc[i] - series.iloc[i - 1] == 1:\n",
    "            current_stretch.append(series.iloc[i])\n",
    "        else:\n",
    "            if len(current_stretch) >= 3:\n",
    "                stretches_dict[stretch_index] = current_stretch\n",
    "                stretch_index += 1\n",
    "            current_stretch = [series.iloc[i]]\n",
    "\n",
    "    if len(current_stretch) >= 3:\n",
    "        stretches_dict[stretch_index] = current_stretch\n",
    "\n",
    "    return stretches_dict\n"
   ],
   "id": "14b9721ab1bdae08",
   "outputs": [],
   "execution_count": null
  },
  {
   "metadata": {},
   "cell_type": "code",
   "source": [
    "# Function to convert stretches dict to long-format DataFrame\n",
    "def stretches_dict_to_long_dataframe(stretches_dict):\n",
    "    \"\"\"\n",
    "    Convert a dictionary of consecutive stretches into a long-format DataFrame.\n",
    "    Each row corresponds to an individual integer value in a stretch, with:\n",
    "    - 'stretch_id': The key from the dictionary.\n",
    "    - 'value': The integer value within the stretch.\n",
    "    \"\"\"\n",
    "    rows = []\n",
    "    for stretch_id, stretch_values in stretches_dict.items():\n",
    "        for value in stretch_values:\n",
    "            rows.append({'stretch_id': stretch_id, 'value': int(value)})  # Ensure integers only\n",
    "    return pd.DataFrame(rows)"
   ],
   "id": "93aeb0ebbaf0984c",
   "outputs": [],
   "execution_count": null
  },
  {
   "metadata": {},
   "cell_type": "code",
   "source": [
    "# Ensure extracted_local_id_int is unique and sorted\n",
    "unique_sorted_series = double_curie_frame['extracted_local_id_int'].dropna().drop_duplicates().sort_values()\n"
   ],
   "id": "7cd8a092fdd31038",
   "outputs": [],
   "execution_count": null
  },
  {
   "metadata": {},
   "cell_type": "code",
   "source": [
    "# Find stretches\n",
    "stretches_dict = find_consecutive_stretches_dict(unique_sorted_series)\n",
    "\n",
    "# pprint.pprint(stretches_dict)"
   ],
   "id": "97c87784915ccb88",
   "outputs": [],
   "execution_count": null
  },
  {
   "metadata": {},
   "cell_type": "code",
   "source": [
    "# Convert the stretches dictionary into a DataFrame\n",
    "stretches_df = stretches_dict_to_long_dataframe(stretches_dict)"
   ],
   "id": "4dc6b1dc0c012b66",
   "outputs": [],
   "execution_count": null
  },
  {
   "metadata": {},
   "cell_type": "code",
   "source": "stretches_df",
   "id": "64f939c9fdeadd27",
   "outputs": [],
   "execution_count": null
  },
  {
   "metadata": {},
   "cell_type": "code",
   "source": [
    "# Perform the left merge\n",
    "double_curie_frame = double_curie_frame.merge(\n",
    "    stretches_df,\n",
    "    left_on='extracted_local_id_int',\n",
    "    right_on='value',\n",
    "    how='left'\n",
    ")"
   ],
   "id": "8c04d9d078886956",
   "outputs": [],
   "execution_count": null
  },
  {
   "metadata": {},
   "cell_type": "code",
   "source": [
    "# Create a new DataFrame summarizing each stretch_id with the most common longest_annotation_curie\n",
    "def summarize_stretch_groups(df):\n",
    "    summary_rows = []\n",
    "    \n",
    "    # Iterate through each group of rows by stretch_id\n",
    "    for stretch_id, group in df.dropna(subset=['stretch_id']).groupby('stretch_id'):\n",
    "        # Calculate the most common longest_annotation_curie and its fraction\n",
    "        most_common_curie = group['longest_annotation_curie'].value_counts().idxmax()\n",
    "        fraction = group['longest_annotation_curie'].value_counts(normalize=True).max()\n",
    "        \n",
    "        # Append the summary row\n",
    "        summary_rows.append({\n",
    "            'stretch_id': stretch_id,\n",
    "            'most_common_longest_annotation_curie': most_common_curie,\n",
    "            'fraction': fraction\n",
    "        })\n",
    "    \n",
    "    # Convert the summary rows into a new DataFrame\n",
    "    return pd.DataFrame(summary_rows)\n"
   ],
   "id": "1ffd89fc81da1568",
   "outputs": [],
   "execution_count": null
  },
  {
   "metadata": {},
   "cell_type": "code",
   "source": "stretch_summary_df = summarize_stretch_groups(double_curie_frame)\n",
   "id": "1e339dc7cb20377d",
   "outputs": [],
   "execution_count": null
  },
  {
   "metadata": {},
   "cell_type": "code",
   "source": "stretch_summary_df",
   "id": "dfd6a50c15372421",
   "outputs": [],
   "execution_count": null
  },
  {
   "metadata": {},
   "cell_type": "code",
   "source": [
    "# Perform the left merge\n",
    "double_curie_frame = double_curie_frame.merge(\n",
    "    stretch_summary_df,\n",
    "    left_on='stretch_id',\n",
    "    right_on='stretch_id',\n",
    "    how='left'\n",
    ")"
   ],
   "id": "33d066472e719724",
   "outputs": [],
   "execution_count": null
  },
  {
   "metadata": {},
   "cell_type": "code",
   "source": "double_curie_frame.to_clipboard(index=False)",
   "id": "9e14160ea2698b37",
   "outputs": [],
   "execution_count": null
  },
  {
   "metadata": {},
   "cell_type": "code",
   "source": "",
   "id": "a0fcaee2ee390915",
   "outputs": [],
   "execution_count": null
  }
 ],
 "metadata": {
  "kernelspec": {
   "display_name": "Python 3",
   "language": "python",
   "name": "python3"
  },
  "language_info": {
   "codemirror_mode": {
    "name": "ipython",
    "version": 2
   },
   "file_extension": ".py",
   "mimetype": "text/x-python",
   "name": "python",
   "nbconvert_exporter": "python",
   "pygments_lexer": "ipython2",
   "version": "2.7.6"
  }
 },
 "nbformat": 4,
 "nbformat_minor": 5
}
