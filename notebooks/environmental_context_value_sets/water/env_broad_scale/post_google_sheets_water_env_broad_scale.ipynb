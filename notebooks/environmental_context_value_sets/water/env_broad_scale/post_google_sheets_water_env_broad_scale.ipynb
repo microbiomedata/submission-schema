{
 "cells": [
  {
   "metadata": {
    "ExecuteTime": {
     "end_time": "2025-01-07T19:22:22.775077Z",
     "start_time": "2025-01-07T19:22:17.633239Z"
    }
   },
   "cell_type": "code",
   "source": [
    "import gspread\n",
    "from google.oauth2.service_account import Credentials\n",
    "\n",
    "import pandas as pd\n"
   ],
   "id": "7c0c89547933adc0",
   "outputs": [],
   "execution_count": 1
  },
  {
   "metadata": {},
   "cell_type": "markdown",
   "source": [
    "use water_env_broad_scale_voting_sheet in 2024-12-12T1240EDT Google Drive folder,\n",
    "https://docs.google.com/spreadsheets/d/1lMjVxyADmZM1rZI7Qo99RnN6V5K8B8GjAevVoKENViw/edit?gid=1038036384#gid=1038036384\n",
    "\n",
    "make sure that's shared with env-context-voting-sheets@env-context-voting-sheets.iam.gserviceaccount.com"
   ],
   "id": "6e5d13075aa9f5c0"
  },
  {
   "metadata": {
    "ExecuteTime": {
     "end_time": "2025-01-07T19:22:31.730177Z",
     "start_time": "2025-01-07T19:22:31.727277Z"
    }
   },
   "cell_type": "code",
   "source": "output_file = \"post_google_sheets_water_env_broad_scale.tsv\"",
   "id": "6250de3178a3ec3b",
   "outputs": [],
   "execution_count": 2
  },
  {
   "metadata": {},
   "cell_type": "markdown",
   "source": "Get voting sheet directly from Google Sheets. Requires a credentials file, which must be requested from MAM.",
   "id": "805032586378fa54"
  },
  {
   "metadata": {
    "ExecuteTime": {
     "end_time": "2025-01-07T19:22:33.813327Z",
     "start_time": "2025-01-07T19:22:33.810459Z"
    }
   },
   "cell_type": "code",
   "source": [
    "# 1. Replace with the path to your downloaded JSON key file\n",
    "SERVICE_ACCOUNT_FILE = '../../env-context-voting-sheets-29d0d970ca1d.json'"
   ],
   "id": "c03d705397a4ceb7",
   "outputs": [],
   "execution_count": 3
  },
  {
   "metadata": {
    "ExecuteTime": {
     "end_time": "2025-01-07T19:22:34.729131Z",
     "start_time": "2025-01-07T19:22:34.725917Z"
    }
   },
   "cell_type": "code",
   "source": [
    "# Consolidated_soil-env-local-scale-evidence-table\n",
    "SPREADSHEET_ID = \"1lMjVxyADmZM1rZI7Qo99RnN6V5K8B8GjAevVoKENViw\""
   ],
   "id": "f3e8d59114dba657",
   "outputs": [],
   "execution_count": 4
  },
  {
   "metadata": {
    "ExecuteTime": {
     "end_time": "2025-01-07T19:22:35.666902Z",
     "start_time": "2025-01-07T19:22:35.663399Z"
    }
   },
   "cell_type": "code",
   "source": "sheet_name = 'water_env_broad_scale_voting_sheet'",
   "id": "3d94133909257bc",
   "outputs": [],
   "execution_count": 5
  },
  {
   "metadata": {
    "ExecuteTime": {
     "end_time": "2025-01-07T19:22:36.744693Z",
     "start_time": "2025-01-07T19:22:36.741421Z"
    }
   },
   "cell_type": "code",
   "source": [
    "# Set up credentials\n",
    "SCOPES = [\n",
    "    'https://www.googleapis.com/auth/spreadsheets',\n",
    "    'https://www.googleapis.com/auth/drive'\n",
    "]"
   ],
   "id": "186af1435dabf25b",
   "outputs": [],
   "execution_count": 6
  },
  {
   "metadata": {
    "ExecuteTime": {
     "end_time": "2025-01-07T19:22:39.452040Z",
     "start_time": "2025-01-07T19:22:39.446227Z"
    }
   },
   "cell_type": "code",
   "source": "creds = Credentials.from_service_account_file(SERVICE_ACCOUNT_FILE, scopes=SCOPES)",
   "id": "31b015ceea314eff",
   "outputs": [],
   "execution_count": 8
  },
  {
   "metadata": {
    "ExecuteTime": {
     "end_time": "2025-01-07T19:22:40.767183Z",
     "start_time": "2025-01-07T19:22:40.763343Z"
    }
   },
   "cell_type": "code",
   "source": "gc = gspread.authorize(creds)",
   "id": "b5126af16d10a20a",
   "outputs": [],
   "execution_count": 9
  },
  {
   "metadata": {
    "ExecuteTime": {
     "end_time": "2025-01-07T19:22:42.499772Z",
     "start_time": "2025-01-07T19:22:41.930373Z"
    }
   },
   "cell_type": "code",
   "source": [
    "# Open the spreadsheet\n",
    "spreadsheet = gc.open_by_key(SPREADSHEET_ID) "
   ],
   "id": "e031c1fd1b45c685",
   "outputs": [],
   "execution_count": 10
  },
  {
   "metadata": {
    "ExecuteTime": {
     "end_time": "2025-01-07T19:22:46.142296Z",
     "start_time": "2025-01-07T19:22:46.002663Z"
    }
   },
   "cell_type": "code",
   "source": "sheet = spreadsheet.worksheet(sheet_name)",
   "id": "1482919438c3c56e",
   "outputs": [],
   "execution_count": 11
  },
  {
   "metadata": {
    "ExecuteTime": {
     "end_time": "2025-01-07T19:22:47.500616Z",
     "start_time": "2025-01-07T19:22:47.196986Z"
    }
   },
   "cell_type": "code",
   "source": [
    "# Get data as a list of lists\n",
    "data = sheet.get_all_values()"
   ],
   "id": "f0ca2ba213b9a728",
   "outputs": [],
   "execution_count": 12
  },
  {
   "metadata": {
    "ExecuteTime": {
     "end_time": "2025-01-07T19:22:48.468639Z",
     "start_time": "2025-01-07T19:22:48.461920Z"
    }
   },
   "cell_type": "code",
   "source": [
    "# Convert to DataFrame\n",
    "df = pd.DataFrame(data[1:], columns=data[0]) "
   ],
   "id": "dae1c7cb972e5288",
   "outputs": [],
   "execution_count": 13
  },
  {
   "metadata": {
    "ExecuteTime": {
     "end_time": "2025-01-07T19:42:42.567588Z",
     "start_time": "2025-01-07T19:42:42.553314Z"
    }
   },
   "cell_type": "code",
   "source": [
    "# make a dataframe that has the columns curie and label. only include the rows where the include_in_enum column value is true\n",
    "votes_df = df[df['include_in_enum'] == 'TRUE'][['curie', 'label']]"
   ],
   "id": "c992aecaa0059f8b",
   "outputs": [],
   "execution_count": 15
  },
  {
   "metadata": {
    "ExecuteTime": {
     "end_time": "2025-01-07T19:44:08.869376Z",
     "start_time": "2025-01-07T19:44:08.865569Z"
    }
   },
   "cell_type": "code",
   "source": "votes_df.columns = ['id', 'label']",
   "id": "315f5e4b5a685fd4",
   "outputs": [],
   "execution_count": 17
  },
  {
   "metadata": {
    "ExecuteTime": {
     "end_time": "2025-01-07T19:44:09.657011Z",
     "start_time": "2025-01-07T19:44:09.645044Z"
    }
   },
   "cell_type": "code",
   "source": "votes_df",
   "id": "c084b2dee825d3d7",
   "outputs": [
    {
     "data": {
      "text/plain": [
       "                 id                                        label\n",
       "0     ENVO:01000253                       freshwater river biome\n",
       "1     ENVO:01000252                        freshwater lake biome\n",
       "2     ENVO:03605008                      freshwater stream biome\n",
       "3     ENVO:00000873                             freshwater biome\n",
       "105   ENVO:01001230                  tropical marginal sea biome\n",
       "141   ENVO:01000030               marine hydrothermal vent biome\n",
       "198   ENVO:01000859              tropical marine upwelling biome\n",
       "267   ENVO:01000856                 temperate marginal sea biome\n",
       "350   ENVO:01000020                              estuarine biome\n",
       "352   ENVO:00000888                  large river headwater biome\n",
       "360   ENVO:01000037              oceanic bathypelagic zone biome\n",
       "363   ENVO:01000025            marine neritic benthic zone biome\n",
       "494   ENVO:01000046                           marginal sea biome\n",
       "526   ENVO:00002030                                aquatic biome\n",
       "688   ENVO:01000024                         marine benthic biome\n",
       "700   ENVO:01000128       dilution basin mediterranean sea biome\n",
       "828   ENVO:01000050             marine subtidal rocky reef biome\n",
       "870   ENVO:01000023                         marine pelagic biome\n",
       "911   ENVO:01000123                     marine sponge reef biome\n",
       "993   ENVO:01000045                            epeiric sea biome\n",
       "1002  ENVO:01000035                oceanic epipelagic zone biome\n",
       "1064  ENVO:01000029                            marine reef biome\n",
       "1088  ENVO:01000054      marine basaltic hydrothermal vent biome\n",
       "1091  ENVO:01000051                    marine black smoker biome\n",
       "1120  ENVO:01000032                   neritic pelagic zone biome\n",
       "1208  ENVO:01000038             oceanic abyssopelagic zone biome\n",
       "1230  ENVO:00000889                      large river delta biome\n",
       "1249  ENVO:01000860             temperate marine upwelling biome\n",
       "1266  ENVO:01000127                       marine cold seep biome\n",
       "1268  ENVO:01000857            temperate mediterranean sea biome\n",
       "1272  ENVO:01000043               neritic mesopelagic zone biome\n",
       "1275  ENVO:01000039             oceanic hadal pelagic zone biome\n",
       "1333  ENVO:01000033                   oceanic pelagic zone biome\n",
       "1344  ENVO:01000041         neritic sea surface microlayer biome\n",
       "1383  ENVO:01000027                    marine abyssal zone biome\n",
       "1390  ENVO:01000854             tropical marine coral reef biome\n",
       "1394  ENVO:00000887                            large river biome\n",
       "1396  ENVO:00000447                                 marine biome\n",
       "1415  ENVO:01000052                    marine white smoker biome\n",
       "1504  ENVO:01000053    marine ultramafic hydrothermal vent biome\n",
       "1542  ENVO:01000022                      marine salt marsh biome\n",
       "1556  ENVO:01000040             oceanic benthopelagic zone biome\n",
       "1609  ENVO:00000890                            small river biome\n",
       "1640  ENVO:01000004  concentration basin mediterranean sea biome\n",
       "1642  ENVO:01000048                                  ocean biome\n",
       "1650  ENVO:01000047                      mediterranean sea biome\n",
       "1661  ENVO:01000042                neritic epipelagic zone biome\n",
       "1674  ENVO:00000892                  small freshwater lake biome\n",
       "1695  ENVO:01000028                      marine hadal zone biome\n",
       "1697  ENVO:00000893                            xeric basin biome\n",
       "1700  ENVO:01000858                       marine upwelling biome\n",
       "1721  ENVO:01000034         oceanic sea surface microlayer biome\n",
       "1759  ENVO:01000036               oceanic mesopelagic zone biome\n",
       "1787  ENVO:00000891                  large freshwater lake biome\n",
       "1927  ENVO:01000026                    marine bathyal zone biome\n",
       "1977  ENVO:01000049                      marine coral reef biome"
      ],
      "text/html": [
       "<div>\n",
       "<style scoped>\n",
       "    .dataframe tbody tr th:only-of-type {\n",
       "        vertical-align: middle;\n",
       "    }\n",
       "\n",
       "    .dataframe tbody tr th {\n",
       "        vertical-align: top;\n",
       "    }\n",
       "\n",
       "    .dataframe thead th {\n",
       "        text-align: right;\n",
       "    }\n",
       "</style>\n",
       "<table border=\"1\" class=\"dataframe\">\n",
       "  <thead>\n",
       "    <tr style=\"text-align: right;\">\n",
       "      <th></th>\n",
       "      <th>id</th>\n",
       "      <th>label</th>\n",
       "    </tr>\n",
       "  </thead>\n",
       "  <tbody>\n",
       "    <tr>\n",
       "      <th>0</th>\n",
       "      <td>ENVO:01000253</td>\n",
       "      <td>freshwater river biome</td>\n",
       "    </tr>\n",
       "    <tr>\n",
       "      <th>1</th>\n",
       "      <td>ENVO:01000252</td>\n",
       "      <td>freshwater lake biome</td>\n",
       "    </tr>\n",
       "    <tr>\n",
       "      <th>2</th>\n",
       "      <td>ENVO:03605008</td>\n",
       "      <td>freshwater stream biome</td>\n",
       "    </tr>\n",
       "    <tr>\n",
       "      <th>3</th>\n",
       "      <td>ENVO:00000873</td>\n",
       "      <td>freshwater biome</td>\n",
       "    </tr>\n",
       "    <tr>\n",
       "      <th>105</th>\n",
       "      <td>ENVO:01001230</td>\n",
       "      <td>tropical marginal sea biome</td>\n",
       "    </tr>\n",
       "    <tr>\n",
       "      <th>141</th>\n",
       "      <td>ENVO:01000030</td>\n",
       "      <td>marine hydrothermal vent biome</td>\n",
       "    </tr>\n",
       "    <tr>\n",
       "      <th>198</th>\n",
       "      <td>ENVO:01000859</td>\n",
       "      <td>tropical marine upwelling biome</td>\n",
       "    </tr>\n",
       "    <tr>\n",
       "      <th>267</th>\n",
       "      <td>ENVO:01000856</td>\n",
       "      <td>temperate marginal sea biome</td>\n",
       "    </tr>\n",
       "    <tr>\n",
       "      <th>350</th>\n",
       "      <td>ENVO:01000020</td>\n",
       "      <td>estuarine biome</td>\n",
       "    </tr>\n",
       "    <tr>\n",
       "      <th>352</th>\n",
       "      <td>ENVO:00000888</td>\n",
       "      <td>large river headwater biome</td>\n",
       "    </tr>\n",
       "    <tr>\n",
       "      <th>360</th>\n",
       "      <td>ENVO:01000037</td>\n",
       "      <td>oceanic bathypelagic zone biome</td>\n",
       "    </tr>\n",
       "    <tr>\n",
       "      <th>363</th>\n",
       "      <td>ENVO:01000025</td>\n",
       "      <td>marine neritic benthic zone biome</td>\n",
       "    </tr>\n",
       "    <tr>\n",
       "      <th>494</th>\n",
       "      <td>ENVO:01000046</td>\n",
       "      <td>marginal sea biome</td>\n",
       "    </tr>\n",
       "    <tr>\n",
       "      <th>526</th>\n",
       "      <td>ENVO:00002030</td>\n",
       "      <td>aquatic biome</td>\n",
       "    </tr>\n",
       "    <tr>\n",
       "      <th>688</th>\n",
       "      <td>ENVO:01000024</td>\n",
       "      <td>marine benthic biome</td>\n",
       "    </tr>\n",
       "    <tr>\n",
       "      <th>700</th>\n",
       "      <td>ENVO:01000128</td>\n",
       "      <td>dilution basin mediterranean sea biome</td>\n",
       "    </tr>\n",
       "    <tr>\n",
       "      <th>828</th>\n",
       "      <td>ENVO:01000050</td>\n",
       "      <td>marine subtidal rocky reef biome</td>\n",
       "    </tr>\n",
       "    <tr>\n",
       "      <th>870</th>\n",
       "      <td>ENVO:01000023</td>\n",
       "      <td>marine pelagic biome</td>\n",
       "    </tr>\n",
       "    <tr>\n",
       "      <th>911</th>\n",
       "      <td>ENVO:01000123</td>\n",
       "      <td>marine sponge reef biome</td>\n",
       "    </tr>\n",
       "    <tr>\n",
       "      <th>993</th>\n",
       "      <td>ENVO:01000045</td>\n",
       "      <td>epeiric sea biome</td>\n",
       "    </tr>\n",
       "    <tr>\n",
       "      <th>1002</th>\n",
       "      <td>ENVO:01000035</td>\n",
       "      <td>oceanic epipelagic zone biome</td>\n",
       "    </tr>\n",
       "    <tr>\n",
       "      <th>1064</th>\n",
       "      <td>ENVO:01000029</td>\n",
       "      <td>marine reef biome</td>\n",
       "    </tr>\n",
       "    <tr>\n",
       "      <th>1088</th>\n",
       "      <td>ENVO:01000054</td>\n",
       "      <td>marine basaltic hydrothermal vent biome</td>\n",
       "    </tr>\n",
       "    <tr>\n",
       "      <th>1091</th>\n",
       "      <td>ENVO:01000051</td>\n",
       "      <td>marine black smoker biome</td>\n",
       "    </tr>\n",
       "    <tr>\n",
       "      <th>1120</th>\n",
       "      <td>ENVO:01000032</td>\n",
       "      <td>neritic pelagic zone biome</td>\n",
       "    </tr>\n",
       "    <tr>\n",
       "      <th>1208</th>\n",
       "      <td>ENVO:01000038</td>\n",
       "      <td>oceanic abyssopelagic zone biome</td>\n",
       "    </tr>\n",
       "    <tr>\n",
       "      <th>1230</th>\n",
       "      <td>ENVO:00000889</td>\n",
       "      <td>large river delta biome</td>\n",
       "    </tr>\n",
       "    <tr>\n",
       "      <th>1249</th>\n",
       "      <td>ENVO:01000860</td>\n",
       "      <td>temperate marine upwelling biome</td>\n",
       "    </tr>\n",
       "    <tr>\n",
       "      <th>1266</th>\n",
       "      <td>ENVO:01000127</td>\n",
       "      <td>marine cold seep biome</td>\n",
       "    </tr>\n",
       "    <tr>\n",
       "      <th>1268</th>\n",
       "      <td>ENVO:01000857</td>\n",
       "      <td>temperate mediterranean sea biome</td>\n",
       "    </tr>\n",
       "    <tr>\n",
       "      <th>1272</th>\n",
       "      <td>ENVO:01000043</td>\n",
       "      <td>neritic mesopelagic zone biome</td>\n",
       "    </tr>\n",
       "    <tr>\n",
       "      <th>1275</th>\n",
       "      <td>ENVO:01000039</td>\n",
       "      <td>oceanic hadal pelagic zone biome</td>\n",
       "    </tr>\n",
       "    <tr>\n",
       "      <th>1333</th>\n",
       "      <td>ENVO:01000033</td>\n",
       "      <td>oceanic pelagic zone biome</td>\n",
       "    </tr>\n",
       "    <tr>\n",
       "      <th>1344</th>\n",
       "      <td>ENVO:01000041</td>\n",
       "      <td>neritic sea surface microlayer biome</td>\n",
       "    </tr>\n",
       "    <tr>\n",
       "      <th>1383</th>\n",
       "      <td>ENVO:01000027</td>\n",
       "      <td>marine abyssal zone biome</td>\n",
       "    </tr>\n",
       "    <tr>\n",
       "      <th>1390</th>\n",
       "      <td>ENVO:01000854</td>\n",
       "      <td>tropical marine coral reef biome</td>\n",
       "    </tr>\n",
       "    <tr>\n",
       "      <th>1394</th>\n",
       "      <td>ENVO:00000887</td>\n",
       "      <td>large river biome</td>\n",
       "    </tr>\n",
       "    <tr>\n",
       "      <th>1396</th>\n",
       "      <td>ENVO:00000447</td>\n",
       "      <td>marine biome</td>\n",
       "    </tr>\n",
       "    <tr>\n",
       "      <th>1415</th>\n",
       "      <td>ENVO:01000052</td>\n",
       "      <td>marine white smoker biome</td>\n",
       "    </tr>\n",
       "    <tr>\n",
       "      <th>1504</th>\n",
       "      <td>ENVO:01000053</td>\n",
       "      <td>marine ultramafic hydrothermal vent biome</td>\n",
       "    </tr>\n",
       "    <tr>\n",
       "      <th>1542</th>\n",
       "      <td>ENVO:01000022</td>\n",
       "      <td>marine salt marsh biome</td>\n",
       "    </tr>\n",
       "    <tr>\n",
       "      <th>1556</th>\n",
       "      <td>ENVO:01000040</td>\n",
       "      <td>oceanic benthopelagic zone biome</td>\n",
       "    </tr>\n",
       "    <tr>\n",
       "      <th>1609</th>\n",
       "      <td>ENVO:00000890</td>\n",
       "      <td>small river biome</td>\n",
       "    </tr>\n",
       "    <tr>\n",
       "      <th>1640</th>\n",
       "      <td>ENVO:01000004</td>\n",
       "      <td>concentration basin mediterranean sea biome</td>\n",
       "    </tr>\n",
       "    <tr>\n",
       "      <th>1642</th>\n",
       "      <td>ENVO:01000048</td>\n",
       "      <td>ocean biome</td>\n",
       "    </tr>\n",
       "    <tr>\n",
       "      <th>1650</th>\n",
       "      <td>ENVO:01000047</td>\n",
       "      <td>mediterranean sea biome</td>\n",
       "    </tr>\n",
       "    <tr>\n",
       "      <th>1661</th>\n",
       "      <td>ENVO:01000042</td>\n",
       "      <td>neritic epipelagic zone biome</td>\n",
       "    </tr>\n",
       "    <tr>\n",
       "      <th>1674</th>\n",
       "      <td>ENVO:00000892</td>\n",
       "      <td>small freshwater lake biome</td>\n",
       "    </tr>\n",
       "    <tr>\n",
       "      <th>1695</th>\n",
       "      <td>ENVO:01000028</td>\n",
       "      <td>marine hadal zone biome</td>\n",
       "    </tr>\n",
       "    <tr>\n",
       "      <th>1697</th>\n",
       "      <td>ENVO:00000893</td>\n",
       "      <td>xeric basin biome</td>\n",
       "    </tr>\n",
       "    <tr>\n",
       "      <th>1700</th>\n",
       "      <td>ENVO:01000858</td>\n",
       "      <td>marine upwelling biome</td>\n",
       "    </tr>\n",
       "    <tr>\n",
       "      <th>1721</th>\n",
       "      <td>ENVO:01000034</td>\n",
       "      <td>oceanic sea surface microlayer biome</td>\n",
       "    </tr>\n",
       "    <tr>\n",
       "      <th>1759</th>\n",
       "      <td>ENVO:01000036</td>\n",
       "      <td>oceanic mesopelagic zone biome</td>\n",
       "    </tr>\n",
       "    <tr>\n",
       "      <th>1787</th>\n",
       "      <td>ENVO:00000891</td>\n",
       "      <td>large freshwater lake biome</td>\n",
       "    </tr>\n",
       "    <tr>\n",
       "      <th>1927</th>\n",
       "      <td>ENVO:01000026</td>\n",
       "      <td>marine bathyal zone biome</td>\n",
       "    </tr>\n",
       "    <tr>\n",
       "      <th>1977</th>\n",
       "      <td>ENVO:01000049</td>\n",
       "      <td>marine coral reef biome</td>\n",
       "    </tr>\n",
       "  </tbody>\n",
       "</table>\n",
       "</div>"
      ]
     },
     "execution_count": 18,
     "metadata": {},
     "output_type": "execute_result"
    }
   ],
   "execution_count": 18
  },
  {
   "metadata": {
    "ExecuteTime": {
     "end_time": "2025-01-07T19:44:15.729615Z",
     "start_time": "2025-01-07T19:44:15.720061Z"
    }
   },
   "cell_type": "code",
   "source": "votes_df.to_csv(output_file, index=False, sep=\"\\t\")",
   "id": "44b60ff78bfcd82f",
   "outputs": [],
   "execution_count": 19
  },
  {
   "metadata": {},
   "cell_type": "code",
   "outputs": [],
   "execution_count": null,
   "source": "",
   "id": "ea13efebafc857ec"
  }
 ],
 "metadata": {
  "kernelspec": {
   "display_name": "Python 3",
   "language": "python",
   "name": "python3"
  },
  "language_info": {
   "codemirror_mode": {
    "name": "ipython",
    "version": 2
   },
   "file_extension": ".py",
   "mimetype": "text/x-python",
   "name": "python",
   "nbconvert_exporter": "python",
   "pygments_lexer": "ipython2",
   "version": "2.7.6"
  }
 },
 "nbformat": 4,
 "nbformat_minor": 5
}
