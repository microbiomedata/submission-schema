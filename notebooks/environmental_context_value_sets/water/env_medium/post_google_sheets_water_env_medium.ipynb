{
 "cells": [
  {
   "cell_type": "code",
   "id": "initial_id",
   "metadata": {
    "collapsed": true,
    "ExecuteTime": {
     "end_time": "2024-11-08T21:43:13.567810Z",
     "start_time": "2024-11-08T21:43:09.780607Z"
    }
   },
   "source": [
    "from oaklib import get_adapter\n",
    "from oaklib.datamodels.vocabulary import IS_A\n",
    "import csv # don't really need csv if we are importing pandas\n",
    "\n",
    "import pandas as pd "
   ],
   "outputs": [],
   "execution_count": 1
  },
  {
   "metadata": {
    "ExecuteTime": {
     "end_time": "2024-11-08T21:43:13.577019Z",
     "start_time": "2024-11-08T21:43:13.573433Z"
    }
   },
   "cell_type": "code",
   "source": "pd.set_option('future.no_silent_downcasting', True)",
   "id": "d30a0cf4fa9eaf10",
   "outputs": [],
   "execution_count": 2
  },
  {
   "metadata": {
    "ExecuteTime": {
     "end_time": "2024-11-08T21:43:13.655688Z",
     "start_time": "2024-11-08T21:43:13.652623Z"
    }
   },
   "cell_type": "code",
   "source": "adapter_string = \"sqlite:obo:envo\"",
   "id": "2148e2b371b9d3c1",
   "outputs": [],
   "execution_count": 3
  },
  {
   "metadata": {
    "ExecuteTime": {
     "end_time": "2024-11-08T21:43:13.701480Z",
     "start_time": "2024-11-08T21:43:13.697189Z"
    }
   },
   "cell_type": "code",
   "source": "target_labels = [\"liquid water\"]",
   "id": "2b9221b70ebed187",
   "outputs": [],
   "execution_count": 4
  },
  {
   "metadata": {
    "ExecuteTime": {
     "end_time": "2024-11-08T21:43:13.752644Z",
     "start_time": "2024-11-08T21:43:13.745825Z"
    }
   },
   "cell_type": "code",
   "source": [
    "exclusion_labels = [\n",
    "    \"bore hole water\", # presumably will be excluded based on contents of sediment env local scale\n",
    "    \"contaminated water\",\n",
    "    \"fissure water\", # presumably will be excluded based on contents of sediment env local scale\n",
    "    \"lake water\", # presumably will be excluded based on contents of sediment env local scale\n",
    "    \"marine lake water\", # presumably will be excluded based on contents of sediment env local scale\n",
    "    \"oil field production water\",\n",
    "    \"residual water in soil\",\n",
    "    \"runoff\",\n",
    "    \"spring water\", # presumably will be excluded based on contents of sediment env local scale\n",
    "    \"stream water\", # presumably will be excluded based on contents of sediment env local scale\n",
    "    \"treated wastewater\",\n",
    "]\n",
    "\n",
    "# might also want to remove mangrove biome sediment if mangrove biome is going to be one of the sediment env_broad_scale values"
   ],
   "id": "dc91a47fb8762a09",
   "outputs": [],
   "execution_count": 5
  },
  {
   "metadata": {
    "ExecuteTime": {
     "end_time": "2024-11-08T21:43:13.802745Z",
     "start_time": "2024-11-08T21:43:13.797395Z"
    }
   },
   "cell_type": "code",
   "source": "output_file = \"post_google_sheets_water_env_medium.tsv\"",
   "id": "4737c7dfdaa5400e",
   "outputs": [],
   "execution_count": 6
  },
  {
   "metadata": {
    "ExecuteTime": {
     "end_time": "2024-11-08T21:43:13.850907Z",
     "start_time": "2024-11-08T21:43:13.846675Z"
    }
   },
   "cell_type": "code",
   "source": "# excludable_soils_filename = \"discover_excludable_soils_curated.tsv\"",
   "id": "77be6f0893e612eb",
   "outputs": [],
   "execution_count": 7
  },
  {
   "metadata": {
    "ExecuteTime": {
     "end_time": "2024-11-08T21:43:13.897970Z",
     "start_time": "2024-11-08T21:43:13.894600Z"
    }
   },
   "cell_type": "code",
   "source": [
    "# excludable_soils_frame = pd.read_csv(excludable_soils_filename, sep=\"\\t\")\n",
    "# \n",
    "# excludable_soils_frame['relation_is_reasonable'] = excludable_soils_frame['relation_is_reasonable'].fillna(False)"
   ],
   "id": "e5ae95cb54367e20",
   "outputs": [],
   "execution_count": 8
  },
  {
   "metadata": {
    "ExecuteTime": {
     "end_time": "2024-11-08T21:43:13.948094Z",
     "start_time": "2024-11-08T21:43:13.945310Z"
    }
   },
   "cell_type": "code",
   "source": [
    "# reasonable_frame = excludable_soils_frame[\n",
    "#     (excludable_soils_frame['relation_is_reasonable']) |\n",
    "#     (excludable_soils_frame['override'] == 'exclude soil')\n",
    "# ]\n"
   ],
   "id": "536b8ecb525febe9",
   "outputs": [],
   "execution_count": 9
  },
  {
   "metadata": {
    "ExecuteTime": {
     "end_time": "2024-11-08T21:43:13.996979Z",
     "start_time": "2024-11-08T21:43:13.992715Z"
    }
   },
   "cell_type": "code",
   "source": [
    "# reasonable_frame = reasonable_frame[reasonable_frame['override'] != 'keep soil']\n",
    "# \n",
    "# reasonable_frame = reasonable_frame.dropna(subset=['sole_reasonable_other', 'sole_soil'])"
   ],
   "id": "7d638550e53542f9",
   "outputs": [],
   "execution_count": 10
  },
  {
   "metadata": {
    "ExecuteTime": {
     "end_time": "2024-11-08T21:43:14.043726Z",
     "start_time": "2024-11-08T21:43:14.040284Z"
    }
   },
   "cell_type": "code",
   "source": "# soil_env_local_scale_filename = \"post_google_sheets_soil_env_local_scale.tsv\"",
   "id": "8a0972d756eb0bbf",
   "outputs": [],
   "execution_count": 11
  },
  {
   "metadata": {
    "ExecuteTime": {
     "end_time": "2024-11-08T21:43:14.090860Z",
     "start_time": "2024-11-08T21:43:14.087951Z"
    }
   },
   "cell_type": "code",
   "source": "# soil_env_local_scale_frame = pd.read_csv(soil_env_local_scale_filename, sep=\"\\t\")",
   "id": "89dbf4c1953b5b92",
   "outputs": [],
   "execution_count": 12
  },
  {
   "metadata": {
    "ExecuteTime": {
     "end_time": "2024-11-08T21:43:14.139363Z",
     "start_time": "2024-11-08T21:43:14.136338Z"
    }
   },
   "cell_type": "code",
   "source": [
    "# soils_with_local_or_override_exclusion_justification = reasonable_frame[\n",
    "#     (reasonable_frame['sole_reasonable_other'].isin(soil_env_local_scale_frame['label'])) |\n",
    "#     (reasonable_frame['override'] == 'exclude soil')\n",
    "# ]"
   ],
   "id": "7e728b28efcebb4c",
   "outputs": [],
   "execution_count": 13
  },
  {
   "metadata": {
    "ExecuteTime": {
     "end_time": "2024-11-08T21:43:14.185586Z",
     "start_time": "2024-11-08T21:43:14.182662Z"
    }
   },
   "cell_type": "code",
   "source": "# soils_with_local_or_override_exclusion_justification",
   "id": "2611cb2995c57f98",
   "outputs": [],
   "execution_count": 14
  },
  {
   "metadata": {
    "ExecuteTime": {
     "end_time": "2024-11-08T21:43:14.236302Z",
     "start_time": "2024-11-08T21:43:14.231157Z"
    }
   },
   "cell_type": "code",
   "source": "# soils_reiterating_broad_or_local = set(soils_with_local_or_override_exclusion_justification['sole_soil'].unique())\n",
   "id": "bff5dcb1cee90fb",
   "outputs": [],
   "execution_count": 15
  },
  {
   "metadata": {
    "ExecuteTime": {
     "end_time": "2024-11-08T21:43:14.316655Z",
     "start_time": "2024-11-08T21:43:14.280599Z"
    }
   },
   "cell_type": "code",
   "source": "adapter = get_adapter(adapter_string)",
   "id": "7709e378f4d117eb",
   "outputs": [],
   "execution_count": 16
  },
  {
   "metadata": {
    "ExecuteTime": {
     "end_time": "2024-11-08T21:43:14.337130Z",
     "start_time": "2024-11-08T21:43:14.333574Z"
    }
   },
   "cell_type": "code",
   "source": "targets = set()",
   "id": "1bbc3b1ad9958a37",
   "outputs": [],
   "execution_count": 17
  },
  {
   "metadata": {
    "ExecuteTime": {
     "end_time": "2024-11-08T21:43:14.462574Z",
     "start_time": "2024-11-08T21:43:14.381827Z"
    }
   },
   "cell_type": "code",
   "source": [
    "# accumulate subclasses of the target classes (by label)\n",
    "# \n",
    "for current_label in target_labels:\n",
    "    for class_id in adapter.basic_search(current_label):\n",
    "        descendant = adapter.descendants(class_id, predicates=[IS_A])\n",
    "        for d in descendant:\n",
    "            # if adapter.label(d) not in soils_reiterating_broad_or_local:\n",
    "            if True:\n",
    "                targets.add(d)\n",
    "            # else:\n",
    "            #     print(f\"Excluding {d} {adapter.label(d)} because its differentia can be expressed in terms of the broad or local scale\")\n",
    "            \n",
    "print(len(targets))"
   ],
   "id": "6ecbf0cd88edec66",
   "outputs": [
    {
     "name": "stdout",
     "output_type": "stream",
     "text": [
      "65\n"
     ]
    }
   ],
   "execution_count": 18
  },
  {
   "metadata": {
    "ExecuteTime": {
     "end_time": "2024-11-08T21:43:14.976493Z",
     "start_time": "2024-11-08T21:43:14.486715Z"
    }
   },
   "cell_type": "code",
   "source": [
    "# deplete subclasses of the exclusion classes (by label)\n",
    "# \n",
    "for current_label in exclusion_labels:\n",
    "    for class_id in adapter.basic_search(current_label):\n",
    "        descendant = adapter.descendants(class_id, predicates=[IS_A])\n",
    "        for d in descendant:\n",
    "            targets.remove(d)\n",
    "\n",
    "print(len(targets))"
   ],
   "id": "77c441ce49ee868",
   "outputs": [
    {
     "name": "stdout",
     "output_type": "stream",
     "text": [
      "49\n"
     ]
    }
   ],
   "execution_count": 19
  },
  {
   "metadata": {
    "ExecuteTime": {
     "end_time": "2024-11-08T21:43:15.010209Z",
     "start_time": "2024-11-08T21:43:14.982036Z"
    }
   },
   "cell_type": "code",
   "source": [
    "labelled_targets = []\n",
    "for t in targets:\n",
    "    labelled_targets.append(\n",
    "        {\n",
    "            \"id\": t,\n",
    "            \"label\": adapter.label(t)\n",
    "        }\n",
    "    )\n",
    "\n",
    "export_frame = pd.DataFrame(labelled_targets)\n",
    "\n",
    "export_frame.to_csv(output_file, sep=\"\\t\", index=False)\n"
   ],
   "id": "4301a231897de6d9",
   "outputs": [],
   "execution_count": 20
  },
  {
   "metadata": {
    "ExecuteTime": {
     "end_time": "2024-11-08T21:43:15.034737Z",
     "start_time": "2024-11-08T21:43:15.031683Z"
    }
   },
   "cell_type": "code",
   "source": "",
   "id": "8b5ac9a2750a35d9",
   "outputs": [],
   "execution_count": null
  }
 ],
 "metadata": {
  "kernelspec": {
   "display_name": "Python 3",
   "language": "python",
   "name": "python3"
  },
  "language_info": {
   "codemirror_mode": {
    "name": "ipython",
    "version": 2
   },
   "file_extension": ".py",
   "mimetype": "text/x-python",
   "name": "python",
   "nbconvert_exporter": "python",
   "pygments_lexer": "ipython2",
   "version": "2.7.6"
  }
 },
 "nbformat": 4,
 "nbformat_minor": 5
}
