{
 "cells": [
  {
   "metadata": {
    "ExecuteTime": {
     "end_time": "2025-01-07T19:51:40.582019Z",
     "start_time": "2025-01-07T19:51:40.577056Z"
    }
   },
   "cell_type": "code",
   "source": [
    "import gspread\n",
    "from google.oauth2.service_account import Credentials\n",
    "\n",
    "import pandas as pd\n"
   ],
   "id": "7c0c89547933adc0",
   "outputs": [],
   "execution_count": 2
  },
  {
   "metadata": {},
   "cell_type": "markdown",
   "source": [
    "use water_env_broad_scale_voting_sheet in 2024-12-12T1240EDT Google Drive folder,\n",
    "https://docs.google.com/spreadsheets/d/1lMjVxyADmZM1rZI7Qo99RnN6V5K8B8GjAevVoKENViw/edit?gid=1038036384#gid=1038036384\n",
    "\n",
    "make sure that's shared with env-context-voting-sheets@env-context-voting-sheets.iam.gserviceaccount.com"
   ],
   "id": "6e5d13075aa9f5c0"
  },
  {
   "metadata": {
    "ExecuteTime": {
     "end_time": "2025-01-07T19:51:41.686045Z",
     "start_time": "2025-01-07T19:51:41.681207Z"
    }
   },
   "cell_type": "code",
   "source": "output_file = \"post_google_sheets_water_env_medium.tsv\"",
   "id": "6250de3178a3ec3b",
   "outputs": [],
   "execution_count": 3
  },
  {
   "metadata": {},
   "cell_type": "markdown",
   "source": "Get voting sheet directly from Google Sheets. Requires a credentials file, which must be requested from MAM.",
   "id": "805032586378fa54"
  },
  {
   "metadata": {
    "ExecuteTime": {
     "end_time": "2025-01-07T19:51:42.522729Z",
     "start_time": "2025-01-07T19:51:42.517991Z"
    }
   },
   "cell_type": "code",
   "source": [
    "# 1. Replace with the path to your downloaded JSON key file\n",
    "SERVICE_ACCOUNT_FILE = '../../env-context-voting-sheets-29d0d970ca1d.json'"
   ],
   "id": "c03d705397a4ceb7",
   "outputs": [],
   "execution_count": 4
  },
  {
   "metadata": {
    "ExecuteTime": {
     "end_time": "2025-01-07T19:51:42.975753Z",
     "start_time": "2025-01-07T19:51:42.967100Z"
    }
   },
   "cell_type": "code",
   "source": [
    "# Consolidated_soil-env-local-scale-evidence-table\n",
    "SPREADSHEET_ID = \"1jMhQ6QK_50jK1MoJq8_raEfrW1FgYQJbB5r1D2SjFQ0\""
   ],
   "id": "f3e8d59114dba657",
   "outputs": [],
   "execution_count": 5
  },
  {
   "metadata": {
    "ExecuteTime": {
     "end_time": "2025-01-07T19:51:43.603488Z",
     "start_time": "2025-01-07T19:51:43.598834Z"
    }
   },
   "cell_type": "code",
   "source": "sheet_name = 'water_env_medium_voting_sheet'",
   "id": "3d94133909257bc",
   "outputs": [],
   "execution_count": 6
  },
  {
   "metadata": {
    "ExecuteTime": {
     "end_time": "2025-01-07T19:51:44.270167Z",
     "start_time": "2025-01-07T19:51:44.265645Z"
    }
   },
   "cell_type": "code",
   "source": [
    "# Set up credentials\n",
    "SCOPES = [\n",
    "    'https://www.googleapis.com/auth/spreadsheets',\n",
    "    'https://www.googleapis.com/auth/drive'\n",
    "]"
   ],
   "id": "186af1435dabf25b",
   "outputs": [],
   "execution_count": 7
  },
  {
   "metadata": {
    "ExecuteTime": {
     "end_time": "2025-01-07T19:51:44.846528Z",
     "start_time": "2025-01-07T19:51:44.837959Z"
    }
   },
   "cell_type": "code",
   "source": "creds = Credentials.from_service_account_file(SERVICE_ACCOUNT_FILE, scopes=SCOPES)",
   "id": "31b015ceea314eff",
   "outputs": [],
   "execution_count": 8
  },
  {
   "metadata": {
    "ExecuteTime": {
     "end_time": "2025-01-07T19:51:45.606562Z",
     "start_time": "2025-01-07T19:51:45.601326Z"
    }
   },
   "cell_type": "code",
   "source": "gc = gspread.authorize(creds)",
   "id": "b5126af16d10a20a",
   "outputs": [],
   "execution_count": 9
  },
  {
   "metadata": {
    "ExecuteTime": {
     "end_time": "2025-01-07T19:52:25.638082Z",
     "start_time": "2025-01-07T19:52:25.516277Z"
    }
   },
   "cell_type": "code",
   "source": [
    "# Open the spreadsheet\n",
    "spreadsheet = gc.open_by_key(SPREADSHEET_ID) "
   ],
   "id": "e031c1fd1b45c685",
   "outputs": [],
   "execution_count": 13
  },
  {
   "metadata": {
    "ExecuteTime": {
     "end_time": "2025-01-07T19:52:26.488533Z",
     "start_time": "2025-01-07T19:52:26.363292Z"
    }
   },
   "cell_type": "code",
   "source": "sheet = spreadsheet.worksheet(sheet_name)",
   "id": "1482919438c3c56e",
   "outputs": [],
   "execution_count": 14
  },
  {
   "metadata": {
    "ExecuteTime": {
     "end_time": "2025-01-07T19:52:27.105102Z",
     "start_time": "2025-01-07T19:52:26.845801Z"
    }
   },
   "cell_type": "code",
   "source": [
    "# Get data as a list of lists\n",
    "data = sheet.get_all_values()"
   ],
   "id": "f0ca2ba213b9a728",
   "outputs": [],
   "execution_count": 15
  },
  {
   "metadata": {
    "ExecuteTime": {
     "end_time": "2025-01-07T19:52:27.498705Z",
     "start_time": "2025-01-07T19:52:27.484815Z"
    }
   },
   "cell_type": "code",
   "source": [
    "# Convert to DataFrame\n",
    "df = pd.DataFrame(data[1:], columns=data[0]) "
   ],
   "id": "dae1c7cb972e5288",
   "outputs": [],
   "execution_count": 16
  },
  {
   "metadata": {
    "ExecuteTime": {
     "end_time": "2025-01-07T19:52:28.542903Z",
     "start_time": "2025-01-07T19:52:28.532216Z"
    }
   },
   "cell_type": "code",
   "source": [
    "# make a dataframe that has the columns curie and label. only include the rows where the include_in_enum column value is true\n",
    "votes_df = df[df['include_in_enum'] == 'TRUE'][['curie', 'label']]"
   ],
   "id": "c992aecaa0059f8b",
   "outputs": [],
   "execution_count": 17
  },
  {
   "metadata": {
    "ExecuteTime": {
     "end_time": "2025-01-07T19:52:29.355774Z",
     "start_time": "2025-01-07T19:52:29.348287Z"
    }
   },
   "cell_type": "code",
   "source": "votes_df.columns = ['id', 'label']",
   "id": "315f5e4b5a685fd4",
   "outputs": [],
   "execution_count": 18
  },
  {
   "metadata": {
    "ExecuteTime": {
     "end_time": "2025-01-07T19:52:30.350423Z",
     "start_time": "2025-01-07T19:52:30.331467Z"
    }
   },
   "cell_type": "code",
   "source": "votes_df",
   "id": "c084b2dee825d3d7",
   "outputs": [
    {
     "data": {
      "text/plain": [
       "                 id                             label\n",
       "2     ENVO:04000007                        lake water\n",
       "3     ENVO:03605001                         epilithon\n",
       "4     ENVO:00002042                     surface water\n",
       "6     ENVO:03605006                      stream water\n",
       "7     ENVO:03605004                        epipsammon\n",
       "...             ...                               ...\n",
       "2544  ENVO:03600081                       cloud water\n",
       "2627  ENVO:00003065                   distilled water\n",
       "2700  ENVO:03000005  erosionally enriched glacial ice\n",
       "2751  ENVO:01001512               congelation sea ice\n",
       "2803  ENVO:03000063                           new ice\n",
       "\n",
       "[96 rows x 2 columns]"
      ],
      "text/html": [
       "<div>\n",
       "<style scoped>\n",
       "    .dataframe tbody tr th:only-of-type {\n",
       "        vertical-align: middle;\n",
       "    }\n",
       "\n",
       "    .dataframe tbody tr th {\n",
       "        vertical-align: top;\n",
       "    }\n",
       "\n",
       "    .dataframe thead th {\n",
       "        text-align: right;\n",
       "    }\n",
       "</style>\n",
       "<table border=\"1\" class=\"dataframe\">\n",
       "  <thead>\n",
       "    <tr style=\"text-align: right;\">\n",
       "      <th></th>\n",
       "      <th>id</th>\n",
       "      <th>label</th>\n",
       "    </tr>\n",
       "  </thead>\n",
       "  <tbody>\n",
       "    <tr>\n",
       "      <th>2</th>\n",
       "      <td>ENVO:04000007</td>\n",
       "      <td>lake water</td>\n",
       "    </tr>\n",
       "    <tr>\n",
       "      <th>3</th>\n",
       "      <td>ENVO:03605001</td>\n",
       "      <td>epilithon</td>\n",
       "    </tr>\n",
       "    <tr>\n",
       "      <th>4</th>\n",
       "      <td>ENVO:00002042</td>\n",
       "      <td>surface water</td>\n",
       "    </tr>\n",
       "    <tr>\n",
       "      <th>6</th>\n",
       "      <td>ENVO:03605006</td>\n",
       "      <td>stream water</td>\n",
       "    </tr>\n",
       "    <tr>\n",
       "      <th>7</th>\n",
       "      <td>ENVO:03605004</td>\n",
       "      <td>epipsammon</td>\n",
       "    </tr>\n",
       "    <tr>\n",
       "      <th>...</th>\n",
       "      <td>...</td>\n",
       "      <td>...</td>\n",
       "    </tr>\n",
       "    <tr>\n",
       "      <th>2544</th>\n",
       "      <td>ENVO:03600081</td>\n",
       "      <td>cloud water</td>\n",
       "    </tr>\n",
       "    <tr>\n",
       "      <th>2627</th>\n",
       "      <td>ENVO:00003065</td>\n",
       "      <td>distilled water</td>\n",
       "    </tr>\n",
       "    <tr>\n",
       "      <th>2700</th>\n",
       "      <td>ENVO:03000005</td>\n",
       "      <td>erosionally enriched glacial ice</td>\n",
       "    </tr>\n",
       "    <tr>\n",
       "      <th>2751</th>\n",
       "      <td>ENVO:01001512</td>\n",
       "      <td>congelation sea ice</td>\n",
       "    </tr>\n",
       "    <tr>\n",
       "      <th>2803</th>\n",
       "      <td>ENVO:03000063</td>\n",
       "      <td>new ice</td>\n",
       "    </tr>\n",
       "  </tbody>\n",
       "</table>\n",
       "<p>96 rows × 2 columns</p>\n",
       "</div>"
      ]
     },
     "execution_count": 19,
     "metadata": {},
     "output_type": "execute_result"
    }
   ],
   "execution_count": 19
  },
  {
   "metadata": {
    "ExecuteTime": {
     "end_time": "2025-01-07T19:52:34.546564Z",
     "start_time": "2025-01-07T19:52:34.537929Z"
    }
   },
   "cell_type": "code",
   "source": "votes_df.to_csv(output_file, index=False, sep=\"\\t\")",
   "id": "44b60ff78bfcd82f",
   "outputs": [],
   "execution_count": 20
  },
  {
   "metadata": {},
   "cell_type": "code",
   "source": "",
   "id": "ea13efebafc857ec",
   "outputs": [],
   "execution_count": null
  }
 ],
 "metadata": {
  "kernelspec": {
   "display_name": "Python 3",
   "language": "python",
   "name": "python3"
  },
  "language_info": {
   "codemirror_mode": {
    "name": "ipython",
    "version": 2
   },
   "file_extension": ".py",
   "mimetype": "text/x-python",
   "name": "python",
   "nbconvert_exporter": "python",
   "pygments_lexer": "ipython2",
   "version": "2.7.6"
  }
 },
 "nbformat": 4,
 "nbformat_minor": 5
}
